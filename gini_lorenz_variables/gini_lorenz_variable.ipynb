{
 "cells": [
  {
   "cell_type": "markdown",
   "id": "25bfcede",
   "metadata": {},
   "source": [
    "# Import libraries"
   ]
  },
  {
   "cell_type": "code",
   "execution_count": 1,
   "id": "faebfd00",
   "metadata": {},
   "outputs": [
    {
     "name": "stderr",
     "output_type": "stream",
     "text": [
      "2025-05-10 00:54:48.163005: E external/local_xla/xla/stream_executor/cuda/cuda_fft.cc:477] Unable to register cuFFT factory: Attempting to register factory for plugin cuFFT when one has already been registered\n",
      "WARNING: All log messages before absl::InitializeLog() is called are written to STDERR\n",
      "E0000 00:00:1746849288.180750  687381 cuda_dnn.cc:8310] Unable to register cuDNN factory: Attempting to register factory for plugin cuDNN when one has already been registered\n",
      "E0000 00:00:1746849288.186441  687381 cuda_blas.cc:1418] Unable to register cuBLAS factory: Attempting to register factory for plugin cuBLAS when one has already been registered\n",
      "2025-05-10 00:54:48.204449: I tensorflow/core/platform/cpu_feature_guard.cc:210] This TensorFlow binary is optimized to use available CPU instructions in performance-critical operations.\n",
      "To enable the following instructions: AVX2 FMA, in other operations, rebuild TensorFlow with the appropriate compiler flags.\n",
      "/usr/local/lib/python3.11/dist-packages/tqdm/auto.py:21: TqdmWarning: IProgress not found. Please update jupyter and ipywidgets. See https://ipywidgets.readthedocs.io/en/stable/user_install.html\n",
      "  from .autonotebook import tqdm as notebook_tqdm\n"
     ]
    },
    {
     "name": "stdout",
     "output_type": "stream",
     "text": [
      "\u001b[34m\n",
      "████████╗██╗███╗   ███╗███████╗    ███████╗███████╗██████╗ ██╗███████╗███████╗    █████╗ ██╗\n",
      "╚══██╔══╝██║████╗ ████║██╔════╝    ██╔════╝██╔════╝██╔══██╗██║██╔════╝██╔════╝   ██╔══██╗██║\n",
      "   ██║   ██║██╔████╔██║█████╗█████╗███████╗█████╗  ██████╔╝██║█████╗  ███████╗   ███████║██║\n",
      "   ██║   ██║██║╚██╔╝██║██╔══╝╚════╝╚════██║██╔══╝  ██╔══██╗██║██╔══╝  ╚════██║   ██╔══██║██║\n",
      "   ██║   ██║██║ ╚═╝ ██║███████╗    ███████║███████╗██║  ██║██║███████╗███████║██╗██║  ██║██║\n",
      "   ╚═╝   ╚═╝╚═╝     ╚═╝╚══════╝    ╚══════╝╚══════╝╚═╝  ╚═╝╚═╝╚══════╝╚══════╝╚═╝╚═╝  ╚═╝╚═╝\n",
      "ai4ts v0.0.3 - building AI for unified time-series analysis, https://time-series.ai \u001b[0m\n",
      "\n"
     ]
    }
   ],
   "source": [
    "import os\n",
    "import sys\n",
    "import pypots\n",
    "import numpy as np\n",
    "import benchpots\n",
    "import matplotlib.pyplot as plt\n",
    "from pypots.optim import Adam\n",
    "from pypots.imputation import SAITS, BRITS, USGAN, GPVAE, MRNN\n",
    "from pypots.utils.random import set_random_seed\n",
    "from functions.toolkits import toolkits\n",
    "module_path = os.path.abspath(os.path.join('..'))\n",
    "if module_path not in sys.path:\n",
    "    sys.path.append(module_path)\n",
    "\n",
    "from MAEModify.error import calc_mae\n"
   ]
  },
  {
   "cell_type": "markdown",
   "id": "4a9b2a40",
   "metadata": {},
   "source": [
    "# Load dataset"
   ]
  },
  {
   "cell_type": "code",
   "execution_count": 2,
   "id": "5729d916",
   "metadata": {},
   "outputs": [
    {
     "name": "stderr",
     "output_type": "stream",
     "text": [
      "2025-05-10 00:54:51 [INFO]: Have set the random seed as 2022 for numpy and pytorch.\n",
      "2025-05-10 00:54:51 [INFO]: You're using dataset physionet_2012, please cite it properly in your work. You can find its reference information at the below link: \n",
      "https://github.com/WenjieDu/TSDB/tree/main/dataset_profiles/physionet_2012\n",
      "2025-05-10 00:54:51 [INFO]: Dataset physionet_2012 has already been downloaded. Processing directly...\n",
      "2025-05-10 00:54:51 [INFO]: Dataset physionet_2012 has already been cached. Loading from cache directly...\n",
      "2025-05-10 00:54:51 [INFO]: Loaded successfully!\n",
      "2025-05-10 00:55:06 [WARNING]: Note that physionet_2012 has sparse observations in the time series, hence we don't add additional missing values to the training dataset. \n",
      "2025-05-10 00:55:06 [INFO]: 68807 values masked out in the val set as ground truth, take 9.97% of the original observed values\n",
      "2025-05-10 00:55:06 [INFO]: 86319 values masked out in the test set as ground truth, take 9.99% of the original observed values\n",
      "2025-05-10 00:55:06 [INFO]: Total sample number: 11988\n",
      "2025-05-10 00:55:06 [INFO]: Training set size: 7671 (63.99%)\n",
      "2025-05-10 00:55:06 [INFO]: Validation set size: 1918 (16.00%)\n",
      "2025-05-10 00:55:06 [INFO]: Test set size: 2399 (20.01%)\n",
      "2025-05-10 00:55:06 [INFO]: Number of steps: 48\n",
      "2025-05-10 00:55:06 [INFO]: Number of features: 37\n",
      "2025-05-10 00:55:06 [INFO]: Train set missing rate: 79.70%\n",
      "2025-05-10 00:55:06 [INFO]: Validating set missing rate: 81.75%\n",
      "2025-05-10 00:55:06 [INFO]: Test set missing rate: 81.75%\n"
     ]
    },
    {
     "name": "stdout",
     "output_type": "stream",
     "text": [
      "dict_keys(['n_classes', 'n_steps', 'n_features', 'scaler', 'train_X', 'train_y', 'train_ICUType', 'val_X', 'val_y', 'val_ICUType', 'test_X', 'test_y', 'test_ICUType', 'val_X_ori', 'test_X_ori'])\n"
     ]
    }
   ],
   "source": [
    "set_random_seed()\n",
    "physionet2012_dataset = benchpots.datasets.preprocess_physionet2012(subset=\"all\", rate=0.1)\n",
    "print(physionet2012_dataset.keys())"
   ]
  },
  {
   "cell_type": "code",
   "execution_count": 3,
   "id": "0d096357",
   "metadata": {},
   "outputs": [],
   "source": [
    "dataset_for_training = {\n",
    "    \"X\": physionet2012_dataset['train_X'],\n",
    "}\n",
    "\n",
    "dataset_for_validating = {\n",
    "    \"X\": physionet2012_dataset['val_X'],\n",
    "    \"X_ori\": physionet2012_dataset['val_X_ori'],\n",
    "}\n",
    "\n",
    "dataset_for_testing = {\n",
    "    \"X\": physionet2012_dataset['test_X'],\n",
    "}\n",
    "\n",
    "test_X_indicating_mask = np.isnan(physionet2012_dataset['test_X_ori']) ^ np.isnan(physionet2012_dataset['test_X'])\n",
    "test_X_ori = np.nan_to_num(physionet2012_dataset['test_X_ori']) "
   ]
  },
  {
   "cell_type": "markdown",
   "id": "f94825e2",
   "metadata": {},
   "source": [
    "# Train/Load Models"
   ]
  },
  {
   "cell_type": "markdown",
   "id": "79a80e22",
   "metadata": {},
   "source": [
    "## SAITS"
   ]
  },
  {
   "cell_type": "code",
   "execution_count": 4,
   "id": "b4b67872",
   "metadata": {},
   "outputs": [
    {
     "name": "stderr",
     "output_type": "stream",
     "text": [
      "2025-05-10 00:55:06 [INFO]: No given device, using default device: cpu\n",
      "2025-05-10 00:55:06 [WARNING]: ‼️ saving_path not given. Model files and tensorboard file will not be saved.\n",
      "2025-05-10 00:55:06 [INFO]: Using customized MAE as the training loss function.\n",
      "2025-05-10 00:55:06 [INFO]: Using customized MSE as the validation metric function.\n",
      "2025-05-10 00:55:06 [INFO]: SAITS initialized with the given hyperparameters, the number of trainable parameters: 720,182\n"
     ]
    }
   ],
   "source": [
    "saits = SAITS(\n",
    "    n_steps=physionet2012_dataset['n_steps'],\n",
    "    n_features=physionet2012_dataset['n_features'],\n",
    "    n_layers=1,\n",
    "    d_model=256,\n",
    "    d_ffn=128,\n",
    "    n_heads=4,\n",
    "    d_k=64,\n",
    "    d_v=64,\n",
    "    dropout=0.1,\n",
    "    ORT_weight=1,  \n",
    "    MIT_weight=1,\n",
    "    batch_size=32,\n",
    "    epochs=10,\n",
    "    patience=3,\n",
    "    optimizer=Adam(lr=1e-3),\n",
    "    num_workers=0,\n",
    "    device=None,\n",
    "    model_saving_strategy=\"best\",\n",
    ")"
   ]
  },
  {
   "cell_type": "code",
   "execution_count": 5,
   "id": "a1e3b87a",
   "metadata": {},
   "outputs": [
    {
     "name": "stderr",
     "output_type": "stream",
     "text": [
      "2025-05-10 00:55:06 [INFO]: Model loaded successfully from ../mae/tutorial_results/imputation/saits/20250422_T181642/SAITS.pypots\n"
     ]
    }
   ],
   "source": [
    "saits.load(\"../mae/tutorial_results/imputation/saits/20250422_T181642/SAITS.pypots\")"
   ]
  },
  {
   "cell_type": "markdown",
   "id": "e3da8728",
   "metadata": {},
   "source": [
    "## BRITS"
   ]
  },
  {
   "cell_type": "code",
   "execution_count": 6,
   "id": "0b4f4d70",
   "metadata": {},
   "outputs": [
    {
     "name": "stderr",
     "output_type": "stream",
     "text": [
      "2025-05-10 00:55:06 [INFO]: No given device, using default device: cpu\n",
      "2025-05-10 00:55:06 [WARNING]: ‼️ saving_path not given. Model files and tensorboard file will not be saved.\n",
      "2025-05-10 00:55:06 [INFO]: Using customized MAE as the training loss function.\n",
      "2025-05-10 00:55:06 [INFO]: Using customized MSE as the validation metric function.\n",
      "2025-05-10 00:55:06 [INFO]: BRITS initialized with the given hyperparameters, the number of trainable parameters: 239,344\n"
     ]
    }
   ],
   "source": [
    "brits = BRITS(\n",
    "    n_steps=physionet2012_dataset['n_steps'],\n",
    "    n_features=physionet2012_dataset['n_features'],\n",
    "    rnn_hidden_size=128,\n",
    "    batch_size=32,\n",
    "    epochs=10,\n",
    "    patience=3,\n",
    "    optimizer=Adam(lr=1e-3),\n",
    "    num_workers=0,\n",
    "    device=None,\n",
    "    model_saving_strategy=\"best\",\n",
    ")"
   ]
  },
  {
   "cell_type": "code",
   "execution_count": 7,
   "id": "6e226115",
   "metadata": {},
   "outputs": [
    {
     "name": "stderr",
     "output_type": "stream",
     "text": [
      "2025-05-10 00:55:06 [INFO]: Model loaded successfully from ../mae/tutorial_results/imputation/brits/20250422_T181643/BRITS.pypots\n"
     ]
    }
   ],
   "source": [
    "brits.load(\"../mae/tutorial_results/imputation/brits/20250422_T181643/BRITS.pypots\")"
   ]
  },
  {
   "cell_type": "markdown",
   "id": "d278b2b2",
   "metadata": {},
   "source": [
    "## US-GAN"
   ]
  },
  {
   "cell_type": "code",
   "execution_count": 8,
   "id": "1d5cf75b",
   "metadata": {},
   "outputs": [
    {
     "name": "stderr",
     "output_type": "stream",
     "text": [
      "2025-05-10 00:55:06 [INFO]: No given device, using default device: cpu\n",
      "2025-05-10 00:55:06 [WARNING]: ‼️ saving_path not given. Model files and tensorboard file will not be saved.\n",
      "2025-05-10 00:55:06 [INFO]: USGAN initialized with the given hyperparameters, the number of trainable parameters: 1,258,517\n"
     ]
    }
   ],
   "source": [
    "us_gan = USGAN(\n",
    "    n_steps=physionet2012_dataset['n_steps'],\n",
    "    n_features=physionet2012_dataset['n_features'],\n",
    "    rnn_hidden_size=256,\n",
    "    lambda_mse=1,\n",
    "    dropout=0.1,\n",
    "    G_steps=1,\n",
    "    D_steps=1,\n",
    "    batch_size=32,\n",
    "    epochs=10,\n",
    "    patience=3,\n",
    "    G_optimizer=Adam(lr=1e-3),\n",
    "    D_optimizer=Adam(lr=1e-3),\n",
    "    num_workers=0,\n",
    "    device=None,\n",
    "    model_saving_strategy=\"best\",\n",
    ")"
   ]
  },
  {
   "cell_type": "code",
   "execution_count": 9,
   "id": "dfbec924",
   "metadata": {},
   "outputs": [
    {
     "name": "stderr",
     "output_type": "stream",
     "text": [
      "2025-05-10 00:55:06 [INFO]: Model loaded successfully from ../mae/tutorial_results/imputation/us_gan/20250422_T181643/USGAN.pypots\n"
     ]
    }
   ],
   "source": [
    "us_gan.load(\"../mae/tutorial_results/imputation/us_gan/20250422_T181643/USGAN.pypots\")"
   ]
  },
  {
   "cell_type": "markdown",
   "id": "716e6bb9",
   "metadata": {},
   "source": [
    "## GP-VAE"
   ]
  },
  {
   "cell_type": "code",
   "execution_count": 10,
   "id": "8476d546",
   "metadata": {},
   "outputs": [
    {
     "name": "stderr",
     "output_type": "stream",
     "text": [
      "2025-05-10 00:55:06 [INFO]: No given device, using default device: cpu\n",
      "2025-05-10 00:55:06 [WARNING]: ‼️ saving_path not given. Model files and tensorboard file will not be saved.\n",
      "2025-05-10 00:55:06 [INFO]: GPVAE initialized with the given hyperparameters, the number of trainable parameters: 229,652\n"
     ]
    }
   ],
   "source": [
    "gp_vae = GPVAE(\n",
    "    n_steps=physionet2012_dataset['n_steps'],\n",
    "    n_features=physionet2012_dataset['n_features'],\n",
    "    latent_size=37,\n",
    "    encoder_sizes=(128,128),\n",
    "    decoder_sizes=(256,256),\n",
    "    kernel=\"cauchy\",\n",
    "    beta=0.2,\n",
    "    M=1,\n",
    "    K=1,\n",
    "    sigma=1.005,\n",
    "    length_scale=7.0,\n",
    "    kernel_scales=1,\n",
    "    window_size=24,\n",
    "    batch_size=32,\n",
    "    epochs=10,\n",
    "    patience=3,\n",
    "    optimizer=Adam(lr=1e-3),\n",
    "    num_workers=0,\n",
    "    device=None,\n",
    "    model_saving_strategy=\"best\",\n",
    ")"
   ]
  },
  {
   "cell_type": "code",
   "execution_count": 11,
   "id": "4d5898a9",
   "metadata": {},
   "outputs": [
    {
     "name": "stderr",
     "output_type": "stream",
     "text": [
      "2025-05-10 00:55:06 [INFO]: Model loaded successfully from ../mae/tutorial_results/imputation/gp_vae/20250422_T181643/GPVAE.pypots\n"
     ]
    }
   ],
   "source": [
    "gp_vae.load(\"../mae/tutorial_results/imputation/gp_vae/20250422_T181643/GPVAE.pypots\")"
   ]
  },
  {
   "cell_type": "markdown",
   "id": "911797ef",
   "metadata": {},
   "source": [
    "## MRNN"
   ]
  },
  {
   "cell_type": "code",
   "execution_count": 12,
   "id": "d94f4eab",
   "metadata": {},
   "outputs": [
    {
     "name": "stderr",
     "output_type": "stream",
     "text": [
      "2025-05-10 00:55:06 [INFO]: No given device, using default device: cpu\n",
      "2025-05-10 00:55:06 [WARNING]: ‼️ saving_path not given. Model files and tensorboard file will not be saved.\n",
      "2025-05-10 00:55:06 [INFO]: Using customized RMSE as the training loss function.\n",
      "2025-05-10 00:55:06 [INFO]: Using customized MSE as the validation metric function.\n",
      "2025-05-10 00:55:06 [INFO]: MRNN initialized with the given hyperparameters, the number of trainable parameters: 107,951\n"
     ]
    }
   ],
   "source": [
    "mrnn = MRNN(\n",
    "    n_steps=physionet2012_dataset['n_steps'],\n",
    "    n_features=physionet2012_dataset['n_features'],\n",
    "    rnn_hidden_size=128,\n",
    "    epochs=10,\n",
    "    patience=3,\n",
    "    optimizer=Adam(lr=1e-3),\n",
    "    num_workers=0,\n",
    "    device=None,\n",
    "    model_saving_strategy=\"best\",\n",
    ")"
   ]
  },
  {
   "cell_type": "code",
   "execution_count": 13,
   "id": "5a033058",
   "metadata": {},
   "outputs": [
    {
     "name": "stderr",
     "output_type": "stream",
     "text": [
      "2025-05-10 00:55:06 [INFO]: Model loaded successfully from ../mae/tutorial_results/imputation/mrnn/20250422_T181643/MRNN.pypots\n"
     ]
    }
   ],
   "source": [
    "mrnn.load(\"../mae/tutorial_results/imputation/mrnn/20250422_T181643/MRNN.pypots\")"
   ]
  },
  {
   "cell_type": "markdown",
   "id": "afb06140",
   "metadata": {},
   "source": [
    "# Imputation Models"
   ]
  },
  {
   "cell_type": "markdown",
   "id": "b32c09be",
   "metadata": {},
   "source": [
    "## SAITS"
   ]
  },
  {
   "cell_type": "code",
   "execution_count": 14,
   "id": "869911bc",
   "metadata": {},
   "outputs": [],
   "source": [
    "saits_results = saits.predict(dataset_for_testing)\n",
    "saits_imputation = saits_results[\"imputation\"]"
   ]
  },
  {
   "cell_type": "markdown",
   "id": "38072e8d",
   "metadata": {},
   "source": [
    "## BRITS"
   ]
  },
  {
   "cell_type": "code",
   "execution_count": 15,
   "id": "e20475c7",
   "metadata": {},
   "outputs": [],
   "source": [
    "brits_results = brits.predict(dataset_for_testing)\n",
    "brits_imputation = brits_results[\"imputation\"]"
   ]
  },
  {
   "cell_type": "markdown",
   "id": "53237cd5",
   "metadata": {},
   "source": [
    "## US-GAN"
   ]
  },
  {
   "cell_type": "code",
   "execution_count": 16,
   "id": "42caf223",
   "metadata": {},
   "outputs": [],
   "source": [
    "us_gan_results = us_gan.predict(dataset_for_testing)\n",
    "us_gan_imputation = us_gan_results[\"imputation\"]"
   ]
  },
  {
   "cell_type": "markdown",
   "id": "6a59e5eb",
   "metadata": {},
   "source": [
    "## GP-VAE"
   ]
  },
  {
   "cell_type": "code",
   "execution_count": 17,
   "id": "1a8fffd2",
   "metadata": {},
   "outputs": [],
   "source": [
    "gp_vae_results = gp_vae.predict(dataset_for_testing)\n",
    "gp_vae_imputation = gp_vae_results[\"imputation\"]"
   ]
  },
  {
   "cell_type": "markdown",
   "id": "945da575",
   "metadata": {},
   "source": [
    "## MRNN"
   ]
  },
  {
   "cell_type": "code",
   "execution_count": 18,
   "id": "47ef2fce",
   "metadata": {},
   "outputs": [],
   "source": [
    "mrnn_results = mrnn.predict(dataset_for_testing)\n",
    "mrnn_imputation = mrnn_results[\"imputation\"]"
   ]
  },
  {
   "cell_type": "markdown",
   "id": "f8f663e4",
   "metadata": {},
   "source": [
    "# AE/MAE Models"
   ]
  },
  {
   "cell_type": "markdown",
   "id": "68933172",
   "metadata": {},
   "source": [
    "## SAITS"
   ]
  },
  {
   "cell_type": "code",
   "execution_count": 19,
   "id": "6e44079b",
   "metadata": {},
   "outputs": [],
   "source": [
    "saits_mae, saits_ae = calc_mae(\n",
    "    saits_imputation,\n",
    "    test_X_ori,\n",
    "    test_X_indicating_mask,\n",
    ")"
   ]
  },
  {
   "cell_type": "markdown",
   "id": "692784cd",
   "metadata": {},
   "source": [
    "## BRITS"
   ]
  },
  {
   "cell_type": "code",
   "execution_count": 20,
   "id": "78f98523",
   "metadata": {},
   "outputs": [],
   "source": [
    "brits_mae, brits_ae = calc_mae(\n",
    "    brits_imputation,\n",
    "    test_X_ori,\n",
    "    test_X_indicating_mask,\n",
    ")"
   ]
  },
  {
   "cell_type": "markdown",
   "id": "1cbbb020",
   "metadata": {},
   "source": [
    "## US-GAN"
   ]
  },
  {
   "cell_type": "code",
   "execution_count": 21,
   "id": "b345276c",
   "metadata": {},
   "outputs": [],
   "source": [
    "usgan_mae, usgan_ae = calc_mae(\n",
    "    us_gan_imputation,\n",
    "    test_X_ori,\n",
    "    test_X_indicating_mask,\n",
    ")"
   ]
  },
  {
   "cell_type": "markdown",
   "id": "c15f07aa",
   "metadata": {},
   "source": [
    "## GP-VAE"
   ]
  },
  {
   "cell_type": "code",
   "execution_count": 22,
   "id": "3b380fa8",
   "metadata": {},
   "outputs": [],
   "source": [
    "gp_vae_imputation = np.squeeze(gp_vae_imputation, axis=1)\n",
    "\n",
    "gpvae_mae, gpvae_ae = calc_mae(\n",
    "    gp_vae_imputation,\n",
    "    test_X_ori,\n",
    "    test_X_indicating_mask,\n",
    ")"
   ]
  },
  {
   "cell_type": "markdown",
   "id": "0b4aec02",
   "metadata": {},
   "source": [
    "## MRNN"
   ]
  },
  {
   "cell_type": "code",
   "execution_count": 23,
   "id": "27a8a796",
   "metadata": {},
   "outputs": [],
   "source": [
    "mrnn_mae, mrnn_ae = calc_mae(\n",
    "    mrnn_imputation,\n",
    "    test_X_ori,\n",
    "    test_X_indicating_mask,\n",
    ")"
   ]
  },
  {
   "cell_type": "markdown",
   "id": "9f569e93",
   "metadata": {},
   "source": [
    "# Gini Models"
   ]
  },
  {
   "cell_type": "code",
   "execution_count": 24,
   "id": "dbf64d1e",
   "metadata": {},
   "outputs": [],
   "source": [
    "test_X_indicating_mask = test_X_indicating_mask.reshape(len(test_X_indicating_mask) * 48,  37)"
   ]
  },
  {
   "cell_type": "markdown",
   "id": "eb16ff92",
   "metadata": {},
   "source": [
    "## SAITS"
   ]
  },
  {
   "cell_type": "code",
   "execution_count": 25,
   "id": "54a04d12",
   "metadata": {},
   "outputs": [],
   "source": [
    "saits_ae = saits_ae.reshape(len(saits_ae) * 48 , 37)"
   ]
  },
  {
   "cell_type": "code",
   "execution_count": 26,
   "id": "a7247640",
   "metadata": {},
   "outputs": [],
   "source": [
    "saits_ae = toolkits.reshape_variables_v2(saits_ae)"
   ]
  },
  {
   "cell_type": "code",
   "execution_count": 27,
   "id": "789274b4",
   "metadata": {},
   "outputs": [],
   "source": [
    "test_X_indicating_mask = toolkits.reshape_variables_v2(test_X_indicating_mask)"
   ]
  },
  {
   "cell_type": "code",
   "execution_count": 28,
   "id": "573b664e",
   "metadata": {},
   "outputs": [],
   "source": [
    "saits_ae_mask = []\n",
    "aux_ae = []\n",
    "\n",
    "for i in range(len(test_X_indicating_mask)):\n",
    "    for j in range(len(test_X_indicating_mask[i])):\n",
    "        if(test_X_indicating_mask[i][j] == True):\n",
    "            aux_ae.append(saits_ae[i][j])\n",
    "    \n",
    "    saits_ae_mask.append(np.array(aux_ae))\n",
    "    aux_ae = []\n"
   ]
  },
  {
   "cell_type": "code",
   "execution_count": 29,
   "id": "5d8601c7",
   "metadata": {},
   "outputs": [],
   "source": [
    "saits_gini = []\n",
    "\n",
    "for i in range(len(saits_ae_mask)):\n",
    "    saits_gini.append(toolkits.gini(saits_ae_mask[i]))"
   ]
  },
  {
   "cell_type": "code",
   "execution_count": 30,
   "id": "dac557e0",
   "metadata": {},
   "outputs": [
    {
     "data": {
      "text/plain": [
       "[np.float64(0.6755091355898706),\n",
       " np.float64(0.7506986500270829),\n",
       " np.float64(0.8066109439055715),\n",
       " np.float64(0.4087511422530157),\n",
       " np.float64(0.49229335494951165),\n",
       " np.float64(0.6521102841529713),\n",
       " np.float64(0.3471228353452396),\n",
       " np.float64(0.5824099403794447),\n",
       " np.float64(0.5443742162685035),\n",
       " np.float64(0.5719282990441206),\n",
       " np.float64(0.6232680118979477),\n",
       " np.float64(0.5254114700649812),\n",
       " np.float64(0.4518452356129381),\n",
       " np.float64(0.4485866742540714),\n",
       " np.float64(0.49259452766233447),\n",
       " np.float64(0.47265986390708625),\n",
       " np.float64(0.5217582646944443),\n",
       " np.float64(0.5653550172684987),\n",
       " np.float64(0.4704282416775123),\n",
       " np.float64(0.4866896131190297),\n",
       " np.float64(0.6010335376692917),\n",
       " np.float64(0.5749235694844477),\n",
       " np.float64(0.6001113584961808),\n",
       " np.float64(0.4522360878871514),\n",
       " np.float64(0.4802841788953083),\n",
       " np.float64(0.5377589677071799),\n",
       " np.float64(0.49649261170346093),\n",
       " np.float64(0.4479533545436629),\n",
       " np.float64(0.5723561830460957),\n",
       " np.float64(0.520474125299802),\n",
       " np.float64(0.523754033811304),\n",
       " np.float64(0.39128879816264717),\n",
       " np.float64(0.7039543341644745),\n",
       " np.float64(0.629920918180437),\n",
       " np.float64(0.47187559980717464),\n",
       " np.float64(0.6263616543018014),\n",
       " np.float64(0.7534601763338618)]"
      ]
     },
     "execution_count": 30,
     "metadata": {},
     "output_type": "execute_result"
    }
   ],
   "source": [
    "saits_gini"
   ]
  },
  {
   "cell_type": "markdown",
   "id": "24f33714",
   "metadata": {},
   "source": [
    "## BRITS"
   ]
  },
  {
   "cell_type": "code",
   "execution_count": 31,
   "id": "0c931442",
   "metadata": {},
   "outputs": [],
   "source": [
    "brits_ae = brits_ae.reshape(len(brits_ae) * 48 , 37)"
   ]
  },
  {
   "cell_type": "code",
   "execution_count": 32,
   "id": "57f6b783",
   "metadata": {},
   "outputs": [],
   "source": [
    "brits_ae = toolkits.reshape_variables_v2(brits_ae)"
   ]
  },
  {
   "cell_type": "code",
   "execution_count": 33,
   "id": "64e43c3e",
   "metadata": {},
   "outputs": [],
   "source": [
    "brits_ae_mask = []\n",
    "aux_ae = []\n",
    "\n",
    "for i in range(len(test_X_indicating_mask)):\n",
    "    for j in range(len(test_X_indicating_mask[i])):\n",
    "        if(test_X_indicating_mask[i][j] == True):\n",
    "            aux_ae.append(brits_ae[i][j])\n",
    "    \n",
    "    brits_ae_mask.append(np.array(aux_ae))\n",
    "    aux_ae = []\n"
   ]
  },
  {
   "cell_type": "code",
   "execution_count": 34,
   "id": "037f5bad",
   "metadata": {},
   "outputs": [],
   "source": [
    "brits_gini = []\n",
    "\n",
    "for i in range(len(brits_ae_mask)):\n",
    "    brits_gini.append(toolkits.gini(brits_ae_mask[i]))"
   ]
  },
  {
   "cell_type": "code",
   "execution_count": 35,
   "id": "04fc6c64",
   "metadata": {},
   "outputs": [
    {
     "data": {
      "text/plain": [
       "[np.float64(0.6175804858262515),\n",
       " np.float64(0.6762765385139351),\n",
       " np.float64(0.828616599357066),\n",
       " np.float64(0.3945630738280437),\n",
       " np.float64(0.5563239882048077),\n",
       " np.float64(0.6681562846210098),\n",
       " np.float64(0.35947764304177365),\n",
       " np.float64(0.6697165452673239),\n",
       " np.float64(0.5909322386604194),\n",
       " np.float64(0.6153092463006595),\n",
       " np.float64(0.6313128427624324),\n",
       " np.float64(0.5164445220216429),\n",
       " np.float64(0.43177765415626546),\n",
       " np.float64(0.4365326045583773),\n",
       " np.float64(0.5075631063056985),\n",
       " np.float64(0.4788337995385683),\n",
       " np.float64(0.5448889409093929),\n",
       " np.float64(0.6298976024704059),\n",
       " np.float64(0.4227358297363353),\n",
       " np.float64(0.48237123154762385),\n",
       " np.float64(0.5331634121605795),\n",
       " np.float64(0.6579205322508939),\n",
       " np.float64(0.500572190205383),\n",
       " np.float64(0.4685271366098356),\n",
       " np.float64(0.6541446757486307),\n",
       " np.float64(0.5338694921684837),\n",
       " np.float64(0.44986955671661355),\n",
       " np.float64(0.4489085369805983),\n",
       " np.float64(0.5653098133983734),\n",
       " np.float64(0.5583426436940804),\n",
       " np.float64(0.5711630578643456),\n",
       " np.float64(0.3432093332197097),\n",
       " np.float64(0.5747858394517811),\n",
       " np.float64(0.6394937291361551),\n",
       " np.float64(0.4740801967844619),\n",
       " np.float64(0.7987034739032748),\n",
       " np.float64(0.7883990406044501)]"
      ]
     },
     "execution_count": 35,
     "metadata": {},
     "output_type": "execute_result"
    }
   ],
   "source": [
    "brits_gini"
   ]
  },
  {
   "cell_type": "markdown",
   "id": "7fe3f0b2",
   "metadata": {},
   "source": [
    "## US-GAN"
   ]
  },
  {
   "cell_type": "code",
   "execution_count": 36,
   "id": "05bc31bd",
   "metadata": {},
   "outputs": [],
   "source": [
    "usgan_ae = usgan_ae.reshape(len(usgan_ae) * 48 , 37)"
   ]
  },
  {
   "cell_type": "code",
   "execution_count": 37,
   "id": "b8163216",
   "metadata": {},
   "outputs": [],
   "source": [
    "usgan_ae = toolkits.reshape_variables_v2(usgan_ae)"
   ]
  },
  {
   "cell_type": "code",
   "execution_count": 38,
   "id": "a7089a04",
   "metadata": {},
   "outputs": [],
   "source": [
    "usgan_ae_mask = []\n",
    "aux_ae = []\n",
    "\n",
    "for i in range(len(test_X_indicating_mask)):\n",
    "    for j in range(len(test_X_indicating_mask[i])):\n",
    "        if(test_X_indicating_mask[i][j] == True):\n",
    "            aux_ae.append(usgan_ae[i][j])\n",
    "    \n",
    "    usgan_ae_mask.append(np.array(aux_ae))\n",
    "    aux_ae = []\n"
   ]
  },
  {
   "cell_type": "code",
   "execution_count": 39,
   "id": "96b62581",
   "metadata": {},
   "outputs": [],
   "source": [
    "usgan_gini = []\n",
    "\n",
    "for i in range(len(usgan_ae_mask)):\n",
    "    usgan_gini.append(toolkits.gini(usgan_ae_mask[i]))"
   ]
  },
  {
   "cell_type": "code",
   "execution_count": 40,
   "id": "5b844054",
   "metadata": {},
   "outputs": [
    {
     "data": {
      "text/plain": [
       "[np.float64(0.6322594201687439),\n",
       " np.float64(0.6212527322809012),\n",
       " np.float64(0.5964329083302113),\n",
       " np.float64(0.39165814014934197),\n",
       " np.float64(0.47911384836298065),\n",
       " np.float64(0.5089992382473347),\n",
       " np.float64(0.35330622719317284),\n",
       " np.float64(0.5447303567674084),\n",
       " np.float64(0.5333393202615901),\n",
       " np.float64(0.5342287498390583),\n",
       " np.float64(0.5555584391032145),\n",
       " np.float64(0.45506277847391363),\n",
       " np.float64(0.45078963248424286),\n",
       " np.float64(0.45040227661612775),\n",
       " np.float64(0.4976606283382681),\n",
       " np.float64(0.465640885470205),\n",
       " np.float64(0.4342420230974977),\n",
       " np.float64(0.57594404635367),\n",
       " np.float64(0.4568751604292023),\n",
       " np.float64(0.4843524313703367),\n",
       " np.float64(0.5320123020828089),\n",
       " np.float64(0.6119585988167473),\n",
       " np.float64(0.5041825359722252),\n",
       " np.float64(0.44033179132071987),\n",
       " np.float64(0.5654678077913236),\n",
       " np.float64(0.49350860078897596),\n",
       " np.float64(0.45650674083247056),\n",
       " np.float64(0.4447451902371564),\n",
       " np.float64(0.5299661426126279),\n",
       " np.float64(0.5152352936190872),\n",
       " np.float64(0.5378804961764476),\n",
       " np.float64(0.3205182430682165),\n",
       " np.float64(0.44197127243904233),\n",
       " np.float64(0.5966414000231337),\n",
       " np.float64(0.46142895503342074),\n",
       " np.float64(0.647623380797401),\n",
       " np.float64(0.7018129655249712)]"
      ]
     },
     "execution_count": 40,
     "metadata": {},
     "output_type": "execute_result"
    }
   ],
   "source": [
    "usgan_gini"
   ]
  },
  {
   "cell_type": "markdown",
   "id": "34236a2a",
   "metadata": {},
   "source": [
    "## GPVAE"
   ]
  },
  {
   "cell_type": "code",
   "execution_count": 41,
   "id": "576476e6",
   "metadata": {},
   "outputs": [],
   "source": [
    "gpvae_ae = gpvae_ae.reshape(len(gpvae_ae) * 48 , 37)"
   ]
  },
  {
   "cell_type": "code",
   "execution_count": 42,
   "id": "ace90102",
   "metadata": {},
   "outputs": [],
   "source": [
    "gpvae_ae = toolkits.reshape_variables_v2(gpvae_ae)"
   ]
  },
  {
   "cell_type": "code",
   "execution_count": 43,
   "id": "c926acb6",
   "metadata": {},
   "outputs": [],
   "source": [
    "gpvae_ae_mask = []\n",
    "aux_ae = []\n",
    "\n",
    "for i in range(len(test_X_indicating_mask)):\n",
    "    for j in range(len(test_X_indicating_mask[i])):\n",
    "        if(test_X_indicating_mask[i][j] == True):\n",
    "            aux_ae.append(gpvae_ae[i][j])\n",
    "    \n",
    "    gpvae_ae_mask.append(np.array(aux_ae))\n",
    "    aux_ae = []\n"
   ]
  },
  {
   "cell_type": "code",
   "execution_count": 44,
   "id": "7452ace3",
   "metadata": {},
   "outputs": [],
   "source": [
    "gpvae_gini = []\n",
    "\n",
    "for i in range(len(gpvae_ae_mask)):\n",
    "    gpvae_gini.append(toolkits.gini(gpvae_ae_mask[i]))"
   ]
  },
  {
   "cell_type": "code",
   "execution_count": 45,
   "id": "09b97366",
   "metadata": {},
   "outputs": [
    {
     "data": {
      "text/plain": [
       "[np.float64(0.529690336122872),\n",
       " np.float64(0.5942045419239153),\n",
       " np.float64(0.6796528708576146),\n",
       " np.float64(0.3689622575888245),\n",
       " np.float64(0.4499780296310951),\n",
       " np.float64(0.532503045317795),\n",
       " np.float64(0.34973165867899625),\n",
       " np.float64(0.5672355980536876),\n",
       " np.float64(0.4740431487797334),\n",
       " np.float64(0.468665006136737),\n",
       " np.float64(0.4675383228183727),\n",
       " np.float64(0.4750446335019789),\n",
       " np.float64(0.44846264044533424),\n",
       " np.float64(0.43198613415282594),\n",
       " np.float64(0.46282662645384987),\n",
       " np.float64(0.4658137696747624),\n",
       " np.float64(0.478466504689222),\n",
       " np.float64(0.47150396302285436),\n",
       " np.float64(0.5880221576240088),\n",
       " np.float64(0.4752665197503685),\n",
       " np.float64(0.4542321683183759),\n",
       " np.float64(0.4572826927291753),\n",
       " np.float64(0.44046958225042987),\n",
       " np.float64(0.4609732533708151),\n",
       " np.float64(0.47517812173376783),\n",
       " np.float64(0.47458667627499507),\n",
       " np.float64(0.42429527722273197),\n",
       " np.float64(0.4431502094248523),\n",
       " np.float64(0.4882924519324454),\n",
       " np.float64(0.45663377760113044),\n",
       " np.float64(0.45853194907962624),\n",
       " np.float64(0.2753373132483812),\n",
       " np.float64(0.44457257259691096),\n",
       " np.float64(0.5326698735991724),\n",
       " np.float64(0.4577018357595781),\n",
       " np.float64(0.5008623459804307),\n",
       " np.float64(0.7184362378799305)]"
      ]
     },
     "execution_count": 45,
     "metadata": {},
     "output_type": "execute_result"
    }
   ],
   "source": [
    "gpvae_gini"
   ]
  },
  {
   "cell_type": "markdown",
   "id": "d3a025ca",
   "metadata": {},
   "source": [
    "## MRNN"
   ]
  },
  {
   "cell_type": "code",
   "execution_count": 46,
   "id": "68d8cf2a",
   "metadata": {},
   "outputs": [],
   "source": [
    "mrnn_ae = mrnn_ae.reshape(len(mrnn_ae) * 48 , 37)"
   ]
  },
  {
   "cell_type": "code",
   "execution_count": 47,
   "id": "170a6a2b",
   "metadata": {},
   "outputs": [],
   "source": [
    "mrnn_ae = toolkits.reshape_variables_v2(mrnn_ae)"
   ]
  },
  {
   "cell_type": "code",
   "execution_count": 48,
   "id": "559698c3",
   "metadata": {},
   "outputs": [],
   "source": [
    "mrnn_ae_mask = []\n",
    "aux_ae = []\n",
    "\n",
    "for i in range(len(test_X_indicating_mask)):\n",
    "    for j in range(len(test_X_indicating_mask[i])):\n",
    "        if(test_X_indicating_mask[i][j] == True):\n",
    "            aux_ae.append(mrnn_ae[i][j])\n",
    "    \n",
    "    mrnn_ae_mask.append(np.array(aux_ae))\n",
    "    aux_ae = []\n"
   ]
  },
  {
   "cell_type": "code",
   "execution_count": 49,
   "id": "efe3c162",
   "metadata": {},
   "outputs": [],
   "source": [
    "mrnn_gini = []\n",
    "\n",
    "for i in range(len(mrnn_ae_mask)):\n",
    "    mrnn_gini.append(toolkits.gini(mrnn_ae_mask[i]))"
   ]
  },
  {
   "cell_type": "code",
   "execution_count": 50,
   "id": "f7497e17",
   "metadata": {},
   "outputs": [
    {
     "data": {
      "text/plain": [
       "[np.float64(0.4572991529198507),\n",
       " np.float64(0.32569178883591476),\n",
       " np.float64(0.41114742811749183),\n",
       " np.float64(0.3844172692450798),\n",
       " np.float64(0.35688990332182824),\n",
       " np.float64(0.38802781644452256),\n",
       " np.float64(0.360935140902759),\n",
       " np.float64(0.39775125022725666),\n",
       " np.float64(0.42480380229985326),\n",
       " np.float64(0.37671776105164256),\n",
       " np.float64(0.30507775503526724),\n",
       " np.float64(0.4354567881975413),\n",
       " np.float64(0.4540973452702033),\n",
       " np.float64(0.4180823471988213),\n",
       " np.float64(0.40865616946713934),\n",
       " np.float64(0.4495262367815256),\n",
       " np.float64(0.3578498488526711),\n",
       " np.float64(0.43276006965677327),\n",
       " np.float64(0.14077117855421273),\n",
       " np.float64(0.4624022214565817),\n",
       " np.float64(0.42066126727973296),\n",
       " np.float64(0.42953930836482446),\n",
       " np.float64(0.40497087039544266),\n",
       " np.float64(0.45815108554924655),\n",
       " np.float64(0.45954139163772423),\n",
       " np.float64(0.414010116110207),\n",
       " np.float64(0.40866008476854687),\n",
       " np.float64(0.42403045991896904),\n",
       " np.float64(0.5236073264230532),\n",
       " np.float64(0.4122476156428594),\n",
       " np.float64(0.4504193501942684),\n",
       " np.float64(0.28914142889610095),\n",
       " np.float64(0.28726659253988673),\n",
       " np.float64(0.40118081145563256),\n",
       " np.float64(0.3299905634662641),\n",
       " np.float64(0.43268243765439474),\n",
       " np.float64(0.5285106206032906)]"
      ]
     },
     "execution_count": 50,
     "metadata": {},
     "output_type": "execute_result"
    }
   ],
   "source": [
    "mrnn_gini"
   ]
  },
  {
   "cell_type": "markdown",
   "id": "4e3442f9",
   "metadata": {},
   "source": [
    "# IC Models"
   ]
  },
  {
   "cell_type": "markdown",
   "id": "70958d63",
   "metadata": {},
   "source": [
    "## SAITS"
   ]
  },
  {
   "cell_type": "code",
   "execution_count": 51,
   "id": "2c8dccbd",
   "metadata": {},
   "outputs": [],
   "source": [
    "bootstrap_saits = []\n",
    "\n",
    "for i in range(len(saits_ae_mask)):\n",
    "    bootstrap_saits.append(toolkits.bootstrap_v2(saits_ae_mask, i, 9000))"
   ]
  },
  {
   "cell_type": "code",
   "execution_count": 52,
   "id": "c684fb75",
   "metadata": {},
   "outputs": [
    {
     "name": "stdout",
     "output_type": "stream",
     "text": [
      "[np.float64(0.5435100202757382), np.float64(0.6389517033853522), np.float64(0.6946863077170858), np.float64(0.3634579311834109), np.float64(0.47079322266190776), np.float64(0.5788795671171321), np.float64(0.2505328369706727), np.float64(0.5359367039997764), np.float64(0.5314053904702729), np.float64(0.5582454200626127), np.float64(0.6129390206193398), np.float64(0.49689047374883505), np.float64(0.4312899522539368), np.float64(0.43159689969416143), np.float64(0.48572429860568356), np.float64(0.449879075193115), np.float64(0.4872420601685669), np.float64(0.5402514549323488), np.float64(0.4547727387240157), np.float64(0.44747636759860077), np.float64(0.588078877124718), np.float64(0.5607873943935131), np.float64(0.5836259092018314), np.float64(0.42977249795158656), np.float64(0.4609105961379078), np.float64(0.5194343350930829), np.float64(0.4716154640173531), np.float64(0.4372355081746939), np.float64(0.4983646901925138), np.float64(0.5092987740476734), np.float64(0.5021311887394649), np.float64(0.2514301902132431), np.float64(0.6389484724240978), np.float64(0.6167134333492716), np.float64(0.44570604708037714), np.float64(0.5950908031025409), np.float64(0.41201838284251413)]\n",
      "[np.float64(0.7590113227657015), np.float64(0.7998051062974922), np.float64(0.8491184185158869), np.float64(0.450327031795062), np.float64(0.5130044184628378), np.float64(0.6965841457753209), np.float64(0.4320318444552637), np.float64(0.62378325934403), np.float64(0.5567042752363794), np.float64(0.5844938042988912), np.float64(0.6329623995090485), np.float64(0.5514202293635845), np.float64(0.47144354975927466), np.float64(0.46608414264204484), np.float64(0.49931303970479246), np.float64(0.4943152612123312), np.float64(0.5521802692756481), np.float64(0.590535930627375), np.float64(0.48531032833710985), np.float64(0.5299076801076662), np.float64(0.6139144835246035), np.float64(0.5888728583759132), np.float64(0.6171130896005834), np.float64(0.4741456684900781), np.float64(0.49991485108262756), np.float64(0.5547695352468848), np.float64(0.5202096075312252), np.float64(0.45900648797047183), np.float64(0.6422019124670344), np.float64(0.5315218116105178), np.float64(0.5472845424897907), np.float64(0.5040069694724545), np.float64(0.7431603201027459), np.float64(0.6434217512623386), np.float64(0.49798002940943215), np.float64(0.658643576617796), np.float64(0.8868227201310077)]\n"
     ]
    }
   ],
   "source": [
    "lower_bound_saits = []\n",
    "upper_bound_saits = []\n",
    "\n",
    "for i in range(len(bootstrap_saits)):\n",
    "    lower_bound_saits.append(np.percentile(bootstrap_saits[i], 2.5))\n",
    "    upper_bound_saits.append(np.percentile(bootstrap_saits[i], 97.5))\n",
    "\n",
    "print(lower_bound_saits)\n",
    "print(upper_bound_saits)"
   ]
  },
  {
   "cell_type": "code",
   "execution_count": 53,
   "id": "b78fe20b",
   "metadata": {},
   "outputs": [
    {
     "name": "stdout",
     "output_type": "stream",
     "text": [
      "[np.float64(0.6512606715207199), np.float64(0.7193784048414222), np.float64(0.7719023631164863), np.float64(0.40689248148923646), np.float64(0.4918988205623728), np.float64(0.6377318564462264), np.float64(0.3412823407129682), np.float64(0.5798599816719032), np.float64(0.5440548328533261), np.float64(0.5713696121807519), np.float64(0.6229507100641942), np.float64(0.5241553515562097), np.float64(0.4513667510066057), np.float64(0.44884052116810313), np.float64(0.492518669155238), np.float64(0.47209716820272307), np.float64(0.5197111647221075), np.float64(0.565393692779862), np.float64(0.47004153353056277), np.float64(0.4886920238531335), np.float64(0.6009966803246607), np.float64(0.5748301263847131), np.float64(0.6003694994012074), np.float64(0.45195908322083234), np.float64(0.48041272361026766), np.float64(0.5371019351699838), np.float64(0.4959125357742892), np.float64(0.4481209980725829), np.float64(0.5702833013297741), np.float64(0.5204102928290957), np.float64(0.5247078656146278), np.float64(0.3777185798428488), np.float64(0.6910543962634219), np.float64(0.6300675923058051), np.float64(0.47184303824490464), np.float64(0.6268671898601685), np.float64(0.6494205514867609)]\n"
     ]
    }
   ],
   "source": [
    "mean_bound_saits = []\n",
    "\n",
    "for i in range(len(lower_bound_saits)):\n",
    "    mean_bound_saits.append((lower_bound_saits[i]+upper_bound_saits[i])/2)\n",
    "\n",
    "print(mean_bound_saits)"
   ]
  },
  {
   "cell_type": "markdown",
   "id": "06e2f882",
   "metadata": {},
   "source": [
    "## BRITS"
   ]
  },
  {
   "cell_type": "code",
   "execution_count": 54,
   "id": "557a2efe",
   "metadata": {},
   "outputs": [],
   "source": [
    "bootstrap_brits = []\n",
    "\n",
    "for i in range(len(brits_ae_mask)):\n",
    "    bootstrap_brits.append(toolkits.bootstrap_v2(brits_ae_mask, i, 9000))"
   ]
  },
  {
   "cell_type": "code",
   "execution_count": 55,
   "id": "af94640f",
   "metadata": {},
   "outputs": [
    {
     "name": "stdout",
     "output_type": "stream",
     "text": [
      "[np.float64(0.478584790231987), np.float64(0.5324684841311105), np.float64(0.7424264763855235), np.float64(0.3509549342994489), np.float64(0.5317157529916134), np.float64(0.5892287810978972), np.float64(0.2596704080558105), np.float64(0.6388700257599292), np.float64(0.572688991735357), np.float64(0.6023625025240293), np.float64(0.6217054626170403), np.float64(0.4871980988058966), np.float64(0.4127925753344459), np.float64(0.4205340189376448), np.float64(0.5011565122563202), np.float64(0.45776060185262396), np.float64(0.5120051664229581), np.float64(0.5910654533548468), np.float64(0.40989308446900735), np.float64(0.44217657126641197), np.float64(0.5195182931854484), np.float64(0.6451659456391505), np.float64(0.4857703134568306), np.float64(0.4492289245697797), np.float64(0.46623115771216345), np.float64(0.5162772219262227), np.float64(0.42429066722822156), np.float64(0.4378061505156451), np.float64(0.49119254681812957), np.float64(0.5426394886816664), np.float64(0.539274177971466), np.float64(0.21708105755259738), np.float64(0.4920279557107424), np.float64(0.6259029825337319), np.float64(0.4483044576664614), np.float64(0.7769591541193185), np.float64(0.4422791510198891)]\n",
      "[np.float64(0.7116265534207414), np.float64(0.7627700119399121), np.float64(0.8595586268860433), np.float64(0.4382550381521947), np.float64(0.5781525667511231), np.float64(0.7124331734129439), np.float64(0.4437932725697886), np.float64(0.6955930088647052), np.float64(0.6093514194235784), np.float64(0.627566841512703), np.float64(0.64056722571049), np.float64(0.5427822692593302), np.float64(0.44995937691457444), np.float64(0.45165179976220454), np.float64(0.5140262299985834), np.float64(0.4996624151259946), np.float64(0.5717724541628193), np.float64(0.6732911883653155), np.float64(0.43516127869276755), np.float64(0.5272107787630558), np.float64(0.547272133630957), np.float64(0.6710008790198667), np.float64(0.5164147506717287), np.float64(0.4873857578505345), np.float64(0.7968113298369651), np.float64(0.5502141192448275), np.float64(0.47263102616191005), np.float64(0.4598306430378079), np.float64(0.6329285762626571), np.float64(0.5742456188153674), np.float64(0.607455547801474), np.float64(0.397709155466033), np.float64(0.6300264558210311), np.float64(0.653052943592926), np.float64(0.49890904153345916), np.float64(0.8200975498194488), np.float64(0.9059934835068196)]\n"
     ]
    }
   ],
   "source": [
    "lower_bound_brits = []\n",
    "upper_bound_brits = []\n",
    "\n",
    "for i in range(len(bootstrap_brits)):\n",
    "    lower_bound_brits.append(np.percentile(bootstrap_brits[i], 2.5))\n",
    "    upper_bound_brits.append(np.percentile(bootstrap_brits[i], 97.5))\n",
    "\n",
    "print(lower_bound_brits)\n",
    "print(upper_bound_brits)"
   ]
  },
  {
   "cell_type": "code",
   "execution_count": 56,
   "id": "e4d7289e",
   "metadata": {},
   "outputs": [
    {
     "name": "stdout",
     "output_type": "stream",
     "text": [
      "[np.float64(0.5951056718263642), np.float64(0.6476192480355113), np.float64(0.8009925516357834), np.float64(0.3946049862258218), np.float64(0.5549341598713683), np.float64(0.6508309772554206), np.float64(0.3517318403127996), np.float64(0.6672315173123172), np.float64(0.5910202055794678), np.float64(0.6149646720183661), np.float64(0.6311363441637652), np.float64(0.5149901840326134), np.float64(0.4313759761245102), np.float64(0.4360929093499247), np.float64(0.5075913711274518), np.float64(0.47871150848930927), np.float64(0.5418888102928887), np.float64(0.6321783208600812), np.float64(0.4225271815808874), np.float64(0.48469367501473387), np.float64(0.5333952134082027), np.float64(0.6580834123295086), np.float64(0.5010925320642796), np.float64(0.4683073412101571), np.float64(0.6315212437745643), np.float64(0.5332456705855251), np.float64(0.4484608466950658), np.float64(0.4488183967767265), np.float64(0.5620605615403933), np.float64(0.5584425537485169), np.float64(0.57336486288647), np.float64(0.30739510650931523), np.float64(0.5610272057658867), np.float64(0.6394779630633289), np.float64(0.4736067495999603), np.float64(0.7985283519693837), np.float64(0.6741363172633543)]\n"
     ]
    }
   ],
   "source": [
    "mean_bound_brits = []\n",
    "\n",
    "for i in range(len(lower_bound_brits)):\n",
    "    mean_bound_brits.append((lower_bound_brits[i]+upper_bound_brits[i])/2)\n",
    "\n",
    "print(mean_bound_brits)"
   ]
  },
  {
   "cell_type": "markdown",
   "id": "7dc05b91",
   "metadata": {},
   "source": [
    "## USGAN "
   ]
  },
  {
   "cell_type": "code",
   "execution_count": 57,
   "id": "aef1949e",
   "metadata": {},
   "outputs": [],
   "source": [
    "bootstrap_usgan = []\n",
    "\n",
    "for i in range(len(usgan_ae_mask)):\n",
    "    bootstrap_usgan.append(toolkits.bootstrap_v2(usgan_ae_mask, i, 9000))"
   ]
  },
  {
   "cell_type": "code",
   "execution_count": 58,
   "id": "76d7cbe8",
   "metadata": {},
   "outputs": [
    {
     "name": "stdout",
     "output_type": "stream",
     "text": [
      "[np.float64(0.5180617431308812), np.float64(0.5355525135368893), np.float64(0.4978776867252705), np.float64(0.3399113330447707), np.float64(0.4553267804795127), np.float64(0.44422385624321964), np.float64(0.23143602840608635), np.float64(0.5081546752282472), np.float64(0.5231890879699242), np.float64(0.5205525659975465), np.float64(0.5454300640773584), np.float64(0.42965767026270796), np.float64(0.4313934056332262), np.float64(0.4319716742002413), np.float64(0.4912464449453926), np.float64(0.4442569773619454), np.float64(0.40225228407438257), np.float64(0.5590909562408958), np.float64(0.4383586388858223), np.float64(0.44421974907431494), np.float64(0.518819181475371), np.float64(0.5995971861532075), np.float64(0.49007389907698123), np.float64(0.41939306066414295), np.float64(0.4634819368099337), np.float64(0.4753544528590532), np.float64(0.4356316350115256), np.float64(0.43342628801882704), np.float64(0.4625161187379285), np.float64(0.5053848514888857), np.float64(0.5171478565879942), np.float64(0.21781379253726765), np.float64(0.37907338794553375), np.float64(0.584977629040853), np.float64(0.4367718589766427), np.float64(0.6232044899128221), np.float64(0.4280773003389627)]\n",
      "[np.float64(0.7081172710288891), np.float64(0.6771586462544062), np.float64(0.6690968187838187), np.float64(0.44588314629401415), np.float64(0.5017390010826598), np.float64(0.5631410585034103), np.float64(0.45799632133517165), np.float64(0.5772333711866736), np.float64(0.5435074005752231), np.float64(0.5466083365436507), np.float64(0.5650998360299204), np.float64(0.48059955228921725), np.float64(0.4677223149172805), np.float64(0.4685377869702026), np.float64(0.5037908616988493), np.float64(0.48606685995604926), np.float64(0.46244325876510867), np.float64(0.593427241017367), np.float64(0.47511125361415596), np.float64(0.527852909505914), np.float64(0.5454223793355691), np.float64(0.624273297044043), np.float64(0.5188678296054574), np.float64(0.45994333162291356), np.float64(0.681431717837025), np.float64(0.5099461680224829), np.float64(0.47796595420605364), np.float64(0.4555859339674104), np.float64(0.5959602667713162), np.float64(0.5251662542863441), np.float64(0.5610877471016168), np.float64(0.4086700819464658), np.float64(0.49430224522779254), np.float64(0.6084326298370745), np.float64(0.4849234041539064), np.float64(0.6737170931622333), np.float64(0.8486809821035433)]\n"
     ]
    }
   ],
   "source": [
    "lower_bound_usgan = []\n",
    "upper_bound_usgan = []\n",
    "\n",
    "for i in range(len(bootstrap_usgan)):\n",
    "    lower_bound_usgan.append(np.percentile(bootstrap_usgan[i], 2.5))\n",
    "    upper_bound_usgan.append(np.percentile(bootstrap_usgan[i], 97.5))\n",
    "\n",
    "print(lower_bound_usgan)\n",
    "print(upper_bound_usgan)"
   ]
  },
  {
   "cell_type": "code",
   "execution_count": 59,
   "id": "03b5888e",
   "metadata": {},
   "outputs": [
    {
     "name": "stdout",
     "output_type": "stream",
     "text": [
      "[np.float64(0.6130895070798852), np.float64(0.6063555798956477), np.float64(0.5834872527545446), np.float64(0.39289723966939244), np.float64(0.47853289078108624), np.float64(0.503682457373315), np.float64(0.344716174870629), np.float64(0.5426940232074604), np.float64(0.5333482442725737), np.float64(0.5335804512705986), np.float64(0.5552649500536394), np.float64(0.4551286112759626), np.float64(0.44955786027525335), np.float64(0.4502547305852219), np.float64(0.497518653322121), np.float64(0.46516191865899736), np.float64(0.4323477714197456), np.float64(0.5762590986291314), np.float64(0.4567349462499891), np.float64(0.4860363292901145), np.float64(0.5321207804054701), np.float64(0.6119352415986252), np.float64(0.5044708643412193), np.float64(0.43966819614352826), np.float64(0.5724568273234794), np.float64(0.49265031044076807), np.float64(0.4567987946087896), np.float64(0.4445061109931187), np.float64(0.5292381927546224), np.float64(0.515275552887615), np.float64(0.5391178018448055), np.float64(0.3132419372418667), np.float64(0.4366878165866631), np.float64(0.5967051294389638), np.float64(0.46084763156527453), np.float64(0.6484607915375277), np.float64(0.6383791412212529)]\n"
     ]
    }
   ],
   "source": [
    "mean_bound_usgan = []\n",
    "\n",
    "for i in range(len(lower_bound_usgan)):\n",
    "    mean_bound_usgan.append((lower_bound_usgan[i]+upper_bound_usgan[i])/2)\n",
    "\n",
    "print(mean_bound_usgan)"
   ]
  },
  {
   "cell_type": "markdown",
   "id": "77f2a63b",
   "metadata": {},
   "source": [
    "## GPVAE"
   ]
  },
  {
   "cell_type": "code",
   "execution_count": 60,
   "id": "f0cadbdc",
   "metadata": {},
   "outputs": [],
   "source": [
    "bootstrap_gpvae = []\n",
    "\n",
    "for i in range(len(gpvae_ae_mask)):\n",
    "    bootstrap_gpvae.append(toolkits.bootstrap_v2(gpvae_ae_mask, i, 9000))"
   ]
  },
  {
   "cell_type": "code",
   "execution_count": 61,
   "id": "55555f36",
   "metadata": {},
   "outputs": [
    {
     "name": "stdout",
     "output_type": "stream",
     "text": [
      "[np.float64(0.38565849046202133), np.float64(0.49348054988381673), np.float64(0.5781062791136369), np.float64(0.3241797081172884), np.float64(0.4253579843069768), np.float64(0.4447735062158277), np.float64(0.25785283696670824), np.float64(0.5366640653585978), np.float64(0.4646589352819915), np.float64(0.4566623765885701), np.float64(0.4586835697169349), np.float64(0.4476260439269264), np.float64(0.42920524857303943), np.float64(0.4156382676235879), np.float64(0.4568721498843175), np.float64(0.44450144305158057), np.float64(0.44416602069108463), np.float64(0.46051584214177815), np.float64(0.5281043045103231), np.float64(0.43658306758759463), np.float64(0.4453220232243607), np.float64(0.4482099266923245), np.float64(0.43079164646419355), np.float64(0.44129795011457645), np.float64(0.45606356917118523), np.float64(0.4581196008264917), np.float64(0.40115301376431023), np.float64(0.43209740567829885), np.float64(0.42757332144642957), np.float64(0.4475398351033741), np.float64(0.4444192854159173), np.float64(0.15260447156263313), np.float64(0.36753853795878383), np.float64(0.5201770049811286), np.float64(0.4332163119540708), np.float64(0.4873302645468338), np.float64(0.4314850610934269)]\n",
      "[np.float64(0.637868619238579), np.float64(0.6769380306230403), np.float64(0.738390640837342), np.float64(0.4123786959778925), np.float64(0.47380122977921424), np.float64(0.5961696714551803), np.float64(0.4267480797531219), np.float64(0.5938284808732895), np.float64(0.4831582654093566), np.float64(0.47944944190066474), np.float64(0.47621663200662223), np.float64(0.5026251510808645), np.float64(0.46721945866897413), np.float64(0.447646523674697), np.float64(0.46871885627540844), np.float64(0.4874097667893288), np.float64(0.5076563075171853), np.float64(0.4832960448393697), np.float64(0.6458923678828118), np.float64(0.5184355306131289), np.float64(0.46293783682669987), np.float64(0.46611759718708), np.float64(0.45021819949902914), np.float64(0.4795289969238837), np.float64(0.4930929901515947), np.float64(0.49009359648769063), np.float64(0.44697482267533234), np.float64(0.4544688264881603), np.float64(0.5508431678578426), np.float64(0.4655165521868447), np.float64(0.47411545568163893), np.float64(0.32401597373824054), np.float64(0.5072395338540452), np.float64(0.5451209551224133), np.float64(0.48134064414837524), np.float64(0.5159703671291588), np.float64(0.8603550122533666)]\n"
     ]
    }
   ],
   "source": [
    "lower_bound_gpvae = []\n",
    "upper_bound_gpvae = []\n",
    "\n",
    "for i in range(len(bootstrap_gpvae)):\n",
    "    lower_bound_gpvae.append(np.percentile(bootstrap_gpvae[i], 2.5))\n",
    "    upper_bound_gpvae.append(np.percentile(bootstrap_gpvae[i], 97.5))\n",
    "\n",
    "print(lower_bound_gpvae)\n",
    "print(upper_bound_gpvae)"
   ]
  },
  {
   "cell_type": "code",
   "execution_count": 62,
   "id": "b8352658",
   "metadata": {},
   "outputs": [
    {
     "name": "stdout",
     "output_type": "stream",
     "text": [
      "[np.float64(0.5117635548503001), np.float64(0.5852092902534285), np.float64(0.6582484599754894), np.float64(0.36827920204759046), np.float64(0.4495796070430955), np.float64(0.520471588835504), np.float64(0.34230045835991507), np.float64(0.5652462731159437), np.float64(0.47390860034567406), np.float64(0.46805590924461743), np.float64(0.4674501008617786), np.float64(0.47512559750389544), np.float64(0.44821235362100675), np.float64(0.4316423956491424), np.float64(0.46279550307986295), np.float64(0.4659556049204547), np.float64(0.4759111641041349), np.float64(0.4719059434905739), np.float64(0.5869983361965674), np.float64(0.4775092991003618), np.float64(0.45412993002553026), np.float64(0.45716376193970226), np.float64(0.44050492298161137), np.float64(0.46041347351923007), np.float64(0.47457827966139), np.float64(0.47410659865709115), np.float64(0.42406391821982126), np.float64(0.44328311608322957), np.float64(0.4892082446521361), np.float64(0.4565281936451094), np.float64(0.4592673705487781), np.float64(0.23831022265043683), np.float64(0.43738903590641454), np.float64(0.532648980051771), np.float64(0.457278478051223), np.float64(0.5016503158379964), np.float64(0.6459200366733968)]\n"
     ]
    }
   ],
   "source": [
    "mean_bound_gpvae = []\n",
    "\n",
    "for i in range(len(lower_bound_gpvae)):\n",
    "    mean_bound_gpvae.append((lower_bound_gpvae[i]+upper_bound_gpvae[i])/2)\n",
    "\n",
    "print(mean_bound_gpvae)"
   ]
  },
  {
   "cell_type": "markdown",
   "id": "35a29722",
   "metadata": {},
   "source": [
    "## MRNN"
   ]
  },
  {
   "cell_type": "code",
   "execution_count": 63,
   "id": "a34ded3a",
   "metadata": {},
   "outputs": [],
   "source": [
    "bootstrap_mrnn = []\n",
    "\n",
    "for i in range(len(mrnn_ae_mask)):\n",
    "    bootstrap_mrnn.append(toolkits.bootstrap_v2(mrnn_ae_mask, i, 9000))"
   ]
  },
  {
   "cell_type": "code",
   "execution_count": 64,
   "id": "dc95f05c",
   "metadata": {},
   "outputs": [
    {
     "name": "stdout",
     "output_type": "stream",
     "text": [
      "[np.float64(0.31536944750539697), np.float64(0.19731533687312555), np.float64(0.2687331699664546), np.float64(0.3419372943462037), np.float64(0.33295271288530554), np.float64(0.29791278401905075), np.float64(0.25108602107376965), np.float64(0.3594683565353681), np.float64(0.4168758232820514), np.float64(0.36575891917347086), np.float64(0.2973527003586004), np.float64(0.40846065619335764), np.float64(0.43491447882987894), np.float64(0.40240529566875777), np.float64(0.4035469562784537), np.float64(0.4288978772196218), np.float64(0.325533852348352), np.float64(0.42400533908145266), np.float64(0.1358871984222344), np.float64(0.42449802110693885), np.float64(0.4130991895000895), np.float64(0.42157033883959744), np.float64(0.39649313453524826), np.float64(0.438601538424109), np.float64(0.44058063007052906), np.float64(0.3975516425673767), np.float64(0.38555427001998743), np.float64(0.41310022243353534), np.float64(0.4524346597503807), np.float64(0.4044097270047987), np.float64(0.4353234536002573), np.float64(0.15419674310696058), np.float64(0.21673382911836214), np.float64(0.3869347935578023), np.float64(0.3111487627936438), np.float64(0.42316087373400013), np.float64(0.30643365865760536)]\n",
      "[np.float64(0.576446648736764), np.float64(0.44859262436723224), np.float64(0.5119172088833474), np.float64(0.42623057505851925), np.float64(0.38067711848965563), np.float64(0.46222262339459286), np.float64(0.46761240844041235), np.float64(0.4337033704186592), np.float64(0.4326848539431635), np.float64(0.38701587407629856), np.float64(0.312645089264116), np.float64(0.46175860469879804), np.float64(0.4727414066546102), np.float64(0.4326339502361129), np.float64(0.4135437681916464), np.float64(0.47009309730699267), np.float64(0.38985406921161275), np.float64(0.44185926321539143), np.float64(0.14558327844429575), np.float64(0.5041127395669499), np.float64(0.4282194550257484), np.float64(0.437432770203541), np.float64(0.41337075613731106), np.float64(0.47639648638652515), np.float64(0.47761501124717576), np.float64(0.42991233853831423), np.float64(0.43027382668118236), np.float64(0.43514395106621195), np.float64(0.5906874228392194), np.float64(0.4203517647650934), np.float64(0.46703204812419635), np.float64(0.3578784418541269), np.float64(0.352608354384803), np.float64(0.4157635575296915), np.float64(0.3474768386497409), np.float64(0.4420141719098331), np.float64(0.714437944309837)]\n"
     ]
    }
   ],
   "source": [
    "lower_bound_mrnn = []\n",
    "upper_bound_mrnn = []\n",
    "\n",
    "for i in range(len(bootstrap_mrnn)):\n",
    "    lower_bound_mrnn.append(np.percentile(bootstrap_mrnn[i], 2.5))\n",
    "    upper_bound_mrnn.append(np.percentile(bootstrap_mrnn[i], 97.5))\n",
    "\n",
    "print(lower_bound_mrnn)\n",
    "print(upper_bound_mrnn)"
   ]
  },
  {
   "cell_type": "code",
   "execution_count": 65,
   "id": "1189f9e0",
   "metadata": {},
   "outputs": [
    {
     "name": "stdout",
     "output_type": "stream",
     "text": [
      "[np.float64(0.4459080481210805), np.float64(0.3229539806201789), np.float64(0.39032518942490096), np.float64(0.38408393470236146), np.float64(0.3568149156874806), np.float64(0.3800677037068218), np.float64(0.35934921475709103), np.float64(0.39658586347701363), np.float64(0.42478033861260744), np.float64(0.37638739662488474), np.float64(0.3049988948113582), np.float64(0.43510963044607787), np.float64(0.4538279427422446), np.float64(0.41751962295243533), np.float64(0.40854536223505006), np.float64(0.44949548726330724), np.float64(0.3576939607799824), np.float64(0.43293230114842207), np.float64(0.14073523843326508), np.float64(0.46430538033694435), np.float64(0.4206593222629189), np.float64(0.42950155452156924), np.float64(0.40493194533627963), np.float64(0.4574990124053171), np.float64(0.4590978206588524), np.float64(0.4137319905528455), np.float64(0.40791404835058487), np.float64(0.4241220867498736), np.float64(0.5215610412948001), np.float64(0.41238074588494605), np.float64(0.45117775086222683), np.float64(0.25603759248054375), np.float64(0.28467109175158256), np.float64(0.40134917554374694), np.float64(0.32931280072169233), np.float64(0.4325875228219166), np.float64(0.5104358014837211)]\n"
     ]
    }
   ],
   "source": [
    "mean_bound_mrnn = []\n",
    "\n",
    "for i in range(len(lower_bound_mrnn)):\n",
    "    mean_bound_mrnn.append((lower_bound_mrnn[i]+upper_bound_mrnn[i])/2)\n",
    "\n",
    "print(mean_bound_mrnn)"
   ]
  }
 ],
 "metadata": {
  "kernelspec": {
   "display_name": "Python 3",
   "language": "python",
   "name": "python3"
  },
  "language_info": {
   "codemirror_mode": {
    "name": "ipython",
    "version": 3
   },
   "file_extension": ".py",
   "mimetype": "text/x-python",
   "name": "python",
   "nbconvert_exporter": "python",
   "pygments_lexer": "ipython3",
   "version": "3.11.0rc1"
  }
 },
 "nbformat": 4,
 "nbformat_minor": 5
}

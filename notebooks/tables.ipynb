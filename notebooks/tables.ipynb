{
 "cells": [
  {
   "cell_type": "code",
   "execution_count": 1,
   "metadata": {},
   "outputs": [],
   "source": [
    "import os\n",
    "import sys\n",
    "module_path = os.path.abspath(os.path.join('..'))\n",
    "if module_path not in sys.path:\n",
    "    sys.path.append(module_path)"
   ]
  },
  {
   "cell_type": "markdown",
   "metadata": {},
   "source": [
    "<h1>Loading database</h1>"
   ]
  },
  {
   "cell_type": "code",
   "execution_count": 2,
   "metadata": {},
   "outputs": [
    {
     "name": "stderr",
     "output_type": "stream",
     "text": [
      "2024-10-29 23:02:52 [INFO]: You're using dataset physionet_2012, please cite it properly in your work. You can find its reference information at the below link: \n",
      "https://github.com/WenjieDu/TSDB/tree/main/dataset_profiles/physionet_2012\n",
      "2024-10-29 23:02:52 [INFO]: Dataset physionet_2012 has already been downloaded. Processing directly...\n",
      "2024-10-29 23:02:52 [INFO]: Dataset physionet_2012 has already been cached. Loading from cache directly...\n",
      "2024-10-29 23:02:52 [INFO]: Loaded successfully!\n"
     ]
    }
   ],
   "source": [
    "from pypots.benchpots.datasets import preprocess_physionet2012\n",
    "physionet2012_dataset = preprocess_physionet2012(subset=\"all\", rate=0.1)"
   ]
  },
  {
   "cell_type": "markdown",
   "metadata": {},
   "source": [
    "<h1>Training data</h1>"
   ]
  },
  {
   "cell_type": "code",
   "execution_count": 3,
   "metadata": {},
   "outputs": [
    {
     "name": "stdout",
     "output_type": "stream",
     "text": [
      "Teste\n"
     ]
    }
   ],
   "source": [
    "train_X = physionet2012_dataset['train_X']\n",
    "print(\"Teste\")"
   ]
  },
  {
   "cell_type": "code",
   "execution_count": 4,
   "metadata": {},
   "outputs": [
    {
     "data": {
      "text/plain": [
       "Gender\n",
       " 1.0    56.224743\n",
       " 0.0    43.631860\n",
       "-1.0     0.143397\n",
       "Name: proportion, dtype: float64"
      ]
     },
     "execution_count": 4,
     "metadata": {},
     "output_type": "execute_result"
    }
   ],
   "source": [
    "distribution_gender = train_X['Gender'].value_counts(normalize=True) * 100\n",
    "distribution_gender # 0: female, or 1: male"
   ]
  },
  {
   "cell_type": "code",
   "execution_count": 5,
   "metadata": {},
   "outputs": [
    {
     "data": {
      "text/plain": [
       "ICUType\n",
       "3.0    35.340894\n",
       "4.0    28.418720\n",
       "2.0    21.274932\n",
       "1.0    14.965454\n",
       "Name: proportion, dtype: float64"
      ]
     },
     "execution_count": 5,
     "metadata": {},
     "output_type": "execute_result"
    }
   ],
   "source": [
    "distribution_ICUType = train_X['ICUType'].value_counts(normalize=True) * 100\n",
    "distribution_ICUType"
   ]
  },
  {
   "cell_type": "code",
   "execution_count": 6,
   "metadata": {},
   "outputs": [
    {
     "data": {
      "text/plain": [
       "Age\n",
       "90.0    13074\n",
       "78.0     9583\n",
       "77.0     9334\n",
       "71.0     8483\n",
       "72.0     8263\n",
       "        ...  \n",
       "31.0      869\n",
       "32.0      817\n",
       "17.0      440\n",
       "16.0      187\n",
       "15.0       46\n",
       "Name: count, Length: 76, dtype: int64"
      ]
     },
     "execution_count": 6,
     "metadata": {},
     "output_type": "execute_result"
    }
   ],
   "source": [
    "#train_X pega 60% de 12000\n",
    "train_X['Age'].value_counts()"
   ]
  },
  {
   "cell_type": "code",
   "execution_count": 8,
   "metadata": {},
   "outputs": [
    {
     "data": {
      "text/html": [
       "<div>\n",
       "<style scoped>\n",
       "    .dataframe tbody tr th:only-of-type {\n",
       "        vertical-align: middle;\n",
       "    }\n",
       "\n",
       "    .dataframe tbody tr th {\n",
       "        vertical-align: top;\n",
       "    }\n",
       "\n",
       "    .dataframe thead th {\n",
       "        text-align: right;\n",
       "    }\n",
       "</style>\n",
       "<table border=\"1\" class=\"dataframe\">\n",
       "  <thead>\n",
       "    <tr style=\"text-align: right;\">\n",
       "      <th></th>\n",
       "      <th>RecordID</th>\n",
       "      <th>Age</th>\n",
       "    </tr>\n",
       "  </thead>\n",
       "  <tbody>\n",
       "    <tr>\n",
       "      <th>0</th>\n",
       "      <td>132540</td>\n",
       "      <td>76.0</td>\n",
       "    </tr>\n",
       "    <tr>\n",
       "      <th>1</th>\n",
       "      <td>132543</td>\n",
       "      <td>68.0</td>\n",
       "    </tr>\n",
       "    <tr>\n",
       "      <th>2</th>\n",
       "      <td>132547</td>\n",
       "      <td>64.0</td>\n",
       "    </tr>\n",
       "    <tr>\n",
       "      <th>3</th>\n",
       "      <td>132548</td>\n",
       "      <td>68.0</td>\n",
       "    </tr>\n",
       "    <tr>\n",
       "      <th>4</th>\n",
       "      <td>132554</td>\n",
       "      <td>64.0</td>\n",
       "    </tr>\n",
       "  </tbody>\n",
       "</table>\n",
       "</div>"
      ],
      "text/plain": [
       "   RecordID   Age\n",
       "0    132540  76.0\n",
       "1    132543  68.0\n",
       "2    132547  64.0\n",
       "3    132548  68.0\n",
       "4    132554  64.0"
      ]
     },
     "execution_count": 8,
     "metadata": {},
     "output_type": "execute_result"
    }
   ],
   "source": [
    "age_uniques = train_X.groupby('RecordID')['Age'].first().reset_index()\n",
    "age_uniques.head()"
   ]
  },
  {
   "cell_type": "code",
   "execution_count": 9,
   "metadata": {},
   "outputs": [
    {
     "data": {
      "text/plain": [
       "RecordID    7671\n",
       "Age         7671\n",
       "dtype: int64"
      ]
     },
     "execution_count": 9,
     "metadata": {},
     "output_type": "execute_result"
    }
   ],
   "source": [
    "age_uniques.count()"
   ]
  },
  {
   "cell_type": "code",
   "execution_count": 28,
   "metadata": {},
   "outputs": [
    {
     "data": {
      "text/plain": [
       "7671"
      ]
     },
     "execution_count": 28,
     "metadata": {},
     "output_type": "execute_result"
    }
   ],
   "source": [
    "first_values = train_X['Age'][::48] #first value of \"Age\" at every 48th index\n",
    "total_quantity_of_age_occurrences = first_values.count()\n",
    "total_quantity_of_age_occurrences"
   ]
  },
  {
   "cell_type": "code",
   "execution_count": 26,
   "metadata": {},
   "outputs": [
    {
     "data": {
      "text/plain": [
       "190728"
      ]
     },
     "execution_count": 26,
     "metadata": {},
     "output_type": "execute_result"
    }
   ],
   "source": [
    "more_than_or_equal_to_65 = train_X[train_X['Age'] >= 65] \n",
    "distribution_age_group_one = more_than_or_equal_to_65['Age'].count() \n",
    "distribution_age_group_one"
   ]
  },
  {
   "cell_type": "code",
   "execution_count": 20,
   "metadata": {},
   "outputs": [
    {
     "data": {
      "text/plain": [
       "Age\n",
       "61.0    4.745802\n",
       "64.0    4.706018\n",
       "63.0    4.374274\n",
       "62.0    4.254282\n",
       "58.0    4.242731\n",
       "59.0    4.065630\n",
       "56.0    3.937938\n",
       "60.0    3.897512\n",
       "54.0    3.590793\n",
       "55.0    3.585018\n",
       "57.0    3.580527\n",
       "51.0    3.167290\n",
       "47.0    3.068473\n",
       "49.0    3.026122\n",
       "50.0    2.947197\n",
       "52.0    2.924097\n",
       "53.0    2.820788\n",
       "45.0    2.594278\n",
       "48.0    2.507010\n",
       "46.0    2.302317\n",
       "42.0    2.070032\n",
       "43.0    1.989823\n",
       "44.0    1.940414\n",
       "40.0    1.904481\n",
       "41.0    1.598404\n",
       "37.0    1.308368\n",
       "39.0    1.259601\n",
       "35.0    1.255751\n",
       "38.0    1.242276\n",
       "36.0    1.212759\n",
       "34.0    1.137683\n",
       "33.0    0.954165\n",
       "23.0    0.901548\n",
       "27.0    0.900265\n",
       "22.0    0.875240\n",
       "30.0    0.864973\n",
       "28.0    0.838023\n",
       "26.0    0.832890\n",
       "24.0    0.821339\n",
       "19.0    0.783481\n",
       "25.0    0.715464\n",
       "20.0    0.713539\n",
       "21.0    0.705197\n",
       "29.0    0.700705\n",
       "32.0    0.671188\n",
       "31.0    0.649371\n",
       "18.0    0.438903\n",
       "17.0    0.257310\n",
       "16.0    0.089192\n",
       "15.0    0.029517\n",
       "Name: proportion, dtype: float64"
      ]
     },
     "execution_count": 20,
     "metadata": {},
     "output_type": "execute_result"
    }
   ],
   "source": [
    "less_than_65 = train_X[train_X['Age'] < 65] \n",
    "distribution_age_group_two = less_than_65['Age'].value_counts(normalize=True) * 100\n",
    "distribution_age_group_two"
   ]
  },
  {
   "cell_type": "markdown",
   "metadata": {},
   "source": [
    "<h1>Validation data</h1>"
   ]
  },
  {
   "cell_type": "code",
   "execution_count": 11,
   "metadata": {},
   "outputs": [],
   "source": [
    "validation_X = physionet2012_dataset['val_X']"
   ]
  },
  {
   "cell_type": "code",
   "execution_count": 12,
   "metadata": {},
   "outputs": [
    {
     "data": {
      "text/plain": [
       "RecordID    1918\n",
       "Age         1918\n",
       "dtype: int64"
      ]
     },
     "execution_count": 12,
     "metadata": {},
     "output_type": "execute_result"
    }
   ],
   "source": [
    "age_uniques_validation = validation_X.groupby('RecordID')['Age'].first().reset_index()\n",
    "age_uniques_validation.count()"
   ]
  },
  {
   "cell_type": "markdown",
   "metadata": {},
   "source": [
    "<h1>Test data</h1>"
   ]
  },
  {
   "cell_type": "code",
   "execution_count": 14,
   "metadata": {},
   "outputs": [],
   "source": [
    "test_X = physionet2012_dataset['test_X']"
   ]
  },
  {
   "cell_type": "code",
   "execution_count": 15,
   "metadata": {},
   "outputs": [
    {
     "data": {
      "text/plain": [
       "RecordID    2399\n",
       "Age         2399\n",
       "dtype: int64"
      ]
     },
     "execution_count": 15,
     "metadata": {},
     "output_type": "execute_result"
    }
   ],
   "source": [
    "age_uniques_test = test_X.groupby('RecordID')['Age'].first().reset_index()\n",
    "age_uniques_test.count()"
   ]
  }
 ],
 "metadata": {
  "kernelspec": {
   "display_name": "Python 3",
   "language": "python",
   "name": "python3"
  },
  "language_info": {
   "codemirror_mode": {
    "name": "ipython",
    "version": 3
   },
   "file_extension": ".py",
   "mimetype": "text/x-python",
   "name": "python",
   "nbconvert_exporter": "python",
   "pygments_lexer": "ipython3",
   "version": "3.8.10"
  }
 },
 "nbformat": 4,
 "nbformat_minor": 2
}

{
 "cells": [
  {
   "cell_type": "code",
   "execution_count": 1,
   "metadata": {},
   "outputs": [],
   "source": [
    "import os\n",
    "import sys\n",
    "module_path = os.path.abspath(os.path.join('..'))\n",
    "if module_path not in sys.path:\n",
    "    sys.path.append(module_path)"
   ]
  },
  {
   "cell_type": "markdown",
   "metadata": {},
   "source": [
    "<h1>Loading database</h1>"
   ]
  },
  {
   "cell_type": "code",
   "execution_count": 5,
   "metadata": {},
   "outputs": [
    {
     "name": "stderr",
     "output_type": "stream",
     "text": [
      "2024-10-28 23:49:48 [INFO]: You're using dataset physionet_2012, please cite it properly in your work. You can find its reference information at the below link: \n",
      "https://github.com/WenjieDu/TSDB/tree/main/dataset_profiles/physionet_2012\n",
      "2024-10-28 23:49:48 [INFO]: Start downloading...\n",
      "Downloading set-a.tar.gz: 100%|██████████| 6.33M/6.33M [00:13<00:00, 494kB/s]\n",
      "2024-10-28 23:50:03 [INFO]: Successfully downloaded data to /tmp/tmp2ulvlrdg/set-a.tar.gz\n",
      "2024-10-28 23:50:03 [INFO]: Successfully extracted data to /root/.pypots/tsdb/physionet_2012\n",
      "Downloading set-b.tar.gz: 100%|██████████| 6.34M/6.34M [00:14<00:00, 471kB/s]\n",
      "2024-10-28 23:50:18 [INFO]: Successfully downloaded data to /tmp/tmpcimyrykd/set-b.tar.gz\n",
      "2024-10-28 23:50:19 [INFO]: Successfully extracted data to /root/.pypots/tsdb/physionet_2012\n",
      "Downloading set-c.tar.gz: 100%|██████████| 6.29M/6.29M [00:13<00:00, 475kB/s]\n",
      "2024-10-28 23:50:33 [INFO]: Successfully downloaded data to /tmp/tmp_zf5zjty/set-c.tar.gz\n",
      "2024-10-28 23:50:34 [INFO]: Successfully extracted data to /root/.pypots/tsdb/physionet_2012\n",
      "Downloading Outcomes-a.txt: 100%|██████████| 77.4k/77.4k [00:00<00:00, 442kB/s]\n",
      "2024-10-28 23:50:35 [INFO]: Successfully downloaded data to /root/.pypots/tsdb/physionet_2012/Outcomes-a.txt\n",
      "Downloading Outcomes-b.txt: 100%|██████████| 77.3k/77.3k [00:00<00:00, 446kB/s]\n",
      "2024-10-28 23:50:36 [INFO]: Successfully downloaded data to /root/.pypots/tsdb/physionet_2012/Outcomes-b.txt\n",
      "Downloading Outcomes-c.txt: 100%|██████████| 77.3k/77.3k [00:00<00:00, 452kB/s]\n",
      "2024-10-28 23:50:36 [INFO]: Successfully downloaded data to /root/.pypots/tsdb/physionet_2012/Outcomes-c.txt\n",
      "2024-10-28 23:50:46 [WARNING]: Ignore 141264, because its len==1, having no time series data\n",
      "2024-10-28 23:50:47 [WARNING]: Ignore 140501, because its len==1, having no time series data\n",
      "2024-10-28 23:50:48 [WARNING]: Ignore 140936, because its len==1, having no time series data\n",
      "2024-10-28 23:51:01 [WARNING]: Ignore 142731, because its len==1, having no time series data\n",
      "2024-10-28 23:51:03 [WARNING]: Ignore 143656, because its len==1, having no time series data\n",
      "2024-10-28 23:51:04 [WARNING]: Ignore 150649, because its len==1, having no time series data\n",
      "2024-10-28 23:51:06 [WARNING]: Ignore 142998, because its len==1, having no time series data\n",
      "2024-10-28 23:51:07 [WARNING]: Ignore 147514, because its len==1, having no time series data\n",
      "2024-10-28 23:51:08 [WARNING]: Ignore 145611, because its len==1, having no time series data\n",
      "2024-10-28 23:51:09 [WARNING]: Ignore 150309, because its len==1, having no time series data\n",
      "2024-10-28 23:51:32 [WARNING]: Ignore 155655, because its len==1, having no time series data\n",
      "2024-10-28 23:51:34 [WARNING]: Ignore 156254, because its len==1, having no time series data\n",
      "2024-10-28 23:51:40 [INFO]: Successfully saved to /root/.pypots/tsdb/physionet_2012/physionet_2012_cache.pkl\n",
      "2024-10-28 23:51:40 [INFO]: Loaded successfully!\n"
     ]
    }
   ],
   "source": [
    "from pypots.benchpots.datasets import preprocess_physionet2012\n",
    "physionet2012_dataset = preprocess_physionet2012(subset=\"all\", rate=0.1)"
   ]
  },
  {
   "cell_type": "markdown",
   "metadata": {},
   "source": [
    "<h1>Training data</h1>"
   ]
  },
  {
   "cell_type": "code",
   "execution_count": 14,
   "metadata": {},
   "outputs": [
    {
     "name": "stdout",
     "output_type": "stream",
     "text": [
      "teste\n"
     ]
    }
   ],
   "source": [
    "train_X = physionet2012_dataset['train_X']"
   ]
  },
  {
   "cell_type": "markdown",
   "metadata": {},
   "source": [
    "<h1>Validation data</h1>"
   ]
  },
  {
   "cell_type": "code",
   "execution_count": 15,
   "metadata": {},
   "outputs": [],
   "source": [
    "validation_X = physionet2012_dataset['val_X']"
   ]
  },
  {
   "cell_type": "markdown",
   "metadata": {},
   "source": [
    "<h1>Test data</h1>"
   ]
  },
  {
   "cell_type": "code",
   "execution_count": 16,
   "metadata": {},
   "outputs": [],
   "source": [
    "test_X = physionet2012_dataset['test_X']"
   ]
  }
 ],
 "metadata": {
  "kernelspec": {
   "display_name": "Python 3",
   "language": "python",
   "name": "python3"
  },
  "language_info": {
   "codemirror_mode": {
    "name": "ipython",
    "version": 3
   },
   "file_extension": ".py",
   "mimetype": "text/x-python",
   "name": "python",
   "nbconvert_exporter": "python",
   "pygments_lexer": "ipython3",
   "version": "3.8.10"
  }
 },
 "nbformat": 4,
 "nbformat_minor": 2
}

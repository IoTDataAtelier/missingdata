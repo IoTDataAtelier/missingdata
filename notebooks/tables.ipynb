{
 "cells": [
  {
   "cell_type": "code",
   "execution_count": 3,
   "metadata": {},
   "outputs": [],
   "source": [
    "import os\n",
    "import sys\n",
    "import pandas as pd\n",
    "module_path = os.path.abspath(os.path.join('..'))\n",
    "if module_path not in sys.path:\n",
    "    sys.path.append(module_path)"
   ]
  },
  {
   "cell_type": "markdown",
   "metadata": {},
   "source": [
    "<h1>Loading database</h1>"
   ]
  },
  {
   "cell_type": "code",
   "execution_count": 4,
   "metadata": {},
   "outputs": [
    {
     "name": "stderr",
     "output_type": "stream",
     "text": [
      "2024-10-30 20:56:29 [INFO]: You're using dataset physionet_2012, please cite it properly in your work. You can find its reference information at the below link: \n",
      "https://github.com/WenjieDu/TSDB/tree/main/dataset_profiles/physionet_2012\n",
      "2024-10-30 20:56:29 [INFO]: Dataset physionet_2012 has already been downloaded. Processing directly...\n",
      "2024-10-30 20:56:29 [INFO]: Dataset physionet_2012 has already been cached. Loading from cache directly...\n",
      "2024-10-30 20:56:29 [INFO]: Loaded successfully!\n"
     ]
    }
   ],
   "source": [
    "from pypots.benchpots.datasets import preprocess_physionet2012\n",
    "physionet2012_dataset = preprocess_physionet2012(subset=\"all\", rate=0.1)"
   ]
  },
  {
   "cell_type": "markdown",
   "metadata": {},
   "source": [
    "<h2>Training data</h2>"
   ]
  },
  {
   "cell_type": "markdown",
   "metadata": {},
   "source": [
    "<h3>Loading training dataset</h3>"
   ]
  },
  {
   "cell_type": "code",
   "execution_count": 5,
   "metadata": {},
   "outputs": [],
   "source": [
    "train_X = physionet2012_dataset['train_X']"
   ]
  },
  {
   "cell_type": "markdown",
   "metadata": {},
   "source": [
    "<h3>Divided into subgroups by gender and showing the percentage</h3>"
   ]
  },
  {
   "cell_type": "code",
   "execution_count": 6,
   "metadata": {},
   "outputs": [
    {
     "data": {
      "text/plain": [
       "Gender\n",
       " 1.0    55.520793\n",
       " 0.0    44.400991\n",
       "-1.0     0.078217\n",
       "Name: proportion, dtype: float64"
      ]
     },
     "execution_count": 6,
     "metadata": {},
     "output_type": "execute_result"
    }
   ],
   "source": [
    "distribution_gender_training = train_X['Gender'].value_counts(normalize=True) * 100\n",
    "distribution_gender_training # 0: female, or 1: male"
   ]
  },
  {
   "cell_type": "markdown",
   "metadata": {},
   "source": [
    "<h3>Divided into subgroups by ICUType and showing the percentage</h3>"
   ]
  },
  {
   "cell_type": "code",
   "execution_count": 7,
   "metadata": {},
   "outputs": [
    {
     "data": {
      "text/plain": [
       "ICUType\n",
       "3.0    36.149133\n",
       "4.0    28.066745\n",
       "2.0    20.714379\n",
       "1.0    15.069743\n",
       "Name: proportion, dtype: float64"
      ]
     },
     "execution_count": 7,
     "metadata": {},
     "output_type": "execute_result"
    }
   ],
   "source": [
    "distribution_ICUType_training = train_X['ICUType'].value_counts(normalize=True) * 100\n",
    "distribution_ICUType_training"
   ]
  },
  {
   "cell_type": "markdown",
   "metadata": {},
   "source": [
    "<h3>Filtering only one age per patient</h3>"
   ]
  },
  {
   "cell_type": "code",
   "execution_count": 8,
   "metadata": {},
   "outputs": [
    {
     "data": {
      "text/html": [
       "<div>\n",
       "<style scoped>\n",
       "    .dataframe tbody tr th:only-of-type {\n",
       "        vertical-align: middle;\n",
       "    }\n",
       "\n",
       "    .dataframe tbody tr th {\n",
       "        vertical-align: top;\n",
       "    }\n",
       "\n",
       "    .dataframe thead th {\n",
       "        text-align: right;\n",
       "    }\n",
       "</style>\n",
       "<table border=\"1\" class=\"dataframe\">\n",
       "  <thead>\n",
       "    <tr style=\"text-align: right;\">\n",
       "      <th></th>\n",
       "      <th>RecordID</th>\n",
       "      <th>Age</th>\n",
       "    </tr>\n",
       "  </thead>\n",
       "  <tbody>\n",
       "    <tr>\n",
       "      <th>0</th>\n",
       "      <td>132539</td>\n",
       "      <td>54.0</td>\n",
       "    </tr>\n",
       "    <tr>\n",
       "      <th>1</th>\n",
       "      <td>132540</td>\n",
       "      <td>76.0</td>\n",
       "    </tr>\n",
       "    <tr>\n",
       "      <th>2</th>\n",
       "      <td>132541</td>\n",
       "      <td>44.0</td>\n",
       "    </tr>\n",
       "    <tr>\n",
       "      <th>3</th>\n",
       "      <td>132543</td>\n",
       "      <td>68.0</td>\n",
       "    </tr>\n",
       "    <tr>\n",
       "      <th>4</th>\n",
       "      <td>132545</td>\n",
       "      <td>88.0</td>\n",
       "    </tr>\n",
       "  </tbody>\n",
       "</table>\n",
       "</div>"
      ],
      "text/plain": [
       "   RecordID   Age\n",
       "0    132539  54.0\n",
       "1    132540  76.0\n",
       "2    132541  44.0\n",
       "3    132543  68.0\n",
       "4    132545  88.0"
      ]
     },
     "execution_count": 8,
     "metadata": {},
     "output_type": "execute_result"
    }
   ],
   "source": [
    "age_uniques_train = train_X.groupby('RecordID')['Age'].first().reset_index()\n",
    "age_uniques_train.head()"
   ]
  },
  {
   "cell_type": "markdown",
   "metadata": {},
   "source": [
    "<h3>Showing total occurrences of age</h3>"
   ]
  },
  {
   "cell_type": "code",
   "execution_count": 9,
   "metadata": {},
   "outputs": [
    {
     "data": {
      "text/plain": [
       "RecordID    7671\n",
       "Age         7671\n",
       "dtype: int64"
      ]
     },
     "execution_count": 9,
     "metadata": {},
     "output_type": "execute_result"
    }
   ],
   "source": [
    "# 60% de 11988 (training set)\n",
    "age_uniques_train.count()"
   ]
  },
  {
   "cell_type": "code",
   "execution_count": 10,
   "metadata": {},
   "outputs": [],
   "source": [
    "#first_values = train_X['Age'][::48] #first value of \"Age\" at every 48th index\n",
    "#total_quantity_of_age_occurrences = first_values.count()\n",
    "#total_quantity_of_age_occurrences"
   ]
  },
  {
   "cell_type": "code",
   "execution_count": 11,
   "metadata": {},
   "outputs": [],
   "source": [
    "#first_values.head()"
   ]
  },
  {
   "cell_type": "markdown",
   "metadata": {},
   "source": [
    "<h3>Dividing age into subgroup of people aged 65+</h3>"
   ]
  },
  {
   "cell_type": "code",
   "execution_count": 12,
   "metadata": {},
   "outputs": [
    {
     "data": {
      "text/plain": [
       "RecordID    54.686482\n",
       "Age         54.686482\n",
       "dtype: float64"
      ]
     },
     "execution_count": 12,
     "metadata": {},
     "output_type": "execute_result"
    }
   ],
   "source": [
    "more_than_or_equal_to_65_training = age_uniques_train[age_uniques_train['Age'] >= 65]\n",
    "# more_than_or_equal_to_65 = train_X[train_X['Age'] >= 65] \n",
    "#distribution_age_group_one = more_than_or_equal_to_65['Age'].count() \n",
    "#distribution_age_group_one\n",
    "# age_uniques_more_than_or_equal_to_65 = more_than_or_equal_to_65.groupby('RecordID')['Age'].first().reset_index()\n",
    "percentage_group_one_train = (more_than_or_equal_to_65_training.count() / age_uniques_train.count())*100\n",
    "percentage_group_one_train"
   ]
  },
  {
   "cell_type": "markdown",
   "metadata": {},
   "source": [
    "<h3>Dividing age into subgroup of people under 65 years of age</h3>"
   ]
  },
  {
   "cell_type": "code",
   "execution_count": 13,
   "metadata": {},
   "outputs": [
    {
     "data": {
      "text/plain": [
       "RecordID    45.313518\n",
       "Age         45.313518\n",
       "dtype: float64"
      ]
     },
     "execution_count": 13,
     "metadata": {},
     "output_type": "execute_result"
    }
   ],
   "source": [
    "less_than_65 = age_uniques_train[age_uniques_train['Age'] < 65]\n",
    "# less_than_65 = train_X[train_X['Age'] < 65] \n",
    "#distribution_age_group_two = less_than_65['Age'].value_counts(normalize=True) * 100\n",
    "#distribution_age_group_two\n",
    "\n",
    "# age_uniques_less_than_65 = less_than_65.groupby('RecordID')['Age'].first().reset_index()\n",
    "percentage_group_two_train = (less_than_65.count() / age_uniques_train.count()) * 100\n",
    "percentage_group_two_train"
   ]
  },
  {
   "cell_type": "markdown",
   "metadata": {},
   "source": [
    "<h3>Filtering only one height and one weight per patient</h3>"
   ]
  },
  {
   "cell_type": "code",
   "execution_count": 14,
   "metadata": {},
   "outputs": [],
   "source": [
    "filtered_train_X = train_X[(train_X['Height'] != -1) & (train_X['Weight'] != -1) & (train_X['Height'].notna()) & (train_X['Weight'].notna())] "
   ]
  },
  {
   "cell_type": "code",
   "execution_count": 15,
   "metadata": {},
   "outputs": [
    {
     "data": {
      "text/html": [
       "<div>\n",
       "<style scoped>\n",
       "    .dataframe tbody tr th:only-of-type {\n",
       "        vertical-align: middle;\n",
       "    }\n",
       "\n",
       "    .dataframe tbody tr th {\n",
       "        vertical-align: top;\n",
       "    }\n",
       "\n",
       "    .dataframe thead th {\n",
       "        text-align: right;\n",
       "    }\n",
       "</style>\n",
       "<table border=\"1\" class=\"dataframe\">\n",
       "  <thead>\n",
       "    <tr style=\"text-align: right;\">\n",
       "      <th></th>\n",
       "      <th>RecordID</th>\n",
       "      <th>Height</th>\n",
       "    </tr>\n",
       "  </thead>\n",
       "  <tbody>\n",
       "    <tr>\n",
       "      <th>0</th>\n",
       "      <td>132540</td>\n",
       "      <td>175.3</td>\n",
       "    </tr>\n",
       "    <tr>\n",
       "      <th>1</th>\n",
       "      <td>132543</td>\n",
       "      <td>180.3</td>\n",
       "    </tr>\n",
       "    <tr>\n",
       "      <th>2</th>\n",
       "      <td>132547</td>\n",
       "      <td>180.3</td>\n",
       "    </tr>\n",
       "    <tr>\n",
       "      <th>3</th>\n",
       "      <td>132548</td>\n",
       "      <td>162.6</td>\n",
       "    </tr>\n",
       "    <tr>\n",
       "      <th>4</th>\n",
       "      <td>132551</td>\n",
       "      <td>162.6</td>\n",
       "    </tr>\n",
       "  </tbody>\n",
       "</table>\n",
       "</div>"
      ],
      "text/plain": [
       "   RecordID  Height\n",
       "0    132540   175.3\n",
       "1    132543   180.3\n",
       "2    132547   180.3\n",
       "3    132548   162.6\n",
       "4    132551   162.6"
      ]
     },
     "execution_count": 15,
     "metadata": {},
     "output_type": "execute_result"
    }
   ],
   "source": [
    "height_uniques_train = filtered_train_X.groupby('RecordID')['Height'].first().reset_index() \n",
    "height_uniques_train.head()"
   ]
  },
  {
   "cell_type": "code",
   "execution_count": 16,
   "metadata": {},
   "outputs": [
    {
     "data": {
      "text/html": [
       "<div>\n",
       "<style scoped>\n",
       "    .dataframe tbody tr th:only-of-type {\n",
       "        vertical-align: middle;\n",
       "    }\n",
       "\n",
       "    .dataframe tbody tr th {\n",
       "        vertical-align: top;\n",
       "    }\n",
       "\n",
       "    .dataframe thead th {\n",
       "        text-align: right;\n",
       "    }\n",
       "</style>\n",
       "<table border=\"1\" class=\"dataframe\">\n",
       "  <thead>\n",
       "    <tr style=\"text-align: right;\">\n",
       "      <th></th>\n",
       "      <th>RecordID</th>\n",
       "      <th>Weight</th>\n",
       "    </tr>\n",
       "  </thead>\n",
       "  <tbody>\n",
       "    <tr>\n",
       "      <th>0</th>\n",
       "      <td>132540</td>\n",
       "      <td>76.0</td>\n",
       "    </tr>\n",
       "    <tr>\n",
       "      <th>1</th>\n",
       "      <td>132543</td>\n",
       "      <td>84.6</td>\n",
       "    </tr>\n",
       "    <tr>\n",
       "      <th>2</th>\n",
       "      <td>132547</td>\n",
       "      <td>114.0</td>\n",
       "    </tr>\n",
       "    <tr>\n",
       "      <th>3</th>\n",
       "      <td>132548</td>\n",
       "      <td>87.0</td>\n",
       "    </tr>\n",
       "    <tr>\n",
       "      <th>4</th>\n",
       "      <td>132551</td>\n",
       "      <td>48.4</td>\n",
       "    </tr>\n",
       "  </tbody>\n",
       "</table>\n",
       "</div>"
      ],
      "text/plain": [
       "   RecordID  Weight\n",
       "0    132540    76.0\n",
       "1    132543    84.6\n",
       "2    132547   114.0\n",
       "3    132548    87.0\n",
       "4    132551    48.4"
      ]
     },
     "execution_count": 16,
     "metadata": {},
     "output_type": "execute_result"
    }
   ],
   "source": [
    "weight_uniques_train = filtered_train_X.groupby('RecordID')['Weight'].first().reset_index() \n",
    "weight_uniques_train.head()"
   ]
  },
  {
   "cell_type": "markdown",
   "metadata": {},
   "source": [
    "<h3>Calculate the BMI</h3>"
   ]
  },
  {
   "cell_type": "code",
   "execution_count": 17,
   "metadata": {},
   "outputs": [],
   "source": [
    "def classify_BMI(BMI):\n",
    "    if BMI < 18.5:\n",
    "        return \"Baixo peso\"\n",
    "    elif BMI >= 18.6 and BMI <= 24.9:\n",
    "        return \"Peso normal\"\n",
    "    elif BMI >= 25 and BMI <= 29.9:\n",
    "        return \"Sobrepeso\"\n",
    "    elif BMI >= 30 and BMI <= 34.9:\n",
    "        return \"Obesidade grau 1\"\n",
    "    elif BMI >= 35 and BMI <= 39.9:\n",
    "        return \"Obesidade grau 2\"\n",
    "    elif BMI >= 40:\n",
    "        return \"Obesidade grau 3\""
   ]
  },
  {
   "cell_type": "code",
   "execution_count": 18,
   "metadata": {},
   "outputs": [],
   "source": [
    "height_uniques_train['Height'] = height_uniques_train['Height'] / 100 # Converting Height from cm to meters"
   ]
  },
  {
   "cell_type": "code",
   "execution_count": 19,
   "metadata": {},
   "outputs": [
    {
     "data": {
      "text/html": [
       "<div>\n",
       "<style scoped>\n",
       "    .dataframe tbody tr th:only-of-type {\n",
       "        vertical-align: middle;\n",
       "    }\n",
       "\n",
       "    .dataframe tbody tr th {\n",
       "        vertical-align: top;\n",
       "    }\n",
       "\n",
       "    .dataframe thead th {\n",
       "        text-align: right;\n",
       "    }\n",
       "</style>\n",
       "<table border=\"1\" class=\"dataframe\">\n",
       "  <thead>\n",
       "    <tr style=\"text-align: right;\">\n",
       "      <th></th>\n",
       "      <th>RecordID</th>\n",
       "      <th>Height</th>\n",
       "      <th>Weight</th>\n",
       "      <th>BMI</th>\n",
       "      <th>Classificacao</th>\n",
       "    </tr>\n",
       "  </thead>\n",
       "  <tbody>\n",
       "    <tr>\n",
       "      <th>0</th>\n",
       "      <td>132540</td>\n",
       "      <td>1.753</td>\n",
       "      <td>76.0</td>\n",
       "      <td>24.731460</td>\n",
       "      <td>Peso normal</td>\n",
       "    </tr>\n",
       "    <tr>\n",
       "      <th>1</th>\n",
       "      <td>132543</td>\n",
       "      <td>1.803</td>\n",
       "      <td>84.6</td>\n",
       "      <td>26.024291</td>\n",
       "      <td>Sobrepeso</td>\n",
       "    </tr>\n",
       "    <tr>\n",
       "      <th>2</th>\n",
       "      <td>132547</td>\n",
       "      <td>1.803</td>\n",
       "      <td>114.0</td>\n",
       "      <td>35.068194</td>\n",
       "      <td>Obesidade grau 2</td>\n",
       "    </tr>\n",
       "    <tr>\n",
       "      <th>3</th>\n",
       "      <td>132548</td>\n",
       "      <td>1.626</td>\n",
       "      <td>87.0</td>\n",
       "      <td>32.906233</td>\n",
       "      <td>Obesidade grau 1</td>\n",
       "    </tr>\n",
       "    <tr>\n",
       "      <th>4</th>\n",
       "      <td>132551</td>\n",
       "      <td>1.626</td>\n",
       "      <td>48.4</td>\n",
       "      <td>18.306456</td>\n",
       "      <td>Baixo peso</td>\n",
       "    </tr>\n",
       "  </tbody>\n",
       "</table>\n",
       "</div>"
      ],
      "text/plain": [
       "   RecordID  Height  Weight        BMI     Classificacao\n",
       "0    132540   1.753    76.0  24.731460       Peso normal\n",
       "1    132543   1.803    84.6  26.024291         Sobrepeso\n",
       "2    132547   1.803   114.0  35.068194  Obesidade grau 2\n",
       "3    132548   1.626    87.0  32.906233  Obesidade grau 1\n",
       "4    132551   1.626    48.4  18.306456        Baixo peso"
      ]
     },
     "execution_count": 19,
     "metadata": {},
     "output_type": "execute_result"
    }
   ],
   "source": [
    "bmi_data_train = pd.DataFrame(columns=['RecordID', 'Height', 'Weight', 'BMI', 'Classificacao'])\n",
    "bmi_data_train[\"RecordID\"] = height_uniques_train[\"RecordID\"]\n",
    "bmi_data_train[\"Height\"] = height_uniques_train[\"Height\"]\n",
    "bmi_data_train[\"Weight\"] = weight_uniques_train[\"Weight\"]\n",
    "bmi_data_train[\"BMI\"] = weight_uniques_train[\"Weight\"] / (height_uniques_train[\"Height\"] ** 2)\n",
    "bmi_data_train[\"Classificacao\"] = bmi_data_train[\"BMI\"].apply(classify_BMI)\n",
    "bmi_data_train.head()\n",
    "# Creating a new DataFrame to store relevant data\n",
    "#bmi_data = filtered_train_X[['RecordID', 'Height', 'Weight', 'BMI']].reset_index(drop=True)\n",
    "\n",
    "#bmi_data = pd.concat([height_uniques_train['RecordID'], height_uniques_train['Height'], weight_uniques_train['Weight']], sort=True)\n",
    "#bmi_data = pd.merge(height_uniques_train[['RecordID', 'Height']], weight_uniques_train[['RecordID', 'Weight']], on='RecordID')\n",
    "#bmi_data.head()\n",
    "# bmi_data['BMI'] = weight_uniques_train['Weight'] / (height_uniques_train['Height'] ** 2)\n"
   ]
  },
  {
   "cell_type": "markdown",
   "metadata": {},
   "source": [
    "<h3>Percentage of BMI classification groups</h3>"
   ]
  },
  {
   "cell_type": "code",
   "execution_count": 124,
   "metadata": {},
   "outputs": [],
   "source": [
    "percentage_bmi_train= bmi_data_train[\"Classificacao\"].value_counts(normalize=True) * 100"
   ]
  },
  {
   "cell_type": "code",
   "execution_count": 130,
   "metadata": {},
   "outputs": [
    {
     "data": {
      "text/plain": [
       "Classificacao\n",
       "Sobrepeso           33.682596\n",
       "Peso normal         30.053667\n",
       "Obesidade grau 1    18.374649\n",
       "Obesidade grau 2     7.794531\n",
       "Obesidade grau 3     6.900077\n",
       "Baixo peso           3.194480\n",
       "Name: proportion, dtype: float64"
      ]
     },
     "execution_count": 130,
     "metadata": {},
     "output_type": "execute_result"
    }
   ],
   "source": [
    "percentage_bmi_train"
   ]
  },
  {
   "cell_type": "markdown",
   "metadata": {},
   "source": [
    "<h2>Validation data</h2>"
   ]
  },
  {
   "cell_type": "markdown",
   "metadata": {},
   "source": [
    "<h3>Loading validation dataset </h3>"
   ]
  },
  {
   "cell_type": "code",
   "execution_count": 21,
   "metadata": {},
   "outputs": [],
   "source": [
    "validation_X = physionet2012_dataset['val_X']"
   ]
  },
  {
   "cell_type": "markdown",
   "metadata": {},
   "source": [
    "<h3>Divided into subgroups by gender and showing the percentage</h3>"
   ]
  },
  {
   "cell_type": "code",
   "execution_count": 22,
   "metadata": {},
   "outputs": [
    {
     "data": {
      "text/plain": [
       "Gender\n",
       " 1.0    56.882169\n",
       " 0.0    43.013556\n",
       "-1.0     0.104275\n",
       "Name: proportion, dtype: float64"
      ]
     },
     "execution_count": 22,
     "metadata": {},
     "output_type": "execute_result"
    }
   ],
   "source": [
    "distribution_gender_validation = validation_X['Gender'].value_counts(normalize=True) * 100\n",
    "distribution_gender_validation # 0: female, or 1: male"
   ]
  },
  {
   "cell_type": "markdown",
   "metadata": {},
   "source": [
    "<h3>Divided into subgroups by ICUType and showing the percentage</h3>"
   ]
  },
  {
   "cell_type": "code",
   "execution_count": 23,
   "metadata": {},
   "outputs": [
    {
     "data": {
      "text/plain": [
       "ICUType\n",
       "3.0    34.567258\n",
       "4.0    29.822732\n",
       "2.0    21.584984\n",
       "1.0    14.025026\n",
       "Name: proportion, dtype: float64"
      ]
     },
     "execution_count": 23,
     "metadata": {},
     "output_type": "execute_result"
    }
   ],
   "source": [
    "distribution_ICUType_validation = validation_X['ICUType'].value_counts(normalize=True) * 100\n",
    "distribution_ICUType_validation"
   ]
  },
  {
   "cell_type": "markdown",
   "metadata": {},
   "source": [
    "<h3>Filtering only one age per patient</h3>"
   ]
  },
  {
   "cell_type": "code",
   "execution_count": 24,
   "metadata": {},
   "outputs": [
    {
     "data": {
      "text/html": [
       "<div>\n",
       "<style scoped>\n",
       "    .dataframe tbody tr th:only-of-type {\n",
       "        vertical-align: middle;\n",
       "    }\n",
       "\n",
       "    .dataframe tbody tr th {\n",
       "        vertical-align: top;\n",
       "    }\n",
       "\n",
       "    .dataframe thead th {\n",
       "        text-align: right;\n",
       "    }\n",
       "</style>\n",
       "<table border=\"1\" class=\"dataframe\">\n",
       "  <thead>\n",
       "    <tr style=\"text-align: right;\">\n",
       "      <th></th>\n",
       "      <th>RecordID</th>\n",
       "      <th>Age</th>\n",
       "    </tr>\n",
       "  </thead>\n",
       "  <tbody>\n",
       "    <tr>\n",
       "      <th>0</th>\n",
       "      <td>132554</td>\n",
       "      <td>64.0</td>\n",
       "    </tr>\n",
       "    <tr>\n",
       "      <th>1</th>\n",
       "      <td>132556</td>\n",
       "      <td>64.0</td>\n",
       "    </tr>\n",
       "    <tr>\n",
       "      <th>2</th>\n",
       "      <td>132575</td>\n",
       "      <td>78.0</td>\n",
       "    </tr>\n",
       "    <tr>\n",
       "      <th>3</th>\n",
       "      <td>132577</td>\n",
       "      <td>65.0</td>\n",
       "    </tr>\n",
       "    <tr>\n",
       "      <th>4</th>\n",
       "      <td>132622</td>\n",
       "      <td>71.0</td>\n",
       "    </tr>\n",
       "  </tbody>\n",
       "</table>\n",
       "</div>"
      ],
      "text/plain": [
       "   RecordID   Age\n",
       "0    132554  64.0\n",
       "1    132556  64.0\n",
       "2    132575  78.0\n",
       "3    132577  65.0\n",
       "4    132622  71.0"
      ]
     },
     "execution_count": 24,
     "metadata": {},
     "output_type": "execute_result"
    }
   ],
   "source": [
    "age_uniques_validation = validation_X.groupby('RecordID')['Age'].first().reset_index()\n",
    "age_uniques_validation.head()"
   ]
  },
  {
   "cell_type": "markdown",
   "metadata": {},
   "source": [
    "<h3>Showing total occurrences of age</h3>"
   ]
  },
  {
   "cell_type": "code",
   "execution_count": 25,
   "metadata": {},
   "outputs": [
    {
     "data": {
      "text/plain": [
       "RecordID    1918\n",
       "Age         1918\n",
       "dtype: int64"
      ]
     },
     "execution_count": 25,
     "metadata": {},
     "output_type": "execute_result"
    }
   ],
   "source": [
    "age_uniques_validation.count()"
   ]
  },
  {
   "cell_type": "markdown",
   "metadata": {},
   "source": [
    "<h3>Dividing age into subgroup of people aged 65+</h3>"
   ]
  },
  {
   "cell_type": "code",
   "execution_count": 26,
   "metadata": {},
   "outputs": [
    {
     "data": {
      "text/plain": [
       "RecordID    54.744526\n",
       "Age         54.744526\n",
       "dtype: float64"
      ]
     },
     "execution_count": 26,
     "metadata": {},
     "output_type": "execute_result"
    }
   ],
   "source": [
    "more_than_or_equal_to_65_validation = age_uniques_validation[age_uniques_validation['Age'] >= 65]\n",
    "percentage_group_one_validation = (more_than_or_equal_to_65_validation.count() / age_uniques_validation.count())*100\n",
    "percentage_group_one_validation"
   ]
  },
  {
   "cell_type": "markdown",
   "metadata": {},
   "source": [
    "<h3>Dividing age into subgroup of people under 65 years of age</h3>"
   ]
  },
  {
   "cell_type": "code",
   "execution_count": 148,
   "metadata": {},
   "outputs": [
    {
     "data": {
      "text/plain": [
       "RecordID    45.255474\n",
       "Age         45.255474\n",
       "dtype: float64"
      ]
     },
     "execution_count": 148,
     "metadata": {},
     "output_type": "execute_result"
    }
   ],
   "source": [
    "less_than_65 = age_uniques_validation[age_uniques_validation['Age'] < 65]\n",
    "# less_than_65 = train_X[train_X['Age'] < 65] \n",
    "#distribution_age_group_two = less_than_65['Age'].value_counts(normalize=True) * 100\n",
    "#distribution_age_group_two\n",
    "\n",
    "# age_uniques_less_than_65 = less_than_65.groupby('RecordID')['Age'].first().reset_index()\n",
    "percentage_group_two_validation = (less_than_65.count() / age_uniques_validation.count()) * 100\n",
    "percentage_group_two_validation"
   ]
  },
  {
   "cell_type": "markdown",
   "metadata": {},
   "source": [
    "<h3>Filtering only one height and one weight per patient</h3>"
   ]
  },
  {
   "cell_type": "code",
   "execution_count": 27,
   "metadata": {},
   "outputs": [],
   "source": [
    "filtered_validation_X = validation_X[(validation_X['Height'] != -1) & (validation_X['Weight'] != -1) & (validation_X['Height'].notna()) & (validation_X['Weight'].notna())] "
   ]
  },
  {
   "cell_type": "code",
   "execution_count": 28,
   "metadata": {},
   "outputs": [
    {
     "data": {
      "text/html": [
       "<div>\n",
       "<style scoped>\n",
       "    .dataframe tbody tr th:only-of-type {\n",
       "        vertical-align: middle;\n",
       "    }\n",
       "\n",
       "    .dataframe tbody tr th {\n",
       "        vertical-align: top;\n",
       "    }\n",
       "\n",
       "    .dataframe thead th {\n",
       "        text-align: right;\n",
       "    }\n",
       "</style>\n",
       "<table border=\"1\" class=\"dataframe\">\n",
       "  <thead>\n",
       "    <tr style=\"text-align: right;\">\n",
       "      <th></th>\n",
       "      <th>RecordID</th>\n",
       "      <th>Height</th>\n",
       "    </tr>\n",
       "  </thead>\n",
       "  <tbody>\n",
       "    <tr>\n",
       "      <th>0</th>\n",
       "      <td>132575</td>\n",
       "      <td>167.6</td>\n",
       "    </tr>\n",
       "    <tr>\n",
       "      <th>1</th>\n",
       "      <td>132622</td>\n",
       "      <td>160.0</td>\n",
       "    </tr>\n",
       "    <tr>\n",
       "      <th>2</th>\n",
       "      <td>132662</td>\n",
       "      <td>172.7</td>\n",
       "    </tr>\n",
       "    <tr>\n",
       "      <th>3</th>\n",
       "      <td>132685</td>\n",
       "      <td>172.7</td>\n",
       "    </tr>\n",
       "    <tr>\n",
       "      <th>4</th>\n",
       "      <td>132781</td>\n",
       "      <td>177.8</td>\n",
       "    </tr>\n",
       "  </tbody>\n",
       "</table>\n",
       "</div>"
      ],
      "text/plain": [
       "   RecordID  Height\n",
       "0    132575   167.6\n",
       "1    132622   160.0\n",
       "2    132662   172.7\n",
       "3    132685   172.7\n",
       "4    132781   177.8"
      ]
     },
     "execution_count": 28,
     "metadata": {},
     "output_type": "execute_result"
    }
   ],
   "source": [
    "height_uniques_validation = filtered_validation_X.groupby('RecordID')['Height'].first().reset_index() \n",
    "height_uniques_validation.head()"
   ]
  },
  {
   "cell_type": "code",
   "execution_count": 29,
   "metadata": {},
   "outputs": [
    {
     "data": {
      "text/html": [
       "<div>\n",
       "<style scoped>\n",
       "    .dataframe tbody tr th:only-of-type {\n",
       "        vertical-align: middle;\n",
       "    }\n",
       "\n",
       "    .dataframe tbody tr th {\n",
       "        vertical-align: top;\n",
       "    }\n",
       "\n",
       "    .dataframe thead th {\n",
       "        text-align: right;\n",
       "    }\n",
       "</style>\n",
       "<table border=\"1\" class=\"dataframe\">\n",
       "  <thead>\n",
       "    <tr style=\"text-align: right;\">\n",
       "      <th></th>\n",
       "      <th>RecordID</th>\n",
       "      <th>Weight</th>\n",
       "    </tr>\n",
       "  </thead>\n",
       "  <tbody>\n",
       "    <tr>\n",
       "      <th>0</th>\n",
       "      <td>132575</td>\n",
       "      <td>63.0</td>\n",
       "    </tr>\n",
       "    <tr>\n",
       "      <th>1</th>\n",
       "      <td>132622</td>\n",
       "      <td>79.0</td>\n",
       "    </tr>\n",
       "    <tr>\n",
       "      <th>2</th>\n",
       "      <td>132662</td>\n",
       "      <td>77.0</td>\n",
       "    </tr>\n",
       "    <tr>\n",
       "      <th>3</th>\n",
       "      <td>132685</td>\n",
       "      <td>81.8</td>\n",
       "    </tr>\n",
       "    <tr>\n",
       "      <th>4</th>\n",
       "      <td>132781</td>\n",
       "      <td>96.0</td>\n",
       "    </tr>\n",
       "  </tbody>\n",
       "</table>\n",
       "</div>"
      ],
      "text/plain": [
       "   RecordID  Weight\n",
       "0    132575    63.0\n",
       "1    132622    79.0\n",
       "2    132662    77.0\n",
       "3    132685    81.8\n",
       "4    132781    96.0"
      ]
     },
     "execution_count": 29,
     "metadata": {},
     "output_type": "execute_result"
    }
   ],
   "source": [
    "weight_uniques_validation = filtered_validation_X.groupby('RecordID')['Weight'].first().reset_index() \n",
    "weight_uniques_validation.head()"
   ]
  },
  {
   "cell_type": "code",
   "execution_count": 30,
   "metadata": {},
   "outputs": [],
   "source": [
    "height_uniques_validation['Height'] = height_uniques_validation['Height'] / 100 # Converting Height from cm to meters"
   ]
  },
  {
   "cell_type": "code",
   "execution_count": 31,
   "metadata": {},
   "outputs": [
    {
     "data": {
      "text/html": [
       "<div>\n",
       "<style scoped>\n",
       "    .dataframe tbody tr th:only-of-type {\n",
       "        vertical-align: middle;\n",
       "    }\n",
       "\n",
       "    .dataframe tbody tr th {\n",
       "        vertical-align: top;\n",
       "    }\n",
       "\n",
       "    .dataframe thead th {\n",
       "        text-align: right;\n",
       "    }\n",
       "</style>\n",
       "<table border=\"1\" class=\"dataframe\">\n",
       "  <thead>\n",
       "    <tr style=\"text-align: right;\">\n",
       "      <th></th>\n",
       "      <th>RecordID</th>\n",
       "      <th>Height</th>\n",
       "      <th>Weight</th>\n",
       "      <th>BMI</th>\n",
       "      <th>Classificacao</th>\n",
       "    </tr>\n",
       "  </thead>\n",
       "  <tbody>\n",
       "    <tr>\n",
       "      <th>0</th>\n",
       "      <td>132575</td>\n",
       "      <td>1.676</td>\n",
       "      <td>63.0</td>\n",
       "      <td>22.428102</td>\n",
       "      <td>Peso normal</td>\n",
       "    </tr>\n",
       "    <tr>\n",
       "      <th>1</th>\n",
       "      <td>132622</td>\n",
       "      <td>1.600</td>\n",
       "      <td>79.0</td>\n",
       "      <td>30.859375</td>\n",
       "      <td>Obesidade grau 1</td>\n",
       "    </tr>\n",
       "    <tr>\n",
       "      <th>2</th>\n",
       "      <td>132662</td>\n",
       "      <td>1.727</td>\n",
       "      <td>77.0</td>\n",
       "      <td>25.817016</td>\n",
       "      <td>Sobrepeso</td>\n",
       "    </tr>\n",
       "    <tr>\n",
       "      <th>3</th>\n",
       "      <td>132685</td>\n",
       "      <td>1.727</td>\n",
       "      <td>81.8</td>\n",
       "      <td>27.426389</td>\n",
       "      <td>Sobrepeso</td>\n",
       "    </tr>\n",
       "    <tr>\n",
       "      <th>4</th>\n",
       "      <td>132781</td>\n",
       "      <td>1.778</td>\n",
       "      <td>96.0</td>\n",
       "      <td>30.367408</td>\n",
       "      <td>Obesidade grau 1</td>\n",
       "    </tr>\n",
       "  </tbody>\n",
       "</table>\n",
       "</div>"
      ],
      "text/plain": [
       "   RecordID  Height  Weight        BMI     Classificacao\n",
       "0    132575   1.676    63.0  22.428102       Peso normal\n",
       "1    132622   1.600    79.0  30.859375  Obesidade grau 1\n",
       "2    132662   1.727    77.0  25.817016         Sobrepeso\n",
       "3    132685   1.727    81.8  27.426389         Sobrepeso\n",
       "4    132781   1.778    96.0  30.367408  Obesidade grau 1"
      ]
     },
     "execution_count": 31,
     "metadata": {},
     "output_type": "execute_result"
    }
   ],
   "source": [
    "bmi_data_validation = pd.DataFrame(columns=['RecordID', 'Height', 'Weight', 'BMI', 'Classificacao'])\n",
    "bmi_data_validation[\"RecordID\"] = height_uniques_validation[\"RecordID\"]\n",
    "bmi_data_validation[\"Height\"] = height_uniques_validation[\"Height\"]\n",
    "bmi_data_validation[\"Weight\"] = weight_uniques_validation[\"Weight\"]\n",
    "bmi_data_validation[\"BMI\"] = weight_uniques_validation[\"Weight\"] / (height_uniques_validation[\"Height\"] ** 2)\n",
    "bmi_data_validation[\"Classificacao\"] = bmi_data_validation[\"BMI\"].apply(classify_BMI)\n",
    "bmi_data_validation.head()"
   ]
  },
  {
   "cell_type": "markdown",
   "metadata": {},
   "source": [
    "<h3>Percentage of BMI classification groups</h3>"
   ]
  },
  {
   "cell_type": "code",
   "execution_count": null,
   "metadata": {},
   "outputs": [],
   "source": [
    "percentage_bmi_validation = bmi_data_validation[\"Classificacao\"].value_counts(normalize=True) * 100"
   ]
  },
  {
   "cell_type": "markdown",
   "metadata": {},
   "source": [
    "<h2>Test data</h2>"
   ]
  },
  {
   "cell_type": "code",
   "execution_count": 33,
   "metadata": {},
   "outputs": [],
   "source": [
    "test_X = physionet2012_dataset['test_X']"
   ]
  },
  {
   "cell_type": "markdown",
   "metadata": {},
   "source": [
    "<h3>Divided into subgroups by gender and showing the percentage</h3>\n"
   ]
  },
  {
   "cell_type": "code",
   "execution_count": 34,
   "metadata": {},
   "outputs": [
    {
     "data": {
      "text/plain": [
       "Gender\n",
       " 1.0    56.982076\n",
       " 0.0    42.851188\n",
       "-1.0     0.166736\n",
       "Name: proportion, dtype: float64"
      ]
     },
     "execution_count": 34,
     "metadata": {},
     "output_type": "execute_result"
    }
   ],
   "source": [
    "distribution_gender_test = test_X['Gender'].value_counts(normalize=True) * 100\n",
    "distribution_gender_test # 0: female, or 1: male"
   ]
  },
  {
   "cell_type": "markdown",
   "metadata": {},
   "source": [
    "<h3>Divided into subgroups by ICUType and showing the percentage</h3>\n"
   ]
  },
  {
   "cell_type": "code",
   "execution_count": 35,
   "metadata": {},
   "outputs": [
    {
     "data": {
      "text/plain": [
       "ICUType\n",
       "3.0    35.473114\n",
       "4.0    28.470196\n",
       "2.0    21.884118\n",
       "1.0    14.172572\n",
       "Name: proportion, dtype: float64"
      ]
     },
     "execution_count": 35,
     "metadata": {},
     "output_type": "execute_result"
    }
   ],
   "source": [
    "distribution_ICUType_test= test_X['ICUType'].value_counts(normalize=True) * 100\n",
    "distribution_ICUType_test"
   ]
  },
  {
   "cell_type": "markdown",
   "metadata": {},
   "source": [
    "<h3>Filtering only one age per patient</h3>\n"
   ]
  },
  {
   "cell_type": "code",
   "execution_count": 36,
   "metadata": {},
   "outputs": [
    {
     "data": {
      "text/html": [
       "<div>\n",
       "<style scoped>\n",
       "    .dataframe tbody tr th:only-of-type {\n",
       "        vertical-align: middle;\n",
       "    }\n",
       "\n",
       "    .dataframe tbody tr th {\n",
       "        vertical-align: top;\n",
       "    }\n",
       "\n",
       "    .dataframe thead th {\n",
       "        text-align: right;\n",
       "    }\n",
       "</style>\n",
       "<table border=\"1\" class=\"dataframe\">\n",
       "  <thead>\n",
       "    <tr style=\"text-align: right;\">\n",
       "      <th></th>\n",
       "      <th>RecordID</th>\n",
       "      <th>Age</th>\n",
       "    </tr>\n",
       "  </thead>\n",
       "  <tbody>\n",
       "    <tr>\n",
       "      <th>0</th>\n",
       "      <td>132570</td>\n",
       "      <td>84.0</td>\n",
       "    </tr>\n",
       "    <tr>\n",
       "      <th>1</th>\n",
       "      <td>132585</td>\n",
       "      <td>40.0</td>\n",
       "    </tr>\n",
       "    <tr>\n",
       "      <th>2</th>\n",
       "      <td>132599</td>\n",
       "      <td>53.0</td>\n",
       "    </tr>\n",
       "    <tr>\n",
       "      <th>3</th>\n",
       "      <td>132610</td>\n",
       "      <td>72.0</td>\n",
       "    </tr>\n",
       "    <tr>\n",
       "      <th>4</th>\n",
       "      <td>132639</td>\n",
       "      <td>73.0</td>\n",
       "    </tr>\n",
       "  </tbody>\n",
       "</table>\n",
       "</div>"
      ],
      "text/plain": [
       "   RecordID   Age\n",
       "0    132570  84.0\n",
       "1    132585  40.0\n",
       "2    132599  53.0\n",
       "3    132610  72.0\n",
       "4    132639  73.0"
      ]
     },
     "execution_count": 36,
     "metadata": {},
     "output_type": "execute_result"
    }
   ],
   "source": [
    "age_uniques_test = test_X.groupby('RecordID')['Age'].first().reset_index()\n",
    "age_uniques_test.head()"
   ]
  },
  {
   "cell_type": "markdown",
   "metadata": {},
   "source": [
    "<h3>Showing total occurrences of age</h3>"
   ]
  },
  {
   "cell_type": "code",
   "execution_count": 37,
   "metadata": {},
   "outputs": [
    {
     "data": {
      "text/plain": [
       "RecordID    2399\n",
       "Age         2399\n",
       "dtype: int64"
      ]
     },
     "execution_count": 37,
     "metadata": {},
     "output_type": "execute_result"
    }
   ],
   "source": [
    "age_uniques_test.count()"
   ]
  },
  {
   "cell_type": "markdown",
   "metadata": {},
   "source": [
    "<h3>Dividing age into subgroup of people aged 65+</h3>\n"
   ]
  },
  {
   "cell_type": "code",
   "execution_count": 38,
   "metadata": {},
   "outputs": [
    {
     "data": {
      "text/plain": [
       "RecordID    54.606086\n",
       "Age         54.606086\n",
       "dtype: float64"
      ]
     },
     "execution_count": 38,
     "metadata": {},
     "output_type": "execute_result"
    }
   ],
   "source": [
    "more_than_or_equal_to_65_test = age_uniques_test[age_uniques_test['Age'] >= 65]\n",
    "# more_than_or_equal_to_65 = train_X[train_X['Age'] >= 65] \n",
    "#distribution_age_group_one = more_than_or_equal_to_65['Age'].count() \n",
    "#distribution_age_group_one\n",
    "# age_uniques_more_than_or_equal_to_65 = more_than_or_equal_to_65.groupby('RecordID')['Age'].first().reset_index()\n",
    "percentage_group_one_test = (more_than_or_equal_to_65_test.count() / age_uniques_test.count())*100\n",
    "percentage_group_one_test"
   ]
  },
  {
   "cell_type": "markdown",
   "metadata": {},
   "source": [
    "<h3>Dividing age into subgroup of people under 65 years of age</h3>\n"
   ]
  },
  {
   "cell_type": "code",
   "execution_count": 39,
   "metadata": {},
   "outputs": [
    {
     "data": {
      "text/plain": [
       "RecordID    45.393914\n",
       "Age         45.393914\n",
       "dtype: float64"
      ]
     },
     "execution_count": 39,
     "metadata": {},
     "output_type": "execute_result"
    }
   ],
   "source": [
    "less_than_65_test = age_uniques_test[age_uniques_test['Age'] < 65]\n",
    "# less_than_65 = train_X[train_X['Age'] < 65] \n",
    "#distribution_age_group_two = less_than_65['Age'].value_counts(normalize=True) * 100\n",
    "#distribution_age_group_two\n",
    "\n",
    "# age_uniques_less_than_65 = less_than_65.groupby('RecordID')['Age'].first().reset_index()\n",
    "percentage_group_two_test = (less_than_65_test.count() / age_uniques_test.count()) * 100\n",
    "percentage_group_two_test"
   ]
  },
  {
   "cell_type": "markdown",
   "metadata": {},
   "source": [
    "<h3>Filtering only one height and one weight per patient</h3>\n"
   ]
  },
  {
   "cell_type": "code",
   "execution_count": 40,
   "metadata": {},
   "outputs": [],
   "source": [
    "filtered_test_X = test_X[(test_X['Height'] != -1) & (test_X['Weight'] != -1) & (test_X['Height'].notna()) & (test_X['Weight'].notna())] "
   ]
  },
  {
   "cell_type": "code",
   "execution_count": 41,
   "metadata": {},
   "outputs": [
    {
     "data": {
      "text/html": [
       "<div>\n",
       "<style scoped>\n",
       "    .dataframe tbody tr th:only-of-type {\n",
       "        vertical-align: middle;\n",
       "    }\n",
       "\n",
       "    .dataframe tbody tr th {\n",
       "        vertical-align: top;\n",
       "    }\n",
       "\n",
       "    .dataframe thead th {\n",
       "        text-align: right;\n",
       "    }\n",
       "</style>\n",
       "<table border=\"1\" class=\"dataframe\">\n",
       "  <thead>\n",
       "    <tr style=\"text-align: right;\">\n",
       "      <th></th>\n",
       "      <th>RecordID</th>\n",
       "      <th>Height</th>\n",
       "    </tr>\n",
       "  </thead>\n",
       "  <tbody>\n",
       "    <tr>\n",
       "      <th>0</th>\n",
       "      <td>132570</td>\n",
       "      <td>170.2</td>\n",
       "    </tr>\n",
       "    <tr>\n",
       "      <th>1</th>\n",
       "      <td>132585</td>\n",
       "      <td>165.1</td>\n",
       "    </tr>\n",
       "    <tr>\n",
       "      <th>2</th>\n",
       "      <td>132599</td>\n",
       "      <td>177.8</td>\n",
       "    </tr>\n",
       "    <tr>\n",
       "      <th>3</th>\n",
       "      <td>132610</td>\n",
       "      <td>172.9</td>\n",
       "    </tr>\n",
       "    <tr>\n",
       "      <th>4</th>\n",
       "      <td>132639</td>\n",
       "      <td>180.3</td>\n",
       "    </tr>\n",
       "  </tbody>\n",
       "</table>\n",
       "</div>"
      ],
      "text/plain": [
       "   RecordID  Height\n",
       "0    132570   170.2\n",
       "1    132585   165.1\n",
       "2    132599   177.8\n",
       "3    132610   172.9\n",
       "4    132639   180.3"
      ]
     },
     "execution_count": 41,
     "metadata": {},
     "output_type": "execute_result"
    }
   ],
   "source": [
    "height_uniques_test = filtered_test_X.groupby('RecordID')['Height'].first().reset_index() \n",
    "height_uniques_test.head()"
   ]
  },
  {
   "cell_type": "code",
   "execution_count": 42,
   "metadata": {},
   "outputs": [
    {
     "data": {
      "text/html": [
       "<div>\n",
       "<style scoped>\n",
       "    .dataframe tbody tr th:only-of-type {\n",
       "        vertical-align: middle;\n",
       "    }\n",
       "\n",
       "    .dataframe tbody tr th {\n",
       "        vertical-align: top;\n",
       "    }\n",
       "\n",
       "    .dataframe thead th {\n",
       "        text-align: right;\n",
       "    }\n",
       "</style>\n",
       "<table border=\"1\" class=\"dataframe\">\n",
       "  <thead>\n",
       "    <tr style=\"text-align: right;\">\n",
       "      <th></th>\n",
       "      <th>RecordID</th>\n",
       "      <th>Weight</th>\n",
       "    </tr>\n",
       "  </thead>\n",
       "  <tbody>\n",
       "    <tr>\n",
       "      <th>0</th>\n",
       "      <td>132570</td>\n",
       "      <td>102.60</td>\n",
       "    </tr>\n",
       "    <tr>\n",
       "      <th>1</th>\n",
       "      <td>132585</td>\n",
       "      <td>84.70</td>\n",
       "    </tr>\n",
       "    <tr>\n",
       "      <th>2</th>\n",
       "      <td>132599</td>\n",
       "      <td>73.50</td>\n",
       "    </tr>\n",
       "    <tr>\n",
       "      <th>3</th>\n",
       "      <td>132610</td>\n",
       "      <td>72.26</td>\n",
       "    </tr>\n",
       "    <tr>\n",
       "      <th>4</th>\n",
       "      <td>132639</td>\n",
       "      <td>96.30</td>\n",
       "    </tr>\n",
       "  </tbody>\n",
       "</table>\n",
       "</div>"
      ],
      "text/plain": [
       "   RecordID  Weight\n",
       "0    132570  102.60\n",
       "1    132585   84.70\n",
       "2    132599   73.50\n",
       "3    132610   72.26\n",
       "4    132639   96.30"
      ]
     },
     "execution_count": 42,
     "metadata": {},
     "output_type": "execute_result"
    }
   ],
   "source": [
    "weight_uniques_test = filtered_test_X.groupby('RecordID')['Weight'].first().reset_index() \n",
    "weight_uniques_test.head()"
   ]
  },
  {
   "cell_type": "markdown",
   "metadata": {},
   "source": [
    "<h3>Calculate the BMI</h3>\n"
   ]
  },
  {
   "cell_type": "code",
   "execution_count": 43,
   "metadata": {},
   "outputs": [],
   "source": [
    "height_uniques_test['Height'] = height_uniques_test['Height'] / 100 # Converting Height from cm to meters"
   ]
  },
  {
   "cell_type": "code",
   "execution_count": 44,
   "metadata": {},
   "outputs": [
    {
     "data": {
      "text/html": [
       "<div>\n",
       "<style scoped>\n",
       "    .dataframe tbody tr th:only-of-type {\n",
       "        vertical-align: middle;\n",
       "    }\n",
       "\n",
       "    .dataframe tbody tr th {\n",
       "        vertical-align: top;\n",
       "    }\n",
       "\n",
       "    .dataframe thead th {\n",
       "        text-align: right;\n",
       "    }\n",
       "</style>\n",
       "<table border=\"1\" class=\"dataframe\">\n",
       "  <thead>\n",
       "    <tr style=\"text-align: right;\">\n",
       "      <th></th>\n",
       "      <th>RecordID</th>\n",
       "      <th>Height</th>\n",
       "      <th>Weight</th>\n",
       "      <th>BMI</th>\n",
       "      <th>Classificacao</th>\n",
       "    </tr>\n",
       "  </thead>\n",
       "  <tbody>\n",
       "    <tr>\n",
       "      <th>0</th>\n",
       "      <td>132570</td>\n",
       "      <td>1.702</td>\n",
       "      <td>102.60</td>\n",
       "      <td>35.418344</td>\n",
       "      <td>Obesidade grau 2</td>\n",
       "    </tr>\n",
       "    <tr>\n",
       "      <th>1</th>\n",
       "      <td>132585</td>\n",
       "      <td>1.651</td>\n",
       "      <td>84.70</td>\n",
       "      <td>31.073435</td>\n",
       "      <td>Obesidade grau 1</td>\n",
       "    </tr>\n",
       "    <tr>\n",
       "      <th>2</th>\n",
       "      <td>132599</td>\n",
       "      <td>1.778</td>\n",
       "      <td>73.50</td>\n",
       "      <td>23.250047</td>\n",
       "      <td>Peso normal</td>\n",
       "    </tr>\n",
       "    <tr>\n",
       "      <th>3</th>\n",
       "      <td>132610</td>\n",
       "      <td>1.729</td>\n",
       "      <td>72.26</td>\n",
       "      <td>24.171743</td>\n",
       "      <td>Peso normal</td>\n",
       "    </tr>\n",
       "    <tr>\n",
       "      <th>4</th>\n",
       "      <td>132639</td>\n",
       "      <td>1.803</td>\n",
       "      <td>96.30</td>\n",
       "      <td>29.623395</td>\n",
       "      <td>Sobrepeso</td>\n",
       "    </tr>\n",
       "  </tbody>\n",
       "</table>\n",
       "</div>"
      ],
      "text/plain": [
       "   RecordID  Height  Weight        BMI     Classificacao\n",
       "0    132570   1.702  102.60  35.418344  Obesidade grau 2\n",
       "1    132585   1.651   84.70  31.073435  Obesidade grau 1\n",
       "2    132599   1.778   73.50  23.250047       Peso normal\n",
       "3    132610   1.729   72.26  24.171743       Peso normal\n",
       "4    132639   1.803   96.30  29.623395         Sobrepeso"
      ]
     },
     "execution_count": 44,
     "metadata": {},
     "output_type": "execute_result"
    }
   ],
   "source": [
    "bmi_data_test = pd.DataFrame(columns=['RecordID', 'Height', 'Weight', 'BMI', 'Classificacao'])\n",
    "bmi_data_test[\"RecordID\"] = height_uniques_test[\"RecordID\"]\n",
    "bmi_data_test[\"Height\"] = height_uniques_test[\"Height\"]\n",
    "bmi_data_test[\"Weight\"] = weight_uniques_test[\"Weight\"]\n",
    "bmi_data_test[\"BMI\"] = weight_uniques_test[\"Weight\"] / (height_uniques_test[\"Height\"] ** 2)\n",
    "bmi_data_test[\"Classificacao\"] = bmi_data_test[\"BMI\"].apply(classify_BMI)\n",
    "bmi_data_test.head()\n",
    "# Creating a new DataFrame to store relevant data\n",
    "#bmi_data = filtered_train_X[['RecordID', 'Height', 'Weight', 'BMI']].reset_index(drop=True)\n",
    "\n",
    "#bmi_data = pd.concat([height_uniques_train['RecordID'], height_uniques_train['Height'], weight_uniques_train['Weight']], sort=True)\n",
    "#bmi_data = pd.merge(height_uniques_train[['RecordID', 'Height']], weight_uniques_train[['RecordID', 'Weight']], on='RecordID')\n",
    "#bmi_data.head()\n",
    "# bmi_data['BMI'] = weight_uniques_train['Weight'] / (height_uniques_train['Height'] ** 2)\n"
   ]
  },
  {
   "cell_type": "markdown",
   "metadata": {},
   "source": [
    "<h3>Percentage of BMI classification groups</h3>"
   ]
  },
  {
   "cell_type": "code",
   "execution_count": 141,
   "metadata": {},
   "outputs": [],
   "source": [
    "percentage_bmi_test = bmi_data_test[\"Classificacao\"].value_counts(normalize=True) * 100\n"
   ]
  },
  {
   "cell_type": "code",
   "execution_count": 92,
   "metadata": {},
   "outputs": [],
   "source": [
    "subgroups = [(\"Female\"), (\"Male\"), (\"ICUType 1\"), (\"ICUType 2\"), (\"ICUType 3\"), (\"ICUType 4\"),\n",
    "    (\"Age 65+\"), (\"Age 65-\"), (\"Baixo Peso\"), (\"Peso normal\"), (\"Sobrepeso\"),\n",
    "    (\"Obesidade grau 1\"), (\"Obesidade grau 2\"), (\"Obesidade grau 3\")\n",
    "]\n",
    "\n",
    "df_subgroups = pd.DataFrame(subgroups, columns=[\"Subgroups\"])"
   ]
  },
  {
   "cell_type": "code",
   "execution_count": 138,
   "metadata": {},
   "outputs": [],
   "source": [
    "train_subgroups = [\n",
    "    (distribution_gender_training[0]), (distribution_gender_training[1]), (distribution_ICUType_training[1]), (distribution_ICUType_training[2]),\n",
    "    (distribution_ICUType_training[3]), (distribution_ICUType_training[4]), (percentage_group_one_train[\"Age\"]), (percentage_group_two_train[\"Age\"]),\n",
    "    (percentage_bmi_train[\"Baixo peso\"]), (percentage_bmi_train[\"Peso normal\"]), (percentage_bmi_train[\"Sobrepeso\"]), (percentage_bmi_train[\"Obesidade grau 1\"]),\n",
    "    (percentage_bmi_train[\"Obesidade grau 2\"]), (percentage_bmi_train[\"Obesidade grau 3\"])\n",
    "]\n",
    "\n",
    "df_train_subgroups = pd.DataFrame(train_subgroups, columns=[\"train\"])"
   ]
  },
  {
   "cell_type": "code",
   "execution_count": 151,
   "metadata": {},
   "outputs": [],
   "source": [
    "validation_subgroups = [\n",
    "    (distribution_gender_validation[0]), (distribution_gender_validation[1]), (distribution_ICUType_validation[1]), (distribution_ICUType_validation[2]),\n",
    "    (distribution_ICUType_validation[3]), (distribution_ICUType_validation[4]), (percentage_group_one_validation[\"Age\"]), (percentage_group_two_validation[\"Age\"]),\n",
    "    (percentage_bmi_validation[\"Baixo peso\"]), (percentage_bmi_validation[\"Peso normal\"]), (percentage_bmi_validation[\"Sobrepeso\"]), (percentage_bmi_validation[\"Obesidade grau 1\"]),\n",
    "    (percentage_bmi_validation[\"Obesidade grau 2\"]), (percentage_bmi_validation[\"Obesidade grau 3\"])\n",
    "]\n",
    "\n",
    "df_validation_subgroups = pd.DataFrame(validation_subgroups, columns=[\"train\"])"
   ]
  },
  {
   "cell_type": "code",
   "execution_count": 152,
   "metadata": {},
   "outputs": [],
   "source": [
    "test_subgroups = [\n",
    "    (distribution_gender_test[0]), (distribution_gender_test[1]), (distribution_ICUType_test[1]), (distribution_ICUType_test[2]),\n",
    "    (distribution_ICUType_test[3]), (distribution_ICUType_test[4]), (percentage_group_one_test[\"Age\"]), (percentage_group_two_test[\"Age\"]),\n",
    "    (percentage_bmi_test[\"Baixo peso\"]), (percentage_bmi_test[\"Peso normal\"]), (percentage_bmi_test[\"Sobrepeso\"]), (percentage_bmi_test[\"Obesidade grau 1\"]),\n",
    "    (percentage_bmi_test[\"Obesidade grau 2\"]), (percentage_bmi_test[\"Obesidade grau 3\"])\n",
    "]\n",
    "\n",
    "df_test_subgroups = pd.DataFrame(test_subgroups, columns=[\"train\"])"
   ]
  },
  {
   "cell_type": "code",
   "execution_count": 154,
   "metadata": {},
   "outputs": [],
   "source": [
    "table1 = pd.DataFrame(columns=['Subgroups', 'train', 'validation', 'test'])\n",
    "table1[\"Subgroups\"] = df_subgroups\n",
    "table1[\"train\"] = df_train_subgroups\n",
    "table1[\"validation\"] = df_validation_subgroups\n",
    "table1[\"test\"] = df_test_subgroups\n",
    "\n"
   ]
  },
  {
   "cell_type": "code",
   "execution_count": 155,
   "metadata": {},
   "outputs": [
    {
     "data": {
      "text/html": [
       "<div>\n",
       "<style scoped>\n",
       "    .dataframe tbody tr th:only-of-type {\n",
       "        vertical-align: middle;\n",
       "    }\n",
       "\n",
       "    .dataframe tbody tr th {\n",
       "        vertical-align: top;\n",
       "    }\n",
       "\n",
       "    .dataframe thead th {\n",
       "        text-align: right;\n",
       "    }\n",
       "</style>\n",
       "<table border=\"1\" class=\"dataframe\">\n",
       "  <thead>\n",
       "    <tr style=\"text-align: right;\">\n",
       "      <th></th>\n",
       "      <th>Subgroups</th>\n",
       "      <th>train</th>\n",
       "      <th>validation</th>\n",
       "      <th>test</th>\n",
       "    </tr>\n",
       "  </thead>\n",
       "  <tbody>\n",
       "    <tr>\n",
       "      <th>0</th>\n",
       "      <td>Female</td>\n",
       "      <td>44.400991</td>\n",
       "      <td>43.013556</td>\n",
       "      <td>42.851188</td>\n",
       "    </tr>\n",
       "    <tr>\n",
       "      <th>1</th>\n",
       "      <td>Male</td>\n",
       "      <td>55.520793</td>\n",
       "      <td>56.882169</td>\n",
       "      <td>56.982076</td>\n",
       "    </tr>\n",
       "    <tr>\n",
       "      <th>2</th>\n",
       "      <td>ICUType 1</td>\n",
       "      <td>15.069743</td>\n",
       "      <td>14.025026</td>\n",
       "      <td>14.172572</td>\n",
       "    </tr>\n",
       "    <tr>\n",
       "      <th>3</th>\n",
       "      <td>ICUType 2</td>\n",
       "      <td>20.714379</td>\n",
       "      <td>21.584984</td>\n",
       "      <td>21.884118</td>\n",
       "    </tr>\n",
       "    <tr>\n",
       "      <th>4</th>\n",
       "      <td>ICUType 3</td>\n",
       "      <td>36.149133</td>\n",
       "      <td>34.567258</td>\n",
       "      <td>35.473114</td>\n",
       "    </tr>\n",
       "    <tr>\n",
       "      <th>5</th>\n",
       "      <td>ICUType 4</td>\n",
       "      <td>28.066745</td>\n",
       "      <td>29.822732</td>\n",
       "      <td>28.470196</td>\n",
       "    </tr>\n",
       "    <tr>\n",
       "      <th>6</th>\n",
       "      <td>Age 65+</td>\n",
       "      <td>54.686482</td>\n",
       "      <td>54.744526</td>\n",
       "      <td>54.606086</td>\n",
       "    </tr>\n",
       "    <tr>\n",
       "      <th>7</th>\n",
       "      <td>Age 65-</td>\n",
       "      <td>45.313518</td>\n",
       "      <td>45.255474</td>\n",
       "      <td>45.393914</td>\n",
       "    </tr>\n",
       "    <tr>\n",
       "      <th>8</th>\n",
       "      <td>Baixo Peso</td>\n",
       "      <td>3.194480</td>\n",
       "      <td>2.507523</td>\n",
       "      <td>2.591093</td>\n",
       "    </tr>\n",
       "    <tr>\n",
       "      <th>9</th>\n",
       "      <td>Peso normal</td>\n",
       "      <td>30.053667</td>\n",
       "      <td>29.889669</td>\n",
       "      <td>28.178138</td>\n",
       "    </tr>\n",
       "    <tr>\n",
       "      <th>10</th>\n",
       "      <td>Sobrepeso</td>\n",
       "      <td>33.682596</td>\n",
       "      <td>35.606820</td>\n",
       "      <td>35.789474</td>\n",
       "    </tr>\n",
       "    <tr>\n",
       "      <th>11</th>\n",
       "      <td>Obesidade grau 1</td>\n",
       "      <td>18.374649</td>\n",
       "      <td>16.950853</td>\n",
       "      <td>18.785425</td>\n",
       "    </tr>\n",
       "    <tr>\n",
       "      <th>12</th>\n",
       "      <td>Obesidade grau 2</td>\n",
       "      <td>7.794531</td>\n",
       "      <td>8.224674</td>\n",
       "      <td>7.206478</td>\n",
       "    </tr>\n",
       "    <tr>\n",
       "      <th>13</th>\n",
       "      <td>Obesidade grau 3</td>\n",
       "      <td>6.900077</td>\n",
       "      <td>6.820461</td>\n",
       "      <td>7.449393</td>\n",
       "    </tr>\n",
       "  </tbody>\n",
       "</table>\n",
       "</div>"
      ],
      "text/plain": [
       "           Subgroups      train  validation       test\n",
       "0             Female  44.400991   43.013556  42.851188\n",
       "1               Male  55.520793   56.882169  56.982076\n",
       "2          ICUType 1  15.069743   14.025026  14.172572\n",
       "3          ICUType 2  20.714379   21.584984  21.884118\n",
       "4          ICUType 3  36.149133   34.567258  35.473114\n",
       "5          ICUType 4  28.066745   29.822732  28.470196\n",
       "6            Age 65+  54.686482   54.744526  54.606086\n",
       "7            Age 65-  45.313518   45.255474  45.393914\n",
       "8         Baixo Peso   3.194480    2.507523   2.591093\n",
       "9        Peso normal  30.053667   29.889669  28.178138\n",
       "10         Sobrepeso  33.682596   35.606820  35.789474\n",
       "11  Obesidade grau 1  18.374649   16.950853  18.785425\n",
       "12  Obesidade grau 2   7.794531    8.224674   7.206478\n",
       "13  Obesidade grau 3   6.900077    6.820461   7.449393"
      ]
     },
     "execution_count": 155,
     "metadata": {},
     "output_type": "execute_result"
    }
   ],
   "source": [
    "table1"
   ]
  }
 ],
 "metadata": {
  "kernelspec": {
   "display_name": "Python 3",
   "language": "python",
   "name": "python3"
  },
  "language_info": {
   "codemirror_mode": {
    "name": "ipython",
    "version": 3
   },
   "file_extension": ".py",
   "mimetype": "text/x-python",
   "name": "python",
   "nbconvert_exporter": "python",
   "pygments_lexer": "ipython3",
   "version": "3.8.10"
  }
 },
 "nbformat": 4,
 "nbformat_minor": 2
}

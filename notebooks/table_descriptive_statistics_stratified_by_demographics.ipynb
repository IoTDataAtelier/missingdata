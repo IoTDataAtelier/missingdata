{
 "cells": [
  {
   "cell_type": "code",
   "execution_count": 1,
   "metadata": {},
   "outputs": [],
   "source": [
    "import os\n",
    "import sys\n",
    "import pandas as pd\n",
    "from IPython.display import display, HTML\n",
    "module_path = os.path.abspath(os.path.join('..'))\n",
    "if module_path not in sys.path:\n",
    "    sys.path.append(module_path)"
   ]
  },
  {
   "cell_type": "markdown",
   "metadata": {},
   "source": [
    "<h1>Loading database</h1>"
   ]
  },
  {
   "cell_type": "code",
   "execution_count": 2,
   "metadata": {},
   "outputs": [
    {
     "name": "stderr",
     "output_type": "stream",
     "text": [
      "2024-11-11 17:28:09 [INFO]: You're using dataset physionet_2012, please cite it properly in your work. You can find its reference information at the below link: \n",
      "https://github.com/WenjieDu/TSDB/tree/main/dataset_profiles/physionet_2012\n",
      "2024-11-11 17:28:09 [INFO]: Dataset physionet_2012 has already been downloaded. Processing directly...\n",
      "2024-11-11 17:28:09 [INFO]: Dataset physionet_2012 has already been cached. Loading from cache directly...\n",
      "2024-11-11 17:28:10 [INFO]: Loaded successfully!\n"
     ]
    }
   ],
   "source": [
    "from pypots.benchpots.datasets import preprocess_physionet2012\n",
    "physionet2012_dataset = preprocess_physionet2012(subset=\"all\", rate=0.1)"
   ]
  },
  {
   "cell_type": "markdown",
   "metadata": {},
   "source": [
    "<h2>Training data</h2>"
   ]
  },
  {
   "cell_type": "markdown",
   "metadata": {},
   "source": [
    "<h3>Loading training dataset</h3>"
   ]
  },
  {
   "cell_type": "code",
   "execution_count": 3,
   "metadata": {},
   "outputs": [],
   "source": [
    "train_X = physionet2012_dataset['train_X']"
   ]
  },
  {
   "cell_type": "markdown",
   "metadata": {},
   "source": [
    "<h3>Divided into subgroups by gender and showing the percentage</h3>"
   ]
  },
  {
   "cell_type": "code",
   "execution_count": 4,
   "metadata": {},
   "outputs": [],
   "source": [
    "distribution_gender_training = train_X['Gender'].value_counts(normalize=True) * 100\n",
    "distribution_gender_training =  round(distribution_gender_training, 1) # 0: female, or 1: male"
   ]
  },
  {
   "cell_type": "code",
   "execution_count": 5,
   "metadata": {},
   "outputs": [],
   "source": [
    "if(distribution_gender_training.count() != 3):\n",
    "    distribution_gender_training[-1] = 0"
   ]
  },
  {
   "cell_type": "markdown",
   "metadata": {},
   "source": [
    "<h3>Divided into subgroups by ICUType and showing the percentage</h3>"
   ]
  },
  {
   "cell_type": "code",
   "execution_count": 6,
   "metadata": {},
   "outputs": [],
   "source": [
    "distribution_ICUType_training = train_X['ICUType'].value_counts(normalize=True) * 100\n",
    "distribution_ICUType_training =  round(distribution_ICUType_training, 1)"
   ]
  },
  {
   "cell_type": "markdown",
   "metadata": {},
   "source": [
    "<h3>Filtering one measurement per patient</h3>"
   ]
  },
  {
   "cell_type": "code",
   "execution_count": 7,
   "metadata": {},
   "outputs": [
    {
     "data": {
      "text/html": [
       "<div>\n",
       "<style scoped>\n",
       "    .dataframe tbody tr th:only-of-type {\n",
       "        vertical-align: middle;\n",
       "    }\n",
       "\n",
       "    .dataframe tbody tr th {\n",
       "        vertical-align: top;\n",
       "    }\n",
       "\n",
       "    .dataframe thead th {\n",
       "        text-align: right;\n",
       "    }\n",
       "</style>\n",
       "<table border=\"1\" class=\"dataframe\">\n",
       "  <thead>\n",
       "    <tr style=\"text-align: right;\">\n",
       "      <th></th>\n",
       "      <th>RecordID</th>\n",
       "      <th>level_1</th>\n",
       "      <th>Time</th>\n",
       "      <th>ALP</th>\n",
       "      <th>ALT</th>\n",
       "      <th>AST</th>\n",
       "      <th>Age</th>\n",
       "      <th>Albumin</th>\n",
       "      <th>BUN</th>\n",
       "      <th>Bilirubin</th>\n",
       "      <th>...</th>\n",
       "      <th>RespRate</th>\n",
       "      <th>SaO2</th>\n",
       "      <th>SysABP</th>\n",
       "      <th>Temp</th>\n",
       "      <th>TroponinI</th>\n",
       "      <th>TroponinT</th>\n",
       "      <th>Urine</th>\n",
       "      <th>WBC</th>\n",
       "      <th>Weight</th>\n",
       "      <th>pH</th>\n",
       "    </tr>\n",
       "  </thead>\n",
       "  <tbody>\n",
       "    <tr>\n",
       "      <th>0</th>\n",
       "      <td>132539</td>\n",
       "      <td>0</td>\n",
       "      <td>0.0</td>\n",
       "      <td>NaN</td>\n",
       "      <td>NaN</td>\n",
       "      <td>NaN</td>\n",
       "      <td>54.0</td>\n",
       "      <td>NaN</td>\n",
       "      <td>NaN</td>\n",
       "      <td>NaN</td>\n",
       "      <td>...</td>\n",
       "      <td>19.0</td>\n",
       "      <td>NaN</td>\n",
       "      <td>NaN</td>\n",
       "      <td>35.35</td>\n",
       "      <td>NaN</td>\n",
       "      <td>NaN</td>\n",
       "      <td>480.0</td>\n",
       "      <td>NaN</td>\n",
       "      <td>-1.0</td>\n",
       "      <td>NaN</td>\n",
       "    </tr>\n",
       "    <tr>\n",
       "      <th>48</th>\n",
       "      <td>132540</td>\n",
       "      <td>0</td>\n",
       "      <td>0.0</td>\n",
       "      <td>NaN</td>\n",
       "      <td>NaN</td>\n",
       "      <td>NaN</td>\n",
       "      <td>76.0</td>\n",
       "      <td>NaN</td>\n",
       "      <td>NaN</td>\n",
       "      <td>NaN</td>\n",
       "      <td>...</td>\n",
       "      <td>NaN</td>\n",
       "      <td>NaN</td>\n",
       "      <td>NaN</td>\n",
       "      <td>NaN</td>\n",
       "      <td>NaN</td>\n",
       "      <td>NaN</td>\n",
       "      <td>NaN</td>\n",
       "      <td>NaN</td>\n",
       "      <td>76.0</td>\n",
       "      <td>7.45</td>\n",
       "    </tr>\n",
       "    <tr>\n",
       "      <th>144</th>\n",
       "      <td>132543</td>\n",
       "      <td>0</td>\n",
       "      <td>0.0</td>\n",
       "      <td>105.0</td>\n",
       "      <td>12.0</td>\n",
       "      <td>15.0</td>\n",
       "      <td>68.0</td>\n",
       "      <td>4.4</td>\n",
       "      <td>23.0</td>\n",
       "      <td>0.2</td>\n",
       "      <td>...</td>\n",
       "      <td>18.0</td>\n",
       "      <td>NaN</td>\n",
       "      <td>NaN</td>\n",
       "      <td>36.30</td>\n",
       "      <td>NaN</td>\n",
       "      <td>NaN</td>\n",
       "      <td>NaN</td>\n",
       "      <td>11.5</td>\n",
       "      <td>84.6</td>\n",
       "      <td>NaN</td>\n",
       "    </tr>\n",
       "    <tr>\n",
       "      <th>192</th>\n",
       "      <td>132545</td>\n",
       "      <td>0</td>\n",
       "      <td>0.0</td>\n",
       "      <td>NaN</td>\n",
       "      <td>NaN</td>\n",
       "      <td>NaN</td>\n",
       "      <td>88.0</td>\n",
       "      <td>NaN</td>\n",
       "      <td>NaN</td>\n",
       "      <td>NaN</td>\n",
       "      <td>...</td>\n",
       "      <td>NaN</td>\n",
       "      <td>NaN</td>\n",
       "      <td>NaN</td>\n",
       "      <td>NaN</td>\n",
       "      <td>NaN</td>\n",
       "      <td>NaN</td>\n",
       "      <td>NaN</td>\n",
       "      <td>NaN</td>\n",
       "      <td>-1.0</td>\n",
       "      <td>NaN</td>\n",
       "    </tr>\n",
       "    <tr>\n",
       "      <th>240</th>\n",
       "      <td>132547</td>\n",
       "      <td>0</td>\n",
       "      <td>0.0</td>\n",
       "      <td>NaN</td>\n",
       "      <td>NaN</td>\n",
       "      <td>NaN</td>\n",
       "      <td>64.0</td>\n",
       "      <td>NaN</td>\n",
       "      <td>NaN</td>\n",
       "      <td>NaN</td>\n",
       "      <td>...</td>\n",
       "      <td>NaN</td>\n",
       "      <td>NaN</td>\n",
       "      <td>NaN</td>\n",
       "      <td>NaN</td>\n",
       "      <td>NaN</td>\n",
       "      <td>NaN</td>\n",
       "      <td>NaN</td>\n",
       "      <td>NaN</td>\n",
       "      <td>114.0</td>\n",
       "      <td>NaN</td>\n",
       "    </tr>\n",
       "    <tr>\n",
       "      <th>...</th>\n",
       "      <td>...</td>\n",
       "      <td>...</td>\n",
       "      <td>...</td>\n",
       "      <td>...</td>\n",
       "      <td>...</td>\n",
       "      <td>...</td>\n",
       "      <td>...</td>\n",
       "      <td>...</td>\n",
       "      <td>...</td>\n",
       "      <td>...</td>\n",
       "      <td>...</td>\n",
       "      <td>...</td>\n",
       "      <td>...</td>\n",
       "      <td>...</td>\n",
       "      <td>...</td>\n",
       "      <td>...</td>\n",
       "      <td>...</td>\n",
       "      <td>...</td>\n",
       "      <td>...</td>\n",
       "      <td>...</td>\n",
       "      <td>...</td>\n",
       "    </tr>\n",
       "    <tr>\n",
       "      <th>575040</th>\n",
       "      <td>163017</td>\n",
       "      <td>0</td>\n",
       "      <td>0.0</td>\n",
       "      <td>NaN</td>\n",
       "      <td>NaN</td>\n",
       "      <td>NaN</td>\n",
       "      <td>64.0</td>\n",
       "      <td>NaN</td>\n",
       "      <td>NaN</td>\n",
       "      <td>NaN</td>\n",
       "      <td>...</td>\n",
       "      <td>23.0</td>\n",
       "      <td>NaN</td>\n",
       "      <td>NaN</td>\n",
       "      <td>37.00</td>\n",
       "      <td>NaN</td>\n",
       "      <td>NaN</td>\n",
       "      <td>200.0</td>\n",
       "      <td>NaN</td>\n",
       "      <td>84.5</td>\n",
       "      <td>NaN</td>\n",
       "    </tr>\n",
       "    <tr>\n",
       "      <th>575088</th>\n",
       "      <td>163021</td>\n",
       "      <td>0</td>\n",
       "      <td>0.0</td>\n",
       "      <td>NaN</td>\n",
       "      <td>NaN</td>\n",
       "      <td>NaN</td>\n",
       "      <td>72.0</td>\n",
       "      <td>NaN</td>\n",
       "      <td>9.0</td>\n",
       "      <td>NaN</td>\n",
       "      <td>...</td>\n",
       "      <td>NaN</td>\n",
       "      <td>NaN</td>\n",
       "      <td>NaN</td>\n",
       "      <td>NaN</td>\n",
       "      <td>NaN</td>\n",
       "      <td>NaN</td>\n",
       "      <td>NaN</td>\n",
       "      <td>8.6</td>\n",
       "      <td>62.0</td>\n",
       "      <td>NaN</td>\n",
       "    </tr>\n",
       "    <tr>\n",
       "      <th>575184</th>\n",
       "      <td>163029</td>\n",
       "      <td>0</td>\n",
       "      <td>0.0</td>\n",
       "      <td>NaN</td>\n",
       "      <td>NaN</td>\n",
       "      <td>NaN</td>\n",
       "      <td>61.0</td>\n",
       "      <td>NaN</td>\n",
       "      <td>NaN</td>\n",
       "      <td>NaN</td>\n",
       "      <td>...</td>\n",
       "      <td>NaN</td>\n",
       "      <td>NaN</td>\n",
       "      <td>NaN</td>\n",
       "      <td>NaN</td>\n",
       "      <td>NaN</td>\n",
       "      <td>NaN</td>\n",
       "      <td>NaN</td>\n",
       "      <td>NaN</td>\n",
       "      <td>85.0</td>\n",
       "      <td>NaN</td>\n",
       "    </tr>\n",
       "    <tr>\n",
       "      <th>575232</th>\n",
       "      <td>163033</td>\n",
       "      <td>0</td>\n",
       "      <td>0.0</td>\n",
       "      <td>NaN</td>\n",
       "      <td>NaN</td>\n",
       "      <td>NaN</td>\n",
       "      <td>51.0</td>\n",
       "      <td>NaN</td>\n",
       "      <td>NaN</td>\n",
       "      <td>NaN</td>\n",
       "      <td>...</td>\n",
       "      <td>NaN</td>\n",
       "      <td>NaN</td>\n",
       "      <td>NaN</td>\n",
       "      <td>NaN</td>\n",
       "      <td>NaN</td>\n",
       "      <td>NaN</td>\n",
       "      <td>NaN</td>\n",
       "      <td>NaN</td>\n",
       "      <td>208.0</td>\n",
       "      <td>NaN</td>\n",
       "    </tr>\n",
       "    <tr>\n",
       "      <th>575280</th>\n",
       "      <td>163034</td>\n",
       "      <td>0</td>\n",
       "      <td>0.0</td>\n",
       "      <td>NaN</td>\n",
       "      <td>NaN</td>\n",
       "      <td>NaN</td>\n",
       "      <td>60.0</td>\n",
       "      <td>NaN</td>\n",
       "      <td>NaN</td>\n",
       "      <td>NaN</td>\n",
       "      <td>...</td>\n",
       "      <td>NaN</td>\n",
       "      <td>98.0</td>\n",
       "      <td>NaN</td>\n",
       "      <td>NaN</td>\n",
       "      <td>NaN</td>\n",
       "      <td>NaN</td>\n",
       "      <td>NaN</td>\n",
       "      <td>NaN</td>\n",
       "      <td>85.0</td>\n",
       "      <td>7.43</td>\n",
       "    </tr>\n",
       "  </tbody>\n",
       "</table>\n",
       "<p>7671 rows × 44 columns</p>\n",
       "</div>"
      ],
      "text/plain": [
       "        RecordID  level_1  Time    ALP   ALT   AST   Age  Albumin   BUN  \\\n",
       "0         132539        0   0.0    NaN   NaN   NaN  54.0      NaN   NaN   \n",
       "48        132540        0   0.0    NaN   NaN   NaN  76.0      NaN   NaN   \n",
       "144       132543        0   0.0  105.0  12.0  15.0  68.0      4.4  23.0   \n",
       "192       132545        0   0.0    NaN   NaN   NaN  88.0      NaN   NaN   \n",
       "240       132547        0   0.0    NaN   NaN   NaN  64.0      NaN   NaN   \n",
       "...          ...      ...   ...    ...   ...   ...   ...      ...   ...   \n",
       "575040    163017        0   0.0    NaN   NaN   NaN  64.0      NaN   NaN   \n",
       "575088    163021        0   0.0    NaN   NaN   NaN  72.0      NaN   9.0   \n",
       "575184    163029        0   0.0    NaN   NaN   NaN  61.0      NaN   NaN   \n",
       "575232    163033        0   0.0    NaN   NaN   NaN  51.0      NaN   NaN   \n",
       "575280    163034        0   0.0    NaN   NaN   NaN  60.0      NaN   NaN   \n",
       "\n",
       "        Bilirubin  ...  RespRate  SaO2  SysABP   Temp  TroponinI  TroponinT  \\\n",
       "0             NaN  ...      19.0   NaN     NaN  35.35        NaN        NaN   \n",
       "48            NaN  ...       NaN   NaN     NaN    NaN        NaN        NaN   \n",
       "144           0.2  ...      18.0   NaN     NaN  36.30        NaN        NaN   \n",
       "192           NaN  ...       NaN   NaN     NaN    NaN        NaN        NaN   \n",
       "240           NaN  ...       NaN   NaN     NaN    NaN        NaN        NaN   \n",
       "...           ...  ...       ...   ...     ...    ...        ...        ...   \n",
       "575040        NaN  ...      23.0   NaN     NaN  37.00        NaN        NaN   \n",
       "575088        NaN  ...       NaN   NaN     NaN    NaN        NaN        NaN   \n",
       "575184        NaN  ...       NaN   NaN     NaN    NaN        NaN        NaN   \n",
       "575232        NaN  ...       NaN   NaN     NaN    NaN        NaN        NaN   \n",
       "575280        NaN  ...       NaN  98.0     NaN    NaN        NaN        NaN   \n",
       "\n",
       "        Urine   WBC  Weight    pH  \n",
       "0       480.0   NaN    -1.0   NaN  \n",
       "48        NaN   NaN    76.0  7.45  \n",
       "144       NaN  11.5    84.6   NaN  \n",
       "192       NaN   NaN    -1.0   NaN  \n",
       "240       NaN   NaN   114.0   NaN  \n",
       "...       ...   ...     ...   ...  \n",
       "575040  200.0   NaN    84.5   NaN  \n",
       "575088    NaN   8.6    62.0   NaN  \n",
       "575184    NaN   NaN    85.0   NaN  \n",
       "575232    NaN   NaN   208.0   NaN  \n",
       "575280    NaN   NaN    85.0  7.43  \n",
       "\n",
       "[7671 rows x 44 columns]"
      ]
     },
     "execution_count": 7,
     "metadata": {},
     "output_type": "execute_result"
    }
   ],
   "source": [
    "uniques_train_per_variable = train_X[train_X[\"Time\"] == 0.0]\n",
    "uniques_train_per_variable"
   ]
  },
  {
   "cell_type": "code",
   "execution_count": 8,
   "metadata": {},
   "outputs": [
    {
     "data": {
      "text/plain": [
       "RecordID       7671\n",
       "level_1        7671\n",
       "Time           7671\n",
       "ALP             330\n",
       "ALT             342\n",
       "AST             341\n",
       "Age            7671\n",
       "Albumin         291\n",
       "BUN             888\n",
       "Bilirubin       325\n",
       "Cholesterol      40\n",
       "Creatinine      889\n",
       "DiasABP        1415\n",
       "FiO2           1443\n",
       "GCS            2740\n",
       "Gender         7671\n",
       "Glucose         786\n",
       "HCO3            808\n",
       "HCT             995\n",
       "HR             3844\n",
       "Height         7671\n",
       "ICUType        7671\n",
       "K               807\n",
       "Lactate         871\n",
       "MAP            1367\n",
       "MechVent       1373\n",
       "Mg              637\n",
       "NIDiasABP      2853\n",
       "NIMAP          2828\n",
       "NISysABP       2855\n",
       "Na              795\n",
       "PaCO2          1750\n",
       "PaO2           1721\n",
       "Platelets      1015\n",
       "RespRate       1155\n",
       "SaO2            263\n",
       "SysABP         1416\n",
       "Temp           2909\n",
       "TroponinI        29\n",
       "TroponinT       183\n",
       "Urine          2377\n",
       "WBC             922\n",
       "Weight         7671\n",
       "pH             1770\n",
       "dtype: int64"
      ]
     },
     "execution_count": 8,
     "metadata": {},
     "output_type": "execute_result"
    }
   ],
   "source": [
    "uniques_train_per_variable.count()"
   ]
  },
  {
   "cell_type": "markdown",
   "metadata": {},
   "source": [
    "<h3>Showing total occurrences of age</h3>"
   ]
  },
  {
   "cell_type": "code",
   "execution_count": 9,
   "metadata": {},
   "outputs": [
    {
     "data": {
      "text/plain": [
       "7671"
      ]
     },
     "execution_count": 9,
     "metadata": {},
     "output_type": "execute_result"
    }
   ],
   "source": [
    "# 60% de 11988 (training set)\n",
    "uniques_train_per_variable[\"Age\"].count()"
   ]
  },
  {
   "cell_type": "markdown",
   "metadata": {},
   "source": [
    "<h3>Dividing age into subgroup of people aged 65+</h3>"
   ]
  },
  {
   "cell_type": "code",
   "execution_count": 10,
   "metadata": {},
   "outputs": [],
   "source": [
    "more_than_or_equal_to_65_training = uniques_train_per_variable[uniques_train_per_variable['Age'] >= 65]\n",
    "percentage_group_one_train = (more_than_or_equal_to_65_training[\"Age\"].count() / uniques_train_per_variable[\"Age\"].count())*100\n",
    "percentage_group_one_train =  round(percentage_group_one_train, 1)"
   ]
  },
  {
   "cell_type": "markdown",
   "metadata": {},
   "source": [
    "<h3>Dividing age into subgroup of people under 65 years of age</h3>"
   ]
  },
  {
   "cell_type": "code",
   "execution_count": 11,
   "metadata": {},
   "outputs": [],
   "source": [
    "less_than_65 = uniques_train_per_variable[uniques_train_per_variable['Age'] < 65]\n",
    "percentage_group_two_train = (less_than_65[\"Age\"].count() / uniques_train_per_variable[\"Age\"].count()) * 100\n",
    "percentage_group_two_train =  round(percentage_group_two_train, 1)"
   ]
  },
  {
   "cell_type": "markdown",
   "metadata": {},
   "source": [
    "<h3>Filtering only one height and one weight per patient</h3>"
   ]
  },
  {
   "cell_type": "markdown",
   "metadata": {},
   "source": [
    "<h3>Calculate the BMI</h3>"
   ]
  },
  {
   "cell_type": "code",
   "execution_count": 12,
   "metadata": {},
   "outputs": [],
   "source": [
    "def classify_BMI(BMI):\n",
    "    if BMI <= 18.5:\n",
    "        return \"Baixo peso\"\n",
    "    elif BMI >= 18.6 and BMI <= 24.9:\n",
    "        return \"Peso normal\"\n",
    "    elif BMI >= 25 and BMI <= 29.9:\n",
    "        return \"Sobrepeso\"\n",
    "    elif BMI >= 30 and BMI <= 34.9:\n",
    "        return \"Obesidade grau 1\"\n",
    "    elif BMI >= 35 and BMI <= 39.9:\n",
    "        return \"Obesidade grau 2\"\n",
    "    elif BMI >= 40:\n",
    "        return \"Obesidade grau 3\""
   ]
  },
  {
   "cell_type": "code",
   "execution_count": 13,
   "metadata": {},
   "outputs": [
    {
     "data": {
      "text/plain": [
       "7671"
      ]
     },
     "execution_count": 13,
     "metadata": {},
     "output_type": "execute_result"
    }
   ],
   "source": [
    "train_count = train_X.groupby(\"RecordID\").first().reset_index()\n",
    "train_count = train_count[\"RecordID\"].count()\n",
    "train_count"
   ]
  },
  {
   "cell_type": "code",
   "execution_count": 14,
   "metadata": {},
   "outputs": [],
   "source": [
    "filtered_train = train_X[(train_X['Height'] != -1) & (train_X['Weight'] != -1) & (train_X['Height'].notna()) & (train_X['Weight'].notna())]\n",
    "filtered_train = filtered_train.groupby(\"RecordID\").first().reset_index()\n",
    "filtered_train_ids = filtered_train[\"RecordID\"]"
   ]
  },
  {
   "cell_type": "code",
   "execution_count": 15,
   "metadata": {},
   "outputs": [
    {
     "data": {
      "text/plain": [
       "4042"
      ]
     },
     "execution_count": 15,
     "metadata": {},
     "output_type": "execute_result"
    }
   ],
   "source": [
    "filtered_train_ids.count()"
   ]
  },
  {
   "cell_type": "code",
   "execution_count": 16,
   "metadata": {},
   "outputs": [],
   "source": [
    "undefined_train = train_X[~train_X[\"RecordID\"].isin(filtered_train_ids)]\n",
    "undefined_train = undefined_train.groupby(\"RecordID\").first().reset_index()\n",
    "undefined_train_ids = undefined_train[\"RecordID\"]"
   ]
  },
  {
   "cell_type": "code",
   "execution_count": 17,
   "metadata": {},
   "outputs": [
    {
     "data": {
      "text/plain": [
       "3629"
      ]
     },
     "execution_count": 17,
     "metadata": {},
     "output_type": "execute_result"
    }
   ],
   "source": [
    "undefined_train_ids.count()"
   ]
  },
  {
   "cell_type": "code",
   "execution_count": 18,
   "metadata": {},
   "outputs": [],
   "source": [
    "filtered_train_metros = filtered_train.copy()\n",
    "filtered_train_metros[\"Height\"] = filtered_train_metros[\"Height\"]/100"
   ]
  },
  {
   "cell_type": "code",
   "execution_count": 19,
   "metadata": {},
   "outputs": [],
   "source": [
    "filtered_train_metros[\"BMI\"] = round(filtered_train_metros[\"Weight\"]/(filtered_train_metros[\"Height\"]**2),1)"
   ]
  },
  {
   "cell_type": "code",
   "execution_count": 20,
   "metadata": {},
   "outputs": [],
   "source": [
    "filtered_train_metros[\"Classification\"] = filtered_train_metros[\"BMI\"].apply(classify_BMI)"
   ]
  },
  {
   "cell_type": "code",
   "execution_count": 21,
   "metadata": {},
   "outputs": [
    {
     "data": {
      "text/plain": [
       "1.8"
      ]
     },
     "execution_count": 21,
     "metadata": {},
     "output_type": "execute_result"
    }
   ],
   "source": [
    "baixo_peso_train_percentage = filtered_train_metros[filtered_train_metros[\"Classification\"] == \"Baixo peso\"]\n",
    "baixo_peso_train_percentage = round((baixo_peso_train_percentage[\"RecordID\"].count()/train_count)*100,1)\n",
    "baixo_peso_train_percentage"
   ]
  },
  {
   "cell_type": "code",
   "execution_count": 22,
   "metadata": {},
   "outputs": [
    {
     "data": {
      "text/plain": [
       "16.1"
      ]
     },
     "execution_count": 22,
     "metadata": {},
     "output_type": "execute_result"
    }
   ],
   "source": [
    "peso_normal_train_percentage = filtered_train_metros[filtered_train_metros[\"Classification\"] == \"Peso normal\"]\n",
    "peso_normal_train_percentage = round((peso_normal_train_percentage[\"RecordID\"].count()/train_count)*100,1)\n",
    "peso_normal_train_percentage"
   ]
  },
  {
   "cell_type": "code",
   "execution_count": 23,
   "metadata": {},
   "outputs": [
    {
     "data": {
      "text/plain": [
       "17.5"
      ]
     },
     "execution_count": 23,
     "metadata": {},
     "output_type": "execute_result"
    }
   ],
   "source": [
    "sobrepeso_train_percentage = filtered_train_metros[filtered_train_metros[\"Classification\"]==\"Sobrepeso\"]\n",
    "sobrepeso_train_percentage = round((sobrepeso_train_percentage[\"RecordID\"].count()/train_count)*100,1)\n",
    "sobrepeso_train_percentage"
   ]
  },
  {
   "cell_type": "code",
   "execution_count": 24,
   "metadata": {},
   "outputs": [
    {
     "data": {
      "text/plain": [
       "9.8"
      ]
     },
     "execution_count": 24,
     "metadata": {},
     "output_type": "execute_result"
    }
   ],
   "source": [
    "obesidade_1_train_percentege = filtered_train_metros[filtered_train_metros[\"Classification\"] == \"Obesidade grau 1\"]\n",
    "obesidade_1_train_percentege = round((obesidade_1_train_percentege[\"RecordID\"].count()/train_count)*100,1)\n",
    "obesidade_1_train_percentege"
   ]
  },
  {
   "cell_type": "code",
   "execution_count": 25,
   "metadata": {},
   "outputs": [
    {
     "data": {
      "text/plain": [
       "4.2"
      ]
     },
     "execution_count": 25,
     "metadata": {},
     "output_type": "execute_result"
    }
   ],
   "source": [
    "obesidade_2_train_percentege = filtered_train_metros[filtered_train_metros[\"Classification\"] == \"Obesidade grau 2\"]\n",
    "obesidade_2_train_percentege = round((obesidade_2_train_percentege[\"RecordID\"].count()/train_count)*100,1)\n",
    "obesidade_2_train_percentege"
   ]
  },
  {
   "cell_type": "code",
   "execution_count": 26,
   "metadata": {},
   "outputs": [
    {
     "data": {
      "text/plain": [
       "3.4"
      ]
     },
     "execution_count": 26,
     "metadata": {},
     "output_type": "execute_result"
    }
   ],
   "source": [
    "obesidade_3_train_percentege = filtered_train_metros[filtered_train_metros[\"Classification\"] == \"Obesidade grau 3\"]\n",
    "obesidade_3_train_percentege = round((obesidade_3_train_percentege[\"RecordID\"].count()/train_count)*100,1)\n",
    "obesidade_3_train_percentege"
   ]
  },
  {
   "cell_type": "code",
   "execution_count": 27,
   "metadata": {},
   "outputs": [
    {
     "data": {
      "text/plain": [
       "47.3"
      ]
     },
     "execution_count": 27,
     "metadata": {},
     "output_type": "execute_result"
    }
   ],
   "source": [
    "undefined_train_percentege = round((undefined_train[\"RecordID\"].count()/train_count)*100,1)\n",
    "undefined_train_percentege"
   ]
  },
  {
   "cell_type": "markdown",
   "metadata": {},
   "source": [
    "<h2>Validation data</h2>"
   ]
  },
  {
   "cell_type": "markdown",
   "metadata": {},
   "source": [
    "<h3>Loading validation dataset </h3>"
   ]
  },
  {
   "cell_type": "code",
   "execution_count": 28,
   "metadata": {},
   "outputs": [],
   "source": [
    "validation_X = physionet2012_dataset['val_X']"
   ]
  },
  {
   "cell_type": "markdown",
   "metadata": {},
   "source": [
    "<h3>Divided into subgroups by gender and showing the percentage</h3>"
   ]
  },
  {
   "cell_type": "code",
   "execution_count": 29,
   "metadata": {},
   "outputs": [],
   "source": [
    "distribution_gender_validation = validation_X['Gender'].value_counts(normalize=True) * 100\n",
    "distribution_gender_validation =  round(distribution_gender_validation, 1) # 0: female, or 1: male"
   ]
  },
  {
   "cell_type": "code",
   "execution_count": 30,
   "metadata": {},
   "outputs": [],
   "source": [
    "if(distribution_gender_validation.count() != 3):\n",
    "    distribution_gender_validation[-1] = 0"
   ]
  },
  {
   "cell_type": "markdown",
   "metadata": {},
   "source": [
    "<h3>Divided into subgroups by ICUType and showing the percentage</h3>"
   ]
  },
  {
   "cell_type": "code",
   "execution_count": 31,
   "metadata": {},
   "outputs": [],
   "source": [
    "distribution_ICUType_validation = validation_X['ICUType'].value_counts(normalize=True) * 100\n",
    "distribution_ICUType_validation = round(distribution_ICUType_validation, 1)"
   ]
  },
  {
   "cell_type": "markdown",
   "metadata": {},
   "source": [
    "<h3>Filtering only one age per patient</h3>"
   ]
  },
  {
   "cell_type": "code",
   "execution_count": 32,
   "metadata": {},
   "outputs": [
    {
     "data": {
      "text/html": [
       "<div>\n",
       "<style scoped>\n",
       "    .dataframe tbody tr th:only-of-type {\n",
       "        vertical-align: middle;\n",
       "    }\n",
       "\n",
       "    .dataframe tbody tr th {\n",
       "        vertical-align: top;\n",
       "    }\n",
       "\n",
       "    .dataframe thead th {\n",
       "        text-align: right;\n",
       "    }\n",
       "</style>\n",
       "<table border=\"1\" class=\"dataframe\">\n",
       "  <thead>\n",
       "    <tr style=\"text-align: right;\">\n",
       "      <th></th>\n",
       "      <th>RecordID</th>\n",
       "      <th>level_1</th>\n",
       "      <th>Time</th>\n",
       "      <th>ALP</th>\n",
       "      <th>ALT</th>\n",
       "      <th>AST</th>\n",
       "      <th>Age</th>\n",
       "      <th>Albumin</th>\n",
       "      <th>BUN</th>\n",
       "      <th>Bilirubin</th>\n",
       "      <th>...</th>\n",
       "      <th>RespRate</th>\n",
       "      <th>SaO2</th>\n",
       "      <th>SysABP</th>\n",
       "      <th>Temp</th>\n",
       "      <th>TroponinI</th>\n",
       "      <th>TroponinT</th>\n",
       "      <th>Urine</th>\n",
       "      <th>WBC</th>\n",
       "      <th>Weight</th>\n",
       "      <th>pH</th>\n",
       "    </tr>\n",
       "  </thead>\n",
       "  <tbody>\n",
       "    <tr>\n",
       "      <th>768</th>\n",
       "      <td>132577</td>\n",
       "      <td>0</td>\n",
       "      <td>0.0</td>\n",
       "      <td>NaN</td>\n",
       "      <td>NaN</td>\n",
       "      <td>NaN</td>\n",
       "      <td>65.0</td>\n",
       "      <td>NaN</td>\n",
       "      <td>36.0</td>\n",
       "      <td>NaN</td>\n",
       "      <td>...</td>\n",
       "      <td>NaN</td>\n",
       "      <td>NaN</td>\n",
       "      <td>NaN</td>\n",
       "      <td>NaN</td>\n",
       "      <td>NaN</td>\n",
       "      <td>NaN</td>\n",
       "      <td>NaN</td>\n",
       "      <td>NaN</td>\n",
       "      <td>66.3</td>\n",
       "      <td>NaN</td>\n",
       "    </tr>\n",
       "    <tr>\n",
       "      <th>816</th>\n",
       "      <td>132582</td>\n",
       "      <td>0</td>\n",
       "      <td>0.0</td>\n",
       "      <td>NaN</td>\n",
       "      <td>NaN</td>\n",
       "      <td>NaN</td>\n",
       "      <td>84.0</td>\n",
       "      <td>NaN</td>\n",
       "      <td>NaN</td>\n",
       "      <td>NaN</td>\n",
       "      <td>...</td>\n",
       "      <td>NaN</td>\n",
       "      <td>NaN</td>\n",
       "      <td>NaN</td>\n",
       "      <td>NaN</td>\n",
       "      <td>NaN</td>\n",
       "      <td>NaN</td>\n",
       "      <td>NaN</td>\n",
       "      <td>NaN</td>\n",
       "      <td>82.5</td>\n",
       "      <td>NaN</td>\n",
       "    </tr>\n",
       "    <tr>\n",
       "      <th>1008</th>\n",
       "      <td>132590</td>\n",
       "      <td>0</td>\n",
       "      <td>0.0</td>\n",
       "      <td>NaN</td>\n",
       "      <td>NaN</td>\n",
       "      <td>NaN</td>\n",
       "      <td>58.0</td>\n",
       "      <td>NaN</td>\n",
       "      <td>NaN</td>\n",
       "      <td>NaN</td>\n",
       "      <td>...</td>\n",
       "      <td>NaN</td>\n",
       "      <td>NaN</td>\n",
       "      <td>NaN</td>\n",
       "      <td>NaN</td>\n",
       "      <td>NaN</td>\n",
       "      <td>NaN</td>\n",
       "      <td>NaN</td>\n",
       "      <td>NaN</td>\n",
       "      <td>98.0</td>\n",
       "      <td>NaN</td>\n",
       "    </tr>\n",
       "    <tr>\n",
       "      <th>1632</th>\n",
       "      <td>132615</td>\n",
       "      <td>0</td>\n",
       "      <td>0.0</td>\n",
       "      <td>NaN</td>\n",
       "      <td>NaN</td>\n",
       "      <td>NaN</td>\n",
       "      <td>46.0</td>\n",
       "      <td>NaN</td>\n",
       "      <td>NaN</td>\n",
       "      <td>NaN</td>\n",
       "      <td>...</td>\n",
       "      <td>NaN</td>\n",
       "      <td>NaN</td>\n",
       "      <td>0.0</td>\n",
       "      <td>36.4</td>\n",
       "      <td>NaN</td>\n",
       "      <td>NaN</td>\n",
       "      <td>80.0</td>\n",
       "      <td>NaN</td>\n",
       "      <td>88.6</td>\n",
       "      <td>NaN</td>\n",
       "    </tr>\n",
       "    <tr>\n",
       "      <th>1680</th>\n",
       "      <td>132617</td>\n",
       "      <td>0</td>\n",
       "      <td>0.0</td>\n",
       "      <td>NaN</td>\n",
       "      <td>NaN</td>\n",
       "      <td>NaN</td>\n",
       "      <td>77.0</td>\n",
       "      <td>NaN</td>\n",
       "      <td>NaN</td>\n",
       "      <td>NaN</td>\n",
       "      <td>...</td>\n",
       "      <td>NaN</td>\n",
       "      <td>NaN</td>\n",
       "      <td>NaN</td>\n",
       "      <td>NaN</td>\n",
       "      <td>NaN</td>\n",
       "      <td>NaN</td>\n",
       "      <td>NaN</td>\n",
       "      <td>NaN</td>\n",
       "      <td>75.0</td>\n",
       "      <td>NaN</td>\n",
       "    </tr>\n",
       "    <tr>\n",
       "      <th>...</th>\n",
       "      <td>...</td>\n",
       "      <td>...</td>\n",
       "      <td>...</td>\n",
       "      <td>...</td>\n",
       "      <td>...</td>\n",
       "      <td>...</td>\n",
       "      <td>...</td>\n",
       "      <td>...</td>\n",
       "      <td>...</td>\n",
       "      <td>...</td>\n",
       "      <td>...</td>\n",
       "      <td>...</td>\n",
       "      <td>...</td>\n",
       "      <td>...</td>\n",
       "      <td>...</td>\n",
       "      <td>...</td>\n",
       "      <td>...</td>\n",
       "      <td>...</td>\n",
       "      <td>...</td>\n",
       "      <td>...</td>\n",
       "      <td>...</td>\n",
       "    </tr>\n",
       "    <tr>\n",
       "      <th>574032</th>\n",
       "      <td>162955</td>\n",
       "      <td>0</td>\n",
       "      <td>0.0</td>\n",
       "      <td>NaN</td>\n",
       "      <td>NaN</td>\n",
       "      <td>NaN</td>\n",
       "      <td>69.0</td>\n",
       "      <td>NaN</td>\n",
       "      <td>NaN</td>\n",
       "      <td>NaN</td>\n",
       "      <td>...</td>\n",
       "      <td>NaN</td>\n",
       "      <td>NaN</td>\n",
       "      <td>NaN</td>\n",
       "      <td>NaN</td>\n",
       "      <td>NaN</td>\n",
       "      <td>NaN</td>\n",
       "      <td>NaN</td>\n",
       "      <td>NaN</td>\n",
       "      <td>78.0</td>\n",
       "      <td>NaN</td>\n",
       "    </tr>\n",
       "    <tr>\n",
       "      <th>574224</th>\n",
       "      <td>162976</td>\n",
       "      <td>0</td>\n",
       "      <td>0.0</td>\n",
       "      <td>NaN</td>\n",
       "      <td>NaN</td>\n",
       "      <td>NaN</td>\n",
       "      <td>60.0</td>\n",
       "      <td>NaN</td>\n",
       "      <td>NaN</td>\n",
       "      <td>NaN</td>\n",
       "      <td>...</td>\n",
       "      <td>NaN</td>\n",
       "      <td>NaN</td>\n",
       "      <td>NaN</td>\n",
       "      <td>NaN</td>\n",
       "      <td>NaN</td>\n",
       "      <td>NaN</td>\n",
       "      <td>NaN</td>\n",
       "      <td>NaN</td>\n",
       "      <td>90.0</td>\n",
       "      <td>NaN</td>\n",
       "    </tr>\n",
       "    <tr>\n",
       "      <th>574416</th>\n",
       "      <td>162987</td>\n",
       "      <td>0</td>\n",
       "      <td>0.0</td>\n",
       "      <td>NaN</td>\n",
       "      <td>NaN</td>\n",
       "      <td>NaN</td>\n",
       "      <td>57.0</td>\n",
       "      <td>NaN</td>\n",
       "      <td>NaN</td>\n",
       "      <td>NaN</td>\n",
       "      <td>...</td>\n",
       "      <td>NaN</td>\n",
       "      <td>NaN</td>\n",
       "      <td>92.0</td>\n",
       "      <td>NaN</td>\n",
       "      <td>NaN</td>\n",
       "      <td>NaN</td>\n",
       "      <td>380.0</td>\n",
       "      <td>NaN</td>\n",
       "      <td>83.0</td>\n",
       "      <td>7.34</td>\n",
       "    </tr>\n",
       "    <tr>\n",
       "      <th>574944</th>\n",
       "      <td>163013</td>\n",
       "      <td>0</td>\n",
       "      <td>0.0</td>\n",
       "      <td>NaN</td>\n",
       "      <td>NaN</td>\n",
       "      <td>NaN</td>\n",
       "      <td>74.0</td>\n",
       "      <td>NaN</td>\n",
       "      <td>NaN</td>\n",
       "      <td>NaN</td>\n",
       "      <td>...</td>\n",
       "      <td>NaN</td>\n",
       "      <td>NaN</td>\n",
       "      <td>NaN</td>\n",
       "      <td>36.5</td>\n",
       "      <td>NaN</td>\n",
       "      <td>NaN</td>\n",
       "      <td>NaN</td>\n",
       "      <td>NaN</td>\n",
       "      <td>68.6</td>\n",
       "      <td>NaN</td>\n",
       "    </tr>\n",
       "    <tr>\n",
       "      <th>575376</th>\n",
       "      <td>163037</td>\n",
       "      <td>0</td>\n",
       "      <td>0.0</td>\n",
       "      <td>NaN</td>\n",
       "      <td>NaN</td>\n",
       "      <td>NaN</td>\n",
       "      <td>74.0</td>\n",
       "      <td>NaN</td>\n",
       "      <td>NaN</td>\n",
       "      <td>NaN</td>\n",
       "      <td>...</td>\n",
       "      <td>NaN</td>\n",
       "      <td>NaN</td>\n",
       "      <td>NaN</td>\n",
       "      <td>38.1</td>\n",
       "      <td>NaN</td>\n",
       "      <td>NaN</td>\n",
       "      <td>340.0</td>\n",
       "      <td>NaN</td>\n",
       "      <td>73.1</td>\n",
       "      <td>7.26</td>\n",
       "    </tr>\n",
       "  </tbody>\n",
       "</table>\n",
       "<p>1918 rows × 44 columns</p>\n",
       "</div>"
      ],
      "text/plain": [
       "        RecordID  level_1  Time  ALP  ALT  AST   Age  Albumin   BUN  \\\n",
       "768       132577        0   0.0  NaN  NaN  NaN  65.0      NaN  36.0   \n",
       "816       132582        0   0.0  NaN  NaN  NaN  84.0      NaN   NaN   \n",
       "1008      132590        0   0.0  NaN  NaN  NaN  58.0      NaN   NaN   \n",
       "1632      132615        0   0.0  NaN  NaN  NaN  46.0      NaN   NaN   \n",
       "1680      132617        0   0.0  NaN  NaN  NaN  77.0      NaN   NaN   \n",
       "...          ...      ...   ...  ...  ...  ...   ...      ...   ...   \n",
       "574032    162955        0   0.0  NaN  NaN  NaN  69.0      NaN   NaN   \n",
       "574224    162976        0   0.0  NaN  NaN  NaN  60.0      NaN   NaN   \n",
       "574416    162987        0   0.0  NaN  NaN  NaN  57.0      NaN   NaN   \n",
       "574944    163013        0   0.0  NaN  NaN  NaN  74.0      NaN   NaN   \n",
       "575376    163037        0   0.0  NaN  NaN  NaN  74.0      NaN   NaN   \n",
       "\n",
       "        Bilirubin  ...  RespRate  SaO2  SysABP  Temp  TroponinI  TroponinT  \\\n",
       "768           NaN  ...       NaN   NaN     NaN   NaN        NaN        NaN   \n",
       "816           NaN  ...       NaN   NaN     NaN   NaN        NaN        NaN   \n",
       "1008          NaN  ...       NaN   NaN     NaN   NaN        NaN        NaN   \n",
       "1632          NaN  ...       NaN   NaN     0.0  36.4        NaN        NaN   \n",
       "1680          NaN  ...       NaN   NaN     NaN   NaN        NaN        NaN   \n",
       "...           ...  ...       ...   ...     ...   ...        ...        ...   \n",
       "574032        NaN  ...       NaN   NaN     NaN   NaN        NaN        NaN   \n",
       "574224        NaN  ...       NaN   NaN     NaN   NaN        NaN        NaN   \n",
       "574416        NaN  ...       NaN   NaN    92.0   NaN        NaN        NaN   \n",
       "574944        NaN  ...       NaN   NaN     NaN  36.5        NaN        NaN   \n",
       "575376        NaN  ...       NaN   NaN     NaN  38.1        NaN        NaN   \n",
       "\n",
       "        Urine  WBC  Weight    pH  \n",
       "768       NaN  NaN    66.3   NaN  \n",
       "816       NaN  NaN    82.5   NaN  \n",
       "1008      NaN  NaN    98.0   NaN  \n",
       "1632     80.0  NaN    88.6   NaN  \n",
       "1680      NaN  NaN    75.0   NaN  \n",
       "...       ...  ...     ...   ...  \n",
       "574032    NaN  NaN    78.0   NaN  \n",
       "574224    NaN  NaN    90.0   NaN  \n",
       "574416  380.0  NaN    83.0  7.34  \n",
       "574944    NaN  NaN    68.6   NaN  \n",
       "575376  340.0  NaN    73.1  7.26  \n",
       "\n",
       "[1918 rows x 44 columns]"
      ]
     },
     "execution_count": 32,
     "metadata": {},
     "output_type": "execute_result"
    }
   ],
   "source": [
    "uniques_validation_per_variable = validation_X[validation_X[\"Time\"] == 0.0]\n",
    "uniques_validation_per_variable"
   ]
  },
  {
   "cell_type": "markdown",
   "metadata": {},
   "source": [
    "<h3>Showing total occurrences of age</h3>"
   ]
  },
  {
   "cell_type": "code",
   "execution_count": 33,
   "metadata": {},
   "outputs": [
    {
     "data": {
      "text/plain": [
       "1918"
      ]
     },
     "execution_count": 33,
     "metadata": {},
     "output_type": "execute_result"
    }
   ],
   "source": [
    "uniques_validation_per_variable[\"Age\"].count()"
   ]
  },
  {
   "cell_type": "markdown",
   "metadata": {},
   "source": [
    "<h3>Dividing age into subgroup of people aged 65+</h3>"
   ]
  },
  {
   "cell_type": "code",
   "execution_count": 34,
   "metadata": {},
   "outputs": [],
   "source": [
    "more_than_or_equal_to_65_validation = uniques_validation_per_variable[uniques_validation_per_variable['Age'] >= 65]\n",
    "percentage_group_one_validation = (more_than_or_equal_to_65_validation[\"Age\"].count() / uniques_validation_per_variable[\"Age\"].count())*100\n",
    "percentage_group_one_validation = round(percentage_group_one_validation, 1)"
   ]
  },
  {
   "cell_type": "markdown",
   "metadata": {},
   "source": [
    "<h3>Dividing age into subgroup of people under 65 years of age</h3>"
   ]
  },
  {
   "cell_type": "code",
   "execution_count": 35,
   "metadata": {},
   "outputs": [],
   "source": [
    "less_than_65 = uniques_validation_per_variable[uniques_validation_per_variable['Age'] < 65]\n",
    "percentage_group_two_validation = (less_than_65[\"Age\"].count() / uniques_validation_per_variable[\"Age\"].count()) * 100\n",
    "percentage_group_two_validation =  round(percentage_group_two_validation, 1)"
   ]
  },
  {
   "cell_type": "markdown",
   "metadata": {},
   "source": [
    "<h3>Filtering only one height and one weight per patient</h3>"
   ]
  },
  {
   "cell_type": "code",
   "execution_count": 36,
   "metadata": {},
   "outputs": [
    {
     "data": {
      "text/plain": [
       "1918"
      ]
     },
     "execution_count": 36,
     "metadata": {},
     "output_type": "execute_result"
    }
   ],
   "source": [
    "validation_count = validation_X.groupby(\"RecordID\").first().reset_index()\n",
    "validation_count = validation_count[\"RecordID\"].count()\n",
    "validation_count"
   ]
  },
  {
   "cell_type": "code",
   "execution_count": 37,
   "metadata": {},
   "outputs": [],
   "source": [
    "filtered_validation = validation_X[(validation_X['Height'] != -1) & (validation_X['Weight'] != -1) & (validation_X['Height'].notna()) & (validation_X['Weight'].notna())]\n",
    "filtered_validation = filtered_validation.groupby(\"RecordID\").first().reset_index()\n",
    "filtered_validation_ids = filtered_validation[\"RecordID\"]"
   ]
  },
  {
   "cell_type": "code",
   "execution_count": 38,
   "metadata": {},
   "outputs": [
    {
     "data": {
      "text/plain": [
       "992"
      ]
     },
     "execution_count": 38,
     "metadata": {},
     "output_type": "execute_result"
    }
   ],
   "source": [
    "filtered_validation_ids.count()"
   ]
  },
  {
   "cell_type": "code",
   "execution_count": 39,
   "metadata": {},
   "outputs": [],
   "source": [
    "undefined_validation = validation_X[~validation_X[\"RecordID\"].isin(filtered_validation_ids)]\n",
    "undefined_validation = undefined_validation.groupby(\"RecordID\").first().reset_index()\n",
    "undefined_validation_ids = undefined_validation[\"RecordID\"]"
   ]
  },
  {
   "cell_type": "code",
   "execution_count": 40,
   "metadata": {},
   "outputs": [
    {
     "data": {
      "text/plain": [
       "926"
      ]
     },
     "execution_count": 40,
     "metadata": {},
     "output_type": "execute_result"
    }
   ],
   "source": [
    "undefined_validation_ids.count()"
   ]
  },
  {
   "cell_type": "code",
   "execution_count": 41,
   "metadata": {},
   "outputs": [],
   "source": [
    "filtered_validation_metros = filtered_validation.copy()\n",
    "filtered_validation_metros[\"Height\"] = filtered_validation_metros[\"Height\"]/100"
   ]
  },
  {
   "cell_type": "code",
   "execution_count": 42,
   "metadata": {},
   "outputs": [],
   "source": [
    "filtered_validation_metros[\"BMI\"] = round(filtered_validation_metros[\"Weight\"]/(filtered_validation_metros[\"Height\"]**2),1)"
   ]
  },
  {
   "cell_type": "code",
   "execution_count": 43,
   "metadata": {},
   "outputs": [],
   "source": [
    "filtered_validation_metros[\"Classification\"] = filtered_validation_metros[\"BMI\"].apply(classify_BMI)"
   ]
  },
  {
   "cell_type": "code",
   "execution_count": 44,
   "metadata": {},
   "outputs": [
    {
     "data": {
      "text/plain": [
       "Classification\n",
       "Sobrepeso           366\n",
       "Peso normal         284\n",
       "Obesidade grau 1    170\n",
       "Obesidade grau 3     83\n",
       "Obesidade grau 2     64\n",
       "Baixo peso           25\n",
       "Name: count, dtype: int64"
      ]
     },
     "execution_count": 44,
     "metadata": {},
     "output_type": "execute_result"
    }
   ],
   "source": [
    "filtered_validation_metros[\"Classification\"].value_counts()"
   ]
  },
  {
   "cell_type": "code",
   "execution_count": 45,
   "metadata": {},
   "outputs": [
    {
     "data": {
      "text/plain": [
       "1.3"
      ]
     },
     "execution_count": 45,
     "metadata": {},
     "output_type": "execute_result"
    }
   ],
   "source": [
    "baixo_peso_validation_percentage = filtered_validation_metros[filtered_validation_metros[\"Classification\"] == \"Baixo peso\"]\n",
    "baixo_peso_validation_percentage = round((baixo_peso_validation_percentage[\"RecordID\"].count()/validation_count)*100,1)\n",
    "baixo_peso_validation_percentage"
   ]
  },
  {
   "cell_type": "code",
   "execution_count": 46,
   "metadata": {},
   "outputs": [
    {
     "data": {
      "text/plain": [
       "14.8"
      ]
     },
     "execution_count": 46,
     "metadata": {},
     "output_type": "execute_result"
    }
   ],
   "source": [
    "peso_normal_validation_percentage = filtered_validation_metros[filtered_validation_metros[\"Classification\"] == \"Peso normal\"]\n",
    "peso_normal_validation_percentage = round((peso_normal_validation_percentage[\"RecordID\"].count()/validation_count)*100,1)\n",
    "peso_normal_validation_percentage"
   ]
  },
  {
   "cell_type": "code",
   "execution_count": 47,
   "metadata": {},
   "outputs": [
    {
     "data": {
      "text/plain": [
       "19.1"
      ]
     },
     "execution_count": 47,
     "metadata": {},
     "output_type": "execute_result"
    }
   ],
   "source": [
    "sobrepeso_validation_percentage = filtered_validation_metros[filtered_validation_metros[\"Classification\"]==\"Sobrepeso\"]\n",
    "sobrepeso_validation_percentage = round((sobrepeso_validation_percentage[\"RecordID\"].count()/validation_count)*100,1)\n",
    "sobrepeso_validation_percentage"
   ]
  },
  {
   "cell_type": "code",
   "execution_count": 48,
   "metadata": {},
   "outputs": [
    {
     "data": {
      "text/plain": [
       "8.9"
      ]
     },
     "execution_count": 48,
     "metadata": {},
     "output_type": "execute_result"
    }
   ],
   "source": [
    "obesidade_1_validation_percentege = filtered_validation_metros[filtered_validation_metros[\"Classification\"] == \"Obesidade grau 1\"]\n",
    "obesidade_1_validation_percentege = round((obesidade_1_validation_percentege[\"RecordID\"].count()/validation_count)*100,1)\n",
    "obesidade_1_validation_percentege"
   ]
  },
  {
   "cell_type": "code",
   "execution_count": 49,
   "metadata": {},
   "outputs": [
    {
     "data": {
      "text/plain": [
       "3.3"
      ]
     },
     "execution_count": 49,
     "metadata": {},
     "output_type": "execute_result"
    }
   ],
   "source": [
    "obesidade_2_validation_percentege = filtered_validation_metros[filtered_validation_metros[\"Classification\"] == \"Obesidade grau 2\"]\n",
    "obesidade_2_validation_percentege = round((obesidade_2_validation_percentege[\"RecordID\"].count()/validation_count)*100,1)\n",
    "obesidade_2_validation_percentege"
   ]
  },
  {
   "cell_type": "code",
   "execution_count": 50,
   "metadata": {},
   "outputs": [
    {
     "data": {
      "text/plain": [
       "4.3"
      ]
     },
     "execution_count": 50,
     "metadata": {},
     "output_type": "execute_result"
    }
   ],
   "source": [
    "obesidade_3_validation_percentege = filtered_validation_metros[filtered_validation_metros[\"Classification\"] == \"Obesidade grau 3\"]\n",
    "obesidade_3_validation_percentege = round((obesidade_3_validation_percentege[\"RecordID\"].count()/validation_count)*100,1)\n",
    "obesidade_3_validation_percentege"
   ]
  },
  {
   "cell_type": "code",
   "execution_count": 51,
   "metadata": {},
   "outputs": [
    {
     "data": {
      "text/plain": [
       "48.3"
      ]
     },
     "execution_count": 51,
     "metadata": {},
     "output_type": "execute_result"
    }
   ],
   "source": [
    "undefined_validation_percentege = round((undefined_validation[\"RecordID\"].count()/validation_count)*100,1)\n",
    "undefined_validation_percentege"
   ]
  },
  {
   "cell_type": "markdown",
   "metadata": {},
   "source": [
    "<h2>Test data</h2>"
   ]
  },
  {
   "cell_type": "code",
   "execution_count": 52,
   "metadata": {},
   "outputs": [],
   "source": [
    "test_X = physionet2012_dataset['test_X']"
   ]
  },
  {
   "cell_type": "markdown",
   "metadata": {},
   "source": [
    "<h3>Divided into subgroups by gender and showing the percentage</h3>\n"
   ]
  },
  {
   "cell_type": "code",
   "execution_count": 53,
   "metadata": {},
   "outputs": [],
   "source": [
    "distribution_gender_test = test_X['Gender'].value_counts(normalize=True) * 100\n",
    "distribution_gender_test = round(distribution_gender_test, 1) # 0: female, or 1: male"
   ]
  },
  {
   "cell_type": "code",
   "execution_count": 54,
   "metadata": {},
   "outputs": [],
   "source": [
    "if(distribution_gender_test.count() != 3):\n",
    "    distribution_gender_test[-1] = 0"
   ]
  },
  {
   "cell_type": "markdown",
   "metadata": {},
   "source": [
    "<h3>Divided into subgroups by ICUType and showing the percentage</h3>\n"
   ]
  },
  {
   "cell_type": "code",
   "execution_count": 55,
   "metadata": {},
   "outputs": [],
   "source": [
    "distribution_ICUType_test= test_X['ICUType'].value_counts(normalize=True) * 100\n",
    "distribution_ICUType_test = round(distribution_ICUType_test, 1)"
   ]
  },
  {
   "cell_type": "markdown",
   "metadata": {},
   "source": [
    "<h3>Filtering only one age per patient</h3>\n"
   ]
  },
  {
   "cell_type": "code",
   "execution_count": 56,
   "metadata": {},
   "outputs": [
    {
     "data": {
      "text/html": [
       "<div>\n",
       "<style scoped>\n",
       "    .dataframe tbody tr th:only-of-type {\n",
       "        vertical-align: middle;\n",
       "    }\n",
       "\n",
       "    .dataframe tbody tr th {\n",
       "        vertical-align: top;\n",
       "    }\n",
       "\n",
       "    .dataframe thead th {\n",
       "        text-align: right;\n",
       "    }\n",
       "</style>\n",
       "<table border=\"1\" class=\"dataframe\">\n",
       "  <thead>\n",
       "    <tr style=\"text-align: right;\">\n",
       "      <th></th>\n",
       "      <th>RecordID</th>\n",
       "      <th>level_1</th>\n",
       "      <th>Time</th>\n",
       "      <th>ALP</th>\n",
       "      <th>ALT</th>\n",
       "      <th>AST</th>\n",
       "      <th>Age</th>\n",
       "      <th>Albumin</th>\n",
       "      <th>BUN</th>\n",
       "      <th>Bilirubin</th>\n",
       "      <th>...</th>\n",
       "      <th>RespRate</th>\n",
       "      <th>SaO2</th>\n",
       "      <th>SysABP</th>\n",
       "      <th>Temp</th>\n",
       "      <th>TroponinI</th>\n",
       "      <th>TroponinT</th>\n",
       "      <th>Urine</th>\n",
       "      <th>WBC</th>\n",
       "      <th>Weight</th>\n",
       "      <th>pH</th>\n",
       "    </tr>\n",
       "  </thead>\n",
       "  <tbody>\n",
       "    <tr>\n",
       "      <th>0</th>\n",
       "      <td>132541</td>\n",
       "      <td>0</td>\n",
       "      <td>0.0</td>\n",
       "      <td>127.0</td>\n",
       "      <td>91.0</td>\n",
       "      <td>235.0</td>\n",
       "      <td>44.0</td>\n",
       "      <td>2.7</td>\n",
       "      <td>8.0</td>\n",
       "      <td>3.0</td>\n",
       "      <td>...</td>\n",
       "      <td>NaN</td>\n",
       "      <td>95.0</td>\n",
       "      <td>148.000000</td>\n",
       "      <td>37.8</td>\n",
       "      <td>NaN</td>\n",
       "      <td>NaN</td>\n",
       "      <td>100.0</td>\n",
       "      <td>4.2</td>\n",
       "      <td>56.7</td>\n",
       "      <td>7.51</td>\n",
       "    </tr>\n",
       "    <tr>\n",
       "      <th>1</th>\n",
       "      <td>132548</td>\n",
       "      <td>0</td>\n",
       "      <td>0.0</td>\n",
       "      <td>NaN</td>\n",
       "      <td>NaN</td>\n",
       "      <td>NaN</td>\n",
       "      <td>68.0</td>\n",
       "      <td>NaN</td>\n",
       "      <td>32.0</td>\n",
       "      <td>NaN</td>\n",
       "      <td>...</td>\n",
       "      <td>14.5</td>\n",
       "      <td>NaN</td>\n",
       "      <td>205.000000</td>\n",
       "      <td>36.3</td>\n",
       "      <td>0.7</td>\n",
       "      <td>NaN</td>\n",
       "      <td>120.0</td>\n",
       "      <td>6.2</td>\n",
       "      <td>87.0</td>\n",
       "      <td>NaN</td>\n",
       "    </tr>\n",
       "    <tr>\n",
       "      <th>2</th>\n",
       "      <td>132570</td>\n",
       "      <td>0</td>\n",
       "      <td>0.0</td>\n",
       "      <td>19.0</td>\n",
       "      <td>15.0</td>\n",
       "      <td>20.0</td>\n",
       "      <td>84.0</td>\n",
       "      <td>NaN</td>\n",
       "      <td>83.0</td>\n",
       "      <td>0.1</td>\n",
       "      <td>...</td>\n",
       "      <td>16.5</td>\n",
       "      <td>98.0</td>\n",
       "      <td>NaN</td>\n",
       "      <td>36.6</td>\n",
       "      <td>NaN</td>\n",
       "      <td>NaN</td>\n",
       "      <td>600.0</td>\n",
       "      <td>8.8</td>\n",
       "      <td>102.6</td>\n",
       "      <td>NaN</td>\n",
       "    </tr>\n",
       "    <tr>\n",
       "      <th>3</th>\n",
       "      <td>132584</td>\n",
       "      <td>0</td>\n",
       "      <td>0.0</td>\n",
       "      <td>48.0</td>\n",
       "      <td>10.0</td>\n",
       "      <td>13.0</td>\n",
       "      <td>78.0</td>\n",
       "      <td>2.2</td>\n",
       "      <td>16.0</td>\n",
       "      <td>0.9</td>\n",
       "      <td>...</td>\n",
       "      <td>NaN</td>\n",
       "      <td>NaN</td>\n",
       "      <td>6.333333</td>\n",
       "      <td>36.3</td>\n",
       "      <td>NaN</td>\n",
       "      <td>0.03</td>\n",
       "      <td>50.0</td>\n",
       "      <td>31.7</td>\n",
       "      <td>72.8</td>\n",
       "      <td>7.10</td>\n",
       "    </tr>\n",
       "    <tr>\n",
       "      <th>4</th>\n",
       "      <td>132599</td>\n",
       "      <td>0</td>\n",
       "      <td>0.0</td>\n",
       "      <td>124.0</td>\n",
       "      <td>14.0</td>\n",
       "      <td>20.0</td>\n",
       "      <td>53.0</td>\n",
       "      <td>2.0</td>\n",
       "      <td>33.0</td>\n",
       "      <td>1.3</td>\n",
       "      <td>...</td>\n",
       "      <td>NaN</td>\n",
       "      <td>98.0</td>\n",
       "      <td>135.000000</td>\n",
       "      <td>37.3</td>\n",
       "      <td>NaN</td>\n",
       "      <td>0.02</td>\n",
       "      <td>350.0</td>\n",
       "      <td>14.2</td>\n",
       "      <td>73.5</td>\n",
       "      <td>7.48</td>\n",
       "    </tr>\n",
       "  </tbody>\n",
       "</table>\n",
       "<p>5 rows × 44 columns</p>\n",
       "</div>"
      ],
      "text/plain": [
       "   RecordID  level_1  Time    ALP   ALT    AST   Age  Albumin   BUN  \\\n",
       "0    132541        0   0.0  127.0  91.0  235.0  44.0      2.7   8.0   \n",
       "1    132548        0   0.0    NaN   NaN    NaN  68.0      NaN  32.0   \n",
       "2    132570        0   0.0   19.0  15.0   20.0  84.0      NaN  83.0   \n",
       "3    132584        0   0.0   48.0  10.0   13.0  78.0      2.2  16.0   \n",
       "4    132599        0   0.0  124.0  14.0   20.0  53.0      2.0  33.0   \n",
       "\n",
       "   Bilirubin  ...  RespRate  SaO2      SysABP  Temp  TroponinI  TroponinT  \\\n",
       "0        3.0  ...       NaN  95.0  148.000000  37.8        NaN        NaN   \n",
       "1        NaN  ...      14.5   NaN  205.000000  36.3        0.7        NaN   \n",
       "2        0.1  ...      16.5  98.0         NaN  36.6        NaN        NaN   \n",
       "3        0.9  ...       NaN   NaN    6.333333  36.3        NaN       0.03   \n",
       "4        1.3  ...       NaN  98.0  135.000000  37.3        NaN       0.02   \n",
       "\n",
       "   Urine   WBC  Weight    pH  \n",
       "0  100.0   4.2    56.7  7.51  \n",
       "1  120.0   6.2    87.0   NaN  \n",
       "2  600.0   8.8   102.6   NaN  \n",
       "3   50.0  31.7    72.8  7.10  \n",
       "4  350.0  14.2    73.5  7.48  \n",
       "\n",
       "[5 rows x 44 columns]"
      ]
     },
     "execution_count": 56,
     "metadata": {},
     "output_type": "execute_result"
    }
   ],
   "source": [
    "uniques_test_per_variable = test_X.groupby('RecordID').first().reset_index()\n",
    "uniques_test_per_variable.head()"
   ]
  },
  {
   "cell_type": "markdown",
   "metadata": {},
   "source": [
    "<h3>Showing total occurrences of age</h3>"
   ]
  },
  {
   "cell_type": "code",
   "execution_count": 57,
   "metadata": {},
   "outputs": [
    {
     "data": {
      "text/plain": [
       "2399"
      ]
     },
     "execution_count": 57,
     "metadata": {},
     "output_type": "execute_result"
    }
   ],
   "source": [
    "uniques_test_per_variable[\"Age\"].count()"
   ]
  },
  {
   "cell_type": "markdown",
   "metadata": {},
   "source": [
    "<h3>Dividing age into subgroup of people aged 65+</h3>\n"
   ]
  },
  {
   "cell_type": "code",
   "execution_count": 58,
   "metadata": {},
   "outputs": [],
   "source": [
    "more_than_or_equal_to_65_test = uniques_test_per_variable[uniques_test_per_variable['Age'] >= 65]\n",
    "percentage_group_one_test = (more_than_or_equal_to_65_test[\"Age\"].count() / uniques_test_per_variable[\"Age\"].count())*100\n",
    "percentage_group_one_test = round(percentage_group_one_test, 1)"
   ]
  },
  {
   "cell_type": "markdown",
   "metadata": {},
   "source": [
    "<h3>Dividing age into subgroup of people under 65 years of age</h3>\n"
   ]
  },
  {
   "cell_type": "code",
   "execution_count": 59,
   "metadata": {},
   "outputs": [],
   "source": [
    "less_than_65_test = uniques_test_per_variable[uniques_test_per_variable['Age'] < 65]\n",
    "percentage_group_two_test = (less_than_65_test[\"Age\"].count() / uniques_test_per_variable[\"Age\"].count()) * 100\n",
    "percentage_group_two_test = round(percentage_group_two_test, 1)"
   ]
  },
  {
   "cell_type": "markdown",
   "metadata": {},
   "source": [
    "<h3>Filtering only one height and one weight per patient</h3>\n"
   ]
  },
  {
   "cell_type": "code",
   "execution_count": 60,
   "metadata": {},
   "outputs": [
    {
     "data": {
      "text/plain": [
       "2399"
      ]
     },
     "execution_count": 60,
     "metadata": {},
     "output_type": "execute_result"
    }
   ],
   "source": [
    "test_count = test_X.groupby(\"RecordID\").first().reset_index()\n",
    "test_count = test_count[\"RecordID\"].count()\n",
    "test_count"
   ]
  },
  {
   "cell_type": "code",
   "execution_count": 61,
   "metadata": {},
   "outputs": [],
   "source": [
    "filtered_test =  test_X[(test_X['Height'] != -1) & (test_X['Weight'] != -1) & (test_X['Height'].notna()) & (test_X['Weight'].notna())]\n",
    "filtered_test = filtered_test.groupby(\"RecordID\").first().reset_index()\n",
    "filtered_test_ids = filtered_test[\"RecordID\"]"
   ]
  },
  {
   "cell_type": "code",
   "execution_count": 62,
   "metadata": {},
   "outputs": [
    {
     "data": {
      "text/plain": [
       "1234"
      ]
     },
     "execution_count": 62,
     "metadata": {},
     "output_type": "execute_result"
    }
   ],
   "source": [
    "filtered_test_ids.count()"
   ]
  },
  {
   "cell_type": "code",
   "execution_count": 63,
   "metadata": {},
   "outputs": [],
   "source": [
    "undefined_test = test_X[~test_X[\"RecordID\"].isin(filtered_test_ids)]\n",
    "undefined_test = undefined_test.groupby(\"RecordID\").first().reset_index()\n",
    "undefined_test_ids = undefined_test[\"RecordID\"]"
   ]
  },
  {
   "cell_type": "code",
   "execution_count": 64,
   "metadata": {},
   "outputs": [
    {
     "data": {
      "text/plain": [
       "1165"
      ]
     },
     "execution_count": 64,
     "metadata": {},
     "output_type": "execute_result"
    }
   ],
   "source": [
    "undefined_test_ids.count()"
   ]
  },
  {
   "cell_type": "code",
   "execution_count": 65,
   "metadata": {},
   "outputs": [],
   "source": [
    "filtered_test_metros = filtered_test.copy()\n",
    "filtered_test_metros[\"Height\"] = filtered_test_metros[\"Height\"]/100"
   ]
  },
  {
   "cell_type": "code",
   "execution_count": 66,
   "metadata": {},
   "outputs": [],
   "source": [
    "filtered_test_metros[\"BMI\"] = round(filtered_test_metros[\"Weight\"]/(filtered_test_metros[\"Height\"]**2),1)"
   ]
  },
  {
   "cell_type": "code",
   "execution_count": 67,
   "metadata": {},
   "outputs": [],
   "source": [
    "filtered_test_metros[\"Classification\"] = filtered_test_metros[\"BMI\"].apply(classify_BMI)"
   ]
  },
  {
   "cell_type": "code",
   "execution_count": 68,
   "metadata": {},
   "outputs": [
    {
     "data": {
      "text/plain": [
       "Classification\n",
       "Sobrepeso           455\n",
       "Peso normal         343\n",
       "Obesidade grau 1    220\n",
       "Obesidade grau 2     92\n",
       "Obesidade grau 3     91\n",
       "Baixo peso           33\n",
       "Name: count, dtype: int64"
      ]
     },
     "execution_count": 68,
     "metadata": {},
     "output_type": "execute_result"
    }
   ],
   "source": [
    "filtered_test_metros[\"Classification\"].value_counts()"
   ]
  },
  {
   "cell_type": "code",
   "execution_count": 69,
   "metadata": {},
   "outputs": [
    {
     "data": {
      "text/plain": [
       "1.4"
      ]
     },
     "execution_count": 69,
     "metadata": {},
     "output_type": "execute_result"
    }
   ],
   "source": [
    "baixo_peso_test_percentage = filtered_test_metros[filtered_test_metros[\"Classification\"] == \"Baixo peso\"]\n",
    "baixo_peso_test_percentage = round((baixo_peso_test_percentage[\"RecordID\"].count()/test_count)*100,1)\n",
    "baixo_peso_test_percentage"
   ]
  },
  {
   "cell_type": "code",
   "execution_count": 70,
   "metadata": {},
   "outputs": [
    {
     "data": {
      "text/plain": [
       "14.3"
      ]
     },
     "execution_count": 70,
     "metadata": {},
     "output_type": "execute_result"
    }
   ],
   "source": [
    "peso_normal_test_percentage = filtered_test_metros[filtered_test_metros[\"Classification\"] == \"Peso normal\"]\n",
    "peso_normal_test_percentage = round((peso_normal_test_percentage[\"RecordID\"].count()/test_count)*100,1)\n",
    "peso_normal_test_percentage"
   ]
  },
  {
   "cell_type": "code",
   "execution_count": 71,
   "metadata": {},
   "outputs": [
    {
     "data": {
      "text/plain": [
       "19.0"
      ]
     },
     "execution_count": 71,
     "metadata": {},
     "output_type": "execute_result"
    }
   ],
   "source": [
    "sobrepeso_test_percentage = filtered_test_metros[filtered_test_metros[\"Classification\"]==\"Sobrepeso\"]\n",
    "sobrepeso_test_percentage = round((sobrepeso_test_percentage[\"RecordID\"].count()/test_count)*100,1)\n",
    "sobrepeso_test_percentage"
   ]
  },
  {
   "cell_type": "code",
   "execution_count": 72,
   "metadata": {},
   "outputs": [
    {
     "data": {
      "text/plain": [
       "9.2"
      ]
     },
     "execution_count": 72,
     "metadata": {},
     "output_type": "execute_result"
    }
   ],
   "source": [
    "obesidade_1_test_percentege = filtered_test_metros[filtered_test_metros[\"Classification\"] == \"Obesidade grau 1\"]\n",
    "obesidade_1_test_percentege = round((obesidade_1_test_percentege[\"RecordID\"].count()/test_count)*100,1)\n",
    "obesidade_1_test_percentege"
   ]
  },
  {
   "cell_type": "code",
   "execution_count": 73,
   "metadata": {},
   "outputs": [
    {
     "data": {
      "text/plain": [
       "3.8"
      ]
     },
     "execution_count": 73,
     "metadata": {},
     "output_type": "execute_result"
    }
   ],
   "source": [
    "obesidade_2_test_percentege = filtered_test_metros[filtered_test_metros[\"Classification\"] == \"Obesidade grau 2\"]\n",
    "obesidade_2_test_percentege = round((obesidade_2_test_percentege[\"RecordID\"].count()/test_count)*100,1)\n",
    "obesidade_2_test_percentege"
   ]
  },
  {
   "cell_type": "code",
   "execution_count": 74,
   "metadata": {},
   "outputs": [
    {
     "data": {
      "text/plain": [
       "3.8"
      ]
     },
     "execution_count": 74,
     "metadata": {},
     "output_type": "execute_result"
    }
   ],
   "source": [
    "obesidade_3_test_percentege = filtered_test_metros[filtered_test_metros[\"Classification\"] == \"Obesidade grau 3\"]\n",
    "obesidade_3_test_percentege = round((obesidade_3_test_percentege[\"RecordID\"].count()/test_count)*100,1)\n",
    "obesidade_3_test_percentege"
   ]
  },
  {
   "cell_type": "code",
   "execution_count": 75,
   "metadata": {},
   "outputs": [
    {
     "data": {
      "text/plain": [
       "48.6"
      ]
     },
     "execution_count": 75,
     "metadata": {},
     "output_type": "execute_result"
    }
   ],
   "source": [
    "undefined_test_percentege = round((undefined_test[\"RecordID\"].count()/test_count)*100,1)\n",
    "undefined_test_percentege"
   ]
  },
  {
   "cell_type": "markdown",
   "metadata": {},
   "source": [
    "<h3>Percentage of BMI classification groups</h3>"
   ]
  },
  {
   "cell_type": "code",
   "execution_count": 76,
   "metadata": {},
   "outputs": [],
   "source": [
    "subgroups = [(\"Female\"), (\"Male\"),(\"Undefined gender\") ,(\"ICUType 1\"), (\"ICUType 2\"), (\"ICUType 3\"), (\"ICUType 4\"),\n",
    "    (\"Age 65+\"), (\"Age 65-\"), (\"Baixo Peso\"), (\"Peso normal\"), (\"Sobrepeso\"),\n",
    "    (\"Obesidade grau 1\"), (\"Obesidade grau 2\"), (\"Obesidade grau 3\"),(\"Undefined_classification\")\n",
    "]\n",
    "\n",
    "df_subgroups = pd.DataFrame(subgroups, columns=[\"Subgroups\"])"
   ]
  },
  {
   "cell_type": "code",
   "execution_count": 77,
   "metadata": {},
   "outputs": [],
   "source": [
    "train_subgroups = [\n",
    "    (distribution_gender_training[0]), (distribution_gender_training[1]),(distribution_gender_training[-1]) ,(distribution_ICUType_training[1]), (distribution_ICUType_training[2]),\n",
    "    (distribution_ICUType_training[3]), (distribution_ICUType_training[4]), (percentage_group_one_train), (percentage_group_two_train),\n",
    "    (baixo_peso_train_percentage), (peso_normal_train_percentage), (sobrepeso_train_percentage), (obesidade_1_train_percentege),\n",
    "    (obesidade_2_train_percentege), (obesidade_3_train_percentege), (undefined_train_percentege)\n",
    "]\n",
    "\n",
    "df_train_subgroups = pd.DataFrame(train_subgroups, columns=[\"train\"])"
   ]
  },
  {
   "cell_type": "code",
   "execution_count": 78,
   "metadata": {},
   "outputs": [],
   "source": [
    "validation_subgroups = [\n",
    "    (distribution_gender_validation[0]), (distribution_gender_validation[1]),(distribution_gender_validation[-1]) ,(distribution_ICUType_validation[1]), (distribution_ICUType_validation[2]),\n",
    "    (distribution_ICUType_validation[3]), (distribution_ICUType_validation[4]), (percentage_group_one_validation), (percentage_group_two_validation),\n",
    "    (baixo_peso_validation_percentage), (peso_normal_validation_percentage), (sobrepeso_validation_percentage), (obesidade_1_validation_percentege),\n",
    "    (obesidade_2_validation_percentege), (obesidade_3_validation_percentege), (undefined_validation_percentege)\n",
    "]\n",
    "\n",
    "df_validation_subgroups = pd.DataFrame(validation_subgroups, columns=[\"train\"])"
   ]
  },
  {
   "cell_type": "code",
   "execution_count": 79,
   "metadata": {},
   "outputs": [],
   "source": [
    "test_subgroups = [\n",
    "    (distribution_gender_test[0]), (distribution_gender_test[1]),(distribution_gender_test[-1]) ,(distribution_ICUType_test[1]), (distribution_ICUType_test[2]),\n",
    "    (distribution_ICUType_test[3]), (distribution_ICUType_test[4]), (percentage_group_one_test), (percentage_group_two_test),\n",
    "    (baixo_peso_test_percentage), (peso_normal_test_percentage), (sobrepeso_test_percentage), (obesidade_1_test_percentege),\n",
    "    (obesidade_2_test_percentege), (obesidade_3_test_percentege), (undefined_test_percentege)\n",
    "]\n",
    "\n",
    "df_test_subgroups = pd.DataFrame(test_subgroups, columns=[\"train\"])"
   ]
  },
  {
   "cell_type": "markdown",
   "metadata": {},
   "source": [
    "<h2>Table 3</h2>"
   ]
  },
  {
   "cell_type": "code",
   "execution_count": 80,
   "metadata": {},
   "outputs": [
    {
     "data": {
      "text/html": [
       "<h2 style=' font-size: 24px; font-weight: bold;'>Descriptive statistics stratified by demographics</h2>"
      ],
      "text/plain": [
       "<IPython.core.display.HTML object>"
      ]
     },
     "metadata": {},
     "output_type": "display_data"
    },
    {
     "data": {
      "text/html": [
       "<div>\n",
       "<style scoped>\n",
       "    .dataframe tbody tr th:only-of-type {\n",
       "        vertical-align: middle;\n",
       "    }\n",
       "\n",
       "    .dataframe tbody tr th {\n",
       "        vertical-align: top;\n",
       "    }\n",
       "\n",
       "    .dataframe thead th {\n",
       "        text-align: right;\n",
       "    }\n",
       "</style>\n",
       "<table border=\"1\" class=\"dataframe\">\n",
       "  <thead>\n",
       "    <tr style=\"text-align: right;\">\n",
       "      <th></th>\n",
       "      <th>Subgroups</th>\n",
       "      <th>Train</th>\n",
       "      <th>Validation</th>\n",
       "      <th>Test</th>\n",
       "    </tr>\n",
       "  </thead>\n",
       "  <tbody>\n",
       "    <tr>\n",
       "      <th>0</th>\n",
       "      <td>Female</td>\n",
       "      <td>44.3</td>\n",
       "      <td>43.0</td>\n",
       "      <td>43.1</td>\n",
       "    </tr>\n",
       "    <tr>\n",
       "      <th>1</th>\n",
       "      <td>Male</td>\n",
       "      <td>55.6</td>\n",
       "      <td>56.9</td>\n",
       "      <td>56.7</td>\n",
       "    </tr>\n",
       "    <tr>\n",
       "      <th>2</th>\n",
       "      <td>Undefined gender</td>\n",
       "      <td>0.1</td>\n",
       "      <td>0.1</td>\n",
       "      <td>0.1</td>\n",
       "    </tr>\n",
       "    <tr>\n",
       "      <th>3</th>\n",
       "      <td>ICUType 1</td>\n",
       "      <td>14.8</td>\n",
       "      <td>13.3</td>\n",
       "      <td>15.4</td>\n",
       "    </tr>\n",
       "    <tr>\n",
       "      <th>4</th>\n",
       "      <td>ICUType 2</td>\n",
       "      <td>21.1</td>\n",
       "      <td>21.8</td>\n",
       "      <td>20.4</td>\n",
       "    </tr>\n",
       "    <tr>\n",
       "      <th>5</th>\n",
       "      <td>ICUType 3</td>\n",
       "      <td>35.6</td>\n",
       "      <td>36.7</td>\n",
       "      <td>35.6</td>\n",
       "    </tr>\n",
       "    <tr>\n",
       "      <th>6</th>\n",
       "      <td>ICUType 4</td>\n",
       "      <td>28.5</td>\n",
       "      <td>28.2</td>\n",
       "      <td>28.6</td>\n",
       "    </tr>\n",
       "    <tr>\n",
       "      <th>7</th>\n",
       "      <td>Age 65+</td>\n",
       "      <td>55.4</td>\n",
       "      <td>53.8</td>\n",
       "      <td>53.1</td>\n",
       "    </tr>\n",
       "    <tr>\n",
       "      <th>8</th>\n",
       "      <td>Age 65-</td>\n",
       "      <td>44.6</td>\n",
       "      <td>46.2</td>\n",
       "      <td>46.9</td>\n",
       "    </tr>\n",
       "    <tr>\n",
       "      <th>9</th>\n",
       "      <td>Baixo Peso</td>\n",
       "      <td>1.8</td>\n",
       "      <td>1.3</td>\n",
       "      <td>1.4</td>\n",
       "    </tr>\n",
       "    <tr>\n",
       "      <th>10</th>\n",
       "      <td>Peso normal</td>\n",
       "      <td>16.1</td>\n",
       "      <td>14.8</td>\n",
       "      <td>14.3</td>\n",
       "    </tr>\n",
       "    <tr>\n",
       "      <th>11</th>\n",
       "      <td>Sobrepeso</td>\n",
       "      <td>17.5</td>\n",
       "      <td>19.1</td>\n",
       "      <td>19.0</td>\n",
       "    </tr>\n",
       "    <tr>\n",
       "      <th>12</th>\n",
       "      <td>Obesidade grau 1</td>\n",
       "      <td>9.8</td>\n",
       "      <td>8.9</td>\n",
       "      <td>9.2</td>\n",
       "    </tr>\n",
       "    <tr>\n",
       "      <th>13</th>\n",
       "      <td>Obesidade grau 2</td>\n",
       "      <td>4.2</td>\n",
       "      <td>3.3</td>\n",
       "      <td>3.8</td>\n",
       "    </tr>\n",
       "    <tr>\n",
       "      <th>14</th>\n",
       "      <td>Obesidade grau 3</td>\n",
       "      <td>3.4</td>\n",
       "      <td>4.3</td>\n",
       "      <td>3.8</td>\n",
       "    </tr>\n",
       "    <tr>\n",
       "      <th>15</th>\n",
       "      <td>Undefined_classification</td>\n",
       "      <td>47.3</td>\n",
       "      <td>48.3</td>\n",
       "      <td>48.6</td>\n",
       "    </tr>\n",
       "  </tbody>\n",
       "</table>\n",
       "</div>"
      ],
      "text/plain": [
       "                   Subgroups  Train  Validation  Test\n",
       "0                     Female   44.3        43.0  43.1\n",
       "1                       Male   55.6        56.9  56.7\n",
       "2           Undefined gender    0.1         0.1   0.1\n",
       "3                  ICUType 1   14.8        13.3  15.4\n",
       "4                  ICUType 2   21.1        21.8  20.4\n",
       "5                  ICUType 3   35.6        36.7  35.6\n",
       "6                  ICUType 4   28.5        28.2  28.6\n",
       "7                    Age 65+   55.4        53.8  53.1\n",
       "8                    Age 65-   44.6        46.2  46.9\n",
       "9                 Baixo Peso    1.8         1.3   1.4\n",
       "10               Peso normal   16.1        14.8  14.3\n",
       "11                 Sobrepeso   17.5        19.1  19.0\n",
       "12          Obesidade grau 1    9.8         8.9   9.2\n",
       "13          Obesidade grau 2    4.2         3.3   3.8\n",
       "14          Obesidade grau 3    3.4         4.3   3.8\n",
       "15  Undefined_classification   47.3        48.3  48.6"
      ]
     },
     "execution_count": 80,
     "metadata": {},
     "output_type": "execute_result"
    }
   ],
   "source": [
    "table_descriptive_statistics = pd.DataFrame(columns=['Subgroups', 'Train', 'Validation', 'Test'])\n",
    "table_descriptive_statistics[\"Subgroups\"] = df_subgroups\n",
    "table_descriptive_statistics[\"Train\"] = df_train_subgroups\n",
    "table_descriptive_statistics[\"Validation\"] = df_validation_subgroups\n",
    "table_descriptive_statistics[\"Test\"] = df_test_subgroups\n",
    "\n",
    "display(HTML(\"<h2 style=' font-size: 24px; font-weight: bold;'>Descriptive statistics stratified by demographics</h2>\"))\n",
    "table_descriptive_statistics"
   ]
  }
 ],
 "metadata": {
  "kernelspec": {
   "display_name": "Python 3",
   "language": "python",
   "name": "python3"
  },
  "language_info": {
   "codemirror_mode": {
    "name": "ipython",
    "version": 3
   },
   "file_extension": ".py",
   "mimetype": "text/x-python",
   "name": "python",
   "nbconvert_exporter": "python",
   "pygments_lexer": "ipython3",
   "version": "3.8.10"
  }
 },
 "nbformat": 4,
 "nbformat_minor": 2
}

{
 "cells": [
  {
   "cell_type": "code",
   "execution_count": 1,
   "metadata": {},
   "outputs": [],
   "source": [
    "import os\n",
    "import sys\n",
    "import pandas as pd\n",
    "from IPython.display import display, HTML\n",
    "module_path = os.path.abspath(os.path.join('..'))\n",
    "if module_path not in sys.path:\n",
    "    sys.path.append(module_path)"
   ]
  },
  {
   "cell_type": "markdown",
   "metadata": {},
   "source": [
    "<h1>Loading database</h1>"
   ]
  },
  {
   "cell_type": "code",
   "execution_count": 2,
   "metadata": {},
   "outputs": [
    {
     "name": "stderr",
     "output_type": "stream",
     "text": [
      "2024-10-31 10:13:45 [INFO]: You're using dataset physionet_2012, please cite it properly in your work. You can find its reference information at the below link: \n",
      "https://github.com/WenjieDu/TSDB/tree/main/dataset_profiles/physionet_2012\n",
      "2024-10-31 10:13:45 [INFO]: Dataset physionet_2012 has already been downloaded. Processing directly...\n",
      "2024-10-31 10:13:45 [INFO]: Dataset physionet_2012 has already been cached. Loading from cache directly...\n",
      "2024-10-31 10:13:45 [INFO]: Loaded successfully!\n"
     ]
    }
   ],
   "source": [
    "from pypots.benchpots.datasets import preprocess_physionet2012\n",
    "physionet2012_dataset = preprocess_physionet2012(subset=\"all\", rate=0.1)"
   ]
  },
  {
   "cell_type": "markdown",
   "metadata": {},
   "source": [
    "<h2>Training data</h2>"
   ]
  },
  {
   "cell_type": "markdown",
   "metadata": {},
   "source": [
    "<h3>Loading training dataset</h3>"
   ]
  },
  {
   "cell_type": "code",
   "execution_count": 3,
   "metadata": {},
   "outputs": [],
   "source": [
    "train_X = physionet2012_dataset['train_X']"
   ]
  },
  {
   "cell_type": "markdown",
   "metadata": {},
   "source": [
    "<h3>Divided into subgroups by gender and showing the percentage</h3>"
   ]
  },
  {
   "cell_type": "code",
   "execution_count": 4,
   "metadata": {},
   "outputs": [
    {
     "data": {
      "text/plain": [
       "Gender\n",
       " 1.0    55.768479\n",
       " 0.0    44.101160\n",
       "-1.0     0.130361\n",
       "Name: proportion, dtype: float64"
      ]
     },
     "execution_count": 4,
     "metadata": {},
     "output_type": "execute_result"
    }
   ],
   "source": [
    "distribution_gender_training = train_X['Gender'].value_counts(normalize=True) * 100\n",
    "distribution_gender_training # 0: female, or 1: male"
   ]
  },
  {
   "cell_type": "markdown",
   "metadata": {},
   "source": [
    "<h3>Divided into subgroups by ICUType and showing the percentage</h3>"
   ]
  },
  {
   "cell_type": "code",
   "execution_count": 5,
   "metadata": {},
   "outputs": [
    {
     "data": {
      "text/plain": [
       "ICUType\n",
       "3.0    35.953591\n",
       "4.0    28.588189\n",
       "2.0    20.922957\n",
       "1.0    14.535263\n",
       "Name: proportion, dtype: float64"
      ]
     },
     "execution_count": 5,
     "metadata": {},
     "output_type": "execute_result"
    }
   ],
   "source": [
    "distribution_ICUType_training = train_X['ICUType'].value_counts(normalize=True) * 100\n",
    "distribution_ICUType_training"
   ]
  },
  {
   "cell_type": "markdown",
   "metadata": {},
   "source": [
    "<h3>Filtering one measurement per patient</h3>"
   ]
  },
  {
   "cell_type": "code",
   "execution_count": 6,
   "metadata": {},
   "outputs": [
    {
     "data": {
      "text/html": [
       "<div>\n",
       "<style scoped>\n",
       "    .dataframe tbody tr th:only-of-type {\n",
       "        vertical-align: middle;\n",
       "    }\n",
       "\n",
       "    .dataframe tbody tr th {\n",
       "        vertical-align: top;\n",
       "    }\n",
       "\n",
       "    .dataframe thead th {\n",
       "        text-align: right;\n",
       "    }\n",
       "</style>\n",
       "<table border=\"1\" class=\"dataframe\">\n",
       "  <thead>\n",
       "    <tr style=\"text-align: right;\">\n",
       "      <th></th>\n",
       "      <th>RecordID</th>\n",
       "      <th>level_1</th>\n",
       "      <th>Time</th>\n",
       "      <th>ALP</th>\n",
       "      <th>ALT</th>\n",
       "      <th>AST</th>\n",
       "      <th>Age</th>\n",
       "      <th>Albumin</th>\n",
       "      <th>BUN</th>\n",
       "      <th>Bilirubin</th>\n",
       "      <th>...</th>\n",
       "      <th>RespRate</th>\n",
       "      <th>SaO2</th>\n",
       "      <th>SysABP</th>\n",
       "      <th>Temp</th>\n",
       "      <th>TroponinI</th>\n",
       "      <th>TroponinT</th>\n",
       "      <th>Urine</th>\n",
       "      <th>WBC</th>\n",
       "      <th>Weight</th>\n",
       "      <th>pH</th>\n",
       "    </tr>\n",
       "  </thead>\n",
       "  <tbody>\n",
       "    <tr>\n",
       "      <th>0</th>\n",
       "      <td>132539</td>\n",
       "      <td>0</td>\n",
       "      <td>0.0</td>\n",
       "      <td>NaN</td>\n",
       "      <td>NaN</td>\n",
       "      <td>NaN</td>\n",
       "      <td>54.0</td>\n",
       "      <td>NaN</td>\n",
       "      <td>13.0</td>\n",
       "      <td>NaN</td>\n",
       "      <td>...</td>\n",
       "      <td>19.0</td>\n",
       "      <td>NaN</td>\n",
       "      <td>NaN</td>\n",
       "      <td>35.35</td>\n",
       "      <td>NaN</td>\n",
       "      <td>NaN</td>\n",
       "      <td>480.000000</td>\n",
       "      <td>11.2</td>\n",
       "      <td>-1.0</td>\n",
       "      <td>NaN</td>\n",
       "    </tr>\n",
       "    <tr>\n",
       "      <th>1</th>\n",
       "      <td>132540</td>\n",
       "      <td>0</td>\n",
       "      <td>0.0</td>\n",
       "      <td>NaN</td>\n",
       "      <td>NaN</td>\n",
       "      <td>NaN</td>\n",
       "      <td>76.0</td>\n",
       "      <td>NaN</td>\n",
       "      <td>16.0</td>\n",
       "      <td>NaN</td>\n",
       "      <td>...</td>\n",
       "      <td>NaN</td>\n",
       "      <td>99.0</td>\n",
       "      <td>103.0</td>\n",
       "      <td>34.88</td>\n",
       "      <td>NaN</td>\n",
       "      <td>NaN</td>\n",
       "      <td>316.666667</td>\n",
       "      <td>7.4</td>\n",
       "      <td>76.0</td>\n",
       "      <td>7.45</td>\n",
       "    </tr>\n",
       "    <tr>\n",
       "      <th>2</th>\n",
       "      <td>132541</td>\n",
       "      <td>0</td>\n",
       "      <td>0.0</td>\n",
       "      <td>127.0</td>\n",
       "      <td>91.0</td>\n",
       "      <td>235.0</td>\n",
       "      <td>44.0</td>\n",
       "      <td>2.7</td>\n",
       "      <td>8.0</td>\n",
       "      <td>3.0</td>\n",
       "      <td>...</td>\n",
       "      <td>NaN</td>\n",
       "      <td>95.0</td>\n",
       "      <td>148.0</td>\n",
       "      <td>37.80</td>\n",
       "      <td>NaN</td>\n",
       "      <td>NaN</td>\n",
       "      <td>100.000000</td>\n",
       "      <td>4.2</td>\n",
       "      <td>56.7</td>\n",
       "      <td>7.51</td>\n",
       "    </tr>\n",
       "    <tr>\n",
       "      <th>3</th>\n",
       "      <td>132543</td>\n",
       "      <td>0</td>\n",
       "      <td>0.0</td>\n",
       "      <td>105.0</td>\n",
       "      <td>12.0</td>\n",
       "      <td>15.0</td>\n",
       "      <td>68.0</td>\n",
       "      <td>4.4</td>\n",
       "      <td>23.0</td>\n",
       "      <td>0.2</td>\n",
       "      <td>...</td>\n",
       "      <td>18.0</td>\n",
       "      <td>NaN</td>\n",
       "      <td>NaN</td>\n",
       "      <td>36.30</td>\n",
       "      <td>NaN</td>\n",
       "      <td>NaN</td>\n",
       "      <td>600.000000</td>\n",
       "      <td>11.5</td>\n",
       "      <td>84.6</td>\n",
       "      <td>NaN</td>\n",
       "    </tr>\n",
       "    <tr>\n",
       "      <th>4</th>\n",
       "      <td>132545</td>\n",
       "      <td>0</td>\n",
       "      <td>0.0</td>\n",
       "      <td>NaN</td>\n",
       "      <td>NaN</td>\n",
       "      <td>NaN</td>\n",
       "      <td>88.0</td>\n",
       "      <td>3.3</td>\n",
       "      <td>45.0</td>\n",
       "      <td>NaN</td>\n",
       "      <td>...</td>\n",
       "      <td>24.0</td>\n",
       "      <td>NaN</td>\n",
       "      <td>NaN</td>\n",
       "      <td>37.80</td>\n",
       "      <td>NaN</td>\n",
       "      <td>NaN</td>\n",
       "      <td>140.000000</td>\n",
       "      <td>3.8</td>\n",
       "      <td>-1.0</td>\n",
       "      <td>NaN</td>\n",
       "    </tr>\n",
       "  </tbody>\n",
       "</table>\n",
       "<p>5 rows × 44 columns</p>\n",
       "</div>"
      ],
      "text/plain": [
       "   RecordID  level_1  Time    ALP   ALT    AST   Age  Albumin   BUN  \\\n",
       "0    132539        0   0.0    NaN   NaN    NaN  54.0      NaN  13.0   \n",
       "1    132540        0   0.0    NaN   NaN    NaN  76.0      NaN  16.0   \n",
       "2    132541        0   0.0  127.0  91.0  235.0  44.0      2.7   8.0   \n",
       "3    132543        0   0.0  105.0  12.0   15.0  68.0      4.4  23.0   \n",
       "4    132545        0   0.0    NaN   NaN    NaN  88.0      3.3  45.0   \n",
       "\n",
       "   Bilirubin  ...  RespRate  SaO2  SysABP   Temp  TroponinI  TroponinT  \\\n",
       "0        NaN  ...      19.0   NaN     NaN  35.35        NaN        NaN   \n",
       "1        NaN  ...       NaN  99.0   103.0  34.88        NaN        NaN   \n",
       "2        3.0  ...       NaN  95.0   148.0  37.80        NaN        NaN   \n",
       "3        0.2  ...      18.0   NaN     NaN  36.30        NaN        NaN   \n",
       "4        NaN  ...      24.0   NaN     NaN  37.80        NaN        NaN   \n",
       "\n",
       "        Urine   WBC  Weight    pH  \n",
       "0  480.000000  11.2    -1.0   NaN  \n",
       "1  316.666667   7.4    76.0  7.45  \n",
       "2  100.000000   4.2    56.7  7.51  \n",
       "3  600.000000  11.5    84.6   NaN  \n",
       "4  140.000000   3.8    -1.0   NaN  \n",
       "\n",
       "[5 rows x 44 columns]"
      ]
     },
     "execution_count": 6,
     "metadata": {},
     "output_type": "execute_result"
    }
   ],
   "source": [
    "uniques_train_per_variable = train_X.groupby('RecordID').first().reset_index()\n",
    "uniques_train_per_variable.head()"
   ]
  },
  {
   "cell_type": "code",
   "execution_count": 7,
   "metadata": {},
   "outputs": [
    {
     "data": {
      "text/plain": [
       "RecordID       7671\n",
       "level_1        7671\n",
       "Time           7671\n",
       "ALP            3262\n",
       "ALT            3338\n",
       "AST            3340\n",
       "Age            7671\n",
       "Albumin        3125\n",
       "BUN            7560\n",
       "Bilirubin      3328\n",
       "Cholesterol     610\n",
       "Creatinine     7560\n",
       "DiasABP        5397\n",
       "FiO2           5164\n",
       "GCS            7550\n",
       "Gender         7671\n",
       "Glucose        7481\n",
       "HCO3           7541\n",
       "HCT            7551\n",
       "HR             7550\n",
       "Height         7671\n",
       "ICUType        7671\n",
       "K              7514\n",
       "Lactate        4179\n",
       "MAP            5385\n",
       "MechVent       4801\n",
       "Mg             7491\n",
       "NIDiasABP      6692\n",
       "NIMAP          6680\n",
       "NISysABP       6708\n",
       "Na             7538\n",
       "PaCO2          5783\n",
       "PaO2           5783\n",
       "Platelets      7550\n",
       "RespRate       2146\n",
       "SaO2           3397\n",
       "SysABP         5397\n",
       "Temp           7550\n",
       "TroponinI       360\n",
       "TroponinT      1638\n",
       "Urine          7468\n",
       "WBC            7540\n",
       "Weight         7671\n",
       "pH             5823\n",
       "dtype: int64"
      ]
     },
     "execution_count": 7,
     "metadata": {},
     "output_type": "execute_result"
    }
   ],
   "source": [
    "uniques_train_per_variable.count()"
   ]
  },
  {
   "cell_type": "markdown",
   "metadata": {},
   "source": [
    "<h3>Showing total occurrences of age</h3>"
   ]
  },
  {
   "cell_type": "code",
   "execution_count": 8,
   "metadata": {},
   "outputs": [
    {
     "data": {
      "text/plain": [
       "7671"
      ]
     },
     "execution_count": 8,
     "metadata": {},
     "output_type": "execute_result"
    }
   ],
   "source": [
    "# 60% de 11988 (training set)\n",
    "uniques_train_per_variable[\"Age\"].count()"
   ]
  },
  {
   "cell_type": "markdown",
   "metadata": {},
   "source": [
    "<h3>Dividing age into subgroup of people aged 65+</h3>"
   ]
  },
  {
   "cell_type": "code",
   "execution_count": 9,
   "metadata": {},
   "outputs": [
    {
     "data": {
      "text/plain": [
       "54.53004823360709"
      ]
     },
     "execution_count": 9,
     "metadata": {},
     "output_type": "execute_result"
    }
   ],
   "source": [
    "more_than_or_equal_to_65_training = uniques_train_per_variable[uniques_train_per_variable['Age'] >= 65]\n",
    "percentage_group_one_train = (more_than_or_equal_to_65_training[\"Age\"].count() / uniques_train_per_variable[\"Age\"].count())*100\n",
    "percentage_group_one_train"
   ]
  },
  {
   "cell_type": "markdown",
   "metadata": {},
   "source": [
    "<h3>Dividing age into subgroup of people under 65 years of age</h3>"
   ]
  },
  {
   "cell_type": "code",
   "execution_count": 10,
   "metadata": {},
   "outputs": [
    {
     "data": {
      "text/plain": [
       "45.46995176639291"
      ]
     },
     "execution_count": 10,
     "metadata": {},
     "output_type": "execute_result"
    }
   ],
   "source": [
    "less_than_65 = uniques_train_per_variable[uniques_train_per_variable['Age'] < 65]\n",
    "percentage_group_two_train = (less_than_65[\"Age\"].count() / uniques_train_per_variable[\"Age\"].count()) * 100\n",
    "percentage_group_two_train"
   ]
  },
  {
   "cell_type": "markdown",
   "metadata": {},
   "source": [
    "<h3>Filtering only one height and one weight per patient</h3>"
   ]
  },
  {
   "cell_type": "code",
   "execution_count": 11,
   "metadata": {},
   "outputs": [],
   "source": [
    "filtered_train_X = train_X[(train_X['Height'] != -1) & (train_X['Weight'] != -1) & (train_X['Height'].notna()) & (train_X['Weight'].notna())] "
   ]
  },
  {
   "cell_type": "code",
   "execution_count": 12,
   "metadata": {},
   "outputs": [
    {
     "data": {
      "text/html": [
       "<div>\n",
       "<style scoped>\n",
       "    .dataframe tbody tr th:only-of-type {\n",
       "        vertical-align: middle;\n",
       "    }\n",
       "\n",
       "    .dataframe tbody tr th {\n",
       "        vertical-align: top;\n",
       "    }\n",
       "\n",
       "    .dataframe thead th {\n",
       "        text-align: right;\n",
       "    }\n",
       "</style>\n",
       "<table border=\"1\" class=\"dataframe\">\n",
       "  <thead>\n",
       "    <tr style=\"text-align: right;\">\n",
       "      <th></th>\n",
       "      <th>RecordID</th>\n",
       "      <th>level_1</th>\n",
       "      <th>Time</th>\n",
       "      <th>ALP</th>\n",
       "      <th>ALT</th>\n",
       "      <th>AST</th>\n",
       "      <th>Age</th>\n",
       "      <th>Albumin</th>\n",
       "      <th>BUN</th>\n",
       "      <th>Bilirubin</th>\n",
       "      <th>...</th>\n",
       "      <th>RespRate</th>\n",
       "      <th>SaO2</th>\n",
       "      <th>SysABP</th>\n",
       "      <th>Temp</th>\n",
       "      <th>TroponinI</th>\n",
       "      <th>TroponinT</th>\n",
       "      <th>Urine</th>\n",
       "      <th>WBC</th>\n",
       "      <th>Weight</th>\n",
       "      <th>pH</th>\n",
       "    </tr>\n",
       "  </thead>\n",
       "  <tbody>\n",
       "    <tr>\n",
       "      <th>0</th>\n",
       "      <td>132540</td>\n",
       "      <td>0</td>\n",
       "      <td>0.0</td>\n",
       "      <td>NaN</td>\n",
       "      <td>NaN</td>\n",
       "      <td>NaN</td>\n",
       "      <td>76.0</td>\n",
       "      <td>NaN</td>\n",
       "      <td>21.0</td>\n",
       "      <td>NaN</td>\n",
       "      <td>...</td>\n",
       "      <td>NaN</td>\n",
       "      <td>93.0</td>\n",
       "      <td>122.0</td>\n",
       "      <td>37.5</td>\n",
       "      <td>NaN</td>\n",
       "      <td>NaN</td>\n",
       "      <td>50.0</td>\n",
       "      <td>13.3</td>\n",
       "      <td>76.0</td>\n",
       "      <td>7.45</td>\n",
       "    </tr>\n",
       "    <tr>\n",
       "      <th>1</th>\n",
       "      <td>132543</td>\n",
       "      <td>0</td>\n",
       "      <td>0.0</td>\n",
       "      <td>105.0</td>\n",
       "      <td>12.0</td>\n",
       "      <td>15.0</td>\n",
       "      <td>68.0</td>\n",
       "      <td>4.4</td>\n",
       "      <td>23.0</td>\n",
       "      <td>0.2</td>\n",
       "      <td>...</td>\n",
       "      <td>18.0</td>\n",
       "      <td>NaN</td>\n",
       "      <td>NaN</td>\n",
       "      <td>36.3</td>\n",
       "      <td>NaN</td>\n",
       "      <td>NaN</td>\n",
       "      <td>600.0</td>\n",
       "      <td>11.5</td>\n",
       "      <td>84.6</td>\n",
       "      <td>NaN</td>\n",
       "    </tr>\n",
       "    <tr>\n",
       "      <th>2</th>\n",
       "      <td>132547</td>\n",
       "      <td>0</td>\n",
       "      <td>0.0</td>\n",
       "      <td>NaN</td>\n",
       "      <td>NaN</td>\n",
       "      <td>NaN</td>\n",
       "      <td>64.0</td>\n",
       "      <td>NaN</td>\n",
       "      <td>NaN</td>\n",
       "      <td>NaN</td>\n",
       "      <td>...</td>\n",
       "      <td>NaN</td>\n",
       "      <td>NaN</td>\n",
       "      <td>NaN</td>\n",
       "      <td>NaN</td>\n",
       "      <td>NaN</td>\n",
       "      <td>NaN</td>\n",
       "      <td>NaN</td>\n",
       "      <td>NaN</td>\n",
       "      <td>114.0</td>\n",
       "      <td>NaN</td>\n",
       "    </tr>\n",
       "    <tr>\n",
       "      <th>3</th>\n",
       "      <td>132548</td>\n",
       "      <td>0</td>\n",
       "      <td>0.0</td>\n",
       "      <td>NaN</td>\n",
       "      <td>NaN</td>\n",
       "      <td>NaN</td>\n",
       "      <td>68.0</td>\n",
       "      <td>NaN</td>\n",
       "      <td>32.0</td>\n",
       "      <td>NaN</td>\n",
       "      <td>...</td>\n",
       "      <td>14.5</td>\n",
       "      <td>NaN</td>\n",
       "      <td>205.0</td>\n",
       "      <td>36.3</td>\n",
       "      <td>0.7</td>\n",
       "      <td>NaN</td>\n",
       "      <td>120.0</td>\n",
       "      <td>6.2</td>\n",
       "      <td>87.0</td>\n",
       "      <td>NaN</td>\n",
       "    </tr>\n",
       "    <tr>\n",
       "      <th>4</th>\n",
       "      <td>132555</td>\n",
       "      <td>0</td>\n",
       "      <td>0.0</td>\n",
       "      <td>NaN</td>\n",
       "      <td>NaN</td>\n",
       "      <td>NaN</td>\n",
       "      <td>74.0</td>\n",
       "      <td>NaN</td>\n",
       "      <td>19.0</td>\n",
       "      <td>NaN</td>\n",
       "      <td>...</td>\n",
       "      <td>NaN</td>\n",
       "      <td>99.0</td>\n",
       "      <td>98.0</td>\n",
       "      <td>34.8</td>\n",
       "      <td>NaN</td>\n",
       "      <td>NaN</td>\n",
       "      <td>35.0</td>\n",
       "      <td>9.0</td>\n",
       "      <td>66.1</td>\n",
       "      <td>7.39</td>\n",
       "    </tr>\n",
       "  </tbody>\n",
       "</table>\n",
       "<p>5 rows × 44 columns</p>\n",
       "</div>"
      ],
      "text/plain": [
       "   RecordID  level_1  Time    ALP   ALT   AST   Age  Albumin   BUN  Bilirubin  \\\n",
       "0    132540        0   0.0    NaN   NaN   NaN  76.0      NaN  21.0        NaN   \n",
       "1    132543        0   0.0  105.0  12.0  15.0  68.0      4.4  23.0        0.2   \n",
       "2    132547        0   0.0    NaN   NaN   NaN  64.0      NaN   NaN        NaN   \n",
       "3    132548        0   0.0    NaN   NaN   NaN  68.0      NaN  32.0        NaN   \n",
       "4    132555        0   0.0    NaN   NaN   NaN  74.0      NaN  19.0        NaN   \n",
       "\n",
       "   ...  RespRate  SaO2  SysABP  Temp  TroponinI  TroponinT  Urine   WBC  \\\n",
       "0  ...       NaN  93.0   122.0  37.5        NaN        NaN   50.0  13.3   \n",
       "1  ...      18.0   NaN     NaN  36.3        NaN        NaN  600.0  11.5   \n",
       "2  ...       NaN   NaN     NaN   NaN        NaN        NaN    NaN   NaN   \n",
       "3  ...      14.5   NaN   205.0  36.3        0.7        NaN  120.0   6.2   \n",
       "4  ...       NaN  99.0    98.0  34.8        NaN        NaN   35.0   9.0   \n",
       "\n",
       "   Weight    pH  \n",
       "0    76.0  7.45  \n",
       "1    84.6   NaN  \n",
       "2   114.0   NaN  \n",
       "3    87.0   NaN  \n",
       "4    66.1  7.39  \n",
       "\n",
       "[5 rows x 44 columns]"
      ]
     },
     "execution_count": 12,
     "metadata": {},
     "output_type": "execute_result"
    }
   ],
   "source": [
    "filtered_uniques_train = filtered_train_X.groupby('RecordID').first().reset_index() \n",
    "filtered_uniques_train.head()"
   ]
  },
  {
   "cell_type": "markdown",
   "metadata": {},
   "source": [
    "<h3>Calculate the BMI</h3>"
   ]
  },
  {
   "cell_type": "code",
   "execution_count": 13,
   "metadata": {},
   "outputs": [],
   "source": [
    "def classify_BMI(BMI):\n",
    "    if BMI < 18.5:\n",
    "        return \"Baixo peso\"\n",
    "    elif BMI >= 18.6 and BMI <= 24.9:\n",
    "        return \"Peso normal\"\n",
    "    elif BMI >= 25 and BMI <= 29.9:\n",
    "        return \"Sobrepeso\"\n",
    "    elif BMI >= 30 and BMI <= 34.9:\n",
    "        return \"Obesidade grau 1\"\n",
    "    elif BMI >= 35 and BMI <= 39.9:\n",
    "        return \"Obesidade grau 2\"\n",
    "    elif BMI >= 40:\n",
    "        return \"Obesidade grau 3\""
   ]
  },
  {
   "cell_type": "code",
   "execution_count": 14,
   "metadata": {},
   "outputs": [],
   "source": [
    "filtered_uniques_train['Height'] = filtered_uniques_train['Height'] / 100 # Converting Height from cm to meters"
   ]
  },
  {
   "cell_type": "code",
   "execution_count": 15,
   "metadata": {},
   "outputs": [
    {
     "data": {
      "text/html": [
       "<div>\n",
       "<style scoped>\n",
       "    .dataframe tbody tr th:only-of-type {\n",
       "        vertical-align: middle;\n",
       "    }\n",
       "\n",
       "    .dataframe tbody tr th {\n",
       "        vertical-align: top;\n",
       "    }\n",
       "\n",
       "    .dataframe thead th {\n",
       "        text-align: right;\n",
       "    }\n",
       "</style>\n",
       "<table border=\"1\" class=\"dataframe\">\n",
       "  <thead>\n",
       "    <tr style=\"text-align: right;\">\n",
       "      <th></th>\n",
       "      <th>RecordID</th>\n",
       "      <th>Height</th>\n",
       "      <th>Weight</th>\n",
       "      <th>BMI</th>\n",
       "      <th>Classificacao</th>\n",
       "    </tr>\n",
       "  </thead>\n",
       "  <tbody>\n",
       "    <tr>\n",
       "      <th>0</th>\n",
       "      <td>132540</td>\n",
       "      <td>1.753</td>\n",
       "      <td>76.0</td>\n",
       "      <td>24.731460</td>\n",
       "      <td>Peso normal</td>\n",
       "    </tr>\n",
       "    <tr>\n",
       "      <th>1</th>\n",
       "      <td>132543</td>\n",
       "      <td>1.803</td>\n",
       "      <td>84.6</td>\n",
       "      <td>26.024291</td>\n",
       "      <td>Sobrepeso</td>\n",
       "    </tr>\n",
       "    <tr>\n",
       "      <th>2</th>\n",
       "      <td>132547</td>\n",
       "      <td>1.803</td>\n",
       "      <td>114.0</td>\n",
       "      <td>35.068194</td>\n",
       "      <td>Obesidade grau 2</td>\n",
       "    </tr>\n",
       "    <tr>\n",
       "      <th>3</th>\n",
       "      <td>132548</td>\n",
       "      <td>1.626</td>\n",
       "      <td>87.0</td>\n",
       "      <td>32.906233</td>\n",
       "      <td>Obesidade grau 1</td>\n",
       "    </tr>\n",
       "    <tr>\n",
       "      <th>4</th>\n",
       "      <td>132555</td>\n",
       "      <td>1.753</td>\n",
       "      <td>66.1</td>\n",
       "      <td>21.509862</td>\n",
       "      <td>Peso normal</td>\n",
       "    </tr>\n",
       "  </tbody>\n",
       "</table>\n",
       "</div>"
      ],
      "text/plain": [
       "   RecordID  Height  Weight        BMI     Classificacao\n",
       "0    132540   1.753    76.0  24.731460       Peso normal\n",
       "1    132543   1.803    84.6  26.024291         Sobrepeso\n",
       "2    132547   1.803   114.0  35.068194  Obesidade grau 2\n",
       "3    132548   1.626    87.0  32.906233  Obesidade grau 1\n",
       "4    132555   1.753    66.1  21.509862       Peso normal"
      ]
     },
     "execution_count": 15,
     "metadata": {},
     "output_type": "execute_result"
    }
   ],
   "source": [
    "bmi_data_train = pd.DataFrame(columns=['RecordID', 'Height', 'Weight', 'BMI', 'Classificacao'])\n",
    "bmi_data_train[\"RecordID\"] = filtered_uniques_train[\"RecordID\"]\n",
    "bmi_data_train[\"Height\"] = filtered_uniques_train[\"Height\"]\n",
    "bmi_data_train[\"Weight\"] = filtered_uniques_train[\"Weight\"]\n",
    "bmi_data_train[\"BMI\"] = filtered_uniques_train[\"Weight\"] / (filtered_uniques_train[\"Height\"] ** 2)\n",
    "bmi_data_train[\"Classificacao\"] = bmi_data_train[\"BMI\"].apply(classify_BMI)\n",
    "bmi_data_train.head()"
   ]
  },
  {
   "cell_type": "markdown",
   "metadata": {},
   "source": [
    "<h3>Percentage of BMI classification groups</h3>"
   ]
  },
  {
   "cell_type": "code",
   "execution_count": 16,
   "metadata": {},
   "outputs": [],
   "source": [
    "percentage_bmi_train= bmi_data_train[\"Classificacao\"].value_counts(normalize=True) * 100"
   ]
  },
  {
   "cell_type": "code",
   "execution_count": 17,
   "metadata": {},
   "outputs": [
    {
     "data": {
      "text/plain": [
       "Classificacao\n",
       "Sobrepeso           34.170082\n",
       "Peso normal         29.994877\n",
       "Obesidade grau 1    18.442623\n",
       "Obesidade grau 2     7.300205\n",
       "Obesidade grau 3     7.018443\n",
       "Baixo peso           3.073770\n",
       "Name: proportion, dtype: float64"
      ]
     },
     "execution_count": 17,
     "metadata": {},
     "output_type": "execute_result"
    }
   ],
   "source": [
    "percentage_bmi_train"
   ]
  },
  {
   "cell_type": "markdown",
   "metadata": {},
   "source": [
    "<h2>Validation data</h2>"
   ]
  },
  {
   "cell_type": "markdown",
   "metadata": {},
   "source": [
    "<h3>Loading validation dataset </h3>"
   ]
  },
  {
   "cell_type": "code",
   "execution_count": 18,
   "metadata": {},
   "outputs": [],
   "source": [
    "validation_X = physionet2012_dataset['val_X']"
   ]
  },
  {
   "cell_type": "markdown",
   "metadata": {},
   "source": [
    "<h3>Divided into subgroups by gender and showing the percentage</h3>"
   ]
  },
  {
   "cell_type": "code",
   "execution_count": 19,
   "metadata": {},
   "outputs": [
    {
     "data": {
      "text/plain": [
       "Gender\n",
       " 1.0    56.100104\n",
       " 0.0    43.847758\n",
       "-1.0     0.052138\n",
       "Name: proportion, dtype: float64"
      ]
     },
     "execution_count": 19,
     "metadata": {},
     "output_type": "execute_result"
    }
   ],
   "source": [
    "distribution_gender_validation = validation_X['Gender'].value_counts(normalize=True) * 100\n",
    "distribution_gender_validation # 0: female, or 1: male"
   ]
  },
  {
   "cell_type": "markdown",
   "metadata": {},
   "source": [
    "<h3>Divided into subgroups by ICUType and showing the percentage</h3>"
   ]
  },
  {
   "cell_type": "code",
   "execution_count": 20,
   "metadata": {},
   "outputs": [
    {
     "data": {
      "text/plain": [
       "ICUType\n",
       "3.0    36.757039\n",
       "4.0    27.737226\n",
       "2.0    20.750782\n",
       "1.0    14.754953\n",
       "Name: proportion, dtype: float64"
      ]
     },
     "execution_count": 20,
     "metadata": {},
     "output_type": "execute_result"
    }
   ],
   "source": [
    "distribution_ICUType_validation = validation_X['ICUType'].value_counts(normalize=True) * 100\n",
    "distribution_ICUType_validation"
   ]
  },
  {
   "cell_type": "markdown",
   "metadata": {},
   "source": [
    "<h3>Filtering only one age per patient</h3>"
   ]
  },
  {
   "cell_type": "code",
   "execution_count": 21,
   "metadata": {},
   "outputs": [
    {
     "data": {
      "text/html": [
       "<div>\n",
       "<style scoped>\n",
       "    .dataframe tbody tr th:only-of-type {\n",
       "        vertical-align: middle;\n",
       "    }\n",
       "\n",
       "    .dataframe tbody tr th {\n",
       "        vertical-align: top;\n",
       "    }\n",
       "\n",
       "    .dataframe thead th {\n",
       "        text-align: right;\n",
       "    }\n",
       "</style>\n",
       "<table border=\"1\" class=\"dataframe\">\n",
       "  <thead>\n",
       "    <tr style=\"text-align: right;\">\n",
       "      <th></th>\n",
       "      <th>RecordID</th>\n",
       "      <th>level_1</th>\n",
       "      <th>Time</th>\n",
       "      <th>ALP</th>\n",
       "      <th>ALT</th>\n",
       "      <th>AST</th>\n",
       "      <th>Age</th>\n",
       "      <th>Albumin</th>\n",
       "      <th>BUN</th>\n",
       "      <th>Bilirubin</th>\n",
       "      <th>...</th>\n",
       "      <th>RespRate</th>\n",
       "      <th>SaO2</th>\n",
       "      <th>SysABP</th>\n",
       "      <th>Temp</th>\n",
       "      <th>TroponinI</th>\n",
       "      <th>TroponinT</th>\n",
       "      <th>Urine</th>\n",
       "      <th>WBC</th>\n",
       "      <th>Weight</th>\n",
       "      <th>pH</th>\n",
       "    </tr>\n",
       "  </thead>\n",
       "  <tbody>\n",
       "    <tr>\n",
       "      <th>0</th>\n",
       "      <td>132551</td>\n",
       "      <td>0</td>\n",
       "      <td>0.0</td>\n",
       "      <td>47.0</td>\n",
       "      <td>46.0</td>\n",
       "      <td>82.0</td>\n",
       "      <td>78.0</td>\n",
       "      <td>1.9</td>\n",
       "      <td>81.0</td>\n",
       "      <td>0.3</td>\n",
       "      <td>...</td>\n",
       "      <td>NaN</td>\n",
       "      <td>97.0</td>\n",
       "      <td>102.75</td>\n",
       "      <td>38.0</td>\n",
       "      <td>3.5</td>\n",
       "      <td>NaN</td>\n",
       "      <td>120.0</td>\n",
       "      <td>16.1</td>\n",
       "      <td>48.4</td>\n",
       "      <td>7.40</td>\n",
       "    </tr>\n",
       "    <tr>\n",
       "      <th>1</th>\n",
       "      <td>132556</td>\n",
       "      <td>0</td>\n",
       "      <td>0.0</td>\n",
       "      <td>402.0</td>\n",
       "      <td>36.0</td>\n",
       "      <td>47.0</td>\n",
       "      <td>64.0</td>\n",
       "      <td>2.7</td>\n",
       "      <td>64.0</td>\n",
       "      <td>0.1</td>\n",
       "      <td>...</td>\n",
       "      <td>10.0</td>\n",
       "      <td>NaN</td>\n",
       "      <td>NaN</td>\n",
       "      <td>36.7</td>\n",
       "      <td>NaN</td>\n",
       "      <td>NaN</td>\n",
       "      <td>200.0</td>\n",
       "      <td>21.8</td>\n",
       "      <td>65.0</td>\n",
       "      <td>NaN</td>\n",
       "    </tr>\n",
       "    <tr>\n",
       "      <th>2</th>\n",
       "      <td>132592</td>\n",
       "      <td>0</td>\n",
       "      <td>0.0</td>\n",
       "      <td>NaN</td>\n",
       "      <td>NaN</td>\n",
       "      <td>NaN</td>\n",
       "      <td>35.0</td>\n",
       "      <td>NaN</td>\n",
       "      <td>68.0</td>\n",
       "      <td>NaN</td>\n",
       "      <td>...</td>\n",
       "      <td>22.0</td>\n",
       "      <td>NaN</td>\n",
       "      <td>NaN</td>\n",
       "      <td>36.6</td>\n",
       "      <td>NaN</td>\n",
       "      <td>0.15</td>\n",
       "      <td>120.0</td>\n",
       "      <td>15.3</td>\n",
       "      <td>71.8</td>\n",
       "      <td>NaN</td>\n",
       "    </tr>\n",
       "    <tr>\n",
       "      <th>3</th>\n",
       "      <td>132601</td>\n",
       "      <td>0</td>\n",
       "      <td>0.0</td>\n",
       "      <td>NaN</td>\n",
       "      <td>NaN</td>\n",
       "      <td>NaN</td>\n",
       "      <td>74.0</td>\n",
       "      <td>NaN</td>\n",
       "      <td>10.0</td>\n",
       "      <td>NaN</td>\n",
       "      <td>...</td>\n",
       "      <td>NaN</td>\n",
       "      <td>99.0</td>\n",
       "      <td>127.00</td>\n",
       "      <td>36.2</td>\n",
       "      <td>NaN</td>\n",
       "      <td>NaN</td>\n",
       "      <td>442.5</td>\n",
       "      <td>16.4</td>\n",
       "      <td>75.9</td>\n",
       "      <td>7.39</td>\n",
       "    </tr>\n",
       "    <tr>\n",
       "      <th>4</th>\n",
       "      <td>132617</td>\n",
       "      <td>0</td>\n",
       "      <td>0.0</td>\n",
       "      <td>NaN</td>\n",
       "      <td>NaN</td>\n",
       "      <td>NaN</td>\n",
       "      <td>77.0</td>\n",
       "      <td>NaN</td>\n",
       "      <td>111.0</td>\n",
       "      <td>NaN</td>\n",
       "      <td>...</td>\n",
       "      <td>NaN</td>\n",
       "      <td>97.0</td>\n",
       "      <td>NaN</td>\n",
       "      <td>36.4</td>\n",
       "      <td>NaN</td>\n",
       "      <td>NaN</td>\n",
       "      <td>100.0</td>\n",
       "      <td>7.9</td>\n",
       "      <td>75.0</td>\n",
       "      <td>7.55</td>\n",
       "    </tr>\n",
       "  </tbody>\n",
       "</table>\n",
       "<p>5 rows × 44 columns</p>\n",
       "</div>"
      ],
      "text/plain": [
       "   RecordID  level_1  Time    ALP   ALT   AST   Age  Albumin    BUN  \\\n",
       "0    132551        0   0.0   47.0  46.0  82.0  78.0      1.9   81.0   \n",
       "1    132556        0   0.0  402.0  36.0  47.0  64.0      2.7   64.0   \n",
       "2    132592        0   0.0    NaN   NaN   NaN  35.0      NaN   68.0   \n",
       "3    132601        0   0.0    NaN   NaN   NaN  74.0      NaN   10.0   \n",
       "4    132617        0   0.0    NaN   NaN   NaN  77.0      NaN  111.0   \n",
       "\n",
       "   Bilirubin  ...  RespRate  SaO2  SysABP  Temp  TroponinI  TroponinT  Urine  \\\n",
       "0        0.3  ...       NaN  97.0  102.75  38.0        3.5        NaN  120.0   \n",
       "1        0.1  ...      10.0   NaN     NaN  36.7        NaN        NaN  200.0   \n",
       "2        NaN  ...      22.0   NaN     NaN  36.6        NaN       0.15  120.0   \n",
       "3        NaN  ...       NaN  99.0  127.00  36.2        NaN        NaN  442.5   \n",
       "4        NaN  ...       NaN  97.0     NaN  36.4        NaN        NaN  100.0   \n",
       "\n",
       "    WBC  Weight    pH  \n",
       "0  16.1    48.4  7.40  \n",
       "1  21.8    65.0   NaN  \n",
       "2  15.3    71.8   NaN  \n",
       "3  16.4    75.9  7.39  \n",
       "4   7.9    75.0  7.55  \n",
       "\n",
       "[5 rows x 44 columns]"
      ]
     },
     "execution_count": 21,
     "metadata": {},
     "output_type": "execute_result"
    }
   ],
   "source": [
    "uniques_validation_per_variable = validation_X.groupby('RecordID').first().reset_index()\n",
    "uniques_validation_per_variable.head()"
   ]
  },
  {
   "cell_type": "markdown",
   "metadata": {},
   "source": [
    "<h3>Showing total occurrences of age</h3>"
   ]
  },
  {
   "cell_type": "code",
   "execution_count": 22,
   "metadata": {},
   "outputs": [
    {
     "data": {
      "text/plain": [
       "1918"
      ]
     },
     "execution_count": 22,
     "metadata": {},
     "output_type": "execute_result"
    }
   ],
   "source": [
    "uniques_validation_per_variable[\"Age\"].count()"
   ]
  },
  {
   "cell_type": "markdown",
   "metadata": {},
   "source": [
    "<h3>Dividing age into subgroup of people aged 65+</h3>"
   ]
  },
  {
   "cell_type": "code",
   "execution_count": 23,
   "metadata": {},
   "outputs": [
    {
     "data": {
      "text/plain": [
       "53.910323253388945"
      ]
     },
     "execution_count": 23,
     "metadata": {},
     "output_type": "execute_result"
    }
   ],
   "source": [
    "more_than_or_equal_to_65_validation = uniques_validation_per_variable[uniques_validation_per_variable['Age'] >= 65]\n",
    "percentage_group_one_validation = (more_than_or_equal_to_65_validation[\"Age\"].count() / uniques_validation_per_variable[\"Age\"].count())*100\n",
    "percentage_group_one_validation"
   ]
  },
  {
   "cell_type": "markdown",
   "metadata": {},
   "source": [
    "<h3>Dividing age into subgroup of people under 65 years of age</h3>"
   ]
  },
  {
   "cell_type": "code",
   "execution_count": 24,
   "metadata": {},
   "outputs": [
    {
     "data": {
      "text/plain": [
       "46.089676746611055"
      ]
     },
     "execution_count": 24,
     "metadata": {},
     "output_type": "execute_result"
    }
   ],
   "source": [
    "less_than_65 = uniques_validation_per_variable[uniques_validation_per_variable['Age'] < 65]\n",
    "percentage_group_two_validation = (less_than_65[\"Age\"].count() / uniques_validation_per_variable[\"Age\"].count()) * 100\n",
    "percentage_group_two_validation"
   ]
  },
  {
   "cell_type": "markdown",
   "metadata": {},
   "source": [
    "<h3>Filtering only one height and one weight per patient</h3>"
   ]
  },
  {
   "cell_type": "code",
   "execution_count": 25,
   "metadata": {},
   "outputs": [],
   "source": [
    "filtered_validation_X = validation_X[(validation_X['Height'] != -1) & (validation_X['Weight'] != -1) & (validation_X['Height'].notna()) & (validation_X['Weight'].notna())] "
   ]
  },
  {
   "cell_type": "code",
   "execution_count": 26,
   "metadata": {},
   "outputs": [
    {
     "data": {
      "text/html": [
       "<div>\n",
       "<style scoped>\n",
       "    .dataframe tbody tr th:only-of-type {\n",
       "        vertical-align: middle;\n",
       "    }\n",
       "\n",
       "    .dataframe tbody tr th {\n",
       "        vertical-align: top;\n",
       "    }\n",
       "\n",
       "    .dataframe thead th {\n",
       "        text-align: right;\n",
       "    }\n",
       "</style>\n",
       "<table border=\"1\" class=\"dataframe\">\n",
       "  <thead>\n",
       "    <tr style=\"text-align: right;\">\n",
       "      <th></th>\n",
       "      <th>RecordID</th>\n",
       "      <th>level_1</th>\n",
       "      <th>Time</th>\n",
       "      <th>ALP</th>\n",
       "      <th>ALT</th>\n",
       "      <th>AST</th>\n",
       "      <th>Age</th>\n",
       "      <th>Albumin</th>\n",
       "      <th>BUN</th>\n",
       "      <th>Bilirubin</th>\n",
       "      <th>...</th>\n",
       "      <th>RespRate</th>\n",
       "      <th>SaO2</th>\n",
       "      <th>SysABP</th>\n",
       "      <th>Temp</th>\n",
       "      <th>TroponinI</th>\n",
       "      <th>TroponinT</th>\n",
       "      <th>Urine</th>\n",
       "      <th>WBC</th>\n",
       "      <th>Weight</th>\n",
       "      <th>pH</th>\n",
       "    </tr>\n",
       "  </thead>\n",
       "  <tbody>\n",
       "    <tr>\n",
       "      <th>0</th>\n",
       "      <td>132551</td>\n",
       "      <td>0</td>\n",
       "      <td>0.0</td>\n",
       "      <td>47.0</td>\n",
       "      <td>46.0</td>\n",
       "      <td>82.0</td>\n",
       "      <td>78.0</td>\n",
       "      <td>1.9</td>\n",
       "      <td>81.0</td>\n",
       "      <td>0.3</td>\n",
       "      <td>...</td>\n",
       "      <td>NaN</td>\n",
       "      <td>97.0</td>\n",
       "      <td>102.75</td>\n",
       "      <td>38.00</td>\n",
       "      <td>3.5</td>\n",
       "      <td>NaN</td>\n",
       "      <td>120.0</td>\n",
       "      <td>16.1</td>\n",
       "      <td>48.4</td>\n",
       "      <td>7.40</td>\n",
       "    </tr>\n",
       "    <tr>\n",
       "      <th>1</th>\n",
       "      <td>132601</td>\n",
       "      <td>0</td>\n",
       "      <td>0.0</td>\n",
       "      <td>NaN</td>\n",
       "      <td>NaN</td>\n",
       "      <td>NaN</td>\n",
       "      <td>74.0</td>\n",
       "      <td>NaN</td>\n",
       "      <td>NaN</td>\n",
       "      <td>NaN</td>\n",
       "      <td>...</td>\n",
       "      <td>NaN</td>\n",
       "      <td>NaN</td>\n",
       "      <td>NaN</td>\n",
       "      <td>NaN</td>\n",
       "      <td>NaN</td>\n",
       "      <td>NaN</td>\n",
       "      <td>NaN</td>\n",
       "      <td>NaN</td>\n",
       "      <td>75.9</td>\n",
       "      <td>7.39</td>\n",
       "    </tr>\n",
       "    <tr>\n",
       "      <th>2</th>\n",
       "      <td>132617</td>\n",
       "      <td>0</td>\n",
       "      <td>0.0</td>\n",
       "      <td>NaN</td>\n",
       "      <td>NaN</td>\n",
       "      <td>NaN</td>\n",
       "      <td>77.0</td>\n",
       "      <td>NaN</td>\n",
       "      <td>110.0</td>\n",
       "      <td>NaN</td>\n",
       "      <td>...</td>\n",
       "      <td>NaN</td>\n",
       "      <td>97.0</td>\n",
       "      <td>NaN</td>\n",
       "      <td>36.40</td>\n",
       "      <td>NaN</td>\n",
       "      <td>NaN</td>\n",
       "      <td>100.0</td>\n",
       "      <td>7.9</td>\n",
       "      <td>75.0</td>\n",
       "      <td>7.55</td>\n",
       "    </tr>\n",
       "    <tr>\n",
       "      <th>3</th>\n",
       "      <td>132653</td>\n",
       "      <td>0</td>\n",
       "      <td>0.0</td>\n",
       "      <td>NaN</td>\n",
       "      <td>NaN</td>\n",
       "      <td>NaN</td>\n",
       "      <td>78.0</td>\n",
       "      <td>2.7</td>\n",
       "      <td>31.0</td>\n",
       "      <td>NaN</td>\n",
       "      <td>...</td>\n",
       "      <td>NaN</td>\n",
       "      <td>98.0</td>\n",
       "      <td>127.00</td>\n",
       "      <td>36.15</td>\n",
       "      <td>NaN</td>\n",
       "      <td>NaN</td>\n",
       "      <td>145.0</td>\n",
       "      <td>14.8</td>\n",
       "      <td>91.3</td>\n",
       "      <td>7.44</td>\n",
       "    </tr>\n",
       "    <tr>\n",
       "      <th>4</th>\n",
       "      <td>132659</td>\n",
       "      <td>0</td>\n",
       "      <td>0.0</td>\n",
       "      <td>70.0</td>\n",
       "      <td>87.0</td>\n",
       "      <td>132.0</td>\n",
       "      <td>78.0</td>\n",
       "      <td>2.7</td>\n",
       "      <td>17.0</td>\n",
       "      <td>0.8</td>\n",
       "      <td>...</td>\n",
       "      <td>NaN</td>\n",
       "      <td>98.0</td>\n",
       "      <td>116.50</td>\n",
       "      <td>36.15</td>\n",
       "      <td>NaN</td>\n",
       "      <td>NaN</td>\n",
       "      <td>40.0</td>\n",
       "      <td>12.5</td>\n",
       "      <td>110.0</td>\n",
       "      <td>7.24</td>\n",
       "    </tr>\n",
       "  </tbody>\n",
       "</table>\n",
       "<p>5 rows × 44 columns</p>\n",
       "</div>"
      ],
      "text/plain": [
       "   RecordID  level_1  Time   ALP   ALT    AST   Age  Albumin    BUN  \\\n",
       "0    132551        0   0.0  47.0  46.0   82.0  78.0      1.9   81.0   \n",
       "1    132601        0   0.0   NaN   NaN    NaN  74.0      NaN    NaN   \n",
       "2    132617        0   0.0   NaN   NaN    NaN  77.0      NaN  110.0   \n",
       "3    132653        0   0.0   NaN   NaN    NaN  78.0      2.7   31.0   \n",
       "4    132659        0   0.0  70.0  87.0  132.0  78.0      2.7   17.0   \n",
       "\n",
       "   Bilirubin  ...  RespRate  SaO2  SysABP   Temp  TroponinI  TroponinT  Urine  \\\n",
       "0        0.3  ...       NaN  97.0  102.75  38.00        3.5        NaN  120.0   \n",
       "1        NaN  ...       NaN   NaN     NaN    NaN        NaN        NaN    NaN   \n",
       "2        NaN  ...       NaN  97.0     NaN  36.40        NaN        NaN  100.0   \n",
       "3        NaN  ...       NaN  98.0  127.00  36.15        NaN        NaN  145.0   \n",
       "4        0.8  ...       NaN  98.0  116.50  36.15        NaN        NaN   40.0   \n",
       "\n",
       "    WBC  Weight    pH  \n",
       "0  16.1    48.4  7.40  \n",
       "1   NaN    75.9  7.39  \n",
       "2   7.9    75.0  7.55  \n",
       "3  14.8    91.3  7.44  \n",
       "4  12.5   110.0  7.24  \n",
       "\n",
       "[5 rows x 44 columns]"
      ]
     },
     "execution_count": 26,
     "metadata": {},
     "output_type": "execute_result"
    }
   ],
   "source": [
    "filtered_uniques_validation = filtered_validation_X.groupby('RecordID').first().reset_index() \n",
    "filtered_uniques_validation.head()"
   ]
  },
  {
   "cell_type": "code",
   "execution_count": 27,
   "metadata": {},
   "outputs": [],
   "source": [
    "filtered_uniques_validation['Height'] = filtered_uniques_validation['Height'] / 100 # Converting Height from cm to meters"
   ]
  },
  {
   "cell_type": "code",
   "execution_count": 28,
   "metadata": {},
   "outputs": [
    {
     "data": {
      "text/html": [
       "<div>\n",
       "<style scoped>\n",
       "    .dataframe tbody tr th:only-of-type {\n",
       "        vertical-align: middle;\n",
       "    }\n",
       "\n",
       "    .dataframe tbody tr th {\n",
       "        vertical-align: top;\n",
       "    }\n",
       "\n",
       "    .dataframe thead th {\n",
       "        text-align: right;\n",
       "    }\n",
       "</style>\n",
       "<table border=\"1\" class=\"dataframe\">\n",
       "  <thead>\n",
       "    <tr style=\"text-align: right;\">\n",
       "      <th></th>\n",
       "      <th>RecordID</th>\n",
       "      <th>Height</th>\n",
       "      <th>Weight</th>\n",
       "      <th>BMI</th>\n",
       "      <th>Classificacao</th>\n",
       "    </tr>\n",
       "  </thead>\n",
       "  <tbody>\n",
       "    <tr>\n",
       "      <th>0</th>\n",
       "      <td>132551</td>\n",
       "      <td>1.626</td>\n",
       "      <td>48.4</td>\n",
       "      <td>18.306456</td>\n",
       "      <td>Baixo peso</td>\n",
       "    </tr>\n",
       "    <tr>\n",
       "      <th>1</th>\n",
       "      <td>132601</td>\n",
       "      <td>1.778</td>\n",
       "      <td>75.9</td>\n",
       "      <td>24.009232</td>\n",
       "      <td>Peso normal</td>\n",
       "    </tr>\n",
       "    <tr>\n",
       "      <th>2</th>\n",
       "      <td>132617</td>\n",
       "      <td>1.702</td>\n",
       "      <td>75.0</td>\n",
       "      <td>25.890602</td>\n",
       "      <td>Sobrepeso</td>\n",
       "    </tr>\n",
       "    <tr>\n",
       "      <th>3</th>\n",
       "      <td>132653</td>\n",
       "      <td>1.778</td>\n",
       "      <td>91.3</td>\n",
       "      <td>28.880670</td>\n",
       "      <td>Sobrepeso</td>\n",
       "    </tr>\n",
       "    <tr>\n",
       "      <th>4</th>\n",
       "      <td>132659</td>\n",
       "      <td>1.651</td>\n",
       "      <td>110.0</td>\n",
       "      <td>40.355110</td>\n",
       "      <td>Obesidade grau 3</td>\n",
       "    </tr>\n",
       "  </tbody>\n",
       "</table>\n",
       "</div>"
      ],
      "text/plain": [
       "   RecordID  Height  Weight        BMI     Classificacao\n",
       "0    132551   1.626    48.4  18.306456        Baixo peso\n",
       "1    132601   1.778    75.9  24.009232       Peso normal\n",
       "2    132617   1.702    75.0  25.890602         Sobrepeso\n",
       "3    132653   1.778    91.3  28.880670         Sobrepeso\n",
       "4    132659   1.651   110.0  40.355110  Obesidade grau 3"
      ]
     },
     "execution_count": 28,
     "metadata": {},
     "output_type": "execute_result"
    }
   ],
   "source": [
    "bmi_data_validation = pd.DataFrame(columns=['RecordID', 'Height', 'Weight', 'BMI', 'Classificacao'])\n",
    "bmi_data_validation[\"RecordID\"] = filtered_uniques_validation[\"RecordID\"]\n",
    "bmi_data_validation[\"Height\"] = filtered_uniques_validation[\"Height\"]\n",
    "bmi_data_validation[\"Weight\"] = filtered_uniques_validation[\"Weight\"]\n",
    "bmi_data_validation[\"BMI\"] = filtered_uniques_validation[\"Weight\"] / (filtered_uniques_validation[\"Height\"] ** 2)\n",
    "bmi_data_validation[\"Classificacao\"] = bmi_data_validation[\"BMI\"].apply(classify_BMI)\n",
    "bmi_data_validation.head()"
   ]
  },
  {
   "cell_type": "markdown",
   "metadata": {},
   "source": [
    "<h3>Percentage of BMI classification groups</h3>"
   ]
  },
  {
   "cell_type": "code",
   "execution_count": 29,
   "metadata": {},
   "outputs": [],
   "source": [
    "percentage_bmi_validation = bmi_data_validation[\"Classificacao\"].value_counts(normalize=True) * 100"
   ]
  },
  {
   "cell_type": "markdown",
   "metadata": {},
   "source": [
    "<h2>Test data</h2>"
   ]
  },
  {
   "cell_type": "code",
   "execution_count": 30,
   "metadata": {},
   "outputs": [],
   "source": [
    "test_X = physionet2012_dataset['test_X']"
   ]
  },
  {
   "cell_type": "markdown",
   "metadata": {},
   "source": [
    "<h3>Divided into subgroups by gender and showing the percentage</h3>\n"
   ]
  },
  {
   "cell_type": "code",
   "execution_count": 31,
   "metadata": {},
   "outputs": [
    {
     "data": {
      "text/plain": [
       "Gender\n",
       " 1.0    56.815340\n",
       " 0.0    43.142976\n",
       "-1.0     0.041684\n",
       "Name: proportion, dtype: float64"
      ]
     },
     "execution_count": 31,
     "metadata": {},
     "output_type": "execute_result"
    }
   ],
   "source": [
    "distribution_gender_test = test_X['Gender'].value_counts(normalize=True) * 100\n",
    "distribution_gender_test # 0: female, or 1: male"
   ]
  },
  {
   "cell_type": "markdown",
   "metadata": {},
   "source": [
    "<h3>Divided into subgroups by ICUType and showing the percentage</h3>\n"
   ]
  },
  {
   "cell_type": "code",
   "execution_count": 32,
   "metadata": {},
   "outputs": [
    {
     "data": {
      "text/plain": [
       "ICUType\n",
       "3.0    34.347645\n",
       "4.0    28.470196\n",
       "2.0    21.884118\n",
       "1.0    15.298041\n",
       "Name: proportion, dtype: float64"
      ]
     },
     "execution_count": 32,
     "metadata": {},
     "output_type": "execute_result"
    }
   ],
   "source": [
    "distribution_ICUType_test= test_X['ICUType'].value_counts(normalize=True) * 100\n",
    "distribution_ICUType_test"
   ]
  },
  {
   "cell_type": "markdown",
   "metadata": {},
   "source": [
    "<h3>Filtering only one age per patient</h3>\n"
   ]
  },
  {
   "cell_type": "code",
   "execution_count": 33,
   "metadata": {},
   "outputs": [
    {
     "data": {
      "text/html": [
       "<div>\n",
       "<style scoped>\n",
       "    .dataframe tbody tr th:only-of-type {\n",
       "        vertical-align: middle;\n",
       "    }\n",
       "\n",
       "    .dataframe tbody tr th {\n",
       "        vertical-align: top;\n",
       "    }\n",
       "\n",
       "    .dataframe thead th {\n",
       "        text-align: right;\n",
       "    }\n",
       "</style>\n",
       "<table border=\"1\" class=\"dataframe\">\n",
       "  <thead>\n",
       "    <tr style=\"text-align: right;\">\n",
       "      <th></th>\n",
       "      <th>RecordID</th>\n",
       "      <th>level_1</th>\n",
       "      <th>Time</th>\n",
       "      <th>ALP</th>\n",
       "      <th>ALT</th>\n",
       "      <th>AST</th>\n",
       "      <th>Age</th>\n",
       "      <th>Albumin</th>\n",
       "      <th>BUN</th>\n",
       "      <th>Bilirubin</th>\n",
       "      <th>...</th>\n",
       "      <th>RespRate</th>\n",
       "      <th>SaO2</th>\n",
       "      <th>SysABP</th>\n",
       "      <th>Temp</th>\n",
       "      <th>TroponinI</th>\n",
       "      <th>TroponinT</th>\n",
       "      <th>Urine</th>\n",
       "      <th>WBC</th>\n",
       "      <th>Weight</th>\n",
       "      <th>pH</th>\n",
       "    </tr>\n",
       "  </thead>\n",
       "  <tbody>\n",
       "    <tr>\n",
       "      <th>0</th>\n",
       "      <td>132599</td>\n",
       "      <td>0</td>\n",
       "      <td>0.0</td>\n",
       "      <td>124.0</td>\n",
       "      <td>14.0</td>\n",
       "      <td>20.0</td>\n",
       "      <td>53.0</td>\n",
       "      <td>2.0</td>\n",
       "      <td>33.0</td>\n",
       "      <td>1.3</td>\n",
       "      <td>...</td>\n",
       "      <td>NaN</td>\n",
       "      <td>98.0</td>\n",
       "      <td>135.000000</td>\n",
       "      <td>37.3</td>\n",
       "      <td>NaN</td>\n",
       "      <td>0.02</td>\n",
       "      <td>350.0</td>\n",
       "      <td>14.2</td>\n",
       "      <td>73.5</td>\n",
       "      <td>7.48</td>\n",
       "    </tr>\n",
       "    <tr>\n",
       "      <th>1</th>\n",
       "      <td>132615</td>\n",
       "      <td>0</td>\n",
       "      <td>0.0</td>\n",
       "      <td>81.0</td>\n",
       "      <td>32.0</td>\n",
       "      <td>28.0</td>\n",
       "      <td>46.0</td>\n",
       "      <td>2.6</td>\n",
       "      <td>22.0</td>\n",
       "      <td>0.3</td>\n",
       "      <td>...</td>\n",
       "      <td>NaN</td>\n",
       "      <td>NaN</td>\n",
       "      <td>0.000000</td>\n",
       "      <td>36.4</td>\n",
       "      <td>NaN</td>\n",
       "      <td>NaN</td>\n",
       "      <td>80.0</td>\n",
       "      <td>22.1</td>\n",
       "      <td>88.6</td>\n",
       "      <td>7.34</td>\n",
       "    </tr>\n",
       "    <tr>\n",
       "      <th>2</th>\n",
       "      <td>132639</td>\n",
       "      <td>0</td>\n",
       "      <td>0.0</td>\n",
       "      <td>NaN</td>\n",
       "      <td>NaN</td>\n",
       "      <td>NaN</td>\n",
       "      <td>73.0</td>\n",
       "      <td>NaN</td>\n",
       "      <td>28.0</td>\n",
       "      <td>NaN</td>\n",
       "      <td>...</td>\n",
       "      <td>NaN</td>\n",
       "      <td>98.0</td>\n",
       "      <td>105.666667</td>\n",
       "      <td>35.2</td>\n",
       "      <td>NaN</td>\n",
       "      <td>NaN</td>\n",
       "      <td>90.0</td>\n",
       "      <td>13.0</td>\n",
       "      <td>96.3</td>\n",
       "      <td>7.36</td>\n",
       "    </tr>\n",
       "    <tr>\n",
       "      <th>3</th>\n",
       "      <td>132644</td>\n",
       "      <td>0</td>\n",
       "      <td>0.0</td>\n",
       "      <td>NaN</td>\n",
       "      <td>NaN</td>\n",
       "      <td>NaN</td>\n",
       "      <td>71.0</td>\n",
       "      <td>NaN</td>\n",
       "      <td>40.0</td>\n",
       "      <td>NaN</td>\n",
       "      <td>...</td>\n",
       "      <td>NaN</td>\n",
       "      <td>96.0</td>\n",
       "      <td>142.000000</td>\n",
       "      <td>37.2</td>\n",
       "      <td>NaN</td>\n",
       "      <td>NaN</td>\n",
       "      <td>150.0</td>\n",
       "      <td>10.2</td>\n",
       "      <td>64.5</td>\n",
       "      <td>7.42</td>\n",
       "    </tr>\n",
       "    <tr>\n",
       "      <th>4</th>\n",
       "      <td>132658</td>\n",
       "      <td>0</td>\n",
       "      <td>0.0</td>\n",
       "      <td>71.0</td>\n",
       "      <td>9.0</td>\n",
       "      <td>42.0</td>\n",
       "      <td>81.0</td>\n",
       "      <td>NaN</td>\n",
       "      <td>11.0</td>\n",
       "      <td>1.3</td>\n",
       "      <td>...</td>\n",
       "      <td>NaN</td>\n",
       "      <td>98.0</td>\n",
       "      <td>127.000000</td>\n",
       "      <td>36.7</td>\n",
       "      <td>NaN</td>\n",
       "      <td>NaN</td>\n",
       "      <td>360.0</td>\n",
       "      <td>48.3</td>\n",
       "      <td>105.4</td>\n",
       "      <td>7.42</td>\n",
       "    </tr>\n",
       "  </tbody>\n",
       "</table>\n",
       "<p>5 rows × 44 columns</p>\n",
       "</div>"
      ],
      "text/plain": [
       "   RecordID  level_1  Time    ALP   ALT   AST   Age  Albumin   BUN  Bilirubin  \\\n",
       "0    132599        0   0.0  124.0  14.0  20.0  53.0      2.0  33.0        1.3   \n",
       "1    132615        0   0.0   81.0  32.0  28.0  46.0      2.6  22.0        0.3   \n",
       "2    132639        0   0.0    NaN   NaN   NaN  73.0      NaN  28.0        NaN   \n",
       "3    132644        0   0.0    NaN   NaN   NaN  71.0      NaN  40.0        NaN   \n",
       "4    132658        0   0.0   71.0   9.0  42.0  81.0      NaN  11.0        1.3   \n",
       "\n",
       "   ...  RespRate  SaO2      SysABP  Temp  TroponinI  TroponinT  Urine   WBC  \\\n",
       "0  ...       NaN  98.0  135.000000  37.3        NaN       0.02  350.0  14.2   \n",
       "1  ...       NaN   NaN    0.000000  36.4        NaN        NaN   80.0  22.1   \n",
       "2  ...       NaN  98.0  105.666667  35.2        NaN        NaN   90.0  13.0   \n",
       "3  ...       NaN  96.0  142.000000  37.2        NaN        NaN  150.0  10.2   \n",
       "4  ...       NaN  98.0  127.000000  36.7        NaN        NaN  360.0  48.3   \n",
       "\n",
       "   Weight    pH  \n",
       "0    73.5  7.48  \n",
       "1    88.6  7.34  \n",
       "2    96.3  7.36  \n",
       "3    64.5  7.42  \n",
       "4   105.4  7.42  \n",
       "\n",
       "[5 rows x 44 columns]"
      ]
     },
     "execution_count": 33,
     "metadata": {},
     "output_type": "execute_result"
    }
   ],
   "source": [
    "uniques_test_per_variable = test_X.groupby('RecordID').first().reset_index()\n",
    "uniques_test_per_variable.head()"
   ]
  },
  {
   "cell_type": "markdown",
   "metadata": {},
   "source": [
    "<h3>Showing total occurrences of age</h3>"
   ]
  },
  {
   "cell_type": "code",
   "execution_count": 34,
   "metadata": {},
   "outputs": [
    {
     "data": {
      "text/plain": [
       "2399"
      ]
     },
     "execution_count": 34,
     "metadata": {},
     "output_type": "execute_result"
    }
   ],
   "source": [
    "uniques_test_per_variable[\"Age\"].count()"
   ]
  },
  {
   "cell_type": "markdown",
   "metadata": {},
   "source": [
    "<h3>Dividing age into subgroup of people aged 65+</h3>\n"
   ]
  },
  {
   "cell_type": "code",
   "execution_count": 35,
   "metadata": {},
   "outputs": [
    {
     "data": {
      "text/plain": [
       "55.77323884952064"
      ]
     },
     "execution_count": 35,
     "metadata": {},
     "output_type": "execute_result"
    }
   ],
   "source": [
    "more_than_or_equal_to_65_test = uniques_test_per_variable[uniques_test_per_variable['Age'] >= 65]\n",
    "percentage_group_one_test = (more_than_or_equal_to_65_test[\"Age\"].count() / uniques_test_per_variable[\"Age\"].count())*100\n",
    "percentage_group_one_test"
   ]
  },
  {
   "cell_type": "markdown",
   "metadata": {},
   "source": [
    "<h3>Dividing age into subgroup of people under 65 years of age</h3>\n"
   ]
  },
  {
   "cell_type": "code",
   "execution_count": 36,
   "metadata": {},
   "outputs": [
    {
     "data": {
      "text/plain": [
       "44.22676115047936"
      ]
     },
     "execution_count": 36,
     "metadata": {},
     "output_type": "execute_result"
    }
   ],
   "source": [
    "less_than_65_test = uniques_test_per_variable[uniques_test_per_variable['Age'] < 65]\n",
    "percentage_group_two_test = (less_than_65_test[\"Age\"].count() / uniques_test_per_variable[\"Age\"].count()) * 100\n",
    "percentage_group_two_test"
   ]
  },
  {
   "cell_type": "markdown",
   "metadata": {},
   "source": [
    "<h3>Filtering only one height and one weight per patient</h3>\n"
   ]
  },
  {
   "cell_type": "code",
   "execution_count": 37,
   "metadata": {},
   "outputs": [],
   "source": [
    "filtered_test_X = test_X[(test_X['Height'] != -1) & (test_X['Weight'] != -1) & (test_X['Height'].notna()) & (test_X['Weight'].notna())] "
   ]
  },
  {
   "cell_type": "code",
   "execution_count": 38,
   "metadata": {},
   "outputs": [
    {
     "data": {
      "text/html": [
       "<div>\n",
       "<style scoped>\n",
       "    .dataframe tbody tr th:only-of-type {\n",
       "        vertical-align: middle;\n",
       "    }\n",
       "\n",
       "    .dataframe tbody tr th {\n",
       "        vertical-align: top;\n",
       "    }\n",
       "\n",
       "    .dataframe thead th {\n",
       "        text-align: right;\n",
       "    }\n",
       "</style>\n",
       "<table border=\"1\" class=\"dataframe\">\n",
       "  <thead>\n",
       "    <tr style=\"text-align: right;\">\n",
       "      <th></th>\n",
       "      <th>RecordID</th>\n",
       "      <th>level_1</th>\n",
       "      <th>Time</th>\n",
       "      <th>ALP</th>\n",
       "      <th>ALT</th>\n",
       "      <th>AST</th>\n",
       "      <th>Age</th>\n",
       "      <th>Albumin</th>\n",
       "      <th>BUN</th>\n",
       "      <th>Bilirubin</th>\n",
       "      <th>...</th>\n",
       "      <th>RespRate</th>\n",
       "      <th>SaO2</th>\n",
       "      <th>SysABP</th>\n",
       "      <th>Temp</th>\n",
       "      <th>TroponinI</th>\n",
       "      <th>TroponinT</th>\n",
       "      <th>Urine</th>\n",
       "      <th>WBC</th>\n",
       "      <th>Weight</th>\n",
       "      <th>pH</th>\n",
       "    </tr>\n",
       "  </thead>\n",
       "  <tbody>\n",
       "    <tr>\n",
       "      <th>0</th>\n",
       "      <td>132599</td>\n",
       "      <td>0</td>\n",
       "      <td>0.0</td>\n",
       "      <td>NaN</td>\n",
       "      <td>NaN</td>\n",
       "      <td>NaN</td>\n",
       "      <td>53.0</td>\n",
       "      <td>NaN</td>\n",
       "      <td>NaN</td>\n",
       "      <td>NaN</td>\n",
       "      <td>...</td>\n",
       "      <td>NaN</td>\n",
       "      <td>NaN</td>\n",
       "      <td>NaN</td>\n",
       "      <td>37.3</td>\n",
       "      <td>NaN</td>\n",
       "      <td>NaN</td>\n",
       "      <td>350.0</td>\n",
       "      <td>NaN</td>\n",
       "      <td>73.5</td>\n",
       "      <td>NaN</td>\n",
       "    </tr>\n",
       "    <tr>\n",
       "      <th>1</th>\n",
       "      <td>132615</td>\n",
       "      <td>0</td>\n",
       "      <td>0.0</td>\n",
       "      <td>81.0</td>\n",
       "      <td>32.0</td>\n",
       "      <td>28.0</td>\n",
       "      <td>46.0</td>\n",
       "      <td>2.6</td>\n",
       "      <td>22.0</td>\n",
       "      <td>0.3</td>\n",
       "      <td>...</td>\n",
       "      <td>NaN</td>\n",
       "      <td>NaN</td>\n",
       "      <td>0.0</td>\n",
       "      <td>36.4</td>\n",
       "      <td>NaN</td>\n",
       "      <td>NaN</td>\n",
       "      <td>80.0</td>\n",
       "      <td>22.1</td>\n",
       "      <td>88.6</td>\n",
       "      <td>7.34</td>\n",
       "    </tr>\n",
       "    <tr>\n",
       "      <th>2</th>\n",
       "      <td>132639</td>\n",
       "      <td>0</td>\n",
       "      <td>0.0</td>\n",
       "      <td>NaN</td>\n",
       "      <td>NaN</td>\n",
       "      <td>NaN</td>\n",
       "      <td>73.0</td>\n",
       "      <td>NaN</td>\n",
       "      <td>18.0</td>\n",
       "      <td>NaN</td>\n",
       "      <td>...</td>\n",
       "      <td>NaN</td>\n",
       "      <td>95.0</td>\n",
       "      <td>110.0</td>\n",
       "      <td>36.9</td>\n",
       "      <td>NaN</td>\n",
       "      <td>NaN</td>\n",
       "      <td>30.0</td>\n",
       "      <td>10.2</td>\n",
       "      <td>96.3</td>\n",
       "      <td>7.36</td>\n",
       "    </tr>\n",
       "    <tr>\n",
       "      <th>3</th>\n",
       "      <td>132644</td>\n",
       "      <td>0</td>\n",
       "      <td>0.0</td>\n",
       "      <td>NaN</td>\n",
       "      <td>NaN</td>\n",
       "      <td>NaN</td>\n",
       "      <td>71.0</td>\n",
       "      <td>NaN</td>\n",
       "      <td>NaN</td>\n",
       "      <td>NaN</td>\n",
       "      <td>...</td>\n",
       "      <td>NaN</td>\n",
       "      <td>NaN</td>\n",
       "      <td>NaN</td>\n",
       "      <td>NaN</td>\n",
       "      <td>NaN</td>\n",
       "      <td>NaN</td>\n",
       "      <td>NaN</td>\n",
       "      <td>NaN</td>\n",
       "      <td>64.5</td>\n",
       "      <td>NaN</td>\n",
       "    </tr>\n",
       "    <tr>\n",
       "      <th>4</th>\n",
       "      <td>132658</td>\n",
       "      <td>0</td>\n",
       "      <td>0.0</td>\n",
       "      <td>71.0</td>\n",
       "      <td>9.0</td>\n",
       "      <td>42.0</td>\n",
       "      <td>81.0</td>\n",
       "      <td>NaN</td>\n",
       "      <td>18.0</td>\n",
       "      <td>1.3</td>\n",
       "      <td>...</td>\n",
       "      <td>NaN</td>\n",
       "      <td>96.0</td>\n",
       "      <td>97.0</td>\n",
       "      <td>38.4</td>\n",
       "      <td>NaN</td>\n",
       "      <td>NaN</td>\n",
       "      <td>90.0</td>\n",
       "      <td>61.3</td>\n",
       "      <td>105.4</td>\n",
       "      <td>7.42</td>\n",
       "    </tr>\n",
       "  </tbody>\n",
       "</table>\n",
       "<p>5 rows × 44 columns</p>\n",
       "</div>"
      ],
      "text/plain": [
       "   RecordID  level_1  Time   ALP   ALT   AST   Age  Albumin   BUN  Bilirubin  \\\n",
       "0    132599        0   0.0   NaN   NaN   NaN  53.0      NaN   NaN        NaN   \n",
       "1    132615        0   0.0  81.0  32.0  28.0  46.0      2.6  22.0        0.3   \n",
       "2    132639        0   0.0   NaN   NaN   NaN  73.0      NaN  18.0        NaN   \n",
       "3    132644        0   0.0   NaN   NaN   NaN  71.0      NaN   NaN        NaN   \n",
       "4    132658        0   0.0  71.0   9.0  42.0  81.0      NaN  18.0        1.3   \n",
       "\n",
       "   ...  RespRate  SaO2  SysABP  Temp  TroponinI  TroponinT  Urine   WBC  \\\n",
       "0  ...       NaN   NaN     NaN  37.3        NaN        NaN  350.0   NaN   \n",
       "1  ...       NaN   NaN     0.0  36.4        NaN        NaN   80.0  22.1   \n",
       "2  ...       NaN  95.0   110.0  36.9        NaN        NaN   30.0  10.2   \n",
       "3  ...       NaN   NaN     NaN   NaN        NaN        NaN    NaN   NaN   \n",
       "4  ...       NaN  96.0    97.0  38.4        NaN        NaN   90.0  61.3   \n",
       "\n",
       "   Weight    pH  \n",
       "0    73.5   NaN  \n",
       "1    88.6  7.34  \n",
       "2    96.3  7.36  \n",
       "3    64.5   NaN  \n",
       "4   105.4  7.42  \n",
       "\n",
       "[5 rows x 44 columns]"
      ]
     },
     "execution_count": 38,
     "metadata": {},
     "output_type": "execute_result"
    }
   ],
   "source": [
    "filtered_uniques_test = filtered_test_X.groupby('RecordID').first().reset_index() \n",
    "filtered_uniques_test.head()"
   ]
  },
  {
   "cell_type": "markdown",
   "metadata": {},
   "source": [
    "<h3>Calculate the BMI</h3>\n"
   ]
  },
  {
   "cell_type": "code",
   "execution_count": 39,
   "metadata": {},
   "outputs": [],
   "source": [
    "filtered_uniques_test['Height'] = filtered_uniques_test['Height'] / 100 # Converting Height from cm to meters"
   ]
  },
  {
   "cell_type": "code",
   "execution_count": 40,
   "metadata": {},
   "outputs": [
    {
     "data": {
      "text/html": [
       "<div>\n",
       "<style scoped>\n",
       "    .dataframe tbody tr th:only-of-type {\n",
       "        vertical-align: middle;\n",
       "    }\n",
       "\n",
       "    .dataframe tbody tr th {\n",
       "        vertical-align: top;\n",
       "    }\n",
       "\n",
       "    .dataframe thead th {\n",
       "        text-align: right;\n",
       "    }\n",
       "</style>\n",
       "<table border=\"1\" class=\"dataframe\">\n",
       "  <thead>\n",
       "    <tr style=\"text-align: right;\">\n",
       "      <th></th>\n",
       "      <th>RecordID</th>\n",
       "      <th>Height</th>\n",
       "      <th>Weight</th>\n",
       "      <th>BMI</th>\n",
       "      <th>Classificacao</th>\n",
       "    </tr>\n",
       "  </thead>\n",
       "  <tbody>\n",
       "    <tr>\n",
       "      <th>0</th>\n",
       "      <td>132599</td>\n",
       "      <td>1.778</td>\n",
       "      <td>73.5</td>\n",
       "      <td>23.250047</td>\n",
       "      <td>Peso normal</td>\n",
       "    </tr>\n",
       "    <tr>\n",
       "      <th>1</th>\n",
       "      <td>132615</td>\n",
       "      <td>1.524</td>\n",
       "      <td>88.6</td>\n",
       "      <td>38.147299</td>\n",
       "      <td>Obesidade grau 2</td>\n",
       "    </tr>\n",
       "    <tr>\n",
       "      <th>2</th>\n",
       "      <td>132639</td>\n",
       "      <td>1.803</td>\n",
       "      <td>96.3</td>\n",
       "      <td>29.623395</td>\n",
       "      <td>Sobrepeso</td>\n",
       "    </tr>\n",
       "    <tr>\n",
       "      <th>3</th>\n",
       "      <td>132644</td>\n",
       "      <td>1.499</td>\n",
       "      <td>64.5</td>\n",
       "      <td>28.704927</td>\n",
       "      <td>Sobrepeso</td>\n",
       "    </tr>\n",
       "    <tr>\n",
       "      <th>4</th>\n",
       "      <td>132658</td>\n",
       "      <td>1.854</td>\n",
       "      <td>105.4</td>\n",
       "      <td>30.663460</td>\n",
       "      <td>Obesidade grau 1</td>\n",
       "    </tr>\n",
       "  </tbody>\n",
       "</table>\n",
       "</div>"
      ],
      "text/plain": [
       "   RecordID  Height  Weight        BMI     Classificacao\n",
       "0    132599   1.778    73.5  23.250047       Peso normal\n",
       "1    132615   1.524    88.6  38.147299  Obesidade grau 2\n",
       "2    132639   1.803    96.3  29.623395         Sobrepeso\n",
       "3    132644   1.499    64.5  28.704927         Sobrepeso\n",
       "4    132658   1.854   105.4  30.663460  Obesidade grau 1"
      ]
     },
     "execution_count": 40,
     "metadata": {},
     "output_type": "execute_result"
    }
   ],
   "source": [
    "bmi_data_test = pd.DataFrame(columns=['RecordID', 'Height', 'Weight', 'BMI', 'Classificacao'])\n",
    "bmi_data_test[\"RecordID\"] = filtered_uniques_test[\"RecordID\"]\n",
    "bmi_data_test[\"Height\"] = filtered_uniques_test[\"Height\"]\n",
    "bmi_data_test[\"Weight\"] = filtered_uniques_test[\"Weight\"]\n",
    "bmi_data_test[\"BMI\"] = filtered_uniques_test[\"Weight\"] / (filtered_uniques_test[\"Height\"] ** 2)\n",
    "bmi_data_test[\"Classificacao\"] = bmi_data_test[\"BMI\"].apply(classify_BMI)\n",
    "bmi_data_test.head()"
   ]
  },
  {
   "cell_type": "markdown",
   "metadata": {},
   "source": [
    "<h3>Percentage of BMI classification groups</h3>"
   ]
  },
  {
   "cell_type": "code",
   "execution_count": 41,
   "metadata": {},
   "outputs": [],
   "source": [
    "percentage_bmi_test = bmi_data_test[\"Classificacao\"].value_counts(normalize=True) * 100\n"
   ]
  },
  {
   "cell_type": "code",
   "execution_count": 42,
   "metadata": {},
   "outputs": [],
   "source": [
    "subgroups = [(\"Female\"), (\"Male\"), (\"ICUType 1\"), (\"ICUType 2\"), (\"ICUType 3\"), (\"ICUType 4\"),\n",
    "    (\"Age 65+\"), (\"Age 65-\"), (\"Baixo Peso\"), (\"Peso normal\"), (\"Sobrepeso\"),\n",
    "    (\"Obesidade grau 1\"), (\"Obesidade grau 2\"), (\"Obesidade grau 3\")\n",
    "]\n",
    "\n",
    "df_subgroups = pd.DataFrame(subgroups, columns=[\"Subgroups\"])"
   ]
  },
  {
   "cell_type": "code",
   "execution_count": 43,
   "metadata": {},
   "outputs": [],
   "source": [
    "train_subgroups = [\n",
    "    (distribution_gender_training[0]), (distribution_gender_training[1]), (distribution_ICUType_training[1]), (distribution_ICUType_training[2]),\n",
    "    (distribution_ICUType_training[3]), (distribution_ICUType_training[4]), (percentage_group_one_train), (percentage_group_two_train),\n",
    "    (percentage_bmi_train[\"Baixo peso\"]), (percentage_bmi_train[\"Peso normal\"]), (percentage_bmi_train[\"Sobrepeso\"]), (percentage_bmi_train[\"Obesidade grau 1\"]),\n",
    "    (percentage_bmi_train[\"Obesidade grau 2\"]), (percentage_bmi_train[\"Obesidade grau 3\"])\n",
    "]\n",
    "\n",
    "df_train_subgroups = pd.DataFrame(train_subgroups, columns=[\"train\"])"
   ]
  },
  {
   "cell_type": "code",
   "execution_count": 44,
   "metadata": {},
   "outputs": [],
   "source": [
    "validation_subgroups = [\n",
    "    (distribution_gender_validation[0]), (distribution_gender_validation[1]), (distribution_ICUType_validation[1]), (distribution_ICUType_validation[2]),\n",
    "    (distribution_ICUType_validation[3]), (distribution_ICUType_validation[4]), (percentage_group_one_validation), (percentage_group_two_validation),\n",
    "    (percentage_bmi_validation[\"Baixo peso\"]), (percentage_bmi_validation[\"Peso normal\"]), (percentage_bmi_validation[\"Sobrepeso\"]), (percentage_bmi_validation[\"Obesidade grau 1\"]),\n",
    "    (percentage_bmi_validation[\"Obesidade grau 2\"]), (percentage_bmi_validation[\"Obesidade grau 3\"])\n",
    "]\n",
    "\n",
    "df_validation_subgroups = pd.DataFrame(validation_subgroups, columns=[\"train\"])"
   ]
  },
  {
   "cell_type": "code",
   "execution_count": 45,
   "metadata": {},
   "outputs": [],
   "source": [
    "test_subgroups = [\n",
    "    (distribution_gender_test[0]), (distribution_gender_test[1]), (distribution_ICUType_test[1]), (distribution_ICUType_test[2]),\n",
    "    (distribution_ICUType_test[3]), (distribution_ICUType_test[4]), (percentage_group_one_test), (percentage_group_two_test),\n",
    "    (percentage_bmi_test[\"Baixo peso\"]), (percentage_bmi_test[\"Peso normal\"]), (percentage_bmi_test[\"Sobrepeso\"]), (percentage_bmi_test[\"Obesidade grau 1\"]),\n",
    "    (percentage_bmi_test[\"Obesidade grau 2\"]), (percentage_bmi_test[\"Obesidade grau 3\"])\n",
    "]\n",
    "\n",
    "df_test_subgroups = pd.DataFrame(test_subgroups, columns=[\"train\"])"
   ]
  },
  {
   "cell_type": "code",
   "execution_count": 48,
   "metadata": {},
   "outputs": [
    {
     "data": {
      "text/html": [
       "<h2 style=' font-size: 24px; font-weight: bold;'>Descriptive statistics stratified by demographics</h2>"
      ],
      "text/plain": [
       "<IPython.core.display.HTML object>"
      ]
     },
     "metadata": {},
     "output_type": "display_data"
    },
    {
     "data": {
      "text/html": [
       "<div>\n",
       "<style scoped>\n",
       "    .dataframe tbody tr th:only-of-type {\n",
       "        vertical-align: middle;\n",
       "    }\n",
       "\n",
       "    .dataframe tbody tr th {\n",
       "        vertical-align: top;\n",
       "    }\n",
       "\n",
       "    .dataframe thead th {\n",
       "        text-align: right;\n",
       "    }\n",
       "</style>\n",
       "<table border=\"1\" class=\"dataframe\">\n",
       "  <thead>\n",
       "    <tr style=\"text-align: right;\">\n",
       "      <th></th>\n",
       "      <th>Subgroups</th>\n",
       "      <th>Train</th>\n",
       "      <th>Validation</th>\n",
       "      <th>Test</th>\n",
       "    </tr>\n",
       "  </thead>\n",
       "  <tbody>\n",
       "    <tr>\n",
       "      <th>0</th>\n",
       "      <td>Female</td>\n",
       "      <td>44.101160</td>\n",
       "      <td>43.847758</td>\n",
       "      <td>43.142976</td>\n",
       "    </tr>\n",
       "    <tr>\n",
       "      <th>1</th>\n",
       "      <td>Male</td>\n",
       "      <td>55.768479</td>\n",
       "      <td>56.100104</td>\n",
       "      <td>56.815340</td>\n",
       "    </tr>\n",
       "    <tr>\n",
       "      <th>2</th>\n",
       "      <td>ICUType 1</td>\n",
       "      <td>14.535263</td>\n",
       "      <td>14.754953</td>\n",
       "      <td>15.298041</td>\n",
       "    </tr>\n",
       "    <tr>\n",
       "      <th>3</th>\n",
       "      <td>ICUType 2</td>\n",
       "      <td>20.922957</td>\n",
       "      <td>20.750782</td>\n",
       "      <td>21.884118</td>\n",
       "    </tr>\n",
       "    <tr>\n",
       "      <th>4</th>\n",
       "      <td>ICUType 3</td>\n",
       "      <td>35.953591</td>\n",
       "      <td>36.757039</td>\n",
       "      <td>34.347645</td>\n",
       "    </tr>\n",
       "    <tr>\n",
       "      <th>5</th>\n",
       "      <td>ICUType 4</td>\n",
       "      <td>28.588189</td>\n",
       "      <td>27.737226</td>\n",
       "      <td>28.470196</td>\n",
       "    </tr>\n",
       "    <tr>\n",
       "      <th>6</th>\n",
       "      <td>Age 65+</td>\n",
       "      <td>54.530048</td>\n",
       "      <td>53.910323</td>\n",
       "      <td>55.773239</td>\n",
       "    </tr>\n",
       "    <tr>\n",
       "      <th>7</th>\n",
       "      <td>Age 65-</td>\n",
       "      <td>45.469952</td>\n",
       "      <td>46.089677</td>\n",
       "      <td>44.226761</td>\n",
       "    </tr>\n",
       "    <tr>\n",
       "      <th>8</th>\n",
       "      <td>Baixo Peso</td>\n",
       "      <td>3.073770</td>\n",
       "      <td>3.402062</td>\n",
       "      <td>2.281668</td>\n",
       "    </tr>\n",
       "    <tr>\n",
       "      <th>9</th>\n",
       "      <td>Peso normal</td>\n",
       "      <td>29.994877</td>\n",
       "      <td>28.247423</td>\n",
       "      <td>29.661684</td>\n",
       "    </tr>\n",
       "    <tr>\n",
       "      <th>10</th>\n",
       "      <td>Sobrepeso</td>\n",
       "      <td>34.170082</td>\n",
       "      <td>34.432990</td>\n",
       "      <td>35.169158</td>\n",
       "    </tr>\n",
       "    <tr>\n",
       "      <th>11</th>\n",
       "      <td>Obesidade grau 1</td>\n",
       "      <td>18.442623</td>\n",
       "      <td>18.247423</td>\n",
       "      <td>17.545240</td>\n",
       "    </tr>\n",
       "    <tr>\n",
       "      <th>12</th>\n",
       "      <td>Obesidade grau 2</td>\n",
       "      <td>7.300205</td>\n",
       "      <td>8.247423</td>\n",
       "      <td>8.733281</td>\n",
       "    </tr>\n",
       "    <tr>\n",
       "      <th>13</th>\n",
       "      <td>Obesidade grau 3</td>\n",
       "      <td>7.018443</td>\n",
       "      <td>7.422680</td>\n",
       "      <td>6.608969</td>\n",
       "    </tr>\n",
       "  </tbody>\n",
       "</table>\n",
       "</div>"
      ],
      "text/plain": [
       "           Subgroups      Train  Validation       Test\n",
       "0             Female  44.101160   43.847758  43.142976\n",
       "1               Male  55.768479   56.100104  56.815340\n",
       "2          ICUType 1  14.535263   14.754953  15.298041\n",
       "3          ICUType 2  20.922957   20.750782  21.884118\n",
       "4          ICUType 3  35.953591   36.757039  34.347645\n",
       "5          ICUType 4  28.588189   27.737226  28.470196\n",
       "6            Age 65+  54.530048   53.910323  55.773239\n",
       "7            Age 65-  45.469952   46.089677  44.226761\n",
       "8         Baixo Peso   3.073770    3.402062   2.281668\n",
       "9        Peso normal  29.994877   28.247423  29.661684\n",
       "10         Sobrepeso  34.170082   34.432990  35.169158\n",
       "11  Obesidade grau 1  18.442623   18.247423  17.545240\n",
       "12  Obesidade grau 2   7.300205    8.247423   8.733281\n",
       "13  Obesidade grau 3   7.018443    7.422680   6.608969"
      ]
     },
     "execution_count": 48,
     "metadata": {},
     "output_type": "execute_result"
    }
   ],
   "source": [
    "table_descriptive_statistics = pd.DataFrame(columns=['Subgroups', 'Train', 'Validation', 'Test'])\n",
    "table_descriptive_statistics[\"Subgroups\"] = df_subgroups\n",
    "table_descriptive_statistics[\"Train\"] = df_train_subgroups\n",
    "table_descriptive_statistics[\"Validation\"] = df_validation_subgroups\n",
    "table_descriptive_statistics[\"Test\"] = df_test_subgroups\n",
    "\n",
    "display(HTML(\"<h2 style=' font-size: 24px; font-weight: bold;'>Descriptive statistics stratified by demographics</h2>\"))\n",
    "table_descriptive_statistics"
   ]
  }
 ],
 "metadata": {
  "kernelspec": {
   "display_name": "Python 3",
   "language": "python",
   "name": "python3"
  },
  "language_info": {
   "codemirror_mode": {
    "name": "ipython",
    "version": 3
   },
   "file_extension": ".py",
   "mimetype": "text/x-python",
   "name": "python",
   "nbconvert_exporter": "python",
   "pygments_lexer": "ipython3",
   "version": "3.8.10"
  }
 },
 "nbformat": 4,
 "nbformat_minor": 2
}

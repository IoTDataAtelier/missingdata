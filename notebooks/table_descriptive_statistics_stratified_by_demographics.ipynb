{
 "cells": [
  {
   "cell_type": "code",
   "execution_count": 1,
   "metadata": {},
   "outputs": [],
   "source": [
    "import os\n",
    "import sys\n",
    "import pandas as pd\n",
    "from IPython.display import display, HTML\n",
    "module_path = os.path.abspath(os.path.join('..'))\n",
    "if module_path not in sys.path:\n",
    "    sys.path.append(module_path)"
   ]
  },
  {
   "cell_type": "markdown",
   "metadata": {},
   "source": [
    "<h1>Loading database</h1>"
   ]
  },
  {
   "cell_type": "code",
   "execution_count": 2,
   "metadata": {},
   "outputs": [
    {
     "name": "stderr",
     "output_type": "stream",
     "text": [
      "2024-11-11 14:18:36 [INFO]: You're using dataset physionet_2012, please cite it properly in your work. You can find its reference information at the below link: \n",
      "https://github.com/WenjieDu/TSDB/tree/main/dataset_profiles/physionet_2012\n",
      "2024-11-11 14:18:36 [INFO]: Dataset physionet_2012 has already been downloaded. Processing directly...\n",
      "2024-11-11 14:18:36 [INFO]: Dataset physionet_2012 has already been cached. Loading from cache directly...\n",
      "2024-11-11 14:18:36 [INFO]: Loaded successfully!\n"
     ]
    }
   ],
   "source": [
    "from pypots.benchpots.datasets import preprocess_physionet2012\n",
    "physionet2012_dataset = preprocess_physionet2012(subset=\"all\", rate=0.1)"
   ]
  },
  {
   "cell_type": "markdown",
   "metadata": {},
   "source": [
    "<h2>Training data</h2>"
   ]
  },
  {
   "cell_type": "markdown",
   "metadata": {},
   "source": [
    "<h3>Loading training dataset</h3>"
   ]
  },
  {
   "cell_type": "code",
   "execution_count": 3,
   "metadata": {},
   "outputs": [],
   "source": [
    "train_X = physionet2012_dataset['train_X']"
   ]
  },
  {
   "cell_type": "markdown",
   "metadata": {},
   "source": [
    "<h3>Divided into subgroups by gender and showing the percentage</h3>"
   ]
  },
  {
   "cell_type": "code",
   "execution_count": 4,
   "metadata": {},
   "outputs": [],
   "source": [
    "distribution_gender_training = train_X['Gender'].value_counts(normalize=True) * 100\n",
    "distribution_gender_training =  round(distribution_gender_training, 1) # 0: female, or 1: male"
   ]
  },
  {
   "cell_type": "markdown",
   "metadata": {},
   "source": [
    "<h3>Divided into subgroups by ICUType and showing the percentage</h3>"
   ]
  },
  {
   "cell_type": "code",
   "execution_count": 5,
   "metadata": {},
   "outputs": [],
   "source": [
    "distribution_ICUType_training = train_X['ICUType'].value_counts(normalize=True) * 100\n",
    "distribution_ICUType_training =  round(distribution_ICUType_training, 1)"
   ]
  },
  {
   "cell_type": "markdown",
   "metadata": {},
   "source": [
    "<h3>Filtering one measurement per patient</h3>"
   ]
  },
  {
   "cell_type": "code",
   "execution_count": 6,
   "metadata": {},
   "outputs": [
    {
     "data": {
      "text/html": [
       "<div>\n",
       "<style scoped>\n",
       "    .dataframe tbody tr th:only-of-type {\n",
       "        vertical-align: middle;\n",
       "    }\n",
       "\n",
       "    .dataframe tbody tr th {\n",
       "        vertical-align: top;\n",
       "    }\n",
       "\n",
       "    .dataframe thead th {\n",
       "        text-align: right;\n",
       "    }\n",
       "</style>\n",
       "<table border=\"1\" class=\"dataframe\">\n",
       "  <thead>\n",
       "    <tr style=\"text-align: right;\">\n",
       "      <th></th>\n",
       "      <th>RecordID</th>\n",
       "      <th>level_1</th>\n",
       "      <th>Time</th>\n",
       "      <th>ALP</th>\n",
       "      <th>ALT</th>\n",
       "      <th>AST</th>\n",
       "      <th>Age</th>\n",
       "      <th>Albumin</th>\n",
       "      <th>BUN</th>\n",
       "      <th>Bilirubin</th>\n",
       "      <th>...</th>\n",
       "      <th>RespRate</th>\n",
       "      <th>SaO2</th>\n",
       "      <th>SysABP</th>\n",
       "      <th>Temp</th>\n",
       "      <th>TroponinI</th>\n",
       "      <th>TroponinT</th>\n",
       "      <th>Urine</th>\n",
       "      <th>WBC</th>\n",
       "      <th>Weight</th>\n",
       "      <th>pH</th>\n",
       "    </tr>\n",
       "  </thead>\n",
       "  <tbody>\n",
       "    <tr>\n",
       "      <th>0</th>\n",
       "      <td>132539</td>\n",
       "      <td>0</td>\n",
       "      <td>0.0</td>\n",
       "      <td>NaN</td>\n",
       "      <td>NaN</td>\n",
       "      <td>NaN</td>\n",
       "      <td>54.0</td>\n",
       "      <td>NaN</td>\n",
       "      <td>NaN</td>\n",
       "      <td>NaN</td>\n",
       "      <td>...</td>\n",
       "      <td>19.0</td>\n",
       "      <td>NaN</td>\n",
       "      <td>NaN</td>\n",
       "      <td>35.35</td>\n",
       "      <td>NaN</td>\n",
       "      <td>NaN</td>\n",
       "      <td>480.0</td>\n",
       "      <td>NaN</td>\n",
       "      <td>-1.0</td>\n",
       "      <td>NaN</td>\n",
       "    </tr>\n",
       "    <tr>\n",
       "      <th>48</th>\n",
       "      <td>132540</td>\n",
       "      <td>0</td>\n",
       "      <td>0.0</td>\n",
       "      <td>NaN</td>\n",
       "      <td>NaN</td>\n",
       "      <td>NaN</td>\n",
       "      <td>76.0</td>\n",
       "      <td>NaN</td>\n",
       "      <td>NaN</td>\n",
       "      <td>NaN</td>\n",
       "      <td>...</td>\n",
       "      <td>NaN</td>\n",
       "      <td>NaN</td>\n",
       "      <td>NaN</td>\n",
       "      <td>NaN</td>\n",
       "      <td>NaN</td>\n",
       "      <td>NaN</td>\n",
       "      <td>NaN</td>\n",
       "      <td>NaN</td>\n",
       "      <td>76.0</td>\n",
       "      <td>7.45</td>\n",
       "    </tr>\n",
       "    <tr>\n",
       "      <th>96</th>\n",
       "      <td>132541</td>\n",
       "      <td>0</td>\n",
       "      <td>0.0</td>\n",
       "      <td>NaN</td>\n",
       "      <td>NaN</td>\n",
       "      <td>NaN</td>\n",
       "      <td>44.0</td>\n",
       "      <td>NaN</td>\n",
       "      <td>NaN</td>\n",
       "      <td>NaN</td>\n",
       "      <td>...</td>\n",
       "      <td>NaN</td>\n",
       "      <td>NaN</td>\n",
       "      <td>NaN</td>\n",
       "      <td>37.80</td>\n",
       "      <td>NaN</td>\n",
       "      <td>NaN</td>\n",
       "      <td>100.0</td>\n",
       "      <td>NaN</td>\n",
       "      <td>56.7</td>\n",
       "      <td>NaN</td>\n",
       "    </tr>\n",
       "    <tr>\n",
       "      <th>144</th>\n",
       "      <td>132543</td>\n",
       "      <td>0</td>\n",
       "      <td>0.0</td>\n",
       "      <td>105.0</td>\n",
       "      <td>12.0</td>\n",
       "      <td>15.0</td>\n",
       "      <td>68.0</td>\n",
       "      <td>4.4</td>\n",
       "      <td>23.0</td>\n",
       "      <td>0.2</td>\n",
       "      <td>...</td>\n",
       "      <td>18.0</td>\n",
       "      <td>NaN</td>\n",
       "      <td>NaN</td>\n",
       "      <td>36.30</td>\n",
       "      <td>NaN</td>\n",
       "      <td>NaN</td>\n",
       "      <td>NaN</td>\n",
       "      <td>11.5</td>\n",
       "      <td>84.6</td>\n",
       "      <td>NaN</td>\n",
       "    </tr>\n",
       "    <tr>\n",
       "      <th>192</th>\n",
       "      <td>132545</td>\n",
       "      <td>0</td>\n",
       "      <td>0.0</td>\n",
       "      <td>NaN</td>\n",
       "      <td>NaN</td>\n",
       "      <td>NaN</td>\n",
       "      <td>88.0</td>\n",
       "      <td>NaN</td>\n",
       "      <td>NaN</td>\n",
       "      <td>NaN</td>\n",
       "      <td>...</td>\n",
       "      <td>NaN</td>\n",
       "      <td>NaN</td>\n",
       "      <td>NaN</td>\n",
       "      <td>NaN</td>\n",
       "      <td>NaN</td>\n",
       "      <td>NaN</td>\n",
       "      <td>NaN</td>\n",
       "      <td>NaN</td>\n",
       "      <td>-1.0</td>\n",
       "      <td>NaN</td>\n",
       "    </tr>\n",
       "    <tr>\n",
       "      <th>...</th>\n",
       "      <td>...</td>\n",
       "      <td>...</td>\n",
       "      <td>...</td>\n",
       "      <td>...</td>\n",
       "      <td>...</td>\n",
       "      <td>...</td>\n",
       "      <td>...</td>\n",
       "      <td>...</td>\n",
       "      <td>...</td>\n",
       "      <td>...</td>\n",
       "      <td>...</td>\n",
       "      <td>...</td>\n",
       "      <td>...</td>\n",
       "      <td>...</td>\n",
       "      <td>...</td>\n",
       "      <td>...</td>\n",
       "      <td>...</td>\n",
       "      <td>...</td>\n",
       "      <td>...</td>\n",
       "      <td>...</td>\n",
       "      <td>...</td>\n",
       "    </tr>\n",
       "    <tr>\n",
       "      <th>575088</th>\n",
       "      <td>163021</td>\n",
       "      <td>0</td>\n",
       "      <td>0.0</td>\n",
       "      <td>NaN</td>\n",
       "      <td>NaN</td>\n",
       "      <td>NaN</td>\n",
       "      <td>72.0</td>\n",
       "      <td>NaN</td>\n",
       "      <td>9.0</td>\n",
       "      <td>NaN</td>\n",
       "      <td>...</td>\n",
       "      <td>NaN</td>\n",
       "      <td>NaN</td>\n",
       "      <td>NaN</td>\n",
       "      <td>NaN</td>\n",
       "      <td>NaN</td>\n",
       "      <td>NaN</td>\n",
       "      <td>NaN</td>\n",
       "      <td>8.6</td>\n",
       "      <td>62.0</td>\n",
       "      <td>NaN</td>\n",
       "    </tr>\n",
       "    <tr>\n",
       "      <th>575184</th>\n",
       "      <td>163029</td>\n",
       "      <td>0</td>\n",
       "      <td>0.0</td>\n",
       "      <td>NaN</td>\n",
       "      <td>NaN</td>\n",
       "      <td>NaN</td>\n",
       "      <td>61.0</td>\n",
       "      <td>NaN</td>\n",
       "      <td>NaN</td>\n",
       "      <td>NaN</td>\n",
       "      <td>...</td>\n",
       "      <td>NaN</td>\n",
       "      <td>NaN</td>\n",
       "      <td>NaN</td>\n",
       "      <td>NaN</td>\n",
       "      <td>NaN</td>\n",
       "      <td>NaN</td>\n",
       "      <td>NaN</td>\n",
       "      <td>NaN</td>\n",
       "      <td>85.0</td>\n",
       "      <td>NaN</td>\n",
       "    </tr>\n",
       "    <tr>\n",
       "      <th>575232</th>\n",
       "      <td>163033</td>\n",
       "      <td>0</td>\n",
       "      <td>0.0</td>\n",
       "      <td>NaN</td>\n",
       "      <td>NaN</td>\n",
       "      <td>NaN</td>\n",
       "      <td>51.0</td>\n",
       "      <td>NaN</td>\n",
       "      <td>NaN</td>\n",
       "      <td>NaN</td>\n",
       "      <td>...</td>\n",
       "      <td>NaN</td>\n",
       "      <td>NaN</td>\n",
       "      <td>NaN</td>\n",
       "      <td>NaN</td>\n",
       "      <td>NaN</td>\n",
       "      <td>NaN</td>\n",
       "      <td>NaN</td>\n",
       "      <td>NaN</td>\n",
       "      <td>208.0</td>\n",
       "      <td>NaN</td>\n",
       "    </tr>\n",
       "    <tr>\n",
       "      <th>575280</th>\n",
       "      <td>163034</td>\n",
       "      <td>0</td>\n",
       "      <td>0.0</td>\n",
       "      <td>NaN</td>\n",
       "      <td>NaN</td>\n",
       "      <td>NaN</td>\n",
       "      <td>60.0</td>\n",
       "      <td>NaN</td>\n",
       "      <td>NaN</td>\n",
       "      <td>NaN</td>\n",
       "      <td>...</td>\n",
       "      <td>NaN</td>\n",
       "      <td>98.0</td>\n",
       "      <td>NaN</td>\n",
       "      <td>NaN</td>\n",
       "      <td>NaN</td>\n",
       "      <td>NaN</td>\n",
       "      <td>NaN</td>\n",
       "      <td>NaN</td>\n",
       "      <td>85.0</td>\n",
       "      <td>7.43</td>\n",
       "    </tr>\n",
       "    <tr>\n",
       "      <th>575328</th>\n",
       "      <td>163035</td>\n",
       "      <td>0</td>\n",
       "      <td>0.0</td>\n",
       "      <td>NaN</td>\n",
       "      <td>NaN</td>\n",
       "      <td>NaN</td>\n",
       "      <td>71.0</td>\n",
       "      <td>NaN</td>\n",
       "      <td>30.0</td>\n",
       "      <td>NaN</td>\n",
       "      <td>...</td>\n",
       "      <td>NaN</td>\n",
       "      <td>NaN</td>\n",
       "      <td>NaN</td>\n",
       "      <td>36.60</td>\n",
       "      <td>NaN</td>\n",
       "      <td>5.49</td>\n",
       "      <td>50.0</td>\n",
       "      <td>27.4</td>\n",
       "      <td>128.0</td>\n",
       "      <td>NaN</td>\n",
       "    </tr>\n",
       "  </tbody>\n",
       "</table>\n",
       "<p>7671 rows × 44 columns</p>\n",
       "</div>"
      ],
      "text/plain": [
       "        RecordID  level_1  Time    ALP   ALT   AST   Age  Albumin   BUN  \\\n",
       "0         132539        0   0.0    NaN   NaN   NaN  54.0      NaN   NaN   \n",
       "48        132540        0   0.0    NaN   NaN   NaN  76.0      NaN   NaN   \n",
       "96        132541        0   0.0    NaN   NaN   NaN  44.0      NaN   NaN   \n",
       "144       132543        0   0.0  105.0  12.0  15.0  68.0      4.4  23.0   \n",
       "192       132545        0   0.0    NaN   NaN   NaN  88.0      NaN   NaN   \n",
       "...          ...      ...   ...    ...   ...   ...   ...      ...   ...   \n",
       "575088    163021        0   0.0    NaN   NaN   NaN  72.0      NaN   9.0   \n",
       "575184    163029        0   0.0    NaN   NaN   NaN  61.0      NaN   NaN   \n",
       "575232    163033        0   0.0    NaN   NaN   NaN  51.0      NaN   NaN   \n",
       "575280    163034        0   0.0    NaN   NaN   NaN  60.0      NaN   NaN   \n",
       "575328    163035        0   0.0    NaN   NaN   NaN  71.0      NaN  30.0   \n",
       "\n",
       "        Bilirubin  ...  RespRate  SaO2  SysABP   Temp  TroponinI  TroponinT  \\\n",
       "0             NaN  ...      19.0   NaN     NaN  35.35        NaN        NaN   \n",
       "48            NaN  ...       NaN   NaN     NaN    NaN        NaN        NaN   \n",
       "96            NaN  ...       NaN   NaN     NaN  37.80        NaN        NaN   \n",
       "144           0.2  ...      18.0   NaN     NaN  36.30        NaN        NaN   \n",
       "192           NaN  ...       NaN   NaN     NaN    NaN        NaN        NaN   \n",
       "...           ...  ...       ...   ...     ...    ...        ...        ...   \n",
       "575088        NaN  ...       NaN   NaN     NaN    NaN        NaN        NaN   \n",
       "575184        NaN  ...       NaN   NaN     NaN    NaN        NaN        NaN   \n",
       "575232        NaN  ...       NaN   NaN     NaN    NaN        NaN        NaN   \n",
       "575280        NaN  ...       NaN  98.0     NaN    NaN        NaN        NaN   \n",
       "575328        NaN  ...       NaN   NaN     NaN  36.60        NaN       5.49   \n",
       "\n",
       "        Urine   WBC  Weight    pH  \n",
       "0       480.0   NaN    -1.0   NaN  \n",
       "48        NaN   NaN    76.0  7.45  \n",
       "96      100.0   NaN    56.7   NaN  \n",
       "144       NaN  11.5    84.6   NaN  \n",
       "192       NaN   NaN    -1.0   NaN  \n",
       "...       ...   ...     ...   ...  \n",
       "575088    NaN   8.6    62.0   NaN  \n",
       "575184    NaN   NaN    85.0   NaN  \n",
       "575232    NaN   NaN   208.0   NaN  \n",
       "575280    NaN   NaN    85.0  7.43  \n",
       "575328   50.0  27.4   128.0   NaN  \n",
       "\n",
       "[7671 rows x 44 columns]"
      ]
     },
     "execution_count": 6,
     "metadata": {},
     "output_type": "execute_result"
    }
   ],
   "source": [
    "uniques_train_per_variable = train_X[train_X[\"Time\"] == 0.0]\n",
    "uniques_train_per_variable"
   ]
  },
  {
   "cell_type": "code",
   "execution_count": 7,
   "metadata": {},
   "outputs": [
    {
     "data": {
      "text/plain": [
       "RecordID       7671\n",
       "level_1        7671\n",
       "Time           7671\n",
       "ALP             370\n",
       "ALT             378\n",
       "AST             379\n",
       "Age            7671\n",
       "Albumin         314\n",
       "BUN             953\n",
       "Bilirubin       370\n",
       "Cholesterol      39\n",
       "Creatinine      954\n",
       "DiasABP        1414\n",
       "FiO2           1422\n",
       "GCS            2736\n",
       "Gender         7671\n",
       "Glucose         839\n",
       "HCO3            861\n",
       "HCT            1035\n",
       "HR             3898\n",
       "Height         7671\n",
       "ICUType        7671\n",
       "K               856\n",
       "Lactate         877\n",
       "MAP            1372\n",
       "MechVent       1343\n",
       "Mg              666\n",
       "NIDiasABP      2935\n",
       "NIMAP          2915\n",
       "NISysABP       2939\n",
       "Na              849\n",
       "PaCO2          1775\n",
       "PaO2           1743\n",
       "Platelets      1054\n",
       "RespRate       1177\n",
       "SaO2            270\n",
       "SysABP         1415\n",
       "Temp           2922\n",
       "TroponinI        30\n",
       "TroponinT       184\n",
       "Urine          2410\n",
       "WBC             965\n",
       "Weight         7671\n",
       "pH             1794\n",
       "dtype: int64"
      ]
     },
     "execution_count": 7,
     "metadata": {},
     "output_type": "execute_result"
    }
   ],
   "source": [
    "uniques_train_per_variable.count()"
   ]
  },
  {
   "cell_type": "markdown",
   "metadata": {},
   "source": [
    "<h3>Showing total occurrences of age</h3>"
   ]
  },
  {
   "cell_type": "code",
   "execution_count": 8,
   "metadata": {},
   "outputs": [
    {
     "data": {
      "text/plain": [
       "7671"
      ]
     },
     "execution_count": 8,
     "metadata": {},
     "output_type": "execute_result"
    }
   ],
   "source": [
    "# 60% de 11988 (training set)\n",
    "uniques_train_per_variable[\"Age\"].count()"
   ]
  },
  {
   "cell_type": "markdown",
   "metadata": {},
   "source": [
    "<h3>Dividing age into subgroup of people aged 65+</h3>"
   ]
  },
  {
   "cell_type": "code",
   "execution_count": 9,
   "metadata": {},
   "outputs": [],
   "source": [
    "more_than_or_equal_to_65_training = uniques_train_per_variable[uniques_train_per_variable['Age'] >= 65]\n",
    "percentage_group_one_train = (more_than_or_equal_to_65_training[\"Age\"].count() / uniques_train_per_variable[\"Age\"].count())*100\n",
    "percentage_group_one_train =  round(percentage_group_one_train, 1)"
   ]
  },
  {
   "cell_type": "markdown",
   "metadata": {},
   "source": [
    "<h3>Dividing age into subgroup of people under 65 years of age</h3>"
   ]
  },
  {
   "cell_type": "code",
   "execution_count": 10,
   "metadata": {},
   "outputs": [],
   "source": [
    "less_than_65 = uniques_train_per_variable[uniques_train_per_variable['Age'] < 65]\n",
    "percentage_group_two_train = (less_than_65[\"Age\"].count() / uniques_train_per_variable[\"Age\"].count()) * 100\n",
    "percentage_group_two_train =  round(percentage_group_two_train, 1)"
   ]
  },
  {
   "cell_type": "markdown",
   "metadata": {},
   "source": [
    "<h3>Filtering only one height and one weight per patient</h3>"
   ]
  },
  {
   "cell_type": "markdown",
   "metadata": {},
   "source": [
    "<h3>Calculate the BMI</h3>"
   ]
  },
  {
   "cell_type": "code",
   "execution_count": 11,
   "metadata": {},
   "outputs": [],
   "source": [
    "def classify_BMI(BMI):\n",
    "    if BMI <= 18.5:\n",
    "        return \"Baixo peso\"\n",
    "    elif BMI >= 18.6 and BMI <= 24.9:\n",
    "        return \"Peso normal\"\n",
    "    elif BMI >= 25 and BMI <= 29.9:\n",
    "        return \"Sobrepeso\"\n",
    "    elif BMI >= 30 and BMI <= 34.9:\n",
    "        return \"Obesidade grau 1\"\n",
    "    elif BMI >= 35 and BMI <= 39.9:\n",
    "        return \"Obesidade grau 2\"\n",
    "    elif BMI >= 40:\n",
    "        return \"Obesidade grau 3\""
   ]
  },
  {
   "cell_type": "code",
   "execution_count": 12,
   "metadata": {},
   "outputs": [
    {
     "data": {
      "text/plain": [
       "7671"
      ]
     },
     "execution_count": 12,
     "metadata": {},
     "output_type": "execute_result"
    }
   ],
   "source": [
    "train_count = train_X.groupby(\"RecordID\").first().reset_index()\n",
    "train_count = train_count[\"RecordID\"].count()\n",
    "train_count"
   ]
  },
  {
   "cell_type": "code",
   "execution_count": 13,
   "metadata": {},
   "outputs": [],
   "source": [
    "filtered_train = train_X[(train_X['Height'] != -1) & (train_X['Weight'] != -1) & (train_X['Height'].notna()) & (train_X['Weight'].notna())]\n",
    "filtered_train = filtered_train.groupby(\"RecordID\").first().reset_index()\n",
    "filtered_train_ids = filtered_train[\"RecordID\"]"
   ]
  },
  {
   "cell_type": "code",
   "execution_count": 14,
   "metadata": {},
   "outputs": [
    {
     "data": {
      "text/plain": [
       "3990"
      ]
     },
     "execution_count": 14,
     "metadata": {},
     "output_type": "execute_result"
    }
   ],
   "source": [
    "filtered_train_ids.count()"
   ]
  },
  {
   "cell_type": "code",
   "execution_count": 15,
   "metadata": {},
   "outputs": [],
   "source": [
    "undefined_train = train_X[~train_X[\"RecordID\"].isin(filtered_train_ids)]\n",
    "undefined_train = undefined_train.groupby(\"RecordID\").first().reset_index()\n",
    "undefined_train_ids = undefined_train[\"RecordID\"]"
   ]
  },
  {
   "cell_type": "code",
   "execution_count": 16,
   "metadata": {},
   "outputs": [
    {
     "data": {
      "text/plain": [
       "3681"
      ]
     },
     "execution_count": 16,
     "metadata": {},
     "output_type": "execute_result"
    }
   ],
   "source": [
    "undefined_train_ids.count()"
   ]
  },
  {
   "cell_type": "code",
   "execution_count": 17,
   "metadata": {},
   "outputs": [],
   "source": [
    "filtered_train_metros = filtered_train.copy()\n",
    "filtered_train_metros[\"Height\"] = filtered_train_metros[\"Height\"]/100"
   ]
  },
  {
   "cell_type": "code",
   "execution_count": 18,
   "metadata": {},
   "outputs": [],
   "source": [
    "filtered_train_metros[\"BMI\"] = round(filtered_train_metros[\"Weight\"]/(filtered_train_metros[\"Height\"]**2),1)"
   ]
  },
  {
   "cell_type": "code",
   "execution_count": 19,
   "metadata": {},
   "outputs": [],
   "source": [
    "filtered_train_metros[\"Classification\"] = filtered_train_metros[\"BMI\"].apply(classify_BMI)"
   ]
  },
  {
   "cell_type": "code",
   "execution_count": 20,
   "metadata": {},
   "outputs": [
    {
     "data": {
      "text/plain": [
       "1.7"
      ]
     },
     "execution_count": 20,
     "metadata": {},
     "output_type": "execute_result"
    }
   ],
   "source": [
    "baixo_peso_train_percentage = filtered_train_metros[filtered_train_metros[\"Classification\"] == \"Baixo peso\"]\n",
    "baixo_peso_train_percentage = round((baixo_peso_train_percentage[\"RecordID\"].count()/train_count)*100,1)\n",
    "baixo_peso_train_percentage"
   ]
  },
  {
   "cell_type": "code",
   "execution_count": 21,
   "metadata": {},
   "outputs": [
    {
     "data": {
      "text/plain": [
       "15.7"
      ]
     },
     "execution_count": 21,
     "metadata": {},
     "output_type": "execute_result"
    }
   ],
   "source": [
    "peso_normal_train_percentage = filtered_train_metros[filtered_train_metros[\"Classification\"] == \"Peso normal\"]\n",
    "peso_normal_train_percentage = round((peso_normal_train_percentage[\"RecordID\"].count()/train_count)*100,1)\n",
    "peso_normal_train_percentage"
   ]
  },
  {
   "cell_type": "code",
   "execution_count": 22,
   "metadata": {},
   "outputs": [
    {
     "data": {
      "text/plain": [
       "17.9"
      ]
     },
     "execution_count": 22,
     "metadata": {},
     "output_type": "execute_result"
    }
   ],
   "source": [
    "sobrepeso_train_percentage = filtered_train_metros[filtered_train_metros[\"Classification\"]==\"Sobrepeso\"]\n",
    "sobrepeso_train_percentage = round((sobrepeso_train_percentage[\"RecordID\"].count()/train_count)*100,1)\n",
    "sobrepeso_train_percentage"
   ]
  },
  {
   "cell_type": "code",
   "execution_count": 23,
   "metadata": {},
   "outputs": [
    {
     "data": {
      "text/plain": [
       "9.2"
      ]
     },
     "execution_count": 23,
     "metadata": {},
     "output_type": "execute_result"
    }
   ],
   "source": [
    "obesidade_1_train_percentege = filtered_train_metros[filtered_train_metros[\"Classification\"] == \"Obesidade grau 1\"]\n",
    "obesidade_1_train_percentege = round((obesidade_1_train_percentege[\"RecordID\"].count()/train_count)*100,1)\n",
    "obesidade_1_train_percentege"
   ]
  },
  {
   "cell_type": "code",
   "execution_count": 24,
   "metadata": {},
   "outputs": [
    {
     "data": {
      "text/plain": [
       "3.9"
      ]
     },
     "execution_count": 24,
     "metadata": {},
     "output_type": "execute_result"
    }
   ],
   "source": [
    "obesidade_2_train_percentege = filtered_train_metros[filtered_train_metros[\"Classification\"] == \"Obesidade grau 2\"]\n",
    "obesidade_2_train_percentege = round((obesidade_2_train_percentege[\"RecordID\"].count()/train_count)*100,1)\n",
    "obesidade_2_train_percentege"
   ]
  },
  {
   "cell_type": "code",
   "execution_count": 25,
   "metadata": {},
   "outputs": [
    {
     "data": {
      "text/plain": [
       "3.6"
      ]
     },
     "execution_count": 25,
     "metadata": {},
     "output_type": "execute_result"
    }
   ],
   "source": [
    "obesidade_3_train_percentege = filtered_train_metros[filtered_train_metros[\"Classification\"] == \"Obesidade grau 3\"]\n",
    "obesidade_3_train_percentege = round((obesidade_3_train_percentege[\"RecordID\"].count()/train_count)*100,1)\n",
    "obesidade_3_train_percentege"
   ]
  },
  {
   "cell_type": "code",
   "execution_count": 29,
   "metadata": {},
   "outputs": [
    {
     "data": {
      "text/plain": [
       "48.0"
      ]
     },
     "execution_count": 29,
     "metadata": {},
     "output_type": "execute_result"
    }
   ],
   "source": [
    "undefined_train_percentege = round((undefined_train[\"RecordID\"].count()/train_count)*100,1)\n",
    "undefined_train_percentege"
   ]
  },
  {
   "cell_type": "markdown",
   "metadata": {},
   "source": [
    "<h2>Validation data</h2>"
   ]
  },
  {
   "cell_type": "markdown",
   "metadata": {},
   "source": [
    "<h3>Loading validation dataset </h3>"
   ]
  },
  {
   "cell_type": "code",
   "execution_count": 33,
   "metadata": {},
   "outputs": [],
   "source": [
    "validation_X = physionet2012_dataset['val_X']"
   ]
  },
  {
   "cell_type": "markdown",
   "metadata": {},
   "source": [
    "<h3>Divided into subgroups by gender and showing the percentage</h3>"
   ]
  },
  {
   "cell_type": "code",
   "execution_count": 34,
   "metadata": {},
   "outputs": [],
   "source": [
    "distribution_gender_validation = validation_X['Gender'].value_counts(normalize=True) * 100\n",
    "distribution_gender_validation =  round(distribution_gender_validation, 1) # 0: female, or 1: male"
   ]
  },
  {
   "cell_type": "markdown",
   "metadata": {},
   "source": [
    "<h3>Divided into subgroups by ICUType and showing the percentage</h3>"
   ]
  },
  {
   "cell_type": "code",
   "execution_count": 32,
   "metadata": {},
   "outputs": [],
   "source": [
    "distribution_ICUType_validation = validation_X['ICUType'].value_counts(normalize=True) * 100\n",
    "distribution_ICUType_validation = round(distribution_ICUType_validation, 1)"
   ]
  },
  {
   "cell_type": "markdown",
   "metadata": {},
   "source": [
    "<h3>Filtering only one age per patient</h3>"
   ]
  },
  {
   "cell_type": "code",
   "execution_count": 35,
   "metadata": {},
   "outputs": [
    {
     "data": {
      "text/html": [
       "<div>\n",
       "<style scoped>\n",
       "    .dataframe tbody tr th:only-of-type {\n",
       "        vertical-align: middle;\n",
       "    }\n",
       "\n",
       "    .dataframe tbody tr th {\n",
       "        vertical-align: top;\n",
       "    }\n",
       "\n",
       "    .dataframe thead th {\n",
       "        text-align: right;\n",
       "    }\n",
       "</style>\n",
       "<table border=\"1\" class=\"dataframe\">\n",
       "  <thead>\n",
       "    <tr style=\"text-align: right;\">\n",
       "      <th></th>\n",
       "      <th>RecordID</th>\n",
       "      <th>level_1</th>\n",
       "      <th>Time</th>\n",
       "      <th>ALP</th>\n",
       "      <th>ALT</th>\n",
       "      <th>AST</th>\n",
       "      <th>Age</th>\n",
       "      <th>Albumin</th>\n",
       "      <th>BUN</th>\n",
       "      <th>Bilirubin</th>\n",
       "      <th>...</th>\n",
       "      <th>RespRate</th>\n",
       "      <th>SaO2</th>\n",
       "      <th>SysABP</th>\n",
       "      <th>Temp</th>\n",
       "      <th>TroponinI</th>\n",
       "      <th>TroponinT</th>\n",
       "      <th>Urine</th>\n",
       "      <th>WBC</th>\n",
       "      <th>Weight</th>\n",
       "      <th>pH</th>\n",
       "    </tr>\n",
       "  </thead>\n",
       "  <tbody>\n",
       "    <tr>\n",
       "      <th>384</th>\n",
       "      <td>132554</td>\n",
       "      <td>0</td>\n",
       "      <td>0.0</td>\n",
       "      <td>NaN</td>\n",
       "      <td>NaN</td>\n",
       "      <td>NaN</td>\n",
       "      <td>64.0</td>\n",
       "      <td>NaN</td>\n",
       "      <td>NaN</td>\n",
       "      <td>NaN</td>\n",
       "      <td>...</td>\n",
       "      <td>NaN</td>\n",
       "      <td>NaN</td>\n",
       "      <td>NaN</td>\n",
       "      <td>NaN</td>\n",
       "      <td>NaN</td>\n",
       "      <td>NaN</td>\n",
       "      <td>NaN</td>\n",
       "      <td>NaN</td>\n",
       "      <td>60.7</td>\n",
       "      <td>NaN</td>\n",
       "    </tr>\n",
       "    <tr>\n",
       "      <th>432</th>\n",
       "      <td>132555</td>\n",
       "      <td>0</td>\n",
       "      <td>0.0</td>\n",
       "      <td>NaN</td>\n",
       "      <td>NaN</td>\n",
       "      <td>NaN</td>\n",
       "      <td>74.0</td>\n",
       "      <td>NaN</td>\n",
       "      <td>NaN</td>\n",
       "      <td>NaN</td>\n",
       "      <td>...</td>\n",
       "      <td>NaN</td>\n",
       "      <td>NaN</td>\n",
       "      <td>98.0</td>\n",
       "      <td>34.80</td>\n",
       "      <td>NaN</td>\n",
       "      <td>NaN</td>\n",
       "      <td>35.0</td>\n",
       "      <td>NaN</td>\n",
       "      <td>66.1</td>\n",
       "      <td>7.39</td>\n",
       "    </tr>\n",
       "    <tr>\n",
       "      <th>528</th>\n",
       "      <td>132567</td>\n",
       "      <td>0</td>\n",
       "      <td>0.0</td>\n",
       "      <td>NaN</td>\n",
       "      <td>NaN</td>\n",
       "      <td>NaN</td>\n",
       "      <td>71.0</td>\n",
       "      <td>NaN</td>\n",
       "      <td>NaN</td>\n",
       "      <td>NaN</td>\n",
       "      <td>...</td>\n",
       "      <td>NaN</td>\n",
       "      <td>NaN</td>\n",
       "      <td>111.5</td>\n",
       "      <td>35.60</td>\n",
       "      <td>NaN</td>\n",
       "      <td>NaN</td>\n",
       "      <td>NaN</td>\n",
       "      <td>NaN</td>\n",
       "      <td>56.0</td>\n",
       "      <td>7.44</td>\n",
       "    </tr>\n",
       "    <tr>\n",
       "      <th>576</th>\n",
       "      <td>132568</td>\n",
       "      <td>0</td>\n",
       "      <td>0.0</td>\n",
       "      <td>NaN</td>\n",
       "      <td>NaN</td>\n",
       "      <td>NaN</td>\n",
       "      <td>66.0</td>\n",
       "      <td>NaN</td>\n",
       "      <td>NaN</td>\n",
       "      <td>NaN</td>\n",
       "      <td>...</td>\n",
       "      <td>NaN</td>\n",
       "      <td>NaN</td>\n",
       "      <td>NaN</td>\n",
       "      <td>NaN</td>\n",
       "      <td>NaN</td>\n",
       "      <td>NaN</td>\n",
       "      <td>220.0</td>\n",
       "      <td>NaN</td>\n",
       "      <td>84.5</td>\n",
       "      <td>NaN</td>\n",
       "    </tr>\n",
       "    <tr>\n",
       "      <th>816</th>\n",
       "      <td>132582</td>\n",
       "      <td>0</td>\n",
       "      <td>0.0</td>\n",
       "      <td>NaN</td>\n",
       "      <td>NaN</td>\n",
       "      <td>NaN</td>\n",
       "      <td>84.0</td>\n",
       "      <td>NaN</td>\n",
       "      <td>NaN</td>\n",
       "      <td>NaN</td>\n",
       "      <td>...</td>\n",
       "      <td>NaN</td>\n",
       "      <td>NaN</td>\n",
       "      <td>NaN</td>\n",
       "      <td>NaN</td>\n",
       "      <td>NaN</td>\n",
       "      <td>NaN</td>\n",
       "      <td>NaN</td>\n",
       "      <td>NaN</td>\n",
       "      <td>82.5</td>\n",
       "      <td>NaN</td>\n",
       "    </tr>\n",
       "    <tr>\n",
       "      <th>...</th>\n",
       "      <td>...</td>\n",
       "      <td>...</td>\n",
       "      <td>...</td>\n",
       "      <td>...</td>\n",
       "      <td>...</td>\n",
       "      <td>...</td>\n",
       "      <td>...</td>\n",
       "      <td>...</td>\n",
       "      <td>...</td>\n",
       "      <td>...</td>\n",
       "      <td>...</td>\n",
       "      <td>...</td>\n",
       "      <td>...</td>\n",
       "      <td>...</td>\n",
       "      <td>...</td>\n",
       "      <td>...</td>\n",
       "      <td>...</td>\n",
       "      <td>...</td>\n",
       "      <td>...</td>\n",
       "      <td>...</td>\n",
       "      <td>...</td>\n",
       "    </tr>\n",
       "    <tr>\n",
       "      <th>574608</th>\n",
       "      <td>162995</td>\n",
       "      <td>0</td>\n",
       "      <td>0.0</td>\n",
       "      <td>60.0</td>\n",
       "      <td>21.0</td>\n",
       "      <td>20.0</td>\n",
       "      <td>84.0</td>\n",
       "      <td>NaN</td>\n",
       "      <td>93.0</td>\n",
       "      <td>0.4</td>\n",
       "      <td>...</td>\n",
       "      <td>NaN</td>\n",
       "      <td>98.0</td>\n",
       "      <td>121.0</td>\n",
       "      <td>37.10</td>\n",
       "      <td>0.6</td>\n",
       "      <td>NaN</td>\n",
       "      <td>NaN</td>\n",
       "      <td>17.1</td>\n",
       "      <td>96.5</td>\n",
       "      <td>7.31</td>\n",
       "    </tr>\n",
       "    <tr>\n",
       "      <th>574704</th>\n",
       "      <td>162999</td>\n",
       "      <td>0</td>\n",
       "      <td>0.0</td>\n",
       "      <td>NaN</td>\n",
       "      <td>NaN</td>\n",
       "      <td>NaN</td>\n",
       "      <td>70.0</td>\n",
       "      <td>NaN</td>\n",
       "      <td>30.0</td>\n",
       "      <td>NaN</td>\n",
       "      <td>...</td>\n",
       "      <td>NaN</td>\n",
       "      <td>NaN</td>\n",
       "      <td>0.0</td>\n",
       "      <td>36.30</td>\n",
       "      <td>NaN</td>\n",
       "      <td>NaN</td>\n",
       "      <td>NaN</td>\n",
       "      <td>2.5</td>\n",
       "      <td>68.1</td>\n",
       "      <td>NaN</td>\n",
       "    </tr>\n",
       "    <tr>\n",
       "      <th>574848</th>\n",
       "      <td>163007</td>\n",
       "      <td>0</td>\n",
       "      <td>0.0</td>\n",
       "      <td>NaN</td>\n",
       "      <td>NaN</td>\n",
       "      <td>NaN</td>\n",
       "      <td>19.0</td>\n",
       "      <td>NaN</td>\n",
       "      <td>NaN</td>\n",
       "      <td>NaN</td>\n",
       "      <td>...</td>\n",
       "      <td>NaN</td>\n",
       "      <td>NaN</td>\n",
       "      <td>0.0</td>\n",
       "      <td>40.55</td>\n",
       "      <td>NaN</td>\n",
       "      <td>NaN</td>\n",
       "      <td>150.0</td>\n",
       "      <td>NaN</td>\n",
       "      <td>114.3</td>\n",
       "      <td>NaN</td>\n",
       "    </tr>\n",
       "    <tr>\n",
       "      <th>574896</th>\n",
       "      <td>163008</td>\n",
       "      <td>0</td>\n",
       "      <td>0.0</td>\n",
       "      <td>NaN</td>\n",
       "      <td>NaN</td>\n",
       "      <td>NaN</td>\n",
       "      <td>59.0</td>\n",
       "      <td>NaN</td>\n",
       "      <td>NaN</td>\n",
       "      <td>NaN</td>\n",
       "      <td>...</td>\n",
       "      <td>NaN</td>\n",
       "      <td>NaN</td>\n",
       "      <td>NaN</td>\n",
       "      <td>NaN</td>\n",
       "      <td>NaN</td>\n",
       "      <td>NaN</td>\n",
       "      <td>NaN</td>\n",
       "      <td>NaN</td>\n",
       "      <td>98.5</td>\n",
       "      <td>NaN</td>\n",
       "    </tr>\n",
       "    <tr>\n",
       "      <th>575136</th>\n",
       "      <td>163027</td>\n",
       "      <td>0</td>\n",
       "      <td>0.0</td>\n",
       "      <td>NaN</td>\n",
       "      <td>NaN</td>\n",
       "      <td>NaN</td>\n",
       "      <td>32.0</td>\n",
       "      <td>NaN</td>\n",
       "      <td>NaN</td>\n",
       "      <td>NaN</td>\n",
       "      <td>...</td>\n",
       "      <td>NaN</td>\n",
       "      <td>NaN</td>\n",
       "      <td>NaN</td>\n",
       "      <td>37.60</td>\n",
       "      <td>NaN</td>\n",
       "      <td>NaN</td>\n",
       "      <td>NaN</td>\n",
       "      <td>NaN</td>\n",
       "      <td>68.0</td>\n",
       "      <td>NaN</td>\n",
       "    </tr>\n",
       "  </tbody>\n",
       "</table>\n",
       "<p>1918 rows × 44 columns</p>\n",
       "</div>"
      ],
      "text/plain": [
       "        RecordID  level_1  Time   ALP   ALT   AST   Age  Albumin   BUN  \\\n",
       "384       132554        0   0.0   NaN   NaN   NaN  64.0      NaN   NaN   \n",
       "432       132555        0   0.0   NaN   NaN   NaN  74.0      NaN   NaN   \n",
       "528       132567        0   0.0   NaN   NaN   NaN  71.0      NaN   NaN   \n",
       "576       132568        0   0.0   NaN   NaN   NaN  66.0      NaN   NaN   \n",
       "816       132582        0   0.0   NaN   NaN   NaN  84.0      NaN   NaN   \n",
       "...          ...      ...   ...   ...   ...   ...   ...      ...   ...   \n",
       "574608    162995        0   0.0  60.0  21.0  20.0  84.0      NaN  93.0   \n",
       "574704    162999        0   0.0   NaN   NaN   NaN  70.0      NaN  30.0   \n",
       "574848    163007        0   0.0   NaN   NaN   NaN  19.0      NaN   NaN   \n",
       "574896    163008        0   0.0   NaN   NaN   NaN  59.0      NaN   NaN   \n",
       "575136    163027        0   0.0   NaN   NaN   NaN  32.0      NaN   NaN   \n",
       "\n",
       "        Bilirubin  ...  RespRate  SaO2  SysABP   Temp  TroponinI  TroponinT  \\\n",
       "384           NaN  ...       NaN   NaN     NaN    NaN        NaN        NaN   \n",
       "432           NaN  ...       NaN   NaN    98.0  34.80        NaN        NaN   \n",
       "528           NaN  ...       NaN   NaN   111.5  35.60        NaN        NaN   \n",
       "576           NaN  ...       NaN   NaN     NaN    NaN        NaN        NaN   \n",
       "816           NaN  ...       NaN   NaN     NaN    NaN        NaN        NaN   \n",
       "...           ...  ...       ...   ...     ...    ...        ...        ...   \n",
       "574608        0.4  ...       NaN  98.0   121.0  37.10        0.6        NaN   \n",
       "574704        NaN  ...       NaN   NaN     0.0  36.30        NaN        NaN   \n",
       "574848        NaN  ...       NaN   NaN     0.0  40.55        NaN        NaN   \n",
       "574896        NaN  ...       NaN   NaN     NaN    NaN        NaN        NaN   \n",
       "575136        NaN  ...       NaN   NaN     NaN  37.60        NaN        NaN   \n",
       "\n",
       "        Urine   WBC  Weight    pH  \n",
       "384       NaN   NaN    60.7   NaN  \n",
       "432      35.0   NaN    66.1  7.39  \n",
       "528       NaN   NaN    56.0  7.44  \n",
       "576     220.0   NaN    84.5   NaN  \n",
       "816       NaN   NaN    82.5   NaN  \n",
       "...       ...   ...     ...   ...  \n",
       "574608    NaN  17.1    96.5  7.31  \n",
       "574704    NaN   2.5    68.1   NaN  \n",
       "574848  150.0   NaN   114.3   NaN  \n",
       "574896    NaN   NaN    98.5   NaN  \n",
       "575136    NaN   NaN    68.0   NaN  \n",
       "\n",
       "[1918 rows x 44 columns]"
      ]
     },
     "execution_count": 35,
     "metadata": {},
     "output_type": "execute_result"
    }
   ],
   "source": [
    "uniques_validation_per_variable = validation_X[validation_X[\"Time\"] == 0.0]\n",
    "uniques_validation_per_variable"
   ]
  },
  {
   "cell_type": "markdown",
   "metadata": {},
   "source": [
    "<h3>Showing total occurrences of age</h3>"
   ]
  },
  {
   "cell_type": "code",
   "execution_count": 36,
   "metadata": {},
   "outputs": [
    {
     "data": {
      "text/plain": [
       "1918"
      ]
     },
     "execution_count": 36,
     "metadata": {},
     "output_type": "execute_result"
    }
   ],
   "source": [
    "uniques_validation_per_variable[\"Age\"].count()"
   ]
  },
  {
   "cell_type": "markdown",
   "metadata": {},
   "source": [
    "<h3>Dividing age into subgroup of people aged 65+</h3>"
   ]
  },
  {
   "cell_type": "code",
   "execution_count": 37,
   "metadata": {},
   "outputs": [],
   "source": [
    "more_than_or_equal_to_65_validation = uniques_validation_per_variable[uniques_validation_per_variable['Age'] >= 65]\n",
    "percentage_group_one_validation = (more_than_or_equal_to_65_validation[\"Age\"].count() / uniques_validation_per_variable[\"Age\"].count())*100\n",
    "percentage_group_one_validation = round(percentage_group_one_validation, 1)"
   ]
  },
  {
   "cell_type": "markdown",
   "metadata": {},
   "source": [
    "<h3>Dividing age into subgroup of people under 65 years of age</h3>"
   ]
  },
  {
   "cell_type": "code",
   "execution_count": 38,
   "metadata": {},
   "outputs": [],
   "source": [
    "less_than_65 = uniques_validation_per_variable[uniques_validation_per_variable['Age'] < 65]\n",
    "percentage_group_two_validation = (less_than_65[\"Age\"].count() / uniques_validation_per_variable[\"Age\"].count()) * 100\n",
    "percentage_group_two_validation =  round(percentage_group_two_validation, 1)"
   ]
  },
  {
   "cell_type": "markdown",
   "metadata": {},
   "source": [
    "<h3>Filtering only one height and one weight per patient</h3>"
   ]
  },
  {
   "cell_type": "code",
   "execution_count": 41,
   "metadata": {},
   "outputs": [
    {
     "data": {
      "text/plain": [
       "1918"
      ]
     },
     "execution_count": 41,
     "metadata": {},
     "output_type": "execute_result"
    }
   ],
   "source": [
    "validation_count = validation_X.groupby(\"RecordID\").first().reset_index()\n",
    "validation_count = validation_count[\"RecordID\"].count()\n",
    "validation_count"
   ]
  },
  {
   "cell_type": "code",
   "execution_count": 43,
   "metadata": {},
   "outputs": [],
   "source": [
    "filtered_validation = validation_X[(validation_X['Height'] != -1) & (validation_X['Weight'] != -1) & (validation_X['Height'].notna()) & (validation_X['Weight'].notna())]\n",
    "filtered_validation = filtered_validation.groupby(\"RecordID\").first().reset_index()\n",
    "filtered_validation_ids = filtered_validation[\"RecordID\"]"
   ]
  },
  {
   "cell_type": "code",
   "execution_count": 44,
   "metadata": {},
   "outputs": [
    {
     "data": {
      "text/plain": [
       "1002"
      ]
     },
     "execution_count": 44,
     "metadata": {},
     "output_type": "execute_result"
    }
   ],
   "source": [
    "filtered_validation_ids.count()"
   ]
  },
  {
   "cell_type": "code",
   "execution_count": 45,
   "metadata": {},
   "outputs": [],
   "source": [
    "undefined_validation = validation_X[~validation_X[\"RecordID\"].isin(filtered_validation_ids)]\n",
    "undefined_validation = undefined_validation.groupby(\"RecordID\").first().reset_index()\n",
    "undefined_validation_ids = undefined_validation[\"RecordID\"]"
   ]
  },
  {
   "cell_type": "code",
   "execution_count": 46,
   "metadata": {},
   "outputs": [
    {
     "data": {
      "text/plain": [
       "916"
      ]
     },
     "execution_count": 46,
     "metadata": {},
     "output_type": "execute_result"
    }
   ],
   "source": [
    "undefined_validation_ids.count()"
   ]
  },
  {
   "cell_type": "code",
   "execution_count": 48,
   "metadata": {},
   "outputs": [],
   "source": [
    "filtered_validation_metros = filtered_validation.copy()\n",
    "filtered_validation_metros[\"Height\"] = filtered_validation_metros[\"Height\"]/100"
   ]
  },
  {
   "cell_type": "code",
   "execution_count": 50,
   "metadata": {},
   "outputs": [],
   "source": [
    "filtered_validation_metros[\"BMI\"] = round(filtered_validation_metros[\"Weight\"]/(filtered_validation_metros[\"Height\"]**2),1)"
   ]
  },
  {
   "cell_type": "code",
   "execution_count": 51,
   "metadata": {},
   "outputs": [],
   "source": [
    "filtered_validation_metros[\"Classification\"] = filtered_validation_metros[\"BMI\"].apply(classify_BMI)"
   ]
  },
  {
   "cell_type": "code",
   "execution_count": 52,
   "metadata": {},
   "outputs": [
    {
     "data": {
      "text/plain": [
       "Classification\n",
       "Sobrepeso           337\n",
       "Peso normal         287\n",
       "Obesidade grau 1    203\n",
       "Obesidade grau 3     74\n",
       "Obesidade grau 2     73\n",
       "Baixo peso           28\n",
       "Name: count, dtype: int64"
      ]
     },
     "execution_count": 52,
     "metadata": {},
     "output_type": "execute_result"
    }
   ],
   "source": [
    "filtered_validation_metros[\"Classification\"].value_counts()"
   ]
  },
  {
   "cell_type": "code",
   "execution_count": 53,
   "metadata": {},
   "outputs": [
    {
     "data": {
      "text/plain": [
       "1.5"
      ]
     },
     "execution_count": 53,
     "metadata": {},
     "output_type": "execute_result"
    }
   ],
   "source": [
    "baixo_peso_validation_percentage = filtered_validation_metros[filtered_validation_metros[\"Classification\"] == \"Baixo peso\"]\n",
    "baixo_peso_validation_percentage = round((baixo_peso_validation_percentage[\"RecordID\"].count()/validation_count)*100,1)\n",
    "baixo_peso_validation_percentage"
   ]
  },
  {
   "cell_type": "code",
   "execution_count": 54,
   "metadata": {},
   "outputs": [
    {
     "data": {
      "text/plain": [
       "15.0"
      ]
     },
     "execution_count": 54,
     "metadata": {},
     "output_type": "execute_result"
    }
   ],
   "source": [
    "peso_normal_validation_percentage = filtered_validation_metros[filtered_validation_metros[\"Classification\"] == \"Peso normal\"]\n",
    "peso_normal_validation_percentage = round((peso_normal_validation_percentage[\"RecordID\"].count()/validation_count)*100,1)\n",
    "peso_normal_validation_percentage"
   ]
  },
  {
   "cell_type": "code",
   "execution_count": 55,
   "metadata": {},
   "outputs": [
    {
     "data": {
      "text/plain": [
       "17.6"
      ]
     },
     "execution_count": 55,
     "metadata": {},
     "output_type": "execute_result"
    }
   ],
   "source": [
    "sobrepeso_validation_percentage = filtered_validation_metros[filtered_validation_metros[\"Classification\"]==\"Sobrepeso\"]\n",
    "sobrepeso_validation_percentage = round((sobrepeso_validation_percentage[\"RecordID\"].count()/validation_count)*100,1)\n",
    "sobrepeso_validation_percentage"
   ]
  },
  {
   "cell_type": "code",
   "execution_count": 56,
   "metadata": {},
   "outputs": [
    {
     "data": {
      "text/plain": [
       "10.6"
      ]
     },
     "execution_count": 56,
     "metadata": {},
     "output_type": "execute_result"
    }
   ],
   "source": [
    "obesidade_1_validation_percentege = filtered_validation_metros[filtered_validation_metros[\"Classification\"] == \"Obesidade grau 1\"]\n",
    "obesidade_1_validation_percentege = round((obesidade_1_validation_percentege[\"RecordID\"].count()/validation_count)*100,1)\n",
    "obesidade_1_validation_percentege"
   ]
  },
  {
   "cell_type": "code",
   "execution_count": 57,
   "metadata": {},
   "outputs": [
    {
     "data": {
      "text/plain": [
       "3.8"
      ]
     },
     "execution_count": 57,
     "metadata": {},
     "output_type": "execute_result"
    }
   ],
   "source": [
    "obesidade_2_validation_percentege = filtered_validation_metros[filtered_validation_metros[\"Classification\"] == \"Obesidade grau 2\"]\n",
    "obesidade_2_validation_percentege = round((obesidade_2_validation_percentege[\"RecordID\"].count()/validation_count)*100,1)\n",
    "obesidade_2_validation_percentege"
   ]
  },
  {
   "cell_type": "code",
   "execution_count": 58,
   "metadata": {},
   "outputs": [
    {
     "data": {
      "text/plain": [
       "3.9"
      ]
     },
     "execution_count": 58,
     "metadata": {},
     "output_type": "execute_result"
    }
   ],
   "source": [
    "obesidade_3_validation_percentege = filtered_validation_metros[filtered_validation_metros[\"Classification\"] == \"Obesidade grau 3\"]\n",
    "obesidade_3_validation_percentege = round((obesidade_3_validation_percentege[\"RecordID\"].count()/validation_count)*100,1)\n",
    "obesidade_3_validation_percentege"
   ]
  },
  {
   "cell_type": "code",
   "execution_count": 59,
   "metadata": {},
   "outputs": [
    {
     "data": {
      "text/plain": [
       "47.8"
      ]
     },
     "execution_count": 59,
     "metadata": {},
     "output_type": "execute_result"
    }
   ],
   "source": [
    "undefined_validation_percentege = round((undefined_validation[\"RecordID\"].count()/validation_count)*100,1)\n",
    "undefined_validation_percentege"
   ]
  },
  {
   "cell_type": "markdown",
   "metadata": {},
   "source": [
    "<h2>Test data</h2>"
   ]
  },
  {
   "cell_type": "code",
   "execution_count": 123,
   "metadata": {},
   "outputs": [],
   "source": [
    "test_X = physionet2012_dataset['test_X']"
   ]
  },
  {
   "cell_type": "markdown",
   "metadata": {},
   "source": [
    "<h3>Divided into subgroups by gender and showing the percentage</h3>\n"
   ]
  },
  {
   "cell_type": "code",
   "execution_count": 124,
   "metadata": {},
   "outputs": [],
   "source": [
    "distribution_gender_test = test_X['Gender'].value_counts(normalize=True) * 100\n",
    "distribution_gender_test = round(distribution_gender_test, 1) # 0: female, or 1: male"
   ]
  },
  {
   "cell_type": "markdown",
   "metadata": {},
   "source": [
    "<h3>Divided into subgroups by ICUType and showing the percentage</h3>\n"
   ]
  },
  {
   "cell_type": "code",
   "execution_count": 125,
   "metadata": {},
   "outputs": [],
   "source": [
    "distribution_ICUType_test= test_X['ICUType'].value_counts(normalize=True) * 100\n",
    "distribution_ICUType_test = round(distribution_ICUType_test, 1)"
   ]
  },
  {
   "cell_type": "markdown",
   "metadata": {},
   "source": [
    "<h3>Filtering only one age per patient</h3>\n"
   ]
  },
  {
   "cell_type": "code",
   "execution_count": 126,
   "metadata": {},
   "outputs": [
    {
     "data": {
      "text/html": [
       "<div>\n",
       "<style scoped>\n",
       "    .dataframe tbody tr th:only-of-type {\n",
       "        vertical-align: middle;\n",
       "    }\n",
       "\n",
       "    .dataframe tbody tr th {\n",
       "        vertical-align: top;\n",
       "    }\n",
       "\n",
       "    .dataframe thead th {\n",
       "        text-align: right;\n",
       "    }\n",
       "</style>\n",
       "<table border=\"1\" class=\"dataframe\">\n",
       "  <thead>\n",
       "    <tr style=\"text-align: right;\">\n",
       "      <th></th>\n",
       "      <th>RecordID</th>\n",
       "      <th>level_1</th>\n",
       "      <th>Time</th>\n",
       "      <th>ALP</th>\n",
       "      <th>ALT</th>\n",
       "      <th>AST</th>\n",
       "      <th>Age</th>\n",
       "      <th>Albumin</th>\n",
       "      <th>BUN</th>\n",
       "      <th>Bilirubin</th>\n",
       "      <th>...</th>\n",
       "      <th>RespRate</th>\n",
       "      <th>SaO2</th>\n",
       "      <th>SysABP</th>\n",
       "      <th>Temp</th>\n",
       "      <th>TroponinI</th>\n",
       "      <th>TroponinT</th>\n",
       "      <th>Urine</th>\n",
       "      <th>WBC</th>\n",
       "      <th>Weight</th>\n",
       "      <th>pH</th>\n",
       "    </tr>\n",
       "  </thead>\n",
       "  <tbody>\n",
       "    <tr>\n",
       "      <th>0</th>\n",
       "      <td>132540</td>\n",
       "      <td>0</td>\n",
       "      <td>0.0</td>\n",
       "      <td>NaN</td>\n",
       "      <td>NaN</td>\n",
       "      <td>NaN</td>\n",
       "      <td>76.0</td>\n",
       "      <td>NaN</td>\n",
       "      <td>16.0</td>\n",
       "      <td>NaN</td>\n",
       "      <td>...</td>\n",
       "      <td>NaN</td>\n",
       "      <td>99.0</td>\n",
       "      <td>103.00</td>\n",
       "      <td>34.88</td>\n",
       "      <td>NaN</td>\n",
       "      <td>NaN</td>\n",
       "      <td>316.666667</td>\n",
       "      <td>7.4</td>\n",
       "      <td>76.0</td>\n",
       "      <td>7.45</td>\n",
       "    </tr>\n",
       "    <tr>\n",
       "      <th>1</th>\n",
       "      <td>132551</td>\n",
       "      <td>0</td>\n",
       "      <td>0.0</td>\n",
       "      <td>47.0</td>\n",
       "      <td>46.0</td>\n",
       "      <td>82.0</td>\n",
       "      <td>78.0</td>\n",
       "      <td>1.9</td>\n",
       "      <td>81.0</td>\n",
       "      <td>0.3</td>\n",
       "      <td>...</td>\n",
       "      <td>NaN</td>\n",
       "      <td>97.0</td>\n",
       "      <td>102.75</td>\n",
       "      <td>38.00</td>\n",
       "      <td>3.5</td>\n",
       "      <td>NaN</td>\n",
       "      <td>120.000000</td>\n",
       "      <td>16.1</td>\n",
       "      <td>48.4</td>\n",
       "      <td>7.40</td>\n",
       "    </tr>\n",
       "    <tr>\n",
       "      <th>2</th>\n",
       "      <td>132555</td>\n",
       "      <td>0</td>\n",
       "      <td>0.0</td>\n",
       "      <td>NaN</td>\n",
       "      <td>NaN</td>\n",
       "      <td>NaN</td>\n",
       "      <td>74.0</td>\n",
       "      <td>NaN</td>\n",
       "      <td>19.0</td>\n",
       "      <td>NaN</td>\n",
       "      <td>...</td>\n",
       "      <td>NaN</td>\n",
       "      <td>99.0</td>\n",
       "      <td>98.00</td>\n",
       "      <td>34.80</td>\n",
       "      <td>NaN</td>\n",
       "      <td>NaN</td>\n",
       "      <td>35.000000</td>\n",
       "      <td>9.0</td>\n",
       "      <td>66.1</td>\n",
       "      <td>7.39</td>\n",
       "    </tr>\n",
       "    <tr>\n",
       "      <th>3</th>\n",
       "      <td>132570</td>\n",
       "      <td>0</td>\n",
       "      <td>0.0</td>\n",
       "      <td>19.0</td>\n",
       "      <td>15.0</td>\n",
       "      <td>20.0</td>\n",
       "      <td>84.0</td>\n",
       "      <td>NaN</td>\n",
       "      <td>83.0</td>\n",
       "      <td>0.1</td>\n",
       "      <td>...</td>\n",
       "      <td>16.5</td>\n",
       "      <td>98.0</td>\n",
       "      <td>NaN</td>\n",
       "      <td>36.60</td>\n",
       "      <td>NaN</td>\n",
       "      <td>NaN</td>\n",
       "      <td>600.000000</td>\n",
       "      <td>8.8</td>\n",
       "      <td>102.6</td>\n",
       "      <td>NaN</td>\n",
       "    </tr>\n",
       "    <tr>\n",
       "      <th>4</th>\n",
       "      <td>132577</td>\n",
       "      <td>0</td>\n",
       "      <td>0.0</td>\n",
       "      <td>NaN</td>\n",
       "      <td>NaN</td>\n",
       "      <td>NaN</td>\n",
       "      <td>65.0</td>\n",
       "      <td>NaN</td>\n",
       "      <td>36.0</td>\n",
       "      <td>NaN</td>\n",
       "      <td>...</td>\n",
       "      <td>24.0</td>\n",
       "      <td>96.0</td>\n",
       "      <td>145.00</td>\n",
       "      <td>38.80</td>\n",
       "      <td>NaN</td>\n",
       "      <td>NaN</td>\n",
       "      <td>80.000000</td>\n",
       "      <td>9.4</td>\n",
       "      <td>66.3</td>\n",
       "      <td>7.34</td>\n",
       "    </tr>\n",
       "  </tbody>\n",
       "</table>\n",
       "<p>5 rows × 44 columns</p>\n",
       "</div>"
      ],
      "text/plain": [
       "   RecordID  level_1  Time   ALP   ALT   AST   Age  Albumin   BUN  Bilirubin  \\\n",
       "0    132540        0   0.0   NaN   NaN   NaN  76.0      NaN  16.0        NaN   \n",
       "1    132551        0   0.0  47.0  46.0  82.0  78.0      1.9  81.0        0.3   \n",
       "2    132555        0   0.0   NaN   NaN   NaN  74.0      NaN  19.0        NaN   \n",
       "3    132570        0   0.0  19.0  15.0  20.0  84.0      NaN  83.0        0.1   \n",
       "4    132577        0   0.0   NaN   NaN   NaN  65.0      NaN  36.0        NaN   \n",
       "\n",
       "   ...  RespRate  SaO2  SysABP   Temp  TroponinI  TroponinT       Urine   WBC  \\\n",
       "0  ...       NaN  99.0  103.00  34.88        NaN        NaN  316.666667   7.4   \n",
       "1  ...       NaN  97.0  102.75  38.00        3.5        NaN  120.000000  16.1   \n",
       "2  ...       NaN  99.0   98.00  34.80        NaN        NaN   35.000000   9.0   \n",
       "3  ...      16.5  98.0     NaN  36.60        NaN        NaN  600.000000   8.8   \n",
       "4  ...      24.0  96.0  145.00  38.80        NaN        NaN   80.000000   9.4   \n",
       "\n",
       "   Weight    pH  \n",
       "0    76.0  7.45  \n",
       "1    48.4  7.40  \n",
       "2    66.1  7.39  \n",
       "3   102.6   NaN  \n",
       "4    66.3  7.34  \n",
       "\n",
       "[5 rows x 44 columns]"
      ]
     },
     "execution_count": 126,
     "metadata": {},
     "output_type": "execute_result"
    }
   ],
   "source": [
    "uniques_test_per_variable = test_X.groupby('RecordID').first().reset_index()\n",
    "uniques_test_per_variable.head()"
   ]
  },
  {
   "cell_type": "markdown",
   "metadata": {},
   "source": [
    "<h3>Showing total occurrences of age</h3>"
   ]
  },
  {
   "cell_type": "code",
   "execution_count": 127,
   "metadata": {},
   "outputs": [
    {
     "data": {
      "text/plain": [
       "2399"
      ]
     },
     "execution_count": 127,
     "metadata": {},
     "output_type": "execute_result"
    }
   ],
   "source": [
    "uniques_test_per_variable[\"Age\"].count()"
   ]
  },
  {
   "cell_type": "markdown",
   "metadata": {},
   "source": [
    "<h3>Dividing age into subgroup of people aged 65+</h3>\n"
   ]
  },
  {
   "cell_type": "code",
   "execution_count": 128,
   "metadata": {},
   "outputs": [],
   "source": [
    "more_than_or_equal_to_65_test = uniques_test_per_variable[uniques_test_per_variable['Age'] >= 65]\n",
    "percentage_group_one_test = (more_than_or_equal_to_65_test[\"Age\"].count() / uniques_test_per_variable[\"Age\"].count())*100\n",
    "percentage_group_one_test = round(percentage_group_one_test, 1)"
   ]
  },
  {
   "cell_type": "markdown",
   "metadata": {},
   "source": [
    "<h3>Dividing age into subgroup of people under 65 years of age</h3>\n"
   ]
  },
  {
   "cell_type": "code",
   "execution_count": 129,
   "metadata": {},
   "outputs": [],
   "source": [
    "less_than_65_test = uniques_test_per_variable[uniques_test_per_variable['Age'] < 65]\n",
    "percentage_group_two_test = (less_than_65_test[\"Age\"].count() / uniques_test_per_variable[\"Age\"].count()) * 100\n",
    "percentage_group_two_test = round(percentage_group_two_test, 1)"
   ]
  },
  {
   "cell_type": "markdown",
   "metadata": {},
   "source": [
    "<h3>Filtering only one height and one weight per patient</h3>\n"
   ]
  },
  {
   "cell_type": "code",
   "execution_count": 130,
   "metadata": {},
   "outputs": [],
   "source": [
    "filtered_test_X = test_X[(test_X['Height'] != -1) & (test_X['Weight'] != -1) & (test_X['Height'].notna()) & (test_X['Weight'].notna())] "
   ]
  },
  {
   "cell_type": "code",
   "execution_count": 131,
   "metadata": {},
   "outputs": [
    {
     "data": {
      "text/html": [
       "<div>\n",
       "<style scoped>\n",
       "    .dataframe tbody tr th:only-of-type {\n",
       "        vertical-align: middle;\n",
       "    }\n",
       "\n",
       "    .dataframe tbody tr th {\n",
       "        vertical-align: top;\n",
       "    }\n",
       "\n",
       "    .dataframe thead th {\n",
       "        text-align: right;\n",
       "    }\n",
       "</style>\n",
       "<table border=\"1\" class=\"dataframe\">\n",
       "  <thead>\n",
       "    <tr style=\"text-align: right;\">\n",
       "      <th></th>\n",
       "      <th>RecordID</th>\n",
       "      <th>level_1</th>\n",
       "      <th>Time</th>\n",
       "      <th>ALP</th>\n",
       "      <th>ALT</th>\n",
       "      <th>AST</th>\n",
       "      <th>Age</th>\n",
       "      <th>Albumin</th>\n",
       "      <th>BUN</th>\n",
       "      <th>Bilirubin</th>\n",
       "      <th>...</th>\n",
       "      <th>RespRate</th>\n",
       "      <th>SaO2</th>\n",
       "      <th>SysABP</th>\n",
       "      <th>Temp</th>\n",
       "      <th>TroponinI</th>\n",
       "      <th>TroponinT</th>\n",
       "      <th>Urine</th>\n",
       "      <th>WBC</th>\n",
       "      <th>Weight</th>\n",
       "      <th>pH</th>\n",
       "    </tr>\n",
       "  </thead>\n",
       "  <tbody>\n",
       "    <tr>\n",
       "      <th>0</th>\n",
       "      <td>132540</td>\n",
       "      <td>0</td>\n",
       "      <td>0.0</td>\n",
       "      <td>NaN</td>\n",
       "      <td>NaN</td>\n",
       "      <td>NaN</td>\n",
       "      <td>76.0</td>\n",
       "      <td>NaN</td>\n",
       "      <td>21.0</td>\n",
       "      <td>NaN</td>\n",
       "      <td>...</td>\n",
       "      <td>NaN</td>\n",
       "      <td>93.0</td>\n",
       "      <td>122.00</td>\n",
       "      <td>37.500</td>\n",
       "      <td>NaN</td>\n",
       "      <td>NaN</td>\n",
       "      <td>50.0</td>\n",
       "      <td>13.3</td>\n",
       "      <td>76.0</td>\n",
       "      <td>7.45</td>\n",
       "    </tr>\n",
       "    <tr>\n",
       "      <th>1</th>\n",
       "      <td>132551</td>\n",
       "      <td>0</td>\n",
       "      <td>0.0</td>\n",
       "      <td>47.0</td>\n",
       "      <td>46.0</td>\n",
       "      <td>82.0</td>\n",
       "      <td>78.0</td>\n",
       "      <td>1.9</td>\n",
       "      <td>81.0</td>\n",
       "      <td>0.3</td>\n",
       "      <td>...</td>\n",
       "      <td>NaN</td>\n",
       "      <td>97.0</td>\n",
       "      <td>102.75</td>\n",
       "      <td>38.000</td>\n",
       "      <td>3.5</td>\n",
       "      <td>NaN</td>\n",
       "      <td>120.0</td>\n",
       "      <td>16.1</td>\n",
       "      <td>48.4</td>\n",
       "      <td>7.40</td>\n",
       "    </tr>\n",
       "    <tr>\n",
       "      <th>2</th>\n",
       "      <td>132555</td>\n",
       "      <td>0</td>\n",
       "      <td>0.0</td>\n",
       "      <td>NaN</td>\n",
       "      <td>NaN</td>\n",
       "      <td>NaN</td>\n",
       "      <td>74.0</td>\n",
       "      <td>NaN</td>\n",
       "      <td>19.0</td>\n",
       "      <td>NaN</td>\n",
       "      <td>...</td>\n",
       "      <td>NaN</td>\n",
       "      <td>99.0</td>\n",
       "      <td>98.00</td>\n",
       "      <td>34.800</td>\n",
       "      <td>NaN</td>\n",
       "      <td>NaN</td>\n",
       "      <td>35.0</td>\n",
       "      <td>9.0</td>\n",
       "      <td>66.1</td>\n",
       "      <td>7.39</td>\n",
       "    </tr>\n",
       "    <tr>\n",
       "      <th>3</th>\n",
       "      <td>132570</td>\n",
       "      <td>0</td>\n",
       "      <td>0.0</td>\n",
       "      <td>19.0</td>\n",
       "      <td>15.0</td>\n",
       "      <td>20.0</td>\n",
       "      <td>84.0</td>\n",
       "      <td>NaN</td>\n",
       "      <td>83.0</td>\n",
       "      <td>0.1</td>\n",
       "      <td>...</td>\n",
       "      <td>16.5</td>\n",
       "      <td>98.0</td>\n",
       "      <td>NaN</td>\n",
       "      <td>36.600</td>\n",
       "      <td>NaN</td>\n",
       "      <td>NaN</td>\n",
       "      <td>600.0</td>\n",
       "      <td>8.8</td>\n",
       "      <td>102.6</td>\n",
       "      <td>NaN</td>\n",
       "    </tr>\n",
       "    <tr>\n",
       "      <th>4</th>\n",
       "      <td>132618</td>\n",
       "      <td>0</td>\n",
       "      <td>0.0</td>\n",
       "      <td>NaN</td>\n",
       "      <td>NaN</td>\n",
       "      <td>NaN</td>\n",
       "      <td>72.0</td>\n",
       "      <td>NaN</td>\n",
       "      <td>NaN</td>\n",
       "      <td>NaN</td>\n",
       "      <td>...</td>\n",
       "      <td>NaN</td>\n",
       "      <td>NaN</td>\n",
       "      <td>56.00</td>\n",
       "      <td>37.475</td>\n",
       "      <td>NaN</td>\n",
       "      <td>NaN</td>\n",
       "      <td>NaN</td>\n",
       "      <td>NaN</td>\n",
       "      <td>69.1</td>\n",
       "      <td>NaN</td>\n",
       "    </tr>\n",
       "  </tbody>\n",
       "</table>\n",
       "<p>5 rows × 44 columns</p>\n",
       "</div>"
      ],
      "text/plain": [
       "   RecordID  level_1  Time   ALP   ALT   AST   Age  Albumin   BUN  Bilirubin  \\\n",
       "0    132540        0   0.0   NaN   NaN   NaN  76.0      NaN  21.0        NaN   \n",
       "1    132551        0   0.0  47.0  46.0  82.0  78.0      1.9  81.0        0.3   \n",
       "2    132555        0   0.0   NaN   NaN   NaN  74.0      NaN  19.0        NaN   \n",
       "3    132570        0   0.0  19.0  15.0  20.0  84.0      NaN  83.0        0.1   \n",
       "4    132618        0   0.0   NaN   NaN   NaN  72.0      NaN   NaN        NaN   \n",
       "\n",
       "   ...  RespRate  SaO2  SysABP    Temp  TroponinI  TroponinT  Urine   WBC  \\\n",
       "0  ...       NaN  93.0  122.00  37.500        NaN        NaN   50.0  13.3   \n",
       "1  ...       NaN  97.0  102.75  38.000        3.5        NaN  120.0  16.1   \n",
       "2  ...       NaN  99.0   98.00  34.800        NaN        NaN   35.0   9.0   \n",
       "3  ...      16.5  98.0     NaN  36.600        NaN        NaN  600.0   8.8   \n",
       "4  ...       NaN   NaN   56.00  37.475        NaN        NaN    NaN   NaN   \n",
       "\n",
       "   Weight    pH  \n",
       "0    76.0  7.45  \n",
       "1    48.4  7.40  \n",
       "2    66.1  7.39  \n",
       "3   102.6   NaN  \n",
       "4    69.1   NaN  \n",
       "\n",
       "[5 rows x 44 columns]"
      ]
     },
     "execution_count": 131,
     "metadata": {},
     "output_type": "execute_result"
    }
   ],
   "source": [
    "filtered_uniques_test = filtered_test_X.groupby('RecordID').first().reset_index() \n",
    "filtered_uniques_test.head()"
   ]
  },
  {
   "cell_type": "markdown",
   "metadata": {},
   "source": [
    "<h3>Calculate the BMI</h3>\n"
   ]
  },
  {
   "cell_type": "code",
   "execution_count": 132,
   "metadata": {},
   "outputs": [],
   "source": [
    "filtered_uniques_test['Height'] = filtered_uniques_test['Height'] / 100 # Converting Height from cm to meters"
   ]
  },
  {
   "cell_type": "code",
   "execution_count": 133,
   "metadata": {},
   "outputs": [
    {
     "data": {
      "text/html": [
       "<div>\n",
       "<style scoped>\n",
       "    .dataframe tbody tr th:only-of-type {\n",
       "        vertical-align: middle;\n",
       "    }\n",
       "\n",
       "    .dataframe tbody tr th {\n",
       "        vertical-align: top;\n",
       "    }\n",
       "\n",
       "    .dataframe thead th {\n",
       "        text-align: right;\n",
       "    }\n",
       "</style>\n",
       "<table border=\"1\" class=\"dataframe\">\n",
       "  <thead>\n",
       "    <tr style=\"text-align: right;\">\n",
       "      <th></th>\n",
       "      <th>RecordID</th>\n",
       "      <th>Height</th>\n",
       "      <th>Weight</th>\n",
       "      <th>BMI</th>\n",
       "      <th>Classificacao</th>\n",
       "    </tr>\n",
       "  </thead>\n",
       "  <tbody>\n",
       "    <tr>\n",
       "      <th>0</th>\n",
       "      <td>132540</td>\n",
       "      <td>1.753</td>\n",
       "      <td>76.0</td>\n",
       "      <td>24.731460</td>\n",
       "      <td>Peso normal</td>\n",
       "    </tr>\n",
       "    <tr>\n",
       "      <th>1</th>\n",
       "      <td>132551</td>\n",
       "      <td>1.626</td>\n",
       "      <td>48.4</td>\n",
       "      <td>18.306456</td>\n",
       "      <td>Baixo peso</td>\n",
       "    </tr>\n",
       "    <tr>\n",
       "      <th>2</th>\n",
       "      <td>132555</td>\n",
       "      <td>1.753</td>\n",
       "      <td>66.1</td>\n",
       "      <td>21.509862</td>\n",
       "      <td>Peso normal</td>\n",
       "    </tr>\n",
       "    <tr>\n",
       "      <th>3</th>\n",
       "      <td>132570</td>\n",
       "      <td>1.702</td>\n",
       "      <td>102.6</td>\n",
       "      <td>35.418344</td>\n",
       "      <td>Obesidade grau 2</td>\n",
       "    </tr>\n",
       "    <tr>\n",
       "      <th>4</th>\n",
       "      <td>132618</td>\n",
       "      <td>1.524</td>\n",
       "      <td>69.1</td>\n",
       "      <td>29.751448</td>\n",
       "      <td>Sobrepeso</td>\n",
       "    </tr>\n",
       "  </tbody>\n",
       "</table>\n",
       "</div>"
      ],
      "text/plain": [
       "   RecordID  Height  Weight        BMI     Classificacao\n",
       "0    132540   1.753    76.0  24.731460       Peso normal\n",
       "1    132551   1.626    48.4  18.306456        Baixo peso\n",
       "2    132555   1.753    66.1  21.509862       Peso normal\n",
       "3    132570   1.702   102.6  35.418344  Obesidade grau 2\n",
       "4    132618   1.524    69.1  29.751448         Sobrepeso"
      ]
     },
     "execution_count": 133,
     "metadata": {},
     "output_type": "execute_result"
    }
   ],
   "source": [
    "bmi_data_test = pd.DataFrame(columns=['RecordID', 'Height', 'Weight', 'BMI', 'Classificacao'])\n",
    "bmi_data_test[\"RecordID\"] = filtered_uniques_test[\"RecordID\"]\n",
    "bmi_data_test[\"Height\"] = filtered_uniques_test[\"Height\"]\n",
    "bmi_data_test[\"Weight\"] = filtered_uniques_test[\"Weight\"]\n",
    "bmi_data_test[\"BMI\"] = filtered_uniques_test[\"Weight\"] / (filtered_uniques_test[\"Height\"] ** 2)\n",
    "bmi_data_test[\"Classificacao\"] = bmi_data_test[\"BMI\"].apply(classify_BMI)\n",
    "bmi_data_test.head()"
   ]
  },
  {
   "cell_type": "markdown",
   "metadata": {},
   "source": [
    "<h3>Percentage of BMI classification groups</h3>"
   ]
  },
  {
   "cell_type": "code",
   "execution_count": 134,
   "metadata": {},
   "outputs": [],
   "source": [
    "percentage_bmi_test = bmi_data_test[\"Classificacao\"].value_counts(normalize=True) * 100\n",
    "percentage_bmi_test = round(percentage_bmi_test, 1)\n"
   ]
  },
  {
   "cell_type": "code",
   "execution_count": 135,
   "metadata": {},
   "outputs": [],
   "source": [
    "subgroups = [(\"Female\"), (\"Male\"),(\"Undefined gender\") ,(\"ICUType 1\"), (\"ICUType 2\"), (\"ICUType 3\"), (\"ICUType 4\"),\n",
    "    (\"Age 65+\"), (\"Age 65-\"), (\"Baixo Peso\"), (\"Peso normal\"), (\"Sobrepeso\"),\n",
    "    (\"Obesidade grau 1\"), (\"Obesidade grau 2\"), (\"Obesidade grau 3\")\n",
    "]\n",
    "\n",
    "df_subgroups = pd.DataFrame(subgroups, columns=[\"Subgroups\"])"
   ]
  },
  {
   "cell_type": "code",
   "execution_count": 136,
   "metadata": {},
   "outputs": [],
   "source": [
    "train_subgroups = [\n",
    "    (distribution_gender_training[0]), (distribution_gender_training[1]),(distribution_gender_training[-1]) ,(distribution_ICUType_training[1]), (distribution_ICUType_training[2]),\n",
    "    (distribution_ICUType_training[3]), (distribution_ICUType_training[4]), (percentage_group_one_train), (percentage_group_two_train),\n",
    "    (percentage_bmi_train[\"Baixo peso\"]), (percentage_bmi_train[\"Peso normal\"]), (percentage_bmi_train[\"Sobrepeso\"]), (percentage_bmi_train[\"Obesidade grau 1\"]),\n",
    "    (percentage_bmi_train[\"Obesidade grau 2\"]), (percentage_bmi_train[\"Obesidade grau 3\"])\n",
    "]\n",
    "\n",
    "df_train_subgroups = pd.DataFrame(train_subgroups, columns=[\"train\"])"
   ]
  },
  {
   "cell_type": "code",
   "execution_count": 137,
   "metadata": {},
   "outputs": [],
   "source": [
    "validation_subgroups = [\n",
    "    (distribution_gender_validation[0]), (distribution_gender_validation[1]),(distribution_gender_validation[-1]) ,(distribution_ICUType_validation[1]), (distribution_ICUType_validation[2]),\n",
    "    (distribution_ICUType_validation[3]), (distribution_ICUType_validation[4]), (percentage_group_one_validation), (percentage_group_two_validation),\n",
    "    (percentage_bmi_validation[\"Baixo peso\"]), (percentage_bmi_validation[\"Peso normal\"]), (percentage_bmi_validation[\"Sobrepeso\"]), (percentage_bmi_validation[\"Obesidade grau 1\"]),\n",
    "    (percentage_bmi_validation[\"Obesidade grau 2\"]), (percentage_bmi_validation[\"Obesidade grau 3\"])\n",
    "]\n",
    "\n",
    "df_validation_subgroups = pd.DataFrame(validation_subgroups, columns=[\"train\"])"
   ]
  },
  {
   "cell_type": "code",
   "execution_count": 138,
   "metadata": {},
   "outputs": [],
   "source": [
    "test_subgroups = [\n",
    "    (distribution_gender_test[0]), (distribution_gender_test[1]),(distribution_gender_test[-1]) ,(distribution_ICUType_test[1]), (distribution_ICUType_test[2]),\n",
    "    (distribution_ICUType_test[3]), (distribution_ICUType_test[4]), (percentage_group_one_test), (percentage_group_two_test),\n",
    "    (percentage_bmi_test[\"Baixo peso\"]), (percentage_bmi_test[\"Peso normal\"]), (percentage_bmi_test[\"Sobrepeso\"]), (percentage_bmi_test[\"Obesidade grau 1\"]),\n",
    "    (percentage_bmi_test[\"Obesidade grau 2\"]), (percentage_bmi_test[\"Obesidade grau 3\"])\n",
    "]\n",
    "\n",
    "df_test_subgroups = pd.DataFrame(test_subgroups, columns=[\"train\"])"
   ]
  },
  {
   "cell_type": "markdown",
   "metadata": {},
   "source": [
    "<h2>Table 3</h2>"
   ]
  },
  {
   "cell_type": "code",
   "execution_count": 139,
   "metadata": {},
   "outputs": [
    {
     "data": {
      "text/html": [
       "<h2 style=' font-size: 24px; font-weight: bold;'>Descriptive statistics stratified by demographics</h2>"
      ],
      "text/plain": [
       "<IPython.core.display.HTML object>"
      ]
     },
     "metadata": {},
     "output_type": "display_data"
    },
    {
     "data": {
      "text/html": [
       "<div>\n",
       "<style scoped>\n",
       "    .dataframe tbody tr th:only-of-type {\n",
       "        vertical-align: middle;\n",
       "    }\n",
       "\n",
       "    .dataframe tbody tr th {\n",
       "        vertical-align: top;\n",
       "    }\n",
       "\n",
       "    .dataframe thead th {\n",
       "        text-align: right;\n",
       "    }\n",
       "</style>\n",
       "<table border=\"1\" class=\"dataframe\">\n",
       "  <thead>\n",
       "    <tr style=\"text-align: right;\">\n",
       "      <th></th>\n",
       "      <th>Subgroups</th>\n",
       "      <th>Train</th>\n",
       "      <th>Validation</th>\n",
       "      <th>Test</th>\n",
       "    </tr>\n",
       "  </thead>\n",
       "  <tbody>\n",
       "    <tr>\n",
       "      <th>0</th>\n",
       "      <td>Female</td>\n",
       "      <td>44.0</td>\n",
       "      <td>44.1</td>\n",
       "      <td>43.2</td>\n",
       "    </tr>\n",
       "    <tr>\n",
       "      <th>1</th>\n",
       "      <td>Male</td>\n",
       "      <td>55.9</td>\n",
       "      <td>55.8</td>\n",
       "      <td>56.7</td>\n",
       "    </tr>\n",
       "    <tr>\n",
       "      <th>2</th>\n",
       "      <td>Undefined gender</td>\n",
       "      <td>0.1</td>\n",
       "      <td>0.1</td>\n",
       "      <td>0.1</td>\n",
       "    </tr>\n",
       "    <tr>\n",
       "      <th>3</th>\n",
       "      <td>ICUType 1</td>\n",
       "      <td>14.5</td>\n",
       "      <td>14.6</td>\n",
       "      <td>15.5</td>\n",
       "    </tr>\n",
       "    <tr>\n",
       "      <th>4</th>\n",
       "      <td>ICUType 2</td>\n",
       "      <td>21.0</td>\n",
       "      <td>21.1</td>\n",
       "      <td>21.5</td>\n",
       "    </tr>\n",
       "    <tr>\n",
       "      <th>5</th>\n",
       "      <td>ICUType 3</td>\n",
       "      <td>35.8</td>\n",
       "      <td>36.1</td>\n",
       "      <td>35.3</td>\n",
       "    </tr>\n",
       "    <tr>\n",
       "      <th>6</th>\n",
       "      <td>ICUType 4</td>\n",
       "      <td>28.7</td>\n",
       "      <td>28.2</td>\n",
       "      <td>27.8</td>\n",
       "    </tr>\n",
       "    <tr>\n",
       "      <th>7</th>\n",
       "      <td>Age 65+</td>\n",
       "      <td>54.8</td>\n",
       "      <td>53.8</td>\n",
       "      <td>54.9</td>\n",
       "    </tr>\n",
       "    <tr>\n",
       "      <th>8</th>\n",
       "      <td>Age 65-</td>\n",
       "      <td>45.2</td>\n",
       "      <td>46.2</td>\n",
       "      <td>45.1</td>\n",
       "    </tr>\n",
       "    <tr>\n",
       "      <th>9</th>\n",
       "      <td>Baixo Peso</td>\n",
       "      <td>2.9</td>\n",
       "      <td>1.8</td>\n",
       "      <td>3.9</td>\n",
       "    </tr>\n",
       "    <tr>\n",
       "      <th>10</th>\n",
       "      <td>Peso normal</td>\n",
       "      <td>30.1</td>\n",
       "      <td>24.2</td>\n",
       "      <td>28.3</td>\n",
       "    </tr>\n",
       "    <tr>\n",
       "      <th>11</th>\n",
       "      <td>Sobrepeso</td>\n",
       "      <td>34.2</td>\n",
       "      <td>32.9</td>\n",
       "      <td>33.6</td>\n",
       "    </tr>\n",
       "    <tr>\n",
       "      <th>12</th>\n",
       "      <td>Obesidade grau 1</td>\n",
       "      <td>18.5</td>\n",
       "      <td>20.2</td>\n",
       "      <td>19.5</td>\n",
       "    </tr>\n",
       "    <tr>\n",
       "      <th>13</th>\n",
       "      <td>Obesidade grau 2</td>\n",
       "      <td>7.7</td>\n",
       "      <td>11.1</td>\n",
       "      <td>7.1</td>\n",
       "    </tr>\n",
       "    <tr>\n",
       "      <th>14</th>\n",
       "      <td>Obesidade grau 3</td>\n",
       "      <td>6.6</td>\n",
       "      <td>9.8</td>\n",
       "      <td>7.6</td>\n",
       "    </tr>\n",
       "  </tbody>\n",
       "</table>\n",
       "</div>"
      ],
      "text/plain": [
       "           Subgroups  Train  Validation  Test\n",
       "0             Female   44.0        44.1  43.2\n",
       "1               Male   55.9        55.8  56.7\n",
       "2   Undefined gender    0.1         0.1   0.1\n",
       "3          ICUType 1   14.5        14.6  15.5\n",
       "4          ICUType 2   21.0        21.1  21.5\n",
       "5          ICUType 3   35.8        36.1  35.3\n",
       "6          ICUType 4   28.7        28.2  27.8\n",
       "7            Age 65+   54.8        53.8  54.9\n",
       "8            Age 65-   45.2        46.2  45.1\n",
       "9         Baixo Peso    2.9         1.8   3.9\n",
       "10       Peso normal   30.1        24.2  28.3\n",
       "11         Sobrepeso   34.2        32.9  33.6\n",
       "12  Obesidade grau 1   18.5        20.2  19.5\n",
       "13  Obesidade grau 2    7.7        11.1   7.1\n",
       "14  Obesidade grau 3    6.6         9.8   7.6"
      ]
     },
     "execution_count": 139,
     "metadata": {},
     "output_type": "execute_result"
    }
   ],
   "source": [
    "table_descriptive_statistics = pd.DataFrame(columns=['Subgroups', 'Train', 'Validation', 'Test'])\n",
    "table_descriptive_statistics[\"Subgroups\"] = df_subgroups\n",
    "table_descriptive_statistics[\"Train\"] = df_train_subgroups\n",
    "table_descriptive_statistics[\"Validation\"] = df_validation_subgroups\n",
    "table_descriptive_statistics[\"Test\"] = df_test_subgroups\n",
    "\n",
    "display(HTML(\"<h2 style=' font-size: 24px; font-weight: bold;'>Descriptive statistics stratified by demographics</h2>\"))\n",
    "table_descriptive_statistics"
   ]
  }
 ],
 "metadata": {
  "kernelspec": {
   "display_name": "Python 3",
   "language": "python",
   "name": "python3"
  },
  "language_info": {
   "codemirror_mode": {
    "name": "ipython",
    "version": 3
   },
   "file_extension": ".py",
   "mimetype": "text/x-python",
   "name": "python",
   "nbconvert_exporter": "python",
   "pygments_lexer": "ipython3",
   "version": "3.8.10"
  }
 },
 "nbformat": 4,
 "nbformat_minor": 2
}

{
 "cells": [
  {
   "cell_type": "code",
   "execution_count": 1,
   "metadata": {},
   "outputs": [],
   "source": [
    "import os\n",
    "import sys\n",
    "import pandas as pd\n",
    "from IPython.display import display, HTML\n",
    "module_path = os.path.abspath(os.path.join('..'))\n",
    "if module_path not in sys.path:\n",
    "    sys.path.append(module_path)"
   ]
  },
  {
   "cell_type": "markdown",
   "metadata": {},
   "source": [
    "<h1>Loading database</h1>"
   ]
  },
  {
   "cell_type": "code",
   "execution_count": 2,
   "metadata": {},
   "outputs": [
    {
     "name": "stderr",
     "output_type": "stream",
     "text": [
<<<<<<< HEAD
      "2024-10-31 13:38:54 [INFO]: You're using dataset physionet_2012, please cite it properly in your work. You can find its reference information at the below link: \n",
      "https://github.com/WenjieDu/TSDB/tree/main/dataset_profiles/physionet_2012\n",
      "2024-10-31 13:38:54 [INFO]: Dataset physionet_2012 has already been downloaded. Processing directly...\n",
      "2024-10-31 13:38:54 [INFO]: Dataset physionet_2012 has already been cached. Loading from cache directly...\n",
      "2024-10-31 13:38:54 [INFO]: Loaded successfully!\n"
=======
      "2024-10-31 13:19:24 [INFO]: You're using dataset physionet_2012, please cite it properly in your work. You can find its reference information at the below link: \n",
      "https://github.com/WenjieDu/TSDB/tree/main/dataset_profiles/physionet_2012\n",
      "2024-10-31 13:19:24 [INFO]: Dataset physionet_2012 has already been downloaded. Processing directly...\n",
      "2024-10-31 13:19:24 [INFO]: Dataset physionet_2012 has already been cached. Loading from cache directly...\n",
      "2024-10-31 13:19:24 [INFO]: Loaded successfully!\n"
>>>>>>> dfcc0060b7854b0fb91df91cfaa6a741ebad29b8
     ]
    }
   ],
   "source": [
    "from pypots.benchpots.datasets import preprocess_physionet2012\n",
    "physionet2012_dataset = preprocess_physionet2012(subset=\"all\", rate=0.1)"
   ]
  },
  {
   "cell_type": "markdown",
   "metadata": {},
   "source": [
    "<h2>Training data</h2>"
   ]
  },
  {
   "cell_type": "markdown",
   "metadata": {},
   "source": [
    "<h3>Loading training dataset</h3>"
   ]
  },
  {
   "cell_type": "code",
   "execution_count": 3,
   "metadata": {},
   "outputs": [],
   "source": [
    "train_X = physionet2012_dataset['train_X']"
   ]
  },
  {
   "cell_type": "markdown",
   "metadata": {},
   "source": [
    "<h3>Divided into subgroups by gender and showing the percentage</h3>"
   ]
  },
  {
   "cell_type": "code",
   "execution_count": 60,
   "metadata": {},
<<<<<<< HEAD
   "outputs": [
    {
     "data": {
      "text/plain": [
       "Gender\n",
       " 1.0    56.250815\n",
       " 0.0    43.644896\n",
       "-1.0     0.104289\n",
       "Name: proportion, dtype: float64"
      ]
     },
     "execution_count": 4,
     "metadata": {},
     "output_type": "execute_result"
    }
   ],
=======
   "outputs": [],
>>>>>>> dfcc0060b7854b0fb91df91cfaa6a741ebad29b8
   "source": [
    "distribution_gender_training = train_X['Gender'].value_counts(normalize=True) * 100\n",
    "distribution_gender_training =  round(distribution_gender_training, 1) # 0: female, or 1: male"
   ]
  },
  {
   "cell_type": "markdown",
   "metadata": {},
   "source": [
    "<h3>Divided into subgroups by ICUType and showing the percentage</h3>"
   ]
  },
  {
   "cell_type": "code",
   "execution_count": 61,
   "metadata": {},
<<<<<<< HEAD
   "outputs": [
    {
     "data": {
      "text/plain": [
       "ICUType\n",
       "3.0    35.966628\n",
       "4.0    28.679442\n",
       "2.0    20.935993\n",
       "1.0    14.417938\n",
       "Name: proportion, dtype: float64"
      ]
     },
     "execution_count": 5,
     "metadata": {},
     "output_type": "execute_result"
    }
   ],
=======
   "outputs": [],
>>>>>>> dfcc0060b7854b0fb91df91cfaa6a741ebad29b8
   "source": [
    "distribution_ICUType_training = train_X['ICUType'].value_counts(normalize=True) * 100\n",
    "distribution_ICUType_training =  round(distribution_ICUType_training, 1)"
   ]
  },
  {
   "cell_type": "markdown",
   "metadata": {},
   "source": [
    "<h3>Filtering one measurement per patient</h3>"
   ]
  },
  {
   "cell_type": "code",
   "execution_count": 6,
   "metadata": {},
   "outputs": [
    {
     "data": {
      "text/html": [
       "<div>\n",
       "<style scoped>\n",
       "    .dataframe tbody tr th:only-of-type {\n",
       "        vertical-align: middle;\n",
       "    }\n",
       "\n",
       "    .dataframe tbody tr th {\n",
       "        vertical-align: top;\n",
       "    }\n",
       "\n",
       "    .dataframe thead th {\n",
       "        text-align: right;\n",
       "    }\n",
       "</style>\n",
       "<table border=\"1\" class=\"dataframe\">\n",
       "  <thead>\n",
       "    <tr style=\"text-align: right;\">\n",
       "      <th></th>\n",
       "      <th>RecordID</th>\n",
       "      <th>level_1</th>\n",
       "      <th>Time</th>\n",
       "      <th>ALP</th>\n",
       "      <th>ALT</th>\n",
       "      <th>AST</th>\n",
       "      <th>Age</th>\n",
       "      <th>Albumin</th>\n",
       "      <th>BUN</th>\n",
       "      <th>Bilirubin</th>\n",
       "      <th>...</th>\n",
       "      <th>RespRate</th>\n",
       "      <th>SaO2</th>\n",
       "      <th>SysABP</th>\n",
       "      <th>Temp</th>\n",
       "      <th>TroponinI</th>\n",
       "      <th>TroponinT</th>\n",
       "      <th>Urine</th>\n",
       "      <th>WBC</th>\n",
       "      <th>Weight</th>\n",
       "      <th>pH</th>\n",
       "    </tr>\n",
       "  </thead>\n",
       "  <tbody>\n",
       "    <tr>\n",
       "      <th>0</th>\n",
<<<<<<< HEAD
       "      <td>132539</td>\n",
       "      <td>0</td>\n",
       "      <td>0.0</td>\n",
       "      <td>NaN</td>\n",
       "      <td>NaN</td>\n",
       "      <td>NaN</td>\n",
       "      <td>54.0</td>\n",
       "      <td>NaN</td>\n",
       "      <td>13.0</td>\n",
       "      <td>NaN</td>\n",
       "      <td>...</td>\n",
       "      <td>19.0</td>\n",
       "      <td>NaN</td>\n",
       "      <td>NaN</td>\n",
       "      <td>35.35</td>\n",
       "      <td>NaN</td>\n",
       "      <td>NaN</td>\n",
       "      <td>480.0</td>\n",
       "      <td>11.2</td>\n",
       "      <td>-1.0</td>\n",
       "      <td>NaN</td>\n",
       "    </tr>\n",
       "    <tr>\n",
       "      <th>1</th>\n",
       "      <td>132543</td>\n",
=======
       "      <td>132540</td>\n",
>>>>>>> dfcc0060b7854b0fb91df91cfaa6a741ebad29b8
       "      <td>0</td>\n",
       "      <td>0.0</td>\n",
       "      <td>105.0</td>\n",
       "      <td>12.0</td>\n",
       "      <td>15.0</td>\n",
       "      <td>68.0</td>\n",
       "      <td>4.4</td>\n",
       "      <td>23.0</td>\n",
       "      <td>0.2</td>\n",
       "      <td>...</td>\n",
       "      <td>18.0</td>\n",
       "      <td>NaN</td>\n",
       "      <td>NaN</td>\n",
       "      <td>36.30</td>\n",
       "      <td>NaN</td>\n",
<<<<<<< HEAD
=======
       "      <td>76.0</td>\n",
       "      <td>NaN</td>\n",
       "      <td>16.0</td>\n",
       "      <td>NaN</td>\n",
       "      <td>...</td>\n",
       "      <td>NaN</td>\n",
       "      <td>99.0</td>\n",
       "      <td>103.00</td>\n",
       "      <td>34.88</td>\n",
>>>>>>> dfcc0060b7854b0fb91df91cfaa6a741ebad29b8
       "      <td>NaN</td>\n",
       "      <td>600.0</td>\n",
       "      <td>11.5</td>\n",
       "      <td>84.6</td>\n",
       "      <td>NaN</td>\n",
       "    </tr>\n",
       "    <tr>\n",
<<<<<<< HEAD
       "      <th>2</th>\n",
       "      <td>132547</td>\n",
       "      <td>0</td>\n",
       "      <td>0.0</td>\n",
       "      <td>101.0</td>\n",
       "      <td>45.0</td>\n",
       "      <td>47.0</td>\n",
       "      <td>64.0</td>\n",
       "      <td>NaN</td>\n",
       "      <td>15.0</td>\n",
       "      <td>0.4</td>\n",
       "      <td>...</td>\n",
       "      <td>NaN</td>\n",
       "      <td>96.0</td>\n",
       "      <td>141.0</td>\n",
       "      <td>35.80</td>\n",
       "      <td>1.3</td>\n",
       "      <td>NaN</td>\n",
       "      <td>1200.0</td>\n",
       "      <td>24.0</td>\n",
       "      <td>114.0</td>\n",
       "      <td>7.29</td>\n",
       "    </tr>\n",
       "    <tr>\n",
       "      <th>3</th>\n",
       "      <td>132548</td>\n",
=======
       "      <th>1</th>\n",
       "      <td>132543</td>\n",
>>>>>>> dfcc0060b7854b0fb91df91cfaa6a741ebad29b8
       "      <td>0</td>\n",
       "      <td>0.0</td>\n",
       "      <td>NaN</td>\n",
       "      <td>NaN</td>\n",
       "      <td>NaN</td>\n",
       "      <td>68.0</td>\n",
       "      <td>NaN</td>\n",
       "      <td>32.0</td>\n",
       "      <td>NaN</td>\n",
       "      <td>...</td>\n",
       "      <td>14.5</td>\n",
       "      <td>NaN</td>\n",
       "      <td>205.0</td>\n",
       "      <td>36.30</td>\n",
       "      <td>0.7</td>\n",
       "      <td>NaN</td>\n",
       "      <td>120.0</td>\n",
       "      <td>6.2</td>\n",
       "      <td>87.0</td>\n",
       "      <td>NaN</td>\n",
       "    </tr>\n",
       "    <tr>\n",
<<<<<<< HEAD
       "      <th>4</th>\n",
       "      <td>132554</td>\n",
=======
       "      <th>2</th>\n",
       "      <td>132545</td>\n",
>>>>>>> dfcc0060b7854b0fb91df91cfaa6a741ebad29b8
       "      <td>0</td>\n",
       "      <td>0.0</td>\n",
       "      <td>NaN</td>\n",
       "      <td>NaN</td>\n",
       "      <td>NaN</td>\n",
       "      <td>64.0</td>\n",
       "      <td>NaN</td>\n",
       "      <td>21.0</td>\n",
       "      <td>NaN</td>\n",
       "      <td>...</td>\n",
       "      <td>44.0</td>\n",
       "      <td>NaN</td>\n",
       "      <td>NaN</td>\n",
       "      <td>37.30</td>\n",
       "      <td>NaN</td>\n",
       "      <td>NaN</td>\n",
       "      <td>300.0</td>\n",
       "      <td>15.2</td>\n",
       "      <td>60.7</td>\n",
       "      <td>NaN</td>\n",
       "    </tr>\n",
       "    <tr>\n",
       "      <th>3</th>\n",
       "      <td>132547</td>\n",
       "      <td>0</td>\n",
       "      <td>0.0</td>\n",
       "      <td>101.0</td>\n",
       "      <td>45.0</td>\n",
       "      <td>47.0</td>\n",
       "      <td>64.0</td>\n",
       "      <td>NaN</td>\n",
       "      <td>15.0</td>\n",
       "      <td>0.4</td>\n",
       "      <td>...</td>\n",
       "      <td>NaN</td>\n",
       "      <td>96.0</td>\n",
       "      <td>141.00</td>\n",
       "      <td>35.80</td>\n",
       "      <td>1.3</td>\n",
       "      <td>NaN</td>\n",
       "      <td>1200.000000</td>\n",
       "      <td>24.0</td>\n",
       "      <td>114.0</td>\n",
       "      <td>7.29</td>\n",
       "    </tr>\n",
       "    <tr>\n",
       "      <th>4</th>\n",
       "      <td>132551</td>\n",
       "      <td>0</td>\n",
       "      <td>0.0</td>\n",
       "      <td>47.0</td>\n",
       "      <td>46.0</td>\n",
       "      <td>82.0</td>\n",
       "      <td>78.0</td>\n",
       "      <td>1.9</td>\n",
       "      <td>81.0</td>\n",
       "      <td>0.3</td>\n",
       "      <td>...</td>\n",
       "      <td>NaN</td>\n",
       "      <td>97.0</td>\n",
       "      <td>102.75</td>\n",
       "      <td>38.00</td>\n",
       "      <td>3.5</td>\n",
       "      <td>NaN</td>\n",
       "      <td>120.000000</td>\n",
       "      <td>16.1</td>\n",
       "      <td>48.4</td>\n",
       "      <td>7.40</td>\n",
       "    </tr>\n",
       "  </tbody>\n",
       "</table>\n",
       "<p>5 rows × 44 columns</p>\n",
       "</div>"
      ],
      "text/plain": [
       "   RecordID  level_1  Time    ALP   ALT   AST   Age  Albumin   BUN  Bilirubin  \\\n",
<<<<<<< HEAD
       "0    132539        0   0.0    NaN   NaN   NaN  54.0      NaN  13.0        NaN   \n",
       "1    132543        0   0.0  105.0  12.0  15.0  68.0      4.4  23.0        0.2   \n",
       "2    132547        0   0.0  101.0  45.0  47.0  64.0      NaN  15.0        0.4   \n",
       "3    132548        0   0.0    NaN   NaN   NaN  68.0      NaN  32.0        NaN   \n",
       "4    132554        0   0.0    NaN   NaN   NaN  64.0      NaN  21.0        NaN   \n",
       "\n",
       "   ...  RespRate  SaO2  SysABP   Temp  TroponinI  TroponinT   Urine   WBC  \\\n",
       "0  ...      19.0   NaN     NaN  35.35        NaN        NaN   480.0  11.2   \n",
       "1  ...      18.0   NaN     NaN  36.30        NaN        NaN   600.0  11.5   \n",
       "2  ...       NaN  96.0   141.0  35.80        1.3        NaN  1200.0  24.0   \n",
       "3  ...      14.5   NaN   205.0  36.30        0.7        NaN   120.0   6.2   \n",
       "4  ...      44.0   NaN     NaN  37.30        NaN        NaN   300.0  15.2   \n",
       "\n",
       "   Weight    pH  \n",
       "0    -1.0   NaN  \n",
       "1    84.6   NaN  \n",
       "2   114.0  7.29  \n",
       "3    87.0   NaN  \n",
       "4    60.7   NaN  \n",
=======
       "0    132540        0   0.0    NaN   NaN   NaN  76.0      NaN  16.0        NaN   \n",
       "1    132543        0   0.0  105.0  12.0  15.0  68.0      4.4  23.0        0.2   \n",
       "2    132545        0   0.0    NaN   NaN   NaN  88.0      3.3  45.0        NaN   \n",
       "3    132547        0   0.0  101.0  45.0  47.0  64.0      NaN  15.0        0.4   \n",
       "4    132551        0   0.0   47.0  46.0  82.0  78.0      1.9  81.0        0.3   \n",
       "\n",
       "   ...  RespRate  SaO2  SysABP   Temp  TroponinI  TroponinT        Urine  \\\n",
       "0  ...       NaN  99.0  103.00  34.88        NaN        NaN   316.666667   \n",
       "1  ...      18.0   NaN     NaN  36.30        NaN        NaN   600.000000   \n",
       "2  ...      24.0   NaN     NaN  37.80        NaN        NaN   140.000000   \n",
       "3  ...       NaN  96.0  141.00  35.80        1.3        NaN  1200.000000   \n",
       "4  ...       NaN  97.0  102.75  38.00        3.5        NaN   120.000000   \n",
       "\n",
       "    WBC  Weight    pH  \n",
       "0   7.4    76.0  7.45  \n",
       "1  11.5    84.6   NaN  \n",
       "2   3.8    -1.0   NaN  \n",
       "3  24.0   114.0  7.29  \n",
       "4  16.1    48.4  7.40  \n",
>>>>>>> dfcc0060b7854b0fb91df91cfaa6a741ebad29b8
       "\n",
       "[5 rows x 44 columns]"
      ]
     },
     "execution_count": 6,
     "metadata": {},
     "output_type": "execute_result"
    }
   ],
   "source": [
    "uniques_train_per_variable = train_X.groupby('RecordID').first().reset_index()\n",
    "uniques_train_per_variable.head()"
   ]
  },
  {
   "cell_type": "code",
   "execution_count": 7,
   "metadata": {},
   "outputs": [
    {
     "data": {
      "text/plain": [
       "RecordID       7671\n",
       "level_1        7671\n",
       "Time           7671\n",
<<<<<<< HEAD
       "ALP            3269\n",
       "ALT            3339\n",
       "AST            3338\n",
       "Age            7671\n",
       "Albumin        3159\n",
       "BUN            7568\n",
       "Bilirubin      3334\n",
       "Cholesterol     605\n",
       "Creatinine     7568\n",
       "DiasABP        5398\n",
       "FiO2           5188\n",
       "GCS            7556\n",
       "Gender         7671\n",
       "Glucose        7504\n",
       "HCO3           7556\n",
       "HCT            7561\n",
       "HR             7557\n",
       "Height         7671\n",
       "ICUType        7671\n",
       "K              7528\n",
       "Lactate        4173\n",
       "MAP            5390\n",
       "MechVent       4851\n",
       "Mg             7497\n",
       "NIDiasABP      6703\n",
       "NIMAP          6690\n",
       "NISysABP       6721\n",
       "Na             7553\n",
       "PaCO2          5775\n",
       "PaO2           5774\n",
       "Platelets      7556\n",
       "RespRate       2123\n",
       "SaO2           3401\n",
       "SysABP         5398\n",
       "Temp           7556\n",
       "TroponinI       340\n",
       "TroponinT      1666\n",
       "Urine          7464\n",
       "WBC            7547\n",
       "Weight         7671\n",
       "pH             5809\n",
=======
       "ALP            3217\n",
       "ALT            3295\n",
       "AST            3295\n",
       "Age            7671\n",
       "Albumin        3069\n",
       "BUN            7557\n",
       "Bilirubin      3298\n",
       "Cholesterol     627\n",
       "Creatinine     7557\n",
       "DiasABP        5416\n",
       "FiO2           5235\n",
       "GCS            7548\n",
       "Gender         7671\n",
       "Glucose        7491\n",
       "HCO3           7540\n",
       "HCT            7553\n",
       "HR             7548\n",
       "Height         7671\n",
       "ICUType        7671\n",
       "K              7518\n",
       "Lactate        4240\n",
       "MAP            5402\n",
       "MechVent       4868\n",
       "Mg             7482\n",
       "NIDiasABP      6681\n",
       "NIMAP          6665\n",
       "NISysABP       6699\n",
       "Na             7537\n",
       "PaCO2          5833\n",
       "PaO2           5834\n",
       "Platelets      7548\n",
       "RespRate       2103\n",
       "SaO2           3472\n",
       "SysABP         5416\n",
       "Temp           7548\n",
       "TroponinI       372\n",
       "TroponinT      1730\n",
       "Urine          7467\n",
       "WBC            7538\n",
       "Weight         7671\n",
       "pH             5869\n",
>>>>>>> dfcc0060b7854b0fb91df91cfaa6a741ebad29b8
       "dtype: int64"
      ]
     },
     "execution_count": 7,
     "metadata": {},
     "output_type": "execute_result"
    }
   ],
   "source": [
    "uniques_train_per_variable.count()"
   ]
  },
  {
   "cell_type": "markdown",
   "metadata": {},
   "source": [
    "<h3>Showing total occurrences of age</h3>"
   ]
  },
  {
   "cell_type": "code",
   "execution_count": 8,
   "metadata": {},
   "outputs": [
    {
     "data": {
      "text/plain": [
       "7671"
      ]
     },
     "execution_count": 8,
     "metadata": {},
     "output_type": "execute_result"
    }
   ],
   "source": [
    "# 60% de 11988 (training set)\n",
    "uniques_train_per_variable[\"Age\"].count()"
   ]
  },
  {
   "cell_type": "markdown",
   "metadata": {},
   "source": [
    "<h3>Dividing age into subgroup of people aged 65+</h3>"
   ]
  },
  {
   "cell_type": "code",
   "execution_count": 62,
   "metadata": {},
<<<<<<< HEAD
   "outputs": [
    {
     "data": {
      "text/plain": [
       "54.58219267370617"
      ]
     },
     "execution_count": 9,
     "metadata": {},
     "output_type": "execute_result"
    }
   ],
=======
   "outputs": [],
>>>>>>> dfcc0060b7854b0fb91df91cfaa6a741ebad29b8
   "source": [
    "more_than_or_equal_to_65_training = uniques_train_per_variable[uniques_train_per_variable['Age'] >= 65]\n",
    "percentage_group_one_train = (more_than_or_equal_to_65_training[\"Age\"].count() / uniques_train_per_variable[\"Age\"].count())*100\n",
    "percentage_group_one_train =  round(percentage_group_one_train, 1)"
   ]
  },
  {
   "cell_type": "markdown",
   "metadata": {},
   "source": [
    "<h3>Dividing age into subgroup of people under 65 years of age</h3>"
   ]
  },
  {
   "cell_type": "code",
   "execution_count": 63,
   "metadata": {},
<<<<<<< HEAD
   "outputs": [
    {
     "data": {
      "text/plain": [
       "45.41780732629383"
      ]
     },
     "execution_count": 10,
     "metadata": {},
     "output_type": "execute_result"
    }
   ],
=======
   "outputs": [],
>>>>>>> dfcc0060b7854b0fb91df91cfaa6a741ebad29b8
   "source": [
    "less_than_65 = uniques_train_per_variable[uniques_train_per_variable['Age'] < 65]\n",
    "percentage_group_two_train = (less_than_65[\"Age\"].count() / uniques_train_per_variable[\"Age\"].count()) * 100\n",
    "percentage_group_two_train =  round(percentage_group_two_train, 1)"
   ]
  },
  {
   "cell_type": "markdown",
   "metadata": {},
   "source": [
    "<h3>Filtering only one height and one weight per patient</h3>"
   ]
  },
  {
   "cell_type": "code",
   "execution_count": 15,
   "metadata": {},
   "outputs": [],
   "source": [
    "filtered_train_X = train_X[(train_X['Height'] != -1) & (train_X['Weight'] != -1) & (train_X['Height'].notna()) & (train_X['Weight'].notna())] "
   ]
  },
  {
   "cell_type": "code",
   "execution_count": 16,
   "metadata": {},
   "outputs": [
    {
     "data": {
      "text/html": [
       "<div>\n",
       "<style scoped>\n",
       "    .dataframe tbody tr th:only-of-type {\n",
       "        vertical-align: middle;\n",
       "    }\n",
       "\n",
       "    .dataframe tbody tr th {\n",
       "        vertical-align: top;\n",
       "    }\n",
       "\n",
       "    .dataframe thead th {\n",
       "        text-align: right;\n",
       "    }\n",
       "</style>\n",
       "<table border=\"1\" class=\"dataframe\">\n",
       "  <thead>\n",
       "    <tr style=\"text-align: right;\">\n",
       "      <th></th>\n",
       "      <th>RecordID</th>\n",
       "      <th>level_1</th>\n",
       "      <th>Time</th>\n",
       "      <th>ALP</th>\n",
       "      <th>ALT</th>\n",
       "      <th>AST</th>\n",
       "      <th>Age</th>\n",
       "      <th>Albumin</th>\n",
       "      <th>BUN</th>\n",
       "      <th>Bilirubin</th>\n",
       "      <th>...</th>\n",
       "      <th>RespRate</th>\n",
       "      <th>SaO2</th>\n",
       "      <th>SysABP</th>\n",
       "      <th>Temp</th>\n",
       "      <th>TroponinI</th>\n",
       "      <th>TroponinT</th>\n",
       "      <th>Urine</th>\n",
       "      <th>WBC</th>\n",
       "      <th>Weight</th>\n",
       "      <th>pH</th>\n",
       "    </tr>\n",
       "  </thead>\n",
       "  <tbody>\n",
       "    <tr>\n",
       "      <th>0</th>\n",
<<<<<<< HEAD
=======
       "      <td>132540</td>\n",
       "      <td>0</td>\n",
       "      <td>0.0</td>\n",
       "      <td>NaN</td>\n",
       "      <td>NaN</td>\n",
       "      <td>NaN</td>\n",
       "      <td>76.0</td>\n",
       "      <td>NaN</td>\n",
       "      <td>21.0</td>\n",
       "      <td>NaN</td>\n",
       "      <td>...</td>\n",
       "      <td>NaN</td>\n",
       "      <td>93.0</td>\n",
       "      <td>122.00</td>\n",
       "      <td>37.5</td>\n",
       "      <td>NaN</td>\n",
       "      <td>NaN</td>\n",
       "      <td>50.0</td>\n",
       "      <td>13.3</td>\n",
       "      <td>76.0</td>\n",
       "      <td>7.45</td>\n",
       "    </tr>\n",
       "    <tr>\n",
       "      <th>1</th>\n",
>>>>>>> dfcc0060b7854b0fb91df91cfaa6a741ebad29b8
       "      <td>132543</td>\n",
       "      <td>0</td>\n",
       "      <td>0.0</td>\n",
       "      <td>105.0</td>\n",
       "      <td>12.0</td>\n",
       "      <td>15.0</td>\n",
       "      <td>68.0</td>\n",
       "      <td>4.4</td>\n",
       "      <td>23.0</td>\n",
       "      <td>0.2</td>\n",
       "      <td>...</td>\n",
       "      <td>18.0</td>\n",
       "      <td>NaN</td>\n",
       "      <td>NaN</td>\n",
       "      <td>36.3</td>\n",
       "      <td>NaN</td>\n",
       "      <td>NaN</td>\n",
       "      <td>600.0</td>\n",
       "      <td>11.5</td>\n",
       "      <td>84.6</td>\n",
       "      <td>NaN</td>\n",
       "    </tr>\n",
       "    <tr>\n",
       "      <th>1</th>\n",
       "      <td>132547</td>\n",
       "      <td>0</td>\n",
       "      <td>0.0</td>\n",
       "      <td>NaN</td>\n",
       "      <td>NaN</td>\n",
       "      <td>NaN</td>\n",
       "      <td>64.0</td>\n",
       "      <td>NaN</td>\n",
       "      <td>NaN</td>\n",
       "      <td>NaN</td>\n",
       "      <td>...</td>\n",
       "      <td>NaN</td>\n",
       "      <td>NaN</td>\n",
       "      <td>NaN</td>\n",
       "      <td>NaN</td>\n",
       "      <td>NaN</td>\n",
       "      <td>NaN</td>\n",
       "      <td>NaN</td>\n",
       "      <td>NaN</td>\n",
       "      <td>114.0</td>\n",
       "      <td>NaN</td>\n",
       "    </tr>\n",
       "    <tr>\n",
<<<<<<< HEAD
       "      <th>2</th>\n",
       "      <td>132548</td>\n",
=======
       "      <th>3</th>\n",
       "      <td>132551</td>\n",
>>>>>>> dfcc0060b7854b0fb91df91cfaa6a741ebad29b8
       "      <td>0</td>\n",
       "      <td>0.0</td>\n",
       "      <td>47.0</td>\n",
       "      <td>46.0</td>\n",
       "      <td>82.0</td>\n",
       "      <td>78.0</td>\n",
       "      <td>1.9</td>\n",
       "      <td>81.0</td>\n",
       "      <td>0.3</td>\n",
       "      <td>...</td>\n",
       "      <td>NaN</td>\n",
       "      <td>97.0</td>\n",
       "      <td>102.75</td>\n",
       "      <td>38.0</td>\n",
       "      <td>3.5</td>\n",
       "      <td>NaN</td>\n",
       "      <td>120.0</td>\n",
       "      <td>16.1</td>\n",
       "      <td>48.4</td>\n",
       "      <td>7.40</td>\n",
       "    </tr>\n",
       "    <tr>\n",
       "      <th>3</th>\n",
       "      <td>132555</td>\n",
       "      <td>0</td>\n",
       "      <td>0.0</td>\n",
       "      <td>NaN</td>\n",
       "      <td>NaN</td>\n",
       "      <td>NaN</td>\n",
       "      <td>74.0</td>\n",
       "      <td>NaN</td>\n",
       "      <td>19.0</td>\n",
       "      <td>NaN</td>\n",
       "      <td>...</td>\n",
       "      <td>NaN</td>\n",
       "      <td>99.0</td>\n",
       "      <td>98.00</td>\n",
       "      <td>34.8</td>\n",
       "      <td>NaN</td>\n",
       "      <td>NaN</td>\n",
       "      <td>35.0</td>\n",
       "      <td>9.0</td>\n",
       "      <td>66.1</td>\n",
       "      <td>7.39</td>\n",
       "    </tr>\n",
       "    <tr>\n",
       "      <th>4</th>\n",
       "      <td>132568</td>\n",
       "      <td>0</td>\n",
       "      <td>0.0</td>\n",
       "      <td>NaN</td>\n",
       "      <td>NaN</td>\n",
       "      <td>NaN</td>\n",
       "      <td>66.0</td>\n",
       "      <td>NaN</td>\n",
       "      <td>18.0</td>\n",
       "      <td>NaN</td>\n",
       "      <td>...</td>\n",
       "      <td>NaN</td>\n",
       "      <td>NaN</td>\n",
       "      <td>NaN</td>\n",
       "      <td>36.1</td>\n",
       "      <td>NaN</td>\n",
       "      <td>NaN</td>\n",
       "      <td>220.0</td>\n",
       "      <td>14.8</td>\n",
       "      <td>84.5</td>\n",
       "      <td>NaN</td>\n",
       "    </tr>\n",
       "  </tbody>\n",
       "</table>\n",
       "<p>5 rows × 44 columns</p>\n",
       "</div>"
      ],
      "text/plain": [
       "   RecordID  level_1  Time    ALP   ALT   AST   Age  Albumin   BUN  Bilirubin  \\\n",
<<<<<<< HEAD
       "0    132543        0   0.0  105.0  12.0  15.0  68.0      4.4  23.0        0.2   \n",
       "1    132547        0   0.0    NaN   NaN   NaN  64.0      NaN   NaN        NaN   \n",
       "2    132548        0   0.0    NaN   NaN   NaN  68.0      NaN  32.0        NaN   \n",
       "3    132555        0   0.0    NaN   NaN   NaN  74.0      NaN  19.0        NaN   \n",
       "4    132568        0   0.0    NaN   NaN   NaN  66.0      NaN  18.0        NaN   \n",
       "\n",
       "   ...  RespRate  SaO2  SysABP  Temp  TroponinI  TroponinT  Urine   WBC  \\\n",
       "0  ...      18.0   NaN     NaN  36.3        NaN        NaN  600.0  11.5   \n",
       "1  ...       NaN   NaN     NaN   NaN        NaN        NaN    NaN   NaN   \n",
       "2  ...      14.5   NaN   205.0  36.3        0.7        NaN  120.0   6.2   \n",
       "3  ...       NaN  99.0    98.0  34.8        NaN        NaN   35.0   9.0   \n",
       "4  ...       NaN   NaN     NaN  36.1        NaN        NaN  220.0  14.8   \n",
       "\n",
       "   Weight    pH  \n",
       "0    84.6   NaN  \n",
       "1   114.0   NaN  \n",
       "2    87.0   NaN  \n",
       "3    66.1  7.39  \n",
       "4    84.5   NaN  \n",
=======
       "0    132540        0   0.0    NaN   NaN   NaN  76.0      NaN  21.0        NaN   \n",
       "1    132543        0   0.0  105.0  12.0  15.0  68.0      4.4  23.0        0.2   \n",
       "2    132547        0   0.0    NaN   NaN   NaN  64.0      NaN   NaN        NaN   \n",
       "3    132551        0   0.0   47.0  46.0  82.0  78.0      1.9  81.0        0.3   \n",
       "4    132555        0   0.0    NaN   NaN   NaN  74.0      NaN  19.0        NaN   \n",
       "\n",
       "   ...  RespRate  SaO2  SysABP  Temp  TroponinI  TroponinT  Urine   WBC  \\\n",
       "0  ...       NaN  93.0  122.00  37.5        NaN        NaN   50.0  13.3   \n",
       "1  ...      18.0   NaN     NaN  36.3        NaN        NaN  600.0  11.5   \n",
       "2  ...       NaN   NaN     NaN   NaN        NaN        NaN    NaN   NaN   \n",
       "3  ...       NaN  97.0  102.75  38.0        3.5        NaN  120.0  16.1   \n",
       "4  ...       NaN  99.0   98.00  34.8        NaN        NaN   35.0   9.0   \n",
       "\n",
       "   Weight    pH  \n",
       "0    76.0  7.45  \n",
       "1    84.6   NaN  \n",
       "2   114.0   NaN  \n",
       "3    48.4  7.40  \n",
       "4    66.1  7.39  \n",
>>>>>>> dfcc0060b7854b0fb91df91cfaa6a741ebad29b8
       "\n",
       "[5 rows x 44 columns]"
      ]
     },
     "execution_count": 16,
     "metadata": {},
     "output_type": "execute_result"
    }
   ],
   "source": [
    "filtered_uniques_train = filtered_train_X.groupby('RecordID').first().reset_index() \n",
    "filtered_uniques_train.head()"
   ]
  },
  {
   "cell_type": "markdown",
   "metadata": {},
   "source": [
    "<h3>Calculate the BMI</h3>"
   ]
  },
  {
   "cell_type": "code",
   "execution_count": 17,
   "metadata": {},
   "outputs": [],
   "source": [
    "def classify_BMI(BMI):\n",
    "    if BMI < 18.5:\n",
    "        return \"Baixo peso\"\n",
    "    elif BMI >= 18.6 and BMI <= 24.9:\n",
    "        return \"Peso normal\"\n",
    "    elif BMI >= 25 and BMI <= 29.9:\n",
    "        return \"Sobrepeso\"\n",
    "    elif BMI >= 30 and BMI <= 34.9:\n",
    "        return \"Obesidade grau 1\"\n",
    "    elif BMI >= 35 and BMI <= 39.9:\n",
    "        return \"Obesidade grau 2\"\n",
    "    elif BMI >= 40:\n",
    "        return \"Obesidade grau 3\""
   ]
  },
  {
   "cell_type": "code",
   "execution_count": 18,
   "metadata": {},
   "outputs": [],
   "source": [
    "filtered_uniques_train['Height'] = filtered_uniques_train['Height'] / 100 # Converting Height from cm to meters"
   ]
  },
  {
   "cell_type": "code",
   "execution_count": 19,
   "metadata": {},
   "outputs": [
    {
     "data": {
      "text/html": [
       "<div>\n",
       "<style scoped>\n",
       "    .dataframe tbody tr th:only-of-type {\n",
       "        vertical-align: middle;\n",
       "    }\n",
       "\n",
       "    .dataframe tbody tr th {\n",
       "        vertical-align: top;\n",
       "    }\n",
       "\n",
       "    .dataframe thead th {\n",
       "        text-align: right;\n",
       "    }\n",
       "</style>\n",
       "<table border=\"1\" class=\"dataframe\">\n",
       "  <thead>\n",
       "    <tr style=\"text-align: right;\">\n",
       "      <th></th>\n",
       "      <th>RecordID</th>\n",
       "      <th>Height</th>\n",
       "      <th>Weight</th>\n",
       "      <th>BMI</th>\n",
       "      <th>Classificacao</th>\n",
       "    </tr>\n",
       "  </thead>\n",
       "  <tbody>\n",
       "    <tr>\n",
       "      <th>0</th>\n",
       "      <td>132543</td>\n",
       "      <td>1.803</td>\n",
       "      <td>84.6</td>\n",
       "      <td>26.024291</td>\n",
       "      <td>Sobrepeso</td>\n",
       "    </tr>\n",
       "    <tr>\n",
       "      <th>1</th>\n",
       "      <td>132547</td>\n",
       "      <td>1.803</td>\n",
       "      <td>114.0</td>\n",
       "      <td>35.068194</td>\n",
       "      <td>Obesidade grau 2</td>\n",
       "    </tr>\n",
       "    <tr>\n",
<<<<<<< HEAD
       "      <th>2</th>\n",
       "      <td>132548</td>\n",
=======
       "      <th>3</th>\n",
       "      <td>132551</td>\n",
>>>>>>> dfcc0060b7854b0fb91df91cfaa6a741ebad29b8
       "      <td>1.626</td>\n",
       "      <td>48.4</td>\n",
       "      <td>18.306456</td>\n",
       "      <td>Baixo peso</td>\n",
       "    </tr>\n",
       "    <tr>\n",
       "      <th>3</th>\n",
       "      <td>132555</td>\n",
       "      <td>1.753</td>\n",
       "      <td>66.1</td>\n",
       "      <td>21.509862</td>\n",
       "      <td>Peso normal</td>\n",
       "    </tr>\n",
       "    <tr>\n",
       "      <th>4</th>\n",
       "      <td>132568</td>\n",
       "      <td>1.575</td>\n",
       "      <td>84.5</td>\n",
       "      <td>34.063996</td>\n",
       "      <td>Obesidade grau 1</td>\n",
       "    </tr>\n",
       "  </tbody>\n",
       "</table>\n",
       "</div>"
      ],
      "text/plain": [
       "   RecordID  Height  Weight        BMI     Classificacao\n",
<<<<<<< HEAD
       "0    132543   1.803    84.6  26.024291         Sobrepeso\n",
       "1    132547   1.803   114.0  35.068194  Obesidade grau 2\n",
       "2    132548   1.626    87.0  32.906233  Obesidade grau 1\n",
       "3    132555   1.753    66.1  21.509862       Peso normal\n",
       "4    132568   1.575    84.5  34.063996  Obesidade grau 1"
=======
       "0    132540   1.753    76.0  24.731460       Peso normal\n",
       "1    132543   1.803    84.6  26.024291         Sobrepeso\n",
       "2    132547   1.803   114.0  35.068194  Obesidade grau 2\n",
       "3    132551   1.626    48.4  18.306456        Baixo peso\n",
       "4    132555   1.753    66.1  21.509862       Peso normal"
>>>>>>> dfcc0060b7854b0fb91df91cfaa6a741ebad29b8
      ]
     },
     "execution_count": 19,
     "metadata": {},
     "output_type": "execute_result"
    }
   ],
   "source": [
    "bmi_data_train = pd.DataFrame(columns=['RecordID', 'Height', 'Weight', 'BMI', 'Classificacao'])\n",
    "bmi_data_train[\"RecordID\"] = filtered_uniques_train[\"RecordID\"]\n",
    "bmi_data_train[\"Height\"] = filtered_uniques_train[\"Height\"]\n",
    "bmi_data_train[\"Weight\"] = filtered_uniques_train[\"Weight\"]\n",
    "bmi_data_train[\"BMI\"] = filtered_uniques_train[\"Weight\"] / (filtered_uniques_train[\"Height\"] ** 2)\n",
    "bmi_data_train[\"Classificacao\"] = bmi_data_train[\"BMI\"].apply(classify_BMI)\n",
    "bmi_data_train.head()"
   ]
  },
  {
   "cell_type": "markdown",
   "metadata": {},
   "source": [
    "<h3>Percentage of BMI classification groups</h3>"
   ]
  },
  {
   "cell_type": "code",
   "execution_count": 20,
   "metadata": {},
   "outputs": [],
   "source": [
    "percentage_bmi_train= bmi_data_train[\"Classificacao\"].value_counts(normalize=True) * 100"
   ]
  },
  {
   "cell_type": "code",
   "execution_count": 64,
   "metadata": {},
<<<<<<< HEAD
   "outputs": [
    {
     "data": {
      "text/plain": [
       "Classificacao\n",
       "Sobrepeso           34.435897\n",
       "Peso normal         29.589744\n",
       "Obesidade grau 1    18.564103\n",
       "Obesidade grau 2     7.641026\n",
       "Obesidade grau 3     6.897436\n",
       "Baixo peso           2.871795\n",
       "Name: proportion, dtype: float64"
      ]
     },
     "execution_count": 17,
     "metadata": {},
     "output_type": "execute_result"
    }
   ],
=======
   "outputs": [],
>>>>>>> dfcc0060b7854b0fb91df91cfaa6a741ebad29b8
   "source": [
    "percentage_bmi_train =  round(percentage_bmi_train, 1)"
   ]
  },
  {
   "cell_type": "markdown",
   "metadata": {},
   "source": [
    "<h2>Validation data</h2>"
   ]
  },
  {
   "cell_type": "markdown",
   "metadata": {},
   "source": [
    "<h3>Loading validation dataset </h3>"
   ]
  },
  {
   "cell_type": "code",
   "execution_count": 22,
   "metadata": {},
   "outputs": [],
   "source": [
    "validation_X = physionet2012_dataset['val_X']"
   ]
  },
  {
   "cell_type": "markdown",
   "metadata": {},
   "source": [
    "<h3>Divided into subgroups by gender and showing the percentage</h3>"
   ]
  },
  {
   "cell_type": "code",
   "execution_count": 65,
   "metadata": {},
<<<<<<< HEAD
   "outputs": [
    {
     "data": {
      "text/plain": [
       "Gender\n",
       " 1.0    56.830031\n",
       " 0.0    43.013556\n",
       "-1.0     0.156413\n",
       "Name: proportion, dtype: float64"
      ]
     },
     "execution_count": 19,
     "metadata": {},
     "output_type": "execute_result"
    }
   ],
=======
   "outputs": [],
>>>>>>> dfcc0060b7854b0fb91df91cfaa6a741ebad29b8
   "source": [
    "distribution_gender_validation = validation_X['Gender'].value_counts(normalize=True) * 100\n",
    "distribution_gender_validation =  round(distribution_gender_validation, 1) # 0: female, or 1: male"
   ]
  },
  {
   "cell_type": "markdown",
   "metadata": {},
   "source": [
    "<h3>Divided into subgroups by ICUType and showing the percentage</h3>"
   ]
  },
  {
   "cell_type": "code",
   "execution_count": 66,
   "metadata": {},
<<<<<<< HEAD
   "outputs": [
    {
     "data": {
      "text/plain": [
       "ICUType\n",
       "3.0    36.496350\n",
       "4.0    27.789364\n",
       "2.0    21.011470\n",
       "1.0    14.702815\n",
       "Name: proportion, dtype: float64"
      ]
     },
     "execution_count": 20,
     "metadata": {},
     "output_type": "execute_result"
    }
   ],
=======
   "outputs": [],
>>>>>>> dfcc0060b7854b0fb91df91cfaa6a741ebad29b8
   "source": [
    "distribution_ICUType_validation = validation_X['ICUType'].value_counts(normalize=True) * 100\n",
    "distribution_ICUType_validation = round(distribution_ICUType_validation, 1)"
   ]
  },
  {
   "cell_type": "markdown",
   "metadata": {},
   "source": [
    "<h3>Filtering only one age per patient</h3>"
   ]
  },
  {
   "cell_type": "code",
   "execution_count": 28,
   "metadata": {},
   "outputs": [
    {
     "data": {
      "text/html": [
       "<div>\n",
       "<style scoped>\n",
       "    .dataframe tbody tr th:only-of-type {\n",
       "        vertical-align: middle;\n",
       "    }\n",
       "\n",
       "    .dataframe tbody tr th {\n",
       "        vertical-align: top;\n",
       "    }\n",
       "\n",
       "    .dataframe thead th {\n",
       "        text-align: right;\n",
       "    }\n",
       "</style>\n",
       "<table border=\"1\" class=\"dataframe\">\n",
       "  <thead>\n",
       "    <tr style=\"text-align: right;\">\n",
       "      <th></th>\n",
       "      <th>RecordID</th>\n",
       "      <th>level_1</th>\n",
       "      <th>Time</th>\n",
       "      <th>ALP</th>\n",
       "      <th>ALT</th>\n",
       "      <th>AST</th>\n",
       "      <th>Age</th>\n",
       "      <th>Albumin</th>\n",
       "      <th>BUN</th>\n",
       "      <th>Bilirubin</th>\n",
       "      <th>...</th>\n",
       "      <th>RespRate</th>\n",
       "      <th>SaO2</th>\n",
       "      <th>SysABP</th>\n",
       "      <th>Temp</th>\n",
       "      <th>TroponinI</th>\n",
       "      <th>TroponinT</th>\n",
       "      <th>Urine</th>\n",
       "      <th>WBC</th>\n",
       "      <th>Weight</th>\n",
       "      <th>pH</th>\n",
       "    </tr>\n",
       "  </thead>\n",
       "  <tbody>\n",
       "    <tr>\n",
       "      <th>0</th>\n",
<<<<<<< HEAD
       "      <td>132545</td>\n",
=======
       "      <td>132539</td>\n",
>>>>>>> dfcc0060b7854b0fb91df91cfaa6a741ebad29b8
       "      <td>0</td>\n",
       "      <td>0.0</td>\n",
       "      <td>NaN</td>\n",
       "      <td>NaN</td>\n",
       "      <td>NaN</td>\n",
<<<<<<< HEAD
       "      <td>88.0</td>\n",
       "      <td>3.3</td>\n",
       "      <td>45.0</td>\n",
       "      <td>NaN</td>\n",
       "      <td>...</td>\n",
       "      <td>24.0</td>\n",
       "      <td>NaN</td>\n",
       "      <td>NaN</td>\n",
       "      <td>37.8</td>\n",
       "      <td>NaN</td>\n",
       "      <td>NaN</td>\n",
       "      <td>140.000000</td>\n",
       "      <td>3.8</td>\n",
=======
       "      <td>54.0</td>\n",
       "      <td>NaN</td>\n",
       "      <td>13.0</td>\n",
       "      <td>NaN</td>\n",
       "      <td>...</td>\n",
       "      <td>19.0</td>\n",
       "      <td>NaN</td>\n",
       "      <td>NaN</td>\n",
       "      <td>35.35</td>\n",
       "      <td>NaN</td>\n",
       "      <td>NaN</td>\n",
       "      <td>480.0</td>\n",
       "      <td>11.2</td>\n",
>>>>>>> dfcc0060b7854b0fb91df91cfaa6a741ebad29b8
       "      <td>-1.0</td>\n",
       "      <td>NaN</td>\n",
       "    </tr>\n",
       "    <tr>\n",
       "      <th>1</th>\n",
       "      <td>132567</td>\n",
       "      <td>0</td>\n",
       "      <td>0.0</td>\n",
       "      <td>NaN</td>\n",
       "      <td>NaN</td>\n",
<<<<<<< HEAD
=======
       "      <td>36.70</td>\n",
>>>>>>> dfcc0060b7854b0fb91df91cfaa6a741ebad29b8
       "      <td>NaN</td>\n",
       "      <td>71.0</td>\n",
       "      <td>NaN</td>\n",
       "      <td>9.0</td>\n",
       "      <td>NaN</td>\n",
       "      <td>...</td>\n",
       "      <td>NaN</td>\n",
       "      <td>98.0</td>\n",
       "      <td>111.500000</td>\n",
       "      <td>35.6</td>\n",
       "      <td>NaN</td>\n",
       "      <td>NaN</td>\n",
       "      <td>1003.333333</td>\n",
       "      <td>13.7</td>\n",
       "      <td>56.0</td>\n",
       "      <td>7.44</td>\n",
       "    </tr>\n",
       "    <tr>\n",
       "      <th>2</th>\n",
<<<<<<< HEAD
       "      <td>132605</td>\n",
=======
       "      <td>132568</td>\n",
>>>>>>> dfcc0060b7854b0fb91df91cfaa6a741ebad29b8
       "      <td>0</td>\n",
       "      <td>0.0</td>\n",
       "      <td>NaN</td>\n",
       "      <td>NaN</td>\n",
       "      <td>NaN</td>\n",
<<<<<<< HEAD
       "      <td>90.0</td>\n",
       "      <td>NaN</td>\n",
       "      <td>23.0</td>\n",
=======
       "      <td>66.0</td>\n",
       "      <td>NaN</td>\n",
       "      <td>18.0</td>\n",
>>>>>>> dfcc0060b7854b0fb91df91cfaa6a741ebad29b8
       "      <td>NaN</td>\n",
       "      <td>...</td>\n",
       "      <td>NaN</td>\n",
       "      <td>NaN</td>\n",
       "      <td>NaN</td>\n",
<<<<<<< HEAD
       "      <td>36.3</td>\n",
       "      <td>NaN</td>\n",
=======
       "      <td>36.10</td>\n",
       "      <td>NaN</td>\n",
       "      <td>NaN</td>\n",
       "      <td>220.0</td>\n",
       "      <td>14.8</td>\n",
       "      <td>84.5</td>\n",
>>>>>>> dfcc0060b7854b0fb91df91cfaa6a741ebad29b8
       "      <td>NaN</td>\n",
       "      <td>50.000000</td>\n",
       "      <td>10.0</td>\n",
       "      <td>55.0</td>\n",
       "      <td>7.43</td>\n",
       "    </tr>\n",
       "    <tr>\n",
       "      <th>3</th>\n",
<<<<<<< HEAD
       "      <td>132614</td>\n",
=======
       "      <td>132575</td>\n",
>>>>>>> dfcc0060b7854b0fb91df91cfaa6a741ebad29b8
       "      <td>0</td>\n",
       "      <td>0.0</td>\n",
       "      <td>NaN</td>\n",
       "      <td>NaN</td>\n",
       "      <td>NaN</td>\n",
<<<<<<< HEAD
       "      <td>77.0</td>\n",
       "      <td>NaN</td>\n",
       "      <td>49.0</td>\n",
       "      <td>NaN</td>\n",
       "      <td>...</td>\n",
       "      <td>NaN</td>\n",
       "      <td>NaN</td>\n",
       "      <td>0.000000</td>\n",
       "      <td>37.3</td>\n",
       "      <td>NaN</td>\n",
       "      <td>NaN</td>\n",
       "      <td>50.000000</td>\n",
       "      <td>17.9</td>\n",
       "      <td>59.0</td>\n",
       "      <td>7.46</td>\n",
       "    </tr>\n",
       "    <tr>\n",
       "      <th>4</th>\n",
       "      <td>132639</td>\n",
=======
       "      <td>78.0</td>\n",
       "      <td>NaN</td>\n",
       "      <td>21.0</td>\n",
       "      <td>NaN</td>\n",
       "      <td>...</td>\n",
       "      <td>NaN</td>\n",
       "      <td>99.0</td>\n",
       "      <td>111.6</td>\n",
       "      <td>34.72</td>\n",
       "      <td>NaN</td>\n",
       "      <td>NaN</td>\n",
       "      <td>210.0</td>\n",
       "      <td>12.5</td>\n",
       "      <td>63.0</td>\n",
       "      <td>7.34</td>\n",
       "    </tr>\n",
       "    <tr>\n",
       "      <th>4</th>\n",
       "      <td>132588</td>\n",
>>>>>>> dfcc0060b7854b0fb91df91cfaa6a741ebad29b8
       "      <td>0</td>\n",
       "      <td>0.0</td>\n",
       "      <td>202.0</td>\n",
       "      <td>58.0</td>\n",
       "      <td>102.0</td>\n",
       "      <td>48.0</td>\n",
       "      <td>2.0</td>\n",
       "      <td>7.0</td>\n",
       "      <td>6.8</td>\n",
       "      <td>...</td>\n",
       "      <td>17.0</td>\n",
       "      <td>NaN</td>\n",
       "      <td>NaN</td>\n",
       "      <td>38.40</td>\n",
       "      <td>NaN</td>\n",
<<<<<<< HEAD
       "      <td>73.0</td>\n",
       "      <td>NaN</td>\n",
       "      <td>28.0</td>\n",
       "      <td>NaN</td>\n",
       "      <td>...</td>\n",
       "      <td>NaN</td>\n",
       "      <td>98.0</td>\n",
       "      <td>105.666667</td>\n",
       "      <td>35.2</td>\n",
=======
       "      <td>NaN</td>\n",
>>>>>>> dfcc0060b7854b0fb91df91cfaa6a741ebad29b8
       "      <td>NaN</td>\n",
       "      <td>7.0</td>\n",
       "      <td>42.3</td>\n",
       "      <td>NaN</td>\n",
<<<<<<< HEAD
       "      <td>90.000000</td>\n",
       "      <td>13.0</td>\n",
       "      <td>96.3</td>\n",
       "      <td>7.36</td>\n",
=======
>>>>>>> dfcc0060b7854b0fb91df91cfaa6a741ebad29b8
       "    </tr>\n",
       "  </tbody>\n",
       "</table>\n",
       "<p>5 rows × 44 columns</p>\n",
       "</div>"
      ],
      "text/plain": [
<<<<<<< HEAD
       "   RecordID  level_1  Time  ALP  ALT  AST   Age  Albumin   BUN  Bilirubin  \\\n",
       "0    132545        0   0.0  NaN  NaN  NaN  88.0      3.3  45.0        NaN   \n",
       "1    132567        0   0.0  NaN  NaN  NaN  71.0      NaN   9.0        NaN   \n",
       "2    132605        0   0.0  NaN  NaN  NaN  90.0      NaN  23.0        NaN   \n",
       "3    132614        0   0.0  NaN  NaN  NaN  77.0      NaN  49.0        NaN   \n",
       "4    132639        0   0.0  NaN  NaN  NaN  73.0      NaN  28.0        NaN   \n",
       "\n",
       "   ...  RespRate  SaO2      SysABP  Temp  TroponinI  TroponinT        Urine  \\\n",
       "0  ...      24.0   NaN         NaN  37.8        NaN        NaN   140.000000   \n",
       "1  ...       NaN  98.0  111.500000  35.6        NaN        NaN  1003.333333   \n",
       "2  ...       NaN   NaN         NaN  36.3        NaN        NaN    50.000000   \n",
       "3  ...       NaN   NaN    0.000000  37.3        NaN        NaN    50.000000   \n",
       "4  ...       NaN  98.0  105.666667  35.2        NaN        NaN    90.000000   \n",
       "\n",
       "    WBC  Weight    pH  \n",
       "0   3.8    -1.0   NaN  \n",
       "1  13.7    56.0  7.44  \n",
       "2  10.0    55.0  7.43  \n",
       "3  17.9    59.0  7.46  \n",
       "4  13.0    96.3  7.36  \n",
=======
       "   RecordID  level_1  Time    ALP   ALT    AST   Age  Albumin   BUN  \\\n",
       "0    132539        0   0.0    NaN   NaN    NaN  54.0      NaN  13.0   \n",
       "1    132556        0   0.0  402.0  36.0   47.0  64.0      2.7  64.0   \n",
       "2    132568        0   0.0    NaN   NaN    NaN  66.0      NaN  18.0   \n",
       "3    132575        0   0.0    NaN   NaN    NaN  78.0      NaN  21.0   \n",
       "4    132588        0   0.0  202.0  58.0  102.0  48.0      2.0   7.0   \n",
       "\n",
       "   Bilirubin  ...  RespRate  SaO2  SysABP   Temp  TroponinI  TroponinT  Urine  \\\n",
       "0        NaN  ...      19.0   NaN     NaN  35.35        NaN        NaN  480.0   \n",
       "1        0.1  ...      10.0   NaN     NaN  36.70        NaN        NaN  200.0   \n",
       "2        NaN  ...       NaN   NaN     NaN  36.10        NaN        NaN  220.0   \n",
       "3        NaN  ...       NaN  99.0   111.6  34.72        NaN        NaN  210.0   \n",
       "4        6.8  ...      17.0   NaN     NaN  38.40        NaN        NaN    NaN   \n",
       "\n",
       "    WBC  Weight    pH  \n",
       "0  11.2    -1.0   NaN  \n",
       "1  21.8    65.0   NaN  \n",
       "2  14.8    84.5   NaN  \n",
       "3  12.5    63.0  7.34  \n",
       "4   7.0    42.3   NaN  \n",
>>>>>>> dfcc0060b7854b0fb91df91cfaa6a741ebad29b8
       "\n",
       "[5 rows x 44 columns]"
      ]
     },
     "execution_count": 28,
     "metadata": {},
     "output_type": "execute_result"
    }
   ],
   "source": [
    "uniques_validation_per_variable = validation_X.groupby('RecordID').first().reset_index()\n",
    "uniques_validation_per_variable.head()"
   ]
  },
  {
   "cell_type": "markdown",
   "metadata": {},
   "source": [
    "<h3>Showing total occurrences of age</h3>"
   ]
  },
  {
   "cell_type": "code",
   "execution_count": 29,
   "metadata": {},
   "outputs": [
    {
     "data": {
      "text/plain": [
       "1918"
      ]
     },
     "execution_count": 29,
     "metadata": {},
     "output_type": "execute_result"
    }
   ],
   "source": [
    "uniques_validation_per_variable[\"Age\"].count()"
   ]
  },
  {
   "cell_type": "markdown",
   "metadata": {},
   "source": [
    "<h3>Dividing age into subgroup of people aged 65+</h3>"
   ]
  },
  {
   "cell_type": "code",
   "execution_count": 67,
   "metadata": {},
<<<<<<< HEAD
   "outputs": [
    {
     "data": {
      "text/plain": [
       "54.848800834202294"
      ]
     },
     "execution_count": 23,
     "metadata": {},
     "output_type": "execute_result"
    }
   ],
=======
   "outputs": [],
>>>>>>> dfcc0060b7854b0fb91df91cfaa6a741ebad29b8
   "source": [
    "more_than_or_equal_to_65_validation = uniques_validation_per_variable[uniques_validation_per_variable['Age'] >= 65]\n",
    "percentage_group_one_validation = (more_than_or_equal_to_65_validation[\"Age\"].count() / uniques_validation_per_variable[\"Age\"].count())*100\n",
    "percentage_group_one_validation = round(percentage_group_one_validation, 1)"
   ]
  },
  {
   "cell_type": "markdown",
   "metadata": {},
   "source": [
    "<h3>Dividing age into subgroup of people under 65 years of age</h3>"
   ]
  },
  {
   "cell_type": "code",
   "execution_count": 68,
   "metadata": {},
<<<<<<< HEAD
   "outputs": [
    {
     "data": {
      "text/plain": [
       "45.151199165797706"
      ]
     },
     "execution_count": 24,
     "metadata": {},
     "output_type": "execute_result"
    }
   ],
=======
   "outputs": [],
>>>>>>> dfcc0060b7854b0fb91df91cfaa6a741ebad29b8
   "source": [
    "less_than_65 = uniques_validation_per_variable[uniques_validation_per_variable['Age'] < 65]\n",
    "percentage_group_two_validation = (less_than_65[\"Age\"].count() / uniques_validation_per_variable[\"Age\"].count()) * 100\n",
    "percentage_group_two_validation =  round(percentage_group_two_validation, 1)"
   ]
  },
  {
   "cell_type": "markdown",
   "metadata": {},
   "source": [
    "<h3>Filtering only one height and one weight per patient</h3>"
   ]
  },
  {
   "cell_type": "code",
   "execution_count": 32,
   "metadata": {},
   "outputs": [],
   "source": [
    "filtered_validation_X = validation_X[(validation_X['Height'] != -1) & (validation_X['Weight'] != -1) & (validation_X['Height'].notna()) & (validation_X['Weight'].notna())] "
   ]
  },
  {
   "cell_type": "code",
   "execution_count": 33,
   "metadata": {},
   "outputs": [
    {
     "data": {
      "text/html": [
       "<div>\n",
       "<style scoped>\n",
       "    .dataframe tbody tr th:only-of-type {\n",
       "        vertical-align: middle;\n",
       "    }\n",
       "\n",
       "    .dataframe tbody tr th {\n",
       "        vertical-align: top;\n",
       "    }\n",
       "\n",
       "    .dataframe thead th {\n",
       "        text-align: right;\n",
       "    }\n",
       "</style>\n",
       "<table border=\"1\" class=\"dataframe\">\n",
       "  <thead>\n",
       "    <tr style=\"text-align: right;\">\n",
       "      <th></th>\n",
       "      <th>RecordID</th>\n",
       "      <th>level_1</th>\n",
       "      <th>Time</th>\n",
       "      <th>ALP</th>\n",
       "      <th>ALT</th>\n",
       "      <th>AST</th>\n",
       "      <th>Age</th>\n",
       "      <th>Albumin</th>\n",
       "      <th>BUN</th>\n",
       "      <th>Bilirubin</th>\n",
       "      <th>...</th>\n",
       "      <th>RespRate</th>\n",
       "      <th>SaO2</th>\n",
       "      <th>SysABP</th>\n",
       "      <th>Temp</th>\n",
       "      <th>TroponinI</th>\n",
       "      <th>TroponinT</th>\n",
       "      <th>Urine</th>\n",
       "      <th>WBC</th>\n",
       "      <th>Weight</th>\n",
       "      <th>pH</th>\n",
       "    </tr>\n",
       "  </thead>\n",
       "  <tbody>\n",
       "    <tr>\n",
       "      <th>0</th>\n",
<<<<<<< HEAD
       "      <td>132567</td>\n",
=======
       "      <td>132568</td>\n",
>>>>>>> dfcc0060b7854b0fb91df91cfaa6a741ebad29b8
       "      <td>0</td>\n",
       "      <td>0.0</td>\n",
       "      <td>NaN</td>\n",
       "      <td>NaN</td>\n",
       "      <td>NaN</td>\n",
<<<<<<< HEAD
       "      <td>71.0</td>\n",
       "      <td>NaN</td>\n",
       "      <td>9.0</td>\n",
       "      <td>NaN</td>\n",
       "      <td>...</td>\n",
       "      <td>NaN</td>\n",
       "      <td>98.0</td>\n",
       "      <td>111.50</td>\n",
       "      <td>35.6</td>\n",
       "      <td>NaN</td>\n",
       "      <td>NaN</td>\n",
       "      <td>15.0</td>\n",
       "      <td>9.0</td>\n",
       "      <td>56.0</td>\n",
       "      <td>7.44</td>\n",
       "    </tr>\n",
       "    <tr>\n",
       "      <th>1</th>\n",
       "      <td>132614</td>\n",
=======
       "      <td>66.0</td>\n",
       "      <td>NaN</td>\n",
       "      <td>18.0</td>\n",
       "      <td>NaN</td>\n",
       "      <td>...</td>\n",
       "      <td>NaN</td>\n",
       "      <td>NaN</td>\n",
       "      <td>NaN</td>\n",
       "      <td>36.1</td>\n",
       "      <td>NaN</td>\n",
       "      <td>NaN</td>\n",
       "      <td>220.0</td>\n",
       "      <td>14.8</td>\n",
       "      <td>84.5</td>\n",
       "      <td>NaN</td>\n",
       "    </tr>\n",
       "    <tr>\n",
       "      <th>1</th>\n",
       "      <td>132575</td>\n",
>>>>>>> dfcc0060b7854b0fb91df91cfaa6a741ebad29b8
       "      <td>0</td>\n",
       "      <td>0.0</td>\n",
       "      <td>NaN</td>\n",
       "      <td>NaN</td>\n",
       "      <td>NaN</td>\n",
<<<<<<< HEAD
       "      <td>77.0</td>\n",
       "      <td>NaN</td>\n",
=======
       "      <td>78.0</td>\n",
>>>>>>> dfcc0060b7854b0fb91df91cfaa6a741ebad29b8
       "      <td>NaN</td>\n",
       "      <td>18.0</td>\n",
       "      <td>NaN</td>\n",
       "      <td>...</td>\n",
       "      <td>NaN</td>\n",
       "      <td>96.0</td>\n",
       "      <td>122.0</td>\n",
       "      <td>37.4</td>\n",
       "      <td>NaN</td>\n",
       "      <td>NaN</td>\n",
<<<<<<< HEAD
       "      <td>NaN</td>\n",
       "      <td>NaN</td>\n",
       "      <td>NaN</td>\n",
       "      <td>NaN</td>\n",
       "      <td>NaN</td>\n",
       "      <td>59.0</td>\n",
       "      <td>NaN</td>\n",
       "    </tr>\n",
       "    <tr>\n",
       "      <th>2</th>\n",
       "      <td>132639</td>\n",
=======
       "      <td>38.0</td>\n",
       "      <td>12.5</td>\n",
       "      <td>63.0</td>\n",
       "      <td>7.34</td>\n",
       "    </tr>\n",
       "    <tr>\n",
       "      <th>2</th>\n",
       "      <td>132588</td>\n",
>>>>>>> dfcc0060b7854b0fb91df91cfaa6a741ebad29b8
       "      <td>0</td>\n",
       "      <td>0.0</td>\n",
       "      <td>NaN</td>\n",
       "      <td>NaN</td>\n",
       "      <td>NaN</td>\n",
<<<<<<< HEAD
       "      <td>73.0</td>\n",
       "      <td>NaN</td>\n",
       "      <td>18.0</td>\n",
       "      <td>NaN</td>\n",
       "      <td>...</td>\n",
       "      <td>NaN</td>\n",
       "      <td>95.0</td>\n",
       "      <td>110.00</td>\n",
       "      <td>36.9</td>\n",
       "      <td>NaN</td>\n",
       "      <td>NaN</td>\n",
       "      <td>30.0</td>\n",
       "      <td>10.2</td>\n",
       "      <td>96.3</td>\n",
       "      <td>7.36</td>\n",
       "    </tr>\n",
       "    <tr>\n",
       "      <th>3</th>\n",
       "      <td>132694</td>\n",
=======
       "      <td>48.0</td>\n",
       "      <td>NaN</td>\n",
       "      <td>NaN</td>\n",
       "      <td>NaN</td>\n",
       "      <td>...</td>\n",
       "      <td>NaN</td>\n",
       "      <td>NaN</td>\n",
       "      <td>NaN</td>\n",
       "      <td>NaN</td>\n",
       "      <td>NaN</td>\n",
       "      <td>NaN</td>\n",
       "      <td>NaN</td>\n",
       "      <td>NaN</td>\n",
       "      <td>42.3</td>\n",
       "      <td>NaN</td>\n",
       "    </tr>\n",
       "    <tr>\n",
       "      <th>3</th>\n",
       "      <td>132590</td>\n",
>>>>>>> dfcc0060b7854b0fb91df91cfaa6a741ebad29b8
       "      <td>0</td>\n",
       "      <td>0.0</td>\n",
       "      <td>NaN</td>\n",
       "      <td>NaN</td>\n",
       "      <td>NaN</td>\n",
<<<<<<< HEAD
       "      <td>61.0</td>\n",
=======
       "      <td>58.0</td>\n",
>>>>>>> dfcc0060b7854b0fb91df91cfaa6a741ebad29b8
       "      <td>NaN</td>\n",
       "      <td>NaN</td>\n",
       "      <td>NaN</td>\n",
       "      <td>...</td>\n",
       "      <td>NaN</td>\n",
       "      <td>NaN</td>\n",
       "      <td>119.0</td>\n",
       "      <td>36.8</td>\n",
       "      <td>NaN</td>\n",
       "      <td>NaN</td>\n",
       "      <td>70.0</td>\n",
       "      <td>NaN</td>\n",
       "      <td>98.0</td>\n",
       "      <td>NaN</td>\n",
<<<<<<< HEAD
       "      <td>36.1</td>\n",
       "      <td>NaN</td>\n",
       "      <td>NaN</td>\n",
       "      <td>NaN</td>\n",
       "      <td>NaN</td>\n",
       "      <td>165.0</td>\n",
       "      <td>NaN</td>\n",
       "    </tr>\n",
       "    <tr>\n",
       "      <th>4</th>\n",
       "      <td>132744</td>\n",
=======
       "    </tr>\n",
       "    <tr>\n",
       "      <th>4</th>\n",
       "      <td>132614</td>\n",
>>>>>>> dfcc0060b7854b0fb91df91cfaa6a741ebad29b8
       "      <td>0</td>\n",
       "      <td>0.0</td>\n",
       "      <td>NaN</td>\n",
       "      <td>NaN</td>\n",
       "      <td>NaN</td>\n",
<<<<<<< HEAD
       "      <td>70.0</td>\n",
=======
       "      <td>77.0</td>\n",
>>>>>>> dfcc0060b7854b0fb91df91cfaa6a741ebad29b8
       "      <td>NaN</td>\n",
       "      <td>NaN</td>\n",
       "      <td>NaN</td>\n",
       "      <td>...</td>\n",
       "      <td>NaN</td>\n",
<<<<<<< HEAD
       "      <td>NaN</td>\n",
       "      <td>90.75</td>\n",
       "      <td>37.2</td>\n",
       "      <td>NaN</td>\n",
       "      <td>NaN</td>\n",
       "      <td>24.0</td>\n",
       "      <td>NaN</td>\n",
       "      <td>95.3</td>\n",
       "      <td>7.34</td>\n",
=======
       "      <td>NaN</td>\n",
       "      <td>NaN</td>\n",
       "      <td>NaN</td>\n",
       "      <td>NaN</td>\n",
       "      <td>NaN</td>\n",
       "      <td>NaN</td>\n",
       "      <td>NaN</td>\n",
       "      <td>59.0</td>\n",
       "      <td>NaN</td>\n",
>>>>>>> dfcc0060b7854b0fb91df91cfaa6a741ebad29b8
       "    </tr>\n",
       "  </tbody>\n",
       "</table>\n",
       "<p>5 rows × 44 columns</p>\n",
       "</div>"
      ],
      "text/plain": [
       "   RecordID  level_1  Time  ALP  ALT  AST   Age  Albumin   BUN  Bilirubin  \\\n",
<<<<<<< HEAD
       "0    132567        0   0.0  NaN  NaN  NaN  71.0      NaN   9.0        NaN   \n",
       "1    132614        0   0.0  NaN  NaN  NaN  77.0      NaN   NaN        NaN   \n",
       "2    132639        0   0.0  NaN  NaN  NaN  73.0      NaN  18.0        NaN   \n",
       "3    132694        0   0.0  NaN  NaN  NaN  61.0      NaN   NaN        NaN   \n",
       "4    132744        0   0.0  NaN  NaN  NaN  70.0      NaN   NaN        NaN   \n",
       "\n",
       "   ...  RespRate  SaO2  SysABP  Temp  TroponinI  TroponinT  Urine   WBC  \\\n",
       "0  ...       NaN  98.0  111.50  35.6        NaN        NaN   15.0   9.0   \n",
       "1  ...       NaN   NaN     NaN   NaN        NaN        NaN    NaN   NaN   \n",
       "2  ...       NaN  95.0  110.00  36.9        NaN        NaN   30.0  10.2   \n",
       "3  ...       NaN   NaN     NaN  36.1        NaN        NaN    NaN   NaN   \n",
       "4  ...       NaN   NaN   90.75  37.2        NaN        NaN   24.0   NaN   \n",
       "\n",
       "   Weight    pH  \n",
       "0    56.0  7.44  \n",
       "1    59.0   NaN  \n",
       "2    96.3  7.36  \n",
       "3   165.0   NaN  \n",
       "4    95.3  7.34  \n",
=======
       "0    132568        0   0.0  NaN  NaN  NaN  66.0      NaN  18.0        NaN   \n",
       "1    132575        0   0.0  NaN  NaN  NaN  78.0      NaN  18.0        NaN   \n",
       "2    132588        0   0.0  NaN  NaN  NaN  48.0      NaN   NaN        NaN   \n",
       "3    132590        0   0.0  NaN  NaN  NaN  58.0      NaN   NaN        NaN   \n",
       "4    132614        0   0.0  NaN  NaN  NaN  77.0      NaN   NaN        NaN   \n",
       "\n",
       "   ...  RespRate  SaO2  SysABP  Temp  TroponinI  TroponinT  Urine   WBC  \\\n",
       "0  ...       NaN   NaN     NaN  36.1        NaN        NaN  220.0  14.8   \n",
       "1  ...       NaN  96.0   122.0  37.4        NaN        NaN   38.0  12.5   \n",
       "2  ...       NaN   NaN     NaN   NaN        NaN        NaN    NaN   NaN   \n",
       "3  ...       NaN   NaN   119.0  36.8        NaN        NaN   70.0   NaN   \n",
       "4  ...       NaN   NaN     NaN   NaN        NaN        NaN    NaN   NaN   \n",
       "\n",
       "   Weight    pH  \n",
       "0    84.5   NaN  \n",
       "1    63.0  7.34  \n",
       "2    42.3   NaN  \n",
       "3    98.0   NaN  \n",
       "4    59.0   NaN  \n",
>>>>>>> dfcc0060b7854b0fb91df91cfaa6a741ebad29b8
       "\n",
       "[5 rows x 44 columns]"
      ]
     },
     "execution_count": 33,
     "metadata": {},
     "output_type": "execute_result"
    }
   ],
   "source": [
    "filtered_uniques_validation = filtered_validation_X.groupby('RecordID').first().reset_index() \n",
    "filtered_uniques_validation.head()"
   ]
  },
  {
   "cell_type": "code",
   "execution_count": 34,
   "metadata": {},
   "outputs": [],
   "source": [
    "filtered_uniques_validation['Height'] = filtered_uniques_validation['Height'] / 100 # Converting Height from cm to meters"
   ]
  },
  {
   "cell_type": "code",
   "execution_count": 35,
   "metadata": {},
   "outputs": [
    {
     "data": {
      "text/html": [
       "<div>\n",
       "<style scoped>\n",
       "    .dataframe tbody tr th:only-of-type {\n",
       "        vertical-align: middle;\n",
       "    }\n",
       "\n",
       "    .dataframe tbody tr th {\n",
       "        vertical-align: top;\n",
       "    }\n",
       "\n",
       "    .dataframe thead th {\n",
       "        text-align: right;\n",
       "    }\n",
       "</style>\n",
       "<table border=\"1\" class=\"dataframe\">\n",
       "  <thead>\n",
       "    <tr style=\"text-align: right;\">\n",
       "      <th></th>\n",
       "      <th>RecordID</th>\n",
       "      <th>Height</th>\n",
       "      <th>Weight</th>\n",
       "      <th>BMI</th>\n",
       "      <th>Classificacao</th>\n",
       "    </tr>\n",
       "  </thead>\n",
       "  <tbody>\n",
       "    <tr>\n",
       "      <th>0</th>\n",
<<<<<<< HEAD
       "      <td>132567</td>\n",
       "      <td>1.575</td>\n",
       "      <td>56.0</td>\n",
       "      <td>22.574956</td>\n",
       "      <td>Peso normal</td>\n",
       "    </tr>\n",
       "    <tr>\n",
       "      <th>1</th>\n",
       "      <td>132614</td>\n",
       "      <td>1.626</td>\n",
       "      <td>59.0</td>\n",
       "      <td>22.315721</td>\n",
=======
       "      <td>132568</td>\n",
       "      <td>1.575</td>\n",
       "      <td>84.5</td>\n",
       "      <td>34.063996</td>\n",
       "      <td>Obesidade grau 1</td>\n",
       "    </tr>\n",
       "    <tr>\n",
       "      <th>1</th>\n",
       "      <td>132575</td>\n",
       "      <td>1.676</td>\n",
       "      <td>63.0</td>\n",
       "      <td>22.428102</td>\n",
>>>>>>> dfcc0060b7854b0fb91df91cfaa6a741ebad29b8
       "      <td>Peso normal</td>\n",
       "    </tr>\n",
       "    <tr>\n",
       "      <th>2</th>\n",
<<<<<<< HEAD
       "      <td>132639</td>\n",
       "      <td>1.803</td>\n",
       "      <td>96.3</td>\n",
       "      <td>29.623395</td>\n",
       "      <td>Sobrepeso</td>\n",
       "    </tr>\n",
       "    <tr>\n",
       "      <th>3</th>\n",
       "      <td>132694</td>\n",
       "      <td>1.702</td>\n",
       "      <td>165.0</td>\n",
       "      <td>56.959325</td>\n",
       "      <td>Obesidade grau 3</td>\n",
       "    </tr>\n",
       "    <tr>\n",
       "      <th>4</th>\n",
       "      <td>132744</td>\n",
       "      <td>1.702</td>\n",
       "      <td>95.3</td>\n",
       "      <td>32.898325</td>\n",
       "      <td>Obesidade grau 1</td>\n",
=======
       "      <td>132588</td>\n",
       "      <td>1.549</td>\n",
       "      <td>42.3</td>\n",
       "      <td>17.629400</td>\n",
       "      <td>Baixo peso</td>\n",
       "    </tr>\n",
       "    <tr>\n",
       "      <th>3</th>\n",
       "      <td>132590</td>\n",
       "      <td>1.880</td>\n",
       "      <td>98.0</td>\n",
       "      <td>27.727478</td>\n",
       "      <td>Sobrepeso</td>\n",
       "    </tr>\n",
       "    <tr>\n",
       "      <th>4</th>\n",
       "      <td>132614</td>\n",
       "      <td>1.626</td>\n",
       "      <td>59.0</td>\n",
       "      <td>22.315721</td>\n",
       "      <td>Peso normal</td>\n",
>>>>>>> dfcc0060b7854b0fb91df91cfaa6a741ebad29b8
       "    </tr>\n",
       "  </tbody>\n",
       "</table>\n",
       "</div>"
      ],
      "text/plain": [
       "   RecordID  Height  Weight        BMI     Classificacao\n",
<<<<<<< HEAD
       "0    132567   1.575    56.0  22.574956       Peso normal\n",
       "1    132614   1.626    59.0  22.315721       Peso normal\n",
       "2    132639   1.803    96.3  29.623395         Sobrepeso\n",
       "3    132694   1.702   165.0  56.959325  Obesidade grau 3\n",
       "4    132744   1.702    95.3  32.898325  Obesidade grau 1"
=======
       "0    132568   1.575    84.5  34.063996  Obesidade grau 1\n",
       "1    132575   1.676    63.0  22.428102       Peso normal\n",
       "2    132588   1.549    42.3  17.629400        Baixo peso\n",
       "3    132590   1.880    98.0  27.727478         Sobrepeso\n",
       "4    132614   1.626    59.0  22.315721       Peso normal"
>>>>>>> dfcc0060b7854b0fb91df91cfaa6a741ebad29b8
      ]
     },
     "execution_count": 35,
     "metadata": {},
     "output_type": "execute_result"
    }
   ],
   "source": [
    "bmi_data_validation = pd.DataFrame(columns=['RecordID', 'Height', 'Weight', 'BMI', 'Classificacao'])\n",
    "bmi_data_validation[\"RecordID\"] = filtered_uniques_validation[\"RecordID\"]\n",
    "bmi_data_validation[\"Height\"] = filtered_uniques_validation[\"Height\"]\n",
    "bmi_data_validation[\"Weight\"] = filtered_uniques_validation[\"Weight\"]\n",
    "bmi_data_validation[\"BMI\"] = filtered_uniques_validation[\"Weight\"] / (filtered_uniques_validation[\"Height\"] ** 2)\n",
    "bmi_data_validation[\"Classificacao\"] = bmi_data_validation[\"BMI\"].apply(classify_BMI)\n",
    "bmi_data_validation.head()"
   ]
  },
  {
   "cell_type": "markdown",
   "metadata": {},
   "source": [
    "<h3>Percentage of BMI classification groups</h3>"
   ]
  },
  {
   "cell_type": "code",
   "execution_count": 36,
   "metadata": {},
   "outputs": [],
   "source": [
    "percentage_bmi_validation = bmi_data_validation[\"Classificacao\"].value_counts(normalize=True) * 100"
   ]
  },
  {
   "cell_type": "code",
   "execution_count": 69,
   "metadata": {},
   "outputs": [],
   "source": [
    "percentage_bmi_validation = round(percentage_bmi_validation, 1)"
   ]
  },
  {
   "cell_type": "markdown",
   "metadata": {},
   "source": [
    "<h2>Test data</h2>"
   ]
  },
  {
   "cell_type": "code",
   "execution_count": 39,
   "metadata": {},
   "outputs": [],
   "source": [
    "test_X = physionet2012_dataset['test_X']"
   ]
  },
  {
   "cell_type": "markdown",
   "metadata": {},
   "source": [
    "<h3>Divided into subgroups by gender and showing the percentage</h3>\n"
   ]
  },
  {
   "cell_type": "code",
   "execution_count": 70,
   "metadata": {},
<<<<<<< HEAD
   "outputs": [
    {
     "data": {
      "text/plain": [
       "Gender\n",
       " 1.0    54.689454\n",
       " 0.0    45.268862\n",
       "-1.0     0.041684\n",
       "Name: proportion, dtype: float64"
      ]
     },
     "execution_count": 31,
     "metadata": {},
     "output_type": "execute_result"
    }
   ],
=======
   "outputs": [],
>>>>>>> dfcc0060b7854b0fb91df91cfaa6a741ebad29b8
   "source": [
    "distribution_gender_test = test_X['Gender'].value_counts(normalize=True) * 100\n",
    "distribution_gender_test = round(distribution_gender_test, 1) # 0: female, or 1: male"
   ]
  },
  {
   "cell_type": "markdown",
   "metadata": {},
   "source": [
    "<h3>Divided into subgroups by ICUType and showing the percentage</h3>\n"
   ]
  },
  {
   "cell_type": "code",
   "execution_count": 71,
   "metadata": {},
<<<<<<< HEAD
   "outputs": [
    {
     "data": {
      "text/plain": [
       "ICUType\n",
       "3.0    34.514381\n",
       "4.0    28.136724\n",
       "2.0    21.634014\n",
       "1.0    15.714881\n",
       "Name: proportion, dtype: float64"
      ]
     },
     "execution_count": 32,
     "metadata": {},
     "output_type": "execute_result"
    }
   ],
=======
   "outputs": [],
>>>>>>> dfcc0060b7854b0fb91df91cfaa6a741ebad29b8
   "source": [
    "distribution_ICUType_test= test_X['ICUType'].value_counts(normalize=True) * 100\n",
    "distribution_ICUType_test = round(distribution_ICUType_test, 1)"
   ]
  },
  {
   "cell_type": "markdown",
   "metadata": {},
   "source": [
    "<h3>Filtering only one age per patient</h3>\n"
   ]
  },
  {
   "cell_type": "code",
   "execution_count": 44,
   "metadata": {},
   "outputs": [
    {
     "data": {
      "text/html": [
       "<div>\n",
       "<style scoped>\n",
       "    .dataframe tbody tr th:only-of-type {\n",
       "        vertical-align: middle;\n",
       "    }\n",
       "\n",
       "    .dataframe tbody tr th {\n",
       "        vertical-align: top;\n",
       "    }\n",
       "\n",
       "    .dataframe thead th {\n",
       "        text-align: right;\n",
       "    }\n",
       "</style>\n",
       "<table border=\"1\" class=\"dataframe\">\n",
       "  <thead>\n",
       "    <tr style=\"text-align: right;\">\n",
       "      <th></th>\n",
       "      <th>RecordID</th>\n",
       "      <th>level_1</th>\n",
       "      <th>Time</th>\n",
       "      <th>ALP</th>\n",
       "      <th>ALT</th>\n",
       "      <th>AST</th>\n",
       "      <th>Age</th>\n",
       "      <th>Albumin</th>\n",
       "      <th>BUN</th>\n",
       "      <th>Bilirubin</th>\n",
       "      <th>...</th>\n",
       "      <th>RespRate</th>\n",
       "      <th>SaO2</th>\n",
       "      <th>SysABP</th>\n",
       "      <th>Temp</th>\n",
       "      <th>TroponinI</th>\n",
       "      <th>TroponinT</th>\n",
       "      <th>Urine</th>\n",
       "      <th>WBC</th>\n",
       "      <th>Weight</th>\n",
       "      <th>pH</th>\n",
       "    </tr>\n",
       "  </thead>\n",
       "  <tbody>\n",
       "    <tr>\n",
       "      <th>0</th>\n",
<<<<<<< HEAD
       "      <td>132540</td>\n",
       "      <td>0</td>\n",
       "      <td>0.0</td>\n",
       "      <td>NaN</td>\n",
       "      <td>NaN</td>\n",
       "      <td>NaN</td>\n",
       "      <td>76.0</td>\n",
       "      <td>NaN</td>\n",
       "      <td>16.0</td>\n",
       "      <td>NaN</td>\n",
       "      <td>...</td>\n",
       "      <td>NaN</td>\n",
       "      <td>99.0</td>\n",
       "      <td>103.00</td>\n",
       "      <td>34.88</td>\n",
       "      <td>NaN</td>\n",
       "      <td>NaN</td>\n",
       "      <td>316.666667</td>\n",
       "      <td>7.4</td>\n",
       "      <td>76.0</td>\n",
       "      <td>7.45</td>\n",
       "    </tr>\n",
       "    <tr>\n",
       "      <th>1</th>\n",
       "      <td>132541</td>\n",
       "      <td>0</td>\n",
       "      <td>0.0</td>\n",
       "      <td>127.0</td>\n",
       "      <td>91.0</td>\n",
       "      <td>235.0</td>\n",
       "      <td>44.0</td>\n",
       "      <td>2.7</td>\n",
       "      <td>8.0</td>\n",
       "      <td>3.0</td>\n",
       "      <td>...</td>\n",
       "      <td>NaN</td>\n",
       "      <td>95.0</td>\n",
       "      <td>148.00</td>\n",
       "      <td>37.80</td>\n",
=======
       "      <td>132541</td>\n",
       "      <td>0</td>\n",
       "      <td>0.0</td>\n",
       "      <td>127.0</td>\n",
       "      <td>91.0</td>\n",
       "      <td>235.0</td>\n",
       "      <td>44.0</td>\n",
       "      <td>2.7</td>\n",
       "      <td>8.0</td>\n",
       "      <td>3.0</td>\n",
       "      <td>...</td>\n",
       "      <td>NaN</td>\n",
       "      <td>95.0</td>\n",
       "      <td>148.0</td>\n",
       "      <td>37.8</td>\n",
       "      <td>NaN</td>\n",
       "      <td>NaN</td>\n",
       "      <td>100.000000</td>\n",
       "      <td>4.2</td>\n",
       "      <td>56.7</td>\n",
       "      <td>7.51</td>\n",
       "    </tr>\n",
       "    <tr>\n",
       "      <th>1</th>\n",
       "      <td>132548</td>\n",
       "      <td>0</td>\n",
       "      <td>0.0</td>\n",
       "      <td>NaN</td>\n",
       "      <td>NaN</td>\n",
       "      <td>NaN</td>\n",
       "      <td>68.0</td>\n",
       "      <td>NaN</td>\n",
       "      <td>32.0</td>\n",
       "      <td>NaN</td>\n",
       "      <td>...</td>\n",
       "      <td>14.5</td>\n",
       "      <td>NaN</td>\n",
       "      <td>205.0</td>\n",
       "      <td>36.3</td>\n",
       "      <td>0.7</td>\n",
>>>>>>> dfcc0060b7854b0fb91df91cfaa6a741ebad29b8
       "      <td>NaN</td>\n",
       "      <td>120.000000</td>\n",
       "      <td>6.2</td>\n",
       "      <td>87.0</td>\n",
       "      <td>NaN</td>\n",
<<<<<<< HEAD
       "      <td>100.000000</td>\n",
       "      <td>4.2</td>\n",
       "      <td>56.7</td>\n",
       "      <td>7.51</td>\n",
       "    </tr>\n",
       "    <tr>\n",
       "      <th>2</th>\n",
       "      <td>132551</td>\n",
       "      <td>0</td>\n",
       "      <td>0.0</td>\n",
       "      <td>47.0</td>\n",
       "      <td>46.0</td>\n",
       "      <td>82.0</td>\n",
       "      <td>78.0</td>\n",
       "      <td>1.9</td>\n",
       "      <td>81.0</td>\n",
       "      <td>0.3</td>\n",
       "      <td>...</td>\n",
       "      <td>NaN</td>\n",
       "      <td>97.0</td>\n",
       "      <td>102.75</td>\n",
       "      <td>38.00</td>\n",
       "      <td>3.5</td>\n",
       "      <td>NaN</td>\n",
       "      <td>120.000000</td>\n",
       "      <td>16.1</td>\n",
       "      <td>48.4</td>\n",
       "      <td>7.40</td>\n",
       "    </tr>\n",
       "    <tr>\n",
       "      <th>3</th>\n",
       "      <td>132556</td>\n",
       "      <td>0</td>\n",
       "      <td>0.0</td>\n",
       "      <td>402.0</td>\n",
       "      <td>36.0</td>\n",
       "      <td>47.0</td>\n",
       "      <td>64.0</td>\n",
       "      <td>2.7</td>\n",
       "      <td>64.0</td>\n",
       "      <td>0.1</td>\n",
       "      <td>...</td>\n",
       "      <td>10.0</td>\n",
       "      <td>NaN</td>\n",
       "      <td>NaN</td>\n",
       "      <td>36.70</td>\n",
       "      <td>NaN</td>\n",
=======
       "    </tr>\n",
       "    <tr>\n",
       "      <th>2</th>\n",
       "      <td>132567</td>\n",
       "      <td>0</td>\n",
       "      <td>0.0</td>\n",
       "      <td>NaN</td>\n",
       "      <td>NaN</td>\n",
       "      <td>NaN</td>\n",
       "      <td>71.0</td>\n",
       "      <td>NaN</td>\n",
       "      <td>9.0</td>\n",
       "      <td>NaN</td>\n",
       "      <td>...</td>\n",
       "      <td>NaN</td>\n",
       "      <td>98.0</td>\n",
       "      <td>111.5</td>\n",
       "      <td>35.6</td>\n",
       "      <td>NaN</td>\n",
       "      <td>NaN</td>\n",
       "      <td>1003.333333</td>\n",
       "      <td>13.7</td>\n",
       "      <td>56.0</td>\n",
       "      <td>7.44</td>\n",
       "    </tr>\n",
       "    <tr>\n",
       "      <th>3</th>\n",
       "      <td>132570</td>\n",
       "      <td>0</td>\n",
       "      <td>0.0</td>\n",
       "      <td>19.0</td>\n",
       "      <td>15.0</td>\n",
       "      <td>20.0</td>\n",
       "      <td>84.0</td>\n",
       "      <td>NaN</td>\n",
       "      <td>83.0</td>\n",
       "      <td>0.1</td>\n",
       "      <td>...</td>\n",
       "      <td>16.5</td>\n",
       "      <td>98.0</td>\n",
       "      <td>NaN</td>\n",
       "      <td>36.6</td>\n",
>>>>>>> dfcc0060b7854b0fb91df91cfaa6a741ebad29b8
       "      <td>NaN</td>\n",
       "      <td>200.000000</td>\n",
       "      <td>21.8</td>\n",
       "      <td>65.0</td>\n",
       "      <td>NaN</td>\n",
<<<<<<< HEAD
       "    </tr>\n",
       "    <tr>\n",
       "      <th>4</th>\n",
       "      <td>132577</td>\n",
       "      <td>0</td>\n",
       "      <td>0.0</td>\n",
       "      <td>NaN</td>\n",
       "      <td>NaN</td>\n",
=======
       "      <td>600.000000</td>\n",
       "      <td>8.8</td>\n",
       "      <td>102.6</td>\n",
       "      <td>NaN</td>\n",
       "    </tr>\n",
       "    <tr>\n",
       "      <th>4</th>\n",
       "      <td>132585</td>\n",
       "      <td>0</td>\n",
       "      <td>0.0</td>\n",
       "      <td>NaN</td>\n",
       "      <td>NaN</td>\n",
       "      <td>NaN</td>\n",
       "      <td>40.0</td>\n",
       "      <td>NaN</td>\n",
       "      <td>10.0</td>\n",
       "      <td>NaN</td>\n",
       "      <td>...</td>\n",
       "      <td>NaN</td>\n",
       "      <td>99.0</td>\n",
       "      <td>101.5</td>\n",
       "      <td>35.7</td>\n",
>>>>>>> dfcc0060b7854b0fb91df91cfaa6a741ebad29b8
       "      <td>NaN</td>\n",
       "      <td>65.0</td>\n",
       "      <td>NaN</td>\n",
<<<<<<< HEAD
       "      <td>36.0</td>\n",
       "      <td>NaN</td>\n",
       "      <td>...</td>\n",
       "      <td>24.0</td>\n",
       "      <td>96.0</td>\n",
       "      <td>145.00</td>\n",
       "      <td>38.80</td>\n",
       "      <td>NaN</td>\n",
       "      <td>NaN</td>\n",
       "      <td>80.000000</td>\n",
       "      <td>9.4</td>\n",
       "      <td>66.3</td>\n",
       "      <td>7.34</td>\n",
=======
       "      <td>416.666667</td>\n",
       "      <td>13.0</td>\n",
       "      <td>84.7</td>\n",
       "      <td>7.11</td>\n",
>>>>>>> dfcc0060b7854b0fb91df91cfaa6a741ebad29b8
       "    </tr>\n",
       "  </tbody>\n",
       "</table>\n",
       "<p>5 rows × 44 columns</p>\n",
       "</div>"
      ],
      "text/plain": [
       "   RecordID  level_1  Time    ALP   ALT    AST   Age  Albumin   BUN  \\\n",
<<<<<<< HEAD
       "0    132540        0   0.0    NaN   NaN    NaN  76.0      NaN  16.0   \n",
       "1    132541        0   0.0  127.0  91.0  235.0  44.0      2.7   8.0   \n",
       "2    132551        0   0.0   47.0  46.0   82.0  78.0      1.9  81.0   \n",
       "3    132556        0   0.0  402.0  36.0   47.0  64.0      2.7  64.0   \n",
       "4    132577        0   0.0    NaN   NaN    NaN  65.0      NaN  36.0   \n",
       "\n",
       "   Bilirubin  ...  RespRate  SaO2  SysABP   Temp  TroponinI  TroponinT  \\\n",
       "0        NaN  ...       NaN  99.0  103.00  34.88        NaN        NaN   \n",
       "1        3.0  ...       NaN  95.0  148.00  37.80        NaN        NaN   \n",
       "2        0.3  ...       NaN  97.0  102.75  38.00        3.5        NaN   \n",
       "3        0.1  ...      10.0   NaN     NaN  36.70        NaN        NaN   \n",
       "4        NaN  ...      24.0  96.0  145.00  38.80        NaN        NaN   \n",
       "\n",
       "        Urine   WBC  Weight    pH  \n",
       "0  316.666667   7.4    76.0  7.45  \n",
       "1  100.000000   4.2    56.7  7.51  \n",
       "2  120.000000  16.1    48.4  7.40  \n",
       "3  200.000000  21.8    65.0   NaN  \n",
       "4   80.000000   9.4    66.3  7.34  \n",
=======
       "0    132541        0   0.0  127.0  91.0  235.0  44.0      2.7   8.0   \n",
       "1    132548        0   0.0    NaN   NaN    NaN  68.0      NaN  32.0   \n",
       "2    132567        0   0.0    NaN   NaN    NaN  71.0      NaN   9.0   \n",
       "3    132570        0   0.0   19.0  15.0   20.0  84.0      NaN  83.0   \n",
       "4    132585        0   0.0    NaN   NaN    NaN  40.0      NaN  10.0   \n",
       "\n",
       "   Bilirubin  ...  RespRate  SaO2  SysABP  Temp  TroponinI  TroponinT  \\\n",
       "0        3.0  ...       NaN  95.0   148.0  37.8        NaN        NaN   \n",
       "1        NaN  ...      14.5   NaN   205.0  36.3        0.7        NaN   \n",
       "2        NaN  ...       NaN  98.0   111.5  35.6        NaN        NaN   \n",
       "3        0.1  ...      16.5  98.0     NaN  36.6        NaN        NaN   \n",
       "4        NaN  ...       NaN  99.0   101.5  35.7        NaN        NaN   \n",
       "\n",
       "         Urine   WBC  Weight    pH  \n",
       "0   100.000000   4.2    56.7  7.51  \n",
       "1   120.000000   6.2    87.0   NaN  \n",
       "2  1003.333333  13.7    56.0  7.44  \n",
       "3   600.000000   8.8   102.6   NaN  \n",
       "4   416.666667  13.0    84.7  7.11  \n",
>>>>>>> dfcc0060b7854b0fb91df91cfaa6a741ebad29b8
       "\n",
       "[5 rows x 44 columns]"
      ]
     },
     "execution_count": 44,
     "metadata": {},
     "output_type": "execute_result"
    }
   ],
   "source": [
    "uniques_test_per_variable = test_X.groupby('RecordID').first().reset_index()\n",
    "uniques_test_per_variable.head()"
   ]
  },
  {
   "cell_type": "markdown",
   "metadata": {},
   "source": [
    "<h3>Showing total occurrences of age</h3>"
   ]
  },
  {
   "cell_type": "code",
   "execution_count": 45,
   "metadata": {},
   "outputs": [
    {
     "data": {
      "text/plain": [
       "2399"
      ]
     },
     "execution_count": 45,
     "metadata": {},
     "output_type": "execute_result"
    }
   ],
   "source": [
    "uniques_test_per_variable[\"Age\"].count()"
   ]
  },
  {
   "cell_type": "markdown",
   "metadata": {},
   "source": [
    "<h3>Dividing age into subgroup of people aged 65+</h3>\n"
   ]
  },
  {
   "cell_type": "code",
   "execution_count": 72,
   "metadata": {},
<<<<<<< HEAD
   "outputs": [
    {
     "data": {
      "text/plain": [
       "54.85619007919966"
      ]
     },
     "execution_count": 35,
     "metadata": {},
     "output_type": "execute_result"
    }
   ],
=======
   "outputs": [],
>>>>>>> dfcc0060b7854b0fb91df91cfaa6a741ebad29b8
   "source": [
    "more_than_or_equal_to_65_test = uniques_test_per_variable[uniques_test_per_variable['Age'] >= 65]\n",
    "percentage_group_one_test = (more_than_or_equal_to_65_test[\"Age\"].count() / uniques_test_per_variable[\"Age\"].count())*100\n",
    "percentage_group_one_test = round(percentage_group_one_test, 1)"
   ]
  },
  {
   "cell_type": "markdown",
   "metadata": {},
   "source": [
    "<h3>Dividing age into subgroup of people under 65 years of age</h3>\n"
   ]
  },
  {
   "cell_type": "code",
   "execution_count": 73,
   "metadata": {},
<<<<<<< HEAD
   "outputs": [
    {
     "data": {
      "text/plain": [
       "45.14380992080033"
      ]
     },
     "execution_count": 36,
     "metadata": {},
     "output_type": "execute_result"
    }
   ],
=======
   "outputs": [],
>>>>>>> dfcc0060b7854b0fb91df91cfaa6a741ebad29b8
   "source": [
    "less_than_65_test = uniques_test_per_variable[uniques_test_per_variable['Age'] < 65]\n",
    "percentage_group_two_test = (less_than_65_test[\"Age\"].count() / uniques_test_per_variable[\"Age\"].count()) * 100\n",
    "percentage_group_two_test = round(percentage_group_two_test, 1)"
   ]
  },
  {
   "cell_type": "markdown",
   "metadata": {},
   "source": [
    "<h3>Filtering only one height and one weight per patient</h3>\n"
   ]
  },
  {
   "cell_type": "code",
   "execution_count": 48,
   "metadata": {},
   "outputs": [],
   "source": [
    "filtered_test_X = test_X[(test_X['Height'] != -1) & (test_X['Weight'] != -1) & (test_X['Height'].notna()) & (test_X['Weight'].notna())] "
   ]
  },
  {
   "cell_type": "code",
   "execution_count": 49,
   "metadata": {},
   "outputs": [
    {
     "data": {
      "text/html": [
       "<div>\n",
       "<style scoped>\n",
       "    .dataframe tbody tr th:only-of-type {\n",
       "        vertical-align: middle;\n",
       "    }\n",
       "\n",
       "    .dataframe tbody tr th {\n",
       "        vertical-align: top;\n",
       "    }\n",
       "\n",
       "    .dataframe thead th {\n",
       "        text-align: right;\n",
       "    }\n",
       "</style>\n",
       "<table border=\"1\" class=\"dataframe\">\n",
       "  <thead>\n",
       "    <tr style=\"text-align: right;\">\n",
       "      <th></th>\n",
       "      <th>RecordID</th>\n",
       "      <th>level_1</th>\n",
       "      <th>Time</th>\n",
       "      <th>ALP</th>\n",
       "      <th>ALT</th>\n",
       "      <th>AST</th>\n",
       "      <th>Age</th>\n",
       "      <th>Albumin</th>\n",
       "      <th>BUN</th>\n",
       "      <th>Bilirubin</th>\n",
       "      <th>...</th>\n",
       "      <th>RespRate</th>\n",
       "      <th>SaO2</th>\n",
       "      <th>SysABP</th>\n",
       "      <th>Temp</th>\n",
       "      <th>TroponinI</th>\n",
       "      <th>TroponinT</th>\n",
       "      <th>Urine</th>\n",
       "      <th>WBC</th>\n",
       "      <th>Weight</th>\n",
       "      <th>pH</th>\n",
       "    </tr>\n",
       "  </thead>\n",
       "  <tbody>\n",
       "    <tr>\n",
       "      <th>0</th>\n",
<<<<<<< HEAD
       "      <td>132540</td>\n",
=======
       "      <td>132548</td>\n",
>>>>>>> dfcc0060b7854b0fb91df91cfaa6a741ebad29b8
       "      <td>0</td>\n",
       "      <td>0.0</td>\n",
       "      <td>NaN</td>\n",
       "      <td>NaN</td>\n",
       "      <td>NaN</td>\n",
<<<<<<< HEAD
       "      <td>76.0</td>\n",
       "      <td>NaN</td>\n",
       "      <td>21.0</td>\n",
=======
       "      <td>68.0</td>\n",
       "      <td>NaN</td>\n",
       "      <td>32.0</td>\n",
>>>>>>> dfcc0060b7854b0fb91df91cfaa6a741ebad29b8
       "      <td>NaN</td>\n",
       "      <td>...</td>\n",
       "      <td>14.5</td>\n",
       "      <td>NaN</td>\n",
<<<<<<< HEAD
       "      <td>93.0</td>\n",
       "      <td>122.00</td>\n",
       "      <td>37.5</td>\n",
       "      <td>NaN</td>\n",
       "      <td>NaN</td>\n",
       "      <td>50.0</td>\n",
       "      <td>13.3</td>\n",
       "      <td>76.0</td>\n",
       "      <td>7.45</td>\n",
       "    </tr>\n",
       "    <tr>\n",
       "      <th>1</th>\n",
       "      <td>132551</td>\n",
       "      <td>0</td>\n",
       "      <td>0.0</td>\n",
       "      <td>47.0</td>\n",
       "      <td>46.0</td>\n",
       "      <td>82.0</td>\n",
       "      <td>78.0</td>\n",
       "      <td>1.9</td>\n",
       "      <td>81.0</td>\n",
       "      <td>0.3</td>\n",
       "      <td>...</td>\n",
=======
       "      <td>205.0</td>\n",
       "      <td>36.3</td>\n",
       "      <td>0.7</td>\n",
       "      <td>NaN</td>\n",
       "      <td>120.0</td>\n",
       "      <td>6.2</td>\n",
       "      <td>87.0</td>\n",
       "      <td>NaN</td>\n",
       "    </tr>\n",
       "    <tr>\n",
       "      <th>1</th>\n",
       "      <td>132567</td>\n",
       "      <td>0</td>\n",
       "      <td>0.0</td>\n",
>>>>>>> dfcc0060b7854b0fb91df91cfaa6a741ebad29b8
       "      <td>NaN</td>\n",
       "      <td>97.0</td>\n",
       "      <td>102.75</td>\n",
       "      <td>38.0</td>\n",
       "      <td>3.5</td>\n",
       "      <td>NaN</td>\n",
<<<<<<< HEAD
       "      <td>120.0</td>\n",
       "      <td>16.1</td>\n",
       "      <td>48.4</td>\n",
       "      <td>7.40</td>\n",
       "    </tr>\n",
       "    <tr>\n",
       "      <th>2</th>\n",
       "      <td>132599</td>\n",
=======
       "      <td>NaN</td>\n",
       "      <td>71.0</td>\n",
       "      <td>NaN</td>\n",
       "      <td>9.0</td>\n",
       "      <td>NaN</td>\n",
       "      <td>...</td>\n",
       "      <td>NaN</td>\n",
       "      <td>98.0</td>\n",
       "      <td>111.5</td>\n",
       "      <td>35.6</td>\n",
       "      <td>NaN</td>\n",
       "      <td>NaN</td>\n",
       "      <td>15.0</td>\n",
       "      <td>9.0</td>\n",
       "      <td>56.0</td>\n",
       "      <td>7.44</td>\n",
       "    </tr>\n",
       "    <tr>\n",
       "      <th>2</th>\n",
       "      <td>132570</td>\n",
>>>>>>> dfcc0060b7854b0fb91df91cfaa6a741ebad29b8
       "      <td>0</td>\n",
       "      <td>0.0</td>\n",
       "      <td>19.0</td>\n",
       "      <td>15.0</td>\n",
       "      <td>20.0</td>\n",
       "      <td>84.0</td>\n",
       "      <td>NaN</td>\n",
<<<<<<< HEAD
       "      <td>NaN</td>\n",
       "      <td>NaN</td>\n",
       "      <td>53.0</td>\n",
       "      <td>NaN</td>\n",
       "      <td>NaN</td>\n",
       "      <td>NaN</td>\n",
=======
       "      <td>83.0</td>\n",
       "      <td>0.1</td>\n",
>>>>>>> dfcc0060b7854b0fb91df91cfaa6a741ebad29b8
       "      <td>...</td>\n",
       "      <td>16.5</td>\n",
       "      <td>98.0</td>\n",
       "      <td>NaN</td>\n",
       "      <td>36.6</td>\n",
       "      <td>NaN</td>\n",
       "      <td>NaN</td>\n",
       "      <td>600.0</td>\n",
       "      <td>8.8</td>\n",
       "      <td>102.6</td>\n",
       "      <td>NaN</td>\n",
<<<<<<< HEAD
       "      <td>37.3</td>\n",
       "      <td>NaN</td>\n",
       "      <td>NaN</td>\n",
       "      <td>350.0</td>\n",
       "      <td>NaN</td>\n",
       "      <td>73.5</td>\n",
       "      <td>NaN</td>\n",
       "    </tr>\n",
       "    <tr>\n",
       "      <th>3</th>\n",
       "      <td>132601</td>\n",
=======
       "    </tr>\n",
       "    <tr>\n",
       "      <th>3</th>\n",
       "      <td>132585</td>\n",
>>>>>>> dfcc0060b7854b0fb91df91cfaa6a741ebad29b8
       "      <td>0</td>\n",
       "      <td>0.0</td>\n",
       "      <td>NaN</td>\n",
       "      <td>NaN</td>\n",
       "      <td>NaN</td>\n",
<<<<<<< HEAD
       "      <td>74.0</td>\n",
=======
       "      <td>40.0</td>\n",
>>>>>>> dfcc0060b7854b0fb91df91cfaa6a741ebad29b8
       "      <td>NaN</td>\n",
       "      <td>NaN</td>\n",
       "      <td>NaN</td>\n",
       "      <td>...</td>\n",
       "      <td>NaN</td>\n",
       "      <td>NaN</td>\n",
       "      <td>90.5</td>\n",
       "      <td>NaN</td>\n",
       "      <td>NaN</td>\n",
       "      <td>NaN</td>\n",
       "      <td>320.0</td>\n",
       "      <td>NaN</td>\n",
<<<<<<< HEAD
       "      <td>NaN</td>\n",
       "      <td>NaN</td>\n",
       "      <td>75.9</td>\n",
       "      <td>7.39</td>\n",
       "    </tr>\n",
       "    <tr>\n",
       "      <th>4</th>\n",
       "      <td>132666</td>\n",
       "      <td>0</td>\n",
       "      <td>0.0</td>\n",
       "      <td>NaN</td>\n",
       "      <td>NaN</td>\n",
       "      <td>NaN</td>\n",
       "      <td>53.0</td>\n",
       "      <td>NaN</td>\n",
       "      <td>81.0</td>\n",
       "      <td>NaN</td>\n",
=======
       "      <td>84.7</td>\n",
       "      <td>NaN</td>\n",
       "    </tr>\n",
       "    <tr>\n",
       "      <th>4</th>\n",
       "      <td>132602</td>\n",
       "      <td>0</td>\n",
       "      <td>0.0</td>\n",
       "      <td>NaN</td>\n",
       "      <td>NaN</td>\n",
       "      <td>NaN</td>\n",
       "      <td>80.0</td>\n",
       "      <td>NaN</td>\n",
       "      <td>NaN</td>\n",
       "      <td>NaN</td>\n",
>>>>>>> dfcc0060b7854b0fb91df91cfaa6a741ebad29b8
       "      <td>...</td>\n",
       "      <td>NaN</td>\n",
       "      <td>NaN</td>\n",
       "      <td>NaN</td>\n",
<<<<<<< HEAD
       "      <td>NaN</td>\n",
       "      <td>NaN</td>\n",
       "      <td>NaN</td>\n",
       "      <td>NaN</td>\n",
       "      <td>NaN</td>\n",
       "      <td>62.0</td>\n",
=======
       "      <td>37.3</td>\n",
       "      <td>NaN</td>\n",
       "      <td>NaN</td>\n",
       "      <td>150.0</td>\n",
       "      <td>NaN</td>\n",
       "      <td>70.0</td>\n",
>>>>>>> dfcc0060b7854b0fb91df91cfaa6a741ebad29b8
       "      <td>NaN</td>\n",
       "    </tr>\n",
       "  </tbody>\n",
       "</table>\n",
       "<p>5 rows × 44 columns</p>\n",
       "</div>"
      ],
      "text/plain": [
       "   RecordID  level_1  Time   ALP   ALT   AST   Age  Albumin   BUN  Bilirubin  \\\n",
<<<<<<< HEAD
       "0    132540        0   0.0   NaN   NaN   NaN  76.0      NaN  21.0        NaN   \n",
       "1    132551        0   0.0  47.0  46.0  82.0  78.0      1.9  81.0        0.3   \n",
       "2    132599        0   0.0   NaN   NaN   NaN  53.0      NaN   NaN        NaN   \n",
       "3    132601        0   0.0   NaN   NaN   NaN  74.0      NaN   NaN        NaN   \n",
       "4    132666        0   0.0   NaN   NaN   NaN  53.0      NaN  81.0        NaN   \n",
       "\n",
       "   ...  RespRate  SaO2  SysABP  Temp  TroponinI  TroponinT  Urine   WBC  \\\n",
       "0  ...       NaN  93.0  122.00  37.5        NaN        NaN   50.0  13.3   \n",
       "1  ...       NaN  97.0  102.75  38.0        3.5        NaN  120.0  16.1   \n",
       "2  ...       NaN   NaN     NaN  37.3        NaN        NaN  350.0   NaN   \n",
       "3  ...       NaN   NaN     NaN   NaN        NaN        NaN    NaN   NaN   \n",
       "4  ...       NaN   NaN     NaN   NaN        NaN        NaN    NaN   NaN   \n",
       "\n",
       "   Weight    pH  \n",
       "0    76.0  7.45  \n",
       "1    48.4  7.40  \n",
       "2    73.5   NaN  \n",
       "3    75.9  7.39  \n",
       "4    62.0   NaN  \n",
=======
       "0    132548        0   0.0   NaN   NaN   NaN  68.0      NaN  32.0        NaN   \n",
       "1    132567        0   0.0   NaN   NaN   NaN  71.0      NaN   9.0        NaN   \n",
       "2    132570        0   0.0  19.0  15.0  20.0  84.0      NaN  83.0        0.1   \n",
       "3    132585        0   0.0   NaN   NaN   NaN  40.0      NaN   NaN        NaN   \n",
       "4    132602        0   0.0   NaN   NaN   NaN  80.0      NaN   NaN        NaN   \n",
       "\n",
       "   ...  RespRate  SaO2  SysABP  Temp  TroponinI  TroponinT  Urine  WBC  \\\n",
       "0  ...      14.5   NaN   205.0  36.3        0.7        NaN  120.0  6.2   \n",
       "1  ...       NaN  98.0   111.5  35.6        NaN        NaN   15.0  9.0   \n",
       "2  ...      16.5  98.0     NaN  36.6        NaN        NaN  600.0  8.8   \n",
       "3  ...       NaN   NaN    90.5   NaN        NaN        NaN  320.0  NaN   \n",
       "4  ...       NaN   NaN     NaN  37.3        NaN        NaN  150.0  NaN   \n",
       "\n",
       "   Weight    pH  \n",
       "0    87.0   NaN  \n",
       "1    56.0  7.44  \n",
       "2   102.6   NaN  \n",
       "3    84.7   NaN  \n",
       "4    70.0   NaN  \n",
>>>>>>> dfcc0060b7854b0fb91df91cfaa6a741ebad29b8
       "\n",
       "[5 rows x 44 columns]"
      ]
     },
     "execution_count": 49,
     "metadata": {},
     "output_type": "execute_result"
    }
   ],
   "source": [
    "filtered_uniques_test = filtered_test_X.groupby('RecordID').first().reset_index() \n",
    "filtered_uniques_test.head()"
   ]
  },
  {
   "cell_type": "markdown",
   "metadata": {},
   "source": [
    "<h3>Calculate the BMI</h3>\n"
   ]
  },
  {
   "cell_type": "code",
   "execution_count": 50,
   "metadata": {},
   "outputs": [],
   "source": [
    "filtered_uniques_test['Height'] = filtered_uniques_test['Height'] / 100 # Converting Height from cm to meters"
   ]
  },
  {
   "cell_type": "code",
   "execution_count": 51,
   "metadata": {},
   "outputs": [
    {
     "data": {
      "text/html": [
       "<div>\n",
       "<style scoped>\n",
       "    .dataframe tbody tr th:only-of-type {\n",
       "        vertical-align: middle;\n",
       "    }\n",
       "\n",
       "    .dataframe tbody tr th {\n",
       "        vertical-align: top;\n",
       "    }\n",
       "\n",
       "    .dataframe thead th {\n",
       "        text-align: right;\n",
       "    }\n",
       "</style>\n",
       "<table border=\"1\" class=\"dataframe\">\n",
       "  <thead>\n",
       "    <tr style=\"text-align: right;\">\n",
       "      <th></th>\n",
       "      <th>RecordID</th>\n",
       "      <th>Height</th>\n",
       "      <th>Weight</th>\n",
       "      <th>BMI</th>\n",
       "      <th>Classificacao</th>\n",
       "    </tr>\n",
       "  </thead>\n",
       "  <tbody>\n",
       "    <tr>\n",
       "      <th>0</th>\n",
<<<<<<< HEAD
       "      <td>132540</td>\n",
       "      <td>1.753</td>\n",
       "      <td>76.0</td>\n",
       "      <td>24.731460</td>\n",
       "      <td>Peso normal</td>\n",
       "    </tr>\n",
       "    <tr>\n",
       "      <th>1</th>\n",
       "      <td>132551</td>\n",
       "      <td>1.626</td>\n",
       "      <td>48.4</td>\n",
       "      <td>18.306456</td>\n",
       "      <td>Baixo peso</td>\n",
       "    </tr>\n",
       "    <tr>\n",
       "      <th>2</th>\n",
       "      <td>132599</td>\n",
       "      <td>1.778</td>\n",
       "      <td>73.5</td>\n",
       "      <td>23.250047</td>\n",
       "      <td>Peso normal</td>\n",
       "    </tr>\n",
       "    <tr>\n",
       "      <th>3</th>\n",
       "      <td>132601</td>\n",
       "      <td>1.778</td>\n",
       "      <td>75.9</td>\n",
       "      <td>24.009232</td>\n",
       "      <td>Peso normal</td>\n",
       "    </tr>\n",
       "    <tr>\n",
       "      <th>4</th>\n",
       "      <td>132666</td>\n",
       "      <td>1.676</td>\n",
       "      <td>62.0</td>\n",
       "      <td>22.072100</td>\n",
=======
       "      <td>132548</td>\n",
       "      <td>1.626</td>\n",
       "      <td>87.0</td>\n",
       "      <td>32.906233</td>\n",
       "      <td>Obesidade grau 1</td>\n",
       "    </tr>\n",
       "    <tr>\n",
       "      <th>1</th>\n",
       "      <td>132567</td>\n",
       "      <td>1.575</td>\n",
       "      <td>56.0</td>\n",
       "      <td>22.574956</td>\n",
       "      <td>Peso normal</td>\n",
       "    </tr>\n",
       "    <tr>\n",
       "      <th>2</th>\n",
       "      <td>132570</td>\n",
       "      <td>1.702</td>\n",
       "      <td>102.6</td>\n",
       "      <td>35.418344</td>\n",
       "      <td>Obesidade grau 2</td>\n",
       "    </tr>\n",
       "    <tr>\n",
       "      <th>3</th>\n",
       "      <td>132585</td>\n",
       "      <td>1.651</td>\n",
       "      <td>84.7</td>\n",
       "      <td>31.073435</td>\n",
       "      <td>Obesidade grau 1</td>\n",
       "    </tr>\n",
       "    <tr>\n",
       "      <th>4</th>\n",
       "      <td>132602</td>\n",
       "      <td>1.803</td>\n",
       "      <td>70.0</td>\n",
       "      <td>21.533101</td>\n",
>>>>>>> dfcc0060b7854b0fb91df91cfaa6a741ebad29b8
       "      <td>Peso normal</td>\n",
       "    </tr>\n",
       "  </tbody>\n",
       "</table>\n",
       "</div>"
      ],
      "text/plain": [
<<<<<<< HEAD
       "   RecordID  Height  Weight        BMI Classificacao\n",
       "0    132540   1.753    76.0  24.731460   Peso normal\n",
       "1    132551   1.626    48.4  18.306456    Baixo peso\n",
       "2    132599   1.778    73.5  23.250047   Peso normal\n",
       "3    132601   1.778    75.9  24.009232   Peso normal\n",
       "4    132666   1.676    62.0  22.072100   Peso normal"
=======
       "   RecordID  Height  Weight        BMI     Classificacao\n",
       "0    132548   1.626    87.0  32.906233  Obesidade grau 1\n",
       "1    132567   1.575    56.0  22.574956       Peso normal\n",
       "2    132570   1.702   102.6  35.418344  Obesidade grau 2\n",
       "3    132585   1.651    84.7  31.073435  Obesidade grau 1\n",
       "4    132602   1.803    70.0  21.533101       Peso normal"
>>>>>>> dfcc0060b7854b0fb91df91cfaa6a741ebad29b8
      ]
     },
     "execution_count": 51,
     "metadata": {},
     "output_type": "execute_result"
    }
   ],
   "source": [
    "bmi_data_test = pd.DataFrame(columns=['RecordID', 'Height', 'Weight', 'BMI', 'Classificacao'])\n",
    "bmi_data_test[\"RecordID\"] = filtered_uniques_test[\"RecordID\"]\n",
    "bmi_data_test[\"Height\"] = filtered_uniques_test[\"Height\"]\n",
    "bmi_data_test[\"Weight\"] = filtered_uniques_test[\"Weight\"]\n",
    "bmi_data_test[\"BMI\"] = filtered_uniques_test[\"Weight\"] / (filtered_uniques_test[\"Height\"] ** 2)\n",
    "bmi_data_test[\"Classificacao\"] = bmi_data_test[\"BMI\"].apply(classify_BMI)\n",
    "bmi_data_test.head()"
   ]
  },
  {
   "cell_type": "markdown",
   "metadata": {},
   "source": [
    "<h3>Percentage of BMI classification groups</h3>"
   ]
  },
  {
   "cell_type": "code",
   "execution_count": 74,
   "metadata": {},
   "outputs": [],
   "source": [
    "percentage_bmi_test = bmi_data_test[\"Classificacao\"].value_counts(normalize=True) * 100\n",
    "percentage_bmi_test = round(percentage_bmi_test, 1)\n"
   ]
  },
  {
   "cell_type": "code",
   "execution_count": 75,
   "metadata": {},
   "outputs": [],
   "source": [
    "subgroups = [(\"Female\"), (\"Male\"), (\"ICUType 1\"), (\"ICUType 2\"), (\"ICUType 3\"), (\"ICUType 4\"),\n",
    "    (\"Age 65+\"), (\"Age 65-\"), (\"Baixo Peso\"), (\"Peso normal\"), (\"Sobrepeso\"),\n",
    "    (\"Obesidade grau 1\"), (\"Obesidade grau 2\"), (\"Obesidade grau 3\")\n",
    "]\n",
    "\n",
    "df_subgroups = pd.DataFrame(subgroups, columns=[\"Subgroups\"])"
   ]
  },
  {
   "cell_type": "code",
   "execution_count": 76,
   "metadata": {},
   "outputs": [],
   "source": [
    "train_subgroups = [\n",
    "    (distribution_gender_training[0]), (distribution_gender_training[1]), (distribution_ICUType_training[1]), (distribution_ICUType_training[2]),\n",
    "    (distribution_ICUType_training[3]), (distribution_ICUType_training[4]), (percentage_group_one_train), (percentage_group_two_train),\n",
    "    (percentage_bmi_train[\"Baixo peso\"]), (percentage_bmi_train[\"Peso normal\"]), (percentage_bmi_train[\"Sobrepeso\"]), (percentage_bmi_train[\"Obesidade grau 1\"]),\n",
    "    (percentage_bmi_train[\"Obesidade grau 2\"]), (percentage_bmi_train[\"Obesidade grau 3\"])\n",
    "]\n",
    "\n",
    "df_train_subgroups = pd.DataFrame(train_subgroups, columns=[\"train\"])"
   ]
  },
  {
   "cell_type": "code",
   "execution_count": 77,
   "metadata": {},
   "outputs": [],
   "source": [
    "validation_subgroups = [\n",
    "    (distribution_gender_validation[0]), (distribution_gender_validation[1]), (distribution_ICUType_validation[1]), (distribution_ICUType_validation[2]),\n",
    "    (distribution_ICUType_validation[3]), (distribution_ICUType_validation[4]), (percentage_group_one_validation), (percentage_group_two_validation),\n",
    "    (percentage_bmi_validation[\"Baixo peso\"]), (percentage_bmi_validation[\"Peso normal\"]), (percentage_bmi_validation[\"Sobrepeso\"]), (percentage_bmi_validation[\"Obesidade grau 1\"]),\n",
    "    (percentage_bmi_validation[\"Obesidade grau 2\"]), (percentage_bmi_validation[\"Obesidade grau 3\"])\n",
    "]\n",
    "\n",
    "df_validation_subgroups = pd.DataFrame(validation_subgroups, columns=[\"train\"])"
   ]
  },
  {
   "cell_type": "code",
   "execution_count": 78,
   "metadata": {},
   "outputs": [],
   "source": [
    "test_subgroups = [\n",
    "    (distribution_gender_test[0]), (distribution_gender_test[1]), (distribution_ICUType_test[1]), (distribution_ICUType_test[2]),\n",
    "    (distribution_ICUType_test[3]), (distribution_ICUType_test[4]), (percentage_group_one_test), (percentage_group_two_test),\n",
    "    (percentage_bmi_test[\"Baixo peso\"]), (percentage_bmi_test[\"Peso normal\"]), (percentage_bmi_test[\"Sobrepeso\"]), (percentage_bmi_test[\"Obesidade grau 1\"]),\n",
    "    (percentage_bmi_test[\"Obesidade grau 2\"]), (percentage_bmi_test[\"Obesidade grau 3\"])\n",
    "]\n",
    "\n",
    "df_test_subgroups = pd.DataFrame(test_subgroups, columns=[\"train\"])"
   ]
  },
  {
   "cell_type": "code",
<<<<<<< HEAD
   "execution_count": 46,
=======
   "execution_count": 79,
>>>>>>> dfcc0060b7854b0fb91df91cfaa6a741ebad29b8
   "metadata": {},
   "outputs": [
    {
     "data": {
      "text/html": [
       "<h2 style=' font-size: 24px; font-weight: bold;'>Descriptive statistics stratified by demographics</h2>"
      ],
      "text/plain": [
       "<IPython.core.display.HTML object>"
      ]
     },
     "metadata": {},
     "output_type": "display_data"
    },
    {
     "data": {
      "text/html": [
       "<div>\n",
       "<style scoped>\n",
       "    .dataframe tbody tr th:only-of-type {\n",
       "        vertical-align: middle;\n",
       "    }\n",
       "\n",
       "    .dataframe tbody tr th {\n",
       "        vertical-align: top;\n",
       "    }\n",
       "\n",
       "    .dataframe thead th {\n",
       "        text-align: right;\n",
       "    }\n",
       "</style>\n",
       "<table border=\"1\" class=\"dataframe\">\n",
       "  <thead>\n",
       "    <tr style=\"text-align: right;\">\n",
       "      <th></th>\n",
       "      <th>Subgroups</th>\n",
       "      <th>Train</th>\n",
       "      <th>Validation</th>\n",
       "      <th>Test</th>\n",
       "    </tr>\n",
       "  </thead>\n",
       "  <tbody>\n",
       "    <tr>\n",
       "      <th>0</th>\n",
       "      <td>Female</td>\n",
<<<<<<< HEAD
       "      <td>43.644896</td>\n",
       "      <td>43.013556</td>\n",
       "      <td>45.268862</td>\n",
=======
       "      <td>43.6</td>\n",
       "      <td>45.2</td>\n",
       "      <td>43.6</td>\n",
>>>>>>> dfcc0060b7854b0fb91df91cfaa6a741ebad29b8
       "    </tr>\n",
       "    <tr>\n",
       "      <th>1</th>\n",
       "      <td>Male</td>\n",
<<<<<<< HEAD
       "      <td>56.250815</td>\n",
       "      <td>56.830031</td>\n",
       "      <td>54.689454</td>\n",
=======
       "      <td>56.3</td>\n",
       "      <td>54.8</td>\n",
       "      <td>56.2</td>\n",
>>>>>>> dfcc0060b7854b0fb91df91cfaa6a741ebad29b8
       "    </tr>\n",
       "    <tr>\n",
       "      <th>2</th>\n",
       "      <td>ICUType 1</td>\n",
<<<<<<< HEAD
       "      <td>14.417938</td>\n",
       "      <td>14.702815</td>\n",
       "      <td>15.714881</td>\n",
=======
       "      <td>14.9</td>\n",
       "      <td>14.1</td>\n",
       "      <td>14.6</td>\n",
>>>>>>> dfcc0060b7854b0fb91df91cfaa6a741ebad29b8
       "    </tr>\n",
       "    <tr>\n",
       "      <th>3</th>\n",
       "      <td>ICUType 2</td>\n",
<<<<<<< HEAD
       "      <td>20.935993</td>\n",
       "      <td>21.011470</td>\n",
       "      <td>21.634014</td>\n",
=======
       "      <td>20.7</td>\n",
       "      <td>22.9</td>\n",
       "      <td>20.9</td>\n",
>>>>>>> dfcc0060b7854b0fb91df91cfaa6a741ebad29b8
       "    </tr>\n",
       "    <tr>\n",
       "      <th>4</th>\n",
       "      <td>ICUType 3</td>\n",
<<<<<<< HEAD
       "      <td>35.966628</td>\n",
       "      <td>36.496350</td>\n",
       "      <td>34.514381</td>\n",
=======
       "      <td>35.9</td>\n",
       "      <td>33.4</td>\n",
       "      <td>37.3</td>\n",
>>>>>>> dfcc0060b7854b0fb91df91cfaa6a741ebad29b8
       "    </tr>\n",
       "    <tr>\n",
       "      <th>5</th>\n",
       "      <td>ICUType 4</td>\n",
<<<<<<< HEAD
       "      <td>28.679442</td>\n",
       "      <td>27.789364</td>\n",
       "      <td>28.136724</td>\n",
=======
       "      <td>28.5</td>\n",
       "      <td>29.7</td>\n",
       "      <td>27.3</td>\n",
>>>>>>> dfcc0060b7854b0fb91df91cfaa6a741ebad29b8
       "    </tr>\n",
       "    <tr>\n",
       "      <th>6</th>\n",
       "      <td>Age 65+</td>\n",
<<<<<<< HEAD
       "      <td>54.582193</td>\n",
       "      <td>54.848801</td>\n",
       "      <td>54.856190</td>\n",
=======
       "      <td>55.1</td>\n",
       "      <td>54.8</td>\n",
       "      <td>53.1</td>\n",
>>>>>>> dfcc0060b7854b0fb91df91cfaa6a741ebad29b8
       "    </tr>\n",
       "    <tr>\n",
       "      <th>7</th>\n",
       "      <td>Age 65-</td>\n",
<<<<<<< HEAD
       "      <td>45.417807</td>\n",
       "      <td>45.151199</td>\n",
       "      <td>45.143810</td>\n",
=======
       "      <td>44.9</td>\n",
       "      <td>45.2</td>\n",
       "      <td>46.9</td>\n",
>>>>>>> dfcc0060b7854b0fb91df91cfaa6a741ebad29b8
       "    </tr>\n",
       "    <tr>\n",
       "      <th>8</th>\n",
       "      <td>Baixo Peso</td>\n",
<<<<<<< HEAD
       "      <td>2.871795</td>\n",
       "      <td>2.544031</td>\n",
       "      <td>3.597711</td>\n",
=======
       "      <td>3.1</td>\n",
       "      <td>1.8</td>\n",
       "      <td>3.4</td>\n",
>>>>>>> dfcc0060b7854b0fb91df91cfaa6a741ebad29b8
       "    </tr>\n",
       "    <tr>\n",
       "      <th>9</th>\n",
       "      <td>Peso normal</td>\n",
<<<<<<< HEAD
       "      <td>29.589744</td>\n",
       "      <td>30.919765</td>\n",
       "      <td>28.781684</td>\n",
=======
       "      <td>29.8</td>\n",
       "      <td>30.1</td>\n",
       "      <td>28.7</td>\n",
>>>>>>> dfcc0060b7854b0fb91df91cfaa6a741ebad29b8
       "    </tr>\n",
       "    <tr>\n",
       "      <th>10</th>\n",
       "      <td>Sobrepeso</td>\n",
<<<<<<< HEAD
       "      <td>34.435897</td>\n",
       "      <td>33.855186</td>\n",
       "      <td>34.832379</td>\n",
=======
       "      <td>34.5</td>\n",
       "      <td>35.5</td>\n",
       "      <td>33.4</td>\n",
>>>>>>> dfcc0060b7854b0fb91df91cfaa6a741ebad29b8
       "    </tr>\n",
       "    <tr>\n",
       "      <th>11</th>\n",
       "      <td>Obesidade grau 1</td>\n",
<<<<<<< HEAD
       "      <td>18.564103</td>\n",
       "      <td>17.221135</td>\n",
       "      <td>17.988553</td>\n",
=======
       "      <td>17.6</td>\n",
       "      <td>17.5</td>\n",
       "      <td>20.8</td>\n",
>>>>>>> dfcc0060b7854b0fb91df91cfaa6a741ebad29b8
       "    </tr>\n",
       "    <tr>\n",
       "      <th>12</th>\n",
       "      <td>Obesidade grau 2</td>\n",
<<<<<<< HEAD
       "      <td>7.641026</td>\n",
       "      <td>7.534247</td>\n",
       "      <td>8.258381</td>\n",
=======
       "      <td>8.0</td>\n",
       "      <td>7.9</td>\n",
       "      <td>6.7</td>\n",
>>>>>>> dfcc0060b7854b0fb91df91cfaa6a741ebad29b8
       "    </tr>\n",
       "    <tr>\n",
       "      <th>13</th>\n",
       "      <td>Obesidade grau 3</td>\n",
<<<<<<< HEAD
       "      <td>6.897436</td>\n",
       "      <td>7.925636</td>\n",
       "      <td>6.541292</td>\n",
=======
       "      <td>7.0</td>\n",
       "      <td>7.2</td>\n",
       "      <td>6.9</td>\n",
>>>>>>> dfcc0060b7854b0fb91df91cfaa6a741ebad29b8
       "    </tr>\n",
       "  </tbody>\n",
       "</table>\n",
       "</div>"
      ],
      "text/plain": [
<<<<<<< HEAD
       "           Subgroups      Train  Validation       Test\n",
       "0             Female  43.644896   43.013556  45.268862\n",
       "1               Male  56.250815   56.830031  54.689454\n",
       "2          ICUType 1  14.417938   14.702815  15.714881\n",
       "3          ICUType 2  20.935993   21.011470  21.634014\n",
       "4          ICUType 3  35.966628   36.496350  34.514381\n",
       "5          ICUType 4  28.679442   27.789364  28.136724\n",
       "6            Age 65+  54.582193   54.848801  54.856190\n",
       "7            Age 65-  45.417807   45.151199  45.143810\n",
       "8         Baixo Peso   2.871795    2.544031   3.597711\n",
       "9        Peso normal  29.589744   30.919765  28.781684\n",
       "10         Sobrepeso  34.435897   33.855186  34.832379\n",
       "11  Obesidade grau 1  18.564103   17.221135  17.988553\n",
       "12  Obesidade grau 2   7.641026    7.534247   8.258381\n",
       "13  Obesidade grau 3   6.897436    7.925636   6.541292"
      ]
     },
     "execution_count": 46,
=======
       "           Subgroups  Train  Validation  Test\n",
       "0             Female   43.6        45.2  43.6\n",
       "1               Male   56.3        54.8  56.2\n",
       "2          ICUType 1   14.9        14.1  14.6\n",
       "3          ICUType 2   20.7        22.9  20.9\n",
       "4          ICUType 3   35.9        33.4  37.3\n",
       "5          ICUType 4   28.5        29.7  27.3\n",
       "6            Age 65+   55.1        54.8  53.1\n",
       "7            Age 65-   44.9        45.2  46.9\n",
       "8         Baixo Peso    3.1         1.8   3.4\n",
       "9        Peso normal   29.8        30.1  28.7\n",
       "10         Sobrepeso   34.5        35.5  33.4\n",
       "11  Obesidade grau 1   17.6        17.5  20.8\n",
       "12  Obesidade grau 2    8.0         7.9   6.7\n",
       "13  Obesidade grau 3    7.0         7.2   6.9"
      ]
     },
     "execution_count": 79,
>>>>>>> dfcc0060b7854b0fb91df91cfaa6a741ebad29b8
     "metadata": {},
     "output_type": "execute_result"
    }
   ],
   "source": [
    "table_descriptive_statistics = pd.DataFrame(columns=['Subgroups', 'Train', 'Validation', 'Test'])\n",
    "table_descriptive_statistics[\"Subgroups\"] = df_subgroups\n",
    "table_descriptive_statistics[\"Train\"] = df_train_subgroups\n",
    "table_descriptive_statistics[\"Validation\"] = df_validation_subgroups\n",
    "table_descriptive_statistics[\"Test\"] = df_test_subgroups\n",
    "\n",
    "display(HTML(\"<h2 style=' font-size: 24px; font-weight: bold;'>Descriptive statistics stratified by demographics</h2>\"))\n",
    "table_descriptive_statistics"
   ]
  }
 ],
 "metadata": {
  "kernelspec": {
   "display_name": "Python 3",
   "language": "python",
   "name": "python3"
  },
  "language_info": {
   "codemirror_mode": {
    "name": "ipython",
    "version": 3
   },
   "file_extension": ".py",
   "mimetype": "text/x-python",
   "name": "python",
   "nbconvert_exporter": "python",
   "pygments_lexer": "ipython3",
   "version": "3.8.10"
  }
 },
 "nbformat": 4,
 "nbformat_minor": 2
}

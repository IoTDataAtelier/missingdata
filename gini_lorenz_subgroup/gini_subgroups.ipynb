{
 "cells": [
  {
   "cell_type": "markdown",
   "id": "dd41d44e",
   "metadata": {},
   "source": [
    "# Import Libraries"
   ]
  },
  {
   "cell_type": "code",
   "execution_count": 1,
   "id": "4c2aa0fd",
   "metadata": {},
   "outputs": [
    {
     "name": "stderr",
     "output_type": "stream",
     "text": [
      "2025-05-06 23:19:31.786802: E external/local_xla/xla/stream_executor/cuda/cuda_fft.cc:477] Unable to register cuFFT factory: Attempting to register factory for plugin cuFFT when one has already been registered\n",
      "WARNING: All log messages before absl::InitializeLog() is called are written to STDERR\n",
      "E0000 00:00:1746584371.802232   95830 cuda_dnn.cc:8310] Unable to register cuDNN factory: Attempting to register factory for plugin cuDNN when one has already been registered\n",
      "E0000 00:00:1746584371.807081   95830 cuda_blas.cc:1418] Unable to register cuBLAS factory: Attempting to register factory for plugin cuBLAS when one has already been registered\n",
      "2025-05-06 23:19:31.823459: I tensorflow/core/platform/cpu_feature_guard.cc:210] This TensorFlow binary is optimized to use available CPU instructions in performance-critical operations.\n",
      "To enable the following instructions: AVX2 FMA, in other operations, rebuild TensorFlow with the appropriate compiler flags.\n",
      "/usr/local/lib/python3.11/dist-packages/tqdm/auto.py:21: TqdmWarning: IProgress not found. Please update jupyter and ipywidgets. See https://ipywidgets.readthedocs.io/en/stable/user_install.html\n",
      "  from .autonotebook import tqdm as notebook_tqdm\n"
     ]
    },
    {
     "name": "stdout",
     "output_type": "stream",
     "text": [
      "\u001b[34m\n",
      "████████╗██╗███╗   ███╗███████╗    ███████╗███████╗██████╗ ██╗███████╗███████╗    █████╗ ██╗\n",
      "╚══██╔══╝██║████╗ ████║██╔════╝    ██╔════╝██╔════╝██╔══██╗██║██╔════╝██╔════╝   ██╔══██╗██║\n",
      "   ██║   ██║██╔████╔██║█████╗█████╗███████╗█████╗  ██████╔╝██║█████╗  ███████╗   ███████║██║\n",
      "   ██║   ██║██║╚██╔╝██║██╔══╝╚════╝╚════██║██╔══╝  ██╔══██╗██║██╔══╝  ╚════██║   ██╔══██║██║\n",
      "   ██║   ██║██║ ╚═╝ ██║███████╗    ███████║███████╗██║  ██║██║███████╗███████║██╗██║  ██║██║\n",
      "   ╚═╝   ╚═╝╚═╝     ╚═╝╚══════╝    ╚══════╝╚══════╝╚═╝  ╚═╝╚═╝╚══════╝╚══════╝╚═╝╚═╝  ╚═╝╚═╝\n",
      "ai4ts v0.0.3 - building AI for unified time-series analysis, https://time-series.ai \u001b[0m\n",
      "\n"
     ]
    }
   ],
   "source": [
    "import os\n",
    "import sys\n",
    "import pypots\n",
    "import numpy as np\n",
    "import benchpots\n",
    "import matplotlib.pyplot as plt\n",
    "from pypots.optim import Adam\n",
    "from pypots.imputation import SAITS, BRITS, USGAN, GPVAE, MRNN\n",
    "from pypots.utils.random import set_random_seed\n",
    "from functions.toolkits import toolkits\n",
    "module_path = os.path.abspath(os.path.join('..'))\n",
    "if module_path not in sys.path:\n",
    "    sys.path.append(module_path)\n",
    "\n",
    "from MAEModify.error import calc_mae\n",
    "from pypotsModify.benchpotsMAE.datasets import preprocess_physionet2012 as preprocess_physionet2012\n"
   ]
  },
  {
   "cell_type": "markdown",
   "id": "caf3bae4",
   "metadata": {},
   "source": [
    "# Load Dataset"
   ]
  },
  {
   "cell_type": "code",
   "execution_count": 2,
   "id": "6ef98b5d",
   "metadata": {},
   "outputs": [
    {
     "name": "stderr",
     "output_type": "stream",
     "text": [
      "2025-05-06 23:19:45 [INFO]: Have set the random seed as 2022 for numpy and pytorch.\n",
      "2025-05-06 23:19:45 [INFO]: You're using dataset physionet_2012, please cite it properly in your work. You can find its reference information at the below link: \n",
      "https://github.com/WenjieDu/TSDB/tree/main/dataset_profiles/physionet_2012\n",
      "2025-05-06 23:19:45 [INFO]: Dataset physionet_2012 has already been downloaded. Processing directly...\n",
      "2025-05-06 23:19:45 [INFO]: Dataset physionet_2012 has already been cached. Loading from cache directly...\n",
      "2025-05-06 23:19:45 [INFO]: Loaded successfully!\n",
      "2025-05-06 23:19:58 [WARNING]: Note that physionet_2012 has sparse observations in the time series, hence we don't add additional missing values to the training dataset. \n",
      "2025-05-06 23:19:58 [WARNING]: Note that physionet_2012 has sparse observations in the time series, hence we don't add additional missing values to the training dataset. \n",
      "2025-05-06 23:19:58 [INFO]: 68807 values masked out in the val set as ground truth, take 9.97% of the original observed values\n",
      "2025-05-06 23:19:58 [INFO]: 68807 values masked out in the val set as ground truth, take 9.97% of the original observed values\n",
      "2025-05-06 23:19:58 [INFO]: 86319 values masked out in the test set as ground truth, take 9.99% of the original observed values\n",
      "2025-05-06 23:19:58 [INFO]: 86319 values masked out in the test set as ground truth, take 9.99% of the original observed values\n",
      "2025-05-06 23:19:58 [INFO]: Total sample number: 11988\n",
      "2025-05-06 23:19:58 [INFO]: Total sample number: 11988\n",
      "2025-05-06 23:19:58 [INFO]: Training set size: 7671 (63.99%)\n",
      "2025-05-06 23:19:58 [INFO]: Training set size: 7671 (63.99%)\n",
      "2025-05-06 23:19:58 [INFO]: Validation set size: 1918 (16.00%)\n",
      "2025-05-06 23:19:58 [INFO]: Validation set size: 1918 (16.00%)\n",
      "2025-05-06 23:19:58 [INFO]: Test set size: 2399 (20.01%)\n",
      "2025-05-06 23:19:58 [INFO]: Test set size: 2399 (20.01%)\n",
      "2025-05-06 23:19:58 [INFO]: Number of steps: 48\n",
      "2025-05-06 23:19:58 [INFO]: Number of steps: 48\n",
      "2025-05-06 23:19:58 [INFO]: Number of features: 37\n",
      "2025-05-06 23:19:58 [INFO]: Number of features: 37\n",
      "2025-05-06 23:19:58 [INFO]: Train set missing rate: 79.70%\n",
      "2025-05-06 23:19:58 [INFO]: Train set missing rate: 79.70%\n",
      "2025-05-06 23:19:58 [INFO]: Validating set missing rate: 81.75%\n",
      "2025-05-06 23:19:58 [INFO]: Validating set missing rate: 81.75%\n",
      "2025-05-06 23:19:58 [INFO]: Test set missing rate: 81.75%\n",
      "2025-05-06 23:19:58 [INFO]: Test set missing rate: 81.75%\n"
     ]
    },
    {
     "name": "stdout",
     "output_type": "stream",
     "text": [
      "dict_keys(['n_classes', 'n_steps', 'n_features', 'scaler', 'train_X', 'train_y', 'train_ICUType', 'val_X', 'val_y', 'val_ICUType', 'test_X', 'test_y', 'test_ICUType', 'female_gender_test_X', 'female_gender_test_y', 'test_ICUType_female_gender', 'male_gender_test_X', 'male_gender_test_y', 'test_ICUType_male_gender', 'undefined_gender_test_X', 'undefined_gender_test_y', 'test_ICUType_undefined_gender', 'more_than_or_equal_to_65_test_X', 'more_than_or_equal_to_65_test_y', 'test_ICUType_more_than_or_equal_to_65', 'less_than_65_test_X', 'less_than_65_test_y', 'test_ICUType_less_than_65', 'ICUType_1_test_X', 'ICUType_1_test_y', 'test_ICUType_1', 'ICUType_2_test_X', 'ICUType_2_test_y', 'test_ICUType_2', 'ICUType_3_test_X', 'ICUType_3_test_y', 'test_ICUType_3', 'ICUType_4_test_X', 'ICUType_4_test_y', 'test_ICUType_4', 'classificacao_undefined_test_X', 'classificacao_undefined_test_y', 'test_ICUType_classificacao_undefined', 'classificacao_baixo_peso_test_X', 'classificacao_baixo_peso_test_y', 'test_ICUType_classificao_baixo_peso', 'classificacao_normal_peso_test_X', 'classificacao_normal_peso_test_y', 'test_ICUType_classificacao_normal_peso', 'classificacao_sobrepeso_test_X', 'classificacao_sobrepeso_test_y', 'test_ICUType_classificacao_sobrepeso', 'classificacao_obesidade_1_test_X', 'classificacao_obesidade_1_test_y', 'test_ICUType_classificacao_obesidade_1', 'classificacao_obesidade_2_test_X', 'classificacao_obesidade_2_test_y', 'test_ICUType_classificacao_obesidade_2', 'classificacao_obesidade_3_test_X', 'classificacao_obesidade_3_test_y', 'test_ICUType_classificacao_obesidade_3', 'val_X_ori', 'test_X_ori', 'female_gender_test_X_ori', 'male_gender_test_X_ori', 'undefined_gender_test_X_ori', 'more_than_or_equal_to_65_test_X_ori', 'less_than_65_test_X_ori', 'ICUType_1_test_X_ori', 'ICUType_2_test_X_ori', 'ICUType_3_test_X_ori', 'ICUType_4_test_X_ori', 'classificacao_undefined_test_X_ori', 'classificacao_baixo_peso_test_X_ori', 'classificacao_normal_peso_test_X_ori', 'classificacao_sobrepeso_test_X_ori', 'classificacao_obesidade_1_test_X_ori', 'classificacao_obesidade_2_test_X_ori', 'classificacao_obesidade_3_test_X_ori'])\n"
     ]
    }
   ],
   "source": [
    "set_random_seed()\n",
    "physionet2012_dataset = preprocess_physionet2012(subset=\"all\", rate=0.1, normalization=1)\n",
    "print(physionet2012_dataset.keys())"
   ]
  },
  {
   "cell_type": "code",
   "execution_count": 3,
   "id": "a3f919ce",
   "metadata": {},
   "outputs": [],
   "source": [
    "dataset_for_training, dataset_for_validating, dataset_for_testing_ori, dataset_for_testing = toolkits.separating_dataset(physionet2012_dataset)"
   ]
  },
  {
   "cell_type": "code",
   "execution_count": 4,
   "id": "fcaa9def",
   "metadata": {},
   "outputs": [],
   "source": [
    "dataset_for_testing_ori= toolkits.dict_to_list(dataset_for_testing_ori)\n",
    "dataset_for_testing = toolkits.dict_to_list(dataset_for_testing)"
   ]
  },
  {
   "cell_type": "code",
   "execution_count": 5,
   "id": "90d0a7ad",
   "metadata": {},
   "outputs": [],
   "source": [
    "indicating_mask_subgroup, test_X_ori_subgroup = toolkits.components_mae(dataset_for_testing_ori, dataset_for_testing)"
   ]
  },
  {
   "cell_type": "markdown",
   "id": "9c1f0546",
   "metadata": {},
   "source": [
    "# Train/Load Models"
   ]
  },
  {
   "cell_type": "markdown",
   "id": "341ba452",
   "metadata": {},
   "source": [
    "## SAITS"
   ]
  },
  {
   "cell_type": "code",
   "execution_count": 6,
   "id": "3957bad1",
   "metadata": {},
   "outputs": [
    {
     "name": "stderr",
     "output_type": "stream",
     "text": [
      "2025-05-06 23:19:59 [INFO]: No given device, using default device: cpu\n",
      "2025-05-06 23:19:59 [WARNING]: ‼️ saving_path not given. Model files and tensorboard file will not be saved.\n",
      "2025-05-06 23:19:59 [INFO]: Using customized MAE as the training loss function.\n",
      "2025-05-06 23:19:59 [INFO]: Using customized MSE as the validation metric function.\n",
      "2025-05-06 23:19:59 [INFO]: SAITS initialized with the given hyperparameters, the number of trainable parameters: 720,182\n"
     ]
    }
   ],
   "source": [
    "saits = SAITS(\n",
    "    n_steps=physionet2012_dataset['n_steps'],\n",
    "    n_features=physionet2012_dataset['n_features'],\n",
    "    n_layers=1,\n",
    "    d_model=256,\n",
    "    d_ffn=128,\n",
    "    n_heads=4,\n",
    "    d_k=64,\n",
    "    d_v=64,\n",
    "    dropout=0.1,\n",
    "    ORT_weight=1,  \n",
    "    MIT_weight=1,\n",
    "    batch_size=32,\n",
    "    epochs=10,\n",
    "    patience=3,\n",
    "    optimizer=Adam(lr=1e-3),\n",
    "    num_workers=0,\n",
    "    device=None,\n",
    "    model_saving_strategy=\"best\",\n",
    ")"
   ]
  },
  {
   "cell_type": "code",
   "execution_count": 7,
   "id": "0354068e",
   "metadata": {},
   "outputs": [
    {
     "name": "stderr",
     "output_type": "stream",
     "text": [
      "2025-05-06 23:19:59 [INFO]: Model loaded successfully from ../mae/tutorial_results/imputation/saits/20250422_T181642/SAITS.pypots\n"
     ]
    }
   ],
   "source": [
    "saits.load(\"../mae/tutorial_results/imputation/saits/20250422_T181642/SAITS.pypots\")"
   ]
  },
  {
   "cell_type": "markdown",
   "id": "2eeedb08",
   "metadata": {},
   "source": [
    "## BRITS"
   ]
  },
  {
   "cell_type": "code",
   "execution_count": 8,
   "id": "a3af570b",
   "metadata": {},
   "outputs": [
    {
     "name": "stderr",
     "output_type": "stream",
     "text": [
      "2025-05-06 23:19:59 [INFO]: No given device, using default device: cpu\n",
      "2025-05-06 23:19:59 [WARNING]: ‼️ saving_path not given. Model files and tensorboard file will not be saved.\n",
      "2025-05-06 23:19:59 [INFO]: Using customized MAE as the training loss function.\n",
      "2025-05-06 23:19:59 [INFO]: Using customized MSE as the validation metric function.\n",
      "2025-05-06 23:19:59 [INFO]: BRITS initialized with the given hyperparameters, the number of trainable parameters: 239,344\n"
     ]
    }
   ],
   "source": [
    "brits = BRITS(\n",
    "    n_steps=physionet2012_dataset['n_steps'],\n",
    "    n_features=physionet2012_dataset['n_features'],\n",
    "    rnn_hidden_size=128,\n",
    "    batch_size=32,\n",
    "    epochs=10,\n",
    "    patience=3,\n",
    "    optimizer=Adam(lr=1e-3),\n",
    "    num_workers=0,\n",
    "    device=None,\n",
    "    model_saving_strategy=\"best\",\n",
    ")"
   ]
  },
  {
   "cell_type": "code",
   "execution_count": 9,
   "id": "c0168c50",
   "metadata": {},
   "outputs": [
    {
     "name": "stderr",
     "output_type": "stream",
     "text": [
      "2025-05-06 23:19:59 [INFO]: Model loaded successfully from ../mae/tutorial_results/imputation/brits/20250422_T181643/BRITS.pypots\n"
     ]
    }
   ],
   "source": [
    "brits.load(\"../mae/tutorial_results/imputation/brits/20250422_T181643/BRITS.pypots\")"
   ]
  },
  {
   "cell_type": "markdown",
   "id": "459833c3",
   "metadata": {},
   "source": [
    "## US-GAN"
   ]
  },
  {
   "cell_type": "code",
   "execution_count": 10,
   "id": "cf4cf5c8",
   "metadata": {},
   "outputs": [
    {
     "name": "stderr",
     "output_type": "stream",
     "text": [
      "2025-05-06 23:19:59 [INFO]: No given device, using default device: cpu\n",
      "2025-05-06 23:19:59 [WARNING]: ‼️ saving_path not given. Model files and tensorboard file will not be saved.\n",
      "2025-05-06 23:19:59 [INFO]: USGAN initialized with the given hyperparameters, the number of trainable parameters: 1,258,517\n"
     ]
    }
   ],
   "source": [
    "us_gan = USGAN(\n",
    "    n_steps=physionet2012_dataset['n_steps'],\n",
    "    n_features=physionet2012_dataset['n_features'],\n",
    "    rnn_hidden_size=256,\n",
    "    lambda_mse=1,\n",
    "    dropout=0.1,\n",
    "    G_steps=1,\n",
    "    D_steps=1,\n",
    "    batch_size=32,\n",
    "    epochs=10,\n",
    "    patience=3,\n",
    "    G_optimizer=Adam(lr=1e-3),\n",
    "    D_optimizer=Adam(lr=1e-3),\n",
    "    num_workers=0,\n",
    "    device=None,\n",
    "    model_saving_strategy=\"best\",\n",
    ")"
   ]
  },
  {
   "cell_type": "code",
   "execution_count": 11,
   "id": "0ae13fc3",
   "metadata": {},
   "outputs": [
    {
     "name": "stderr",
     "output_type": "stream",
     "text": [
      "2025-05-06 23:19:59 [INFO]: Model loaded successfully from ../mae/tutorial_results/imputation/us_gan/20250422_T181643/USGAN.pypots\n"
     ]
    }
   ],
   "source": [
    "us_gan.load(\"../mae/tutorial_results/imputation/us_gan/20250422_T181643/USGAN.pypots\")"
   ]
  },
  {
   "cell_type": "markdown",
   "id": "c1528fca",
   "metadata": {},
   "source": [
    "## GP-VAE"
   ]
  },
  {
   "cell_type": "code",
   "execution_count": 12,
   "id": "43b3e220",
   "metadata": {},
   "outputs": [
    {
     "name": "stderr",
     "output_type": "stream",
     "text": [
      "2025-05-06 23:19:59 [INFO]: No given device, using default device: cpu\n",
      "2025-05-06 23:19:59 [WARNING]: ‼️ saving_path not given. Model files and tensorboard file will not be saved.\n",
      "2025-05-06 23:19:59 [INFO]: GPVAE initialized with the given hyperparameters, the number of trainable parameters: 229,652\n"
     ]
    }
   ],
   "source": [
    "gp_vae = GPVAE(\n",
    "    n_steps=physionet2012_dataset['n_steps'],\n",
    "    n_features=physionet2012_dataset['n_features'],\n",
    "    latent_size=37,\n",
    "    encoder_sizes=(128,128),\n",
    "    decoder_sizes=(256,256),\n",
    "    kernel=\"cauchy\",\n",
    "    beta=0.2,\n",
    "    M=1,\n",
    "    K=1,\n",
    "    sigma=1.005,\n",
    "    length_scale=7.0,\n",
    "    kernel_scales=1,\n",
    "    window_size=24,\n",
    "    batch_size=32,\n",
    "    epochs=10,\n",
    "    patience=3,\n",
    "    optimizer=Adam(lr=1e-3),\n",
    "    num_workers=0,\n",
    "    device=None,\n",
    "    model_saving_strategy=\"best\",\n",
    ")"
   ]
  },
  {
   "cell_type": "code",
   "execution_count": 13,
   "id": "4f5a961f",
   "metadata": {},
   "outputs": [
    {
     "name": "stderr",
     "output_type": "stream",
     "text": [
      "2025-05-06 23:19:59 [INFO]: Model loaded successfully from ../mae/tutorial_results/imputation/gp_vae/20250422_T181643/GPVAE.pypots\n"
     ]
    }
   ],
   "source": [
    "gp_vae.load(\"../mae/tutorial_results/imputation/gp_vae/20250422_T181643/GPVAE.pypots\")"
   ]
  },
  {
   "cell_type": "markdown",
   "id": "36c14229",
   "metadata": {},
   "source": [
    "## MRNN"
   ]
  },
  {
   "cell_type": "code",
   "execution_count": 14,
   "id": "a394cff1",
   "metadata": {},
   "outputs": [
    {
     "name": "stderr",
     "output_type": "stream",
     "text": [
      "2025-05-06 23:19:59 [INFO]: No given device, using default device: cpu\n",
      "2025-05-06 23:19:59 [WARNING]: ‼️ saving_path not given. Model files and tensorboard file will not be saved.\n",
      "2025-05-06 23:19:59 [INFO]: Using customized RMSE as the training loss function.\n",
      "2025-05-06 23:19:59 [INFO]: Using customized MSE as the validation metric function.\n",
      "2025-05-06 23:19:59 [INFO]: MRNN initialized with the given hyperparameters, the number of trainable parameters: 107,951\n"
     ]
    }
   ],
   "source": [
    "mrnn = MRNN(\n",
    "    n_steps=physionet2012_dataset['n_steps'],\n",
    "    n_features=physionet2012_dataset['n_features'],\n",
    "    rnn_hidden_size=128,\n",
    "    epochs=10,\n",
    "    patience=3,\n",
    "    optimizer=Adam(lr=1e-3),\n",
    "    num_workers=0,\n",
    "    device=None,\n",
    "    model_saving_strategy=\"best\",\n",
    ")"
   ]
  },
  {
   "cell_type": "code",
   "execution_count": 15,
   "id": "74ff100d",
   "metadata": {},
   "outputs": [
    {
     "name": "stderr",
     "output_type": "stream",
     "text": [
      "2025-05-06 23:19:59 [INFO]: Model loaded successfully from ../mae/tutorial_results/imputation/mrnn/20250422_T181643/MRNN.pypots\n"
     ]
    }
   ],
   "source": [
    "mrnn.load(\"../mae/tutorial_results/imputation/mrnn/20250422_T181643/MRNN.pypots\")"
   ]
  },
  {
   "cell_type": "markdown",
   "id": "6458a5d5",
   "metadata": {},
   "source": [
    "# Imputation Models"
   ]
  },
  {
   "cell_type": "markdown",
   "id": "12d202ed",
   "metadata": {},
   "source": [
    "## SAITS"
   ]
  },
  {
   "cell_type": "code",
   "execution_count": 16,
   "id": "344fc170",
   "metadata": {},
   "outputs": [],
   "source": [
    "saits_imputation = []\n",
    "for i in range(len(dataset_for_testing)):\n",
    "    _dict = {\"X\":dataset_for_testing[i]}\n",
    "    saits_result = saits.predict(_dict)\n",
    "    saits_imputation.append(saits_result['imputation'])"
   ]
  },
  {
   "cell_type": "markdown",
   "id": "56a72876",
   "metadata": {},
   "source": [
    "## BRITS"
   ]
  },
  {
   "cell_type": "code",
   "execution_count": 17,
   "id": "f948f409",
   "metadata": {},
   "outputs": [],
   "source": [
    "brits_imputation = []\n",
    "for i in range(len(dataset_for_testing)):\n",
    "    _dict = {\"X\":dataset_for_testing[i]}\n",
    "    brits_result = brits.predict(_dict)\n",
    "    brits_imputation.append(brits_result['imputation'])"
   ]
  },
  {
   "cell_type": "markdown",
   "id": "579ea329",
   "metadata": {},
   "source": [
    "## US-GAN"
   ]
  },
  {
   "cell_type": "code",
   "execution_count": 18,
   "id": "71a9ea59",
   "metadata": {},
   "outputs": [],
   "source": [
    "us_gan_imputation = []\n",
    "for i in range(len(dataset_for_testing)):\n",
    "    _dict = {\"X\":dataset_for_testing[i]}\n",
    "    us_gan_result = us_gan.predict(_dict)\n",
    "    us_gan_imputation.append(us_gan_result['imputation'])"
   ]
  },
  {
   "cell_type": "markdown",
   "id": "09a24eb8",
   "metadata": {},
   "source": [
    "## GP-VAE"
   ]
  },
  {
   "cell_type": "code",
   "execution_count": 19,
   "id": "49244347",
   "metadata": {},
   "outputs": [],
   "source": [
    "gp_vae_imputation = []\n",
    "for i in range(len(dataset_for_testing)):\n",
    "    _dict = {\"X\":dataset_for_testing[i]}\n",
    "    gp_vae_result = gp_vae.predict(_dict)\n",
    "    gp_vae_imputation.append(gp_vae_result['imputation'])"
   ]
  },
  {
   "cell_type": "markdown",
   "id": "f8d5bc9a",
   "metadata": {},
   "source": [
    "## MRNN"
   ]
  },
  {
   "cell_type": "code",
   "execution_count": 20,
   "id": "1faec00e",
   "metadata": {},
   "outputs": [],
   "source": [
    "mrnn_imputation = []\n",
    "for i in range(len(dataset_for_testing)):\n",
    "    _dict = {\"X\":dataset_for_testing[i]}\n",
    "    mrnn_result = mrnn.predict(_dict)\n",
    "    mrnn_imputation.append(mrnn_result['imputation'])"
   ]
  },
  {
   "cell_type": "markdown",
   "id": "f87f3496",
   "metadata": {},
   "source": [
    "# AE/MAE Models"
   ]
  },
  {
   "cell_type": "markdown",
   "id": "5d2c5b25",
   "metadata": {},
   "source": [
    "## SAITS"
   ]
  },
  {
   "cell_type": "code",
   "execution_count": 21,
   "id": "e5e341e2",
   "metadata": {},
   "outputs": [],
   "source": [
    "saits_mae = []\n",
    "saits_ae = []\n",
    "\n",
    "for i in range(len(saits_imputation)):\n",
    "    aux_mae, aux_ae = calc_mae(saits_imputation[i], test_X_ori_subgroup[i], indicating_mask_subgroup[i])\n",
    "    saits_mae.append(aux_mae)\n",
    "    saits_ae.append(aux_ae)"
   ]
  },
  {
   "cell_type": "markdown",
   "id": "6c918ca9",
   "metadata": {},
   "source": [
    "## BRITS"
   ]
  },
  {
   "cell_type": "code",
   "execution_count": 22,
   "id": "bc4f8f4c",
   "metadata": {},
   "outputs": [],
   "source": [
    "brits_mae = []\n",
    "brits_ae = []\n",
    "\n",
    "for i in range(len(brits_imputation)):\n",
    "    aux_mae, aux_ae = calc_mae(brits_imputation[i], test_X_ori_subgroup[i], indicating_mask_subgroup[i])\n",
    "    brits_mae.append(aux_mae)\n",
    "    brits_ae.append(aux_ae)"
   ]
  },
  {
   "cell_type": "markdown",
   "id": "ba76aee1",
   "metadata": {},
   "source": [
    "## USGAN"
   ]
  },
  {
   "cell_type": "code",
   "execution_count": 23,
   "id": "b70e302c",
   "metadata": {},
   "outputs": [],
   "source": [
    "us_gan_mae = []\n",
    "us_gan_ae = []\n",
    "\n",
    "for i in range(len(us_gan_imputation)):\n",
    "    aux_mae, aux_ae = calc_mae(us_gan_imputation[i], test_X_ori_subgroup[i], indicating_mask_subgroup[i])\n",
    "    us_gan_mae.append(aux_mae)\n",
    "    us_gan_ae.append(aux_ae)"
   ]
  },
  {
   "cell_type": "markdown",
   "id": "30d6fe41",
   "metadata": {},
   "source": [
    "## GPVAE"
   ]
  },
  {
   "cell_type": "code",
   "execution_count": 24,
   "id": "901b0c1c",
   "metadata": {},
   "outputs": [],
   "source": [
    "gp_vae_mae = []\n",
    "gp_vae_ae = []\n",
    "\n",
    "for i in range(len(gp_vae_imputation)):\n",
    "    gp_vae_imputation_fix = np.squeeze(gp_vae_imputation[i], axis=1)\n",
    "    aux_mae, aux_ae = calc_mae(gp_vae_imputation_fix, test_X_ori_subgroup[i], indicating_mask_subgroup[i])\n",
    "    gp_vae_mae.append(aux_mae)\n",
    "    gp_vae_ae.append(aux_ae)"
   ]
  },
  {
   "cell_type": "markdown",
   "id": "39ae8f37",
   "metadata": {},
   "source": [
    "## MRNN"
   ]
  },
  {
   "cell_type": "code",
   "execution_count": 25,
   "id": "4cddb2bc",
   "metadata": {},
   "outputs": [],
   "source": [
    "mrnn_mae = []\n",
    "mrnn_ae = []\n",
    "\n",
    "for i in range(len(mrnn_imputation)):\n",
    "    aux_mae, aux_ae = calc_mae(mrnn_imputation[i], test_X_ori_subgroup[i], indicating_mask_subgroup[i])\n",
    "    mrnn_mae.append(aux_mae)\n",
    "    mrnn_ae.append(aux_ae)"
   ]
  },
  {
   "cell_type": "markdown",
   "id": "640f3b36",
   "metadata": {},
   "source": [
    "# Gini Models"
   ]
  },
  {
   "cell_type": "markdown",
   "id": "90f13446",
   "metadata": {},
   "source": [
    "## SAITS"
   ]
  },
  {
   "cell_type": "code",
   "execution_count": 26,
   "id": "7f7a2cd3",
   "metadata": {},
   "outputs": [],
   "source": [
    "saits_ginis = []\n",
    "\n",
    "for i in range(len(saits_ae)):\n",
    "    saits_ae[i] = saits_ae[i].reshape(len(saits_ae[i])*48*37)\n",
    "    saits_ginis.append(toolkits.gini(saits_ae[i]))"
   ]
  },
  {
   "cell_type": "code",
   "execution_count": 27,
   "id": "be5e6d5c",
   "metadata": {},
   "outputs": [
    {
     "data": {
      "text/plain": [
       "[np.float64(0.5487214671675433),\n",
       " np.float64(0.5472045375576453),\n",
       " np.float64(0.5503036848476004),\n",
       " np.float64(0.5176627079692269),\n",
       " np.float64(0.5474375794148922),\n",
       " np.float64(0.5502383614631714),\n",
       " np.float64(0.5435888878847976),\n",
       " np.float64(0.5489472716984587),\n",
       " np.float64(0.549011875368939),\n",
       " np.float64(0.5508369755105551),\n",
       " np.float64(0.545940039442044),\n",
       " np.float64(0.5513664140608352),\n",
       " np.float64(0.5479675203931538),\n",
       " np.float64(0.5515527600631114),\n",
       " np.float64(0.5548843022508989),\n",
       " np.float64(0.5509181832728041),\n",
       " np.float64(0.5608951955407246)]"
      ]
     },
     "execution_count": 27,
     "metadata": {},
     "output_type": "execute_result"
    }
   ],
   "source": [
    "saits_ginis"
   ]
  },
  {
   "cell_type": "markdown",
   "id": "6bc16a61",
   "metadata": {},
   "source": [
    "## BRITS"
   ]
  },
  {
   "cell_type": "code",
   "execution_count": 28,
   "id": "54780ae9",
   "metadata": {},
   "outputs": [],
   "source": [
    "brits_ginis = []\n",
    "\n",
    "for i in range(len(brits_ae)):\n",
    "    brits_ae[i] = brits_ae[i].reshape(len(brits_ae[i])*48*37)\n",
    "    brits_ginis.append(toolkits.gini(brits_ae[i]))"
   ]
  },
  {
   "cell_type": "code",
   "execution_count": 29,
   "id": "d231554a",
   "metadata": {},
   "outputs": [
    {
     "data": {
      "text/plain": [
       "[np.float64(0.592741084674985),\n",
       " np.float64(0.5909028925193482),\n",
       " np.float64(0.5941360031276413),\n",
       " np.float64(0.573110285137687),\n",
       " np.float64(0.5935625131232738),\n",
       " np.float64(0.5915644696916396),\n",
       " np.float64(0.586939353263334),\n",
       " np.float64(0.5980453048184342),\n",
       " np.float64(0.5965319845743837),\n",
       " np.float64(0.5863151906863731),\n",
       " np.float64(0.5891037341666552),\n",
       " np.float64(0.5862304793940845),\n",
       " np.float64(0.5955328715473043),\n",
       " np.float64(0.595556255533837),\n",
       " np.float64(0.5956846752251219),\n",
       " np.float64(0.5941990518260556),\n",
       " np.float64(0.6043933960684573)]"
      ]
     },
     "execution_count": 29,
     "metadata": {},
     "output_type": "execute_result"
    }
   ],
   "source": [
    "brits_ginis"
   ]
  },
  {
   "cell_type": "markdown",
   "id": "69e3b1c7",
   "metadata": {},
   "source": [
    "## US-GAN"
   ]
  },
  {
   "cell_type": "code",
   "execution_count": 30,
   "id": "59431a38",
   "metadata": {},
   "outputs": [],
   "source": [
    "us_gan_ginis = []\n",
    "\n",
    "for i in range(len(us_gan_ae)):\n",
    "    us_gan_ae[i] = us_gan_ae[i].reshape(len(us_gan_ae[i])*48*37)\n",
    "    us_gan_ginis.append(toolkits.gini(us_gan_ae[i]))"
   ]
  },
  {
   "cell_type": "code",
   "execution_count": 31,
   "id": "c1738cc2",
   "metadata": {},
   "outputs": [
    {
     "data": {
      "text/plain": [
       "[np.float64(0.6530495247432959),\n",
       " np.float64(0.6499284175702373),\n",
       " np.float64(0.6554331274054435),\n",
       " np.float64(0.6038760308991644),\n",
       " np.float64(0.6514461138488092),\n",
       " np.float64(0.6550339384040282),\n",
       " np.float64(0.6390442305433826),\n",
       " np.float64(0.6723713903217969),\n",
       " np.float64(0.6438886161059825),\n",
       " np.float64(0.6547659878586771),\n",
       " np.float64(0.6435542611787677),\n",
       " np.float64(0.6538218400212623),\n",
       " np.float64(0.6601800617722127),\n",
       " np.float64(0.6629244512427519),\n",
       " np.float64(0.6632810162294351),\n",
       " np.float64(0.6595838071145177),\n",
       " np.float64(0.6608289912281815)]"
      ]
     },
     "execution_count": 31,
     "metadata": {},
     "output_type": "execute_result"
    }
   ],
   "source": [
    "us_gan_ginis"
   ]
  },
  {
   "cell_type": "markdown",
   "id": "2cd65bc0",
   "metadata": {},
   "source": [
    "## GP-VAE"
   ]
  },
  {
   "cell_type": "code",
   "execution_count": 32,
   "id": "b00bf451",
   "metadata": {},
   "outputs": [],
   "source": [
    "gp_vae_ginis = []\n",
    "\n",
    "for i in range(len(gp_vae_ae)):\n",
    "    gp_vae_ae[i] = gp_vae_ae[i].reshape(len(gp_vae_ae[i])*48*37)\n",
    "    gp_vae_ginis.append(toolkits.gini(gp_vae_ae[i]))"
   ]
  },
  {
   "cell_type": "code",
   "execution_count": 33,
   "id": "2e2c8545",
   "metadata": {},
   "outputs": [
    {
     "data": {
      "text/plain": [
       "[np.float64(0.6139831641630205),\n",
       " np.float64(0.6125614039524674),\n",
       " np.float64(0.6156229027898539),\n",
       " np.float64(0.5975784227555638),\n",
       " np.float64(0.6110162952036104),\n",
       " np.float64(0.6169350117926335),\n",
       " np.float64(0.6022356398221163),\n",
       " np.float64(0.61319289299411),\n",
       " np.float64(0.6145132135818177),\n",
       " np.float64(0.6186603797818135),\n",
       " np.float64(0.6129241816060156),\n",
       " np.float64(0.6192004468919334),\n",
       " np.float64(0.6154260693522435),\n",
       " np.float64(0.6178367139036256),\n",
       " np.float64(0.6142979929362999),\n",
       " np.float64(0.6121548482848884),\n",
       " np.float64(0.6128499487405066)]"
      ]
     },
     "execution_count": 33,
     "metadata": {},
     "output_type": "execute_result"
    }
   ],
   "source": [
    "gp_vae_ginis"
   ]
  },
  {
   "cell_type": "markdown",
   "id": "d0e151e1",
   "metadata": {},
   "source": [
    "## MRNN"
   ]
  },
  {
   "cell_type": "code",
   "execution_count": 34,
   "id": "bd517f2b",
   "metadata": {},
   "outputs": [],
   "source": [
    "mrnn_ginis = []\n",
    "\n",
    "for i in range(len(mrnn_ae)):\n",
    "    mrnn_ae[i] = mrnn_ae[i].reshape(len(mrnn_ae[i])*48*37)\n",
    "    mrnn_ginis.append(toolkits.gini(mrnn_ae[i]))"
   ]
  },
  {
   "cell_type": "code",
   "execution_count": 35,
   "id": "c910799a",
   "metadata": {},
   "outputs": [
    {
     "data": {
      "text/plain": [
       "[np.float64(0.33234427376132825),\n",
       " np.float64(0.3346662178739479),\n",
       " np.float64(0.33066728151191027),\n",
       " np.float64(0.23307058739225073),\n",
       " np.float64(0.33220366056644623),\n",
       " np.float64(0.3332104711467936),\n",
       " np.float64(0.31249969348744444),\n",
       " np.float64(0.33216280632564077),\n",
       " np.float64(0.33401597306046726),\n",
       " np.float64(0.341832868892453),\n",
       " np.float64(0.32519029309308367),\n",
       " np.float64(0.35521619795764225),\n",
       " np.float64(0.337419930291202),\n",
       " np.float64(0.33823532510101284),\n",
       " np.float64(0.33604543563135647),\n",
       " np.float64(0.33395311518926496),\n",
       " np.float64(0.35137757823445925)]"
      ]
     },
     "execution_count": 35,
     "metadata": {},
     "output_type": "execute_result"
    }
   ],
   "source": [
    "mrnn_ginis"
   ]
  }
 ],
 "metadata": {
  "kernelspec": {
   "display_name": "Python 3",
   "language": "python",
   "name": "python3"
  },
  "language_info": {
   "codemirror_mode": {
    "name": "ipython",
    "version": 3
   },
   "file_extension": ".py",
   "mimetype": "text/x-python",
   "name": "python",
   "nbconvert_exporter": "python",
   "pygments_lexer": "ipython3",
   "version": "3.11.0"
  }
 },
 "nbformat": 4,
 "nbformat_minor": 5
}

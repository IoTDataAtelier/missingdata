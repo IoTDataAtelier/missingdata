{
 "cells": [
  {
   "cell_type": "markdown",
   "id": "0de777d3",
   "metadata": {},
   "source": [
    "# Import libraries "
   ]
  },
  {
   "cell_type": "code",
   "execution_count": 1,
   "id": "45b16b79",
   "metadata": {},
   "outputs": [
    {
     "name": "stderr",
     "output_type": "stream",
     "text": [
      "2025-05-12 13:52:08.256436: E external/local_xla/xla/stream_executor/cuda/cuda_fft.cc:477] Unable to register cuFFT factory: Attempting to register factory for plugin cuFFT when one has already been registered\n",
      "WARNING: All log messages before absl::InitializeLog() is called are written to STDERR\n",
      "E0000 00:00:1747068728.278331  902237 cuda_dnn.cc:8310] Unable to register cuDNN factory: Attempting to register factory for plugin cuDNN when one has already been registered\n",
      "E0000 00:00:1747068728.284896  902237 cuda_blas.cc:1418] Unable to register cuBLAS factory: Attempting to register factory for plugin cuBLAS when one has already been registered\n",
      "2025-05-12 13:52:08.306244: I tensorflow/core/platform/cpu_feature_guard.cc:210] This TensorFlow binary is optimized to use available CPU instructions in performance-critical operations.\n",
      "To enable the following instructions: AVX2 FMA, in other operations, rebuild TensorFlow with the appropriate compiler flags.\n",
      "/usr/local/lib/python3.11/dist-packages/tqdm/auto.py:21: TqdmWarning: IProgress not found. Please update jupyter and ipywidgets. See https://ipywidgets.readthedocs.io/en/stable/user_install.html\n",
      "  from .autonotebook import tqdm as notebook_tqdm\n"
     ]
    },
    {
     "name": "stdout",
     "output_type": "stream",
     "text": [
      "\u001b[34m\n",
      "████████╗██╗███╗   ███╗███████╗    ███████╗███████╗██████╗ ██╗███████╗███████╗    █████╗ ██╗\n",
      "╚══██╔══╝██║████╗ ████║██╔════╝    ██╔════╝██╔════╝██╔══██╗██║██╔════╝██╔════╝   ██╔══██╗██║\n",
      "   ██║   ██║██╔████╔██║█████╗█████╗███████╗█████╗  ██████╔╝██║█████╗  ███████╗   ███████║██║\n",
      "   ██║   ██║██║╚██╔╝██║██╔══╝╚════╝╚════██║██╔══╝  ██╔══██╗██║██╔══╝  ╚════██║   ██╔══██║██║\n",
      "   ██║   ██║██║ ╚═╝ ██║███████╗    ███████║███████╗██║  ██║██║███████╗███████║██╗██║  ██║██║\n",
      "   ╚═╝   ╚═╝╚═╝     ╚═╝╚══════╝    ╚══════╝╚══════╝╚═╝  ╚═╝╚═╝╚══════╝╚══════╝╚═╝╚═╝  ╚═╝╚═╝\n",
      "ai4ts v0.0.3 - building AI for unified time-series analysis, https://time-series.ai \u001b[0m\n",
      "\n"
     ]
    }
   ],
   "source": [
    "import os\n",
    "import sys\n",
    "import pypots\n",
    "import numpy as np\n",
    "import benchpots\n",
    "import matplotlib.pyplot as plt\n",
    "from pypots.optim import Adam\n",
    "from pypots.imputation import SAITS, BRITS, USGAN, GPVAE, MRNN\n",
    "from pypots.utils.random import set_random_seed\n",
    "from functions.toolkits import toolkits\n",
    "module_path = os.path.abspath(os.path.join('..'))\n",
    "if module_path not in sys.path:\n",
    "    sys.path.append(module_path)\n",
    "\n",
    "from MAEModify.error import calc_mae\n",
    "from pypotsModify.benchpotsMAE.datasets import preprocess_physionet2012 as preprocess_physionet2012\n"
   ]
  },
  {
   "cell_type": "markdown",
   "id": "053004f2",
   "metadata": {},
   "source": [
    "# Load Dataset"
   ]
  },
  {
   "cell_type": "code",
   "execution_count": 2,
   "id": "4980a154",
   "metadata": {},
   "outputs": [
    {
     "name": "stderr",
     "output_type": "stream",
     "text": [
      "2025-05-12 13:52:17 [INFO]: Have set the random seed as 2022 for numpy and pytorch.\n",
      "2025-05-12 13:52:17 [INFO]: You're using dataset physionet_2012, please cite it properly in your work. You can find its reference information at the below link: \n",
      "https://github.com/WenjieDu/TSDB/tree/main/dataset_profiles/physionet_2012\n",
      "2025-05-12 13:52:17 [INFO]: Dataset physionet_2012 has already been downloaded. Processing directly...\n",
      "2025-05-12 13:52:17 [INFO]: Dataset physionet_2012 has already been cached. Loading from cache directly...\n",
      "2025-05-12 13:52:17 [INFO]: Loaded successfully!\n",
      "2025-05-12 13:52:34 [WARNING]: Note that physionet_2012 has sparse observations in the time series, hence we don't add additional missing values to the training dataset. \n",
      "2025-05-12 13:52:34 [WARNING]: Note that physionet_2012 has sparse observations in the time series, hence we don't add additional missing values to the training dataset. \n",
      "2025-05-12 13:52:34 [INFO]: 68807 values masked out in the val set as ground truth, take 9.97% of the original observed values\n",
      "2025-05-12 13:52:34 [INFO]: 68807 values masked out in the val set as ground truth, take 9.97% of the original observed values\n",
      "2025-05-12 13:52:34 [INFO]: 86319 values masked out in the test set as ground truth, take 9.99% of the original observed values\n",
      "2025-05-12 13:52:34 [INFO]: 86319 values masked out in the test set as ground truth, take 9.99% of the original observed values\n",
      "2025-05-12 13:52:34 [INFO]: Total sample number: 11988\n",
      "2025-05-12 13:52:34 [INFO]: Total sample number: 11988\n",
      "2025-05-12 13:52:34 [INFO]: Training set size: 7671 (63.99%)\n",
      "2025-05-12 13:52:34 [INFO]: Training set size: 7671 (63.99%)\n",
      "2025-05-12 13:52:34 [INFO]: Validation set size: 1918 (16.00%)\n",
      "2025-05-12 13:52:34 [INFO]: Validation set size: 1918 (16.00%)\n",
      "2025-05-12 13:52:34 [INFO]: Test set size: 2399 (20.01%)\n",
      "2025-05-12 13:52:34 [INFO]: Test set size: 2399 (20.01%)\n",
      "2025-05-12 13:52:34 [INFO]: Number of steps: 48\n",
      "2025-05-12 13:52:34 [INFO]: Number of steps: 48\n",
      "2025-05-12 13:52:34 [INFO]: Number of features: 37\n",
      "2025-05-12 13:52:34 [INFO]: Number of features: 37\n",
      "2025-05-12 13:52:34 [INFO]: Train set missing rate: 79.70%\n",
      "2025-05-12 13:52:34 [INFO]: Train set missing rate: 79.70%\n",
      "2025-05-12 13:52:34 [INFO]: Validating set missing rate: 81.75%\n",
      "2025-05-12 13:52:34 [INFO]: Validating set missing rate: 81.75%\n",
      "2025-05-12 13:52:34 [INFO]: Test set missing rate: 81.75%\n",
      "2025-05-12 13:52:34 [INFO]: Test set missing rate: 81.75%\n"
     ]
    },
    {
     "name": "stdout",
     "output_type": "stream",
     "text": [
      "dict_keys(['n_classes', 'n_steps', 'n_features', 'scaler', 'train_X', 'train_y', 'train_ICUType', 'val_X', 'val_y', 'val_ICUType', 'test_X', 'test_y', 'test_ICUType', 'female_gender_test_X', 'female_gender_test_y', 'test_ICUType_female_gender', 'male_gender_test_X', 'male_gender_test_y', 'test_ICUType_male_gender', 'undefined_gender_test_X', 'undefined_gender_test_y', 'test_ICUType_undefined_gender', 'more_than_or_equal_to_65_test_X', 'more_than_or_equal_to_65_test_y', 'test_ICUType_more_than_or_equal_to_65', 'less_than_65_test_X', 'less_than_65_test_y', 'test_ICUType_less_than_65', 'classificacao_undefined_test_X', 'classificacao_undefined_test_y', 'test_ICUType_classificacao_undefined', 'classificacao_baixo_peso_test_X', 'classificacao_baixo_peso_test_y', 'test_ICUType_classificao_baixo_peso', 'classificacao_normal_peso_test_X', 'classificacao_normal_peso_test_y', 'test_ICUType_classificacao_normal_peso', 'classificacao_sobrepeso_test_X', 'classificacao_sobrepeso_test_y', 'test_ICUType_classificacao_sobrepeso', 'classificacao_obesidade_test_X', 'classificacao_obesidade_test_y', 'test_ICUType_classificacao_obesidade', 'val_X_ori', 'test_X_ori', 'female_gender_test_X_ori', 'male_gender_test_X_ori', 'undefined_gender_test_X_ori', 'more_than_or_equal_to_65_test_X_ori', 'less_than_65_test_X_ori', 'classificacao_undefined_test_X_ori', 'classificacao_baixo_peso_test_X_ori', 'classificacao_normal_peso_test_X_ori', 'classificacao_sobrepeso_test_X_ori', 'classificacao_obesidade_test_X_ori'])\n"
     ]
    }
   ],
   "source": [
    "set_random_seed()\n",
    "physionet2012_dataset = preprocess_physionet2012(subset=\"all\", rate=0.1, normalization=1)\n",
    "print(physionet2012_dataset.keys())"
   ]
  },
  {
   "cell_type": "code",
   "execution_count": 3,
   "id": "cc3d8861",
   "metadata": {},
   "outputs": [],
   "source": [
    "dataset_for_training, dataset_for_validating, dataset_for_testing_ori, dataset_for_testing = toolkits.separating_dataset(physionet2012_dataset)"
   ]
  },
  {
   "cell_type": "code",
   "execution_count": 4,
   "id": "5d893cf4",
   "metadata": {},
   "outputs": [],
   "source": [
    "dataset_for_testing_ori= toolkits.dict_to_list(dataset_for_testing_ori)\n",
    "dataset_for_testing = toolkits.dict_to_list(dataset_for_testing)"
   ]
  },
  {
   "cell_type": "code",
   "execution_count": 5,
   "id": "acb51cc4",
   "metadata": {},
   "outputs": [],
   "source": [
    "indicating_mask_subgroup, test_X_ori_subgroup = toolkits.components_mae(dataset_for_testing_ori, dataset_for_testing)"
   ]
  },
  {
   "cell_type": "markdown",
   "id": "7006512c",
   "metadata": {},
   "source": [
    "# Train/Load Models"
   ]
  },
  {
   "cell_type": "markdown",
   "id": "00656649",
   "metadata": {},
   "source": [
    "## SAITS"
   ]
  },
  {
   "cell_type": "code",
   "execution_count": 6,
   "id": "24eab9c7",
   "metadata": {},
   "outputs": [
    {
     "name": "stderr",
     "output_type": "stream",
     "text": [
      "2025-05-12 13:52:34 [INFO]: No given device, using default device: cpu\n",
      "2025-05-12 13:52:34 [WARNING]: ‼️ saving_path not given. Model files and tensorboard file will not be saved.\n",
      "2025-05-12 13:52:34 [INFO]: Using customized MAE as the training loss function.\n",
      "2025-05-12 13:52:34 [INFO]: Using customized MSE as the validation metric function.\n",
      "2025-05-12 13:52:34 [INFO]: SAITS initialized with the given hyperparameters, the number of trainable parameters: 720,182\n"
     ]
    }
   ],
   "source": [
    "saits = SAITS(\n",
    "    n_steps=physionet2012_dataset['n_steps'],\n",
    "    n_features=physionet2012_dataset['n_features'],\n",
    "    n_layers=1,\n",
    "    d_model=256,\n",
    "    d_ffn=128,\n",
    "    n_heads=4,\n",
    "    d_k=64,\n",
    "    d_v=64,\n",
    "    dropout=0.1,\n",
    "    ORT_weight=1,  \n",
    "    MIT_weight=1,\n",
    "    batch_size=32,\n",
    "    epochs=10,\n",
    "    patience=3,\n",
    "    optimizer=Adam(lr=1e-3),\n",
    "    num_workers=0,\n",
    "    device=None,\n",
    "    model_saving_strategy=\"best\",\n",
    ")"
   ]
  },
  {
   "cell_type": "code",
   "execution_count": 7,
   "id": "f15b58d8",
   "metadata": {},
   "outputs": [
    {
     "name": "stderr",
     "output_type": "stream",
     "text": [
      "2025-05-12 13:52:34 [INFO]: Model loaded successfully from ../mae/tutorial_results/imputation/saits/20250422_T181642/SAITS.pypots\n"
     ]
    }
   ],
   "source": [
    "saits.load(\"../mae/tutorial_results/imputation/saits/20250422_T181642/SAITS.pypots\")"
   ]
  },
  {
   "cell_type": "markdown",
   "id": "5bfc945b",
   "metadata": {},
   "source": [
    "## BRITS"
   ]
  },
  {
   "cell_type": "code",
   "execution_count": 8,
   "id": "7fe81adf",
   "metadata": {},
   "outputs": [
    {
     "name": "stderr",
     "output_type": "stream",
     "text": [
      "2025-05-12 13:52:34 [INFO]: No given device, using default device: cpu\n",
      "2025-05-12 13:52:34 [WARNING]: ‼️ saving_path not given. Model files and tensorboard file will not be saved.\n",
      "2025-05-12 13:52:34 [INFO]: Using customized MAE as the training loss function.\n",
      "2025-05-12 13:52:34 [INFO]: Using customized MSE as the validation metric function.\n",
      "2025-05-12 13:52:34 [INFO]: BRITS initialized with the given hyperparameters, the number of trainable parameters: 239,344\n"
     ]
    }
   ],
   "source": [
    "brits = BRITS(\n",
    "    n_steps=physionet2012_dataset['n_steps'],\n",
    "    n_features=physionet2012_dataset['n_features'],\n",
    "    rnn_hidden_size=128,\n",
    "    batch_size=32,\n",
    "    epochs=10,\n",
    "    patience=3,\n",
    "    optimizer=Adam(lr=1e-3),\n",
    "    num_workers=0,\n",
    "    device=None,\n",
    "    model_saving_strategy=\"best\",\n",
    ")"
   ]
  },
  {
   "cell_type": "code",
   "execution_count": 9,
   "id": "216b89a4",
   "metadata": {},
   "outputs": [
    {
     "name": "stderr",
     "output_type": "stream",
     "text": [
      "2025-05-12 13:52:34 [INFO]: Model loaded successfully from ../mae/tutorial_results/imputation/brits/20250422_T181643/BRITS.pypots\n"
     ]
    }
   ],
   "source": [
    "brits.load(\"../mae/tutorial_results/imputation/brits/20250422_T181643/BRITS.pypots\")"
   ]
  },
  {
   "cell_type": "markdown",
   "id": "bc81399d",
   "metadata": {},
   "source": [
    "## USGAN"
   ]
  },
  {
   "cell_type": "code",
   "execution_count": 10,
   "id": "6eb2b1db",
   "metadata": {},
   "outputs": [
    {
     "name": "stderr",
     "output_type": "stream",
     "text": [
      "2025-05-12 13:52:34 [INFO]: No given device, using default device: cpu\n",
      "2025-05-12 13:52:34 [WARNING]: ‼️ saving_path not given. Model files and tensorboard file will not be saved.\n",
      "2025-05-12 13:52:34 [INFO]: USGAN initialized with the given hyperparameters, the number of trainable parameters: 1,258,517\n"
     ]
    }
   ],
   "source": [
    "us_gan = USGAN(\n",
    "    n_steps=physionet2012_dataset['n_steps'],\n",
    "    n_features=physionet2012_dataset['n_features'],\n",
    "    rnn_hidden_size=256,\n",
    "    lambda_mse=1,\n",
    "    dropout=0.1,\n",
    "    G_steps=1,\n",
    "    D_steps=1,\n",
    "    batch_size=32,\n",
    "    epochs=10,\n",
    "    patience=3,\n",
    "    G_optimizer=Adam(lr=1e-3),\n",
    "    D_optimizer=Adam(lr=1e-3),\n",
    "    num_workers=0,\n",
    "    device=None,\n",
    "    model_saving_strategy=\"best\",\n",
    ")"
   ]
  },
  {
   "cell_type": "code",
   "execution_count": 11,
   "id": "e731e788",
   "metadata": {},
   "outputs": [
    {
     "name": "stderr",
     "output_type": "stream",
     "text": [
      "2025-05-12 13:52:34 [INFO]: Model loaded successfully from ../mae/tutorial_results/imputation/us_gan/20250422_T181643/USGAN.pypots\n"
     ]
    }
   ],
   "source": [
    "us_gan.load(\"../mae/tutorial_results/imputation/us_gan/20250422_T181643/USGAN.pypots\")"
   ]
  },
  {
   "cell_type": "markdown",
   "id": "d7520921",
   "metadata": {},
   "source": [
    "## GPVAE"
   ]
  },
  {
   "cell_type": "code",
   "execution_count": 12,
   "id": "e860bd46",
   "metadata": {},
   "outputs": [
    {
     "name": "stderr",
     "output_type": "stream",
     "text": [
      "2025-05-12 13:52:34 [INFO]: No given device, using default device: cpu\n",
      "2025-05-12 13:52:34 [WARNING]: ‼️ saving_path not given. Model files and tensorboard file will not be saved.\n",
      "2025-05-12 13:52:34 [INFO]: GPVAE initialized with the given hyperparameters, the number of trainable parameters: 229,652\n"
     ]
    }
   ],
   "source": [
    "gp_vae = GPVAE(\n",
    "    n_steps=physionet2012_dataset['n_steps'],\n",
    "    n_features=physionet2012_dataset['n_features'],\n",
    "    latent_size=37,\n",
    "    encoder_sizes=(128,128),\n",
    "    decoder_sizes=(256,256),\n",
    "    kernel=\"cauchy\",\n",
    "    beta=0.2,\n",
    "    M=1,\n",
    "    K=1,\n",
    "    sigma=1.005,\n",
    "    length_scale=7.0,\n",
    "    kernel_scales=1,\n",
    "    window_size=24,\n",
    "    batch_size=32,\n",
    "    epochs=10,\n",
    "    patience=3,\n",
    "    optimizer=Adam(lr=1e-3),\n",
    "    num_workers=0,\n",
    "    device=None,\n",
    "    model_saving_strategy=\"best\",\n",
    ")"
   ]
  },
  {
   "cell_type": "code",
   "execution_count": 13,
   "id": "a7b55c4e",
   "metadata": {},
   "outputs": [
    {
     "name": "stderr",
     "output_type": "stream",
     "text": [
      "2025-05-12 13:52:34 [INFO]: Model loaded successfully from ../mae/tutorial_results/imputation/gp_vae/20250422_T181643/GPVAE.pypots\n"
     ]
    }
   ],
   "source": [
    "gp_vae.load(\"../mae/tutorial_results/imputation/gp_vae/20250422_T181643/GPVAE.pypots\")"
   ]
  },
  {
   "cell_type": "markdown",
   "id": "fcf8d70a",
   "metadata": {},
   "source": [
    "## MRNN"
   ]
  },
  {
   "cell_type": "code",
   "execution_count": 14,
   "id": "0512bb11",
   "metadata": {},
   "outputs": [
    {
     "name": "stderr",
     "output_type": "stream",
     "text": [
      "2025-05-12 13:52:34 [INFO]: No given device, using default device: cpu\n",
      "2025-05-12 13:52:34 [WARNING]: ‼️ saving_path not given. Model files and tensorboard file will not be saved.\n",
      "2025-05-12 13:52:34 [INFO]: Using customized RMSE as the training loss function.\n",
      "2025-05-12 13:52:34 [INFO]: Using customized MSE as the validation metric function.\n",
      "2025-05-12 13:52:34 [INFO]: MRNN initialized with the given hyperparameters, the number of trainable parameters: 107,951\n"
     ]
    }
   ],
   "source": [
    "mrnn = MRNN(\n",
    "    n_steps=physionet2012_dataset['n_steps'],\n",
    "    n_features=physionet2012_dataset['n_features'],\n",
    "    rnn_hidden_size=128,\n",
    "    epochs=10,\n",
    "    patience=3,\n",
    "    optimizer=Adam(lr=1e-3),\n",
    "    num_workers=0,\n",
    "    device=None,\n",
    "    model_saving_strategy=\"best\",\n",
    ")"
   ]
  },
  {
   "cell_type": "code",
   "execution_count": 15,
   "id": "4d35fae8",
   "metadata": {},
   "outputs": [
    {
     "name": "stderr",
     "output_type": "stream",
     "text": [
      "2025-05-12 13:52:34 [INFO]: Model loaded successfully from ../mae/tutorial_results/imputation/mrnn/20250422_T181643/MRNN.pypots\n"
     ]
    }
   ],
   "source": [
    "mrnn.load(\"../mae/tutorial_results/imputation/mrnn/20250422_T181643/MRNN.pypots\")"
   ]
  },
  {
   "cell_type": "markdown",
   "id": "f2869a81",
   "metadata": {},
   "source": [
    "# Imputation Models"
   ]
  },
  {
   "cell_type": "markdown",
   "id": "dcab681e",
   "metadata": {},
   "source": [
    "## SAITS"
   ]
  },
  {
   "cell_type": "code",
   "execution_count": 16,
   "id": "56f7036a",
   "metadata": {},
   "outputs": [],
   "source": [
    "saits_imputation = []\n",
    "for i in range(len(dataset_for_testing)):\n",
    "    _dict = {\"X\":dataset_for_testing[i]}\n",
    "    saits_result = saits.predict(_dict)\n",
    "    saits_imputation.append(saits_result['imputation'])"
   ]
  },
  {
   "cell_type": "markdown",
   "id": "adb059db",
   "metadata": {},
   "source": [
    "## BRITS"
   ]
  },
  {
   "cell_type": "code",
   "execution_count": 17,
   "id": "c44d29b9",
   "metadata": {},
   "outputs": [],
   "source": [
    "brits_imputation = []\n",
    "for i in range(len(dataset_for_testing)):\n",
    "    _dict = {\"X\":dataset_for_testing[i]}\n",
    "    brits_result = brits.predict(_dict)\n",
    "    brits_imputation.append(brits_result['imputation'])"
   ]
  },
  {
   "cell_type": "markdown",
   "id": "a2b0a95b",
   "metadata": {},
   "source": [
    "## USGAN"
   ]
  },
  {
   "cell_type": "code",
   "execution_count": 18,
   "id": "c866f263",
   "metadata": {},
   "outputs": [],
   "source": [
    "us_gan_imputation = []\n",
    "for i in range(len(dataset_for_testing)):\n",
    "    _dict = {\"X\":dataset_for_testing[i]}\n",
    "    us_gan_result = us_gan.predict(_dict)\n",
    "    us_gan_imputation.append(us_gan_result['imputation'])"
   ]
  },
  {
   "cell_type": "markdown",
   "id": "7cab577f",
   "metadata": {},
   "source": [
    "## GPVAE"
   ]
  },
  {
   "cell_type": "code",
   "execution_count": 19,
   "id": "af3ffbf3",
   "metadata": {},
   "outputs": [],
   "source": [
    "gp_vae_imputation = []\n",
    "for i in range(len(dataset_for_testing)):\n",
    "    _dict = {\"X\":dataset_for_testing[i]}\n",
    "    gp_vae_result = gp_vae.predict(_dict)\n",
    "    gp_vae_imputation.append(gp_vae_result['imputation'])"
   ]
  },
  {
   "cell_type": "markdown",
   "id": "d223558e",
   "metadata": {},
   "source": [
    "## MRNN"
   ]
  },
  {
   "cell_type": "code",
   "execution_count": 20,
   "id": "629a70e0",
   "metadata": {},
   "outputs": [],
   "source": [
    "mrnn_imputation = []\n",
    "for i in range(len(dataset_for_testing)):\n",
    "    _dict = {\"X\":dataset_for_testing[i]}\n",
    "    mrnn_result = mrnn.predict(_dict)\n",
    "    mrnn_imputation.append(mrnn_result['imputation'])"
   ]
  },
  {
   "cell_type": "markdown",
   "id": "437f77e9",
   "metadata": {},
   "source": [
    "# AE/MAE Models"
   ]
  },
  {
   "cell_type": "markdown",
   "id": "ffb1dfff",
   "metadata": {},
   "source": [
    "## SAITS"
   ]
  },
  {
   "cell_type": "code",
   "execution_count": 21,
   "id": "8e67dc26",
   "metadata": {},
   "outputs": [],
   "source": [
    "saits_mae = []\n",
    "saits_ae = []\n",
    "\n",
    "for i in range(len(saits_imputation)):\n",
    "    aux_mae, aux_ae = calc_mae(saits_imputation[i], test_X_ori_subgroup[i], indicating_mask_subgroup[i])\n",
    "    saits_mae.append(aux_mae)\n",
    "    saits_ae.append(aux_ae)"
   ]
  },
  {
   "cell_type": "markdown",
   "id": "d442306e",
   "metadata": {},
   "source": [
    "## BRITS"
   ]
  },
  {
   "cell_type": "code",
   "execution_count": 22,
   "id": "b0627a79",
   "metadata": {},
   "outputs": [],
   "source": [
    "brits_mae = []\n",
    "brits_ae = []\n",
    "\n",
    "for i in range(len(brits_imputation)):\n",
    "    aux_mae, aux_ae = calc_mae(brits_imputation[i], test_X_ori_subgroup[i], indicating_mask_subgroup[i])\n",
    "    brits_mae.append(aux_mae)\n",
    "    brits_ae.append(aux_ae)"
   ]
  },
  {
   "cell_type": "markdown",
   "id": "31ddcd0c",
   "metadata": {},
   "source": [
    "## USGAN"
   ]
  },
  {
   "cell_type": "code",
   "execution_count": 23,
   "id": "2c0d8184",
   "metadata": {},
   "outputs": [],
   "source": [
    "us_gan_mae = []\n",
    "us_gan_ae = []\n",
    "\n",
    "for i in range(len(us_gan_imputation)):\n",
    "    aux_mae, aux_ae = calc_mae(us_gan_imputation[i], test_X_ori_subgroup[i], indicating_mask_subgroup[i])\n",
    "    us_gan_mae.append(aux_mae)\n",
    "    us_gan_ae.append(aux_ae)"
   ]
  },
  {
   "cell_type": "markdown",
   "id": "cb4f84bf",
   "metadata": {},
   "source": [
    "## GPVAE"
   ]
  },
  {
   "cell_type": "code",
   "execution_count": 24,
   "id": "84aa827d",
   "metadata": {},
   "outputs": [],
   "source": [
    "gp_vae_mae = []\n",
    "gp_vae_ae = []\n",
    "\n",
    "for i in range(len(gp_vae_imputation)):\n",
    "    gp_vae_imputation_fix = np.squeeze(gp_vae_imputation[i], axis=1)\n",
    "    aux_mae, aux_ae = calc_mae(gp_vae_imputation_fix, test_X_ori_subgroup[i], indicating_mask_subgroup[i])\n",
    "    gp_vae_mae.append(aux_mae)\n",
    "    gp_vae_ae.append(aux_ae)"
   ]
  },
  {
   "cell_type": "markdown",
   "id": "28e04a44",
   "metadata": {},
   "source": [
    "## MRNN"
   ]
  },
  {
   "cell_type": "code",
   "execution_count": 25,
   "id": "f3b0cddd",
   "metadata": {},
   "outputs": [],
   "source": [
    "mrnn_mae = []\n",
    "mrnn_ae = []\n",
    "\n",
    "for i in range(len(mrnn_imputation)):\n",
    "    aux_mae, aux_ae = calc_mae(mrnn_imputation[i], test_X_ori_subgroup[i], indicating_mask_subgroup[i])\n",
    "    mrnn_mae.append(aux_mae)\n",
    "    mrnn_ae.append(aux_ae)"
   ]
  },
  {
   "cell_type": "markdown",
   "id": "daf3b0fe",
   "metadata": {},
   "source": [
    "# IC Models"
   ]
  },
  {
   "cell_type": "code",
   "execution_count": 27,
   "id": "4f34ae04",
   "metadata": {},
   "outputs": [],
   "source": [
    "subgroups = [1,2,4,5,6,7,8,9,10]\n",
    "for i in subgroups:\n",
    "    indicating_mask_subgroup[i] = indicating_mask_subgroup[i].reshape(len(indicating_mask_subgroup[i])*48*37)"
   ]
  },
  {
   "cell_type": "markdown",
   "id": "8d6e3ca5",
   "metadata": {},
   "source": [
    "## SAITS"
   ]
  },
  {
   "cell_type": "code",
   "execution_count": 27,
   "id": "59437894",
   "metadata": {},
   "outputs": [],
   "source": [
    "for i in subgroups:\n",
    "    saits_ae[i] = saits_ae[i].reshape(len(saits_ae[i]) *48 * 37)"
   ]
  },
  {
   "cell_type": "code",
   "execution_count": 28,
   "id": "e607a438",
   "metadata": {},
   "outputs": [],
   "source": [
    "bootstrap_saits = []\n",
    "\n",
    "for i in subgroups:\n",
    "    bootstrap_saits.append(toolkits.bootstrap_v2(saits_ae, indicating_mask_subgroup, i, 9000))"
   ]
  },
  {
   "cell_type": "code",
   "execution_count": 29,
   "id": "1524ff93",
   "metadata": {},
   "outputs": [
    {
     "name": "stdout",
     "output_type": "stream",
     "text": [
      "[np.float64(0.23646403701078456), np.float64(0.2420292305185013), np.float64(0.23205884266152668), np.float64(0.2466574759137788), np.float64(0.25010204921876156), np.float64(0.24168280105467854), np.float64(0.2277976157470241), np.float64(0.23019737142052993), np.float64(0.22442615071501457)]\n",
      "[np.float64(0.24563971014585365), np.float64(0.25093853302932345), np.float64(0.24101081497948487), np.float64(0.25772797406041914), np.float64(0.26157281464085863), np.float64(0.2823500607648644), np.float64(0.24512983485888834), np.float64(0.24627158891297163), np.float64(0.23843190323116042)]\n"
     ]
    }
   ],
   "source": [
    "lower_bound_saits = []\n",
    "upper_bound_saits = []\n",
    "\n",
    "for i in range(len(bootstrap_saits)):\n",
    "    lower_bound_saits.append(np.percentile(bootstrap_saits[i], 2.5))\n",
    "    upper_bound_saits.append(np.percentile(bootstrap_saits[i], 97.5))\n",
    "\n",
    "print(lower_bound_saits)\n",
    "print(upper_bound_saits)"
   ]
  },
  {
   "cell_type": "code",
   "execution_count": 30,
   "id": "cc569219",
   "metadata": {},
   "outputs": [
    {
     "name": "stdout",
     "output_type": "stream",
     "text": [
      "[np.float64(0.2410518735783191), np.float64(0.2464838817739124), np.float64(0.23653482882050578), np.float64(0.252192724987099), np.float64(0.2558374319298101), np.float64(0.26201643090977145), np.float64(0.23646372530295623), np.float64(0.23823448016675078), np.float64(0.23142902697308748)]\n"
     ]
    }
   ],
   "source": [
    "mean_bound_saits = []\n",
    "\n",
    "for i in range(len(lower_bound_saits)):\n",
    "    mean_bound_saits.append((lower_bound_saits[i]+upper_bound_saits[i])/2)\n",
    "\n",
    "print(mean_bound_saits)"
   ]
  },
  {
   "cell_type": "markdown",
   "id": "9b222fa2",
   "metadata": {},
   "source": [
    "## BRITS"
   ]
  },
  {
   "cell_type": "code",
   "execution_count": 28,
   "id": "7e129ae6",
   "metadata": {},
   "outputs": [],
   "source": [
    "for i in subgroups:\n",
    "    brits_ae[i] = brits_ae[i].reshape(len(brits_ae[i]) *48 * 37)"
   ]
  },
  {
   "cell_type": "code",
   "execution_count": null,
   "id": "f5fe22bb",
   "metadata": {},
   "outputs": [],
   "source": [
    "bootstrap_brits = []\n",
    "\n",
    "for i in subgroups:\n",
    "    bootstrap_brits.append(toolkits.bootstrap_v2(brits_ae, indicating_mask_subgroup, i, 9000))"
   ]
  },
  {
   "cell_type": "code",
   "execution_count": null,
   "id": "b56d9bc4",
   "metadata": {},
   "outputs": [],
   "source": [
    "lower_bound_brits = []\n",
    "upper_bound_brits = []\n",
    "\n",
    "for i in range(len(bootstrap_brits)):\n",
    "    lower_bound_brits.append(np.percentile(bootstrap_brits[i], 2.5))\n",
    "    upper_bound_brits.append(np.percentile(bootstrap_brits[i], 97.5))\n",
    "\n",
    "print(lower_bound_brits)\n",
    "print(upper_bound_brits)"
   ]
  },
  {
   "cell_type": "code",
   "execution_count": null,
   "id": "eaeef5b8",
   "metadata": {},
   "outputs": [],
   "source": [
    "mean_bound_brits = []\n",
    "\n",
    "for i in range(len(lower_bound_brits)):\n",
    "    mean_bound_brits.append((lower_bound_brits[i]+upper_bound_brits[i])/2)\n",
    "\n",
    "print(mean_bound_brits)"
   ]
  },
  {
   "cell_type": "markdown",
   "id": "10a82ffd",
   "metadata": {},
   "source": [
    "## USGAN"
   ]
  },
  {
   "cell_type": "code",
   "execution_count": null,
   "id": "e2b10279",
   "metadata": {},
   "outputs": [],
   "source": [
    "for i in subgroups:\n",
    "    us_gan_ae[i] = us_gan_ae[i].reshape(len(us_gan_ae[i]) *48 * 37)"
   ]
  },
  {
   "cell_type": "code",
   "execution_count": null,
   "id": "f227decc",
   "metadata": {},
   "outputs": [],
   "source": [
    "bootstrap_usgan = []\n",
    "\n",
    "for i in subgroups:\n",
    "    bootstrap_usgan.append(toolkits.bootstrap_v2(us_gan_ae, indicating_mask_subgroup, i, 9000))"
   ]
  },
  {
   "cell_type": "code",
   "execution_count": null,
   "id": "604056c4",
   "metadata": {},
   "outputs": [],
   "source": [
    "lower_bound_usgan = []\n",
    "upper_bound_usgan = []\n",
    "\n",
    "for i in range(len(bootstrap_usgan)):\n",
    "    lower_bound_usgan.append(np.percentile(bootstrap_usgan[i], 2.5))\n",
    "    upper_bound_usgan.append(np.percentile(bootstrap_usgan[i], 97.5))\n",
    "\n",
    "print(lower_bound_usgan)\n",
    "print(upper_bound_usgan)"
   ]
  },
  {
   "cell_type": "code",
   "execution_count": null,
   "id": "888e40be",
   "metadata": {},
   "outputs": [],
   "source": [
    "mean_bound_usgan = []\n",
    "\n",
    "for i in range(len(lower_bound_usgan)):\n",
    "    mean_bound_usgan.append((lower_bound_usgan[i]+upper_bound_usgan[i])/2)\n",
    "\n",
    "print(mean_bound_usgan)"
   ]
  },
  {
   "cell_type": "markdown",
   "id": "c737f1a1",
   "metadata": {},
   "source": [
    "## GPVAE"
   ]
  },
  {
   "cell_type": "code",
   "execution_count": null,
   "id": "19e5b490",
   "metadata": {},
   "outputs": [],
   "source": [
    "for i in subgroups:\n",
    "    gp_vae_ae[i] = gp_vae_ae[i].reshape(len(gp_vae_ae[i]) *48 * 37)"
   ]
  },
  {
   "cell_type": "code",
   "execution_count": null,
   "id": "c72689af",
   "metadata": {},
   "outputs": [],
   "source": [
    "bootstrap_gpvae = []\n",
    "\n",
    "for i in subgroups:\n",
    "    bootstrap_gpvae.append(toolkits.bootstrap_v2(gp_vae_ae, indicating_mask_subgroup, i, 9000))"
   ]
  },
  {
   "cell_type": "code",
   "execution_count": null,
   "id": "dfea9c1c",
   "metadata": {},
   "outputs": [],
   "source": [
    "lower_bound_gpvae = []\n",
    "upper_bound_gpvae = []\n",
    "\n",
    "for i in range(len(bootstrap_gpvae)):\n",
    "    lower_bound_gpvae.append(np.percentile(bootstrap_gpvae[i], 2.5))\n",
    "    upper_bound_gpvae.append(np.percentile(bootstrap_gpvae[i], 97.5))\n",
    "\n",
    "print(lower_bound_gpvae)\n",
    "print(upper_bound_gpvae)"
   ]
  },
  {
   "cell_type": "code",
   "execution_count": null,
   "id": "f24553c1",
   "metadata": {},
   "outputs": [],
   "source": [
    "mean_bound_gpvae = []\n",
    "\n",
    "for i in range(len(lower_bound_gpvae)):\n",
    "    mean_bound_gpvae.append((lower_bound_gpvae[i]+upper_bound_gpvae[i])/2)\n",
    "\n",
    "print(mean_bound_gpvae)"
   ]
  },
  {
   "cell_type": "markdown",
   "id": "760791eb",
   "metadata": {},
   "source": [
    "## MRNN"
   ]
  },
  {
   "cell_type": "code",
   "execution_count": null,
   "id": "276d9b1c",
   "metadata": {},
   "outputs": [],
   "source": [
    "for i in subgroups:\n",
    "    mrnn_ae[i] = mrnn_ae[i].reshape(len(mrnn_ae[i]) *48 * 37)"
   ]
  },
  {
   "cell_type": "code",
   "execution_count": null,
   "id": "b574a1b9",
   "metadata": {},
   "outputs": [],
   "source": [
    "bootstrap_mrnn = []\n",
    "\n",
    "for i in subgroups:\n",
    "    bootstrap_mrnn.append(toolkits.bootstrap_v2(mrnn_ae, indicating_mask_subgroup, i, 9000))"
   ]
  },
  {
   "cell_type": "code",
   "execution_count": null,
   "id": "69fcccc9",
   "metadata": {},
   "outputs": [],
   "source": [
    "lower_bound_mrnn = []\n",
    "upper_bound_mrnn = []\n",
    "\n",
    "for i in range(len(bootstrap_mrnn)):\n",
    "    lower_bound_mrnn.append(np.percentile(bootstrap_mrnn[i], 2.5))\n",
    "    upper_bound_mrnn.append(np.percentile(bootstrap_mrnn[i], 97.5))\n",
    "\n",
    "print(lower_bound_mrnn)\n",
    "print(upper_bound_mrnn)"
   ]
  },
  {
   "cell_type": "code",
   "execution_count": null,
   "id": "893925a3",
   "metadata": {},
   "outputs": [],
   "source": [
    "mean_bound_mrnn = []\n",
    "\n",
    "for i in range(len(lower_bound_mrnn)):\n",
    "    mean_bound_mrnn.append((lower_bound_mrnn[i]+upper_bound_mrnn[i])/2)\n",
    "\n",
    "print(mean_bound_mrnn)"
   ]
  }
 ],
 "metadata": {
  "kernelspec": {
   "display_name": "Python 3",
   "language": "python",
   "name": "python3"
  },
  "language_info": {
   "codemirror_mode": {
    "name": "ipython",
    "version": 3
   },
   "file_extension": ".py",
   "mimetype": "text/x-python",
   "name": "python",
   "nbconvert_exporter": "python",
   "pygments_lexer": "ipython3",
   "version": "3.11.0rc1"
  }
 },
 "nbformat": 4,
 "nbformat_minor": 5
}

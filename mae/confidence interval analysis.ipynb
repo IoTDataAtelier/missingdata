{
 "cells": [
  {
   "cell_type": "markdown",
   "metadata": {},
   "source": [
    "# Import libraries"
   ]
  },
  {
   "cell_type": "code",
   "execution_count": 26,
   "metadata": {},
   "outputs": [],
   "source": [
    "import pypots\n",
    "import os\n",
    "import sys\n",
    "from pypots.nn.functional import calc_mae\n",
    "from pypots.optim import Adam\n",
    "from pypots.imputation import SAITS, BRITS, USGAN, GPVAE, MRNN\n",
    "import numpy as np\n",
    "import benchpots\n",
    "from pypots.utils.random import set_random_seed\n",
    "module_path = os.path.abspath(os.path.join('..'))\n",
    "if module_path not in sys.path:\n",
    "    sys.path.append(module_path)\n",
    "import pandas as pd    \n",
    "from pypotsModify.benchpotsMAE.datasets import preprocess_physionet2012 as preprocess_physionet2012\n",
    "from missingData.toolkits import toolkits\n",
    "import math\n",
    "import scipy.stats as st"
   ]
  },
  {
   "cell_type": "markdown",
   "metadata": {},
   "source": [
    "# Loading database"
   ]
  },
  {
   "cell_type": "markdown",
   "metadata": {},
   "source": [
    "### Standard Scaler "
   ]
  },
  {
   "cell_type": "code",
   "execution_count": 27,
   "metadata": {},
   "outputs": [
    {
     "name": "stderr",
     "output_type": "stream",
     "text": [
      "2025-05-12 21:04:44 [INFO]: Have set the random seed as 2022 for numpy and pytorch.\n",
      "2025-05-12 21:04:44 [INFO]: You're using dataset physionet_2012, please cite it properly in your work. You can find its reference information at the below link: \n",
      "https://github.com/WenjieDu/TSDB/tree/main/dataset_profiles/physionet_2012\n",
      "2025-05-12 21:04:44 [INFO]: Dataset physionet_2012 has already been downloaded. Processing directly...\n",
      "2025-05-12 21:04:44 [INFO]: Dataset physionet_2012 has already been cached. Loading from cache directly...\n",
      "2025-05-12 21:04:44 [INFO]: Loaded successfully!\n",
      "2025-05-12 21:05:00 [WARNING]: Note that physionet_2012 has sparse observations in the time series, hence we don't add additional missing values to the training dataset. \n",
      "2025-05-12 21:05:00 [WARNING]: Note that physionet_2012 has sparse observations in the time series, hence we don't add additional missing values to the training dataset. \n",
      "2025-05-12 21:05:00 [INFO]: 68807 values masked out in the val set as ground truth, take 9.97% of the original observed values\n",
      "2025-05-12 21:05:00 [INFO]: 68807 values masked out in the val set as ground truth, take 9.97% of the original observed values\n",
      "2025-05-12 21:05:00 [INFO]: 86319 values masked out in the test set as ground truth, take 9.99% of the original observed values\n",
      "2025-05-12 21:05:00 [INFO]: 86319 values masked out in the test set as ground truth, take 9.99% of the original observed values\n",
      "2025-05-12 21:05:00 [INFO]: Total sample number: 11988\n",
      "2025-05-12 21:05:00 [INFO]: Total sample number: 11988\n",
      "2025-05-12 21:05:00 [INFO]: Training set size: 7671 (63.99%)\n",
      "2025-05-12 21:05:00 [INFO]: Training set size: 7671 (63.99%)\n",
      "2025-05-12 21:05:00 [INFO]: Validation set size: 1918 (16.00%)\n",
      "2025-05-12 21:05:00 [INFO]: Validation set size: 1918 (16.00%)\n",
      "2025-05-12 21:05:00 [INFO]: Test set size: 2399 (20.01%)\n",
      "2025-05-12 21:05:00 [INFO]: Test set size: 2399 (20.01%)\n",
      "2025-05-12 21:05:00 [INFO]: Number of steps: 48\n",
      "2025-05-12 21:05:00 [INFO]: Number of steps: 48\n",
      "2025-05-12 21:05:00 [INFO]: Number of features: 37\n",
      "2025-05-12 21:05:00 [INFO]: Number of features: 37\n",
      "2025-05-12 21:05:00 [INFO]: Train set missing rate: 79.70%\n",
      "2025-05-12 21:05:00 [INFO]: Train set missing rate: 79.70%\n",
      "2025-05-12 21:05:00 [INFO]: Validating set missing rate: 81.75%\n",
      "2025-05-12 21:05:00 [INFO]: Validating set missing rate: 81.75%\n",
      "2025-05-12 21:05:00 [INFO]: Test set missing rate: 81.75%\n",
      "2025-05-12 21:05:00 [INFO]: Test set missing rate: 81.75%\n"
     ]
    },
    {
     "name": "stdout",
     "output_type": "stream",
     "text": [
      "dict_keys(['n_classes', 'n_steps', 'n_features', 'scaler', 'train_X', 'train_y', 'train_ICUType', 'val_X', 'val_y', 'val_ICUType', 'test_X', 'test_y', 'test_ICUType', 'female_gender_test_X', 'female_gender_test_y', 'test_ICUType_female_gender', 'male_gender_test_X', 'male_gender_test_y', 'test_ICUType_male_gender', 'undefined_gender_test_X', 'undefined_gender_test_y', 'test_ICUType_undefined_gender', 'more_than_or_equal_to_65_test_X', 'more_than_or_equal_to_65_test_y', 'test_ICUType_more_than_or_equal_to_65', 'less_than_65_test_X', 'less_than_65_test_y', 'test_ICUType_less_than_65', 'classificacao_undefined_test_X', 'classificacao_undefined_test_y', 'test_ICUType_classificacao_undefined', 'classificacao_baixo_peso_test_X', 'classificacao_baixo_peso_test_y', 'test_ICUType_classificao_baixo_peso', 'classificacao_normal_peso_test_X', 'classificacao_normal_peso_test_y', 'test_ICUType_classificacao_normal_peso', 'classificacao_sobrepeso_test_X', 'classificacao_sobrepeso_test_y', 'test_ICUType_classificacao_sobrepeso', 'classificacao_obesidade_test_X', 'classificacao_obesidade_test_y', 'test_ICUType_classificacao_obesidade', 'val_X_ori', 'test_X_ori', 'female_gender_test_X_ori', 'male_gender_test_X_ori', 'undefined_gender_test_X_ori', 'more_than_or_equal_to_65_test_X_ori', 'less_than_65_test_X_ori', 'classificacao_undefined_test_X_ori', 'classificacao_baixo_peso_test_X_ori', 'classificacao_normal_peso_test_X_ori', 'classificacao_sobrepeso_test_X_ori', 'classificacao_obesidade_test_X_ori'])\n"
     ]
    }
   ],
   "source": [
    "set_random_seed()\n",
    "physionet2012_dataset_standard = preprocess_physionet2012(subset=\"all\", rate=0.1, normalization=1)\n",
    "print(physionet2012_dataset_standard.keys())"
   ]
  },
  {
   "cell_type": "code",
   "execution_count": 28,
   "metadata": {},
   "outputs": [],
   "source": [
    "scaler_standard = physionet2012_dataset_standard[\"scaler\"]"
   ]
  },
  {
   "cell_type": "code",
   "execution_count": 29,
   "metadata": {},
   "outputs": [],
   "source": [
    "dataset_for_training_standard, dataset_for_validating_standard, dataset_for_testing_ori_standard, dataset_for_testing_standard = toolkits.separating_dataset(physionet2012_dataset_standard)"
   ]
  },
  {
   "cell_type": "code",
   "execution_count": 30,
   "metadata": {},
   "outputs": [],
   "source": [
    "teste = \"teste\""
   ]
  },
  {
   "cell_type": "markdown",
   "metadata": {},
   "source": [
    "# Creating indicating mask and get test_X_ori"
   ]
  },
  {
   "cell_type": "markdown",
   "metadata": {},
   "source": [
    "### Standard Scaler"
   ]
  },
  {
   "cell_type": "code",
   "execution_count": 31,
   "metadata": {},
   "outputs": [],
   "source": [
    "dataset_for_testing_ori_standard_norm = toolkits.dict_to_list(dataset_for_testing_ori_standard)\n",
    "dataset_for_testing_standard_norm = toolkits.dict_to_list(dataset_for_testing_standard)\n",
    "indicating_mask_variable_standard_norm, test_X_ori_variable_standard_norm = toolkits.components_mae(dataset_for_testing_ori_standard_norm, dataset_for_testing_standard_norm)\n",
    "indicating_mask_variable_standard_norm = toolkits.pre_reshape(indicating_mask_variable_standard_norm)\n",
    "test_X_ori_variable_standard_norm = toolkits.pre_reshape(test_X_ori_variable_standard_norm)\n",
    "indicating_mask_variable_standard_norm_general = indicating_mask_variable_standard_norm\n",
    "test_X_ori_variable_standard_norm_general = test_X_ori_variable_standard_norm\n",
    "indicating_mask_variable_standard_norm = toolkits.reshape_variable(indicating_mask_variable_standard_norm)\n",
    "test_X_ori_variable_standard_norm = toolkits.reshape_variable(test_X_ori_variable_standard_norm)"
   ]
  },
  {
   "cell_type": "markdown",
   "metadata": {},
   "source": [
    "# Inicialize the models"
   ]
  },
  {
   "cell_type": "markdown",
   "metadata": {},
   "source": [
    "### SAITS"
   ]
  },
  {
   "cell_type": "markdown",
   "metadata": {},
   "source": [
    "<h4>Inicialize new model</h4>"
   ]
  },
  {
   "cell_type": "code",
   "execution_count": 7,
   "metadata": {},
   "outputs": [
    {
     "name": "stderr",
     "output_type": "stream",
     "text": [
      "2025-05-02 20:32:04 [INFO]: No given device, using default device: cpu\n",
      "2025-05-02 20:32:04 [INFO]: Model files will be saved to tutorial_results/imputation/saits/20250502_T203204\n",
      "2025-05-02 20:32:04 [INFO]: Tensorboard file will be saved to tutorial_results/imputation/saits/20250502_T203204/tensorboard\n",
      "2025-05-02 20:32:04 [INFO]: Using customized MAE as the training loss function.\n",
      "2025-05-02 20:32:04 [INFO]: Using customized MSE as the validation metric function.\n",
      "2025-05-02 20:32:04 [INFO]: SAITS initialized with the given hyperparameters, the number of trainable parameters: 720,182\n"
     ]
    }
   ],
   "source": [
    "saits = SAITS(\n",
    "    n_steps=physionet2012_dataset_standard['n_steps'],\n",
    "    n_features=physionet2012_dataset_standard['n_features'],\n",
    "    n_layers=1,\n",
    "    d_model=256,\n",
    "    d_ffn=128,\n",
    "    n_heads=4,\n",
    "    d_k=64,\n",
    "    d_v=64,\n",
    "    dropout=0.1,\n",
    "    ORT_weight=1,  # you can adjust the weight values of arguments ORT_weight\n",
    "    # and MIT_weight to make the SAITS model focus more on one task. Usually you can just leave them to the default values, i.e. 1.\n",
    "    MIT_weight=1,\n",
    "    batch_size=32,\n",
    "    # here we set epochs=10 for a quick demo, you can set it to 100 or more for better performance\n",
    "    epochs=10,\n",
    "    # here we set patience=3 to early stop the training if the evaluting loss doesn't decrease for 3 epoches.\n",
    "    # You can leave it to defualt as None to disable early stopping.\n",
    "    patience=3,\n",
    "    # give the optimizer. Different from torch.optim.Optimizer, you don't have to specify model's parameters when\n",
    "    # initializing pypots.optim.Optimizer. You can also leave it to default. It will initilize an Adam optimizer with lr=0.001.\n",
    "    optimizer=Adam(lr=1e-3),\n",
    "    # this num_workers argument is for torch.utils.data.Dataloader. It's the number of subprocesses to use for data loading.\n",
    "    # Leaving it to default as 0 means data loading will be in the main process, i.e. there won't be subprocesses.\n",
    "    # You can increase it to >1 if you think your dataloading is a bottleneck to your model training speed\n",
    "    num_workers=0,\n",
    "    # just leave it to default as None, PyPOTS will automatically assign the best device for you.\n",
    "    # Set it as 'cpu' if you don't have CUDA devices. You can also set it to 'cuda:0' or 'cuda:1' if you have multiple CUDA devices, even parallelly on ['cuda:0', 'cuda:1']\n",
    "    device=None,\n",
    "    # set the path for saving tensorboard and trained model files\n",
    "    saving_path=\"tutorial_results/imputation/saits\",\n",
    "    # only save the best model after training finished.\n",
    "    # You can also set it as \"better\" to save models performing better ever during training.\n",
    "    model_saving_strategy=\"best\",\n",
    ")"
   ]
  },
  {
   "cell_type": "markdown",
   "metadata": {},
   "source": [
    "<h4> Inicialize model</h4>"
   ]
  },
  {
   "cell_type": "code",
   "execution_count": 32,
   "metadata": {},
   "outputs": [
    {
     "name": "stderr",
     "output_type": "stream",
     "text": [
      "2025-05-12 21:05:27 [INFO]: No given device, using default device: cpu\n",
      "2025-05-12 21:05:27 [WARNING]: ‼️ saving_path not given. Model files and tensorboard file will not be saved.\n",
      "2025-05-12 21:05:27 [INFO]: Using customized MAE as the training loss function.\n",
      "2025-05-12 21:05:27 [INFO]: Using customized MSE as the validation metric function.\n",
      "2025-05-12 21:05:27 [INFO]: SAITS initialized with the given hyperparameters, the number of trainable parameters: 720,182\n"
     ]
    }
   ],
   "source": [
    "saits = SAITS(\n",
    "    n_steps=physionet2012_dataset_standard['n_steps'],\n",
    "    n_features=physionet2012_dataset_standard['n_features'],\n",
    "    n_layers=1,\n",
    "    d_model=256,\n",
    "    d_ffn=128,\n",
    "    n_heads=4,\n",
    "    d_k=64,\n",
    "    d_v=64,\n",
    "    dropout=0.1,\n",
    "    ORT_weight=1,  # you can adjust the weight values of arguments ORT_weight\n",
    "    # and MIT_weight to make the SAITS model focus more on one task. Usually you can just leave them to the default values, i.e. 1.\n",
    "    MIT_weight=1,\n",
    "    batch_size=32,\n",
    "    # here we set epochs=10 for a quick demo, you can set it to 100 or more for better performance\n",
    "    epochs=10,\n",
    "    # here we set patience=3 to early stop the training if the evaluting loss doesn't decrease for 3 epoches.\n",
    "    # You can leave it to defualt as None to disable early stopping.\n",
    "    patience=3,\n",
    "    # give the optimizer. Different from torch.optim.Optimizer, you don't have to specify model's parameters when\n",
    "    # initializing pypots.optim.Optimizer. You can also leave it to default. It will initilize an Adam optimizer with lr=0.001.\n",
    "    optimizer=Adam(lr=1e-3),\n",
    "    # this num_workers argument is for torch.utils.data.Dataloader. It's the number of subprocesses to use for data loading.\n",
    "    # Leaving it to default as 0 means data loading will be in the main process, i.e. there won't be subprocesses.\n",
    "    # You can increase it to >1 if you think your dataloading is a bottleneck to your model training speed\n",
    "    num_workers=0,\n",
    "    # just leave it to default as None, PyPOTS will automatically assign the best device for you.\n",
    "    # Set it as 'cpu' if you don't have CUDA devices. You can also set it to 'cuda:0' or 'cuda:1' if you have multiple CUDA devices, even parallelly on ['cuda:0', 'cuda:1']\n",
    "    device=None,\n",
    "    # set the path for saving tensorboard and trained model files\n",
    "    # only save the best model after training finished.\n",
    "    # You can also set it as \"better\" to save models performing better ever during training.\n",
    "    model_saving_strategy=\"best\",\n",
    ")"
   ]
  },
  {
   "cell_type": "markdown",
   "metadata": {},
   "source": [
    "### BRITS"
   ]
  },
  {
   "cell_type": "markdown",
   "metadata": {},
   "source": [
    "<h4>Inicialize new model</h4>"
   ]
  },
  {
   "cell_type": "code",
   "execution_count": 7,
   "metadata": {},
   "outputs": [
    {
     "name": "stderr",
     "output_type": "stream",
     "text": [
      "2025-04-22 18:16:43 [INFO]: No given device, using default device: cuda\n",
      "2025-04-22 18:16:43 [INFO]: Model files will be saved to tutorial_results/imputation/brits/20250422_T181643\n",
      "2025-04-22 18:16:43 [INFO]: Tensorboard file will be saved to tutorial_results/imputation/brits/20250422_T181643/tensorboard\n",
      "2025-04-22 18:16:43 [INFO]: Using customized MAE as the training loss function.\n",
      "2025-04-22 18:16:43 [INFO]: Using customized MSE as the validation metric function.\n",
      "2025-04-22 18:16:43 [INFO]: BRITS initialized with the given hyperparameters, the number of trainable parameters: 239,344\n"
     ]
    }
   ],
   "source": [
    "brits = BRITS(\n",
    "    n_steps=physionet2012_dataset_standard['n_steps'],\n",
    "    n_features=physionet2012_dataset_standard['n_features'],\n",
    "    rnn_hidden_size=128,\n",
    "    batch_size=32,\n",
    "    # here we set epochs=10 for a quick demo, you can set it to 100 or more for better performance\n",
    "    epochs=10,\n",
    "    # here we set patience=3 to early stop the training if the evaluting loss doesn't decrease for 3 epoches.\n",
    "    # You can leave it to defualt as None to disable early stopping.\n",
    "    patience=3,\n",
    "    # give the optimizer. Different from torch.optim.Optimizer, you don't have to specify model's parameters when\n",
    "    # initializing pypots.optim.Optimizer. You can also leave it to default. It will initilize an Adam optimizer with lr=0.001.\n",
    "    optimizer=Adam(lr=1e-3),\n",
    "    # this num_workers argument is for torch.utils.data.Dataloader. It's the number of subprocesses to use for data loading.\n",
    "    # Leaving it to default as 0 means data loading will be in the main process, i.e. there won't be subprocesses.\n",
    "    # You can increase it to >1 if you think your dataloading is a bottleneck to your model training speed\n",
    "    num_workers=0,\n",
    "    # just leave it to default as None, PyPOTS will automatically assign the best device for you.\n",
    "    # Set it as 'cpu' if you don't have CUDA devices. You can also set it to 'cuda:0' or 'cuda:1' if you have multiple CUDA devices, even parallelly on ['cuda:0', 'cuda:1']\n",
    "    device=None,\n",
    "    # set the path for saving tensorboard and trained model files\n",
    "    saving_path=\"tutorial_results/imputation/brits\",\n",
    "    # only save the best model after training finished.\n",
    "    # You can also set it as \"better\" to save models performing better ever during training.\n",
    "    model_saving_strategy=\"best\",\n",
    ")"
   ]
  },
  {
   "cell_type": "markdown",
   "metadata": {},
   "source": [
    "<h4> Inicialize model</h4>"
   ]
  },
  {
   "cell_type": "code",
   "execution_count": 33,
   "metadata": {},
   "outputs": [
    {
     "name": "stderr",
     "output_type": "stream",
     "text": [
      "2025-05-12 21:05:31 [INFO]: No given device, using default device: cpu\n",
      "2025-05-12 21:05:31 [WARNING]: ‼️ saving_path not given. Model files and tensorboard file will not be saved.\n",
      "2025-05-12 21:05:31 [INFO]: Using customized MAE as the training loss function.\n",
      "2025-05-12 21:05:31 [INFO]: Using customized MSE as the validation metric function.\n",
      "2025-05-12 21:05:31 [INFO]: BRITS initialized with the given hyperparameters, the number of trainable parameters: 239,344\n"
     ]
    }
   ],
   "source": [
    "brits = BRITS(\n",
    "    n_steps=physionet2012_dataset_standard['n_steps'],\n",
    "    n_features=physionet2012_dataset_standard['n_features'],\n",
    "    rnn_hidden_size=128,\n",
    "    batch_size=32,\n",
    "    # here we set epochs=10 for a quick demo, you can set it to 100 or more for better performance\n",
    "    epochs=10,\n",
    "    # here we set patience=3 to early stop the training if the evaluting loss doesn't decrease for 3 epoches.\n",
    "    # You can leave it to defualt as None to disable early stopping.\n",
    "    patience=3,\n",
    "    # give the optimizer. Different from torch.optim.Optimizer, you don't have to specify model's parameters when\n",
    "    # initializing pypots.optim.Optimizer. You can also leave it to default. It will initilize an Adam optimizer with lr=0.001.\n",
    "    optimizer=Adam(lr=1e-3),\n",
    "    # this num_workers argument is for torch.utils.data.Dataloader. It's the number of subprocesses to use for data loading.\n",
    "    # Leaving it to default as 0 means data loading will be in the main process, i.e. there won't be subprocesses.\n",
    "    # You can increase it to >1 if you think your dataloading is a bottleneck to your model training speed\n",
    "    num_workers=0,\n",
    "    # just leave it to default as None, PyPOTS will automatically assign the best device for you.\n",
    "    # Set it as 'cpu' if you don't have CUDA devices. You can also set it to 'cuda:0' or 'cuda:1' if you have multiple CUDA devices, even parallelly on ['cuda:0', 'cuda:1']\n",
    "    device=None,\n",
    "    # set the path for saving tensorboard and trained model files\n",
    "    \n",
    "    # only save the best model after training finished.\n",
    "    # You can also set it as \"better\" to save models performing better ever during training.\n",
    "    model_saving_strategy=\"best\",\n",
    ")"
   ]
  },
  {
   "cell_type": "markdown",
   "metadata": {},
   "source": [
    "### USGAN"
   ]
  },
  {
   "cell_type": "markdown",
   "metadata": {},
   "source": [
    "<h4>Inicialize new model</h4>"
   ]
  },
  {
   "cell_type": "code",
   "execution_count": 8,
   "metadata": {},
   "outputs": [
    {
     "name": "stderr",
     "output_type": "stream",
     "text": [
      "2025-04-22 18:16:43 [INFO]: No given device, using default device: cuda\n",
      "2025-04-22 18:16:43 [INFO]: Model files will be saved to tutorial_results/imputation/us_gan/20250422_T181643\n",
      "2025-04-22 18:16:43 [INFO]: Tensorboard file will be saved to tutorial_results/imputation/us_gan/20250422_T181643/tensorboard\n",
      "2025-04-22 18:16:43 [INFO]: USGAN initialized with the given hyperparameters, the number of trainable parameters: 1,258,517\n"
     ]
    }
   ],
   "source": [
    "us_gan = USGAN(\n",
    "    n_steps=physionet2012_dataset_standard['n_steps'],\n",
    "    n_features=physionet2012_dataset_standard['n_features'],\n",
    "    rnn_hidden_size=256,\n",
    "    lambda_mse=1,\n",
    "    dropout=0.1,\n",
    "    G_steps=1,\n",
    "    D_steps=1,\n",
    "    batch_size=32,\n",
    "    # here we set epochs=10 for a quick demo, you can set it to 100 or more for better performance\n",
    "    epochs=10,\n",
    "    # here we set patience=3 to early stop the training if the evaluting loss doesn't decrease for 3 epoches.\n",
    "    # You can leave it to defualt as None to disable early stopping.\n",
    "    patience=3,\n",
    "    # give the optimizer. Different from torch.optim.Optimizer, you don't have to specify model's parameters when\n",
    "    # initializing pypots.optim.Optimizer. You can also leave it to default. It will initilize an Adam optimizer with lr=0.001.\n",
    "    G_optimizer=Adam(lr=1e-3),\n",
    "    D_optimizer=Adam(lr=1e-3),\n",
    "    # this num_workers argument is for torch.utils.data.Dataloader. It's the number of subprocesses to use for data loading.\n",
    "    # Leaving it to default as 0 means data loading will be in the main process, i.e. there won't be subprocesses.\n",
    "    # You can increase it to >1 if you think your dataloading is a bottleneck to your model training speed\n",
    "    num_workers=0,\n",
    "    # just leave it to default as None, PyPOTS will automatically assign the best device for you.\n",
    "    # Set it as 'cpu' if you don't have CUDA devices. You can also set it to 'cuda:0' or 'cuda:1' if you have multiple CUDA devices, even parallelly on ['cuda:0', 'cuda:1']\n",
    "    device=None,\n",
    "    # set the path for saving tensorboard and trained model files\n",
    "    saving_path=\"tutorial_results/imputation/us_gan\",\n",
    "    # only save the best model after training finished.\n",
    "    # You can also set it as \"better\" to save models performing better ever during training.\n",
    "    model_saving_strategy=\"best\",\n",
    ")"
   ]
  },
  {
   "cell_type": "markdown",
   "metadata": {},
   "source": [
    "<h4> Inicialize model</h4>"
   ]
  },
  {
   "cell_type": "code",
   "execution_count": 34,
   "metadata": {},
   "outputs": [
    {
     "name": "stderr",
     "output_type": "stream",
     "text": [
      "2025-05-12 21:05:35 [INFO]: No given device, using default device: cpu\n",
      "2025-05-12 21:05:35 [WARNING]: ‼️ saving_path not given. Model files and tensorboard file will not be saved.\n",
      "2025-05-12 21:05:35 [INFO]: USGAN initialized with the given hyperparameters, the number of trainable parameters: 1,258,517\n"
     ]
    }
   ],
   "source": [
    "us_gan = USGAN(\n",
    "    n_steps=physionet2012_dataset_standard['n_steps'],\n",
    "    n_features=physionet2012_dataset_standard['n_features'],\n",
    "    rnn_hidden_size=256,\n",
    "    lambda_mse=1,\n",
    "    dropout=0.1,\n",
    "    G_steps=1,\n",
    "    D_steps=1,\n",
    "    batch_size=32,\n",
    "    # here we set epochs=10 for a quick demo, you can set it to 100 or more for better performance\n",
    "    epochs=10,\n",
    "    # here we set patience=3 to early stop the training if the evaluting loss doesn't decrease for 3 epoches.\n",
    "    # You can leave it to defualt as None to disable early stopping.\n",
    "    patience=3,\n",
    "    # give the optimizer. Different from torch.optim.Optimizer, you don't have to specify model's parameters when\n",
    "    # initializing pypots.optim.Optimizer. You can also leave it to default. It will initilize an Adam optimizer with lr=0.001.\n",
    "    G_optimizer=Adam(lr=1e-3),\n",
    "    D_optimizer=Adam(lr=1e-3),\n",
    "    # this num_workers argument is for torch.utils.data.Dataloader. It's the number of subprocesses to use for data loading.\n",
    "    # Leaving it to default as 0 means data loading will be in the main process, i.e. there won't be subprocesses.\n",
    "    # You can increase it to >1 if you think your dataloading is a bottleneck to your model training speed\n",
    "    num_workers=0,\n",
    "    # just leave it to default as None, PyPOTS will automatically assign the best device for you.\n",
    "    # Set it as 'cpu' if you don't have CUDA devices. You can also set it to 'cuda:0' or 'cuda:1' if you have multiple CUDA devices, even parallelly on ['cuda:0', 'cuda:1']\n",
    "    device=None,\n",
    "    # set the path for saving tensorboard and trained model files\n",
    "    # only save the best model after training finished.\n",
    "    # You can also set it as \"better\" to save models performing better ever during training.\n",
    "    model_saving_strategy=\"best\",\n",
    ")"
   ]
  },
  {
   "cell_type": "markdown",
   "metadata": {},
   "source": [
    "### GPVAE"
   ]
  },
  {
   "cell_type": "markdown",
   "metadata": {},
   "source": [
    "<h4>Inicialize new model</h4>"
   ]
  },
  {
   "cell_type": "code",
   "execution_count": 9,
   "metadata": {},
   "outputs": [
    {
     "name": "stderr",
     "output_type": "stream",
     "text": [
      "2025-04-22 18:16:43 [INFO]: No given device, using default device: cuda\n",
      "2025-04-22 18:16:43 [INFO]: Model files will be saved to tutorial_results/imputation/gp_vae/20250422_T181643\n",
      "2025-04-22 18:16:43 [INFO]: Tensorboard file will be saved to tutorial_results/imputation/gp_vae/20250422_T181643/tensorboard\n",
      "2025-04-22 18:16:43 [INFO]: GPVAE initialized with the given hyperparameters, the number of trainable parameters: 229,652\n"
     ]
    }
   ],
   "source": [
    "gp_vae = GPVAE(\n",
    "    n_steps=physionet2012_dataset_standard['n_steps'],\n",
    "    n_features=physionet2012_dataset_standard['n_features'],\n",
    "    latent_size=37,\n",
    "    encoder_sizes=(128,128),\n",
    "    decoder_sizes=(256,256),\n",
    "    kernel=\"cauchy\",\n",
    "    beta=0.2,\n",
    "    M=1,\n",
    "    K=1,\n",
    "    sigma=1.005,\n",
    "    length_scale=7.0,\n",
    "    kernel_scales=1,\n",
    "    window_size=24,\n",
    "    batch_size=32,\n",
    "    # here we set epochs=10 for a quick demo, you can set it to 100 or more for better performance\n",
    "    epochs=10,\n",
    "    # here we set patience=3 to early stop the training if the evaluting loss doesn't decrease for 3 epoches.\n",
    "    # You can leave it to defualt as None to disable early stopping.\n",
    "    patience=3,\n",
    "    # give the optimizer. Different from torch.optim.Optimizer, you don't have to specify model's parameters when\n",
    "    # initializing pypots.optim.Optimizer. You can also leave it to default. It will initilize an Adam optimizer with lr=0.001.\n",
    "    optimizer=Adam(lr=1e-3),\n",
    "    # this num_workers argument is for torch.utils.data.Dataloader. It's the number of subprocesses to use for data loading.\n",
    "    # Leaving it to default as 0 means data loading will be in the main process, i.e. there won't be subprocesses.\n",
    "    # You can increase it to >1 if you think your dataloading is a bottleneck to your model training speed\n",
    "    num_workers=0,\n",
    "    # just leave it to default as None, PyPOTS will automatically assign the best device for you.\n",
    "    # Set it as 'cpu' if you don't have CUDA devices. You can also set it to 'cuda:0' or 'cuda:1' if you have multiple CUDA devices, even parallelly on ['cuda:0', 'cuda:1']\n",
    "    device=None,\n",
    "    # set the path for saving tensorboard and trained model files\n",
    "    saving_path=\"tutorial_results/imputation/gp_vae\",\n",
    "    # only save the best model after training finished.\n",
    "    # You can also set it as \"better\" to save models performing better ever during training.\n",
    "    model_saving_strategy=\"best\",\n",
    ")"
   ]
  },
  {
   "cell_type": "markdown",
   "metadata": {},
   "source": [
    "<h4> Inicialize model</h4>"
   ]
  },
  {
   "cell_type": "code",
   "execution_count": 35,
   "metadata": {},
   "outputs": [
    {
     "name": "stderr",
     "output_type": "stream",
     "text": [
      "2025-05-12 21:05:38 [INFO]: No given device, using default device: cpu\n",
      "2025-05-12 21:05:38 [WARNING]: ‼️ saving_path not given. Model files and tensorboard file will not be saved.\n",
      "2025-05-12 21:05:38 [INFO]: GPVAE initialized with the given hyperparameters, the number of trainable parameters: 229,652\n"
     ]
    }
   ],
   "source": [
    "gp_vae = GPVAE(\n",
    "    n_steps=physionet2012_dataset_standard['n_steps'],\n",
    "    n_features=physionet2012_dataset_standard['n_features'],\n",
    "    latent_size=37,\n",
    "    encoder_sizes=(128,128),\n",
    "    decoder_sizes=(256,256),\n",
    "    kernel=\"cauchy\",\n",
    "    beta=0.2,\n",
    "    M=1,\n",
    "    K=1,\n",
    "    sigma=1.005,\n",
    "    length_scale=7.0,\n",
    "    kernel_scales=1,\n",
    "    window_size=24,\n",
    "    batch_size=32,\n",
    "    # here we set epochs=10 for a quick demo, you can set it to 100 or more for better performance\n",
    "    epochs=10,\n",
    "    # here we set patience=3 to early stop the training if the evaluting loss doesn't decrease for 3 epoches.\n",
    "    # You can leave it to defualt as None to disable early stopping.\n",
    "    patience=3,\n",
    "    # give the optimizer. Different from torch.optim.Optimizer, you don't have to specify model's parameters when\n",
    "    # initializing pypots.optim.Optimizer. You can also leave it to default. It will initilize an Adam optimizer with lr=0.001.\n",
    "    optimizer=Adam(lr=1e-3),\n",
    "    # this num_workers argument is for torch.utils.data.Dataloader. It's the number of subprocesses to use for data loading.\n",
    "    # Leaving it to default as 0 means data loading will be in the main process, i.e. there won't be subprocesses.\n",
    "    # You can increase it to >1 if you think your dataloading is a bottleneck to your model training speed\n",
    "    num_workers=0,\n",
    "    # just leave it to default as None, PyPOTS will automatically assign the best device for you.\n",
    "    # Set it as 'cpu' if you don't have CUDA devices. You can also set it to 'cuda:0' or 'cuda:1' if you have multiple CUDA devices, even parallelly on ['cuda:0', 'cuda:1']\n",
    "    device=None,\n",
    "    # set the path for saving tensorboard and trained model files\n",
    "    # only save the best model after training finished.\n",
    "    # You can also set it as \"better\" to save models performing better ever during training.\n",
    "    model_saving_strategy=\"best\",\n",
    ")"
   ]
  },
  {
   "cell_type": "markdown",
   "metadata": {},
   "source": [
    "### MRNN"
   ]
  },
  {
   "cell_type": "markdown",
   "metadata": {},
   "source": [
    "<h4>Inicialize new model</h4>"
   ]
  },
  {
   "cell_type": "code",
   "execution_count": 10,
   "metadata": {},
   "outputs": [
    {
     "name": "stderr",
     "output_type": "stream",
     "text": [
      "2025-04-22 18:16:43 [INFO]: No given device, using default device: cuda\n",
      "2025-04-22 18:16:43 [INFO]: Model files will be saved to tutorial_results/imputation/mrnn/20250422_T181643\n",
      "2025-04-22 18:16:43 [INFO]: Tensorboard file will be saved to tutorial_results/imputation/mrnn/20250422_T181643/tensorboard\n",
      "2025-04-22 18:16:43 [INFO]: Using customized RMSE as the training loss function.\n",
      "2025-04-22 18:16:43 [INFO]: Using customized MSE as the validation metric function.\n",
      "2025-04-22 18:16:43 [INFO]: MRNN initialized with the given hyperparameters, the number of trainable parameters: 107,951\n"
     ]
    }
   ],
   "source": [
    "mrnn = MRNN(\n",
    "    n_steps=physionet2012_dataset_standard['n_steps'],\n",
    "    n_features=physionet2012_dataset_standard['n_features'],\n",
    "    rnn_hidden_size=128,\n",
    "\n",
    "    # here we set epochs=10 for a quick demo, you can set it to 100 or more for better performance\n",
    "    epochs=10,\n",
    "    # here we set patience=3 to early stop the training if the evaluting loss doesn't decrease for 3 epoches.\n",
    "    # You can leave it to defualt as None to disable early stopping.\n",
    "    patience=3,\n",
    "    # give the optimizer. Different from torch.optim.Optimizer, you don't have to specify model's parameters when\n",
    "    # initializing pypots.optim.Optimizer. You can also leave it to default. It will initilize an Adam optimizer with lr=0.001.\n",
    "    optimizer=Adam(lr=1e-3),\n",
    "    # this num_workers argument is for torch.utils.data.Dataloader. It's the number of subprocesses to use for data loading.\n",
    "    # Leaving it to default as 0 means data loading will be in the main process, i.e. there won't be subprocesses.\n",
    "    # You can increase it to >1 if you think your dataloading is a bottleneck to your model training speed\n",
    "    num_workers=0,\n",
    "    # just leave it to default as None, PyPOTS will automatically assign the best device for you.\n",
    "    # Set it as 'cpu' if you don't have CUDA devices. You can also set it to 'cuda:0' or 'cuda:1' if you have multiple CUDA devices, even parallelly on ['cuda:0', 'cuda:1']\n",
    "    device=None,\n",
    "    # set the path for saving tensorboard and trained model files\n",
    "    saving_path=\"tutorial_results/imputation/mrnn\",\n",
    "    # only save the best model after training finished.\n",
    "    # You can also set it as \"better\" to save models performing better ever during training.\n",
    "    model_saving_strategy=\"best\",\n",
    ")"
   ]
  },
  {
   "cell_type": "markdown",
   "metadata": {},
   "source": [
    "<h4> Inicialize model</h4>"
   ]
  },
  {
   "cell_type": "code",
   "execution_count": 36,
   "metadata": {},
   "outputs": [
    {
     "name": "stderr",
     "output_type": "stream",
     "text": [
      "2025-05-12 21:05:42 [INFO]: No given device, using default device: cpu\n",
      "2025-05-12 21:05:42 [WARNING]: ‼️ saving_path not given. Model files and tensorboard file will not be saved.\n",
      "2025-05-12 21:05:42 [INFO]: Using customized RMSE as the training loss function.\n",
      "2025-05-12 21:05:42 [INFO]: Using customized MSE as the validation metric function.\n",
      "2025-05-12 21:05:42 [INFO]: MRNN initialized with the given hyperparameters, the number of trainable parameters: 107,951\n"
     ]
    }
   ],
   "source": [
    "mrnn = MRNN(\n",
    "    n_steps=physionet2012_dataset_standard['n_steps'],\n",
    "    n_features=physionet2012_dataset_standard['n_features'],\n",
    "    rnn_hidden_size=128,\n",
    "\n",
    "    # here we set epochs=10 for a quick demo, you can set it to 100 or more for better performance\n",
    "    epochs=10,\n",
    "    # here we set patience=3 to early stop the training if the evaluting loss doesn't decrease for 3 epoches.\n",
    "    # You can leave it to defualt as None to disable early stopping.\n",
    "    patience=3,\n",
    "    # give the optimizer. Different from torch.optim.Optimizer, you don't have to specify model's parameters when\n",
    "    # initializing pypots.optim.Optimizer. You can also leave it to default. It will initilize an Adam optimizer with lr=0.001.\n",
    "    optimizer=Adam(lr=1e-3),\n",
    "    # this num_workers argument is for torch.utils.data.Dataloader. It's the number of subprocesses to use for data loading.\n",
    "    # Leaving it to default as 0 means data loading will be in the main process, i.e. there won't be subprocesses.\n",
    "    # You can increase it to >1 if you think your dataloading is a bottleneck to your model training speed\n",
    "    num_workers=0,\n",
    "    # just leave it to default as None, PyPOTS will automatically assign the best device for you.\n",
    "    # Set it as 'cpu' if you don't have CUDA devices. You can also set it to 'cuda:0' or 'cuda:1' if you have multiple CUDA devices, even parallelly on ['cuda:0', 'cuda:1']\n",
    "    device=None,\n",
    "    # set the path for saving tensorboard and trained model files\n",
    "    # only save the best model after training finished.\n",
    "    # You can also set it as \"better\" to save models performing better ever during training.\n",
    "    model_saving_strategy=\"best\",\n",
    ")"
   ]
  },
  {
   "cell_type": "markdown",
   "metadata": {},
   "source": [
    "# Train/Load the models"
   ]
  },
  {
   "cell_type": "markdown",
   "metadata": {},
   "source": [
    "### SAITS"
   ]
  },
  {
   "cell_type": "markdown",
   "metadata": {},
   "source": [
    "<h4>Train</h4>"
   ]
  },
  {
   "cell_type": "code",
   "execution_count": 7,
   "metadata": {},
   "outputs": [
    {
     "name": "stderr",
     "output_type": "stream",
     "text": [
      "2025-04-22 21:54:58 [INFO]: Epoch 001 - training loss (MAE): 0.7233, validation MSE: 6.7652\n",
      "2025-04-22 21:55:03 [INFO]: Epoch 002 - training loss (MAE): 0.5383, validation MSE: 6.7408\n",
      "2025-04-22 21:55:08 [INFO]: Epoch 003 - training loss (MAE): 0.4956, validation MSE: 6.7218\n",
      "2025-04-22 21:55:12 [INFO]: Epoch 004 - training loss (MAE): 0.4643, validation MSE: 6.6987\n",
      "2025-04-22 21:55:16 [INFO]: Epoch 005 - training loss (MAE): 0.4392, validation MSE: 6.6806\n",
      "2025-04-22 21:55:21 [INFO]: Epoch 006 - training loss (MAE): 0.4207, validation MSE: 6.6686\n",
      "2025-04-22 21:55:24 [INFO]: Epoch 007 - training loss (MAE): 0.4065, validation MSE: 6.6527\n",
      "2025-04-22 21:55:28 [INFO]: Epoch 008 - training loss (MAE): 0.3953, validation MSE: 6.6548\n",
      "2025-04-22 21:55:32 [INFO]: Epoch 009 - training loss (MAE): 0.3866, validation MSE: 6.6511\n",
      "2025-04-22 21:55:36 [INFO]: Epoch 010 - training loss (MAE): 0.3798, validation MSE: 6.6584\n",
      "2025-04-22 21:55:36 [INFO]: Finished training. The best model is from epoch#9.\n",
      "2025-04-22 21:55:36 [INFO]: Saved the model to tutorial_results/imputation/saits/20250422_T215446/SAITS.pypots\n"
     ]
    }
   ],
   "source": [
    "saits.fit(train_set=dataset_for_training_standard, val_set=dataset_for_validating_standard)"
   ]
  },
  {
   "cell_type": "markdown",
   "metadata": {},
   "source": [
    "<h4> Load</h4>"
   ]
  },
  {
   "cell_type": "code",
   "execution_count": 37,
   "metadata": {},
   "outputs": [
    {
     "name": "stderr",
     "output_type": "stream",
     "text": [
      "2025-05-12 21:05:46 [INFO]: Model loaded successfully from tutorial_results/imputation/saits/20250422_T181642/SAITS.pypots\n"
     ]
    }
   ],
   "source": [
    "saits.load(\"tutorial_results/imputation/saits/20250422_T181642/SAITS.pypots\")"
   ]
  },
  {
   "cell_type": "markdown",
   "metadata": {},
   "source": [
    "### BRITS"
   ]
  },
  {
   "cell_type": "markdown",
   "metadata": {},
   "source": [
    "<h4>Train</h4>"
   ]
  },
  {
   "cell_type": "code",
   "execution_count": 12,
   "metadata": {},
   "outputs": [
    {
     "name": "stderr",
     "output_type": "stream",
     "text": [
      "2025-04-22 18:20:14 [INFO]: Epoch 001 - training loss (MAE): 0.9371, validation MSE: 6.7840\n",
      "2025-04-22 18:22:18 [INFO]: Epoch 002 - training loss (MAE): 0.7328, validation MSE: 6.7456\n",
      "2025-04-22 18:24:23 [INFO]: Epoch 003 - training loss (MAE): 0.6822, validation MSE: 6.7326\n",
      "2025-04-22 18:26:17 [INFO]: Epoch 004 - training loss (MAE): 0.6576, validation MSE: 6.7294\n",
      "2025-04-22 18:28:36 [INFO]: Epoch 005 - training loss (MAE): 0.6427, validation MSE: 6.7280\n",
      "2025-04-22 18:30:47 [INFO]: Epoch 006 - training loss (MAE): 0.6318, validation MSE: 6.7267\n",
      "2025-04-22 18:32:52 [INFO]: Epoch 007 - training loss (MAE): 0.6229, validation MSE: 6.7294\n",
      "2025-04-22 18:35:07 [INFO]: Epoch 008 - training loss (MAE): 0.6149, validation MSE: 6.7316\n",
      "2025-04-22 18:37:26 [INFO]: Epoch 009 - training loss (MAE): 0.6087, validation MSE: 6.7332\n",
      "2025-04-22 18:37:26 [INFO]: Exceeded the training patience. Terminating the training procedure...\n",
      "2025-04-22 18:37:26 [INFO]: Finished training. The best model is from epoch#6.\n",
      "2025-04-22 18:37:26 [INFO]: Saved the model to tutorial_results/imputation/brits/20250422_T181643/BRITS.pypots\n"
     ]
    }
   ],
   "source": [
    "brits.fit(train_set=dataset_for_training_standard, val_set=dataset_for_validating_standard)"
   ]
  },
  {
   "cell_type": "markdown",
   "metadata": {},
   "source": [
    "<h4>Load</h4>"
   ]
  },
  {
   "cell_type": "code",
   "execution_count": 38,
   "metadata": {},
   "outputs": [
    {
     "name": "stderr",
     "output_type": "stream",
     "text": [
      "2025-05-12 21:05:48 [INFO]: Model loaded successfully from tutorial_results/imputation/brits/20250422_T181643/BRITS.pypots\n"
     ]
    }
   ],
   "source": [
    "brits.load(\"tutorial_results/imputation/brits/20250422_T181643/BRITS.pypots\")"
   ]
  },
  {
   "cell_type": "markdown",
   "metadata": {},
   "source": [
    "### USGAN"
   ]
  },
  {
   "cell_type": "markdown",
   "metadata": {},
   "source": [
    "<h4>Train</h4>"
   ]
  },
  {
   "cell_type": "code",
   "execution_count": 13,
   "metadata": {},
   "outputs": [
    {
     "name": "stderr",
     "output_type": "stream",
     "text": [
      "2025-04-22 18:41:35 [INFO]: Epoch 001 - generator training loss: 0.4346, discriminator training loss: 0.1907, validation loss: 6.7750\n",
      "2025-04-22 18:45:20 [INFO]: Epoch 002 - generator training loss: 0.3701, discriminator training loss: 0.0566, validation loss: 6.7282\n",
      "2025-04-22 18:49:07 [INFO]: Epoch 003 - generator training loss: 0.3347, discriminator training loss: 0.0374, validation loss: 6.7004\n",
      "2025-04-22 18:52:56 [INFO]: Epoch 004 - generator training loss: 0.3165, discriminator training loss: 0.0311, validation loss: 6.6837\n",
      "2025-04-22 18:56:43 [INFO]: Epoch 005 - generator training loss: 0.3020, discriminator training loss: 0.0281, validation loss: 6.6737\n",
      "2025-04-22 19:00:32 [INFO]: Epoch 006 - generator training loss: 0.2923, discriminator training loss: 0.0265, validation loss: 6.6685\n",
      "2025-04-22 19:04:19 [INFO]: Epoch 007 - generator training loss: 0.2877, discriminator training loss: 0.0252, validation loss: 6.6691\n",
      "2025-04-22 19:08:07 [INFO]: Epoch 008 - generator training loss: 0.2814, discriminator training loss: 0.0247, validation loss: 6.6621\n",
      "2025-04-22 19:11:58 [INFO]: Epoch 009 - generator training loss: 0.2772, discriminator training loss: 0.0239, validation loss: 6.6618\n",
      "2025-04-22 19:15:48 [INFO]: Epoch 010 - generator training loss: 0.2704, discriminator training loss: 0.0227, validation loss: 6.6556\n",
      "2025-04-22 19:15:48 [INFO]: Finished training. The best model is from epoch#10.\n",
      "2025-04-22 19:15:48 [INFO]: Saved the model to tutorial_results/imputation/us_gan/20250422_T181643/USGAN.pypots\n"
     ]
    }
   ],
   "source": [
    "us_gan.fit(train_set=dataset_for_training_standard, val_set=dataset_for_validating_standard)"
   ]
  },
  {
   "cell_type": "markdown",
   "metadata": {},
   "source": [
    "<h4>Load</h4>"
   ]
  },
  {
   "cell_type": "code",
   "execution_count": 39,
   "metadata": {},
   "outputs": [
    {
     "name": "stderr",
     "output_type": "stream",
     "text": [
      "2025-05-12 21:05:51 [INFO]: Model loaded successfully from tutorial_results/imputation/us_gan/20250422_T181643/USGAN.pypots\n"
     ]
    }
   ],
   "source": [
    "us_gan.load(\"tutorial_results/imputation/us_gan/20250422_T181643/USGAN.pypots\")"
   ]
  },
  {
   "cell_type": "markdown",
   "metadata": {},
   "source": [
    "### GPVAE"
   ]
  },
  {
   "cell_type": "markdown",
   "metadata": {},
   "source": [
    "<h4>Train</h4>"
   ]
  },
  {
   "cell_type": "code",
   "execution_count": 14,
   "metadata": {},
   "outputs": [
    {
     "name": "stderr",
     "output_type": "stream",
     "text": [
      "2025-04-22 19:15:55 [INFO]: Epoch 001 - training loss (default): 26027.5423, validation loss: 22882.8125\n",
      "2025-04-22 19:16:01 [INFO]: Epoch 002 - training loss (default): 22877.1633, validation loss: 22807.7179\n",
      "2025-04-22 19:16:07 [INFO]: Epoch 003 - training loss (default): 22842.6190, validation loss: 22788.8947\n",
      "2025-04-22 19:16:14 [INFO]: Epoch 004 - training loss (default): 22832.1135, validation loss: 22783.6572\n",
      "2025-04-22 19:16:20 [INFO]: Epoch 005 - training loss (default): 22827.5731, validation loss: 22780.0771\n",
      "2025-04-22 19:16:27 [INFO]: Epoch 006 - training loss (default): 22821.9797, validation loss: 22773.8286\n",
      "2025-04-22 19:16:34 [INFO]: Epoch 007 - training loss (default): 22814.3062, validation loss: 22767.3447\n",
      "2025-04-22 19:16:40 [INFO]: Epoch 008 - training loss (default): 22810.7426, validation loss: 22771.6522\n",
      "2025-04-22 19:16:46 [INFO]: Epoch 009 - training loss (default): 22808.6126, validation loss: 22762.6405\n",
      "2025-04-22 19:16:52 [INFO]: Epoch 010 - training loss (default): 22808.6487, validation loss: 22763.1757\n",
      "2025-04-22 19:16:52 [INFO]: Finished training. The best model is from epoch#9.\n",
      "2025-04-22 19:16:52 [INFO]: Saved the model to tutorial_results/imputation/gp_vae/20250422_T181643/GPVAE.pypots\n"
     ]
    }
   ],
   "source": [
    "gp_vae.fit(train_set=dataset_for_training_standard, val_set=dataset_for_validating_standard)"
   ]
  },
  {
   "cell_type": "markdown",
   "metadata": {},
   "source": [
    "<h4>Load</h4>"
   ]
  },
  {
   "cell_type": "code",
   "execution_count": 40,
   "metadata": {},
   "outputs": [
    {
     "name": "stderr",
     "output_type": "stream",
     "text": [
      "2025-05-12 21:05:53 [INFO]: Model loaded successfully from tutorial_results/imputation/gp_vae/20250422_T181643/GPVAE.pypots\n"
     ]
    }
   ],
   "source": [
    "gp_vae.load(\"tutorial_results/imputation/gp_vae/20250422_T181643/GPVAE.pypots\")"
   ]
  },
  {
   "cell_type": "markdown",
   "metadata": {},
   "source": [
    "### MRNN"
   ]
  },
  {
   "cell_type": "markdown",
   "metadata": {},
   "source": [
    "<h4>Train</h4>"
   ]
  },
  {
   "cell_type": "code",
   "execution_count": 15,
   "metadata": {},
   "outputs": [
    {
     "name": "stderr",
     "output_type": "stream",
     "text": [
      "2025-04-22 19:17:30 [INFO]: Epoch 001 - training loss (RMSE): 0.7504, validation MSE: 7.3129\n",
      "2025-04-22 19:17:47 [INFO]: Epoch 002 - training loss (RMSE): 0.5341, validation MSE: 7.2684\n",
      "2025-04-22 19:18:05 [INFO]: Epoch 003 - training loss (RMSE): 0.4959, validation MSE: 7.2556\n",
      "2025-04-22 19:18:22 [INFO]: Epoch 004 - training loss (RMSE): 0.4612, validation MSE: 7.2489\n",
      "2025-04-22 19:18:40 [INFO]: Epoch 005 - training loss (RMSE): 0.4541, validation MSE: 7.2464\n",
      "2025-04-22 19:18:59 [INFO]: Epoch 006 - training loss (RMSE): 0.4473, validation MSE: 7.2449\n",
      "2025-04-22 19:19:16 [INFO]: Epoch 007 - training loss (RMSE): 0.4298, validation MSE: 7.2458\n",
      "2025-04-22 19:19:34 [INFO]: Epoch 008 - training loss (RMSE): 0.4340, validation MSE: 7.2485\n",
      "2025-04-22 19:19:51 [INFO]: Epoch 009 - training loss (RMSE): 0.4229, validation MSE: 7.2492\n",
      "2025-04-22 19:19:51 [INFO]: Exceeded the training patience. Terminating the training procedure...\n",
      "2025-04-22 19:19:51 [INFO]: Finished training. The best model is from epoch#6.\n",
      "2025-04-22 19:19:51 [INFO]: Saved the model to tutorial_results/imputation/mrnn/20250422_T181643/MRNN.pypots\n"
     ]
    }
   ],
   "source": [
    "mrnn.fit(train_set=dataset_for_training_standard, val_set=dataset_for_validating_standard)"
   ]
  },
  {
   "cell_type": "markdown",
   "metadata": {},
   "source": [
    "<h4>Load</h4>"
   ]
  },
  {
   "cell_type": "code",
   "execution_count": 41,
   "metadata": {},
   "outputs": [
    {
     "name": "stderr",
     "output_type": "stream",
     "text": [
      "2025-05-12 21:05:55 [INFO]: Model loaded successfully from tutorial_results/imputation/mrnn/20250422_T181643/MRNN.pypots\n"
     ]
    }
   ],
   "source": [
    "mrnn.load(\"tutorial_results/imputation/mrnn/20250422_T181643/MRNN.pypots\")"
   ]
  },
  {
   "cell_type": "markdown",
   "metadata": {},
   "source": [
    "# Testing stage"
   ]
  },
  {
   "cell_type": "markdown",
   "metadata": {},
   "source": [
    "### SAITS"
   ]
  },
  {
   "cell_type": "markdown",
   "metadata": {},
   "source": [
    "#### Standard Scaler"
   ]
  },
  {
   "cell_type": "code",
   "execution_count": 42,
   "metadata": {},
   "outputs": [],
   "source": [
    "saits_imputation_standard = toolkits.model_imputation(dataset_for_testing_standard, saits)\n",
    "saits_imputation_standard = toolkits.pre_reshape(saits_imputation_standard)\n",
    "saits_imputation_standard_general = saits_imputation_standard\n",
    "saits_imputation_standard_ori = toolkits.desnormalization(saits_imputation_standard, scaler_standard)\n",
    "saits_imputation_standard = toolkits.reshape_variable(saits_imputation_standard)\n",
    "saits_imputation_standard_ori = toolkits.reshape_variable(saits_imputation_standard_ori)"
   ]
  },
  {
   "cell_type": "markdown",
   "metadata": {},
   "source": [
    "### BRITS"
   ]
  },
  {
   "cell_type": "markdown",
   "metadata": {},
   "source": [
    "#### Standard Scaler"
   ]
  },
  {
   "cell_type": "code",
   "execution_count": 43,
   "metadata": {},
   "outputs": [],
   "source": [
    "brits_imputation_standard = toolkits.model_imputation(dataset_for_testing_standard, brits)\n",
    "brits_imputation_standard = toolkits.pre_reshape(brits_imputation_standard)\n",
    "brits_imputation_standard_ori = toolkits.desnormalization(brits_imputation_standard, scaler_standard)\n",
    "brits_imputation_standard = toolkits.reshape_variable(brits_imputation_standard)\n",
    "brits_imputation_standard_ori = toolkits.reshape_variable(brits_imputation_standard_ori)"
   ]
  },
  {
   "cell_type": "markdown",
   "metadata": {},
   "source": [
    "### USGAN"
   ]
  },
  {
   "cell_type": "code",
   "execution_count": 44,
   "metadata": {},
   "outputs": [],
   "source": [
    "usgan_imputation_standard = toolkits.model_imputation(dataset_for_testing_standard, us_gan)\n",
    "usgan_imputation_standard = toolkits.pre_reshape(usgan_imputation_standard)\n",
    "usgan_imputation_standard_ori = toolkits.desnormalization(usgan_imputation_standard, scaler_standard)\n",
    "usgan_imputation_standard = toolkits.reshape_variable(usgan_imputation_standard)\n",
    "usgan_imputation_standard_ori = toolkits.reshape_variable(usgan_imputation_standard_ori)"
   ]
  },
  {
   "cell_type": "markdown",
   "metadata": {},
   "source": [
    "### GPVAE"
   ]
  },
  {
   "cell_type": "code",
   "execution_count": 45,
   "metadata": {},
   "outputs": [],
   "source": [
    "gpvae_imputation_standard = toolkits.model_imputation(dataset_for_testing_standard, gp_vae)\n",
    "gpvae_imputation_standard = toolkits.pre_reshape(gpvae_imputation_standard)\n",
    "gpvae_imputation_standard_ori = toolkits.desnormalization(gpvae_imputation_standard, scaler_standard)\n",
    "gpvae_imputation_standard = toolkits.reshape_variable(gpvae_imputation_standard)\n",
    "gpvae_imputation_standard_ori = toolkits.reshape_variable(gpvae_imputation_standard_ori)"
   ]
  },
  {
   "cell_type": "markdown",
   "metadata": {},
   "source": [
    "### MRNN"
   ]
  },
  {
   "cell_type": "code",
   "execution_count": 46,
   "metadata": {},
   "outputs": [],
   "source": [
    "mrnn_imputation_standard = toolkits.model_imputation(dataset_for_testing_standard, mrnn)\n",
    "mrnn_imputation_standard = toolkits.pre_reshape(mrnn_imputation_standard)\n",
    "mrnn_imputation_standard_ori = toolkits.desnormalization(mrnn_imputation_standard, scaler_standard)\n",
    "mrnn_imputation_standard = toolkits.reshape_variable(mrnn_imputation_standard)\n",
    "mrnn_imputation_standard_ori = toolkits.reshape_variable(mrnn_imputation_standard_ori)"
   ]
  },
  {
   "cell_type": "markdown",
   "metadata": {},
   "source": [
    "# Calculate mean absolute error"
   ]
  },
  {
   "cell_type": "code",
   "execution_count": 49,
   "metadata": {},
   "outputs": [],
   "source": [
    "variables = [\"ALP\", \"ALT\", \"AST\", \"Albumin\", \"BUN\", \"Bilirubin\", \"Cholesterol\", \"Creatinine\", \"DiasABP\", \"FiO2\", \"GCS\", \"Glucose\", \"HCO3\", \"HCT\", \"HR\", \"K\", \"Lactate\", \"MAP\", \"MechVent\", \"Mg\", \"NIDiasABP\", \"NIMAP\", \"NISysABP\", \"Na\", \"PaCO2\", \"PaO2\", \"Platelets\", \"RespRate\", \"SaO2\", \"SysABP\", \"Temp\", \"TroponinI\", \"TroponinT\", \"Urine\", \"WBC\", \"Weight\", \"Ph\"]"
   ]
  },
  {
   "cell_type": "code",
   "execution_count": 50,
   "metadata": {},
   "outputs": [],
   "source": [
    "subgroups = [\"General\", \"Female\", \"Male\", \"+65\", \"-65\", \"ICUType 1\", \"ICUType 2\", \"ICUType 3\", \"ICUType 4\", \"Undefined classification\", \"Low Weight\", \"Normal Weight\", \"Overweight\", \"Obesity 1\", \"Obesity 2\", \"Obesity 3\"]"
   ]
  },
  {
   "cell_type": "markdown",
   "metadata": {},
   "source": [
    "## SAITS"
   ]
  },
  {
   "cell_type": "markdown",
   "metadata": {},
   "source": [
    "### Calculate MAE and AE"
   ]
  },
  {
   "cell_type": "code",
   "execution_count": 52,
   "metadata": {},
   "outputs": [],
   "source": [
    "testing_mae_saits_variables_standard, testing_ae_saits_variables_standard = toolkits.calculate_mae(saits_imputation_standard, test_X_ori_variable_standard_norm, indicating_mask_variable_standard_norm)"
   ]
  },
  {
   "cell_type": "code",
   "execution_count": 53,
   "metadata": {},
   "outputs": [],
   "source": [
    "from MAEModify.error import calc_mae\n",
    "testing_mae_saits_variables_standard_general = []\n",
    "testing_ae_saits_variables_standard_general = []\n",
    "for i in range(len(saits_imputation_standard_general)):\n",
    "    aux1, aux2 = calc_mae(saits_imputation_standard_general[i], test_X_ori_variable_standard_norm_general[i], indicating_mask_variable_standard_norm_general[i])\n",
    "    testing_mae_saits_variables_standard_general.append(aux1) \n",
    "    testing_ae_saits_variables_standard_general.append(aux2)"
   ]
  },
  {
   "cell_type": "markdown",
   "metadata": {},
   "source": [
    "### Taking the MAE difference for SAITS model"
   ]
  },
  {
   "cell_type": "markdown",
   "metadata": {},
   "source": [
    "#### Difference between gender group"
   ]
  },
  {
   "cell_type": "code",
   "execution_count": 23,
   "metadata": {},
   "outputs": [
    {
     "data": {
      "text/plain": [
       "[('Cholesterol', 0.5369465600078649),\n",
       " ('TroponinI', 0.21670827441781393),\n",
       " ('SaO2', 0.2006324035650055),\n",
       " ('Lactate', 0.10301878818965454),\n",
       " ('Urine', 0.06260751107865509)]"
      ]
     },
     "execution_count": 23,
     "metadata": {},
     "output_type": "execute_result"
    }
   ],
   "source": [
    "diff_saits_gender_subgroup = toolkits.diff_mae_top_5(testing_mae_saits_variables_standard, 1, 2, variables)\n",
    "diff_saits_gender_subgroup"
   ]
  },
  {
   "cell_type": "markdown",
   "metadata": {},
   "source": [
    "#### Difference between age group"
   ]
  },
  {
   "cell_type": "code",
   "execution_count": 24,
   "metadata": {},
   "outputs": [
    {
     "data": {
      "text/plain": [
       "[('Cholesterol', 0.7145901970213923),\n",
       " ('TroponinI', 0.5566432434151988),\n",
       " ('ALP', 0.3592549477972564),\n",
       " ('SaO2', 0.1956973703724636),\n",
       " ('Bilirubin', 0.19557828811797667)]"
      ]
     },
     "execution_count": 24,
     "metadata": {},
     "output_type": "execute_result"
    }
   ],
   "source": [
    "diff_saits_age_subgroup = toolkits.diff_mae_top_5(testing_mae_saits_variables_standard, 4, 5, variables)\n",
    "diff_saits_age_subgroup"
   ]
  },
  {
   "cell_type": "markdown",
   "metadata": {},
   "source": [
    "#### Difference between ICUType group"
   ]
  },
  {
   "cell_type": "code",
   "execution_count": 25,
   "metadata": {},
   "outputs": [],
   "source": [
    "diff_saits_ICUType_1_2 = toolkits.diff_mae_top_5(testing_mae_saits_variables_standard, 6, 7, variables)\n",
    "diff_saits_ICUType_1_3 = toolkits.diff_mae_top_5(testing_mae_saits_variables_standard, 6, 8, variables)\n",
    "diff_saits_ICUType_1_4 = toolkits.diff_mae_top_5(testing_mae_saits_variables_standard, 6, 9, variables)\n",
    "diff_saits_ICUType_2_3 = toolkits.diff_mae_top_5(testing_mae_saits_variables_standard, 7, 8, variables)\n",
    "diff_saits_ICUType_2_4 = toolkits.diff_mae_top_5(testing_mae_saits_variables_standard, 7, 9, variables)\n",
    "diff_saits_ICUType_3_4 = toolkits.diff_mae_top_5(testing_mae_saits_variables_standard, 8, 9, variables)"
   ]
  },
  {
   "cell_type": "code",
   "execution_count": 26,
   "metadata": {},
   "outputs": [
    {
     "name": "stdout",
     "output_type": "stream",
     "text": [
      "Diferença(MAE) ICUType 1 e 2\n",
      "----------------------------\n",
      "[('TroponinI', 0.9325070778805344), ('Cholesterol', 0.9139836206325719), ('TroponinT', 0.610061672941423), ('Albumin', 0.3227603119355845), ('AST', 0.2527107766945585)]\n",
      "----------------------------\n",
      "Diferença(MAE) ICUType 1 e 3\n",
      "----------------------------\n",
      "[('TroponinI', 1.0714226157212936), ('SaO2', 1.0588494232986556), ('ALP', 0.7533389720997652), ('TroponinT', 0.5510963137613376), ('Albumin', 0.20918888526467827)]\n",
      "----------------------------\n",
      "Diferença(MAE) ICUType 1 e 4\n",
      "----------------------------\n",
      "[('TroponinI', 0.6292154153589171), ('TroponinT', 0.5631873029767689), ('Albumin', 0.2424261680183718), ('Bilirubin', 0.2032288517692434), ('Glucose', 0.18363430222468535)]\n",
      "----------------------------\n",
      "Diferença(MAE) ICUType 2 e 3\n",
      "[('SaO2', 1.2740858586846673), ('Cholesterol', 0.8991669157791677), ('ALP', 0.8536263954002238), ('Temp', 0.2721045789688794), ('Glucose', 0.22842305459952772)]\n",
      "----------------------------\n",
      "Diferença(MAE) ICUType 2 e 4\n",
      "----------------------------\n",
      "[('Cholesterol', 0.7372176583501053), ('TroponinI', 0.3032916625216173), ('ALP', 0.26900026148955364), ('Temp', 0.19611661775180536), ('K', 0.14884237512840498)]\n",
      "----------------------------\n",
      "Diferença(MAE) ICUType 3 e 4\n",
      "----------------------------\n",
      "[('SaO2', 1.1404703698523682), ('ALP', 0.5846261339106702), ('TroponinI', 0.44220720036237654), ('Glucose', 0.26865935240948746), ('K', 0.2262761812629593)]\n",
      "----------------------------\n"
     ]
    }
   ],
   "source": [
    "print(\"Diferença(MAE) ICUType 1 e 2\")\n",
    "print(\"----------------------------\")\n",
    "print(diff_saits_ICUType_1_2)\n",
    "print(\"----------------------------\")\n",
    "print(\"Diferença(MAE) ICUType 1 e 3\")\n",
    "print(\"----------------------------\")\n",
    "print(diff_saits_ICUType_1_3)\n",
    "print(\"----------------------------\")\n",
    "print(\"Diferença(MAE) ICUType 1 e 4\")\n",
    "print(\"----------------------------\")\n",
    "print(diff_saits_ICUType_1_4)\n",
    "print(\"----------------------------\")\n",
    "print(\"Diferença(MAE) ICUType 2 e 3\")\n",
    "print(diff_saits_ICUType_2_3)\n",
    "print(\"----------------------------\")\n",
    "print(\"Diferença(MAE) ICUType 2 e 4\")\n",
    "print(\"----------------------------\")\n",
    "print(diff_saits_ICUType_2_4)\n",
    "print(\"----------------------------\")\n",
    "print(\"Diferença(MAE) ICUType 3 e 4\")\n",
    "print(\"----------------------------\")\n",
    "print(diff_saits_ICUType_3_4)\n",
    "print(\"----------------------------\")"
   ]
  },
  {
   "cell_type": "code",
   "execution_count": 27,
   "metadata": {},
   "outputs": [
    {
     "name": "stdout",
     "output_type": "stream",
     "text": [
      "Top 5 variáveis ICUType\n",
      "-----------------------\n",
      "SaO2\n",
      "TroponinI\n",
      "Cholesterol\n",
      "ALP\n",
      "TroponinT\n"
     ]
    }
   ],
   "source": [
    "print(\"Top 5 variáveis ICUType\")\n",
    "print(\"-----------------------\")\n",
    "print(variables[28])\n",
    "print(variables[31])\n",
    "print(variables[6])\n",
    "print(variables[0])\n",
    "print(variables[32])"
   ]
  },
  {
   "cell_type": "markdown",
   "metadata": {},
   "source": [
    "#### Difference between BMI group"
   ]
  },
  {
   "cell_type": "code",
   "execution_count": 28,
   "metadata": {},
   "outputs": [],
   "source": [
    "diff_saits_classification_undefined_low = toolkits.diff_mae_top_5(testing_mae_saits_variables_standard, 10, 11, variables)\n",
    "diff_saits_classification_undefined_normal = toolkits.diff_mae_top_5(testing_mae_saits_variables_standard, 10, 12, variables)\n",
    "diff_saits_classification_undefined_over = toolkits.diff_mae_top_5(testing_mae_saits_variables_standard, 10, 13, variables)\n",
    "diff_saits_classification_undefined_obs1 = toolkits.diff_mae_top_5(testing_mae_saits_variables_standard, 10, 14, variables)\n",
    "diff_saits_classification_undefined_obs2 = toolkits.diff_mae_top_5(testing_mae_saits_variables_standard, 10, 15, variables)\n",
    "diff_saits_classification_undefined_obs3 = toolkits.diff_mae_top_5(testing_mae_saits_variables_standard, 10, 16, variables)\n",
    "\n",
    "diff_saits_classification_low_normal = toolkits.diff_mae_top_5(testing_mae_saits_variables_standard, 11, 12, variables)\n",
    "diff_saits_classification_low_over = toolkits.diff_mae_top_5(testing_mae_saits_variables_standard, 11, 13, variables)\n",
    "diff_saits_classification_low_obs1 = toolkits.diff_mae_top_5(testing_mae_saits_variables_standard, 11, 14, variables)\n",
    "diff_saits_classification_low_obs2 = toolkits.diff_mae_top_5(testing_mae_saits_variables_standard, 11, 15, variables)\n",
    "diff_saits_classification_low_obs3 = toolkits.diff_mae_top_5(testing_mae_saits_variables_standard, 11, 16, variables)\n",
    "\n",
    "diff_saits_classification_normal_over = toolkits.diff_mae_top_5(testing_mae_saits_variables_standard, 12, 13, variables)\n",
    "diff_saits_classification_normal_obs1 = toolkits.diff_mae_top_5(testing_mae_saits_variables_standard, 12, 14, variables)\n",
    "diff_saits_classification_normal_obs2 = toolkits.diff_mae_top_5(testing_mae_saits_variables_standard, 12, 15, variables)\n",
    "diff_saits_classification_normal_obs3 = toolkits.diff_mae_top_5(testing_mae_saits_variables_standard, 12, 16, variables)\n",
    "\n",
    "diff_saits_classification_over_obs1 = toolkits.diff_mae_top_5(testing_mae_saits_variables_standard, 13, 14, variables)\n",
    "diff_saits_classification_over_obs2 = toolkits.diff_mae_top_5(testing_mae_saits_variables_standard, 13, 15, variables)\n",
    "diff_saits_classification_over_obs3 = toolkits.diff_mae_top_5(testing_mae_saits_variables_standard, 13, 16, variables)\n",
    "\n",
    "\n",
    "diff_saits_classification_obs1_obs2 = toolkits.diff_mae_top_5(testing_mae_saits_variables_standard, 14, 15, variables)\n",
    "diff_saits_classification_obs1_obs3 = toolkits.diff_mae_top_5(testing_mae_saits_variables_standard, 14, 16, variables)\n",
    "\n",
    "diff_saits_classification_obs2_obs3 = toolkits.diff_mae_top_5(testing_mae_saits_variables_standard, 15, 16, variables)"
   ]
  },
  {
   "cell_type": "code",
   "execution_count": 29,
   "metadata": {},
   "outputs": [
    {
     "name": "stdout",
     "output_type": "stream",
     "text": [
      "Diferença(MAE) Classification Undefined and low\n",
      "----------------------------\n",
      "[('ALP', 1.0695110496684588), ('Bilirubin', 0.9915184933318177), ('TroponinI', 0.6146236310366883), ('TroponinT', 0.44333031899542663), ('Glucose', 0.416639242489911)]\n",
      "----------------------------\n",
      "Diferença(MAE) Classification Undefined and normal\n",
      "----------------------------\n",
      "[('Cholesterol', 0.2895575098137716), ('SaO2', 0.2683085879682801), ('TroponinI', 0.1622792886545023), ('Bilirubin', 0.1397830646769168), ('PaCO2', 0.1369607780183822)]\n",
      "----------------------------\n",
      "Diferença(MAE) Classification Undefined and over\n",
      "----------------------------\n",
      "[('Cholesterol', 0.4194546739320397), ('TroponinI', 0.2691988036465801), ('SaO2', 0.24053120129581373), ('TroponinT', 0.22793862706114962), ('Temp', 0.15260043693171418)]\n",
      "----------------------------\n",
      "Diferença(MAE) Classification Undefined and obs1\n",
      "[('Ph', 0.8884223546988217), ('SaO2', 0.25746554212335293), ('Albumin', 0.20186192626912858), ('Glucose', 0.17482233765734478), ('Temp', 0.16630288720224887)]\n",
      "----------------------------\n",
      "Diferença(MAE) Classification Undefined and obs2\n",
      "----------------------------\n",
      "[('TroponinT', 1.1841931283900113), ('TroponinI', 0.6146236310366883), ('Cholesterol', 0.5346509074295557), ('Albumin', 0.21528342344443063), ('ALP', 0.20332935007332512)]\n",
      "----------------------------\n",
      "Diferença(MAE) ICUType Undefined and obs3\n",
      "----------------------------\n",
      "[('TroponinT', 0.9733664067414144), ('Cholesterol', 0.5372298258543907), ('TroponinI', 0.2319849197126228), ('Albumin', 0.1694399116641826), ('ALP', 0.16674560775856168)]\n",
      "----------------------------\n"
     ]
    }
   ],
   "source": [
    "print(\"Diferença(MAE) Classification Undefined and low\")\n",
    "print(\"----------------------------\")\n",
    "print(diff_saits_classification_undefined_low)\n",
    "print(\"----------------------------\")\n",
    "print(\"Diferença(MAE) Classification Undefined and normal\")\n",
    "print(\"----------------------------\")\n",
    "print(diff_saits_classification_undefined_normal)\n",
    "print(\"----------------------------\")\n",
    "print(\"Diferença(MAE) Classification Undefined and over\")\n",
    "print(\"----------------------------\")\n",
    "print(diff_saits_classification_undefined_over)\n",
    "print(\"----------------------------\")\n",
    "print(\"Diferença(MAE) Classification Undefined and obs1\")\n",
    "print(diff_saits_classification_undefined_obs1)\n",
    "print(\"----------------------------\")\n",
    "print(\"Diferença(MAE) Classification Undefined and obs2\")\n",
    "print(\"----------------------------\")\n",
    "print(diff_saits_classification_undefined_obs2)\n",
    "print(\"----------------------------\")\n",
    "print(\"Diferença(MAE) ICUType Undefined and obs3\")\n",
    "print(\"----------------------------\")\n",
    "print(diff_saits_classification_undefined_obs3)\n",
    "print(\"----------------------------\")"
   ]
  },
  {
   "cell_type": "code",
   "execution_count": 30,
   "metadata": {},
   "outputs": [
    {
     "name": "stdout",
     "output_type": "stream",
     "text": [
      "Diferença(MAE) Classification low and normal\n",
      "----------------------------\n",
      "[('ALP', 0.9982780836518492), ('Bilirubin', 0.8517354286549008), ('Cholesterol', 0.6024235381405012), ('Glucose', 0.45734829458249626), ('TroponinI', 0.45234434238218596)]\n",
      "----------------------------\n",
      "Diferença(MAE) Classification low and over\n",
      "----------------------------\n",
      "[('ALP', 1.2036099992152576), ('Bilirubin', 1.1366820218459297), ('TroponinI', 0.8838224346832684), ('Cholesterol', 0.7323207022587693), ('Albumin', 0.45063840953236967)]\n",
      "----------------------------\n",
      "Diferença(MAE) Classification low and obs1\n",
      "----------------------------\n",
      "[('ALP', 1.2290137796990863), ('Bilirubin', 1.0050968827848537), ('Ph', 0.8831229129347288), ('Albumin', 0.5967439438309785), ('Glucose', 0.5914615801472558)]\n",
      "----------------------------\n",
      "Diferença(MAE) Classification low and obs2\n",
      "[('ALP', 1.2728403997417839), ('Bilirubin', 1.1380893342352523), ('TroponinT', 0.7408628093945846), ('Albumin', 0.6101654410062806), ('Glucose', 0.3955945111187993)]\n",
      "----------------------------\n",
      "Diferença(MAE) Classification low and obs3\n",
      "----------------------------\n",
      "[('ALP', 1.2362566574270204), ('Bilirubin', 1.0630776635156594), ('Albumin', 0.5643219292260325), ('TroponinT', 0.5300360877459878), ('TroponinI', 0.38263871132406546)]\n",
      "----------------------------\n"
     ]
    }
   ],
   "source": [
    "print(\"Diferença(MAE) Classification low and normal\")\n",
    "print(\"----------------------------\")\n",
    "print(diff_saits_classification_low_normal)\n",
    "print(\"----------------------------\")\n",
    "print(\"Diferença(MAE) Classification low and over\")\n",
    "print(\"----------------------------\")\n",
    "print(diff_saits_classification_low_over)\n",
    "print(\"----------------------------\")\n",
    "print(\"Diferença(MAE) Classification low and obs1\")\n",
    "print(\"----------------------------\")\n",
    "print(diff_saits_classification_low_obs1)\n",
    "print(\"----------------------------\")\n",
    "print(\"Diferença(MAE) Classification low and obs2\")\n",
    "print(diff_saits_classification_low_obs2)\n",
    "print(\"----------------------------\")\n",
    "print(\"Diferença(MAE) Classification low and obs3\")\n",
    "print(\"----------------------------\")\n",
    "print(diff_saits_classification_low_obs3)\n",
    "print(\"----------------------------\")"
   ]
  },
  {
   "cell_type": "code",
   "execution_count": 31,
   "metadata": {},
   "outputs": [
    {
     "name": "stdout",
     "output_type": "stream",
     "text": [
      "Diferença(MAE) Classification normal and over\n",
      "----------------------------\n",
      "[('TroponinI', 0.4314780923010824), ('Bilirubin', 0.2849465931910288), ('ALP', 0.2053319155634084), ('TroponinT', 0.19265691687489067), ('Cholesterol', 0.12989716411826813)]\n",
      "----------------------------\n",
      "Diferença(MAE) Classification normal and obs1\n",
      "----------------------------\n",
      "[('Ph', 0.8949578059134441), ('ALP', 0.23073569604723718), ('Albumin', 0.18762873907869004), ('Mg', 0.17643656092671073), ('Cholesterol', 0.16955198480248967)]\n",
      "----------------------------\n",
      "Diferença(MAE) Classification normal and obs2\n",
      "----------------------------\n",
      "[('TroponinT', 1.1489114182037523), ('Cholesterol', 0.8242084172433273), ('TroponinI', 0.45234434238218596), ('Bilirubin', 0.28635390558035134), ('ALP', 0.27456231608993475)]\n",
      "----------------------------\n",
      "Diferença(MAE) Classification normal and obs3\n",
      "[('TroponinT', 0.9380846965551555), ('Cholesterol', 0.8267873356681623), ('ALP', 0.23797857377517134), ('ALT', 0.22522062790349448), ('Bilirubin', 0.21134223486075848)]\n",
      "----------------------------\n"
     ]
    }
   ],
   "source": [
    "print(\"Diferença(MAE) Classification normal and over\")\n",
    "print(\"----------------------------\")\n",
    "print(diff_saits_classification_normal_over)\n",
    "print(\"----------------------------\")\n",
    "print(\"Diferença(MAE) Classification normal and obs1\")\n",
    "print(\"----------------------------\")\n",
    "print(diff_saits_classification_normal_obs1)\n",
    "print(\"----------------------------\")\n",
    "print(\"Diferença(MAE) Classification normal and obs2\")\n",
    "print(\"----------------------------\")\n",
    "print(diff_saits_classification_normal_obs2)\n",
    "print(\"----------------------------\")\n",
    "print(\"Diferença(MAE) Classification normal and obs3\")\n",
    "print(diff_saits_classification_normal_obs3)\n",
    "print(\"----------------------------\")"
   ]
  },
  {
   "cell_type": "code",
   "execution_count": 32,
   "metadata": {},
   "outputs": [
    {
     "name": "stdout",
     "output_type": "stream",
     "text": [
      "Diferença(MAE) Classification over and obs1\n",
      "----------------------------\n",
      "[('Ph', 0.8907623608787905), ('TroponinI', 0.3704914364449188), ('Cholesterol', 0.2994491489207578), ('Glucose', 0.15595710055083023), ('Albumin', 0.14610553429860884)]\n",
      "----------------------------\n",
      "Diferença(MAE) Classification over and obs2\n",
      "----------------------------\n",
      "[('TroponinT', 0.9562545013288617), ('Cholesterol', 0.9541055813615954), ('TroponinI', 0.8838224346832684), ('Albumin', 0.1595270314739109), ('K', 0.11861301604813246)]\n",
      "----------------------------\n",
      "Diferença(MAE) Classification over and obs3\n",
      "----------------------------\n",
      "[('Cholesterol', 0.9566844997864304), ('TroponinT', 0.7454277796802649), ('TroponinI', 0.5011837233592029), ('Glucose', 0.17570701271287492), ('FiO2', 0.16851930435322476)]\n",
      "----------------------------\n"
     ]
    }
   ],
   "source": [
    "print(\"Diferença(MAE) Classification over and obs1\")\n",
    "print(\"----------------------------\")\n",
    "print(diff_saits_classification_over_obs1)\n",
    "print(\"----------------------------\")\n",
    "print(\"Diferença(MAE) Classification over and obs2\")\n",
    "print(\"----------------------------\")\n",
    "print(diff_saits_classification_over_obs2)\n",
    "print(\"----------------------------\")\n",
    "print(\"Diferença(MAE) Classification over and obs3\")\n",
    "print(\"----------------------------\")\n",
    "print(diff_saits_classification_over_obs3)\n",
    "print(\"----------------------------\")"
   ]
  },
  {
   "cell_type": "code",
   "execution_count": 33,
   "metadata": {},
   "outputs": [
    {
     "name": "stdout",
     "output_type": "stream",
     "text": [
      "Diferença(MAE) Classification obs1 and obs2 \n",
      "----------------------------\n",
      "[('TroponinT', 1.1014465142680878), ('Ph', 0.8916481947347921), ('Cholesterol', 0.6546564324408376), ('TroponinI', 0.5133309982383496), ('Glucose', 0.19586706902845652)]\n",
      "----------------------------\n",
      "Diferença(MAE) Classification obs1 and obs3 \n",
      "----------------------------\n",
      "[('Ph', 0.8969041099117874), ('TroponinT', 0.890619792619491), ('Cholesterol', 0.6572353508656726), ('Glucose', 0.33166411326370515), ('ALT', 0.18581162118574304)]\n",
      "----------------------------\n"
     ]
    }
   ],
   "source": [
    "print(\"Diferença(MAE) Classification obs1 and obs2 \")\n",
    "print(\"----------------------------\")\n",
    "print(diff_saits_classification_obs1_obs2)\n",
    "print(\"----------------------------\")\n",
    "print(\"Diferença(MAE) Classification obs1 and obs3 \")\n",
    "print(\"----------------------------\")\n",
    "print(diff_saits_classification_obs1_obs3)\n",
    "print(\"----------------------------\")"
   ]
  },
  {
   "cell_type": "code",
   "execution_count": 34,
   "metadata": {},
   "outputs": [
    {
     "name": "stdout",
     "output_type": "stream",
     "text": [
      "Diferença(MAE) Classification obs2 and obs3 \n",
      "----------------------------\n",
      "[('TroponinI', 0.38263871132406546), ('TroponinT', 0.21082672164859684), ('K', 0.16598073639207245), ('Glucose', 0.13579704423524863), ('HCO3', 0.1312658019106418)]\n",
      "----------------------------\n"
     ]
    }
   ],
   "source": [
    "\n",
    "print(\"Diferença(MAE) Classification obs2 and obs3 \")\n",
    "print(\"----------------------------\")\n",
    "print(diff_saits_classification_obs2_obs3)\n",
    "print(\"----------------------------\")"
   ]
  },
  {
   "cell_type": "code",
   "execution_count": 35,
   "metadata": {},
   "outputs": [
    {
     "name": "stdout",
     "output_type": "stream",
     "text": [
      "Top 5 variáveis BMI\n",
      "-----------------------\n",
      "TroponinT\n",
      "ALP\n",
      "Cholesterol\n",
      "TroponinI\n",
      "Bilirubin\n"
     ]
    }
   ],
   "source": [
    "print(\"Top 5 variáveis BMI\")\n",
    "print(\"-----------------------\")\n",
    "print(variables[32])\n",
    "print(variables[0])\n",
    "print(variables[6])\n",
    "print(variables[31])\n",
    "print(variables[5])"
   ]
  },
  {
   "cell_type": "markdown",
   "metadata": {},
   "source": [
    "### Confidence Interval (General)(subgroup)"
   ]
  },
  {
   "cell_type": "code",
   "execution_count": null,
   "metadata": {},
   "outputs": [],
   "source": [
    "results_bootstrap_saits_general_subgroup = []\n",
    "\n",
    "for i in range(len(subgroups)):\n",
    "    results_bootstrap_saits_general_subgroup.append(toolkits.bootstrap_v2(testing_ae_saits_variables_standard_general, indicating_mask_variable_standard_norm_general))"
   ]
  },
  {
   "cell_type": "code",
   "execution_count": 21,
   "metadata": {},
   "outputs": [],
   "source": [
    "teste = \"testw-e\""
   ]
  },
  {
   "cell_type": "markdown",
   "metadata": {},
   "source": [
    "### Confidence Interval (General)(variable)"
   ]
  },
  {
   "cell_type": "markdown",
   "metadata": {},
   "source": [
    "#### Distribution Bootstrap per variable"
   ]
  },
  {
   "cell_type": "code",
   "execution_count": 24,
   "metadata": {},
   "outputs": [],
   "source": [
    "results_bootstrap_saits_general = []\n",
    "\n",
    "for i in range(len(variables)):\n",
    "       results_bootstrap_saits_general.append(toolkits.bootstrap_v2(testing_ae_saits_variables_standard, indicating_mask_variable_standard_norm, 0, i, 9000))"
   ]
  },
  {
   "cell_type": "markdown",
   "metadata": {},
   "source": [
    "#### Calculating lower bound and upper bound"
   ]
  },
  {
   "cell_type": "code",
   "execution_count": 25,
   "metadata": {},
   "outputs": [
    {
     "name": "stdout",
     "output_type": "stream",
     "text": [
      "[np.float64(0.2596281057729566), np.float64(0.1112169907702202), np.float64(0.09949139341087465), np.float64(0.5223233752623047), np.float64(0.17760603494641872), np.float64(0.27366120673807326), np.float64(0.6631323201661581), np.float64(0.15261946123918443), np.float64(0.17140566932331605), np.float64(0.40250615530593536), np.float64(0.21712587911182318), np.float64(0.4862783315866672), np.float64(0.4066374786039976), np.float64(0.5095917845984383), np.float64(0.23823871445282752), np.float64(0.5780308760529224), np.float64(0.3402109659972705), np.float64(0.14454482230655688), np.float64(0.004060595869510555), np.float64(0.5026499766120278), np.float64(0.12697301347690718), np.float64(0.11049653990748827), np.float64(0.16754623860623757), np.float64(0.408117332885036), np.float64(0.477918144474126), np.float64(0.45175884519225656), np.float64(0.31559009590229986), np.float64(0.45503263748354783), np.float64(0.27492416924952034), np.float64(0.19586839617850932), np.float64(0.25915125673971184), np.float64(0.4268482709458154), np.float64(0.1958545832561754), np.float64(0.3393837429587482), np.float64(0.09991376312925515), np.float64(0.07512239067029415), np.float64(0.042445004988907555)]\n",
      "[np.float64(0.5736515892704568), np.float64(0.2618869918955924), np.float64(0.28533352930736966), np.float64(0.6660952770145134), np.float64(0.20427819853591012), np.float64(0.4630330704145937), np.float64(1.1518766346653522), np.float64(0.19848141957158624), np.float64(0.18431268555258523), np.float64(0.45146080611147066), np.float64(0.2377090324628572), np.float64(0.5773488025567686), np.float64(0.4596851507322081), np.float64(0.5652838005883705), np.float64(0.2482617221002167), np.float64(0.6581398538957935), np.float64(0.4207495021926586), np.float64(0.1646226190333793), np.float64(0.0044409631585916225), np.float64(0.6118689183942072), np.float64(0.13923763408695863), np.float64(0.12104517407184417), np.float64(0.18634798655132848), np.float64(0.4638367782676128), np.float64(0.5351408162882799), np.float64(0.5136155535973229), np.float64(0.36756917300078457), np.float64(0.4868133616823659), np.float64(0.40567371940021896), np.float64(0.2086232490441853), np.float64(0.28899700390336946), np.float64(0.8633154800774833), np.float64(0.37180874623415794), np.float64(0.37106638514293955), np.float64(0.11581662476080935), np.float64(0.09016291601358506), np.float64(0.22700628198063055)]\n"
     ]
    }
   ],
   "source": [
    "lower_bounds_saits_general, upper_bounds_saits_general = toolkits.calc_lower_and_upper_bound_percentile(results_bootstrap_saits_general)\n",
    "\n",
    "print(lower_bounds_saits_general)\n",
    "print(upper_bounds_saits_general)"
   ]
  },
  {
   "cell_type": "markdown",
   "metadata": {},
   "source": [
    "#### Mean values of lower bound and upper bound\n"
   ]
  },
  {
   "cell_type": "code",
   "execution_count": 26,
   "metadata": {},
   "outputs": [
    {
     "name": "stdout",
     "output_type": "stream",
     "text": [
      "[np.float64(0.4166398475217067), np.float64(0.1865519913329063), np.float64(0.19241246135912216), np.float64(0.594209326138409), np.float64(0.1909421167411644), np.float64(0.3683471385763335), np.float64(0.9075044774157551), np.float64(0.17555044040538534), np.float64(0.17785917743795066), np.float64(0.426983480708703), np.float64(0.22741745578734018), np.float64(0.5318135670717179), np.float64(0.43316131466810287), np.float64(0.5374377925934044), np.float64(0.2432502182765221), np.float64(0.618085364974358), np.float64(0.38048023409496456), np.float64(0.1545837206699681), np.float64(0.004250779514051089), np.float64(0.5572594475031175), np.float64(0.1331053237819329), np.float64(0.11577085698966622), np.float64(0.17694711257878304), np.float64(0.4359770555763244), np.float64(0.5065294803812029), np.float64(0.48268719939478977), np.float64(0.3415796344515422), np.float64(0.47092299958295686), np.float64(0.3402989443248696), np.float64(0.20224582261134733), np.float64(0.27407413032154065), np.float64(0.6450818755116493), np.float64(0.2838316647451667), np.float64(0.35522506405084386), np.float64(0.10786519394503225), np.float64(0.0826426533419396), np.float64(0.13472564348476906)]\n"
     ]
    }
   ],
   "source": [
    "mean_values_ci_saits_general = toolkits.calc_mean_values_ci(lower_bounds_saits_general, upper_bounds_saits_general)\n",
    "\n",
    "print(mean_values_ci_saits_general)"
   ]
  },
  {
   "cell_type": "markdown",
   "metadata": {},
   "source": [
    "### Confidence Interval (Female Subgroup)"
   ]
  },
  {
   "cell_type": "markdown",
   "metadata": {},
   "source": [
    "#### Distribution Bootstrap for the Top 5 variables with Largest Differences in MAE (Mean Absolute Error) "
   ]
  },
  {
   "cell_type": "code",
   "execution_count": 36,
   "metadata": {},
   "outputs": [],
   "source": [
    "indices = [6, 31, 28, 16, 33, 2, 7, 15, 5, 2, 35, 24]\n",
    "\n",
    "results_bootstrap_saits_female = []\n",
    "\n",
    "for i in indices:\n",
    "       results_bootstrap_saits_female.append(toolkits.bootstrap_v2(testing_ae_saits_variables_standard, indicating_mask_variable_standard_norm, 1, i, 9000))"
   ]
  },
  {
   "cell_type": "markdown",
   "metadata": {},
   "source": [
    "#### Calculating the mean and standard deviation of the bootstrap distribution"
   ]
  },
  {
   "cell_type": "code",
   "execution_count": 37,
   "metadata": {},
   "outputs": [
    {
     "name": "stdout",
     "output_type": "stream",
     "text": [
      "[np.float64(1.3709565954271359), np.float64(0.37340746641577754), np.float64(0.5514148109724911), np.float64(0.33219783151411125), np.float64(0.3127126006634792), np.float64(0.1344058768679122), np.float64(0.15004390659670197), np.float64(0.6290111725113285), np.float64(0.25990652535575487), np.float64(0.134371002704543), np.float64(0.08328852545934053), np.float64(0.5210149778023866)]\n",
      "[np.float64(0.28141828979738265), np.float64(0.07163803672687734), np.float64(0.13740379564534702), np.float64(0.02541877537794542), np.float64(0.008793741630019346), np.float64(0.04882230345968876), np.float64(0.010893276810424193), np.float64(0.033966982819504714), np.float64(0.056886855698661046), np.float64(0.048427337503807684), np.float64(0.004729043421165223), np.float64(0.02245024712647019)]\n"
     ]
    }
   ],
   "source": [
    "means_bootstraps_saits_female,standards_deviations_saits_female = toolkits.calc_mean_and_standard_deviation(results_bootstrap_saits_female)\n",
    "\n",
    "print(means_bootstraps_saits_female)\n",
    "print(standards_deviations_saits_female)\n"
   ]
  },
  {
   "cell_type": "markdown",
   "metadata": {},
   "source": [
    "#### Calculating lower bound and upper bound"
   ]
  },
  {
   "cell_type": "code",
   "execution_count": 38,
   "metadata": {},
   "outputs": [
    {
     "name": "stdout",
     "output_type": "stream",
     "text": [
      "[np.float64(0.8193868828334101), np.float64(0.2329994945079403), np.float64(0.28210832016850945), np.float64(0.28237794724222476), np.float64(0.2954771837792908), np.float64(0.03871592044463695), np.float64(0.1286934763746452), np.float64(0.5624371095216085), np.float64(0.1484103369926521), np.float64(0.039455165329914096), np.float64(0.0740197706725306), np.float64(0.4770133019904812)]\n",
      "[np.float64(1.9225263080208617), np.float64(0.5138154383236148), np.float64(0.8207213017764727), np.float64(0.38201771578599775), np.float64(0.32994801754766767), np.float64(0.23009583329118743), np.float64(0.17139433681875874), np.float64(0.6955852355010486), np.float64(0.37140271371885764), np.float64(0.22928684007917188), np.float64(0.09255728024615045), np.float64(0.565016653614292)]\n"
     ]
    }
   ],
   "source": [
    "lower_bounds_saits_female, upper_bounds_saits_female = toolkits.calc_lower_and_upper_bound(results_bootstrap_saits_female, means_bootstraps_saits_female,standards_deviations_saits_female)\n",
    "\n",
    "print(lower_bounds_saits_female)\n",
    "print(upper_bounds_saits_female)"
   ]
  },
  {
   "cell_type": "code",
   "execution_count": 39,
   "metadata": {},
   "outputs": [
    {
     "name": "stdout",
     "output_type": "stream",
     "text": [
      "[np.float64(0.7956492099657536), np.float64(0.23760147981080015), np.float64(0.31828644884334323), np.float64(0.28378240468009003), np.float64(0.29572219940107847), np.float64(0.06067526607776592), np.float64(0.1300153151859639), np.float64(0.564655620050617), np.float64(0.16172599007870753), np.float64(0.05922063882042538), np.float64(0.07466409156145183), np.float64(0.47796719947937777)]\n",
      "[np.float64(1.9226152106244694), np.float64(0.5194834637979123), np.float64(0.8484750064650793), np.float64(0.3837919745568725), np.float64(0.3300071456578719), np.float64(0.24500733036190417), np.float64(0.17308137833531811), np.float64(0.6969997681732706), np.float64(0.3813886456340512), np.float64(0.24560340589051607), np.float64(0.09309534886068198), np.float64(0.5657639504442826)]\n"
     ]
    }
   ],
   "source": [
    "lower_bounds_saits_female, upper_bounds_saits_female = toolkits.calc_lower_and_upper_bound_percentile(results_bootstrap_saits_female)\n",
    "\n",
    "print(lower_bounds_saits_female)\n",
    "print(upper_bounds_saits_female)"
   ]
  },
  {
   "cell_type": "markdown",
   "metadata": {},
   "source": [
    "#### Mean values of lower bound and upper bound\n"
   ]
  },
  {
   "cell_type": "code",
   "execution_count": 40,
   "metadata": {},
   "outputs": [
    {
     "name": "stdout",
     "output_type": "stream",
     "text": [
      "[np.float64(1.3591322102951116), np.float64(0.37854247180435624), np.float64(0.5833807276542113), np.float64(0.33378718961848125), np.float64(0.3128646725294752), np.float64(0.15284129821983505), np.float64(0.151548346760641), np.float64(0.6308276941119437), np.float64(0.2715573178563794), np.float64(0.15241202235547072), np.float64(0.0838797202110669), np.float64(0.5218655749618302)]\n"
     ]
    }
   ],
   "source": [
    "mean_values_ci_saits_female = toolkits.calc_mean_values_ci(lower_bounds_saits_female, upper_bounds_saits_female)\n",
    "\n",
    "print(mean_values_ci_saits_female)"
   ]
  },
  {
   "cell_type": "markdown",
   "metadata": {},
   "source": [
    "### Confidence Interval (Male Subgroup)"
   ]
  },
  {
   "cell_type": "markdown",
   "metadata": {},
   "source": [
    "#### Distribution Bootstrap for the Top 5 variables with Largest Differences in MAE (Mean Absolute Error) "
   ]
  },
  {
   "cell_type": "code",
   "execution_count": 41,
   "metadata": {},
   "outputs": [],
   "source": [
    "indices = [6, 31, 28, 16, 33, 2, 7, 15, 5, 2, 35, 24]\n",
    "\n",
    "results_bootstrap_saits_male = []\n",
    "\n",
    "for i in indices:\n",
    "       results_bootstrap_saits_male.append(toolkits.bootstrap_v2(testing_ae_saits_variables_standard, indicating_mask_variable_standard_norm, 2, i, 9000))"
   ]
  },
  {
   "cell_type": "markdown",
   "metadata": {},
   "source": [
    "#### Calculating the mean and standard deviation of the bootstrap distribution"
   ]
  },
  {
   "cell_type": "code",
   "execution_count": 42,
   "metadata": {},
   "outputs": [
    {
     "name": "stdout",
     "output_type": "stream",
     "text": [
      "[np.float64(0.8438058109897287), np.float64(0.5869423566271345), np.float64(0.3518805600283484), np.float64(0.43558126847157913), np.float64(0.375552431719391), np.float64(0.09281901372823773), np.float64(0.1690444660224031), np.float64(0.5757740658688472), np.float64(0.27776270400965464), np.float64(0.09338513088853735), np.float64(0.07236860789377567), np.float64(0.4871324217581555)]\n",
      "[np.float64(0.14484001062154944), np.float64(0.1704863043219284), np.float64(0.03277833988488178), np.float64(0.03375522091077515), np.float64(0.011914226378457826), np.float64(0.019806856883581282), np.float64(0.009005653419694348), np.float64(0.02569829910524861), np.float64(0.04482147852835932), np.float64(0.01992827195446364), np.float64(0.0030149581872297346), np.float64(0.019178377337048934)]\n"
     ]
    }
   ],
   "source": [
    "means_bootstraps_saits_male,standards_deviations_saits_male = toolkits.calc_mean_and_standard_deviation(results_bootstrap_saits_male)\n",
    "\n",
    "print(means_bootstraps_saits_male)\n",
    "print(standards_deviations_saits_male)\n"
   ]
  },
  {
   "cell_type": "markdown",
   "metadata": {},
   "source": [
    "#### Calculating lower bound and upper bound"
   ]
  },
  {
   "cell_type": "code",
   "execution_count": 43,
   "metadata": {},
   "outputs": [
    {
     "name": "stdout",
     "output_type": "stream",
     "text": [
      "[np.float64(0.559924606651093), np.float64(0.2527953402988194), np.float64(0.2876361943809673), np.float64(0.3694222511962665), np.float64(0.3522009771139566), np.float64(0.05399828758947916), np.float64(0.15139370966255222), np.float64(0.525406325158622), np.float64(0.18991422036023503), np.float64(0.05432643558366898), np.float64(0.06645939843191122), np.float64(0.4495434928956204)]\n",
      "[np.float64(1.1276870153283645), np.float64(0.9210893729554495), np.float64(0.41612492567572945), np.float64(0.5017402857468918), np.float64(0.39890388632482543), np.float64(0.13163973986699629), np.float64(0.186695222382254), np.float64(0.6261418065790724), np.float64(0.36561118765907424), np.float64(0.13244382619340572), np.float64(0.07827781735564011), np.float64(0.5247213506206906)]\n"
     ]
    }
   ],
   "source": [
    "lower_bounds_saits_male, upper_bounds_saits_male = toolkits.calc_lower_and_upper_bound(results_bootstrap_saits_male, means_bootstraps_saits_male,standards_deviations_saits_male)\n",
    "\n",
    "print(lower_bounds_saits_male)\n",
    "print(upper_bounds_saits_male)"
   ]
  },
  {
   "cell_type": "code",
   "execution_count": 44,
   "metadata": {},
   "outputs": [
    {
     "name": "stdout",
     "output_type": "stream",
     "text": [
      "[np.float64(0.5543691095812918), np.float64(0.24383298697774514), np.float64(0.2913003458887765), np.float64(0.3728388718325378), np.float64(0.3534882648294865), np.float64(0.059506104688290054), np.float64(0.15194163170799502), np.float64(0.5272282213020713), np.float64(0.1988940094151244), np.float64(0.059478934499948836), np.float64(0.06681734315554012), np.float64(0.4504542166091075)]\n",
      "[np.float64(1.1198583711659658), np.float64(0.9200887406982938), np.float64(0.4211647434429169), np.float64(0.5048942135005), np.float64(0.40002559431022744), np.float64(0.1365678947406039), np.float64(0.18747326919939217), np.float64(0.6277415611360948), np.float64(0.3747574600297154), np.float64(0.1377540376898181), np.float64(0.07844891936116019), np.float64(0.5255574881262816)]\n"
     ]
    }
   ],
   "source": [
    "lower_bounds_saits_male, upper_bounds_saits_male = toolkits.calc_lower_and_upper_bound_percentile(results_bootstrap_saits_male)\n",
    "\n",
    "print(lower_bounds_saits_male)\n",
    "print(upper_bounds_saits_male)"
   ]
  },
  {
   "cell_type": "markdown",
   "metadata": {},
   "source": [
    "#### Mean values of lower bound and upper bound\n"
   ]
  },
  {
   "cell_type": "code",
   "execution_count": 45,
   "metadata": {},
   "outputs": [
    {
     "name": "stdout",
     "output_type": "stream",
     "text": [
      "[np.float64(0.8371137403736288), np.float64(0.5819608638380195), np.float64(0.3562325446658467), np.float64(0.4388665426665189), np.float64(0.37675692956985696), np.float64(0.09803699971444699), np.float64(0.1697074504536936), np.float64(0.5774848912190831), np.float64(0.2868257347224199), np.float64(0.09861648609488347), np.float64(0.07263313125835016), np.float64(0.48800585236769456)]\n"
     ]
    }
   ],
   "source": [
    "mean_values_ci_saits_male = toolkits.calc_mean_values_ci(lower_bounds_saits_male, upper_bounds_saits_male)\n",
    "\n",
    "print(mean_values_ci_saits_male)"
   ]
  },
  {
   "cell_type": "markdown",
   "metadata": {},
   "source": [
    "### Confidence Interval (+65 Subgroup)"
   ]
  },
  {
   "cell_type": "markdown",
   "metadata": {},
   "source": [
    "#### Distribution Bootstrap for the Top 5 variables with Largest Differences in MAE (Mean Absolute Error) "
   ]
  },
  {
   "cell_type": "code",
   "execution_count": 46,
   "metadata": {},
   "outputs": [],
   "source": [
    "indices = [6, 32, 0, 28, 5, 31, 3]\n",
    "\n",
    "\n",
    "results_bootstrap_saits_more_than_or_equal_to_65_subgroup = []\n",
    "\n",
    "for i in indices:\n",
    "       results_bootstrap_saits_more_than_or_equal_to_65_subgroup.append(toolkits.bootstrap_v2(testing_ae_saits_variables_standard, indicating_mask_variable_standard_norm, 4, i, 9000))\n"
   ]
  },
  {
   "cell_type": "markdown",
   "metadata": {},
   "source": [
    "#### Calculating the mean and standard deviation of the bootstrap distribution"
   ]
  },
  {
   "cell_type": "code",
   "execution_count": 47,
   "metadata": {},
   "outputs": [
    {
     "name": "stdout",
     "output_type": "stream",
     "text": [
      "[np.float64(0.6840107251428338), np.float64(0.306890478696312), np.float64(0.5410854493791742), np.float64(0.3593861740725029), np.float64(0.2174941018946004), np.float64(0.9223744805456358), np.float64(0.5744216340030307)]\n",
      "[np.float64(0.17674009842842184), np.float64(0.06812227123612309), np.float64(0.11748070729527743), np.float64(0.033110838324512136), np.float64(0.024756910288949063), np.float64(0.323474177873407), np.float64(0.060833523112653914)]\n"
     ]
    }
   ],
   "source": [
    "means_bootstraps_saits_more_than_or_equal_to_65_subgroup,standards_deviations_saits_more_than_or_equal_to_65_subgroup = toolkits.calc_mean_and_standard_deviation(results_bootstrap_saits_more_than_or_equal_to_65_subgroup)\n",
    "\n",
    "print(means_bootstraps_saits_more_than_or_equal_to_65_subgroup)\n",
    "print(standards_deviations_saits_more_than_or_equal_to_65_subgroup)"
   ]
  },
  {
   "cell_type": "markdown",
   "metadata": {},
   "source": [
    "#### Calculating lower bound and upper bound\n"
   ]
  },
  {
   "cell_type": "code",
   "execution_count": 48,
   "metadata": {},
   "outputs": [
    {
     "name": "stdout",
     "output_type": "stream",
     "text": [
      "[np.float64(0.33760649759906275), np.float64(0.17337328052844184), np.float64(0.3108274942021385), np.float64(0.29449012345853054), np.float64(0.16897144935977113), np.float64(0.2883767419850548), np.float64(0.45519011964954403)]\n",
      "[np.float64(1.0304149526866049), np.float64(0.44040767686418214), np.float64(0.77134340455621), np.float64(0.42428222468647525), np.float64(0.2660167544294296), np.float64(1.5563722191062168), np.float64(0.6936531483565174)]\n"
     ]
    }
   ],
   "source": [
    "lower_bounds_saits_more_than_or_equal_to_65_subgroup, upper_bounds_saits_more_than_or_equal_to_65_subgroup = toolkits.calc_lower_and_upper_bound(results_bootstrap_saits_more_than_or_equal_to_65_subgroup, means_bootstraps_saits_more_than_or_equal_to_65_subgroup,standards_deviations_saits_more_than_or_equal_to_65_subgroup)\n",
    "\n",
    "print(lower_bounds_saits_more_than_or_equal_to_65_subgroup)\n",
    "print(upper_bounds_saits_more_than_or_equal_to_65_subgroup)\n"
   ]
  },
  {
   "cell_type": "code",
   "execution_count": 49,
   "metadata": {},
   "outputs": [
    {
     "name": "stdout",
     "output_type": "stream",
     "text": [
      "[np.float64(0.35107048872115837), np.float64(0.19405457858945557), np.float64(0.3309408378621302), np.float64(0.3012529987658585), np.float64(0.1722652547233647), np.float64(0.3744696407841734), np.float64(0.4631869896193011)]\n",
      "[np.float64(1.0522101190096362), np.float64(0.45790638712920423), np.float64(0.7899029574949497), np.float64(0.43035416737196197), np.float64(0.26915957286882153), np.float64(1.6354705428625909), np.float64(0.6978495924750472)]\n"
     ]
    }
   ],
   "source": [
    "lower_bounds_saits_more_than_or_equal_to_65_subgroup, upper_bounds_saits_more_than_or_equal_to_65_subgroup = toolkits.calc_lower_and_upper_bound_percentile(results_bootstrap_saits_more_than_or_equal_to_65_subgroup)\n",
    "\n",
    "print(lower_bounds_saits_more_than_or_equal_to_65_subgroup)\n",
    "print(upper_bounds_saits_more_than_or_equal_to_65_subgroup)"
   ]
  },
  {
   "cell_type": "markdown",
   "metadata": {},
   "source": [
    "#### Mean values of lower bound and upper bound"
   ]
  },
  {
   "cell_type": "code",
   "execution_count": 50,
   "metadata": {},
   "outputs": [
    {
     "name": "stdout",
     "output_type": "stream",
     "text": [
      "[np.float64(0.7016403038653973), np.float64(0.3259804828593299), np.float64(0.5604218976785399), np.float64(0.36580358306891025), np.float64(0.22071241379609313), np.float64(1.0049700918233822), np.float64(0.5805182910471741)]\n"
     ]
    }
   ],
   "source": [
    "mean_values_ci_saits_more_than_or_equal_to_65_subgroup  = toolkits.calc_mean_values_ci(lower_bounds_saits_more_than_or_equal_to_65_subgroup , upper_bounds_saits_more_than_or_equal_to_65_subgroup)\n",
    "\n",
    "print(mean_values_ci_saits_more_than_or_equal_to_65_subgroup)"
   ]
  },
  {
   "cell_type": "markdown",
   "metadata": {},
   "source": [
    "### Confidence Interval (-65 subgroup)"
   ]
  },
  {
   "cell_type": "markdown",
   "metadata": {},
   "source": [
    "#### Distribution Bootstrap for the Top 5 variables with Largest Differences in MAE (Mean Absolute Error) "
   ]
  },
  {
   "cell_type": "code",
   "execution_count": 51,
   "metadata": {},
   "outputs": [],
   "source": [
    "indices = [6, 32, 0, 28, 5, 31, 3]\n",
    "\n",
    "results_bootstrap_saits_less_than_65_subgroup = []\n",
    "\n",
    "for i in indices:\n",
    "       results_bootstrap_saits_less_than_65_subgroup.append(toolkits.bootstrap_v2(testing_ae_saits_variables_standard, indicating_mask_variable_standard_norm, 5, i, 9000))\n",
    "\n"
   ]
  },
  {
   "cell_type": "markdown",
   "metadata": {},
   "source": [
    "#### Calculating the mean and standard deviation of the bootstrap distribution"
   ]
  },
  {
   "cell_type": "code",
   "execution_count": 52,
   "metadata": {},
   "outputs": [
    {
     "name": "stdout",
     "output_type": "stream",
     "text": [
      "[np.float64(1.2071296148172286), np.float64(0.2725344788786177), np.float64(0.8978045284833425), np.float64(0.5526726596231104), np.float64(0.4140160720931158), np.float64(0.3646116414487031), np.float64(0.6601403948860949)]\n",
      "[np.float64(0.7955134454995609), np.float64(0.08230259752908997), np.float64(0.3725300533810867), np.float64(0.13485242331156377), np.float64(0.07105143502438786), np.float64(0.08783285426784743), np.float64(0.05310376481708998)]\n"
     ]
    }
   ],
   "source": [
    "means_bootstraps_saits_less_than_65_subgroup,standards_deviations_saits_less_than_65_subgroup = toolkits.calc_mean_and_standard_deviation(results_bootstrap_saits_less_than_65_subgroup)\n",
    "\n",
    "print(means_bootstraps_saits_less_than_65_subgroup)\n",
    "print(standards_deviations_saits_less_than_65_subgroup)"
   ]
  },
  {
   "cell_type": "markdown",
   "metadata": {},
   "source": [
    "#### Calculating lower bound and upper bound"
   ]
  },
  {
   "cell_type": "code",
   "execution_count": 53,
   "metadata": {},
   "outputs": [
    {
     "name": "stdout",
     "output_type": "stream",
     "text": [
      "[np.float64(-0.35204808757927797), np.float64(0.11122435188750612), np.float64(0.16765904069762871), np.float64(0.2883667667044958), np.float64(0.2747578183954278), np.float64(0.192462410424367), np.float64(0.5560589284011133)]\n",
      "[np.float64(2.766307317213735), np.float64(0.4338446058697293), np.float64(1.627950016269056), np.float64(0.816978552541725), np.float64(0.5532743257908038), np.float64(0.5367608724730393), np.float64(0.7642218613710765)]\n"
     ]
    }
   ],
   "source": [
    "lower_bounds_saits_less_than_65_subgroup, upper_bounds_saits_less_than_65_subgroup = toolkits.calc_lower_and_upper_bound(results_bootstrap_saits_less_than_65_subgroup, means_bootstraps_saits_less_than_65_subgroup, standards_deviations_saits_less_than_65_subgroup)\n",
    "\n",
    "print(lower_bounds_saits_less_than_65_subgroup)\n",
    "print(upper_bounds_saits_less_than_65_subgroup)\n"
   ]
  },
  {
   "cell_type": "code",
   "execution_count": 54,
   "metadata": {},
   "outputs": [
    {
     "name": "stdout",
     "output_type": "stream",
     "text": [
      "[np.float64(0.0), np.float64(0.1376943592692674), np.float64(0.3233972572576607), np.float64(0.32445719658454286), np.float64(0.286189075230866), np.float64(0.1889877196050605), np.float64(0.5601331906484173)]\n",
      "[np.float64(2.297978957925913), np.float64(0.4524516282420147), np.float64(1.730549831346401), np.float64(0.8480803514414874), np.float64(0.5624647859409228), np.float64(0.5277707171008981), np.float64(0.7670367606413029)]\n"
     ]
    }
   ],
   "source": [
    "lower_bounds_saits_less_than_65_subgroup, upper_bounds_saits_less_than_65_subgroup = toolkits.calc_lower_and_upper_bound_percentile(results_bootstrap_saits_less_than_65_subgroup)\n",
    "\n",
    "print(lower_bounds_saits_less_than_65_subgroup)\n",
    "print(upper_bounds_saits_less_than_65_subgroup)\n"
   ]
  },
  {
   "cell_type": "markdown",
   "metadata": {},
   "source": [
    "#### Mean values of lower bound and upper bound"
   ]
  },
  {
   "cell_type": "code",
   "execution_count": 55,
   "metadata": {},
   "outputs": [
    {
     "name": "stdout",
     "output_type": "stream",
     "text": [
      "[np.float64(1.1489894789629564), np.float64(0.29507299375564106), np.float64(1.026973544302031), np.float64(0.5862687740130151), np.float64(0.4243269305858944), np.float64(0.35837921835297926), np.float64(0.6635849756448601)]\n"
     ]
    }
   ],
   "source": [
    "mean_values_ci_saits_less_than_65_subgroup  = toolkits.calc_mean_values_ci(lower_bounds_saits_less_than_65_subgroup, upper_bounds_saits_less_than_65_subgroup)\n",
    "\n",
    "print(mean_values_ci_saits_less_than_65_subgroup)"
   ]
  },
  {
   "cell_type": "markdown",
   "metadata": {},
   "source": [
    "### Confidence Interval (ICUType 1 subgroup)"
   ]
  },
  {
   "cell_type": "markdown",
   "metadata": {},
   "source": [
    "#### Distribution Bootstrap for the Top 5 variables with Largest Differences in MAE (Mean Absolute Error) "
   ]
  },
  {
   "cell_type": "code",
   "execution_count": 56,
   "metadata": {},
   "outputs": [],
   "source": [
    "indices = [28, 31, 6, 0, 32, 24]\n",
    "\n",
    "\n",
    "\n",
    "\n",
    "results_bootstrap_saits_ICUType_1_subgroup = []\n",
    "\n",
    "for i in indices:\n",
    "       results_bootstrap_saits_ICUType_1_subgroup.append(toolkits.bootstrap_v2(testing_ae_saits_variables_standard, indicating_mask_variable_standard_norm, 6, i, 9000))\n",
    "\n"
   ]
  },
  {
   "cell_type": "markdown",
   "metadata": {},
   "source": [
    "#### Calculating the mean and standard deviation of the bootstrap distribution"
   ]
  },
  {
   "cell_type": "code",
   "execution_count": 57,
   "metadata": {},
   "outputs": [
    {
     "name": "stdout",
     "output_type": "stream",
     "text": [
      "[np.float64(0.5219567254652908), np.float64(1.4191329972717064), np.float64(0.9139329648049112), np.float64(0.21569407166429788), np.float64(0.7211401097401062), np.float64(0.4648222222352919)]\n",
      "[np.float64(0.18500220990963184), np.float64(0.4711921029067144), np.float64(0.19021476797505155), np.float64(0.03900834305972772), np.float64(0.1525881619809211), np.float64(0.04182740358682482)]\n"
     ]
    }
   ],
   "source": [
    "means_bootstraps_saits_ICUType_1_subgroup, standards_deviations_saits_ICUType_1_subgroup = toolkits.calc_mean_and_standard_deviation(results_bootstrap_saits_ICUType_1_subgroup)\n",
    "\n",
    "print(means_bootstraps_saits_ICUType_1_subgroup)\n",
    "print(standards_deviations_saits_ICUType_1_subgroup)\n"
   ]
  },
  {
   "cell_type": "markdown",
   "metadata": {},
   "source": [
    "#### Calculating lower bound and upper bound"
   ]
  },
  {
   "cell_type": "code",
   "execution_count": 58,
   "metadata": {},
   "outputs": [
    {
     "name": "stdout",
     "output_type": "stream",
     "text": [
      "[np.float64(0.1593590569820933), np.float64(0.4956134457748552), np.float64(0.5411188702461672), np.float64(0.1392391241706486), np.float64(0.42207280779033696), np.float64(0.3828420176382938)]\n",
      "[np.float64(0.8845543939484883), np.float64(2.3426525487685574), np.float64(1.286747059363655), np.float64(0.29214901915794717), np.float64(1.0202074116898756), np.float64(0.54680242683229)]\n"
     ]
    }
   ],
   "source": [
    "lower_bounds_saits_ICUType_1_subgroup, upper_bounds_saits_ICUType_1_subgroup = toolkits.calc_lower_and_upper_bound(results_bootstrap_saits_ICUType_1_subgroup, means_bootstraps_saits_ICUType_1_subgroup, standards_deviations_saits_ICUType_1_subgroup)\n",
    "\n",
    "print(lower_bounds_saits_ICUType_1_subgroup)\n",
    "print(upper_bounds_saits_ICUType_1_subgroup)"
   ]
  },
  {
   "cell_type": "code",
   "execution_count": 59,
   "metadata": {},
   "outputs": [
    {
     "name": "stdout",
     "output_type": "stream",
     "text": [
      "[np.float64(0.2724862865316178), np.float64(0.5714906008460912), np.float64(0.5423973514465497), np.float64(0.14321453098769518), np.float64(0.4430609084144976), np.float64(0.38418463195425406)]\n",
      "[np.float64(0.9495419093825632), np.float64(2.412294909547965), np.float64(1.2983912355171199), np.float64(0.2973851173252235), np.float64(1.0472720745698492), np.float64(0.5491950726501879)]\n"
     ]
    }
   ],
   "source": [
    "lower_bounds_saits_ICUType_1_subgroup, upper_bounds_saits_ICUType_1_subgroup = toolkits.calc_lower_and_upper_bound_percentile(results_bootstrap_saits_ICUType_1_subgroup)\n",
    "\n",
    "print(lower_bounds_saits_ICUType_1_subgroup)\n",
    "print(upper_bounds_saits_ICUType_1_subgroup)"
   ]
  },
  {
   "cell_type": "markdown",
   "metadata": {},
   "source": [
    "#### Mean values of lower bound and upper bound"
   ]
  },
  {
   "cell_type": "code",
   "execution_count": 60,
   "metadata": {},
   "outputs": [
    {
     "name": "stdout",
     "output_type": "stream",
     "text": [
      "[np.float64(0.6110140979570905), np.float64(1.491892755197028), np.float64(0.9203942934818348), np.float64(0.22029982415645932), np.float64(0.7451664914921734), np.float64(0.46668985230222093)]\n"
     ]
    }
   ],
   "source": [
    "mean_values_ci_saits_ICUType_1_subgroup  = toolkits.calc_mean_values_ci(lower_bounds_saits_ICUType_1_subgroup, upper_bounds_saits_ICUType_1_subgroup)\n",
    "\n",
    "print(mean_values_ci_saits_ICUType_1_subgroup)"
   ]
  },
  {
   "cell_type": "markdown",
   "metadata": {},
   "source": [
    "### Confidence Interval (ICUType 2 subgroup)"
   ]
  },
  {
   "cell_type": "markdown",
   "metadata": {},
   "source": [
    "#### Distribution Bootstrap for the Top 5 variables with Largest Differences in MAE (Mean Absolute Error) "
   ]
  },
  {
   "cell_type": "code",
   "execution_count": 61,
   "metadata": {},
   "outputs": [],
   "source": [
    "indices = [28, 31, 6, 0, 32, 24]\n",
    "\n",
    "results_bootstrap_saits_ICUType_2_subgroup = []\n",
    "\n",
    "for i in indices:\n",
    "       results_bootstrap_saits_ICUType_2_subgroup.append(toolkits.bootstrap_v2(testing_ae_saits_variables_standard, indicating_mask_variable_standard_norm, 7, i, 9000))\n",
    "\n"
   ]
  },
  {
   "cell_type": "markdown",
   "metadata": {},
   "source": [
    "#### Calculating the mean and standard deviation of the bootstrap distribution"
   ]
  },
  {
   "cell_type": "code",
   "execution_count": 62,
   "metadata": {},
   "outputs": [
    {
     "name": "stdout",
     "output_type": "stream",
     "text": [
      "[np.float64(0.30234261908205756), np.float64(0.4822451154959138), np.float64(0.0), np.float64(0.11505758221413943), np.float64(0.11150250301424608), np.float64(0.44450325827242426)]\n",
      "[np.float64(0.02262483990234257), np.float64(0.14270434095330978), np.float64(0.0), np.float64(0.015155524044065732), np.float64(0.011272872453300223), np.float64(0.018251955560383098)]\n"
     ]
    }
   ],
   "source": [
    "means_bootstraps_saits_ICUType_2_subgroup, standards_deviations_saits_ICUType_2_subgroup = toolkits.calc_mean_and_standard_deviation(results_bootstrap_saits_ICUType_2_subgroup)\n",
    "\n",
    "print(means_bootstraps_saits_ICUType_2_subgroup)\n",
    "print(standards_deviations_saits_ICUType_2_subgroup)\n"
   ]
  },
  {
   "cell_type": "markdown",
   "metadata": {},
   "source": [
    "#### Calculating lower bound and upper bound"
   ]
  },
  {
   "cell_type": "code",
   "execution_count": 63,
   "metadata": {},
   "outputs": [
    {
     "name": "stdout",
     "output_type": "stream",
     "text": [
      "[np.float64(0.25799874771748144), np.float64(0.20254974678990234), np.float64(0.0), np.float64(0.08535330092093976), np.float64(0.08940807900346395), np.float64(0.4087300827266478)]\n",
      "[np.float64(0.3466864904466337), np.float64(0.7619404842019253), np.float64(0.0), np.float64(0.1447618635073391), np.float64(0.1335969270250282), np.float64(0.48027643381820073)]\n"
     ]
    }
   ],
   "source": [
    "lower_bounds_saits_ICUType_2_subgroup, upper_bounds_saits_ICUType_2_subgroup = toolkits.calc_lower_and_upper_bound(results_bootstrap_saits_ICUType_2_subgroup, means_bootstraps_saits_ICUType_2_subgroup, standards_deviations_saits_ICUType_2_subgroup)\n",
    "\n",
    "print(lower_bounds_saits_ICUType_2_subgroup)\n",
    "print(upper_bounds_saits_ICUType_2_subgroup)"
   ]
  },
  {
   "cell_type": "code",
   "execution_count": 64,
   "metadata": {},
   "outputs": [
    {
     "name": "stdout",
     "output_type": "stream",
     "text": [
      "[np.float64(0.2612377146330772), np.float64(0.18986491055554502), np.float64(0.0), np.float64(0.08598441095084189), np.float64(0.09026797114338445), np.float64(0.40965400315649914)]\n",
      "[np.float64(0.3491110665417255), np.float64(0.7859344037034782), np.float64(0.0), np.float64(0.14570947953394509), np.float64(0.1345600276637829), np.float64(0.4812821650776725)]\n"
     ]
    }
   ],
   "source": [
    "lower_bounds_saits_ICUType_2_subgroup, upper_bounds_saits_ICUType_2_subgroup = toolkits.calc_lower_and_upper_bound_percentile(results_bootstrap_saits_ICUType_2_subgroup)\n",
    "\n",
    "print(lower_bounds_saits_ICUType_2_subgroup)\n",
    "print(upper_bounds_saits_ICUType_2_subgroup)"
   ]
  },
  {
   "cell_type": "markdown",
   "metadata": {},
   "source": [
    "#### Mean values of lower bound and upper bound"
   ]
  },
  {
   "cell_type": "code",
   "execution_count": 65,
   "metadata": {},
   "outputs": [
    {
     "name": "stdout",
     "output_type": "stream",
     "text": [
      "[np.float64(0.30517439058740137), np.float64(0.4878996571295116), np.float64(0.0), np.float64(0.11584694524239349), np.float64(0.11241399940358367), np.float64(0.4454680841170858)]\n"
     ]
    }
   ],
   "source": [
    "mean_values_ci_saits_ICUType_2_subgroup  = toolkits.calc_mean_values_ci(lower_bounds_saits_ICUType_2_subgroup, upper_bounds_saits_ICUType_2_subgroup)\n",
    "\n",
    "print(mean_values_ci_saits_ICUType_2_subgroup)"
   ]
  },
  {
   "cell_type": "markdown",
   "metadata": {},
   "source": [
    "### Confidence Interval (ICUType 3 subgroup)"
   ]
  },
  {
   "cell_type": "markdown",
   "metadata": {},
   "source": [
    "#### Distribution Bootstrap for the Top 5 variables with Largest Differences in MAE (Mean Absolute Error) "
   ]
  },
  {
   "cell_type": "code",
   "execution_count": 66,
   "metadata": {},
   "outputs": [],
   "source": [
    "indices = [28, 31, 6, 0, 32, 24]\n",
    "\n",
    "results_bootstrap_saits_ICUType_3_subgroup = []\n",
    "\n",
    "for i in indices:\n",
    "       results_bootstrap_saits_ICUType_3_subgroup.append(toolkits.bootstrap_v2(testing_ae_saits_variables_standard, indicating_mask_variable_standard_norm, 8, i, 9000))\n",
    "\n"
   ]
  },
  {
   "cell_type": "markdown",
   "metadata": {},
   "source": [
    "#### Calculating the mean and standard deviation of the bootstrap distribution"
   ]
  },
  {
   "cell_type": "code",
   "execution_count": 67,
   "metadata": {},
   "outputs": [
    {
     "name": "stdout",
     "output_type": "stream",
     "text": [
      "[np.float64(1.5873176168992222), np.float64(0.3451376351349188), np.float64(0.8838193565096376), np.float64(0.9719416794769047), np.float64(0.17008102185635626), np.float64(0.6029704811331233)]\n",
      "[np.float64(0.4492088863497037), np.float64(0.0655364408499348), np.float64(0.17397706126823817), np.float64(0.3872023228794582), np.float64(0.04196961293018973), np.float64(0.03460610203052623)]\n"
     ]
    }
   ],
   "source": [
    "means_bootstraps_saits_ICUType_3_subgroup, standards_deviations_saits_ICUType_3_subgroup = toolkits.calc_mean_and_standard_deviation(results_bootstrap_saits_ICUType_3_subgroup)\n",
    "\n",
    "print(means_bootstraps_saits_ICUType_3_subgroup)\n",
    "print(standards_deviations_saits_ICUType_3_subgroup)\n"
   ]
  },
  {
   "cell_type": "markdown",
   "metadata": {},
   "source": [
    "#### Calculating lower bound and upper bound"
   ]
  },
  {
   "cell_type": "code",
   "execution_count": 68,
   "metadata": {},
   "outputs": [
    {
     "name": "stdout",
     "output_type": "stream",
     "text": [
      "[np.float64(0.7068843781184567), np.float64(0.21668857139410702), np.float64(0.5428305822877724), np.float64(0.21303907190291727), np.float64(0.08782209206809784), np.float64(0.5351437675079735)]\n",
      "[np.float64(2.467750855679988), np.float64(0.47358669887573057), np.float64(1.2248081307315029), np.float64(1.7308442870508922), np.float64(0.2523399516446147), np.float64(0.6707971947582732)]\n"
     ]
    }
   ],
   "source": [
    "lower_bounds_saits_ICUType_3_subgroup, upper_bounds_saits_ICUType_3_subgroup = toolkits.calc_lower_and_upper_bound(results_bootstrap_saits_ICUType_3_subgroup, means_bootstraps_saits_ICUType_3_subgroup, standards_deviations_saits_ICUType_3_subgroup)\n",
    "\n",
    "print(lower_bounds_saits_ICUType_3_subgroup)\n",
    "print(upper_bounds_saits_ICUType_3_subgroup)"
   ]
  },
  {
   "cell_type": "code",
   "execution_count": 69,
   "metadata": {},
   "outputs": [
    {
     "name": "stdout",
     "output_type": "stream",
     "text": [
      "[np.float64(0.780404067787305), np.float64(0.2202083405208857), np.float64(0.6727157881964088), np.float64(0.3642860059565915), np.float64(0.09971476394281487), np.float64(0.5375214962234229)]\n",
      "[np.float64(2.54731502169647), np.float64(0.4801916645249752), np.float64(1.2507688888161221), np.float64(1.8416487085107636), np.float64(0.2615151655889945), np.float64(0.6728665632862576)]\n"
     ]
    }
   ],
   "source": [
    "lower_bounds_saits_ICUType_3_subgroup, upper_bounds_saits_ICUType_3_subgroup = toolkits.calc_lower_and_upper_bound_percentile(results_bootstrap_saits_ICUType_3_subgroup)\n",
    "\n",
    "print(lower_bounds_saits_ICUType_3_subgroup)\n",
    "print(upper_bounds_saits_ICUType_3_subgroup)"
   ]
  },
  {
   "cell_type": "markdown",
   "metadata": {},
   "source": [
    "#### Mean values of lower bound and upper bound"
   ]
  },
  {
   "cell_type": "code",
   "execution_count": 70,
   "metadata": {},
   "outputs": [
    {
     "name": "stdout",
     "output_type": "stream",
     "text": [
      "[np.float64(1.6638595447418876), np.float64(0.35020000252293043), np.float64(0.9617423385062654), np.float64(1.1029673572336776), np.float64(0.1806149647659047), np.float64(0.6051940297548403)]\n"
     ]
    }
   ],
   "source": [
    "mean_values_ci_saits_ICUType_3_subgroup  = toolkits.calc_mean_values_ci(lower_bounds_saits_ICUType_3_subgroup, upper_bounds_saits_ICUType_3_subgroup)\n",
    "\n",
    "print(mean_values_ci_saits_ICUType_3_subgroup)"
   ]
  },
  {
   "cell_type": "markdown",
   "metadata": {},
   "source": [
    "### Confidence Interval (ICUType 4 subgroup)"
   ]
  },
  {
   "cell_type": "markdown",
   "metadata": {},
   "source": [
    "#### Distribution Bootstrap for the Top 5 variables with Largest Differences in MAE (Mean Absolute Error) "
   ]
  },
  {
   "cell_type": "code",
   "execution_count": 71,
   "metadata": {},
   "outputs": [],
   "source": [
    "indices = [28, 31, 6, 0, 32, 24]\n",
    "\n",
    "results_bootstrap_saits_ICUType_4_subgroup = []\n",
    "\n",
    "for i in indices:\n",
    "       results_bootstrap_saits_ICUType_4_subgroup.append(toolkits.bootstrap_v2(testing_ae_saits_variables_standard, indicating_mask_variable_standard_norm, 9, i, 9000))\n",
    "\n"
   ]
  },
  {
   "cell_type": "markdown",
   "metadata": {},
   "source": [
    "#### Calculating the mean and standard deviation of the bootstrap distribution"
   ]
  },
  {
   "cell_type": "code",
   "execution_count": 72,
   "metadata": {},
   "outputs": [
    {
     "name": "stdout",
     "output_type": "stream",
     "text": [
      "[np.float64(0.4374924981118807), np.float64(0.7710783833108681), np.float64(0.7361433475539954), np.float64(0.3833519769442785), np.float64(0.15810549637325846), np.float64(0.4660701136770505)]\n",
      "[np.float64(0.09361222958290319), np.float64(0.3506626777117994), np.float64(0.17848971361751265), np.float64(0.06867994998652105), np.float64(0.026035599351315757), np.float64(0.021997324882899502)]\n"
     ]
    }
   ],
   "source": [
    "means_bootstraps_saits_ICUType_4_subgroup, standards_deviations_saits_ICUType_4_subgroup = toolkits.calc_mean_and_standard_deviation(results_bootstrap_saits_ICUType_4_subgroup)\n",
    "\n",
    "print(means_bootstraps_saits_ICUType_4_subgroup)\n",
    "print(standards_deviations_saits_ICUType_4_subgroup)\n"
   ]
  },
  {
   "cell_type": "markdown",
   "metadata": {},
   "source": [
    "#### Calculating lower bound and upper bound"
   ]
  },
  {
   "cell_type": "code",
   "execution_count": 73,
   "metadata": {},
   "outputs": [
    {
     "name": "stdout",
     "output_type": "stream",
     "text": [
      "[np.float64(0.2540158996168954), np.float64(0.083792164273365), np.float64(0.3863099372528021), np.float64(0.2487417485106851), np.float64(0.10707665932876519), np.float64(0.4229561491503407)]\n",
      "[np.float64(0.620969096606866), np.float64(1.4583646023483712), np.float64(1.0859767578551887), np.float64(0.517962205377872), np.float64(0.20913433341775173), np.float64(0.5091840782037602)]\n"
     ]
    }
   ],
   "source": [
    "lower_bounds_saits_ICUType_4_subgroup, upper_bounds_saits_ICUType_4_subgroup = toolkits.calc_lower_and_upper_bound(results_bootstrap_saits_ICUType_4_subgroup, means_bootstraps_saits_ICUType_4_subgroup, standards_deviations_saits_ICUType_4_subgroup)\n",
    "\n",
    "print(lower_bounds_saits_ICUType_4_subgroup)\n",
    "print(upper_bounds_saits_ICUType_4_subgroup)"
   ]
  },
  {
   "cell_type": "code",
   "execution_count": 74,
   "metadata": {},
   "outputs": [
    {
     "name": "stdout",
     "output_type": "stream",
     "text": [
      "[np.float64(0.27930576874390706), np.float64(0.3728340243467206), np.float64(0.36871716024740075), np.float64(0.26153937912889297), np.float64(0.10962410035351977), np.float64(0.4232686475006617)]\n",
      "[np.float64(0.6447007036079485), np.float64(1.8003804990136956), np.float64(1.0708848629739434), np.float64(0.527720487030236), np.float64(0.21165193489381803), np.float64(0.5101341787631254)]\n"
     ]
    }
   ],
   "source": [
    "lower_bounds_saits_ICUType_4_subgroup, upper_bounds_saits_ICUType_4_subgroup = toolkits.calc_lower_and_upper_bound_percentile(results_bootstrap_saits_ICUType_4_subgroup)\n",
    "\n",
    "print(lower_bounds_saits_ICUType_4_subgroup)\n",
    "print(upper_bounds_saits_ICUType_4_subgroup)"
   ]
  },
  {
   "cell_type": "markdown",
   "metadata": {},
   "source": [
    "#### Mean values of lower bound and upper bound"
   ]
  },
  {
   "cell_type": "code",
   "execution_count": 75,
   "metadata": {},
   "outputs": [
    {
     "name": "stdout",
     "output_type": "stream",
     "text": [
      "[np.float64(0.46200323617592776), np.float64(1.086607261680208), np.float64(0.7198010116106721), np.float64(0.3946299330795645), np.float64(0.16063801762366892), np.float64(0.4667014131318935)]\n"
     ]
    }
   ],
   "source": [
    "mean_values_ci_saits_ICUType_4_subgroup  = toolkits.calc_mean_values_ci(lower_bounds_saits_ICUType_4_subgroup, upper_bounds_saits_ICUType_4_subgroup)\n",
    "\n",
    "print(mean_values_ci_saits_ICUType_4_subgroup)"
   ]
  },
  {
   "cell_type": "markdown",
   "metadata": {},
   "source": [
    "### Confidence Interval (Undefined classification subgroup)"
   ]
  },
  {
   "cell_type": "markdown",
   "metadata": {},
   "source": [
    "#### Distribution Bootstrap for the Top 5 variables with Largest Differences in MAE (Mean Absolute Error) "
   ]
  },
  {
   "cell_type": "code",
   "execution_count": 76,
   "metadata": {},
   "outputs": [],
   "source": [
    "indices = [32, 0, 6, 31, 5, 1, 35]\n",
    "\n",
    "\n",
    "results_bootstrap_saits_undefined_classification_subgroup = []\n",
    "\n",
    "for i in indices:\n",
    "       results_bootstrap_saits_undefined_classification_subgroup.append(toolkits.bootstrap_v2(testing_ae_saits_variables_standard, indicating_mask_variable_standard_norm, 10, i, 9000))\n",
    "\n"
   ]
  },
  {
   "cell_type": "markdown",
   "metadata": {},
   "source": [
    "#### Calculating the mean and standard deviation of the bootstrap distribution"
   ]
  },
  {
   "cell_type": "code",
   "execution_count": 77,
   "metadata": {},
   "outputs": [
    {
     "name": "stdout",
     "output_type": "stream",
     "text": [
      "[np.float64(0.2220789243699558), np.float64(0.36322793707051365), np.float64(0.5358393333607179), np.float64(0.6174529701974534), np.float64(0.34997728226605834), np.float64(0.1486205100765959), np.float64(0.09019084920226916)]\n",
      "[np.float64(0.04570653322260835), np.float64(0.05263916241599928), np.float64(0.1666043195868283), np.float64(0.21180064268718604), np.float64(0.10245179483312185), np.float64(0.04951555561227327), np.float64(0.005528848192846053)]\n"
     ]
    }
   ],
   "source": [
    "means_bootstraps_saits_undefined_classification_subgroup, standards_deviations_saits_undefined_classification_subgroup = toolkits.calc_mean_and_standard_deviation(results_bootstrap_saits_undefined_classification_subgroup)\n",
    "\n",
    "print(means_bootstraps_saits_undefined_classification_subgroup)\n",
    "print(standards_deviations_saits_undefined_classification_subgroup)\n"
   ]
  },
  {
   "cell_type": "markdown",
   "metadata": {},
   "source": [
    "#### Calculating lower bound and upper bound"
   ]
  },
  {
   "cell_type": "code",
   "execution_count": 78,
   "metadata": {},
   "outputs": [
    {
     "name": "stdout",
     "output_type": "stream",
     "text": [
      "[np.float64(0.13249576539545999), np.float64(0.26005707455880067), np.float64(0.2093008673017333), np.float64(0.20233133862813196), np.float64(0.1491754542416527), np.float64(0.051571804402050156), np.float64(0.07935450586830153)]\n",
      "[np.float64(0.3116620833444516), np.float64(0.46639879958222663), np.float64(0.8623777994197024), np.float64(1.0325746017667747), np.float64(0.550779110290464), np.float64(0.24566921575114165), np.float64(0.10102719253623679)]\n"
     ]
    }
   ],
   "source": [
    "lower_bounds_saits_undefined_classification_subgroup, upper_bounds_saits_undefined_classification_subgroup = toolkits.calc_lower_and_upper_bound(results_bootstrap_saits_undefined_classification_subgroup, means_bootstraps_saits_undefined_classification_subgroup, standards_deviations_saits_undefined_classification_subgroup)\n",
    "\n",
    "print(lower_bounds_saits_undefined_classification_subgroup)\n",
    "print(upper_bounds_saits_undefined_classification_subgroup)"
   ]
  },
  {
   "cell_type": "code",
   "execution_count": 79,
   "metadata": {},
   "outputs": [
    {
     "name": "stdout",
     "output_type": "stream",
     "text": [
      "[np.float64(0.14861351880442525), np.float64(0.2681309927056473), np.float64(0.21667597714838674), np.float64(0.22678503532965885), np.float64(0.19076055650846094), np.float64(0.07058041202715513), np.float64(0.079863334033074)]\n",
      "[np.float64(0.32444401367727815), np.float64(0.4722891131963517), np.float64(0.8712429101228379), np.float64(1.0597512498483057), np.float64(0.5819828141296248), np.float64(0.26020473146627615), np.float64(0.10139542073969701)]\n"
     ]
    }
   ],
   "source": [
    "lower_bounds_saits_undefined_classification_subgroup, upper_bounds_saits_undefined_classification_subgroup = toolkits.calc_lower_and_upper_bound_percentile(results_bootstrap_saits_undefined_classification_subgroup)\n",
    "\n",
    "print(lower_bounds_saits_undefined_classification_subgroup)\n",
    "print(upper_bounds_saits_undefined_classification_subgroup)"
   ]
  },
  {
   "cell_type": "markdown",
   "metadata": {},
   "source": [
    "#### Mean values of lower bound and upper bound"
   ]
  },
  {
   "cell_type": "code",
   "execution_count": 80,
   "metadata": {},
   "outputs": [
    {
     "name": "stdout",
     "output_type": "stream",
     "text": [
      "[np.float64(0.2365287662408517), np.float64(0.3702100529509995), np.float64(0.5439594436356123), np.float64(0.6432681425889822), np.float64(0.38637168531904287), np.float64(0.16539257174671565), np.float64(0.0906293773863855)]\n"
     ]
    }
   ],
   "source": [
    "mean_values_ci_saits_undefined_classification_subgroup  = toolkits.calc_mean_values_ci(lower_bounds_saits_undefined_classification_subgroup, upper_bounds_saits_undefined_classification_subgroup)\n",
    "\n",
    "print(mean_values_ci_saits_undefined_classification_subgroup)"
   ]
  },
  {
   "cell_type": "markdown",
   "metadata": {},
   "source": [
    "### Confidence Interval (Low weight classification subgroup)"
   ]
  },
  {
   "cell_type": "markdown",
   "metadata": {},
   "source": [
    "#### Distribution Bootstrap for the Top 5 variables with Largest Differences in MAE (Mean Absolute Error) "
   ]
  },
  {
   "cell_type": "code",
   "execution_count": 81,
   "metadata": {},
   "outputs": [],
   "source": [
    "indices = [32, 0, 6, 31, 5, 1, 35]\n",
    "\n",
    "results_bootstrap_saits_low_weight_classification_subgroup = []\n",
    "\n",
    "for i in indices:\n",
    "       results_bootstrap_saits_low_weight_classification_subgroup.append(toolkits.bootstrap_v2(testing_ae_saits_variables_standard, indicating_mask_variable_standard_norm, 11, i, 9000))\n",
    "\n"
   ]
  },
  {
   "cell_type": "markdown",
   "metadata": {},
   "source": [
    "#### Calculating the mean and standard deviation of the bootstrap distribution"
   ]
  },
  {
   "cell_type": "code",
   "execution_count": 82,
   "metadata": {},
   "outputs": [
    {
     "name": "stdout",
     "output_type": "stream",
     "text": [
      "[np.float64(0.4179372777585539), np.float64(1.2434660978146057), np.float64(0.14389198214777257), np.float64(0.0), np.float64(1.3355777932607396), np.float64(0.05999720428400326), np.float64(0.08402665695116406)]\n",
      "[np.float64(0.3211289804440317), np.float64(1.086221728773829), np.float64(0.10760691902498223), np.float64(0.0), np.float64(1.11933454327662), np.float64(0.020827781538153973), np.float64(0.008895762289132428)]\n"
     ]
    }
   ],
   "source": [
    "means_bootstraps_saits_low_weight_classification_subgroup, standards_deviations_saits_low_weight_classification_subgroup = toolkits.calc_mean_and_standard_deviation(results_bootstrap_saits_low_weight_classification_subgroup)\n",
    "\n",
    "print(means_bootstraps_saits_low_weight_classification_subgroup)\n",
    "print(standards_deviations_saits_low_weight_classification_subgroup)\n"
   ]
  },
  {
   "cell_type": "markdown",
   "metadata": {},
   "source": [
    "#### Calculating lower bound and upper bound"
   ]
  },
  {
   "cell_type": "code",
   "execution_count": 83,
   "metadata": {},
   "outputs": [
    {
     "name": "stdout",
     "output_type": "stream",
     "text": [
      "[np.float64(-0.21146395830381565), np.float64(-0.8854893698069339), np.float64(-0.06701370362851056), np.float64(0.0), np.float64(-0.858277598213026), np.float64(0.01917550259135322), np.float64(0.06659128324943492)]\n",
      "[np.float64(1.0473385138209235), np.float64(3.372421565436145), np.float64(0.3547976679240557), np.float64(0.0), np.float64(3.529433184734505), np.float64(0.1008189059766533), np.float64(0.10146203065289319)]\n"
     ]
    }
   ],
   "source": [
    "lower_bounds_saits_low_weight_classification_subgroup, upper_bounds_saits_low_weight_classification_subgroup = toolkits.calc_lower_and_upper_bound(results_bootstrap_saits_low_weight_classification_subgroup, means_bootstraps_saits_low_weight_classification_subgroup, standards_deviations_saits_low_weight_classification_subgroup)\n",
    "\n",
    "print(lower_bounds_saits_low_weight_classification_subgroup)\n",
    "print(upper_bounds_saits_low_weight_classification_subgroup)"
   ]
  },
  {
   "cell_type": "code",
   "execution_count": 84,
   "metadata": {},
   "outputs": [
    {
     "name": "stdout",
     "output_type": "stream",
     "text": [
      "[np.float64(0.0), np.float64(0.0), np.float64(0.0), np.float64(0.0), np.float64(0.06532619020593648), np.float64(0.02636130159392695), np.float64(0.06807568231807692)]\n",
      "[np.float64(0.6646820109257148), np.float64(2.8082561340301457), np.float64(0.22436379752781074), np.float64(0.0), np.float64(3.898138116424551), np.float64(0.10568388666059643), np.float64(0.10248588150567063)]\n"
     ]
    }
   ],
   "source": [
    "lower_bounds_saits_low_weight_classification_subgroup, upper_bounds_saits_low_weight_classification_subgroup = toolkits.calc_lower_and_upper_bound_percentile(results_bootstrap_saits_low_weight_classification_subgroup)\n",
    "\n",
    "print(lower_bounds_saits_low_weight_classification_subgroup)\n",
    "print(upper_bounds_saits_low_weight_classification_subgroup)"
   ]
  },
  {
   "cell_type": "markdown",
   "metadata": {},
   "source": [
    "#### Mean values of lower bound and upper bound"
   ]
  },
  {
   "cell_type": "code",
   "execution_count": 85,
   "metadata": {},
   "outputs": [
    {
     "name": "stdout",
     "output_type": "stream",
     "text": [
      "[np.float64(0.3323410054628574), np.float64(1.4041280670150729), np.float64(0.11218189876390537), np.float64(0.0), np.float64(1.9817321533152439), np.float64(0.06602259412726169), np.float64(0.08528078191187377)]\n"
     ]
    }
   ],
   "source": [
    "mean_values_ci_saits_low_weight_classification_subgroup  = toolkits.calc_mean_values_ci(lower_bounds_saits_low_weight_classification_subgroup, upper_bounds_saits_low_weight_classification_subgroup)\n",
    "\n",
    "print(mean_values_ci_saits_low_weight_classification_subgroup)"
   ]
  },
  {
   "cell_type": "markdown",
   "metadata": {},
   "source": [
    "### Confidence Interval (Normal weight classification subgroup)"
   ]
  },
  {
   "cell_type": "markdown",
   "metadata": {},
   "source": [
    "#### Distribution Bootstrap for the Top 5 variables with Largest Differences in MAE (Mean Absolute Error) "
   ]
  },
  {
   "cell_type": "code",
   "execution_count": 86,
   "metadata": {},
   "outputs": [],
   "source": [
    "indices = [32, 0, 6, 31, 5, 1, 35]\n",
    "\n",
    "results_bootstrap_saits_normal_weight_classification_subgroup = []\n",
    "\n",
    "for i in indices:\n",
    "       results_bootstrap_saits_normal_weight_classification_subgroup.append(toolkits.bootstrap_v2(testing_ae_saits_variables_standard, indicating_mask_variable_standard_norm, 12, i, 9000))\n",
    "\n"
   ]
  },
  {
   "cell_type": "markdown",
   "metadata": {},
   "source": [
    "#### Calculating the mean and standard deviation of the bootstrap distribution"
   ]
  },
  {
   "cell_type": "code",
   "execution_count": 87,
   "metadata": {},
   "outputs": [
    {
     "name": "stdout",
     "output_type": "stream",
     "text": [
      "[np.float64(0.25744368744577145), np.float64(0.4349773922115265), np.float64(0.717382366934424), np.float64(0.4541860461731961), np.float64(0.49248182712618804), np.float64(0.061875693671140285), np.float64(0.061840634043035705)]\n",
      "[np.float64(0.06530091398193434), np.float64(0.1130191030039274), np.float64(0.36496621546347674), np.float64(0.17155187474732164), np.float64(0.16924381363494684), np.float64(0.017466578077892432), np.float64(0.0036097147752741235)]\n"
     ]
    }
   ],
   "source": [
    "means_bootstraps_saits_normal_weight_classification_subgroup, standards_deviations_saits_normal_weight_classification_subgroup = toolkits.calc_mean_and_standard_deviation(results_bootstrap_saits_normal_weight_classification_subgroup)\n",
    "\n",
    "print(means_bootstraps_saits_normal_weight_classification_subgroup)\n",
    "print(standards_deviations_saits_normal_weight_classification_subgroup)\n"
   ]
  },
  {
   "cell_type": "markdown",
   "metadata": {},
   "source": [
    "#### Calculating lower bound and upper bound"
   ]
  },
  {
   "cell_type": "code",
   "execution_count": 88,
   "metadata": {},
   "outputs": [
    {
     "name": "stdout",
     "output_type": "stream",
     "text": [
      "[np.float64(0.12945624788363208), np.float64(0.21346402075880616), np.float64(0.002061729052124317), np.float64(0.11795055018811929), np.float64(0.16077004779548332), np.float64(0.027641829705314272), np.float64(0.05476572308903633)]\n",
      "[np.float64(0.3854311270079108), np.float64(0.6564907636642467), np.float64(1.4327030048167237), np.float64(0.7904215421582729), np.float64(0.8241936064568928), np.float64(0.0961095576369663), np.float64(0.06891554499703509)]\n"
     ]
    }
   ],
   "source": [
    "lower_bounds_saits_normal_weight_classification_subgroup, upper_bounds_saits_normal_weight_classification_subgroup = toolkits.calc_lower_and_upper_bound(results_bootstrap_saits_normal_weight_classification_subgroup, means_bootstraps_saits_normal_weight_classification_subgroup, standards_deviations_saits_normal_weight_classification_subgroup)\n",
    "\n",
    "print(lower_bounds_saits_normal_weight_classification_subgroup)\n",
    "print(upper_bounds_saits_normal_weight_classification_subgroup)"
   ]
  },
  {
   "cell_type": "code",
   "execution_count": 89,
   "metadata": {},
   "outputs": [
    {
     "name": "stdout",
     "output_type": "stream",
     "text": [
      "[np.float64(0.14427118713539758), np.float64(0.24249607025212516), np.float64(0.0), np.float64(0.12762180966123823), np.float64(0.22082274351885345), np.float64(0.03289849328793306), np.float64(0.05517902856700568)]\n",
      "[np.float64(0.39878917968234284), np.float64(0.6804758208233153), np.float64(1.157952311730471), np.float64(0.810228541120111), np.float64(0.8680464036506664), np.float64(0.10027582513098275), np.float64(0.06920380693573645)]\n"
     ]
    }
   ],
   "source": [
    "lower_bounds_saits_normal_weight_classification_subgroup, upper_bounds_saits_normal_weight_classification_subgroup = toolkits.calc_lower_and_upper_bound_percentile(results_bootstrap_saits_normal_weight_classification_subgroup)\n",
    "\n",
    "print(lower_bounds_saits_normal_weight_classification_subgroup)\n",
    "print(upper_bounds_saits_normal_weight_classification_subgroup)"
   ]
  },
  {
   "cell_type": "markdown",
   "metadata": {},
   "source": [
    "#### Mean values of lower bound and upper bound"
   ]
  },
  {
   "cell_type": "code",
   "execution_count": 90,
   "metadata": {},
   "outputs": [
    {
     "name": "stdout",
     "output_type": "stream",
     "text": [
      "[np.float64(0.2715301834088702), np.float64(0.4614859455377202), np.float64(0.5789761558652355), np.float64(0.46892517539067463), np.float64(0.54443457358476), np.float64(0.0665871592094579), np.float64(0.06219141775137106)]\n"
     ]
    }
   ],
   "source": [
    "mean_values_ci_saits_normal_weight_classification_subgroup  = toolkits.calc_mean_values_ci(lower_bounds_saits_normal_weight_classification_subgroup, upper_bounds_saits_normal_weight_classification_subgroup)\n",
    "\n",
    "print(mean_values_ci_saits_normal_weight_classification_subgroup)"
   ]
  },
  {
   "cell_type": "markdown",
   "metadata": {},
   "source": [
    "### Confidence Interval (Overweight classification subgroup)"
   ]
  },
  {
   "cell_type": "markdown",
   "metadata": {},
   "source": [
    "#### Distribution Bootstrap for the Top 5 variables with Largest Differences in MAE (Mean Absolute Error) "
   ]
  },
  {
   "cell_type": "code",
   "execution_count": 91,
   "metadata": {},
   "outputs": [],
   "source": [
    "indices = [32, 0, 6, 31, 5, 1, 35]\n",
    "\n",
    "results_bootstrap_saits_overweight_classification_subgroup = []\n",
    "\n",
    "for i in indices:\n",
    "       results_bootstrap_saits_overweight_classification_subgroup.append(toolkits.bootstrap_v2(testing_ae_saits_variables_standard, indicating_mask_variable_standard_norm, 13, i, 9000))\n",
    "\n"
   ]
  },
  {
   "cell_type": "markdown",
   "metadata": {},
   "source": [
    "#### Calculating the mean and standard deviation of the bootstrap distribution"
   ]
  },
  {
   "cell_type": "code",
   "execution_count": 92,
   "metadata": {},
   "outputs": [
    {
     "name": "stdout",
     "output_type": "stream",
     "text": [
      "[np.float64(0.44788379857909943), np.float64(0.22978055068985156), np.float64(0.9617003448767828), np.float64(0.8690059501858922), np.float64(0.20889000167879582), np.float64(0.1554328496222451), np.float64(0.05987518990506586)]\n",
      "[np.float64(0.1963573758845288), np.float64(0.046913847941276524), np.float64(0.21814397668322832), np.float64(0.5515070410248044), np.float64(0.06296380705055063), np.float64(0.04989517332353856), np.float64(0.0029144577918172316)]\n"
     ]
    }
   ],
   "source": [
    "means_bootstraps_saits_overweight_classification_subgroup, standards_deviations_saits_overweight_classification_subgroup = toolkits.calc_mean_and_standard_deviation(results_bootstrap_saits_overweight_classification_subgroup)\n",
    "\n",
    "print(means_bootstraps_saits_overweight_classification_subgroup)\n",
    "print(standards_deviations_saits_overweight_classification_subgroup)\n"
   ]
  },
  {
   "cell_type": "markdown",
   "metadata": {},
   "source": [
    "#### Calculating lower bound and upper bound"
   ]
  },
  {
   "cell_type": "code",
   "execution_count": 93,
   "metadata": {},
   "outputs": [
    {
     "name": "stdout",
     "output_type": "stream",
     "text": [
      "[np.float64(0.06303041374662921), np.float64(0.137831098348761), np.float64(0.53414600713331), np.float64(-0.21192798744297847), np.float64(0.08548320753018745), np.float64(0.05764010690572585), np.float64(0.054162957598641946)]\n",
      "[np.float64(0.8327371834115697), np.float64(0.3217300030309421), np.float64(1.3892546826202556), np.float64(1.949939887814763), np.float64(0.3322967958274042), np.float64(0.25322559233876435), np.float64(0.06558742221148976)]\n"
     ]
    }
   ],
   "source": [
    "lower_bounds_saits_overweight_classification_subgroup, upper_bounds_saits_overweight_classification_subgroup = toolkits.calc_lower_and_upper_bound(results_bootstrap_saits_overweight_classification_subgroup, means_bootstraps_saits_overweight_classification_subgroup, standards_deviations_saits_overweight_classification_subgroup)\n",
    "\n",
    "print(lower_bounds_saits_overweight_classification_subgroup)\n",
    "print(upper_bounds_saits_overweight_classification_subgroup)"
   ]
  },
  {
   "cell_type": "code",
   "execution_count": 94,
   "metadata": {},
   "outputs": [
    {
     "name": "stdout",
     "output_type": "stream",
     "text": [
      "[np.float64(0.12413702513626826), np.float64(0.14433416587788625), np.float64(0.5280093967897358), np.float64(0.10499430382568216), np.float64(0.1190599458217266), np.float64(0.07927384479062116), np.float64(0.05455167757690384)]\n",
      "[np.float64(0.8832924474115974), np.float64(0.32829721086014874), np.float64(1.3861176353592872), np.float64(2.0863204489780642), np.float64(0.35445178174038233), np.float64(0.2663539917461887), np.float64(0.06601488658930574)]\n"
     ]
    }
   ],
   "source": [
    "lower_bounds_saits_overweight_classification_subgroup, upper_bounds_saits_overweight_classification_subgroup = toolkits.calc_lower_and_upper_bound_percentile(results_bootstrap_saits_overweight_classification_subgroup)\n",
    "\n",
    "print(lower_bounds_saits_overweight_classification_subgroup)\n",
    "print(upper_bounds_saits_overweight_classification_subgroup)"
   ]
  },
  {
   "cell_type": "markdown",
   "metadata": {},
   "source": [
    "#### Mean values of lower bound and upper bound"
   ]
  },
  {
   "cell_type": "code",
   "execution_count": 95,
   "metadata": {},
   "outputs": [
    {
     "name": "stdout",
     "output_type": "stream",
     "text": [
      "[np.float64(0.5037147362739328), np.float64(0.2363156883690175), np.float64(0.9570635160745116), np.float64(1.095657376401873), np.float64(0.23675586378105445), np.float64(0.17281391826840492), np.float64(0.06028328208310479)]\n"
     ]
    }
   ],
   "source": [
    "mean_values_ci_saits_overweight_classification_subgroup  = toolkits.calc_mean_values_ci(lower_bounds_saits_overweight_classification_subgroup, upper_bounds_saits_overweight_classification_subgroup)\n",
    "\n",
    "print(mean_values_ci_saits_overweight_classification_subgroup)"
   ]
  },
  {
   "cell_type": "markdown",
   "metadata": {},
   "source": [
    "### Confidence Interval (Obesity 1 classification subgroup)"
   ]
  },
  {
   "cell_type": "markdown",
   "metadata": {},
   "source": [
    "#### Distribution Bootstrap for the Top 5 variables with Largest Differences in MAE (Mean Absolute Error) "
   ]
  },
  {
   "cell_type": "code",
   "execution_count": 96,
   "metadata": {},
   "outputs": [],
   "source": [
    "indices = [32, 0, 6, 31, 5, 1, 35]\n",
    "\n",
    "results_bootstrap_saits_obs1_classification_subgroup = []\n",
    "\n",
    "for i in indices:\n",
    "       results_bootstrap_saits_obs1_classification_subgroup.append(toolkits.bootstrap_v2(testing_ae_saits_variables_standard, indicating_mask_variable_standard_norm, 14, i, 9000))\n",
    "\n"
   ]
  },
  {
   "cell_type": "markdown",
   "metadata": {},
   "source": [
    "#### Calculating the mean and standard deviation of the bootstrap distribution"
   ]
  },
  {
   "cell_type": "code",
   "execution_count": 97,
   "metadata": {},
   "outputs": [
    {
     "name": "stdout",
     "output_type": "stream",
     "text": [
      "[np.float64(0.3029890874167423), np.float64(0.20407255566287066), np.float64(0.6208529973138541), np.float64(0.4395335826294013), np.float64(0.3425874360473905), np.float64(0.10179621402459223), np.float64(0.06688625776136924)]\n",
      "[np.float64(0.08587512838896379), np.float64(0.060811315475714646), np.float64(0.3138483810115808), np.float64(0.21299261450393206), np.float64(0.1145905761579488), np.float64(0.04148364623779175), np.float64(0.0034668575994258057)]\n"
     ]
    }
   ],
   "source": [
    "means_bootstraps_saits_obs1_classification_subgroup, standards_deviations_saits_obs1_classification_subgroup = toolkits.calc_mean_and_standard_deviation(results_bootstrap_saits_obs1_classification_subgroup)\n",
    "\n",
    "print(means_bootstraps_saits_obs1_classification_subgroup)\n",
    "print(standards_deviations_saits_obs1_classification_subgroup)\n"
   ]
  },
  {
   "cell_type": "markdown",
   "metadata": {},
   "source": [
    "#### Calculating lower bound and upper bound"
   ]
  },
  {
   "cell_type": "code",
   "execution_count": 98,
   "metadata": {},
   "outputs": [
    {
     "name": "stdout",
     "output_type": "stream",
     "text": [
      "[np.float64(0.13467692860662012), np.float64(0.08488456747796673), np.float64(0.005721473924951148), np.float64(0.022075729228670904), np.float64(0.11799403381011664), np.float64(0.020489761451119887), np.float64(0.06009134172696567)]\n",
      "[np.float64(0.4713012462268645), np.float64(0.3232605438477746), np.float64(1.235984520702757), np.float64(0.8569914360301316), np.float64(0.5671808382846644), np.float64(0.18310266659806457), np.float64(0.0736811737957728)]\n"
     ]
    }
   ],
   "source": [
    "lower_bounds_saits_obs1_classification_subgroup, upper_bounds_saits_obs1_classification_subgroup = toolkits.calc_lower_and_upper_bound(results_bootstrap_saits_obs1_classification_subgroup, means_bootstraps_saits_obs1_classification_subgroup, standards_deviations_saits_obs1_classification_subgroup)\n",
    "\n",
    "print(lower_bounds_saits_obs1_classification_subgroup)\n",
    "print(upper_bounds_saits_obs1_classification_subgroup)"
   ]
  },
  {
   "cell_type": "code",
   "execution_count": 99,
   "metadata": {},
   "outputs": [
    {
     "name": "stdout",
     "output_type": "stream",
     "text": [
      "[np.float64(0.15418243606681148), np.float64(0.09379579326862329), np.float64(0.0), np.float64(0.0), np.float64(0.15843812547099442), np.float64(0.04089258082946061), np.float64(0.060593833475975654)]\n",
      "[np.float64(0.4890280355937019), np.float64(0.3325682569395985), np.float64(1.2406693076044368), np.float64(0.6809092237281027), np.float64(0.6005876011055841), np.float64(0.1972119507960664), np.float64(0.07412772674871662)]\n"
     ]
    }
   ],
   "source": [
    "lower_bounds_saits_obs1_classification_subgroup, upper_bounds_saits_obs1_classification_subgroup = toolkits.calc_lower_and_upper_bound_percentile(results_bootstrap_saits_obs1_classification_subgroup)\n",
    "\n",
    "print(lower_bounds_saits_obs1_classification_subgroup)\n",
    "print(upper_bounds_saits_obs1_classification_subgroup)"
   ]
  },
  {
   "cell_type": "markdown",
   "metadata": {},
   "source": [
    "#### Mean values of lower bound and upper bound"
   ]
  },
  {
   "cell_type": "code",
   "execution_count": 100,
   "metadata": {},
   "outputs": [
    {
     "name": "stdout",
     "output_type": "stream",
     "text": [
      "[np.float64(0.3216052358302567), np.float64(0.2131820251041109), np.float64(0.6203346538022184), np.float64(0.34045461186405135), np.float64(0.37951286328828926), np.float64(0.11905226581276351), np.float64(0.06736078011234614)]\n"
     ]
    }
   ],
   "source": [
    "mean_values_ci_saits_obs1_classification_subgroup  = toolkits.calc_mean_values_ci(lower_bounds_saits_obs1_classification_subgroup, upper_bounds_saits_obs1_classification_subgroup)\n",
    "\n",
    "print(mean_values_ci_saits_obs1_classification_subgroup)"
   ]
  },
  {
   "cell_type": "markdown",
   "metadata": {},
   "source": [
    "### Confidence Interval (Obesity 2 classification subgroup)"
   ]
  },
  {
   "cell_type": "markdown",
   "metadata": {},
   "source": [
    "#### Distribution Bootstrap for the Top 5 variables with Largest Differences in MAE (Mean Absolute Error) "
   ]
  },
  {
   "cell_type": "code",
   "execution_count": 101,
   "metadata": {},
   "outputs": [],
   "source": [
    "indices = [32, 0, 6, 31, 5, 1, 35]\n",
    "\n",
    "results_bootstrap_saits_obs2_classification_subgroup = []\n",
    "\n",
    "for i in indices:\n",
    "       results_bootstrap_saits_obs2_classification_subgroup.append(toolkits.bootstrap_v2(testing_ae_saits_variables_standard, indicating_mask_variable_standard_norm, 15, i, 9000))\n",
    "\n"
   ]
  },
  {
   "cell_type": "markdown",
   "metadata": {},
   "source": [
    "#### Calculating the mean and standard deviation of the bootstrap distribution"
   ]
  },
  {
   "cell_type": "code",
   "execution_count": 102,
   "metadata": {},
   "outputs": [
    {
     "name": "stdout",
     "output_type": "stream",
     "text": [
      "[np.float64(1.3202318318531734), np.float64(0.16018320474459607), np.float64(0.0016333150023958836), np.float64(0.0), np.float64(0.20565140281883998), np.float64(0.1904748878318178), np.float64(0.0748960300784776)]\n",
      "[np.float64(1.0284769556193523), np.float64(0.04163536032079147), np.float64(0.0012427663723273534), np.float64(0.0), np.float64(0.14065179783514387), np.float64(0.09377300495839148), np.float64(0.006743679991352325)]\n"
     ]
    }
   ],
   "source": [
    "means_bootstraps_saits_obs2_classification_subgroup, standards_deviations_saits_obs2_classification_subgroup = toolkits.calc_mean_and_standard_deviation(results_bootstrap_saits_obs2_classification_subgroup)\n",
    "\n",
    "print(means_bootstraps_saits_obs2_classification_subgroup)\n",
    "print(standards_deviations_saits_obs2_classification_subgroup)\n"
   ]
  },
  {
   "cell_type": "markdown",
   "metadata": {},
   "source": [
    "#### Calculating lower bound and upper bound"
   ]
  },
  {
   "cell_type": "code",
   "execution_count": 103,
   "metadata": {},
   "outputs": [
    {
     "name": "stdout",
     "output_type": "stream",
     "text": [
      "[np.float64(-0.6955459600901566), np.float64(0.07857939803249675), np.float64(-0.0008024623285632243), np.float64(0.0), np.float64(-0.07002105529885072), np.float64(0.006683175391274582), np.float64(0.06167866017216366)]\n",
      "[np.float64(3.336009623796503), np.float64(0.2417870114566954), np.float64(0.004069092333354991), np.float64(0.0), np.float64(0.4813238609365307), np.float64(0.374266600272361), np.float64(0.08811339998479154)]\n"
     ]
    }
   ],
   "source": [
    "lower_bounds_saits_obs2_classification_subgroup, upper_bounds_saits_obs2_classification_subgroup = toolkits.calc_lower_and_upper_bound(results_bootstrap_saits_obs2_classification_subgroup, means_bootstraps_saits_obs2_classification_subgroup, standards_deviations_saits_obs2_classification_subgroup)\n",
    "\n",
    "print(lower_bounds_saits_obs2_classification_subgroup)\n",
    "print(upper_bounds_saits_obs2_classification_subgroup)"
   ]
  },
  {
   "cell_type": "code",
   "execution_count": 104,
   "metadata": {},
   "outputs": [
    {
     "name": "stdout",
     "output_type": "stream",
     "text": [
      "[np.float64(0.0), np.float64(0.08663420909169421), np.float64(0.0), np.float64(0.0), np.float64(0.05801357838495656), np.float64(0.05135770937952164), np.float64(0.062486301173007935)]\n",
      "[np.float64(3.5585249882396806), np.float64(0.2493556649833264), np.float64(0.0025789184248367356), np.float64(0.0), np.float64(0.5359872611109567), np.float64(0.39997488231726197), np.float64(0.08915991716810763)]\n"
     ]
    }
   ],
   "source": [
    "lower_bounds_saits_obs2_classification_subgroup, upper_bounds_saits_obs2_classification_subgroup = toolkits.calc_lower_and_upper_bound_percentile(results_bootstrap_saits_obs2_classification_subgroup)\n",
    "\n",
    "print(lower_bounds_saits_obs2_classification_subgroup)\n",
    "print(upper_bounds_saits_obs2_classification_subgroup)"
   ]
  },
  {
   "cell_type": "markdown",
   "metadata": {},
   "source": [
    "#### Mean values of lower bound and upper bound"
   ]
  },
  {
   "cell_type": "code",
   "execution_count": 105,
   "metadata": {},
   "outputs": [
    {
     "name": "stdout",
     "output_type": "stream",
     "text": [
      "[np.float64(1.7792624941198403), np.float64(0.1679949370375103), np.float64(0.0012894592124183678), np.float64(0.0), np.float64(0.29700041974795666), np.float64(0.22566629584839182), np.float64(0.07582310917055779)]\n"
     ]
    }
   ],
   "source": [
    "mean_values_ci_saits_obs2_classification_subgroup  = toolkits.calc_mean_values_ci(lower_bounds_saits_obs2_classification_subgroup, upper_bounds_saits_obs2_classification_subgroup)\n",
    "\n",
    "print(mean_values_ci_saits_obs2_classification_subgroup)"
   ]
  },
  {
   "cell_type": "markdown",
   "metadata": {},
   "source": [
    "### Confidence Interval (Obesity 3 classification subgroup)"
   ]
  },
  {
   "cell_type": "markdown",
   "metadata": {},
   "source": [
    "#### Distribution Bootstrap for the Top 5 variables with Largest Differences in MAE (Mean Absolute Error) "
   ]
  },
  {
   "cell_type": "code",
   "execution_count": 106,
   "metadata": {},
   "outputs": [],
   "source": [
    "indices = [32, 0, 6, 31, 5, 1, 35]\n",
    "\n",
    "results_bootstrap_saits_obs3_classification_subgroup = []\n",
    "\n",
    "for i in indices:\n",
    "       results_bootstrap_saits_obs3_classification_subgroup.append(toolkits.bootstrap_v2(testing_ae_saits_variables_standard, indicating_mask_variable_standard_norm, 16, i, 9000))\n",
    "\n"
   ]
  },
  {
   "cell_type": "markdown",
   "metadata": {},
   "source": [
    "#### Calculating the mean and standard deviation of the bootstrap distribution"
   ]
  },
  {
   "cell_type": "code",
   "execution_count": 107,
   "metadata": {},
   "outputs": [
    {
     "name": "stdout",
     "output_type": "stream",
     "text": [
      "[np.float64(1.174122801941639), np.float64(0.19605819975450417), np.float64(0.0), np.float64(0.24114741895895714), np.float64(0.2807075619561548), np.float64(0.27174246354233467), np.float64(0.12161519628120666)]\n",
      "[np.float64(0.8152811692023881), np.float64(0.05438973613686845), np.float64(0.0), np.float64(0.18471670189518583), np.float64(0.14691368485557318), np.float64(0.18967925991644569), np.float64(0.01616573041190024)]\n"
     ]
    }
   ],
   "source": [
    "means_bootstraps_saits_obs3_classification_subgroup, standards_deviations_saits_obs3_classification_subgroup = toolkits.calc_mean_and_standard_deviation(results_bootstrap_saits_obs3_classification_subgroup)\n",
    "\n",
    "print(means_bootstraps_saits_obs3_classification_subgroup)\n",
    "print(standards_deviations_saits_obs3_classification_subgroup)\n"
   ]
  },
  {
   "cell_type": "markdown",
   "metadata": {},
   "source": [
    "#### Calculating lower bound and upper bound"
   ]
  },
  {
   "cell_type": "code",
   "execution_count": 108,
   "metadata": {},
   "outputs": [
    {
     "name": "stdout",
     "output_type": "stream",
     "text": [
      "[np.float64(-0.42379892696874766), np.float64(0.08945627579760532), np.float64(0.0), np.float64(-0.12089066409862864), np.float64(-0.007237969196836225), np.float64(-0.1000220545081108), np.float64(0.08993094689009834)]\n",
      "[np.float64(2.7720445308520256), np.float64(0.30266012371140305), np.float64(0.0), np.float64(0.6031855020165429), np.float64(0.5686530931091458), np.float64(0.6435069815927801), np.float64(0.153299445672315)]\n"
     ]
    }
   ],
   "source": [
    "lower_bounds_saits_obs3_classification_subgroup, upper_bounds_saits_obs3_classification_subgroup = toolkits.calc_lower_and_upper_bound(results_bootstrap_saits_obs3_classification_subgroup, means_bootstraps_saits_obs3_classification_subgroup, standards_deviations_saits_obs3_classification_subgroup)\n",
    "\n",
    "print(lower_bounds_saits_obs3_classification_subgroup)\n",
    "print(upper_bounds_saits_obs3_classification_subgroup)"
   ]
  },
  {
   "cell_type": "code",
   "execution_count": 109,
   "metadata": {},
   "outputs": [
    {
     "name": "stdout",
     "output_type": "stream",
     "text": [
      "[np.float64(0.09197122917451109), np.float64(0.10864533313994013), np.float64(0.0), np.float64(0.0), np.float64(0.041572934649777814), np.float64(0.0), np.float64(0.09330420152930746)]\n",
      "[np.float64(3.00022367963562), np.float64(0.31846198470855486), np.float64(0.0), np.float64(0.38263871132432054), np.float64(0.5959809854230184), np.float64(0.6848965195437268), np.float64(0.15631952632364246)]\n"
     ]
    }
   ],
   "source": [
    "lower_bounds_saits_obs3_classification_subgroup, upper_bounds_saits_obs3_classification_subgroup = toolkits.calc_lower_and_upper_bound_percentile(results_bootstrap_saits_obs3_classification_subgroup)\n",
    "\n",
    "print(lower_bounds_saits_obs3_classification_subgroup)\n",
    "print(upper_bounds_saits_obs3_classification_subgroup)"
   ]
  },
  {
   "cell_type": "markdown",
   "metadata": {},
   "source": [
    "#### Mean values of lower bound and upper bound"
   ]
  },
  {
   "cell_type": "code",
   "execution_count": 110,
   "metadata": {},
   "outputs": [
    {
     "name": "stdout",
     "output_type": "stream",
     "text": [
      "[np.float64(1.5460974544050654), np.float64(0.2135536589242475), np.float64(0.0), np.float64(0.19131935566216027), np.float64(0.3187769600363981), np.float64(0.3424482597718634), np.float64(0.12481186392647496)]\n"
     ]
    }
   ],
   "source": [
    "mean_values_ci_saits_obs3_classification_subgroup  = toolkits.calc_mean_values_ci(lower_bounds_saits_obs3_classification_subgroup, upper_bounds_saits_obs3_classification_subgroup)\n",
    "\n",
    "print(mean_values_ci_saits_obs3_classification_subgroup)"
   ]
  },
  {
   "cell_type": "markdown",
   "metadata": {},
   "source": [
    "### Confidence Interval (Obesity subgroup)"
   ]
  },
  {
   "cell_type": "code",
   "execution_count": 54,
   "metadata": {},
   "outputs": [],
   "source": [
    "indices = [32, 0, 6, 31, 5, 1, 35]\n",
    "\n",
    "results_bootstrap_saits_obs3_classification_subgroup = []\n",
    "\n",
    "for i in indices:\n",
    "       results_bootstrap_saits_obs3_classification_subgroup.append(toolkits.bootstrap_v2(testing_ae_saits_variables_standard, indicating_mask_variable_standard_norm, 8, i, 9000))\n",
    "\n"
   ]
  },
  {
   "cell_type": "code",
   "execution_count": 55,
   "metadata": {},
   "outputs": [
    {
     "name": "stdout",
     "output_type": "stream",
     "text": [
      "[np.float64(0.3034675566699227), np.float64(0.37128772502346685), np.float64(1.227328997203076), np.float64(0.5441540087161867), np.float64(0.8005086131995904), np.float64(0.13224206350809875), np.float64(0.058576248661024316)]\n",
      "[np.float64(0.07366508116898239), np.float64(0.13777977709293526), np.float64(0.5815363479168615), np.float64(0.1695030965515837), np.float64(0.26507686121034296), np.float64(0.08729338124447372), np.float64(0.002934270640258915)]\n"
     ]
    }
   ],
   "source": [
    "means_bootstraps_saits_obs3_classification_subgroup, standards_deviations_saits_obs3_classification_subgroup = toolkits.calc_mean_and_standard_deviation(results_bootstrap_saits_obs3_classification_subgroup)\n",
    "\n",
    "print(means_bootstraps_saits_obs3_classification_subgroup)\n",
    "print(standards_deviations_saits_obs3_classification_subgroup)\n"
   ]
  },
  {
   "cell_type": "code",
   "execution_count": 56,
   "metadata": {},
   "outputs": [
    {
     "name": "stdout",
     "output_type": "stream",
     "text": [
      "[np.float64(0.1672897025433754), np.float64(0.17955651746199433), np.float64(0.0), np.float64(0.252581169122886), np.float64(0.33651928199329634), np.float64(0.03595718783553412), np.float64(0.0530949042269714)]\n",
      "[np.float64(0.455034747405991), np.float64(0.6929829025219347), np.float64(2.3429705405575723), np.float64(0.9093829874099302), np.float64(1.3662332160682222), np.float64(0.3368713899817319), np.float64(0.06464601922419128)]\n"
     ]
    }
   ],
   "source": [
    "lower_bounds_saits_obs3_classification_subgroup, upper_bounds_saits_obs3_classification_subgroup = toolkits.calc_lower_and_upper_bound_percentile(results_bootstrap_saits_obs3_classification_subgroup)\n",
    "\n",
    "print(lower_bounds_saits_obs3_classification_subgroup)\n",
    "print(upper_bounds_saits_obs3_classification_subgroup)"
   ]
  },
  {
   "cell_type": "code",
   "execution_count": 57,
   "metadata": {},
   "outputs": [
    {
     "name": "stdout",
     "output_type": "stream",
     "text": [
      "[np.float64(0.3111622249746832), np.float64(0.4362697099919645), np.float64(1.1714852702787861), np.float64(0.5809820782664081), np.float64(0.8513762490307593), np.float64(0.186414288908633), np.float64(0.05887046172558134)]\n"
     ]
    }
   ],
   "source": [
    "mean_values_ci_saits_obs3_classification_subgroup  = toolkits.calc_mean_values_ci(lower_bounds_saits_obs3_classification_subgroup, upper_bounds_saits_obs3_classification_subgroup)\n",
    "\n",
    "print(mean_values_ci_saits_obs3_classification_subgroup)"
   ]
  },
  {
   "cell_type": "markdown",
   "metadata": {},
   "source": [
    "## BRITS"
   ]
  },
  {
   "cell_type": "markdown",
   "metadata": {},
   "source": [
    "### Calculate MAE and AE"
   ]
  },
  {
   "cell_type": "code",
   "execution_count": 60,
   "metadata": {},
   "outputs": [],
   "source": [
    "testing_mae_brits_variables_standard, testing_ae_brits_variables_standard = toolkits.calculate_mae(brits_imputation_standard, test_X_ori_variable_standard_norm, indicating_mask_variable_standard_norm)"
   ]
  },
  {
   "cell_type": "markdown",
   "metadata": {},
   "source": [
    "### Taking the MAE difference for BRITS model"
   ]
  },
  {
   "cell_type": "markdown",
   "metadata": {},
   "source": [
    "#### Difference between gender group"
   ]
  },
  {
   "cell_type": "code",
   "execution_count": 112,
   "metadata": {},
   "outputs": [
    {
     "data": {
      "text/plain": [
       "[('Cholesterol', 0.33467020046017315),\n",
       " ('AST', 0.17888955772137866),\n",
       " ('TroponinI', 0.17526927063842523),\n",
       " ('Creatinine', 0.15555507367732185),\n",
       " ('Lactate', 0.0961695135309471)]"
      ]
     },
     "execution_count": 112,
     "metadata": {},
     "output_type": "execute_result"
    }
   ],
   "source": [
    "diff_brits_gender_subgroup = toolkits.diff_mae_top_5(testing_mae_brits_variables_standard, 1, 2, variables)\n",
    "diff_brits_gender_subgroup"
   ]
  },
  {
   "cell_type": "markdown",
   "metadata": {},
   "source": [
    "#### Difference between age group"
   ]
  },
  {
   "cell_type": "code",
   "execution_count": 113,
   "metadata": {},
   "outputs": [
    {
     "data": {
      "text/plain": [
       "[('ALP', 0.4455670614286247),\n",
       " ('TroponinI', 0.3868195082859647),\n",
       " ('Bilirubin', 0.23810434213767862),\n",
       " ('Cholesterol', 0.22772024967991167),\n",
       " ('Albumin', 0.13833296504538817)]"
      ]
     },
     "execution_count": 113,
     "metadata": {},
     "output_type": "execute_result"
    }
   ],
   "source": [
    "diff_brits_age_subgroup = toolkits.diff_mae_top_5(testing_mae_brits_variables_standard, 4, 5, variables)\n",
    "diff_brits_age_subgroup"
   ]
  },
  {
   "cell_type": "markdown",
   "metadata": {},
   "source": [
    "#### Difference between ICUType group"
   ]
  },
  {
   "cell_type": "code",
   "execution_count": 114,
   "metadata": {},
   "outputs": [],
   "source": [
    "diff_brits_ICUType_1_2 = toolkits.diff_mae_top_5(testing_mae_brits_variables_standard, 6, 7, variables)\n",
    "diff_brits_ICUType_1_3 = toolkits.diff_mae_top_5(testing_mae_brits_variables_standard, 6, 8, variables)\n",
    "diff_brits_ICUType_1_4 = toolkits.diff_mae_top_5(testing_mae_brits_variables_standard, 6, 9, variables)\n",
    "diff_brits_ICUType_2_3 = toolkits.diff_mae_top_5(testing_mae_brits_variables_standard, 7, 8, variables)\n",
    "diff_brits_ICUType_2_4 = toolkits.diff_mae_top_5(testing_mae_brits_variables_standard, 7, 9, variables)\n",
    "diff_brits_ICUType_3_4 = toolkits.diff_mae_top_5(testing_mae_brits_variables_standard, 8, 9, variables)"
   ]
  },
  {
   "cell_type": "code",
   "execution_count": 115,
   "metadata": {},
   "outputs": [
    {
     "name": "stdout",
     "output_type": "stream",
     "text": [
      "Diferença(MAE) ICUType 1 e 2\n",
      "----------------------------\n",
      "[('Cholesterol', 0.9649941105882632), ('TroponinI', 0.9581594407990047), ('TroponinT', 0.5486699079166011), ('Platelets', 0.2518916923226591), ('AST', 0.24124108598094132)]\n",
      "----------------------------\n",
      "Diferença(MAE) ICUType 1 e 3\n",
      "----------------------------\n",
      "[('SaO2', 1.0707510714622313), ('ALP', 0.9106143557497219), ('TroponinI', 0.7970523312899177), ('TroponinT', 0.4839761749137556), ('Cholesterol', 0.25934743317704234)]\n",
      "----------------------------\n",
      "Diferença(MAE) ICUType 1 e 4\n",
      "----------------------------\n",
      "[('TroponinI', 0.6343111242413422), ('TroponinT', 0.5409005868767687), ('Bilirubin', 0.2897210435032669), ('ALP', 0.26571689159730005), ('Cholesterol', 0.23623932465153985)]\n",
      "----------------------------\n",
      "Diferença(MAE) ICUType 2 e 3\n",
      "[('SaO2', 1.030567265690355), ('ALP', 0.88221080881332), ('Cholesterol', 0.7056466774112209), ('BUN', 0.33074673635065266), ('Platelets', 0.31153489001028306)]\n",
      "----------------------------\n",
      "Diferença(MAE) ICUType 2 e 4\n",
      "----------------------------\n",
      "[('Cholesterol', 0.7287547859367234), ('TroponinI', 0.32384831655766255), ('ALP', 0.2373133446608981), ('Temp', 0.1900485287590596), ('Platelets', 0.18685923821345124)]\n",
      "----------------------------\n",
      "Diferença(MAE) ICUType 3 e 4\n",
      "----------------------------\n",
      "[('SaO2', 1.150177876417555), ('ALP', 0.6448974641524219), ('Creatinine', 0.31463327772845084), ('BUN', 0.2703956466451219), ('Glucose', 0.2698321971553558)]\n",
      "----------------------------\n"
     ]
    }
   ],
   "source": [
    "print(\"Diferença(MAE) ICUType 1 e 2\")\n",
    "print(\"----------------------------\")\n",
    "print(diff_brits_ICUType_1_2)\n",
    "print(\"----------------------------\")\n",
    "print(\"Diferença(MAE) ICUType 1 e 3\")\n",
    "print(\"----------------------------\")\n",
    "print(diff_brits_ICUType_1_3)\n",
    "print(\"----------------------------\")\n",
    "print(\"Diferença(MAE) ICUType 1 e 4\")\n",
    "print(\"----------------------------\")\n",
    "print(diff_brits_ICUType_1_4)\n",
    "print(\"----------------------------\")\n",
    "print(\"Diferença(MAE) ICUType 2 e 3\")\n",
    "print(diff_brits_ICUType_2_3)\n",
    "print(\"----------------------------\")\n",
    "print(\"Diferença(MAE) ICUType 2 e 4\")\n",
    "print(\"----------------------------\")\n",
    "print(diff_brits_ICUType_2_4)\n",
    "print(\"----------------------------\")\n",
    "print(\"Diferença(MAE) ICUType 3 e 4\")\n",
    "print(\"----------------------------\")\n",
    "print(diff_brits_ICUType_3_4)\n",
    "print(\"----------------------------\")"
   ]
  },
  {
   "cell_type": "code",
   "execution_count": 116,
   "metadata": {},
   "outputs": [
    {
     "name": "stdout",
     "output_type": "stream",
     "text": [
      "Top 5 variáveis ICUType\n",
      "-----------------------\n",
      "SaO2\n",
      "ALP\n",
      "Cholesterol\n",
      "TroponinI\n",
      "TroponinT\n"
     ]
    }
   ],
   "source": [
    "print(\"Top 5 variáveis ICUType\")\n",
    "print(\"-----------------------\")\n",
    "print(variables[28])\n",
    "print(variables[0])\n",
    "print(variables[6])\n",
    "print(variables[31])\n",
    "print(variables[32])"
   ]
  },
  {
   "cell_type": "markdown",
   "metadata": {},
   "source": [
    "#### Difference between BMI group"
   ]
  },
  {
   "cell_type": "code",
   "execution_count": 117,
   "metadata": {},
   "outputs": [],
   "source": [
    "diff_brits_classification_undefined_low = toolkits.diff_mae_top_5(testing_mae_brits_variables_standard, 10, 11, variables)\n",
    "diff_brits_classification_undefined_normal = toolkits.diff_mae_top_5(testing_mae_brits_variables_standard, 10, 12, variables)\n",
    "diff_brits_classification_undefined_over = toolkits.diff_mae_top_5(testing_mae_brits_variables_standard, 10, 13, variables)\n",
    "diff_brits_classification_undefined_obs1 = toolkits.diff_mae_top_5(testing_mae_brits_variables_standard, 10, 14, variables)\n",
    "diff_brits_classification_undefined_obs2 = toolkits.diff_mae_top_5(testing_mae_brits_variables_standard, 10, 15, variables)\n",
    "diff_brits_classification_undefined_obs3 = toolkits.diff_mae_top_5(testing_mae_brits_variables_standard, 10, 16, variables)\n",
    "\n",
    "diff_brits_classification_low_normal = toolkits.diff_mae_top_5(testing_mae_brits_variables_standard, 11, 12, variables)\n",
    "diff_brits_classification_low_over = toolkits.diff_mae_top_5(testing_mae_brits_variables_standard, 11, 13, variables)\n",
    "diff_brits_classification_low_obs1 = toolkits.diff_mae_top_5(testing_mae_brits_variables_standard, 11, 14, variables)\n",
    "diff_brits_classification_low_obs2 = toolkits.diff_mae_top_5(testing_mae_brits_variables_standard, 11, 15, variables)\n",
    "diff_brits_classification_low_obs3 = toolkits.diff_mae_top_5(testing_mae_brits_variables_standard, 11, 16, variables)\n",
    "\n",
    "diff_brits_classification_normal_over = toolkits.diff_mae_top_5(testing_mae_brits_variables_standard, 12, 13, variables)\n",
    "diff_brits_classification_normal_obs1 = toolkits.diff_mae_top_5(testing_mae_brits_variables_standard, 12, 14, variables)\n",
    "diff_brits_classification_normal_obs2 = toolkits.diff_mae_top_5(testing_mae_brits_variables_standard, 12, 15, variables)\n",
    "diff_brits_classification_normal_obs3 = toolkits.diff_mae_top_5(testing_mae_brits_variables_standard, 12, 16, variables)\n",
    "\n",
    "diff_brits_classification_over_obs1 = toolkits.diff_mae_top_5(testing_mae_brits_variables_standard, 13, 14, variables)\n",
    "diff_brits_classification_over_obs2 = toolkits.diff_mae_top_5(testing_mae_brits_variables_standard, 13, 15, variables)\n",
    "diff_brits_classification_over_obs3 = toolkits.diff_mae_top_5(testing_mae_brits_variables_standard, 13, 16, variables)\n",
    "\n",
    "\n",
    "diff_brits_classification_obs1_obs2 = toolkits.diff_mae_top_5(testing_mae_brits_variables_standard, 14, 15, variables)\n",
    "diff_brits_classification_obs1_obs3 = toolkits.diff_mae_top_5(testing_mae_brits_variables_standard, 14, 16, variables)\n",
    "\n",
    "diff_brits_classification_obs2_obs3 = toolkits.diff_mae_top_5(testing_mae_brits_variables_standard, 15, 16, variables)"
   ]
  },
  {
   "cell_type": "code",
   "execution_count": 118,
   "metadata": {},
   "outputs": [
    {
     "name": "stdout",
     "output_type": "stream",
     "text": [
      "Diferença(MAE) Classification Undefined and low\n",
      "----------------------------\n",
      "[('ALP', 1.9340447366419231), ('Bilirubin', 1.0634205379618589), ('TroponinI', 0.8461866959272529), ('Cholesterol', 0.46427180720735495), ('Lactate', 0.432934002045685)]\n",
      "----------------------------\n",
      "Diferença(MAE) Classification Undefined and normal\n",
      "----------------------------\n",
      "[('SaO2', 0.3956365150352539), ('Cholesterol', 0.31334687951493556), ('TroponinI', 0.2811986010883921), ('Platelets', 0.21973579409347943), ('ALP', 0.14108821471054112)]\n",
      "----------------------------\n",
      "Diferença(MAE) Classification Undefined and over\n",
      "----------------------------\n",
      "[('Cholesterol', 0.9122714170407268), ('SaO2', 0.2216147767636339), ('Bilirubin', 0.21564253602217226), ('TroponinI', 0.20102396419219326), ('ALT', 0.19595996986933695)]\n",
      "----------------------------\n",
      "Diferença(MAE) Classification Undefined and obs1\n",
      "[('Ph', 0.8860429007708258), ('TroponinI', 0.27796277400600267), ('SaO2', 0.2630706443883271), ('Albumin', 0.21946608524990074), ('Na', 0.1773159978319725)]\n",
      "----------------------------\n",
      "Diferença(MAE) Classification Undefined and obs2\n",
      "----------------------------\n",
      "[('TroponinT', 1.1935688949607661), ('TroponinI', 0.8461866959272529), ('Cholesterol', 0.37516456887030153), ('ALT', 0.2702448869727391), ('Platelets', 0.23498047503103403)]\n",
      "----------------------------\n",
      "Diferença(MAE) ICUType Undefined and obs3\n",
      "----------------------------\n",
      "[('TroponinT', 0.8872768477337822), ('ALT', 0.7773832992509336), ('Cholesterol', 0.5742665081334534), ('TroponinI', 0.4540744819672411), ('Platelets', 0.31707612702208643)]\n",
      "----------------------------\n"
     ]
    }
   ],
   "source": [
    "print(\"Diferença(MAE) Classification Undefined and low\")\n",
    "print(\"----------------------------\")\n",
    "print(diff_brits_classification_undefined_low)\n",
    "print(\"----------------------------\")\n",
    "print(\"Diferença(MAE) Classification Undefined and normal\")\n",
    "print(\"----------------------------\")\n",
    "print(diff_brits_classification_undefined_normal)\n",
    "print(\"----------------------------\")\n",
    "print(\"Diferença(MAE) Classification Undefined and over\")\n",
    "print(\"----------------------------\")\n",
    "print(diff_brits_classification_undefined_over)\n",
    "print(\"----------------------------\")\n",
    "print(\"Diferença(MAE) Classification Undefined and obs1\")\n",
    "print(diff_brits_classification_undefined_obs1)\n",
    "print(\"----------------------------\")\n",
    "print(\"Diferença(MAE) Classification Undefined and obs2\")\n",
    "print(\"----------------------------\")\n",
    "print(diff_brits_classification_undefined_obs2)\n",
    "print(\"----------------------------\")\n",
    "print(\"Diferença(MAE) ICUType Undefined and obs3\")\n",
    "print(\"----------------------------\")\n",
    "print(diff_brits_classification_undefined_obs3)\n",
    "print(\"----------------------------\")"
   ]
  },
  {
   "cell_type": "code",
   "execution_count": 119,
   "metadata": {},
   "outputs": [
    {
     "name": "stdout",
     "output_type": "stream",
     "text": [
      "Diferença(MAE) Classification low and normal\n",
      "----------------------------\n",
      "[('ALP', 1.7929565219313819), ('Bilirubin', 0.9513305382204593), ('Cholesterol', 0.7776186867222905), ('SaO2', 0.6685476719781142), ('TroponinI', 0.5649880948388608)]\n",
      "----------------------------\n",
      "Diferença(MAE) Classification low and over\n",
      "----------------------------\n",
      "[('ALP', 2.060865479901618), ('Cholesterol', 1.3765432242480817), ('Bilirubin', 1.2790630739840312), ('TroponinI', 1.0472106601194462), ('Glucose', 0.40732195398769067)]\n",
      "----------------------------\n",
      "Diferença(MAE) Classification low and obs1\n",
      "----------------------------\n",
      "[('ALP', 2.0338878789564587), ('Bilirubin', 1.0689277903377052), ('Ph', 0.8810842114333002), ('TroponinI', 0.5682239219212503), ('Glucose', 0.5610521608500285)]\n",
      "----------------------------\n",
      "Diferença(MAE) Classification low and obs2\n",
      "[('ALP', 2.083344030352053), ('Bilirubin', 1.189908383818061), ('TroponinT', 0.8194450582455736), ('AST', 0.44272365749481374), ('HCO3', 0.4344701818197551)]\n",
      "----------------------------\n",
      "Diferença(MAE) Classification low and obs3\n",
      "----------------------------\n",
      "[('ALP', 2.1889212290227005), ('Bilirubin', 1.2671260518566911), ('ALT', 0.784498137838622), ('TroponinT', 0.5131530110185897), ('AST', 0.4166938681962047)]\n",
      "----------------------------\n"
     ]
    }
   ],
   "source": [
    "print(\"Diferença(MAE) Classification low and normal\")\n",
    "print(\"----------------------------\")\n",
    "print(diff_brits_classification_low_normal)\n",
    "print(\"----------------------------\")\n",
    "print(\"Diferença(MAE) Classification low and over\")\n",
    "print(\"----------------------------\")\n",
    "print(diff_brits_classification_low_over)\n",
    "print(\"----------------------------\")\n",
    "print(\"Diferença(MAE) Classification low and obs1\")\n",
    "print(\"----------------------------\")\n",
    "print(diff_brits_classification_low_obs1)\n",
    "print(\"----------------------------\")\n",
    "print(\"Diferença(MAE) Classification low and obs2\")\n",
    "print(diff_brits_classification_low_obs2)\n",
    "print(\"----------------------------\")\n",
    "print(\"Diferença(MAE) Classification low and obs3\")\n",
    "print(\"----------------------------\")\n",
    "print(diff_brits_classification_low_obs3)\n",
    "print(\"----------------------------\")"
   ]
  },
  {
   "cell_type": "code",
   "execution_count": 120,
   "metadata": {},
   "outputs": [
    {
     "name": "stdout",
     "output_type": "stream",
     "text": [
      "Diferença(MAE) Classification normal and over\n",
      "----------------------------\n",
      "[('SaO2', 0.6172512917988877), ('Cholesterol', 0.5989245375257912), ('TroponinI', 0.4822225652805854), ('Bilirubin', 0.32773253576357175), ('ALT', 0.2736328573496928)]\n",
      "----------------------------\n",
      "Diferença(MAE) Classification normal and obs1\n",
      "----------------------------\n",
      "[('Ph', 0.8903667412858379), ('SaO2', 0.6587071594235809), ('Cholesterol', 0.36517235893560385), ('Albumin', 0.2900474046493634), ('ALP', 0.24093135702507662)]\n",
      "----------------------------\n",
      "Diferença(MAE) Classification normal and obs2\n",
      "----------------------------\n",
      "[('TroponinT', 1.220432293290763), ('Cholesterol', 0.688511448385237), ('TroponinI', 0.5649880948388608), ('SaO2', 0.4915174467035355), ('ALT', 0.3479177744530949)]\n",
      "----------------------------\n",
      "Diferença(MAE) Classification normal and obs3\n",
      "[('TroponinT', 0.9141402460637791), ('Cholesterol', 0.8876133876483889), ('ALT', 0.8550561867312895), ('SaO2', 0.5055719721885107), ('ALP', 0.3959647070913184)]\n",
      "----------------------------\n"
     ]
    }
   ],
   "source": [
    "print(\"Diferença(MAE) Classification normal and over\")\n",
    "print(\"----------------------------\")\n",
    "print(diff_brits_classification_normal_over)\n",
    "print(\"----------------------------\")\n",
    "print(\"Diferença(MAE) Classification normal and obs1\")\n",
    "print(\"----------------------------\")\n",
    "print(diff_brits_classification_normal_obs1)\n",
    "print(\"----------------------------\")\n",
    "print(\"Diferença(MAE) Classification normal and obs2\")\n",
    "print(\"----------------------------\")\n",
    "print(diff_brits_classification_normal_obs2)\n",
    "print(\"----------------------------\")\n",
    "print(\"Diferença(MAE) Classification normal and obs3\")\n",
    "print(diff_brits_classification_normal_obs3)\n",
    "print(\"----------------------------\")"
   ]
  },
  {
   "cell_type": "code",
   "execution_count": 121,
   "metadata": {},
   "outputs": [
    {
     "name": "stdout",
     "output_type": "stream",
     "text": [
      "Diferença(MAE) Classification over and obs1\n",
      "----------------------------\n",
      "[('Cholesterol', 0.9640968964613951), ('Ph', 0.8905324606918038), ('TroponinI', 0.4789867381981959), ('ALT', 0.28228479496676956), ('Bilirubin', 0.2101352836463259)]\n",
      "----------------------------\n",
      "Diferença(MAE) Classification over and obs2\n",
      "----------------------------\n",
      "[('Cholesterol', 1.2874359859110283), ('TroponinI', 1.0472106601194462), ('TroponinT', 1.0262220986441177), ('AST', 0.21817186815478096), ('BUN', 0.19186305260550485)]\n",
      "----------------------------\n",
      "Diferença(MAE) Classification over and obs3\n",
      "----------------------------\n",
      "[('Cholesterol', 1.4865379251741802), ('TroponinT', 0.7199300514171338), ('TroponinI', 0.6550984461594344), ('ALT', 0.5814233293815967), ('Glucose', 0.23574108257412307)]\n",
      "----------------------------\n"
     ]
    }
   ],
   "source": [
    "print(\"Diferença(MAE) Classification over and obs1\")\n",
    "print(\"----------------------------\")\n",
    "print(diff_brits_classification_over_obs1)\n",
    "print(\"----------------------------\")\n",
    "print(\"Diferença(MAE) Classification over and obs2\")\n",
    "print(\"----------------------------\")\n",
    "print(diff_brits_classification_over_obs2)\n",
    "print(\"----------------------------\")\n",
    "print(\"Diferença(MAE) Classification over and obs3\")\n",
    "print(\"----------------------------\")\n",
    "print(diff_brits_classification_over_obs3)\n",
    "print(\"----------------------------\")"
   ]
  },
  {
   "cell_type": "code",
   "execution_count": 122,
   "metadata": {},
   "outputs": [
    {
     "name": "stdout",
     "output_type": "stream",
     "text": [
      "Diferença(MAE) Classification obs1 and obs2 \n",
      "----------------------------\n",
      "[('TroponinT', 1.193502313404874), ('Ph', 0.8867898203626943), ('TroponinI', 0.5682239219212503), ('ALT', 0.3565697120701717), ('Cholesterol', 0.32333908944963324)]\n",
      "----------------------------\n",
      "Diferença(MAE) Classification obs1 and obs3 \n",
      "----------------------------\n",
      "[('Ph', 0.8897412963473199), ('TroponinT', 0.88721026617789), ('ALT', 0.8637081243483662), ('Cholesterol', 0.5224410287127851), ('Glucose', 0.38947128943646087)]\n",
      "----------------------------\n"
     ]
    }
   ],
   "source": [
    "print(\"Diferença(MAE) Classification obs1 and obs2 \")\n",
    "print(\"----------------------------\")\n",
    "print(diff_brits_classification_obs1_obs2)\n",
    "print(\"----------------------------\")\n",
    "print(\"Diferença(MAE) Classification obs1 and obs3 \")\n",
    "print(\"----------------------------\")\n",
    "print(diff_brits_classification_obs1_obs3)\n",
    "print(\"----------------------------\")"
   ]
  },
  {
   "cell_type": "code",
   "execution_count": 123,
   "metadata": {},
   "outputs": [
    {
     "name": "stdout",
     "output_type": "stream",
     "text": [
      "Diferença(MAE) Classification obs2 and obs3 \n",
      "----------------------------\n",
      "[('ALT', 0.5071384122781946), ('TroponinI', 0.39211221396001184), ('TroponinT', 0.3062920472269839), ('HCO3', 0.23358518974369696), ('Glucose', 0.20095366197425335)]\n",
      "----------------------------\n"
     ]
    }
   ],
   "source": [
    "print(\"Diferença(MAE) Classification obs2 and obs3 \")\n",
    "print(\"----------------------------\")\n",
    "print(diff_brits_classification_obs2_obs3)\n",
    "print(\"----------------------------\")"
   ]
  },
  {
   "cell_type": "code",
   "execution_count": 124,
   "metadata": {},
   "outputs": [
    {
     "name": "stdout",
     "output_type": "stream",
     "text": [
      "Top 5 variáveis BMI\n",
      "-----------------------\n",
      "ALP\n",
      "Cholesterol\n",
      "TroponinT\n",
      "TroponinI\n",
      "Bilirubin\n"
     ]
    }
   ],
   "source": [
    "print(\"Top 5 variáveis BMI\")\n",
    "print(\"-----------------------\")\n",
    "print(variables[0])\n",
    "print(variables[6])\n",
    "print(variables[32])\n",
    "print(variables[31])\n",
    "print(variables[5])"
   ]
  },
  {
   "cell_type": "markdown",
   "metadata": {},
   "source": [
    "### Confidence Interval (General)(variable)"
   ]
  },
  {
   "cell_type": "markdown",
   "metadata": {},
   "source": [
    "#### Distribution Bootstrap per variable"
   ]
  },
  {
   "cell_type": "code",
   "execution_count": 28,
   "metadata": {},
   "outputs": [],
   "source": [
    "results_bootstrap_brits_general = []\n",
    "\n",
    "for i in range(len(variables)):\n",
    "       results_bootstrap_brits_general.append(toolkits.bootstrap_v2(testing_ae_brits_variables_standard, indicating_mask_variable_standard_norm, 0, i, 9000))"
   ]
  },
  {
   "cell_type": "markdown",
   "metadata": {},
   "source": [
    "#### Calculating lower bound and upper bound"
   ]
  },
  {
   "cell_type": "code",
   "execution_count": 29,
   "metadata": {},
   "outputs": [
    {
     "name": "stdout",
     "output_type": "stream",
     "text": [
      "[np.float64(0.32538627159459327), np.float64(0.16258679089089118), np.float64(0.15478905875444485), np.float64(0.5744084158025771), np.float64(0.3616311896320276), np.float64(0.2906151814149565), np.float64(0.6434380620957643), np.float64(0.3022046634073629), np.float64(0.20478965898756366), np.float64(0.3393442600555267), np.float64(0.20910049288260976), np.float64(0.5193110405597358), np.float64(0.4842090575488685), np.float64(0.6787845984140315), np.float64(0.24036621951397508), np.float64(0.6120427371840028), np.float64(0.41747645646717085), np.float64(0.14623547110740304), np.float64(0.001227222967261528), np.float64(0.5385050815383894), np.float64(0.1888417502786607), np.float64(0.10076061634199096), np.float64(0.27109218051427525), np.float64(0.6132163460258868), np.float64(0.46957984924039886), np.float64(0.45504042706424874), np.float64(0.640492041914929), np.float64(0.45851394435041976), np.float64(0.2856337697558636), np.float64(0.24699368119691656), np.float64(0.2265736265649024), np.float64(0.5031185912306969), np.float64(0.2543888762416601), np.float64(0.3184101588527675), np.float64(0.10406102516007254), np.float64(0.05457360345761016), np.float64(0.03582217980346104)]\n",
      "[np.float64(0.6749023091795333), np.float64(0.37339125642908505), np.float64(0.42934653888386165), np.float64(0.7263459135898617), np.float64(0.4322114453339482), np.float64(0.5232004294346787), np.float64(1.1601545397373767), np.float64(0.39412702409271566), np.float64(0.2273690435334216), np.float64(0.38489362331847543), np.float64(0.22905447578838553), np.float64(0.615586201171813), np.float64(0.5425808084814606), np.float64(0.7473421162083261), np.float64(0.25085143043833524), np.float64(0.696937583811367), np.float64(0.5247515378954989), np.float64(0.18558400390206356), np.float64(0.0013225480214906476), np.float64(0.6574100201999598), np.float64(0.20415082807618198), np.float64(0.11229530213027461), np.float64(0.29276102003297466), np.float64(0.6960872027614764), np.float64(1.264786539391886), np.float64(0.5160753387726943), np.float64(0.7307982045155988), np.float64(0.49020625492571496), np.float64(0.41948883990636815), np.float64(0.2694295388667129), np.float64(0.26901476099617966), np.float64(0.9122734087235731), np.float64(0.40914680156462285), np.float64(0.3502198773896136), np.float64(0.12049924954551783), np.float64(0.06987804836148796), np.float64(0.2205935729890137)]\n"
     ]
    }
   ],
   "source": [
    "lower_bounds_brits_general, upper_bounds_brits_general = toolkits.calc_lower_and_upper_bound_percentile(results_bootstrap_brits_general)\n",
    "\n",
    "print(lower_bounds_brits_general)\n",
    "print(upper_bounds_brits_general)"
   ]
  },
  {
   "cell_type": "markdown",
   "metadata": {},
   "source": [
    "#### Mean values of lower bound and upper bound\n"
   ]
  },
  {
   "cell_type": "code",
   "execution_count": 30,
   "metadata": {},
   "outputs": [
    {
     "name": "stdout",
     "output_type": "stream",
     "text": [
      "[np.float64(0.5001442903870633), np.float64(0.2679890236599881), np.float64(0.29206779881915323), np.float64(0.6503771646962193), np.float64(0.39692131748298787), np.float64(0.40690780542481764), np.float64(0.9017963009165705), np.float64(0.3481658437500393), np.float64(0.21607935126049263), np.float64(0.3621189416870011), np.float64(0.21907748433549765), np.float64(0.5674486208657743), np.float64(0.5133949330151646), np.float64(0.7130633573111789), np.float64(0.24560882497615516), np.float64(0.6544901604976849), np.float64(0.47111399718133484), np.float64(0.1659097375047333), np.float64(0.0012748854943760877), np.float64(0.5979575508691746), np.float64(0.19649628917742135), np.float64(0.10652795923613279), np.float64(0.2819266002736249), np.float64(0.6546517743936816), np.float64(0.8671831943161424), np.float64(0.4855578829184715), np.float64(0.6856451232152639), np.float64(0.47436009963806736), np.float64(0.35256130483111586), np.float64(0.2582116100318147), np.float64(0.24779419378054102), np.float64(0.7076959999771351), np.float64(0.3317678389031415), np.float64(0.3343150181211906), np.float64(0.11228013735279518), np.float64(0.06222582590954906), np.float64(0.12820787639623737)]\n"
     ]
    }
   ],
   "source": [
    "mean_values_ci_brits_general = toolkits.calc_mean_values_ci(lower_bounds_brits_general, upper_bounds_brits_general)\n",
    "\n",
    "print(mean_values_ci_brits_general)"
   ]
  },
  {
   "cell_type": "markdown",
   "metadata": {},
   "source": [
    "### Confidence Interval (Female Subgroup)"
   ]
  },
  {
   "cell_type": "markdown",
   "metadata": {},
   "source": [
    "#### Distribution Bootstrap for the Top 5 variables with Largest Differences in MAE (Mean Absolute Error) "
   ]
  },
  {
   "cell_type": "code",
   "execution_count": 125,
   "metadata": {},
   "outputs": [],
   "source": [
    "indices = [6, 31, 28, 16, 33, 2, 7, 15, 5, 2, 35, 24]\n",
    "\n",
    "results_bootstrap_brits_female = []\n",
    "\n",
    "for i in indices:\n",
    "       results_bootstrap_brits_female.append(toolkits.bootstrap_v2(testing_ae_brits_variables_standard, indicating_mask_variable_standard_norm, 1, i, 9000))"
   ]
  },
  {
   "cell_type": "markdown",
   "metadata": {},
   "source": [
    "#### Calculating the mean and standard deviation of the bootstrap distribution"
   ]
  },
  {
   "cell_type": "code",
   "execution_count": 126,
   "metadata": {},
   "outputs": [
    {
     "name": "stdout",
     "output_type": "stream",
     "text": [
      "[np.float64(1.179863930834408), np.float64(0.5233882194493867), np.float64(0.5669394454773564), np.float64(0.4262927607316525), np.float64(0.2927745387996273), np.float64(0.30161012783732477), np.float64(0.2520432195506154), np.float64(0.6740430489599522), np.float64(0.29792444872181434), np.float64(0.2996217790430212), np.float64(0.060521396312743225), np.float64(0.5075399124539731)]\n",
      "[np.float64(0.33967759869351355), np.float64(0.07230701862030067), np.float64(0.13940375834716123), np.float64(0.03847644149074913), np.float64(0.008670900439200447), np.float64(0.0848645872760513), np.float64(0.024759857939583314), np.float64(0.03441311480209853), np.float64(0.06605797747312059), np.float64(0.08435135157044552), np.float64(0.004754151191010087), np.float64(0.021740570722039883)]\n"
     ]
    }
   ],
   "source": [
    "means_bootstraps_brits_female,standards_deviations_brits_female = toolkits.calc_mean_and_standard_deviation(results_bootstrap_brits_female)\n",
    "\n",
    "print(means_bootstraps_brits_female)\n",
    "print(standards_deviations_brits_female)\n"
   ]
  },
  {
   "cell_type": "markdown",
   "metadata": {},
   "source": [
    "#### Calculating lower bound and upper bound"
   ]
  },
  {
   "cell_type": "code",
   "execution_count": 127,
   "metadata": {},
   "outputs": [
    {
     "name": "stdout",
     "output_type": "stream",
     "text": [
      "[np.float64(0.5141080710400718), np.float64(0.38166906712413035), np.float64(0.29371309980739546), np.float64(0.35088032115652157), np.float64(0.2757798862252619), np.float64(0.1352785932134081), np.float64(0.20351478972670403), np.float64(0.6065945833519968), np.float64(0.1684531919829398), np.float64(0.13429616791767185), np.float64(0.05120343120130525), np.float64(0.464929176835429)]\n",
      "[np.float64(1.8456197906287444), np.float64(0.6651073717746432), np.float64(0.8401657911473174), np.float64(0.5017052003067834), np.float64(0.30976919137399267), np.float64(0.46794166246124147), np.float64(0.30057164937452685), np.float64(0.7414915145679075), np.float64(0.4273957054606889), np.float64(0.4649473901683705), np.float64(0.0698393614241812), np.float64(0.5501506480725172)]\n"
     ]
    }
   ],
   "source": [
    "lower_bounds_brits_female, upper_bounds_brits_female = toolkits.calc_lower_and_upper_bound(results_bootstrap_brits_female, means_bootstraps_brits_female,standards_deviations_brits_female)\n",
    "\n",
    "print(lower_bounds_brits_female)\n",
    "print(upper_bounds_brits_female)"
   ]
  },
  {
   "cell_type": "code",
   "execution_count": 128,
   "metadata": {},
   "outputs": [
    {
     "name": "stdout",
     "output_type": "stream",
     "text": [
      "[np.float64(0.4968807905077575), np.float64(0.38193937258413285), np.float64(0.32993095168375397), np.float64(0.3549349251700391), np.float64(0.27620089719597324), np.float64(0.16091099800584968), np.float64(0.20714247470515038), np.float64(0.6097020735297847), np.float64(0.18469541164541012), np.float64(0.15861808082118425), np.float64(0.05168324294505243), np.float64(0.4662975796151602)]\n",
      "[np.float64(1.8393478124459337), np.float64(0.6682822710147335), np.float64(0.8757607526086687), np.float64(0.5049085262899291), np.float64(0.31004767626972984), np.float64(0.4877700875445269), np.float64(0.30484660206533915), np.float64(0.7450377725488991), np.float64(0.4418350473462839), np.float64(0.48734408360396114), np.float64(0.07025076961204074), np.float64(0.5509092356408299)]\n"
     ]
    }
   ],
   "source": [
    "lower_bounds_brits_female, upper_bounds_brits_female = toolkits.calc_lower_and_upper_bound_percentile(results_bootstrap_brits_female)\n",
    "\n",
    "print(lower_bounds_brits_female)\n",
    "print(upper_bounds_brits_female)"
   ]
  },
  {
   "cell_type": "markdown",
   "metadata": {},
   "source": [
    "#### Mean values of lower bound and upper bound\n"
   ]
  },
  {
   "cell_type": "code",
   "execution_count": 129,
   "metadata": {},
   "outputs": [
    {
     "name": "stdout",
     "output_type": "stream",
     "text": [
      "[np.float64(1.1681143014768456), np.float64(0.5251108217994331), np.float64(0.6028458521462113), np.float64(0.4299217257299841), np.float64(0.2931242867328515), np.float64(0.3243405427751883), np.float64(0.2559945383852448), np.float64(0.677369923039342), np.float64(0.313265229495847), np.float64(0.3229810822125727), np.float64(0.060967006278546586), np.float64(0.508603407627995)]\n"
     ]
    }
   ],
   "source": [
    "mean_values_ci_brits_female = toolkits.calc_mean_values_ci(lower_bounds_brits_female, upper_bounds_brits_female)\n",
    "\n",
    "print(mean_values_ci_brits_female)"
   ]
  },
  {
   "cell_type": "markdown",
   "metadata": {},
   "source": [
    "### Confidence Interval (Male Subgroup)"
   ]
  },
  {
   "cell_type": "markdown",
   "metadata": {},
   "source": [
    "#### Distribution Bootstrap for the Top 5 variables with Largest Differences in MAE (Mean Absolute Error) "
   ]
  },
  {
   "cell_type": "code",
   "execution_count": 59,
   "metadata": {},
   "outputs": [
    {
     "ename": "NameError",
     "evalue": "name 'testing_ae_brits_variables_standard' is not defined",
     "output_type": "error",
     "traceback": [
      "\u001b[31m---------------------------------------------------------------------------\u001b[39m",
      "\u001b[31mNameError\u001b[39m                                 Traceback (most recent call last)",
      "\u001b[36mCell\u001b[39m\u001b[36m \u001b[39m\u001b[32mIn[59]\u001b[39m\u001b[32m, line 6\u001b[39m\n\u001b[32m      3\u001b[39m results_bootstrap_brits_male = []\n\u001b[32m      5\u001b[39m \u001b[38;5;28;01mfor\u001b[39;00m i \u001b[38;5;129;01min\u001b[39;00m indices:\n\u001b[32m----> \u001b[39m\u001b[32m6\u001b[39m        results_bootstrap_brits_male.append(toolkits.bootstrap_v2(\u001b[43mtesting_ae_brits_variables_standard\u001b[49m, indicating_mask_variable_standard_norm, \u001b[32m2\u001b[39m, i, \u001b[32m9000\u001b[39m))\n",
      "\u001b[31mNameError\u001b[39m: name 'testing_ae_brits_variables_standard' is not defined"
     ]
    }
   ],
   "source": [
    "indices = [6, 31, 28, 16, 33, 2, 7, 15, 5, 2, 35, 24]\n",
    "\n",
    "results_bootstrap_brits_male = []\n",
    "\n",
    "for i in indices:\n",
    "       results_bootstrap_brits_male.append(toolkits.bootstrap_v2(testing_ae_brits_variables_standard, indicating_mask_variable_standard_norm, 2, i, 9000))"
   ]
  },
  {
   "cell_type": "markdown",
   "metadata": {},
   "source": [
    "#### Calculating the mean and standard deviation of the bootstrap distribution"
   ]
  },
  {
   "cell_type": "code",
   "execution_count": 131,
   "metadata": {},
   "outputs": [
    {
     "name": "stdout",
     "output_type": "stream",
     "text": [
      "[np.float64(0.854312785965969), np.float64(0.69793226655648), np.float64(0.5788874609838146), np.float64(0.5218477147546687), np.float64(0.3547467656480773), np.float64(0.12182354571033481), np.float64(0.4073172652594466), np.float64(0.6193417493863396), np.float64(0.28308368574229126), np.float64(0.12197737498234233), np.float64(0.05506604203706228), np.float64(0.4785682671425299)]\n",
      "[np.float64(0.17112048417178624), np.float64(0.20950734713753777), np.float64(0.2222638014715227), np.float64(0.04261663101563413), np.float64(0.011539284042436456), np.float64(0.02574568952633491), np.float64(0.03829764363415067), np.float64(0.026269546181583104), np.float64(0.04821267153960221), np.float64(0.02561385052707165), np.float64(0.0033874977733877112), np.float64(0.018186917981419373)]\n"
     ]
    }
   ],
   "source": [
    "means_bootstraps_brits_male,standards_deviations_brits_male = toolkits.calc_mean_and_standard_deviation(results_bootstrap_brits_male)\n",
    "\n",
    "print(means_bootstraps_brits_male)\n",
    "print(standards_deviations_brits_male)\n"
   ]
  },
  {
   "cell_type": "markdown",
   "metadata": {},
   "source": [
    "#### Calculating lower bound and upper bound"
   ]
  },
  {
   "cell_type": "code",
   "execution_count": 132,
   "metadata": {},
   "outputs": [
    {
     "name": "stdout",
     "output_type": "stream",
     "text": [
      "[np.float64(0.5189227999722117), np.float64(0.2873054116703752), np.float64(0.14325841503266945), np.float64(0.4383206528215932), np.float64(0.3321301845175241), np.float64(0.07136292148156831), np.float64(0.33225526304376163), np.float64(0.567854384980225), np.float64(0.18858858592621164), np.float64(0.07177515044388962), np.float64(0.04842666840351274), np.float64(0.44292256290916404)]\n",
      "[np.float64(1.1897027719597264), np.float64(1.1085591214425847), np.float64(1.0145165069349598), np.float64(0.6053747766877442), np.float64(0.3773633467786305), np.float64(0.1722841699391013), np.float64(0.4823792674751316), np.float64(0.6708291137924541), np.float64(0.3775787855583709), np.float64(0.17217959952079503), np.float64(0.061705415670611816), np.float64(0.5142139713758958)]\n"
     ]
    }
   ],
   "source": [
    "lower_bounds_brits_male, upper_bounds_brits_male = toolkits.calc_lower_and_upper_bound(results_bootstrap_brits_male, means_bootstraps_brits_male,standards_deviations_brits_male)\n",
    "\n",
    "print(lower_bounds_brits_male)\n",
    "print(upper_bounds_brits_male)"
   ]
  },
  {
   "cell_type": "code",
   "execution_count": 133,
   "metadata": {},
   "outputs": [
    {
     "name": "stdout",
     "output_type": "stream",
     "text": [
      "[np.float64(0.5301380329394242), np.float64(0.32927026897220596), np.float64(0.3079566108428539), np.float64(0.44188543304379085), np.float64(0.3333570075193866), np.float64(0.07656795703837219), np.float64(0.3343701939070786), np.float64(0.568717674572388), np.float64(0.1973842219941603), np.float64(0.07716981633329767), np.float64(0.04862952157381154), np.float64(0.44360949397630695)]\n",
      "[np.float64(1.199117427080588), np.float64(1.155415750712769), np.float64(1.0880867890273216), np.float64(0.6065284197132054), np.float64(0.37796334312292557), np.float64(0.1770223180266911), np.float64(0.48572637424963916), np.float64(0.6717754724053021), np.float64(0.38535063725911683), np.float64(0.1773071477410518), np.float64(0.06191062058012285), np.float64(0.5153353845843236)]\n"
     ]
    }
   ],
   "source": [
    "lower_bounds_brits_male, upper_bounds_brits_male = toolkits.calc_lower_and_upper_bound_percentile(results_bootstrap_brits_male)\n",
    "\n",
    "print(lower_bounds_brits_male)\n",
    "print(upper_bounds_brits_male)"
   ]
  },
  {
   "cell_type": "markdown",
   "metadata": {},
   "source": [
    "#### Mean values of lower bound and upper bound\n"
   ]
  },
  {
   "cell_type": "code",
   "execution_count": 134,
   "metadata": {},
   "outputs": [
    {
     "name": "stdout",
     "output_type": "stream",
     "text": [
      "[np.float64(0.864627730010006), np.float64(0.7423430098424875), np.float64(0.6980216999350878), np.float64(0.5242069263784981), np.float64(0.35566017532115607), np.float64(0.12679513753253163), np.float64(0.4100482840783589), np.float64(0.620246573488845), np.float64(0.2913674296266386), np.float64(0.12723848203717475), np.float64(0.0552700710769672), np.float64(0.47947243928031524)]\n"
     ]
    }
   ],
   "source": [
    "mean_values_ci_brits_male = toolkits.calc_mean_values_ci(lower_bounds_brits_male, upper_bounds_brits_male)\n",
    "\n",
    "print(mean_values_ci_brits_male)"
   ]
  },
  {
   "cell_type": "markdown",
   "metadata": {},
   "source": [
    "### Confidence Interval (+65 Subgroup)"
   ]
  },
  {
   "cell_type": "markdown",
   "metadata": {},
   "source": [
    "#### Distribution Bootstrap for the Top 5 variables with Largest Differences in MAE (Mean Absolute Error) "
   ]
  },
  {
   "cell_type": "code",
   "execution_count": 135,
   "metadata": {},
   "outputs": [],
   "source": [
    "indices = [6, 32, 0, 28, 5, 31, 3]\n",
    "\n",
    "results_bootstrap_brits_more_than_or_equal_to_65_subgroup = []\n",
    "\n",
    "for i in indices:\n",
    "       results_bootstrap_brits_more_than_or_equal_to_65_subgroup.append(toolkits.bootstrap_v2(testing_ae_brits_variables_standard, indicating_mask_variable_standard_norm, 4, i, 9000))\n"
   ]
  },
  {
   "cell_type": "markdown",
   "metadata": {},
   "source": [
    "#### Calculating the mean and standard deviation of the bootstrap distribution"
   ]
  },
  {
   "cell_type": "code",
   "execution_count": 136,
   "metadata": {},
   "outputs": [
    {
     "name": "stdout",
     "output_type": "stream",
     "text": [
      "[np.float64(0.662244906270694), np.float64(0.33551822688304433), np.float64(0.6362342133086535), np.float64(0.6383574162849505), np.float64(0.23878634109180352), np.float64(0.924878783743687), np.float64(0.5731951031171467)]\n",
      "[np.float64(0.08841667646254166), np.float64(0.0631813692473505), np.float64(0.14098598742203416), np.float64(0.24085299923210227), np.float64(0.025378362701790873), np.float64(0.2879896525743772), np.float64(0.0619036891476668)]\n"
     ]
    }
   ],
   "source": [
    "means_bootstraps_brits_more_than_or_equal_to_65_subgroup,standards_deviations_brits_more_than_or_equal_to_65_subgroup = toolkits.calc_mean_and_standard_deviation(results_bootstrap_brits_more_than_or_equal_to_65_subgroup)\n",
    "\n",
    "print(means_bootstraps_brits_more_than_or_equal_to_65_subgroup)\n",
    "print(standards_deviations_brits_more_than_or_equal_to_65_subgroup)"
   ]
  },
  {
   "cell_type": "markdown",
   "metadata": {},
   "source": [
    "#### Calculating lower bound and upper bound\n"
   ]
  },
  {
   "cell_type": "code",
   "execution_count": 137,
   "metadata": {},
   "outputs": [
    {
     "name": "stdout",
     "output_type": "stream",
     "text": [
      "[np.float64(0.488951404771382), np.float64(0.2116850186643108), np.float64(0.3599067556366495), np.float64(0.16629421222157675), np.float64(0.1890456642096988), np.float64(0.3604294367777049), np.float64(0.4518661018775568)]\n",
      "[np.float64(0.835538407770006), np.float64(0.4593514351017779), np.float64(0.9125616709806574), np.float64(1.1104206203483242), np.float64(0.28852701797390823), np.float64(1.4893281307096693), np.float64(0.6945241043567366)]\n"
     ]
    }
   ],
   "source": [
    "lower_bounds_brits_more_than_or_equal_to_65_subgroup, upper_bounds_brits_more_than_or_equal_to_65_subgroup = toolkits.calc_lower_and_upper_bound(results_bootstrap_brits_more_than_or_equal_to_65_subgroup, means_bootstraps_brits_more_than_or_equal_to_65_subgroup,standards_deviations_brits_more_than_or_equal_to_65_subgroup)\n",
    "\n",
    "print(lower_bounds_brits_more_than_or_equal_to_65_subgroup)\n",
    "print(upper_bounds_brits_more_than_or_equal_to_65_subgroup)\n"
   ]
  },
  {
   "cell_type": "code",
   "execution_count": 138,
   "metadata": {},
   "outputs": [
    {
     "name": "stdout",
     "output_type": "stream",
     "text": [
      "[np.float64(0.49013614681391765), np.float64(0.22848200592268603), np.float64(0.39417516510179157), np.float64(0.3436040659088286), np.float64(0.1922309176367736), np.float64(0.461134543912614), np.float64(0.4554978714069311)]\n",
      "[np.float64(0.8366997180001123), np.float64(0.47458613177319675), np.float64(0.9440111445954974), np.float64(1.1796209064031462), np.float64(0.29240414008122545), np.float64(1.5779181655450232), np.float64(0.6986735655061573)]\n"
     ]
    }
   ],
   "source": [
    "lower_bounds_brits_more_than_or_equal_to_65_subgroup, upper_bounds_brits_more_than_or_equal_to_65_subgroup = toolkits.calc_lower_and_upper_bound_percentile(results_bootstrap_brits_more_than_or_equal_to_65_subgroup)\n",
    "\n",
    "print(lower_bounds_brits_more_than_or_equal_to_65_subgroup)\n",
    "print(upper_bounds_brits_more_than_or_equal_to_65_subgroup)"
   ]
  },
  {
   "cell_type": "markdown",
   "metadata": {},
   "source": [
    "#### Mean values of lower bound and upper bound"
   ]
  },
  {
   "cell_type": "code",
   "execution_count": 139,
   "metadata": {},
   "outputs": [
    {
     "name": "stdout",
     "output_type": "stream",
     "text": [
      "[np.float64(0.663417932407015), np.float64(0.35153406884794136), np.float64(0.6690931548486445), np.float64(0.7616124861559874), np.float64(0.24231752885899954), np.float64(1.0195263547288187), np.float64(0.5770857184565442)]\n"
     ]
    }
   ],
   "source": [
    "mean_values_ci_brits_more_than_or_equal_to_65_subgroup  = toolkits.calc_mean_values_ci(lower_bounds_brits_more_than_or_equal_to_65_subgroup , upper_bounds_brits_more_than_or_equal_to_65_subgroup)\n",
    "\n",
    "print(mean_values_ci_brits_more_than_or_equal_to_65_subgroup)"
   ]
  },
  {
   "cell_type": "markdown",
   "metadata": {},
   "source": [
    "### Confidence Interval (-65 subgroup)"
   ]
  },
  {
   "cell_type": "markdown",
   "metadata": {},
   "source": [
    "#### Distribution Bootstrap for the Top 5 variables with Largest Differences in MAE (Mean Absolute Error) "
   ]
  },
  {
   "cell_type": "code",
   "execution_count": 140,
   "metadata": {},
   "outputs": [],
   "source": [
    "indices = [6, 32, 0, 28, 5, 31, 3]\n",
    "\n",
    "results_bootstrap_brits_less_than_65_subgroup = []\n",
    "\n",
    "for i in indices:\n",
    "       results_bootstrap_brits_less_than_65_subgroup.append(toolkits.bootstrap_v2(testing_ae_brits_variables_standard, indicating_mask_variable_standard_norm, 5, i, 9000))\n",
    "\n"
   ]
  },
  {
   "cell_type": "markdown",
   "metadata": {},
   "source": [
    "#### Calculating the mean and standard deviation of the bootstrap distribution"
   ]
  },
  {
   "cell_type": "code",
   "execution_count": 141,
   "metadata": {},
   "outputs": [
    {
     "name": "stdout",
     "output_type": "stream",
     "text": [
      "[np.float64(0.7722524194006836), np.float64(0.36263183850017955), np.float64(1.084029737789501), np.float64(0.571527362778218), np.float64(0.4751239089993839), np.float64(0.5373403409647254), np.float64(0.7127001763464236)]\n",
      "[np.float64(0.6086238944869353), np.float64(0.09109588956527907), np.float64(0.43935299070541206), np.float64(0.13437165851905025), np.float64(0.08710455881773665), np.float64(0.07056198341407932), np.float64(0.06180206326074808)]\n"
     ]
    }
   ],
   "source": [
    "means_bootstraps_brits_less_than_65_subgroup,standards_deviations_brits_less_than_65_subgroup = toolkits.calc_mean_and_standard_deviation(results_bootstrap_brits_less_than_65_subgroup)\n",
    "\n",
    "print(means_bootstraps_brits_less_than_65_subgroup)\n",
    "print(standards_deviations_brits_less_than_65_subgroup)\n"
   ]
  },
  {
   "cell_type": "markdown",
   "metadata": {},
   "source": [
    "#### Calculating lower bound and upper bound"
   ]
  },
  {
   "cell_type": "code",
   "execution_count": 142,
   "metadata": {},
   "outputs": [
    {
     "name": "stdout",
     "output_type": "stream",
     "text": [
      "[np.float64(-0.42062849392421564), np.float64(0.18408717581259446), np.float64(0.22291369950693218), np.float64(0.3081637515379648), np.float64(0.30440211082736923), np.float64(0.3990413947954173), np.float64(0.5915703581850913)]\n",
      "[np.float64(1.9651333327255829), np.float64(0.5411765011877646), np.float64(1.9451457760720698), np.float64(0.8348909740184712), np.float64(0.6458457071713986), np.float64(0.6756392871340335), np.float64(0.8338299945077559)]\n"
     ]
    }
   ],
   "source": [
    "lower_bounds_brits_less_than_65_subgroup, upper_bounds_brits_less_than_65_subgroup = toolkits.calc_lower_and_upper_bound(results_bootstrap_brits_less_than_65_subgroup, means_bootstraps_brits_less_than_65_subgroup, standards_deviations_brits_less_than_65_subgroup)\n",
    "\n",
    "print(lower_bounds_brits_less_than_65_subgroup)\n",
    "print(upper_bounds_brits_less_than_65_subgroup)"
   ]
  },
  {
   "cell_type": "code",
   "execution_count": 143,
   "metadata": {},
   "outputs": [
    {
     "name": "stdout",
     "output_type": "stream",
     "text": [
      "[np.float64(0.0), np.float64(0.2074044801250295), np.float64(0.41237684781003814), np.float64(0.3415031837447295), np.float64(0.3212877496534465), np.float64(0.38080614880421926), np.float64(0.5948515926626379)]\n",
      "[np.float64(1.6400321328986665), np.float64(0.5615428890114939), np.float64(2.08700193546815), np.float64(0.8688863074412774), np.float64(0.6621744792199287), np.float64(0.6432682344289811), np.float64(0.836412282791994)]\n"
     ]
    }
   ],
   "source": [
    "lower_bounds_brits_less_than_65_subgroup, upper_bounds_brits_less_than_65_subgroup = toolkits.calc_lower_and_upper_bound_percentile(results_bootstrap_brits_less_than_65_subgroup)\n",
    "\n",
    "print(lower_bounds_brits_less_than_65_subgroup)\n",
    "print(upper_bounds_brits_less_than_65_subgroup)"
   ]
  },
  {
   "cell_type": "markdown",
   "metadata": {},
   "source": [
    "#### Mean values of lower bound and upper bound"
   ]
  },
  {
   "cell_type": "code",
   "execution_count": 144,
   "metadata": {},
   "outputs": [
    {
     "name": "stdout",
     "output_type": "stream",
     "text": [
      "[np.float64(0.8200160664493332), np.float64(0.3844736845682617), np.float64(1.249689391639094), np.float64(0.6051947455930035), np.float64(0.4917311144366876), np.float64(0.5120371916166002), np.float64(0.7156319377273159)]\n"
     ]
    }
   ],
   "source": [
    "mean_values_ci_brits_less_than_65_subgroup  = toolkits.calc_mean_values_ci(lower_bounds_brits_less_than_65_subgroup, upper_bounds_brits_less_than_65_subgroup)\n",
    "\n",
    "print(mean_values_ci_brits_less_than_65_subgroup)"
   ]
  },
  {
   "cell_type": "markdown",
   "metadata": {},
   "source": [
    "### Confidence Interval (ICUType 1 subgroup)"
   ]
  },
  {
   "cell_type": "markdown",
   "metadata": {},
   "source": [
    "#### Distribution Bootstrap for the Top 5 variables with Largest Differences in MAE (Mean Absolute Error) "
   ]
  },
  {
   "cell_type": "code",
   "execution_count": 145,
   "metadata": {},
   "outputs": [],
   "source": [
    "indices = [28, 31, 6, 0, 32, 24]\n",
    "\n",
    "results_bootstrap_brits_ICUType_1_subgroup = []\n",
    "\n",
    "for i in indices:\n",
    "       results_bootstrap_brits_ICUType_1_subgroup.append(toolkits.bootstrap_v2(testing_ae_brits_variables_standard, indicating_mask_variable_standard_norm, 6, i, 9000))\n",
    "\n"
   ]
  },
  {
   "cell_type": "markdown",
   "metadata": {},
   "source": [
    "#### Calculating the mean and standard deviation of the bootstrap distribution"
   ]
  },
  {
   "cell_type": "code",
   "execution_count": 146,
   "metadata": {},
   "outputs": [
    {
     "name": "stdout",
     "output_type": "stream",
     "text": [
      "[np.float64(0.5242391082650917), np.float64(1.3415657504066385), np.float64(0.9641261893849576), np.float64(0.22523224662477), np.float64(0.7214285617066842), np.float64(0.45725893867605666)]\n",
      "[np.float64(0.179049986745374), np.float64(0.3732886535480633), np.float64(0.26648121535108293), np.float64(0.03475251277970779), np.float64(0.15381048461581723), np.float64(0.04360406748169409)]\n"
     ]
    }
   ],
   "source": [
    "means_bootstraps_brits_ICUType_1_subgroup, standards_deviations_brits_ICUType_1_subgroup = toolkits.calc_mean_and_standard_deviation(results_bootstrap_brits_ICUType_1_subgroup)\n",
    "\n",
    "print(means_bootstraps_brits_ICUType_1_subgroup)\n",
    "print(standards_deviations_brits_ICUType_1_subgroup)\n"
   ]
  },
  {
   "cell_type": "markdown",
   "metadata": {},
   "source": [
    "#### Calculating lower bound and upper bound"
   ]
  },
  {
   "cell_type": "code",
   "execution_count": 147,
   "metadata": {},
   "outputs": [
    {
     "name": "stdout",
     "output_type": "stream",
     "text": [
      "[np.float64(0.1733075828117846), np.float64(0.6099334336149846), np.float64(0.4418326047403729), np.float64(0.15711857320427478), np.float64(0.4199655514150304), np.float64(0.3717965368324821)]\n",
      "[np.float64(0.8751706337183988), np.float64(2.0731980671982924), np.float64(1.4864197740295424), np.float64(0.2933459200452653), np.float64(1.022891571998338), np.float64(0.5427213405196312)]\n"
     ]
    }
   ],
   "source": [
    "lower_bounds_brits_ICUType_1_subgroup, upper_bounds_brits_ICUType_1_subgroup = toolkits.calc_lower_and_upper_bound(results_bootstrap_brits_ICUType_1_subgroup, means_bootstraps_brits_ICUType_1_subgroup, standards_deviations_brits_ICUType_1_subgroup)\n",
    "\n",
    "print(lower_bounds_brits_ICUType_1_subgroup)\n",
    "print(upper_bounds_brits_ICUType_1_subgroup)"
   ]
  },
  {
   "cell_type": "code",
   "execution_count": 148,
   "metadata": {},
   "outputs": [
    {
     "name": "stdout",
     "output_type": "stream",
     "text": [
      "[np.float64(0.2818701088590386), np.float64(0.6832919189918449), np.float64(0.5044988888435504), np.float64(0.15881062421212594), np.float64(0.4440415795895485), np.float64(0.375999018085907)]\n",
      "[np.float64(0.9347071562797221), np.float64(2.1424587501889225), np.float64(1.545974285796128), np.float64(0.29692894998043906), np.float64(1.0435013017386077), np.float64(0.5459618084824918)]\n"
     ]
    }
   ],
   "source": [
    "lower_bounds_brits_ICUType_1_subgroup, upper_bounds_brits_ICUType_1_subgroup = toolkits.calc_lower_and_upper_bound_percentile(results_bootstrap_brits_ICUType_1_subgroup)\n",
    "\n",
    "print(lower_bounds_brits_ICUType_1_subgroup)\n",
    "print(upper_bounds_brits_ICUType_1_subgroup)"
   ]
  },
  {
   "cell_type": "markdown",
   "metadata": {},
   "source": [
    "#### Mean values of lower bound and upper bound"
   ]
  },
  {
   "cell_type": "code",
   "execution_count": 149,
   "metadata": {},
   "outputs": [
    {
     "name": "stdout",
     "output_type": "stream",
     "text": [
      "[np.float64(0.6082886325693804), np.float64(1.4128753345903837), np.float64(1.0252365873198392), np.float64(0.2278697870962825), np.float64(0.7437714406640781), np.float64(0.46098041328419936)]\n"
     ]
    }
   ],
   "source": [
    "mean_values_ci_brits_ICUType_1_subgroup  = toolkits.calc_mean_values_ci(lower_bounds_brits_ICUType_1_subgroup, upper_bounds_brits_ICUType_1_subgroup)\n",
    "\n",
    "print(mean_values_ci_brits_ICUType_1_subgroup)"
   ]
  },
  {
   "cell_type": "markdown",
   "metadata": {},
   "source": [
    "### Confidence Interval (ICUType 2 subgroup)"
   ]
  },
  {
   "cell_type": "markdown",
   "metadata": {},
   "source": [
    "#### Distribution Bootstrap for the Top 5 variables with Largest Differences in MAE (Mean Absolute Error) "
   ]
  },
  {
   "cell_type": "code",
   "execution_count": 37,
   "metadata": {},
   "outputs": [],
   "source": [
    "indices = [28, 31, 6, 0, 32, 24]\n",
    "\n",
    "results_bootstrap_brits_ICUType_2_subgroup = []\n",
    "\n",
    "for i in indices:\n",
    "       results_bootstrap_brits_ICUType_2_subgroup.append(toolkits.bootstrap_v2(testing_ae_brits_variables_standard, indicating_mask_variable_standard_norm, 7, i, 9000))\n",
    "\n"
   ]
  },
  {
   "cell_type": "markdown",
   "metadata": {},
   "source": [
    "#### Calculating the mean and standard deviation of the bootstrap distribution"
   ]
  },
  {
   "cell_type": "code",
   "execution_count": 38,
   "metadata": {},
   "outputs": [
    {
     "name": "stdout",
     "output_type": "stream",
     "text": [
      "[np.float64(0.5621925335565238), np.float64(0.37599610018440305), np.float64(0.0), np.float64(0.25361202408619077), np.float64(0.17263922025885275), np.float64(0.43960499932788366)]\n",
      "[np.float64(0.24695541531596954), np.float64(0.12144212659362798), np.float64(0.0), np.float64(0.027974171942437683), np.float64(0.04832351472767887), np.float64(0.017892639144452414)]\n"
     ]
    }
   ],
   "source": [
    "means_bootstraps_brits_ICUType_2_subgroup, standards_deviations_brits_ICUType_2_subgroup = toolkits.calc_mean_and_standard_deviation(results_bootstrap_brits_ICUType_2_subgroup)\n",
    "\n",
    "print(means_bootstraps_brits_ICUType_2_subgroup)\n",
    "print(standards_deviations_brits_ICUType_2_subgroup)\n"
   ]
  },
  {
   "cell_type": "markdown",
   "metadata": {},
   "source": [
    "#### Calculating lower bound and upper bound"
   ]
  },
  {
   "cell_type": "code",
   "execution_count": 39,
   "metadata": {},
   "outputs": [
    {
     "name": "stdout",
     "output_type": "stream",
     "text": [
      "[np.float64(0.07816881375009221), np.float64(0.1379739058549383), np.float64(0.0), np.float64(0.198783654581682), np.float64(0.07792687178621129), np.float64(0.40453607101638533)]\n",
      "[np.float64(1.0462162533629553), np.float64(0.6140182945138678), np.float64(0.0), np.float64(0.3084403935906995), np.float64(0.26735156873149424), np.float64(0.474673927639382)]\n"
     ]
    }
   ],
   "source": [
    "lower_bounds_brits_ICUType_2_subgroup, upper_bounds_brits_ICUType_2_subgroup = toolkits.calc_lower_and_upper_bound(results_bootstrap_brits_ICUType_2_subgroup, means_bootstraps_brits_ICUType_2_subgroup, standards_deviations_brits_ICUType_2_subgroup)\n",
    "\n",
    "print(lower_bounds_brits_ICUType_2_subgroup)\n",
    "print(upper_bounds_brits_ICUType_2_subgroup)"
   ]
  },
  {
   "cell_type": "code",
   "execution_count": 42,
   "metadata": {},
   "outputs": [
    {
     "name": "stdout",
     "output_type": "stream",
     "text": [
      "[np.float64(0.28535170875429494), np.float64(0.1355656241631972), np.float64(0.0), np.float64(0.20046852841020707), np.float64(0.08863894347413558), np.float64(0.4050478860711588)]\n",
      "[np.float64(1.116012281294197), np.float64(0.6352708608548769), np.float64(0.0), np.float64(0.3099178354532329), np.float64(0.2762919387240098), np.float64(0.47489211583914764)]\n"
     ]
    }
   ],
   "source": [
    "lower_bounds_brits_ICUType_2_subgroup, upper_bounds_brits_ICUType_2_subgroup = toolkits.calc_lower_and_upper_bound_percentile(results_bootstrap_brits_ICUType_2_subgroup)\n",
    "print(lower_bounds_brits_ICUType_2_subgroup)\n",
    "print(upper_bounds_brits_ICUType_2_subgroup)"
   ]
  },
  {
   "cell_type": "markdown",
   "metadata": {},
   "source": [
    "#### Mean values of lower bound and upper bound"
   ]
  },
  {
   "cell_type": "code",
   "execution_count": 43,
   "metadata": {},
   "outputs": [
    {
     "name": "stdout",
     "output_type": "stream",
     "text": [
      "[np.float64(0.700681995024246), np.float64(0.38541824250903706), np.float64(0.0), np.float64(0.25519318193172), np.float64(0.1824654410990727), np.float64(0.43997000095515326)]\n"
     ]
    }
   ],
   "source": [
    "mean_values_ci_brits_ICUType_2_subgroup  = toolkits.calc_mean_values_ci(lower_bounds_brits_ICUType_2_subgroup, upper_bounds_brits_ICUType_2_subgroup)\n",
    "\n",
    "print(mean_values_ci_brits_ICUType_2_subgroup)"
   ]
  },
  {
   "cell_type": "markdown",
   "metadata": {},
   "source": [
    "### Confidence Interval (ICUType 3 subgroup)"
   ]
  },
  {
   "cell_type": "markdown",
   "metadata": {},
   "source": [
    "#### Distribution Bootstrap for the Top 5 variables with Largest Differences in MAE (Mean Absolute Error) "
   ]
  },
  {
   "cell_type": "code",
   "execution_count": 155,
   "metadata": {},
   "outputs": [],
   "source": [
    "indices = [28, 31, 6, 0, 32, 24]\n",
    "\n",
    "results_bootstrap_brits_ICUType_3_subgroup = []\n",
    "\n",
    "for i in indices:\n",
    "       results_bootstrap_brits_ICUType_3_subgroup.append(toolkits.bootstrap_v2(testing_ae_brits_variables_standard, indicating_mask_variable_standard_norm, 8, i, 9000))\n",
    "\n"
   ]
  },
  {
   "cell_type": "markdown",
   "metadata": {},
   "source": [
    "#### Calculating the mean and standard deviation of the bootstrap distribution"
   ]
  },
  {
   "cell_type": "code",
   "execution_count": 156,
   "metadata": {},
   "outputs": [
    {
     "name": "stdout",
     "output_type": "stream",
     "text": [
      "[np.float64(1.5950335104696207), np.float64(0.5406018573257461), np.float64(0.6878097755242151), np.float64(1.1319651942674953), np.float64(0.23651905141316573), np.float64(0.5806266335503317)]\n",
      "[np.float64(0.45243214716175434), np.float64(0.0630307978175607), np.float64(0.18994101591217263), np.float64(0.4467237279126342), np.float64(0.03447171296734733), np.float64(0.036862477331274575)]\n"
     ]
    }
   ],
   "source": [
    "means_bootstraps_brits_ICUType_3_subgroup, standards_deviations_brits_ICUType_3_subgroup = toolkits.calc_mean_and_standard_deviation(results_bootstrap_brits_ICUType_3_subgroup)\n",
    "\n",
    "print(means_bootstraps_brits_ICUType_3_subgroup)\n",
    "print(standards_deviations_brits_ICUType_3_subgroup)\n"
   ]
  },
  {
   "cell_type": "markdown",
   "metadata": {},
   "source": [
    "#### Calculating lower bound and upper bound"
   ]
  },
  {
   "cell_type": "code",
   "execution_count": 157,
   "metadata": {},
   "outputs": [
    {
     "name": "stdout",
     "output_type": "stream",
     "text": [
      "[np.float64(0.7082827965844566), np.float64(0.4170637636865012), np.float64(0.3155322251494074), np.float64(0.2564027765192618), np.float64(0.16895573551176263), np.float64(0.5083775056001094)]\n",
      "[np.float64(2.4817842243547847), np.float64(0.6641399509649909), np.float64(1.0600873258990227), np.float64(2.007527612015729), np.float64(0.30408236731456884), np.float64(0.652875761500554)]\n"
     ]
    }
   ],
   "source": [
    "lower_bounds_brits_ICUType_3_subgroup, upper_bounds_brits_ICUType_3_subgroup = toolkits.calc_lower_and_upper_bound(results_bootstrap_brits_ICUType_3_subgroup, means_bootstraps_brits_ICUType_3_subgroup, standards_deviations_brits_ICUType_3_subgroup)\n",
    "\n",
    "print(lower_bounds_brits_ICUType_3_subgroup)\n",
    "print(upper_bounds_brits_ICUType_3_subgroup)"
   ]
  },
  {
   "cell_type": "code",
   "execution_count": 158,
   "metadata": {},
   "outputs": [
    {
     "name": "stdout",
     "output_type": "stream",
     "text": [
      "[np.float64(0.7939550857221166), np.float64(0.4205872182263832), np.float64(0.3370788046599422), np.float64(0.42849663050814585), np.float64(0.17832924327612418), np.float64(0.5103321820529819)]\n",
      "[np.float64(2.5493768779559924), np.float64(0.6674941648076488), np.float64(1.1317698409105241), np.float64(2.132643843593351), np.float64(0.3119720884871641), np.float64(0.6555130248767465)]\n"
     ]
    }
   ],
   "source": [
    "lower_bounds_brits_ICUType_3_subgroup, upper_bounds_brits_ICUType_3_subgroup = toolkits.calc_lower_and_upper_bound_percentile(results_bootstrap_brits_ICUType_3_subgroup)\n",
    "\n",
    "print(lower_bounds_brits_ICUType_3_subgroup)\n",
    "print(upper_bounds_brits_ICUType_3_subgroup)"
   ]
  },
  {
   "cell_type": "markdown",
   "metadata": {},
   "source": [
    "#### Mean values of lower bound and upper bound"
   ]
  },
  {
   "cell_type": "code",
   "execution_count": 159,
   "metadata": {},
   "outputs": [
    {
     "name": "stdout",
     "output_type": "stream",
     "text": [
      "[np.float64(1.6716659818390545), np.float64(0.544040691517016), np.float64(0.7344243227852332), np.float64(1.2805702370507484), np.float64(0.24515066588164414), np.float64(0.5829226034648642)]\n"
     ]
    }
   ],
   "source": [
    "mean_values_ci_brits_ICUType_3_subgroup  = toolkits.calc_mean_values_ci(lower_bounds_brits_ICUType_3_subgroup, upper_bounds_brits_ICUType_3_subgroup)\n",
    "\n",
    "print(mean_values_ci_brits_ICUType_3_subgroup)"
   ]
  },
  {
   "cell_type": "markdown",
   "metadata": {},
   "source": [
    "### Confidence Interval (ICUType 4 subgroup)"
   ]
  },
  {
   "cell_type": "markdown",
   "metadata": {},
   "source": [
    "#### Distribution Bootstrap for the Top 5 variables with Largest Differences in MAE (Mean Absolute Error) "
   ]
  },
  {
   "cell_type": "code",
   "execution_count": 160,
   "metadata": {},
   "outputs": [],
   "source": [
    "indices = [28, 31, 6, 0, 32, 24]\n",
    "\n",
    "results_bootstrap_brits_ICUType_4_subgroup = []\n",
    "\n",
    "for i in indices:\n",
    "       results_bootstrap_brits_ICUType_4_subgroup.append(toolkits.bootstrap_v2(testing_ae_brits_variables_standard, indicating_mask_variable_standard_norm, 9, i, 9000))\n",
    "\n"
   ]
  },
  {
   "cell_type": "markdown",
   "metadata": {},
   "source": [
    "#### Calculating the mean and standard deviation of the bootstrap distribution"
   ]
  },
  {
   "cell_type": "code",
   "execution_count": 161,
   "metadata": {},
   "outputs": [
    {
     "name": "stdout",
     "output_type": "stream",
     "text": [
      "[np.float64(0.44498405390307794), np.float64(0.6983041667063125), np.float64(0.7306252220827371), np.float64(0.49060926376446706), np.float64(0.18038459066093948), np.float64(0.43616529618609085)]\n",
      "[np.float64(0.0941342290916942), np.float64(0.26590252692965594), np.float64(0.26936222261266096), np.float64(0.0802554943001893), np.float64(0.021864311504363326), np.float64(0.0202726158372185)]\n"
     ]
    }
   ],
   "source": [
    "means_bootstraps_brits_ICUType_4_subgroup, standards_deviations_brits_ICUType_4_subgroup = toolkits.calc_mean_and_standard_deviation(results_bootstrap_brits_ICUType_4_subgroup)\n",
    "\n",
    "print(means_bootstraps_brits_ICUType_4_subgroup)\n",
    "print(standards_deviations_brits_ICUType_4_subgroup)\n"
   ]
  },
  {
   "cell_type": "markdown",
   "metadata": {},
   "source": [
    "#### Calculating lower bound and upper bound"
   ]
  },
  {
   "cell_type": "code",
   "execution_count": 162,
   "metadata": {},
   "outputs": [
    {
     "name": "stdout",
     "output_type": "stream",
     "text": [
      "[np.float64(0.2604843551709147), np.float64(0.17714479052599497), np.float64(0.20268496696626104), np.float64(0.33331138537463645), np.float64(0.13753132756562259), np.float64(0.39643169927272626)]\n",
      "[np.float64(0.6294837526352411), np.float64(1.21946354288663), np.float64(1.258565477199213), np.float64(0.6479071421542977), np.float64(0.22323785375625638), np.float64(0.47589889309945543)]\n"
     ]
    }
   ],
   "source": [
    "lower_bounds_brits_ICUType_4_subgroup, upper_bounds_brits_ICUType_4_subgroup = toolkits.calc_lower_and_upper_bound(results_bootstrap_brits_ICUType_4_subgroup, means_bootstraps_brits_ICUType_4_subgroup, standards_deviations_brits_ICUType_4_subgroup)\n",
    "\n",
    "print(lower_bounds_brits_ICUType_4_subgroup)\n",
    "print(upper_bounds_brits_ICUType_4_subgroup)"
   ]
  },
  {
   "cell_type": "code",
   "execution_count": 163,
   "metadata": {},
   "outputs": [
    {
     "name": "stdout",
     "output_type": "stream",
     "text": [
      "[np.float64(0.28602392839788426), np.float64(0.031016012049908958), np.float64(0.23850040491847574), np.float64(0.346799139468531), np.float64(0.1381858946213613), np.float64(0.3970780677494158)]\n",
      "[np.float64(0.6550222762143815), np.float64(1.1697815367073499), np.float64(1.2839793652411828), np.float64(0.660672778318496), np.float64(0.22305811075201631), np.float64(0.47687461780075635)]\n"
     ]
    }
   ],
   "source": [
    "lower_bounds_brits_ICUType_4_subgroup, upper_bounds_brits_ICUType_4_subgroup = toolkits.calc_lower_and_upper_bound_percentile(results_bootstrap_brits_ICUType_4_subgroup)\n",
    "\n",
    "print(lower_bounds_brits_ICUType_4_subgroup)\n",
    "print(upper_bounds_brits_ICUType_4_subgroup)"
   ]
  },
  {
   "cell_type": "markdown",
   "metadata": {},
   "source": [
    "#### Mean values of lower bound and upper bound"
   ]
  },
  {
   "cell_type": "code",
   "execution_count": 164,
   "metadata": {},
   "outputs": [
    {
     "name": "stdout",
     "output_type": "stream",
     "text": [
      "[np.float64(0.47052310230613287), np.float64(0.6003987743786294), np.float64(0.7612398850798293), np.float64(0.5037359588935135), np.float64(0.18062200268668882), np.float64(0.43697634277508607)]\n"
     ]
    }
   ],
   "source": [
    "mean_values_ci_brits_ICUType_4_subgroup  = toolkits.calc_mean_values_ci(lower_bounds_brits_ICUType_4_subgroup, upper_bounds_brits_ICUType_4_subgroup)\n",
    "\n",
    "print(mean_values_ci_brits_ICUType_4_subgroup)"
   ]
  },
  {
   "cell_type": "markdown",
   "metadata": {},
   "source": [
    "### Confidence Interval (Undefined classification subgroup)"
   ]
  },
  {
   "cell_type": "markdown",
   "metadata": {},
   "source": [
    "#### Distribution Bootstrap for the Top 5 variables with Largest Differences in MAE (Mean Absolute Error) "
   ]
  },
  {
   "cell_type": "code",
   "execution_count": 165,
   "metadata": {},
   "outputs": [],
   "source": [
    "indices = [32, 0, 6, 31, 5, 1, 35]\n",
    "\n",
    "results_bootstrap_brits_undefined_classification_subgroup = []\n",
    "\n",
    "for i in indices:\n",
    "       results_bootstrap_brits_undefined_classification_subgroup.append(toolkits.bootstrap_v2(testing_ae_brits_variables_standard, indicating_mask_variable_standard_norm, 10, i, 9000))\n",
    "\n"
   ]
  },
  {
   "cell_type": "markdown",
   "metadata": {},
   "source": [
    "#### Calculating the mean and standard deviation of the bootstrap distribution"
   ]
  },
  {
   "cell_type": "code",
   "execution_count": 166,
   "metadata": {},
   "outputs": [
    {
     "name": "stdout",
     "output_type": "stream",
     "text": [
      "[np.float64(0.27580452340722195), np.float64(0.4069967174467866), np.float64(0.5761801901712693), np.float64(0.8422198209476998), np.float64(0.4122577787901838), np.float64(0.2332685567510703), np.float64(0.06740695618510778)]\n",
      "[np.float64(0.04486338677452591), np.float64(0.05954413271613699), np.float64(0.18081126434508163), np.float64(0.2855688569549286), np.float64(0.12515486871795073), np.float64(0.08494212686592569), np.float64(0.005037956728670317)]\n"
     ]
    }
   ],
   "source": [
    "means_bootstraps_brits_undefined_classification_subgroup, standards_deviations_brits_undefined_classification_subgroup = toolkits.calc_mean_and_standard_deviation(results_bootstrap_brits_undefined_classification_subgroup)\n",
    "\n",
    "print(means_bootstraps_brits_undefined_classification_subgroup)\n",
    "print(standards_deviations_brits_undefined_classification_subgroup)\n"
   ]
  },
  {
   "cell_type": "markdown",
   "metadata": {},
   "source": [
    "#### Calculating lower bound and upper bound"
   ]
  },
  {
   "cell_type": "code",
   "execution_count": 167,
   "metadata": {},
   "outputs": [
    {
     "name": "stdout",
     "output_type": "stream",
     "text": [
      "[np.float64(0.18787390110466057), np.float64(0.29029236183248497), np.float64(0.22179662405575812), np.float64(0.28251514620976914), np.float64(0.16695874361316174), np.float64(0.06678504732362384), np.float64(0.05753274244124273)]\n",
      "[np.float64(0.3637351457097833), np.float64(0.5237010730610883), np.float64(0.9305637562867806), np.float64(1.4019244956856305), np.float64(0.6575568139672059), np.float64(0.3997520661785168), np.float64(0.07728116992897283)]\n"
     ]
    }
   ],
   "source": [
    "lower_bounds_brits_undefined_classification_subgroup, upper_bounds_brits_undefined_classification_subgroup = toolkits.calc_lower_and_upper_bound(results_bootstrap_brits_undefined_classification_subgroup, means_bootstraps_brits_undefined_classification_subgroup, standards_deviations_brits_undefined_classification_subgroup)\n",
    "\n",
    "print(lower_bounds_brits_undefined_classification_subgroup)\n",
    "print(upper_bounds_brits_undefined_classification_subgroup)"
   ]
  },
  {
   "cell_type": "code",
   "execution_count": 168,
   "metadata": {},
   "outputs": [
    {
     "name": "stdout",
     "output_type": "stream",
     "text": [
      "[np.float64(0.20263481715092455), np.float64(0.297765632174484), np.float64(0.2464090364371217), np.float64(0.40487025525627784), np.float64(0.215910276833765), np.float64(0.11516010285916287), np.float64(0.058037491556782485)]\n",
      "[np.float64(0.3759709288423774), np.float64(0.5321918576413711), np.float64(0.9576805451793318), np.float64(1.4766778926129156), np.float64(0.6931543221897899), np.float64(0.42856972926983783), np.float64(0.07776482011735085)]\n"
     ]
    }
   ],
   "source": [
    "lower_bounds_brits_undefined_classification_subgroup, upper_bounds_brits_undefined_classification_subgroup = toolkits.calc_lower_and_upper_bound_percentile(results_bootstrap_brits_undefined_classification_subgroup)\n",
    "\n",
    "print(lower_bounds_brits_undefined_classification_subgroup)\n",
    "print(upper_bounds_brits_undefined_classification_subgroup)"
   ]
  },
  {
   "cell_type": "markdown",
   "metadata": {},
   "source": [
    "#### Mean values of lower bound and upper bound"
   ]
  },
  {
   "cell_type": "code",
   "execution_count": 169,
   "metadata": {},
   "outputs": [
    {
     "name": "stdout",
     "output_type": "stream",
     "text": [
      "[np.float64(0.289302872996651), np.float64(0.4149787449079275), np.float64(0.6020447908082267), np.float64(0.9407740739345967), np.float64(0.4545322995117774), np.float64(0.27186491606450036), np.float64(0.06790115583706667)]\n"
     ]
    }
   ],
   "source": [
    "mean_values_ci_brits_undefined_classification_subgroup  = toolkits.calc_mean_values_ci(lower_bounds_brits_undefined_classification_subgroup, upper_bounds_brits_undefined_classification_subgroup)\n",
    "\n",
    "print(mean_values_ci_brits_undefined_classification_subgroup)"
   ]
  },
  {
   "cell_type": "markdown",
   "metadata": {},
   "source": [
    "### Confidence Interval (Low weight classification subgroup)"
   ]
  },
  {
   "cell_type": "markdown",
   "metadata": {},
   "source": [
    "#### Distribution Bootstrap for the Top 5 variables with Largest Differences in MAE (Mean Absolute Error) "
   ]
  },
  {
   "cell_type": "code",
   "execution_count": 170,
   "metadata": {},
   "outputs": [],
   "source": [
    "indices = [32, 0, 6, 31, 5, 1, 35]\n",
    "\n",
    "results_bootstrap_brits_low_weight_classification_subgroup = []\n",
    "\n",
    "for i in indices:\n",
    "       results_bootstrap_brits_low_weight_classification_subgroup.append(toolkits.bootstrap_v2(testing_ae_brits_variables_standard, indicating_mask_variable_standard_norm, 11, i, 9000))\n",
    "\n"
   ]
  },
  {
   "cell_type": "markdown",
   "metadata": {},
   "source": [
    "#### Calculating the mean and standard deviation of the bootstrap distribution"
   ]
  },
  {
   "cell_type": "code",
   "execution_count": 171,
   "metadata": {},
   "outputs": [
    {
     "name": "stdout",
     "output_type": "stream",
     "text": [
      "[np.float64(0.4117071767409993), np.float64(2.02462479593246), np.float64(0.0697610836540352), np.float64(0.0), np.float64(1.452464767049052), np.float64(0.22511391992235394), np.float64(0.07876575200090079)]\n",
      "[np.float64(0.313562029381117), np.float64(1.6710560842546742), np.float64(0.05297868194116039), np.float64(0.0), np.float64(1.2840757488636576), np.float64(0.11005089543492753), np.float64(0.013787861556698637)]\n"
     ]
    }
   ],
   "source": [
    "means_bootstraps_brits_low_weight_classification_subgroup, standards_deviations_brits_low_weight_classification_subgroup = toolkits.calc_mean_and_standard_deviation(results_bootstrap_brits_low_weight_classification_subgroup)\n",
    "\n",
    "print(means_bootstraps_brits_low_weight_classification_subgroup)\n",
    "print(standards_deviations_brits_low_weight_classification_subgroup)\n"
   ]
  },
  {
   "cell_type": "markdown",
   "metadata": {},
   "source": [
    "#### Calculating lower bound and upper bound"
   ]
  },
  {
   "cell_type": "code",
   "execution_count": 172,
   "metadata": {},
   "outputs": [
    {
     "name": "stdout",
     "output_type": "stream",
     "text": [
      "[np.float64(-0.20286310776528027), np.float64(-1.2505849453532316), np.float64(-0.03407522489904173), np.float64(0.0), np.float64(-1.0642774541450162), np.float64(0.009418128403512527), np.float64(0.05174203992594709)]\n",
      "[np.float64(1.026277461247279), np.float64(5.2998345372181515), np.float64(0.17359739220711212), np.float64(0.0), np.float64(3.96920698824312), np.float64(0.44080971144119535), np.float64(0.10578946407585449)]\n"
     ]
    }
   ],
   "source": [
    "lower_bounds_brits_low_weight_classification_subgroup, upper_bounds_brits_low_weight_classification_subgroup = toolkits.calc_lower_and_upper_bound(results_bootstrap_brits_low_weight_classification_subgroup, means_bootstraps_brits_low_weight_classification_subgroup, standards_deviations_brits_low_weight_classification_subgroup)\n",
    "\n",
    "print(lower_bounds_brits_low_weight_classification_subgroup)\n",
    "print(upper_bounds_brits_low_weight_classification_subgroup)"
   ]
  },
  {
   "cell_type": "code",
   "execution_count": 173,
   "metadata": {},
   "outputs": [
    {
     "name": "stdout",
     "output_type": "stream",
     "text": [
      "[np.float64(0.0), np.float64(0.0), np.float64(0.0), np.float64(0.0), np.float64(0.027231435799876812), np.float64(0.06702356114639711), np.float64(0.053893569760482124)]\n",
      "[np.float64(0.6505204688677284), np.float64(4.413896485801919), np.float64(0.10999470092617175), np.float64(0.0), np.float64(4.389479579851235), np.float64(0.4730132375396637), np.float64(0.10773608295033878)]\n"
     ]
    }
   ],
   "source": [
    "lower_bounds_brits_low_weight_classification_subgroup, upper_bounds_brits_low_weight_classification_subgroup = toolkits.calc_lower_and_upper_bound_percentile(results_bootstrap_brits_low_weight_classification_subgroup)\n",
    "\n",
    "print(lower_bounds_brits_low_weight_classification_subgroup)\n",
    "print(upper_bounds_brits_low_weight_classification_subgroup)"
   ]
  },
  {
   "cell_type": "markdown",
   "metadata": {},
   "source": [
    "#### Mean values of lower bound and upper bound"
   ]
  },
  {
   "cell_type": "code",
   "execution_count": 174,
   "metadata": {},
   "outputs": [
    {
     "name": "stdout",
     "output_type": "stream",
     "text": [
      "[np.float64(0.3252602344338642), np.float64(2.2069482429009595), np.float64(0.054997350463085876), np.float64(0.0), np.float64(2.208355507825556), np.float64(0.2700183993430304), np.float64(0.08081482635541046)]\n"
     ]
    }
   ],
   "source": [
    "mean_values_ci_brits_low_weight_classification_subgroup  = toolkits.calc_mean_values_ci(lower_bounds_brits_low_weight_classification_subgroup, upper_bounds_brits_low_weight_classification_subgroup)\n",
    "\n",
    "print(mean_values_ci_brits_low_weight_classification_subgroup)"
   ]
  },
  {
   "cell_type": "markdown",
   "metadata": {},
   "source": [
    "### Confidence Interval (Normal weight classification subgroup)"
   ]
  },
  {
   "cell_type": "markdown",
   "metadata": {},
   "source": [
    "#### Distribution Bootstrap for the Top 5 variables with Largest Differences in MAE (Mean Absolute Error) "
   ]
  },
  {
   "cell_type": "code",
   "execution_count": 175,
   "metadata": {},
   "outputs": [],
   "source": [
    "indices = [32, 0, 6, 31, 5, 1, 35]\n",
    "\n",
    "results_bootstrap_brits_normal_weight_classification_subgroup = []\n",
    "\n",
    "for i in indices:\n",
    "       results_bootstrap_brits_normal_weight_classification_subgroup.append(toolkits.bootstrap_v2(testing_ae_brits_variables_standard, indicating_mask_variable_standard_norm, 12, i, 9000))\n",
    "\n"
   ]
  },
  {
   "cell_type": "markdown",
   "metadata": {},
   "source": [
    "#### Calculating the mean and standard deviation of the bootstrap distribution"
   ]
  },
  {
   "cell_type": "code",
   "execution_count": 176,
   "metadata": {},
   "outputs": [
    {
     "name": "stdout",
     "output_type": "stream",
     "text": [
      "[np.float64(0.2507157349963609), np.float64(0.5457061795759722), np.float64(0.7665562197715444), np.float64(0.5652688982187426), np.float64(0.5233307205655814), np.float64(0.15534101010166437), np.float64(0.051354752349358136)]\n",
      "[np.float64(0.07419681715923193), np.float64(0.12456109593044702), np.float64(0.3715302459269295), np.float64(0.08997435719450365), np.float64(0.20499054790313423), np.float64(0.040408627749961123), np.float64(0.004347503178908474)]\n"
     ]
    }
   ],
   "source": [
    "means_bootstraps_brits_normal_weight_classification_subgroup, standards_deviations_brits_normal_weight_classification_subgroup = toolkits.calc_mean_and_standard_deviation(results_bootstrap_brits_normal_weight_classification_subgroup)\n",
    "\n",
    "print(means_bootstraps_brits_normal_weight_classification_subgroup)\n",
    "print(standards_deviations_brits_normal_weight_classification_subgroup)\n"
   ]
  },
  {
   "cell_type": "markdown",
   "metadata": {},
   "source": [
    "#### Calculating lower bound and upper bound"
   ]
  },
  {
   "cell_type": "code",
   "execution_count": 177,
   "metadata": {},
   "outputs": [
    {
     "name": "stdout",
     "output_type": "stream",
     "text": [
      "[np.float64(0.10529264559676282), np.float64(0.30157091767745736), np.float64(0.038370318587453434), np.float64(0.38892239858537314), np.float64(0.12155662950430562), np.float64(0.07614155504705478), np.float64(0.04283380269602413)]\n",
      "[np.float64(0.396138824395959), np.float64(0.7898414414744871), np.float64(1.4947421209556353), np.float64(0.7416153978521121), np.float64(0.9251048116268572), np.float64(0.23454046515627397), np.float64(0.05987570200269214)]\n"
     ]
    }
   ],
   "source": [
    "lower_bounds_brits_normal_weight_classification_subgroup, upper_bounds_brits_normal_weight_classification_subgroup = toolkits.calc_lower_and_upper_bound(results_bootstrap_brits_normal_weight_classification_subgroup, means_bootstraps_brits_normal_weight_classification_subgroup, standards_deviations_brits_normal_weight_classification_subgroup)\n",
    "\n",
    "print(lower_bounds_brits_normal_weight_classification_subgroup)\n",
    "print(upper_bounds_brits_normal_weight_classification_subgroup)"
   ]
  },
  {
   "cell_type": "code",
   "execution_count": 178,
   "metadata": {},
   "outputs": [
    {
     "name": "stdout",
     "output_type": "stream",
     "text": [
      "[np.float64(0.12752475937455598), np.float64(0.33907978472608374), np.float64(0.0), np.float64(0.38765003219112587), np.float64(0.19942872679027562), np.float64(0.0877463857807708), np.float64(0.04312146702574288)]\n",
      "[np.float64(0.41512220820559886), np.float64(0.8247740882457966), np.float64(1.1889972456754012), np.float64(0.7450995778748506), np.float64(0.9872682339171264), np.float64(0.2440400125384495), np.float64(0.06017121826957199)]\n"
     ]
    }
   ],
   "source": [
    "lower_bounds_brits_normal_weight_classification_subgroup, upper_bounds_brits_normal_weight_classification_subgroup = toolkits.calc_lower_and_upper_bound_percentile(results_bootstrap_brits_normal_weight_classification_subgroup)\n",
    "\n",
    "print(lower_bounds_brits_normal_weight_classification_subgroup)\n",
    "print(upper_bounds_brits_normal_weight_classification_subgroup)"
   ]
  },
  {
   "cell_type": "markdown",
   "metadata": {},
   "source": [
    "#### Mean values of lower bound and upper bound"
   ]
  },
  {
   "cell_type": "code",
   "execution_count": 179,
   "metadata": {},
   "outputs": [
    {
     "name": "stdout",
     "output_type": "stream",
     "text": [
      "[np.float64(0.2713234837900774), np.float64(0.5819269364859402), np.float64(0.5944986228377006), np.float64(0.5663748050329882), np.float64(0.593348480353701), np.float64(0.16589319915961015), np.float64(0.05164634264765743)]\n"
     ]
    }
   ],
   "source": [
    "mean_values_ci_brits_normal_weight_classification_subgroup  = toolkits.calc_mean_values_ci(lower_bounds_brits_normal_weight_classification_subgroup, upper_bounds_brits_normal_weight_classification_subgroup)\n",
    "\n",
    "print(mean_values_ci_brits_normal_weight_classification_subgroup)"
   ]
  },
  {
   "cell_type": "markdown",
   "metadata": {},
   "source": [
    "### Confidence Interval (Overweight classification subgroup)"
   ]
  },
  {
   "cell_type": "markdown",
   "metadata": {},
   "source": [
    "#### Distribution Bootstrap for the Top 5 variables with Largest Differences in MAE (Mean Absolute Error) "
   ]
  },
  {
   "cell_type": "code",
   "execution_count": 180,
   "metadata": {},
   "outputs": [],
   "source": [
    "indices = [32, 0, 6, 31, 5, 1, 35]\n",
    "\n",
    "results_bootstrap_brits_overweight_classification_subgroup = []\n",
    "\n",
    "for i in indices:\n",
    "       results_bootstrap_brits_overweight_classification_subgroup.append(toolkits.bootstrap_v2(testing_ae_brits_variables_standard, indicating_mask_variable_standard_norm, 13, i, 9000))\n",
    "\n"
   ]
  },
  {
   "cell_type": "markdown",
   "metadata": {},
   "source": [
    "#### Calculating the mean and standard deviation of the bootstrap distribution"
   ]
  },
  {
   "cell_type": "code",
   "execution_count": 181,
   "metadata": {},
   "outputs": [
    {
     "name": "stdout",
     "output_type": "stream",
     "text": [
      "[np.float64(0.4443343674155459), np.float64(0.28076309393714294), np.float64(1.4893652815898761), np.float64(1.0439855928490005), np.float64(0.19602664934732794), np.float64(0.4284199627653709), np.float64(0.03366806475240419)]\n",
      "[np.float64(0.18880560340842148), np.float64(0.056995221450811734), np.float64(0.2749030032241481), np.float64(0.5598008593806592), np.float64(0.06397525812267431), np.float64(0.1589312177792946), np.float64(0.002828427833127552)]\n"
     ]
    }
   ],
   "source": [
    "means_bootstraps_brits_overweight_classification_subgroup, standards_deviations_brits_overweight_classification_subgroup = toolkits.calc_mean_and_standard_deviation(results_bootstrap_brits_overweight_classification_subgroup)\n",
    "\n",
    "print(means_bootstraps_brits_overweight_classification_subgroup)\n",
    "print(standards_deviations_brits_overweight_classification_subgroup)\n"
   ]
  },
  {
   "cell_type": "markdown",
   "metadata": {},
   "source": [
    "#### Calculating lower bound and upper bound"
   ]
  },
  {
   "cell_type": "code",
   "execution_count": 182,
   "metadata": {},
   "outputs": [
    {
     "name": "stdout",
     "output_type": "stream",
     "text": [
      "[np.float64(0.07428218465568692), np.float64(0.1690545126026672), np.float64(0.9505652960286475), np.float64(-0.053203930051662685), np.float64(0.07063744752523274), np.float64(0.11692049989886161), np.float64(0.028124448066603525)]\n",
      "[np.float64(0.8143865501754048), np.float64(0.39247167527161864), np.float64(2.028165267151105), np.float64(2.1411751157496637), np.float64(0.3214158511694232), np.float64(0.7399194256318802), np.float64(0.03921168143820486)]\n"
     ]
    }
   ],
   "source": [
    "lower_bounds_brits_overweight_classification_subgroup, upper_bounds_brits_overweight_classification_subgroup = toolkits.calc_lower_and_upper_bound(results_bootstrap_brits_overweight_classification_subgroup, means_bootstraps_brits_overweight_classification_subgroup, standards_deviations_brits_overweight_classification_subgroup)\n",
    "\n",
    "print(lower_bounds_brits_overweight_classification_subgroup)\n",
    "print(upper_bounds_brits_overweight_classification_subgroup)"
   ]
  },
  {
   "cell_type": "code",
   "execution_count": 183,
   "metadata": {},
   "outputs": [
    {
     "name": "stdout",
     "output_type": "stream",
     "text": [
      "[np.float64(0.14624609297999341), np.float64(0.18415528921903443), np.float64(0.909720282165972), np.float64(0.38052832269971276), np.float64(0.10551525836734299), np.float64(0.16485663295550892), np.float64(0.028397843809544517)]\n",
      "[np.float64(0.8693158474038792), np.float64(0.4048962706035148), np.float64(1.9831085736449836), np.float64(2.2776141033419854), np.float64(0.34420218670371083), np.float64(0.7771147900884521), np.float64(0.03955727457150905)]\n"
     ]
    }
   ],
   "source": [
    "lower_bounds_brits_overweight_classification_subgroup, upper_bounds_brits_overweight_classification_subgroup = toolkits.calc_lower_and_upper_bound_percentile(results_bootstrap_brits_overweight_classification_subgroup)\n",
    "\n",
    "print(lower_bounds_brits_overweight_classification_subgroup)\n",
    "print(upper_bounds_brits_overweight_classification_subgroup)"
   ]
  },
  {
   "cell_type": "markdown",
   "metadata": {},
   "source": [
    "#### Mean values of lower bound and upper bound"
   ]
  },
  {
   "cell_type": "code",
   "execution_count": 184,
   "metadata": {},
   "outputs": [
    {
     "name": "stdout",
     "output_type": "stream",
     "text": [
      "[np.float64(0.5077809701919364), np.float64(0.2945257799112746), np.float64(1.4464144279054778), np.float64(1.329071213020849), np.float64(0.2248587225355269), np.float64(0.4709857115219805), np.float64(0.033977559190526786)]\n"
     ]
    }
   ],
   "source": [
    "mean_values_ci_brits_overweight_classification_subgroup  = toolkits.calc_mean_values_ci(lower_bounds_brits_overweight_classification_subgroup, upper_bounds_brits_overweight_classification_subgroup)\n",
    "\n",
    "print(mean_values_ci_brits_overweight_classification_subgroup)"
   ]
  },
  {
   "cell_type": "markdown",
   "metadata": {},
   "source": [
    "### Confidence Interval (Obesity 1 classification subgroup)"
   ]
  },
  {
   "cell_type": "markdown",
   "metadata": {},
   "source": [
    "#### Distribution Bootstrap for the Top 5 variables with Largest Differences in MAE (Mean Absolute Error) "
   ]
  },
  {
   "cell_type": "code",
   "execution_count": 185,
   "metadata": {},
   "outputs": [],
   "source": [
    "indices = [32, 0, 6, 31, 5, 1, 35]\n",
    "\n",
    "results_bootstrap_brits_obs1_classification_subgroup = []\n",
    "\n",
    "for i in indices:\n",
    "       results_bootstrap_brits_obs1_classification_subgroup.append(toolkits.bootstrap_v2(testing_ae_brits_variables_standard, indicating_mask_variable_standard_norm, 14, i, 9000))\n",
    "\n"
   ]
  },
  {
   "cell_type": "markdown",
   "metadata": {},
   "source": [
    "#### Calculating the mean and standard deviation of the bootstrap distribution"
   ]
  },
  {
   "cell_type": "code",
   "execution_count": 186,
   "metadata": {},
   "outputs": [
    {
     "name": "stdout",
     "output_type": "stream",
     "text": [
      "[np.float64(0.27758254972645824), np.float64(0.30673163478710974), np.float64(0.49782627534217366), np.float64(0.49254042530897457), np.float64(0.40482788915482854), np.float64(0.14680209434138097), np.float64(0.04955810846956136)]\n",
      "[np.float64(0.08663082547785), np.float64(0.05841847062881554), np.float64(0.25391575091978175), np.float64(0.19734694495289493), np.float64(0.12175443025243234), np.float64(0.044400604014272906), np.float64(0.006134371972722228)]\n"
     ]
    }
   ],
   "source": [
    "means_bootstraps_brits_obs1_classification_subgroup, standards_deviations_brits_obs1_classification_subgroup = toolkits.calc_mean_and_standard_deviation(results_bootstrap_brits_obs1_classification_subgroup)\n",
    "\n",
    "print(means_bootstraps_brits_obs1_classification_subgroup)\n",
    "print(standards_deviations_brits_obs1_classification_subgroup)\n"
   ]
  },
  {
   "cell_type": "markdown",
   "metadata": {},
   "source": [
    "#### Calculating lower bound and upper bound"
   ]
  },
  {
   "cell_type": "code",
   "execution_count": 187,
   "metadata": {},
   "outputs": [
    {
     "name": "stdout",
     "output_type": "stream",
     "text": [
      "[np.float64(0.10778925183889732), np.float64(0.19223353632272033), np.float64(0.00016054843195834057), np.float64(0.10574752074229193), np.float64(0.16619359090186717), np.float64(0.059778509581581526), np.float64(0.03753496033525387)]\n",
      "[np.float64(0.44737584761401916), np.float64(0.42122973325149915), np.float64(0.995492002252389), np.float64(0.8793333298756572), np.float64(0.6434621874077899), np.float64(0.2338256791011804), np.float64(0.061581256603868845)]\n"
     ]
    }
   ],
   "source": [
    "lower_bounds_brits_obs1_classification_subgroup, upper_bounds_brits_obs1_classification_subgroup = toolkits.calc_lower_and_upper_bound(results_bootstrap_brits_obs1_classification_subgroup, means_bootstraps_brits_obs1_classification_subgroup, standards_deviations_brits_obs1_classification_subgroup)\n",
    "\n",
    "print(lower_bounds_brits_obs1_classification_subgroup)\n",
    "print(upper_bounds_brits_obs1_classification_subgroup)"
   ]
  },
  {
   "cell_type": "code",
   "execution_count": 188,
   "metadata": {},
   "outputs": [
    {
     "name": "stdout",
     "output_type": "stream",
     "text": [
      "[np.float64(0.12289231359182605), np.float64(0.2000579254761009), np.float64(0.0), np.float64(0.0), np.float64(0.21008376164389972), np.float64(0.0736643816686853), np.float64(0.03833129435496211)]\n",
      "[np.float64(0.46007914986975795), np.float64(0.42917899390694847), np.float64(1.0159483154566267), np.float64(0.6210031331183582), np.float64(0.6817938338223474), np.float64(0.24464222148606513), np.float64(0.06211861668493779)]\n"
     ]
    }
   ],
   "source": [
    "lower_bounds_brits_obs1_classification_subgroup, upper_bounds_brits_obs1_classification_subgroup = toolkits.calc_lower_and_upper_bound_percentile(results_bootstrap_brits_obs1_classification_subgroup)\n",
    "\n",
    "print(lower_bounds_brits_obs1_classification_subgroup)\n",
    "print(upper_bounds_brits_obs1_classification_subgroup)"
   ]
  },
  {
   "cell_type": "markdown",
   "metadata": {},
   "source": [
    "#### Mean values of lower bound and upper bound"
   ]
  },
  {
   "cell_type": "code",
   "execution_count": 189,
   "metadata": {},
   "outputs": [
    {
     "name": "stdout",
     "output_type": "stream",
     "text": [
      "[np.float64(0.291485731730792), np.float64(0.3146184596915247), np.float64(0.5079741577283133), np.float64(0.3105015665591791), np.float64(0.44593879773312356), np.float64(0.15915330157737523), np.float64(0.050224955519949946)]\n"
     ]
    }
   ],
   "source": [
    "mean_values_ci_brits_obs1_classification_subgroup  = toolkits.calc_mean_values_ci(lower_bounds_brits_obs1_classification_subgroup, upper_bounds_brits_obs1_classification_subgroup)\n",
    "\n",
    "print(mean_values_ci_brits_obs1_classification_subgroup)"
   ]
  },
  {
   "cell_type": "markdown",
   "metadata": {},
   "source": [
    "### Confidence Interval (Obesity 2 classification subgroup)"
   ]
  },
  {
   "cell_type": "markdown",
   "metadata": {},
   "source": [
    "#### Distribution Bootstrap for the Top 5 variables with Largest Differences in MAE (Mean Absolute Error) "
   ]
  },
  {
   "cell_type": "code",
   "execution_count": 190,
   "metadata": {},
   "outputs": [],
   "source": [
    "indices = [32, 0, 6, 31, 5, 1, 35]\n",
    "\n",
    "results_bootstrap_brits_obs2_classification_subgroup = []\n",
    "\n",
    "for i in indices:\n",
    "       results_bootstrap_brits_obs2_classification_subgroup.append(toolkits.bootstrap_v2(testing_ae_brits_variables_standard, indicating_mask_variable_standard_norm, 15, i, 9000))\n",
    "\n"
   ]
  },
  {
   "cell_type": "markdown",
   "metadata": {},
   "source": [
    "#### Calculating the mean and standard deviation of the bootstrap distribution"
   ]
  },
  {
   "cell_type": "code",
   "execution_count": 191,
   "metadata": {},
   "outputs": [
    {
     "name": "stdout",
     "output_type": "stream",
     "text": [
      "[np.float64(1.3987342012682182), np.float64(0.25770282954810214), np.float64(0.12437234472641032), np.float64(0.0), np.float64(0.28613978848179056), np.float64(0.5067906683265901), np.float64(0.06420550627348588)]\n",
      "[np.float64(1.0273410411361406), np.float64(0.04901938288945451), np.float64(0.09640692347022636), np.float64(0.0), np.float64(0.13581125260590501), np.float64(0.2761364677567751), np.float64(0.012361877548406335)]\n"
     ]
    }
   ],
   "source": [
    "means_bootstraps_brits_obs2_classification_subgroup, standards_deviations_brits_obs2_classification_subgroup = toolkits.calc_mean_and_standard_deviation(results_bootstrap_brits_obs2_classification_subgroup)\n",
    "\n",
    "print(means_bootstraps_brits_obs2_classification_subgroup)\n",
    "print(standards_deviations_brits_obs2_classification_subgroup)\n"
   ]
  },
  {
   "cell_type": "markdown",
   "metadata": {},
   "source": [
    "#### Calculating lower bound and upper bound"
   ]
  },
  {
   "cell_type": "code",
   "execution_count": 192,
   "metadata": {},
   "outputs": [
    {
     "name": "stdout",
     "output_type": "stream",
     "text": [
      "[np.float64(-0.6148172391984992), np.float64(0.16162660454039235), np.float64(-0.0645817531355426), np.float64(0.0), np.float64(0.019954624678945154), np.float64(-0.03442686329479494), np.float64(0.03997667149731517)]\n",
      "[np.float64(3.4122856417349356), np.float64(0.35377905455581193), np.float64(0.31332644258836323), np.float64(0.0), np.float64(0.552324952284636), np.float64(1.0480081999479753), np.float64(0.0884343410496566)]\n"
     ]
    }
   ],
   "source": [
    "lower_bounds_brits_obs2_classification_subgroup, upper_bounds_brits_obs2_classification_subgroup = toolkits.calc_lower_and_upper_bound(results_bootstrap_brits_obs2_classification_subgroup, means_bootstraps_brits_obs2_classification_subgroup, standards_deviations_brits_obs2_classification_subgroup)\n",
    "\n",
    "print(lower_bounds_brits_obs2_classification_subgroup)\n",
    "print(upper_bounds_brits_obs2_classification_subgroup)"
   ]
  },
  {
   "cell_type": "code",
   "execution_count": 193,
   "metadata": {},
   "outputs": [
    {
     "name": "stdout",
     "output_type": "stream",
     "text": [
      "[np.float64(0.0), np.float64(0.16085406685781214), np.float64(0.0), np.float64(0.0), np.float64(0.11027911334373292), np.float64(0.08223802713905004), np.float64(0.04146215450961552)]\n",
      "[np.float64(3.581291190927886), np.float64(0.35189023952639004), np.float64(0.1991019392632846), np.float64(0.0), np.float64(0.5926599976593028), np.float64(1.0950697955323436), np.float64(0.08963354350479674)]\n"
     ]
    }
   ],
   "source": [
    "lower_bounds_brits_obs2_classification_subgroup, upper_bounds_brits_obs2_classification_subgroup = toolkits.calc_lower_and_upper_bound_percentile(results_bootstrap_brits_obs2_classification_subgroup)\n",
    "\n",
    "print(lower_bounds_brits_obs2_classification_subgroup)\n",
    "print(upper_bounds_brits_obs2_classification_subgroup)"
   ]
  },
  {
   "cell_type": "markdown",
   "metadata": {},
   "source": [
    "#### Mean values of lower bound and upper bound"
   ]
  },
  {
   "cell_type": "code",
   "execution_count": 194,
   "metadata": {},
   "outputs": [
    {
     "name": "stdout",
     "output_type": "stream",
     "text": [
      "[np.float64(1.790645595463943), np.float64(0.2563721531921011), np.float64(0.0995509696316423), np.float64(0.0), np.float64(0.3514695555015178), np.float64(0.5886539113356968), np.float64(0.06554784900720613)]\n"
     ]
    }
   ],
   "source": [
    "mean_values_ci_brits_obs2_classification_subgroup  = toolkits.calc_mean_values_ci(lower_bounds_brits_obs2_classification_subgroup, upper_bounds_brits_obs2_classification_subgroup)\n",
    "\n",
    "print(mean_values_ci_brits_obs2_classification_subgroup)"
   ]
  },
  {
   "cell_type": "markdown",
   "metadata": {},
   "source": [
    "### Confidence Interval (Obesity 3 classification subgroup)"
   ]
  },
  {
   "cell_type": "markdown",
   "metadata": {},
   "source": [
    "#### Distribution Bootstrap for the Top 5 variables with Largest Differences in MAE (Mean Absolute Error) "
   ]
  },
  {
   "cell_type": "code",
   "execution_count": 195,
   "metadata": {},
   "outputs": [],
   "source": [
    "indices = [32, 0, 6, 31, 5, 1, 35]\n",
    "\n",
    "results_bootstrap_brits_obs3_classification_subgroup = []\n",
    "\n",
    "for i in indices:\n",
    "       results_bootstrap_brits_obs3_classification_subgroup.append(toolkits.bootstrap_v2(testing_ae_brits_variables_standard, indicating_mask_variable_standard_norm, 16, i, 9000))\n",
    "\n"
   ]
  },
  {
   "cell_type": "markdown",
   "metadata": {},
   "source": [
    "#### Calculating the mean and standard deviation of the bootstrap distribution"
   ]
  },
  {
   "cell_type": "code",
   "execution_count": 196,
   "metadata": {},
   "outputs": [
    {
     "name": "stdout",
     "output_type": "stream",
     "text": [
      "[np.float64(1.1558137039269567), np.float64(0.15105622662933305), np.float64(0.0), np.float64(0.24833773550806432), np.float64(0.2076193164712968), np.float64(0.9800082280153003), np.float64(0.13877564149678087)]\n",
      "[np.float64(0.8099368792496682), np.float64(0.050537477693121294), np.float64(0.0), np.float64(0.18895668393214338), np.float64(0.13024546336467263), np.float64(0.8852108446590914), np.float64(0.023450873782400468)]\n"
     ]
    }
   ],
   "source": [
    "means_bootstraps_brits_obs3_classification_subgroup, standards_deviations_brits_obs3_classification_subgroup = toolkits.calc_mean_and_standard_deviation(results_bootstrap_brits_obs3_classification_subgroup)\n",
    "\n",
    "print(means_bootstraps_brits_obs3_classification_subgroup)\n",
    "print(standards_deviations_brits_obs3_classification_subgroup)\n"
   ]
  },
  {
   "cell_type": "markdown",
   "metadata": {},
   "source": [
    "#### Calculating lower bound and upper bound"
   ]
  },
  {
   "cell_type": "code",
   "execution_count": 197,
   "metadata": {},
   "outputs": [
    {
     "name": "stdout",
     "output_type": "stream",
     "text": [
      "[np.float64(-0.4316334091531595), np.float64(0.05200459048131893), np.float64(0.0), np.float64(-0.12201055963705504), np.float64(-0.04765710087319261), np.float64(-0.7549731462407993), np.float64(0.09281277347728137)]\n",
      "[np.float64(2.743260817007073), np.float64(0.25010786277734715), np.float64(0.0), np.float64(0.6186860306531836), np.float64(0.4628957338157862), np.float64(2.7149896022714), np.float64(0.18473850951628037)]\n"
     ]
    }
   ],
   "source": [
    "lower_bounds_brits_obs3_classification_subgroup, upper_bounds_brits_obs3_classification_subgroup = toolkits.calc_lower_and_upper_bound(results_bootstrap_brits_obs3_classification_subgroup, means_bootstraps_brits_obs3_classification_subgroup, standards_deviations_brits_obs3_classification_subgroup)\n",
    "\n",
    "print(lower_bounds_brits_obs3_classification_subgroup)\n",
    "print(upper_bounds_brits_obs3_classification_subgroup)"
   ]
  },
  {
   "cell_type": "code",
   "execution_count": 198,
   "metadata": {},
   "outputs": [
    {
     "name": "stdout",
     "output_type": "stream",
     "text": [
      "[np.float64(0.15495382950717612), np.float64(0.06587815295679428), np.float64(0.0), np.float64(0.0), np.float64(0.030002538375966944), np.float64(0.0), np.float64(0.09526878194415268)]\n",
      "[np.float64(2.9770854048865076), np.float64(0.2609092593596054), np.float64(0.0), np.float64(0.39211221396027324), np.float64(0.49802743026682), np.float64(2.877838304401334), np.float64(0.18759590004491447)]\n"
     ]
    }
   ],
   "source": [
    "lower_bounds_brits_obs3_classification_subgroup, upper_bounds_brits_obs3_classification_subgroup = toolkits.calc_lower_and_upper_bound_percentile(results_bootstrap_brits_obs3_classification_subgroup)\n",
    "\n",
    "print(lower_bounds_brits_obs3_classification_subgroup)\n",
    "print(upper_bounds_brits_obs3_classification_subgroup)"
   ]
  },
  {
   "cell_type": "markdown",
   "metadata": {},
   "source": [
    "#### Mean values of lower bound and upper bound"
   ]
  },
  {
   "cell_type": "code",
   "execution_count": 199,
   "metadata": {},
   "outputs": [
    {
     "name": "stdout",
     "output_type": "stream",
     "text": [
      "[np.float64(1.566019617196842), np.float64(0.16339370615819984), np.float64(0.0), np.float64(0.19605610698013662), np.float64(0.2640149843213935), np.float64(1.438919152200667), np.float64(0.14143234099453358)]\n"
     ]
    }
   ],
   "source": [
    "mean_values_ci_brits_obs3_classification_subgroup  = toolkits.calc_mean_values_ci(lower_bounds_brits_obs3_classification_subgroup, upper_bounds_brits_obs3_classification_subgroup)\n",
    "\n",
    "print(mean_values_ci_brits_obs3_classification_subgroup)"
   ]
  },
  {
   "cell_type": "markdown",
   "metadata": {},
   "source": [
    "### Confidence Interval (Obesity subgroup)"
   ]
  },
  {
   "cell_type": "code",
   "execution_count": 61,
   "metadata": {},
   "outputs": [],
   "source": [
    "indices = [32, 0, 6, 31, 5, 1, 35]\n",
    "\n",
    "results_bootstrap_brits_obs3_classification_subgroup = []\n",
    "\n",
    "for i in indices:\n",
    "       results_bootstrap_brits_obs3_classification_subgroup.append(toolkits.bootstrap_v2(testing_ae_brits_variables_standard, indicating_mask_variable_standard_norm, 8, i, 9000))\n",
    "\n"
   ]
  },
  {
   "cell_type": "code",
   "execution_count": 62,
   "metadata": {},
   "outputs": [
    {
     "name": "stdout",
     "output_type": "stream",
     "text": [
      "[np.float64(0.2806926933863719), np.float64(0.3820663150379395), np.float64(0.9057647775017064), np.float64(0.5853079679948625), np.float64(0.8725816158315272), np.float64(0.38925668747975356), np.float64(0.04761286414597215)]\n",
      "[np.float64(0.06373721155843905), np.float64(0.18012747998930878), np.float64(0.4688572649094767), np.float64(0.096513834263852), np.float64(0.3077718964288261), np.float64(0.24702680671125146), np.float64(0.003977853360674446)]\n"
     ]
    }
   ],
   "source": [
    "means_bootstraps_brits_obs3_classification_subgroup, standards_deviations_brits_obs3_classification_subgroup = toolkits.calc_mean_and_standard_deviation(results_bootstrap_brits_obs3_classification_subgroup)\n",
    "\n",
    "print(means_bootstraps_brits_obs3_classification_subgroup)\n",
    "print(standards_deviations_brits_obs3_classification_subgroup)\n"
   ]
  },
  {
   "cell_type": "code",
   "execution_count": 63,
   "metadata": {},
   "outputs": [
    {
     "name": "stdout",
     "output_type": "stream",
     "text": [
      "[np.float64(0.168612870048241), np.float64(0.15977144108497995), np.float64(0.0), np.float64(0.3978499660236096), np.float64(0.3429081123820663), np.float64(0.10774778339258363), np.float64(0.04010443955278869)]\n",
      "[np.float64(0.4172395918238282), np.float64(0.7999125086772191), np.float64(1.6622886860714472), np.float64(0.7761771096355127), np.float64(1.5331644393667998), np.float64(0.9768906000456562), np.float64(0.055769877446810424)]\n"
     ]
    }
   ],
   "source": [
    "lower_bounds_brits_obs3_classification_subgroup, upper_bounds_brits_obs3_classification_subgroup = toolkits.calc_lower_and_upper_bound_percentile(results_bootstrap_brits_obs3_classification_subgroup)\n",
    "\n",
    "print(lower_bounds_brits_obs3_classification_subgroup)\n",
    "print(upper_bounds_brits_obs3_classification_subgroup)"
   ]
  },
  {
   "cell_type": "code",
   "execution_count": 64,
   "metadata": {},
   "outputs": [
    {
     "name": "stdout",
     "output_type": "stream",
     "text": [
      "[np.float64(0.2929262309360346), np.float64(0.47984197488109953), np.float64(0.8311443430357236), np.float64(0.5870135378295611), np.float64(0.9380362758744331), np.float64(0.5423191917191199), np.float64(0.047937158499799556)]\n"
     ]
    }
   ],
   "source": [
    "mean_values_ci_brits_obs3_classification_subgroup  = toolkits.calc_mean_values_ci(lower_bounds_brits_obs3_classification_subgroup, upper_bounds_brits_obs3_classification_subgroup)\n",
    "\n",
    "print(mean_values_ci_brits_obs3_classification_subgroup)"
   ]
  },
  {
   "cell_type": "markdown",
   "metadata": {},
   "source": [
    "## USGAN"
   ]
  },
  {
   "cell_type": "markdown",
   "metadata": {},
   "source": [
    "### Calculate MAE and AE"
   ]
  },
  {
   "cell_type": "code",
   "execution_count": 73,
   "metadata": {},
   "outputs": [],
   "source": [
    "testing_mae_usgan_variables_standard, testing_ae_usgan_variables_standard = toolkits.calculate_mae(usgan_imputation_standard, test_X_ori_variable_standard_norm, indicating_mask_variable_standard_norm)"
   ]
  },
  {
   "cell_type": "markdown",
   "metadata": {},
   "source": [
    "### Taking the MAE difference for USGAN model"
   ]
  },
  {
   "cell_type": "markdown",
   "metadata": {},
   "source": [
    "#### Difference between gender group"
   ]
  },
  {
   "cell_type": "code",
   "execution_count": 201,
   "metadata": {},
   "outputs": [
    {
     "data": {
      "text/plain": [
       "[('Cholesterol', 0.1139685240845858),\n",
       " ('K', 0.07962183065280748),\n",
       " ('Bilirubin', 0.07273528639114712),\n",
       " ('SaO2', 0.06724927135996472),\n",
       " ('AST', 0.06357152153738319)]"
      ]
     },
     "execution_count": 201,
     "metadata": {},
     "output_type": "execute_result"
    }
   ],
   "source": [
    "diff_usgan_gender_subgroup = toolkits.diff_mae_top_5(testing_mae_usgan_variables_standard, 1, 2, variables)\n",
    "diff_usgan_gender_subgroup"
   ]
  },
  {
   "cell_type": "markdown",
   "metadata": {},
   "source": [
    "#### Difference between age group"
   ]
  },
  {
   "cell_type": "code",
   "execution_count": 202,
   "metadata": {},
   "outputs": [
    {
     "data": {
      "text/plain": [
       "[('Cholesterol', 1.4080334556310095),\n",
       " ('TroponinI', 1.2745449266559237),\n",
       " ('ALP', 0.4648972864315326),\n",
       " ('SaO2', 0.14584230690666233),\n",
       " ('Bilirubin', 0.1443865131739146)]"
      ]
     },
     "execution_count": 202,
     "metadata": {},
     "output_type": "execute_result"
    }
   ],
   "source": [
    "diff_usgan_age_subgroup = toolkits.diff_mae_top_5(testing_mae_usgan_variables_standard, 4, 5, variables)\n",
    "diff_usgan_age_subgroup"
   ]
  },
  {
   "cell_type": "markdown",
   "metadata": {},
   "source": [
    "#### Difference between ICUType group"
   ]
  },
  {
   "cell_type": "code",
   "execution_count": 203,
   "metadata": {},
   "outputs": [],
   "source": [
    "diff_usgan_ICUType_1_2 = toolkits.diff_mae_top_5(testing_mae_usgan_variables_standard, 6, 7, variables)\n",
    "diff_usgan_ICUType_1_3 = toolkits.diff_mae_top_5(testing_mae_usgan_variables_standard, 6, 8, variables)\n",
    "diff_usgan_ICUType_1_4 = toolkits.diff_mae_top_5(testing_mae_usgan_variables_standard, 6, 9, variables)\n",
    "diff_usgan_ICUType_2_3 = toolkits.diff_mae_top_5(testing_mae_usgan_variables_standard, 7, 8, variables)\n",
    "diff_usgan_ICUType_2_4 = toolkits.diff_mae_top_5(testing_mae_usgan_variables_standard, 7, 9, variables)\n",
    "diff_usgan_ICUType_3_4 = toolkits.diff_mae_top_5(testing_mae_usgan_variables_standard, 8, 9, variables)"
   ]
  },
  {
   "cell_type": "code",
   "execution_count": 204,
   "metadata": {},
   "outputs": [
    {
     "name": "stdout",
     "output_type": "stream",
     "text": [
      "Diferença(MAE) ICUType 1 e 2\n",
      "----------------------------\n",
      "[('Cholesterol', 1.968532838973082), ('TroponinT', 0.31397445203755153), ('TroponinI', 0.24761901013296939), ('Glucose', 0.17361770179039776), ('Temp', 0.1581287282962357)]\n",
      "----------------------------\n",
      "Diferença(MAE) ICUType 1 e 3\n",
      "----------------------------\n",
      "[('TroponinI', 1.0540542904431034), ('ALP', 0.9588981039437612), ('SaO2', 0.9557847709091482), ('Cholesterol', 0.7208086032231116), ('TroponinT', 0.3983027555297005)]\n",
      "----------------------------\n",
      "Diferença(MAE) ICUType 1 e 4\n",
      "----------------------------\n",
      "[('TroponinI', 0.8469546614770607), ('Cholesterol', 0.4515708998874557), ('TroponinT', 0.4392851376770836), ('ALP', 0.2595152189283853), ('Glucose', 0.1775868348873213)]\n",
      "----------------------------\n",
      "Diferença(MAE) ICUType 2 e 3\n",
      "[('Cholesterol', 2.6893414421961936), ('TroponinI', 1.3016733005760728), ('ALP', 0.978153547526703), ('SaO2', 0.872219162894308), ('Temp', 0.2501181542790452)]\n",
      "----------------------------\n",
      "Diferença(MAE) ICUType 2 e 4\n",
      "----------------------------\n",
      "[('Cholesterol', 2.4201037388605378), ('TroponinI', 1.09457367161003), ('ALP', 0.2787706625113271), ('Temp', 0.19291133317149772), ('SaO2', 0.1663140216150758)]\n",
      "----------------------------\n",
      "Diferença(MAE) ICUType 3 e 4\n",
      "----------------------------\n",
      "[('SaO2', 1.038533184509384), ('ALP', 0.6993828850153759), ('Cholesterol', 0.2692377033356559), ('Glucose', 0.2393879759953892), ('K', 0.20831710490032684)]\n",
      "----------------------------\n"
     ]
    }
   ],
   "source": [
    "print(\"Diferença(MAE) ICUType 1 e 2\")\n",
    "print(\"----------------------------\")\n",
    "print(diff_usgan_ICUType_1_2)\n",
    "print(\"----------------------------\")\n",
    "print(\"Diferença(MAE) ICUType 1 e 3\")\n",
    "print(\"----------------------------\")\n",
    "print(diff_usgan_ICUType_1_3)\n",
    "print(\"----------------------------\")\n",
    "print(\"Diferença(MAE) ICUType 1 e 4\")\n",
    "print(\"----------------------------\")\n",
    "print(diff_usgan_ICUType_1_4)\n",
    "print(\"----------------------------\")\n",
    "print(\"Diferença(MAE) ICUType 2 e 3\")\n",
    "print(diff_usgan_ICUType_2_3)\n",
    "print(\"----------------------------\")\n",
    "print(\"Diferença(MAE) ICUType 2 e 4\")\n",
    "print(\"----------------------------\")\n",
    "print(diff_usgan_ICUType_2_4)\n",
    "print(\"----------------------------\")\n",
    "print(\"Diferença(MAE) ICUType 3 e 4\")\n",
    "print(\"----------------------------\")\n",
    "print(diff_usgan_ICUType_3_4)\n",
    "print(\"----------------------------\")"
   ]
  },
  {
   "cell_type": "code",
   "execution_count": 205,
   "metadata": {},
   "outputs": [
    {
     "name": "stdout",
     "output_type": "stream",
     "text": [
      "Top 5 variáveis ICUType\n",
      "-----------------------\n",
      "Cholesterol\n",
      "TroponinI\n",
      "ALP\n",
      "SaO2\n",
      "TroponinT\n"
     ]
    }
   ],
   "source": [
    "print(\"Top 5 variáveis ICUType\")\n",
    "print(\"-----------------------\")\n",
    "print(variables[6])\n",
    "print(variables[31])\n",
    "print(variables[0])\n",
    "print(variables[28])\n",
    "print(variables[32])"
   ]
  },
  {
   "cell_type": "markdown",
   "metadata": {},
   "source": [
    "#### Difference between BMI group"
   ]
  },
  {
   "cell_type": "code",
   "execution_count": 206,
   "metadata": {},
   "outputs": [],
   "source": [
    "diff_usgan_classification_undefined_low = toolkits.diff_mae_top_5(testing_mae_usgan_variables_standard, 10, 11, variables)\n",
    "diff_usgan_classification_undefined_normal = toolkits.diff_mae_top_5(testing_mae_usgan_variables_standard, 10, 12, variables)\n",
    "diff_usgan_classification_undefined_over = toolkits.diff_mae_top_5(testing_mae_usgan_variables_standard, 10, 13, variables)\n",
    "diff_usgan_classification_undefined_obs1 = toolkits.diff_mae_top_5(testing_mae_usgan_variables_standard, 10, 14, variables)\n",
    "diff_usgan_classification_undefined_obs2 = toolkits.diff_mae_top_5(testing_mae_usgan_variables_standard, 10, 15, variables)\n",
    "diff_usgan_classification_undefined_obs3 = toolkits.diff_mae_top_5(testing_mae_usgan_variables_standard, 10, 16, variables)\n",
    "\n",
    "diff_usgan_classification_low_normal = toolkits.diff_mae_top_5(testing_mae_usgan_variables_standard, 11, 12, variables)\n",
    "diff_usgan_classification_low_over = toolkits.diff_mae_top_5(testing_mae_usgan_variables_standard, 11, 13, variables)\n",
    "diff_usgan_classification_low_obs1 = toolkits.diff_mae_top_5(testing_mae_usgan_variables_standard, 11, 14, variables)\n",
    "diff_usgan_classification_low_obs2 = toolkits.diff_mae_top_5(testing_mae_usgan_variables_standard, 11, 15, variables)\n",
    "diff_usgan_classification_low_obs3 = toolkits.diff_mae_top_5(testing_mae_usgan_variables_standard, 11, 16, variables)\n",
    "\n",
    "diff_usgan_classification_normal_over = toolkits.diff_mae_top_5(testing_mae_usgan_variables_standard, 12, 13, variables)\n",
    "diff_usgan_classification_normal_obs1 = toolkits.diff_mae_top_5(testing_mae_usgan_variables_standard, 12, 14, variables)\n",
    "diff_usgan_classification_normal_obs2 = toolkits.diff_mae_top_5(testing_mae_usgan_variables_standard, 12, 15, variables)\n",
    "diff_usgan_classification_normal_obs3 = toolkits.diff_mae_top_5(testing_mae_usgan_variables_standard, 12, 16, variables)\n",
    "\n",
    "diff_usgan_classification_over_obs1 = toolkits.diff_mae_top_5(testing_mae_usgan_variables_standard, 13, 14, variables)\n",
    "diff_usgan_classification_over_obs2 = toolkits.diff_mae_top_5(testing_mae_usgan_variables_standard, 13, 15, variables)\n",
    "diff_usgan_classification_over_obs3 = toolkits.diff_mae_top_5(testing_mae_usgan_variables_standard, 13, 16, variables)\n",
    "\n",
    "\n",
    "diff_usgan_classification_obs1_obs2 = toolkits.diff_mae_top_5(testing_mae_usgan_variables_standard, 14, 15, variables)\n",
    "diff_usgan_classification_obs1_obs3 = toolkits.diff_mae_top_5(testing_mae_usgan_variables_standard, 14, 16, variables)\n",
    "\n",
    "diff_usgan_classification_obs2_obs3 = toolkits.diff_mae_top_5(testing_mae_usgan_variables_standard, 15, 16, variables)"
   ]
  },
  {
   "cell_type": "code",
   "execution_count": 207,
   "metadata": {},
   "outputs": [
    {
     "name": "stdout",
     "output_type": "stream",
     "text": [
      "Diferença(MAE) Classification Undefined and low\n",
      "----------------------------\n",
      "[('ALP', 1.9859619551977459), ('TroponinI', 1.366326168723437), ('Bilirubin', 1.040021736197295), ('Cholesterol', 0.9605295647070888), ('SaO2', 0.38269896484952315)]\n",
      "----------------------------\n",
      "Diferença(MAE) Classification Undefined and normal\n",
      "----------------------------\n",
      "[('Cholesterol', 1.5579458954552443), ('TroponinI', 0.8172831271866614), ('SaO2', 0.5748494144707222), ('Platelets', 0.11877231069789002), ('ALP', 0.1039191923535443)]\n",
      "----------------------------\n",
      "Diferença(MAE) Classification Undefined and over\n",
      "----------------------------\n",
      "[('Cholesterol', 0.7813610360341876), ('TroponinI', 0.5289144739027736), ('SaO2', 0.26335363873788353), ('TroponinT', 0.15046357996993215), ('Bilirubin', 0.13730851481079887)]\n",
      "----------------------------\n",
      "Diferença(MAE) Classification Undefined and obs1\n",
      "[('Cholesterol', 1.1133597984183674), ('Ph', 0.8795575943383244), ('TroponinI', 0.5672434018132706), ('Albumin', 0.2786467981331262), ('SaO2', 0.2735275843043166)]\n",
      "----------------------------\n",
      "Diferença(MAE) Classification Undefined and obs2\n",
      "----------------------------\n",
      "[('TroponinI', 1.366326168723437), ('TroponinT', 0.6737778028149786), ('Cholesterol', 0.6391970312140276), ('ALT', 0.27448280907400713), ('ALP', 0.22372968074381316)]\n",
      "----------------------------\n",
      "Diferença(MAE) ICUType Undefined and obs3\n",
      "----------------------------\n",
      "[('Cholesterol', 1.8585491575110846), ('TroponinT', 0.7477405553259759), ('TroponinI', 0.6635170013125129), ('ALT', 0.6527296788682971), ('Albumin', 0.19931582909317025)]\n",
      "----------------------------\n"
     ]
    }
   ],
   "source": [
    "print(\"Diferença(MAE) Classification Undefined and low\")\n",
    "print(\"----------------------------\")\n",
    "print(diff_usgan_classification_undefined_low)\n",
    "print(\"----------------------------\")\n",
    "print(\"Diferença(MAE) Classification Undefined and normal\")\n",
    "print(\"----------------------------\")\n",
    "print(diff_usgan_classification_undefined_normal)\n",
    "print(\"----------------------------\")\n",
    "print(\"Diferença(MAE) Classification Undefined and over\")\n",
    "print(\"----------------------------\")\n",
    "print(diff_usgan_classification_undefined_over)\n",
    "print(\"----------------------------\")\n",
    "print(\"Diferença(MAE) Classification Undefined and obs1\")\n",
    "print(diff_usgan_classification_undefined_obs1)\n",
    "print(\"----------------------------\")\n",
    "print(\"Diferença(MAE) Classification Undefined and obs2\")\n",
    "print(\"----------------------------\")\n",
    "print(diff_usgan_classification_undefined_obs2)\n",
    "print(\"----------------------------\")\n",
    "print(\"Diferença(MAE) ICUType Undefined and obs3\")\n",
    "print(\"----------------------------\")\n",
    "print(diff_usgan_classification_undefined_obs3)\n",
    "print(\"----------------------------\")"
   ]
  },
  {
   "cell_type": "code",
   "execution_count": 208,
   "metadata": {},
   "outputs": [
    {
     "name": "stdout",
     "output_type": "stream",
     "text": [
      "Diferença(MAE) Classification low and normal\n",
      "----------------------------\n",
      "[('TroponinI', 2.1836092959100983), ('ALP', 1.8820427628442014), ('Bilirubin', 1.0046746012576198), ('SaO2', 0.9575483793202454), ('Cholesterol', 0.5974163307481555)]\n",
      "----------------------------\n",
      "Diferença(MAE) Classification low and over\n",
      "----------------------------\n",
      "[('ALP', 2.057108071257811), ('TroponinI', 1.8952406426262105), ('Cholesterol', 1.7418906007412764), ('Bilirubin', 1.1773302510080939), ('Glucose', 0.4141106395038745)]\n",
      "----------------------------\n",
      "Diferença(MAE) Classification low and obs1\n",
      "----------------------------\n",
      "[('ALP', 1.9622075144434934), ('TroponinI', 1.9335695705367075), ('Bilirubin', 1.2290397171661307), ('Ph', 0.8756933605302372), ('Glucose', 0.44454091315430133)]\n",
      "----------------------------\n",
      "Diferença(MAE) Classification low and obs2\n",
      "[('ALP', 2.209691635941559), ('Bilirubin', 1.153094644797057), ('TroponinT', 0.5311563117054711), ('HCO3', 0.38165705305271735), ('BUN', 0.3429543473809096)]\n",
      "----------------------------\n",
      "Diferença(MAE) Classification low and obs3\n",
      "----------------------------\n",
      "[('Cholesterol', 2.8190787222181735), ('TroponinI', 2.02984317003595), ('ALP', 2.0215463893649193), ('Bilirubin', 1.0929629608065454), ('TroponinT', 0.6051190642164684)]\n",
      "----------------------------\n"
     ]
    }
   ],
   "source": [
    "print(\"Diferença(MAE) Classification low and normal\")\n",
    "print(\"----------------------------\")\n",
    "print(diff_usgan_classification_low_normal)\n",
    "print(\"----------------------------\")\n",
    "print(\"Diferença(MAE) Classification low and over\")\n",
    "print(\"----------------------------\")\n",
    "print(diff_usgan_classification_low_over)\n",
    "print(\"----------------------------\")\n",
    "print(\"Diferença(MAE) Classification low and obs1\")\n",
    "print(\"----------------------------\")\n",
    "print(diff_usgan_classification_low_obs1)\n",
    "print(\"----------------------------\")\n",
    "print(\"Diferença(MAE) Classification low and obs2\")\n",
    "print(diff_usgan_classification_low_obs2)\n",
    "print(\"----------------------------\")\n",
    "print(\"Diferença(MAE) Classification low and obs3\")\n",
    "print(\"----------------------------\")\n",
    "print(diff_usgan_classification_low_obs3)\n",
    "print(\"----------------------------\")"
   ]
  },
  {
   "cell_type": "code",
   "execution_count": 209,
   "metadata": {},
   "outputs": [
    {
     "name": "stdout",
     "output_type": "stream",
     "text": [
      "Diferença(MAE) Classification normal and over\n",
      "----------------------------\n",
      "[('Cholesterol', 2.339306931489432), ('SaO2', 0.8382030532086058), ('TroponinI', 0.28836865328388783), ('Lactate', 0.17658435533908162), ('ALP', 0.17506530841360962)]\n",
      "----------------------------\n",
      "Diferença(MAE) Classification normal and obs1\n",
      "----------------------------\n",
      "[('Ph', 0.8895493103803579), ('SaO2', 0.8483769987750389), ('Cholesterol', 0.4445860970368769), ('Albumin', 0.3456592349280355), ('TroponinI', 0.2500397253733908)]\n",
      "----------------------------\n",
      "Diferença(MAE) Classification normal and obs2\n",
      "----------------------------\n",
      "[('TroponinI', 2.1836092959100983), ('Cholesterol', 0.9187488642412167), ('SaO2', 0.7611965750861914), ('TroponinT', 0.6853385877772105), ('ALP', 0.32764887309735746)]\n",
      "----------------------------\n",
      "Diferença(MAE) Classification normal and obs3\n",
      "[('Cholesterol', 3.416495052966329), ('TroponinT', 0.7593013402882078), ('SaO2', 0.691906211296852), ('ALT', 0.6246716987082246), ('Albumin', 0.26632826588807956)]\n",
      "----------------------------\n"
     ]
    }
   ],
   "source": [
    "print(\"Diferença(MAE) Classification normal and over\")\n",
    "print(\"----------------------------\")\n",
    "print(diff_usgan_classification_normal_over)\n",
    "print(\"----------------------------\")\n",
    "print(\"Diferença(MAE) Classification normal and obs1\")\n",
    "print(\"----------------------------\")\n",
    "print(diff_usgan_classification_normal_obs1)\n",
    "print(\"----------------------------\")\n",
    "print(\"Diferença(MAE) Classification normal and obs2\")\n",
    "print(\"----------------------------\")\n",
    "print(diff_usgan_classification_normal_obs2)\n",
    "print(\"----------------------------\")\n",
    "print(\"Diferença(MAE) Classification normal and obs3\")\n",
    "print(diff_usgan_classification_normal_obs3)\n",
    "print(\"----------------------------\")"
   ]
  },
  {
   "cell_type": "code",
   "execution_count": 210,
   "metadata": {},
   "outputs": [
    {
     "name": "stdout",
     "output_type": "stream",
     "text": [
      "Diferença(MAE) Classification over and obs1\n",
      "----------------------------\n",
      "[('Cholesterol', 1.894720834452555), ('Ph', 0.8907999497218877), ('TroponinT', 0.3086857131955071), ('Albumin', 0.1924964141650365), ('ALP', 0.09490055681431758)]\n",
      "----------------------------\n",
      "Diferença(MAE) Classification over and obs2\n",
      "----------------------------\n",
      "[('TroponinI', 1.8952406426262105), ('Cholesterol', 1.4205580672482152), ('TroponinT', 0.5233142228450464), ('BUN', 0.2234609775735314), ('ALT', 0.16362559122010772)]\n",
      "----------------------------\n",
      "Diferença(MAE) Classification over and obs3\n",
      "----------------------------\n",
      "[('Cholesterol', 1.077188121476897), ('TroponinT', 0.5972769753560437), ('ALT', 0.5418724610143977), ('K', 0.15370070433593253), ('SaO2', 0.14629684191175374)]\n",
      "----------------------------\n"
     ]
    }
   ],
   "source": [
    "print(\"Diferença(MAE) Classification over and obs1\")\n",
    "print(\"----------------------------\")\n",
    "print(diff_usgan_classification_over_obs1)\n",
    "print(\"----------------------------\")\n",
    "print(\"Diferença(MAE) Classification over and obs2\")\n",
    "print(\"----------------------------\")\n",
    "print(diff_usgan_classification_over_obs2)\n",
    "print(\"----------------------------\")\n",
    "print(\"Diferença(MAE) Classification over and obs3\")\n",
    "print(\"----------------------------\")\n",
    "print(diff_usgan_classification_over_obs3)\n",
    "print(\"----------------------------\")"
   ]
  },
  {
   "cell_type": "code",
   "execution_count": 211,
   "metadata": {},
   "outputs": [
    {
     "name": "stdout",
     "output_type": "stream",
     "text": [
      "Diferença(MAE) Classification obs1 and obs2 \n",
      "----------------------------\n",
      "[('TroponinI', 1.9335695705367075), ('Ph', 0.894254151573005), ('TroponinT', 0.8319999360405534), ('Cholesterol', 0.4741627672043398), ('ALT', 0.25324163267164324)]\n",
      "----------------------------\n",
      "Diferença(MAE) Classification obs1 and obs3 \n",
      "----------------------------\n",
      "[('Cholesterol', 2.971908955929452), ('TroponinT', 0.9059626885515508), ('Ph', 0.8849431239052544), ('ALT', 0.6314885024659332), ('SaO2', 0.15647078747818682)]\n",
      "----------------------------\n"
     ]
    }
   ],
   "source": [
    "print(\"Diferença(MAE) Classification obs1 and obs2 \")\n",
    "print(\"----------------------------\")\n",
    "print(diff_usgan_classification_obs1_obs2)\n",
    "print(\"----------------------------\")\n",
    "print(\"Diferença(MAE) Classification obs1 and obs3 \")\n",
    "print(\"----------------------------\")\n",
    "print(diff_usgan_classification_obs1_obs3)\n",
    "print(\"----------------------------\")"
   ]
  },
  {
   "cell_type": "code",
   "execution_count": 212,
   "metadata": {},
   "outputs": [
    {
     "name": "stdout",
     "output_type": "stream",
     "text": [
      "Diferença(MAE) Classification obs2 and obs3 \n",
      "----------------------------\n",
      "[('Cholesterol', 2.4977461887251122), ('TroponinI', 2.02984317003595), ('ALT', 0.37824686979429), ('ALP', 0.18814524657663967), ('BUN', 0.15424784345271514)]\n",
      "----------------------------\n"
     ]
    }
   ],
   "source": [
    "print(\"Diferença(MAE) Classification obs2 and obs3 \")\n",
    "print(\"----------------------------\")\n",
    "print(diff_usgan_classification_obs2_obs3)\n",
    "print(\"----------------------------\")"
   ]
  },
  {
   "cell_type": "code",
   "execution_count": 213,
   "metadata": {},
   "outputs": [
    {
     "name": "stdout",
     "output_type": "stream",
     "text": [
      "Top 5 variáveis BMI\n",
      "-----------------------\n",
      "Cholesterol\n",
      "TroponinI\n",
      "ALP\n",
      "TroponinT\n",
      "Bilirubin\n"
     ]
    }
   ],
   "source": [
    "print(\"Top 5 variáveis BMI\")\n",
    "print(\"-----------------------\")\n",
    "print(variables[6])\n",
    "print(variables[31])\n",
    "print(variables[0])\n",
    "print(variables[32])\n",
    "print(variables[5])"
   ]
  },
  {
   "cell_type": "markdown",
   "metadata": {},
   "source": [
    "### Confidence Interval (General)(variable)"
   ]
  },
  {
   "cell_type": "markdown",
   "metadata": {},
   "source": [
    "#### Distribution Bootstrap per variable"
   ]
  },
  {
   "cell_type": "code",
   "execution_count": 24,
   "metadata": {},
   "outputs": [],
   "source": [
    "results_bootstrap_usgan_general = []\n",
    "\n",
    "for i in range(len(variables)):\n",
    "       results_bootstrap_usgan_general.append(toolkits.bootstrap_v2(testing_ae_usgan_variables_standard, indicating_mask_variable_standard_norm, 0, i, 9000))"
   ]
  },
  {
   "cell_type": "markdown",
   "metadata": {},
   "source": [
    "#### Calculating lower bound and upper bound"
   ]
  },
  {
   "cell_type": "code",
   "execution_count": 25,
   "metadata": {},
   "outputs": [
    {
     "name": "stdout",
     "output_type": "stream",
     "text": [
      "[np.float64(0.37987774064344376), np.float64(0.2061196710476389), np.float64(0.2642059808571521), np.float64(0.6262144676087764), np.float64(0.34996752928595315), np.float64(0.4608825163427001), np.float64(1.5798287271142717), np.float64(0.26426029102168), np.float64(0.2501416215302208), np.float64(0.3672310025744434), np.float64(0.2336397496988845), np.float64(0.547317726704121), np.float64(0.40490283216049716), np.float64(0.4541917576079991), np.float64(0.2398693327438087), np.float64(0.5672127995716005), np.float64(0.3386268945761316), np.float64(0.19621905761422262), np.float64(0.09461877278888023), np.float64(0.5034148469916283), np.float64(0.2009237838801295), np.float64(0.13768680289388924), np.float64(0.2784384772778879), np.float64(0.41021893002126186), np.float64(0.44691557521753594), np.float64(0.4362492117335727), np.float64(0.35191724828948184), np.float64(0.4631821529483603), np.float64(0.3038516671866549), np.float64(0.2764093154673026), np.float64(0.23389959242605715), np.float64(1.2673991310153339), np.float64(0.37777770879167516), np.float64(0.3356980510810262), np.float64(0.11400850126198754), np.float64(0.08650897778081418), np.float64(0.06489339271501054)]\n",
      "[np.float64(0.7248946224788304), np.float64(0.34701046443530764), np.float64(0.45690143201857075), np.float64(0.8185026508171311), np.float64(0.40267480253437377), np.float64(0.6550006522483951), np.float64(2.792428105617508), np.float64(0.32356462783581286), np.float64(0.26629475997261476), np.float64(0.4065235475198629), np.float64(0.25252415120677685), np.float64(0.6290248872431299), np.float64(0.45569302753468194), np.float64(0.5050569406796551), np.float64(0.2497206055841841), np.float64(0.6436727512867071), np.float64(0.3989370397730513), np.float64(0.21639424708243668), np.float64(0.10410887888733038), np.float64(0.6143141298659485), np.float64(0.21706107102790814), np.float64(0.15141690197869886), np.float64(0.30005391848378715), np.float64(0.46296373289887693), np.float64(0.7712432401253351), np.float64(0.48813617155036026), np.float64(0.39965690054439373), np.float64(0.4945229018471019), np.float64(0.42606905928011285), np.float64(0.2931833843351782), np.float64(0.26118913963971374), np.float64(2.129746462315279), np.float64(0.5144558500932067), np.float64(0.3617629839003225), np.float64(0.13072902541995315), np.float64(0.10146478155889722), np.float64(0.25095518690666374)]\n"
     ]
    }
   ],
   "source": [
    "lower_bounds_usgan_general, upper_bounds_usgan_general = toolkits.calc_lower_and_upper_bound_percentile(results_bootstrap_usgan_general)\n",
    "\n",
    "print(lower_bounds_usgan_general)\n",
    "print(upper_bounds_usgan_general)"
   ]
  },
  {
   "cell_type": "markdown",
   "metadata": {},
   "source": [
    "#### Mean values of lower bound and upper bound\n"
   ]
  },
  {
   "cell_type": "code",
   "execution_count": 26,
   "metadata": {},
   "outputs": [
    {
     "name": "stdout",
     "output_type": "stream",
     "text": [
      "[np.float64(0.5523861815611371), np.float64(0.27656506774147327), np.float64(0.36055370643786144), np.float64(0.7223585592129538), np.float64(0.37632116591016346), np.float64(0.5579415842955476), np.float64(2.18612841636589), np.float64(0.29391245942874644), np.float64(0.2582181907514178), np.float64(0.3868772750471532), np.float64(0.24308195045283068), np.float64(0.5881713069736254), np.float64(0.4302979298475895), np.float64(0.4796243491438271), np.float64(0.2447949691639964), np.float64(0.6054427754291538), np.float64(0.36878196717459144), np.float64(0.20630665234832965), np.float64(0.0993638258381053), np.float64(0.5588644884287883), np.float64(0.2089924274540188), np.float64(0.14455185243629404), np.float64(0.2892461978808375), np.float64(0.4365913314600694), np.float64(0.6090794076714355), np.float64(0.46219269164196647), np.float64(0.3757870744169378), np.float64(0.4788525273977311), np.float64(0.3649603632333839), np.float64(0.28479634990124036), np.float64(0.24754436603288543), np.float64(1.6985727966653064), np.float64(0.44611677944244094), np.float64(0.34873051749067435), np.float64(0.12236876334097035), np.float64(0.0939868796698557), np.float64(0.15792428981083714)]\n"
     ]
    }
   ],
   "source": [
    "mean_values_ci_usgan_general = toolkits.calc_mean_values_ci(lower_bounds_usgan_general, upper_bounds_usgan_general)\n",
    "\n",
    "print(mean_values_ci_usgan_general)"
   ]
  },
  {
   "cell_type": "markdown",
   "metadata": {},
   "source": [
    "### Confidence Interval (Female Subgroup)"
   ]
  },
  {
   "cell_type": "markdown",
   "metadata": {},
   "source": [
    "#### Distribution Bootstrap for the Top 5 variables with Largest Differences in MAE (Mean Absolute Error) "
   ]
  },
  {
   "cell_type": "code",
   "execution_count": 214,
   "metadata": {},
   "outputs": [],
   "source": [
    "indices = [6, 31, 28, 16, 33, 2, 7, 15, 5, 2, 35, 24]\n",
    "\n",
    "results_bootstrap_usgan_female = []\n",
    "\n",
    "for i in indices:\n",
    "       results_bootstrap_usgan_female.append(toolkits.bootstrap_v2(testing_ae_usgan_variables_standard, indicating_mask_variable_standard_norm, 1, i, 9000))"
   ]
  },
  {
   "cell_type": "markdown",
   "metadata": {},
   "source": [
    "#### Calculating the mean and standard deviation of the bootstrap distribution"
   ]
  },
  {
   "cell_type": "code",
   "execution_count": 215,
   "metadata": {},
   "outputs": [
    {
     "name": "stdout",
     "output_type": "stream",
     "text": [
      "[np.float64(1.9426236689245937), np.float64(1.476607683872043), np.float64(0.5824835235607073), np.float64(0.36850169787683984), np.float64(0.31434980584103134), np.float64(0.2969288919294192), np.float64(0.2539369589667588), np.float64(0.6189688903613779), np.float64(0.5199231364970216), np.float64(0.29602329913626385), np.float64(0.08456221539013241), np.float64(0.48191092834966043)]\n",
      "[np.float64(0.9541881868285297), np.float64(0.1877480782810291), np.float64(0.1341446209881592), np.float64(0.022208191609570507), np.float64(0.007781894873228429), np.float64(0.04921979920019426), np.float64(0.017271259436821576), np.float64(0.032413015838310834), np.float64(0.0564424455784571), np.float64(0.0494075393210884), np.float64(0.0036063142786134585), np.float64(0.019843005847499713)]\n"
     ]
    }
   ],
   "source": [
    "means_bootstraps_usgan_female,standards_deviations_usgan_female = toolkits.calc_mean_and_standard_deviation(results_bootstrap_usgan_female)\n",
    "\n",
    "print(means_bootstraps_usgan_female)\n",
    "print(standards_deviations_usgan_female)\n"
   ]
  },
  {
   "cell_type": "markdown",
   "metadata": {},
   "source": [
    "#### Calculating lower bound and upper bound"
   ]
  },
  {
   "cell_type": "code",
   "execution_count": 216,
   "metadata": {},
   "outputs": [
    {
     "name": "stdout",
     "output_type": "stream",
     "text": [
      "[np.float64(0.07244918826709923), np.float64(1.1086282122746192), np.float64(0.31956489770413943), np.float64(0.324974442160317), np.float64(0.29909757215802674), np.float64(0.20045985817074508), np.float64(0.22008591250294096), np.float64(0.5554405466879624), np.float64(0.4092979759638837), np.float64(0.19918630150218403), np.float64(0.07749396928711748), np.float64(0.4430193515435433)]\n",
      "[np.float64(3.812798149582088), np.float64(1.8445871554694668), np.float64(0.8454021494172752), np.float64(0.41202895359336267), np.float64(0.32960203952403594), np.float64(0.3933979256880933), np.float64(0.2877880054305766), np.float64(0.6824972340347935), np.float64(0.6305482970301596), np.float64(0.3928602967703437), np.float64(0.09163046149314734), np.float64(0.5208025051557775)]\n"
     ]
    }
   ],
   "source": [
    "lower_bounds_usgan_female, upper_bounds_usgan_female = toolkits.calc_lower_and_upper_bound(results_bootstrap_usgan_female, means_bootstraps_usgan_female,standards_deviations_usgan_female)\n",
    "\n",
    "print(lower_bounds_usgan_female)\n",
    "print(upper_bounds_usgan_female)"
   ]
  },
  {
   "cell_type": "code",
   "execution_count": 217,
   "metadata": {},
   "outputs": [
    {
     "name": "stdout",
     "output_type": "stream",
     "text": [
      "[np.float64(0.552297478025096), np.float64(1.1017362219702032), np.float64(0.35641161373652314), np.float64(0.3260790413594915), np.float64(0.2997033002187566), np.float64(0.21475375438518265), np.float64(0.22333706135388795), np.float64(0.5583830419668504), np.float64(0.42322000620175504), np.float64(0.212761117538852), np.float64(0.07781804540130907), np.float64(0.4442725023927491)]\n",
      "[np.float64(4.152962140136351), np.float64(1.849726768264328), np.float64(0.8713501895528681), np.float64(0.4134724300394901), np.float64(0.33015364458349306), np.float64(0.4053563042704095), np.float64(0.29103420259605683), np.float64(0.6859710762707061), np.float64(0.6449312130075252), np.float64(0.4042530083266986), np.float64(0.09180762671607288), np.float64(0.5217146519652324)]\n"
     ]
    }
   ],
   "source": [
    "lower_bounds_usgan_female, upper_bounds_usgan_female = toolkits.calc_lower_and_upper_bound_percentile(results_bootstrap_usgan_female)\n",
    "\n",
    "print(lower_bounds_usgan_female)\n",
    "print(upper_bounds_usgan_female)"
   ]
  },
  {
   "cell_type": "markdown",
   "metadata": {},
   "source": [
    "#### Mean values of lower bound and upper bound\n"
   ]
  },
  {
   "cell_type": "code",
   "execution_count": 218,
   "metadata": {},
   "outputs": [
    {
     "name": "stdout",
     "output_type": "stream",
     "text": [
      "[np.float64(2.3526298090807236), np.float64(1.4757314951172655), np.float64(0.6138809016446957), np.float64(0.3697757356994908), np.float64(0.3149284724011248), np.float64(0.31005502932779605), np.float64(0.2571856319749724), np.float64(0.6221770591187783), np.float64(0.5340756096046402), np.float64(0.3085070629327753), np.float64(0.08481283605869097), np.float64(0.4829935771789907)]\n"
     ]
    }
   ],
   "source": [
    "mean_values_ci_usgan_female = toolkits.calc_mean_values_ci(lower_bounds_usgan_female, upper_bounds_usgan_female)\n",
    "\n",
    "print(mean_values_ci_usgan_female)"
   ]
  },
  {
   "cell_type": "markdown",
   "metadata": {},
   "source": [
    "### Confidence Interval (Male Subgroup)"
   ]
  },
  {
   "cell_type": "markdown",
   "metadata": {},
   "source": [
    "#### Distribution Bootstrap for the Top 5 variables with Largest Differences in MAE (Mean Absolute Error) "
   ]
  },
  {
   "cell_type": "code",
   "execution_count": 219,
   "metadata": {},
   "outputs": [],
   "source": [
    "indices = [6, 31, 28, 16, 33, 2, 7, 15, 5, 2, 35, 24]\n",
    "\n",
    "results_bootstrap_usgan_male = []\n",
    "\n",
    "for i in indices:\n",
    "       results_bootstrap_usgan_male.append(toolkits.bootstrap_v2(testing_ae_usgan_variables_standard, indicating_mask_variable_standard_norm, 2, i, 9000))"
   ]
  },
  {
   "cell_type": "markdown",
   "metadata": {},
   "source": [
    "#### Calculating the mean and standard deviation of the bootstrap distribution"
   ]
  },
  {
   "cell_type": "code",
   "execution_count": 220,
   "metadata": {},
   "outputs": [
    {
     "name": "stdout",
     "output_type": "stream",
     "text": [
      "[np.float64(2.0726677071880224), np.float64(1.521719357985055), np.float64(0.647884100775224), np.float64(0.41339022264865743), np.float64(0.36294211357141837), np.float64(0.23326783402162193), np.float64(0.2991813494222848), np.float64(0.5396922523604093), np.float64(0.4471123537553462), np.float64(0.23310134620622072), np.float64(0.08799528626109657), np.float64(0.4453718710703944)]\n",
      "[np.float64(0.44660915538820406), np.float64(0.4204146672622888), np.float64(0.2854069746839292), np.float64(0.029647951135701615), np.float64(0.009465638157692849), np.float64(0.019807005431765896), np.float64(0.019766307137517734), np.float64(0.022066882314831754), np.float64(0.03816450825263489), np.float64(0.020037261900200602), np.float64(0.0032705418736737957), np.float64(0.01665269341383374)]\n"
     ]
    }
   ],
   "source": [
    "means_bootstraps_usgan_male,standards_deviations_usgan_male = toolkits.calc_mean_and_standard_deviation(results_bootstrap_usgan_male)\n",
    "\n",
    "print(means_bootstraps_usgan_male)\n",
    "print(standards_deviations_usgan_male)\n"
   ]
  },
  {
   "cell_type": "markdown",
   "metadata": {},
   "source": [
    "#### Calculating lower bound and upper bound"
   ]
  },
  {
   "cell_type": "code",
   "execution_count": 221,
   "metadata": {},
   "outputs": [
    {
     "name": "stdout",
     "output_type": "stream",
     "text": [
      "[np.float64(1.19732984746129), np.float64(0.6977217515785784), np.float64(0.08849670945818766), np.float64(0.3552813062072789), np.float64(0.34438980369165234), np.float64(0.19444681673377157), np.float64(0.260440099325393), np.float64(0.4964419577722552), np.float64(0.37231129209250013), np.float64(0.19382903453303094), np.float64(0.08158514197876578), np.float64(0.4127331917336929)]\n",
      "[np.float64(2.948005566914755), np.float64(2.3457169643915314), np.float64(1.2072714920922603), np.float64(0.471499139090036), np.float64(0.3814944234511844), np.float64(0.2720888513094723), np.float64(0.3379225995191766), np.float64(0.5829425469485634), np.float64(0.5219134154181923), np.float64(0.2723736578794105), np.float64(0.09440543054342736), np.float64(0.4780105504070959)]\n"
     ]
    }
   ],
   "source": [
    "lower_bounds_usgan_male, upper_bounds_usgan_male = toolkits.calc_lower_and_upper_bound(results_bootstrap_usgan_male, means_bootstraps_usgan_male,standards_deviations_usgan_male)\n",
    "\n",
    "print(lower_bounds_usgan_male)\n",
    "print(upper_bounds_usgan_male)"
   ]
  },
  {
   "cell_type": "code",
   "execution_count": 222,
   "metadata": {},
   "outputs": [
    {
     "name": "stdout",
     "output_type": "stream",
     "text": [
      "[np.float64(1.2292811368616663), np.float64(0.6555007597293402), np.float64(0.32313291882691214), np.float64(0.35914749095839094), np.float64(0.34511660082043605), np.float64(0.1958850809727209), np.float64(0.26313137436218476), np.float64(0.4979339758458074), np.float64(0.37591374096484853), np.float64(0.1956756826026091), np.float64(0.08190129602300607), np.float64(0.4132579091871235)]\n",
      "[np.float64(2.9854508929724686), np.float64(2.3071585381188053), np.float64(1.2807265847175557), np.float64(0.4746176670174084), np.float64(0.3820471089537273), np.float64(0.27375953694426686), np.float64(0.3399750978704415), np.float64(0.5842094101381341), np.float64(0.5267720993598021), np.float64(0.27468027861458016), np.float64(0.0947655793872466), np.float64(0.4785389832519423)]\n"
     ]
    }
   ],
   "source": [
    "lower_bounds_usgan_male, upper_bounds_usgan_male = toolkits.calc_lower_and_upper_bound_percentile(results_bootstrap_usgan_male)\n",
    "\n",
    "print(lower_bounds_usgan_male)\n",
    "print(upper_bounds_usgan_male)"
   ]
  },
  {
   "cell_type": "markdown",
   "metadata": {},
   "source": [
    "#### Mean values of lower bound and upper bound\n"
   ]
  },
  {
   "cell_type": "code",
   "execution_count": 223,
   "metadata": {},
   "outputs": [
    {
     "name": "stdout",
     "output_type": "stream",
     "text": [
      "[np.float64(2.1073660149170674), np.float64(1.4813296489240728), np.float64(0.8019297517722339), np.float64(0.41688257898789965), np.float64(0.36358185488708167), np.float64(0.23482230895849387), np.float64(0.30155323611631313), np.float64(0.5410716929919708), np.float64(0.4513429201623253), np.float64(0.23517798060859463), np.float64(0.08833343770512633), np.float64(0.4458984462195329)]\n"
     ]
    }
   ],
   "source": [
    "mean_values_ci_usgan_male = toolkits.calc_mean_values_ci(lower_bounds_usgan_male, upper_bounds_usgan_male)\n",
    "\n",
    "print(mean_values_ci_usgan_male)"
   ]
  },
  {
   "cell_type": "markdown",
   "metadata": {},
   "source": [
    "### Confidence Interval (+65 Subgroup)"
   ]
  },
  {
   "cell_type": "markdown",
   "metadata": {},
   "source": [
    "#### Distribution Bootstrap for the Top 5 variables with Largest Differences in MAE (Mean Absolute Error) "
   ]
  },
  {
   "cell_type": "code",
   "execution_count": 224,
   "metadata": {},
   "outputs": [],
   "source": [
    "indices = [6, 32, 0, 28, 5, 31, 3]\n",
    "\n",
    "results_bootstrap_usgan_more_than_or_equal_to_65_subgroup = []\n",
    "\n",
    "for i in indices:\n",
    "       results_bootstrap_usgan_more_than_or_equal_to_65_subgroup.append(toolkits.bootstrap_v2(testing_ae_usgan_variables_standard, indicating_mask_variable_standard_norm, 4, i, 9000))\n"
   ]
  },
  {
   "cell_type": "markdown",
   "metadata": {},
   "source": [
    "#### Calculating the mean and standard deviation of the bootstrap distribution"
   ]
  },
  {
   "cell_type": "code",
   "execution_count": 225,
   "metadata": {},
   "outputs": [
    {
     "name": "stdout",
     "output_type": "stream",
     "text": [
      "[np.float64(2.3277195513431117), np.float64(0.44589850849065876), np.float64(0.6949215827305563), np.float64(0.7147283454211643), np.float64(0.45957213952273107), np.float64(2.4792889398943343), np.float64(0.6058696934449835)]\n",
      "[np.float64(0.34526111955149585), np.float64(0.053276012188330245), np.float64(0.14408238878591878), np.float64(0.31290303869328545), np.float64(0.030293228981973206), np.float64(0.4337610458951387), np.float64(0.06289506669009498)]\n"
     ]
    }
   ],
   "source": [
    "means_bootstraps_usgan_more_than_or_equal_to_65_subgroup,standards_deviations_usgan_more_than_or_equal_to_65_subgroup = toolkits.calc_mean_and_standard_deviation(results_bootstrap_usgan_more_than_or_equal_to_65_subgroup)\n",
    "\n",
    "print(means_bootstraps_usgan_more_than_or_equal_to_65_subgroup)\n",
    "print(standards_deviations_usgan_more_than_or_equal_to_65_subgroup)"
   ]
  },
  {
   "cell_type": "markdown",
   "metadata": {},
   "source": [
    "#### Calculating lower bound and upper bound\n"
   ]
  },
  {
   "cell_type": "code",
   "execution_count": 226,
   "metadata": {},
   "outputs": [
    {
     "name": "stdout",
     "output_type": "stream",
     "text": [
      "[np.float64(1.6510201917602019), np.float64(0.3414794433616145), np.float64(0.41252528990365767), np.float64(0.10144965892918179), np.float64(0.4001985017426386), np.float64(1.629132912043437), np.float64(0.48259762792715255)]\n",
      "[np.float64(3.0044189109260215), np.float64(0.550317573619703), np.float64(0.9773178755574549), np.float64(1.3280070319131467), np.float64(0.5189457773028235), np.float64(3.3294449677452316), np.float64(0.7291417589628145)]\n"
     ]
    }
   ],
   "source": [
    "lower_bounds_usgan_more_than_or_equal_to_65_subgroup, upper_bounds_usgan_more_than_or_equal_to_65_subgroup = toolkits.calc_lower_and_upper_bound(results_bootstrap_usgan_more_than_or_equal_to_65_subgroup, means_bootstraps_usgan_more_than_or_equal_to_65_subgroup,standards_deviations_usgan_more_than_or_equal_to_65_subgroup)\n",
    "\n",
    "print(lower_bounds_usgan_more_than_or_equal_to_65_subgroup)\n",
    "print(upper_bounds_usgan_more_than_or_equal_to_65_subgroup)\n"
   ]
  },
  {
   "cell_type": "code",
   "execution_count": 227,
   "metadata": {},
   "outputs": [
    {
     "name": "stdout",
     "output_type": "stream",
     "text": [
      "[np.float64(1.6281411700965303), np.float64(0.3538409751089212), np.float64(0.43798509911056305), np.float64(0.3426913152057593), np.float64(0.4013893680394128), np.float64(1.6962287715313156), np.float64(0.4890799925089994)]\n",
      "[np.float64(2.986609104407262), np.float64(0.5618845069425482), np.float64(1.0009809872077418), np.float64(1.4232026323484746), np.float64(0.5191876623736257), np.float64(3.3925309502286316), np.float64(0.7333418465627987)]\n"
     ]
    }
   ],
   "source": [
    "lower_bounds_usgan_more_than_or_equal_to_65_subgroup, upper_bounds_usgan_more_than_or_equal_to_65_subgroup = toolkits.calc_lower_and_upper_bound_percentile(results_bootstrap_usgan_more_than_or_equal_to_65_subgroup)\n",
    "\n",
    "print(lower_bounds_usgan_more_than_or_equal_to_65_subgroup)\n",
    "print(upper_bounds_usgan_more_than_or_equal_to_65_subgroup)"
   ]
  },
  {
   "cell_type": "markdown",
   "metadata": {},
   "source": [
    "#### Mean values of lower bound and upper bound"
   ]
  },
  {
   "cell_type": "code",
   "execution_count": 228,
   "metadata": {},
   "outputs": [
    {
     "name": "stdout",
     "output_type": "stream",
     "text": [
      "[np.float64(2.307375137251896), np.float64(0.4578627410257347), np.float64(0.7194830431591523), np.float64(0.882946973777117), np.float64(0.46028851520651926), np.float64(2.5443798608799737), np.float64(0.611210919535899)]\n"
     ]
    }
   ],
   "source": [
    "mean_values_ci_usgan_more_than_or_equal_to_65_subgroup  = toolkits.calc_mean_values_ci(lower_bounds_usgan_more_than_or_equal_to_65_subgroup , upper_bounds_usgan_more_than_or_equal_to_65_subgroup)\n",
    "\n",
    "print(mean_values_ci_usgan_more_than_or_equal_to_65_subgroup)"
   ]
  },
  {
   "cell_type": "markdown",
   "metadata": {},
   "source": [
    "### Confidence Interval (-65 subgroup)"
   ]
  },
  {
   "cell_type": "markdown",
   "metadata": {},
   "source": [
    "#### Distribution Bootstrap for the Top 5 variables with Largest Differences in MAE (Mean Absolute Error) "
   ]
  },
  {
   "cell_type": "code",
   "execution_count": 229,
   "metadata": {},
   "outputs": [],
   "source": [
    "indices = [6, 32, 0, 28, 5, 31, 3]\n",
    "\n",
    "results_bootstrap_usgan_less_than_65_subgroup = []\n",
    "\n",
    "for i in indices:\n",
    "       results_bootstrap_usgan_less_than_65_subgroup.append(toolkits.bootstrap_v2(testing_ae_usgan_variables_standard, indicating_mask_variable_standard_norm, 5, i, 9000))\n",
    "\n"
   ]
  },
  {
   "cell_type": "markdown",
   "metadata": {},
   "source": [
    "#### Calculating the mean and standard deviation of the bootstrap distribution"
   ]
  },
  {
   "cell_type": "code",
   "execution_count": 230,
   "metadata": {},
   "outputs": [
    {
     "name": "stdout",
     "output_type": "stream",
     "text": [
      "[np.float64(3.1915916167949896), np.float64(0.49700833187780014), np.float64(1.1540519599147494), np.float64(0.5684573133058964), np.float64(0.6047754764421036), np.float64(1.2037718112165114), np.float64(0.6563198514072964)]\n",
      "[np.float64(1.8186843986544805), np.float64(0.06888260767323874), np.float64(0.4397032372115261), np.float64(0.13007067512146603), np.float64(0.07972056605731984), np.float64(0.11822595277499039), np.float64(0.05582518999743342)]\n"
     ]
    }
   ],
   "source": [
    "means_bootstraps_usgan_less_than_65_subgroup,standards_deviations_usgan_less_than_65_subgroup = toolkits.calc_mean_and_standard_deviation(results_bootstrap_usgan_less_than_65_subgroup)\n",
    "\n",
    "print(means_bootstraps_usgan_less_than_65_subgroup)\n",
    "print(standards_deviations_usgan_less_than_65_subgroup)\n"
   ]
  },
  {
   "cell_type": "markdown",
   "metadata": {},
   "source": [
    "#### Calculating lower bound and upper bound"
   ]
  },
  {
   "cell_type": "code",
   "execution_count": 231,
   "metadata": {},
   "outputs": [
    {
     "name": "stdout",
     "output_type": "stream",
     "text": [
      "[np.float64(-0.3729643038126782), np.float64(0.3620009016770498), np.float64(0.2922494510944862), np.float64(0.313523474623013), np.float64(0.44852603814261044), np.float64(0.9720532017395971), np.float64(0.5469044895822213)]\n",
      "[np.float64(6.756147537402658), np.float64(0.6320157620785505), np.float64(2.0158544687350126), np.float64(0.8233911519887799), np.float64(0.7610249147415968), np.float64(1.4354904206934258), np.float64(0.7657352132323716)]\n"
     ]
    }
   ],
   "source": [
    "lower_bounds_usgan_less_than_65_subgroup, upper_bounds_usgan_less_than_65_subgroup = toolkits.calc_lower_and_upper_bound(results_bootstrap_usgan_less_than_65_subgroup, means_bootstraps_usgan_less_than_65_subgroup, standards_deviations_usgan_less_than_65_subgroup)\n",
    "\n",
    "print(lower_bounds_usgan_less_than_65_subgroup)\n",
    "print(upper_bounds_usgan_less_than_65_subgroup)"
   ]
  },
  {
   "cell_type": "code",
   "execution_count": 232,
   "metadata": {},
   "outputs": [
    {
     "name": "stdout",
     "output_type": "stream",
     "text": [
      "[np.float64(0.0), np.float64(0.3702739951653813), np.float64(0.4778360893803177), np.float64(0.35044900408143564), np.float64(0.46341740316866975), np.float64(0.9540208063055534), np.float64(0.548691295124491)]\n",
      "[np.float64(5.588982304367992), np.float64(0.6415627036521072), np.float64(2.1304576536745676), np.float64(0.8534265972932001), np.float64(0.7798798036610687), np.float64(1.4144873643084972), np.float64(0.7678905150942262)]\n"
     ]
    }
   ],
   "source": [
    "lower_bounds_usgan_less_than_65_subgroup, upper_bounds_usgan_less_than_65_subgroup = toolkits.calc_lower_and_upper_bound_percentile(results_bootstrap_usgan_less_than_65_subgroup)\n",
    "\n",
    "print(lower_bounds_usgan_less_than_65_subgroup)\n",
    "print(upper_bounds_usgan_less_than_65_subgroup)"
   ]
  },
  {
   "cell_type": "markdown",
   "metadata": {},
   "source": [
    "#### Mean values of lower bound and upper bound"
   ]
  },
  {
   "cell_type": "code",
   "execution_count": 233,
   "metadata": {},
   "outputs": [
    {
     "name": "stdout",
     "output_type": "stream",
     "text": [
      "[np.float64(2.794491152183996), np.float64(0.5059183494087443), np.float64(1.3041468715274427), np.float64(0.601937800687318), np.float64(0.6216486034148692), np.float64(1.1842540853070254), np.float64(0.6582909051093586)]\n"
     ]
    }
   ],
   "source": [
    "mean_values_ci_usgan_less_than_65_subgroup  = toolkits.calc_mean_values_ci(lower_bounds_usgan_less_than_65_subgroup, upper_bounds_usgan_less_than_65_subgroup)\n",
    "\n",
    "print(mean_values_ci_usgan_less_than_65_subgroup)"
   ]
  },
  {
   "cell_type": "markdown",
   "metadata": {},
   "source": [
    "### Confidence Interval (ICUType 1 subgroup)"
   ]
  },
  {
   "cell_type": "markdown",
   "metadata": {},
   "source": [
    "#### Distribution Bootstrap for the Top 5 variables with Largest Differences in MAE (Mean Absolute Error) "
   ]
  },
  {
   "cell_type": "code",
   "execution_count": 234,
   "metadata": {},
   "outputs": [],
   "source": [
    "indices = [28, 31, 6, 0, 32, 24]\n",
    "\n",
    "results_bootstrap_usgan_ICUType_1_subgroup = []\n",
    "\n",
    "for i in indices:\n",
    "       results_bootstrap_usgan_ICUType_1_subgroup.append(toolkits.bootstrap_v2(testing_ae_usgan_variables_standard, indicating_mask_variable_standard_norm, 6, i, 9000))\n",
    "\n"
   ]
  },
  {
   "cell_type": "markdown",
   "metadata": {},
   "source": [
    "#### Calculating the mean and standard deviation of the bootstrap distribution"
   ]
  },
  {
   "cell_type": "code",
   "execution_count": 235,
   "metadata": {},
   "outputs": [
    {
     "name": "stdout",
     "output_type": "stream",
     "text": [
      "[np.float64(0.563887600037251), np.float64(2.3529393563125782), np.float64(1.9728257383543046), np.float64(0.252140969171943), np.float64(0.747602868180934), np.float64(0.46306218526438647)]\n",
      "[np.float64(0.17889963377447138), np.float64(0.510335735595341), np.float64(0.3422505640529371), np.float64(0.04336115844262078), np.float64(0.11535988455863048), np.float64(0.04316677190793421)]\n"
     ]
    }
   ],
   "source": [
    "means_bootstraps_usgan_ICUType_1_subgroup, standards_deviations_usgan_ICUType_1_subgroup = toolkits.calc_mean_and_standard_deviation(results_bootstrap_usgan_ICUType_1_subgroup)\n",
    "\n",
    "print(means_bootstraps_usgan_ICUType_1_subgroup)\n",
    "print(standards_deviations_usgan_ICUType_1_subgroup)\n"
   ]
  },
  {
   "cell_type": "markdown",
   "metadata": {},
   "source": [
    "#### Calculating lower bound and upper bound"
   ]
  },
  {
   "cell_type": "code",
   "execution_count": 236,
   "metadata": {},
   "outputs": [
    {
     "name": "stdout",
     "output_type": "stream",
     "text": [
      "[np.float64(0.21325076099188167), np.float64(1.3526996945219543), np.float64(1.302026959122029), np.float64(0.16715466029647139), np.float64(0.5215016491853199), np.float64(0.3784568669959801)]\n",
      "[np.float64(0.9145244390826204), np.float64(3.3531790181032024), np.float64(2.6436245175865802), np.float64(0.3371272780474146), np.float64(0.9737040871765481), np.float64(0.5476675035327929)]\n"
     ]
    }
   ],
   "source": [
    "lower_bounds_usgan_ICUType_1_subgroup, upper_bounds_usgan_ICUType_1_subgroup = toolkits.calc_lower_and_upper_bound(results_bootstrap_usgan_ICUType_1_subgroup, means_bootstraps_usgan_ICUType_1_subgroup, standards_deviations_usgan_ICUType_1_subgroup)\n",
    "\n",
    "print(lower_bounds_usgan_ICUType_1_subgroup)\n",
    "print(upper_bounds_usgan_ICUType_1_subgroup)"
   ]
  },
  {
   "cell_type": "code",
   "execution_count": 237,
   "metadata": {},
   "outputs": [
    {
     "name": "stdout",
     "output_type": "stream",
     "text": [
      "[np.float64(0.32064584728118506), np.float64(1.47123806257609), np.float64(1.2904636582424243), np.float64(0.17406586455570075), np.float64(0.5317508076580856), np.float64(0.3823837590088833)]\n",
      "[np.float64(0.9910105632281638), np.float64(3.452901506618758), np.float64(2.6480144431956956), np.float64(0.3438911621630157), np.float64(0.9846942599779819), np.float64(0.5518614447096367)]\n"
     ]
    }
   ],
   "source": [
    "lower_bounds_usgan_ICUType_1_subgroup, upper_bounds_usgan_ICUType_1_subgroup = toolkits.calc_lower_and_upper_bound_percentile(results_bootstrap_usgan_ICUType_1_subgroup)\n",
    "\n",
    "print(lower_bounds_usgan_ICUType_1_subgroup)\n",
    "print(upper_bounds_usgan_ICUType_1_subgroup)"
   ]
  },
  {
   "cell_type": "markdown",
   "metadata": {},
   "source": [
    "#### Mean values of lower bound and upper bound"
   ]
  },
  {
   "cell_type": "code",
   "execution_count": 238,
   "metadata": {},
   "outputs": [
    {
     "name": "stdout",
     "output_type": "stream",
     "text": [
      "[np.float64(0.6558282052546744), np.float64(2.462069784597424), np.float64(1.96923905071906), np.float64(0.25897851335935823), np.float64(0.7582225338180337), np.float64(0.46712260185926)]\n"
     ]
    }
   ],
   "source": [
    "mean_values_ci_usgan_ICUType_1_subgroup  = toolkits.calc_mean_values_ci(lower_bounds_usgan_ICUType_1_subgroup, upper_bounds_usgan_ICUType_1_subgroup)\n",
    "\n",
    "print(mean_values_ci_usgan_ICUType_1_subgroup)"
   ]
  },
  {
   "cell_type": "markdown",
   "metadata": {},
   "source": [
    "### Confidence Interval (ICUType 2 subgroup)"
   ]
  },
  {
   "cell_type": "markdown",
   "metadata": {},
   "source": [
    "#### Distribution Bootstrap for the Top 5 variables with Largest Differences in MAE (Mean Absolute Error) "
   ]
  },
  {
   "cell_type": "code",
   "execution_count": 239,
   "metadata": {},
   "outputs": [],
   "source": [
    "indices = [28, 31, 6, 0, 32, 24]\n",
    "\n",
    "results_bootstrap_usgan_ICUType_2_subgroup = []\n",
    "\n",
    "for i in indices:\n",
    "       results_bootstrap_usgan_ICUType_2_subgroup.append(toolkits.bootstrap_v2(testing_ae_usgan_variables_standard, indicating_mask_variable_standard_norm, 7, i, 9000))\n",
    "\n"
   ]
  },
  {
   "cell_type": "markdown",
   "metadata": {},
   "source": [
    "#### Calculating the mean and standard deviation of the bootstrap distribution"
   ]
  },
  {
   "cell_type": "code",
   "execution_count": 240,
   "metadata": {},
   "outputs": [
    {
     "name": "stdout",
     "output_type": "stream",
     "text": [
      "[np.float64(0.6494848142269435), np.float64(2.588516407140481), np.float64(0.0), np.float64(0.23292001088560635), np.float64(0.43183600103461445), np.float64(0.42268415077612986)]\n",
      "[np.float64(0.32627852399781204), np.float64(0.28458306540297795), np.float64(0.0), np.float64(0.045026531085604844), np.float64(0.09272501096614483), np.float64(0.01776057524019988)]\n"
     ]
    }
   ],
   "source": [
    "means_bootstraps_usgan_ICUType_2_subgroup, standards_deviations_usgan_ICUType_2_subgroup = toolkits.calc_mean_and_standard_deviation(results_bootstrap_usgan_ICUType_2_subgroup)\n",
    "\n",
    "print(means_bootstraps_usgan_ICUType_2_subgroup)\n",
    "print(standards_deviations_usgan_ICUType_2_subgroup)\n"
   ]
  },
  {
   "cell_type": "markdown",
   "metadata": {},
   "source": [
    "#### Calculating lower bound and upper bound"
   ]
  },
  {
   "cell_type": "code",
   "execution_count": 241,
   "metadata": {},
   "outputs": [
    {
     "name": "stdout",
     "output_type": "stream",
     "text": [
      "[np.float64(0.009990658262344132), np.float64(2.030743848340638), np.float64(0.0), np.float64(0.14466963160904767), np.float64(0.250098319074889), np.float64(0.38787406296062427)]\n",
      "[np.float64(1.2889789701915428), np.float64(3.1462889659403244), np.float64(0.0), np.float64(0.32117039016216503), np.float64(0.6135736829943399), np.float64(0.45749423859163546)]\n"
     ]
    }
   ],
   "source": [
    "lower_bounds_usgan_ICUType_2_subgroup, upper_bounds_usgan_ICUType_2_subgroup = toolkits.calc_lower_and_upper_bound(results_bootstrap_usgan_ICUType_2_subgroup, means_bootstraps_usgan_ICUType_2_subgroup, standards_deviations_usgan_ICUType_2_subgroup)\n",
    "\n",
    "print(lower_bounds_usgan_ICUType_2_subgroup)\n",
    "print(upper_bounds_usgan_ICUType_2_subgroup)"
   ]
  },
  {
   "cell_type": "code",
   "execution_count": 242,
   "metadata": {},
   "outputs": [
    {
     "name": "stdout",
     "output_type": "stream",
     "text": [
      "[np.float64(0.293777431241365), np.float64(2.1773231830929753), np.float64(0.0), np.float64(0.1480191351787115), np.float64(0.2514350706347436), np.float64(0.3892437119907599)]\n",
      "[np.float64(1.39187261008907), np.float64(2.9719600641874147), np.float64(0.0), np.float64(0.32788912779348267), np.float64(0.6167728348695134), np.float64(0.4585444457841812)]\n"
     ]
    }
   ],
   "source": [
    "lower_bounds_usgan_ICUType_2_subgroup, upper_bounds_usgan_ICUType_2_subgroup = toolkits.calc_lower_and_upper_bound_percentile(results_bootstrap_usgan_ICUType_2_subgroup)\n",
    "\n",
    "print(lower_bounds_usgan_ICUType_2_subgroup)\n",
    "print(upper_bounds_usgan_ICUType_2_subgroup)"
   ]
  },
  {
   "cell_type": "markdown",
   "metadata": {},
   "source": [
    "#### Mean values of lower bound and upper bound"
   ]
  },
  {
   "cell_type": "code",
   "execution_count": 243,
   "metadata": {},
   "outputs": [
    {
     "name": "stdout",
     "output_type": "stream",
     "text": [
      "[np.float64(0.8428250206652175), np.float64(2.574641623640195), np.float64(0.0), np.float64(0.23795413148609706), np.float64(0.4341039527521285), np.float64(0.42389407888747055)]\n"
     ]
    }
   ],
   "source": [
    "mean_values_ci_usgan_ICUType_2_subgroup  = toolkits.calc_mean_values_ci(lower_bounds_usgan_ICUType_2_subgroup, upper_bounds_usgan_ICUType_2_subgroup)\n",
    "\n",
    "print(mean_values_ci_usgan_ICUType_2_subgroup)"
   ]
  },
  {
   "cell_type": "markdown",
   "metadata": {},
   "source": [
    "### Confidence Interval (ICUType 3 subgroup)"
   ]
  },
  {
   "cell_type": "markdown",
   "metadata": {},
   "source": [
    "#### Distribution Bootstrap for the Top 5 variables with Largest Differences in MAE (Mean Absolute Error) "
   ]
  },
  {
   "cell_type": "code",
   "execution_count": 244,
   "metadata": {},
   "outputs": [],
   "source": [
    "indices = [28, 31, 6, 0, 32, 24]\n",
    "\n",
    "results_bootstrap_usgan_ICUType_3_subgroup = []\n",
    "\n",
    "for i in indices:\n",
    "       results_bootstrap_usgan_ICUType_3_subgroup.append(toolkits.bootstrap_v2(testing_ae_usgan_variables_standard, indicating_mask_variable_standard_norm, 8, i, 9000))\n",
    "\n"
   ]
  },
  {
   "cell_type": "markdown",
   "metadata": {},
   "source": [
    "#### Calculating the mean and standard deviation of the bootstrap distribution"
   ]
  },
  {
   "cell_type": "code",
   "execution_count": 245,
   "metadata": {},
   "outputs": [
    {
     "name": "stdout",
     "output_type": "stream",
     "text": [
      "[np.float64(1.5122824802300234), np.float64(1.303657289228127), np.float64(2.639665589919476), np.float64(1.216254237639582), np.float64(0.3489812828206453), np.float64(0.5363634606906125)]\n",
      "[np.float64(0.41975672186442503), np.float64(0.189360158634557), np.float64(0.8769678727429988), np.float64(0.4512369988168381), np.float64(0.0360681959837002), np.float64(0.03214385306870897)]\n"
     ]
    }
   ],
   "source": [
    "means_bootstraps_usgan_ICUType_3_subgroup, standards_deviations_usgan_ICUType_3_subgroup = toolkits.calc_mean_and_standard_deviation(results_bootstrap_usgan_ICUType_3_subgroup)\n",
    "\n",
    "print(means_bootstraps_usgan_ICUType_3_subgroup)\n",
    "print(standards_deviations_usgan_ICUType_3_subgroup)\n"
   ]
  },
  {
   "cell_type": "markdown",
   "metadata": {},
   "source": [
    "#### Calculating lower bound and upper bound"
   ]
  },
  {
   "cell_type": "code",
   "execution_count": 246,
   "metadata": {},
   "outputs": [
    {
     "name": "stdout",
     "output_type": "stream",
     "text": [
      "[np.float64(0.6895744231071537), np.float64(0.9325181981976041), np.float64(0.9208401437444929), np.float64(0.3318459714666363), np.float64(0.27828891770526065), np.float64(0.47336266635159563)]\n",
      "[np.float64(2.334990537352893), np.float64(1.67479638025865), np.float64(4.358491036094459), np.float64(2.1006625038125275), np.float64(0.4196736479360299), np.float64(0.5993642550296293)]\n"
     ]
    }
   ],
   "source": [
    "lower_bounds_usgan_ICUType_3_subgroup, upper_bounds_usgan_ICUType_3_subgroup = toolkits.calc_lower_and_upper_bound(results_bootstrap_usgan_ICUType_3_subgroup, means_bootstraps_usgan_ICUType_3_subgroup, standards_deviations_usgan_ICUType_3_subgroup)\n",
    "\n",
    "print(lower_bounds_usgan_ICUType_3_subgroup)\n",
    "print(upper_bounds_usgan_ICUType_3_subgroup)"
   ]
  },
  {
   "cell_type": "code",
   "execution_count": 247,
   "metadata": {},
   "outputs": [
    {
     "name": "stdout",
     "output_type": "stream",
     "text": [
      "[np.float64(0.7704951751701834), np.float64(0.947548109130724), np.float64(0.34585257856854856), np.float64(0.5033567799778038), np.float64(0.2822534210065467), np.float64(0.47515410038056904)]\n",
      "[np.float64(2.4097671332704476), np.float64(1.6922044310345425), np.float64(4.10455563415239), np.float64(2.2344206574851024), np.float64(0.42398422507604705), np.float64(0.6012125377583866)]\n"
     ]
    }
   ],
   "source": [
    "lower_bounds_usgan_ICUType_3_subgroup, upper_bounds_usgan_ICUType_3_subgroup = toolkits.calc_lower_and_upper_bound_percentile(results_bootstrap_usgan_ICUType_3_subgroup)\n",
    "\n",
    "print(lower_bounds_usgan_ICUType_3_subgroup)\n",
    "print(upper_bounds_usgan_ICUType_3_subgroup)"
   ]
  },
  {
   "cell_type": "markdown",
   "metadata": {},
   "source": [
    "#### Mean values of lower bound and upper bound"
   ]
  },
  {
   "cell_type": "code",
   "execution_count": 248,
   "metadata": {},
   "outputs": [
    {
     "name": "stdout",
     "output_type": "stream",
     "text": [
      "[np.float64(1.5901311542203156), np.float64(1.3198762700826332), np.float64(2.225204106360469), np.float64(1.3688887187314531), np.float64(0.3531188230412969), np.float64(0.5381833190694778)]\n"
     ]
    }
   ],
   "source": [
    "mean_values_ci_usgan_ICUType_3_subgroup  = toolkits.calc_mean_values_ci(lower_bounds_usgan_ICUType_3_subgroup, upper_bounds_usgan_ICUType_3_subgroup)\n",
    "\n",
    "print(mean_values_ci_usgan_ICUType_3_subgroup)"
   ]
  },
  {
   "cell_type": "markdown",
   "metadata": {},
   "source": [
    "### Confidence Interval (ICUType 4 subgroup)"
   ]
  },
  {
   "cell_type": "markdown",
   "metadata": {},
   "source": [
    "#### Distribution Bootstrap for the Top 5 variables with Largest Differences in MAE (Mean Absolute Error) "
   ]
  },
  {
   "cell_type": "code",
   "execution_count": 249,
   "metadata": {},
   "outputs": [],
   "source": [
    "indices = [28, 31, 6, 0, 32, 24]\n",
    "\n",
    "results_bootstrap_usgan_ICUType_4_subgroup = []\n",
    "\n",
    "for i in indices:\n",
    "       results_bootstrap_usgan_ICUType_4_subgroup.append(toolkits.bootstrap_v2(testing_ae_usgan_variables_standard, indicating_mask_variable_standard_norm, 9, i, 9000))\n",
    "\n"
   ]
  },
  {
   "cell_type": "markdown",
   "metadata": {},
   "source": [
    "#### Calculating the mean and standard deviation of the bootstrap distribution"
   ]
  },
  {
   "cell_type": "code",
   "execution_count": 250,
   "metadata": {},
   "outputs": [
    {
     "name": "stdout",
     "output_type": "stream",
     "text": [
      "[np.float64(0.4792969545506289), np.float64(1.492520155050831), np.float64(2.4166136328207393), np.float64(0.5112285898221713), np.float64(0.3075488793627516), np.float64(0.4407496110203167)]\n",
      "[np.float64(0.07264251678818208), np.float64(0.6271640410559025), np.float64(0.4315835238720545), np.float64(0.083912422121692), np.float64(0.04071595730903325), np.float64(0.021230632122603153)]\n"
     ]
    }
   ],
   "source": [
    "means_bootstraps_usgan_ICUType_4_subgroup, standards_deviations_usgan_ICUType_4_subgroup = toolkits.calc_mean_and_standard_deviation(results_bootstrap_usgan_ICUType_4_subgroup)\n",
    "\n",
    "print(means_bootstraps_usgan_ICUType_4_subgroup)\n",
    "print(standards_deviations_usgan_ICUType_4_subgroup)\n"
   ]
  },
  {
   "cell_type": "markdown",
   "metadata": {},
   "source": [
    "#### Calculating lower bound and upper bound"
   ]
  },
  {
   "cell_type": "code",
   "execution_count": 251,
   "metadata": {},
   "outputs": [
    {
     "name": "stdout",
     "output_type": "stream",
     "text": [
      "[np.float64(0.33692023789944575), np.float64(0.2633012221826623), np.float64(1.5707254697106299), np.float64(0.3467632646081329), np.float64(0.22774706944097606), np.float64(0.39913833669099535)]\n",
      "[np.float64(0.621673671201812), np.float64(2.7217390879189995), np.float64(3.2625017959308487), np.float64(0.6756939150362098), np.float64(0.38735068928452715), np.float64(0.482360885349638)]\n"
     ]
    }
   ],
   "source": [
    "lower_bounds_usgan_ICUType_4_subgroup, upper_bounds_usgan_ICUType_4_subgroup = toolkits.calc_lower_and_upper_bound(results_bootstrap_usgan_ICUType_4_subgroup, means_bootstraps_usgan_ICUType_4_subgroup, standards_deviations_usgan_ICUType_4_subgroup)\n",
    "\n",
    "print(lower_bounds_usgan_ICUType_4_subgroup)\n",
    "print(upper_bounds_usgan_ICUType_4_subgroup)"
   ]
  },
  {
   "cell_type": "code",
   "execution_count": 252,
   "metadata": {},
   "outputs": [
    {
     "name": "stdout",
     "output_type": "stream",
     "text": [
      "[np.float64(0.35499588348790595), np.float64(0.2032850750806556), np.float64(1.6267678244593), np.float64(0.35750635756957544), np.float64(0.22766040627861825), np.float64(0.39983466694780556)]\n",
      "[np.float64(0.6405359279930083), np.float64(3.0892252334427197), np.float64(3.2952409306100465), np.float64(0.6848105418525466), np.float64(0.3877896147030844), np.float64(0.48317143529693185)]\n"
     ]
    }
   ],
   "source": [
    "lower_bounds_usgan_ICUType_4_subgroup, upper_bounds_usgan_ICUType_4_subgroup = toolkits.calc_lower_and_upper_bound_percentile(results_bootstrap_usgan_ICUType_4_subgroup)\n",
    "\n",
    "print(lower_bounds_usgan_ICUType_4_subgroup)\n",
    "print(upper_bounds_usgan_ICUType_4_subgroup)"
   ]
  },
  {
   "cell_type": "markdown",
   "metadata": {},
   "source": [
    "#### Mean values of lower bound and upper bound"
   ]
  },
  {
   "cell_type": "code",
   "execution_count": 253,
   "metadata": {},
   "outputs": [
    {
     "name": "stdout",
     "output_type": "stream",
     "text": [
      "[np.float64(0.4977659057404571), np.float64(1.6462551542616877), np.float64(2.4610043775346733), np.float64(0.5211584497110611), np.float64(0.3077250104908513), np.float64(0.4415030511223687)]\n"
     ]
    }
   ],
   "source": [
    "mean_values_ci_usgan_ICUType_4_subgroup  = toolkits.calc_mean_values_ci(lower_bounds_usgan_ICUType_4_subgroup, upper_bounds_usgan_ICUType_4_subgroup)\n",
    "\n",
    "print(mean_values_ci_usgan_ICUType_4_subgroup)"
   ]
  },
  {
   "cell_type": "markdown",
   "metadata": {},
   "source": [
    "### Confidence Interval (Undefined classification subgroup)"
   ]
  },
  {
   "cell_type": "markdown",
   "metadata": {},
   "source": [
    "#### Distribution Bootstrap for the Top 5 variables with Largest Differences in MAE (Mean Absolute Error) "
   ]
  },
  {
   "cell_type": "code",
   "execution_count": 254,
   "metadata": {},
   "outputs": [],
   "source": [
    "indices = [32, 0, 6, 31, 5, 1, 35]\n",
    "\n",
    "results_bootstrap_usgan_undefined_classification_subgroup = []\n",
    "\n",
    "for i in indices:\n",
    "       results_bootstrap_usgan_undefined_classification_subgroup.append(toolkits.bootstrap_v2(testing_ae_usgan_variables_standard, indicating_mask_variable_standard_norm, 10, i, 9000))\n",
    "\n"
   ]
  },
  {
   "cell_type": "markdown",
   "metadata": {},
   "source": [
    "#### Calculating the mean and standard deviation of the bootstrap distribution"
   ]
  },
  {
   "cell_type": "code",
   "execution_count": 255,
   "metadata": {},
   "outputs": [
    {
     "name": "stdout",
     "output_type": "stream",
     "text": [
      "[np.float64(0.37927547550229274), np.float64(0.43112199091233366), np.float64(1.8593231564276025), np.float64(1.3621282758824853), np.float64(0.588938310460686), np.float64(0.1948814347428873), np.float64(0.09467248531019279)]\n",
      "[np.float64(0.03993382630084488), np.float64(0.05935639678613229), np.float64(0.2569802403478074), np.float64(0.18858621368035416), np.float64(0.11301996643858488), np.float64(0.03660713963979667), np.float64(0.0037987791388823878)]\n"
     ]
    }
   ],
   "source": [
    "means_bootstraps_usgan_undefined_classification_subgroup, standards_deviations_usgan_undefined_classification_subgroup = toolkits.calc_mean_and_standard_deviation(results_bootstrap_usgan_undefined_classification_subgroup)\n",
    "\n",
    "print(means_bootstraps_usgan_undefined_classification_subgroup)\n",
    "print(standards_deviations_usgan_undefined_classification_subgroup)\n"
   ]
  },
  {
   "cell_type": "markdown",
   "metadata": {},
   "source": [
    "#### Calculating lower bound and upper bound"
   ]
  },
  {
   "cell_type": "code",
   "execution_count": 256,
   "metadata": {},
   "outputs": [
    {
     "name": "stdout",
     "output_type": "stream",
     "text": [
      "[np.float64(0.3010066141877584), np.float64(0.31478559095944536), np.float64(1.3556511406074532), np.float64(0.9925060890882162), np.float64(0.367423246707134), np.float64(0.12313275947185726), np.float64(0.08722701501276123)]\n",
      "[np.float64(0.45754433681682705), np.float64(0.547458390865222), np.float64(2.362995172247752), np.float64(1.7317504626767544), np.float64(0.810453374214238), np.float64(0.26663011001391734), np.float64(0.10211795560762435)]\n"
     ]
    }
   ],
   "source": [
    "lower_bounds_usgan_undefined_classification_subgroup, upper_bounds_usgan_undefined_classification_subgroup = toolkits.calc_lower_and_upper_bound(results_bootstrap_usgan_undefined_classification_subgroup, means_bootstraps_usgan_undefined_classification_subgroup, standards_deviations_usgan_undefined_classification_subgroup)\n",
    "\n",
    "print(lower_bounds_usgan_undefined_classification_subgroup)\n",
    "print(upper_bounds_usgan_undefined_classification_subgroup)"
   ]
  },
  {
   "cell_type": "code",
   "execution_count": 257,
   "metadata": {},
   "outputs": [
    {
     "name": "stdout",
     "output_type": "stream",
     "text": [
      "[np.float64(0.30869098078502927), np.float64(0.32181971036208), np.float64(1.358646658135121), np.float64(0.9990198651778386), np.float64(0.4130162051800631), np.float64(0.13977708052703836), np.float64(0.08743907167123824)]\n",
      "[np.float64(0.46603658734654074), np.float64(0.5549029132420611), np.float64(2.3599698972892544), np.float64(1.7117143053755217), np.float64(0.8438078806326391), np.float64(0.2774775590649913), np.float64(0.10236536428882531)]\n"
     ]
    }
   ],
   "source": [
    "lower_bounds_usgan_undefined_classification_subgroup, upper_bounds_usgan_undefined_classification_subgroup = toolkits.calc_lower_and_upper_bound_percentile(results_bootstrap_usgan_undefined_classification_subgroup)\n",
    "\n",
    "print(lower_bounds_usgan_undefined_classification_subgroup)\n",
    "print(upper_bounds_usgan_undefined_classification_subgroup)"
   ]
  },
  {
   "cell_type": "markdown",
   "metadata": {},
   "source": [
    "#### Mean values of lower bound and upper bound"
   ]
  },
  {
   "cell_type": "code",
   "execution_count": 258,
   "metadata": {},
   "outputs": [
    {
     "name": "stdout",
     "output_type": "stream",
     "text": [
      "[np.float64(0.387363784065785), np.float64(0.43836131180207055), np.float64(1.8593082777121879), np.float64(1.3553670852766802), np.float64(0.6284120429063511), np.float64(0.20862731979601482), np.float64(0.09490221798003178)]\n"
     ]
    }
   ],
   "source": [
    "mean_values_ci_usgan_undefined_classification_subgroup  = toolkits.calc_mean_values_ci(lower_bounds_usgan_undefined_classification_subgroup, upper_bounds_usgan_undefined_classification_subgroup)\n",
    "\n",
    "print(mean_values_ci_usgan_undefined_classification_subgroup)"
   ]
  },
  {
   "cell_type": "markdown",
   "metadata": {},
   "source": [
    "### Confidence Interval (Low weight classification subgroup)"
   ]
  },
  {
   "cell_type": "markdown",
   "metadata": {},
   "source": [
    "#### Distribution Bootstrap for the Top 5 variables with Largest Differences in MAE (Mean Absolute Error) "
   ]
  },
  {
   "cell_type": "code",
   "execution_count": 259,
   "metadata": {},
   "outputs": [],
   "source": [
    "indices = [32, 0, 6, 31, 5, 1, 35]\n",
    "\n",
    "results_bootstrap_usgan_low_weight_classification_subgroup = []\n",
    "\n",
    "for i in indices:\n",
    "       results_bootstrap_usgan_low_weight_classification_subgroup.append(toolkits.bootstrap_v2(testing_ae_usgan_variables_standard, indicating_mask_variable_standard_norm, 11, i, 9000))\n",
    "\n"
   ]
  },
  {
   "cell_type": "markdown",
   "metadata": {},
   "source": [
    "#### Calculating the mean and standard deviation of the bootstrap distribution"
   ]
  },
  {
   "cell_type": "code",
   "execution_count": 260,
   "metadata": {},
   "outputs": [
    {
     "name": "stdout",
     "output_type": "stream",
     "text": [
      "[np.float64(0.32919883610811934), np.float64(2.081131605946338), np.float64(1.804523613189184), np.float64(0.0), np.float64(1.607679945405586), np.float64(0.2666678727844263), np.float64(0.10243322988477836)]\n",
      "[np.float64(0.25162252877837404), np.float64(1.3193634963896108), np.float64(1.3530663882920586), np.float64(0.0), np.float64(1.0737633215875115), np.float64(0.10651441079471385), np.float64(0.011198030685643613)]\n"
     ]
    }
   ],
   "source": [
    "means_bootstraps_usgan_low_weight_classification_subgroup, standards_deviations_usgan_low_weight_classification_subgroup = toolkits.calc_mean_and_standard_deviation(results_bootstrap_usgan_low_weight_classification_subgroup)\n",
    "\n",
    "print(means_bootstraps_usgan_low_weight_classification_subgroup)\n",
    "print(standards_deviations_usgan_low_weight_classification_subgroup)\n"
   ]
  },
  {
   "cell_type": "markdown",
   "metadata": {},
   "source": [
    "#### Calculating lower bound and upper bound"
   ]
  },
  {
   "cell_type": "code",
   "execution_count": 261,
   "metadata": {},
   "outputs": [
    {
     "name": "stdout",
     "output_type": "stream",
     "text": [
      "[np.float64(-0.1639722579963871), np.float64(-0.5047733294941406), np.float64(-0.8474377765549392), np.float64(0.0), np.float64(-0.49685749282603675), np.float64(0.057903463792282756), np.float64(0.08048549304314251)]\n",
      "[np.float64(0.8223699302126257), np.float64(4.667036541386817), np.float64(4.456485002933308), np.float64(0.0), np.float64(3.7122173836372085), np.float64(0.4754322817765698), np.float64(0.12438096672641422)]\n"
     ]
    }
   ],
   "source": [
    "lower_bounds_usgan_low_weight_classification_subgroup, upper_bounds_usgan_low_weight_classification_subgroup = toolkits.calc_lower_and_upper_bound(results_bootstrap_usgan_low_weight_classification_subgroup, means_bootstraps_usgan_low_weight_classification_subgroup, standards_deviations_usgan_low_weight_classification_subgroup)\n",
    "\n",
    "print(lower_bounds_usgan_low_weight_classification_subgroup)\n",
    "print(upper_bounds_usgan_low_weight_classification_subgroup)"
   ]
  },
  {
   "cell_type": "code",
   "execution_count": 262,
   "metadata": {},
   "outputs": [
    {
     "name": "stdout",
     "output_type": "stream",
     "text": [
      "[np.float64(0.0), np.float64(0.0), np.float64(0.0), np.float64(0.0), np.float64(0.2831756123511703), np.float64(0.07568562079113288), np.float64(0.08176865642044362)]\n",
      "[np.float64(0.521526056147568), np.float64(3.8852329995591535), np.float64(2.819078722220053), np.float64(0.0), np.float64(4.084151125946311), np.float64(0.489791801148735), np.float64(0.12564452131567572)]\n"
     ]
    }
   ],
   "source": [
    "lower_bounds_usgan_low_weight_classification_subgroup, upper_bounds_usgan_low_weight_classification_subgroup = toolkits.calc_lower_and_upper_bound_percentile(results_bootstrap_usgan_low_weight_classification_subgroup)\n",
    "\n",
    "print(lower_bounds_usgan_low_weight_classification_subgroup)\n",
    "print(upper_bounds_usgan_low_weight_classification_subgroup)"
   ]
  },
  {
   "cell_type": "markdown",
   "metadata": {},
   "source": [
    "#### Mean values of lower bound and upper bound"
   ]
  },
  {
   "cell_type": "code",
   "execution_count": 263,
   "metadata": {},
   "outputs": [
    {
     "name": "stdout",
     "output_type": "stream",
     "text": [
      "[np.float64(0.260763028073784), np.float64(1.9426164997795767), np.float64(1.4095393611100264), np.float64(0.0), np.float64(2.1836633691487406), np.float64(0.2827387109699339), np.float64(0.10370658886805967)]\n"
     ]
    }
   ],
   "source": [
    "mean_values_ci_usgan_low_weight_classification_subgroup  = toolkits.calc_mean_values_ci(lower_bounds_usgan_low_weight_classification_subgroup, upper_bounds_usgan_low_weight_classification_subgroup)\n",
    "\n",
    "print(mean_values_ci_usgan_low_weight_classification_subgroup)"
   ]
  },
  {
   "cell_type": "markdown",
   "metadata": {},
   "source": [
    "### Confidence Interval (Normal weight classification subgroup)"
   ]
  },
  {
   "cell_type": "markdown",
   "metadata": {},
   "source": [
    "#### Distribution Bootstrap for the Top 5 variables with Largest Differences in MAE (Mean Absolute Error) "
   ]
  },
  {
   "cell_type": "code",
   "execution_count": 264,
   "metadata": {},
   "outputs": [],
   "source": [
    "indices = [32, 0, 6, 31, 5, 1, 35]\n",
    "\n",
    "results_bootstrap_usgan_normal_weight_classification_subgroup = []\n",
    "\n",
    "for i in indices:\n",
    "       results_bootstrap_usgan_normal_weight_classification_subgroup.append(toolkits.bootstrap_v2(testing_ae_usgan_variables_standard, indicating_mask_variable_standard_norm, 12, i, 9000))\n",
    "\n"
   ]
  },
  {
   "cell_type": "markdown",
   "metadata": {},
   "source": [
    "#### Calculating the mean and standard deviation of the bootstrap distribution"
   ]
  },
  {
   "cell_type": "code",
   "execution_count": 265,
   "metadata": {},
   "outputs": [
    {
     "name": "stdout",
     "output_type": "stream",
     "text": [
      "[np.float64(0.36716622423068535), np.float64(0.5331987130566835), np.float64(2.9647027948952647), np.float64(2.1839034547495797), np.float64(0.6236126242642359), np.float64(0.2237520333905473), np.float64(0.069408565511564)]\n",
      "[np.float64(0.0380843920768835), np.float64(0.13466519171113311), np.float64(1.1773137898993913), np.float64(0.2392449700140041), np.float64(0.19038236671669487), np.float64(0.04239324169445181), np.float64(0.003553218348660062)]\n"
     ]
    }
   ],
   "source": [
    "means_bootstraps_usgan_normal_weight_classification_subgroup, standards_deviations_usgan_normal_weight_classification_subgroup = toolkits.calc_mean_and_standard_deviation(results_bootstrap_usgan_normal_weight_classification_subgroup)\n",
    "\n",
    "print(means_bootstraps_usgan_normal_weight_classification_subgroup)\n",
    "print(standards_deviations_usgan_normal_weight_classification_subgroup)\n"
   ]
  },
  {
   "cell_type": "markdown",
   "metadata": {},
   "source": [
    "#### Calculating lower bound and upper bound"
   ]
  },
  {
   "cell_type": "code",
   "execution_count": 266,
   "metadata": {},
   "outputs": [
    {
     "name": "stdout",
     "output_type": "stream",
     "text": [
      "[np.float64(0.29252218738689106), np.float64(0.2692597873316808), np.float64(0.6572101681901015), np.float64(1.7149919300397665), np.float64(0.2504700422080169), np.float64(0.14066280648152), np.float64(0.062444385518983396)]\n",
      "[np.float64(0.4418102610744796), np.float64(0.7971376387816862), np.float64(5.272195421600427), np.float64(2.652814979459393), np.float64(0.996755206320455), np.float64(0.3068412602995746), np.float64(0.0763727455041446)]\n"
     ]
    }
   ],
   "source": [
    "lower_bounds_usgan_normal_weight_classification_subgroup, upper_bounds_usgan_normal_weight_classification_subgroup = toolkits.calc_lower_and_upper_bound(results_bootstrap_usgan_normal_weight_classification_subgroup, means_bootstraps_usgan_normal_weight_classification_subgroup, standards_deviations_usgan_normal_weight_classification_subgroup)\n",
    "\n",
    "print(lower_bounds_usgan_normal_weight_classification_subgroup)\n",
    "print(upper_bounds_usgan_normal_weight_classification_subgroup)"
   ]
  },
  {
   "cell_type": "code",
   "execution_count": 267,
   "metadata": {},
   "outputs": [
    {
     "name": "stdout",
     "output_type": "stream",
     "text": [
      "[np.float64(0.29379326154339624), np.float64(0.30066489047439204), np.float64(0.0), np.float64(1.7418619589257787), np.float64(0.33596990276394384), np.float64(0.14640515047483887), np.float64(0.06259001695077994)]\n",
      "[np.float64(0.44303539902603495), np.float64(0.8255746590884991), np.float64(3.7219816477052636), np.float64(2.679536293887521), np.float64(1.0559311279379122), np.float64(0.31170609148198064), np.float64(0.07666240979539621)]\n"
     ]
    }
   ],
   "source": [
    "lower_bounds_usgan_normal_weight_classification_subgroup, upper_bounds_usgan_normal_weight_classification_subgroup = toolkits.calc_lower_and_upper_bound_percentile(results_bootstrap_usgan_normal_weight_classification_subgroup)\n",
    "\n",
    "print(lower_bounds_usgan_normal_weight_classification_subgroup)\n",
    "print(upper_bounds_usgan_normal_weight_classification_subgroup)"
   ]
  },
  {
   "cell_type": "markdown",
   "metadata": {},
   "source": [
    "#### Mean values of lower bound and upper bound"
   ]
  },
  {
   "cell_type": "code",
   "execution_count": 268,
   "metadata": {},
   "outputs": [
    {
     "name": "stdout",
     "output_type": "stream",
     "text": [
      "[np.float64(0.3684143302847156), np.float64(0.5631197747814456), np.float64(1.8609908238526318), np.float64(2.21069912640665), np.float64(0.695950515350928), np.float64(0.22905562097840976), np.float64(0.06962621337308808)]\n"
     ]
    }
   ],
   "source": [
    "mean_values_ci_usgan_normal_weight_classification_subgroup  = toolkits.calc_mean_values_ci(lower_bounds_usgan_normal_weight_classification_subgroup, upper_bounds_usgan_normal_weight_classification_subgroup)\n",
    "\n",
    "print(mean_values_ci_usgan_normal_weight_classification_subgroup)"
   ]
  },
  {
   "cell_type": "markdown",
   "metadata": {},
   "source": [
    "### Confidence Interval (Overweight classification subgroup)"
   ]
  },
  {
   "cell_type": "markdown",
   "metadata": {},
   "source": [
    "#### Distribution Bootstrap for the Top 5 variables with Largest Differences in MAE (Mean Absolute Error) "
   ]
  },
  {
   "cell_type": "code",
   "execution_count": 269,
   "metadata": {},
   "outputs": [],
   "source": [
    "indices = [32, 0, 6, 31, 5, 1, 35]\n",
    "\n",
    "results_bootstrap_usgan_overweight_classification_subgroup = []\n",
    "\n",
    "for i in indices:\n",
    "       results_bootstrap_usgan_overweight_classification_subgroup.append(toolkits.bootstrap_v2(testing_ae_usgan_variables_standard, indicating_mask_variable_standard_norm, 13, i, 9000))\n",
    "\n"
   ]
  },
  {
   "cell_type": "markdown",
   "metadata": {},
   "source": [
    "#### Calculating the mean and standard deviation of the bootstrap distribution"
   ]
  },
  {
   "cell_type": "code",
   "execution_count": 270,
   "metadata": {},
   "outputs": [
    {
     "name": "stdout",
     "output_type": "stream",
     "text": [
      "[np.float64(0.5313377674146835), np.float64(0.35969716090379755), np.float64(1.077706156210986), np.float64(1.8801484874938146), np.float64(0.4511712299115422), np.float64(0.3045232905897354), np.float64(0.06277935761546015)]\n",
      "[np.float64(0.14852429760642916), np.float64(0.07898953496277909), np.float64(0.500833087018858), np.float64(0.8193849050247347), np.float64(0.05757374812303061), np.float64(0.07290910367719514), np.float64(0.0034726220119524784)]\n"
     ]
    }
   ],
   "source": [
    "means_bootstraps_usgan_overweight_classification_subgroup, standards_deviations_usgan_overweight_classification_subgroup = toolkits.calc_mean_and_standard_deviation(results_bootstrap_usgan_overweight_classification_subgroup)\n",
    "\n",
    "print(means_bootstraps_usgan_overweight_classification_subgroup)\n",
    "print(standards_deviations_usgan_overweight_classification_subgroup)\n"
   ]
  },
  {
   "cell_type": "markdown",
   "metadata": {},
   "source": [
    "#### Calculating lower bound and upper bound"
   ]
  },
  {
   "cell_type": "code",
   "execution_count": 271,
   "metadata": {},
   "outputs": [
    {
     "name": "stdout",
     "output_type": "stream",
     "text": [
      "[np.float64(0.2402354932769738), np.float64(0.20488051722118314), np.float64(0.09609134338800951), np.float64(0.2741835841695617), np.float64(0.33832875713542165), np.float64(0.16162407323733607), np.float64(0.05597314354011227)]\n",
      "[np.float64(0.8224400415523933), np.float64(0.5145138045864119), np.float64(2.0593209690339624), np.float64(3.4861133908180673), np.float64(0.5640137026876627), np.float64(0.4474225079421347), np.float64(0.06958557169080803)]\n"
     ]
    }
   ],
   "source": [
    "lower_bounds_usgan_overweight_classification_subgroup, upper_bounds_usgan_overweight_classification_subgroup = toolkits.calc_lower_and_upper_bound(results_bootstrap_usgan_overweight_classification_subgroup, means_bootstraps_usgan_overweight_classification_subgroup, standards_deviations_usgan_overweight_classification_subgroup)\n",
    "\n",
    "print(lower_bounds_usgan_overweight_classification_subgroup)\n",
    "print(upper_bounds_usgan_overweight_classification_subgroup)"
   ]
  },
  {
   "cell_type": "code",
   "execution_count": 272,
   "metadata": {},
   "outputs": [
    {
     "name": "stdout",
     "output_type": "stream",
     "text": [
      "[np.float64(0.2972291056014258), np.float64(0.22280497000865498), np.float64(0.07192878140181272), np.float64(0.4092776996333325), np.float64(0.34308219439832677), np.float64(0.17869988490283376), np.float64(0.05637324028494324)]\n",
      "[np.float64(0.8693070664429965), np.float64(0.5308598495935907), np.float64(2.104946220765399), np.float64(3.625243160669168), np.float64(0.5693773749776534), np.float64(0.4592751836990056), np.float64(0.07002338308825001)]\n"
     ]
    }
   ],
   "source": [
    "lower_bounds_usgan_overweight_classification_subgroup, upper_bounds_usgan_overweight_classification_subgroup = toolkits.calc_lower_and_upper_bound_percentile(results_bootstrap_usgan_overweight_classification_subgroup)\n",
    "\n",
    "print(lower_bounds_usgan_overweight_classification_subgroup)\n",
    "print(upper_bounds_usgan_overweight_classification_subgroup)"
   ]
  },
  {
   "cell_type": "markdown",
   "metadata": {},
   "source": [
    "#### Mean values of lower bound and upper bound"
   ]
  },
  {
   "cell_type": "code",
   "execution_count": 273,
   "metadata": {},
   "outputs": [
    {
     "name": "stdout",
     "output_type": "stream",
     "text": [
      "[np.float64(0.5832680860222111), np.float64(0.3768324098011228), np.float64(1.0884375010836058), np.float64(2.01726043015125), np.float64(0.4562297846879901), np.float64(0.3189875343009197), np.float64(0.06319831168659662)]\n"
     ]
    }
   ],
   "source": [
    "mean_values_ci_usgan_overweight_classification_subgroup  = toolkits.calc_mean_values_ci(lower_bounds_usgan_overweight_classification_subgroup, upper_bounds_usgan_overweight_classification_subgroup)\n",
    "\n",
    "print(mean_values_ci_usgan_overweight_classification_subgroup)"
   ]
  },
  {
   "cell_type": "markdown",
   "metadata": {},
   "source": [
    "### Confidence Interval (Obesity 1 classification subgroup)"
   ]
  },
  {
   "cell_type": "markdown",
   "metadata": {},
   "source": [
    "#### Distribution Bootstrap for the Top 5 variables with Largest Differences in MAE (Mean Absolute Error) "
   ]
  },
  {
   "cell_type": "code",
   "execution_count": 274,
   "metadata": {},
   "outputs": [],
   "source": [
    "indices = [32, 0, 6, 31, 5, 1, 35]\n",
    "\n",
    "results_bootstrap_usgan_obs1_classification_subgroup = []\n",
    "\n",
    "for i in indices:\n",
    "       results_bootstrap_usgan_obs1_classification_subgroup.append(toolkits.bootstrap_v2(testing_ae_usgan_variables_standard, indicating_mask_variable_standard_norm, 14, i, 9000))\n",
    "\n"
   ]
  },
  {
   "cell_type": "markdown",
   "metadata": {},
   "source": [
    "#### Calculating the mean and standard deviation of the bootstrap distribution"
   ]
  },
  {
   "cell_type": "code",
   "execution_count": 275,
   "metadata": {},
   "outputs": [
    {
     "name": "stdout",
     "output_type": "stream",
     "text": [
      "[np.float64(0.22072518602261637), np.float64(0.4547208642874865), np.float64(2.813640052555757), np.float64(1.6780089082143648), np.float64(0.4013555347642542), np.float64(0.21585892519453578), np.float64(0.0933896400138659)]\n",
      "[np.float64(0.06261225716930365), np.float64(0.07793442849794503), np.float64(0.8053105933410025), np.float64(0.8907219767639729), np.float64(0.08849928362062656), np.float64(0.05077296418644187), np.float64(0.00746406027845502)]\n"
     ]
    }
   ],
   "source": [
    "means_bootstraps_usgan_obs1_classification_subgroup, standards_deviations_usgan_obs1_classification_subgroup = toolkits.calc_mean_and_standard_deviation(results_bootstrap_usgan_obs1_classification_subgroup)\n",
    "\n",
    "print(means_bootstraps_usgan_obs1_classification_subgroup)\n",
    "print(standards_deviations_usgan_obs1_classification_subgroup)\n"
   ]
  },
  {
   "cell_type": "markdown",
   "metadata": {},
   "source": [
    "#### Calculating lower bound and upper bound"
   ]
  },
  {
   "cell_type": "code",
   "execution_count": 276,
   "metadata": {},
   "outputs": [
    {
     "name": "stdout",
     "output_type": "stream",
     "text": [
      "[np.float64(0.09800741698002144), np.float64(0.3019721912758022), np.float64(1.2352602932388106), np.float64(-0.06777408648134498), np.float64(0.2279001262102306), np.float64(0.1163457440007677), np.float64(0.07876035068965806)]\n",
      "[np.float64(0.3434429550652113), np.float64(0.6074695372991707), np.float64(4.392019811872704), np.float64(3.4237919029100743), np.float64(0.5748109433182778), np.float64(0.3153721063883039), np.float64(0.10801892933807375)]\n"
     ]
    }
   ],
   "source": [
    "lower_bounds_usgan_obs1_classification_subgroup, upper_bounds_usgan_obs1_classification_subgroup = toolkits.calc_lower_and_upper_bound(results_bootstrap_usgan_obs1_classification_subgroup, means_bootstraps_usgan_obs1_classification_subgroup, standards_deviations_usgan_obs1_classification_subgroup)\n",
    "\n",
    "print(lower_bounds_usgan_obs1_classification_subgroup)\n",
    "print(upper_bounds_usgan_obs1_classification_subgroup)"
   ]
  },
  {
   "cell_type": "code",
   "execution_count": 277,
   "metadata": {},
   "outputs": [
    {
     "name": "stdout",
     "output_type": "stream",
     "text": [
      "[np.float64(0.10341447344675987), np.float64(0.31431446506705324), np.float64(0.0), np.float64(0.0), np.float64(0.24338271493885694), np.float64(0.12557371883461996), np.float64(0.07967143098146552)]\n",
      "[np.float64(0.3515898574325419), np.float64(0.6213040379991732), np.float64(3.550606754912776), np.float64(2.776161767415225), np.float64(0.5904861410917989), np.float64(0.32151307089064934), np.float64(0.10900543397402626)]\n"
     ]
    }
   ],
   "source": [
    "lower_bounds_usgan_obs1_classification_subgroup, upper_bounds_usgan_obs1_classification_subgroup = toolkits.calc_lower_and_upper_bound_percentile(results_bootstrap_usgan_obs1_classification_subgroup)\n",
    "\n",
    "print(lower_bounds_usgan_obs1_classification_subgroup)\n",
    "print(upper_bounds_usgan_obs1_classification_subgroup)"
   ]
  },
  {
   "cell_type": "markdown",
   "metadata": {},
   "source": [
    "#### Mean values of lower bound and upper bound"
   ]
  },
  {
   "cell_type": "code",
   "execution_count": 278,
   "metadata": {},
   "outputs": [
    {
     "name": "stdout",
     "output_type": "stream",
     "text": [
      "[np.float64(0.22750216543965088), np.float64(0.46780925153311326), np.float64(1.775303377456388), np.float64(1.3880808837076124), np.float64(0.4169344280153279), np.float64(0.22354339486263464), np.float64(0.0943384324777459)]\n"
     ]
    }
   ],
   "source": [
    "mean_values_ci_usgan_obs1_classification_subgroup  = toolkits.calc_mean_values_ci(lower_bounds_usgan_obs1_classification_subgroup, upper_bounds_usgan_obs1_classification_subgroup)\n",
    "\n",
    "print(mean_values_ci_usgan_obs1_classification_subgroup)"
   ]
  },
  {
   "cell_type": "markdown",
   "metadata": {},
   "source": [
    "### Confidence Interval (Obesity 2 classification subgroup)"
   ]
  },
  {
   "cell_type": "markdown",
   "metadata": {},
   "source": [
    "#### Distribution Bootstrap for the Top 5 variables with Largest Differences in MAE (Mean Absolute Error) "
   ]
  },
  {
   "cell_type": "code",
   "execution_count": 279,
   "metadata": {},
   "outputs": [],
   "source": [
    "indices = [32, 0, 6, 31, 5, 1, 35]\n",
    "\n",
    "results_bootstrap_usgan_obs2_classification_subgroup = []\n",
    "\n",
    "for i in indices:\n",
    "       results_bootstrap_usgan_obs2_classification_subgroup.append(toolkits.bootstrap_v2(testing_ae_usgan_variables_standard, indicating_mask_variable_standard_norm, 15, i, 9000))\n",
    "\n"
   ]
  },
  {
   "cell_type": "markdown",
   "metadata": {},
   "source": [
    "#### Calculating the mean and standard deviation of the bootstrap distribution"
   ]
  },
  {
   "cell_type": "code",
   "execution_count": 280,
   "metadata": {},
   "outputs": [
    {
     "name": "stdout",
     "output_type": "stream",
     "text": [
      "[np.float64(1.0076600652125578), np.float64(0.2057323379031958), np.float64(1.5921744316354691), np.float64(0.0), np.float64(0.4757423755461549), np.float64(0.46722605932707173), np.float64(0.09404879461936072)]\n",
      "[np.float64(0.8240521485012194), np.float64(0.05033909687690472), np.float64(1.2007615073986333), np.float64(0.0), np.float64(0.07510613780784255), np.float64(0.242814475426298), np.float64(0.01111102819636438)]\n"
     ]
    }
   ],
   "source": [
    "means_bootstraps_usgan_obs2_classification_subgroup, standards_deviations_usgan_obs2_classification_subgroup = toolkits.calc_mean_and_standard_deviation(results_bootstrap_usgan_obs2_classification_subgroup)\n",
    "\n",
    "print(means_bootstraps_usgan_obs2_classification_subgroup)\n",
    "print(standards_deviations_usgan_obs2_classification_subgroup)\n"
   ]
  },
  {
   "cell_type": "markdown",
   "metadata": {},
   "source": [
    "#### Calculating lower bound and upper bound"
   ]
  },
  {
   "cell_type": "code",
   "execution_count": 281,
   "metadata": {},
   "outputs": [
    {
     "name": "stdout",
     "output_type": "stream",
     "text": [
      "[np.float64(-0.6074524672326846), np.float64(0.10706952101018984), np.float64(-0.7612748768878776), np.float64(0.0), np.float64(0.3285370504248814), np.float64(-0.008681567433458326), np.float64(0.07227157952327751)]\n",
      "[np.float64(2.6227725976578), np.float64(0.3043951547962018), np.float64(3.945623740158816), np.float64(0.0), np.float64(0.6229477006674284), np.float64(0.9431336860876018), np.float64(0.11582600971544393)]\n"
     ]
    }
   ],
   "source": [
    "lower_bounds_usgan_obs2_classification_subgroup, upper_bounds_usgan_obs2_classification_subgroup = toolkits.calc_lower_and_upper_bound(results_bootstrap_usgan_obs2_classification_subgroup, means_bootstraps_usgan_obs2_classification_subgroup, standards_deviations_usgan_obs2_classification_subgroup)\n",
    "\n",
    "print(lower_bounds_usgan_obs2_classification_subgroup)\n",
    "print(upper_bounds_usgan_obs2_classification_subgroup)"
   ]
  },
  {
   "cell_type": "code",
   "execution_count": 282,
   "metadata": {},
   "outputs": [
    {
     "name": "stdout",
     "output_type": "stream",
     "text": [
      "[np.float64(0.0), np.float64(0.10602982518456486), np.float64(0.0), np.float64(0.0), np.float64(0.33026697848310405), np.float64(0.0818633952588649), np.float64(0.07379316930962601)]\n",
      "[np.float64(2.7938387017906305), np.float64(0.30693167812892086), np.float64(2.4977461887267776), np.float64(0.0), np.float64(0.6239750749760374), np.float64(0.985034801599763), np.float64(0.11735426580311797)]\n"
     ]
    }
   ],
   "source": [
    "lower_bounds_usgan_obs2_classification_subgroup, upper_bounds_usgan_obs2_classification_subgroup = toolkits.calc_lower_and_upper_bound_percentile(results_bootstrap_usgan_obs2_classification_subgroup)\n",
    "\n",
    "print(lower_bounds_usgan_obs2_classification_subgroup)\n",
    "print(upper_bounds_usgan_obs2_classification_subgroup)"
   ]
  },
  {
   "cell_type": "markdown",
   "metadata": {},
   "source": [
    "#### Mean values of lower bound and upper bound"
   ]
  },
  {
   "cell_type": "code",
   "execution_count": 283,
   "metadata": {},
   "outputs": [
    {
     "name": "stdout",
     "output_type": "stream",
     "text": [
      "[np.float64(1.3969193508953153), np.float64(0.20648075165674284), np.float64(1.2488730943633888), np.float64(0.0), np.float64(0.47712102672957074), np.float64(0.533449098429314), np.float64(0.09557371755637199)]\n"
     ]
    }
   ],
   "source": [
    "mean_values_ci_usgan_obs2_classification_subgroup  = toolkits.calc_mean_values_ci(lower_bounds_usgan_obs2_classification_subgroup, upper_bounds_usgan_obs2_classification_subgroup)\n",
    "\n",
    "print(mean_values_ci_usgan_obs2_classification_subgroup)"
   ]
  },
  {
   "cell_type": "markdown",
   "metadata": {},
   "source": [
    "### Confidence Interval (Obesity 3 classification subgroup)"
   ]
  },
  {
   "cell_type": "markdown",
   "metadata": {},
   "source": [
    "#### Distribution Bootstrap for the Top 5 variables with Largest Differences in MAE (Mean Absolute Error) "
   ]
  },
  {
   "cell_type": "code",
   "execution_count": 284,
   "metadata": {},
   "outputs": [],
   "source": [
    "indices = [32, 0, 6, 31, 5, 1, 35]\n",
    "\n",
    "results_bootstrap_usgan_obs3_classification_subgroup = []\n",
    "\n",
    "for i in indices:\n",
    "       results_bootstrap_usgan_obs3_classification_subgroup.append(toolkits.bootstrap_v2(testing_ae_usgan_variables_standard, indicating_mask_variable_standard_norm, 16, i, 9000))\n",
    "\n"
   ]
  },
  {
   "cell_type": "markdown",
   "metadata": {},
   "source": [
    "#### Calculating the mean and standard deviation of the bootstrap distribution"
   ]
  },
  {
   "cell_type": "code",
   "execution_count": 285,
   "metadata": {},
   "outputs": [
    {
     "name": "stdout",
     "output_type": "stream",
     "text": [
      "[np.float64(1.09687350132991), np.float64(0.3968254043557604), np.float64(0.0), np.float64(1.2754181251728833), np.float64(0.5336452979888663), np.float64(0.8021763745635597), np.float64(0.1906829133923447)]\n",
      "[np.float64(0.7790474208032958), np.float64(0.11673235669558012), np.float64(0.0), np.float64(0.9809216973353783), np.float64(0.15523517934126804), np.float64(0.5561448106529544), np.float64(0.023844462803084568)]\n"
     ]
    }
   ],
   "source": [
    "means_bootstraps_usgan_obs3_classification_subgroup, standards_deviations_usgan_obs3_classification_subgroup = toolkits.calc_mean_and_standard_deviation(results_bootstrap_usgan_obs3_classification_subgroup)\n",
    "\n",
    "print(means_bootstraps_usgan_obs3_classification_subgroup)\n",
    "print(standards_deviations_usgan_obs3_classification_subgroup)\n"
   ]
  },
  {
   "cell_type": "markdown",
   "metadata": {},
   "source": [
    "#### Calculating lower bound and upper bound"
   ]
  },
  {
   "cell_type": "code",
   "execution_count": 286,
   "metadata": {},
   "outputs": [
    {
     "name": "stdout",
     "output_type": "stream",
     "text": [
      "[np.float64(-0.43003138569336974), np.float64(0.16803418940194034), np.float64(0.0), np.float64(-0.6471530732583575), np.float64(0.2293899373463647), np.float64(-0.2878474245050786), np.float64(0.14394862506759395)]\n",
      "[np.float64(2.6237783883531898), np.float64(0.6256166193095805), np.float64(0.0), np.float64(3.197989323604124), np.float64(0.8379006586313679), np.float64(1.892200173632198), np.float64(0.23741720171709543)]\n"
     ]
    }
   ],
   "source": [
    "lower_bounds_usgan_obs3_classification_subgroup, upper_bounds_usgan_obs3_classification_subgroup = toolkits.calc_lower_and_upper_bound(results_bootstrap_usgan_obs3_classification_subgroup, means_bootstraps_usgan_obs3_classification_subgroup, standards_deviations_usgan_obs3_classification_subgroup)\n",
    "\n",
    "print(lower_bounds_usgan_obs3_classification_subgroup)\n",
    "print(upper_bounds_usgan_obs3_classification_subgroup)"
   ]
  },
  {
   "cell_type": "code",
   "execution_count": 287,
   "metadata": {},
   "outputs": [
    {
     "name": "stdout",
     "output_type": "stream",
     "text": [
      "[np.float64(0.21440702645782947), np.float64(0.19886143006735535), np.float64(0.0), np.float64(0.0), np.float64(0.21506725896909207), np.float64(0.0), np.float64(0.14713183932990195)]\n",
      "[np.float64(2.919325100838927), np.float64(0.650154610833248), np.float64(0.0), np.float64(2.029843170037303), np.float64(0.819490112208067), np.float64(2.000817349316018), np.float64(0.240083590025278)]\n"
     ]
    }
   ],
   "source": [
    "lower_bounds_usgan_obs3_classification_subgroup, upper_bounds_usgan_obs3_classification_subgroup = toolkits.calc_lower_and_upper_bound_percentile(results_bootstrap_usgan_obs3_classification_subgroup)\n",
    "\n",
    "print(lower_bounds_usgan_obs3_classification_subgroup)\n",
    "print(upper_bounds_usgan_obs3_classification_subgroup)"
   ]
  },
  {
   "cell_type": "markdown",
   "metadata": {},
   "source": [
    "#### Mean values of lower bound and upper bound"
   ]
  },
  {
   "cell_type": "code",
   "execution_count": 288,
   "metadata": {},
   "outputs": [
    {
     "name": "stdout",
     "output_type": "stream",
     "text": [
      "[np.float64(1.5668660636483782), np.float64(0.42450802045030167), np.float64(0.0), np.float64(1.0149215850186515), np.float64(0.5172786855885796), np.float64(1.000408674658009), np.float64(0.19360771467758997)]\n"
     ]
    }
   ],
   "source": [
    "mean_values_ci_usgan_obs3_classification_subgroup  = toolkits.calc_mean_values_ci(lower_bounds_usgan_obs3_classification_subgroup, upper_bounds_usgan_obs3_classification_subgroup)\n",
    "\n",
    "print(mean_values_ci_usgan_obs3_classification_subgroup)"
   ]
  },
  {
   "cell_type": "markdown",
   "metadata": {},
   "source": [
    "### Confidence Interval (Obesity subgroup)"
   ]
  },
  {
   "cell_type": "code",
   "execution_count": 67,
   "metadata": {},
   "outputs": [],
   "source": [
    "indices = [32, 0, 6, 31, 5, 1, 35]\n",
    "\n",
    "results_bootstrap_usgan_obs3_classification_subgroup = []\n",
    "\n",
    "for i in indices:\n",
    "       results_bootstrap_usgan_obs3_classification_subgroup.append(toolkits.bootstrap_v2(testing_ae_usgan_variables_standard, indicating_mask_variable_standard_norm, 8, i, 9000))\n",
    "\n"
   ]
  },
  {
   "cell_type": "code",
   "execution_count": 68,
   "metadata": {},
   "outputs": [
    {
     "name": "stdout",
     "output_type": "stream",
     "text": [
      "[np.float64(0.3332880303893282), np.float64(0.5032999807986784), np.float64(3.7578895700970163), np.float64(1.743707224822977), np.float64(1.0268204524806999), np.float64(0.2959756913184028), np.float64(0.06905533274411292)]\n",
      "[np.float64(0.04950821031921818), np.float64(0.20180963625591736), np.float64(1.1585578928621527), np.float64(0.4131067210904921), np.float64(0.2867446399243165), np.float64(0.127801480480534), np.float64(0.003466926499685081)]\n"
     ]
    }
   ],
   "source": [
    "means_bootstraps_usgan_obs3_classification_subgroup, standards_deviations_usgan_obs3_classification_subgroup = toolkits.calc_mean_and_standard_deviation(results_bootstrap_usgan_obs3_classification_subgroup)\n",
    "\n",
    "print(means_bootstraps_usgan_obs3_classification_subgroup)\n",
    "print(standards_deviations_usgan_obs3_classification_subgroup)\n"
   ]
  },
  {
   "cell_type": "code",
   "execution_count": 69,
   "metadata": {},
   "outputs": [
    {
     "name": "stdout",
     "output_type": "stream",
     "text": [
      "[np.float64(0.23393090466994923), np.float64(0.23801724972510263), np.float64(0.0), np.float64(1.0070454348515294), np.float64(0.5259391841703286), np.float64(0.1388890545964323), np.float64(0.06262584784829395)]\n",
      "[np.float64(0.43002298410943507), np.float64(0.9704570818796826), np.float64(5.477538784774831), np.float64(2.597205414064576), np.float64(1.6456418467460987), np.float64(0.5960350835248346), np.float64(0.0762240908944591)]\n"
     ]
    }
   ],
   "source": [
    "lower_bounds_usgan_obs3_classification_subgroup, upper_bounds_usgan_obs3_classification_subgroup = toolkits.calc_lower_and_upper_bound_percentile(results_bootstrap_usgan_obs3_classification_subgroup)\n",
    "\n",
    "print(lower_bounds_usgan_obs3_classification_subgroup)\n",
    "print(upper_bounds_usgan_obs3_classification_subgroup)"
   ]
  },
  {
   "cell_type": "code",
   "execution_count": 70,
   "metadata": {},
   "outputs": [
    {
     "name": "stdout",
     "output_type": "stream",
     "text": [
      "[np.float64(0.33197694438969216), np.float64(0.6042371658023926), np.float64(2.7387693923874155), np.float64(1.802125424458053), np.float64(1.0857905154582137), np.float64(0.36746206906063344), np.float64(0.06942496937137652)]\n"
     ]
    }
   ],
   "source": [
    "mean_values_ci_usgan_obs3_classification_subgroup  = toolkits.calc_mean_values_ci(lower_bounds_usgan_obs3_classification_subgroup, upper_bounds_usgan_obs3_classification_subgroup)\n",
    "\n",
    "print(mean_values_ci_usgan_obs3_classification_subgroup)"
   ]
  },
  {
   "cell_type": "markdown",
   "metadata": {},
   "source": [
    "## GPVAE"
   ]
  },
  {
   "cell_type": "markdown",
   "metadata": {},
   "source": [
    "### Calculate MAE and AE"
   ]
  },
  {
   "cell_type": "code",
   "execution_count": 71,
   "metadata": {},
   "outputs": [],
   "source": [
    "testing_mae_gpvae_variables_standard, testing_ae_gpvae_variables_standard = toolkits.calculate_mae(gpvae_imputation_standard, test_X_ori_variable_standard_norm, indicating_mask_variable_standard_norm)"
   ]
  },
  {
   "cell_type": "markdown",
   "metadata": {},
   "source": [
    "### Taking the MAE difference for GPVAE model"
   ]
  },
  {
   "cell_type": "markdown",
   "metadata": {},
   "source": [
    "#### Difference between gender group"
   ]
  },
  {
   "cell_type": "code",
   "execution_count": 290,
   "metadata": {},
   "outputs": [
    {
     "data": {
      "text/plain": [
       "[('Cholesterol', 0.7169802683144736),\n",
       " ('SaO2', 0.208904652557992),\n",
       " ('AST', 0.2024031290671195),\n",
       " ('Creatinine', 0.1454782316251666),\n",
       " ('Lactate', 0.10004746063821912)]"
      ]
     },
     "execution_count": 290,
     "metadata": {},
     "output_type": "execute_result"
    }
   ],
   "source": [
    "diff_gpvae_gender_subgroup = toolkits.diff_mae_top_5(testing_mae_gpvae_variables_standard, 1, 2, variables)\n",
    "diff_gpvae_gender_subgroup"
   ]
  },
  {
   "cell_type": "markdown",
   "metadata": {},
   "source": [
    "#### Difference between age group"
   ]
  },
  {
   "cell_type": "code",
   "execution_count": 291,
   "metadata": {},
   "outputs": [
    {
     "data": {
      "text/plain": [
       "[('Cholesterol', 0.49952280234507207),\n",
       " ('ALP', 0.4445243396078029),\n",
       " ('TroponinI', 0.2618853617171846),\n",
       " ('SaO2', 0.21621031134391283),\n",
       " ('Albumin', 0.1911062176221232)]"
      ]
     },
     "execution_count": 291,
     "metadata": {},
     "output_type": "execute_result"
    }
   ],
   "source": [
    "diff_gpvae_age_subgroup = toolkits.diff_mae_top_5(testing_mae_gpvae_variables_standard, 4, 5, variables)\n",
    "diff_gpvae_age_subgroup"
   ]
  },
  {
   "cell_type": "markdown",
   "metadata": {},
   "source": [
    "#### Difference between ICUType group"
   ]
  },
  {
   "cell_type": "code",
   "execution_count": 292,
   "metadata": {},
   "outputs": [],
   "source": [
    "diff_gpvae_ICUType_1_2 = toolkits.diff_mae_top_5(testing_mae_gpvae_variables_standard, 6, 7, variables)\n",
    "diff_gpvae_ICUType_1_3 = toolkits.diff_mae_top_5(testing_mae_gpvae_variables_standard, 6, 8, variables)\n",
    "diff_gpvae_ICUType_1_4 = toolkits.diff_mae_top_5(testing_mae_gpvae_variables_standard, 6, 9, variables)\n",
    "diff_gpvae_ICUType_2_3 = toolkits.diff_mae_top_5(testing_mae_gpvae_variables_standard, 7, 8, variables)\n",
    "diff_gpvae_ICUType_2_4 = toolkits.diff_mae_top_5(testing_mae_gpvae_variables_standard, 7, 9, variables)\n",
    "diff_gpvae_ICUType_3_4 = toolkits.diff_mae_top_5(testing_mae_gpvae_variables_standard, 8, 9, variables)"
   ]
  },
  {
   "cell_type": "code",
   "execution_count": 293,
   "metadata": {},
   "outputs": [
    {
     "name": "stdout",
     "output_type": "stream",
     "text": [
      "Diferença(MAE) ICUType 1 e 2\n",
      "----------------------------\n",
      "[('Cholesterol', 0.950238764897089), ('TroponinI', 0.8918129993253048), ('TroponinT', 0.31149184067106683), ('HCO3', 0.23628764938024638), ('SaO2', 0.23145876351413197)]\n",
      "----------------------------\n",
      "Diferença(MAE) ICUType 1 e 3\n",
      "----------------------------\n",
      "[('SaO2', 0.9937365425854698), ('ALP', 0.8302466803907333), ('TroponinI', 0.7412846032389209), ('Cholesterol', 0.40665526960681586), ('TroponinT', 0.37480989564613776)]\n",
      "----------------------------\n",
      "Diferença(MAE) ICUType 1 e 4\n",
      "----------------------------\n",
      "[('TroponinT', 0.43471785879530445), ('TroponinI', 0.43173406997364017), ('Cholesterol', 0.31119054427499326), ('ALP', 0.24020579848907225), ('Bilirubin', 0.22277039350931876)]\n",
      "----------------------------\n",
      "Diferença(MAE) ICUType 2 e 3\n",
      "[('SaO2', 1.225195306099602), ('ALP', 0.7677479140911398), ('Cholesterol', 0.5435834952902732), ('PaCO2', 0.4072917838789667), ('HCO3', 0.3961429003610216)]\n",
      "----------------------------\n",
      "Diferença(MAE) ICUType 2 e 4\n",
      "----------------------------\n",
      "[('Cholesterol', 0.6390482206220958), ('TroponinI', 0.46007892935166467), ('GCS', 0.2509377101776496), ('ALT', 0.20917440859153008), ('ALP', 0.17770703218947886)]\n",
      "----------------------------\n",
      "Diferença(MAE) ICUType 3 e 4\n",
      "----------------------------\n",
      "[('SaO2', 1.10233646841087), ('ALP', 0.590040881901661), ('PaCO2', 0.3610499448312554), ('TroponinI', 0.3095505332652807), ('Creatinine', 0.29616861451704446)]\n",
      "----------------------------\n"
     ]
    }
   ],
   "source": [
    "print(\"Diferença(MAE) ICUType 1 e 2\")\n",
    "print(\"----------------------------\")\n",
    "print(diff_gpvae_ICUType_1_2)\n",
    "print(\"----------------------------\")\n",
    "print(\"Diferença(MAE) ICUType 1 e 3\")\n",
    "print(\"----------------------------\")\n",
    "print(diff_gpvae_ICUType_1_3)\n",
    "print(\"----------------------------\")\n",
    "print(\"Diferença(MAE) ICUType 1 e 4\")\n",
    "print(\"----------------------------\")\n",
    "print(diff_gpvae_ICUType_1_4)\n",
    "print(\"----------------------------\")\n",
    "print(\"Diferença(MAE) ICUType 2 e 3\")\n",
    "print(diff_gpvae_ICUType_2_3)\n",
    "print(\"----------------------------\")\n",
    "print(\"Diferença(MAE) ICUType 2 e 4\")\n",
    "print(\"----------------------------\")\n",
    "print(diff_gpvae_ICUType_2_4)\n",
    "print(\"----------------------------\")\n",
    "print(\"Diferença(MAE) ICUType 3 e 4\")\n",
    "print(\"----------------------------\")\n",
    "print(diff_gpvae_ICUType_3_4)\n",
    "print(\"----------------------------\")"
   ]
  },
  {
   "cell_type": "code",
   "execution_count": 294,
   "metadata": {},
   "outputs": [
    {
     "name": "stdout",
     "output_type": "stream",
     "text": [
      "Top 5 variáveis ICUType\n",
      "-----------------------\n",
      "SaO2\n",
      "TroponinI\n",
      "ALP\n",
      "Cholesterol\n",
      "TroponinT\n"
     ]
    }
   ],
   "source": [
    "print(\"Top 5 variáveis ICUType\")\n",
    "print(\"-----------------------\")\n",
    "print(variables[28])\n",
    "print(variables[31])\n",
    "print(variables[0])\n",
    "print(variables[6])\n",
    "print(variables[32])"
   ]
  },
  {
   "cell_type": "markdown",
   "metadata": {},
   "source": [
    "#### Difference between BMI group"
   ]
  },
  {
   "cell_type": "code",
   "execution_count": 295,
   "metadata": {},
   "outputs": [],
   "source": [
    "diff_gpvae_classification_undefined_low = toolkits.diff_mae_top_5(testing_mae_gpvae_variables_standard, 10, 11, variables)\n",
    "diff_gpvae_classification_undefined_normal = toolkits.diff_mae_top_5(testing_mae_gpvae_variables_standard, 10, 12, variables)\n",
    "diff_gpvae_classification_undefined_over = toolkits.diff_mae_top_5(testing_mae_gpvae_variables_standard, 10, 13, variables)\n",
    "diff_gpvae_classification_undefined_obs1 = toolkits.diff_mae_top_5(testing_mae_gpvae_variables_standard, 10, 14, variables)\n",
    "diff_gpvae_classification_undefined_obs2 = toolkits.diff_mae_top_5(testing_mae_gpvae_variables_standard, 10, 15, variables)\n",
    "diff_gpvae_classification_undefined_obs3 = toolkits.diff_mae_top_5(testing_mae_gpvae_variables_standard, 10, 16, variables)\n",
    "\n",
    "diff_gpvae_classification_low_normal = toolkits.diff_mae_top_5(testing_mae_gpvae_variables_standard, 11, 12, variables)\n",
    "diff_gpvae_classification_low_over = toolkits.diff_mae_top_5(testing_mae_gpvae_variables_standard, 11, 13, variables)\n",
    "diff_gpvae_classification_low_obs1 = toolkits.diff_mae_top_5(testing_mae_gpvae_variables_standard, 11, 14, variables)\n",
    "diff_gpvae_classification_low_obs2 = toolkits.diff_mae_top_5(testing_mae_gpvae_variables_standard, 11, 15, variables)\n",
    "diff_gpvae_classification_low_obs3 = toolkits.diff_mae_top_5(testing_mae_gpvae_variables_standard, 11, 16, variables)\n",
    "\n",
    "diff_gpvae_classification_normal_over = toolkits.diff_mae_top_5(testing_mae_gpvae_variables_standard, 12, 13, variables)\n",
    "diff_gpvae_classification_normal_obs1 = toolkits.diff_mae_top_5(testing_mae_gpvae_variables_standard, 12, 14, variables)\n",
    "diff_gpvae_classification_normal_obs2 = toolkits.diff_mae_top_5(testing_mae_gpvae_variables_standard, 12, 15, variables)\n",
    "diff_gpvae_classification_normal_obs3 = toolkits.diff_mae_top_5(testing_mae_gpvae_variables_standard, 12, 16, variables)\n",
    "\n",
    "diff_gpvae_classification_over_obs1 = toolkits.diff_mae_top_5(testing_mae_gpvae_variables_standard, 13, 14, variables)\n",
    "diff_gpvae_classification_over_obs2 = toolkits.diff_mae_top_5(testing_mae_gpvae_variables_standard, 13, 15, variables)\n",
    "diff_gpvae_classification_over_obs3 = toolkits.diff_mae_top_5(testing_mae_gpvae_variables_standard, 13, 16, variables)\n",
    "\n",
    "\n",
    "diff_gpvae_classification_obs1_obs2 = toolkits.diff_mae_top_5(testing_mae_gpvae_variables_standard, 14, 15, variables)\n",
    "diff_gpvae_classification_obs1_obs3 = toolkits.diff_mae_top_5(testing_mae_gpvae_variables_standard, 14, 16, variables)\n",
    "\n",
    "diff_gpvae_classification_obs2_obs3 = toolkits.diff_mae_top_5(testing_mae_gpvae_variables_standard, 15, 16, variables)"
   ]
  },
  {
   "cell_type": "code",
   "execution_count": 296,
   "metadata": {},
   "outputs": [
    {
     "name": "stdout",
     "output_type": "stream",
     "text": [
      "Diferença(MAE) Classification Undefined and low\n",
      "----------------------------\n",
      "[('ALP', 1.4984266717947166), ('Bilirubin', 0.9811022064443601), ('TroponinI', 0.8126945346557858), ('Cholesterol', 0.5201112246042136), ('Lactate', 0.45538779618545666)]\n",
      "----------------------------\n",
      "Diferença(MAE) Classification Undefined and normal\n",
      "----------------------------\n",
      "[('PaCO2', 0.2641364807062686), ('SaO2', 0.2556225387559883), ('ALT', 0.20532115838786913), ('Platelets', 0.17056081465907347), ('HCO3', 0.16334610029552787)]\n",
      "----------------------------\n",
      "Diferença(MAE) Classification Undefined and over\n",
      "----------------------------\n",
      "[('Cholesterol', 0.8097416193905995), ('TroponinI', 0.33051277651707), ('TroponinT', 0.28973030251183335), ('PaCO2', 0.25794224224957285), ('SaO2', 0.24006655113431974)]\n",
      "----------------------------\n",
      "Diferença(MAE) Classification Undefined and obs1\n",
      "[('Ph', 0.8803622264377614), ('SaO2', 0.25914302071928913), ('PaCO2', 0.25683713011890197), ('Cholesterol', 0.23642198619398747), ('HCO3', 0.23044413079179382)]\n",
      "----------------------------\n",
      "Diferença(MAE) Classification Undefined and obs2\n",
      "----------------------------\n",
      "[('TroponinT', 0.9533434772849885), ('TroponinI', 0.8126945346557858), ('ALT', 0.3344951301125576), ('Cholesterol', 0.2753103844504232), ('PaCO2', 0.27364124840169823)]\n",
      "----------------------------\n",
      "Diferença(MAE) ICUType Undefined and obs3\n",
      "----------------------------\n",
      "[('ALT', 1.2303164910820752), ('TroponinT', 0.7436238315321009), ('Cholesterol', 0.5491528937520573), ('TroponinI', 0.5450238323090081), ('Albumin', 0.3366631501237786)]\n",
      "----------------------------\n"
     ]
    }
   ],
   "source": [
    "print(\"Diferença(MAE) Classification Undefined and low\")\n",
    "print(\"----------------------------\")\n",
    "print(diff_gpvae_classification_undefined_low)\n",
    "print(\"----------------------------\")\n",
    "print(\"Diferença(MAE) Classification Undefined and normal\")\n",
    "print(\"----------------------------\")\n",
    "print(diff_gpvae_classification_undefined_normal)\n",
    "print(\"----------------------------\")\n",
    "print(\"Diferença(MAE) Classification Undefined and over\")\n",
    "print(\"----------------------------\")\n",
    "print(diff_gpvae_classification_undefined_over)\n",
    "print(\"----------------------------\")\n",
    "print(\"Diferença(MAE) Classification Undefined and obs1\")\n",
    "print(diff_gpvae_classification_undefined_obs1)\n",
    "print(\"----------------------------\")\n",
    "print(\"Diferença(MAE) Classification Undefined and obs2\")\n",
    "print(\"----------------------------\")\n",
    "print(diff_gpvae_classification_undefined_obs2)\n",
    "print(\"----------------------------\")\n",
    "print(\"Diferença(MAE) ICUType Undefined and obs3\")\n",
    "print(\"----------------------------\")\n",
    "print(diff_gpvae_classification_undefined_obs3)\n",
    "print(\"----------------------------\")"
   ]
  },
  {
   "cell_type": "code",
   "execution_count": 297,
   "metadata": {},
   "outputs": [
    {
     "name": "stdout",
     "output_type": "stream",
     "text": [
      "Diferença(MAE) Classification low and normal\n",
      "----------------------------\n",
      "[('ALP', 1.403020795206654), ('Bilirubin', 0.9461131764204705), ('TroponinI', 0.6834864613719018), ('Cholesterol', 0.5801196462081181), ('HCO3', 0.5142684723885946)]\n",
      "----------------------------\n",
      "Diferença(MAE) Classification low and over\n",
      "----------------------------\n",
      "[('ALP', 1.583589914917147), ('Cholesterol', 1.329852843994813), ('TroponinI', 1.1432073111728558), ('Bilirubin', 1.1287287567764515), ('HCO3', 0.5693485437198301)]\n",
      "----------------------------\n",
      "Diferença(MAE) Classification low and obs1\n",
      "----------------------------\n",
      "[('ALP', 1.627193842369981), ('Bilirubin', 1.085231063664624), ('Ph', 0.8728845981266398), ('TroponinI', 0.5899976625704627), ('HCO3', 0.5813665028848606)]\n",
      "----------------------------\n",
      "Diferença(MAE) Classification low and obs2\n",
      "[('ALP', 1.6404697550932625), ('Bilirubin', 1.0958804314411412), ('TroponinT', 0.7260296004902231), ('HCO3', 0.5949355182340001), ('ALT', 0.49225499419649044)]\n",
      "----------------------------\n",
      "Diferença(MAE) Classification low and obs3\n",
      "----------------------------\n",
      "[('ALP', 1.7294206248826078), ('ALT', 1.388076355166008), ('Bilirubin', 1.0355795328733315), ('TroponinT', 0.5163099547373355), ('PaO2', 0.3598168062543162)]\n",
      "----------------------------\n"
     ]
    }
   ],
   "source": [
    "print(\"Diferença(MAE) Classification low and normal\")\n",
    "print(\"----------------------------\")\n",
    "print(diff_gpvae_classification_low_normal)\n",
    "print(\"----------------------------\")\n",
    "print(\"Diferença(MAE) Classification low and over\")\n",
    "print(\"----------------------------\")\n",
    "print(diff_gpvae_classification_low_over)\n",
    "print(\"----------------------------\")\n",
    "print(\"Diferença(MAE) Classification low and obs1\")\n",
    "print(\"----------------------------\")\n",
    "print(diff_gpvae_classification_low_obs1)\n",
    "print(\"----------------------------\")\n",
    "print(\"Diferença(MAE) Classification low and obs2\")\n",
    "print(diff_gpvae_classification_low_obs2)\n",
    "print(\"----------------------------\")\n",
    "print(\"Diferença(MAE) Classification low and obs3\")\n",
    "print(\"----------------------------\")\n",
    "print(diff_gpvae_classification_low_obs3)\n",
    "print(\"----------------------------\")"
   ]
  },
  {
   "cell_type": "code",
   "execution_count": 298,
   "metadata": {},
   "outputs": [
    {
     "name": "stdout",
     "output_type": "stream",
     "text": [
      "Diferença(MAE) Classification normal and over\n",
      "----------------------------\n",
      "[('Cholesterol', 0.749733197786695), ('TroponinI', 0.45972084980095396), ('TroponinT', 0.3535738832041319), ('ALT', 0.3216961722524321), ('Bilirubin', 0.1826155803559808)]\n",
      "----------------------------\n",
      "Diferença(MAE) Classification normal and obs1\n",
      "----------------------------\n",
      "[('Ph', 0.8880095885483712), ('Cholesterol', 0.296430407797892), ('ALP', 0.22417304716332703), ('Mg', 0.17276665999162977), ('Creatinine', 0.16845675537186644)]\n",
      "----------------------------\n",
      "Diferença(MAE) Classification normal and obs2\n",
      "----------------------------\n",
      "[('TroponinT', 1.017187057977287), ('TroponinI', 0.6834864613719018), ('ALT', 0.5398162885004267), ('Cholesterol', 0.33531880605432773), ('BUN', 0.2971607951252878)]\n",
      "----------------------------\n",
      "Diferença(MAE) Classification normal and obs3\n",
      "[('ALT', 1.4356376494699443), ('TroponinT', 0.8074674122243994), ('Cholesterol', 0.6091613153559619), ('TroponinI', 0.41581575902512413), ('Weight', 0.3688147729675821)]\n",
      "----------------------------\n"
     ]
    }
   ],
   "source": [
    "print(\"Diferença(MAE) Classification normal and over\")\n",
    "print(\"----------------------------\")\n",
    "print(diff_gpvae_classification_normal_over)\n",
    "print(\"----------------------------\")\n",
    "print(\"Diferença(MAE) Classification normal and obs1\")\n",
    "print(\"----------------------------\")\n",
    "print(diff_gpvae_classification_normal_obs1)\n",
    "print(\"----------------------------\")\n",
    "print(\"Diferença(MAE) Classification normal and obs2\")\n",
    "print(\"----------------------------\")\n",
    "print(diff_gpvae_classification_normal_obs2)\n",
    "print(\"----------------------------\")\n",
    "print(\"Diferença(MAE) Classification normal and obs3\")\n",
    "print(diff_gpvae_classification_normal_obs3)\n",
    "print(\"----------------------------\")"
   ]
  },
  {
   "cell_type": "code",
   "execution_count": 299,
   "metadata": {},
   "outputs": [
    {
     "name": "stdout",
     "output_type": "stream",
     "text": [
      "Diferença(MAE) Classification over and obs1\n",
      "----------------------------\n",
      "[('Cholesterol', 1.0461636055845869), ('Ph', 0.8934709277431419), ('TroponinI', 0.5532096486023931), ('TroponinT', 0.3830508683751487), ('ALT', 0.26753240411641177)]\n",
      "----------------------------\n",
      "Diferença(MAE) Classification over and obs2\n",
      "----------------------------\n",
      "[('TroponinI', 1.1432073111728558), ('Cholesterol', 1.0850520038410227), ('TroponinT', 0.6636131747731551), ('BUN', 0.31705896901327235), ('AST', 0.21918738293681142)]\n",
      "----------------------------\n",
      "Diferença(MAE) Classification over and obs3\n",
      "----------------------------\n",
      "[('Cholesterol', 1.3588945131426569), ('ALT', 1.1139414772175122), ('TroponinI', 0.8755366088260781), ('TroponinT', 0.45389352902026747), ('Weight', 0.36850455924257874)]\n",
      "----------------------------\n"
     ]
    }
   ],
   "source": [
    "print(\"Diferença(MAE) Classification over and obs1\")\n",
    "print(\"----------------------------\")\n",
    "print(diff_gpvae_classification_over_obs1)\n",
    "print(\"----------------------------\")\n",
    "print(\"Diferença(MAE) Classification over and obs2\")\n",
    "print(\"----------------------------\")\n",
    "print(diff_gpvae_classification_over_obs2)\n",
    "print(\"----------------------------\")\n",
    "print(\"Diferença(MAE) Classification over and obs3\")\n",
    "print(\"----------------------------\")\n",
    "print(diff_gpvae_classification_over_obs3)\n",
    "print(\"----------------------------\")"
   ]
  },
  {
   "cell_type": "code",
   "execution_count": 300,
   "metadata": {},
   "outputs": [
    {
     "name": "stdout",
     "output_type": "stream",
     "text": [
      "Diferença(MAE) Classification obs1 and obs2 \n",
      "----------------------------\n",
      "[('TroponinT', 1.0466640431483036), ('Ph', 0.8973569851782044), ('TroponinI', 0.5899976625704627), ('ALT', 0.4856525203644064), ('BUN', 0.25574853492131433)]\n",
      "----------------------------\n",
      "Diferença(MAE) Classification obs1 and obs3 \n",
      "----------------------------\n",
      "[('ALT', 1.381473881333924), ('Ph', 0.8941614316903403), ('TroponinT', 0.8369443973954162), ('Glucose', 0.3284075159618258), ('TroponinI', 0.322326960223685)]\n",
      "----------------------------\n"
     ]
    }
   ],
   "source": [
    "print(\"Diferença(MAE) Classification obs1 and obs2 \")\n",
    "print(\"----------------------------\")\n",
    "print(diff_gpvae_classification_obs1_obs2)\n",
    "print(\"----------------------------\")\n",
    "print(\"Diferença(MAE) Classification obs1 and obs3 \")\n",
    "print(\"----------------------------\")\n",
    "print(diff_gpvae_classification_obs1_obs3)\n",
    "print(\"----------------------------\")"
   ]
  },
  {
   "cell_type": "code",
   "execution_count": 301,
   "metadata": {},
   "outputs": [
    {
     "name": "stdout",
     "output_type": "stream",
     "text": [
      "Diferença(MAE) Classification obs2 and obs3 \n",
      "----------------------------\n",
      "[('ALT', 0.8958213609695176), ('HCO3', 0.31834748702089233), ('Cholesterol', 0.2738425093016341), ('TroponinI', 0.2676707023467777), ('Weight', 0.26352289014969055)]\n",
      "----------------------------\n"
     ]
    }
   ],
   "source": [
    "print(\"Diferença(MAE) Classification obs2 and obs3 \")\n",
    "print(\"----------------------------\")\n",
    "print(diff_gpvae_classification_obs2_obs3)\n",
    "print(\"----------------------------\")"
   ]
  },
  {
   "cell_type": "code",
   "execution_count": 302,
   "metadata": {},
   "outputs": [
    {
     "name": "stdout",
     "output_type": "stream",
     "text": [
      "Top 5 variáveis BMI\n",
      "-----------------------\n",
      "ALT\n",
      "TroponinI\n",
      "Cholesterol\n",
      "ALP\n",
      "TroponinT\n"
     ]
    }
   ],
   "source": [
    "print(\"Top 5 variáveis BMI\")\n",
    "print(\"-----------------------\")\n",
    "print(variables[1])\n",
    "print(variables[31])\n",
    "print(variables[6])\n",
    "print(variables[0])\n",
    "print(variables[32])"
   ]
  },
  {
   "cell_type": "markdown",
   "metadata": {},
   "source": [
    "### Confidence Interval (General)(variable)"
   ]
  },
  {
   "cell_type": "markdown",
   "metadata": {},
   "source": [
    "#### Distribution Bootstrap per variable"
   ]
  },
  {
   "cell_type": "code",
   "execution_count": 28,
   "metadata": {},
   "outputs": [],
   "source": [
    "results_bootstrap_gpvae_general = []\n",
    "\n",
    "for i in range(len(variables)):\n",
    "       results_bootstrap_gpvae_general.append(toolkits.bootstrap_v2(testing_ae_gpvae_variables_standard, indicating_mask_variable_standard_norm, 0, i, 9000))"
   ]
  },
  {
   "cell_type": "markdown",
   "metadata": {},
   "source": [
    "#### Calculating lower bound and upper bound"
   ]
  },
  {
   "cell_type": "code",
   "execution_count": 29,
   "metadata": {},
   "outputs": [
    {
     "name": "stdout",
     "output_type": "stream",
     "text": [
      "[np.float64(0.3944211243470703), np.float64(0.28513692965250315), np.float64(0.3077386949598021), np.float64(0.639580742723036), np.float64(0.5294750516526141), np.float64(0.3812194859590158), np.float64(0.6838443274584377), np.float64(0.4469405681641526), np.float64(0.44571205566183697), np.float64(0.6358827904973715), np.float64(0.500273797888857), np.float64(0.5583322192095744), np.float64(0.670881309206223), np.float64(0.7121197788381078), np.float64(0.3510381877473058), np.float64(0.6526223996995617), np.float64(0.4990587521779125), np.float64(0.4059745068304414), np.float64(0.0017638097511847785), np.float64(0.5590069119565632), np.float64(0.4987885593419733), np.float64(0.4366745925492546), np.float64(0.4714718289611185), np.float64(0.6355729971514541), np.float64(0.6555629327986514), np.float64(0.5812078084481357), np.float64(0.6962292637128991), np.float64(0.5614197308225645), np.float64(0.3785402102433225), np.float64(0.4796449587377427), np.float64(0.43888854499401964), np.float64(0.5514288761753485), np.float64(0.3350272355865727), np.float64(0.435282813922045), np.float64(0.11248489127154158), np.float64(0.2568578596020532), np.float64(0.058441866019583795)]\n",
      "[np.float64(0.7276565648535891), np.float64(0.5038719005847995), np.float64(0.6086664247356786), np.float64(0.7952773086458461), np.float64(0.6068440163770138), np.float64(0.5951273529391469), np.float64(1.210140906370383), np.float64(0.5453716591134032), np.float64(0.469375196158304), np.float64(0.6905611931382575), np.float64(0.5304116709514247), np.float64(0.6505232339288831), np.float64(0.7575634272193023), np.float64(0.7829165045470204), np.float64(0.3641647835556508), np.float64(0.7393818965829648), np.float64(0.6028941655698513), np.float64(0.43007630197846164), np.float64(0.0023957206043281384), np.float64(0.6768643714259789), np.float64(0.5244438018662589), np.float64(0.46054710670583276), np.float64(0.4969075299244851), np.float64(0.7188308163216024), np.float64(0.7325162829601393), np.float64(0.6447398316363249), np.float64(0.783616275215641), np.float64(0.5997101744619986), np.float64(0.5069581779432588), np.float64(0.5034232962931509), np.float64(0.47111261780842756), np.float64(0.8954090550534275), np.float64(0.4730153469504115), np.float64(0.4662240283582489), np.float64(0.12899268828165134), np.float64(0.2759533578664886), np.float64(0.244075682404175)]\n"
     ]
    }
   ],
   "source": [
    "lower_bounds_gpvae_general, upper_bounds_gpvae_general = toolkits.calc_lower_and_upper_bound_percentile(results_bootstrap_gpvae_general)\n",
    "\n",
    "print(lower_bounds_gpvae_general)\n",
    "print(upper_bounds_gpvae_general)"
   ]
  },
  {
   "cell_type": "markdown",
   "metadata": {},
   "source": [
    "#### Mean values of lower bound and upper bound\n"
   ]
  },
  {
   "cell_type": "code",
   "execution_count": 30,
   "metadata": {},
   "outputs": [
    {
     "name": "stdout",
     "output_type": "stream",
     "text": [
      "[np.float64(0.5610388446003297), np.float64(0.3945044151186513), np.float64(0.45820255984774033), np.float64(0.7174290256844411), np.float64(0.568159534014814), np.float64(0.4881734194490813), np.float64(0.9469926169144103), np.float64(0.49615611363877793), np.float64(0.4575436259100705), np.float64(0.6632219918178145), np.float64(0.5153427344201409), np.float64(0.6044277265692288), np.float64(0.7142223682127626), np.float64(0.7475181416925641), np.float64(0.3576014856514783), np.float64(0.6960021481412633), np.float64(0.5509764588738819), np.float64(0.4180254044044515), np.float64(0.0020797651777564583), np.float64(0.617935641691271), np.float64(0.5116161806041162), np.float64(0.4486108496275437), np.float64(0.4841896794428018), np.float64(0.6772019067365282), np.float64(0.6940396078793953), np.float64(0.6129738200422303), np.float64(0.73992276946427), np.float64(0.5805649526422816), np.float64(0.44274919409329067), np.float64(0.4915341275154468), np.float64(0.45500058140122357), np.float64(0.723418965614388), np.float64(0.40402129126849207), np.float64(0.45075342114014694), np.float64(0.12073878977659647), np.float64(0.2664056087342709), np.float64(0.1512587742118794)]\n"
     ]
    }
   ],
   "source": [
    "mean_values_ci_gpvae_general = toolkits.calc_mean_values_ci(lower_bounds_gpvae_general, upper_bounds_gpvae_general)\n",
    "\n",
    "print(mean_values_ci_gpvae_general)"
   ]
  },
  {
   "cell_type": "markdown",
   "metadata": {},
   "source": [
    "### Confidence Interval (Female Subgroup)"
   ]
  },
  {
   "cell_type": "markdown",
   "metadata": {},
   "source": [
    "#### Distribution Bootstrap for the Top 5 variables with Largest Differences in MAE (Mean Absolute Error) "
   ]
  },
  {
   "cell_type": "code",
   "execution_count": 303,
   "metadata": {},
   "outputs": [],
   "source": [
    "indices = [6, 31, 28, 16, 33, 2, 7, 15, 5, 2, 35, 24]\n",
    "\n",
    "results_bootstrap_gpvae_female = []\n",
    "\n",
    "for i in indices:\n",
    "       results_bootstrap_gpvae_female.append(toolkits.bootstrap_v2(testing_ae_gpvae_variables_standard, indicating_mask_variable_standard_norm, 1, i, 9000))"
   ]
  },
  {
   "cell_type": "markdown",
   "metadata": {},
   "source": [
    "#### Calculating the mean and standard deviation of the bootstrap distribution"
   ]
  },
  {
   "cell_type": "code",
   "execution_count": 304,
   "metadata": {},
   "outputs": [
    {
     "name": "stdout",
     "output_type": "stream",
     "text": [
      "[np.float64(1.4784296439985511), np.float64(0.6346125578049744), np.float64(0.6658556689268423), np.float64(0.5047877952491602), np.float64(0.4133804338902489), np.float64(0.4778377264565393), np.float64(0.3996265558889345), np.float64(0.715877756049717), np.float64(0.46254590214727825), np.float64(0.4781321012693745), np.float64(0.25177750744440364), np.float64(0.7732471096940656)]\n",
      "[np.float64(0.2727897334731474), np.float64(0.06570850574192079), np.float64(0.12865133750274774), np.float64(0.03933130639515322), np.float64(0.009023099824856844), np.float64(0.09414525152874836), np.float64(0.025991005039167455), np.float64(0.03491525957464862), np.float64(0.06327222055532057), np.float64(0.09414736068511752), np.float64(0.0059375992774970115), np.float64(0.0318658287489584)]\n"
     ]
    }
   ],
   "source": [
    "means_bootstraps_gpvae_female,standards_deviations_gpvae_female = toolkits.calc_mean_and_standard_deviation(results_bootstrap_gpvae_female)\n",
    "\n",
    "print(means_bootstraps_gpvae_female)\n",
    "print(standards_deviations_gpvae_female)\n"
   ]
  },
  {
   "cell_type": "markdown",
   "metadata": {},
   "source": [
    "#### Calculating lower bound and upper bound"
   ]
  },
  {
   "cell_type": "code",
   "execution_count": 305,
   "metadata": {},
   "outputs": [
    {
     "name": "stdout",
     "output_type": "stream",
     "text": [
      "[np.float64(0.9437715910389018), np.float64(0.5058262530728663), np.float64(0.4137036808585496), np.float64(0.42769985124974996), np.float64(0.39569548320461984), np.float64(0.293316424144728), np.float64(0.3486851220901672), np.float64(0.6474451047725385), np.float64(0.33853462863697503), np.float64(0.2936066650870419), np.float64(0.24014002670587845), np.float64(0.7107912330085862)]\n",
      "[np.float64(2.0130876969582006), np.float64(0.7633988625370824), np.float64(0.9180076569951351), np.float64(0.5818757392485704), np.float64(0.431065384575878), np.float64(0.6623590287683506), np.float64(0.45056798968770173), np.float64(0.7843104073268956), np.float64(0.5865571756575815), np.float64(0.6626575374517071), np.float64(0.2634149881829288), np.float64(0.8357029863795451)]\n"
     ]
    }
   ],
   "source": [
    "lower_bounds_gpvae_female, upper_bounds_gpvae_female = toolkits.calc_lower_and_upper_bound(results_bootstrap_gpvae_female, means_bootstraps_gpvae_female,standards_deviations_gpvae_female)\n",
    "\n",
    "print(lower_bounds_gpvae_female)\n",
    "print(upper_bounds_gpvae_female)"
   ]
  },
  {
   "cell_type": "code",
   "execution_count": 306,
   "metadata": {},
   "outputs": [
    {
     "name": "stdout",
     "output_type": "stream",
     "text": [
      "[np.float64(0.9760930036143637), np.float64(0.5108515317146598), np.float64(0.4460011935656741), np.float64(0.4324917449781014), np.float64(0.3957924074058541), np.float64(0.3191506035579622), np.float64(0.351312503696497), np.float64(0.6503337294875813), np.float64(0.35251040989403576), np.float64(0.31822319826434886), np.float64(0.24069919742964116), np.float64(0.7121808780413587)]\n",
      "[np.float64(1.9689622140552305), np.float64(0.7704282439596006), np.float64(0.9501696090406971), np.float64(0.5844560030948954), np.float64(0.4308725273776041), np.float64(0.6827334450717364), np.float64(0.4543315081661061), np.float64(0.7874564596970779), np.float64(0.6003170299803641), np.float64(0.6812203116195928), np.float64(0.263735237497243), np.float64(0.8363899964996575)]\n"
     ]
    }
   ],
   "source": [
    "lower_bounds_gpvae_female, upper_bounds_gpvae_female = toolkits.calc_lower_and_upper_bound_percentile(results_bootstrap_gpvae_female)\n",
    "\n",
    "print(lower_bounds_gpvae_female)\n",
    "print(upper_bounds_gpvae_female)"
   ]
  },
  {
   "cell_type": "markdown",
   "metadata": {},
   "source": [
    "#### Mean values of lower bound and upper bound\n"
   ]
  },
  {
   "cell_type": "code",
   "execution_count": 307,
   "metadata": {},
   "outputs": [
    {
     "name": "stdout",
     "output_type": "stream",
     "text": [
      "[np.float64(1.4725276088347972), np.float64(0.6406398878371302), np.float64(0.6980854013031856), np.float64(0.5084738740364985), np.float64(0.41333246739172913), np.float64(0.5009420243148492), np.float64(0.4028220059313016), np.float64(0.7188950945923296), np.float64(0.47641371993719994), np.float64(0.49972175494197085), np.float64(0.25221721746344206), np.float64(0.7742854372705081)]\n"
     ]
    }
   ],
   "source": [
    "mean_values_ci_gpvae_female = toolkits.calc_mean_values_ci(lower_bounds_gpvae_female, upper_bounds_gpvae_female)\n",
    "\n",
    "print(mean_values_ci_gpvae_female)"
   ]
  },
  {
   "cell_type": "markdown",
   "metadata": {},
   "source": [
    "### Confidence Interval (Male Subgroup)"
   ]
  },
  {
   "cell_type": "markdown",
   "metadata": {},
   "source": [
    "#### Distribution Bootstrap for the Top 5 variables with Largest Differences in MAE (Mean Absolute Error) "
   ]
  },
  {
   "cell_type": "code",
   "execution_count": 308,
   "metadata": {},
   "outputs": [],
   "source": [
    "indices = [6, 31, 28, 16, 33, 2, 7, 15, 5, 2, 35, 24]\n",
    "\n",
    "results_bootstrap_gpvae_male = []\n",
    "\n",
    "for i in indices:\n",
    "       results_bootstrap_gpvae_male.append(toolkits.bootstrap_v2(testing_ae_gpvae_variables_standard, indicating_mask_variable_standard_norm, 2, i, 9000))"
   ]
  },
  {
   "cell_type": "markdown",
   "metadata": {},
   "source": [
    "#### Calculating the mean and standard deviation of the bootstrap distribution"
   ]
  },
  {
   "cell_type": "code",
   "execution_count": 309,
   "metadata": {},
   "outputs": [
    {
     "name": "stdout",
     "output_type": "stream",
     "text": [
      "[np.float64(0.7751840061116742), np.float64(0.6395490783745216), np.float64(0.45733233919311594), np.float64(0.6046584351301509), np.float64(0.47105975206943085), np.float64(0.275574120223454), np.float64(0.5442633655358873), np.float64(0.6558303347768325), np.float64(0.39920741379159624), np.float64(0.27605558014098464), np.float64(0.2712060974722121), np.float64(0.6857898077841537)]\n",
      "[np.float64(0.18336483117397556), np.float64(0.07735515366153932), np.float64(0.032013021422004205), np.float64(0.038185066708398045), np.float64(0.011218992426769617), np.float64(0.030209078163002407), np.float64(0.039467792524263245), np.float64(0.027166568314603113), np.float64(0.0403589140361658), np.float64(0.030687420902005387), np.float64(0.005534394380315114), np.float64(0.02526005700029636)]\n"
     ]
    }
   ],
   "source": [
    "means_bootstraps_gpvae_male,standards_deviations_gpvae_male = toolkits.calc_mean_and_standard_deviation(results_bootstrap_gpvae_male)\n",
    "\n",
    "print(means_bootstraps_gpvae_male)\n",
    "print(standards_deviations_gpvae_male)\n"
   ]
  },
  {
   "cell_type": "markdown",
   "metadata": {},
   "source": [
    "#### Calculating lower bound and upper bound"
   ]
  },
  {
   "cell_type": "code",
   "execution_count": 310,
   "metadata": {},
   "outputs": [
    {
     "name": "stdout",
     "output_type": "stream",
     "text": [
      "[np.float64(0.4157955409794147), np.float64(0.48793576317934284), np.float64(0.3945879701696785), np.float64(0.5298170796344314), np.float64(0.4490709309701348), np.float64(0.21636541501781387), np.float64(0.4669079136390321), np.float64(0.6025848392966634), np.float64(0.3201053958255632), np.float64(0.21590934039463242), np.float64(0.2603588838105536), np.float64(0.6362810058161439)]\n",
      "[np.float64(1.1345724712439336), np.float64(0.7911623935697003), np.float64(0.5200767082165534), np.float64(0.6794997906258705), np.float64(0.4930485731687269), np.float64(0.33478282542909416), np.float64(0.6216188174327424), np.float64(0.7090758302570016), np.float64(0.4783094317576293), np.float64(0.3362018198873369), np.float64(0.28205331113387055), np.float64(0.7352986097521634)]\n"
     ]
    }
   ],
   "source": [
    "lower_bounds_gpvae_male, upper_bounds_gpvae_male = toolkits.calc_lower_and_upper_bound(results_bootstrap_gpvae_male, means_bootstraps_gpvae_male,standards_deviations_gpvae_male)\n",
    "\n",
    "print(lower_bounds_gpvae_male)\n",
    "print(upper_bounds_gpvae_male)"
   ]
  },
  {
   "cell_type": "code",
   "execution_count": 311,
   "metadata": {},
   "outputs": [
    {
     "name": "stdout",
     "output_type": "stream",
     "text": [
      "[np.float64(0.42948209662696085), np.float64(0.4871575172104016), np.float64(0.3996647820671073), np.float64(0.531885147815444), np.float64(0.4498717192917469), np.float64(0.21988363189442964), np.float64(0.46959502417838817), np.float64(0.6038156038041039), np.float64(0.3256889085718612), np.float64(0.2194620478023794), np.float64(0.2606997629201076), np.float64(0.6379165192301737)]\n",
      "[np.float64(1.151746234023552), np.float64(0.7620334359351716), np.float64(0.5250108928514159), np.float64(0.6820707750288179), np.float64(0.4939818295723298), np.float64(0.3376357969068453), np.float64(0.6228840225930147), np.float64(0.7096529362158059), np.float64(0.48418192961770296), np.float64(0.3392690535414582), np.float64(0.2821234816259759), np.float64(0.7369464781107631)]\n"
     ]
    }
   ],
   "source": [
    "lower_bounds_gpvae_male, upper_bounds_gpvae_male = toolkits.calc_lower_and_upper_bound_percentile(results_bootstrap_gpvae_male)\n",
    "\n",
    "print(lower_bounds_gpvae_male)\n",
    "print(upper_bounds_gpvae_male)"
   ]
  },
  {
   "cell_type": "markdown",
   "metadata": {},
   "source": [
    "#### Mean values of lower bound and upper bound\n"
   ]
  },
  {
   "cell_type": "code",
   "execution_count": 312,
   "metadata": {},
   "outputs": [
    {
     "name": "stdout",
     "output_type": "stream",
     "text": [
      "[np.float64(0.7906141653252564), np.float64(0.6245954765727866), np.float64(0.4623378374592616), np.float64(0.6069779614221309), np.float64(0.47192677443203834), np.float64(0.27875971440063746), np.float64(0.5462395233857014), np.float64(0.656734270009955), np.float64(0.4049354190947821), np.float64(0.2793655506719188), np.float64(0.2714116222730417), np.float64(0.6874314986704684)]\n"
     ]
    }
   ],
   "source": [
    "mean_values_ci_gpvae_male = toolkits.calc_mean_values_ci(lower_bounds_gpvae_male, upper_bounds_gpvae_male)\n",
    "\n",
    "print(mean_values_ci_gpvae_male)"
   ]
  },
  {
   "cell_type": "markdown",
   "metadata": {},
   "source": [
    "### Confidence Interval (+65 Subgroup)"
   ]
  },
  {
   "cell_type": "markdown",
   "metadata": {},
   "source": [
    "#### Distribution Bootstrap for the Top 5 variables with Largest Differences in MAE (Mean Absolute Error) "
   ]
  },
  {
   "cell_type": "code",
   "execution_count": 313,
   "metadata": {},
   "outputs": [],
   "source": [
    "indices = [6, 32, 0, 28, 5, 31, 3]\n",
    "\n",
    "results_bootstrap_gpvae_more_than_or_equal_to_65_subgroup = []\n",
    "\n",
    "for i in indices:\n",
    "       results_bootstrap_gpvae_more_than_or_equal_to_65_subgroup.append(toolkits.bootstrap_v2(testing_ae_gpvae_variables_standard, indicating_mask_variable_standard_norm, 4, i, 9000))\n"
   ]
  },
  {
   "cell_type": "markdown",
   "metadata": {},
   "source": [
    "#### Calculating the mean and standard deviation of the bootstrap distribution"
   ]
  },
  {
   "cell_type": "code",
   "execution_count": 314,
   "metadata": {},
   "outputs": [
    {
     "name": "stdout",
     "output_type": "stream",
     "text": [
      "[np.float64(0.6075113310318807), np.float64(0.40169414017253074), np.float64(0.6985872412988392), np.float64(0.46720971449613724), np.float64(0.4200324600474383), np.float64(1.0273728784797138), np.float64(0.5625953730311186)]\n",
      "[np.float64(0.11222612921081021), np.float64(0.05470352009831539), np.float64(0.13622945539185924), np.float64(0.034312916864910226), np.float64(0.03068957161523071), np.float64(0.28363850500375226), np.float64(0.06246180573421691)]\n"
     ]
    }
   ],
   "source": [
    "means_bootstraps_gpvae_more_than_or_equal_to_65_subgroup,standards_deviations_gpvae_more_than_or_equal_to_65_subgroup = toolkits.calc_mean_and_standard_deviation(results_bootstrap_gpvae_more_than_or_equal_to_65_subgroup)\n",
    "\n",
    "print(means_bootstraps_gpvae_more_than_or_equal_to_65_subgroup)\n",
    "print(standards_deviations_gpvae_more_than_or_equal_to_65_subgroup)"
   ]
  },
  {
   "cell_type": "markdown",
   "metadata": {},
   "source": [
    "#### Calculating lower bound and upper bound\n"
   ]
  },
  {
   "cell_type": "code",
   "execution_count": 315,
   "metadata": {},
   "outputs": [
    {
     "name": "stdout",
     "output_type": "stream",
     "text": [
      "[np.float64(0.3875521596543542), np.float64(0.2944772109522696), np.float64(0.43158241509728923), np.float64(0.39995763323639616), np.float64(0.3598820049806234), np.float64(0.47145162404357543), np.float64(0.44017248338271603)]\n",
      "[np.float64(0.8274705024094072), np.float64(0.5089110693927918), np.float64(0.9655920675003892), np.float64(0.5344617957558783), np.float64(0.48018291511425326), np.float64(1.583294132915852), np.float64(0.6850182626795212)]\n"
     ]
    }
   ],
   "source": [
    "lower_bounds_gpvae_more_than_or_equal_to_65_subgroup, upper_bounds_gpvae_more_than_or_equal_to_65_subgroup = toolkits.calc_lower_and_upper_bound(results_bootstrap_gpvae_more_than_or_equal_to_65_subgroup, means_bootstraps_gpvae_more_than_or_equal_to_65_subgroup,standards_deviations_gpvae_more_than_or_equal_to_65_subgroup)\n",
    "\n",
    "print(lower_bounds_gpvae_more_than_or_equal_to_65_subgroup)\n",
    "print(upper_bounds_gpvae_more_than_or_equal_to_65_subgroup)\n"
   ]
  },
  {
   "cell_type": "code",
   "execution_count": 316,
   "metadata": {},
   "outputs": [
    {
     "name": "stdout",
     "output_type": "stream",
     "text": [
      "[np.float64(0.38894509892644263), np.float64(0.31053431019230265), np.float64(0.4629076592460675), np.float64(0.4050747961430211), np.float64(0.3613554346857964), np.float64(0.54902428917022), np.float64(0.4444792499861261)]\n",
      "[np.float64(0.8292015462164367), np.float64(0.5219112132116659), np.float64(0.9938426646299805), np.float64(0.5372630027277865), np.float64(0.4828468428868046), np.float64(1.6425898139157131), np.float64(0.6892401677071763)]\n"
     ]
    }
   ],
   "source": [
    "lower_bounds_gpvae_more_than_or_equal_to_65_subgroup, upper_bounds_gpvae_more_than_or_equal_to_65_subgroup = toolkits.calc_lower_and_upper_bound_percentile(results_bootstrap_gpvae_more_than_or_equal_to_65_subgroup)\n",
    "\n",
    "print(lower_bounds_gpvae_more_than_or_equal_to_65_subgroup)\n",
    "print(upper_bounds_gpvae_more_than_or_equal_to_65_subgroup)"
   ]
  },
  {
   "cell_type": "markdown",
   "metadata": {},
   "source": [
    "#### Mean values of lower bound and upper bound"
   ]
  },
  {
   "cell_type": "code",
   "execution_count": 317,
   "metadata": {},
   "outputs": [
    {
     "name": "stdout",
     "output_type": "stream",
     "text": [
      "[np.float64(0.6090733225714396), np.float64(0.41622276170198425), np.float64(0.728375161938024), np.float64(0.4711688994354038), np.float64(0.4221011387863005), np.float64(1.0958070515429665), np.float64(0.5668597088466512)]\n"
     ]
    }
   ],
   "source": [
    "mean_values_ci_gpvae_more_than_or_equal_to_65_subgroup  = toolkits.calc_mean_values_ci(lower_bounds_gpvae_more_than_or_equal_to_65_subgroup , upper_bounds_gpvae_more_than_or_equal_to_65_subgroup)\n",
    "\n",
    "print(mean_values_ci_gpvae_more_than_or_equal_to_65_subgroup)"
   ]
  },
  {
   "cell_type": "markdown",
   "metadata": {},
   "source": [
    "### Confidence Interval (-65 subgroup)"
   ]
  },
  {
   "cell_type": "markdown",
   "metadata": {},
   "source": [
    "#### Distribution Bootstrap for the Top 5 variables with Largest Differences in MAE (Mean Absolute Error) "
   ]
  },
  {
   "cell_type": "code",
   "execution_count": 318,
   "metadata": {},
   "outputs": [],
   "source": [
    "indices = [6, 32, 0, 28, 5, 31, 3]\n",
    "\n",
    "results_bootstrap_gpvae_less_than_65_subgroup = []\n",
    "\n",
    "for i in indices:\n",
    "       results_bootstrap_gpvae_less_than_65_subgroup.append(toolkits.bootstrap_v2(testing_ae_gpvae_variables_standard, indicating_mask_variable_standard_norm, 5, i, 9000))\n",
    "\n"
   ]
  },
  {
   "cell_type": "markdown",
   "metadata": {},
   "source": [
    "#### Calculating the mean and standard deviation of the bootstrap distribution"
   ]
  },
  {
   "cell_type": "code",
   "execution_count": 319,
   "metadata": {},
   "outputs": [
    {
     "name": "stdout",
     "output_type": "stream",
     "text": [
      "[np.float64(0.9541384760280642), np.float64(0.48995002310963737), np.float64(1.1451659474922375), np.float64(0.6842474033224641), np.float64(0.507576509610734), np.float64(0.7655724617993821), np.float64(0.7533088284239882)]\n",
      "[np.float64(0.733037922899086), np.float64(0.14822261346792814), np.float64(0.43319085335782037), np.float64(0.12753912340576318), np.float64(0.0782598314306134), np.float64(0.08024832734321716), np.float64(0.06045738323134545)]\n"
     ]
    }
   ],
   "source": [
    "means_bootstraps_gpvae_less_than_65_subgroup,standards_deviations_gpvae_less_than_65_subgroup = toolkits.calc_mean_and_standard_deviation(results_bootstrap_gpvae_less_than_65_subgroup)\n",
    "\n",
    "print(means_bootstraps_gpvae_less_than_65_subgroup)\n",
    "print(standards_deviations_gpvae_less_than_65_subgroup)\n"
   ]
  },
  {
   "cell_type": "markdown",
   "metadata": {},
   "source": [
    "#### Calculating lower bound and upper bound"
   ]
  },
  {
   "cell_type": "code",
   "execution_count": 320,
   "metadata": {},
   "outputs": [
    {
     "name": "stdout",
     "output_type": "stream",
     "text": [
      "[np.float64(-0.4825894521561933), np.float64(0.19943903901809662), np.float64(0.2961274764787377), np.float64(0.43427531482735887), np.float64(0.35419005857055597), np.float64(0.6082886303870956), np.float64(0.6348145346910152)]\n",
      "[np.float64(2.3908664042123218), np.float64(0.7804610072011782), np.float64(1.9942044185057375), np.float64(0.9342194918175695), np.float64(0.660962960650912), np.float64(0.9228562932116686), np.float64(0.8718031221569611)]\n"
     ]
    }
   ],
   "source": [
    "lower_bounds_gpvae_less_than_65_subgroup, upper_bounds_gpvae_less_than_65_subgroup = toolkits.calc_lower_and_upper_bound(results_bootstrap_gpvae_less_than_65_subgroup, means_bootstraps_gpvae_less_than_65_subgroup, standards_deviations_gpvae_less_than_65_subgroup)\n",
    "\n",
    "print(lower_bounds_gpvae_less_than_65_subgroup)\n",
    "print(upper_bounds_gpvae_less_than_65_subgroup)"
   ]
  },
  {
   "cell_type": "code",
   "execution_count": 321,
   "metadata": {},
   "outputs": [
    {
     "name": "stdout",
     "output_type": "stream",
     "text": [
      "[np.float64(0.0), np.float64(0.266152856269189), np.float64(0.477576491044506), np.float64(0.4698534566457397), np.float64(0.3680750691994851), np.float64(0.6167867437340325), np.float64(0.6377937196504697)]\n",
      "[np.float64(1.996025239859798), np.float64(0.8296131129143057), np.float64(2.1095147411028314), np.float64(0.966332623569135), np.float64(0.6749266871038238), np.float64(0.9265717834857955), np.float64(0.8760262032992041)]\n"
     ]
    }
   ],
   "source": [
    "lower_bounds_gpvae_less_than_65_subgroup, upper_bounds_gpvae_less_than_65_subgroup = toolkits.calc_lower_and_upper_bound_percentile(results_bootstrap_gpvae_less_than_65_subgroup)\n",
    "\n",
    "print(lower_bounds_gpvae_less_than_65_subgroup)\n",
    "print(upper_bounds_gpvae_less_than_65_subgroup)"
   ]
  },
  {
   "cell_type": "markdown",
   "metadata": {},
   "source": [
    "#### Mean values of lower bound and upper bound"
   ]
  },
  {
   "cell_type": "code",
   "execution_count": 322,
   "metadata": {},
   "outputs": [
    {
     "name": "stdout",
     "output_type": "stream",
     "text": [
      "[np.float64(0.998012619929899), np.float64(0.5478829845917473), np.float64(1.2935456160736687), np.float64(0.7180930401074374), np.float64(0.5215008781516545), np.float64(0.771679263609914), np.float64(0.7569099614748369)]\n"
     ]
    }
   ],
   "source": [
    "mean_values_ci_gpvae_less_than_65_subgroup  = toolkits.calc_mean_values_ci(lower_bounds_gpvae_less_than_65_subgroup, upper_bounds_gpvae_less_than_65_subgroup)\n",
    "\n",
    "print(mean_values_ci_gpvae_less_than_65_subgroup)"
   ]
  },
  {
   "cell_type": "markdown",
   "metadata": {},
   "source": [
    "### Confidence Interval (ICUType 1 subgroup)"
   ]
  },
  {
   "cell_type": "markdown",
   "metadata": {},
   "source": [
    "#### Distribution Bootstrap for the Top 5 variables with Largest Differences in MAE (Mean Absolute Error) "
   ]
  },
  {
   "cell_type": "code",
   "execution_count": 323,
   "metadata": {},
   "outputs": [],
   "source": [
    "indices = [28, 31, 6, 0, 32, 24]\n",
    "\n",
    "results_bootstrap_gpvae_ICUType_1_subgroup = []\n",
    "\n",
    "for i in indices:\n",
    "       results_bootstrap_gpvae_ICUType_1_subgroup.append(toolkits.bootstrap_v2(testing_ae_gpvae_variables_standard, indicating_mask_variable_standard_norm, 6, i, 9000))\n",
    "\n"
   ]
  },
  {
   "cell_type": "markdown",
   "metadata": {},
   "source": [
    "#### Calculating the mean and standard deviation of the bootstrap distribution"
   ]
  },
  {
   "cell_type": "code",
   "execution_count": 324,
   "metadata": {},
   "outputs": [
    {
     "name": "stdout",
     "output_type": "stream",
     "text": [
      "[np.float64(0.647971142551637), np.float64(1.3109117702464457), np.float64(0.9527436447101069), np.float64(0.33583584680389234), np.float64(0.6999858024671683), np.float64(0.6618415174643225)]\n",
      "[np.float64(0.17749613484525562), np.float64(0.4047981800926564), np.float64(0.2558986783190476), np.float64(0.03683167713572748), np.float64(0.124535322223324), np.float64(0.05042998064950698)]\n"
     ]
    }
   ],
   "source": [
    "means_bootstraps_gpvae_ICUType_1_subgroup, standards_deviations_gpvae_ICUType_1_subgroup = toolkits.calc_mean_and_standard_deviation(results_bootstrap_gpvae_ICUType_1_subgroup)\n",
    "\n",
    "print(means_bootstraps_gpvae_ICUType_1_subgroup)\n",
    "print(standards_deviations_gpvae_ICUType_1_subgroup)\n"
   ]
  },
  {
   "cell_type": "markdown",
   "metadata": {},
   "source": [
    "#### Calculating lower bound and upper bound"
   ]
  },
  {
   "cell_type": "code",
   "execution_count": 325,
   "metadata": {},
   "outputs": [
    {
     "name": "stdout",
     "output_type": "stream",
     "text": [
      "[np.float64(0.3000851108598711), np.float64(0.5175219162574805), np.float64(0.4511914515133728), np.float64(0.2636470861276591), np.float64(0.45590105610636267), np.float64(0.563000571650237)]\n",
      "[np.float64(0.9958571742434029), np.float64(2.104301624235411), np.float64(1.454295837906841), np.float64(0.4080246074801256), np.float64(0.944070548827974), np.float64(0.760682463278408)]\n"
     ]
    }
   ],
   "source": [
    "lower_bounds_gpvae_ICUType_1_subgroup, upper_bounds_gpvae_ICUType_1_subgroup = toolkits.calc_lower_and_upper_bound(results_bootstrap_gpvae_ICUType_1_subgroup, means_bootstraps_gpvae_ICUType_1_subgroup, standards_deviations_gpvae_ICUType_1_subgroup)\n",
    "\n",
    "print(lower_bounds_gpvae_ICUType_1_subgroup)\n",
    "print(upper_bounds_gpvae_ICUType_1_subgroup)"
   ]
  },
  {
   "cell_type": "code",
   "execution_count": 326,
   "metadata": {},
   "outputs": [
    {
     "name": "stdout",
     "output_type": "stream",
     "text": [
      "[np.float64(0.4006885896415936), np.float64(0.5911777502043112), np.float64(0.510039203885049), np.float64(0.26777400620496317), np.float64(0.4798981431345316), np.float64(0.5660431229104093)]\n",
      "[np.float64(1.066454750840184), np.float64(2.1542929834966387), np.float64(1.5178276787005762), np.float64(0.4099803117166312), np.float64(0.964535164070263), np.float64(0.7652582594963171)]\n"
     ]
    }
   ],
   "source": [
    "lower_bounds_gpvae_ICUType_1_subgroup, upper_bounds_gpvae_ICUType_1_subgroup = toolkits.calc_lower_and_upper_bound_percentile(results_bootstrap_gpvae_ICUType_1_subgroup)\n",
    "\n",
    "print(lower_bounds_gpvae_ICUType_1_subgroup)\n",
    "print(upper_bounds_gpvae_ICUType_1_subgroup)"
   ]
  },
  {
   "cell_type": "markdown",
   "metadata": {},
   "source": [
    "#### Mean values of lower bound and upper bound"
   ]
  },
  {
   "cell_type": "code",
   "execution_count": 327,
   "metadata": {},
   "outputs": [
    {
     "name": "stdout",
     "output_type": "stream",
     "text": [
      "[np.float64(0.7335716702408888), np.float64(1.372735366850475), np.float64(1.0139334412928127), np.float64(0.3388771589607972), np.float64(0.7222166536023973), np.float64(0.6656506912033632)]\n"
     ]
    }
   ],
   "source": [
    "mean_values_ci_gpvae_ICUType_1_subgroup  = toolkits.calc_mean_values_ci(lower_bounds_gpvae_ICUType_1_subgroup, upper_bounds_gpvae_ICUType_1_subgroup)\n",
    "\n",
    "print(mean_values_ci_gpvae_ICUType_1_subgroup)"
   ]
  },
  {
   "cell_type": "markdown",
   "metadata": {},
   "source": [
    "### Confidence Interval (ICUType 2 subgroup)"
   ]
  },
  {
   "cell_type": "markdown",
   "metadata": {},
   "source": [
    "#### Distribution Bootstrap for the Top 5 variables with Largest Differences in MAE (Mean Absolute Error) "
   ]
  },
  {
   "cell_type": "code",
   "execution_count": 328,
   "metadata": {},
   "outputs": [],
   "source": [
    "indices = [28, 31, 6, 0, 32, 24]\n",
    "\n",
    "results_bootstrap_gpvae_ICUType_2_subgroup = []\n",
    "\n",
    "for i in indices:\n",
    "       results_bootstrap_gpvae_ICUType_2_subgroup.append(toolkits.bootstrap_v2(testing_ae_gpvae_variables_standard, indicating_mask_variable_standard_norm, 7, i, 9000))\n",
    "\n"
   ]
  },
  {
   "cell_type": "markdown",
   "metadata": {},
   "source": [
    "#### Calculating the mean and standard deviation of the bootstrap distribution"
   ]
  },
  {
   "cell_type": "code",
   "execution_count": 329,
   "metadata": {},
   "outputs": [
    {
     "name": "stdout",
     "output_type": "stream",
     "text": [
      "[np.float64(0.41794327245447443), np.float64(0.4163908500737795), np.float64(0.0), np.float64(0.39894156742501596), np.float64(0.39022895270301644), np.float64(0.5783926320936834)]\n",
      "[np.float64(0.025688982794294057), np.float64(0.12870736290137288), np.float64(0.0), np.float64(0.03113478789201071), np.float64(0.04955620256549535), np.float64(0.022372866121972573)]\n"
     ]
    }
   ],
   "source": [
    "means_bootstraps_gpvae_ICUType_2_subgroup, standards_deviations_gpvae_ICUType_2_subgroup = toolkits.calc_mean_and_standard_deviation(results_bootstrap_gpvae_ICUType_2_subgroup)\n",
    "\n",
    "print(means_bootstraps_gpvae_ICUType_2_subgroup)\n",
    "print(standards_deviations_gpvae_ICUType_2_subgroup) \n"
   ]
  },
  {
   "cell_type": "markdown",
   "metadata": {},
   "source": [
    "#### Calculating lower bound and upper bound"
   ]
  },
  {
   "cell_type": "code",
   "execution_count": 330,
   "metadata": {},
   "outputs": [
    {
     "name": "stdout",
     "output_type": "stream",
     "text": [
      "[np.float64(0.367593791378189), np.float64(0.164129054241962), np.float64(0.0), np.float64(0.33791850449038124), np.float64(0.2931005804640741), np.float64(0.5345426202636808)]\n",
      "[np.float64(0.4682927535307599), np.float64(0.668652645905597), np.float64(0.0), np.float64(0.4599646303596507), np.float64(0.48735732494195877), np.float64(0.622242643923686)]\n"
     ]
    }
   ],
   "source": [
    "lower_bounds_gpvae_ICUType_2_subgroup, upper_bounds_gpvae_ICUType_2_subgroup = toolkits.calc_lower_and_upper_bound(results_bootstrap_gpvae_ICUType_2_subgroup, means_bootstraps_gpvae_ICUType_2_subgroup, standards_deviations_gpvae_ICUType_2_subgroup)\n",
    "\n",
    "print(lower_bounds_gpvae_ICUType_2_subgroup)\n",
    "print(upper_bounds_gpvae_ICUType_2_subgroup)"
   ]
  },
  {
   "cell_type": "code",
   "execution_count": 331,
   "metadata": {},
   "outputs": [
    {
     "name": "stdout",
     "output_type": "stream",
     "text": [
      "[np.float64(0.37036516607744074), np.float64(0.11452376477641221), np.float64(0.0), np.float64(0.3366056927854989), np.float64(0.297644702669788), np.float64(0.5351831981357089)]\n",
      "[np.float64(0.47124905881187745), np.float64(0.6708236791830013), np.float64(0.0), np.float64(0.46003569195119043), np.float64(0.4910302993504988), np.float64(0.6229423624990045)]\n"
     ]
    }
   ],
   "source": [
    "lower_bounds_gpvae_ICUType_2_subgroup, upper_bounds_gpvae_ICUType_2_subgroup = toolkits.calc_lower_and_upper_bound_percentile(results_bootstrap_gpvae_ICUType_2_subgroup)\n",
    "\n",
    "print(lower_bounds_gpvae_ICUType_2_subgroup)\n",
    "print(upper_bounds_gpvae_ICUType_2_subgroup)"
   ]
  },
  {
   "cell_type": "markdown",
   "metadata": {},
   "source": [
    "#### Mean values of lower bound and upper bound"
   ]
  },
  {
   "cell_type": "code",
   "execution_count": 332,
   "metadata": {},
   "outputs": [
    {
     "name": "stdout",
     "output_type": "stream",
     "text": [
      "[np.float64(0.42080711244465907), np.float64(0.3926737219797068), np.float64(0.0), np.float64(0.39832069236834466), np.float64(0.3943375010101434), np.float64(0.5790627803173567)]\n"
     ]
    }
   ],
   "source": [
    "mean_values_ci_gpvae_ICUType_2_subgroup  = toolkits.calc_mean_values_ci(lower_bounds_gpvae_ICUType_2_subgroup, upper_bounds_gpvae_ICUType_2_subgroup)\n",
    "\n",
    "print(mean_values_ci_gpvae_ICUType_2_subgroup)"
   ]
  },
  {
   "cell_type": "markdown",
   "metadata": {},
   "source": [
    "### Confidence Interval (ICUType 3 subgroup)"
   ]
  },
  {
   "cell_type": "markdown",
   "metadata": {},
   "source": [
    "#### Distribution Bootstrap for the Top 5 variables with Largest Differences in MAE (Mean Absolute Error) "
   ]
  },
  {
   "cell_type": "code",
   "execution_count": 333,
   "metadata": {},
   "outputs": [],
   "source": [
    "indices = [28, 31, 6, 0, 32, 24]\n",
    "\n",
    "results_bootstrap_gpvae_ICUType_3_subgroup = []\n",
    "\n",
    "for i in indices:\n",
    "       results_bootstrap_gpvae_ICUType_3_subgroup.append(toolkits.bootstrap_v2(testing_ae_gpvae_variables_standard, indicating_mask_variable_standard_norm, 8, i, 9000))\n",
    "\n"
   ]
  },
  {
   "cell_type": "markdown",
   "metadata": {},
   "source": [
    "#### Calculating the mean and standard deviation of the bootstrap distribution"
   ]
  },
  {
   "cell_type": "code",
   "execution_count": 334,
   "metadata": {},
   "outputs": [
    {
     "name": "stdout",
     "output_type": "stream",
     "text": [
      "[np.float64(1.6444095749645153), np.float64(0.569178875511922), np.float64(0.5323719619215365), np.float64(1.1678205368293866), np.float64(0.32657869079095414), np.float64(0.9848962832214279)]\n",
      "[np.float64(0.4398985064040355), np.float64(0.08652371625649781), np.float64(0.09231597832603668), np.float64(0.44711943716105695), np.float64(0.0314501995697657), np.float64(0.05245346162450552)]\n"
     ]
    }
   ],
   "source": [
    "means_bootstraps_gpvae_ICUType_3_subgroup, standards_deviations_gpvae_ICUType_3_subgroup = toolkits.calc_mean_and_standard_deviation(results_bootstrap_gpvae_ICUType_3_subgroup)\n",
    "\n",
    "print(means_bootstraps_gpvae_ICUType_3_subgroup)\n",
    "print(standards_deviations_gpvae_ICUType_3_subgroup)\n"
   ]
  },
  {
   "cell_type": "markdown",
   "metadata": {},
   "source": [
    "#### Calculating lower bound and upper bound"
   ]
  },
  {
   "cell_type": "code",
   "execution_count": 335,
   "metadata": {},
   "outputs": [
    {
     "name": "stdout",
     "output_type": "stream",
     "text": [
      "[np.float64(0.7822243455596435), np.float64(0.39959550784062353), np.float64(0.35143596920492437), np.float64(0.29148254320589506), np.float64(0.26493743232761624), np.float64(0.8820893875729432)]\n",
      "[np.float64(2.5065948043693873), np.float64(0.7387622431832206), np.float64(0.7133079546381486), np.float64(2.044158530452878), np.float64(0.38821994925429204), np.float64(1.0877031788699125)]\n"
     ]
    }
   ],
   "source": [
    "lower_bounds_gpvae_ICUType_3_subgroup, upper_bounds_gpvae_ICUType_3_subgroup = toolkits.calc_lower_and_upper_bound(results_bootstrap_gpvae_ICUType_3_subgroup, means_bootstraps_gpvae_ICUType_3_subgroup, standards_deviations_gpvae_ICUType_3_subgroup)\n",
    "\n",
    "print(lower_bounds_gpvae_ICUType_3_subgroup)\n",
    "print(upper_bounds_gpvae_ICUType_3_subgroup)"
   ]
  },
  {
   "cell_type": "code",
   "execution_count": 336,
   "metadata": {},
   "outputs": [
    {
     "name": "stdout",
     "output_type": "stream",
     "text": [
      "[np.float64(0.8767888331778235), np.float64(0.3889976331197694), np.float64(0.4163152626267494), np.float64(0.4674803901010822), np.float64(0.27036091782794824), np.float64(0.8850003009773723)]\n",
      "[np.float64(2.5919640240518427), np.float64(0.7273941789855666), np.float64(0.669703451290682), np.float64(2.150768078242269), np.float64(0.3938733553212669), np.float64(1.089515985978853)]\n"
     ]
    }
   ],
   "source": [
    "lower_bounds_gpvae_ICUType_3_subgroup, upper_bounds_gpvae_ICUType_3_subgroup = toolkits.calc_lower_and_upper_bound_percentile(results_bootstrap_gpvae_ICUType_3_subgroup)\n",
    "\n",
    "print(lower_bounds_gpvae_ICUType_3_subgroup)\n",
    "print(upper_bounds_gpvae_ICUType_3_subgroup)"
   ]
  },
  {
   "cell_type": "markdown",
   "metadata": {},
   "source": [
    "#### Mean values of lower bound and upper bound"
   ]
  },
  {
   "cell_type": "code",
   "execution_count": 337,
   "metadata": {},
   "outputs": [
    {
     "name": "stdout",
     "output_type": "stream",
     "text": [
      "[np.float64(1.734376428614833), np.float64(0.558195906052668), np.float64(0.5430093569587157), np.float64(1.3091242341716756), np.float64(0.33211713657460756), np.float64(0.9872581434781127)]\n"
     ]
    }
   ],
   "source": [
    "mean_values_ci_gpvae_ICUType_3_subgroup  = toolkits.calc_mean_values_ci(lower_bounds_gpvae_ICUType_3_subgroup, upper_bounds_gpvae_ICUType_3_subgroup)\n",
    "\n",
    "print(mean_values_ci_gpvae_ICUType_3_subgroup)"
   ]
  },
  {
   "cell_type": "markdown",
   "metadata": {},
   "source": [
    "### Confidence Interval (ICUType 4 subgroup)"
   ]
  },
  {
   "cell_type": "markdown",
   "metadata": {},
   "source": [
    "#### Distribution Bootstrap for the Top 5 variables with Largest Differences in MAE (Mean Absolute Error) "
   ]
  },
  {
   "cell_type": "code",
   "execution_count": 338,
   "metadata": {},
   "outputs": [],
   "source": [
    "indices = [28, 31, 6, 0, 32, 24]\n",
    "\n",
    "results_bootstrap_gpvae_ICUType_4_subgroup = []\n",
    "\n",
    "for i in indices:\n",
    "       results_bootstrap_gpvae_ICUType_4_subgroup.append(toolkits.bootstrap_v2(testing_ae_gpvae_variables_standard, indicating_mask_variable_standard_norm, 9, i, 9000))\n",
    "\n"
   ]
  },
  {
   "cell_type": "markdown",
   "metadata": {},
   "source": [
    "#### Calculating the mean and standard deviation of the bootstrap distribution"
   ]
  },
  {
   "cell_type": "code",
   "execution_count": 339,
   "metadata": {},
   "outputs": [
    {
     "name": "stdout",
     "output_type": "stream",
     "text": [
      "[np.float64(0.5415343845159007), np.float64(0.8620458759028283), np.float64(0.6371226508249529), np.float64(0.5771331665541501), np.float64(0.2669926468191781), np.float64(0.6247327563100636)]\n",
      "[np.float64(0.08291296001571026), np.float64(0.20972708915034832), np.float64(0.2256268458269695), np.float64(0.07279584090282266), np.float64(0.046257430060419644), np.float64(0.026927824028438845)]\n"
     ]
    }
   ],
   "source": [
    "means_bootstraps_gpvae_ICUType_4_subgroup, standards_deviations_gpvae_ICUType_4_subgroup = toolkits.calc_mean_and_standard_deviation(results_bootstrap_gpvae_ICUType_4_subgroup)\n",
    "\n",
    "print(means_bootstraps_gpvae_ICUType_4_subgroup)\n",
    "print(standards_deviations_gpvae_ICUType_4_subgroup)\n"
   ]
  },
  {
   "cell_type": "markdown",
   "metadata": {},
   "source": [
    "#### Calculating lower bound and upper bound"
   ]
  },
  {
   "cell_type": "code",
   "execution_count": 340,
   "metadata": {},
   "outputs": [
    {
     "name": "stdout",
     "output_type": "stream",
     "text": [
      "[np.float64(0.3790279690334991), np.float64(0.4509883345857245), np.float64(0.19490215905872127), np.float64(0.43445594016031), np.float64(0.17632974988337516), np.float64(0.5719551910322912)]\n",
      "[np.float64(0.7040407999983024), np.float64(1.2731034172199323), np.float64(1.0793431425911846), np.float64(0.7198103929479903), np.float64(0.3576555437549811), np.float64(0.6775103215878361)]\n"
     ]
    }
   ],
   "source": [
    "lower_bounds_gpvae_ICUType_4_subgroup, upper_bounds_gpvae_ICUType_4_subgroup = toolkits.calc_lower_and_upper_bound(results_bootstrap_gpvae_ICUType_4_subgroup, means_bootstraps_gpvae_ICUType_4_subgroup, standards_deviations_gpvae_ICUType_4_subgroup)\n",
    "\n",
    "print(lower_bounds_gpvae_ICUType_4_subgroup)\n",
    "print(upper_bounds_gpvae_ICUType_4_subgroup)"
   ]
  },
  {
   "cell_type": "code",
   "execution_count": 341,
   "metadata": {},
   "outputs": [
    {
     "name": "stdout",
     "output_type": "stream",
     "text": [
      "[np.float64(0.400746992727356), np.float64(0.610237826920164), np.float64(0.18501116021427075), np.float64(0.44579694164299494), np.float64(0.18685943376080993), np.float64(0.5738565206241549)]\n",
      "[np.float64(0.7193865991945516), np.float64(1.3679670625417122), np.float64(1.1037751466151966), np.float64(0.7299828772538302), np.float64(0.3673500280139027), np.float64(0.679281480020438)]\n"
     ]
    }
   ],
   "source": [
    "lower_bounds_gpvae_ICUType_4_subgroup, upper_bounds_gpvae_ICUType_4_subgroup = toolkits.calc_lower_and_upper_bound_percentile(results_bootstrap_gpvae_ICUType_4_subgroup)\n",
    "\n",
    "print(lower_bounds_gpvae_ICUType_4_subgroup)\n",
    "print(upper_bounds_gpvae_ICUType_4_subgroup)"
   ]
  },
  {
   "cell_type": "markdown",
   "metadata": {},
   "source": [
    "#### Mean values of lower bound and upper bound"
   ]
  },
  {
   "cell_type": "code",
   "execution_count": 342,
   "metadata": {},
   "outputs": [
    {
     "name": "stdout",
     "output_type": "stream",
     "text": [
      "[np.float64(0.5600667959609538), np.float64(0.9891024447309381), np.float64(0.6443931534147337), np.float64(0.5878899094484126), np.float64(0.2771047308873563), np.float64(0.6265690003222965)]\n"
     ]
    }
   ],
   "source": [
    "mean_values_ci_gpvae_ICUType_4_subgroup  = toolkits.calc_mean_values_ci(lower_bounds_gpvae_ICUType_4_subgroup, upper_bounds_gpvae_ICUType_4_subgroup)\n",
    "\n",
    "print(mean_values_ci_gpvae_ICUType_4_subgroup)"
   ]
  },
  {
   "cell_type": "markdown",
   "metadata": {},
   "source": [
    "### Confidence Interval (Undefined classification subgroup)"
   ]
  },
  {
   "cell_type": "markdown",
   "metadata": {},
   "source": [
    "#### Distribution Bootstrap for the Top 5 variables with Largest Differences in MAE (Mean Absolute Error) "
   ]
  },
  {
   "cell_type": "code",
   "execution_count": 343,
   "metadata": {},
   "outputs": [],
   "source": [
    "indices = [32, 0, 6, 31, 5, 1, 35]\n",
    "\n",
    "results_bootstrap_gpvae_undefined_classification_subgroup = []\n",
    "\n",
    "for i in indices:\n",
    "       results_bootstrap_gpvae_undefined_classification_subgroup.append(toolkits.bootstrap_v2(testing_ae_gpvae_variables_standard, indicating_mask_variable_standard_norm, 10, i, 9000))\n",
    "\n"
   ]
  },
  {
   "cell_type": "markdown",
   "metadata": {},
   "source": [
    "#### Calculating the mean and standard deviation of the bootstrap distribution"
   ]
  },
  {
   "cell_type": "code",
   "execution_count": 344,
   "metadata": {},
   "outputs": [
    {
     "name": "stdout",
     "output_type": "stream",
     "text": [
      "[np.float64(0.3420571191823156), np.float64(0.48532012308882905), np.float64(0.5487681594379369), np.float64(0.8104390343707566), np.float64(0.5232206593289169), np.float64(0.4409402183673204), np.float64(0.2696675641743906)]\n",
      "[np.float64(0.04010924423166225), np.float64(0.05048714537781482), np.float64(0.18755234473029045), np.float64(0.12325891228071231), np.float64(0.11706450862927992), np.float64(0.10734583025121357), np.float64(0.006727366405987162)]\n"
     ]
    }
   ],
   "source": [
    "means_bootstraps_gpvae_undefined_classification_subgroup, standards_deviations_gpvae_undefined_classification_subgroup = toolkits.calc_mean_and_standard_deviation(results_bootstrap_gpvae_undefined_classification_subgroup)\n",
    "\n",
    "print(means_bootstraps_gpvae_undefined_classification_subgroup)\n",
    "print(standards_deviations_gpvae_undefined_classification_subgroup)\n"
   ]
  },
  {
   "cell_type": "markdown",
   "metadata": {},
   "source": [
    "#### Calculating lower bound and upper bound"
   ]
  },
  {
   "cell_type": "code",
   "execution_count": 345,
   "metadata": {},
   "outputs": [
    {
     "name": "stdout",
     "output_type": "stream",
     "text": [
      "[np.float64(0.26344444504113673), np.float64(0.3863671364660741), np.float64(0.181172318550527), np.float64(0.5688560055269787), np.float64(0.29377843854764996), np.float64(0.2305462571843916), np.float64(0.2564821683078511)]\n",
      "[np.float64(0.4206697933234945), np.float64(0.584273109711584), np.float64(0.9163640003253468), np.float64(1.0520220632145345), np.float64(0.7526628801101839), np.float64(0.6513341795502492), np.float64(0.2828529600409301)]\n"
     ]
    }
   ],
   "source": [
    "lower_bounds_gpvae_undefined_classification_subgroup, upper_bounds_gpvae_undefined_classification_subgroup = toolkits.calc_lower_and_upper_bound(results_bootstrap_gpvae_undefined_classification_subgroup, means_bootstraps_gpvae_undefined_classification_subgroup, standards_deviations_gpvae_undefined_classification_subgroup)\n",
    "\n",
    "print(lower_bounds_gpvae_undefined_classification_subgroup)\n",
    "print(upper_bounds_gpvae_undefined_classification_subgroup)"
   ]
  },
  {
   "cell_type": "code",
   "execution_count": 346,
   "metadata": {},
   "outputs": [
    {
     "name": "stdout",
     "output_type": "stream",
     "text": [
      "[np.float64(0.27367628052300536), np.float64(0.3945783261378865), np.float64(0.1972114982839213), np.float64(0.5985311497377979), np.float64(0.3403055148567253), np.float64(0.2736756668161414), np.float64(0.2566062047494302)]\n",
      "[np.float64(0.43111222496037194), np.float64(0.5905214511463337), np.float64(0.9411443296678985), np.float64(1.0562454965429924), np.float64(0.7902657294842672), np.float64(0.6851780394476509), np.float64(0.2830929216187784)]\n"
     ]
    }
   ],
   "source": [
    "lower_bounds_gpvae_undefined_classification_subgroup, upper_bounds_gpvae_undefined_classification_subgroup = toolkits.calc_lower_and_upper_bound_percentile(results_bootstrap_gpvae_undefined_classification_subgroup)\n",
    "\n",
    "print(lower_bounds_gpvae_undefined_classification_subgroup)\n",
    "print(upper_bounds_gpvae_undefined_classification_subgroup)"
   ]
  },
  {
   "cell_type": "markdown",
   "metadata": {},
   "source": [
    "#### Mean values of lower bound and upper bound"
   ]
  },
  {
   "cell_type": "code",
   "execution_count": 347,
   "metadata": {},
   "outputs": [
    {
     "name": "stdout",
     "output_type": "stream",
     "text": [
      "[np.float64(0.3523942527416887), np.float64(0.49254988864211013), np.float64(0.5691779139759099), np.float64(0.8273883231403951), np.float64(0.5652856221704963), np.float64(0.47942685313189615), np.float64(0.2698495631841043)]\n"
     ]
    }
   ],
   "source": [
    "mean_values_ci_gpvae_undefined_classification_subgroup  = toolkits.calc_mean_values_ci(lower_bounds_gpvae_undefined_classification_subgroup, upper_bounds_gpvae_undefined_classification_subgroup)\n",
    "\n",
    "print(mean_values_ci_gpvae_undefined_classification_subgroup)"
   ]
  },
  {
   "cell_type": "markdown",
   "metadata": {},
   "source": [
    "### Confidence Interval (Low weight classification subgroup)"
   ]
  },
  {
   "cell_type": "markdown",
   "metadata": {},
   "source": [
    "#### Distribution Bootstrap for the Top 5 variables with Largest Differences in MAE (Mean Absolute Error) "
   ]
  },
  {
   "cell_type": "code",
   "execution_count": 348,
   "metadata": {},
   "outputs": [],
   "source": [
    "indices = [32, 0, 6, 31, 5, 1, 35]\n",
    "\n",
    "results_bootstrap_gpvae_low_weight_classification_subgroup = []\n",
    "\n",
    "for i in indices:\n",
    "       results_bootstrap_gpvae_low_weight_classification_subgroup.append(toolkits.bootstrap_v2(testing_ae_gpvae_variables_standard, indicating_mask_variable_standard_norm, 11, i, 9000))\n",
    "\n"
   ]
  },
  {
   "cell_type": "markdown",
   "metadata": {},
   "source": [
    "#### Calculating the mean and standard deviation of the bootstrap distribution"
   ]
  },
  {
   "cell_type": "code",
   "execution_count": 349,
   "metadata": {},
   "outputs": [
    {
     "name": "stdout",
     "output_type": "stream",
     "text": [
      "[np.float64(0.35982216955075197), np.float64(1.7206863924775067), np.float64(0.01837046916207931), np.float64(0.0), np.float64(1.4938689641091618), np.float64(0.28088768382125884), np.float64(0.31772621317817695)]\n",
      "[np.float64(0.2744389705054808), np.float64(1.3298325812438752), np.float64(0.014001248167966803), np.float64(0.0), np.float64(1.2232153422373948), np.float64(0.13381929684828414), np.float64(0.02109427643120123)]\n"
     ]
    }
   ],
   "source": [
    "means_bootstraps_gpvae_low_weight_classification_subgroup, standards_deviations_gpvae_low_weight_classification_subgroup = toolkits.calc_mean_and_standard_deviation(results_bootstrap_gpvae_low_weight_classification_subgroup)\n",
    "\n",
    "print(means_bootstraps_gpvae_low_weight_classification_subgroup)\n",
    "print(standards_deviations_gpvae_low_weight_classification_subgroup)\n"
   ]
  },
  {
   "cell_type": "markdown",
   "metadata": {},
   "source": [
    "#### Calculating lower bound and upper bound"
   ]
  },
  {
   "cell_type": "code",
   "execution_count": 350,
   "metadata": {},
   "outputs": [
    {
     "name": "stdout",
     "output_type": "stream",
     "text": [
      "[np.float64(-0.1780683285942405), np.float64(-0.885737572228424), np.float64(-0.009071472985743036), np.float64(0.0), np.float64(-0.9035890520129684), np.float64(0.018606681562147565), np.float64(0.2763821910930904)]\n",
      "[np.float64(0.8977126676957444), np.float64(4.327110357183438), np.float64(0.04581241130990166), np.float64(0.0), np.float64(3.891326980231292), np.float64(0.5431686860803702), np.float64(0.3590702352632635)]\n"
     ]
    }
   ],
   "source": [
    "lower_bounds_gpvae_low_weight_classification_subgroup, upper_bounds_gpvae_low_weight_classification_subgroup = toolkits.calc_lower_and_upper_bound(results_bootstrap_gpvae_low_weight_classification_subgroup, means_bootstraps_gpvae_low_weight_classification_subgroup, standards_deviations_gpvae_low_weight_classification_subgroup)\n",
    "\n",
    "print(lower_bounds_gpvae_low_weight_classification_subgroup)\n",
    "print(upper_bounds_gpvae_low_weight_classification_subgroup)"
   ]
  },
  {
   "cell_type": "code",
   "execution_count": 351,
   "metadata": {},
   "outputs": [
    {
     "name": "stdout",
     "output_type": "stream",
     "text": [
      "[np.float64(0.0), np.float64(0.0), np.float64(0.0), np.float64(0.0), np.float64(0.19080774777701526), np.float64(0.11261259211852517), np.float64(0.27656829360804314)]\n",
      "[np.float64(0.569138756758905), np.float64(3.611804946896089), np.float64(0.029041669147863172), np.float64(0.0), np.float64(4.350187207370025), np.float64(0.5764182544284093), np.float64(0.35986233454626027)]\n"
     ]
    }
   ],
   "source": [
    "lower_bounds_gpvae_low_weight_classification_subgroup, upper_bounds_gpvae_low_weight_classification_subgroup = toolkits.calc_lower_and_upper_bound_percentile(results_bootstrap_gpvae_low_weight_classification_subgroup)\n",
    "\n",
    "print(lower_bounds_gpvae_low_weight_classification_subgroup)\n",
    "print(upper_bounds_gpvae_low_weight_classification_subgroup)"
   ]
  },
  {
   "cell_type": "markdown",
   "metadata": {},
   "source": [
    "#### Mean values of lower bound and upper bound"
   ]
  },
  {
   "cell_type": "code",
   "execution_count": 352,
   "metadata": {},
   "outputs": [
    {
     "name": "stdout",
     "output_type": "stream",
     "text": [
      "[np.float64(0.2845693783794525), np.float64(1.8059024734480444), np.float64(0.014520834573931586), np.float64(0.0), np.float64(2.27049747757352), np.float64(0.34451542327346724), np.float64(0.3182153140771517)]\n"
     ]
    }
   ],
   "source": [
    "mean_values_ci_gpvae_low_weight_classification_subgroup  = toolkits.calc_mean_values_ci(lower_bounds_gpvae_low_weight_classification_subgroup, upper_bounds_gpvae_low_weight_classification_subgroup)\n",
    "\n",
    "print(mean_values_ci_gpvae_low_weight_classification_subgroup)"
   ]
  },
  {
   "cell_type": "markdown",
   "metadata": {},
   "source": [
    "### Confidence Interval (Normal weight classification subgroup)"
   ]
  },
  {
   "cell_type": "markdown",
   "metadata": {},
   "source": [
    "#### Distribution Bootstrap for the Top 5 variables with Largest Differences in MAE (Mean Absolute Error) "
   ]
  },
  {
   "cell_type": "code",
   "execution_count": 353,
   "metadata": {},
   "outputs": [],
   "source": [
    "indices = [32, 0, 6, 31, 5, 1, 35]\n",
    "\n",
    "results_bootstrap_gpvae_normal_weight_classification_subgroup = []\n",
    "\n",
    "for i in indices:\n",
    "       results_bootstrap_gpvae_normal_weight_classification_subgroup.append(toolkits.bootstrap_v2(testing_ae_gpvae_variables_standard, indicating_mask_variable_standard_norm, 12, i, 9000))\n",
    "\n"
   ]
  },
  {
   "cell_type": "markdown",
   "metadata": {},
   "source": [
    "#### Calculating the mean and standard deviation of the bootstrap distribution"
   ]
  },
  {
   "cell_type": "code",
   "execution_count": 354,
   "metadata": {},
   "outputs": [
    {
     "name": "stdout",
     "output_type": "stream",
     "text": [
      "[np.float64(0.2788390320993726), np.float64(0.5826311789318439), np.float64(0.5306000231089237), np.float64(0.6829394059127972), np.float64(0.5540098952897624), np.float64(0.23577808623873384), np.float64(0.2137000340048897)]\n",
      "[np.float64(0.05601716229377656), np.float64(0.10811645166639203), np.float64(0.2868824930872985), np.float64(0.15451825318983628), np.float64(0.19153066742536184), np.float64(0.051160811187097366), np.float64(0.008383812962452693)]\n"
     ]
    }
   ],
   "source": [
    "means_bootstraps_gpvae_normal_weight_classification_subgroup, standards_deviations_gpvae_normal_weight_classification_subgroup = toolkits.calc_mean_and_standard_deviation(results_bootstrap_gpvae_normal_weight_classification_subgroup)\n",
    "\n",
    "print(means_bootstraps_gpvae_normal_weight_classification_subgroup)\n",
    "print(standards_deviations_gpvae_normal_weight_classification_subgroup)\n"
   ]
  },
  {
   "cell_type": "markdown",
   "metadata": {},
   "source": [
    "#### Calculating lower bound and upper bound"
   ]
  },
  {
   "cell_type": "code",
   "execution_count": 355,
   "metadata": {},
   "outputs": [
    {
     "name": "stdout",
     "output_type": "stream",
     "text": [
      "[np.float64(0.1690474114874354), np.float64(0.37072682752945), np.float64(-0.03167933113724242), np.float64(0.3800891947066768), np.float64(0.17861668520113427), np.float64(0.13550473889216913), np.float64(0.1972680625453624)]\n",
      "[np.float64(0.3886306527113098), np.float64(0.7945355303342378), np.float64(1.0928793773550898), np.float64(0.9857896171189177), np.float64(0.9294031053783905), np.float64(0.33605143358529854), np.float64(0.23013200546441703)]\n"
     ]
    }
   ],
   "source": [
    "lower_bounds_gpvae_normal_weight_classification_subgroup, upper_bounds_gpvae_normal_weight_classification_subgroup = toolkits.calc_lower_and_upper_bound(results_bootstrap_gpvae_normal_weight_classification_subgroup, means_bootstraps_gpvae_normal_weight_classification_subgroup, standards_deviations_gpvae_normal_weight_classification_subgroup)\n",
    "\n",
    "print(lower_bounds_gpvae_normal_weight_classification_subgroup)\n",
    "print(upper_bounds_gpvae_normal_weight_classification_subgroup)"
   ]
  },
  {
   "cell_type": "code",
   "execution_count": 356,
   "metadata": {},
   "outputs": [
    {
     "name": "stdout",
     "output_type": "stream",
     "text": [
      "[np.float64(0.1843113749217874), np.float64(0.4043378112120809), np.float64(0.0), np.float64(0.39738037215446925), np.float64(0.25550646623866735), np.float64(0.14527077333652166), np.float64(0.19843681185086903)]\n",
      "[np.float64(0.4044866753662465), np.float64(0.8197679901326286), np.float64(0.8911109597446285), np.float64(1.0047706208552805), np.float64(0.9858004020784817), np.float64(0.34695030192072507), np.float64(0.2315812691279074)]\n"
     ]
    }
   ],
   "source": [
    "lower_bounds_gpvae_normal_weight_classification_subgroup, upper_bounds_gpvae_normal_weight_classification_subgroup = toolkits.calc_lower_and_upper_bound_percentile(results_bootstrap_gpvae_normal_weight_classification_subgroup)\n",
    "\n",
    "print(lower_bounds_gpvae_normal_weight_classification_subgroup)\n",
    "print(upper_bounds_gpvae_normal_weight_classification_subgroup)"
   ]
  },
  {
   "cell_type": "markdown",
   "metadata": {},
   "source": [
    "#### Mean values of lower bound and upper bound"
   ]
  },
  {
   "cell_type": "code",
   "execution_count": 357,
   "metadata": {},
   "outputs": [
    {
     "name": "stdout",
     "output_type": "stream",
     "text": [
      "[np.float64(0.29439902514401695), np.float64(0.6120529006723547), np.float64(0.44555547987231425), np.float64(0.7010754965048749), np.float64(0.6206534341585745), np.float64(0.24611053762862337), np.float64(0.21500904048938824)]\n"
     ]
    }
   ],
   "source": [
    "mean_values_ci_gpvae_normal_weight_classification_subgroup  = toolkits.calc_mean_values_ci(lower_bounds_gpvae_normal_weight_classification_subgroup, upper_bounds_gpvae_normal_weight_classification_subgroup)\n",
    "\n",
    "print(mean_values_ci_gpvae_normal_weight_classification_subgroup)"
   ]
  },
  {
   "cell_type": "markdown",
   "metadata": {},
   "source": [
    "### Confidence Interval (Overweight classification subgroup)"
   ]
  },
  {
   "cell_type": "markdown",
   "metadata": {},
   "source": [
    "#### Distribution Bootstrap for the Top 5 variables with Largest Differences in MAE (Mean Absolute Error) "
   ]
  },
  {
   "cell_type": "code",
   "execution_count": 358,
   "metadata": {},
   "outputs": [],
   "source": [
    "indices = [32, 0, 6, 31, 5, 1, 35]\n",
    "\n",
    "results_bootstrap_gpvae_overweight_classification_subgroup = []\n",
    "\n",
    "for i in indices:\n",
    "       results_bootstrap_gpvae_overweight_classification_subgroup.append(toolkits.bootstrap_v2(testing_ae_gpvae_variables_standard, indicating_mask_variable_standard_norm, 13, i, 9000))\n",
    "\n"
   ]
  },
  {
   "cell_type": "markdown",
   "metadata": {},
   "source": [
    "#### Calculating the mean and standard deviation of the bootstrap distribution"
   ]
  },
  {
   "cell_type": "code",
   "execution_count": 359,
   "metadata": {},
   "outputs": [
    {
     "name": "stdout",
     "output_type": "stream",
     "text": [
      "[np.float64(0.6337160206380358), np.float64(0.4019553898702843), np.float64(1.3559128592837884), np.float64(1.1334013211894667), np.float64(0.37561656676233945), np.float64(0.5565544287614653), np.float64(0.214048018572171)]\n",
      "[np.float64(0.14754883207866215), np.float64(0.055874328486758384), np.float64(0.3029911821234176), np.float64(0.5152485041728275), np.float64(0.07113234447007083), np.float64(0.15427225952444992), np.float64(0.005921683933105827)]\n"
     ]
    }
   ],
   "source": [
    "means_bootstraps_gpvae_overweight_classification_subgroup, standards_deviations_gpvae_overweight_classification_subgroup = toolkits.calc_mean_and_standard_deviation(results_bootstrap_gpvae_overweight_classification_subgroup)\n",
    "\n",
    "print(means_bootstraps_gpvae_overweight_classification_subgroup)\n",
    "print(standards_deviations_gpvae_overweight_classification_subgroup)\n"
   ]
  },
  {
   "cell_type": "markdown",
   "metadata": {},
   "source": [
    "#### Calculating lower bound and upper bound"
   ]
  },
  {
   "cell_type": "code",
   "execution_count": 360,
   "metadata": {},
   "outputs": [
    {
     "name": "stdout",
     "output_type": "stream",
     "text": [
      "[np.float64(0.34452562380290974), np.float64(0.29244371837587746), np.float64(0.7620610546886737), np.float64(0.12353280992258897), np.float64(0.23619973346510376), np.float64(0.25418635627992714), np.float64(0.2024417313354541)]\n",
      "[np.float64(0.9229064174731618), np.float64(0.5114670613646911), np.float64(1.949764663878903), np.float64(2.1432698324563444), np.float64(0.5150334000595751), np.float64(0.8589225012430035), np.float64(0.22565430580888793)]\n"
     ]
    }
   ],
   "source": [
    "lower_bounds_gpvae_overweight_classification_subgroup, upper_bounds_gpvae_overweight_classification_subgroup = toolkits.calc_lower_and_upper_bound(results_bootstrap_gpvae_overweight_classification_subgroup, means_bootstraps_gpvae_overweight_classification_subgroup, standards_deviations_gpvae_overweight_classification_subgroup)\n",
    "\n",
    "print(lower_bounds_gpvae_overweight_classification_subgroup)\n",
    "print(upper_bounds_gpvae_overweight_classification_subgroup)"
   ]
  },
  {
   "cell_type": "code",
   "execution_count": 361,
   "metadata": {},
   "outputs": [
    {
     "name": "stdout",
     "output_type": "stream",
     "text": [
      "[np.float64(0.4157931427260761), np.float64(0.30296338339721923), np.float64(0.7438432847606096), np.float64(0.5368283997580229), np.float64(0.25806580132307677), np.float64(0.2869753352111305), np.float64(0.20260822167247478)]\n",
      "[np.float64(0.973875000328913), np.float64(0.5211022550839362), np.float64(1.9052202326942167), np.float64(2.3068001475218898), np.float64(0.5338686403075361), np.float64(0.8925268655549834), np.float64(0.22567650936001737)]\n"
     ]
    }
   ],
   "source": [
    "lower_bounds_gpvae_overweight_classification_subgroup, upper_bounds_gpvae_overweight_classification_subgroup = toolkits.calc_lower_and_upper_bound_percentile(results_bootstrap_gpvae_overweight_classification_subgroup)\n",
    "\n",
    "print(lower_bounds_gpvae_overweight_classification_subgroup)\n",
    "print(upper_bounds_gpvae_overweight_classification_subgroup)"
   ]
  },
  {
   "cell_type": "markdown",
   "metadata": {},
   "source": [
    "#### Mean values of lower bound and upper bound"
   ]
  },
  {
   "cell_type": "code",
   "execution_count": 362,
   "metadata": {},
   "outputs": [
    {
     "name": "stdout",
     "output_type": "stream",
     "text": [
      "[np.float64(0.6948340715274945), np.float64(0.41203281924057766), np.float64(1.3245317587274132), np.float64(1.4218142736399564), np.float64(0.39596722081530644), np.float64(0.5897511003830569), np.float64(0.21414236551624607)]\n"
     ]
    }
   ],
   "source": [
    "mean_values_ci_gpvae_overweight_classification_subgroup  = toolkits.calc_mean_values_ci(lower_bounds_gpvae_overweight_classification_subgroup, upper_bounds_gpvae_overweight_classification_subgroup)\n",
    "\n",
    "print(mean_values_ci_gpvae_overweight_classification_subgroup)"
   ]
  },
  {
   "cell_type": "markdown",
   "metadata": {},
   "source": [
    "### Confidence Interval (Obesity 1 classification subgroup)"
   ]
  },
  {
   "cell_type": "markdown",
   "metadata": {},
   "source": [
    "#### Distribution Bootstrap for the Top 5 variables with Largest Differences in MAE (Mean Absolute Error) "
   ]
  },
  {
   "cell_type": "code",
   "execution_count": 363,
   "metadata": {},
   "outputs": [],
   "source": [
    "indices = [32, 0, 6, 31, 5, 1, 35]\n",
    "\n",
    "results_bootstrap_gpvae_obs1_classification_subgroup = []\n",
    "\n",
    "for i in indices:\n",
    "       results_bootstrap_gpvae_obs1_classification_subgroup.append(toolkits.bootstrap_v2(testing_ae_gpvae_variables_standard, indicating_mask_variable_standard_norm, 14, i, 9000))\n",
    "\n"
   ]
  },
  {
   "cell_type": "markdown",
   "metadata": {},
   "source": [
    "#### Calculating the mean and standard deviation of the bootstrap distribution"
   ]
  },
  {
   "cell_type": "code",
   "execution_count": 364,
   "metadata": {},
   "outputs": [
    {
     "name": "stdout",
     "output_type": "stream",
     "text": [
      "[np.float64(0.24883366567057733), np.float64(0.35780846494064744), np.float64(0.29900311311799693), np.float64(0.5051498971812931), np.float64(0.418538090020395), np.float64(0.29008887236735187), np.float64(0.3052290223458991)]\n",
      "[np.float64(0.07274376114425882), np.float64(0.041795048687896866), np.float64(0.2097041263248687), np.float64(0.22205194847051696), np.float64(0.112901389283256), np.float64(0.045555983153380095), np.float64(0.01068984112255131)]\n"
     ]
    }
   ],
   "source": [
    "means_bootstraps_gpvae_obs1_classification_subgroup, standards_deviations_gpvae_obs1_classification_subgroup = toolkits.calc_mean_and_standard_deviation(results_bootstrap_gpvae_obs1_classification_subgroup)\n",
    "\n",
    "print(means_bootstraps_gpvae_obs1_classification_subgroup)\n",
    "print(standards_deviations_gpvae_obs1_classification_subgroup)\n"
   ]
  },
  {
   "cell_type": "markdown",
   "metadata": {},
   "source": [
    "#### Calculating lower bound and upper bound"
   ]
  },
  {
   "cell_type": "code",
   "execution_count": 365,
   "metadata": {},
   "outputs": [
    {
     "name": "stdout",
     "output_type": "stream",
     "text": [
      "[np.float64(0.10625851372784587), np.float64(0.27589167478027155), np.float64(-0.11200942188818358), np.float64(0.06993607548213593), np.float64(0.1972554332206768), np.float64(0.20080078610641344), np.float64(0.2842773187452433)]\n",
      "[np.float64(0.3914088176133088), np.float64(0.43972525510102334), np.float64(0.7100156481241775), np.float64(0.9403637188804503), np.float64(0.6398207468201131), np.float64(0.3793769586282903), np.float64(0.3261807259465549)]\n"
     ]
    }
   ],
   "source": [
    "lower_bounds_gpvae_obs1_classification_subgroup, upper_bounds_gpvae_obs1_classification_subgroup = toolkits.calc_lower_and_upper_bound(results_bootstrap_gpvae_obs1_classification_subgroup, means_bootstraps_gpvae_obs1_classification_subgroup, standards_deviations_gpvae_obs1_classification_subgroup)\n",
    "\n",
    "print(lower_bounds_gpvae_obs1_classification_subgroup)\n",
    "print(upper_bounds_gpvae_obs1_classification_subgroup)"
   ]
  },
  {
   "cell_type": "code",
   "execution_count": 366,
   "metadata": {},
   "outputs": [
    {
     "name": "stdout",
     "output_type": "stream",
     "text": [
      "[np.float64(0.12653426283784666), np.float64(0.27782518472963164), np.float64(0.0), np.float64(0.0), np.float64(0.25211093524760375), np.float64(0.20546832362401582), np.float64(0.2847696734096095)]\n",
      "[np.float64(0.4105533068361425), np.float64(0.4404350103635942), np.float64(0.740125445023434), np.float64(0.7107154921295015), np.float64(0.6729622660164267), np.float64(0.3831318584058979), np.float64(0.326235623124969)]\n"
     ]
    }
   ],
   "source": [
    "lower_bounds_gpvae_obs1_classification_subgroup, upper_bounds_gpvae_obs1_classification_subgroup = toolkits.calc_lower_and_upper_bound_percentile(results_bootstrap_gpvae_obs1_classification_subgroup)\n",
    "\n",
    "print(lower_bounds_gpvae_obs1_classification_subgroup)\n",
    "print(upper_bounds_gpvae_obs1_classification_subgroup)"
   ]
  },
  {
   "cell_type": "markdown",
   "metadata": {},
   "source": [
    "#### Mean values of lower bound and upper bound"
   ]
  },
  {
   "cell_type": "code",
   "execution_count": 367,
   "metadata": {},
   "outputs": [
    {
     "name": "stdout",
     "output_type": "stream",
     "text": [
      "[np.float64(0.2685437848369946), np.float64(0.35913009754661296), np.float64(0.370062722511717), np.float64(0.35535774606475073), np.float64(0.46253660063201524), np.float64(0.29430009101495685), np.float64(0.30550264826728923)]\n"
     ]
    }
   ],
   "source": [
    "mean_values_ci_gpvae_obs1_classification_subgroup  = toolkits.calc_mean_values_ci(lower_bounds_gpvae_obs1_classification_subgroup, upper_bounds_gpvae_obs1_classification_subgroup)\n",
    "\n",
    "print(mean_values_ci_gpvae_obs1_classification_subgroup)"
   ]
  },
  {
   "cell_type": "markdown",
   "metadata": {},
   "source": [
    "### Confidence Interval (Obesity 2 classification subgroup)"
   ]
  },
  {
   "cell_type": "markdown",
   "metadata": {},
   "source": [
    "#### Distribution Bootstrap for the Top 5 variables with Largest Differences in MAE (Mean Absolute Error) "
   ]
  },
  {
   "cell_type": "code",
   "execution_count": 368,
   "metadata": {},
   "outputs": [],
   "source": [
    "indices = [32, 0, 6, 31, 5, 1, 35]\n",
    "\n",
    "results_bootstrap_gpvae_obs2_classification_subgroup = []\n",
    "\n",
    "for i in indices:\n",
    "       results_bootstrap_gpvae_obs2_classification_subgroup.append(toolkits.bootstrap_v2(testing_ae_gpvae_variables_standard, indicating_mask_variable_standard_norm, 15, i, 9000))\n",
    "\n"
   ]
  },
  {
   "cell_type": "markdown",
   "metadata": {},
   "source": [
    "#### Calculating the mean and standard deviation of the bootstrap distribution"
   ]
  },
  {
   "cell_type": "code",
   "execution_count": 369,
   "metadata": {},
   "outputs": [
    {
     "name": "stdout",
     "output_type": "stream",
     "text": [
      "[np.float64(1.2295954167318155), np.float64(0.34442750113258114), np.float64(0.1732814544970187), np.float64(0.0), np.float64(0.4088261420778865), np.float64(0.7727092147825283), np.float64(0.31946213528168343)]\n",
      "[np.float64(0.899230702765293), np.float64(0.04331723972957595), np.float64(0.1320051735437259), np.float64(0.0), np.float64(0.08861566323598369), np.float64(0.3039682964989979), np.float64(0.021538435046573844)]\n"
     ]
    }
   ],
   "source": [
    "means_bootstraps_gpvae_obs2_classification_subgroup, standards_deviations_gpvae_obs2_classification_subgroup = toolkits.calc_mean_and_standard_deviation(results_bootstrap_gpvae_obs2_classification_subgroup)\n",
    "\n",
    "print(means_bootstraps_gpvae_obs2_classification_subgroup)\n",
    "print(standards_deviations_gpvae_obs2_classification_subgroup)\n"
   ]
  },
  {
   "cell_type": "markdown",
   "metadata": {},
   "source": [
    "#### Calculating lower bound and upper bound"
   ]
  },
  {
   "cell_type": "code",
   "execution_count": 370,
   "metadata": {},
   "outputs": [
    {
     "name": "stdout",
     "output_type": "stream",
     "text": [
      "[np.float64(-0.5328643744808013), np.float64(0.25952727135292475), np.float64(-0.08544393142164364), np.float64(0.0), np.float64(0.2351426336692283), np.float64(0.17694230120249976), np.float64(0.27724757830704344)]\n",
      "[np.float64(2.992055207944432), np.float64(0.4293277309122375), np.float64(0.43200684041568105), np.float64(0.0), np.float64(0.5825096504865447), np.float64(1.3684761283625568), np.float64(0.36167669225632343)]\n"
     ]
    }
   ],
   "source": [
    "lower_bounds_gpvae_obs2_classification_subgroup, upper_bounds_gpvae_obs2_classification_subgroup = toolkits.calc_lower_and_upper_bound(results_bootstrap_gpvae_obs2_classification_subgroup, means_bootstraps_gpvae_obs2_classification_subgroup, standards_deviations_gpvae_obs2_classification_subgroup)\n",
    "\n",
    "print(lower_bounds_gpvae_obs2_classification_subgroup)\n",
    "print(upper_bounds_gpvae_obs2_classification_subgroup)"
   ]
  },
  {
   "cell_type": "code",
   "execution_count": 371,
   "metadata": {},
   "outputs": [
    {
     "name": "stdout",
     "output_type": "stream",
     "text": [
      "[np.float64(0.0), np.float64(0.2664236746833256), np.float64(0.0), np.float64(0.0), np.float64(0.2694019027212193), np.float64(0.2654285990459724), np.float64(0.2787589025828395)]\n",
      "[np.float64(3.1824607622085654), np.float64(0.4359315545079977), np.float64(0.2738425093018167), np.float64(0.0), np.float64(0.6083622148703423), np.float64(1.4250064820421084), np.float64(0.3624556821804304)]\n"
     ]
    }
   ],
   "source": [
    "lower_bounds_gpvae_obs2_classification_subgroup, upper_bounds_gpvae_obs2_classification_subgroup = toolkits.calc_lower_and_upper_bound_percentile(results_bootstrap_gpvae_obs2_classification_subgroup)\n",
    "\n",
    "print(lower_bounds_gpvae_obs2_classification_subgroup)\n",
    "print(upper_bounds_gpvae_obs2_classification_subgroup)"
   ]
  },
  {
   "cell_type": "markdown",
   "metadata": {},
   "source": [
    "#### Mean values of lower bound and upper bound"
   ]
  },
  {
   "cell_type": "code",
   "execution_count": 372,
   "metadata": {},
   "outputs": [
    {
     "name": "stdout",
     "output_type": "stream",
     "text": [
      "[np.float64(1.5912303811042827), np.float64(0.35117761459566166), np.float64(0.13692125465090835), np.float64(0.0), np.float64(0.4388820587957808), np.float64(0.8452175405440404), np.float64(0.32060729238163493)]\n"
     ]
    }
   ],
   "source": [
    "mean_values_ci_gpvae_obs2_classification_subgroup  = toolkits.calc_mean_values_ci(lower_bounds_gpvae_obs2_classification_subgroup, upper_bounds_gpvae_obs2_classification_subgroup)\n",
    "\n",
    "print(mean_values_ci_gpvae_obs2_classification_subgroup)"
   ]
  },
  {
   "cell_type": "markdown",
   "metadata": {},
   "source": [
    "### Confidence Interval (Obesity 3 classification subgroup)"
   ]
  },
  {
   "cell_type": "markdown",
   "metadata": {},
   "source": [
    "#### Distribution Bootstrap for the Top 5 variables with Largest Differences in MAE (Mean Absolute Error) "
   ]
  },
  {
   "cell_type": "code",
   "execution_count": 373,
   "metadata": {},
   "outputs": [],
   "source": [
    "indices = [32, 0, 6, 31, 5, 1, 35]\n",
    "\n",
    "\n",
    "results_bootstrap_gpvae_obs3_classification_subgroup = []\n",
    "\n",
    "for i in indices:\n",
    "       results_bootstrap_gpvae_obs3_classification_subgroup.append(toolkits.bootstrap_v2(testing_ae_gpvae_variables_standard, indicating_mask_variable_standard_norm, 16, i, 9000))\n",
    "\n"
   ]
  },
  {
   "cell_type": "markdown",
   "metadata": {},
   "source": [
    "#### Calculating the mean and standard deviation of the bootstrap distribution"
   ]
  },
  {
   "cell_type": "code",
   "execution_count": 374,
   "metadata": {},
   "outputs": [
    {
     "name": "stdout",
     "output_type": "stream",
     "text": [
      "[np.float64(1.082904634415875), np.float64(0.2543884757819845), np.float64(0.0), np.float64(0.16815668345211396), np.float64(0.470607312679061), np.float64(1.587710283434484), np.float64(0.5821759109812601)]\n",
      "[np.float64(0.7599439230364026), np.float64(0.04234700526501501), np.float64(0.0), np.float64(0.12935975948620154), np.float64(0.1858509235236118), np.float64(1.0923134185816146), np.float64(0.0349145802865942)]\n"
     ]
    }
   ],
   "source": [
    "means_bootstraps_gpvae_obs3_classification_subgroup, standards_deviations_gpvae_obs3_classification_subgroup = toolkits.calc_mean_and_standard_deviation(results_bootstrap_gpvae_obs3_classification_subgroup)\n",
    "\n",
    "print(means_bootstraps_gpvae_obs3_classification_subgroup)\n",
    "print(standards_deviations_gpvae_obs3_classification_subgroup)\n"
   ]
  },
  {
   "cell_type": "markdown",
   "metadata": {},
   "source": [
    "#### Calculating lower bound and upper bound"
   ]
  },
  {
   "cell_type": "code",
   "execution_count": 375,
   "metadata": {},
   "outputs": [
    {
     "name": "stdout",
     "output_type": "stream",
     "text": [
      "[np.float64(-0.4065580850055528), np.float64(0.171389870609427), np.float64(0.0), np.float64(-0.08538378618960465), np.float64(0.10634619607927392), np.float64(-0.5531846768153053), np.float64(0.5137445910842033)]\n",
      "[np.float64(2.572367353837303), np.float64(0.33738708095454195), np.float64(0.0), np.float64(0.4216971530938326), np.float64(0.834868429278848), np.float64(3.7286052436842736), np.float64(0.6506072308783168)]\n"
     ]
    }
   ],
   "source": [
    "lower_bounds_gpvae_obs3_classification_subgroup, upper_bounds_gpvae_obs3_classification_subgroup = toolkits.calc_lower_and_upper_bound(results_bootstrap_gpvae_obs3_classification_subgroup, means_bootstraps_gpvae_obs3_classification_subgroup, standards_deviations_gpvae_obs3_classification_subgroup)\n",
    "\n",
    "print(lower_bounds_gpvae_obs3_classification_subgroup)\n",
    "print(upper_bounds_gpvae_obs3_classification_subgroup)"
   ]
  },
  {
   "cell_type": "code",
   "execution_count": 376,
   "metadata": {},
   "outputs": [
    {
     "name": "stdout",
     "output_type": "stream",
     "text": [
      "[np.float64(0.18069389887825504), np.float64(0.1706558802364761), np.float64(0.0), np.float64(0.0), np.float64(0.16616333645478304), np.float64(0.0), np.float64(0.5141726327707242)]\n",
      "[np.float64(2.8033925660574868), np.float64(0.33826795848343816), np.float64(0.0), np.float64(0.26767070234695617), np.float64(0.8760385102660416), np.float64(3.916981270671261), np.float64(0.6515707115363911)]\n"
     ]
    }
   ],
   "source": [
    "lower_bounds_gpvae_obs3_classification_subgroup, upper_bounds_gpvae_obs3_classification_subgroup = toolkits.calc_lower_and_upper_bound_percentile(results_bootstrap_gpvae_obs3_classification_subgroup)\n",
    "\n",
    "print(lower_bounds_gpvae_obs3_classification_subgroup)\n",
    "print(upper_bounds_gpvae_obs3_classification_subgroup)"
   ]
  },
  {
   "cell_type": "markdown",
   "metadata": {},
   "source": [
    "#### Mean values of lower bound and upper bound"
   ]
  },
  {
   "cell_type": "code",
   "execution_count": 377,
   "metadata": {},
   "outputs": [
    {
     "name": "stdout",
     "output_type": "stream",
     "text": [
      "[np.float64(1.492043232467871), np.float64(0.2544619193599571), np.float64(0.0), np.float64(0.13383535117347808), np.float64(0.5211009233604124), np.float64(1.9584906353356304), np.float64(0.5828716721535576)]\n"
     ]
    }
   ],
   "source": [
    "mean_values_ci_gpvae_obs3_classification_subgroup  = toolkits.calc_mean_values_ci(lower_bounds_gpvae_obs3_classification_subgroup, upper_bounds_gpvae_obs3_classification_subgroup)\n",
    "\n",
    "print(mean_values_ci_gpvae_obs3_classification_subgroup)"
   ]
  },
  {
   "cell_type": "markdown",
   "metadata": {},
   "source": [
    "### Confidence Interval (Obesity subgroup)"
   ]
  },
  {
   "cell_type": "code",
   "execution_count": 81,
   "metadata": {},
   "outputs": [],
   "source": [
    "indices = [32, 0, 6, 31, 5, 1, 35]\n",
    "\n",
    "\n",
    "results_bootstrap_gpvae_obs3_classification_subgroup = []\n",
    "\n",
    "for i in indices:\n",
    "       results_bootstrap_gpvae_obs3_classification_subgroup.append(toolkits.bootstrap_v2(testing_ae_gpvae_variables_standard, indicating_mask_variable_standard_norm, 8, i, 9000))\n",
    "\n"
   ]
  },
  {
   "cell_type": "code",
   "execution_count": 82,
   "metadata": {},
   "outputs": [
    {
     "name": "stdout",
     "output_type": "stream",
     "text": [
      "[np.float64(0.27555636829615554), np.float64(0.4163626611692036), np.float64(0.9744375087984748), np.float64(0.6247616893293524), np.float64(0.9544883898988004), np.float64(0.42545585027276434), np.float64(0.19481102984534043)]\n",
      "[np.float64(0.04419587100126069), np.float64(0.17489012918527883), np.float64(0.5599887970201437), np.float64(0.0892405810214106), np.float64(0.2945611621662042), np.float64(0.22617651193417881), np.float64(0.005944216965552449)]\n"
     ]
    }
   ],
   "source": [
    "means_bootstraps_gpvae_obs3_classification_subgroup, standards_deviations_gpvae_obs3_classification_subgroup = toolkits.calc_mean_and_standard_deviation(results_bootstrap_gpvae_obs3_classification_subgroup)\n",
    "\n",
    "print(means_bootstraps_gpvae_obs3_classification_subgroup)\n",
    "print(standards_deviations_gpvae_obs3_classification_subgroup)\n"
   ]
  },
  {
   "cell_type": "code",
   "execution_count": null,
   "metadata": {},
   "outputs": [
    {
     "name": "stdout",
     "output_type": "stream",
     "text": [
      "[np.float64(0.19414765647825802), np.float64(0.20029027714924186), np.float64(0.0), np.float64(0.46471271158064226), np.float64(0.44761681301701794), np.float64(0.16288975410409948), np.float64(0.18330931707311895)]\n",
      "[np.float64(0.3671560473110876), np.float64(0.8326562128898994), np.float64(2.008021449480889), np.float64(0.8060316611288288), np.float64(1.5891190064067173), np.float64(0.9467590081779655), np.float64(0.20667332301290167)]\n"
     ]
    }
   ],
   "source": [
    "lower_bounds_gpvae_obs3_classification_subgroup, upper_bounds_gpvae_obs3_classification_subgroup = toolkits.calc_lower_and_upper_bound_percentile(results_bootstrap_gpvae_obs3_classification_subgroup)\n",
    "\n",
    "print(lower_bounds_gpvae_obs3_classification_subgroup)\n",
    "print(upper_bounds_gpvae_obs3_classification_subgroup)"
   ]
  },
  {
   "cell_type": "code",
   "execution_count": 84,
   "metadata": {},
   "outputs": [
    {
     "name": "stdout",
     "output_type": "stream",
     "text": [
      "[np.float64(0.2806518518946728), np.float64(0.5164732450195706), np.float64(1.0040107247404444), np.float64(0.6353721863547356), np.float64(1.0183679097118676), np.float64(0.5548243811410325), np.float64(0.1949913200430103)]\n"
     ]
    }
   ],
   "source": [
    "mean_values_ci_gpvae_obs3_classification_subgroup  = toolkits.calc_mean_values_ci(lower_bounds_gpvae_obs3_classification_subgroup, upper_bounds_gpvae_obs3_classification_subgroup)\n",
    "\n",
    "print(mean_values_ci_gpvae_obs3_classification_subgroup)"
   ]
  },
  {
   "cell_type": "markdown",
   "metadata": {},
   "source": [
    "## MRNN"
   ]
  },
  {
   "cell_type": "markdown",
   "metadata": {},
   "source": [
    "### Calculate MAE and AE"
   ]
  },
  {
   "cell_type": "code",
   "execution_count": 74,
   "metadata": {},
   "outputs": [],
   "source": [
    "testing_mae_mrnn_variables_standard, testing_ae_mrnn_variables_standard = toolkits.calculate_mae(mrnn_imputation_standard, test_X_ori_variable_standard_norm, indicating_mask_variable_standard_norm)"
   ]
  },
  {
   "cell_type": "markdown",
   "metadata": {},
   "source": [
    "### Taking the MAE difference for MRNN model"
   ]
  },
  {
   "cell_type": "markdown",
   "metadata": {},
   "source": [
    "#### Difference between gender group"
   ]
  },
  {
   "cell_type": "code",
   "execution_count": 379,
   "metadata": {},
   "outputs": [
    {
     "data": {
      "text/plain": [
       "[('Cholesterol', 0.460074799665683),\n",
       " ('SaO2', 0.23089926175071557),\n",
       " ('Weight', 0.17818464548563684),\n",
       " ('AST', 0.17410829776911274),\n",
       " ('PaCO2', 0.1296286552649416)]"
      ]
     },
     "execution_count": 379,
     "metadata": {},
     "output_type": "execute_result"
    }
   ],
   "source": [
    "diff_mrnn_gender_subgroup = toolkits.diff_mae_top_5(testing_mae_mrnn_variables_standard, 1, 2, variables)\n",
    "diff_mrnn_gender_subgroup"
   ]
  },
  {
   "cell_type": "markdown",
   "metadata": {},
   "source": [
    "#### Difference between age group"
   ]
  },
  {
   "cell_type": "code",
   "execution_count": 380,
   "metadata": {},
   "outputs": [
    {
     "data": {
      "text/plain": [
       "[('Cholesterol', 0.5264706084970757),\n",
       " ('ALP', 0.4211803944022994),\n",
       " ('SaO2', 0.2121897999027318),\n",
       " ('TroponinI', 0.1882160203831248),\n",
       " ('Bilirubin', 0.14052047553207314)]"
      ]
     },
     "execution_count": 380,
     "metadata": {},
     "output_type": "execute_result"
    }
   ],
   "source": [
    "diff_mrnn_age_subgroup = toolkits.diff_mae_top_5(testing_mae_mrnn_variables_standard, 4, 5, variables)\n",
    "diff_mrnn_age_subgroup"
   ]
  },
  {
   "cell_type": "markdown",
   "metadata": {},
   "source": [
    "#### Difference between ICUType group"
   ]
  },
  {
   "cell_type": "code",
   "execution_count": 381,
   "metadata": {},
   "outputs": [],
   "source": [
    "diff_mrnn_ICUType_1_2 = toolkits.diff_mae_top_5(testing_mae_mrnn_variables_standard, 6, 7, variables)\n",
    "diff_mrnn_ICUType_1_3 = toolkits.diff_mae_top_5(testing_mae_mrnn_variables_standard, 6, 8, variables)\n",
    "diff_mrnn_ICUType_1_4 = toolkits.diff_mae_top_5(testing_mae_mrnn_variables_standard, 6, 9, variables)\n",
    "diff_mrnn_ICUType_2_3 = toolkits.diff_mae_top_5(testing_mae_mrnn_variables_standard, 7, 8, variables)\n",
    "diff_mrnn_ICUType_2_4 = toolkits.diff_mae_top_5(testing_mae_mrnn_variables_standard, 7, 9, variables)\n",
    "diff_mrnn_ICUType_3_4 = toolkits.diff_mae_top_5(testing_mae_mrnn_variables_standard, 8, 9, variables)"
   ]
  },
  {
   "cell_type": "code",
   "execution_count": 382,
   "metadata": {},
   "outputs": [
    {
     "name": "stdout",
     "output_type": "stream",
     "text": [
      "Diferença(MAE) ICUType 1 e 2\n",
      "----------------------------\n",
      "[('Cholesterol', 0.901031992086054), ('TroponinI', 0.8885610682206686), ('TroponinT', 0.2790266120032721), ('AST', 0.2552394500943449), ('HR', 0.2447531820372948)]\n",
      "----------------------------\n",
      "Diferença(MAE) ICUType 1 e 3\n",
      "----------------------------\n",
      "[('SaO2', 1.126906437286816), ('ALP', 0.8268337264809685), ('TroponinI', 0.6275078282113778), ('PaCO2', 0.31668859057403287), ('K', 0.246514642989757)]\n",
      "----------------------------\n",
      "Diferença(MAE) ICUType 1 e 4\n",
      "----------------------------\n",
      "[('TroponinI', 0.47523007256967253), ('TroponinT', 0.28805061730511766), ('Albumin', 0.20611631660536978), ('Glucose', 0.20571705278816577), ('Cholesterol', 0.20496775474055506)]\n",
      "----------------------------\n",
      "Diferença(MAE) ICUType 2 e 3\n",
      "[('SaO2', 1.3273285735353169), ('Cholesterol', 0.7254168125829273), ('ALP', 0.6559594642969739), ('HCO3', 0.44461402558334706), ('PaCO2', 0.4402514604811403)]\n",
      "----------------------------\n",
      "Diferença(MAE) ICUType 2 e 4\n",
      "----------------------------\n",
      "[('Cholesterol', 0.6960642373454989), ('TroponinI', 0.41333099565099607), ('PaO2', 0.21916984369244785), ('HR', 0.1992676034770704), ('RespRate', 0.1918228759321262)]\n",
      "----------------------------\n",
      "Diferença(MAE) ICUType 3 e 4\n",
      "----------------------------\n",
      "[('SaO2', 1.203668742399853), ('ALP', 0.6224636652370703), ('PaCO2', 0.36714192041438565), ('HCO3', 0.33102624912397804), ('Glucose', 0.2663114922465316)]\n",
      "----------------------------\n"
     ]
    }
   ],
   "source": [
    "print(\"Diferença(MAE) ICUType 1 e 2\")\n",
    "print(\"----------------------------\")\n",
    "print(diff_mrnn_ICUType_1_2)\n",
    "print(\"----------------------------\")\n",
    "print(\"Diferença(MAE) ICUType 1 e 3\")\n",
    "print(\"----------------------------\")\n",
    "print(diff_mrnn_ICUType_1_3)\n",
    "print(\"----------------------------\")\n",
    "print(\"Diferença(MAE) ICUType 1 e 4\")\n",
    "print(\"----------------------------\")\n",
    "print(diff_mrnn_ICUType_1_4)\n",
    "print(\"----------------------------\")\n",
    "print(\"Diferença(MAE) ICUType 2 e 3\")\n",
    "print(diff_mrnn_ICUType_2_3)\n",
    "print(\"----------------------------\")\n",
    "print(\"Diferença(MAE) ICUType 2 e 4\")\n",
    "print(\"----------------------------\")\n",
    "print(diff_mrnn_ICUType_2_4)\n",
    "print(\"----------------------------\")\n",
    "print(\"Diferença(MAE) ICUType 3 e 4\")\n",
    "print(\"----------------------------\")\n",
    "print(diff_mrnn_ICUType_3_4)\n",
    "print(\"----------------------------\")"
   ]
  },
  {
   "cell_type": "code",
   "execution_count": 383,
   "metadata": {},
   "outputs": [
    {
     "name": "stdout",
     "output_type": "stream",
     "text": [
      "Top 5 variáveis ICUType\n",
      "-----------------------\n",
      "SaO2\n",
      "Cholesterol\n",
      "TroponinI\n",
      "ALP\n",
      "PaCO2\n"
     ]
    }
   ],
   "source": [
    "print(\"Top 5 variáveis ICUType\")\n",
    "print(\"-----------------------\")\n",
    "print(variables[28])\n",
    "print(variables[6])\n",
    "print(variables[31])\n",
    "print(variables[0])\n",
    "print(variables[24])"
   ]
  },
  {
   "cell_type": "markdown",
   "metadata": {},
   "source": [
    "#### Difference between BMI group"
   ]
  },
  {
   "cell_type": "code",
   "execution_count": 384,
   "metadata": {},
   "outputs": [],
   "source": [
    "diff_mrnn_classification_undefined_low = toolkits.diff_mae_top_5(testing_mae_mrnn_variables_standard, 10, 11, variables)\n",
    "diff_mrnn_classification_undefined_normal = toolkits.diff_mae_top_5(testing_mae_mrnn_variables_standard, 10, 12, variables)\n",
    "diff_mrnn_classification_undefined_over = toolkits.diff_mae_top_5(testing_mae_mrnn_variables_standard, 10, 13, variables)\n",
    "diff_mrnn_classification_undefined_obs1 = toolkits.diff_mae_top_5(testing_mae_mrnn_variables_standard, 10, 14, variables)\n",
    "diff_mrnn_classification_undefined_obs2 = toolkits.diff_mae_top_5(testing_mae_mrnn_variables_standard, 10, 15, variables)\n",
    "diff_mrnn_classification_undefined_obs3 = toolkits.diff_mae_top_5(testing_mae_mrnn_variables_standard, 10, 16, variables)\n",
    "\n",
    "diff_mrnn_classification_low_normal = toolkits.diff_mae_top_5(testing_mae_mrnn_variables_standard, 11, 12, variables)\n",
    "diff_mrnn_classification_low_over = toolkits.diff_mae_top_5(testing_mae_mrnn_variables_standard, 11, 13, variables)\n",
    "diff_mrnn_classification_low_obs1 = toolkits.diff_mae_top_5(testing_mae_mrnn_variables_standard, 11, 14, variables)\n",
    "diff_mrnn_classification_low_obs2 = toolkits.diff_mae_top_5(testing_mae_mrnn_variables_standard, 11, 15, variables)\n",
    "diff_mrnn_classification_low_obs3 = toolkits.diff_mae_top_5(testing_mae_mrnn_variables_standard, 11, 16, variables)\n",
    "\n",
    "diff_mrnn_classification_normal_over = toolkits.diff_mae_top_5(testing_mae_mrnn_variables_standard, 12, 13, variables)\n",
    "diff_mrnn_classification_normal_obs1 = toolkits.diff_mae_top_5(testing_mae_mrnn_variables_standard, 12, 14, variables)\n",
    "diff_mrnn_classification_normal_obs2 = toolkits.diff_mae_top_5(testing_mae_mrnn_variables_standard, 12, 15, variables)\n",
    "diff_mrnn_classification_normal_obs3 = toolkits.diff_mae_top_5(testing_mae_mrnn_variables_standard, 12, 16, variables)\n",
    "\n",
    "diff_mrnn_classification_over_obs1 = toolkits.diff_mae_top_5(testing_mae_mrnn_variables_standard, 13, 14, variables)\n",
    "diff_mrnn_classification_over_obs2 = toolkits.diff_mae_top_5(testing_mae_mrnn_variables_standard, 13, 15, variables)\n",
    "diff_mrnn_classification_over_obs3 = toolkits.diff_mae_top_5(testing_mae_mrnn_variables_standard, 13, 16, variables)\n",
    "\n",
    "\n",
    "diff_mrnn_classification_obs1_obs2 = toolkits.diff_mae_top_5(testing_mae_mrnn_variables_standard, 14, 15, variables)\n",
    "diff_mrnn_classification_obs1_obs3 = toolkits.diff_mae_top_5(testing_mae_mrnn_variables_standard, 14, 16, variables)\n",
    "\n",
    "diff_mrnn_classification_obs2_obs3 = toolkits.diff_mae_top_5(testing_mae_mrnn_variables_standard, 15, 16, variables)"
   ]
  },
  {
   "cell_type": "code",
   "execution_count": 385,
   "metadata": {},
   "outputs": [
    {
     "name": "stdout",
     "output_type": "stream",
     "text": [
      "Diferença(MAE) Classification Undefined and low\n",
      "----------------------------\n",
      "[('ALP', 1.7276133849206046), ('Bilirubin', 0.991431300323627), ('TroponinI', 0.760530696557348), ('Weight', 0.5541701206564827), ('Cholesterol', 0.4686585717311543)]\n",
      "----------------------------\n",
      "Diferença(MAE) Classification Undefined and normal\n",
      "----------------------------\n",
      "[('Cholesterol', 0.3793471669959604), ('PaCO2', 0.2607229460061936), ('SaO2', 0.23204288750553248), ('TroponinI', 0.19152385401179972), ('HCO3', 0.18600797150566883)]\n",
      "----------------------------\n",
      "Diferença(MAE) Classification Undefined and over\n",
      "----------------------------\n",
      "[('Cholesterol', 0.73118655525492), ('TroponinI', 0.4223997426958679), ('Weight', 0.3506808770526928), ('PaCO2', 0.227091647825451), ('SaO2', 0.21374411070461574)]\n",
      "----------------------------\n",
      "Diferença(MAE) Classification Undefined and obs1\n",
      "[('Ph', 0.885811109436305), ('PaCO2', 0.2961064251653872), ('HCO3', 0.2589322197694509), ('SaO2', 0.25878672579612844), ('Albumin', 0.2574767374947796)]\n",
      "----------------------------\n",
      "Diferença(MAE) Classification Undefined and obs2\n",
      "----------------------------\n",
      "[('TroponinT', 0.9269906099201951), ('TroponinI', 0.760530696557348), ('Cholesterol', 0.49243565221727803), ('HCO3', 0.2831263211429188), ('PaCO2', 0.26465889541900145)]\n",
      "----------------------------\n",
      "Diferença(MAE) ICUType Undefined and obs3\n",
      "----------------------------\n",
      "[('ALT', 0.973074015881071), ('Weight', 0.9046776168797882), ('Cholesterol', 0.5740333486729207), ('TroponinT', 0.523903128958331), ('TroponinI', 0.410297964848928)]\n",
      "----------------------------\n"
     ]
    }
   ],
   "source": [
    "print(\"Diferença(MAE) Classification Undefined and low\")\n",
    "print(\"----------------------------\")\n",
    "print(diff_mrnn_classification_undefined_low)\n",
    "print(\"----------------------------\")\n",
    "print(\"Diferença(MAE) Classification Undefined and normal\")\n",
    "print(\"----------------------------\")\n",
    "print(diff_mrnn_classification_undefined_normal)\n",
    "print(\"----------------------------\")\n",
    "print(\"Diferença(MAE) Classification Undefined and over\")\n",
    "print(\"----------------------------\")\n",
    "print(diff_mrnn_classification_undefined_over)\n",
    "print(\"----------------------------\")\n",
    "print(\"Diferença(MAE) Classification Undefined and obs1\")\n",
    "print(diff_mrnn_classification_undefined_obs1)\n",
    "print(\"----------------------------\")\n",
    "print(\"Diferença(MAE) Classification Undefined and obs2\")\n",
    "print(\"----------------------------\")\n",
    "print(diff_mrnn_classification_undefined_obs2)\n",
    "print(\"----------------------------\")\n",
    "print(\"Diferença(MAE) ICUType Undefined and obs3\")\n",
    "print(\"----------------------------\")\n",
    "print(diff_mrnn_classification_undefined_obs3)\n",
    "print(\"----------------------------\")"
   ]
  },
  {
   "cell_type": "code",
   "execution_count": 386,
   "metadata": {},
   "outputs": [
    {
     "name": "stdout",
     "output_type": "stream",
     "text": [
      "Diferença(MAE) Classification low and normal\n",
      "----------------------------\n",
      "[('ALP', 1.6166555970496364), ('Bilirubin', 0.9207620408895874), ('Cholesterol', 0.8480057387271147), ('TroponinI', 0.5690068425455482), ('HCO3', 0.536785762597226)]\n",
      "----------------------------\n",
      "Diferença(MAE) Classification low and over\n",
      "----------------------------\n",
      "[('ALP', 1.800473096976984), ('Cholesterol', 1.1998451269860744), ('TroponinI', 1.1829304392532158), ('Bilirubin', 1.1149758410790835), ('Weight', 0.9048509977091755)]\n",
      "----------------------------\n",
      "Diferença(MAE) Classification low and obs1\n",
      "----------------------------\n",
      "[('ALP', 1.8393424639406553), ('Bilirubin', 1.1198139288037439), ('Ph', 0.8807265506509955), ('Weight', 0.7823811039519852), ('TroponinI', 0.6293802953922413)]\n",
      "----------------------------\n",
      "Diferença(MAE) Classification low and obs2\n",
      "[('ALP', 1.7016018916185272), ('Bilirubin', 1.0552999603327775), ('TroponinT', 0.9759888694076897), ('HCO3', 0.633904112234476), ('Weight', 0.5288315187720876)]\n",
      "----------------------------\n",
      "Diferença(MAE) Classification low and obs3\n",
      "----------------------------\n",
      "[('ALP', 1.9131918514183708), ('Bilirubin', 1.1836437300400229), ('ALT', 1.0535741335221736), ('TroponinT', 0.5729013884458256), ('Weight', 0.35050749622330546)]\n",
      "----------------------------\n"
     ]
    }
   ],
   "source": [
    "print(\"Diferença(MAE) Classification low and normal\")\n",
    "print(\"----------------------------\")\n",
    "print(diff_mrnn_classification_low_normal)\n",
    "print(\"----------------------------\")\n",
    "print(\"Diferença(MAE) Classification low and over\")\n",
    "print(\"----------------------------\")\n",
    "print(diff_mrnn_classification_low_over)\n",
    "print(\"----------------------------\")\n",
    "print(\"Diferença(MAE) Classification low and obs1\")\n",
    "print(\"----------------------------\")\n",
    "print(diff_mrnn_classification_low_obs1)\n",
    "print(\"----------------------------\")\n",
    "print(\"Diferença(MAE) Classification low and obs2\")\n",
    "print(diff_mrnn_classification_low_obs2)\n",
    "print(\"----------------------------\")\n",
    "print(\"Diferença(MAE) Classification low and obs3\")\n",
    "print(\"----------------------------\")\n",
    "print(diff_mrnn_classification_low_obs3)\n",
    "print(\"----------------------------\")"
   ]
  },
  {
   "cell_type": "code",
   "execution_count": 387,
   "metadata": {},
   "outputs": [
    {
     "name": "stdout",
     "output_type": "stream",
     "text": [
      "Diferença(MAE) Classification normal and over\n",
      "----------------------------\n",
      "[('TroponinI', 0.6139235967076676), ('Weight', 0.39083485382314354), ('Cholesterol', 0.35183938825895966), ('ALT', 0.25331368596067866), ('Bilirubin', 0.1942138001894962)]\n",
      "----------------------------\n",
      "Diferença(MAE) Classification normal and obs1\n",
      "----------------------------\n",
      "[('Ph', 0.8908243808825946), ('Cholesterol', 0.3310031978642243), ('Weight', 0.26836496006595323), ('ALP', 0.22268686689101885), ('Albumin', 0.19923420837815708)]\n",
      "----------------------------\n",
      "Diferença(MAE) Classification normal and obs2\n",
      "----------------------------\n",
      "[('TroponinT', 0.9827645651094227), ('Cholesterol', 0.8717828192132384), ('TroponinI', 0.5690068425455482), ('ALT', 0.28712642112221703), ('Creatinine', 0.20622605478110573)]\n",
      "----------------------------\n",
      "Diferença(MAE) Classification normal and obs3\n",
      "[('ALT', 1.098237131073044), ('Cholesterol', 0.953380515668881), ('Weight', 0.8645236401093375), ('TroponinT', 0.5796770841475586), ('HCO3', 0.30466205892233533)]\n",
      "----------------------------\n"
     ]
    }
   ],
   "source": [
    "print(\"Diferença(MAE) Classification normal and over\")\n",
    "print(\"----------------------------\")\n",
    "print(diff_mrnn_classification_normal_over)\n",
    "print(\"----------------------------\")\n",
    "print(\"Diferença(MAE) Classification normal and obs1\")\n",
    "print(\"----------------------------\")\n",
    "print(diff_mrnn_classification_normal_obs1)\n",
    "print(\"----------------------------\")\n",
    "print(\"Diferença(MAE) Classification normal and obs2\")\n",
    "print(\"----------------------------\")\n",
    "print(diff_mrnn_classification_normal_obs2)\n",
    "print(\"----------------------------\")\n",
    "print(\"Diferença(MAE) Classification normal and obs3\")\n",
    "print(diff_mrnn_classification_normal_obs3)\n",
    "print(\"----------------------------\")"
   ]
  },
  {
   "cell_type": "code",
   "execution_count": 388,
   "metadata": {},
   "outputs": [
    {
     "name": "stdout",
     "output_type": "stream",
     "text": [
      "Diferença(MAE) Classification over and obs1\n",
      "----------------------------\n",
      "[('Ph', 0.8888769180304672), ('Cholesterol', 0.6828425861231839), ('TroponinI', 0.5535501438609746), ('ALT', 0.23397502450091273), ('TroponinT', 0.23237983370993043)]\n",
      "----------------------------\n",
      "Diferença(MAE) Classification over and obs2\n",
      "----------------------------\n",
      "[('Cholesterol', 1.223622207472198), ('TroponinI', 1.1829304392532158), ('TroponinT', 0.8424714490327402), ('Weight', 0.376019478937088), ('RespRate', 0.20419276783614382)]\n",
      "----------------------------\n",
      "Diferença(MAE) Classification over and obs3\n",
      "----------------------------\n",
      "[('Cholesterol', 1.3052199039278407), ('Weight', 1.255358493932481), ('ALT', 0.8449234451123655), ('TroponinI', 0.8326977075447959), ('TroponinT', 0.4393839680708761)]\n",
      "----------------------------\n"
     ]
    }
   ],
   "source": [
    "print(\"Diferença(MAE) Classification over and obs1\")\n",
    "print(\"----------------------------\")\n",
    "print(diff_mrnn_classification_over_obs1)\n",
    "print(\"----------------------------\")\n",
    "print(\"Diferença(MAE) Classification over and obs2\")\n",
    "print(\"----------------------------\")\n",
    "print(diff_mrnn_classification_over_obs2)\n",
    "print(\"----------------------------\")\n",
    "print(\"Diferença(MAE) Classification over and obs3\")\n",
    "print(\"----------------------------\")\n",
    "print(diff_mrnn_classification_over_obs3)\n",
    "print(\"----------------------------\")"
   ]
  },
  {
   "cell_type": "code",
   "execution_count": 389,
   "metadata": {},
   "outputs": [
    {
     "name": "stdout",
     "output_type": "stream",
     "text": [
      "Diferença(MAE) Classification obs1 and obs2 \n",
      "----------------------------\n",
      "[('TroponinT', 1.0748512827426706), ('Ph', 0.8644289969648554), ('TroponinI', 0.6293802953922413), ('Cholesterol', 0.5407796213490141), ('ALT', 0.2677877596624511)]\n",
      "----------------------------\n",
      "Diferença(MAE) Classification obs1 and obs3 \n",
      "----------------------------\n",
      "[('Weight', 1.1328886001752907), ('ALT', 1.0788984696132782), ('Ph', 0.8845028557366159), ('TroponinT', 0.6717638017808065), ('Cholesterol', 0.6223773178046568)]\n",
      "----------------------------\n"
     ]
    }
   ],
   "source": [
    "print(\"Diferença(MAE) Classification obs1 and obs2 \")\n",
    "print(\"----------------------------\")\n",
    "print(diff_mrnn_classification_obs1_obs2)\n",
    "print(\"----------------------------\")\n",
    "print(\"Diferença(MAE) Classification obs1 and obs3 \")\n",
    "print(\"----------------------------\")\n",
    "print(diff_mrnn_classification_obs1_obs3)\n",
    "print(\"----------------------------\")"
   ]
  },
  {
   "cell_type": "code",
   "execution_count": 390,
   "metadata": {},
   "outputs": [
    {
     "name": "stdout",
     "output_type": "stream",
     "text": [
      "Diferença(MAE) Classification obs2 and obs3 \n",
      "----------------------------\n",
      "[('Weight', 0.879339014995393), ('ALT', 0.8111107099508271), ('TroponinT', 0.4030874809618641), ('HCO3', 0.4017804085595853), ('TroponinI', 0.35023273170841995)]\n",
      "----------------------------\n"
     ]
    }
   ],
   "source": [
    "print(\"Diferença(MAE) Classification obs2 and obs3 \")\n",
    "print(\"----------------------------\")\n",
    "print(diff_mrnn_classification_obs2_obs3)\n",
    "print(\"----------------------------\")"
   ]
  },
  {
   "cell_type": "code",
   "execution_count": 391,
   "metadata": {},
   "outputs": [
    {
     "name": "stdout",
     "output_type": "stream",
     "text": [
      "Top 5 variáveis BMI\n",
      "-----------------------\n",
      "Cholesterol\n",
      "ALP\n",
      "TroponinI\n",
      "Weight\n",
      "TroponinT\n"
     ]
    }
   ],
   "source": [
    "print(\"Top 5 variáveis BMI\")\n",
    "print(\"-----------------------\")\n",
    "print(variables[6])\n",
    "print(variables[0])\n",
    "print(variables[31])\n",
    "print(variables[35])\n",
    "print(variables[32])"
   ]
  },
  {
   "cell_type": "markdown",
   "metadata": {},
   "source": [
    "### Confidence Interval (Female Subgroup)"
   ]
  },
  {
   "cell_type": "markdown",
   "metadata": {},
   "source": [
    "#### Distribution Bootstrap for the Top 5 variables with Largest Differences in MAE (Mean Absolute Error) "
   ]
  },
  {
   "cell_type": "code",
   "execution_count": 392,
   "metadata": {},
   "outputs": [],
   "source": [
    "indices = [6, 31, 28, 16, 33, 2, 7, 15, 5, 2, 35, 24]\n",
    "\n",
    "results_bootstrap_mrnn_female = []\n",
    "\n",
    "for i in indices:\n",
    "       results_bootstrap_mrnn_female.append(toolkits.bootstrap_v2(testing_ae_mrnn_variables_standard, indicating_mask_variable_standard_norm, 1, i, 9000))"
   ]
  },
  {
   "cell_type": "markdown",
   "metadata": {},
   "source": [
    "#### Calculating the mean and standard deviation of the bootstrap distribution"
   ]
  },
  {
   "cell_type": "code",
   "execution_count": 393,
   "metadata": {},
   "outputs": [
    {
     "name": "stdout",
     "output_type": "stream",
     "text": [
      "[np.float64(1.2935755664536321), np.float64(0.6164434389513259), np.float64(0.6773026444534478), np.float64(0.6870786909727755), np.float64(0.5948582802438828), np.float64(0.5839452342568027), np.float64(0.5567168169671148), np.float64(0.7504470639370755), np.float64(0.5741275830245283), np.float64(0.5866013448369327), np.float64(0.8422595413325532), np.float64(0.8398711298558051)]\n",
      "[np.float64(0.3348201581771101), np.float64(0.06944650222593989), np.float64(0.14478900510714163), np.float64(0.03417395759481338), np.float64(0.009064407946767905), np.float64(0.08534796815501383), np.float64(0.022372073254679395), np.float64(0.036103980569769566), np.float64(0.05611758444016825), np.float64(0.08618076338596993), np.float64(0.011422593458141908), np.float64(0.03226758107662835)]\n"
     ]
    }
   ],
   "source": [
    "means_bootstraps_mrnn_female,standards_deviations_mrnn_female = toolkits.calc_mean_and_standard_deviation(results_bootstrap_mrnn_female)\n",
    "\n",
    "print(means_bootstraps_mrnn_female)\n",
    "print(standards_deviations_mrnn_female)\n"
   ]
  },
  {
   "cell_type": "markdown",
   "metadata": {},
   "source": [
    "#### Calculating lower bound and upper bound"
   ]
  },
  {
   "cell_type": "code",
   "execution_count": 394,
   "metadata": {},
   "outputs": [
    {
     "name": "stdout",
     "output_type": "stream",
     "text": [
      "[np.float64(0.6373401151284923), np.float64(0.4803307957362031), np.float64(0.39352140908606426), np.float64(0.6200989648777423), np.float64(0.577092367127039), np.float64(0.41666629051930415), np.float64(0.5128683591284514), np.float64(0.6796845623217933), np.float64(0.4641391386224132), np.float64(0.41769015244026353), np.float64(0.8198716695445523), np.float64(0.7766278330773874)]\n",
      "[np.float64(1.949811017778772), np.float64(0.7525560821664488), np.float64(0.9610838798208313), np.float64(0.7540584170678087), np.float64(0.6126241933607265), np.float64(0.7512241779943012), np.float64(0.6005652748057783), np.float64(0.8212095655523577), np.float64(0.6841160274266433), np.float64(0.7555125372336019), np.float64(0.8646474131205542), np.float64(0.9031144266342229)]\n"
     ]
    }
   ],
   "source": [
    "lower_bounds_mrnn_female, upper_bounds_mrnn_female = toolkits.calc_lower_and_upper_bound(results_bootstrap_mrnn_female, means_bootstraps_mrnn_female,standards_deviations_mrnn_female)\n",
    "\n",
    "print(lower_bounds_mrnn_female)\n",
    "print(upper_bounds_mrnn_female)"
   ]
  },
  {
   "cell_type": "code",
   "execution_count": 395,
   "metadata": {},
   "outputs": [
    {
     "name": "stdout",
     "output_type": "stream",
     "text": [
      "[np.float64(0.6126520319937722), np.float64(0.47409563271282296), np.float64(0.4323250157365883), np.float64(0.6222426612168049), np.float64(0.5771798590122321), np.float64(0.4437001845782444), np.float64(0.5157225624973552), np.float64(0.6822838454699156), np.float64(0.4784126106859384), np.float64(0.44340788766262024), np.float64(0.8199168501473644), np.float64(0.7781097414786914)]\n",
      "[np.float64(2.0159011400360725), np.float64(0.7487762509348388), np.float64(0.9954092308364325), np.float64(0.758028411381523), np.float64(0.6128677582362574), np.float64(0.7729790550788368), np.float64(0.6038603980359288), np.float64(0.8237995923141855), np.float64(0.6974089157890936), np.float64(0.7743290907046212), np.float64(0.8651446658608004), np.float64(0.9041361461481169)]\n"
     ]
    }
   ],
   "source": [
    "lower_bounds_mrnn_female, upper_bounds_mrnn_female = toolkits.calc_lower_and_upper_bound_percentile(results_bootstrap_mrnn_female)\n",
    "\n",
    "print(lower_bounds_mrnn_female)\n",
    "print(upper_bounds_mrnn_female)"
   ]
  },
  {
   "cell_type": "markdown",
   "metadata": {},
   "source": [
    "#### Mean values of lower bound and upper bound\n"
   ]
  },
  {
   "cell_type": "code",
   "execution_count": 396,
   "metadata": {},
   "outputs": [
    {
     "name": "stdout",
     "output_type": "stream",
     "text": [
      "[np.float64(1.3142765860149224), np.float64(0.6114359418238309), np.float64(0.7138671232865104), np.float64(0.6901355362991639), np.float64(0.5950238086242448), np.float64(0.6083396198285406), np.float64(0.5597914802666419), np.float64(0.7530417188920506), np.float64(0.587910763237516), np.float64(0.6088684891836207), np.float64(0.8425307580040824), np.float64(0.8411229438134041)]\n"
     ]
    }
   ],
   "source": [
    "mean_values_ci_mrnn_female = toolkits.calc_mean_values_ci(lower_bounds_mrnn_female, upper_bounds_mrnn_female)\n",
    "\n",
    "print(mean_values_ci_mrnn_female)"
   ]
  },
  {
   "cell_type": "markdown",
   "metadata": {},
   "source": [
    "### Confidence Interval (General)(variable)"
   ]
  },
  {
   "cell_type": "markdown",
   "metadata": {},
   "source": [
    "#### Distribution Bootstrap per variable"
   ]
  },
  {
   "cell_type": "code",
   "execution_count": 32,
   "metadata": {},
   "outputs": [],
   "source": [
    "results_bootstrap_mrnn_general = []\n",
    "\n",
    "for i in range(len(variables)):\n",
    "       results_bootstrap_mrnn_general.append(toolkits.bootstrap_v2(testing_ae_mrnn_variables_standard, indicating_mask_variable_standard_norm, 0, i, 9000))"
   ]
  },
  {
   "cell_type": "markdown",
   "metadata": {},
   "source": [
    "#### Calculating lower bound and upper bound"
   ]
  },
  {
   "cell_type": "code",
   "execution_count": 33,
   "metadata": {},
   "outputs": [
    {
     "name": "stdout",
     "output_type": "stream",
     "text": [
      "[np.float64(0.465647881384931), np.float64(0.4098742560247144), np.float64(0.4628455448174591), np.float64(0.6429093333732719), np.float64(0.6413466522071308), np.float64(0.5049983752809665), np.float64(0.6690266243085883), np.float64(0.5743647097914867), np.float64(0.6605854660481888), np.float64(0.793250463035465), np.float64(0.8216029559185332), np.float64(0.6012753452050034), np.float64(0.6999832034384326), np.float64(0.7456455841579578), np.float64(0.7848713155459872), np.float64(0.6968839131318737), np.float64(0.6652487519370544), np.float64(0.5885648206475895), np.float64(0.11063587247608093), np.float64(0.5910855764218137), np.float64(0.6626921700977987), np.float64(0.6176256543009411), np.float64(0.7007284484859146), np.float64(0.6699547151691615), np.float64(0.6913894388579308), np.float64(0.7391842763585581), np.float64(0.723451758589465), np.float64(0.7835935487759038), np.float64(0.35574677147497863), np.float64(0.6953940718629048), np.float64(0.5020880008313511), np.float64(0.5355841467821398), np.float64(0.4781397039585378), np.float64(0.603871999170149), np.float64(0.18704510490457155), np.float64(0.728804415554635), np.float64(0.12701549222709357)]\n",
      "[np.float64(0.8019986269683672), np.float64(0.6206143558796225), np.float64(0.7479398580625722), np.float64(0.8049958229132621), np.float64(0.7107943666132001), np.float64(0.7028989607142424), np.float64(1.194228780692809), np.float64(0.668325309161537), np.float64(0.6889657551509771), np.float64(0.8476810601934491), np.float64(0.8548902757009799), np.float64(0.68852658434495), np.float64(0.7911214391528316), np.float64(0.8153790920435533), np.float64(0.8078718189445209), np.float64(0.783487842973036), np.float64(0.7645497780836672), np.float64(0.6162024261288487), np.float64(0.11322795109962577), np.float64(0.7114948292701644), np.float64(0.6930236584203594), np.float64(0.646900491013827), np.float64(0.7325195185972895), np.float64(0.7560723118379559), np.float64(0.7676767764588897), np.float64(0.8074207543383601), np.float64(0.8089931272895527), np.float64(0.8350139029219319), np.float64(0.4965512923189125), np.float64(0.7248263712452371), np.float64(0.5387381154460769), np.float64(0.8871309072335638), np.float64(0.5992866118425145), np.float64(0.6391980239195544), np.float64(0.20365821733518774), np.float64(0.7647138582685055), np.float64(0.3128107693252923)]\n"
     ]
    }
   ],
   "source": [
    "lower_bounds_mrnn_general, upper_bounds_mrnn_general = toolkits.calc_lower_and_upper_bound_percentile(results_bootstrap_mrnn_general)\n",
    "\n",
    "print(lower_bounds_mrnn_general)\n",
    "print(upper_bounds_mrnn_general)"
   ]
  },
  {
   "cell_type": "markdown",
   "metadata": {},
   "source": [
    "#### Mean values of lower bound and upper bound\n"
   ]
  },
  {
   "cell_type": "code",
   "execution_count": 34,
   "metadata": {},
   "outputs": [
    {
     "name": "stdout",
     "output_type": "stream",
     "text": [
      "[np.float64(0.6338232541766491), np.float64(0.5152443059521685), np.float64(0.6053927014400157), np.float64(0.723952578143267), np.float64(0.6760705094101654), np.float64(0.6039486679976045), np.float64(0.9316277025006986), np.float64(0.6213450094765118), np.float64(0.674775610599583), np.float64(0.8204657616144571), np.float64(0.8382466158097566), np.float64(0.6449009647749766), np.float64(0.7455523212956321), np.float64(0.7805123381007555), np.float64(0.796371567245254), np.float64(0.7401858780524548), np.float64(0.7148992650103607), np.float64(0.6023836233882192), np.float64(0.11193191178785336), np.float64(0.651290202845989), np.float64(0.677857914259079), np.float64(0.632263072657384), np.float64(0.7166239835416021), np.float64(0.7130135135035587), np.float64(0.7295331076584102), np.float64(0.7733025153484592), np.float64(0.7662224429395088), np.float64(0.8093037258489179), np.float64(0.42614903189694553), np.float64(0.7101102215540709), np.float64(0.520413058138714), np.float64(0.7113575270078518), np.float64(0.5387131579005262), np.float64(0.6215350115448517), np.float64(0.19535166111987964), np.float64(0.7467591369115703), np.float64(0.21991313077619293)]\n"
     ]
    }
   ],
   "source": [
    "mean_values_ci_mrnn_general = toolkits.calc_mean_values_ci(lower_bounds_mrnn_general, upper_bounds_mrnn_general)\n",
    "\n",
    "print(mean_values_ci_mrnn_general)"
   ]
  },
  {
   "cell_type": "markdown",
   "metadata": {},
   "source": [
    "### Confidence Interval (Male Subgroup)"
   ]
  },
  {
   "cell_type": "markdown",
   "metadata": {},
   "source": [
    "#### Distribution Bootstrap for the Top 5 variables with Largest Differences in MAE (Mean Absolute Error) "
   ]
  },
  {
   "cell_type": "code",
   "execution_count": 397,
   "metadata": {},
   "outputs": [],
   "source": [
    "indices = [6, 31, 28, 16, 33, 2, 7, 15, 5, 2, 35, 24]\n",
    "\n",
    "results_bootstrap_mrnn_male = []\n",
    "\n",
    "for i in indices:\n",
    "       results_bootstrap_mrnn_male.append(toolkits.bootstrap_v2(testing_ae_mrnn_variables_standard, indicating_mask_variable_standard_norm, 2, i, 9000))"
   ]
  },
  {
   "cell_type": "markdown",
   "metadata": {},
   "source": [
    "#### Calculating the mean and standard deviation of the bootstrap distribution"
   ]
  },
  {
   "cell_type": "code",
   "execution_count": 398,
   "metadata": {},
   "outputs": [
    {
     "name": "stdout",
     "output_type": "stream",
     "text": [
      "[np.float64(0.843192574716056), np.float64(0.668568255170694), np.float64(0.4492868636799215), np.float64(0.7338100541214645), np.float64(0.637105204616174), np.float64(0.41058765459051233), np.float64(0.6407296710635678), np.float64(0.6907439871649839), np.float64(0.5063212250506773), np.float64(0.41077536732311426), np.float64(0.6641424102935869), np.float64(0.7097950356298286)]\n",
      "[np.float64(0.17814377509333526), np.float64(0.10364648396448216), np.float64(0.0364612662497388), np.float64(0.03652193207443982), np.float64(0.012651710373960564), np.float64(0.017616312301926715), np.float64(0.038040418694449706), np.float64(0.02679927511702984), np.float64(0.03590502969836963), np.float64(0.017568824787085713), np.float64(0.011397749869035587), np.float64(0.026005992094796697)]\n"
     ]
    }
   ],
   "source": [
    "means_bootstraps_mrnn_male,standards_deviations_mrnn_male = toolkits.calc_mean_and_standard_deviation(results_bootstrap_mrnn_male)\n",
    "\n",
    "print(means_bootstraps_mrnn_male)\n",
    "print(standards_deviations_mrnn_male)\n"
   ]
  },
  {
   "cell_type": "markdown",
   "metadata": {},
   "source": [
    "#### Calculating lower bound and upper bound"
   ]
  },
  {
   "cell_type": "code",
   "execution_count": 399,
   "metadata": {},
   "outputs": [
    {
     "name": "stdout",
     "output_type": "stream",
     "text": [
      "[np.float64(0.4940371914631154), np.float64(0.4654248794761007), np.float64(0.37782409499970765), np.float64(0.6622283826097443), np.float64(0.6123083079403796), np.float64(0.3760603169383261), np.float64(0.5661718204656222), np.float64(0.6382183731238249), np.float64(0.43594865997803184), np.float64(0.3763411034897317), np.float64(0.641803231045481), np.float64(0.6588242277417937)]\n",
      "[np.float64(1.1923479579689966), np.float64(0.8717116308652872), np.float64(0.5207496323601354), np.float64(0.8053917256331847), np.float64(0.6619021012919685), np.float64(0.44511499224269857), np.float64(0.7152875216615134), np.float64(0.7432696012061428), np.float64(0.5766937901233229), np.float64(0.4452096311564968), np.float64(0.6864815895416928), np.float64(0.7607658435178635)]\n"
     ]
    }
   ],
   "source": [
    "lower_bounds_mrnn_male, upper_bounds_mrnn_male = toolkits.calc_lower_and_upper_bound(results_bootstrap_mrnn_male, means_bootstraps_mrnn_male,standards_deviations_mrnn_male)\n",
    "\n",
    "print(lower_bounds_mrnn_male)\n",
    "print(upper_bounds_mrnn_male)"
   ]
  },
  {
   "cell_type": "code",
   "execution_count": 400,
   "metadata": {},
   "outputs": [
    {
     "name": "stdout",
     "output_type": "stream",
     "text": [
      "[np.float64(0.4991894056308096), np.float64(0.46620400437360143), np.float64(0.383539541408955), np.float64(0.6650980650926085), np.float64(0.6135516384217858), np.float64(0.37855526823129615), np.float64(0.5707762780527199), np.float64(0.6387407497127994), np.float64(0.44272037855640506), np.float64(0.37872429283426834), np.float64(0.6421288395215133), np.float64(0.6604648874871495)]\n",
      "[np.float64(1.2081729248187498), np.float64(0.8610184344452578), np.float64(0.5256279646644721), np.float64(0.8086929820598046), np.float64(0.6629398481038187), np.float64(0.4476879639204266), np.float64(0.7198204605938501), np.float64(0.7437561968936302), np.float64(0.5847929971006726), np.float64(0.4468672984106811), np.float64(0.6867581547311782), np.float64(0.7636419167633988)]\n"
     ]
    }
   ],
   "source": [
    "lower_bounds_mrnn_male, upper_bounds_mrnn_male = toolkits.calc_lower_and_upper_bound_percentile(results_bootstrap_mrnn_male)\n",
    "\n",
    "print(lower_bounds_mrnn_male)\n",
    "print(upper_bounds_mrnn_male)"
   ]
  },
  {
   "cell_type": "markdown",
   "metadata": {},
   "source": [
    "#### Mean values of lower bound and upper bound\n"
   ]
  },
  {
   "cell_type": "code",
   "execution_count": 401,
   "metadata": {},
   "outputs": [
    {
     "name": "stdout",
     "output_type": "stream",
     "text": [
      "[np.float64(0.8536811652247798), np.float64(0.6636112194094297), np.float64(0.4545837530367136), np.float64(0.7368955235762065), np.float64(0.6382457432628023), np.float64(0.4131216160758614), np.float64(0.645298369323285), np.float64(0.6912484733032147), np.float64(0.5137566878285388), np.float64(0.4127957956224747), np.float64(0.6644434971263458), np.float64(0.7120534021252741)]\n"
     ]
    }
   ],
   "source": [
    "mean_values_ci_mrnn_male = toolkits.calc_mean_values_ci(lower_bounds_mrnn_male, upper_bounds_mrnn_male)\n",
    "\n",
    "print(mean_values_ci_mrnn_male)"
   ]
  },
  {
   "cell_type": "markdown",
   "metadata": {},
   "source": [
    "### Confidence Interval (+65 Subgroup)"
   ]
  },
  {
   "cell_type": "markdown",
   "metadata": {},
   "source": [
    "#### Distribution Bootstrap for the Top 5 variables with Largest Differences in MAE (Mean Absolute Error) "
   ]
  },
  {
   "cell_type": "code",
   "execution_count": 402,
   "metadata": {},
   "outputs": [],
   "source": [
    "indices = [6, 32, 0, 28, 5, 31, 3]\n",
    "\n",
    "results_bootstrap_mrnn_more_than_or_equal_to_65_subgroup = []\n",
    "\n",
    "for i in indices:\n",
    "       results_bootstrap_mrnn_more_than_or_equal_to_65_subgroup.append(toolkits.bootstrap_v2(testing_ae_mrnn_variables_standard, indicating_mask_variable_standard_norm, 4, i, 9000))\n"
   ]
  },
  {
   "cell_type": "markdown",
   "metadata": {},
   "source": [
    "#### Calculating the mean and standard deviation of the bootstrap distribution"
   ]
  },
  {
   "cell_type": "code",
   "execution_count": 403,
   "metadata": {},
   "outputs": [
    {
     "name": "stdout",
     "output_type": "stream",
     "text": [
      "[np.float64(0.6685860079224264), np.float64(0.5272663685400262), np.float64(0.7695863874270902), np.float64(0.44155316627573615), np.float64(0.48557998905047123), np.float64(0.934827689578139), np.float64(0.6820614395117011)]\n",
      "[np.float64(0.10018205121265905), np.float64(0.05013941941002657), np.float64(0.13086064525354313), np.float64(0.036120230106595166), np.float64(0.01922782751940422), np.float64(0.2804046337041767), np.float64(0.06877446561494749)]\n"
     ]
    }
   ],
   "source": [
    "means_bootstraps_mrnn_more_than_or_equal_to_65_subgroup,standards_deviations_mrnn_more_than_or_equal_to_65_subgroup = toolkits.calc_mean_and_standard_deviation(results_bootstrap_mrnn_more_than_or_equal_to_65_subgroup)\n",
    "\n",
    "print(means_bootstraps_mrnn_more_than_or_equal_to_65_subgroup)\n",
    "print(standards_deviations_mrnn_more_than_or_equal_to_65_subgroup)"
   ]
  },
  {
   "cell_type": "markdown",
   "metadata": {},
   "source": [
    "#### Calculating lower bound and upper bound\n"
   ]
  },
  {
   "cell_type": "code",
   "execution_count": 404,
   "metadata": {},
   "outputs": [
    {
     "name": "stdout",
     "output_type": "stream",
     "text": [
      "[np.float64(0.47223279564826737), np.float64(0.4289949122906256), np.float64(0.5131042357364732), np.float64(0.37075881615351025), np.float64(0.4478941396114908), np.float64(0.38524470641980657), np.float64(0.5472659638504156)]\n",
      "[np.float64(0.8649392201965854), np.float64(0.6255378247894268), np.float64(1.0260685391177071), np.float64(0.512347516397962), np.float64(0.5232658384894516), np.float64(1.4844106727364714), np.float64(0.8168569151729865)]\n"
     ]
    }
   ],
   "source": [
    "lower_bounds_mrnn_more_than_or_equal_to_65_subgroup, upper_bounds_mrnn_more_than_or_equal_to_65_subgroup = toolkits.calc_lower_and_upper_bound(results_bootstrap_mrnn_more_than_or_equal_to_65_subgroup, means_bootstraps_mrnn_more_than_or_equal_to_65_subgroup,standards_deviations_mrnn_more_than_or_equal_to_65_subgroup)\n",
    "\n",
    "print(lower_bounds_mrnn_more_than_or_equal_to_65_subgroup)\n",
    "print(upper_bounds_mrnn_more_than_or_equal_to_65_subgroup)\n"
   ]
  },
  {
   "cell_type": "code",
   "execution_count": 405,
   "metadata": {},
   "outputs": [
    {
     "name": "stdout",
     "output_type": "stream",
     "text": [
      "[np.float64(0.4699906828380936), np.float64(0.44279438851118996), np.float64(0.5418240742184548), np.float64(0.3749656354219161), np.float64(0.44722095873791734), np.float64(0.4724457637819884), np.float64(0.5513685298243582)]\n",
      "[np.float64(0.8653160622719036), np.float64(0.6373761340725912), np.float64(1.0537990044224066), np.float64(0.5154765764513622), np.float64(0.5230084420416287), np.float64(1.5622426368143583), np.float64(0.8202436064727875)]\n"
     ]
    }
   ],
   "source": [
    "lower_bounds_mrnn_more_than_or_equal_to_65_subgroup, upper_bounds_mrnn_more_than_or_equal_to_65_subgroup = toolkits.calc_lower_and_upper_bound_percentile(results_bootstrap_mrnn_more_than_or_equal_to_65_subgroup)\n",
    "\n",
    "print(lower_bounds_mrnn_more_than_or_equal_to_65_subgroup)\n",
    "print(upper_bounds_mrnn_more_than_or_equal_to_65_subgroup)"
   ]
  },
  {
   "cell_type": "markdown",
   "metadata": {},
   "source": [
    "#### Mean values of lower bound and upper bound"
   ]
  },
  {
   "cell_type": "code",
   "execution_count": 406,
   "metadata": {},
   "outputs": [
    {
     "name": "stdout",
     "output_type": "stream",
     "text": [
      "[np.float64(0.6676533725549986), np.float64(0.5400852612918906), np.float64(0.7978115393204307), np.float64(0.44522110593663916), np.float64(0.485114700389773), np.float64(1.0173442002981734), np.float64(0.6858060681485729)]\n"
     ]
    }
   ],
   "source": [
    "mean_values_ci_mrnn_more_than_or_equal_to_65_subgroup  = toolkits.calc_mean_values_ci(lower_bounds_mrnn_more_than_or_equal_to_65_subgroup , upper_bounds_mrnn_more_than_or_equal_to_65_subgroup)\n",
    "\n",
    "print(mean_values_ci_mrnn_more_than_or_equal_to_65_subgroup)"
   ]
  },
  {
   "cell_type": "markdown",
   "metadata": {},
   "source": [
    "### Confidence Interval (-65 subgroup)"
   ]
  },
  {
   "cell_type": "markdown",
   "metadata": {},
   "source": [
    "#### Distribution Bootstrap for the Top 5 variables with Largest Differences in MAE (Mean Absolute Error) "
   ]
  },
  {
   "cell_type": "code",
   "execution_count": 407,
   "metadata": {},
   "outputs": [],
   "source": [
    "indices = [6, 32, 0, 28, 5, 31, 3]\n",
    "\n",
    "results_bootstrap_mrnn_less_than_65_subgroup = []\n",
    "\n",
    "for i in indices:\n",
    "       results_bootstrap_mrnn_less_than_65_subgroup.append(toolkits.bootstrap_v2(testing_ae_mrnn_variables_standard, indicating_mask_variable_standard_norm, 5, i, 9000))\n",
    "\n"
   ]
  },
  {
   "cell_type": "markdown",
   "metadata": {},
   "source": [
    "#### Calculating the mean and standard deviation of the bootstrap distribution"
   ]
  },
  {
   "cell_type": "code",
   "execution_count": 408,
   "metadata": {},
   "outputs": [
    {
     "name": "stdout",
     "output_type": "stream",
     "text": [
      "[np.float64(1.0125284495848363), np.float64(0.48691819213338233), np.float64(1.1932477112152653), np.float64(0.6511956583092404), np.float64(0.6256062744386217), np.float64(0.7499703450677268), np.float64(0.7791244196185086)]\n",
      "[np.float64(0.8325073052733275), np.float64(0.054879287380068906), np.float64(0.4307696183017506), np.float64(0.13903843147349368), np.float64(0.07340469975151238), np.float64(0.056076356745105624), np.float64(0.061780433705196015)]\n"
     ]
    }
   ],
   "source": [
    "means_bootstraps_mrnn_less_than_65_subgroup,standards_deviations_mrnn_less_than_65_subgroup = toolkits.calc_mean_and_standard_deviation(results_bootstrap_mrnn_less_than_65_subgroup)\n",
    "\n",
    "print(means_bootstraps_mrnn_less_than_65_subgroup)\n",
    "print(standards_deviations_mrnn_less_than_65_subgroup)\n"
   ]
  },
  {
   "cell_type": "markdown",
   "metadata": {},
   "source": [
    "#### Calculating lower bound and upper bound"
   ]
  },
  {
   "cell_type": "code",
   "execution_count": 409,
   "metadata": {},
   "outputs": [
    {
     "name": "stdout",
     "output_type": "stream",
     "text": [
      "[np.float64(-0.6191558856173778), np.float64(0.37935676537122376), np.float64(0.348954773709768), np.float64(0.3786853401542525), np.float64(0.4817357066296812), np.float64(0.6400627054631), np.float64(0.65803699460706)]\n",
      "[np.float64(2.6442127847870505), np.float64(0.5944796188955409), np.float64(2.0375406487207623), np.float64(0.9237059764642284), np.float64(0.7694768422475622), np.float64(0.8598779846723535), np.float64(0.9002118446299573)]\n"
     ]
    }
   ],
   "source": [
    "lower_bounds_mrnn_less_than_65_subgroup, upper_bounds_mrnn_less_than_65_subgroup = toolkits.calc_lower_and_upper_bound(results_bootstrap_mrnn_less_than_65_subgroup, means_bootstraps_mrnn_less_than_65_subgroup, standards_deviations_mrnn_less_than_65_subgroup)\n",
    "\n",
    "print(lower_bounds_mrnn_less_than_65_subgroup)\n",
    "print(upper_bounds_mrnn_less_than_65_subgroup)"
   ]
  },
  {
   "cell_type": "code",
   "execution_count": 410,
   "metadata": {},
   "outputs": [
    {
     "name": "stdout",
     "output_type": "stream",
     "text": [
      "[np.float64(0.0), np.float64(0.3920449890748008), np.float64(0.5358780023016734), np.float64(0.4153319586478943), np.float64(0.49591883952098054), np.float64(0.6242850411015622), np.float64(0.6601411430538056)]\n",
      "[np.float64(2.2237061316119653), np.float64(0.6075882032367239), np.float64(2.1480564707077767), np.float64(0.9573257099336568), np.float64(0.783888908685614), np.float64(0.8406452405450803), np.float64(0.902299627619846)]\n"
     ]
    }
   ],
   "source": [
    "lower_bounds_mrnn_less_than_65_subgroup, upper_bounds_mrnn_less_than_65_subgroup = toolkits.calc_lower_and_upper_bound_percentile(results_bootstrap_mrnn_less_than_65_subgroup)\n",
    "\n",
    "print(lower_bounds_mrnn_less_than_65_subgroup)\n",
    "print(upper_bounds_mrnn_less_than_65_subgroup)"
   ]
  },
  {
   "cell_type": "markdown",
   "metadata": {},
   "source": [
    "#### Mean values of lower bound and upper bound"
   ]
  },
  {
   "cell_type": "code",
   "execution_count": 411,
   "metadata": {},
   "outputs": [
    {
     "name": "stdout",
     "output_type": "stream",
     "text": [
      "[np.float64(1.1118530658059826), np.float64(0.49981659615576235), np.float64(1.341967236504725), np.float64(0.6863288342907756), np.float64(0.6399038741032973), np.float64(0.7324651408233213), np.float64(0.7812203853368258)]\n"
     ]
    }
   ],
   "source": [
    "mean_values_ci_mrnn_less_than_65_subgroup  = toolkits.calc_mean_values_ci(lower_bounds_mrnn_less_than_65_subgroup, upper_bounds_mrnn_less_than_65_subgroup)\n",
    "\n",
    "print(mean_values_ci_mrnn_less_than_65_subgroup)"
   ]
  },
  {
   "cell_type": "markdown",
   "metadata": {},
   "source": [
    "### Confidence Interval (ICUType 1 subgroup)"
   ]
  },
  {
   "cell_type": "markdown",
   "metadata": {},
   "source": [
    "#### Distribution Bootstrap for the Top 5 variables with Largest Differences in MAE (Mean Absolute Error) "
   ]
  },
  {
   "cell_type": "code",
   "execution_count": 412,
   "metadata": {},
   "outputs": [],
   "source": [
    "indices = [28, 31, 6, 0, 32, 24]\n",
    "\n",
    "results_bootstrap_mrnn_ICUType_1_subgroup = []\n",
    "\n",
    "for i in indices:\n",
    "       results_bootstrap_mrnn_ICUType_1_subgroup.append(toolkits.bootstrap_v2(testing_ae_mrnn_variables_standard, indicating_mask_variable_standard_norm, 6, i, 9000))\n",
    "\n"
   ]
  },
  {
   "cell_type": "markdown",
   "metadata": {},
   "source": [
    "#### Calculating the mean and standard deviation of the bootstrap distribution"
   ]
  },
  {
   "cell_type": "code",
   "execution_count": 413,
   "metadata": {},
   "outputs": [
    {
     "name": "stdout",
     "output_type": "stream",
     "text": [
      "[np.float64(0.5943122351342515), np.float64(1.296183923906161), np.float64(0.90119808488499), np.float64(0.3888843189711193), np.float64(0.7059273759600687), np.float64(0.7213178588104578)]\n",
      "[np.float64(0.18869648636668113), np.float64(0.3713588540235834), np.float64(0.24203709860376785), np.float64(0.04280483855469153), np.float64(0.11865358177680002), np.float64(0.053431654944320076)]\n"
     ]
    }
   ],
   "source": [
    "means_bootstraps_mrnn_ICUType_1_subgroup, standards_deviations_mrnn_ICUType_1_subgroup = toolkits.calc_mean_and_standard_deviation(results_bootstrap_mrnn_ICUType_1_subgroup)\n",
    "\n",
    "print(means_bootstraps_mrnn_ICUType_1_subgroup)\n",
    "print(standards_deviations_mrnn_ICUType_1_subgroup)\n"
   ]
  },
  {
   "cell_type": "markdown",
   "metadata": {},
   "source": [
    "#### Calculating lower bound and upper bound"
   ]
  },
  {
   "cell_type": "code",
   "execution_count": 414,
   "metadata": {},
   "outputs": [
    {
     "name": "stdout",
     "output_type": "stream",
     "text": [
      "[np.float64(0.22447391784630316), np.float64(0.5683339446798702), np.float64(0.4268140886990352), np.float64(0.30498837703987236), np.float64(0.4733706290408626), np.float64(0.616593739485219)]\n",
      "[np.float64(0.9641505524221998), np.float64(2.0240339031324517), np.float64(1.3755820810709447), np.float64(0.47278026090236625), np.float64(0.9384841228792749), np.float64(0.8260419781356967)]\n"
     ]
    }
   ],
   "source": [
    "lower_bounds_mrnn_ICUType_1_subgroup, upper_bounds_mrnn_ICUType_1_subgroup = toolkits.calc_lower_and_upper_bound(results_bootstrap_mrnn_ICUType_1_subgroup, means_bootstraps_mrnn_ICUType_1_subgroup, standards_deviations_mrnn_ICUType_1_subgroup)\n",
    "\n",
    "print(lower_bounds_mrnn_ICUType_1_subgroup)\n",
    "print(upper_bounds_mrnn_ICUType_1_subgroup)"
   ]
  },
  {
   "cell_type": "code",
   "execution_count": 415,
   "metadata": {},
   "outputs": [
    {
     "name": "stdout",
     "output_type": "stream",
     "text": [
      "[np.float64(0.3331194822164736), np.float64(0.6397649554169416), np.float64(0.47440347159410723), np.float64(0.30344414263831104), np.float64(0.49718343591820835), np.float64(0.6194561846042215)]\n",
      "[np.float64(1.0307236660324435), np.float64(2.0993957435220927), np.float64(1.4194438922686403), np.float64(0.4732330650906346), np.float64(0.9579007344805754), np.float64(0.8292213870649836)]\n"
     ]
    }
   ],
   "source": [
    "lower_bounds_mrnn_ICUType_1_subgroup, upper_bounds_mrnn_ICUType_1_subgroup = toolkits.calc_lower_and_upper_bound_percentile(results_bootstrap_mrnn_ICUType_1_subgroup)\n",
    "\n",
    "print(lower_bounds_mrnn_ICUType_1_subgroup)\n",
    "print(upper_bounds_mrnn_ICUType_1_subgroup)"
   ]
  },
  {
   "cell_type": "markdown",
   "metadata": {},
   "source": [
    "#### Mean values of lower bound and upper bound"
   ]
  },
  {
   "cell_type": "code",
   "execution_count": 416,
   "metadata": {},
   "outputs": [
    {
     "name": "stdout",
     "output_type": "stream",
     "text": [
      "[np.float64(0.6819215741244585), np.float64(1.3695803494695171), np.float64(0.9469236819313738), np.float64(0.38833860386447283), np.float64(0.7275420851993919), np.float64(0.7243387858346025)]\n"
     ]
    }
   ],
   "source": [
    "mean_values_ci_mrnn_ICUType_1_subgroup  = toolkits.calc_mean_values_ci(lower_bounds_mrnn_ICUType_1_subgroup, upper_bounds_mrnn_ICUType_1_subgroup)\n",
    "\n",
    "print(mean_values_ci_mrnn_ICUType_1_subgroup)"
   ]
  },
  {
   "cell_type": "markdown",
   "metadata": {},
   "source": [
    "### Confidence Interval (ICUType 2 subgroup)"
   ]
  },
  {
   "cell_type": "markdown",
   "metadata": {},
   "source": [
    "#### Distribution Bootstrap for the Top 5 variables with Largest Differences in MAE (Mean Absolute Error) "
   ]
  },
  {
   "cell_type": "code",
   "execution_count": 417,
   "metadata": {},
   "outputs": [],
   "source": [
    "indices = [28, 31, 6, 0, 32, 24]\n",
    "\n",
    "results_bootstrap_mrnn_ICUType_2_subgroup = []\n",
    "\n",
    "for i in indices:\n",
    "       results_bootstrap_mrnn_ICUType_2_subgroup.append(toolkits.bootstrap_v2(testing_ae_mrnn_variables_standard, indicating_mask_variable_standard_norm, 7, i, 9000))\n",
    "\n"
   ]
  },
  {
   "cell_type": "markdown",
   "metadata": {},
   "source": [
    "#### Calculating the mean and standard deviation of the bootstrap distribution"
   ]
  },
  {
   "cell_type": "code",
   "execution_count": 418,
   "metadata": {},
   "outputs": [
    {
     "name": "stdout",
     "output_type": "stream",
     "text": [
      "[np.float64(0.3916590391244182), np.float64(0.4072828872551072), np.float64(0.0), np.float64(0.5591322006578231), np.float64(0.425918563477567), np.float64(0.598082443704859)]\n",
      "[np.float64(0.025942388243406177), np.float64(0.1335303132323623), np.float64(0.0), np.float64(0.021966787016863255), np.float64(0.03607830122645071), np.float64(0.022204161183700815)]\n"
     ]
    }
   ],
   "source": [
    "means_bootstraps_mrnn_ICUType_2_subgroup, standards_deviations_mrnn_ICUType_2_subgroup = toolkits.calc_mean_and_standard_deviation(results_bootstrap_mrnn_ICUType_2_subgroup)\n",
    "\n",
    "print(means_bootstraps_mrnn_ICUType_2_subgroup)\n",
    "print(standards_deviations_mrnn_ICUType_2_subgroup) \n"
   ]
  },
  {
   "cell_type": "markdown",
   "metadata": {},
   "source": [
    "#### Calculating lower bound and upper bound"
   ]
  },
  {
   "cell_type": "code",
   "execution_count": 419,
   "metadata": {},
   "outputs": [
    {
     "name": "stdout",
     "output_type": "stream",
     "text": [
      "[np.float64(0.34081289249438673), np.float64(0.14556828247532488), np.float64(0.0), np.float64(0.516078089248709), np.float64(0.35520639245033636), np.float64(0.5545630874778831)]\n",
      "[np.float64(0.44250518575444964), np.float64(0.6689974920348896), np.float64(0.0), np.float64(0.6021863120669372), np.float64(0.49663073450479767), np.float64(0.6416017999318349)]\n"
     ]
    }
   ],
   "source": [
    "lower_bounds_mrnn_ICUType_2_subgroup, upper_bounds_mrnn_ICUType_2_subgroup = toolkits.calc_lower_and_upper_bound(results_bootstrap_mrnn_ICUType_2_subgroup, means_bootstraps_mrnn_ICUType_2_subgroup, standards_deviations_mrnn_ICUType_2_subgroup)\n",
    "\n",
    "print(lower_bounds_mrnn_ICUType_2_subgroup)\n",
    "print(upper_bounds_mrnn_ICUType_2_subgroup)"
   ]
  },
  {
   "cell_type": "code",
   "execution_count": 420,
   "metadata": {},
   "outputs": [
    {
     "name": "stdout",
     "output_type": "stream",
     "text": [
      "[np.float64(0.343457425628546), np.float64(0.10866928622836351), np.float64(0.0), np.float64(0.5143712942416259), np.float64(0.35884361062116316), np.float64(0.5550634735484589)]\n",
      "[np.float64(0.44405091119660894), np.float64(0.6781899676363381), np.float64(0.0), np.float64(0.6006455414289316), np.float64(0.4985700143566348), np.float64(0.6417498219281579)]\n"
     ]
    }
   ],
   "source": [
    "lower_bounds_mrnn_ICUType_2_subgroup, upper_bounds_mrnn_ICUType_2_subgroup = toolkits.calc_lower_and_upper_bound_percentile(results_bootstrap_mrnn_ICUType_2_subgroup)\n",
    "\n",
    "print(lower_bounds_mrnn_ICUType_2_subgroup)\n",
    "print(upper_bounds_mrnn_ICUType_2_subgroup)"
   ]
  },
  {
   "cell_type": "markdown",
   "metadata": {},
   "source": [
    "#### Mean values of lower bound and upper bound"
   ]
  },
  {
   "cell_type": "code",
   "execution_count": 421,
   "metadata": {},
   "outputs": [
    {
     "name": "stdout",
     "output_type": "stream",
     "text": [
      "[np.float64(0.3937541684125775), np.float64(0.3934296269323508), np.float64(0.0), np.float64(0.5575084178352787), np.float64(0.42870681248889897), np.float64(0.5984066477383083)]\n"
     ]
    }
   ],
   "source": [
    "mean_values_ci_mrnn_ICUType_2_subgroup  = toolkits.calc_mean_values_ci(lower_bounds_mrnn_ICUType_2_subgroup, upper_bounds_mrnn_ICUType_2_subgroup)\n",
    "\n",
    "print(mean_values_ci_mrnn_ICUType_2_subgroup)"
   ]
  },
  {
   "cell_type": "markdown",
   "metadata": {},
   "source": [
    "### Confidence Interval (ICUType 3 subgroup)"
   ]
  },
  {
   "cell_type": "markdown",
   "metadata": {},
   "source": [
    "#### Distribution Bootstrap for the Top 5 variables with Largest Differences in MAE (Mean Absolute Error) "
   ]
  },
  {
   "cell_type": "code",
   "execution_count": 422,
   "metadata": {},
   "outputs": [],
   "source": [
    "indices = [28, 31, 6, 0, 32, 24]\n",
    "\n",
    "results_bootstrap_mrnn_ICUType_3_subgroup = []\n",
    "\n",
    "for i in indices:\n",
    "       results_bootstrap_mrnn_ICUType_3_subgroup.append(toolkits.bootstrap_v2(testing_ae_mrnn_variables_standard, indicating_mask_variable_standard_norm, 8, i, 9000))\n",
    "\n"
   ]
  },
  {
   "cell_type": "markdown",
   "metadata": {},
   "source": [
    "#### Calculating the mean and standard deviation of the bootstrap distribution"
   ]
  },
  {
   "cell_type": "code",
   "execution_count": 423,
   "metadata": {},
   "outputs": [
    {
     "name": "stdout",
     "output_type": "stream",
     "text": [
      "[np.float64(1.7201421783191229), np.float64(0.6712263138326279), np.float64(0.7099729443571801), np.float64(1.2177127705892345), np.float64(0.5233024478153722), np.float64(1.0373984783765282)]\n",
      "[np.float64(0.4633041168516057), np.float64(0.07452755651443149), np.float64(0.2467238749310891), np.float64(0.44616363311206336), np.float64(0.02427799239644668), np.float64(0.05240905524160113)]\n"
     ]
    }
   ],
   "source": [
    "means_bootstraps_mrnn_ICUType_3_subgroup, standards_deviations_mrnn_ICUType_3_subgroup = toolkits.calc_mean_and_standard_deviation(results_bootstrap_mrnn_ICUType_3_subgroup)\n",
    "\n",
    "print(means_bootstraps_mrnn_ICUType_3_subgroup)\n",
    "print(standards_deviations_mrnn_ICUType_3_subgroup)\n"
   ]
  },
  {
   "cell_type": "markdown",
   "metadata": {},
   "source": [
    "#### Calculating lower bound and upper bound"
   ]
  },
  {
   "cell_type": "code",
   "execution_count": 424,
   "metadata": {},
   "outputs": [
    {
     "name": "stdout",
     "output_type": "stream",
     "text": [
      "[np.float64(0.8120827954008389), np.float64(0.5251549872085687), np.float64(0.2264030353660807), np.float64(0.34324811847804804), np.float64(0.4757184571013994), np.float64(0.9346786176392199)]\n",
      "[np.float64(2.6282015612374066), np.float64(0.8172976404566871), np.float64(1.1935428533482795), np.float64(2.092177422700421), np.float64(0.570886438529345), np.float64(1.1401183391138365)]\n"
     ]
    }
   ],
   "source": [
    "lower_bounds_mrnn_ICUType_3_subgroup, upper_bounds_mrnn_ICUType_3_subgroup = toolkits.calc_lower_and_upper_bound(results_bootstrap_mrnn_ICUType_3_subgroup, means_bootstraps_mrnn_ICUType_3_subgroup, standards_deviations_mrnn_ICUType_3_subgroup)\n",
    "\n",
    "print(lower_bounds_mrnn_ICUType_3_subgroup)\n",
    "print(upper_bounds_mrnn_ICUType_3_subgroup)"
   ]
  },
  {
   "cell_type": "code",
   "execution_count": 425,
   "metadata": {},
   "outputs": [
    {
     "name": "stdout",
     "output_type": "stream",
     "text": [
      "[np.float64(0.9013282987761839), np.float64(0.5042459853271846), np.float64(0.07943431525266052), np.float64(0.523540281662038), np.float64(0.47710069473278066), np.float64(0.9355301158593502)]\n",
      "[np.float64(2.7268963440548806), np.float64(0.7919135003794507), np.float64(1.1458615561271466), np.float64(2.201580622231096), np.float64(0.5720822825126277), np.float64(1.1436354969336824)]\n"
     ]
    }
   ],
   "source": [
    "lower_bounds_mrnn_ICUType_3_subgroup, upper_bounds_mrnn_ICUType_3_subgroup = toolkits.calc_lower_and_upper_bound_percentile(results_bootstrap_mrnn_ICUType_3_subgroup)\n",
    "\n",
    "print(lower_bounds_mrnn_ICUType_3_subgroup)\n",
    "print(upper_bounds_mrnn_ICUType_3_subgroup)"
   ]
  },
  {
   "cell_type": "markdown",
   "metadata": {},
   "source": [
    "#### Mean values of lower bound and upper bound"
   ]
  },
  {
   "cell_type": "code",
   "execution_count": 426,
   "metadata": {},
   "outputs": [
    {
     "name": "stdout",
     "output_type": "stream",
     "text": [
      "[np.float64(1.8141123214155321), np.float64(0.6480797428533176), np.float64(0.6126479356899035), np.float64(1.362560451946567), np.float64(0.5245914886227042), np.float64(1.0395828063965162)]\n"
     ]
    }
   ],
   "source": [
    "mean_values_ci_mrnn_ICUType_3_subgroup  = toolkits.calc_mean_values_ci(lower_bounds_mrnn_ICUType_3_subgroup, upper_bounds_mrnn_ICUType_3_subgroup)\n",
    "\n",
    "print(mean_values_ci_mrnn_ICUType_3_subgroup)"
   ]
  },
  {
   "cell_type": "markdown",
   "metadata": {},
   "source": [
    "### Confidence Interval (ICUType 4 subgroup)"
   ]
  },
  {
   "cell_type": "markdown",
   "metadata": {},
   "source": [
    "#### Distribution Bootstrap for the Top 5 variables with Largest Differences in MAE (Mean Absolute Error) "
   ]
  },
  {
   "cell_type": "code",
   "execution_count": 427,
   "metadata": {},
   "outputs": [],
   "source": [
    "indices = [28, 31, 6, 0, 32, 24]\n",
    "\n",
    "\n",
    "results_bootstrap_mrnn_ICUType_4_subgroup = []\n",
    "\n",
    "for i in indices:\n",
    "       results_bootstrap_mrnn_ICUType_4_subgroup.append(toolkits.bootstrap_v2(testing_ae_mrnn_variables_standard, indicating_mask_variable_standard_norm, 9, i, 9000))\n",
    "\n"
   ]
  },
  {
   "cell_type": "markdown",
   "metadata": {},
   "source": [
    "#### Calculating the mean and standard deviation of the bootstrap distribution"
   ]
  },
  {
   "cell_type": "code",
   "execution_count": 428,
   "metadata": {},
   "outputs": [
    {
     "name": "stdout",
     "output_type": "stream",
     "text": [
      "[np.float64(0.5129584753292196), np.float64(0.8049779680766729), np.float64(0.6932415830956783), np.float64(0.5925069675680987), np.float64(0.41812632517087545), np.float64(0.67093157463133)]\n",
      "[np.float64(0.10738153608918637), np.float64(0.18972691290936852), np.float64(0.2824699624350711), np.float64(0.06466034510293105), np.float64(0.038938005126450716), np.float64(0.02695168857050118)]\n"
     ]
    }
   ],
   "source": [
    "means_bootstraps_mrnn_ICUType_4_subgroup, standards_deviations_mrnn_ICUType_4_subgroup = toolkits.calc_mean_and_standard_deviation(results_bootstrap_mrnn_ICUType_4_subgroup)\n",
    "\n",
    "print(means_bootstraps_mrnn_ICUType_4_subgroup)\n",
    "print(standards_deviations_mrnn_ICUType_4_subgroup)\n"
   ]
  },
  {
   "cell_type": "markdown",
   "metadata": {},
   "source": [
    "#### Calculating lower bound and upper bound"
   ]
  },
  {
   "cell_type": "code",
   "execution_count": 429,
   "metadata": {},
   "outputs": [
    {
     "name": "stdout",
     "output_type": "stream",
     "text": [
      "[np.float64(0.30249453198982623), np.float64(0.4331200518763431), np.float64(0.1396106300085569), np.float64(0.465775019938423), np.float64(0.341809237493196), np.float64(0.6181072357106079)]\n",
      "[np.float64(0.7234224186686129), np.float64(1.1768358842770026), np.float64(1.2468725361827997), np.float64(0.7192389151977745), np.float64(0.49444341284855486), np.float64(0.7237559135520522)]\n"
     ]
    }
   ],
   "source": [
    "lower_bounds_mrnn_ICUType_4_subgroup, upper_bounds_mrnn_ICUType_4_subgroup = toolkits.calc_lower_and_upper_bound(results_bootstrap_mrnn_ICUType_4_subgroup, means_bootstraps_mrnn_ICUType_4_subgroup, standards_deviations_mrnn_ICUType_4_subgroup)\n",
    "\n",
    "print(lower_bounds_mrnn_ICUType_4_subgroup)\n",
    "print(upper_bounds_mrnn_ICUType_4_subgroup)"
   ]
  },
  {
   "cell_type": "code",
   "execution_count": 430,
   "metadata": {},
   "outputs": [
    {
     "name": "stdout",
     "output_type": "stream",
     "text": [
      "[np.float64(0.33563338105917867), np.float64(0.5495089491374031), np.float64(0.24243039744972775), np.float64(0.47460904439599005), np.float64(0.33886485296293595), np.float64(0.6189131433405981)]\n",
      "[np.float64(0.7545120382427323), np.float64(1.266807378181786), np.float64(1.3201168843565492), np.float64(0.726770121225473), np.float64(0.49087161449270034), np.float64(0.7253197030826162)]\n"
     ]
    }
   ],
   "source": [
    "lower_bounds_mrnn_ICUType_4_subgroup, upper_bounds_mrnn_ICUType_4_subgroup = toolkits.calc_lower_and_upper_bound_percentile(results_bootstrap_mrnn_ICUType_4_subgroup)\n",
    "\n",
    "print(lower_bounds_mrnn_ICUType_4_subgroup)\n",
    "print(upper_bounds_mrnn_ICUType_4_subgroup)"
   ]
  },
  {
   "cell_type": "markdown",
   "metadata": {},
   "source": [
    "#### Mean values of lower bound and upper bound"
   ]
  },
  {
   "cell_type": "code",
   "execution_count": 431,
   "metadata": {},
   "outputs": [
    {
     "name": "stdout",
     "output_type": "stream",
     "text": [
      "[np.float64(0.5450727096509554), np.float64(0.9081581636595946), np.float64(0.7812736409031384), np.float64(0.6006895828107315), np.float64(0.4148682337278181), np.float64(0.6721164232116071)]\n"
     ]
    }
   ],
   "source": [
    "mean_values_ci_mrnn_ICUType_4_subgroup  = toolkits.calc_mean_values_ci(lower_bounds_mrnn_ICUType_4_subgroup, upper_bounds_mrnn_ICUType_4_subgroup)\n",
    "\n",
    "print(mean_values_ci_mrnn_ICUType_4_subgroup)"
   ]
  },
  {
   "cell_type": "markdown",
   "metadata": {},
   "source": [
    "### Confidence Interval (Undefined classification subgroup)"
   ]
  },
  {
   "cell_type": "markdown",
   "metadata": {},
   "source": [
    "#### Distribution Bootstrap for the Top 5 variables with Largest Differences in MAE (Mean Absolute Error) "
   ]
  },
  {
   "cell_type": "code",
   "execution_count": 432,
   "metadata": {},
   "outputs": [],
   "source": [
    "indices = [32, 0, 6, 31, 5, 1, 35]\n",
    "\n",
    "results_bootstrap_mrnn_undefined_classification_subgroup = []\n",
    "\n",
    "for i in indices:\n",
    "       results_bootstrap_mrnn_undefined_classification_subgroup.append(toolkits.bootstrap_v2(testing_ae_mrnn_variables_standard, indicating_mask_variable_standard_norm, 10, i, 9000))\n",
    "\n"
   ]
  },
  {
   "cell_type": "markdown",
   "metadata": {},
   "source": [
    "#### Calculating the mean and standard deviation of the bootstrap distribution"
   ]
  },
  {
   "cell_type": "code",
   "execution_count": 433,
   "metadata": {},
   "outputs": [
    {
     "name": "stdout",
     "output_type": "stream",
     "text": [
      "[np.float64(0.4834588311090102), np.float64(0.5338851054050414), np.float64(0.5737546291785596), np.float64(0.7572050543606113), np.float64(0.6348404046401104), np.float64(0.5221624689701393), np.float64(0.7690207928427124)]\n",
      "[np.float64(0.035947440034432995), np.float64(0.04796417009426909), np.float64(0.15997792293161645), np.float64(0.12243525026512263), np.float64(0.11238341168204886), np.float64(0.09257063040519851), np.float64(0.01348167406637216)]\n"
     ]
    }
   ],
   "source": [
    "means_bootstraps_mrnn_undefined_classification_subgroup, standards_deviations_mrnn_undefined_classification_subgroup = toolkits.calc_mean_and_standard_deviation(results_bootstrap_mrnn_undefined_classification_subgroup)\n",
    "\n",
    "print(means_bootstraps_mrnn_undefined_classification_subgroup)\n",
    "print(standards_deviations_mrnn_undefined_classification_subgroup)\n"
   ]
  },
  {
   "cell_type": "markdown",
   "metadata": {},
   "source": [
    "#### Calculating lower bound and upper bound"
   ]
  },
  {
   "cell_type": "code",
   "execution_count": 434,
   "metadata": {},
   "outputs": [
    {
     "name": "stdout",
     "output_type": "stream",
     "text": [
      "[np.float64(0.4130031433051083), np.float64(0.43987705947192085), np.float64(0.2602036619110669), np.float64(0.5172363734028228), np.float64(0.41457296528355664), np.float64(0.3407273673497817), np.float64(0.7425971972213153)]\n",
      "[np.float64(0.5539145189129122), np.float64(0.6278931513381619), np.float64(0.8873055964460522), np.float64(0.9971737353183997), np.float64(0.8551078439966642), np.float64(0.7035975705904969), np.float64(0.7954443884641095)]\n"
     ]
    }
   ],
   "source": [
    "lower_bounds_mrnn_undefined_classification_subgroup, upper_bounds_mrnn_undefined_classification_subgroup = toolkits.calc_lower_and_upper_bound(results_bootstrap_mrnn_undefined_classification_subgroup, means_bootstraps_mrnn_undefined_classification_subgroup, standards_deviations_mrnn_undefined_classification_subgroup)\n",
    "\n",
    "print(lower_bounds_mrnn_undefined_classification_subgroup)\n",
    "print(upper_bounds_mrnn_undefined_classification_subgroup)"
   ]
  },
  {
   "cell_type": "code",
   "execution_count": 435,
   "metadata": {},
   "outputs": [
    {
     "name": "stdout",
     "output_type": "stream",
     "text": [
      "[np.float64(0.4263038813346761), np.float64(0.4470550187520496), np.float64(0.2800241680793975), np.float64(0.5133303592341026), np.float64(0.46736221029321007), np.float64(0.39054171908927215), np.float64(0.7430997496288949)]\n",
      "[np.float64(0.5643525118998892), np.float64(0.6341258928299868), np.float64(0.9176472282782503), np.float64(0.9896050981839731), np.float64(0.8866372098312039), np.float64(0.7372734132646498), np.float64(0.7957462828589899)]\n"
     ]
    }
   ],
   "source": [
    "lower_bounds_mrnn_undefined_classification_subgroup, upper_bounds_mrnn_undefined_classification_subgroup = toolkits.calc_lower_and_upper_bound_percentile(results_bootstrap_mrnn_undefined_classification_subgroup)\n",
    "\n",
    "print(lower_bounds_mrnn_undefined_classification_subgroup)\n",
    "print(upper_bounds_mrnn_undefined_classification_subgroup)"
   ]
  },
  {
   "cell_type": "markdown",
   "metadata": {},
   "source": [
    "#### Mean values of lower bound and upper bound"
   ]
  },
  {
   "cell_type": "code",
   "execution_count": 436,
   "metadata": {},
   "outputs": [
    {
     "name": "stdout",
     "output_type": "stream",
     "text": [
      "[np.float64(0.49532819661728267), np.float64(0.5405904557910182), np.float64(0.5988356981788239), np.float64(0.7514677287090379), np.float64(0.6769997100622069), np.float64(0.563907566176961), np.float64(0.7694230162439424)]\n"
     ]
    }
   ],
   "source": [
    "mean_values_ci_mrnn_undefined_classification_subgroup  = toolkits.calc_mean_values_ci(lower_bounds_mrnn_undefined_classification_subgroup, upper_bounds_mrnn_undefined_classification_subgroup)\n",
    "\n",
    "print(mean_values_ci_mrnn_undefined_classification_subgroup)"
   ]
  },
  {
   "cell_type": "markdown",
   "metadata": {},
   "source": [
    "### Confidence Interval (Low weight classification subgroup)"
   ]
  },
  {
   "cell_type": "markdown",
   "metadata": {},
   "source": [
    "#### Distribution Bootstrap for the Top 5 variables with Largest Differences in MAE (Mean Absolute Error) "
   ]
  },
  {
   "cell_type": "code",
   "execution_count": 437,
   "metadata": {},
   "outputs": [],
   "source": [
    "indices = [32, 0, 6, 31, 5, 1, 35]\n",
    "\n",
    "results_bootstrap_mrnn_low_weight_classification_subgroup = []\n",
    "\n",
    "for i in indices:\n",
    "       results_bootstrap_mrnn_low_weight_classification_subgroup.append(toolkits.bootstrap_v2(testing_ae_mrnn_variables_standard, indicating_mask_variable_standard_norm, 11, i, 9000))\n",
    "\n"
   ]
  },
  {
   "cell_type": "markdown",
   "metadata": {},
   "source": [
    "#### Calculating the mean and standard deviation of the bootstrap distribution"
   ]
  },
  {
   "cell_type": "code",
   "execution_count": 438,
   "metadata": {},
   "outputs": [
    {
     "name": "stdout",
     "output_type": "stream",
     "text": [
      "[np.float64(0.2742149593914782), np.float64(1.9459670267182232), np.float64(0.06753352371113829), np.float64(0.0), np.float64(1.6205607563381432), np.float64(0.43983313740810515), np.float64(1.3235392557014443)]\n",
      "[np.float64(0.20929567175877506), np.float64(1.4741325422104914), np.float64(0.050552479388368335), np.float64(0.0), np.float64(1.1460472640197181), np.float64(0.05103390816270178), np.float64(0.05072339486945789)]\n"
     ]
    }
   ],
   "source": [
    "means_bootstraps_mrnn_low_weight_classification_subgroup, standards_deviations_mrnn_low_weight_classification_subgroup = toolkits.calc_mean_and_standard_deviation(results_bootstrap_mrnn_low_weight_classification_subgroup)\n",
    "\n",
    "print(means_bootstraps_mrnn_low_weight_classification_subgroup)\n",
    "print(standards_deviations_mrnn_low_weight_classification_subgroup)\n"
   ]
  },
  {
   "cell_type": "markdown",
   "metadata": {},
   "source": [
    "#### Calculating lower bound and upper bound"
   ]
  },
  {
   "cell_type": "code",
   "execution_count": 439,
   "metadata": {},
   "outputs": [
    {
     "name": "stdout",
     "output_type": "stream",
     "text": [
      "[np.float64(-0.1359970193758378), np.float64(-0.943279664452811), np.float64(-0.031547515219267075), np.float64(0.0), np.float64(-0.625650605721171), np.float64(0.33980851541888496), np.float64(1.2241232285837031)]\n",
      "[np.float64(0.6844269381587942), np.float64(4.835213717889257), np.float64(0.16661456264154365), np.float64(0.0), np.float64(3.8667721183974573), np.float64(0.5398577593973253), np.float64(1.4229552828191854)]\n"
     ]
    }
   ],
   "source": [
    "lower_bounds_mrnn_low_weight_classification_subgroup, upper_bounds_mrnn_low_weight_classification_subgroup = toolkits.calc_lower_and_upper_bound(results_bootstrap_mrnn_low_weight_classification_subgroup, means_bootstraps_mrnn_low_weight_classification_subgroup, standards_deviations_mrnn_low_weight_classification_subgroup)\n",
    "\n",
    "print(lower_bounds_mrnn_low_weight_classification_subgroup)\n",
    "print(upper_bounds_mrnn_low_weight_classification_subgroup)"
   ]
  },
  {
   "cell_type": "code",
   "execution_count": 440,
   "metadata": {},
   "outputs": [
    {
     "name": "stdout",
     "output_type": "stream",
     "text": [
      "[np.float64(0.0), np.float64(0.0), np.float64(0.0), np.float64(0.0), np.float64(0.4383364553534848), np.float64(0.3575160340998334), np.float64(1.2209718070276419)]\n",
      "[np.float64(0.4339607234964589), np.float64(4.032034724589697), np.float64(0.10537477694183658), np.float64(0.0), np.float64(4.250518118450101), np.float64(0.49951248070860665), np.float64(1.4225176222540652)]\n"
     ]
    }
   ],
   "source": [
    "lower_bounds_mrnn_low_weight_classification_subgroup, upper_bounds_mrnn_low_weight_classification_subgroup = toolkits.calc_lower_and_upper_bound_percentile(results_bootstrap_mrnn_low_weight_classification_subgroup)\n",
    "\n",
    "print(lower_bounds_mrnn_low_weight_classification_subgroup)\n",
    "print(upper_bounds_mrnn_low_weight_classification_subgroup)"
   ]
  },
  {
   "cell_type": "markdown",
   "metadata": {},
   "source": [
    "#### Mean values of lower bound and upper bound"
   ]
  },
  {
   "cell_type": "code",
   "execution_count": 441,
   "metadata": {},
   "outputs": [
    {
     "name": "stdout",
     "output_type": "stream",
     "text": [
      "[np.float64(0.21698036174822946), np.float64(2.0160173622948485), np.float64(0.05268738847091829), np.float64(0.0), np.float64(2.344427286901793), np.float64(0.42851425740422), np.float64(1.3217447146408534)]\n"
     ]
    }
   ],
   "source": [
    "mean_values_ci_mrnn_low_weight_classification_subgroup  = toolkits.calc_mean_values_ci(lower_bounds_mrnn_low_weight_classification_subgroup, upper_bounds_mrnn_low_weight_classification_subgroup)\n",
    "\n",
    "print(mean_values_ci_mrnn_low_weight_classification_subgroup)"
   ]
  },
  {
   "cell_type": "markdown",
   "metadata": {},
   "source": [
    "### Confidence Interval (Normal weight classification subgroup)"
   ]
  },
  {
   "cell_type": "markdown",
   "metadata": {},
   "source": [
    "#### Distribution Bootstrap for the Top 5 variables with Largest Differences in MAE (Mean Absolute Error) "
   ]
  },
  {
   "cell_type": "code",
   "execution_count": 442,
   "metadata": {},
   "outputs": [],
   "source": [
    "indices = [32, 0, 6, 31, 5, 1, 35]\n",
    "\n",
    "results_bootstrap_mrnn_normal_weight_classification_subgroup = []\n",
    "\n",
    "for i in indices:\n",
    "       results_bootstrap_mrnn_normal_weight_classification_subgroup.append(toolkits.bootstrap_v2(testing_ae_mrnn_variables_standard, indicating_mask_variable_standard_norm, 12, i, 9000))\n",
    "\n"
   ]
  },
  {
   "cell_type": "markdown",
   "metadata": {},
   "source": [
    "#### Calculating the mean and standard deviation of the bootstrap distribution"
   ]
  },
  {
   "cell_type": "code",
   "execution_count": 443,
   "metadata": {},
   "outputs": [
    {
     "name": "stdout",
     "output_type": "stream",
     "text": [
      "[np.float64(0.4263621519371738), np.float64(0.646458841174411), np.float64(0.8314887990910419), np.float64(0.5699137016310701), np.float64(0.705793005337667), np.float64(0.39751595968784265), np.float64(0.8094118709126088)]\n",
      "[np.float64(0.04495926815170688), np.float64(0.10165939135263614), np.float64(0.38592353741859636), np.float64(0.10993289651872548), np.float64(0.16873074462490006), np.float64(0.026454342049380443), np.float64(0.013641674636157602)]\n"
     ]
    }
   ],
   "source": [
    "means_bootstraps_mrnn_normal_weight_classification_subgroup, standards_deviations_mrnn_normal_weight_classification_subgroup = toolkits.calc_mean_and_standard_deviation(results_bootstrap_mrnn_normal_weight_classification_subgroup)\n",
    "\n",
    "print(means_bootstraps_mrnn_normal_weight_classification_subgroup)\n",
    "print(standards_deviations_mrnn_normal_weight_classification_subgroup)\n"
   ]
  },
  {
   "cell_type": "markdown",
   "metadata": {},
   "source": [
    "#### Calculating lower bound and upper bound"
   ]
  },
  {
   "cell_type": "code",
   "execution_count": 444,
   "metadata": {},
   "outputs": [
    {
     "name": "stdout",
     "output_type": "stream",
     "text": [
      "[np.float64(0.33824360558854966), np.float64(0.4472100954329815), np.float64(0.07509256496429717), np.float64(0.3544491837381995), np.float64(0.3750868227882375), np.float64(0.34566640203635346), np.float64(0.7826746799369264)]\n",
      "[np.float64(0.514480698285798), np.float64(0.8457075869158405), np.float64(1.5878850332177867), np.float64(0.7853782195239407), np.float64(1.0364991878870964), np.float64(0.44936551733933183), np.float64(0.8361490618882912)]\n"
     ]
    }
   ],
   "source": [
    "lower_bounds_mrnn_normal_weight_classification_subgroup, upper_bounds_mrnn_normal_weight_classification_subgroup = toolkits.calc_lower_and_upper_bound(results_bootstrap_mrnn_normal_weight_classification_subgroup, means_bootstraps_mrnn_normal_weight_classification_subgroup, standards_deviations_mrnn_normal_weight_classification_subgroup)\n",
    "\n",
    "print(lower_bounds_mrnn_normal_weight_classification_subgroup)\n",
    "print(upper_bounds_mrnn_normal_weight_classification_subgroup)"
   ]
  },
  {
   "cell_type": "code",
   "execution_count": 445,
   "metadata": {},
   "outputs": [
    {
     "name": "stdout",
     "output_type": "stream",
     "text": [
      "[np.float64(0.34290042744646426), np.float64(0.48431375038167185), np.float64(0.0), np.float64(0.351740472150374), np.float64(0.44627917028178504), np.float64(0.3421904179213616), np.float64(0.7825763113881157)]\n",
      "[np.float64(0.5174341815635826), np.float64(0.8740742958220539), np.float64(1.2552017600298466), np.float64(0.7827012442511738), np.float64(1.0907357640575552), np.float64(0.44633988166304134), np.float64(0.8369819015799299)]\n"
     ]
    }
   ],
   "source": [
    "lower_bounds_mrnn_normal_weight_classification_subgroup, upper_bounds_mrnn_normal_weight_classification_subgroup = toolkits.calc_lower_and_upper_bound_percentile(results_bootstrap_mrnn_normal_weight_classification_subgroup)\n",
    "\n",
    "print(lower_bounds_mrnn_normal_weight_classification_subgroup)\n",
    "print(upper_bounds_mrnn_normal_weight_classification_subgroup)"
   ]
  },
  {
   "cell_type": "markdown",
   "metadata": {},
   "source": [
    "#### Mean values of lower bound and upper bound"
   ]
  },
  {
   "cell_type": "code",
   "execution_count": 446,
   "metadata": {},
   "outputs": [
    {
     "name": "stdout",
     "output_type": "stream",
     "text": [
      "[np.float64(0.4301673045050234), np.float64(0.6791940231018628), np.float64(0.6276008800149233), np.float64(0.567220858200774), np.float64(0.7685074671696701), np.float64(0.3942651497922015), np.float64(0.8097791064840227)]\n"
     ]
    }
   ],
   "source": [
    "mean_values_ci_mrnn_normal_weight_classification_subgroup  = toolkits.calc_mean_values_ci(lower_bounds_mrnn_normal_weight_classification_subgroup, upper_bounds_mrnn_normal_weight_classification_subgroup)\n",
    "\n",
    "print(mean_values_ci_mrnn_normal_weight_classification_subgroup)"
   ]
  },
  {
   "cell_type": "markdown",
   "metadata": {},
   "source": [
    "### Confidence Interval (Overweight classification subgroup)"
   ]
  },
  {
   "cell_type": "markdown",
   "metadata": {},
   "source": [
    "#### Distribution Bootstrap for the Top 5 variables with Largest Differences in MAE (Mean Absolute Error) "
   ]
  },
  {
   "cell_type": "code",
   "execution_count": 447,
   "metadata": {},
   "outputs": [],
   "source": [
    "indices = [32, 0, 6, 31, 5, 1, 35]\n",
    "\n",
    "results_bootstrap_mrnn_overweight_classification_subgroup = []\n",
    "\n",
    "for i in indices:\n",
    "       results_bootstrap_mrnn_overweight_classification_subgroup.append(toolkits.bootstrap_v2(testing_ae_mrnn_variables_standard, indicating_mask_variable_standard_norm, 13, i, 9000))\n",
    "\n"
   ]
  },
  {
   "cell_type": "markdown",
   "metadata": {},
   "source": [
    "#### Calculating the mean and standard deviation of the bootstrap distribution"
   ]
  },
  {
   "cell_type": "code",
   "execution_count": 448,
   "metadata": {},
   "outputs": [
    {
     "name": "stdout",
     "output_type": "stream",
     "text": [
      "[np.float64(0.5687296858733425), np.float64(0.46048855694070373), np.float64(1.2963966354597518), np.float64(1.1794300213081532), np.float64(0.5118163712538857), np.float64(0.6502465333656093), np.float64(0.4183955421148772)]\n",
      "[np.float64(0.1424406140788189), np.float64(0.04704308504239986), np.float64(0.2550406601338593), np.float64(0.45394110874116217), np.float64(0.055238044963513054), np.float64(0.15567730445430072), np.float64(0.009740406739071887)]\n"
     ]
    }
   ],
   "source": [
    "means_bootstraps_mrnn_overweight_classification_subgroup, standards_deviations_mrnn_overweight_classification_subgroup = toolkits.calc_mean_and_standard_deviation(results_bootstrap_mrnn_overweight_classification_subgroup)\n",
    "\n",
    "print(means_bootstraps_mrnn_overweight_classification_subgroup)\n",
    "print(standards_deviations_mrnn_overweight_classification_subgroup)\n"
   ]
  },
  {
   "cell_type": "markdown",
   "metadata": {},
   "source": [
    "#### Calculating lower bound and upper bound"
   ]
  },
  {
   "cell_type": "code",
   "execution_count": 449,
   "metadata": {},
   "outputs": [
    {
     "name": "stdout",
     "output_type": "stream",
     "text": [
      "[np.float64(0.2895512123430885), np.float64(0.36828580453594506), np.float64(0.7965261270040673), np.float64(0.28972179707329504), np.float64(0.403551792548996), np.float64(0.34512462342490297), np.float64(0.39930469571152505)]\n",
      "[np.float64(0.8479081594035964), np.float64(0.5526913093454624), np.float64(1.7962671439154363), np.float64(2.0691382455430114), np.float64(0.6200809499587754), np.float64(0.9553684433063157), np.float64(0.4374863885182293)]\n"
     ]
    }
   ],
   "source": [
    "lower_bounds_mrnn_overweight_classification_subgroup, upper_bounds_mrnn_overweight_classification_subgroup = toolkits.calc_lower_and_upper_bound(results_bootstrap_mrnn_overweight_classification_subgroup, means_bootstraps_mrnn_overweight_classification_subgroup, standards_deviations_mrnn_overweight_classification_subgroup)\n",
    "\n",
    "print(lower_bounds_mrnn_overweight_classification_subgroup)\n",
    "print(upper_bounds_mrnn_overweight_classification_subgroup)"
   ]
  },
  {
   "cell_type": "code",
   "execution_count": 450,
   "metadata": {},
   "outputs": [
    {
     "name": "stdout",
     "output_type": "stream",
     "text": [
      "[np.float64(0.35425209969664206), np.float64(0.37523398603048347), np.float64(0.7784886463716818), np.float64(0.6119497418486745), np.float64(0.4225049928694508), np.float64(0.39352243769994766), np.float64(0.3996233553463024)]\n",
      "[np.float64(0.8917709256209447), np.float64(0.5587809122939364), np.float64(1.7541582786245802), np.float64(2.218829956583898), np.float64(0.6359906691208814), np.float64(0.9902873998296422), np.float64(0.43702309337471607)]\n"
     ]
    }
   ],
   "source": [
    "lower_bounds_mrnn_overweight_classification_subgroup, upper_bounds_mrnn_overweight_classification_subgroup = toolkits.calc_lower_and_upper_bound_percentile(results_bootstrap_mrnn_overweight_classification_subgroup)\n",
    "\n",
    "print(lower_bounds_mrnn_overweight_classification_subgroup)\n",
    "print(upper_bounds_mrnn_overweight_classification_subgroup)"
   ]
  },
  {
   "cell_type": "markdown",
   "metadata": {},
   "source": [
    "#### Mean values of lower bound and upper bound"
   ]
  },
  {
   "cell_type": "code",
   "execution_count": 451,
   "metadata": {},
   "outputs": [
    {
     "name": "stdout",
     "output_type": "stream",
     "text": [
      "[np.float64(0.6230115126587934), np.float64(0.46700744916220993), np.float64(1.266323462498131), np.float64(1.4153898492162862), np.float64(0.5292478309951661), np.float64(0.691904918764795), np.float64(0.4183232243605092)]\n"
     ]
    }
   ],
   "source": [
    "mean_values_ci_mrnn_overweight_classification_subgroup  = toolkits.calc_mean_values_ci(lower_bounds_mrnn_overweight_classification_subgroup, upper_bounds_mrnn_overweight_classification_subgroup)\n",
    "\n",
    "print(mean_values_ci_mrnn_overweight_classification_subgroup)"
   ]
  },
  {
   "cell_type": "markdown",
   "metadata": {},
   "source": [
    "### Confidence Interval (Obesity 1 classification subgroup)"
   ]
  },
  {
   "cell_type": "markdown",
   "metadata": {},
   "source": [
    "#### Distribution Bootstrap for the Top 5 variables with Largest Differences in MAE (Mean Absolute Error) "
   ]
  },
  {
   "cell_type": "code",
   "execution_count": 452,
   "metadata": {},
   "outputs": [],
   "source": [
    "indices = [32, 0, 6, 31, 5, 1, 35]\n",
    "\n",
    "results_bootstrap_mrnn_obs1_classification_subgroup = []\n",
    "\n",
    "for i in indices:\n",
    "       results_bootstrap_mrnn_obs1_classification_subgroup.append(toolkits.bootstrap_v2(testing_ae_mrnn_variables_standard, indicating_mask_variable_standard_norm, 14, i, 9000))\n",
    "\n"
   ]
  },
  {
   "cell_type": "markdown",
   "metadata": {},
   "source": [
    "#### Calculating the mean and standard deviation of the bootstrap distribution"
   ]
  },
  {
   "cell_type": "code",
   "execution_count": 453,
   "metadata": {},
   "outputs": [
    {
     "name": "stdout",
     "output_type": "stream",
     "text": [
      "[np.float64(0.3351551287944784), np.float64(0.4229640533709728), np.float64(0.5906922871369863), np.float64(0.5427039503003247), np.float64(0.5069558136935141), np.float64(0.41724289027889583), np.float64(0.5410437616636001)]\n",
      "[np.float64(0.051726865655468225), np.float64(0.04197461098231375), np.float64(0.3107552056173961), np.float64(0.27098536668459516), np.float64(0.09252744137522277), np.float64(0.04164542531375808), np.float64(0.01906373953681107)]\n"
     ]
    }
   ],
   "source": [
    "means_bootstraps_mrnn_obs1_classification_subgroup, standards_deviations_mrnn_obs1_classification_subgroup = toolkits.calc_mean_and_standard_deviation(results_bootstrap_mrnn_obs1_classification_subgroup)\n",
    "\n",
    "print(means_bootstraps_mrnn_obs1_classification_subgroup)\n",
    "print(standards_deviations_mrnn_obs1_classification_subgroup)\n"
   ]
  },
  {
   "cell_type": "markdown",
   "metadata": {},
   "source": [
    "#### Calculating lower bound and upper bound"
   ]
  },
  {
   "cell_type": "code",
   "execution_count": 454,
   "metadata": {},
   "outputs": [
    {
     "name": "stdout",
     "output_type": "stream",
     "text": [
      "[np.float64(0.23377233507661882), np.float64(0.3406953275805584), np.float64(-0.018376723881449175), np.float64(0.011582391261137914), np.float64(0.32560536101643617), np.float64(0.3356193565430773), np.float64(0.5036795187607981)]\n",
      "[np.float64(0.436537922512338), np.float64(0.5052327791613872), np.float64(1.1997612981554218), np.float64(1.0738255093395115), np.float64(0.6883062663705919), np.float64(0.49886642401471437), np.float64(0.5784080045664022)]\n"
     ]
    }
   ],
   "source": [
    "lower_bounds_mrnn_obs1_classification_subgroup, upper_bounds_mrnn_obs1_classification_subgroup = toolkits.calc_lower_and_upper_bound(results_bootstrap_mrnn_obs1_classification_subgroup, means_bootstraps_mrnn_obs1_classification_subgroup, standards_deviations_mrnn_obs1_classification_subgroup)\n",
    "\n",
    "print(lower_bounds_mrnn_obs1_classification_subgroup)\n",
    "print(upper_bounds_mrnn_obs1_classification_subgroup)"
   ]
  },
  {
   "cell_type": "code",
   "execution_count": 455,
   "metadata": {},
   "outputs": [
    {
     "name": "stdout",
     "output_type": "stream",
     "text": [
      "[np.float64(0.23060395788572963), np.float64(0.33986682438817417), np.float64(0.0), np.float64(0.0), np.float64(0.3562788871155775), np.float64(0.3393535479416052), np.float64(0.5043022495098985)]\n",
      "[np.float64(0.4336221147821313), np.float64(0.5037857473264438), np.float64(1.218276945248262), np.float64(0.8630806178451833), np.float64(0.7067325651109874), np.float64(0.5063421703125072), np.float64(0.578400848522646)]\n"
     ]
    }
   ],
   "source": [
    "lower_bounds_mrnn_obs1_classification_subgroup, upper_bounds_mrnn_obs1_classification_subgroup = toolkits.calc_lower_and_upper_bound_percentile(results_bootstrap_mrnn_obs1_classification_subgroup)\n",
    "\n",
    "print(lower_bounds_mrnn_obs1_classification_subgroup)\n",
    "print(upper_bounds_mrnn_obs1_classification_subgroup)"
   ]
  },
  {
   "cell_type": "markdown",
   "metadata": {},
   "source": [
    "#### Mean values of lower bound and upper bound"
   ]
  },
  {
   "cell_type": "code",
   "execution_count": 456,
   "metadata": {},
   "outputs": [
    {
     "name": "stdout",
     "output_type": "stream",
     "text": [
      "[np.float64(0.33211303633393047), np.float64(0.42182628585730897), np.float64(0.609138472624131), np.float64(0.43154030892259165), np.float64(0.5315057261132824), np.float64(0.4228478591270562), np.float64(0.5413515490162722)]\n"
     ]
    }
   ],
   "source": [
    "mean_values_ci_mrnn_obs1_classification_subgroup  = toolkits.calc_mean_values_ci(lower_bounds_mrnn_obs1_classification_subgroup, upper_bounds_mrnn_obs1_classification_subgroup)\n",
    "\n",
    "print(mean_values_ci_mrnn_obs1_classification_subgroup)"
   ]
  },
  {
   "cell_type": "markdown",
   "metadata": {},
   "source": [
    "### Confidence Interval (Obesity 2 classification subgroup)"
   ]
  },
  {
   "cell_type": "markdown",
   "metadata": {},
   "source": [
    "#### Distribution Bootstrap for the Top 5 variables with Largest Differences in MAE (Mean Absolute Error) "
   ]
  },
  {
   "cell_type": "code",
   "execution_count": 457,
   "metadata": {},
   "outputs": [],
   "source": [
    "indices = [32, 0, 6, 31, 5, 1, 35]\n",
    "results_bootstrap_mrnn_obs2_classification_subgroup = []\n",
    "\n",
    "for i in indices:\n",
    "       results_bootstrap_mrnn_obs2_classification_subgroup.append(toolkits.bootstrap_v2(testing_ae_mrnn_variables_standard, indicating_mask_variable_standard_norm, 15, i, 9000))\n",
    "\n"
   ]
  },
  {
   "cell_type": "markdown",
   "metadata": {},
   "source": [
    "#### Calculating the mean and standard deviation of the bootstrap distribution"
   ]
  },
  {
   "cell_type": "code",
   "execution_count": 458,
   "metadata": {},
   "outputs": [
    {
     "name": "stdout",
     "output_type": "stream",
     "text": [
      "[np.float64(1.3388923242492), np.float64(0.5607931709304527), np.float64(0.05189613494580122), np.float64(0.0), np.float64(0.5726815182613774), np.float64(0.6833419537173094), np.float64(0.7948349604749801)]\n",
      "[np.float64(0.9082803746120481), np.float64(0.05168739719568244), np.float64(0.03926061950882545), np.float64(0.0), np.float64(0.06076866739687586), np.float64(0.24872512458782148), np.float64(0.04293914890512166)]\n"
     ]
    }
   ],
   "source": [
    "means_bootstraps_mrnn_obs2_classification_subgroup, standards_deviations_mrnn_obs2_classification_subgroup = toolkits.calc_mean_and_standard_deviation(results_bootstrap_mrnn_obs2_classification_subgroup)\n",
    "\n",
    "print(means_bootstraps_mrnn_obs2_classification_subgroup)\n",
    "print(standards_deviations_mrnn_obs2_classification_subgroup) \n"
   ]
  },
  {
   "cell_type": "markdown",
   "metadata": {},
   "source": [
    "#### Calculating lower bound and upper bound"
   ]
  },
  {
   "cell_type": "code",
   "execution_count": 459,
   "metadata": {},
   "outputs": [
    {
     "name": "stdout",
     "output_type": "stream",
     "text": [
      "[np.float64(-0.44130449785496295), np.float64(0.4594877339722985), np.float64(-0.025053265302227297), np.float64(0.0), np.float64(0.4535771187750073), np.float64(0.19584966747494148), np.float64(0.7106757750941392)]\n",
      "[np.float64(3.119089146353363), np.float64(0.6620986078886069), np.float64(0.12884553519382974), np.float64(0.0), np.float64(0.6917859177477474), np.float64(1.1708342399596774), np.float64(0.8789941458558211)]\n"
     ]
    }
   ],
   "source": [
    "lower_bounds_mrnn_obs2_classification_subgroup, upper_bounds_mrnn_obs2_classification_subgroup = toolkits.calc_lower_and_upper_bound(results_bootstrap_mrnn_obs2_classification_subgroup, means_bootstraps_mrnn_obs2_classification_subgroup, standards_deviations_mrnn_obs2_classification_subgroup)\n",
    "\n",
    "print(lower_bounds_mrnn_obs2_classification_subgroup)\n",
    "print(upper_bounds_mrnn_obs2_classification_subgroup)"
   ]
  },
  {
   "cell_type": "code",
   "execution_count": 460,
   "metadata": {},
   "outputs": [
    {
     "name": "stdout",
     "output_type": "stream",
     "text": [
      "[np.float64(0.0), np.float64(0.4635676284261475), np.float64(0.0), np.float64(0.0), np.float64(0.4805169751861541), np.float64(0.2845622865901363), np.float64(0.7113659581732991)]\n",
      "[np.float64(3.2940803837237835), np.float64(0.6683807845048232), np.float64(0.08159769645569703), np.float64(0.0), np.float64(0.7102575565629949), np.float64(1.2226766290149655), np.float64(0.88109777481901)]\n"
     ]
    }
   ],
   "source": [
    "lower_bounds_mrnn_obs2_classification_subgroup, upper_bounds_mrnn_obs2_classification_subgroup = toolkits.calc_lower_and_upper_bound_percentile(results_bootstrap_mrnn_obs2_classification_subgroup)\n",
    "\n",
    "print(lower_bounds_mrnn_obs2_classification_subgroup)\n",
    "print(upper_bounds_mrnn_obs2_classification_subgroup)"
   ]
  },
  {
   "cell_type": "markdown",
   "metadata": {},
   "source": [
    "#### Mean values of lower bound and upper bound"
   ]
  },
  {
   "cell_type": "code",
   "execution_count": 461,
   "metadata": {},
   "outputs": [
    {
     "name": "stdout",
     "output_type": "stream",
     "text": [
      "[np.float64(1.6470401918618918), np.float64(0.5659742064654854), np.float64(0.040798848227848517), np.float64(0.0), np.float64(0.5953872658745745), np.float64(0.7536194578025509), np.float64(0.7962318664961545)]\n"
     ]
    }
   ],
   "source": [
    "mean_values_ci_mrnn_obs2_classification_subgroup  = toolkits.calc_mean_values_ci(lower_bounds_mrnn_obs2_classification_subgroup, upper_bounds_mrnn_obs2_classification_subgroup)\n",
    "\n",
    "print(mean_values_ci_mrnn_obs2_classification_subgroup)"
   ]
  },
  {
   "cell_type": "markdown",
   "metadata": {},
   "source": [
    "### Confidence Interval (Obesity 3 classification subgroup)"
   ]
  },
  {
   "cell_type": "markdown",
   "metadata": {},
   "source": [
    "#### Distribution Bootstrap for the Top 5 variables with Largest Differences in MAE (Mean Absolute Error) "
   ]
  },
  {
   "cell_type": "code",
   "execution_count": null,
   "metadata": {},
   "outputs": [
    {
     "ename": "KeyboardInterrupt",
     "evalue": "",
     "output_type": "error",
     "traceback": [
      "\u001b[31m---------------------------------------------------------------------------\u001b[39m",
      "\u001b[31mKeyboardInterrupt\u001b[39m                         Traceback (most recent call last)",
      "\u001b[36mCell\u001b[39m\u001b[36m \u001b[39m\u001b[32mIn[76]\u001b[39m\u001b[32m, line 6\u001b[39m\n\u001b[32m      3\u001b[39m results_bootstrap_mrnn_obs3_classification_subgroup = []\n\u001b[32m      5\u001b[39m \u001b[38;5;28;01mfor\u001b[39;00m i \u001b[38;5;129;01min\u001b[39;00m indices:\n\u001b[32m----> \u001b[39m\u001b[32m6\u001b[39m        results_bootstrap_mrnn_obs3_classification_subgroup.append(\u001b[43mtoolkits\u001b[49m\u001b[43m.\u001b[49m\u001b[43mbootstrap_v2\u001b[49m\u001b[43m(\u001b[49m\u001b[43mtesting_ae_mrnn_variables_standard\u001b[49m\u001b[43m,\u001b[49m\u001b[43m \u001b[49m\u001b[43mindicating_mask_variable_standard_norm\u001b[49m\u001b[43m,\u001b[49m\u001b[43m \u001b[49m\u001b[32;43m8\u001b[39;49m\u001b[43m,\u001b[49m\u001b[43m \u001b[49m\u001b[43mi\u001b[49m\u001b[43m,\u001b[49m\u001b[43m \u001b[49m\u001b[32;43m9000\u001b[39;49m\u001b[43m)\u001b[49m)\n",
      "\u001b[36mFile \u001b[39m\u001b[32m/data/rayssa/missingdata/missingData/toolkits.py:220\u001b[39m, in \u001b[36mtoolkits.bootstrap_v2\u001b[39m\u001b[34m(ae, mask, subgrupo, variavel, n_resamples)\u001b[39m\n\u001b[32m    218\u001b[39m     resampling_ae = ae[subgrupo][variavel][indices]\n\u001b[32m    219\u001b[39m     resampling_mask = mask[subgrupo][variavel][indices]\n\u001b[32m--> \u001b[39m\u001b[32m220\u001b[39m     mae = \u001b[38;5;28msum\u001b[39m(resampling_ae * resampling_mask)/(\u001b[38;5;28msum\u001b[39m(resampling_mask)+\u001b[32m1e-12\u001b[39m)\n\u001b[32m    221\u001b[39m     distribution_bootstrap.append(mae)\n\u001b[32m    223\u001b[39m \u001b[38;5;28;01mreturn\u001b[39;00m distribution_bootstrap\n",
      "\u001b[31mKeyboardInterrupt\u001b[39m: "
     ]
    }
   ],
   "source": [
    "indices = [32, 0, 6, 31, 5, 1, 35]\n",
    "\n",
    "results_bootstrap_mrnn_obs3_classification_subgroup = []\n",
    "\n",
    "for i in indices:\n",
    "       results_bootstrap_mrnn_obs3_classification_subgroup.append(toolkits.bootstrap_v2(testing_ae_mrnn_variables_standard, indicating_mask_variable_standard_norm, 16, i, 9000))\n",
    "\n"
   ]
  },
  {
   "cell_type": "markdown",
   "metadata": {},
   "source": [
    "#### Calculating the mean and standard deviation of the bootstrap distribution"
   ]
  },
  {
   "cell_type": "code",
   "execution_count": 463,
   "metadata": {},
   "outputs": [
    {
     "name": "stdout",
     "output_type": "stream",
     "text": [
      "[np.float64(1.00414169046409), np.float64(0.3486289345447676), np.float64(0.0), np.float64(0.21776692962675417), np.float64(0.4408133808566669), np.float64(1.4254427330239856), np.float64(1.6733769546848565)]\n",
      "[np.float64(0.7446954298067441), np.float64(0.04142255324414479), np.float64(0.0), np.float64(0.1698430775742359), np.float64(0.09930024806338666), np.float64(1.0025793427577305), np.float64(0.06505829337098328)]\n"
     ]
    }
   ],
   "source": [
    "means_bootstraps_mrnn_obs3_classification_subgroup, standards_deviations_mrnn_obs3_classification_subgroup = toolkits.calc_mean_and_standard_deviation(results_bootstrap_mrnn_obs3_classification_subgroup)\n",
    "\n",
    "print(means_bootstraps_mrnn_obs3_classification_subgroup)\n",
    "print(standards_deviations_mrnn_obs3_classification_subgroup)\n"
   ]
  },
  {
   "cell_type": "markdown",
   "metadata": {},
   "source": [
    "#### Calculating lower bound and upper bound"
   ]
  },
  {
   "cell_type": "code",
   "execution_count": 464,
   "metadata": {},
   "outputs": [
    {
     "name": "stdout",
     "output_type": "stream",
     "text": [
      "[np.float64(-0.45543453140870427), np.float64(0.26744222203855106), np.float64(0.0), np.float64(-0.11511938544219072), np.float64(0.24618847099653576), np.float64(-0.5395766704250045), np.float64(1.5458650427820884)]\n",
      "[np.float64(2.463717912336884), np.float64(0.4298156470509842), np.float64(0.0), np.float64(0.5506532446956991), np.float64(0.635438290716798), np.float64(3.3904621364729755), np.float64(1.8008888665876246)]\n"
     ]
    }
   ],
   "source": [
    "lower_bounds_mrnn_obs3_classification_subgroup, upper_bounds_mrnn_obs3_classification_subgroup = toolkits.calc_lower_and_upper_bound(results_bootstrap_mrnn_obs3_classification_subgroup, means_bootstraps_mrnn_obs3_classification_subgroup, standards_deviations_mrnn_obs3_classification_subgroup)\n",
    "\n",
    "print(lower_bounds_mrnn_obs3_classification_subgroup)\n",
    "print(upper_bounds_mrnn_obs3_classification_subgroup)"
   ]
  },
  {
   "cell_type": "code",
   "execution_count": 465,
   "metadata": {},
   "outputs": [
    {
     "name": "stdout",
     "output_type": "stream",
     "text": [
      "[np.float64(0.11099036475633307), np.float64(0.2704979384867315), np.float64(0.0), np.float64(0.0), np.float64(0.23473926210624346), np.float64(0.0), np.float64(1.5473400640998762)]\n",
      "[np.float64(2.7370165042499703), np.float64(0.43351364400095094), np.float64(0.0), np.float64(0.3502327317086535), np.float64(0.6214057328979435), np.float64(3.597617080569797), np.float64(1.8039514921318378)]\n"
     ]
    }
   ],
   "source": [
    "lower_bounds_mrnn_obs3_classification_subgroup, upper_bounds_mrnn_obs3_classification_subgroup = toolkits.calc_lower_and_upper_bound_percentile(results_bootstrap_mrnn_obs3_classification_subgroup)\n",
    "\n",
    "print(lower_bounds_mrnn_obs3_classification_subgroup)\n",
    "print(upper_bounds_mrnn_obs3_classification_subgroup)"
   ]
  },
  {
   "cell_type": "markdown",
   "metadata": {},
   "source": [
    "#### Mean values of lower bound and upper bound"
   ]
  },
  {
   "cell_type": "code",
   "execution_count": 466,
   "metadata": {},
   "outputs": [
    {
     "name": "stdout",
     "output_type": "stream",
     "text": [
      "[np.float64(1.4240034345031518), np.float64(0.35200579124384124), np.float64(0.0), np.float64(0.17511636585432674), np.float64(0.42807249750209353), np.float64(1.7988085402848986), np.float64(1.675645778115857)]\n"
     ]
    }
   ],
   "source": [
    "mean_values_ci_mrnn_obs3_classification_subgroup  = toolkits.calc_mean_values_ci(lower_bounds_mrnn_obs3_classification_subgroup, upper_bounds_mrnn_obs3_classification_subgroup)\n",
    "\n",
    "print(mean_values_ci_mrnn_obs3_classification_subgroup)"
   ]
  },
  {
   "cell_type": "markdown",
   "metadata": {},
   "source": [
    "### Confidence Interval (Obesity subgroup)"
   ]
  },
  {
   "cell_type": "code",
   "execution_count": 77,
   "metadata": {},
   "outputs": [],
   "source": [
    "indices = [32, 0, 6, 31, 5, 1, 35]\n",
    "\n",
    "results_bootstrap_mrnn_obs3_classification_subgroup = []\n",
    "\n",
    "for i in indices:\n",
    "       results_bootstrap_mrnn_obs3_classification_subgroup.append(toolkits.bootstrap_v2(testing_ae_mrnn_variables_standard, indicating_mask_variable_standard_norm, 8, i, 9000))\n",
    "\n"
   ]
  },
  {
   "cell_type": "code",
   "execution_count": 78,
   "metadata": {},
   "outputs": [
    {
     "name": "stdout",
     "output_type": "stream",
     "text": [
      "[np.float64(0.3696615213246427), np.float64(0.46338850275121957), np.float64(1.1955716515985657), np.float64(0.6921596815533241), np.float64(0.9763306584473604), np.float64(0.6720883522581013), np.float64(0.7918787809088241)]\n",
      "[np.float64(0.042544366062449795), np.float64(0.17091797408700526), np.float64(0.5867888025972247), np.float64(0.1216284117017402), np.float64(0.2757890388652896), np.float64(0.2357263714549806), np.float64(0.013936800453628499)]\n"
     ]
    }
   ],
   "source": [
    "means_bootstraps_mrnn_obs3_classification_subgroup, standards_deviations_mrnn_obs3_classification_subgroup = toolkits.calc_mean_and_standard_deviation(results_bootstrap_mrnn_obs3_classification_subgroup)\n",
    "\n",
    "print(means_bootstraps_mrnn_obs3_classification_subgroup)\n",
    "print(standards_deviations_mrnn_obs3_classification_subgroup)\n"
   ]
  },
  {
   "cell_type": "code",
   "execution_count": 79,
   "metadata": {},
   "outputs": [
    {
     "name": "stdout",
     "output_type": "stream",
     "text": [
      "[np.float64(0.28119260502214743), np.float64(0.2379884195839537), np.float64(0.0), np.float64(0.43834525944984737), np.float64(0.5003271685328841), np.float64(0.41466908814978265), np.float64(0.7644654328319695)]\n",
      "[np.float64(0.4517509628720904), np.float64(0.8565371354588842), np.float64(2.2253978902442535), np.float64(0.9143463288515988), np.float64(1.57907732480555), np.float64(1.2302365620751106), np.float64(0.8188392881330487)]\n"
     ]
    }
   ],
   "source": [
    "lower_bounds_mrnn_obs3_classification_subgroup, upper_bounds_mrnn_obs3_classification_subgroup = toolkits.calc_lower_and_upper_bound_percentile(results_bootstrap_mrnn_obs3_classification_subgroup)\n",
    "\n",
    "print(lower_bounds_mrnn_obs3_classification_subgroup)\n",
    "print(upper_bounds_mrnn_obs3_classification_subgroup)"
   ]
  },
  {
   "cell_type": "code",
   "execution_count": 80,
   "metadata": {},
   "outputs": [
    {
     "name": "stdout",
     "output_type": "stream",
     "text": [
      "[np.float64(0.3664717839471189), np.float64(0.5472627775214189), np.float64(1.1126989451221267), np.float64(0.6763457941507232), np.float64(1.0397022466692172), np.float64(0.8224528251124466), np.float64(0.7916523604825092)]\n"
     ]
    }
   ],
   "source": [
    "mean_values_ci_mrnn_obs3_classification_subgroup  = toolkits.calc_mean_values_ci(lower_bounds_mrnn_obs3_classification_subgroup, upper_bounds_mrnn_obs3_classification_subgroup)\n",
    "\n",
    "print(mean_values_ci_mrnn_obs3_classification_subgroup)"
   ]
  },
  {
   "cell_type": "markdown",
   "metadata": {},
   "source": [
    "# Results mean absolute error"
   ]
  },
  {
   "cell_type": "code",
   "execution_count": null,
   "metadata": {},
   "outputs": [],
   "source": [
    "subgroups = [\"General\", \"Female\", \"Male\", \"+65\", \"-65\", \"ICUType 1\", \"ICUType 2\", \"ICUType 3\", \"ICUType 4\", \"Undefined classification\", \"Low Weight\", \"Normal Weight\", \"Overweight\", \"Obesity 1\", \"Obesity 2\", \"Obesity 3\"]"
   ]
  },
  {
   "cell_type": "markdown",
   "metadata": {},
   "source": [
    "#### SAITS"
   ]
  },
  {
   "cell_type": "markdown",
   "metadata": {},
   "source": [
    "<h4>Standard Scaler (C/Normalização)</h4>"
   ]
  },
  {
   "cell_type": "code",
   "execution_count": 13,
   "metadata": {},
   "outputs": [
    {
     "name": "stdout",
     "output_type": "stream",
     "text": [
      "SAITS - MAE\n",
      "************\n",
      "General\n",
      "-------------\n",
      "ALP : 0.35549184664706085\n",
      "ALT : 0.34616397235246166\n",
      "AST : 0.283203929613111\n",
      "Albumin : 0.5865378684716107\n",
      "BUN : 0.23549456829210566\n",
      "Bilirubin : 0.29213390018033225\n",
      "Cholesterol : 0.8619142944054452\n",
      "Creatinine : 0.2272360108358054\n",
      "DiasABP : 0.25696352027850733\n",
      "FiO2 : 0.4843457493583031\n",
      "GCS : 0.27782594851598286\n",
      "Glucose : 0.5574566141755575\n",
      "HCO3 : 0.42235495223366226\n",
      "HCT : 0.5478476366595461\n",
      "HR : 0.2786515469045242\n",
      "K : 0.6173738181988982\n",
      "Lactate : 0.3602081488093162\n",
      "MAP : 0.276148040474521\n",
      "MechVent : 0.016131509283529688\n",
      "Mg : 0.5428868319523208\n",
      "NIDiasABP : 0.23805346595387422\n",
      "NIMAP : 0.17731126967659114\n",
      "NISysABP : 0.3059993623684565\n",
      "Na : 0.5094466185029012\n",
      "PaCO2 : 0.5448751678244528\n",
      "PaO2 : 0.5044175503727509\n",
      "Platelets : 0.37910753219049526\n",
      "RespRate : 0.4975549864022565\n",
      "SaO2 : 0.395203639666887\n",
      "SysABP : 0.2876315375696396\n",
      "Temp : 0.3654739421516718\n",
      "TroponinI : 0.5742820858879293\n",
      "TroponinT : 0.562502744207675\n",
      "Urine : 0.4555801478350003\n",
      "WBC : 0.1511062199488556\n",
      "Weight : 0.1409540477930963\n",
      "Ph : 0.16448179535134175\n",
      "Female\n",
      "-------------\n",
      "ALP : 0.39879135871907456\n",
      "ALT : 0.267721133048584\n",
      "AST : 0.25720379703529206\n",
      "Albumin : 0.6092860633354338\n",
      "BUN : 0.25336267131929824\n",
      "Bilirubin : 0.30159687434628696\n",
      "Cholesterol : 1.451438736858023\n",
      "Creatinine : 0.21841924710739646\n",
      "DiasABP : 0.2609409668878805\n",
      "FiO2 : 0.45227613070733225\n",
      "GCS : 0.26651854876210024\n",
      "Glucose : 0.5614778866945997\n",
      "HCO3 : 0.43152874248191053\n",
      "HCT : 0.5651900433835768\n",
      "HR : 0.284301913060418\n",
      "K : 0.6361210282792925\n",
      "Lactate : 0.3344905019136891\n",
      "MAP : 0.2807975966793253\n",
      "MechVent : 0.014552340041130598\n",
      "Mg : 0.5558963744094227\n",
      "NIDiasABP : 0.26422701668451914\n",
      "NIMAP : 0.18946461584471658\n",
      "NISysABP : 0.3142243519923081\n",
      "Na : 0.5279682365736087\n",
      "PaCO2 : 0.5567466124526796\n",
      "PaO2 : 0.4993733010196951\n",
      "Platelets : 0.3952104548639567\n",
      "RespRate : 0.5098115656562086\n",
      "SaO2 : 0.5922854291689998\n",
      "SysABP : 0.28322735478789157\n",
      "Temp : 0.39219315846253106\n",
      "TroponinI : 0.3995565866356851\n",
      "TroponinT : 0.6123319950645147\n",
      "Urine : 0.42233896178631336\n",
      "WBC : 0.14766102287965305\n",
      "Weight : 0.146240208924941\n",
      "Ph : 0.10289819543224764\n",
      "Male\n",
      "-------------\n",
      "ALP : 0.38898877485462546\n",
      "ALT : 0.2535387466831654\n",
      "AST : 0.20474908180055995\n",
      "Albumin : 0.6214555818413293\n",
      "BUN : 0.22887801365739638\n",
      "Bilirubin : 0.2494196758416589\n",
      "Cholesterol : 0.9186172160150028\n",
      "Creatinine : 0.21043755098296707\n",
      "DiasABP : 0.24092423347357203\n",
      "FiO2 : 0.5176707122148406\n",
      "GCS : 0.292769373342076\n",
      "Glucose : 0.590789236937461\n",
      "HCO3 : 0.43330508655701244\n",
      "HCT : 0.5361828053239647\n",
      "HR : 0.2752930018537663\n",
      "K : 0.591587045830217\n",
      "Lactate : 0.4068611690652343\n",
      "MAP : 0.29576810199300535\n",
      "MechVent : 0.014512000309648741\n",
      "Mg : 0.558360832761358\n",
      "NIDiasABP : 0.24298155623162018\n",
      "NIMAP : 0.1696624474676664\n",
      "NISysABP : 0.31302446058096317\n",
      "Na : 0.4961318001302222\n",
      "PaCO2 : 0.5171345304227045\n",
      "PaO2 : 0.4819310418659117\n",
      "Platelets : 0.3550379447194928\n",
      "RespRate : 0.49268879543822347\n",
      "SaO2 : 0.40930553744296266\n",
      "SysABP : 0.2853302268669079\n",
      "Temp : 0.389190981900697\n",
      "TroponinI : 0.5267892042560236\n",
      "TroponinT : 0.7161814591271893\n",
      "Urine : 0.467928694148557\n",
      "WBC : 0.16888308295243987\n",
      "Weight : 0.12914022291257715\n",
      "Ph : 0.1116224339956543\n",
      "Undefined Gender\n",
      "-------------\n",
      "ALP : 0.0\n",
      "ALT : 0.0\n",
      "AST : 0.0\n",
      "Albumin : 0.0\n",
      "BUN : 0.0\n",
      "Bilirubin : 0.0\n",
      "Cholesterol : 0.0\n",
      "Creatinine : 0.0\n",
      "DiasABP : 0.18285117970895587\n",
      "FiO2 : 0.0\n",
      "GCS : 0.13604015050514243\n",
      "Glucose : 0.24090817834651967\n",
      "HCO3 : 0.214274955188243\n",
      "HCT : 0.0\n",
      "HR : 0.27722215526927296\n",
      "K : 0.6481980955579346\n",
      "Lactate : 0.0\n",
      "MAP : 0.2719828516394677\n",
      "MechVent : 0.0\n",
      "Mg : 0.3853531754879323\n",
      "NIDiasABP : 0.220632602756738\n",
      "NIMAP : 0.11167377598002785\n",
      "NISysABP : 0.14676328428456942\n",
      "Na : 0.0\n",
      "PaCO2 : 0.0\n",
      "PaO2 : 0.0\n",
      "Platelets : 0.0\n",
      "RespRate : 0.03252691031141136\n",
      "SaO2 : 0.0\n",
      "SysABP : 0.1893623265809897\n",
      "Temp : 0.1537032534892859\n",
      "TroponinI : 0.0\n",
      "TroponinT : 0.0\n",
      "Urine : 0.42059680286137174\n",
      "WBC : 0.01887312720957615\n",
      "Weight : 0.12449213403705585\n",
      "Ph : 0.035273266586659156\n",
      "+65\n",
      "-------------\n",
      "ALP : 0.33175073606135197\n",
      "ALT : 0.28015962117866006\n",
      "AST : 0.20622493285291443\n",
      "Albumin : 0.5365561938928028\n",
      "BUN : 0.24239101579599082\n",
      "Bilirubin : 0.2318267102567951\n",
      "Cholesterol : 0.7364946138385429\n",
      "Creatinine : 0.20002615142754465\n",
      "DiasABP : 0.27115429886770204\n",
      "FiO2 : 0.49106117070517075\n",
      "GCS : 0.2761123375582958\n",
      "Glucose : 0.5904012067142612\n",
      "HCO3 : 0.4618853177895146\n",
      "HCT : 0.5091167734410094\n",
      "HR : 0.2804100599225535\n",
      "K : 0.5659236966725764\n",
      "Lactate : 0.3294009007484874\n",
      "MAP : 0.29964517183062633\n",
      "MechVent : 0.012942020909290175\n",
      "Mg : 0.5395916908719494\n",
      "NIDiasABP : 0.25873079181165004\n",
      "NIMAP : 0.17706817450081433\n",
      "NISysABP : 0.32384274293788595\n",
      "Na : 0.4756152570660664\n",
      "PaCO2 : 0.48401502931854035\n",
      "PaO2 : 0.4524705693832143\n",
      "Platelets : 0.3751860373336073\n",
      "RespRate : 0.4785731798772146\n",
      "SaO2 : 0.42656852738130385\n",
      "SysABP : 0.28756343136221213\n",
      "Temp : 0.38989220265879393\n",
      "TroponinI : 0.912479961059112\n",
      "TroponinT : 0.5609791905986549\n",
      "Urine : 0.40384171800804514\n",
      "WBC : 0.16854329059743003\n",
      "Weight : 0.12446211618614153\n",
      "Ph : 0.10031610890160858\n",
      "-65\n",
      "-------------\n",
      "ALP : 0.7408787242332653\n",
      "ALT : 0.3298661239454057\n",
      "AST : 0.24314401146209372\n",
      "Albumin : 0.6586605527765389\n",
      "BUN : 0.24428834974190747\n",
      "Bilirubin : 0.33640877967849353\n",
      "Cholesterol : 1.1837952493687076\n",
      "Creatinine : 0.21117656117043238\n",
      "DiasABP : 0.2315519034879002\n",
      "FiO2 : 0.5013271144677561\n",
      "GCS : 0.2737802114241974\n",
      "Glucose : 0.6194284343683953\n",
      "HCO3 : 0.44601168579753503\n",
      "HCT : 0.5272315972056935\n",
      "HR : 0.27443088606240124\n",
      "K : 0.6279779125339655\n",
      "Lactate : 0.3723518467434136\n",
      "MAP : 0.28572206795040184\n",
      "MechVent : 0.01827778097688463\n",
      "Mg : 0.5337204807442403\n",
      "NIDiasABP : 0.23699066294663038\n",
      "NIMAP : 0.18171006866991674\n",
      "NISysABP : 0.28241546711026816\n",
      "Na : 0.5378110208760685\n",
      "PaCO2 : 0.5463756332887388\n",
      "PaO2 : 0.5063699883297205\n",
      "Platelets : 0.37266188276822343\n",
      "RespRate : 0.4903802979185649\n",
      "SaO2 : 0.6221481912990683\n",
      "SysABP : 0.26221652341370083\n",
      "Temp : 0.3955860933331013\n",
      "TroponinI : 0.46524983396195685\n",
      "TroponinT : 0.7072584529786531\n",
      "Urine : 0.5519159513647637\n",
      "WBC : 0.15140961268952202\n",
      "Weight : 0.15661324683533903\n",
      "Ph : 0.10110188417357012\n",
      "ICUType 1\n",
      "-------------\n",
      "ALP : 0.22235793610078722\n",
      "ALT : 0.29696789504761684\n",
      "AST : 0.34011338349020054\n",
      "Albumin : 0.49008440975808004\n",
      "BUN : 0.21330778566791334\n",
      "Bilirubin : 0.20040337021114618\n",
      "Cholesterol : 1.002456638310131\n",
      "Creatinine : 0.19344937769602377\n",
      "DiasABP : 0.29990581828578905\n",
      "FiO2 : 0.4825158240561119\n",
      "GCS : 0.26439591750177543\n",
      "Glucose : 0.6072523344507726\n",
      "HCO3 : 0.4100329488712803\n",
      "HCT : 0.5633289528468385\n",
      "HR : 0.27117077383907173\n",
      "K : 0.5779429360597902\n",
      "Lactate : 0.4698623547071482\n",
      "MAP : 0.29125128180801896\n",
      "MechVent : 0.012979781499681835\n",
      "Mg : 0.4899786235815026\n",
      "NIDiasABP : 0.2279157628824723\n",
      "NIMAP : 0.16323363819519307\n",
      "NISysABP : 0.29574841515562666\n",
      "Na : 0.4654003732118383\n",
      "PaCO2 : 0.4740116568421564\n",
      "PaO2 : 0.5169436636597022\n",
      "Platelets : 0.3419856004283055\n",
      "RespRate : 0.484567573197248\n",
      "SaO2 : 0.5479769043353139\n",
      "SysABP : 0.3046432708972965\n",
      "Temp : 0.43942479896309433\n",
      "TroponinI : 1.4147481358654532\n",
      "TroponinT : 0.6195982930197838\n",
      "Urine : 0.5201973259152775\n",
      "WBC : 0.1182871042857641\n",
      "Weight : 0.1295687522063077\n",
      "Ph : 0.11420923338092366\n",
      "ICUType 2\n",
      "-------------\n",
      "ALP : 0.19595211673068974\n",
      "ALT : 0.35126687296166526\n",
      "AST : 0.2730454622891039\n",
      "Albumin : 0.7173112394561357\n",
      "BUN : 0.2228975171013092\n",
      "Bilirubin : 0.31825007717231846\n",
      "Cholesterol : 0.0\n",
      "Creatinine : 0.18312023147158726\n",
      "DiasABP : 0.22117548994550923\n",
      "FiO2 : 0.46776083410038544\n",
      "GCS : 0.4062223306057767\n",
      "Glucose : 0.4659182633173996\n",
      "HCO3 : 0.34808233069626676\n",
      "HCT : 0.4927182665454824\n",
      "HR : 0.23800347481085193\n",
      "K : 0.6690141539889067\n",
      "Lactate : 0.33978802305332667\n",
      "MAP : 0.28111816471160983\n",
      "MechVent : 0.012379252945052323\n",
      "Mg : 0.6057758090680515\n",
      "NIDiasABP : 0.2431217959773233\n",
      "NIMAP : 0.1625453483443444\n",
      "NISysABP : 0.31508572102741106\n",
      "Na : 0.4605609482763751\n",
      "PaCO2 : 0.47732277298714\n",
      "PaO2 : 0.4739815160589983\n",
      "Platelets : 0.34814576666055047\n",
      "RespRate : 0.4265145006141533\n",
      "SaO2 : 0.3517113441177471\n",
      "SysABP : 0.2689866590848715\n",
      "Temp : 0.2847329798193362\n",
      "TroponinI : 0.5378933764170092\n",
      "TroponinT : 0.7031988071412201\n",
      "Urine : 0.43415066131516244\n",
      "WBC : 0.17861731385371435\n",
      "Weight : 0.1516307942100883\n",
      "Ph : 0.11739755939068557\n",
      "ICUType 3\n",
      "-------------\n",
      "ALP : 0.7230860621494279\n",
      "ALT : 0.3114890577977422\n",
      "AST : 0.3058344630663541\n",
      "Albumin : 0.7085816206607927\n",
      "BUN : 0.2948288819285851\n",
      "Bilirubin : 0.28038481122664755\n",
      "Cholesterol : 0.9062963912535236\n",
      "Creatinine : 0.26524197523865756\n",
      "DiasABP : 0.2503330270678142\n",
      "FiO2 : 0.5071218369799416\n",
      "GCS : 0.26683685597920864\n",
      "Glucose : 0.6850118193767407\n",
      "HCO3 : 0.48633426301204785\n",
      "HCT : 0.5893721294924048\n",
      "HR : 0.2868745870693581\n",
      "K : 0.7076102188480413\n",
      "Lactate : 0.46898389064493734\n",
      "MAP : 0.274120320581768\n",
      "MechVent : 0.015398824789147038\n",
      "Mg : 0.5976673570387754\n",
      "NIDiasABP : 0.2543804537585744\n",
      "NIMAP : 0.180200891229692\n",
      "NISysABP : 0.3054265794459314\n",
      "Na : 0.4846467461768614\n",
      "PaCO2 : 0.6657660342690364\n",
      "PaO2 : 0.492036082975726\n",
      "Platelets : 0.4531559471348621\n",
      "RespRate : 0.5298683414713912\n",
      "SaO2 : 1.5843908865861114\n",
      "SysABP : 0.2740742342358265\n",
      "Temp : 0.5585857979394965\n",
      "TroponinI : 0.3432098992260162\n",
      "TroponinT : 0.5384253961771664\n",
      "Urine : 0.44456605063783766\n",
      "WBC : 0.152977735093807\n",
      "Weight : 0.1337099117314554\n",
      "Ph : 0.10132297547366252\n",
      "ICUType 4\n",
      "-------------\n",
      "ALP : 0.5056397817403011\n",
      "ALT : 0.27255801466428337\n",
      "AST : 0.3061413352982163\n",
      "Albumin : 0.7540849419365757\n",
      "BUN : 0.20966064686693311\n",
      "Bilirubin : 0.2678868262248369\n",
      "Cholesterol : 0.7250186348036318\n",
      "Creatinine : 0.2174462497181928\n",
      "DiasABP : 0.2415641876859489\n",
      "FiO2 : 0.43826359903626055\n",
      "GCS : 0.24578909547229005\n",
      "Glucose : 0.44383083021792613\n",
      "HCO3 : 0.39966575128291504\n",
      "HCT : 0.5156738181320276\n",
      "HR : 0.29735304330221035\n",
      "K : 0.5246219067619541\n",
      "Lactate : 0.4066923160801241\n",
      "MAP : 0.27626965511979856\n",
      "MechVent : 0.01676655673093299\n",
      "Mg : 0.5427783695002771\n",
      "NIDiasABP : 0.2582372865258363\n",
      "NIMAP : 0.18712313866322458\n",
      "NISysABP : 0.31721409860408706\n",
      "Na : 0.5480956376454192\n",
      "PaCO2 : 0.4768607034345228\n",
      "PaO2 : 0.4954407759425003\n",
      "Platelets : 0.33987079319863456\n",
      "RespRate : 0.5198607276634712\n",
      "SaO2 : 0.4538934168443376\n",
      "SysABP : 0.2810448573167451\n",
      "Temp : 0.43268954805117005\n",
      "TroponinI : 0.8606517177368178\n",
      "TroponinT : 0.5676629037945219\n",
      "Urine : 0.49339038416840075\n",
      "WBC : 0.15060897824582553\n",
      "Weight : 0.15306474403797238\n",
      "Ph : 0.09655286029656293\n",
      "Undefined classification\n",
      "-------------\n",
      "ALP : 0.2969711933420751\n",
      "ALT : 0.325779723339471\n",
      "AST : 0.24451982817282739\n",
      "Albumin : 0.7761709655447225\n",
      "BUN : 0.25789306020375824\n",
      "Bilirubin : 0.31200531017456057\n",
      "Cholesterol : 0.6185228642704512\n",
      "Creatinine : 0.23347503773118133\n",
      "DiasABP : 0.2507521426328185\n",
      "FiO2 : 0.4604318626003149\n",
      "GCS : 0.24195410234480919\n",
      "Glucose : 0.5978058668419063\n",
      "HCO3 : 0.47698206761081074\n",
      "HCT : 0.5630452787478524\n",
      "HR : 0.2857161315926199\n",
      "K : 0.6125691604056701\n",
      "Lactate : 0.3818155227717327\n",
      "MAP : 0.2938076679965238\n",
      "MechVent : 0.015602762801210616\n",
      "Mg : 0.4920263570818981\n",
      "NIDiasABP : 0.2526216692267379\n",
      "NIMAP : 0.18401262687254327\n",
      "NISysABP : 0.3094771564089047\n",
      "Na : 0.571253226317134\n",
      "PaCO2 : 0.6395649039593723\n",
      "PaO2 : 0.5417740631360564\n",
      "Platelets : 0.4123912589465217\n",
      "RespRate : 0.5082584106540895\n",
      "SaO2 : 0.6496089895395095\n",
      "SysABP : 0.2850157504282485\n",
      "Temp : 0.4442688060397725\n",
      "TroponinI : 0.5567697721187463\n",
      "TroponinT : 0.5266537769511287\n",
      "Urine : 0.47495404278913633\n",
      "WBC : 0.16671510775644993\n",
      "Weight : 0.1354207043286986\n",
      "Ph : 0.10517998130399123\n",
      "Low Weight\n",
      "-------------\n",
      "ALP : 0.2163949411395408\n",
      "ALT : 0.23869987284346758\n",
      "AST : 0.6993145785499238\n",
      "Albumin : 1.1720931746200332\n",
      "BUN : 0.20072308368139\n",
      "Bilirubin : 0.9540989148954322\n",
      "Cholesterol : 0.08586996160174372\n",
      "Creatinine : 0.17718889362399953\n",
      "DiasABP : 0.24664523015882117\n",
      "FiO2 : 0.4766907500074179\n",
      "GCS : 0.3148779443238605\n",
      "Glucose : 0.9817420902790102\n",
      "HCO3 : 0.5771684228047199\n",
      "HCT : 0.5455279146355343\n",
      "HR : 0.32912571982542227\n",
      "K : 0.5640570259638694\n",
      "Lactate : 0.7084877462976233\n",
      "MAP : 0.2529029761555121\n",
      "MechVent : 0.011589541580647818\n",
      "Mg : 0.48158571818650786\n",
      "NIDiasABP : 0.2850991028382829\n",
      "NIMAP : 0.2509737132893367\n",
      "NISysABP : 0.28828997188350064\n",
      "Na : 0.5098007081997193\n",
      "PaCO2 : 0.6001920691654591\n",
      "PaO2 : 0.592228115984599\n",
      "Platelets : 0.4376934857860229\n",
      "RespRate : 0.6886398693487977\n",
      "SaO2 : 0.3996761787599125\n",
      "SysABP : 0.2778389363730997\n",
      "Temp : 0.3092906879370877\n",
      "TroponinI : 0.0\n",
      "TroponinT : 0.19448924549686575\n",
      "Urine : 0.4938076686421067\n",
      "WBC : 0.19004689450974482\n",
      "Weight : 0.23737427669826028\n",
      "Ph : 0.1090458130995447\n",
      "Normal Weight\n",
      "-------------\n",
      "ALP : 0.28406044815589054\n",
      "ALT : 0.25169237658283466\n",
      "AST : 0.21897651501543552\n",
      "Albumin : 0.8402915751610249\n",
      "BUN : 0.21959032414179055\n",
      "Bilirubin : 0.392959158788567\n",
      "Cholesterol : 0.7047747353655271\n",
      "Creatinine : 0.22736198464603866\n",
      "DiasABP : 0.24610456552586718\n",
      "FiO2 : 0.43931432684002586\n",
      "GCS : 0.3260676234705042\n",
      "Glucose : 0.53453684372621\n",
      "HCO3 : 0.4306993953241203\n",
      "HCT : 0.4935507417566456\n",
      "HR : 0.27280351623685783\n",
      "K : 0.5991450622332929\n",
      "Lactate : 0.33949930555596464\n",
      "MAP : 0.2798033327550323\n",
      "MechVent : 0.013784697335756175\n",
      "Mg : 0.5840200077460157\n",
      "NIDiasABP : 0.23613708104226383\n",
      "NIMAP : 0.1774345513585783\n",
      "NISysABP : 0.29836989496815575\n",
      "Na : 0.5475274575826943\n",
      "PaCO2 : 0.4943650192339458\n",
      "PaO2 : 0.4885522030605117\n",
      "Platelets : 0.34413476762550194\n",
      "RespRate : 0.46618900720366574\n",
      "SaO2 : 0.4010251916578178\n",
      "SysABP : 0.26809733988455603\n",
      "Temp : 0.34989049382000076\n",
      "TroponinI : 0.5463974478388895\n",
      "TroponinT : 0.41064396715353474\n",
      "Urine : 0.3882069607008202\n",
      "WBC : 0.16570214657410348\n",
      "Weight : 0.1276529516557513\n",
      "Ph : 0.10235910920877908\n",
      "Overweight\n",
      "-------------\n",
      "ALP : 0.23605856118172483\n",
      "ALT : 0.3059377321485659\n",
      "AST : 0.3184234835225889\n",
      "Albumin : 0.8149251561044396\n",
      "BUN : 0.23566979483991418\n",
      "Bilirubin : 0.2429158008779558\n",
      "Cholesterol : 1.2325708781179912\n",
      "Creatinine : 0.20640142050517368\n",
      "DiasABP : 0.2559203480446378\n",
      "FiO2 : 0.41402673769854187\n",
      "GCS : 0.33148963019867567\n",
      "Glucose : 0.5622221115365832\n",
      "HCO3 : 0.35579614008332355\n",
      "HCT : 0.5459973501086877\n",
      "HR : 0.2588144232252435\n",
      "K : 0.6550280878601592\n",
      "Lactate : 0.43134150452070036\n",
      "MAP : 0.2979963064784564\n",
      "MechVent : 0.014702130836156856\n",
      "Mg : 0.5176686227837493\n",
      "NIDiasABP : 0.24291189024323895\n",
      "NIMAP : 0.1690201310372932\n",
      "NISysABP : 0.29837096521961476\n",
      "Na : 0.502086181740241\n",
      "PaCO2 : 0.49416713903690274\n",
      "PaO2 : 0.4727345623845732\n",
      "Platelets : 0.4047181986329729\n",
      "RespRate : 0.44960509788006847\n",
      "SaO2 : 0.4141179589082745\n",
      "SysABP : 0.2819554553056942\n",
      "Temp : 0.3193424809075919\n",
      "TroponinI : 0.7815671462449019\n",
      "TroponinT : 0.6521499601576289\n",
      "Urine : 0.43339483783359545\n",
      "WBC : 0.1419376404658974\n",
      "Weight : 0.0943088871770631\n",
      "Ph : 0.10106474304147786\n",
      "Obesity 1\n",
      "-------------\n",
      "ALP : 0.18400896078744935\n",
      "ALT : 0.27479772509252653\n",
      "AST : 0.20761888718646812\n",
      "Albumin : 0.4678073342956157\n",
      "BUN : 0.21044230762157795\n",
      "Bilirubin : 0.33520596743270936\n",
      "Cholesterol : 0.533448695300611\n",
      "Creatinine : 0.1799105468834988\n",
      "DiasABP : 0.2518883460774736\n",
      "FiO2 : 0.5079578321422784\n",
      "GCS : 0.28841094634461406\n",
      "Glucose : 0.45359434929525494\n",
      "HCO3 : 0.38048598235789793\n",
      "HCT : 0.5419350782865942\n",
      "HR : 0.25093179108427516\n",
      "K : 0.532058547319302\n",
      "Lactate : 0.4216215920533188\n",
      "MAP : 0.2879793521662811\n",
      "MechVent : 0.014115385650734221\n",
      "Mg : 0.48344316531345627\n",
      "NIDiasABP : 0.2152836310990449\n",
      "NIMAP : 0.170465612597922\n",
      "NISysABP : 0.291262808547087\n",
      "Na : 0.42102618947302384\n",
      "PaCO2 : 0.4519336284259322\n",
      "PaO2 : 0.4730424200006403\n",
      "Platelets : 0.3754422356532115\n",
      "RespRate : 0.4756354670719129\n",
      "SaO2 : 0.39481287972765033\n",
      "SysABP : 0.24881056360227005\n",
      "Temp : 0.2900064723711995\n",
      "TroponinI : 0.5224272630775174\n",
      "TroponinT : 0.41264737268917023\n",
      "Urine : 0.4936619752794534\n",
      "WBC : 0.22413113608635968\n",
      "Weight : 0.1304530711495871\n",
      "Ph : 1.006255796754588\n",
      "Obesity 2\n",
      "-------------\n",
      "ALP : 0.34720343498597234\n",
      "ALT : 0.31863909400009244\n",
      "AST : 0.23774769377594063\n",
      "Albumin : 0.6702086021936785\n",
      "BUN : 0.30935446872649575\n",
      "Bilirubin : 0.31008297193146606\n",
      "Cholesterol : 0.34742168656195943\n",
      "Creatinine : 0.19261190161523864\n",
      "DiasABP : 0.23569545157721455\n",
      "FiO2 : 0.5011276401557136\n",
      "GCS : 0.29964908925461786\n",
      "Glucose : 0.5785858812930539\n",
      "HCO3 : 0.31092863637627677\n",
      "HCT : 0.5370006682105836\n",
      "HR : 0.25634973222370155\n",
      "K : 0.5334584042131985\n",
      "Lactate : 0.36346151190825365\n",
      "MAP : 0.2642258991318295\n",
      "MechVent : 0.014135564845360462\n",
      "Mg : 0.6478874718171411\n",
      "NIDiasABP : 0.24214911449447452\n",
      "NIMAP : 0.16175606080261223\n",
      "NISysABP : 0.2982500798851418\n",
      "Na : 0.40483834455047285\n",
      "PaCO2 : 0.42726822705067147\n",
      "PaO2 : 0.34605671365275403\n",
      "Platelets : 0.3990161537230884\n",
      "RespRate : 0.4865477498851497\n",
      "SaO2 : 0.43839534927863577\n",
      "SysABP : 0.2649227032451148\n",
      "Temp : 0.3646586984958128\n",
      "TroponinI : 0.0\n",
      "TroponinT : 1.4516069413777122\n",
      "Urine : 0.4421581218643976\n",
      "WBC : 0.15796966173994165\n",
      "Weight : 0.13770711936213686\n",
      "Ph : 0.09473672468932415\n",
      "Obesity 3\n",
      "-------------\n",
      "ALP : 0.26665259756503873\n",
      "ALT : 0.8236240396126422\n",
      "AST : 0.20938207998247632\n",
      "Albumin : 0.7297137518792408\n",
      "BUN : 0.2516669992295612\n",
      "Bilirubin : 0.21676782881717052\n",
      "Cholesterol : 0.0\n",
      "Creatinine : 0.19265773496319236\n",
      "DiasABP : 0.2502527325780307\n",
      "FiO2 : 0.5735210085673579\n",
      "GCS : 0.2951485458540803\n",
      "Glucose : 0.6320320491232778\n",
      "HCO3 : 0.47361247181960775\n",
      "HCT : 0.5854945514051753\n",
      "HR : 0.266090797223071\n",
      "K : 0.6008334597220697\n",
      "Lactate : 0.390224679975096\n",
      "MAP : 0.2799772809188953\n",
      "MechVent : 0.021395701971129225\n",
      "Mg : 0.5486795649201875\n",
      "NIDiasABP : 0.3189410755191813\n",
      "NIMAP : 0.22298470980969912\n",
      "NISysABP : 0.3402708648337854\n",
      "Na : 0.45356223803465145\n",
      "PaCO2 : 0.5548234278393724\n",
      "PaO2 : 0.3977623135185552\n",
      "Platelets : 0.2595095026396364\n",
      "RespRate : 0.4697042368536284\n",
      "SaO2 : 0.49033226666541574\n",
      "SysABP : 0.26691419256912174\n",
      "Temp : 0.33122930993312305\n",
      "TroponinI : 0.2639563268332174\n",
      "TroponinT : 1.03692539683769\n",
      "Urine : 0.5549327936792929\n",
      "WBC : 0.109518769933865\n",
      "Weight : 0.2884505055718383\n",
      "Ph : 0.10165069721581442\n"
     ]
    }
   ],
   "source": [
    "print(\"SAITS - MAE\")\n",
    "print(\"************\")\n",
    "toolkits.show_mae(testing_mae_saits_variables_standard, subgroups, variables)"
   ]
  },
  {
   "cell_type": "markdown",
   "metadata": {},
   "source": [
    "#### BRITS"
   ]
  },
  {
   "cell_type": "markdown",
   "metadata": {},
   "source": [
    "<h4>Standard Scaler (C/Normalização)</h4>"
   ]
  },
  {
   "cell_type": "code",
   "execution_count": 47,
   "metadata": {},
   "outputs": [
    {
     "name": "stdout",
     "output_type": "stream",
     "text": [
      "BRITS - MAE\n",
      "************\n",
      "General\n",
      "-------------\n",
      "ALP : 0.4591248631105258\n",
      "ALT : 0.2098298479270722\n",
      "AST : 0.27798859929904113\n",
      "Albumin : 0.6778925772529109\n",
      "BUN : 0.39521960833661646\n",
      "Bilirubin : 0.3833806392125974\n",
      "Cholesterol : 0.9463970561439892\n",
      "Creatinine : 0.3444718062995419\n",
      "DiasABP : 0.20806233248448402\n",
      "FiO2 : 0.34404522156046397\n",
      "GCS : 0.21322463397612945\n",
      "Glucose : 0.5644091100017328\n",
      "HCO3 : 0.5047606820899914\n",
      "HCT : 0.6338702223060172\n",
      "HR : 0.2431173715923441\n",
      "K : 0.6534995938478387\n",
      "Lactate : 0.4167839664888235\n",
      "MAP : 0.1564062923159312\n",
      "MechVent : 0.007398844359593802\n",
      "Mg : 0.5955810654854342\n",
      "NIDiasABP : 0.15725503986364742\n",
      "NIMAP : 0.09992748699932849\n",
      "NISysABP : 0.2543230216923866\n",
      "Na : 0.645442078485974\n",
      "PaCO2 : 1.1895743136362507\n",
      "PaO2 : 0.4776378612780617\n",
      "Platelets : 0.6445916196510731\n",
      "RespRate : 0.475295251812804\n",
      "SaO2 : 0.348066606252948\n",
      "SysABP : 0.25398352012962805\n",
      "Temp : 0.240561647460938\n",
      "TroponinI : 0.667214116433886\n",
      "TroponinT : 0.29949287221387894\n",
      "Urine : 0.3333883323992429\n",
      "WBC : 0.11011727656670119\n",
      "Weight : 0.061343608674303114\n",
      "Ph : 0.09434882258501495\n",
      "Female\n",
      "-------------\n",
      "ALP : 0.4723506060964951\n",
      "ALT : 0.10185940270651278\n",
      "AST : 0.3024434105433227\n",
      "Albumin : 0.665510604378843\n",
      "BUN : 0.4113747807022737\n",
      "Bilirubin : 0.2838089989257803\n",
      "Cholesterol : 1.316313407512585\n",
      "Creatinine : 0.24691153072314567\n",
      "DiasABP : 0.20953470568278365\n",
      "FiO2 : 0.3423848620348628\n",
      "GCS : 0.2043228152819799\n",
      "Glucose : 0.5565665284887615\n",
      "HCO3 : 0.5505021337194226\n",
      "HCT : 0.6286522264246752\n",
      "HR : 0.25052768923637475\n",
      "K : 0.6733337041789217\n",
      "Lactate : 0.37083533033464083\n",
      "MAP : 0.17368796932726147\n",
      "MechVent : 0.006747703165370343\n",
      "Mg : 0.5734723996652004\n",
      "NIDiasABP : 0.171616260566208\n",
      "NIMAP : 0.11001844506444602\n",
      "NISysABP : 0.24881364491287325\n",
      "Na : 0.7008539967625157\n",
      "PaCO2 : 0.4713282698741606\n",
      "PaO2 : 0.4830146700509505\n",
      "Platelets : 0.6582186111110372\n",
      "RespRate : 0.47974851937853763\n",
      "SaO2 : 0.5769435136586006\n",
      "SysABP : 0.2563772569274273\n",
      "Temp : 0.2787855930853742\n",
      "TroponinI : 0.5303692965576018\n",
      "TroponinT : 0.3245388350346032\n",
      "Urine : 0.2907085974782619\n",
      "WBC : 0.10292654766948946\n",
      "Weight : 0.058495756343322096\n",
      "Ph : 0.03429932490073132\n",
      "Male\n",
      "-------------\n",
      "ALP : 0.5215964049368691\n",
      "ALT : 0.17952189284762848\n",
      "AST : 0.1218574267659091\n",
      "Albumin : 0.6612546921434758\n",
      "BUN : 0.47313963159998557\n",
      "Bilirubin : 0.26849129729876614\n",
      "Cholesterol : 0.8875399756459856\n",
      "Creatinine : 0.4086673829090625\n",
      "DiasABP : 0.20264285017787084\n",
      "FiO2 : 0.38881632905193675\n",
      "GCS : 0.2186207716677957\n",
      "Glucose : 0.603617366635926\n",
      "HCO3 : 0.5260285713813688\n",
      "HCT : 0.6577512627839873\n",
      "HR : 0.24469221838481164\n",
      "K : 0.6205738686899485\n",
      "Lactate : 0.46896165513656884\n",
      "MAP : 0.17239117172685828\n",
      "MechVent : 0.007949415685690596\n",
      "Mg : 0.6120408841248812\n",
      "NIDiasABP : 0.1794684942766366\n",
      "NIMAP : 0.09810443253373032\n",
      "NISysABP : 0.268271125363514\n",
      "Na : 0.6412099776834559\n",
      "PaCO2 : 0.4493377474437719\n",
      "PaO2 : 0.4545439572326916\n",
      "Platelets : 0.612818281347822\n",
      "RespRate : 0.467461971962203\n",
      "SaO2 : 0.9631436680048339\n",
      "SysABP : 0.2636333764634343\n",
      "Temp : 0.2618033821093185\n",
      "TroponinI : 0.7457781083685382\n",
      "TroponinT : 0.35635717138502854\n",
      "Urine : 0.35533738916222685\n",
      "WBC : 0.12021228957177517\n",
      "Weight : 0.05476369622940294\n",
      "Ph : 0.033856753411456164\n",
      "Undefined Gender\n",
      "-------------\n",
      "ALP : 0.0\n",
      "ALT : 0.0\n",
      "AST : 0.0\n",
      "Albumin : 0.0\n",
      "BUN : 0.0\n",
      "Bilirubin : 0.0\n",
      "Cholesterol : 0.0\n",
      "Creatinine : 0.0\n",
      "DiasABP : 0.22980983675459624\n",
      "FiO2 : 0.0\n",
      "GCS : 0.14707111012435606\n",
      "Glucose : 0.17436763908190725\n",
      "HCO3 : 0.17130932884417974\n",
      "HCT : 0.0\n",
      "HR : 0.23982270529582114\n",
      "K : 0.6736702746131231\n",
      "Lactate : 0.0\n",
      "MAP : 0.2091442986656935\n",
      "MechVent : 0.0\n",
      "Mg : 0.29485065260222343\n",
      "NIDiasABP : 0.10616918709994408\n",
      "NIMAP : 0.03621224869521595\n",
      "NISysABP : 0.1752217960362967\n",
      "Na : 0.0\n",
      "PaCO2 : 0.0\n",
      "PaO2 : 0.0\n",
      "Platelets : 0.0\n",
      "RespRate : 0.0400015153054625\n",
      "SaO2 : 0.0\n",
      "SysABP : 0.16993852308729698\n",
      "Temp : 0.2700471093470768\n",
      "TroponinI : 0.0\n",
      "TroponinT : 0.0\n",
      "Urine : 0.43804126444544544\n",
      "WBC : 0.03161171541118861\n",
      "Weight : 0.05161361931011131\n",
      "Ph : 0.0556431329838706\n",
      "+65\n",
      "-------------\n",
      "ALP : 0.6139276875470061\n",
      "ALT : 0.16661796494731473\n",
      "AST : 0.11231389534968526\n",
      "Albumin : 0.5836759288639979\n",
      "BUN : 0.464618689040678\n",
      "Bilirubin : 0.20617572465729786\n",
      "Cholesterol : 0.6823737259303551\n",
      "Creatinine : 0.27308273791356236\n",
      "DiasABP : 0.20360374094325154\n",
      "FiO2 : 0.35481623175871957\n",
      "GCS : 0.21487467722500322\n",
      "Glucose : 0.5931292783216062\n",
      "HCO3 : 0.5569039079976261\n",
      "HCT : 0.6264365382379675\n",
      "HR : 0.24664962221575157\n",
      "K : 0.5674112711104881\n",
      "Lactate : 0.3447885841303662\n",
      "MAP : 0.16817922488533305\n",
      "MechVent : 0.006393708231510704\n",
      "Mg : 0.5828684766261554\n",
      "NIDiasABP : 0.17613327256825403\n",
      "NIMAP : 0.10245148090559356\n",
      "NISysABP : 0.2622773614437512\n",
      "Na : 0.6382337104724226\n",
      "PaCO2 : 0.4270872061767273\n",
      "PaO2 : 0.4433359983434221\n",
      "Platelets : 0.6311261314997352\n",
      "RespRate : 0.464163753842074\n",
      "SaO2 : 1.119685603436657\n",
      "SysABP : 0.24270334262915186\n",
      "Temp : 0.2607230565209776\n",
      "TroponinI : 0.9119257419088436\n",
      "TroponinT : 0.29011904542128597\n",
      "Urine : 0.2979858721146089\n",
      "WBC : 0.12921001148439032\n",
      "Weight : 0.05210631258514696\n",
      "Ph : 0.034264149846147514\n",
      "-65\n",
      "-------------\n",
      "ALP : 1.0636881623060819\n",
      "ALT : 0.2735435854778693\n",
      "AST : 0.18019205307797337\n",
      "Albumin : 0.7094750442946227\n",
      "BUN : 0.3895165083146161\n",
      "Bilirubin : 0.4587133510263586\n",
      "Cholesterol : 1.073912175651407\n",
      "Creatinine : 0.3588470880086742\n",
      "DiasABP : 0.19245403222543708\n",
      "FiO2 : 0.3505449085183805\n",
      "GCS : 0.20944339475315704\n",
      "Glucose : 0.6255228271981214\n",
      "HCO3 : 0.5169113299196821\n",
      "HCT : 0.6489331965921082\n",
      "HR : 0.23947139124799602\n",
      "K : 0.652338151130609\n",
      "Lactate : 0.40066244246559257\n",
      "MAP : 0.167137415328473\n",
      "MechVent : 0.006916098969701905\n",
      "Mg : 0.580303613533964\n",
      "NIDiasABP : 0.16885866230722066\n",
      "NIMAP : 0.09914076013161573\n",
      "NISysABP : 0.23056336257911633\n",
      "Na : 0.6870381726531565\n",
      "PaCO2 : 0.4748882859640983\n",
      "PaO2 : 0.49121169526686703\n",
      "Platelets : 0.6481755142099096\n",
      "RespRate : 0.45912915489840317\n",
      "SaO2 : 0.5723564092567668\n",
      "SysABP : 0.23994664850954725\n",
      "Temp : 0.28637528512807425\n",
      "TroponinI : 0.49986266483938097\n",
      "TroponinT : 0.2732675308603129\n",
      "Urine : 0.40461652646259394\n",
      "WBC : 0.10064864675162888\n",
      "Weight : 0.07002787995366835\n",
      "Ph : 0.03434062214111563\n",
      "ICUType 1\n",
      "-------------\n",
      "ALP : 0.21429404115332343\n",
      "ALT : 0.2581801300301483\n",
      "AST : 0.33178126247951295\n",
      "Albumin : 0.7795431067067613\n",
      "BUN : 0.45694149685238206\n",
      "Bilirubin : 0.09211021349268975\n",
      "Cholesterol : 0.9010749013573103\n",
      "Creatinine : 0.419311123003968\n",
      "DiasABP : 0.23678005881187394\n",
      "FiO2 : 0.374378265919465\n",
      "GCS : 0.2038090796235315\n",
      "Glucose : 0.6636422596322207\n",
      "HCO3 : 0.5872057761431685\n",
      "HCT : 0.6735562717127876\n",
      "HR : 0.23230041450759267\n",
      "K : 0.5692670582205115\n",
      "Lactate : 0.5705112274014941\n",
      "MAP : 0.21619866637285068\n",
      "MechVent : 0.008637714899469963\n",
      "Mg : 0.4940388561607047\n",
      "NIDiasABP : 0.14852225860866225\n",
      "NIMAP : 0.10304036882919866\n",
      "NISysABP : 0.23356944269831867\n",
      "Na : 0.6295341062207888\n",
      "PaCO2 : 0.4460020415645519\n",
      "PaO2 : 0.5097461645216232\n",
      "Platelets : 0.672138205783098\n",
      "RespRate : 0.45485402868744584\n",
      "SaO2 : 0.5290305045509542\n",
      "SysABP : 0.2491616258210433\n",
      "Temp : 0.30488061957347534\n",
      "TroponinI : 1.3357495404853446\n",
      "TroponinT : 0.7301628433450863\n",
      "Urine : 0.4167260709074527\n",
      "WBC : 0.07683291915269803\n",
      "Weight : 0.06849367638204516\n",
      "Ph : 0.030558348070987642\n",
      "ICUType 2\n",
      "-------------\n",
      "ALP : 0.19531430410975956\n",
      "ALT : 0.3376544799444255\n",
      "AST : 0.1347119700063337\n",
      "Albumin : 0.8852134722690953\n",
      "BUN : 0.26832096096802\n",
      "Bilirubin : 0.27272123717330327\n",
      "Cholesterol : 0.0\n",
      "Creatinine : 0.24883777267109647\n",
      "DiasABP : 0.16342700348578848\n",
      "FiO2 : 0.38126390970195\n",
      "GCS : 0.30304707034070466\n",
      "Glucose : 0.45814523549110603\n",
      "HCO3 : 0.38453645965130007\n",
      "HCT : 0.5663671025173816\n",
      "HR : 0.20333948768967725\n",
      "K : 0.7169520210140458\n",
      "Lactate : 0.49089069805811686\n",
      "MAP : 0.12399126611137468\n",
      "MechVent : 0.0045470762204839815\n",
      "Mg : 0.6809313862849475\n",
      "NIDiasABP : 0.14023673159191055\n",
      "NIMAP : 0.08927905374144886\n",
      "NISysABP : 0.24106304978828133\n",
      "Na : 0.5489466674638851\n",
      "PaCO2 : 0.404779729740442\n",
      "PaO2 : 0.47975411294684656\n",
      "Platelets : 0.4379493720418077\n",
      "RespRate : 0.4024650069258371\n",
      "SaO2 : 1.0038150117625755\n",
      "SysABP : 0.2185769457414861\n",
      "Temp : 0.14236676154537684\n",
      "TroponinI : 0.4735419592927507\n",
      "TroponinT : 0.06727051854912473\n",
      "Urine : 0.32264377679132505\n",
      "WBC : 0.1011110746985043\n",
      "Weight : 0.05194238298686153\n",
      "Ph : 0.02975463156459906\n",
      "ICUType 3\n",
      "-------------\n",
      "ALP : 1.1319355964563258\n",
      "ALT : 0.2995858257506662\n",
      "AST : 0.2377097141452593\n",
      "Albumin : 0.7827799488876444\n",
      "BUN : 0.6103098939992797\n",
      "Bilirubin : 0.3244942370506455\n",
      "Cholesterol : 0.6752377324766219\n",
      "Creatinine : 0.555937526097571\n",
      "DiasABP : 0.2370137817044195\n",
      "FiO2 : 0.3768143364849355\n",
      "GCS : 0.21264294218365293\n",
      "Glucose : 0.707951162943939\n",
      "HCO3 : 0.602549026119126\n",
      "HCT : 0.7129688158427555\n",
      "HR : 0.2554595571034168\n",
      "K : 0.7719118482303486\n",
      "Lactate : 0.57317257847132\n",
      "MAP : 0.16398542448538325\n",
      "MechVent : 0.00760112133350753\n",
      "Mg : 0.6315667436307268\n",
      "NIDiasABP : 0.17200759852307665\n",
      "NIMAP : 0.10325422969649826\n",
      "NISysABP : 0.26438515247634004\n",
      "Na : 0.7431216352207282\n",
      "PaCO2 : 0.5744665014612812\n",
      "PaO2 : 0.43359116696408256\n",
      "Platelets : 0.7185112315315914\n",
      "RespRate : 0.4982288288068531\n",
      "SaO2 : 1.5844865910892845\n",
      "SysABP : 0.2505426687967661\n",
      "Temp : 0.40589916865376313\n",
      "TroponinI : 0.6548831596564006\n",
      "TroponinT : 0.1892988307891216\n",
      "Urine : 0.33314639767832954\n",
      "WBC : 0.12372964859197197\n",
      "Weight : 0.056980016713780134\n",
      "Ph : 0.040306564935335736\n",
      "ICUType 4\n",
      "-------------\n",
      "ALP : 0.4880105350578216\n",
      "ALT : 0.19696644537553096\n",
      "AST : 0.28236643950506884\n",
      "Albumin : 0.7714529599983173\n",
      "BUN : 0.33333342535755056\n",
      "Bilirubin : 0.3788552943103315\n",
      "Cholesterol : 0.7928976981913323\n",
      "Creatinine : 0.23604907454128982\n",
      "DiasABP : 0.19973986175367006\n",
      "FiO2 : 0.3042785909579463\n",
      "GCS : 0.18503588300275897\n",
      "Glucose : 0.44089741110689723\n",
      "HCO3 : 0.4587680980767785\n",
      "HCT : 0.5838082711303783\n",
      "HR : 0.2652384939076581\n",
      "K : 0.545810121486171\n",
      "Lactate : 0.43933939354316753\n",
      "MAP : 0.16567214348765347\n",
      "MechVent : 0.007131627306736024\n",
      "Mg : 0.5650615274900468\n",
      "NIDiasABP : 0.20067569385785122\n",
      "NIMAP : 0.11035524063785297\n",
      "NISysABP : 0.2543025121402656\n",
      "Na : 0.6498249413239858\n",
      "PaCO2 : 0.41856534547878854\n",
      "PaO2 : 0.4749503234569555\n",
      "Platelets : 0.5888607969848242\n",
      "RespRate : 0.479565781019045\n",
      "SaO2 : 0.4499743958385365\n",
      "SysABP : 0.26747266667253156\n",
      "Temp : 0.33674239820307833\n",
      "TroponinI : 0.8218961397479049\n",
      "TroponinT : 0.1419773167645441\n",
      "Urine : 0.3509608903614174\n",
      "WBC : 0.09260053217063353\n",
      "Weight : 0.069836462496089\n",
      "Ph : 0.033616300790217164\n",
      "Undefined classification\n",
      "-------------\n",
      "ALP : 0.39790371345674475\n",
      "ALT : 0.19172565438616368\n",
      "AST : 0.13153872839945505\n",
      "Albumin : 0.838276900298598\n",
      "BUN : 0.45586372828883437\n",
      "Bilirubin : 0.3873388207391975\n",
      "Cholesterol : 0.53588790913259\n",
      "Creatinine : 0.41643045331263073\n",
      "DiasABP : 0.22900197229128144\n",
      "FiO2 : 0.34778613622637844\n",
      "GCS : 0.17922953730434166\n",
      "Glucose : 0.6181262748167153\n",
      "HCO3 : 0.5813982322816289\n",
      "HCT : 0.6735661676448251\n",
      "HR : 0.25332483669988765\n",
      "K : 0.6563168132803636\n",
      "Lactate : 0.3978515125936538\n",
      "MAP : 0.18176742983790903\n",
      "MechVent : 0.007929447085111131\n",
      "Mg : 0.53081088988258\n",
      "NIDiasABP : 0.17323382656528202\n",
      "NIMAP : 0.1075290016529028\n",
      "NISysABP : 0.2656436935844474\n",
      "Na : 0.7455026127169506\n",
      "PaCO2 : 0.5436556789395893\n",
      "PaO2 : 0.46961966264764504\n",
      "Platelets : 0.7455531618163324\n",
      "RespRate : 0.4765604867770865\n",
      "SaO2 : 0.589795314790989\n",
      "SysABP : 0.26692383324653385\n",
      "Temp : 0.3225781660444751\n",
      "TroponinI : 0.8013257153823315\n",
      "TroponinT : 0.21074734135365814\n",
      "Urine : 0.3513313082920576\n",
      "WBC : 0.1285670924965216\n",
      "Weight : 0.06705555865889884\n",
      "Ph : 0.03558597868035275\n",
      "Low Weight\n",
      "-------------\n",
      "ALP : 2.5859758306247667\n",
      "ALT : 0.17799734786844357\n",
      "AST : 0.4335928173362818\n",
      "Albumin : 0.7776317029298222\n",
      "BUN : 0.381064250322003\n",
      "Bilirubin : 1.4060455098444173\n",
      "Cholesterol : 0.04761234409837737\n",
      "Creatinine : 0.20557950546841458\n",
      "DiasABP : 0.27353441777771015\n",
      "FiO2 : 0.4158277669529153\n",
      "GCS : 0.1741183440417657\n",
      "Glucose : 1.0195911424203579\n",
      "HCO3 : 0.7924631976940644\n",
      "HCT : 0.7487795161853613\n",
      "HR : 0.2830660203422633\n",
      "K : 0.5882501398851276\n",
      "Lactate : 0.7647298881702621\n",
      "MAP : 0.19232879891296362\n",
      "MechVent : 0.0029262990424138184\n",
      "Mg : 0.44509009049033876\n",
      "NIDiasABP : 0.21712455921144505\n",
      "NIMAP : 0.15016259018620265\n",
      "NISysABP : 0.23462167196304404\n",
      "Na : 0.747091980486378\n",
      "PaCO2 : 0.5121103433216122\n",
      "PaO2 : 0.7041287837229829\n",
      "Platelets : 0.7668751861339025\n",
      "RespRate : 0.6312024390511606\n",
      "SaO2 : 0.3004723366474603\n",
      "SysABP : 0.23835529975394149\n",
      "Temp : 0.1711607926554087\n",
      "TroponinI : 0.0\n",
      "TroponinT : 0.7433620791796637\n",
      "Urine : 0.36849824993172275\n",
      "WBC : 0.1148269967426491\n",
      "Weight : 0.07378457715481274\n",
      "Ph : 0.041060909769780676\n",
      "Normal Weight\n",
      "-------------\n",
      "ALP : 0.4962903641851341\n",
      "ALT : 0.106276294434315\n",
      "AST : 0.10143195664055009\n",
      "Albumin : 0.8854814820256399\n",
      "BUN : 0.47876840516483604\n",
      "Bilirubin : 0.5099003695848664\n",
      "Cholesterol : 0.8043943958919914\n",
      "Creatinine : 0.42613099309287716\n",
      "DiasABP : 0.1846474473782319\n",
      "FiO2 : 0.3413166786305763\n",
      "GCS : 0.23691959476300767\n",
      "Glucose : 0.5385772929452661\n",
      "HCO3 : 0.5148989904560731\n",
      "HCT : 0.5767461159116185\n",
      "HR : 0.2377640064163499\n",
      "K : 0.6571096215610885\n",
      "Lactate : 0.38077467086971684\n",
      "MAP : 0.14275271410137025\n",
      "MechVent : 0.006744162132749256\n",
      "Mg : 0.61180100606523\n",
      "NIDiasABP : 0.1721178258555819\n",
      "NIMAP : 0.10959498310837086\n",
      "NISysABP : 0.24574010758978068\n",
      "Na : 0.7240016321805112\n",
      "PaCO2 : 0.4330646801289352\n",
      "PaO2 : 0.479167797030017\n",
      "Platelets : 0.5159058265630863\n",
      "RespRate : 0.4414410329906371\n",
      "SaO2 : 2.130322246245731\n",
      "SysABP : 0.22681972074572634\n",
      "Temp : 0.2129417641999729\n",
      "TroponinI : 0.6103419620407192\n",
      "TroponinT : 0.2515272458320375\n",
      "Urine : 0.29176607284330514\n",
      "WBC : 0.11436998658891447\n",
      "Weight : 0.05189123889816756\n",
      "Ph : 0.03194186560855869\n",
      "Overweight\n",
      "-------------\n",
      "ALP : 0.2772861638975251\n",
      "ALT : 0.4327663928963471\n",
      "AST : 0.257115142803943\n",
      "Albumin : 0.8378403877776063\n",
      "BUN : 0.4133869229451422\n",
      "Bilirubin : 0.18490524779760764\n",
      "Cholesterol : 1.4074519849451501\n",
      "Creatinine : 0.27701539589417357\n",
      "DiasABP : 0.19725260075322698\n",
      "FiO2 : 0.3193197218101694\n",
      "GCS : 0.23241141749538505\n",
      "Glucose : 0.5934474876708229\n",
      "HCO3 : 0.4341573446773748\n",
      "HCT : 0.6275833744961139\n",
      "HR : 0.22301872560498445\n",
      "K : 0.7244187944821874\n",
      "Lactate : 0.49460970075108696\n",
      "MAP : 0.1585589245644289\n",
      "MechVent : 0.005137604424881064\n",
      "Mg : 0.5412731903849497\n",
      "NIDiasABP : 0.16362712799213097\n",
      "NIMAP : 0.10431434463629911\n",
      "NISysABP : 0.2629100067206372\n",
      "Na : 0.6013471323715319\n",
      "PaCO2 : 0.4263496568227384\n",
      "PaO2 : 0.4645550129620849\n",
      "Platelets : 0.5840428768647151\n",
      "RespRate : 0.4362701018888862\n",
      "SaO2 : 0.3669937008743688\n",
      "SysABP : 0.2542644954919052\n",
      "Temp : 0.17729370132515954\n",
      "TroponinI : 0.9860307763413633\n",
      "TroponinT : 0.47114868666444315\n",
      "Urine : 0.2960574852250147\n",
      "WBC : 0.08651313940758122\n",
      "Weight : 0.032966540842643124\n",
      "Ph : 0.03215343553081844\n",
      "Obesity 1\n",
      "-------------\n",
      "ALP : 0.26975448244155975\n",
      "ALT : 0.15100841085094263\n",
      "AST : 0.16042726089404086\n",
      "Albumin : 0.6676934400304179\n",
      "BUN : 0.45912361486103803\n",
      "Bilirubin : 0.3923146609260682\n",
      "Cholesterol : 0.599187118717601\n",
      "Creatinine : 0.275718291502191\n",
      "DiasABP : 0.20274253014020843\n",
      "FiO2 : 0.3472708332707567\n",
      "GCS : 0.20822374193529478\n",
      "Glucose : 0.4496130349305441\n",
      "HCO3 : 0.4978172173656881\n",
      "HCT : 0.6070131936016211\n",
      "HR : 0.22150992695002622\n",
      "K : 0.5464786518033781\n",
      "Lactate : 0.48315129161656956\n",
      "MAP : 0.16224608907260032\n",
      "MechVent : 0.005072495616452731\n",
      "Mg : 0.4246109332214774\n",
      "NIDiasABP : 0.1663817182782588\n",
      "NIMAP : 0.095418836167388\n",
      "NISysABP : 0.22946847270130952\n",
      "Na : 0.5584640136111128\n",
      "PaCO2 : 0.3990978689418045\n",
      "PaO2 : 0.40376655685807045\n",
      "Platelets : 0.5718058615731684\n",
      "RespRate : 0.4676968344446153\n",
      "SaO2 : 0.32937643050723575\n",
      "SysABP : 0.21232750466710149\n",
      "Temp : 0.16908857909540534\n",
      "TroponinI : 0.7087310686372978\n",
      "TroponinT : 0.29414887658309413\n",
      "Urine : 0.36729827049074865\n",
      "WBC : 0.1685700762296497\n",
      "Weight : 0.048006022759479024\n",
      "Ph : 0.9219915917887068\n",
      "Obesity 2\n",
      "-------------\n",
      "ALP : 0.18852991955371212\n",
      "ALT : 0.5270280689113964\n",
      "AST : 0.0677546955336191\n",
      "Albumin : 0.7338459537382418\n",
      "BUN : 0.6169488981591036\n",
      "Bilirubin : 0.23479156374440102\n",
      "Cholesterol : 0.13450236937629362\n",
      "Creatinine : 0.2590174318875355\n",
      "DiasABP : 0.26985196427274927\n",
      "FiO2 : 0.3410687842563565\n",
      "GCS : 0.22034749275431972\n",
      "Glucose : 0.6385296582110063\n",
      "HCO3 : 0.3636229995396799\n",
      "HCT : 0.6774786966293793\n",
      "HR : 0.23100515222465837\n",
      "K : 0.5939747543616427\n",
      "Lactate : 0.4153820175306169\n",
      "MAP : 0.14971684826702272\n",
      "MechVent : 0.006225074061238273\n",
      "Mg : 0.6004736370267224\n",
      "NIDiasABP : 0.1492638340409856\n",
      "NIMAP : 0.07517616278120039\n",
      "NISysABP : 0.2433631123671284\n",
      "Na : 0.641076339710838\n",
      "PaCO2 : 0.3891606206961462\n",
      "PaO2 : 0.37374229428271516\n",
      "Platelets : 0.5454592569232325\n",
      "RespRate : 0.4807060604304131\n",
      "SaO2 : 0.4867489966871226\n",
      "SysABP : 0.2533317391658555\n",
      "Temp : 0.24531780296280956\n",
      "TroponinI : 0.0\n",
      "TroponinT : 1.5021143882386014\n",
      "Urine : 0.3161319477575084\n",
      "WBC : 0.08854435866824292\n",
      "Weight : 0.06995092663799614\n",
      "Ph : 0.02836781537278077\n",
      "Obesity 3\n",
      "-------------\n",
      "ALP : 0.16918823301001173\n",
      "ALT : 0.9591789115306165\n",
      "AST : 0.04030043808009506\n",
      "Albumin : 0.6424705037102209\n",
      "BUN : 0.4836050642436051\n",
      "Bilirubin : 0.17588154627104385\n",
      "Cholesterol : 0.0\n",
      "Creatinine : 0.41286498529755705\n",
      "DiasABP : 0.166893427169621\n",
      "FiO2 : 0.4649176488288047\n",
      "GCS : 0.20047231113013103\n",
      "Glucose : 0.8388128156999365\n",
      "HCO3 : 0.5854974452919642\n",
      "HCT : 0.6587657563537436\n",
      "HR : 0.22860343362708246\n",
      "K : 0.6904999007157137\n",
      "Lactate : 0.4508896428531816\n",
      "MAP : 0.1200296859042669\n",
      "MechVent : 0.008663791491290877\n",
      "Mg : 0.6279912917260078\n",
      "NIDiasABP : 0.2741680251726211\n",
      "NIMAP : 0.1345101710143888\n",
      "NISysABP : 0.29828996465138213\n",
      "Na : 0.6668684734099526\n",
      "PaCO2 : 0.4409441729273346\n",
      "PaO2 : 0.35097743918923385\n",
      "Platelets : 0.40546031327010756\n",
      "RespRate : 0.4454424101820082\n",
      "SaO2 : 0.47966155915104886\n",
      "SysABP : 0.23309849496293736\n",
      "Temp : 0.1648622070152438\n",
      "TroponinI : 0.11155261456072578\n",
      "TroponinT : 1.1786538213799647\n",
      "Urine : 0.30551383092853696\n",
      "WBC : 0.07513035751340588\n",
      "Weight : 0.1333929823412296\n",
      "Ph : 0.03355689977648614\n"
     ]
    }
   ],
   "source": [
    "print(\"BRITS - MAE\")\n",
    "print(\"************\")\n",
    "toolkits.show_mae(testing_mae_brits_variables_standard, subgroups, variables)"
   ]
  }
 ],
 "metadata": {
  "kernelspec": {
   "display_name": "Python 3",
   "language": "python",
   "name": "python3"
  },
  "language_info": {
   "codemirror_mode": {
    "name": "ipython",
    "version": 3
   },
   "file_extension": ".py",
   "mimetype": "text/x-python",
   "name": "python",
   "nbconvert_exporter": "python",
   "pygments_lexer": "ipython3",
   "version": "3.11.0"
  }
 },
 "nbformat": 4,
 "nbformat_minor": 2
}

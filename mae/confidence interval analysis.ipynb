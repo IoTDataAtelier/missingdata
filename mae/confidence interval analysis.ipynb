{
 "cells": [
  {
   "cell_type": "markdown",
   "metadata": {},
   "source": [
    "# Import libraries"
   ]
  },
  {
   "cell_type": "code",
   "execution_count": 1,
   "metadata": {},
   "outputs": [
    {
     "name": "stderr",
     "output_type": "stream",
     "text": [
      "2025-04-28 21:08:45.276543: E external/local_xla/xla/stream_executor/cuda/cuda_fft.cc:477] Unable to register cuFFT factory: Attempting to register factory for plugin cuFFT when one has already been registered\n",
      "WARNING: All log messages before absl::InitializeLog() is called are written to STDERR\n",
      "E0000 00:00:1745885325.292356  354834 cuda_dnn.cc:8310] Unable to register cuDNN factory: Attempting to register factory for plugin cuDNN when one has already been registered\n",
      "E0000 00:00:1745885325.297332  354834 cuda_blas.cc:1418] Unable to register cuBLAS factory: Attempting to register factory for plugin cuBLAS when one has already been registered\n",
      "2025-04-28 21:08:45.313572: I tensorflow/core/platform/cpu_feature_guard.cc:210] This TensorFlow binary is optimized to use available CPU instructions in performance-critical operations.\n",
      "To enable the following instructions: AVX2 FMA, in other operations, rebuild TensorFlow with the appropriate compiler flags.\n",
      "/usr/local/lib/python3.11/dist-packages/tqdm/auto.py:21: TqdmWarning: IProgress not found. Please update jupyter and ipywidgets. See https://ipywidgets.readthedocs.io/en/stable/user_install.html\n",
      "  from .autonotebook import tqdm as notebook_tqdm\n"
     ]
    },
    {
     "name": "stdout",
     "output_type": "stream",
     "text": [
      "\u001b[34m\n",
      "████████╗██╗███╗   ███╗███████╗    ███████╗███████╗██████╗ ██╗███████╗███████╗    █████╗ ██╗\n",
      "╚══██╔══╝██║████╗ ████║██╔════╝    ██╔════╝██╔════╝██╔══██╗██║██╔════╝██╔════╝   ██╔══██╗██║\n",
      "   ██║   ██║██╔████╔██║█████╗█████╗███████╗█████╗  ██████╔╝██║█████╗  ███████╗   ███████║██║\n",
      "   ██║   ██║██║╚██╔╝██║██╔══╝╚════╝╚════██║██╔══╝  ██╔══██╗██║██╔══╝  ╚════██║   ██╔══██║██║\n",
      "   ██║   ██║██║ ╚═╝ ██║███████╗    ███████║███████╗██║  ██║██║███████╗███████║██╗██║  ██║██║\n",
      "   ╚═╝   ╚═╝╚═╝     ╚═╝╚══════╝    ╚══════╝╚══════╝╚═╝  ╚═╝╚═╝╚══════╝╚══════╝╚═╝╚═╝  ╚═╝╚═╝\n",
      "ai4ts v0.0.3 - building AI for unified time-series analysis, https://time-series.ai \u001b[0m\n",
      "\n"
     ]
    }
   ],
   "source": [
    "import pypots\n",
    "import os\n",
    "import sys\n",
    "from pypots.nn.functional import calc_mae\n",
    "from pypots.optim import Adam\n",
    "from pypots.imputation import SAITS, BRITS, USGAN, GPVAE, MRNN\n",
    "import numpy as np\n",
    "import benchpots\n",
    "from pypots.utils.random import set_random_seed\n",
    "module_path = os.path.abspath(os.path.join('..'))\n",
    "if module_path not in sys.path:\n",
    "    sys.path.append(module_path)\n",
    "import pandas as pd    \n",
    "from pypotsModify.benchpotsMAE.datasets import preprocess_physionet2012 as preprocess_physionet2012\n",
    "from missingData.toolkits import toolkits\n",
    "import math\n",
    "import scipy.stats as st"
   ]
  },
  {
   "cell_type": "markdown",
   "metadata": {},
   "source": [
    "# Loading database"
   ]
  },
  {
   "cell_type": "markdown",
   "metadata": {},
   "source": [
    "### Standard Scaler "
   ]
  },
  {
   "cell_type": "code",
   "execution_count": 2,
   "metadata": {},
   "outputs": [
    {
     "name": "stderr",
     "output_type": "stream",
     "text": [
      "2025-04-28 21:08:53 [INFO]: Have set the random seed as 2022 for numpy and pytorch.\n",
      "2025-04-28 21:08:53 [INFO]: You're using dataset physionet_2012, please cite it properly in your work. You can find its reference information at the below link: \n",
      "https://github.com/WenjieDu/TSDB/tree/main/dataset_profiles/physionet_2012\n",
      "2025-04-28 21:08:53 [INFO]: Dataset physionet_2012 has already been downloaded. Processing directly...\n",
      "2025-04-28 21:08:53 [INFO]: Dataset physionet_2012 has already been cached. Loading from cache directly...\n",
      "2025-04-28 21:08:53 [INFO]: Loaded successfully!\n",
      "2025-04-28 21:09:07 [WARNING]: Note that physionet_2012 has sparse observations in the time series, hence we don't add additional missing values to the training dataset. \n",
      "2025-04-28 21:09:07 [WARNING]: Note that physionet_2012 has sparse observations in the time series, hence we don't add additional missing values to the training dataset. \n",
      "2025-04-28 21:09:08 [INFO]: 68807 values masked out in the val set as ground truth, take 9.97% of the original observed values\n",
      "2025-04-28 21:09:08 [INFO]: 68807 values masked out in the val set as ground truth, take 9.97% of the original observed values\n",
      "2025-04-28 21:09:08 [INFO]: 86319 values masked out in the test set as ground truth, take 9.99% of the original observed values\n",
      "2025-04-28 21:09:08 [INFO]: 86319 values masked out in the test set as ground truth, take 9.99% of the original observed values\n",
      "2025-04-28 21:09:08 [INFO]: Total sample number: 11988\n",
      "2025-04-28 21:09:08 [INFO]: Total sample number: 11988\n",
      "2025-04-28 21:09:08 [INFO]: Training set size: 7671 (63.99%)\n",
      "2025-04-28 21:09:08 [INFO]: Training set size: 7671 (63.99%)\n",
      "2025-04-28 21:09:08 [INFO]: Validation set size: 1918 (16.00%)\n",
      "2025-04-28 21:09:08 [INFO]: Validation set size: 1918 (16.00%)\n",
      "2025-04-28 21:09:08 [INFO]: Test set size: 2399 (20.01%)\n",
      "2025-04-28 21:09:08 [INFO]: Test set size: 2399 (20.01%)\n",
      "2025-04-28 21:09:08 [INFO]: Number of steps: 48\n",
      "2025-04-28 21:09:08 [INFO]: Number of steps: 48\n",
      "2025-04-28 21:09:08 [INFO]: Number of features: 37\n",
      "2025-04-28 21:09:08 [INFO]: Number of features: 37\n",
      "2025-04-28 21:09:08 [INFO]: Train set missing rate: 79.70%\n",
      "2025-04-28 21:09:08 [INFO]: Train set missing rate: 79.70%\n",
      "2025-04-28 21:09:08 [INFO]: Validating set missing rate: 81.75%\n",
      "2025-04-28 21:09:08 [INFO]: Validating set missing rate: 81.75%\n",
      "2025-04-28 21:09:08 [INFO]: Test set missing rate: 81.75%\n",
      "2025-04-28 21:09:08 [INFO]: Test set missing rate: 81.75%\n"
     ]
    },
    {
     "name": "stdout",
     "output_type": "stream",
     "text": [
      "dict_keys(['n_classes', 'n_steps', 'n_features', 'scaler', 'train_X', 'train_y', 'train_ICUType', 'val_X', 'val_y', 'val_ICUType', 'test_X', 'test_y', 'test_ICUType', 'female_gender_test_X', 'female_gender_test_y', 'test_ICUType_female_gender', 'male_gender_test_X', 'male_gender_test_y', 'test_ICUType_male_gender', 'undefined_gender_test_X', 'undefined_gender_test_y', 'test_ICUType_undefined_gender', 'more_than_or_equal_to_65_test_X', 'more_than_or_equal_to_65_test_y', 'test_ICUType_more_than_or_equal_to_65', 'less_than_65_test_X', 'less_than_65_test_y', 'test_ICUType_less_than_65', 'ICUType_1_test_X', 'ICUType_1_test_y', 'test_ICUType_1', 'ICUType_2_test_X', 'ICUType_2_test_y', 'test_ICUType_2', 'ICUType_3_test_X', 'ICUType_3_test_y', 'test_ICUType_3', 'ICUType_4_test_X', 'ICUType_4_test_y', 'test_ICUType_4', 'classificacao_undefined_test_X', 'classificacao_undefined_test_y', 'test_ICUType_classificacao_undefined', 'classificacao_baixo_peso_test_X', 'classificacao_baixo_peso_test_y', 'test_ICUType_classificao_baixo_peso', 'classificacao_normal_peso_test_X', 'classificacao_normal_peso_test_y', 'test_ICUType_classificacao_normal_peso', 'classificacao_sobrepeso_test_X', 'classificacao_sobrepeso_test_y', 'test_ICUType_classificacao_sobrepeso', 'classificacao_obesidade_1_test_X', 'classificacao_obesidade_1_test_y', 'test_ICUType_classificacao_obesidade_1', 'classificacao_obesidade_2_test_X', 'classificacao_obesidade_2_test_y', 'test_ICUType_classificacao_obesidade_2', 'classificacao_obesidade_3_test_X', 'classificacao_obesidade_3_test_y', 'test_ICUType_classificacao_obesidade_3', 'val_X_ori', 'test_X_ori', 'female_gender_test_X_ori', 'male_gender_test_X_ori', 'undefined_gender_test_X_ori', 'more_than_or_equal_to_65_test_X_ori', 'less_than_65_test_X_ori', 'ICUType_1_test_X_ori', 'ICUType_2_test_X_ori', 'ICUType_3_test_X_ori', 'ICUType_4_test_X_ori', 'classificacao_undefined_test_X_ori', 'classificacao_baixo_peso_test_X_ori', 'classificacao_normal_peso_test_X_ori', 'classificacao_sobrepeso_test_X_ori', 'classificacao_obesidade_1_test_X_ori', 'classificacao_obesidade_2_test_X_ori', 'classificacao_obesidade_3_test_X_ori'])\n"
     ]
    }
   ],
   "source": [
    "set_random_seed()\n",
    "physionet2012_dataset_standard = preprocess_physionet2012(subset=\"all\", rate=0.1, normalization=1)\n",
    "print(physionet2012_dataset_standard.keys())"
   ]
  },
  {
   "cell_type": "code",
   "execution_count": 3,
   "metadata": {},
   "outputs": [],
   "source": [
    "scaler_standard = physionet2012_dataset_standard[\"scaler\"]"
   ]
  },
  {
   "cell_type": "code",
   "execution_count": 4,
   "metadata": {},
   "outputs": [],
   "source": [
    "dataset_for_training_standard, dataset_for_validating_standard, dataset_for_testing_ori_standard, dataset_for_testing_standard = toolkits.separating_dataset(physionet2012_dataset_standard)"
   ]
  },
  {
   "cell_type": "markdown",
   "metadata": {},
   "source": [
    "# Creating indicating mask and get test_X_ori"
   ]
  },
  {
   "cell_type": "markdown",
   "metadata": {},
   "source": [
    "### Standard Scaler"
   ]
  },
  {
   "cell_type": "code",
   "execution_count": 5,
   "metadata": {},
   "outputs": [],
   "source": [
    "dataset_for_testing_ori_standard_norm = toolkits.dict_to_list(dataset_for_testing_ori_standard)\n",
    "dataset_for_testing_standard_norm = toolkits.dict_to_list(dataset_for_testing_standard)\n",
    "indicating_mask_variable_standard_norm, test_X_ori_variable_standard_norm = toolkits.components_mae(dataset_for_testing_ori_standard_norm, dataset_for_testing_standard_norm)\n",
    "indicating_mask_variable_standard_norm = toolkits.pre_reshape(indicating_mask_variable_standard_norm)\n",
    "test_X_ori_variable_standard_norm = toolkits.pre_reshape(test_X_ori_variable_standard_norm)\n",
    "indicating_mask_variable_standard_norm = toolkits.reshape_variable(indicating_mask_variable_standard_norm)\n",
    "test_X_ori_variable_standard_norm = toolkits.reshape_variable(test_X_ori_variable_standard_norm)"
   ]
  },
  {
   "cell_type": "markdown",
   "metadata": {},
   "source": [
    "# Inicialize the models"
   ]
  },
  {
   "cell_type": "markdown",
   "metadata": {},
   "source": [
    "### SAITS"
   ]
  },
  {
   "cell_type": "markdown",
   "metadata": {},
   "source": [
    "<h4>Inicialize new model</h4>"
   ]
  },
  {
   "cell_type": "code",
   "execution_count": 6,
   "metadata": {},
   "outputs": [
    {
     "name": "stderr",
     "output_type": "stream",
     "text": [
      "2025-04-22 21:54:46 [INFO]: No given device, using default device: cuda\n",
      "2025-04-22 21:54:46 [INFO]: Model files will be saved to tutorial_results/imputation/saits/20250422_T215446\n",
      "2025-04-22 21:54:46 [INFO]: Tensorboard file will be saved to tutorial_results/imputation/saits/20250422_T215446/tensorboard\n",
      "2025-04-22 21:54:46 [INFO]: Using customized MAE as the training loss function.\n",
      "2025-04-22 21:54:46 [INFO]: Using customized MSE as the validation metric function.\n",
      "2025-04-22 21:54:46 [INFO]: SAITS initialized with the given hyperparameters, the number of trainable parameters: 720,182\n"
     ]
    }
   ],
   "source": [
    "saits = SAITS(\n",
    "    n_steps=physionet2012_dataset_standard['n_steps'],\n",
    "    n_features=physionet2012_dataset_standard['n_features'],\n",
    "    n_layers=1,\n",
    "    d_model=256,\n",
    "    d_ffn=128,\n",
    "    n_heads=4,\n",
    "    d_k=64,\n",
    "    d_v=64,\n",
    "    dropout=0.1,\n",
    "    ORT_weight=1,  # you can adjust the weight values of arguments ORT_weight\n",
    "    # and MIT_weight to make the SAITS model focus more on one task. Usually you can just leave them to the default values, i.e. 1.\n",
    "    MIT_weight=1,\n",
    "    batch_size=32,\n",
    "    # here we set epochs=10 for a quick demo, you can set it to 100 or more for better performance\n",
    "    epochs=10,\n",
    "    # here we set patience=3 to early stop the training if the evaluting loss doesn't decrease for 3 epoches.\n",
    "    # You can leave it to defualt as None to disable early stopping.\n",
    "    patience=3,\n",
    "    # give the optimizer. Different from torch.optim.Optimizer, you don't have to specify model's parameters when\n",
    "    # initializing pypots.optim.Optimizer. You can also leave it to default. It will initilize an Adam optimizer with lr=0.001.\n",
    "    optimizer=Adam(lr=1e-3),\n",
    "    # this num_workers argument is for torch.utils.data.Dataloader. It's the number of subprocesses to use for data loading.\n",
    "    # Leaving it to default as 0 means data loading will be in the main process, i.e. there won't be subprocesses.\n",
    "    # You can increase it to >1 if you think your dataloading is a bottleneck to your model training speed\n",
    "    num_workers=0,\n",
    "    # just leave it to default as None, PyPOTS will automatically assign the best device for you.\n",
    "    # Set it as 'cpu' if you don't have CUDA devices. You can also set it to 'cuda:0' or 'cuda:1' if you have multiple CUDA devices, even parallelly on ['cuda:0', 'cuda:1']\n",
    "    device=None,\n",
    "    # set the path for saving tensorboard and trained model files\n",
    "    saving_path=\"tutorial_results/imputation/saits\",\n",
    "    # only save the best model after training finished.\n",
    "    # You can also set it as \"better\" to save models performing better ever during training.\n",
    "    model_saving_strategy=\"best\",\n",
    ")"
   ]
  },
  {
   "cell_type": "markdown",
   "metadata": {},
   "source": [
    "<h4> Inicialize model</h4>"
   ]
  },
  {
   "cell_type": "code",
   "execution_count": 6,
   "metadata": {},
   "outputs": [
    {
     "name": "stderr",
     "output_type": "stream",
     "text": [
      "2025-04-28 21:10:27 [INFO]: No given device, using default device: cuda\n",
      "2025-04-28 21:10:27 [WARNING]: ‼️ saving_path not given. Model files and tensorboard file will not be saved.\n",
      "2025-04-28 21:10:27 [INFO]: Using customized MAE as the training loss function.\n",
      "2025-04-28 21:10:27 [INFO]: Using customized MSE as the validation metric function.\n"
     ]
    },
    {
     "name": "stderr",
     "output_type": "stream",
     "text": [
      "2025-04-28 21:10:27 [INFO]: SAITS initialized with the given hyperparameters, the number of trainable parameters: 720,182\n"
     ]
    }
   ],
   "source": [
    "saits = SAITS(\n",
    "    n_steps=physionet2012_dataset_standard['n_steps'],\n",
    "    n_features=physionet2012_dataset_standard['n_features'],\n",
    "    n_layers=1,\n",
    "    d_model=256,\n",
    "    d_ffn=128,\n",
    "    n_heads=4,\n",
    "    d_k=64,\n",
    "    d_v=64,\n",
    "    dropout=0.1,\n",
    "    ORT_weight=1,  # you can adjust the weight values of arguments ORT_weight\n",
    "    # and MIT_weight to make the SAITS model focus more on one task. Usually you can just leave them to the default values, i.e. 1.\n",
    "    MIT_weight=1,\n",
    "    batch_size=32,\n",
    "    # here we set epochs=10 for a quick demo, you can set it to 100 or more for better performance\n",
    "    epochs=10,\n",
    "    # here we set patience=3 to early stop the training if the evaluting loss doesn't decrease for 3 epoches.\n",
    "    # You can leave it to defualt as None to disable early stopping.\n",
    "    patience=3,\n",
    "    # give the optimizer. Different from torch.optim.Optimizer, you don't have to specify model's parameters when\n",
    "    # initializing pypots.optim.Optimizer. You can also leave it to default. It will initilize an Adam optimizer with lr=0.001.\n",
    "    optimizer=Adam(lr=1e-3),\n",
    "    # this num_workers argument is for torch.utils.data.Dataloader. It's the number of subprocesses to use for data loading.\n",
    "    # Leaving it to default as 0 means data loading will be in the main process, i.e. there won't be subprocesses.\n",
    "    # You can increase it to >1 if you think your dataloading is a bottleneck to your model training speed\n",
    "    num_workers=0,\n",
    "    # just leave it to default as None, PyPOTS will automatically assign the best device for you.\n",
    "    # Set it as 'cpu' if you don't have CUDA devices. You can also set it to 'cuda:0' or 'cuda:1' if you have multiple CUDA devices, even parallelly on ['cuda:0', 'cuda:1']\n",
    "    device=None,\n",
    "    # set the path for saving tensorboard and trained model files\n",
    "    # only save the best model after training finished.\n",
    "    # You can also set it as \"better\" to save models performing better ever during training.\n",
    "    model_saving_strategy=\"best\",\n",
    ")"
   ]
  },
  {
   "cell_type": "markdown",
   "metadata": {},
   "source": [
    "### BRITS"
   ]
  },
  {
   "cell_type": "markdown",
   "metadata": {},
   "source": [
    "<h4>Inicialize new model</h4>"
   ]
  },
  {
   "cell_type": "code",
   "execution_count": 7,
   "metadata": {},
   "outputs": [
    {
     "name": "stderr",
     "output_type": "stream",
     "text": [
      "2025-04-22 18:16:43 [INFO]: No given device, using default device: cuda\n",
      "2025-04-22 18:16:43 [INFO]: Model files will be saved to tutorial_results/imputation/brits/20250422_T181643\n",
      "2025-04-22 18:16:43 [INFO]: Tensorboard file will be saved to tutorial_results/imputation/brits/20250422_T181643/tensorboard\n",
      "2025-04-22 18:16:43 [INFO]: Using customized MAE as the training loss function.\n",
      "2025-04-22 18:16:43 [INFO]: Using customized MSE as the validation metric function.\n",
      "2025-04-22 18:16:43 [INFO]: BRITS initialized with the given hyperparameters, the number of trainable parameters: 239,344\n"
     ]
    }
   ],
   "source": [
    "brits = BRITS(\n",
    "    n_steps=physionet2012_dataset_standard['n_steps'],\n",
    "    n_features=physionet2012_dataset_standard['n_features'],\n",
    "    rnn_hidden_size=128,\n",
    "    batch_size=32,\n",
    "    # here we set epochs=10 for a quick demo, you can set it to 100 or more for better performance\n",
    "    epochs=10,\n",
    "    # here we set patience=3 to early stop the training if the evaluting loss doesn't decrease for 3 epoches.\n",
    "    # You can leave it to defualt as None to disable early stopping.\n",
    "    patience=3,\n",
    "    # give the optimizer. Different from torch.optim.Optimizer, you don't have to specify model's parameters when\n",
    "    # initializing pypots.optim.Optimizer. You can also leave it to default. It will initilize an Adam optimizer with lr=0.001.\n",
    "    optimizer=Adam(lr=1e-3),\n",
    "    # this num_workers argument is for torch.utils.data.Dataloader. It's the number of subprocesses to use for data loading.\n",
    "    # Leaving it to default as 0 means data loading will be in the main process, i.e. there won't be subprocesses.\n",
    "    # You can increase it to >1 if you think your dataloading is a bottleneck to your model training speed\n",
    "    num_workers=0,\n",
    "    # just leave it to default as None, PyPOTS will automatically assign the best device for you.\n",
    "    # Set it as 'cpu' if you don't have CUDA devices. You can also set it to 'cuda:0' or 'cuda:1' if you have multiple CUDA devices, even parallelly on ['cuda:0', 'cuda:1']\n",
    "    device=None,\n",
    "    # set the path for saving tensorboard and trained model files\n",
    "    saving_path=\"tutorial_results/imputation/brits\",\n",
    "    # only save the best model after training finished.\n",
    "    # You can also set it as \"better\" to save models performing better ever during training.\n",
    "    model_saving_strategy=\"best\",\n",
    ")"
   ]
  },
  {
   "cell_type": "markdown",
   "metadata": {},
   "source": [
    "<h4> Inicialize model</h4>"
   ]
  },
  {
   "cell_type": "code",
   "execution_count": 7,
   "metadata": {},
   "outputs": [
    {
     "name": "stderr",
     "output_type": "stream",
     "text": [
      "2025-04-27 22:06:01 [INFO]: No given device, using default device: cuda\n",
      "2025-04-27 22:06:01 [WARNING]: ‼️ saving_path not given. Model files and tensorboard file will not be saved.\n",
      "2025-04-27 22:06:01 [INFO]: Using customized MAE as the training loss function.\n",
      "2025-04-27 22:06:01 [INFO]: Using customized MSE as the validation metric function.\n",
      "2025-04-27 22:06:01 [INFO]: BRITS initialized with the given hyperparameters, the number of trainable parameters: 239,344\n"
     ]
    }
   ],
   "source": [
    "brits = BRITS(\n",
    "    n_steps=physionet2012_dataset_standard['n_steps'],\n",
    "    n_features=physionet2012_dataset_standard['n_features'],\n",
    "    rnn_hidden_size=128,\n",
    "    batch_size=32,\n",
    "    # here we set epochs=10 for a quick demo, you can set it to 100 or more for better performance\n",
    "    epochs=10,\n",
    "    # here we set patience=3 to early stop the training if the evaluting loss doesn't decrease for 3 epoches.\n",
    "    # You can leave it to defualt as None to disable early stopping.\n",
    "    patience=3,\n",
    "    # give the optimizer. Different from torch.optim.Optimizer, you don't have to specify model's parameters when\n",
    "    # initializing pypots.optim.Optimizer. You can also leave it to default. It will initilize an Adam optimizer with lr=0.001.\n",
    "    optimizer=Adam(lr=1e-3),\n",
    "    # this num_workers argument is for torch.utils.data.Dataloader. It's the number of subprocesses to use for data loading.\n",
    "    # Leaving it to default as 0 means data loading will be in the main process, i.e. there won't be subprocesses.\n",
    "    # You can increase it to >1 if you think your dataloading is a bottleneck to your model training speed\n",
    "    num_workers=0,\n",
    "    # just leave it to default as None, PyPOTS will automatically assign the best device for you.\n",
    "    # Set it as 'cpu' if you don't have CUDA devices. You can also set it to 'cuda:0' or 'cuda:1' if you have multiple CUDA devices, even parallelly on ['cuda:0', 'cuda:1']\n",
    "    device=None,\n",
    "    # set the path for saving tensorboard and trained model files\n",
    "    \n",
    "    # only save the best model after training finished.\n",
    "    # You can also set it as \"better\" to save models performing better ever during training.\n",
    "    model_saving_strategy=\"best\",\n",
    ")"
   ]
  },
  {
   "cell_type": "markdown",
   "metadata": {},
   "source": [
    "### USGAN"
   ]
  },
  {
   "cell_type": "markdown",
   "metadata": {},
   "source": [
    "<h4>Inicialize new model</h4>"
   ]
  },
  {
   "cell_type": "code",
   "execution_count": 8,
   "metadata": {},
   "outputs": [
    {
     "name": "stderr",
     "output_type": "stream",
     "text": [
      "2025-04-22 18:16:43 [INFO]: No given device, using default device: cuda\n",
      "2025-04-22 18:16:43 [INFO]: Model files will be saved to tutorial_results/imputation/us_gan/20250422_T181643\n",
      "2025-04-22 18:16:43 [INFO]: Tensorboard file will be saved to tutorial_results/imputation/us_gan/20250422_T181643/tensorboard\n",
      "2025-04-22 18:16:43 [INFO]: USGAN initialized with the given hyperparameters, the number of trainable parameters: 1,258,517\n"
     ]
    }
   ],
   "source": [
    "us_gan = USGAN(\n",
    "    n_steps=physionet2012_dataset_standard['n_steps'],\n",
    "    n_features=physionet2012_dataset_standard['n_features'],\n",
    "    rnn_hidden_size=256,\n",
    "    lambda_mse=1,\n",
    "    dropout=0.1,\n",
    "    G_steps=1,\n",
    "    D_steps=1,\n",
    "    batch_size=32,\n",
    "    # here we set epochs=10 for a quick demo, you can set it to 100 or more for better performance\n",
    "    epochs=10,\n",
    "    # here we set patience=3 to early stop the training if the evaluting loss doesn't decrease for 3 epoches.\n",
    "    # You can leave it to defualt as None to disable early stopping.\n",
    "    patience=3,\n",
    "    # give the optimizer. Different from torch.optim.Optimizer, you don't have to specify model's parameters when\n",
    "    # initializing pypots.optim.Optimizer. You can also leave it to default. It will initilize an Adam optimizer with lr=0.001.\n",
    "    G_optimizer=Adam(lr=1e-3),\n",
    "    D_optimizer=Adam(lr=1e-3),\n",
    "    # this num_workers argument is for torch.utils.data.Dataloader. It's the number of subprocesses to use for data loading.\n",
    "    # Leaving it to default as 0 means data loading will be in the main process, i.e. there won't be subprocesses.\n",
    "    # You can increase it to >1 if you think your dataloading is a bottleneck to your model training speed\n",
    "    num_workers=0,\n",
    "    # just leave it to default as None, PyPOTS will automatically assign the best device for you.\n",
    "    # Set it as 'cpu' if you don't have CUDA devices. You can also set it to 'cuda:0' or 'cuda:1' if you have multiple CUDA devices, even parallelly on ['cuda:0', 'cuda:1']\n",
    "    device=None,\n",
    "    # set the path for saving tensorboard and trained model files\n",
    "    saving_path=\"tutorial_results/imputation/us_gan\",\n",
    "    # only save the best model after training finished.\n",
    "    # You can also set it as \"better\" to save models performing better ever during training.\n",
    "    model_saving_strategy=\"best\",\n",
    ")"
   ]
  },
  {
   "cell_type": "markdown",
   "metadata": {},
   "source": [
    "<h4> Inicialize model</h4>"
   ]
  },
  {
   "cell_type": "code",
   "execution_count": 8,
   "metadata": {},
   "outputs": [
    {
     "name": "stderr",
     "output_type": "stream",
     "text": [
      "2025-04-27 22:06:01 [INFO]: No given device, using default device: cuda\n",
      "2025-04-27 22:06:01 [WARNING]: ‼️ saving_path not given. Model files and tensorboard file will not be saved.\n",
      "2025-04-27 22:06:01 [INFO]: USGAN initialized with the given hyperparameters, the number of trainable parameters: 1,258,517\n"
     ]
    }
   ],
   "source": [
    "us_gan = USGAN(\n",
    "    n_steps=physionet2012_dataset_standard['n_steps'],\n",
    "    n_features=physionet2012_dataset_standard['n_features'],\n",
    "    rnn_hidden_size=256,\n",
    "    lambda_mse=1,\n",
    "    dropout=0.1,\n",
    "    G_steps=1,\n",
    "    D_steps=1,\n",
    "    batch_size=32,\n",
    "    # here we set epochs=10 for a quick demo, you can set it to 100 or more for better performance\n",
    "    epochs=10,\n",
    "    # here we set patience=3 to early stop the training if the evaluting loss doesn't decrease for 3 epoches.\n",
    "    # You can leave it to defualt as None to disable early stopping.\n",
    "    patience=3,\n",
    "    # give the optimizer. Different from torch.optim.Optimizer, you don't have to specify model's parameters when\n",
    "    # initializing pypots.optim.Optimizer. You can also leave it to default. It will initilize an Adam optimizer with lr=0.001.\n",
    "    G_optimizer=Adam(lr=1e-3),\n",
    "    D_optimizer=Adam(lr=1e-3),\n",
    "    # this num_workers argument is for torch.utils.data.Dataloader. It's the number of subprocesses to use for data loading.\n",
    "    # Leaving it to default as 0 means data loading will be in the main process, i.e. there won't be subprocesses.\n",
    "    # You can increase it to >1 if you think your dataloading is a bottleneck to your model training speed\n",
    "    num_workers=0,\n",
    "    # just leave it to default as None, PyPOTS will automatically assign the best device for you.\n",
    "    # Set it as 'cpu' if you don't have CUDA devices. You can also set it to 'cuda:0' or 'cuda:1' if you have multiple CUDA devices, even parallelly on ['cuda:0', 'cuda:1']\n",
    "    device=None,\n",
    "    # set the path for saving tensorboard and trained model files\n",
    "    # only save the best model after training finished.\n",
    "    # You can also set it as \"better\" to save models performing better ever during training.\n",
    "    model_saving_strategy=\"best\",\n",
    ")"
   ]
  },
  {
   "cell_type": "markdown",
   "metadata": {},
   "source": [
    "### GPVAE"
   ]
  },
  {
   "cell_type": "markdown",
   "metadata": {},
   "source": [
    "<h4>Inicialize new model</h4>"
   ]
  },
  {
   "cell_type": "code",
   "execution_count": 9,
   "metadata": {},
   "outputs": [
    {
     "name": "stderr",
     "output_type": "stream",
     "text": [
      "2025-04-22 18:16:43 [INFO]: No given device, using default device: cuda\n",
      "2025-04-22 18:16:43 [INFO]: Model files will be saved to tutorial_results/imputation/gp_vae/20250422_T181643\n",
      "2025-04-22 18:16:43 [INFO]: Tensorboard file will be saved to tutorial_results/imputation/gp_vae/20250422_T181643/tensorboard\n",
      "2025-04-22 18:16:43 [INFO]: GPVAE initialized with the given hyperparameters, the number of trainable parameters: 229,652\n"
     ]
    }
   ],
   "source": [
    "gp_vae = GPVAE(\n",
    "    n_steps=physionet2012_dataset_standard['n_steps'],\n",
    "    n_features=physionet2012_dataset_standard['n_features'],\n",
    "    latent_size=37,\n",
    "    encoder_sizes=(128,128),\n",
    "    decoder_sizes=(256,256),\n",
    "    kernel=\"cauchy\",\n",
    "    beta=0.2,\n",
    "    M=1,\n",
    "    K=1,\n",
    "    sigma=1.005,\n",
    "    length_scale=7.0,\n",
    "    kernel_scales=1,\n",
    "    window_size=24,\n",
    "    batch_size=32,\n",
    "    # here we set epochs=10 for a quick demo, you can set it to 100 or more for better performance\n",
    "    epochs=10,\n",
    "    # here we set patience=3 to early stop the training if the evaluting loss doesn't decrease for 3 epoches.\n",
    "    # You can leave it to defualt as None to disable early stopping.\n",
    "    patience=3,\n",
    "    # give the optimizer. Different from torch.optim.Optimizer, you don't have to specify model's parameters when\n",
    "    # initializing pypots.optim.Optimizer. You can also leave it to default. It will initilize an Adam optimizer with lr=0.001.\n",
    "    optimizer=Adam(lr=1e-3),\n",
    "    # this num_workers argument is for torch.utils.data.Dataloader. It's the number of subprocesses to use for data loading.\n",
    "    # Leaving it to default as 0 means data loading will be in the main process, i.e. there won't be subprocesses.\n",
    "    # You can increase it to >1 if you think your dataloading is a bottleneck to your model training speed\n",
    "    num_workers=0,\n",
    "    # just leave it to default as None, PyPOTS will automatically assign the best device for you.\n",
    "    # Set it as 'cpu' if you don't have CUDA devices. You can also set it to 'cuda:0' or 'cuda:1' if you have multiple CUDA devices, even parallelly on ['cuda:0', 'cuda:1']\n",
    "    device=None,\n",
    "    # set the path for saving tensorboard and trained model files\n",
    "    saving_path=\"tutorial_results/imputation/gp_vae\",\n",
    "    # only save the best model after training finished.\n",
    "    # You can also set it as \"better\" to save models performing better ever during training.\n",
    "    model_saving_strategy=\"best\",\n",
    ")"
   ]
  },
  {
   "cell_type": "markdown",
   "metadata": {},
   "source": [
    "<h4> Inicialize model</h4>"
   ]
  },
  {
   "cell_type": "code",
   "execution_count": 9,
   "metadata": {},
   "outputs": [
    {
     "name": "stderr",
     "output_type": "stream",
     "text": [
      "2025-04-27 22:06:01 [INFO]: No given device, using default device: cuda\n",
      "2025-04-27 22:06:01 [WARNING]: ‼️ saving_path not given. Model files and tensorboard file will not be saved.\n",
      "2025-04-27 22:06:01 [INFO]: GPVAE initialized with the given hyperparameters, the number of trainable parameters: 229,652\n"
     ]
    }
   ],
   "source": [
    "gp_vae = GPVAE(\n",
    "    n_steps=physionet2012_dataset_standard['n_steps'],\n",
    "    n_features=physionet2012_dataset_standard['n_features'],\n",
    "    latent_size=37,\n",
    "    encoder_sizes=(128,128),\n",
    "    decoder_sizes=(256,256),\n",
    "    kernel=\"cauchy\",\n",
    "    beta=0.2,\n",
    "    M=1,\n",
    "    K=1,\n",
    "    sigma=1.005,\n",
    "    length_scale=7.0,\n",
    "    kernel_scales=1,\n",
    "    window_size=24,\n",
    "    batch_size=32,\n",
    "    # here we set epochs=10 for a quick demo, you can set it to 100 or more for better performance\n",
    "    epochs=10,\n",
    "    # here we set patience=3 to early stop the training if the evaluting loss doesn't decrease for 3 epoches.\n",
    "    # You can leave it to defualt as None to disable early stopping.\n",
    "    patience=3,\n",
    "    # give the optimizer. Different from torch.optim.Optimizer, you don't have to specify model's parameters when\n",
    "    # initializing pypots.optim.Optimizer. You can also leave it to default. It will initilize an Adam optimizer with lr=0.001.\n",
    "    optimizer=Adam(lr=1e-3),\n",
    "    # this num_workers argument is for torch.utils.data.Dataloader. It's the number of subprocesses to use for data loading.\n",
    "    # Leaving it to default as 0 means data loading will be in the main process, i.e. there won't be subprocesses.\n",
    "    # You can increase it to >1 if you think your dataloading is a bottleneck to your model training speed\n",
    "    num_workers=0,\n",
    "    # just leave it to default as None, PyPOTS will automatically assign the best device for you.\n",
    "    # Set it as 'cpu' if you don't have CUDA devices. You can also set it to 'cuda:0' or 'cuda:1' if you have multiple CUDA devices, even parallelly on ['cuda:0', 'cuda:1']\n",
    "    device=None,\n",
    "    # set the path for saving tensorboard and trained model files\n",
    "    # only save the best model after training finished.\n",
    "    # You can also set it as \"better\" to save models performing better ever during training.\n",
    "    model_saving_strategy=\"best\",\n",
    ")"
   ]
  },
  {
   "cell_type": "markdown",
   "metadata": {},
   "source": [
    "### MRNN"
   ]
  },
  {
   "cell_type": "markdown",
   "metadata": {},
   "source": [
    "<h4>Inicialize new model</h4>"
   ]
  },
  {
   "cell_type": "code",
   "execution_count": 10,
   "metadata": {},
   "outputs": [
    {
     "name": "stderr",
     "output_type": "stream",
     "text": [
      "2025-04-22 18:16:43 [INFO]: No given device, using default device: cuda\n",
      "2025-04-22 18:16:43 [INFO]: Model files will be saved to tutorial_results/imputation/mrnn/20250422_T181643\n",
      "2025-04-22 18:16:43 [INFO]: Tensorboard file will be saved to tutorial_results/imputation/mrnn/20250422_T181643/tensorboard\n",
      "2025-04-22 18:16:43 [INFO]: Using customized RMSE as the training loss function.\n",
      "2025-04-22 18:16:43 [INFO]: Using customized MSE as the validation metric function.\n",
      "2025-04-22 18:16:43 [INFO]: MRNN initialized with the given hyperparameters, the number of trainable parameters: 107,951\n"
     ]
    }
   ],
   "source": [
    "mrnn = MRNN(\n",
    "    n_steps=physionet2012_dataset_standard['n_steps'],\n",
    "    n_features=physionet2012_dataset_standard['n_features'],\n",
    "    rnn_hidden_size=128,\n",
    "\n",
    "    # here we set epochs=10 for a quick demo, you can set it to 100 or more for better performance\n",
    "    epochs=10,\n",
    "    # here we set patience=3 to early stop the training if the evaluting loss doesn't decrease for 3 epoches.\n",
    "    # You can leave it to defualt as None to disable early stopping.\n",
    "    patience=3,\n",
    "    # give the optimizer. Different from torch.optim.Optimizer, you don't have to specify model's parameters when\n",
    "    # initializing pypots.optim.Optimizer. You can also leave it to default. It will initilize an Adam optimizer with lr=0.001.\n",
    "    optimizer=Adam(lr=1e-3),\n",
    "    # this num_workers argument is for torch.utils.data.Dataloader. It's the number of subprocesses to use for data loading.\n",
    "    # Leaving it to default as 0 means data loading will be in the main process, i.e. there won't be subprocesses.\n",
    "    # You can increase it to >1 if you think your dataloading is a bottleneck to your model training speed\n",
    "    num_workers=0,\n",
    "    # just leave it to default as None, PyPOTS will automatically assign the best device for you.\n",
    "    # Set it as 'cpu' if you don't have CUDA devices. You can also set it to 'cuda:0' or 'cuda:1' if you have multiple CUDA devices, even parallelly on ['cuda:0', 'cuda:1']\n",
    "    device=None,\n",
    "    # set the path for saving tensorboard and trained model files\n",
    "    saving_path=\"tutorial_results/imputation/mrnn\",\n",
    "    # only save the best model after training finished.\n",
    "    # You can also set it as \"better\" to save models performing better ever during training.\n",
    "    model_saving_strategy=\"best\",\n",
    ")"
   ]
  },
  {
   "cell_type": "markdown",
   "metadata": {},
   "source": [
    "<h4> Inicialize model</h4>"
   ]
  },
  {
   "cell_type": "code",
   "execution_count": 10,
   "metadata": {},
   "outputs": [
    {
     "name": "stderr",
     "output_type": "stream",
     "text": [
      "2025-04-27 22:06:04 [INFO]: No given device, using default device: cuda\n",
      "2025-04-27 22:06:04 [WARNING]: ‼️ saving_path not given. Model files and tensorboard file will not be saved.\n",
      "2025-04-27 22:06:04 [INFO]: Using customized RMSE as the training loss function.\n",
      "2025-04-27 22:06:04 [INFO]: Using customized MSE as the validation metric function.\n",
      "2025-04-27 22:06:04 [INFO]: MRNN initialized with the given hyperparameters, the number of trainable parameters: 107,951\n"
     ]
    }
   ],
   "source": [
    "mrnn = MRNN(\n",
    "    n_steps=physionet2012_dataset_standard['n_steps'],\n",
    "    n_features=physionet2012_dataset_standard['n_features'],\n",
    "    rnn_hidden_size=128,\n",
    "\n",
    "    # here we set epochs=10 for a quick demo, you can set it to 100 or more for better performance\n",
    "    epochs=10,\n",
    "    # here we set patience=3 to early stop the training if the evaluting loss doesn't decrease for 3 epoches.\n",
    "    # You can leave it to defualt as None to disable early stopping.\n",
    "    patience=3,\n",
    "    # give the optimizer. Different from torch.optim.Optimizer, you don't have to specify model's parameters when\n",
    "    # initializing pypots.optim.Optimizer. You can also leave it to default. It will initilize an Adam optimizer with lr=0.001.\n",
    "    optimizer=Adam(lr=1e-3),\n",
    "    # this num_workers argument is for torch.utils.data.Dataloader. It's the number of subprocesses to use for data loading.\n",
    "    # Leaving it to default as 0 means data loading will be in the main process, i.e. there won't be subprocesses.\n",
    "    # You can increase it to >1 if you think your dataloading is a bottleneck to your model training speed\n",
    "    num_workers=0,\n",
    "    # just leave it to default as None, PyPOTS will automatically assign the best device for you.\n",
    "    # Set it as 'cpu' if you don't have CUDA devices. You can also set it to 'cuda:0' or 'cuda:1' if you have multiple CUDA devices, even parallelly on ['cuda:0', 'cuda:1']\n",
    "    device=None,\n",
    "    # set the path for saving tensorboard and trained model files\n",
    "    # only save the best model after training finished.\n",
    "    # You can also set it as \"better\" to save models performing better ever during training.\n",
    "    model_saving_strategy=\"best\",\n",
    ")"
   ]
  },
  {
   "cell_type": "markdown",
   "metadata": {},
   "source": [
    "# Train/Load the models"
   ]
  },
  {
   "cell_type": "markdown",
   "metadata": {},
   "source": [
    "### SAITS"
   ]
  },
  {
   "cell_type": "markdown",
   "metadata": {},
   "source": [
    "<h4>Train</h4>"
   ]
  },
  {
   "cell_type": "code",
   "execution_count": 7,
   "metadata": {},
   "outputs": [
    {
     "name": "stderr",
     "output_type": "stream",
     "text": [
      "2025-04-22 21:54:58 [INFO]: Epoch 001 - training loss (MAE): 0.7233, validation MSE: 6.7652\n",
      "2025-04-22 21:55:03 [INFO]: Epoch 002 - training loss (MAE): 0.5383, validation MSE: 6.7408\n",
      "2025-04-22 21:55:08 [INFO]: Epoch 003 - training loss (MAE): 0.4956, validation MSE: 6.7218\n",
      "2025-04-22 21:55:12 [INFO]: Epoch 004 - training loss (MAE): 0.4643, validation MSE: 6.6987\n",
      "2025-04-22 21:55:16 [INFO]: Epoch 005 - training loss (MAE): 0.4392, validation MSE: 6.6806\n",
      "2025-04-22 21:55:21 [INFO]: Epoch 006 - training loss (MAE): 0.4207, validation MSE: 6.6686\n",
      "2025-04-22 21:55:24 [INFO]: Epoch 007 - training loss (MAE): 0.4065, validation MSE: 6.6527\n",
      "2025-04-22 21:55:28 [INFO]: Epoch 008 - training loss (MAE): 0.3953, validation MSE: 6.6548\n",
      "2025-04-22 21:55:32 [INFO]: Epoch 009 - training loss (MAE): 0.3866, validation MSE: 6.6511\n",
      "2025-04-22 21:55:36 [INFO]: Epoch 010 - training loss (MAE): 0.3798, validation MSE: 6.6584\n",
      "2025-04-22 21:55:36 [INFO]: Finished training. The best model is from epoch#9.\n",
      "2025-04-22 21:55:36 [INFO]: Saved the model to tutorial_results/imputation/saits/20250422_T215446/SAITS.pypots\n"
     ]
    }
   ],
   "source": [
    "saits.fit(train_set=dataset_for_training_standard, val_set=dataset_for_validating_standard)"
   ]
  },
  {
   "cell_type": "markdown",
   "metadata": {},
   "source": [
    "<h4> Load</h4>"
   ]
  },
  {
   "cell_type": "code",
   "execution_count": 7,
   "metadata": {},
   "outputs": [
    {
     "name": "stderr",
     "output_type": "stream",
     "text": [
      "2025-04-28 21:11:57 [INFO]: Model loaded successfully from tutorial_results/imputation/saits/20250422_T181642/SAITS.pypots\n"
     ]
    }
   ],
   "source": [
    "saits.load(\"tutorial_results/imputation/saits/20250422_T181642/SAITS.pypots\")"
   ]
  },
  {
   "cell_type": "markdown",
   "metadata": {},
   "source": [
    "### BRITS"
   ]
  },
  {
   "cell_type": "markdown",
   "metadata": {},
   "source": [
    "<h4>Train</h4>"
   ]
  },
  {
   "cell_type": "code",
   "execution_count": 12,
   "metadata": {},
   "outputs": [
    {
     "name": "stderr",
     "output_type": "stream",
     "text": [
      "2025-04-22 18:20:14 [INFO]: Epoch 001 - training loss (MAE): 0.9371, validation MSE: 6.7840\n",
      "2025-04-22 18:22:18 [INFO]: Epoch 002 - training loss (MAE): 0.7328, validation MSE: 6.7456\n",
      "2025-04-22 18:24:23 [INFO]: Epoch 003 - training loss (MAE): 0.6822, validation MSE: 6.7326\n",
      "2025-04-22 18:26:17 [INFO]: Epoch 004 - training loss (MAE): 0.6576, validation MSE: 6.7294\n",
      "2025-04-22 18:28:36 [INFO]: Epoch 005 - training loss (MAE): 0.6427, validation MSE: 6.7280\n",
      "2025-04-22 18:30:47 [INFO]: Epoch 006 - training loss (MAE): 0.6318, validation MSE: 6.7267\n",
      "2025-04-22 18:32:52 [INFO]: Epoch 007 - training loss (MAE): 0.6229, validation MSE: 6.7294\n",
      "2025-04-22 18:35:07 [INFO]: Epoch 008 - training loss (MAE): 0.6149, validation MSE: 6.7316\n",
      "2025-04-22 18:37:26 [INFO]: Epoch 009 - training loss (MAE): 0.6087, validation MSE: 6.7332\n",
      "2025-04-22 18:37:26 [INFO]: Exceeded the training patience. Terminating the training procedure...\n",
      "2025-04-22 18:37:26 [INFO]: Finished training. The best model is from epoch#6.\n",
      "2025-04-22 18:37:26 [INFO]: Saved the model to tutorial_results/imputation/brits/20250422_T181643/BRITS.pypots\n"
     ]
    }
   ],
   "source": [
    "brits.fit(train_set=dataset_for_training_standard, val_set=dataset_for_validating_standard)"
   ]
  },
  {
   "cell_type": "markdown",
   "metadata": {},
   "source": [
    "<h4>Load</h4>"
   ]
  },
  {
   "cell_type": "code",
   "execution_count": 12,
   "metadata": {},
   "outputs": [
    {
     "name": "stderr",
     "output_type": "stream",
     "text": [
      "2025-04-27 22:06:10 [INFO]: Model loaded successfully from tutorial_results/imputation/brits/20250422_T181643/BRITS.pypots\n"
     ]
    }
   ],
   "source": [
    "brits.load(\"tutorial_results/imputation/brits/20250422_T181643/BRITS.pypots\")"
   ]
  },
  {
   "cell_type": "markdown",
   "metadata": {},
   "source": [
    "### USGAN"
   ]
  },
  {
   "cell_type": "markdown",
   "metadata": {},
   "source": [
    "<h4>Train</h4>"
   ]
  },
  {
   "cell_type": "code",
   "execution_count": 13,
   "metadata": {},
   "outputs": [
    {
     "name": "stderr",
     "output_type": "stream",
     "text": [
      "2025-04-22 18:41:35 [INFO]: Epoch 001 - generator training loss: 0.4346, discriminator training loss: 0.1907, validation loss: 6.7750\n",
      "2025-04-22 18:45:20 [INFO]: Epoch 002 - generator training loss: 0.3701, discriminator training loss: 0.0566, validation loss: 6.7282\n",
      "2025-04-22 18:49:07 [INFO]: Epoch 003 - generator training loss: 0.3347, discriminator training loss: 0.0374, validation loss: 6.7004\n",
      "2025-04-22 18:52:56 [INFO]: Epoch 004 - generator training loss: 0.3165, discriminator training loss: 0.0311, validation loss: 6.6837\n",
      "2025-04-22 18:56:43 [INFO]: Epoch 005 - generator training loss: 0.3020, discriminator training loss: 0.0281, validation loss: 6.6737\n",
      "2025-04-22 19:00:32 [INFO]: Epoch 006 - generator training loss: 0.2923, discriminator training loss: 0.0265, validation loss: 6.6685\n",
      "2025-04-22 19:04:19 [INFO]: Epoch 007 - generator training loss: 0.2877, discriminator training loss: 0.0252, validation loss: 6.6691\n",
      "2025-04-22 19:08:07 [INFO]: Epoch 008 - generator training loss: 0.2814, discriminator training loss: 0.0247, validation loss: 6.6621\n",
      "2025-04-22 19:11:58 [INFO]: Epoch 009 - generator training loss: 0.2772, discriminator training loss: 0.0239, validation loss: 6.6618\n",
      "2025-04-22 19:15:48 [INFO]: Epoch 010 - generator training loss: 0.2704, discriminator training loss: 0.0227, validation loss: 6.6556\n",
      "2025-04-22 19:15:48 [INFO]: Finished training. The best model is from epoch#10.\n",
      "2025-04-22 19:15:48 [INFO]: Saved the model to tutorial_results/imputation/us_gan/20250422_T181643/USGAN.pypots\n"
     ]
    }
   ],
   "source": [
    "us_gan.fit(train_set=dataset_for_training_standard, val_set=dataset_for_validating_standard)"
   ]
  },
  {
   "cell_type": "markdown",
   "metadata": {},
   "source": [
    "<h4>Load</h4>"
   ]
  },
  {
   "cell_type": "code",
   "execution_count": 13,
   "metadata": {},
   "outputs": [
    {
     "name": "stderr",
     "output_type": "stream",
     "text": [
      "2025-04-27 22:06:12 [INFO]: Model loaded successfully from tutorial_results/imputation/us_gan/20250422_T181643/USGAN.pypots\n"
     ]
    }
   ],
   "source": [
    "us_gan.load(\"tutorial_results/imputation/us_gan/20250422_T181643/USGAN.pypots\")"
   ]
  },
  {
   "cell_type": "markdown",
   "metadata": {},
   "source": [
    "### GPVAE"
   ]
  },
  {
   "cell_type": "markdown",
   "metadata": {},
   "source": [
    "<h4>Train</h4>"
   ]
  },
  {
   "cell_type": "code",
   "execution_count": 14,
   "metadata": {},
   "outputs": [
    {
     "name": "stderr",
     "output_type": "stream",
     "text": [
      "2025-04-22 19:15:55 [INFO]: Epoch 001 - training loss (default): 26027.5423, validation loss: 22882.8125\n",
      "2025-04-22 19:16:01 [INFO]: Epoch 002 - training loss (default): 22877.1633, validation loss: 22807.7179\n",
      "2025-04-22 19:16:07 [INFO]: Epoch 003 - training loss (default): 22842.6190, validation loss: 22788.8947\n",
      "2025-04-22 19:16:14 [INFO]: Epoch 004 - training loss (default): 22832.1135, validation loss: 22783.6572\n",
      "2025-04-22 19:16:20 [INFO]: Epoch 005 - training loss (default): 22827.5731, validation loss: 22780.0771\n",
      "2025-04-22 19:16:27 [INFO]: Epoch 006 - training loss (default): 22821.9797, validation loss: 22773.8286\n",
      "2025-04-22 19:16:34 [INFO]: Epoch 007 - training loss (default): 22814.3062, validation loss: 22767.3447\n",
      "2025-04-22 19:16:40 [INFO]: Epoch 008 - training loss (default): 22810.7426, validation loss: 22771.6522\n",
      "2025-04-22 19:16:46 [INFO]: Epoch 009 - training loss (default): 22808.6126, validation loss: 22762.6405\n",
      "2025-04-22 19:16:52 [INFO]: Epoch 010 - training loss (default): 22808.6487, validation loss: 22763.1757\n",
      "2025-04-22 19:16:52 [INFO]: Finished training. The best model is from epoch#9.\n",
      "2025-04-22 19:16:52 [INFO]: Saved the model to tutorial_results/imputation/gp_vae/20250422_T181643/GPVAE.pypots\n"
     ]
    }
   ],
   "source": [
    "gp_vae.fit(train_set=dataset_for_training_standard, val_set=dataset_for_validating_standard)"
   ]
  },
  {
   "cell_type": "markdown",
   "metadata": {},
   "source": [
    "<h4>Load</h4>"
   ]
  },
  {
   "cell_type": "code",
   "execution_count": 14,
   "metadata": {},
   "outputs": [
    {
     "name": "stderr",
     "output_type": "stream",
     "text": [
      "2025-04-27 22:06:15 [INFO]: Model loaded successfully from tutorial_results/imputation/gp_vae/20250422_T181643/GPVAE.pypots\n"
     ]
    }
   ],
   "source": [
    "gp_vae.load(\"tutorial_results/imputation/gp_vae/20250422_T181643/GPVAE.pypots\")"
   ]
  },
  {
   "cell_type": "markdown",
   "metadata": {},
   "source": [
    "### MRNN"
   ]
  },
  {
   "cell_type": "markdown",
   "metadata": {},
   "source": [
    "<h4>Train</h4>"
   ]
  },
  {
   "cell_type": "code",
   "execution_count": 15,
   "metadata": {},
   "outputs": [
    {
     "name": "stderr",
     "output_type": "stream",
     "text": [
      "2025-04-22 19:17:30 [INFO]: Epoch 001 - training loss (RMSE): 0.7504, validation MSE: 7.3129\n",
      "2025-04-22 19:17:47 [INFO]: Epoch 002 - training loss (RMSE): 0.5341, validation MSE: 7.2684\n",
      "2025-04-22 19:18:05 [INFO]: Epoch 003 - training loss (RMSE): 0.4959, validation MSE: 7.2556\n",
      "2025-04-22 19:18:22 [INFO]: Epoch 004 - training loss (RMSE): 0.4612, validation MSE: 7.2489\n",
      "2025-04-22 19:18:40 [INFO]: Epoch 005 - training loss (RMSE): 0.4541, validation MSE: 7.2464\n",
      "2025-04-22 19:18:59 [INFO]: Epoch 006 - training loss (RMSE): 0.4473, validation MSE: 7.2449\n",
      "2025-04-22 19:19:16 [INFO]: Epoch 007 - training loss (RMSE): 0.4298, validation MSE: 7.2458\n",
      "2025-04-22 19:19:34 [INFO]: Epoch 008 - training loss (RMSE): 0.4340, validation MSE: 7.2485\n",
      "2025-04-22 19:19:51 [INFO]: Epoch 009 - training loss (RMSE): 0.4229, validation MSE: 7.2492\n",
      "2025-04-22 19:19:51 [INFO]: Exceeded the training patience. Terminating the training procedure...\n",
      "2025-04-22 19:19:51 [INFO]: Finished training. The best model is from epoch#6.\n",
      "2025-04-22 19:19:51 [INFO]: Saved the model to tutorial_results/imputation/mrnn/20250422_T181643/MRNN.pypots\n"
     ]
    }
   ],
   "source": [
    "mrnn.fit(train_set=dataset_for_training_standard, val_set=dataset_for_validating_standard)"
   ]
  },
  {
   "cell_type": "markdown",
   "metadata": {},
   "source": [
    "<h4>Load</h4>"
   ]
  },
  {
   "cell_type": "code",
   "execution_count": 15,
   "metadata": {},
   "outputs": [
    {
     "name": "stderr",
     "output_type": "stream",
     "text": [
      "2025-04-27 22:06:19 [INFO]: Model loaded successfully from tutorial_results/imputation/mrnn/20250422_T181643/MRNN.pypots\n"
     ]
    }
   ],
   "source": [
    "mrnn.load(\"tutorial_results/imputation/mrnn/20250422_T181643/MRNN.pypots\")"
   ]
  },
  {
   "cell_type": "markdown",
   "metadata": {},
   "source": [
    "# Testing stage"
   ]
  },
  {
   "cell_type": "markdown",
   "metadata": {},
   "source": [
    "### SAITS"
   ]
  },
  {
   "cell_type": "markdown",
   "metadata": {},
   "source": [
    "#### Standard Scaler"
   ]
  },
  {
   "cell_type": "code",
   "execution_count": 10,
   "metadata": {},
   "outputs": [],
   "source": [
    "saits_imputation_standard = toolkits.model_imputation(dataset_for_testing_standard, saits)\n",
    "saits_imputation_standard = toolkits.pre_reshape(saits_imputation_standard)\n",
    "saits_imputation_standard_ori = toolkits.desnormalization(saits_imputation_standard, scaler_standard)\n",
    "saits_imputation_standard = toolkits.reshape_variable(saits_imputation_standard)\n",
    "saits_imputation_standard_ori = toolkits.reshape_variable(saits_imputation_standard_ori)"
   ]
  },
  {
   "cell_type": "markdown",
   "metadata": {},
   "source": [
    "### BRITS"
   ]
  },
  {
   "cell_type": "markdown",
   "metadata": {},
   "source": [
    "#### Standard Scaler"
   ]
  },
  {
   "cell_type": "code",
   "execution_count": 17,
   "metadata": {},
   "outputs": [],
   "source": [
    "brits_imputation_standard = toolkits.model_imputation(dataset_for_testing_standard, brits)\n",
    "brits_imputation_standard = toolkits.pre_reshape(brits_imputation_standard)\n",
    "brits_imputation_standard_ori = toolkits.desnormalization(brits_imputation_standard, scaler_standard)\n",
    "brits_imputation_standard = toolkits.reshape_variable(brits_imputation_standard)\n",
    "brits_imputation_standard_ori = toolkits.reshape_variable(brits_imputation_standard_ori)"
   ]
  },
  {
   "cell_type": "markdown",
   "metadata": {},
   "source": [
    "### USGAN"
   ]
  },
  {
   "cell_type": "code",
   "execution_count": 18,
   "metadata": {},
   "outputs": [],
   "source": [
    "usgan_imputation_standard = toolkits.model_imputation(dataset_for_testing_standard, us_gan)\n",
    "usgan_imputation_standard = toolkits.pre_reshape(usgan_imputation_standard)\n",
    "usgan_imputation_standard_ori = toolkits.desnormalization(usgan_imputation_standard, scaler_standard)\n",
    "usgan_imputation_standard = toolkits.reshape_variable(usgan_imputation_standard)\n",
    "usgan_imputation_standard_ori = toolkits.reshape_variable(usgan_imputation_standard_ori)"
   ]
  },
  {
   "cell_type": "markdown",
   "metadata": {},
   "source": [
    "### GPVAE"
   ]
  },
  {
   "cell_type": "code",
   "execution_count": 19,
   "metadata": {},
   "outputs": [],
   "source": [
    "gpvae_imputation_standard = toolkits.model_imputation(dataset_for_testing_standard, gp_vae)\n",
    "gpvae_imputation_standard = toolkits.pre_reshape(gpvae_imputation_standard)\n",
    "gpvae_imputation_standard_ori = toolkits.desnormalization(gpvae_imputation_standard, scaler_standard)\n",
    "gpvae_imputation_standard = toolkits.reshape_variable(gpvae_imputation_standard)\n",
    "gpvae_imputation_standard_ori = toolkits.reshape_variable(gpvae_imputation_standard_ori)"
   ]
  },
  {
   "cell_type": "markdown",
   "metadata": {},
   "source": [
    "### MRNN"
   ]
  },
  {
   "cell_type": "code",
   "execution_count": 20,
   "metadata": {},
   "outputs": [],
   "source": [
    "mrnn_imputation_standard = toolkits.model_imputation(dataset_for_testing_standard, mrnn)\n",
    "mrnn_imputation_standard = toolkits.pre_reshape(mrnn_imputation_standard)\n",
    "mrnn_imputation_standard_ori = toolkits.desnormalization(mrnn_imputation_standard, scaler_standard)\n",
    "mrnn_imputation_standard = toolkits.reshape_variable(mrnn_imputation_standard)\n",
    "mrnn_imputation_standard_ori = toolkits.reshape_variable(mrnn_imputation_standard_ori)"
   ]
  },
  {
   "cell_type": "markdown",
   "metadata": {},
   "source": [
    "# Calculate mean absolute error"
   ]
  },
  {
   "cell_type": "code",
   "execution_count": 8,
   "metadata": {},
   "outputs": [],
   "source": [
    "variables = [\"ALP\", \"ALT\", \"AST\", \"Albumin\", \"BUN\", \"Bilirubin\", \"Cholesterol\", \"Creatinine\", \"DiasABP\", \"FiO2\", \"GCS\", \"Glucose\", \"HCO3\", \"HCT\", \"HR\", \"K\", \"Lactate\", \"MAP\", \"MechVent\", \"Mg\", \"NIDiasABP\", \"NIMAP\", \"NISysABP\", \"Na\", \"PaCO2\", \"PaO2\", \"Platelets\", \"RespRate\", \"SaO2\", \"SysABP\", \"Temp\", \"TroponinI\", \"TroponinT\", \"Urine\", \"WBC\", \"Weight\", \"Ph\"]"
   ]
  },
  {
   "cell_type": "markdown",
   "metadata": {},
   "source": [
    "## SAITS"
   ]
  },
  {
   "cell_type": "markdown",
   "metadata": {},
   "source": [
    "### Calculate MAE and AE"
   ]
  },
  {
   "cell_type": "code",
   "execution_count": 11,
   "metadata": {},
   "outputs": [],
   "source": [
    "testing_mae_saits_variables_standard, testing_ae_saits_variables_standard = toolkits.calculate_mae(saits_imputation_standard, test_X_ori_variable_standard_norm, indicating_mask_variable_standard_norm)"
   ]
  },
  {
   "cell_type": "markdown",
   "metadata": {},
   "source": [
    "### Taking the MAE difference for SAITS model"
   ]
  },
  {
   "cell_type": "markdown",
   "metadata": {},
   "source": [
    "#### Difference between gender group"
   ]
  },
  {
   "cell_type": "code",
   "execution_count": 23,
   "metadata": {},
   "outputs": [
    {
     "data": {
      "text/plain": [
       "[('Cholesterol', 0.5369467090194768),\n",
       " ('TroponinI', 0.21670823641985287),\n",
       " ('SaO2', 0.20063240934906212),\n",
       " ('Lactate', 0.10301878449328433),\n",
       " ('Urine', 0.06260750938123472)]"
      ]
     },
     "execution_count": 23,
     "metadata": {},
     "output_type": "execute_result"
    }
   ],
   "source": [
    "diff_saits_gender_subgroup = toolkits.diff_mae_top_5(testing_mae_saits_variables_standard, 1, 2, variables)\n",
    "diff_saits_gender_subgroup"
   ]
  },
  {
   "cell_type": "markdown",
   "metadata": {},
   "source": [
    "#### Difference between age group"
   ]
  },
  {
   "cell_type": "code",
   "execution_count": 24,
   "metadata": {},
   "outputs": [
    {
     "data": {
      "text/plain": [
       "[('Cholesterol', 0.71459003341906),\n",
       " ('TroponinI', 0.5566432157859624),\n",
       " ('ALP', 0.35925495394620277),\n",
       " ('SaO2', 0.195697379474154),\n",
       " ('Bilirubin', 0.19557828928286905)]"
      ]
     },
     "execution_count": 24,
     "metadata": {},
     "output_type": "execute_result"
    }
   ],
   "source": [
    "diff_saits_age_subgroup = toolkits.diff_mae_top_5(testing_mae_saits_variables_standard, 4, 5, variables)\n",
    "diff_saits_age_subgroup"
   ]
  },
  {
   "cell_type": "markdown",
   "metadata": {},
   "source": [
    "#### Difference between ICUType group"
   ]
  },
  {
   "cell_type": "code",
   "execution_count": 25,
   "metadata": {},
   "outputs": [],
   "source": [
    "diff_saits_ICUType_1_2 = toolkits.diff_mae_top_5(testing_mae_saits_variables_standard, 6, 7, variables)\n",
    "diff_saits_ICUType_1_3 = toolkits.diff_mae_top_5(testing_mae_saits_variables_standard, 6, 8, variables)\n",
    "diff_saits_ICUType_1_4 = toolkits.diff_mae_top_5(testing_mae_saits_variables_standard, 6, 9, variables)\n",
    "diff_saits_ICUType_2_3 = toolkits.diff_mae_top_5(testing_mae_saits_variables_standard, 7, 8, variables)\n",
    "diff_saits_ICUType_2_4 = toolkits.diff_mae_top_5(testing_mae_saits_variables_standard, 7, 9, variables)\n",
    "diff_saits_ICUType_3_4 = toolkits.diff_mae_top_5(testing_mae_saits_variables_standard, 8, 9, variables)"
   ]
  },
  {
   "cell_type": "code",
   "execution_count": 26,
   "metadata": {},
   "outputs": [
    {
     "name": "stdout",
     "output_type": "stream",
     "text": [
      "Diferença(MAE) ICUType 1 e 2\n",
      "----------------------------\n",
      "[('TroponinI', 0.9325070965069859), ('Cholesterol', 0.9139836378262194), ('TroponinT', 0.6100616346293688), ('Albumin', 0.322760249031397), ('AST', 0.2527107910385458)]\n",
      "----------------------------\n",
      "Diferença(MAE) ICUType 1 e 3\n",
      "----------------------------\n",
      "[('TroponinI', 1.071422685673967), ('SaO2', 1.05884942799818), ('ALP', 0.7533389736410095), ('TroponinT', 0.5510962875933088), ('Albumin', 0.20918888387069867)]\n",
      "----------------------------\n",
      "Diferença(MAE) ICUType 1 e 4\n",
      "----------------------------\n",
      "[('TroponinI', 0.6292154996436101), ('TroponinT', 0.563187305642908), ('Albumin', 0.24242616927070348), ('Bilirubin', 0.20322886146603605), ('Glucose', 0.1836342906325531)]\n",
      "----------------------------\n",
      "Diferença(MAE) ICUType 2 e 3\n",
      "[('SaO2', 1.2740858480789576), ('Cholesterol', 0.8991669232297483), ('ALP', 0.8536263789449293), ('Temp', 0.2721045848889434), ('Glucose', 0.22842306840229232)]\n",
      "----------------------------\n",
      "Diferença(MAE) ICUType 2 e 4\n",
      "----------------------------\n",
      "[('Cholesterol', 0.7372177825264487), ('TroponinI', 0.3032915968633758), ('ALP', 0.2690002521006932), ('Temp', 0.1961166091141013), ('K', 0.14884236568870357)]\n",
      "----------------------------\n",
      "Diferença(MAE) ICUType 3 e 4\n",
      "----------------------------\n",
      "[('SaO2', 1.1404703360302801), ('ALP', 0.5846261268442361), ('TroponinI', 0.4422071860303569), ('Glucose', 0.26865936160758885), ('K', 0.22627618209899103)]\n",
      "----------------------------\n"
     ]
    }
   ],
   "source": [
    "print(\"Diferença(MAE) ICUType 1 e 2\")\n",
    "print(\"----------------------------\")\n",
    "print(diff_saits_ICUType_1_2)\n",
    "print(\"----------------------------\")\n",
    "print(\"Diferença(MAE) ICUType 1 e 3\")\n",
    "print(\"----------------------------\")\n",
    "print(diff_saits_ICUType_1_3)\n",
    "print(\"----------------------------\")\n",
    "print(\"Diferença(MAE) ICUType 1 e 4\")\n",
    "print(\"----------------------------\")\n",
    "print(diff_saits_ICUType_1_4)\n",
    "print(\"----------------------------\")\n",
    "print(\"Diferença(MAE) ICUType 2 e 3\")\n",
    "print(diff_saits_ICUType_2_3)\n",
    "print(\"----------------------------\")\n",
    "print(\"Diferença(MAE) ICUType 2 e 4\")\n",
    "print(\"----------------------------\")\n",
    "print(diff_saits_ICUType_2_4)\n",
    "print(\"----------------------------\")\n",
    "print(\"Diferença(MAE) ICUType 3 e 4\")\n",
    "print(\"----------------------------\")\n",
    "print(diff_saits_ICUType_3_4)\n",
    "print(\"----------------------------\")"
   ]
  },
  {
   "cell_type": "code",
   "execution_count": 27,
   "metadata": {},
   "outputs": [
    {
     "name": "stdout",
     "output_type": "stream",
     "text": [
      "Top 5 variáveis ICUType\n",
      "-----------------------\n",
      "SaO2\n",
      "TroponinI\n",
      "Cholesterol\n",
      "ALP\n",
      "TroponinT\n"
     ]
    }
   ],
   "source": [
    "print(\"Top 5 variáveis ICUType\")\n",
    "print(\"-----------------------\")\n",
    "print(variables[28])\n",
    "print(variables[31])\n",
    "print(variables[6])\n",
    "print(variables[0])\n",
    "print(variables[32])"
   ]
  },
  {
   "cell_type": "markdown",
   "metadata": {},
   "source": [
    "#### Difference between BMI group"
   ]
  },
  {
   "cell_type": "code",
   "execution_count": 28,
   "metadata": {},
   "outputs": [],
   "source": [
    "diff_saits_classification_undefined_low = toolkits.diff_mae_top_5(testing_mae_saits_variables_standard, 10, 11, variables)\n",
    "diff_saits_classification_undefined_normal = toolkits.diff_mae_top_5(testing_mae_saits_variables_standard, 10, 12, variables)\n",
    "diff_saits_classification_undefined_over = toolkits.diff_mae_top_5(testing_mae_saits_variables_standard, 10, 13, variables)\n",
    "diff_saits_classification_undefined_obs1 = toolkits.diff_mae_top_5(testing_mae_saits_variables_standard, 10, 14, variables)\n",
    "diff_saits_classification_undefined_obs2 = toolkits.diff_mae_top_5(testing_mae_saits_variables_standard, 10, 15, variables)\n",
    "diff_saits_classification_undefined_obs3 = toolkits.diff_mae_top_5(testing_mae_saits_variables_standard, 10, 16, variables)\n",
    "\n",
    "diff_saits_classification_low_normal = toolkits.diff_mae_top_5(testing_mae_saits_variables_standard, 11, 12, variables)\n",
    "diff_saits_classification_low_over = toolkits.diff_mae_top_5(testing_mae_saits_variables_standard, 11, 13, variables)\n",
    "diff_saits_classification_low_obs1 = toolkits.diff_mae_top_5(testing_mae_saits_variables_standard, 11, 14, variables)\n",
    "diff_saits_classification_low_obs2 = toolkits.diff_mae_top_5(testing_mae_saits_variables_standard, 11, 15, variables)\n",
    "diff_saits_classification_low_obs3 = toolkits.diff_mae_top_5(testing_mae_saits_variables_standard, 11, 16, variables)\n",
    "\n",
    "diff_saits_classification_normal_over = toolkits.diff_mae_top_5(testing_mae_saits_variables_standard, 12, 13, variables)\n",
    "diff_saits_classification_normal_obs1 = toolkits.diff_mae_top_5(testing_mae_saits_variables_standard, 12, 14, variables)\n",
    "diff_saits_classification_normal_obs2 = toolkits.diff_mae_top_5(testing_mae_saits_variables_standard, 12, 15, variables)\n",
    "diff_saits_classification_normal_obs3 = toolkits.diff_mae_top_5(testing_mae_saits_variables_standard, 12, 16, variables)\n",
    "\n",
    "diff_saits_classification_over_obs1 = toolkits.diff_mae_top_5(testing_mae_saits_variables_standard, 13, 14, variables)\n",
    "diff_saits_classification_over_obs2 = toolkits.diff_mae_top_5(testing_mae_saits_variables_standard, 13, 15, variables)\n",
    "diff_saits_classification_over_obs3 = toolkits.diff_mae_top_5(testing_mae_saits_variables_standard, 13, 16, variables)\n",
    "\n",
    "\n",
    "diff_saits_classification_obs1_obs2 = toolkits.diff_mae_top_5(testing_mae_saits_variables_standard, 14, 15, variables)\n",
    "diff_saits_classification_obs1_obs3 = toolkits.diff_mae_top_5(testing_mae_saits_variables_standard, 14, 16, variables)\n",
    "\n",
    "diff_saits_classification_obs2_obs3 = toolkits.diff_mae_top_5(testing_mae_saits_variables_standard, 15, 16, variables)"
   ]
  },
  {
   "cell_type": "code",
   "execution_count": 29,
   "metadata": {},
   "outputs": [
    {
     "name": "stdout",
     "output_type": "stream",
     "text": [
      "Diferença(MAE) Classification Undefined and low\n",
      "----------------------------\n",
      "[('ALP', 1.0695107866797067), ('Bilirubin', 0.9915185253107142), ('TroponinI', 0.6146236391081507), ('TroponinT', 0.443330279599206), ('Glucose', 0.41663925906179167)]\n",
      "----------------------------\n",
      "Diferença(MAE) Classification Undefined and normal\n",
      "----------------------------\n",
      "[('Cholesterol', 0.289557588458789), ('SaO2', 0.2683085747984237), ('TroponinI', 0.16227929548420128), ('Bilirubin', 0.13978310423485213), ('PaCO2', 0.13696079385519522)]\n",
      "----------------------------\n",
      "Diferença(MAE) Classification Undefined and over\n",
      "----------------------------\n",
      "[('Cholesterol', 0.41945464826892875), ('TroponinI', 0.2691987270297762), ('SaO2', 0.24053118518222205), ('TroponinT', 0.22793864497708735), ('Temp', 0.15260042386152797)]\n",
      "----------------------------\n",
      "Diferença(MAE) Classification Undefined and obs1\n",
      "[('Ph', 0.8884223528865745), ('SaO2', 0.25746552497276776), ('Albumin', 0.20186188486109413), ('Glucose', 0.17482233704439748), ('Temp', 0.16630289016220282)]\n",
      "----------------------------\n",
      "Diferença(MAE) Classification Undefined and obs2\n",
      "----------------------------\n",
      "[('TroponinT', 1.1841931063784787), ('TroponinI', 0.6146236391081507), ('Cholesterol', 0.5346509479938278), ('Albumin', 0.2152834329486969), ('ALP', 0.2033293551892044)]\n",
      "----------------------------\n",
      "Diferença(MAE) ICUType Undefined and obs3\n",
      "----------------------------\n",
      "[('TroponinT', 0.9733664597323932), ('Cholesterol', 0.5372298068140181), ('TroponinI', 0.2319849277840852), ('Albumin', 0.16943990179693924), ('ALP', 0.16674563910198983)]\n",
      "----------------------------\n"
     ]
    }
   ],
   "source": [
    "print(\"Diferença(MAE) Classification Undefined and low\")\n",
    "print(\"----------------------------\")\n",
    "print(diff_saits_classification_undefined_low)\n",
    "print(\"----------------------------\")\n",
    "print(\"Diferença(MAE) Classification Undefined and normal\")\n",
    "print(\"----------------------------\")\n",
    "print(diff_saits_classification_undefined_normal)\n",
    "print(\"----------------------------\")\n",
    "print(\"Diferença(MAE) Classification Undefined and over\")\n",
    "print(\"----------------------------\")\n",
    "print(diff_saits_classification_undefined_over)\n",
    "print(\"----------------------------\")\n",
    "print(\"Diferença(MAE) Classification Undefined and obs1\")\n",
    "print(diff_saits_classification_undefined_obs1)\n",
    "print(\"----------------------------\")\n",
    "print(\"Diferença(MAE) Classification Undefined and obs2\")\n",
    "print(\"----------------------------\")\n",
    "print(diff_saits_classification_undefined_obs2)\n",
    "print(\"----------------------------\")\n",
    "print(\"Diferença(MAE) ICUType Undefined and obs3\")\n",
    "print(\"----------------------------\")\n",
    "print(diff_saits_classification_undefined_obs3)\n",
    "print(\"----------------------------\")"
   ]
  },
  {
   "cell_type": "code",
   "execution_count": 30,
   "metadata": {},
   "outputs": [
    {
     "name": "stdout",
     "output_type": "stream",
     "text": [
      "Diferença(MAE) Classification low and normal\n",
      "----------------------------\n",
      "[('ALP', 0.9982778336968872), ('Bilirubin', 0.8517354210758621), ('Cholesterol', 0.602423448733534), ('Glucose', 0.4573483121011198), ('TroponinI', 0.4523443436239494)]\n",
      "----------------------------\n",
      "Diferença(MAE) Classification low and over\n",
      "----------------------------\n",
      "[('ALP', 1.203609745779102), ('Bilirubin', 1.136682060340596), ('TroponinI', 0.8838223661379269), ('Cholesterol', 0.7323205085436738), ('Albumin', 0.45063840894416585)]\n",
      "----------------------------\n",
      "Diferença(MAE) Classification low and obs1\n",
      "----------------------------\n",
      "[('ALP', 1.22901353915177), ('Bilirubin', 1.0050969115937654), ('Ph', 0.8831229167215342), ('Albumin', 0.5967438929186778), ('Glucose', 0.5914615961061891)]\n",
      "----------------------------\n",
      "Diferença(MAE) Classification low and obs2\n",
      "[('ALP', 1.272840141868911), ('Bilirubin', 1.1380893524477826), ('TroponinT', 0.7408628267792727), ('Albumin', 0.6101654410062806), ('Glucose', 0.3955945728917406)]\n",
      "----------------------------\n",
      "Diferença(MAE) Classification low and obs3\n",
      "----------------------------\n",
      "[('ALP', 1.2362564257816966), ('Bilirubin', 1.0630777777578952), ('Albumin', 0.5643219098545229), ('TroponinT', 0.5300361801331872), ('TroponinI', 0.38263871132406546)]\n",
      "----------------------------\n"
     ]
    }
   ],
   "source": [
    "print(\"Diferença(MAE) Classification low and normal\")\n",
    "print(\"----------------------------\")\n",
    "print(diff_saits_classification_low_normal)\n",
    "print(\"----------------------------\")\n",
    "print(\"Diferença(MAE) Classification low and over\")\n",
    "print(\"----------------------------\")\n",
    "print(diff_saits_classification_low_over)\n",
    "print(\"----------------------------\")\n",
    "print(\"Diferença(MAE) Classification low and obs1\")\n",
    "print(\"----------------------------\")\n",
    "print(diff_saits_classification_low_obs1)\n",
    "print(\"----------------------------\")\n",
    "print(\"Diferença(MAE) Classification low and obs2\")\n",
    "print(diff_saits_classification_low_obs2)\n",
    "print(\"----------------------------\")\n",
    "print(\"Diferença(MAE) Classification low and obs3\")\n",
    "print(\"----------------------------\")\n",
    "print(diff_saits_classification_low_obs3)\n",
    "print(\"----------------------------\")"
   ]
  },
  {
   "cell_type": "code",
   "execution_count": 31,
   "metadata": {},
   "outputs": [
    {
     "name": "stdout",
     "output_type": "stream",
     "text": [
      "Diferença(MAE) Classification normal and over\n",
      "----------------------------\n",
      "[('TroponinI', 0.4314780225139775), ('Bilirubin', 0.284946639264734), ('ALP', 0.2053319120822148), ('TroponinT', 0.1926569364019618), ('Cholesterol', 0.12989705981013977)]\n",
      "----------------------------\n",
      "Diferença(MAE) Classification normal and obs1\n",
      "----------------------------\n",
      "[('Ph', 0.8949578072986595), ('ALP', 0.23073570545488276), ('Albumin', 0.187628752476664), ('Mg', 0.1764365766369922), ('Cholesterol', 0.16955196245074788)]\n",
      "----------------------------\n",
      "Diferença(MAE) Classification normal and obs2\n",
      "----------------------------\n",
      "[('TroponinT', 1.1489113978033532), ('Cholesterol', 0.8242085364526168), ('TroponinI', 0.4523443436239494), ('Bilirubin', 0.28635393137192056), ('ALP', 0.2745623081720239)]\n",
      "----------------------------\n",
      "Diferença(MAE) Classification normal and obs3\n",
      "[('TroponinT', 0.9380847511572676), ('Cholesterol', 0.8267873952728071), ('ALP', 0.23797859208480934), ('ALT', 0.2252208677412318), ('Bilirubin', 0.21134235668203316)]\n",
      "----------------------------\n"
     ]
    }
   ],
   "source": [
    "print(\"Diferença(MAE) Classification normal and over\")\n",
    "print(\"----------------------------\")\n",
    "print(diff_saits_classification_normal_over)\n",
    "print(\"----------------------------\")\n",
    "print(\"Diferença(MAE) Classification normal and obs1\")\n",
    "print(\"----------------------------\")\n",
    "print(diff_saits_classification_normal_obs1)\n",
    "print(\"----------------------------\")\n",
    "print(\"Diferença(MAE) Classification normal and obs2\")\n",
    "print(\"----------------------------\")\n",
    "print(diff_saits_classification_normal_obs2)\n",
    "print(\"----------------------------\")\n",
    "print(\"Diferença(MAE) Classification normal and obs3\")\n",
    "print(diff_saits_classification_normal_obs3)\n",
    "print(\"----------------------------\")"
   ]
  },
  {
   "cell_type": "code",
   "execution_count": 32,
   "metadata": {},
   "outputs": [
    {
     "name": "stdout",
     "output_type": "stream",
     "text": [
      "Diferença(MAE) Classification over and obs1\n",
      "----------------------------\n",
      "[('Ph', 0.8907623616431242), ('TroponinI', 0.37049138280073846), ('Cholesterol', 0.29944902226088765), ('Glucose', 0.15595708586656248), ('Albumin', 0.14610548397451195)]\n",
      "----------------------------\n",
      "Diferença(MAE) Classification over and obs2\n",
      "----------------------------\n",
      "[('TroponinT', 0.9562544614013914), ('Cholesterol', 0.9541055962627566), ('TroponinI', 0.8838223661379269), ('Albumin', 0.15952703206211472), ('K', 0.11861308211336918)]\n",
      "----------------------------\n",
      "Diferença(MAE) Classification over and obs3\n",
      "----------------------------\n",
      "[('Cholesterol', 0.9566844550829469), ('TroponinT', 0.7454278147553058), ('TroponinI', 0.5011836548138614), ('Glucose', 0.17570699329093742), ('FiO2', 0.1685193157969586)]\n",
      "----------------------------\n"
     ]
    }
   ],
   "source": [
    "print(\"Diferença(MAE) Classification over and obs1\")\n",
    "print(\"----------------------------\")\n",
    "print(diff_saits_classification_over_obs1)\n",
    "print(\"----------------------------\")\n",
    "print(\"Diferença(MAE) Classification over and obs2\")\n",
    "print(\"----------------------------\")\n",
    "print(diff_saits_classification_over_obs2)\n",
    "print(\"----------------------------\")\n",
    "print(\"Diferença(MAE) Classification over and obs3\")\n",
    "print(\"----------------------------\")\n",
    "print(diff_saits_classification_over_obs3)\n",
    "print(\"----------------------------\")"
   ]
  },
  {
   "cell_type": "code",
   "execution_count": 33,
   "metadata": {},
   "outputs": [
    {
     "name": "stdout",
     "output_type": "stream",
     "text": [
      "Diferença(MAE) Classification obs1 and obs2 \n",
      "----------------------------\n",
      "[('TroponinT', 1.1014464734027822), ('Ph', 0.8916481822575759), ('Cholesterol', 0.6546565740018689), ('TroponinI', 0.5133309833371884), ('Glucose', 0.19586702321444854)]\n",
      "----------------------------\n",
      "Diferença(MAE) Classification obs1 and obs3 \n",
      "----------------------------\n",
      "[('Ph', 0.8969041137930027), ('TroponinT', 0.8906198267566967), ('Cholesterol', 0.6572354328220592), ('Glucose', 0.3316640791574999), ('ALT', 0.18581185150181573)]\n",
      "----------------------------\n"
     ]
    }
   ],
   "source": [
    "print(\"Diferença(MAE) Classification obs1 and obs2 \")\n",
    "print(\"----------------------------\")\n",
    "print(diff_saits_classification_obs1_obs2)\n",
    "print(\"----------------------------\")\n",
    "print(\"Diferença(MAE) Classification obs1 and obs3 \")\n",
    "print(\"----------------------------\")\n",
    "print(diff_saits_classification_obs1_obs3)\n",
    "print(\"----------------------------\")"
   ]
  },
  {
   "cell_type": "code",
   "execution_count": 34,
   "metadata": {},
   "outputs": [
    {
     "name": "stdout",
     "output_type": "stream",
     "text": [
      "Diferença(MAE) Classification obs2 and obs3 \n",
      "----------------------------\n",
      "[('TroponinI', 0.38263871132406546), ('TroponinT', 0.21082664664608552), ('K', 0.1659808046890613), ('Glucose', 0.13579705594305136), ('HCO3', 0.13126580142306704)]\n",
      "----------------------------\n"
     ]
    }
   ],
   "source": [
    "\n",
    "print(\"Diferença(MAE) Classification obs2 and obs3 \")\n",
    "print(\"----------------------------\")\n",
    "print(diff_saits_classification_obs2_obs3)\n",
    "print(\"----------------------------\")"
   ]
  },
  {
   "cell_type": "code",
   "execution_count": 35,
   "metadata": {},
   "outputs": [
    {
     "name": "stdout",
     "output_type": "stream",
     "text": [
      "Top 5 variáveis BMI\n",
      "-----------------------\n",
      "TroponinT\n",
      "ALP\n",
      "Cholesterol\n",
      "TroponinI\n",
      "Bilirubin\n"
     ]
    }
   ],
   "source": [
    "print(\"Top 5 variáveis BMI\")\n",
    "print(\"-----------------------\")\n",
    "print(variables[32])\n",
    "print(variables[0])\n",
    "print(variables[6])\n",
    "print(variables[31])\n",
    "print(variables[5])"
   ]
  },
  {
   "cell_type": "markdown",
   "metadata": {},
   "source": [
    "### Confidence Interval (Female Subgroup)"
   ]
  },
  {
   "cell_type": "markdown",
   "metadata": {},
   "source": [
    "#### Distribution Bootstrap for the Top 5 variables with Largest Differences in MAE (Mean Absolute Error) "
   ]
  },
  {
   "cell_type": "code",
   "execution_count": 36,
   "metadata": {},
   "outputs": [],
   "source": [
    "indices = [6, 31, 28, 16, 33]\n",
    "\n",
    "results_bootstrap_saits_female = []\n",
    "\n",
    "for i in indices:\n",
    "       results_bootstrap_saits_female.append(toolkits.bootstrap(testing_ae_saits_variables_standard, indicating_mask_variable_standard_norm, 1, i, 9000))"
   ]
  },
  {
   "cell_type": "markdown",
   "metadata": {},
   "source": [
    "#### Calculating the mean and standard deviation of the bootstrap distribution"
   ]
  },
  {
   "cell_type": "code",
   "execution_count": 37,
   "metadata": {},
   "outputs": [
    {
     "name": "stdout",
     "output_type": "stream",
     "text": [
      "[np.float64(1.373748843926726), np.float64(0.37275858362109265), np.float64(0.5524716886956614), np.float64(0.3326085230412998), np.float64(0.31286199594986686)]\n",
      "[np.float64(0.2763156656324914), np.float64(0.07217211517611831), np.float64(0.13870822329993635), np.float64(0.02584678967416644), np.float64(0.008810708363842035)]\n"
     ]
    }
   ],
   "source": [
    "means_bootstraps_saits_female,standards_deviations_saits_female = toolkits.calc_mean_and_standard_deviation(results_bootstrap_saits_female)\n",
    "\n",
    "print(means_bootstraps_saits_female)\n",
    "print(standards_deviations_saits_female)\n"
   ]
  },
  {
   "cell_type": "markdown",
   "metadata": {},
   "source": [
    "#### Calculating lower bound and upper bound"
   ]
  },
  {
   "cell_type": "code",
   "execution_count": 38,
   "metadata": {},
   "outputs": [
    {
     "name": "stdout",
     "output_type": "stream",
     "text": [
      "[np.float64(0.832180090922831), np.float64(0.2313038371878241), np.float64(0.28060856666824663), np.float64(0.2819497461639518), np.float64(0.29559332487845064)]\n",
      "[np.float64(1.915317596930621), np.float64(0.5142133300543612), np.float64(0.8243348107230762), np.float64(0.3832672999186478), np.float64(0.3301306670212831)]\n"
     ]
    }
   ],
   "source": [
    "lower_bounds_saits_female, upper_bounds_saits_female = toolkits.calc_lower_and_upper_bound(results_bootstrap_saits_female, means_bootstraps_saits_female,standards_deviations_saits_female)\n",
    "\n",
    "print(lower_bounds_saits_female)\n",
    "print(upper_bounds_saits_female)"
   ]
  },
  {
   "cell_type": "code",
   "execution_count": 39,
   "metadata": {},
   "outputs": [
    {
     "name": "stdout",
     "output_type": "stream",
     "text": [
      "[np.float64(0.7956493962302685), np.float64(0.23914515302182113), np.float64(0.3143323717583187), np.float64(0.28345713374277015), np.float64(0.29614027976911866)]\n",
      "[np.float64(1.8935062048888518), np.float64(0.5251975154710748), np.float64(0.8523403898000738), np.float64(0.38416654520917304), np.float64(0.3303962235070448)]\n"
     ]
    }
   ],
   "source": [
    "lower_bounds_saits_female, upper_bounds_saits_female = toolkits.calc_lower_and_upper_bound_percentile(results_bootstrap_saits_female)\n",
    "\n",
    "print(lower_bounds_saits_female)\n",
    "print(upper_bounds_saits_female)"
   ]
  },
  {
   "cell_type": "markdown",
   "metadata": {},
   "source": [
    "#### Mean values of lower bound and upper bound\n"
   ]
  },
  {
   "cell_type": "code",
   "execution_count": 40,
   "metadata": {},
   "outputs": [
    {
     "name": "stdout",
     "output_type": "stream",
     "text": [
      "[np.float64(1.34457780055956), np.float64(0.382171334246448), np.float64(0.5833363807791963), np.float64(0.3338118394759716), np.float64(0.3132682516380817)]\n"
     ]
    }
   ],
   "source": [
    "mean_values_ci_saits_female = toolkits.calc_mean_values_ci(lower_bounds_saits_female, upper_bounds_saits_female)\n",
    "\n",
    "print(mean_values_ci_saits_female)"
   ]
  },
  {
   "cell_type": "markdown",
   "metadata": {},
   "source": [
    "### Confidence Interval (Male Subgroup)"
   ]
  },
  {
   "cell_type": "markdown",
   "metadata": {},
   "source": [
    "#### Distribution Bootstrap for the Top 5 variables with Largest Differences in MAE (Mean Absolute Error) "
   ]
  },
  {
   "cell_type": "code",
   "execution_count": 41,
   "metadata": {},
   "outputs": [],
   "source": [
    "indices = [6, 31, 28, 16, 33]\n",
    "\n",
    "results_bootstrap_saits_male = []\n",
    "\n",
    "for i in indices:\n",
    "       results_bootstrap_saits_male.append(toolkits.bootstrap(testing_ae_saits_variables_standard, indicating_mask_variable_standard_norm, 2, i, 9000))"
   ]
  },
  {
   "cell_type": "markdown",
   "metadata": {},
   "source": [
    "#### Calculating the mean and standard deviation of the bootstrap distribution"
   ]
  },
  {
   "cell_type": "code",
   "execution_count": 42,
   "metadata": {},
   "outputs": [
    {
     "name": "stdout",
     "output_type": "stream",
     "text": [
      "[np.float64(0.8454456157021425), np.float64(0.5870766871262704), np.float64(0.35223551572908746), np.float64(0.43548421708030166), np.float64(0.37531705704424695)]\n",
      "[np.float64(0.143840246031478), np.float64(0.17114481857085853), np.float64(0.03324243128664382), np.float64(0.03333202574969339), np.float64(0.011765254887986593)]\n"
     ]
    }
   ],
   "source": [
    "means_bootstraps_saits_male,standards_deviations_saits_male = toolkits.calc_mean_and_standard_deviation(results_bootstrap_saits_male)\n",
    "\n",
    "print(means_bootstraps_saits_male)\n",
    "print(standards_deviations_saits_male)\n"
   ]
  },
  {
   "cell_type": "markdown",
   "metadata": {},
   "source": [
    "#### Calculating lower bound and upper bound"
   ]
  },
  {
   "cell_type": "code",
   "execution_count": 43,
   "metadata": {},
   "outputs": [
    {
     "name": "stdout",
     "output_type": "stream",
     "text": [
      "[np.float64(0.5635239139530652), np.float64(0.2516390065867458), np.float64(0.28708154764871807), np.float64(0.3701546470791409), np.float64(0.3522575811948594)]\n",
      "[np.float64(1.1273673174512198), np.float64(0.922514367665795), np.float64(0.41738948380945684), np.float64(0.5008137870814624), np.float64(0.3983765328936345)]\n"
     ]
    }
   ],
   "source": [
    "lower_bounds_saits_male, upper_bounds_saits_male = toolkits.calc_lower_and_upper_bound(results_bootstrap_saits_male, means_bootstraps_saits_male,standards_deviations_saits_male)\n",
    "\n",
    "print(lower_bounds_saits_male)\n",
    "print(upper_bounds_saits_male)"
   ]
  },
  {
   "cell_type": "code",
   "execution_count": 44,
   "metadata": {},
   "outputs": [
    {
     "name": "stdout",
     "output_type": "stream",
     "text": [
      "[np.float64(0.5523831343602811), np.float64(0.2433625140681217), np.float64(0.29165645089184855), np.float64(0.3738390338339372), np.float64(0.3531061209160324)]\n",
      "[np.float64(1.120114725634226), np.float64(0.9316484704602163), np.float64(0.422275351458329), np.float64(0.5046641338457889), np.float64(0.3993208596160408)]\n"
     ]
    }
   ],
   "source": [
    "lower_bounds_saits_male, upper_bounds_saits_male = toolkits.calc_lower_and_upper_bound_percentile(results_bootstrap_saits_male)\n",
    "\n",
    "print(lower_bounds_saits_male)\n",
    "print(upper_bounds_saits_male)"
   ]
  },
  {
   "cell_type": "markdown",
   "metadata": {},
   "source": [
    "#### Mean values of lower bound and upper bound\n"
   ]
  },
  {
   "cell_type": "code",
   "execution_count": 45,
   "metadata": {},
   "outputs": [
    {
     "name": "stdout",
     "output_type": "stream",
     "text": [
      "[np.float64(0.8362489299972535), np.float64(0.5875054922641689), np.float64(0.35696590117508875), np.float64(0.43925158383986307), np.float64(0.37621349026603657)]\n"
     ]
    }
   ],
   "source": [
    "mean_values_ci_saits_male = toolkits.calc_mean_values_ci(lower_bounds_saits_male, upper_bounds_saits_male)\n",
    "\n",
    "print(mean_values_ci_saits_male)"
   ]
  },
  {
   "cell_type": "markdown",
   "metadata": {},
   "source": [
    "### Confidence Interval (+65 Subgroup)"
   ]
  },
  {
   "cell_type": "markdown",
   "metadata": {},
   "source": [
    "#### Distribution Bootstrap for the Top 5 variables with Largest Differences in MAE (Mean Absolute Error) "
   ]
  },
  {
   "cell_type": "code",
   "execution_count": 46,
   "metadata": {},
   "outputs": [],
   "source": [
    "indices = [6, 32, 0, 28, 5]\n",
    "\n",
    "results_bootstrap_saits_more_than_or_equal_to_65_subgroup = []\n",
    "\n",
    "for i in indices:\n",
    "       results_bootstrap_saits_more_than_or_equal_to_65_subgroup.append(toolkits.bootstrap(testing_ae_saits_variables_standard, indicating_mask_variable_standard_norm, 4, i, 9000))\n"
   ]
  },
  {
   "cell_type": "markdown",
   "metadata": {},
   "source": [
    "#### Calculating the mean and standard deviation of the bootstrap distribution"
   ]
  },
  {
   "cell_type": "code",
   "execution_count": 47,
   "metadata": {},
   "outputs": [
    {
     "name": "stdout",
     "output_type": "stream",
     "text": [
      "[np.float64(0.683311639982926), np.float64(0.30663355208076215), np.float64(0.5370040452635078), np.float64(0.3591155379611528), np.float64(0.21794633697042903)]\n",
      "[np.float64(0.17629860778493864), np.float64(0.06688429215540845), np.float64(0.11717502776507074), np.float64(0.03234980702293529), np.float64(0.024597338668250326)]\n"
     ]
    }
   ],
   "source": [
    "means_bootstraps_saits_more_than_or_equal_to_65_subgroup,standards_deviations_saits_more_than_or_equal_to_65_subgroup = toolkits.calc_mean_and_standard_deviation(results_bootstrap_saits_more_than_or_equal_to_65_subgroup)\n",
    "\n",
    "print(means_bootstraps_saits_more_than_or_equal_to_65_subgroup)\n",
    "print(standards_deviations_saits_more_than_or_equal_to_65_subgroup)"
   ]
  },
  {
   "cell_type": "markdown",
   "metadata": {},
   "source": [
    "#### Calculating lower bound and upper bound\n"
   ]
  },
  {
   "cell_type": "code",
   "execution_count": 48,
   "metadata": {},
   "outputs": [
    {
     "name": "stdout",
     "output_type": "stream",
     "text": [
      "[np.float64(0.33777271819989346), np.float64(0.17554274832470673), np.float64(0.30734521095648826), np.float64(0.29571108128937873), np.float64(0.16973643906512398)]\n",
      "[np.float64(1.0288505617659585), np.float64(0.43772435583681757), np.float64(0.7666628795705273), np.float64(0.4225199946329269), np.float64(0.2661562348757341)]\n"
     ]
    }
   ],
   "source": [
    "lower_bounds_saits_more_than_or_equal_to_65_subgroup, upper_bounds_saits_more_than_or_equal_to_65_subgroup = toolkits.calc_lower_and_upper_bound(results_bootstrap_saits_more_than_or_equal_to_65_subgroup, means_bootstraps_saits_more_than_or_equal_to_65_subgroup,standards_deviations_saits_more_than_or_equal_to_65_subgroup)\n",
    "\n",
    "print(lower_bounds_saits_more_than_or_equal_to_65_subgroup)\n",
    "print(upper_bounds_saits_more_than_or_equal_to_65_subgroup)\n"
   ]
  },
  {
   "cell_type": "code",
   "execution_count": 49,
   "metadata": {},
   "outputs": [
    {
     "name": "stdout",
     "output_type": "stream",
     "text": [
      "[np.float64(0.35597846481394957), np.float64(0.1921553038861846), np.float64(0.3316215241760741), np.float64(0.30078791770110647), np.float64(0.17282016195369798)]\n",
      "[np.float64(1.05250639691288), np.float64(0.45107730908058646), np.float64(0.7907962758262245), np.float64(0.4277171466443936), np.float64(0.2679791242553792)]\n"
     ]
    }
   ],
   "source": [
    "lower_bounds_saits_more_than_or_equal_to_65_subgroup, upper_bounds_saits_more_than_or_equal_to_65_subgroup = toolkits.calc_lower_and_upper_bound_percentile(results_bootstrap_saits_more_than_or_equal_to_65_subgroup)\n",
    "\n",
    "print(lower_bounds_saits_more_than_or_equal_to_65_subgroup)\n",
    "print(upper_bounds_saits_more_than_or_equal_to_65_subgroup)"
   ]
  },
  {
   "cell_type": "markdown",
   "metadata": {},
   "source": [
    "#### Mean values of lower bound and upper bound"
   ]
  },
  {
   "cell_type": "code",
   "execution_count": 50,
   "metadata": {},
   "outputs": [
    {
     "name": "stdout",
     "output_type": "stream",
     "text": [
      "[np.float64(0.7042424308634148), np.float64(0.3216163064833855), np.float64(0.5612089000011493), np.float64(0.36425253217275), np.float64(0.22039964310453858)]\n"
     ]
    }
   ],
   "source": [
    "mean_values_ci_saits_more_than_or_equal_to_65_subgroup  = toolkits.calc_mean_values_ci(lower_bounds_saits_more_than_or_equal_to_65_subgroup , upper_bounds_saits_more_than_or_equal_to_65_subgroup)\n",
    "\n",
    "print(mean_values_ci_saits_more_than_or_equal_to_65_subgroup)"
   ]
  },
  {
   "cell_type": "markdown",
   "metadata": {},
   "source": [
    "### Confidence Interval (-65 subgroup)"
   ]
  },
  {
   "cell_type": "markdown",
   "metadata": {},
   "source": [
    "#### Distribution Bootstrap for the Top 5 variables with Largest Differences in MAE (Mean Absolute Error) "
   ]
  },
  {
   "cell_type": "code",
   "execution_count": 12,
   "metadata": {},
   "outputs": [],
   "source": [
    "indices = [6, 32, 0, 28, 5]\n",
    "\n",
    "results_bootstrap_saits_less_than_65_subgroup = []\n",
    "\n",
    "for i in indices:\n",
    "       results_bootstrap_saits_less_than_65_subgroup.append(toolkits.bootstrap(testing_ae_saits_variables_standard, indicating_mask_variable_standard_norm, 5, i, 9000))\n",
    "\n"
   ]
  },
  {
   "cell_type": "markdown",
   "metadata": {},
   "source": [
    "#### Calculating the mean and standard deviation of the bootstrap distribution"
   ]
  },
  {
   "cell_type": "code",
   "execution_count": 52,
   "metadata": {},
   "outputs": [
    {
     "name": "stdout",
     "output_type": "stream",
     "text": [
      "[np.float64(1.208289487828978), np.float64(0.27428476133353286), np.float64(0.8925227730258256), np.float64(0.5564066607647613), np.float64(0.4129615508935271)]\n",
      "[np.float64(0.797583775582912), np.float64(0.08184517674601052), np.float64(0.37591954421336243), np.float64(0.13554168671539277), np.float64(0.07186205317743216)]\n"
     ]
    }
   ],
   "source": [
    "means_bootstraps_saits_less_than_65_subgroup,standards_deviations_saits_less_than_65_subgroup = toolkits.calc_mean_and_standard_deviation(results_bootstrap_saits_less_than_65_subgroup)\n",
    "\n",
    "print(means_bootstraps_saits_less_than_65_subgroup)\n",
    "print(standards_deviations_saits_less_than_65_subgroup)"
   ]
  },
  {
   "cell_type": "markdown",
   "metadata": {},
   "source": [
    "#### Calculating lower bound and upper bound"
   ]
  },
  {
   "cell_type": "code",
   "execution_count": 53,
   "metadata": {},
   "outputs": [
    {
     "name": "stdout",
     "output_type": "stream",
     "text": [
      "[np.float64(-0.3549459869670064), np.float64(0.11387116260303709), np.float64(0.1557340052829228), np.float64(0.2907498363987804), np.float64(0.2721145148106579)]\n",
      "[np.float64(2.7715249626249623), np.float64(0.4346983600640286), np.float64(1.6293115407687284), np.float64(0.8220634851307422), np.float64(0.5538085869763962)]\n"
     ]
    }
   ],
   "source": [
    "lower_bounds_saits_less_than_65_subgroup, upper_bounds_saits_less_than_65_subgroup = toolkits.calc_lower_and_upper_bound(results_bootstrap_saits_less_than_65_subgroup, means_bootstraps_saits_less_than_65_subgroup, standards_deviations_saits_less_than_65_subgroup)\n",
    "\n",
    "print(lower_bounds_saits_less_than_65_subgroup)\n",
    "print(upper_bounds_saits_less_than_65_subgroup)\n"
   ]
  },
  {
   "cell_type": "code",
   "execution_count": 13,
   "metadata": {},
   "outputs": [
    {
     "name": "stdout",
     "output_type": "stream",
     "text": [
      "[np.float64(0.0), np.float64(0.1355628153311714), np.float64(0.32717498098171865), np.float64(0.3236336315051599), np.float64(0.28589890622038067)]\n",
      "[np.float64(2.29797867480385), np.float64(0.45557198397096177), np.float64(1.707836159771366), np.float64(0.8528012189301762), np.float64(0.5622029093938989)]\n"
     ]
    }
   ],
   "source": [
    "lower_bounds_saits_less_than_65_subgroup, upper_bounds_saits_less_than_65_subgroup = toolkits.calc_lower_and_upper_bound_percentile(results_bootstrap_saits_less_than_65_subgroup)\n",
    "\n",
    "print(lower_bounds_saits_less_than_65_subgroup)\n",
    "print(upper_bounds_saits_less_than_65_subgroup)\n"
   ]
  },
  {
   "cell_type": "markdown",
   "metadata": {},
   "source": [
    "#### Mean values of lower bound and upper bound"
   ]
  },
  {
   "cell_type": "code",
   "execution_count": 55,
   "metadata": {},
   "outputs": [
    {
     "name": "stdout",
     "output_type": "stream",
     "text": [
      "[np.float64(1.148989337401925), np.float64(0.29742976054709863), np.float64(1.0301826786945896), np.float64(0.5934558922523314), np.float64(0.4252249762823711)]\n"
     ]
    }
   ],
   "source": [
    "mean_values_ci_saits_less_than_65_subgroup  = toolkits.calc_mean_values_ci(lower_bounds_saits_less_than_65_subgroup, upper_bounds_saits_less_than_65_subgroup)\n",
    "\n",
    "print(mean_values_ci_saits_less_than_65_subgroup)"
   ]
  },
  {
   "cell_type": "markdown",
   "metadata": {},
   "source": [
    "### Confidence Interval (ICUType 1 subgroup)"
   ]
  },
  {
   "cell_type": "markdown",
   "metadata": {},
   "source": [
    "#### Distribution Bootstrap for the Top 5 variables with Largest Differences in MAE (Mean Absolute Error) "
   ]
  },
  {
   "cell_type": "code",
   "execution_count": 56,
   "metadata": {},
   "outputs": [],
   "source": [
    "indices = [28, 31, 6, 0, 32]\n",
    "\n",
    "results_bootstrap_saits_ICUType_1_subgroup = []\n",
    "\n",
    "for i in indices:\n",
    "       results_bootstrap_saits_ICUType_1_subgroup.append(toolkits.bootstrap(testing_ae_saits_variables_standard, indicating_mask_variable_standard_norm, 6, i, 9000))\n",
    "\n"
   ]
  },
  {
   "cell_type": "markdown",
   "metadata": {},
   "source": [
    "#### Calculating the mean and standard deviation of the bootstrap distribution"
   ]
  },
  {
   "cell_type": "code",
   "execution_count": 57,
   "metadata": {},
   "outputs": [
    {
     "name": "stdout",
     "output_type": "stream",
     "text": [
      "[np.float64(0.5175232711207629), np.float64(1.4278963717988322), np.float64(0.9129259916787572), np.float64(0.21492256770089987), np.float64(0.7220408300156814)]\n",
      "[np.float64(0.18227494979941367), np.float64(0.4755777669967603), np.float64(0.1910354968552305), np.float64(0.03940171351431769), np.float64(0.1529220761683557)]\n"
     ]
    }
   ],
   "source": [
    "means_bootstraps_saits_ICUType_1_subgroup, standards_deviations_saits_ICUType_1_subgroup = toolkits.calc_mean_and_standard_deviation(results_bootstrap_saits_ICUType_1_subgroup)\n",
    "\n",
    "print(means_bootstraps_saits_ICUType_1_subgroup)\n",
    "print(standards_deviations_saits_ICUType_1_subgroup)\n"
   ]
  },
  {
   "cell_type": "markdown",
   "metadata": {},
   "source": [
    "#### Calculating lower bound and upper bound"
   ]
  },
  {
   "cell_type": "code",
   "execution_count": 58,
   "metadata": {},
   "outputs": [
    {
     "name": "stdout",
     "output_type": "stream",
     "text": [
      "[np.float64(0.16027093423006578), np.float64(0.4957810766372005), np.float64(0.5385032980737907), np.float64(0.13769662828367207), np.float64(0.42231906828461335)]\n",
      "[np.float64(0.87477560801146), np.float64(2.360011666960464), np.float64(1.2873486852837237), np.float64(0.2921485071181277), np.float64(1.0217625917467494)]\n"
     ]
    }
   ],
   "source": [
    "lower_bounds_saits_ICUType_1_subgroup, upper_bounds_saits_ICUType_1_subgroup = toolkits.calc_lower_and_upper_bound(results_bootstrap_saits_ICUType_1_subgroup, means_bootstraps_saits_ICUType_1_subgroup, standards_deviations_saits_ICUType_1_subgroup)\n",
    "\n",
    "print(lower_bounds_saits_ICUType_1_subgroup)\n",
    "print(upper_bounds_saits_ICUType_1_subgroup)"
   ]
  },
  {
   "cell_type": "code",
   "execution_count": 59,
   "metadata": {},
   "outputs": [
    {
     "name": "stdout",
     "output_type": "stream",
     "text": [
      "[np.float64(0.2721307111818871), np.float64(0.543638988066526), np.float64(0.5363954702369058), np.float64(0.141052404752942), np.float64(0.44118206996901976)]\n",
      "[np.float64(0.9469395469158568), np.float64(2.427082702067996), np.float64(1.3002812933748946), np.float64(0.2972861634721159), np.float64(1.0472229543060139)]\n"
     ]
    }
   ],
   "source": [
    "lower_bounds_saits_ICUType_1_subgroup, upper_bounds_saits_ICUType_1_subgroup = toolkits.calc_lower_and_upper_bound_percentile(results_bootstrap_saits_ICUType_1_subgroup)\n",
    "\n",
    "print(lower_bounds_saits_ICUType_1_subgroup)\n",
    "print(upper_bounds_saits_ICUType_1_subgroup)"
   ]
  },
  {
   "cell_type": "markdown",
   "metadata": {},
   "source": [
    "#### Mean values of lower bound and upper bound"
   ]
  },
  {
   "cell_type": "code",
   "execution_count": 60,
   "metadata": {},
   "outputs": [
    {
     "name": "stdout",
     "output_type": "stream",
     "text": [
      "[np.float64(0.609535129048872), np.float64(1.485360845067261), np.float64(0.9183383818059002), np.float64(0.21916928411252895), np.float64(0.7442025121375169)]\n"
     ]
    }
   ],
   "source": [
    "mean_values_ci_saits_ICUType_1_subgroup  = toolkits.calc_mean_values_ci(lower_bounds_saits_ICUType_1_subgroup, upper_bounds_saits_ICUType_1_subgroup)\n",
    "\n",
    "print(mean_values_ci_saits_ICUType_1_subgroup)"
   ]
  },
  {
   "cell_type": "markdown",
   "metadata": {},
   "source": [
    "### Confidence Interval (ICUType 2 subgroup)"
   ]
  },
  {
   "cell_type": "markdown",
   "metadata": {},
   "source": [
    "#### Distribution Bootstrap for the Top 5 variables with Largest Differences in MAE (Mean Absolute Error) "
   ]
  },
  {
   "cell_type": "code",
   "execution_count": 61,
   "metadata": {},
   "outputs": [],
   "source": [
    "indices = [28, 31, 6, 0, 32]\n",
    "\n",
    "results_bootstrap_saits_ICUType_2_subgroup = []\n",
    "\n",
    "for i in indices:\n",
    "       results_bootstrap_saits_ICUType_2_subgroup.append(toolkits.bootstrap(testing_ae_saits_variables_standard, indicating_mask_variable_standard_norm, 7, i, 9000))\n",
    "\n"
   ]
  },
  {
   "cell_type": "markdown",
   "metadata": {},
   "source": [
    "#### Calculating the mean and standard deviation of the bootstrap distribution"
   ]
  },
  {
   "cell_type": "code",
   "execution_count": 62,
   "metadata": {},
   "outputs": [
    {
     "name": "stdout",
     "output_type": "stream",
     "text": [
      "[np.float64(0.302330846940043), np.float64(0.4805505000645951), np.float64(0.0), np.float64(0.11446282246482933), np.float64(0.11144690325298823)]\n",
      "[np.float64(0.022484822368596478), np.float64(0.14194048224116887), np.float64(0.0), np.float64(0.015170346694063874), np.float64(0.011097118126151561)]\n"
     ]
    }
   ],
   "source": [
    "means_bootstraps_saits_ICUType_2_subgroup, standards_deviations_saits_ICUType_2_subgroup = toolkits.calc_mean_and_standard_deviation(results_bootstrap_saits_ICUType_2_subgroup)\n",
    "\n",
    "print(means_bootstraps_saits_ICUType_2_subgroup)\n",
    "print(standards_deviations_saits_ICUType_2_subgroup)\n"
   ]
  },
  {
   "cell_type": "markdown",
   "metadata": {},
   "source": [
    "#### Calculating lower bound and upper bound"
   ]
  },
  {
   "cell_type": "code",
   "execution_count": 63,
   "metadata": {},
   "outputs": [
    {
     "name": "stdout",
     "output_type": "stream",
     "text": [
      "[np.float64(0.2582614048988133), np.float64(0.202352266923657), np.float64(0.0), np.float64(0.08472948931147786), np.float64(0.08969695139354456)]\n",
      "[np.float64(0.3464002889812727), np.float64(0.7587487332055332), np.float64(0.0), np.float64(0.1441961556181808), np.float64(0.1331968551124319)]\n"
     ]
    }
   ],
   "source": [
    "lower_bounds_saits_ICUType_2_subgroup, upper_bounds_saits_ICUType_2_subgroup = toolkits.calc_lower_and_upper_bound(results_bootstrap_saits_ICUType_2_subgroup, means_bootstraps_saits_ICUType_2_subgroup, standards_deviations_saits_ICUType_2_subgroup)\n",
    "\n",
    "print(lower_bounds_saits_ICUType_2_subgroup)\n",
    "print(upper_bounds_saits_ICUType_2_subgroup)"
   ]
  },
  {
   "cell_type": "code",
   "execution_count": 64,
   "metadata": {},
   "outputs": [
    {
     "name": "stdout",
     "output_type": "stream",
     "text": [
      "[np.float64(0.26052604936651513), np.float64(0.18986505956715696), np.float64(0.0), np.float64(0.08483659567234057), np.float64(0.09044232359616046)]\n",
      "[np.float64(0.34895492675589923), np.float64(0.7805805876880018), np.float64(0.0), np.float64(0.14509193298337147), np.float64(0.1344022433581575)]\n"
     ]
    }
   ],
   "source": [
    "lower_bounds_saits_ICUType_2_subgroup, upper_bounds_saits_ICUType_2_subgroup = toolkits.calc_lower_and_upper_bound_percentile(results_bootstrap_saits_ICUType_2_subgroup)\n",
    "\n",
    "print(lower_bounds_saits_ICUType_2_subgroup)\n",
    "print(upper_bounds_saits_ICUType_2_subgroup)"
   ]
  },
  {
   "cell_type": "markdown",
   "metadata": {},
   "source": [
    "#### Mean values of lower bound and upper bound"
   ]
  },
  {
   "cell_type": "code",
   "execution_count": 65,
   "metadata": {},
   "outputs": [
    {
     "name": "stdout",
     "output_type": "stream",
     "text": [
      "[np.float64(0.3047404880612072), np.float64(0.48522282362757935), np.float64(0.0), np.float64(0.11496426432785603), np.float64(0.11242228347715899)]\n"
     ]
    }
   ],
   "source": [
    "mean_values_ci_saits_ICUType_2_subgroup  = toolkits.calc_mean_values_ci(lower_bounds_saits_ICUType_2_subgroup, upper_bounds_saits_ICUType_2_subgroup)\n",
    "\n",
    "print(mean_values_ci_saits_ICUType_2_subgroup)"
   ]
  },
  {
   "cell_type": "markdown",
   "metadata": {},
   "source": [
    "### Confidence Interval (ICUType 3 subgroup)"
   ]
  },
  {
   "cell_type": "markdown",
   "metadata": {},
   "source": [
    "#### Distribution Bootstrap for the Top 5 variables with Largest Differences in MAE (Mean Absolute Error) "
   ]
  },
  {
   "cell_type": "code",
   "execution_count": 66,
   "metadata": {},
   "outputs": [],
   "source": [
    "indices = [28, 31, 6, 0, 32]\n",
    "\n",
    "results_bootstrap_saits_ICUType_3_subgroup = []\n",
    "\n",
    "for i in indices:\n",
    "       results_bootstrap_saits_ICUType_3_subgroup.append(toolkits.bootstrap(testing_ae_saits_variables_standard, indicating_mask_variable_standard_norm, 8, i, 9000))\n",
    "\n"
   ]
  },
  {
   "cell_type": "markdown",
   "metadata": {},
   "source": [
    "#### Calculating the mean and standard deviation of the bootstrap distribution"
   ]
  },
  {
   "cell_type": "code",
   "execution_count": 67,
   "metadata": {},
   "outputs": [
    {
     "name": "stdout",
     "output_type": "stream",
     "text": [
      "[np.float64(1.5841230287885042), np.float64(0.3442581782489468), np.float64(0.8792872952354504), np.float64(0.9678921773734542), np.float64(0.17010714776707878)]\n",
      "[np.float64(0.4580019823961283), np.float64(0.06377201884422147), np.float64(0.17910323571645184), np.float64(0.3821815015371616), np.float64(0.04131366246733019)]\n"
     ]
    }
   ],
   "source": [
    "means_bootstraps_saits_ICUType_3_subgroup, standards_deviations_saits_ICUType_3_subgroup = toolkits.calc_mean_and_standard_deviation(results_bootstrap_saits_ICUType_3_subgroup)\n",
    "\n",
    "print(means_bootstraps_saits_ICUType_3_subgroup)\n",
    "print(standards_deviations_saits_ICUType_3_subgroup)\n"
   ]
  },
  {
   "cell_type": "markdown",
   "metadata": {},
   "source": [
    "#### Calculating lower bound and upper bound"
   ]
  },
  {
   "cell_type": "code",
   "execution_count": 68,
   "metadata": {},
   "outputs": [
    {
     "name": "stdout",
     "output_type": "stream",
     "text": [
      "[np.float64(0.6864556384441448), np.float64(0.21926731809286304), np.float64(0.5282514037166168), np.float64(0.2188301988031781), np.float64(0.08913385726166742)]\n",
      "[np.float64(2.4817904191328637), np.float64(0.4692490384050305), np.float64(1.2303231867542839), np.float64(1.7169541559437302), np.float64(0.25108043827249016)]\n"
     ]
    }
   ],
   "source": [
    "lower_bounds_saits_ICUType_3_subgroup, upper_bounds_saits_ICUType_3_subgroup = toolkits.calc_lower_and_upper_bound(results_bootstrap_saits_ICUType_3_subgroup, means_bootstraps_saits_ICUType_3_subgroup, standards_deviations_saits_ICUType_3_subgroup)\n",
    "\n",
    "print(lower_bounds_saits_ICUType_3_subgroup)\n",
    "print(upper_bounds_saits_ICUType_3_subgroup)"
   ]
  },
  {
   "cell_type": "code",
   "execution_count": 69,
   "metadata": {},
   "outputs": [
    {
     "name": "stdout",
     "output_type": "stream",
     "text": [
      "[np.float64(0.7721555830654729), np.float64(0.21874596646993222), np.float64(0.672715728591764), np.float64(0.3739342724649222), np.float64(0.10112949143394352)]\n",
      "[np.float64(2.5686964869598774), np.float64(0.470684071940567), np.float64(1.2507690080254117), np.float64(1.822936301165187), np.float64(0.2598147214626444)]\n"
     ]
    }
   ],
   "source": [
    "lower_bounds_saits_ICUType_3_subgroup, upper_bounds_saits_ICUType_3_subgroup = toolkits.calc_lower_and_upper_bound_percentile(results_bootstrap_saits_ICUType_3_subgroup)\n",
    "\n",
    "print(lower_bounds_saits_ICUType_3_subgroup)\n",
    "print(upper_bounds_saits_ICUType_3_subgroup)"
   ]
  },
  {
   "cell_type": "markdown",
   "metadata": {},
   "source": [
    "#### Mean values of lower bound and upper bound"
   ]
  },
  {
   "cell_type": "code",
   "execution_count": 70,
   "metadata": {},
   "outputs": [
    {
     "name": "stdout",
     "output_type": "stream",
     "text": [
      "[np.float64(1.6704260350126752), np.float64(0.3447150192052496), np.float64(0.9617423683085878), np.float64(1.0984352868150546), np.float64(0.18047210644829395)]\n"
     ]
    }
   ],
   "source": [
    "mean_values_ci_saits_ICUType_3_subgroup  = toolkits.calc_mean_values_ci(lower_bounds_saits_ICUType_3_subgroup, upper_bounds_saits_ICUType_3_subgroup)\n",
    "\n",
    "print(mean_values_ci_saits_ICUType_3_subgroup)"
   ]
  },
  {
   "cell_type": "markdown",
   "metadata": {},
   "source": [
    "### Confidence Interval (ICUType 4 subgroup)"
   ]
  },
  {
   "cell_type": "markdown",
   "metadata": {},
   "source": [
    "#### Distribution Bootstrap for the Top 5 variables with Largest Differences in MAE (Mean Absolute Error) "
   ]
  },
  {
   "cell_type": "code",
   "execution_count": 71,
   "metadata": {},
   "outputs": [],
   "source": [
    "indices = [28, 31, 6, 0, 32]\n",
    "\n",
    "results_bootstrap_saits_ICUType_4_subgroup = []\n",
    "\n",
    "for i in indices:\n",
    "       results_bootstrap_saits_ICUType_4_subgroup.append(toolkits.bootstrap(testing_ae_saits_variables_standard, indicating_mask_variable_standard_norm, 9, i, 9000))\n",
    "\n"
   ]
  },
  {
   "cell_type": "markdown",
   "metadata": {},
   "source": [
    "#### Calculating the mean and standard deviation of the bootstrap distribution"
   ]
  },
  {
   "cell_type": "code",
   "execution_count": 72,
   "metadata": {},
   "outputs": [
    {
     "name": "stdout",
     "output_type": "stream",
     "text": [
      "[np.float64(0.4348812171138142), np.float64(0.7754464465352181), np.float64(0.7335534335513758), np.float64(0.3829863186704514), np.float64(0.15835507919870295)]\n",
      "[np.float64(0.09256210857353321), np.float64(0.3532831689263103), np.float64(0.1823292780305236), np.float64(0.0683837223603779), np.float64(0.026023271121236684)]\n"
     ]
    }
   ],
   "source": [
    "means_bootstraps_saits_ICUType_4_subgroup, standards_deviations_saits_ICUType_4_subgroup = toolkits.calc_mean_and_standard_deviation(results_bootstrap_saits_ICUType_4_subgroup)\n",
    "\n",
    "print(means_bootstraps_saits_ICUType_4_subgroup)\n",
    "print(standards_deviations_saits_ICUType_4_subgroup)\n"
   ]
  },
  {
   "cell_type": "markdown",
   "metadata": {},
   "source": [
    "#### Calculating lower bound and upper bound"
   ]
  },
  {
   "cell_type": "code",
   "execution_count": 73,
   "metadata": {},
   "outputs": [
    {
     "name": "stdout",
     "output_type": "stream",
     "text": [
      "[np.float64(0.25346281797660297), np.float64(0.08302415909547001), np.float64(0.37619461528435943), np.float64(0.24895668571532434), np.float64(0.10735040504115778)]\n",
      "[np.float64(0.6162996162510255), np.float64(1.4678687339749663), np.float64(1.0909122518183922), np.float64(0.5170159516255785), np.float64(0.20935975335624812)]\n"
     ]
    }
   ],
   "source": [
    "lower_bounds_saits_ICUType_4_subgroup, upper_bounds_saits_ICUType_4_subgroup = toolkits.calc_lower_and_upper_bound(results_bootstrap_saits_ICUType_4_subgroup, means_bootstraps_saits_ICUType_4_subgroup, standards_deviations_saits_ICUType_4_subgroup)\n",
    "\n",
    "print(lower_bounds_saits_ICUType_4_subgroup)\n",
    "print(upper_bounds_saits_ICUType_4_subgroup)"
   ]
  },
  {
   "cell_type": "code",
   "execution_count": 74,
   "metadata": {},
   "outputs": [
    {
     "name": "stdout",
     "output_type": "stream",
     "text": [
      "[np.float64(0.27939241666052433), np.float64(0.37283400758291424), np.float64(0.36301224178524266), np.float64(0.25870839304650867), np.float64(0.11097505309520649)]\n",
      "[np.float64(0.6381956673551215), np.float64(1.8003804692113732), np.float64(1.0613737960735214), np.float64(0.5258771348855341), np.float64(0.21241468020378465)]\n"
     ]
    }
   ],
   "source": [
    "lower_bounds_saits_ICUType_4_subgroup, upper_bounds_saits_ICUType_4_subgroup = toolkits.calc_lower_and_upper_bound_percentile(results_bootstrap_saits_ICUType_4_subgroup)\n",
    "\n",
    "print(lower_bounds_saits_ICUType_4_subgroup)\n",
    "print(upper_bounds_saits_ICUType_4_subgroup)"
   ]
  },
  {
   "cell_type": "markdown",
   "metadata": {},
   "source": [
    "#### Mean values of lower bound and upper bound"
   ]
  },
  {
   "cell_type": "code",
   "execution_count": 75,
   "metadata": {},
   "outputs": [
    {
     "name": "stdout",
     "output_type": "stream",
     "text": [
      "[np.float64(0.4587940420078229), np.float64(1.0866072383971437), np.float64(0.712193018929382), np.float64(0.3922927639660214), np.float64(0.16169486664949556)]\n"
     ]
    }
   ],
   "source": [
    "mean_values_ci_saits_ICUType_4_subgroup  = toolkits.calc_mean_values_ci(lower_bounds_saits_ICUType_4_subgroup, upper_bounds_saits_ICUType_4_subgroup)\n",
    "\n",
    "print(mean_values_ci_saits_ICUType_4_subgroup)"
   ]
  },
  {
   "cell_type": "markdown",
   "metadata": {},
   "source": [
    "### Confidence Interval (Undefined classification subgroup)"
   ]
  },
  {
   "cell_type": "markdown",
   "metadata": {},
   "source": [
    "#### Distribution Bootstrap for the Top 5 variables with Largest Differences in MAE (Mean Absolute Error) "
   ]
  },
  {
   "cell_type": "code",
   "execution_count": 76,
   "metadata": {},
   "outputs": [],
   "source": [
    "indices = [32, 0, 6, 31, 5]\n",
    "\n",
    "results_bootstrap_saits_undefined_classification_subgroup = []\n",
    "\n",
    "for i in indices:\n",
    "       results_bootstrap_saits_undefined_classification_subgroup.append(toolkits.bootstrap(testing_ae_saits_variables_standard, indicating_mask_variable_standard_norm, 10, i, 9000))\n",
    "\n"
   ]
  },
  {
   "cell_type": "markdown",
   "metadata": {},
   "source": [
    "#### Calculating the mean and standard deviation of the bootstrap distribution"
   ]
  },
  {
   "cell_type": "code",
   "execution_count": 77,
   "metadata": {},
   "outputs": [
    {
     "name": "stdout",
     "output_type": "stream",
     "text": [
      "[np.float64(0.22202724599185142), np.float64(0.3634481036858109), np.float64(0.5361061308000131), np.float64(0.6154688951137669), np.float64(0.35255617546895457)]\n",
      "[np.float64(0.045046997511669136), np.float64(0.05301608593423815), np.float64(0.16599527717279897), np.float64(0.20926874088448058), np.float64(0.10138902903226112)]\n"
     ]
    }
   ],
   "source": [
    "means_bootstraps_saits_undefined_classification_subgroup, standards_deviations_saits_undefined_classification_subgroup = toolkits.calc_mean_and_standard_deviation(results_bootstrap_saits_undefined_classification_subgroup)\n",
    "\n",
    "print(means_bootstraps_saits_undefined_classification_subgroup)\n",
    "print(standards_deviations_saits_undefined_classification_subgroup)\n"
   ]
  },
  {
   "cell_type": "markdown",
   "metadata": {},
   "source": [
    "#### Calculating lower bound and upper bound"
   ]
  },
  {
   "cell_type": "code",
   "execution_count": 78,
   "metadata": {},
   "outputs": [
    {
     "name": "stdout",
     "output_type": "stream",
     "text": [
      "[np.float64(0.1337367532573145), np.float64(0.25953848465342355), np.float64(0.21076136593758338), np.float64(0.20530969989014025), np.float64(0.15383733013823686)]\n",
      "[np.float64(0.31031773872638835), np.float64(0.4673577227181982), np.float64(0.8614508956624429), np.float64(1.0256280903373935), np.float64(0.5512750207996723)]\n"
     ]
    }
   ],
   "source": [
    "lower_bounds_saits_undefined_classification_subgroup, upper_bounds_saits_undefined_classification_subgroup = toolkits.calc_lower_and_upper_bound(results_bootstrap_saits_undefined_classification_subgroup, means_bootstraps_saits_undefined_classification_subgroup, standards_deviations_saits_undefined_classification_subgroup)\n",
    "\n",
    "print(lower_bounds_saits_undefined_classification_subgroup)\n",
    "print(upper_bounds_saits_undefined_classification_subgroup)"
   ]
  },
  {
   "cell_type": "code",
   "execution_count": null,
   "metadata": {},
   "outputs": [],
   "source": [
    "lower_bounds_saits_undefined_classification_subgroup, upper_bounds_saits_undefined_classification_subgroup = toolkits.calc_lower_and_upper_bound_percentile(results_bootstrap_saits_undefined_classification_subgroup)\n",
    "\n",
    "print(lower_bounds_saits_undefined_classification_subgroup)\n",
    "print(upper_bounds_saits_undefined_classification_subgroup)"
   ]
  },
  {
   "cell_type": "markdown",
   "metadata": {},
   "source": [
    "#### Mean values of lower bound and upper bound"
   ]
  },
  {
   "cell_type": "code",
   "execution_count": 80,
   "metadata": {},
   "outputs": [
    {
     "name": "stdout",
     "output_type": "stream",
     "text": [
      "[np.float64(0.23421292304635094), np.float64(0.37247299987905996), np.float64(0.5454084261161704), np.float64(0.637954897636116), np.float64(0.3888500314957763)]\n"
     ]
    }
   ],
   "source": [
    "mean_values_ci_saits_undefined_classification_subgroup  = toolkits.calc_mean_values_ci(lower_bounds_saits_undefined_classification_subgroup, upper_bounds_saits_undefined_classification_subgroup)\n",
    "\n",
    "print(mean_values_ci_saits_undefined_classification_subgroup)"
   ]
  },
  {
   "cell_type": "markdown",
   "metadata": {},
   "source": [
    "### Confidence Interval (Low weight classification subgroup)"
   ]
  },
  {
   "cell_type": "markdown",
   "metadata": {},
   "source": [
    "#### Distribution Bootstrap for the Top 5 variables with Largest Differences in MAE (Mean Absolute Error) "
   ]
  },
  {
   "cell_type": "code",
   "execution_count": 81,
   "metadata": {},
   "outputs": [],
   "source": [
    "indices = [32, 0, 6, 31, 5]\n",
    "\n",
    "results_bootstrap_saits_low_weight_classification_subgroup = []\n",
    "\n",
    "for i in indices:\n",
    "       results_bootstrap_saits_low_weight_classification_subgroup.append(toolkits.bootstrap(testing_ae_saits_variables_standard, indicating_mask_variable_standard_norm, 11, i, 9000))\n",
    "\n"
   ]
  },
  {
   "cell_type": "markdown",
   "metadata": {},
   "source": [
    "#### Calculating the mean and standard deviation of the bootstrap distribution"
   ]
  },
  {
   "cell_type": "code",
   "execution_count": 82,
   "metadata": {},
   "outputs": [
    {
     "name": "stdout",
     "output_type": "stream",
     "text": [
      "[np.float64(0.419192760030637), np.float64(1.2255543646398814), np.float64(0.14291983394555102), np.float64(0.0), np.float64(1.321715852773789)]\n",
      "[np.float64(0.32079167367789113), np.float64(1.0840216547777217), np.float64(0.10788873457291617), np.float64(0.0), np.float64(1.1140293841094702)]\n"
     ]
    }
   ],
   "source": [
    "means_bootstraps_saits_low_weight_classification_subgroup, standards_deviations_saits_low_weight_classification_subgroup = toolkits.calc_mean_and_standard_deviation(results_bootstrap_saits_low_weight_classification_subgroup)\n",
    "\n",
    "print(means_bootstraps_saits_low_weight_classification_subgroup)\n",
    "print(standards_deviations_saits_low_weight_classification_subgroup)\n"
   ]
  },
  {
   "cell_type": "markdown",
   "metadata": {},
   "source": [
    "#### Calculating lower bound and upper bound"
   ]
  },
  {
   "cell_type": "code",
   "execution_count": 83,
   "metadata": {},
   "outputs": [
    {
     "name": "stdout",
     "output_type": "stream",
     "text": [
      "[np.float64(-0.2095473669183553), np.float64(-0.8990890371859648), np.float64(-0.06853820015496603), np.float64(0.0), np.float64(-0.8617416178001107)]\n",
      "[np.float64(1.0479328869796292), np.float64(3.350197766465728), np.float64(0.3543778680460681), np.float64(0.0), np.float64(3.5051733233476883)]\n"
     ]
    }
   ],
   "source": [
    "lower_bounds_saits_low_weight_classification_subgroup, upper_bounds_saits_low_weight_classification_subgroup = toolkits.calc_lower_and_upper_bound(results_bootstrap_saits_low_weight_classification_subgroup, means_bootstraps_saits_low_weight_classification_subgroup, standards_deviations_saits_low_weight_classification_subgroup)\n",
    "\n",
    "print(lower_bounds_saits_low_weight_classification_subgroup)\n",
    "print(upper_bounds_saits_low_weight_classification_subgroup)"
   ]
  },
  {
   "cell_type": "code",
   "execution_count": 84,
   "metadata": {},
   "outputs": [
    {
     "name": "stdout",
     "output_type": "stream",
     "text": [
      "[np.float64(0.0), np.float64(0.0), np.float64(0.0), np.float64(0.0), np.float64(0.08279013359884828)]\n",
      "[np.float64(0.6646819662222312), np.float64(2.8082556571929875), np.float64(0.22436394653942268), np.float64(0.0), np.float64(3.889406149694499)]\n"
     ]
    }
   ],
   "source": [
    "lower_bounds_saits_low_weight_classification_subgroup, upper_bounds_saits_low_weight_classification_subgroup = toolkits.calc_lower_and_upper_bound_percentile(results_bootstrap_saits_low_weight_classification_subgroup)\n",
    "\n",
    "print(lower_bounds_saits_low_weight_classification_subgroup)\n",
    "print(upper_bounds_saits_low_weight_classification_subgroup)"
   ]
  },
  {
   "cell_type": "markdown",
   "metadata": {},
   "source": [
    "#### Mean values of lower bound and upper bound"
   ]
  },
  {
   "cell_type": "code",
   "execution_count": 85,
   "metadata": {},
   "outputs": [
    {
     "name": "stdout",
     "output_type": "stream",
     "text": [
      "[np.float64(0.3323409831111156), np.float64(1.4041278285964938), np.float64(0.11218197326971134), np.float64(0.0), np.float64(1.9860981416466736)]\n"
     ]
    }
   ],
   "source": [
    "mean_values_ci_saits_low_weight_classification_subgroup  = toolkits.calc_mean_values_ci(lower_bounds_saits_low_weight_classification_subgroup, upper_bounds_saits_low_weight_classification_subgroup)\n",
    "\n",
    "print(mean_values_ci_saits_low_weight_classification_subgroup)"
   ]
  },
  {
   "cell_type": "markdown",
   "metadata": {},
   "source": [
    "### Confidence Interval (Normal weight classification subgroup)"
   ]
  },
  {
   "cell_type": "markdown",
   "metadata": {},
   "source": [
    "#### Distribution Bootstrap for the Top 5 variables with Largest Differences in MAE (Mean Absolute Error) "
   ]
  },
  {
   "cell_type": "code",
   "execution_count": 86,
   "metadata": {},
   "outputs": [],
   "source": [
    "indices = [32, 0, 6, 31, 5]\n",
    "\n",
    "results_bootstrap_saits_normal_weight_classification_subgroup = []\n",
    "\n",
    "for i in indices:\n",
    "       results_bootstrap_saits_normal_weight_classification_subgroup.append(toolkits.bootstrap(testing_ae_saits_variables_standard, indicating_mask_variable_standard_norm, 12, i, 9000))\n",
    "\n"
   ]
  },
  {
   "cell_type": "markdown",
   "metadata": {},
   "source": [
    "#### Calculating the mean and standard deviation of the bootstrap distribution"
   ]
  },
  {
   "cell_type": "code",
   "execution_count": 87,
   "metadata": {},
   "outputs": [
    {
     "name": "stdout",
     "output_type": "stream",
     "text": [
      "[np.float64(0.25615486179799773), np.float64(0.4345667231738347), np.float64(0.7179507259295334), np.float64(0.4547656885539283), np.float64(0.4912205847312096)]\n",
      "[np.float64(0.06570161799535126), np.float64(0.11310437306015453), np.float64(0.3647735158883224), np.float64(0.17073431295097174), np.float64(0.16791734094726787)]\n"
     ]
    }
   ],
   "source": [
    "means_bootstraps_saits_normal_weight_classification_subgroup, standards_deviations_saits_normal_weight_classification_subgroup = toolkits.calc_mean_and_standard_deviation(results_bootstrap_saits_normal_weight_classification_subgroup)\n",
    "\n",
    "print(means_bootstraps_saits_normal_weight_classification_subgroup)\n",
    "print(standards_deviations_saits_normal_weight_classification_subgroup)\n"
   ]
  },
  {
   "cell_type": "markdown",
   "metadata": {},
   "source": [
    "#### Calculating lower bound and upper bound"
   ]
  },
  {
   "cell_type": "code",
   "execution_count": 88,
   "metadata": {},
   "outputs": [
    {
     "name": "stdout",
     "output_type": "stream",
     "text": [
      "[np.float64(0.12738205680110054), np.float64(0.2128862254819495), np.float64(0.0030077722743722113), np.float64(0.12013258424483314), np.float64(0.16210864409483167)]\n",
      "[np.float64(0.38492766679489493), np.float64(0.65624722086572), np.float64(1.4328936795846945), np.float64(0.7893987928630235), np.float64(0.8203325253675875)]\n"
     ]
    }
   ],
   "source": [
    "lower_bounds_saits_normal_weight_classification_subgroup, upper_bounds_saits_normal_weight_classification_subgroup = toolkits.calc_lower_and_upper_bound(results_bootstrap_saits_normal_weight_classification_subgroup, means_bootstraps_saits_normal_weight_classification_subgroup, standards_deviations_saits_normal_weight_classification_subgroup)\n",
    "\n",
    "print(lower_bounds_saits_normal_weight_classification_subgroup)\n",
    "print(upper_bounds_saits_normal_weight_classification_subgroup)"
   ]
  },
  {
   "cell_type": "code",
   "execution_count": 89,
   "metadata": {},
   "outputs": [
    {
     "name": "stdout",
     "output_type": "stream",
     "text": [
      "[np.float64(0.14394780642304672), np.float64(0.24233614179620225), np.float64(0.0), np.float64(0.13240536833900718), np.float64(0.22209913023711622)]\n",
      "[np.float64(0.40089251105478246), np.float64(0.6785728296896159), np.float64(1.157952386236277), np.float64(0.8058805108952452), np.float64(0.8638998760243497)]\n"
     ]
    }
   ],
   "source": [
    "lower_bounds_saits_normal_weight_classification_subgroup, upper_bounds_saits_normal_weight_classification_subgroup = toolkits.calc_lower_and_upper_bound_percentile(results_bootstrap_saits_normal_weight_classification_subgroup)\n",
    "\n",
    "print(lower_bounds_saits_normal_weight_classification_subgroup)\n",
    "print(upper_bounds_saits_normal_weight_classification_subgroup)"
   ]
  },
  {
   "cell_type": "markdown",
   "metadata": {},
   "source": [
    "#### Mean values of lower bound and upper bound"
   ]
  },
  {
   "cell_type": "code",
   "execution_count": 90,
   "metadata": {},
   "outputs": [
    {
     "name": "stdout",
     "output_type": "stream",
     "text": [
      "[np.float64(0.27242015873891456), np.float64(0.46045448574290904), np.float64(0.5789761931181385), np.float64(0.46914293961712616), np.float64(0.542999503130733)]\n"
     ]
    }
   ],
   "source": [
    "mean_values_ci_saits_normal_weight_classification_subgroup  = toolkits.calc_mean_values_ci(lower_bounds_saits_normal_weight_classification_subgroup, upper_bounds_saits_normal_weight_classification_subgroup)\n",
    "\n",
    "print(mean_values_ci_saits_normal_weight_classification_subgroup)"
   ]
  },
  {
   "cell_type": "markdown",
   "metadata": {},
   "source": [
    "### Confidence Interval (Overweight classification subgroup)"
   ]
  },
  {
   "cell_type": "markdown",
   "metadata": {},
   "source": [
    "#### Distribution Bootstrap for the Top 5 variables with Largest Differences in MAE (Mean Absolute Error) "
   ]
  },
  {
   "cell_type": "code",
   "execution_count": 91,
   "metadata": {},
   "outputs": [],
   "source": [
    "indices = [32, 0, 6, 31, 5]\n",
    "\n",
    "results_bootstrap_saits_overweight_classification_subgroup = []\n",
    "\n",
    "for i in indices:\n",
    "       results_bootstrap_saits_overweight_classification_subgroup.append(toolkits.bootstrap(testing_ae_saits_variables_standard, indicating_mask_variable_standard_norm, 13, i, 9000))\n",
    "\n"
   ]
  },
  {
   "cell_type": "markdown",
   "metadata": {},
   "source": [
    "#### Calculating the mean and standard deviation of the bootstrap distribution"
   ]
  },
  {
   "cell_type": "code",
   "execution_count": 92,
   "metadata": {},
   "outputs": [
    {
     "name": "stdout",
     "output_type": "stream",
     "text": [
      "[np.float64(0.4447811398265328), np.float64(0.2281732920938964), np.float64(0.9534987123891254), np.float64(0.8805436038205038), np.float64(0.2082095976659256)]\n",
      "[np.float64(0.19837691404549285), np.float64(0.04669845695302999), np.float64(0.21848610585221714), np.float64(0.565915141445688), np.float64(0.06313334428224854)]\n"
     ]
    }
   ],
   "source": [
    "means_bootstraps_saits_overweight_classification_subgroup, standards_deviations_saits_overweight_classification_subgroup = toolkits.calc_mean_and_standard_deviation(results_bootstrap_saits_overweight_classification_subgroup)\n",
    "\n",
    "print(means_bootstraps_saits_overweight_classification_subgroup)\n",
    "print(standards_deviations_saits_overweight_classification_subgroup)\n"
   ]
  },
  {
   "cell_type": "markdown",
   "metadata": {},
   "source": [
    "#### Calculating lower bound and upper bound"
   ]
  },
  {
   "cell_type": "code",
   "execution_count": 93,
   "metadata": {},
   "outputs": [
    {
     "name": "stdout",
     "output_type": "stream",
     "text": [
      "[np.float64(0.05596953293316881), np.float64(0.13664599833236354), np.float64(0.525273813796374), np.float64(-0.2286296917189351), np.float64(0.0844705166491507)]\n",
      "[np.float64(0.8335927467198967), np.float64(0.31970058585542926), np.float64(1.381723610981877), np.float64(1.9897168993599426), np.float64(0.3319486786827005)]\n"
     ]
    }
   ],
   "source": [
    "lower_bounds_saits_overweight_classification_subgroup, upper_bounds_saits_overweight_classification_subgroup = toolkits.calc_lower_and_upper_bound(results_bootstrap_saits_overweight_classification_subgroup, means_bootstraps_saits_overweight_classification_subgroup, standards_deviations_saits_overweight_classification_subgroup)\n",
    "\n",
    "print(lower_bounds_saits_overweight_classification_subgroup)\n",
    "print(upper_bounds_saits_overweight_classification_subgroup)"
   ]
  },
  {
   "cell_type": "code",
   "execution_count": 94,
   "metadata": {},
   "outputs": [
    {
     "name": "stdout",
     "output_type": "stream",
     "text": [
      "[np.float64(0.12219005287360903), np.float64(0.14140085926105736), np.float64(0.5268744376187863), np.float64(0.09391822253292265), np.float64(0.11839014971166002)]\n",
      "[np.float64(0.8851430023244788), np.float64(0.32486996928020934), np.float64(1.3766193630858523), np.float64(2.216669352782489), np.float64(0.3545895231207918)]\n"
     ]
    }
   ],
   "source": [
    "lower_bounds_saits_overweight_classification_subgroup, upper_bounds_saits_overweight_classification_subgroup = toolkits.calc_lower_and_upper_bound_percentile(results_bootstrap_saits_overweight_classification_subgroup)\n",
    "\n",
    "print(lower_bounds_saits_overweight_classification_subgroup)\n",
    "print(upper_bounds_saits_overweight_classification_subgroup)"
   ]
  },
  {
   "cell_type": "markdown",
   "metadata": {},
   "source": [
    "#### Mean values of lower bound and upper bound"
   ]
  },
  {
   "cell_type": "code",
   "execution_count": 95,
   "metadata": {},
   "outputs": [
    {
     "name": "stdout",
     "output_type": "stream",
     "text": [
      "[np.float64(0.503666527599044), np.float64(0.23313541427063333), np.float64(0.9517469003523193), np.float64(1.1552937876577059), np.float64(0.2364898364162259)]\n"
     ]
    }
   ],
   "source": [
    "mean_values_ci_saits_overweight_classification_subgroup  = toolkits.calc_mean_values_ci(lower_bounds_saits_overweight_classification_subgroup, upper_bounds_saits_overweight_classification_subgroup)\n",
    "\n",
    "print(mean_values_ci_saits_overweight_classification_subgroup)"
   ]
  },
  {
   "cell_type": "markdown",
   "metadata": {},
   "source": [
    "### Confidence Interval (Obesity 1 classification subgroup)"
   ]
  },
  {
   "cell_type": "markdown",
   "metadata": {},
   "source": [
    "#### Distribution Bootstrap for the Top 5 variables with Largest Differences in MAE (Mean Absolute Error) "
   ]
  },
  {
   "cell_type": "code",
   "execution_count": 96,
   "metadata": {},
   "outputs": [],
   "source": [
    "indices = [32, 0, 6, 31, 5]\n",
    "\n",
    "results_bootstrap_saits_obs1_classification_subgroup = []\n",
    "\n",
    "for i in indices:\n",
    "       results_bootstrap_saits_obs1_classification_subgroup.append(toolkits.bootstrap(testing_ae_saits_variables_standard, indicating_mask_variable_standard_norm, 14, i, 9000))\n",
    "\n"
   ]
  },
  {
   "cell_type": "markdown",
   "metadata": {},
   "source": [
    "#### Calculating the mean and standard deviation of the bootstrap distribution"
   ]
  },
  {
   "cell_type": "code",
   "execution_count": 97,
   "metadata": {},
   "outputs": [
    {
     "name": "stdout",
     "output_type": "stream",
     "text": [
      "[np.float64(0.3041519818686167), np.float64(0.2039811162570178), np.float64(0.6188635711438332), np.float64(0.4450996994069029), np.float64(0.3402994613750062)]\n",
      "[np.float64(0.08640159168104183), np.float64(0.06247857792523965), np.float64(0.3125972227616065), np.float64(0.2112433437702371), np.float64(0.11332047402537393)]\n"
     ]
    }
   ],
   "source": [
    "means_bootstraps_saits_obs1_classification_subgroup, standards_deviations_saits_obs1_classification_subgroup = toolkits.calc_mean_and_standard_deviation(results_bootstrap_saits_obs1_classification_subgroup)\n",
    "\n",
    "print(means_bootstraps_saits_obs1_classification_subgroup)\n",
    "print(standards_deviations_saits_obs1_classification_subgroup)\n"
   ]
  },
  {
   "cell_type": "markdown",
   "metadata": {},
   "source": [
    "#### Calculating lower bound and upper bound"
   ]
  },
  {
   "cell_type": "code",
   "execution_count": 98,
   "metadata": {},
   "outputs": [
    {
     "name": "stdout",
     "output_type": "stream",
     "text": [
      "[np.float64(0.13480797396683916), np.float64(0.08152535371826884), np.float64(0.006184272863840046), np.float64(0.031070353643424586), np.float64(0.11819541357426663)]\n",
      "[np.float64(0.4734959897703942), np.float64(0.32643687879576677), np.float64(1.2315428694238264), np.float64(0.8591290451703812), np.float64(0.5624035091757458)]\n"
     ]
    }
   ],
   "source": [
    "lower_bounds_saits_obs1_classification_subgroup, upper_bounds_saits_obs1_classification_subgroup = toolkits.calc_lower_and_upper_bound(results_bootstrap_saits_obs1_classification_subgroup, means_bootstraps_saits_obs1_classification_subgroup, standards_deviations_saits_obs1_classification_subgroup)\n",
    "\n",
    "print(lower_bounds_saits_obs1_classification_subgroup)\n",
    "print(upper_bounds_saits_obs1_classification_subgroup)"
   ]
  },
  {
   "cell_type": "code",
   "execution_count": 99,
   "metadata": {},
   "outputs": [
    {
     "name": "stdout",
     "output_type": "stream",
     "text": [
      "[np.float64(0.15345486451996385), np.float64(0.08901652278543665), np.float64(0.0), np.float64(0.0), np.float64(0.1582272321940467)]\n",
      "[np.float64(0.48931622869693325), np.float64(0.33763213707655576), np.float64(1.2406693374067592), np.float64(0.6809092237281027), np.float64(0.5927917919845908)]\n"
     ]
    }
   ],
   "source": [
    "lower_bounds_saits_obs1_classification_subgroup, upper_bounds_saits_obs1_classification_subgroup = toolkits.calc_lower_and_upper_bound_percentile(results_bootstrap_saits_obs1_classification_subgroup)\n",
    "\n",
    "print(lower_bounds_saits_obs1_classification_subgroup)\n",
    "print(upper_bounds_saits_obs1_classification_subgroup)"
   ]
  },
  {
   "cell_type": "markdown",
   "metadata": {},
   "source": [
    "#### Mean values of lower bound and upper bound"
   ]
  },
  {
   "cell_type": "code",
   "execution_count": 100,
   "metadata": {},
   "outputs": [
    {
     "name": "stdout",
     "output_type": "stream",
     "text": [
      "[np.float64(0.32138554660844854), np.float64(0.2133243299309962), np.float64(0.6203346687033796), np.float64(0.34045461186405135), np.float64(0.3755095120893187)]\n"
     ]
    }
   ],
   "source": [
    "mean_values_ci_saits_obs1_classification_subgroup  = toolkits.calc_mean_values_ci(lower_bounds_saits_obs1_classification_subgroup, upper_bounds_saits_obs1_classification_subgroup)\n",
    "\n",
    "print(mean_values_ci_saits_obs1_classification_subgroup)"
   ]
  },
  {
   "cell_type": "markdown",
   "metadata": {},
   "source": [
    "### Confidence Interval (Obesity 2 classification subgroup)"
   ]
  },
  {
   "cell_type": "markdown",
   "metadata": {},
   "source": [
    "#### Distribution Bootstrap for the Top 5 variables with Largest Differences in MAE (Mean Absolute Error) "
   ]
  },
  {
   "cell_type": "code",
   "execution_count": 101,
   "metadata": {},
   "outputs": [],
   "source": [
    "indices = [32, 0, 6, 31, 5]\n",
    "\n",
    "results_bootstrap_saits_obs2_classification_subgroup = []\n",
    "\n",
    "for i in indices:\n",
    "       results_bootstrap_saits_obs2_classification_subgroup.append(toolkits.bootstrap(testing_ae_saits_variables_standard, indicating_mask_variable_standard_norm, 15, i, 9000))\n",
    "\n"
   ]
  },
  {
   "cell_type": "markdown",
   "metadata": {},
   "source": [
    "#### Calculating the mean and standard deviation of the bootstrap distribution"
   ]
  },
  {
   "cell_type": "code",
   "execution_count": 102,
   "metadata": {},
   "outputs": [
    {
     "name": "stdout",
     "output_type": "stream",
     "text": [
      "[np.float64(1.3205242112100037), np.float64(0.16000733207266188), np.float64(0.0016255406763269627), np.float64(0.0), np.float64(0.20795988252884254)]\n",
      "[np.float64(1.039591546742933), np.float64(0.04156486730591007), np.float64(0.0012448523688900867), np.float64(0.0), np.float64(0.1405700467028575)]\n"
     ]
    }
   ],
   "source": [
    "means_bootstraps_saits_obs2_classification_subgroup, standards_deviations_saits_obs2_classification_subgroup = toolkits.calc_mean_and_standard_deviation(results_bootstrap_saits_obs2_classification_subgroup)\n",
    "\n",
    "print(means_bootstraps_saits_obs2_classification_subgroup)\n",
    "print(standards_deviations_saits_obs2_classification_subgroup)\n"
   ]
  },
  {
   "cell_type": "markdown",
   "metadata": {},
   "source": [
    "#### Calculating lower bound and upper bound"
   ]
  },
  {
   "cell_type": "code",
   "execution_count": 103,
   "metadata": {},
   "outputs": [
    {
     "name": "stdout",
     "output_type": "stream",
     "text": [
      "[np.float64(-0.717037779038433), np.float64(0.07854168913089175), np.float64(-0.000814325132766977), np.float64(0.0), np.float64(-0.06755234631387155)]\n",
      "[np.float64(3.3580862014584403), np.float64(0.241472975014432), np.float64(0.004065406485420902), np.float64(0.0), np.float64(0.48347211137155666)]\n"
     ]
    }
   ],
   "source": [
    "lower_bounds_saits_obs2_classification_subgroup, upper_bounds_saits_obs2_classification_subgroup = toolkits.calc_lower_and_upper_bound(results_bootstrap_saits_obs2_classification_subgroup, means_bootstraps_saits_obs2_classification_subgroup, standards_deviations_saits_obs2_classification_subgroup)\n",
    "\n",
    "print(lower_bounds_saits_obs2_classification_subgroup)\n",
    "print(upper_bounds_saits_obs2_classification_subgroup)"
   ]
  },
  {
   "cell_type": "code",
   "execution_count": 104,
   "metadata": {},
   "outputs": [
    {
     "name": "stdout",
     "output_type": "stream",
     "text": [
      "[np.float64(0.0), np.float64(0.08676975530664142), np.float64(0.0), np.float64(0.0), np.float64(0.05830122010408454)]\n",
      "[np.float64(3.5585250031408417), np.float64(0.25086778695880807), np.float64(0.00257885882019196), np.float64(0.0), np.float64(0.5344201694987715)]\n"
     ]
    }
   ],
   "source": [
    "lower_bounds_saits_obs2_classification_subgroup, upper_bounds_saits_obs2_classification_subgroup = toolkits.calc_lower_and_upper_bound_percentile(results_bootstrap_saits_obs2_classification_subgroup)\n",
    "\n",
    "print(lower_bounds_saits_obs2_classification_subgroup)\n",
    "print(upper_bounds_saits_obs2_classification_subgroup)"
   ]
  },
  {
   "cell_type": "markdown",
   "metadata": {},
   "source": [
    "#### Mean values of lower bound and upper bound"
   ]
  },
  {
   "cell_type": "code",
   "execution_count": 105,
   "metadata": {},
   "outputs": [
    {
     "name": "stdout",
     "output_type": "stream",
     "text": [
      "[np.float64(1.7792625015704209), np.float64(0.16881877113272475), np.float64(0.00128942941009598), np.float64(0.0), np.float64(0.296360694801428)]\n"
     ]
    }
   ],
   "source": [
    "mean_values_ci_saits_obs2_classification_subgroup  = toolkits.calc_mean_values_ci(lower_bounds_saits_obs2_classification_subgroup, upper_bounds_saits_obs2_classification_subgroup)\n",
    "\n",
    "print(mean_values_ci_saits_obs2_classification_subgroup)"
   ]
  },
  {
   "cell_type": "markdown",
   "metadata": {},
   "source": [
    "### Confidence Interval (Obesity 3 classification subgroup)"
   ]
  },
  {
   "cell_type": "markdown",
   "metadata": {},
   "source": [
    "#### Distribution Bootstrap for the Top 5 variables with Largest Differences in MAE (Mean Absolute Error) "
   ]
  },
  {
   "cell_type": "code",
   "execution_count": 106,
   "metadata": {},
   "outputs": [],
   "source": [
    "indices = [32, 0, 6, 31, 5]\n",
    "\n",
    "results_bootstrap_saits_obs3_classification_subgroup = []\n",
    "\n",
    "for i in indices:\n",
    "       results_bootstrap_saits_obs3_classification_subgroup.append(toolkits.bootstrap(testing_ae_saits_variables_standard, indicating_mask_variable_standard_norm, 16, i, 9000))\n",
    "\n"
   ]
  },
  {
   "cell_type": "markdown",
   "metadata": {},
   "source": [
    "#### Calculating the mean and standard deviation of the bootstrap distribution"
   ]
  },
  {
   "cell_type": "code",
   "execution_count": 107,
   "metadata": {},
   "outputs": [
    {
     "name": "stdout",
     "output_type": "stream",
     "text": [
      "[np.float64(1.1812910869641466), np.float64(0.19666861434408842), np.float64(0.0), np.float64(0.24446362112376532), np.float64(0.28186422520699844)]\n",
      "[np.float64(0.8265505067483679), np.float64(0.05429070224681887), np.float64(0.0), np.float64(0.18379005114393437), np.float64(0.14798304940421692)]\n"
     ]
    }
   ],
   "source": [
    "means_bootstraps_saits_obs3_classification_subgroup, standards_deviations_saits_obs3_classification_subgroup = toolkits.calc_mean_and_standard_deviation(results_bootstrap_saits_obs3_classification_subgroup)\n",
    "\n",
    "print(means_bootstraps_saits_obs3_classification_subgroup)\n",
    "print(standards_deviations_saits_obs3_classification_subgroup)\n"
   ]
  },
  {
   "cell_type": "markdown",
   "metadata": {},
   "source": [
    "#### Calculating lower bound and upper bound"
   ]
  },
  {
   "cell_type": "code",
   "execution_count": 108,
   "metadata": {},
   "outputs": [
    {
     "name": "stdout",
     "output_type": "stream",
     "text": [
      "[np.float64(-0.43871813766598544), np.float64(0.09026079324493565), np.float64(0.0), np.float64(-0.11575825983512059), np.float64(-0.008177221947678226)]\n",
      "[np.float64(2.8013003115942787), np.float64(0.3030764354432412), np.float64(0.0), np.float64(0.6046855020826513), np.float64(0.5719056723616751)]\n"
     ]
    }
   ],
   "source": [
    "lower_bounds_saits_obs3_classification_subgroup, upper_bounds_saits_obs3_classification_subgroup = toolkits.calc_lower_and_upper_bound(results_bootstrap_saits_obs3_classification_subgroup, means_bootstraps_saits_obs3_classification_subgroup, standards_deviations_saits_obs3_classification_subgroup)\n",
    "\n",
    "print(lower_bounds_saits_obs3_classification_subgroup)\n",
    "print(upper_bounds_saits_obs3_classification_subgroup)"
   ]
  },
  {
   "cell_type": "code",
   "execution_count": 109,
   "metadata": {},
   "outputs": [
    {
     "name": "stdout",
     "output_type": "stream",
     "text": [
      "[np.float64(0.1026794807332443), np.float64(0.10886157947913234), np.float64(0.0), np.float64(0.0), np.float64(0.04363921474152539)]\n",
      "[np.float64(3.000223714404996), np.float64(0.3208344032217549), np.float64(0.0), np.float64(0.38263871132432054), np.float64(0.5965402930578486)]\n"
     ]
    }
   ],
   "source": [
    "lower_bounds_saits_obs3_classification_subgroup, upper_bounds_saits_obs3_classification_subgroup = toolkits.calc_lower_and_upper_bound_percentile(results_bootstrap_saits_obs3_classification_subgroup)\n",
    "\n",
    "print(lower_bounds_saits_obs3_classification_subgroup)\n",
    "print(upper_bounds_saits_obs3_classification_subgroup)"
   ]
  },
  {
   "cell_type": "markdown",
   "metadata": {},
   "source": [
    "#### Mean values of lower bound and upper bound"
   ]
  },
  {
   "cell_type": "code",
   "execution_count": 110,
   "metadata": {},
   "outputs": [
    {
     "name": "stdout",
     "output_type": "stream",
     "text": [
      "[np.float64(1.5514515975691203), np.float64(0.2148479913504436), np.float64(0.0), np.float64(0.19131935566216027), np.float64(0.320089753899687)]\n"
     ]
    }
   ],
   "source": [
    "mean_values_ci_saits_obs3_classification_subgroup  = toolkits.calc_mean_values_ci(lower_bounds_saits_obs3_classification_subgroup, upper_bounds_saits_obs3_classification_subgroup)\n",
    "\n",
    "print(mean_values_ci_saits_obs3_classification_subgroup)"
   ]
  },
  {
   "cell_type": "markdown",
   "metadata": {},
   "source": [
    "## BRITS"
   ]
  },
  {
   "cell_type": "markdown",
   "metadata": {},
   "source": [
    "### Calculate MAE and AE"
   ]
  },
  {
   "cell_type": "code",
   "execution_count": 111,
   "metadata": {},
   "outputs": [],
   "source": [
    "testing_mae_brits_variables_standard, testing_ae_brits_variables_standard = toolkits.calculate_mae(brits_imputation_standard, test_X_ori_variable_standard_norm, indicating_mask_variable_standard_norm)"
   ]
  },
  {
   "cell_type": "markdown",
   "metadata": {},
   "source": [
    "### Taking the MAE difference for BRITS model"
   ]
  },
  {
   "cell_type": "markdown",
   "metadata": {},
   "source": [
    "#### Difference between gender group"
   ]
  },
  {
   "cell_type": "code",
   "execution_count": 112,
   "metadata": {},
   "outputs": [
    {
     "data": {
      "text/plain": [
       "[('Cholesterol', 0.33467024143836643),\n",
       " ('AST', 0.1788895577767497),\n",
       " ('TroponinI', 0.1752692538746189),\n",
       " ('Creatinine', 0.15555507415890046),\n",
       " ('Lactate', 0.09616951800510165)]"
      ]
     },
     "execution_count": 112,
     "metadata": {},
     "output_type": "execute_result"
    }
   ],
   "source": [
    "diff_brits_gender_subgroup = toolkits.diff_mae_top_5(testing_mae_brits_variables_standard, 1, 2, variables)\n",
    "diff_brits_gender_subgroup"
   ]
  },
  {
   "cell_type": "markdown",
   "metadata": {},
   "source": [
    "#### Difference between age group"
   ]
  },
  {
   "cell_type": "code",
   "execution_count": 113,
   "metadata": {},
   "outputs": [
    {
     "data": {
      "text/plain": [
       "[('ALP', 0.44556706439740035),\n",
       " ('TroponinI', 0.38681949447134645),\n",
       " ('Bilirubin', 0.2381043500110501),\n",
       " ('Cholesterol', 0.22772041607621174),\n",
       " ('Albumin', 0.1383329640887001)]"
      ]
     },
     "execution_count": 113,
     "metadata": {},
     "output_type": "execute_result"
    }
   ],
   "source": [
    "diff_brits_age_subgroup = toolkits.diff_mae_top_5(testing_mae_brits_variables_standard, 4, 5, variables)\n",
    "diff_brits_age_subgroup"
   ]
  },
  {
   "cell_type": "markdown",
   "metadata": {},
   "source": [
    "#### Difference between ICUType group"
   ]
  },
  {
   "cell_type": "code",
   "execution_count": 114,
   "metadata": {},
   "outputs": [],
   "source": [
    "diff_brits_ICUType_1_2 = toolkits.diff_mae_top_5(testing_mae_brits_variables_standard, 6, 7, variables)\n",
    "diff_brits_ICUType_1_3 = toolkits.diff_mae_top_5(testing_mae_brits_variables_standard, 6, 8, variables)\n",
    "diff_brits_ICUType_1_4 = toolkits.diff_mae_top_5(testing_mae_brits_variables_standard, 6, 9, variables)\n",
    "diff_brits_ICUType_2_3 = toolkits.diff_mae_top_5(testing_mae_brits_variables_standard, 7, 8, variables)\n",
    "diff_brits_ICUType_2_4 = toolkits.diff_mae_top_5(testing_mae_brits_variables_standard, 7, 9, variables)\n",
    "diff_brits_ICUType_3_4 = toolkits.diff_mae_top_5(testing_mae_brits_variables_standard, 8, 9, variables)"
   ]
  },
  {
   "cell_type": "code",
   "execution_count": 115,
   "metadata": {},
   "outputs": [
    {
     "name": "stdout",
     "output_type": "stream",
     "text": [
      "Diferença(MAE) ICUType 1 e 2\n",
      "----------------------------\n",
      "[('Cholesterol', 0.964994104713767), ('TroponinI', 0.9581594648038441), ('TroponinT', 0.5486699277361194), ('Platelets', 0.25189168788950184), ('AST', 0.2412410795021756)]\n",
      "----------------------------\n",
      "Diferença(MAE) ICUType 1 e 3\n",
      "----------------------------\n",
      "[('SaO2', 1.0707510658734702), ('ALP', 0.9106143647131879), ('TroponinI', 0.7970524014883568), ('TroponinT', 0.4839761837292856), ('Cholesterol', 0.25934745989883623)]\n",
      "----------------------------\n",
      "Diferença(MAE) ICUType 1 e 4\n",
      "----------------------------\n",
      "[('TroponinI', 0.634311116208685), ('TroponinT', 0.5409005934508104), ('Bilirubin', 0.2897210390508551), ('ALP', 0.26571690256150676), ('Cholesterol', 0.23623934982112949)]\n",
      "----------------------------\n",
      "Diferença(MAE) ICUType 2 e 3\n",
      "[('SaO2', 1.030567257093563), ('ALP', 0.8822108131066266), ('Cholesterol', 0.7056466448149308), ('BUN', 0.33074672831006546), ('Platelets', 0.31153489724515043)]\n",
      "----------------------------\n",
      "Diferença(MAE) ICUType 2 e 4\n",
      "----------------------------\n",
      "[('Cholesterol', 0.7287547548926375), ('TroponinI', 0.32384834859515915), ('ALP', 0.23731335095494543), ('Temp', 0.1900485270626263), ('Platelets', 0.18685923668588506)]\n",
      "----------------------------\n",
      "Diferença(MAE) ICUType 3 e 4\n",
      "----------------------------\n",
      "[('SaO2', 1.1501778722001417), ('ALP', 0.6448974621516812), ('Creatinine', 0.3146332774374959), ('BUN', 0.27039564146369227), ('Glucose', 0.2698321937954797)]\n",
      "----------------------------\n"
     ]
    }
   ],
   "source": [
    "print(\"Diferença(MAE) ICUType 1 e 2\")\n",
    "print(\"----------------------------\")\n",
    "print(diff_brits_ICUType_1_2)\n",
    "print(\"----------------------------\")\n",
    "print(\"Diferença(MAE) ICUType 1 e 3\")\n",
    "print(\"----------------------------\")\n",
    "print(diff_brits_ICUType_1_3)\n",
    "print(\"----------------------------\")\n",
    "print(\"Diferença(MAE) ICUType 1 e 4\")\n",
    "print(\"----------------------------\")\n",
    "print(diff_brits_ICUType_1_4)\n",
    "print(\"----------------------------\")\n",
    "print(\"Diferença(MAE) ICUType 2 e 3\")\n",
    "print(diff_brits_ICUType_2_3)\n",
    "print(\"----------------------------\")\n",
    "print(\"Diferença(MAE) ICUType 2 e 4\")\n",
    "print(\"----------------------------\")\n",
    "print(diff_brits_ICUType_2_4)\n",
    "print(\"----------------------------\")\n",
    "print(\"Diferença(MAE) ICUType 3 e 4\")\n",
    "print(\"----------------------------\")\n",
    "print(diff_brits_ICUType_3_4)\n",
    "print(\"----------------------------\")"
   ]
  },
  {
   "cell_type": "code",
   "execution_count": 116,
   "metadata": {},
   "outputs": [
    {
     "name": "stdout",
     "output_type": "stream",
     "text": [
      "Top 5 variáveis ICUType\n",
      "-----------------------\n",
      "SaO2\n",
      "ALP\n",
      "Cholesterol\n",
      "TroponinI\n",
      "TroponinT\n"
     ]
    }
   ],
   "source": [
    "print(\"Top 5 variáveis ICUType\")\n",
    "print(\"-----------------------\")\n",
    "print(variables[28])\n",
    "print(variables[0])\n",
    "print(variables[6])\n",
    "print(variables[31])\n",
    "print(variables[32])"
   ]
  },
  {
   "cell_type": "markdown",
   "metadata": {},
   "source": [
    "#### Difference between BMI group"
   ]
  },
  {
   "cell_type": "code",
   "execution_count": 117,
   "metadata": {},
   "outputs": [],
   "source": [
    "diff_brits_classification_undefined_low = toolkits.diff_mae_top_5(testing_mae_brits_variables_standard, 10, 11, variables)\n",
    "diff_brits_classification_undefined_normal = toolkits.diff_mae_top_5(testing_mae_brits_variables_standard, 10, 12, variables)\n",
    "diff_brits_classification_undefined_over = toolkits.diff_mae_top_5(testing_mae_brits_variables_standard, 10, 13, variables)\n",
    "diff_brits_classification_undefined_obs1 = toolkits.diff_mae_top_5(testing_mae_brits_variables_standard, 10, 14, variables)\n",
    "diff_brits_classification_undefined_obs2 = toolkits.diff_mae_top_5(testing_mae_brits_variables_standard, 10, 15, variables)\n",
    "diff_brits_classification_undefined_obs3 = toolkits.diff_mae_top_5(testing_mae_brits_variables_standard, 10, 16, variables)\n",
    "\n",
    "diff_brits_classification_low_normal = toolkits.diff_mae_top_5(testing_mae_brits_variables_standard, 11, 12, variables)\n",
    "diff_brits_classification_low_over = toolkits.diff_mae_top_5(testing_mae_brits_variables_standard, 11, 13, variables)\n",
    "diff_brits_classification_low_obs1 = toolkits.diff_mae_top_5(testing_mae_brits_variables_standard, 11, 14, variables)\n",
    "diff_brits_classification_low_obs2 = toolkits.diff_mae_top_5(testing_mae_brits_variables_standard, 11, 15, variables)\n",
    "diff_brits_classification_low_obs3 = toolkits.diff_mae_top_5(testing_mae_brits_variables_standard, 11, 16, variables)\n",
    "\n",
    "diff_brits_classification_normal_over = toolkits.diff_mae_top_5(testing_mae_brits_variables_standard, 12, 13, variables)\n",
    "diff_brits_classification_normal_obs1 = toolkits.diff_mae_top_5(testing_mae_brits_variables_standard, 12, 14, variables)\n",
    "diff_brits_classification_normal_obs2 = toolkits.diff_mae_top_5(testing_mae_brits_variables_standard, 12, 15, variables)\n",
    "diff_brits_classification_normal_obs3 = toolkits.diff_mae_top_5(testing_mae_brits_variables_standard, 12, 16, variables)\n",
    "\n",
    "diff_brits_classification_over_obs1 = toolkits.diff_mae_top_5(testing_mae_brits_variables_standard, 13, 14, variables)\n",
    "diff_brits_classification_over_obs2 = toolkits.diff_mae_top_5(testing_mae_brits_variables_standard, 13, 15, variables)\n",
    "diff_brits_classification_over_obs3 = toolkits.diff_mae_top_5(testing_mae_brits_variables_standard, 13, 16, variables)\n",
    "\n",
    "\n",
    "diff_brits_classification_obs1_obs2 = toolkits.diff_mae_top_5(testing_mae_brits_variables_standard, 14, 15, variables)\n",
    "diff_brits_classification_obs1_obs3 = toolkits.diff_mae_top_5(testing_mae_brits_variables_standard, 14, 16, variables)\n",
    "\n",
    "diff_brits_classification_obs2_obs3 = toolkits.diff_mae_top_5(testing_mae_brits_variables_standard, 15, 16, variables)"
   ]
  },
  {
   "cell_type": "code",
   "execution_count": 118,
   "metadata": {},
   "outputs": [
    {
     "name": "stdout",
     "output_type": "stream",
     "text": [
      "Diferença(MAE) Classification Undefined and low\n",
      "----------------------------\n",
      "[('ALP', 1.9340446883544171), ('Bilirubin', 1.0634205222465751), ('TroponinI', 0.8461866751277154), ('Cholesterol', 0.4642718057586309), ('Lactate', 0.4329340274633583)]\n",
      "----------------------------\n",
      "Diferença(MAE) Classification Undefined and normal\n",
      "----------------------------\n",
      "[('SaO2', 0.39563652008480243), ('Cholesterol', 0.3133469070406917), ('TroponinI', 0.28119857470091913), ('Platelets', 0.21973579245745867), ('ALP', 0.14108823047399421)]\n",
      "----------------------------\n",
      "Diferença(MAE) Classification Undefined and over\n",
      "----------------------------\n",
      "[('Cholesterol', 0.9122714195538194), ('SaO2', 0.22161477416310832), ('Bilirubin', 0.21564253468390476), ('TroponinI', 0.20102397158068586), ('ALT', 0.195959972616804)]\n",
      "----------------------------\n",
      "Diferença(MAE) Classification Undefined and obs1\n",
      "[('Ph', 0.8860429007278312), ('TroponinI', 0.2779627718329166), ('SaO2', 0.26307064437502575), ('Albumin', 0.2194660837335165), ('Na', 0.17731599688256605)]\n",
      "----------------------------\n",
      "Diferença(MAE) Classification Undefined and obs2\n",
      "----------------------------\n",
      "[('TroponinT', 1.1935689117415829), ('TroponinI', 0.8461866751277154), ('Cholesterol', 0.3751645599709969), ('ALT', 0.27024488532229396), ('Platelets', 0.23498046514041315)]\n",
      "----------------------------\n",
      "Diferença(MAE) ICUType Undefined and obs3\n",
      "----------------------------\n",
      "[('TroponinT', 0.8872768550771968), ('ALT', 0.7773832901499079), ('Cholesterol', 0.5742664992341487), ('TroponinI', 0.4540748187955722), ('Platelets', 0.31707613575791704)]\n",
      "----------------------------\n"
     ]
    }
   ],
   "source": [
    "print(\"Diferença(MAE) Classification Undefined and low\")\n",
    "print(\"----------------------------\")\n",
    "print(diff_brits_classification_undefined_low)\n",
    "print(\"----------------------------\")\n",
    "print(\"Diferença(MAE) Classification Undefined and normal\")\n",
    "print(\"----------------------------\")\n",
    "print(diff_brits_classification_undefined_normal)\n",
    "print(\"----------------------------\")\n",
    "print(\"Diferença(MAE) Classification Undefined and over\")\n",
    "print(\"----------------------------\")\n",
    "print(diff_brits_classification_undefined_over)\n",
    "print(\"----------------------------\")\n",
    "print(\"Diferença(MAE) Classification Undefined and obs1\")\n",
    "print(diff_brits_classification_undefined_obs1)\n",
    "print(\"----------------------------\")\n",
    "print(\"Diferença(MAE) Classification Undefined and obs2\")\n",
    "print(\"----------------------------\")\n",
    "print(diff_brits_classification_undefined_obs2)\n",
    "print(\"----------------------------\")\n",
    "print(\"Diferença(MAE) ICUType Undefined and obs3\")\n",
    "print(\"----------------------------\")\n",
    "print(diff_brits_classification_undefined_obs3)\n",
    "print(\"----------------------------\")"
   ]
  },
  {
   "cell_type": "code",
   "execution_count": 119,
   "metadata": {},
   "outputs": [
    {
     "name": "stdout",
     "output_type": "stream",
     "text": [
      "Diferença(MAE) Classification low and normal\n",
      "----------------------------\n",
      "[('ALP', 1.792956457880423), ('Bilirubin', 0.951330519054483), ('Cholesterol', 0.7776187127993226), ('SaO2', 0.6685476737972635), ('TroponinI', 0.5649881004267963)]\n",
      "----------------------------\n",
      "Diferença(MAE) Classification low and over\n",
      "----------------------------\n",
      "[('ALP', 2.0608654148254533), ('Cholesterol', 1.3765432253124503), ('Bilirubin', 1.27906305693048), ('TroponinI', 1.0472106467084012), ('Glucose', 0.40732195589248754)]\n",
      "----------------------------\n",
      "Diferença(MAE) Classification low and obs1\n",
      "----------------------------\n",
      "[('ALP', 2.03388782015009), ('Bilirubin', 1.0689277687310215), ('Ph', 0.8810842117518044), ('TroponinI', 0.5682239032947988), ('Glucose', 0.561052165137238)]\n",
      "----------------------------\n",
      "Diferença(MAE) Classification low and obs2\n",
      "[('ALP', 2.0833439707474084), ('Bilirubin', 1.1899083597278504), ('TroponinT', 0.8194450706632078), ('AST', 0.44272371026975965), ('HCO3', 0.43447019436156575)]\n",
      "----------------------------\n",
      "Diferença(MAE) Classification low and obs3\n",
      "----------------------------\n",
      "[('ALP', 2.188921185335205), ('Bilirubin', 1.267126061294093), ('ALT', 0.7844981452892026), ('TroponinT', 0.5131530139988217), ('AST', 0.4166938924105916)]\n",
      "----------------------------\n"
     ]
    }
   ],
   "source": [
    "print(\"Diferença(MAE) Classification low and normal\")\n",
    "print(\"----------------------------\")\n",
    "print(diff_brits_classification_low_normal)\n",
    "print(\"----------------------------\")\n",
    "print(\"Diferença(MAE) Classification low and over\")\n",
    "print(\"----------------------------\")\n",
    "print(diff_brits_classification_low_over)\n",
    "print(\"----------------------------\")\n",
    "print(\"Diferença(MAE) Classification low and obs1\")\n",
    "print(\"----------------------------\")\n",
    "print(diff_brits_classification_low_obs1)\n",
    "print(\"----------------------------\")\n",
    "print(\"Diferença(MAE) Classification low and obs2\")\n",
    "print(diff_brits_classification_low_obs2)\n",
    "print(\"----------------------------\")\n",
    "print(\"Diferença(MAE) Classification low and obs3\")\n",
    "print(\"----------------------------\")\n",
    "print(diff_brits_classification_low_obs3)\n",
    "print(\"----------------------------\")"
   ]
  },
  {
   "cell_type": "code",
   "execution_count": 120,
   "metadata": {},
   "outputs": [
    {
     "name": "stdout",
     "output_type": "stream",
     "text": [
      "Diferença(MAE) Classification normal and over\n",
      "----------------------------\n",
      "[('SaO2', 0.6172512942479107), ('Cholesterol', 0.5989245125131277), ('TroponinI', 0.482222546281605), ('Bilirubin', 0.32773253787599693), ('ALT', 0.27363285234568174)]\n",
      "----------------------------\n",
      "Diferença(MAE) Classification normal and obs1\n",
      "----------------------------\n",
      "[('Ph', 0.8903667411722032), ('SaO2', 0.6587071644598281), ('Cholesterol', 0.36517238501263594), ('Albumin', 0.29004740656919503), ('ALP', 0.24093136226966733)]\n",
      "----------------------------\n",
      "Diferença(MAE) Classification normal and obs2\n",
      "----------------------------\n",
      "[('TroponinT', 1.2204323157755508), ('Cholesterol', 0.6885114670116885), ('TroponinI', 0.5649881004267963), ('SaO2', 0.4915174493800929), ('ALT', 0.3479177650511717)]\n",
      "----------------------------\n",
      "Diferença(MAE) Classification normal and obs3\n",
      "[('TroponinT', 0.9141402591111647), ('Cholesterol', 0.8876134062748404), ('ALT', 0.8550561698787857), ('SaO2', 0.5055719791939934), ('ALP', 0.39596472745478206)]\n",
      "----------------------------\n"
     ]
    }
   ],
   "source": [
    "print(\"Diferença(MAE) Classification normal and over\")\n",
    "print(\"----------------------------\")\n",
    "print(diff_brits_classification_normal_over)\n",
    "print(\"----------------------------\")\n",
    "print(\"Diferença(MAE) Classification normal and obs1\")\n",
    "print(\"----------------------------\")\n",
    "print(diff_brits_classification_normal_obs1)\n",
    "print(\"----------------------------\")\n",
    "print(\"Diferença(MAE) Classification normal and obs2\")\n",
    "print(\"----------------------------\")\n",
    "print(diff_brits_classification_normal_obs2)\n",
    "print(\"----------------------------\")\n",
    "print(\"Diferença(MAE) Classification normal and obs3\")\n",
    "print(diff_brits_classification_normal_obs3)\n",
    "print(\"----------------------------\")"
   ]
  },
  {
   "cell_type": "code",
   "execution_count": 121,
   "metadata": {},
   "outputs": [
    {
     "name": "stdout",
     "output_type": "stream",
     "text": [
      "Diferença(MAE) Classification over and obs1\n",
      "----------------------------\n",
      "[('Cholesterol', 0.9640968975257637), ('Ph', 0.8905324608937575), ('TroponinI', 0.4789867434136025), ('ALT', 0.2822848044403897), ('Bilirubin', 0.21013528819945848)]\n",
      "----------------------------\n",
      "Diferença(MAE) Classification over and obs2\n",
      "----------------------------\n",
      "[('Cholesterol', 1.2874359795248163), ('TroponinI', 1.0472106467084012), ('TroponinT', 1.026222109628948), ('AST', 0.2181718782219345), ('BUN', 0.19186306569181605)]\n",
      "----------------------------\n",
      "Diferença(MAE) Classification over and obs3\n",
      "----------------------------\n",
      "[('Cholesterol', 1.4865379187879681), ('TroponinT', 0.719930052964562), ('TroponinI', 0.6550987903762581), ('ALT', 0.581423317533104), ('Glucose', 0.23574108148249084)]\n",
      "----------------------------\n"
     ]
    }
   ],
   "source": [
    "print(\"Diferença(MAE) Classification over and obs1\")\n",
    "print(\"----------------------------\")\n",
    "print(diff_brits_classification_over_obs1)\n",
    "print(\"----------------------------\")\n",
    "print(\"Diferença(MAE) Classification over and obs2\")\n",
    "print(\"----------------------------\")\n",
    "print(diff_brits_classification_over_obs2)\n",
    "print(\"----------------------------\")\n",
    "print(\"Diferença(MAE) Classification over and obs3\")\n",
    "print(\"----------------------------\")\n",
    "print(diff_brits_classification_over_obs3)\n",
    "print(\"----------------------------\")"
   ]
  },
  {
   "cell_type": "code",
   "execution_count": 122,
   "metadata": {},
   "outputs": [
    {
     "name": "stdout",
     "output_type": "stream",
     "text": [
      "Diferença(MAE) Classification obs1 and obs2 \n",
      "----------------------------\n",
      "[('TroponinT', 1.1935023183719276), ('Ph', 0.8867898200352354), ('TroponinI', 0.5682239032947988), ('ALT', 0.3565697171458797), ('Cholesterol', 0.32333908199905265)]\n",
      "----------------------------\n",
      "Diferença(MAE) Classification obs1 and obs3 \n",
      "----------------------------\n",
      "[('Ph', 0.8897412969673524), ('TroponinT', 0.8872102617075415), ('ALT', 0.8637081219734937), ('Cholesterol', 0.5224410212622045), ('Glucose', 0.3894712907272413)]\n",
      "----------------------------\n"
     ]
    }
   ],
   "source": [
    "print(\"Diferença(MAE) Classification obs1 and obs2 \")\n",
    "print(\"----------------------------\")\n",
    "print(diff_brits_classification_obs1_obs2)\n",
    "print(\"----------------------------\")\n",
    "print(\"Diferença(MAE) Classification obs1 and obs3 \")\n",
    "print(\"----------------------------\")\n",
    "print(diff_brits_classification_obs1_obs3)\n",
    "print(\"----------------------------\")"
   ]
  },
  {
   "cell_type": "code",
   "execution_count": 123,
   "metadata": {},
   "outputs": [
    {
     "name": "stdout",
     "output_type": "stream",
     "text": [
      "Diferença(MAE) Classification obs2 and obs3 \n",
      "----------------------------\n",
      "[('ALT', 0.507138404827614), ('TroponinI', 0.3921118563321432), ('TroponinT', 0.3062920566643861), ('HCO3', 0.23358523804099007), ('Glucose', 0.20095365530478204)]\n",
      "----------------------------\n"
     ]
    }
   ],
   "source": [
    "print(\"Diferença(MAE) Classification obs2 and obs3 \")\n",
    "print(\"----------------------------\")\n",
    "print(diff_brits_classification_obs2_obs3)\n",
    "print(\"----------------------------\")"
   ]
  },
  {
   "cell_type": "code",
   "execution_count": 124,
   "metadata": {},
   "outputs": [
    {
     "name": "stdout",
     "output_type": "stream",
     "text": [
      "Top 5 variáveis BMI\n",
      "-----------------------\n",
      "ALP\n",
      "Cholesterol\n",
      "TroponinT\n",
      "TroponinI\n",
      "Bilirubin\n"
     ]
    }
   ],
   "source": [
    "print(\"Top 5 variáveis BMI\")\n",
    "print(\"-----------------------\")\n",
    "print(variables[0])\n",
    "print(variables[6])\n",
    "print(variables[32])\n",
    "print(variables[31])\n",
    "print(variables[5])"
   ]
  },
  {
   "cell_type": "markdown",
   "metadata": {},
   "source": [
    "### Confidence Interval (Female Subgroup)"
   ]
  },
  {
   "cell_type": "markdown",
   "metadata": {},
   "source": [
    "#### Distribution Bootstrap for the Top 5 variables with Largest Differences in MAE (Mean Absolute Error) "
   ]
  },
  {
   "cell_type": "code",
   "execution_count": 125,
   "metadata": {},
   "outputs": [],
   "source": [
    "indices = [6, 2, 31, 7, 16]\n",
    "\n",
    "results_bootstrap_brits_female = []\n",
    "\n",
    "for i in indices:\n",
    "       results_bootstrap_brits_female.append(toolkits.bootstrap(testing_ae_brits_variables_standard, indicating_mask_variable_standard_norm, 1, i, 9000))"
   ]
  },
  {
   "cell_type": "markdown",
   "metadata": {},
   "source": [
    "#### Calculating the mean and standard deviation of the bootstrap distribution"
   ]
  },
  {
   "cell_type": "code",
   "execution_count": 126,
   "metadata": {},
   "outputs": [
    {
     "name": "stdout",
     "output_type": "stream",
     "text": [
      "[np.float64(1.1862831276383659), np.float64(0.2997961472873614), np.float64(0.5235753507673425), np.float64(0.25226284763473317), np.float64(0.4254263754490005)]\n",
      "[np.float64(0.3381506628642691), np.float64(0.08322467917877542), np.float64(0.07193090333728737), np.float64(0.02436604729618584), np.float64(0.03851788865527756)]\n"
     ]
    }
   ],
   "source": [
    "means_bootstraps_brits_female,standards_deviations_brits_female = toolkits.calc_mean_and_standard_deviation(results_bootstrap_brits_female)\n",
    "\n",
    "print(means_bootstraps_brits_female)\n",
    "print(standards_deviations_brits_female)\n"
   ]
  },
  {
   "cell_type": "markdown",
   "metadata": {},
   "source": [
    "#### Calculating lower bound and upper bound"
   ]
  },
  {
   "cell_type": "code",
   "execution_count": 127,
   "metadata": {},
   "outputs": [
    {
     "name": "stdout",
     "output_type": "stream",
     "text": [
      "[np.float64(0.5235200070760525), np.float64(0.1366787734720611), np.float64(0.3825933708508273), np.float64(0.20450627248860936), np.float64(0.3499327009241326)]\n",
      "[np.float64(1.849046248200679), np.float64(0.46291352110266176), np.float64(0.6645573306838577), np.float64(0.30001942278085697), np.float64(0.5009200499738685)]\n"
     ]
    }
   ],
   "source": [
    "lower_bounds_brits_female, upper_bounds_brits_female = toolkits.calc_lower_and_upper_bound(results_bootstrap_brits_female, means_bootstraps_brits_female,standards_deviations_brits_female)\n",
    "\n",
    "print(lower_bounds_brits_female)\n",
    "print(upper_bounds_brits_female)"
   ]
  },
  {
   "cell_type": "code",
   "execution_count": 128,
   "metadata": {},
   "outputs": [
    {
     "name": "stdout",
     "output_type": "stream",
     "text": [
      "[np.float64(0.4968807905077575), np.float64(0.15777963365890407), np.float64(0.38256497348656243), np.float64(0.20792187509631285), np.float64(0.3545808886663554)]\n",
      "[np.float64(1.839347804995353), np.float64(0.482637756192842), np.float64(0.6661266330063176), np.float64(0.3031409155244055), np.float64(0.5060578657766025)]\n"
     ]
    }
   ],
   "source": [
    "lower_bounds_brits_female, upper_bounds_brits_female = toolkits.calc_lower_and_upper_bound_percentile(results_bootstrap_brits_female)\n",
    "\n",
    "print(lower_bounds_brits_female)\n",
    "print(upper_bounds_brits_female)"
   ]
  },
  {
   "cell_type": "markdown",
   "metadata": {},
   "source": [
    "#### Mean values of lower bound and upper bound\n"
   ]
  },
  {
   "cell_type": "code",
   "execution_count": 129,
   "metadata": {},
   "outputs": [
    {
     "name": "stdout",
     "output_type": "stream",
     "text": [
      "[np.float64(1.1681142977515553), np.float64(0.320208694925873), np.float64(0.52434580324644), np.float64(0.2555313953103592), np.float64(0.43031937722147895)]\n"
     ]
    }
   ],
   "source": [
    "mean_values_ci_brits_female = toolkits.calc_mean_values_ci(lower_bounds_brits_female, upper_bounds_brits_female)\n",
    "\n",
    "print(mean_values_ci_brits_female)"
   ]
  },
  {
   "cell_type": "markdown",
   "metadata": {},
   "source": [
    "### Confidence Interval (Male Subgroup)"
   ]
  },
  {
   "cell_type": "markdown",
   "metadata": {},
   "source": [
    "#### Distribution Bootstrap for the Top 5 variables with Largest Differences in MAE (Mean Absolute Error) "
   ]
  },
  {
   "cell_type": "code",
   "execution_count": 130,
   "metadata": {},
   "outputs": [],
   "source": [
    "indices = [6, 2, 31, 7, 16]\n",
    "\n",
    "results_bootstrap_brits_male = []\n",
    "\n",
    "for i in indices:\n",
    "       results_bootstrap_brits_male.append(toolkits.bootstrap(testing_ae_brits_variables_standard, indicating_mask_variable_standard_norm, 2, i, 9000))"
   ]
  },
  {
   "cell_type": "markdown",
   "metadata": {},
   "source": [
    "#### Calculating the mean and standard deviation of the bootstrap distribution"
   ]
  },
  {
   "cell_type": "code",
   "execution_count": 131,
   "metadata": {},
   "outputs": [
    {
     "name": "stdout",
     "output_type": "stream",
     "text": [
      "[np.float64(0.8532085999273139), np.float64(0.12173798464939829), np.float64(0.7001687284700588), np.float64(0.4070497014201909), np.float64(0.5221586240945711)]\n",
      "[np.float64(0.17358454405745072), np.float64(0.025632322705534415), np.float64(0.2124414858781128), np.float64(0.03724148791663912), np.float64(0.04259881898681301)]\n"
     ]
    }
   ],
   "source": [
    "means_bootstraps_brits_male,standards_deviations_brits_male = toolkits.calc_mean_and_standard_deviation(results_bootstrap_brits_male)\n",
    "\n",
    "print(means_bootstraps_brits_male)\n",
    "print(standards_deviations_brits_male)\n"
   ]
  },
  {
   "cell_type": "markdown",
   "metadata": {},
   "source": [
    "#### Calculating lower bound and upper bound"
   ]
  },
  {
   "cell_type": "code",
   "execution_count": 132,
   "metadata": {},
   "outputs": [
    {
     "name": "stdout",
     "output_type": "stream",
     "text": [
      "[np.float64(0.5129891453019042), np.float64(0.07149955530644256), np.float64(0.2837910673267833), np.float64(0.33405772637289466), np.float64(0.4386664730964766)]\n",
      "[np.float64(1.1934280545527236), np.float64(0.17197641399235403), np.float64(1.1165463896133345), np.float64(0.4800416764674872), np.float64(0.6056507750926656)]\n"
     ]
    }
   ],
   "source": [
    "lower_bounds_brits_male, upper_bounds_brits_male = toolkits.calc_lower_and_upper_bound(results_bootstrap_brits_male, means_bootstraps_brits_male,standards_deviations_brits_male)\n",
    "\n",
    "print(lower_bounds_brits_male)\n",
    "print(upper_bounds_brits_male)"
   ]
  },
  {
   "cell_type": "code",
   "execution_count": 134,
   "metadata": {},
   "outputs": [
    {
     "name": "stdout",
     "output_type": "stream",
     "text": [
      "[np.float64(0.5279936705737495), np.float64(0.07721704416107987), np.float64(0.3292561099811831), np.float64(0.33737493991402795), np.float64(0.44382017231433574)]\n",
      "[np.float64(1.2043504550964836), np.float64(0.17693865508789547), np.float64(1.1598741699157562), np.float64(0.4832001133644307), np.float64(0.6097816615527988)]\n"
     ]
    }
   ],
   "source": [
    "lower_bounds_brits_male, upper_bounds_brits_male = toolkits.calc_lower_and_upper_bound_percentile(results_bootstrap_brits_male)\n",
    "\n",
    "print(lower_bounds_brits_male)\n",
    "print(upper_bounds_brits_male)"
   ]
  },
  {
   "cell_type": "markdown",
   "metadata": {},
   "source": [
    "#### Mean values of lower bound and upper bound\n"
   ]
  },
  {
   "cell_type": "code",
   "execution_count": 135,
   "metadata": {},
   "outputs": [
    {
     "name": "stdout",
     "output_type": "stream",
     "text": [
      "[np.float64(0.8661720628351166), np.float64(0.12707784962448768), np.float64(0.7445651399484696), np.float64(0.4102875266392293), np.float64(0.5268009169335672)]\n"
     ]
    }
   ],
   "source": [
    "mean_values_ci_brits_male = toolkits.calc_mean_values_ci(lower_bounds_brits_male, upper_bounds_brits_male)\n",
    "\n",
    "print(mean_values_ci_brits_male)"
   ]
  },
  {
   "cell_type": "markdown",
   "metadata": {},
   "source": [
    "### Confidence Interval (+65 Subgroup)"
   ]
  },
  {
   "cell_type": "markdown",
   "metadata": {},
   "source": [
    "#### Distribution Bootstrap for the Top 5 variables with Largest Differences in MAE (Mean Absolute Error) "
   ]
  },
  {
   "cell_type": "code",
   "execution_count": 136,
   "metadata": {},
   "outputs": [],
   "source": [
    "indices = [0, 31, 5, 6, 3]\n",
    "\n",
    "results_bootstrap_brits_more_than_or_equal_to_65_subgroup = []\n",
    "\n",
    "for i in indices:\n",
    "       results_bootstrap_brits_more_than_or_equal_to_65_subgroup.append(toolkits.bootstrap(testing_ae_brits_variables_standard, indicating_mask_variable_standard_norm, 4, i, 9000))\n"
   ]
  },
  {
   "cell_type": "markdown",
   "metadata": {},
   "source": [
    "#### Calculating the mean and standard deviation of the bootstrap distribution"
   ]
  },
  {
   "cell_type": "code",
   "execution_count": 137,
   "metadata": {},
   "outputs": [
    {
     "name": "stdout",
     "output_type": "stream",
     "text": [
      "[np.float64(0.6351102299479717), np.float64(0.9260057824625499), np.float64(0.23893718663634383), np.float64(0.6634109698540213), np.float64(0.5742005222250958)]\n",
      "[np.float64(0.14022222850550667), np.float64(0.2902139592129938), np.float64(0.025161049870449845), np.float64(0.08795901770065773), np.float64(0.06166376517595487)]\n"
     ]
    }
   ],
   "source": [
    "means_bootstraps_brits_more_than_or_equal_to_65_subgroup,standards_deviations_brits_more_than_or_equal_to_65_subgroup = toolkits.calc_mean_and_standard_deviation(results_bootstrap_brits_more_than_or_equal_to_65_subgroup)\n",
    "\n",
    "print(means_bootstraps_brits_more_than_or_equal_to_65_subgroup)\n",
    "print(standards_deviations_brits_more_than_or_equal_to_65_subgroup)"
   ]
  },
  {
   "cell_type": "markdown",
   "metadata": {},
   "source": [
    "#### Calculating lower bound and upper bound\n"
   ]
  },
  {
   "cell_type": "code",
   "execution_count": 138,
   "metadata": {},
   "outputs": [
    {
     "name": "stdout",
     "output_type": "stream",
     "text": [
      "[np.float64(0.3602797122452329), np.float64(0.3571968745943058), np.float64(0.18962243507704596), np.float64(0.491014463045211), np.float64(0.45334176332908904)]\n",
      "[np.float64(0.9099407476507105), np.float64(1.4948146903307942), np.float64(0.2882519381956417), np.float64(0.8358074766628315), np.float64(0.6950592811211025)]\n"
     ]
    }
   ],
   "source": [
    "lower_bounds_brits_more_than_or_equal_to_65_subgroup, upper_bounds_brits_more_than_or_equal_to_65_subgroup = toolkits.calc_lower_and_upper_bound(results_bootstrap_brits_more_than_or_equal_to_65_subgroup, means_bootstraps_brits_more_than_or_equal_to_65_subgroup,standards_deviations_brits_more_than_or_equal_to_65_subgroup)\n",
    "\n",
    "print(lower_bounds_brits_more_than_or_equal_to_65_subgroup)\n",
    "print(upper_bounds_brits_more_than_or_equal_to_65_subgroup)\n"
   ]
  },
  {
   "cell_type": "code",
   "execution_count": 139,
   "metadata": {},
   "outputs": [
    {
     "name": "stdout",
     "output_type": "stream",
     "text": [
      "[np.float64(0.3870394478539412), np.float64(0.46568194507300736), np.float64(0.19292104005655877), np.float64(0.48875435337841105), np.float64(0.45853042514994774)]\n",
      "[np.float64(0.9343760347819378), np.float64(1.5660366563288135), np.float64(0.2921663838336204), np.float64(0.8327365001093664), np.float64(0.7004820435889465)]\n"
     ]
    }
   ],
   "source": [
    "lower_bounds_brits_more_than_or_equal_to_65_subgroup, upper_bounds_brits_more_than_or_equal_to_65_subgroup = toolkits.calc_lower_and_upper_bound_percentile(results_bootstrap_brits_more_than_or_equal_to_65_subgroup)\n",
    "\n",
    "print(lower_bounds_brits_more_than_or_equal_to_65_subgroup)\n",
    "print(upper_bounds_brits_more_than_or_equal_to_65_subgroup)"
   ]
  },
  {
   "cell_type": "markdown",
   "metadata": {},
   "source": [
    "#### Mean values of lower bound and upper bound"
   ]
  },
  {
   "cell_type": "code",
   "execution_count": 140,
   "metadata": {},
   "outputs": [
    {
     "name": "stdout",
     "output_type": "stream",
     "text": [
      "[np.float64(0.6607077413179394), np.float64(1.0158593007009105), np.float64(0.2425437119450896), np.float64(0.6607454267438887), np.float64(0.5795062343694471)]\n"
     ]
    }
   ],
   "source": [
    "mean_values_ci_brits_more_than_or_equal_to_65_subgroup  = toolkits.calc_mean_values_ci(lower_bounds_brits_more_than_or_equal_to_65_subgroup , upper_bounds_brits_more_than_or_equal_to_65_subgroup)\n",
    "\n",
    "print(mean_values_ci_brits_more_than_or_equal_to_65_subgroup)"
   ]
  },
  {
   "cell_type": "markdown",
   "metadata": {},
   "source": [
    "### Confidence Interval (-65 subgroup)"
   ]
  },
  {
   "cell_type": "markdown",
   "metadata": {},
   "source": [
    "#### Distribution Bootstrap for the Top 5 variables with Largest Differences in MAE (Mean Absolute Error) "
   ]
  },
  {
   "cell_type": "code",
   "execution_count": 141,
   "metadata": {},
   "outputs": [],
   "source": [
    "indices = [0, 31, 5, 6, 3]\n",
    "\n",
    "results_bootstrap_brits_less_than_65_subgroup = []\n",
    "\n",
    "for i in indices:\n",
    "       results_bootstrap_brits_less_than_65_subgroup.append(toolkits.bootstrap(testing_ae_brits_variables_standard, indicating_mask_variable_standard_norm, 5, i, 9000))\n",
    "\n"
   ]
  },
  {
   "cell_type": "markdown",
   "metadata": {},
   "source": [
    "#### Calculating the mean and standard deviation of the bootstrap distribution"
   ]
  },
  {
   "cell_type": "code",
   "execution_count": 142,
   "metadata": {},
   "outputs": [
    {
     "name": "stdout",
     "output_type": "stream",
     "text": [
      "[np.float64(1.0871043378053682), np.float64(0.5368503053164135), np.float64(0.47800817831362274), np.float64(0.7807769585304432), np.float64(0.7129405683813472)]\n",
      "[np.float64(0.4337083267621267), np.float64(0.06965814575847884), np.float64(0.08711583404267569), np.float64(0.6101374424469065), np.float64(0.06334923482333744)]\n"
     ]
    }
   ],
   "source": [
    "means_bootstraps_brits_less_than_65_subgroup,standards_deviations_brits_less_than_65_subgroup = toolkits.calc_mean_and_standard_deviation(results_bootstrap_brits_less_than_65_subgroup)\n",
    "\n",
    "print(means_bootstraps_brits_less_than_65_subgroup)\n",
    "print(standards_deviations_brits_less_than_65_subgroup)\n"
   ]
  },
  {
   "cell_type": "markdown",
   "metadata": {},
   "source": [
    "#### Calculating lower bound and upper bound"
   ]
  },
  {
   "cell_type": "code",
   "execution_count": 143,
   "metadata": {},
   "outputs": [
    {
     "name": "stdout",
     "output_type": "stream",
     "text": [
      "[np.float64(0.23705163755647063), np.float64(0.40032284839995347), np.float64(0.30726428110681003), np.float64(-0.41507045428487355), np.float64(0.5887783496794352)]\n",
      "[np.float64(1.9371570380542658), np.float64(0.6733777622328736), np.float64(0.6487520755204355), np.float64(1.9766243713457599), np.float64(0.8371027870832592)]\n"
     ]
    }
   ],
   "source": [
    "lower_bounds_brits_less_than_65_subgroup, upper_bounds_brits_less_than_65_subgroup = toolkits.calc_lower_and_upper_bound(results_bootstrap_brits_less_than_65_subgroup, means_bootstraps_brits_less_than_65_subgroup, standards_deviations_brits_less_than_65_subgroup)\n",
    "\n",
    "print(lower_bounds_brits_less_than_65_subgroup)\n",
    "print(upper_bounds_brits_less_than_65_subgroup)"
   ]
  },
  {
   "cell_type": "code",
   "execution_count": 144,
   "metadata": {},
   "outputs": [
    {
     "name": "stdout",
     "output_type": "stream",
     "text": [
      "[np.float64(0.40960047420909507), np.float64(0.37965413188890884), np.float64(0.3230237721847463), np.float64(0.0), np.float64(0.592142896632086)]\n",
      "[np.float64(2.0765479628767127), np.float64(0.6430158128184212), np.float64(0.6636826654971765), np.float64(1.640032252107956), np.float64(0.8413776344626777)]\n"
     ]
    }
   ],
   "source": [
    "lower_bounds_brits_less_than_65_subgroup, upper_bounds_brits_less_than_65_subgroup = toolkits.calc_lower_and_upper_bound_percentile(results_bootstrap_brits_less_than_65_subgroup)\n",
    "\n",
    "print(lower_bounds_brits_less_than_65_subgroup)\n",
    "print(upper_bounds_brits_less_than_65_subgroup)"
   ]
  },
  {
   "cell_type": "markdown",
   "metadata": {},
   "source": [
    "#### Mean values of lower bound and upper bound"
   ]
  },
  {
   "cell_type": "code",
   "execution_count": 145,
   "metadata": {},
   "outputs": [
    {
     "name": "stdout",
     "output_type": "stream",
     "text": [
      "[np.float64(1.2430742185429038), np.float64(0.5113349723536651), np.float64(0.4933532188409614), np.float64(0.820016126053978), np.float64(0.7167602655473818)]\n"
     ]
    }
   ],
   "source": [
    "mean_values_ci_brits_less_than_65_subgroup  = toolkits.calc_mean_values_ci(lower_bounds_brits_less_than_65_subgroup, upper_bounds_brits_less_than_65_subgroup)\n",
    "\n",
    "print(mean_values_ci_brits_less_than_65_subgroup)"
   ]
  },
  {
   "cell_type": "markdown",
   "metadata": {},
   "source": [
    "### Confidence Interval (ICUType 1 subgroup)"
   ]
  },
  {
   "cell_type": "markdown",
   "metadata": {},
   "source": [
    "#### Distribution Bootstrap for the Top 5 variables with Largest Differences in MAE (Mean Absolute Error) "
   ]
  },
  {
   "cell_type": "code",
   "execution_count": 146,
   "metadata": {},
   "outputs": [],
   "source": [
    "indices = [28, 0, 6, 31, 32]\n",
    "\n",
    "results_bootstrap_brits_ICUType_1_subgroup = []\n",
    "\n",
    "for i in indices:\n",
    "       results_bootstrap_brits_ICUType_1_subgroup.append(toolkits.bootstrap(testing_ae_brits_variables_standard, indicating_mask_variable_standard_norm, 6, i, 9000))\n",
    "\n"
   ]
  },
  {
   "cell_type": "markdown",
   "metadata": {},
   "source": [
    "#### Calculating the mean and standard deviation of the bootstrap distribution"
   ]
  },
  {
   "cell_type": "code",
   "execution_count": 147,
   "metadata": {},
   "outputs": [
    {
     "name": "stdout",
     "output_type": "stream",
     "text": [
      "[np.float64(0.5226824815512915), np.float64(0.22527604130199683), np.float64(0.9690932479547066), np.float64(1.3413646633750829), np.float64(0.7212106254399269)]\n",
      "[np.float64(0.17812570383563214), np.float64(0.03508402734675316), np.float64(0.2710993234914266), np.float64(0.37708432885457466), np.float64(0.15436752793597142)]\n"
     ]
    }
   ],
   "source": [
    "means_bootstraps_brits_ICUType_1_subgroup, standards_deviations_brits_ICUType_1_subgroup = toolkits.calc_mean_and_standard_deviation(results_bootstrap_brits_ICUType_1_subgroup)\n",
    "\n",
    "print(means_bootstraps_brits_ICUType_1_subgroup)\n",
    "print(standards_deviations_brits_ICUType_1_subgroup)\n"
   ]
  },
  {
   "cell_type": "markdown",
   "metadata": {},
   "source": [
    "#### Calculating lower bound and upper bound"
   ]
  },
  {
   "cell_type": "code",
   "execution_count": 148,
   "metadata": {},
   "outputs": [
    {
     "name": "stdout",
     "output_type": "stream",
     "text": [
      "[np.float64(0.1735625173126043), np.float64(0.1565126112697423), np.float64(0.437748337678337), np.float64(0.6022929596856587), np.float64(0.41865583030294223)]\n",
      "[np.float64(0.8718024457899787), np.float64(0.29403947133425135), np.float64(1.5004381582310762), np.float64(2.080436367064507), np.float64(1.0237654205769116)]\n"
     ]
    }
   ],
   "source": [
    "lower_bounds_brits_ICUType_1_subgroup, upper_bounds_brits_ICUType_1_subgroup = toolkits.calc_lower_and_upper_bound(results_bootstrap_brits_ICUType_1_subgroup, means_bootstraps_brits_ICUType_1_subgroup, standards_deviations_brits_ICUType_1_subgroup)\n",
    "\n",
    "print(lower_bounds_brits_ICUType_1_subgroup)\n",
    "print(upper_bounds_brits_ICUType_1_subgroup)"
   ]
  },
  {
   "cell_type": "code",
   "execution_count": 149,
   "metadata": {},
   "outputs": [
    {
     "name": "stdout",
     "output_type": "stream",
     "text": [
      "[np.float64(0.28256831897763984), np.float64(0.15992531714336428), np.float64(0.4939563545686042), np.float64(0.6875523418113644), np.float64(0.4421847571220248)]\n",
      "[np.float64(0.9443799897801524), np.float64(0.29705740948586223), np.float64(1.5643299653136569), np.float64(2.134296145454983), np.float64(1.0443018856551611)]\n"
     ]
    }
   ],
   "source": [
    "lower_bounds_brits_ICUType_1_subgroup, upper_bounds_brits_ICUType_1_subgroup = toolkits.calc_lower_and_upper_bound_percentile(results_bootstrap_brits_ICUType_1_subgroup)\n",
    "\n",
    "print(lower_bounds_brits_ICUType_1_subgroup)\n",
    "print(upper_bounds_brits_ICUType_1_subgroup)"
   ]
  },
  {
   "cell_type": "markdown",
   "metadata": {},
   "source": [
    "#### Mean values of lower bound and upper bound"
   ]
  },
  {
   "cell_type": "code",
   "execution_count": 150,
   "metadata": {},
   "outputs": [
    {
     "name": "stdout",
     "output_type": "stream",
     "text": [
      "[np.float64(0.6134741543788961), np.float64(0.22849136331461325), np.float64(1.0291431599411305), np.float64(1.4109242436331737), np.float64(0.743243321388593)]\n"
     ]
    }
   ],
   "source": [
    "mean_values_ci_brits_ICUType_1_subgroup  = toolkits.calc_mean_values_ci(lower_bounds_brits_ICUType_1_subgroup, upper_bounds_brits_ICUType_1_subgroup)\n",
    "\n",
    "print(mean_values_ci_brits_ICUType_1_subgroup)"
   ]
  },
  {
   "cell_type": "markdown",
   "metadata": {},
   "source": [
    "### Confidence Interval (ICUType 2 subgroup)"
   ]
  },
  {
   "cell_type": "markdown",
   "metadata": {},
   "source": [
    "#### Distribution Bootstrap for the Top 5 variables with Largest Differences in MAE (Mean Absolute Error) "
   ]
  },
  {
   "cell_type": "code",
   "execution_count": 151,
   "metadata": {},
   "outputs": [],
   "source": [
    "indices = [28, 0, 6, 31, 32]\n",
    "\n",
    "results_bootstrap_brits_ICUType_2_subgroup = []\n",
    "\n",
    "for i in indices:\n",
    "       results_bootstrap_brits_ICUType_2_subgroup.append(toolkits.bootstrap(testing_ae_brits_variables_standard, indicating_mask_variable_standard_norm, 7, i, 9000))\n",
    "\n"
   ]
  },
  {
   "cell_type": "markdown",
   "metadata": {},
   "source": [
    "#### Calculating the mean and standard deviation of the bootstrap distribution"
   ]
  },
  {
   "cell_type": "code",
   "execution_count": 152,
   "metadata": {},
   "outputs": [
    {
     "name": "stdout",
     "output_type": "stream",
     "text": [
      "[np.float64(0.5628893404476448), np.float64(0.253544682516006), np.float64(0.0), np.float64(0.3769132654783525), np.float64(0.17130476566918515)]\n",
      "[np.float64(0.24746020204511532), np.float64(0.02844864967364565), np.float64(0.0), np.float64(0.12241202033633213), np.float64(0.04748266503243493)]\n"
     ]
    }
   ],
   "source": [
    "means_bootstraps_brits_ICUType_2_subgroup, standards_deviations_brits_ICUType_2_subgroup = toolkits.calc_mean_and_standard_deviation(results_bootstrap_brits_ICUType_2_subgroup)\n",
    "\n",
    "print(means_bootstraps_brits_ICUType_2_subgroup)\n",
    "print(standards_deviations_brits_ICUType_2_subgroup)\n"
   ]
  },
  {
   "cell_type": "markdown",
   "metadata": {},
   "source": [
    "#### Calculating lower bound and upper bound"
   ]
  },
  {
   "cell_type": "code",
   "execution_count": 153,
   "metadata": {},
   "outputs": [
    {
     "name": "stdout",
     "output_type": "stream",
     "text": [
      "[np.float64(0.07787625683221377), np.float64(0.19778635374686335), np.float64(0.0), np.float64(0.13699011434435687), np.float64(0.07824045231563329)]\n",
      "[np.float64(1.0479024240630759), np.float64(0.3093030112851486), np.float64(0.0), np.float64(0.6168364166123481), np.float64(0.264369079022737)]\n"
     ]
    }
   ],
   "source": [
    "lower_bounds_brits_ICUType_2_subgroup, upper_bounds_brits_ICUType_2_subgroup = toolkits.calc_lower_and_upper_bound(results_bootstrap_brits_ICUType_2_subgroup, means_bootstraps_brits_ICUType_2_subgroup, standards_deviations_brits_ICUType_2_subgroup)\n",
    "\n",
    "print(lower_bounds_brits_ICUType_2_subgroup)\n",
    "print(upper_bounds_brits_ICUType_2_subgroup)"
   ]
  },
  {
   "cell_type": "code",
   "execution_count": 154,
   "metadata": {},
   "outputs": [],
   "source": [
    "lower_bounds_brits_ICUType_2_subgroup, upper_bounds_brits_ICUType_2_subgroup = toolkits.calc_lower_and_upper_bound_percentile(results_bootstrap_brits_ICUType_2_subgroup)"
   ]
  },
  {
   "cell_type": "markdown",
   "metadata": {},
   "source": [
    "#### Mean values of lower bound and upper bound"
   ]
  },
  {
   "cell_type": "code",
   "execution_count": 155,
   "metadata": {},
   "outputs": [
    {
     "name": "stdout",
     "output_type": "stream",
     "text": [
      "[np.float64(0.6996836620650728), np.float64(0.25573667275300277), np.float64(0.0), np.float64(0.378342729883637), np.float64(0.18299999636214556)]\n"
     ]
    }
   ],
   "source": [
    "mean_values_ci_brits_ICUType_2_subgroup  = toolkits.calc_mean_values_ci(lower_bounds_brits_ICUType_2_subgroup, upper_bounds_brits_ICUType_2_subgroup)\n",
    "\n",
    "print(mean_values_ci_brits_ICUType_2_subgroup)"
   ]
  },
  {
   "cell_type": "markdown",
   "metadata": {},
   "source": [
    "### Confidence Interval (ICUType 3 subgroup)"
   ]
  },
  {
   "cell_type": "markdown",
   "metadata": {},
   "source": [
    "#### Distribution Bootstrap for the Top 5 variables with Largest Differences in MAE (Mean Absolute Error) "
   ]
  },
  {
   "cell_type": "code",
   "execution_count": 156,
   "metadata": {},
   "outputs": [],
   "source": [
    "indices = [28, 0, 6, 31, 32]\n",
    "\n",
    "results_bootstrap_brits_ICUType_3_subgroup = []\n",
    "\n",
    "for i in indices:\n",
    "       results_bootstrap_brits_ICUType_3_subgroup.append(toolkits.bootstrap(testing_ae_brits_variables_standard, indicating_mask_variable_standard_norm, 8, i, 9000))\n",
    "\n"
   ]
  },
  {
   "cell_type": "markdown",
   "metadata": {},
   "source": [
    "#### Calculating the mean and standard deviation of the bootstrap distribution"
   ]
  },
  {
   "cell_type": "code",
   "execution_count": 157,
   "metadata": {},
   "outputs": [
    {
     "name": "stdout",
     "output_type": "stream",
     "text": [
      "[np.float64(1.593236497237565), np.float64(1.1365310737170016), np.float64(0.6958192633459015), np.float64(0.5411579272281444), np.float64(0.23745879820743904)]\n",
      "[np.float64(0.4559261164801034), np.float64(0.45097433675337983), np.float64(0.1878586172758027), np.float64(0.06133680568713781), np.float64(0.03548543506753726)]\n"
     ]
    }
   ],
   "source": [
    "means_bootstraps_brits_ICUType_3_subgroup, standards_deviations_brits_ICUType_3_subgroup = toolkits.calc_mean_and_standard_deviation(results_bootstrap_brits_ICUType_3_subgroup)\n",
    "\n",
    "print(means_bootstraps_brits_ICUType_3_subgroup)\n",
    "print(standards_deviations_brits_ICUType_3_subgroup)\n"
   ]
  },
  {
   "cell_type": "markdown",
   "metadata": {},
   "source": [
    "#### Calculating lower bound and upper bound"
   ]
  },
  {
   "cell_type": "code",
   "execution_count": 158,
   "metadata": {},
   "outputs": [
    {
     "name": "stdout",
     "output_type": "stream",
     "text": [
      "[np.float64(0.6996377293253487), np.float64(0.25263761572853904), np.float64(0.3276231392998342), np.float64(0.4209399971546227), np.float64(0.16790862349933133)]\n",
      "[np.float64(2.4868352651497814), np.float64(2.020424531705464), np.float64(1.0640153873919687), np.float64(0.661375857301666), np.float64(0.30700897291554674)]\n"
     ]
    }
   ],
   "source": [
    "lower_bounds_brits_ICUType_3_subgroup, upper_bounds_brits_ICUType_3_subgroup = toolkits.calc_lower_and_upper_bound(results_bootstrap_brits_ICUType_3_subgroup, means_bootstraps_brits_ICUType_3_subgroup, standards_deviations_brits_ICUType_3_subgroup)\n",
    "\n",
    "print(lower_bounds_brits_ICUType_3_subgroup)\n",
    "print(upper_bounds_brits_ICUType_3_subgroup)"
   ]
  },
  {
   "cell_type": "code",
   "execution_count": 159,
   "metadata": {},
   "outputs": [
    {
     "name": "stdout",
     "output_type": "stream",
     "text": [
      "[np.float64(0.7811074732923107), np.float64(0.42602553654535447), np.float64(0.3370785960436855), np.float64(0.4225742806604089), np.float64(0.17750753035417519)]\n",
      "[np.float64(2.5559583373020067), np.float64(2.1449893682804095), np.float64(1.1317699079657495), np.float64(0.664792763097355), np.float64(0.31561312193846874)]\n"
     ]
    }
   ],
   "source": [
    "lower_bounds_brits_ICUType_3_subgroup, upper_bounds_brits_ICUType_3_subgroup = toolkits.calc_lower_and_upper_bound_percentile(results_bootstrap_brits_ICUType_3_subgroup)\n",
    "\n",
    "print(lower_bounds_brits_ICUType_3_subgroup)\n",
    "print(upper_bounds_brits_ICUType_3_subgroup)"
   ]
  },
  {
   "cell_type": "markdown",
   "metadata": {},
   "source": [
    "#### Mean values of lower bound and upper bound"
   ]
  },
  {
   "cell_type": "code",
   "execution_count": 160,
   "metadata": {},
   "outputs": [
    {
     "name": "stdout",
     "output_type": "stream",
     "text": [
      "[np.float64(1.6685329052971587), np.float64(1.285507452412882), np.float64(0.7344242520047175), np.float64(0.543683521878882), np.float64(0.24656032614632195)]\n"
     ]
    }
   ],
   "source": [
    "mean_values_ci_brits_ICUType_3_subgroup  = toolkits.calc_mean_values_ci(lower_bounds_brits_ICUType_3_subgroup, upper_bounds_brits_ICUType_3_subgroup)\n",
    "\n",
    "print(mean_values_ci_brits_ICUType_3_subgroup)"
   ]
  },
  {
   "cell_type": "markdown",
   "metadata": {},
   "source": [
    "### Confidence Interval (ICUType 4 subgroup)"
   ]
  },
  {
   "cell_type": "markdown",
   "metadata": {},
   "source": [
    "#### Distribution Bootstrap for the Top 5 variables with Largest Differences in MAE (Mean Absolute Error) "
   ]
  },
  {
   "cell_type": "code",
   "execution_count": 161,
   "metadata": {},
   "outputs": [],
   "source": [
    "indices = [28, 0, 6, 31, 32]\n",
    "\n",
    "results_bootstrap_brits_ICUType_4_subgroup = []\n",
    "\n",
    "for i in indices:\n",
    "       results_bootstrap_brits_ICUType_4_subgroup.append(toolkits.bootstrap(testing_ae_brits_variables_standard, indicating_mask_variable_standard_norm, 9, i, 9000))\n",
    "\n"
   ]
  },
  {
   "cell_type": "markdown",
   "metadata": {},
   "source": [
    "#### Calculating the mean and standard deviation of the bootstrap distribution"
   ]
  },
  {
   "cell_type": "code",
   "execution_count": 162,
   "metadata": {},
   "outputs": [
    {
     "name": "stdout",
     "output_type": "stream",
     "text": [
      "[np.float64(0.44306473111336137), np.float64(0.4912011878544669), np.float64(0.7287297527366805), np.float64(0.692426181621937), np.float64(0.18026286324155796)]\n",
      "[np.float64(0.0935566892280583), np.float64(0.08074364451634707), np.float64(0.2681495472441715), np.float64(0.2724504216824265), np.float64(0.022189091660584512)]\n"
     ]
    }
   ],
   "source": [
    "means_bootstraps_brits_ICUType_4_subgroup, standards_deviations_brits_ICUType_4_subgroup = toolkits.calc_mean_and_standard_deviation(results_bootstrap_brits_ICUType_4_subgroup)\n",
    "\n",
    "print(means_bootstraps_brits_ICUType_4_subgroup)\n",
    "print(standards_deviations_brits_ICUType_4_subgroup)\n"
   ]
  },
  {
   "cell_type": "markdown",
   "metadata": {},
   "source": [
    "#### Calculating lower bound and upper bound"
   ]
  },
  {
   "cell_type": "code",
   "execution_count": 163,
   "metadata": {},
   "outputs": [
    {
     "name": "stdout",
     "output_type": "stream",
     "text": [
      "[np.float64(0.25969698971356064), np.float64(0.33294655262192163), np.float64(0.2031662976673827), np.float64(0.1584331675516304), np.float64(0.13677304273715427)]\n",
      "[np.float64(0.626432472513162), np.float64(0.6494558230870122), np.float64(1.2542932078059783), np.float64(1.2264191956922437), np.float64(0.22375268374596166)]\n"
     ]
    }
   ],
   "source": [
    "lower_bounds_brits_ICUType_4_subgroup, upper_bounds_brits_ICUType_4_subgroup = toolkits.calc_lower_and_upper_bound(results_bootstrap_brits_ICUType_4_subgroup, means_bootstraps_brits_ICUType_4_subgroup, standards_deviations_brits_ICUType_4_subgroup)\n",
    "\n",
    "print(lower_bounds_brits_ICUType_4_subgroup)\n",
    "print(upper_bounds_brits_ICUType_4_subgroup)"
   ]
  },
  {
   "cell_type": "code",
   "execution_count": 164,
   "metadata": {},
   "outputs": [
    {
     "name": "stdout",
     "output_type": "stream",
     "text": [
      "[np.float64(0.2865496885836767), np.float64(0.34462669540294605), np.float64(0.22052486820293912), np.float64(0.031016071654553733), np.float64(0.13675082536379823)]\n",
      "[np.float64(0.6531075788873016), np.float64(0.6642258024673423), np.float64(1.2816077240763408), np.float64(1.1697815665096722), np.float64(0.22392540460300034)]\n"
     ]
    }
   ],
   "source": [
    "lower_bounds_brits_ICUType_4_subgroup, upper_bounds_brits_ICUType_4_subgroup = toolkits.calc_lower_and_upper_bound_percentile(results_bootstrap_brits_ICUType_4_subgroup)\n",
    "\n",
    "print(lower_bounds_brits_ICUType_4_subgroup)\n",
    "print(upper_bounds_brits_ICUType_4_subgroup)"
   ]
  },
  {
   "cell_type": "markdown",
   "metadata": {},
   "source": [
    "#### Mean values of lower bound and upper bound"
   ]
  },
  {
   "cell_type": "code",
   "execution_count": 165,
   "metadata": {},
   "outputs": [
    {
     "name": "stdout",
     "output_type": "stream",
     "text": [
      "[np.float64(0.46982863373548917), np.float64(0.5044262489351442), np.float64(0.7510662961396399), np.float64(0.600398819082113), np.float64(0.1803381149833993)]\n"
     ]
    }
   ],
   "source": [
    "mean_values_ci_brits_ICUType_4_subgroup  = toolkits.calc_mean_values_ci(lower_bounds_brits_ICUType_4_subgroup, upper_bounds_brits_ICUType_4_subgroup)\n",
    "\n",
    "print(mean_values_ci_brits_ICUType_4_subgroup)"
   ]
  },
  {
   "cell_type": "markdown",
   "metadata": {},
   "source": [
    "### Confidence Interval (Undefined classification subgroup)"
   ]
  },
  {
   "cell_type": "markdown",
   "metadata": {},
   "source": [
    "#### Distribution Bootstrap for the Top 5 variables with Largest Differences in MAE (Mean Absolute Error) "
   ]
  },
  {
   "cell_type": "code",
   "execution_count": 166,
   "metadata": {},
   "outputs": [],
   "source": [
    "indices = [0, 6, 32, 31, 5]\n",
    "\n",
    "results_bootstrap_brits_undefined_classification_subgroup = []\n",
    "\n",
    "for i in indices:\n",
    "       results_bootstrap_brits_undefined_classification_subgroup.append(toolkits.bootstrap(testing_ae_brits_variables_standard, indicating_mask_variable_standard_norm, 10, i, 9000))\n",
    "\n"
   ]
  },
  {
   "cell_type": "markdown",
   "metadata": {},
   "source": [
    "#### Calculating the mean and standard deviation of the bootstrap distribution"
   ]
  },
  {
   "cell_type": "code",
   "execution_count": 167,
   "metadata": {},
   "outputs": [
    {
     "name": "stdout",
     "output_type": "stream",
     "text": [
      "[np.float64(0.4068612373822693), np.float64(0.5736205115093942), np.float64(0.275919003680376), np.float64(0.8430104136478819), np.float64(0.4131966854604587)]\n",
      "[np.float64(0.05986934359644469), np.float64(0.17840974136243826), np.float64(0.044640773548291844), np.float64(0.2853216956527157), np.float64(0.12549413739177268)]\n"
     ]
    }
   ],
   "source": [
    "means_bootstraps_brits_undefined_classification_subgroup, standards_deviations_brits_undefined_classification_subgroup = toolkits.calc_mean_and_standard_deviation(results_bootstrap_brits_undefined_classification_subgroup)\n",
    "\n",
    "print(means_bootstraps_brits_undefined_classification_subgroup)\n",
    "print(standards_deviations_brits_undefined_classification_subgroup)\n"
   ]
  },
  {
   "cell_type": "markdown",
   "metadata": {},
   "source": [
    "#### Calculating lower bound and upper bound"
   ]
  },
  {
   "cell_type": "code",
   "execution_count": 168,
   "metadata": {},
   "outputs": [
    {
     "name": "stdout",
     "output_type": "stream",
     "text": [
      "[np.float64(0.28951948015518403), np.float64(0.22394384394790923), np.float64(0.18842469528371564), np.float64(0.28379016616066055), np.float64(0.16723269590166293)]\n",
      "[np.float64(0.5242029946093546), np.float64(0.9232971790708792), np.float64(0.3634133120770363), np.float64(1.4022306611351032), np.float64(0.6591606750192545)]\n"
     ]
    }
   ],
   "source": [
    "lower_bounds_brits_undefined_classification_subgroup, upper_bounds_brits_undefined_classification_subgroup = toolkits.calc_lower_and_upper_bound(results_bootstrap_brits_undefined_classification_subgroup, means_bootstraps_brits_undefined_classification_subgroup, standards_deviations_brits_undefined_classification_subgroup)\n",
    "\n",
    "print(lower_bounds_brits_undefined_classification_subgroup)\n",
    "print(upper_bounds_brits_undefined_classification_subgroup)"
   ]
  },
  {
   "cell_type": "code",
   "execution_count": 169,
   "metadata": {},
   "outputs": [
    {
     "name": "stdout",
     "output_type": "stream",
     "text": [
      "[np.float64(0.2979609801580593), np.float64(0.24726862471409536), np.float64(0.2040999395523388), np.float64(0.40619839098934485), np.float64(0.2171298071300369)]\n",
      "[np.float64(0.5319916259081999), np.float64(0.9465467461362519), np.float64(0.3763968339372512), np.float64(1.4766778181071094), np.float64(0.6956717509434502)]\n"
     ]
    }
   ],
   "source": [
    "lower_bounds_brits_undefined_classification_subgroup, upper_bounds_brits_undefined_classification_subgroup = toolkits.calc_lower_and_upper_bound_percentile(results_bootstrap_brits_undefined_classification_subgroup)\n",
    "\n",
    "print(lower_bounds_brits_undefined_classification_subgroup)\n",
    "print(upper_bounds_brits_undefined_classification_subgroup)"
   ]
  },
  {
   "cell_type": "markdown",
   "metadata": {},
   "source": [
    "#### Mean values of lower bound and upper bound"
   ]
  },
  {
   "cell_type": "code",
   "execution_count": 170,
   "metadata": {},
   "outputs": [
    {
     "name": "stdout",
     "output_type": "stream",
     "text": [
      "[np.float64(0.4149763030331296), np.float64(0.5969076854251736), np.float64(0.29024838674479503), np.float64(0.9414381045482272), np.float64(0.4564007790367436)]\n"
     ]
    }
   ],
   "source": [
    "mean_values_ci_brits_undefined_classification_subgroup  = toolkits.calc_mean_values_ci(lower_bounds_brits_undefined_classification_subgroup, upper_bounds_brits_undefined_classification_subgroup)\n",
    "\n",
    "print(mean_values_ci_brits_undefined_classification_subgroup)"
   ]
  },
  {
   "cell_type": "markdown",
   "metadata": {},
   "source": [
    "### Confidence Interval (Low weight classification subgroup)"
   ]
  },
  {
   "cell_type": "markdown",
   "metadata": {},
   "source": [
    "#### Distribution Bootstrap for the Top 5 variables with Largest Differences in MAE (Mean Absolute Error) "
   ]
  },
  {
   "cell_type": "code",
   "execution_count": 171,
   "metadata": {},
   "outputs": [],
   "source": [
    "indices = [0, 6, 32, 31, 5]\n",
    "\n",
    "results_bootstrap_brits_low_weight_classification_subgroup = []\n",
    "\n",
    "for i in indices:\n",
    "       results_bootstrap_brits_low_weight_classification_subgroup.append(toolkits.bootstrap(testing_ae_brits_variables_standard, indicating_mask_variable_standard_norm, 11, i, 9000))\n",
    "\n"
   ]
  },
  {
   "cell_type": "markdown",
   "metadata": {},
   "source": [
    "#### Calculating the mean and standard deviation of the bootstrap distribution"
   ]
  },
  {
   "cell_type": "code",
   "execution_count": 172,
   "metadata": {},
   "outputs": [
    {
     "name": "stdout",
     "output_type": "stream",
     "text": [
      "[np.float64(2.0122806935650077), np.float64(0.06933332178741825), np.float64(0.4104061358032636), np.float64(0.0), np.float64(1.4606367473586466)]\n",
      "[np.float64(1.666676645356208), np.float64(0.05309602591127397), np.float64(0.3139178166078663), np.float64(0.0), np.float64(1.2916342659860158)]\n"
     ]
    }
   ],
   "source": [
    "means_bootstraps_brits_low_weight_classification_subgroup, standards_deviations_brits_low_weight_classification_subgroup = toolkits.calc_mean_and_standard_deviation(results_bootstrap_brits_low_weight_classification_subgroup)\n",
    "\n",
    "print(means_bootstraps_brits_low_weight_classification_subgroup)\n",
    "print(standards_deviations_brits_low_weight_classification_subgroup)\n"
   ]
  },
  {
   "cell_type": "markdown",
   "metadata": {},
   "source": [
    "#### Calculating lower bound and upper bound"
   ]
  },
  {
   "cell_type": "code",
   "execution_count": 173,
   "metadata": {},
   "outputs": [
    {
     "name": "stdout",
     "output_type": "stream",
     "text": [
      "[np.float64(-1.2543455052071963), np.float64(-0.03473297672088424), np.float64(-0.2048614788536039), np.float64(0.0), np.float64(-1.070919895171773)]\n",
      "[np.float64(5.278906892337211), np.float64(0.17339962029572073), np.float64(1.0256737504601312), np.float64(0.0), np.float64(3.9921933898890662)]\n"
     ]
    }
   ],
   "source": [
    "lower_bounds_brits_low_weight_classification_subgroup, upper_bounds_brits_low_weight_classification_subgroup = toolkits.calc_lower_and_upper_bound(results_bootstrap_brits_low_weight_classification_subgroup, means_bootstraps_brits_low_weight_classification_subgroup, standards_deviations_brits_low_weight_classification_subgroup)\n",
    "\n",
    "print(lower_bounds_brits_low_weight_classification_subgroup)\n",
    "print(upper_bounds_brits_low_weight_classification_subgroup)"
   ]
  },
  {
   "cell_type": "code",
   "execution_count": 174,
   "metadata": {},
   "outputs": [
    {
     "name": "stdout",
     "output_type": "stream",
     "text": [
      "[np.float64(0.0), np.float64(0.0), np.float64(0.0), np.float64(0.0), np.float64(0.020133205116918334)]\n",
      "[np.float64(4.413896351691468), np.float64(0.10999469347559115), np.float64(0.6505204688677284), np.float64(0.0), np.float64(4.452386787366754)]\n"
     ]
    }
   ],
   "source": [
    "lower_bounds_brits_low_weight_classification_subgroup, upper_bounds_brits_low_weight_classification_subgroup = toolkits.calc_lower_and_upper_bound_percentile(results_bootstrap_brits_low_weight_classification_subgroup)\n",
    "\n",
    "print(lower_bounds_brits_low_weight_classification_subgroup)\n",
    "print(upper_bounds_brits_low_weight_classification_subgroup)"
   ]
  },
  {
   "cell_type": "markdown",
   "metadata": {},
   "source": [
    "#### Mean values of lower bound and upper bound"
   ]
  },
  {
   "cell_type": "code",
   "execution_count": 175,
   "metadata": {},
   "outputs": [
    {
     "name": "stdout",
     "output_type": "stream",
     "text": [
      "[np.float64(2.206948175845734), np.float64(0.05499734673779558), np.float64(0.3252602344338642), np.float64(0.0), np.float64(2.236259996241836)]\n"
     ]
    }
   ],
   "source": [
    "mean_values_ci_brits_low_weight_classification_subgroup  = toolkits.calc_mean_values_ci(lower_bounds_brits_low_weight_classification_subgroup, upper_bounds_brits_low_weight_classification_subgroup)\n",
    "\n",
    "print(mean_values_ci_brits_low_weight_classification_subgroup)"
   ]
  },
  {
   "cell_type": "markdown",
   "metadata": {},
   "source": [
    "### Confidence Interval (Normal weight classification subgroup)"
   ]
  },
  {
   "cell_type": "markdown",
   "metadata": {},
   "source": [
    "#### Distribution Bootstrap for the Top 5 variables with Largest Differences in MAE (Mean Absolute Error) "
   ]
  },
  {
   "cell_type": "code",
   "execution_count": 176,
   "metadata": {},
   "outputs": [],
   "source": [
    "indices = [0, 6, 32, 31, 5]\n",
    "\n",
    "results_bootstrap_brits_normal_weight_classification_subgroup = []\n",
    "\n",
    "for i in indices:\n",
    "       results_bootstrap_brits_normal_weight_classification_subgroup.append(toolkits.bootstrap(testing_ae_brits_variables_standard, indicating_mask_variable_standard_norm, 12, i, 9000))\n",
    "\n"
   ]
  },
  {
   "cell_type": "markdown",
   "metadata": {},
   "source": [
    "#### Calculating the mean and standard deviation of the bootstrap distribution"
   ]
  },
  {
   "cell_type": "code",
   "execution_count": 177,
   "metadata": {},
   "outputs": [
    {
     "name": "stdout",
     "output_type": "stream",
     "text": [
      "[np.float64(0.548686639105505), np.float64(0.7625897872503594), np.float64(0.24931976137388573), np.float64(0.5648888072341054), np.float64(0.5232857652420211)]\n",
      "[np.float64(0.12623025707018218), np.float64(0.3731308327837512), np.float64(0.07341434562099826), np.float64(0.089947135630567), np.float64(0.2013724566774524)]\n"
     ]
    }
   ],
   "source": [
    "means_bootstraps_brits_normal_weight_classification_subgroup, standards_deviations_brits_normal_weight_classification_subgroup = toolkits.calc_mean_and_standard_deviation(results_bootstrap_brits_normal_weight_classification_subgroup)\n",
    "\n",
    "print(means_bootstraps_brits_normal_weight_classification_subgroup)\n",
    "print(standards_deviations_brits_normal_weight_classification_subgroup)\n"
   ]
  },
  {
   "cell_type": "markdown",
   "metadata": {},
   "source": [
    "#### Calculating lower bound and upper bound"
   ]
  },
  {
   "cell_type": "code",
   "execution_count": 178,
   "metadata": {},
   "outputs": [
    {
     "name": "stdout",
     "output_type": "stream",
     "text": [
      "[np.float64(0.3012798814887154), np.float64(0.03126679347276984), np.float64(0.10543028800815332), np.float64(0.38859566088565467), np.float64(0.12860300267586205)]\n",
      "[np.float64(0.7960933967222945), np.float64(1.4939127810279489), np.float64(0.3932092347396181), np.float64(0.7411819535825561), np.float64(0.9179685278081802)]\n"
     ]
    }
   ],
   "source": [
    "lower_bounds_brits_normal_weight_classification_subgroup, upper_bounds_brits_normal_weight_classification_subgroup = toolkits.calc_lower_and_upper_bound(results_bootstrap_brits_normal_weight_classification_subgroup, means_bootstraps_brits_normal_weight_classification_subgroup, standards_deviations_brits_normal_weight_classification_subgroup)\n",
    "\n",
    "print(lower_bounds_brits_normal_weight_classification_subgroup)\n",
    "print(upper_bounds_brits_normal_weight_classification_subgroup)"
   ]
  },
  {
   "cell_type": "code",
   "execution_count": 179,
   "metadata": {},
   "outputs": [
    {
     "name": "stdout",
     "output_type": "stream",
     "text": [
      "[np.float64(0.34098181461031984), np.float64(0.0), np.float64(0.13019003204955729), np.float64(0.3943044247772959), np.float64(0.20193025625589317)]\n",
      "[np.float64(0.822822162147693), np.float64(1.1889972866535945), np.float64(0.41316823841970496), np.float64(0.7470447554607124), np.float64(0.9848085395794249)]\n"
     ]
    }
   ],
   "source": [
    "lower_bounds_brits_normal_weight_classification_subgroup, upper_bounds_brits_normal_weight_classification_subgroup = toolkits.calc_lower_and_upper_bound_percentile(results_bootstrap_brits_normal_weight_classification_subgroup)\n",
    "\n",
    "print(lower_bounds_brits_normal_weight_classification_subgroup)\n",
    "print(upper_bounds_brits_normal_weight_classification_subgroup)"
   ]
  },
  {
   "cell_type": "markdown",
   "metadata": {},
   "source": [
    "#### Mean values of lower bound and upper bound"
   ]
  },
  {
   "cell_type": "code",
   "execution_count": 180,
   "metadata": {},
   "outputs": [
    {
     "name": "stdout",
     "output_type": "stream",
     "text": [
      "[np.float64(0.5819019883790064), np.float64(0.5944986433267972), np.float64(0.2716791352346311), np.float64(0.5706745901190041), np.float64(0.5933693979176591)]\n"
     ]
    }
   ],
   "source": [
    "mean_values_ci_brits_normal_weight_classification_subgroup  = toolkits.calc_mean_values_ci(lower_bounds_brits_normal_weight_classification_subgroup, upper_bounds_brits_normal_weight_classification_subgroup)\n",
    "\n",
    "print(mean_values_ci_brits_normal_weight_classification_subgroup)"
   ]
  },
  {
   "cell_type": "markdown",
   "metadata": {},
   "source": [
    "### Confidence Interval (Overweight classification subgroup)"
   ]
  },
  {
   "cell_type": "markdown",
   "metadata": {},
   "source": [
    "#### Distribution Bootstrap for the Top 5 variables with Largest Differences in MAE (Mean Absolute Error) "
   ]
  },
  {
   "cell_type": "code",
   "execution_count": 181,
   "metadata": {},
   "outputs": [],
   "source": [
    "indices = [0, 6, 32, 31, 5]\n",
    "\n",
    "results_bootstrap_brits_overweight_classification_subgroup = []\n",
    "\n",
    "for i in indices:\n",
    "       results_bootstrap_brits_overweight_classification_subgroup.append(toolkits.bootstrap(testing_ae_brits_variables_standard, indicating_mask_variable_standard_norm, 13, i, 9000))\n",
    "\n"
   ]
  },
  {
   "cell_type": "markdown",
   "metadata": {},
   "source": [
    "#### Calculating the mean and standard deviation of the bootstrap distribution"
   ]
  },
  {
   "cell_type": "code",
   "execution_count": 182,
   "metadata": {},
   "outputs": [
    {
     "name": "stdout",
     "output_type": "stream",
     "text": [
      "[np.float64(0.2797503039647862), np.float64(1.4869184261643544), np.float64(0.44444907661681887), np.float64(1.0414359325082165), np.float64(0.1969866594273391)]\n",
      "[np.float64(0.05690905629749502), np.float64(0.2748051570149171), np.float64(0.190452089816047), np.float64(0.5659200713279424), np.float64(0.06465085722820384)]\n"
     ]
    }
   ],
   "source": [
    "means_bootstraps_brits_overweight_classification_subgroup, standards_deviations_brits_overweight_classification_subgroup = toolkits.calc_mean_and_standard_deviation(results_bootstrap_brits_overweight_classification_subgroup)\n",
    "\n",
    "print(means_bootstraps_brits_overweight_classification_subgroup)\n",
    "print(standards_deviations_brits_overweight_classification_subgroup)\n"
   ]
  },
  {
   "cell_type": "markdown",
   "metadata": {},
   "source": [
    "#### Calculating lower bound and upper bound"
   ]
  },
  {
   "cell_type": "code",
   "execution_count": 183,
   "metadata": {},
   "outputs": [
    {
     "name": "stdout",
     "output_type": "stream",
     "text": [
      "[np.float64(0.16821060322753356), np.float64(0.9483102156492423), np.float64(0.07116983979697916), np.float64(-0.06774702542288913), np.float64(0.07027330769041853)]\n",
      "[np.float64(0.3912900047020388), np.float64(2.0255266366794666), np.float64(0.8177283134366586), np.float64(2.150618890439322), np.float64(0.3237000111642596)]\n"
     ]
    }
   ],
   "source": [
    "lower_bounds_brits_overweight_classification_subgroup, upper_bounds_brits_overweight_classification_subgroup = toolkits.calc_lower_and_upper_bound(results_bootstrap_brits_overweight_classification_subgroup, means_bootstraps_brits_overweight_classification_subgroup, standards_deviations_brits_overweight_classification_subgroup)\n",
    "\n",
    "print(lower_bounds_brits_overweight_classification_subgroup)\n",
    "print(upper_bounds_brits_overweight_classification_subgroup)"
   ]
  },
  {
   "cell_type": "code",
   "execution_count": 184,
   "metadata": {},
   "outputs": [
    {
     "name": "stdout",
     "output_type": "stream",
     "text": [
      "[np.float64(0.18291051175428089), np.float64(0.9097202836560881), np.float64(0.14614286145696292), np.float64(0.3791864463768746), np.float64(0.10540658498615474)]\n",
      "[np.float64(0.40407734173253634), np.float64(1.9873488893468048), np.float64(0.8647336127806425), np.float64(2.277614098374932), np.float64(0.3472386410647299)]\n"
     ]
    }
   ],
   "source": [
    "lower_bounds_brits_overweight_classification_subgroup, upper_bounds_brits_overweight_classification_subgroup = toolkits.calc_lower_and_upper_bound_percentile(results_bootstrap_brits_overweight_classification_subgroup)\n",
    "\n",
    "print(lower_bounds_brits_overweight_classification_subgroup)\n",
    "print(upper_bounds_brits_overweight_classification_subgroup)"
   ]
  },
  {
   "cell_type": "markdown",
   "metadata": {},
   "source": [
    "#### Mean values of lower bound and upper bound"
   ]
  },
  {
   "cell_type": "code",
   "execution_count": 185,
   "metadata": {},
   "outputs": [
    {
     "name": "stdout",
     "output_type": "stream",
     "text": [
      "[np.float64(0.29349392674340863), np.float64(1.4485345865014465), np.float64(0.5054382371188028), np.float64(1.3284002723759034), np.float64(0.22632261302544232)]\n"
     ]
    }
   ],
   "source": [
    "mean_values_ci_brits_overweight_classification_subgroup  = toolkits.calc_mean_values_ci(lower_bounds_brits_overweight_classification_subgroup, upper_bounds_brits_overweight_classification_subgroup)\n",
    "\n",
    "print(mean_values_ci_brits_overweight_classification_subgroup)"
   ]
  },
  {
   "cell_type": "markdown",
   "metadata": {},
   "source": [
    "### Confidence Interval (Obesity 1 classification subgroup)"
   ]
  },
  {
   "cell_type": "markdown",
   "metadata": {},
   "source": [
    "#### Distribution Bootstrap for the Top 5 variables with Largest Differences in MAE (Mean Absolute Error) "
   ]
  },
  {
   "cell_type": "code",
   "execution_count": 186,
   "metadata": {},
   "outputs": [],
   "source": [
    "indices = [0, 6, 32, 31, 5]\n",
    "\n",
    "results_bootstrap_brits_obs1_classification_subgroup = []\n",
    "\n",
    "for i in indices:\n",
    "       results_bootstrap_brits_obs1_classification_subgroup.append(toolkits.bootstrap(testing_ae_brits_variables_standard, indicating_mask_variable_standard_norm, 14, i, 9000))\n",
    "\n"
   ]
  },
  {
   "cell_type": "markdown",
   "metadata": {},
   "source": [
    "#### Calculating the mean and standard deviation of the bootstrap distribution"
   ]
  },
  {
   "cell_type": "code",
   "execution_count": 187,
   "metadata": {},
   "outputs": [
    {
     "name": "stdout",
     "output_type": "stream",
     "text": [
      "[np.float64(0.30729431457159123), np.float64(0.49879057873455573), np.float64(0.27486455646945995), np.float64(0.4929731039694339), np.float64(0.40518847013824805)]\n",
      "[np.float64(0.05798396274724235), np.float64(0.25089896187847854), np.float64(0.08655489332963262), np.float64(0.19483046174517651), np.float64(0.12094499608671105)]\n"
     ]
    }
   ],
   "source": [
    "means_bootstraps_brits_obs1_classification_subgroup, standards_deviations_brits_obs1_classification_subgroup = toolkits.calc_mean_and_standard_deviation(results_bootstrap_brits_obs1_classification_subgroup)\n",
    "\n",
    "print(means_bootstraps_brits_obs1_classification_subgroup)\n",
    "print(standards_deviations_brits_obs1_classification_subgroup)\n"
   ]
  },
  {
   "cell_type": "markdown",
   "metadata": {},
   "source": [
    "#### Calculating lower bound and upper bound"
   ]
  },
  {
   "cell_type": "code",
   "execution_count": 188,
   "metadata": {},
   "outputs": [
    {
     "name": "stdout",
     "output_type": "stream",
     "text": [
      "[np.float64(0.19364783590608406), np.float64(0.0070376496942498035), np.float64(0.10522008285767387), np.float64(0.11111241585757914), np.float64(0.1681406336979566)]\n",
      "[np.float64(0.42094079323709843), np.float64(0.9905435077748617), np.float64(0.44450903008124604), np.float64(0.8748337920812886), np.float64(0.6422363065785395)]\n"
     ]
    }
   ],
   "source": [
    "lower_bounds_brits_obs1_classification_subgroup, upper_bounds_brits_obs1_classification_subgroup = toolkits.calc_lower_and_upper_bound(results_bootstrap_brits_obs1_classification_subgroup, means_bootstraps_brits_obs1_classification_subgroup, standards_deviations_brits_obs1_classification_subgroup)\n",
    "\n",
    "print(lower_bounds_brits_obs1_classification_subgroup)\n",
    "print(upper_bounds_brits_obs1_classification_subgroup)"
   ]
  },
  {
   "cell_type": "code",
   "execution_count": 189,
   "metadata": {},
   "outputs": [
    {
     "name": "stdout",
     "output_type": "stream",
     "text": [
      "[np.float64(0.2017864229804127), np.float64(0.0), np.float64(0.12255724300388852), np.float64(0.0), np.float64(0.2152851960298434)]\n",
      "[np.float64(0.4295377781988619), np.float64(1.0159483303577879), np.float64(0.4588269895582404), np.float64(0.621003118217197), np.float64(0.6770095865971394)]\n"
     ]
    }
   ],
   "source": [
    "lower_bounds_brits_obs1_classification_subgroup, upper_bounds_brits_obs1_classification_subgroup = toolkits.calc_lower_and_upper_bound_percentile(results_bootstrap_brits_obs1_classification_subgroup)\n",
    "\n",
    "print(lower_bounds_brits_obs1_classification_subgroup)\n",
    "print(upper_bounds_brits_obs1_classification_subgroup)"
   ]
  },
  {
   "cell_type": "markdown",
   "metadata": {},
   "source": [
    "#### Mean values of lower bound and upper bound"
   ]
  },
  {
   "cell_type": "code",
   "execution_count": 190,
   "metadata": {},
   "outputs": [
    {
     "name": "stdout",
     "output_type": "stream",
     "text": [
      "[np.float64(0.3156621005896373), np.float64(0.5079741651788939), np.float64(0.29069211628106445), np.float64(0.3105015591085985), np.float64(0.4461473913134914)]\n"
     ]
    }
   ],
   "source": [
    "mean_values_ci_brits_obs1_classification_subgroup  = toolkits.calc_mean_values_ci(lower_bounds_brits_obs1_classification_subgroup, upper_bounds_brits_obs1_classification_subgroup)\n",
    "\n",
    "print(mean_values_ci_brits_obs1_classification_subgroup)"
   ]
  },
  {
   "cell_type": "markdown",
   "metadata": {},
   "source": [
    "### Confidence Interval (Obesity 2 classification subgroup)"
   ]
  },
  {
   "cell_type": "markdown",
   "metadata": {},
   "source": [
    "#### Distribution Bootstrap for the Top 5 variables with Largest Differences in MAE (Mean Absolute Error) "
   ]
  },
  {
   "cell_type": "code",
   "execution_count": 191,
   "metadata": {},
   "outputs": [],
   "source": [
    "indices = [0, 6, 32, 31, 5]\n",
    "\n",
    "results_bootstrap_brits_obs2_classification_subgroup = []\n",
    "\n",
    "for i in indices:\n",
    "       results_bootstrap_brits_obs2_classification_subgroup.append(toolkits.bootstrap(testing_ae_brits_variables_standard, indicating_mask_variable_standard_norm, 15, i, 9000))\n",
    "\n"
   ]
  },
  {
   "cell_type": "markdown",
   "metadata": {},
   "source": [
    "#### Calculating the mean and standard deviation of the bootstrap distribution"
   ]
  },
  {
   "cell_type": "code",
   "execution_count": 192,
   "metadata": {},
   "outputs": [
    {
     "name": "stdout",
     "output_type": "stream",
     "text": [
      "[np.float64(0.2566297935741156), np.float64(0.12596516024051657), np.float64(1.3961240813101228), np.float64(0.0), np.float64(0.2858736875756382)]\n",
      "[np.float64(0.049002577704985846), np.float64(0.09598273849535295), np.float64(1.0268585416236724), np.float64(0.0), np.float64(0.13790114187609237)]\n"
     ]
    }
   ],
   "source": [
    "means_bootstraps_brits_obs2_classification_subgroup, standards_deviations_brits_obs2_classification_subgroup = toolkits.calc_mean_and_standard_deviation(results_bootstrap_brits_obs2_classification_subgroup)\n",
    "\n",
    "print(means_bootstraps_brits_obs2_classification_subgroup)\n",
    "print(standards_deviations_brits_obs2_classification_subgroup)\n"
   ]
  },
  {
   "cell_type": "markdown",
   "metadata": {},
   "source": [
    "#### Calculating lower bound and upper bound"
   ]
  },
  {
   "cell_type": "code",
   "execution_count": 193,
   "metadata": {},
   "outputs": [
    {
     "name": "stdout",
     "output_type": "stream",
     "text": [
      "[np.float64(0.1605865061227179), np.float64(-0.062157550347901436), np.float64(-0.6164816774895991), np.float64(0.0), np.float64(0.015592416071548876)]\n",
      "[np.float64(0.35267308102551326), np.float64(0.3140878708289346), np.float64(3.408729840109845), np.float64(0.0), np.float64(0.5561549590797275)]\n"
     ]
    }
   ],
   "source": [
    "lower_bounds_brits_obs2_classification_subgroup, upper_bounds_brits_obs2_classification_subgroup = toolkits.calc_lower_and_upper_bound(results_bootstrap_brits_obs2_classification_subgroup, means_bootstraps_brits_obs2_classification_subgroup, standards_deviations_brits_obs2_classification_subgroup)\n",
    "\n",
    "print(lower_bounds_brits_obs2_classification_subgroup)\n",
    "print(upper_bounds_brits_obs2_classification_subgroup)"
   ]
  },
  {
   "cell_type": "code",
   "execution_count": 194,
   "metadata": {},
   "outputs": [
    {
     "name": "stdout",
     "output_type": "stream",
     "text": [
      "[np.float64(0.15852749748120876), np.float64(0.0), np.float64(0.0), np.float64(0.0), np.float64(0.10914732115072498)]\n",
      "[np.float64(0.35302742539780924), np.float64(0.1991019392632846), np.float64(3.5812912356313698), np.float64(0.0), np.float64(0.602445513613066)]\n"
     ]
    }
   ],
   "source": [
    "lower_bounds_brits_obs2_classification_subgroup, upper_bounds_brits_obs2_classification_subgroup = toolkits.calc_lower_and_upper_bound_percentile(results_bootstrap_brits_obs2_classification_subgroup)\n",
    "\n",
    "print(lower_bounds_brits_obs2_classification_subgroup)\n",
    "print(upper_bounds_brits_obs2_classification_subgroup)"
   ]
  },
  {
   "cell_type": "markdown",
   "metadata": {},
   "source": [
    "#### Mean values of lower bound and upper bound"
   ]
  },
  {
   "cell_type": "code",
   "execution_count": 195,
   "metadata": {},
   "outputs": [
    {
     "name": "stdout",
     "output_type": "stream",
     "text": [
      "[np.float64(0.25577746143950897), np.float64(0.0995509696316423), np.float64(1.7906456178156849), np.float64(0.0), np.float64(0.3557964173818955)]\n"
     ]
    }
   ],
   "source": [
    "mean_values_ci_brits_obs2_classification_subgroup  = toolkits.calc_mean_values_ci(lower_bounds_brits_obs2_classification_subgroup, upper_bounds_brits_obs2_classification_subgroup)\n",
    "\n",
    "print(mean_values_ci_brits_obs2_classification_subgroup)"
   ]
  },
  {
   "cell_type": "markdown",
   "metadata": {},
   "source": [
    "### Confidence Interval (Obesity 3 classification subgroup)"
   ]
  },
  {
   "cell_type": "markdown",
   "metadata": {},
   "source": [
    "#### Distribution Bootstrap for the Top 5 variables with Largest Differences in MAE (Mean Absolute Error) "
   ]
  },
  {
   "cell_type": "code",
   "execution_count": 196,
   "metadata": {},
   "outputs": [],
   "source": [
    "indices = [0, 6, 32, 31, 5]\n",
    "\n",
    "results_bootstrap_brits_obs3_classification_subgroup = []\n",
    "\n",
    "for i in indices:\n",
    "       results_bootstrap_brits_obs3_classification_subgroup.append(toolkits.bootstrap(testing_ae_brits_variables_standard, indicating_mask_variable_standard_norm, 16, i, 9000))\n",
    "\n"
   ]
  },
  {
   "cell_type": "markdown",
   "metadata": {},
   "source": [
    "#### Calculating the mean and standard deviation of the bootstrap distribution"
   ]
  },
  {
   "cell_type": "code",
   "execution_count": 197,
   "metadata": {},
   "outputs": [
    {
     "name": "stdout",
     "output_type": "stream",
     "text": [
      "[np.float64(0.15155417430747806), np.float64(0.0), np.float64(1.1593962687753612), np.float64(0.2442421185109458), np.float64(0.20886002502599546)]\n",
      "[np.float64(0.050281311239894225), np.float64(0.0), np.float64(0.8237478596037178), np.float64(0.19004214803335054), np.float64(0.12978497928121874)]\n"
     ]
    }
   ],
   "source": [
    "means_bootstraps_brits_obs3_classification_subgroup, standards_deviations_brits_obs3_classification_subgroup = toolkits.calc_mean_and_standard_deviation(results_bootstrap_brits_obs3_classification_subgroup)\n",
    "\n",
    "print(means_bootstraps_brits_obs3_classification_subgroup)\n",
    "print(standards_deviations_brits_obs3_classification_subgroup)\n"
   ]
  },
  {
   "cell_type": "markdown",
   "metadata": {},
   "source": [
    "#### Calculating lower bound and upper bound"
   ]
  },
  {
   "cell_type": "code",
   "execution_count": 198,
   "metadata": {},
   "outputs": [
    {
     "name": "stdout",
     "output_type": "stream",
     "text": [
      "[np.float64(0.05300461518183637), np.float64(0.0), np.float64(-0.4551198683898825), np.float64(-0.12823364717905072), np.float64(-0.045513860099470366)]\n",
      "[np.float64(0.25010373343311976), np.float64(0.0), np.float64(2.773912405940605), np.float64(0.6167178842009423), np.float64(0.4632339101514613)]\n"
     ]
    }
   ],
   "source": [
    "lower_bounds_brits_obs3_classification_subgroup, upper_bounds_brits_obs3_classification_subgroup = toolkits.calc_lower_and_upper_bound(results_bootstrap_brits_obs3_classification_subgroup, means_bootstraps_brits_obs3_classification_subgroup, standards_deviations_brits_obs3_classification_subgroup)\n",
    "\n",
    "print(lower_bounds_brits_obs3_classification_subgroup)\n",
    "print(upper_bounds_brits_obs3_classification_subgroup)"
   ]
  },
  {
   "cell_type": "code",
   "execution_count": 199,
   "metadata": {},
   "outputs": [
    {
     "name": "stdout",
     "output_type": "stream",
     "text": [
      "[np.float64(0.06726677849320917), np.float64(0.0), np.float64(0.15495381460601493), np.float64(0.0), np.float64(0.03269967207779254)]\n",
      "[np.float64(0.2607674007481455), np.float64(0.0), np.float64(2.983221065811697), np.float64(0.3921118563324046), np.float64(0.487857401911803)]\n"
     ]
    }
   ],
   "source": [
    "lower_bounds_brits_obs3_classification_subgroup, upper_bounds_brits_obs3_classification_subgroup = toolkits.calc_lower_and_upper_bound_percentile(results_bootstrap_brits_obs3_classification_subgroup)\n",
    "\n",
    "print(lower_bounds_brits_obs3_classification_subgroup)\n",
    "print(upper_bounds_brits_obs3_classification_subgroup)"
   ]
  },
  {
   "cell_type": "markdown",
   "metadata": {},
   "source": [
    "#### Mean values of lower bound and upper bound"
   ]
  },
  {
   "cell_type": "code",
   "execution_count": 200,
   "metadata": {},
   "outputs": [
    {
     "name": "stdout",
     "output_type": "stream",
     "text": [
      "[np.float64(0.16401708962067732), np.float64(0.0), np.float64(1.569087440208856), np.float64(0.1960559281662023), np.float64(0.26027853699479775)]\n"
     ]
    }
   ],
   "source": [
    "mean_values_ci_brits_obs3_classification_subgroup  = toolkits.calc_mean_values_ci(lower_bounds_brits_obs3_classification_subgroup, upper_bounds_brits_obs3_classification_subgroup)\n",
    "\n",
    "print(mean_values_ci_brits_obs3_classification_subgroup)"
   ]
  },
  {
   "cell_type": "markdown",
   "metadata": {},
   "source": [
    "## USGAN"
   ]
  },
  {
   "cell_type": "markdown",
   "metadata": {},
   "source": [
    "### Calculate MAE and AE"
   ]
  },
  {
   "cell_type": "code",
   "execution_count": null,
   "metadata": {},
   "outputs": [],
   "source": [
    "testing_mae_usgan_variables_standard, testing_ae_usgan_variables_standard = toolkits.calculate_mae(usgan_imputation_standard, test_X_ori_variable_standard_norm, indicating_mask_variable_standard_norm)"
   ]
  },
  {
   "cell_type": "markdown",
   "metadata": {},
   "source": [
    "### Taking the MAE difference for USGAN model"
   ]
  },
  {
   "cell_type": "markdown",
   "metadata": {},
   "source": [
    "#### Difference between gender group"
   ]
  },
  {
   "cell_type": "code",
   "execution_count": null,
   "metadata": {},
   "outputs": [
    {
     "data": {
      "text/plain": [
       "[('Cholesterol', 0.11396848832179907),\n",
       " ('K', 0.07962183727222638),\n",
       " ('Bilirubin', 0.07273530011716128),\n",
       " ('SaO2', 0.06724924437847979),\n",
       " ('AST', 0.06357150812579351)]"
      ]
     },
     "execution_count": 17,
     "metadata": {},
     "output_type": "execute_result"
    }
   ],
   "source": [
    "diff_usgan_gender_subgroup = toolkits.diff_mae_top_5(testing_mae_usgan_variables_standard, 1, 2, variables)\n",
    "diff_usgan_gender_subgroup"
   ]
  },
  {
   "cell_type": "markdown",
   "metadata": {},
   "source": [
    "#### Difference between age group"
   ]
  },
  {
   "cell_type": "code",
   "execution_count": null,
   "metadata": {},
   "outputs": [
    {
     "data": {
      "text/plain": [
       "[('Cholesterol', 1.4080332966852902),\n",
       " ('TroponinI', 1.2745449415570849),\n",
       " ('ALP', 0.46489726331108006),\n",
       " ('SaO2', 0.14584230629740058),\n",
       " ('Bilirubin', 0.14438651035533773)]"
      ]
     },
     "execution_count": 18,
     "metadata": {},
     "output_type": "execute_result"
    }
   ],
   "source": [
    "diff_usgan_age_subgroup = toolkits.diff_mae_top_5(testing_mae_usgan_variables_standard, 4, 5, variables)\n",
    "diff_usgan_age_subgroup"
   ]
  },
  {
   "cell_type": "markdown",
   "metadata": {},
   "source": [
    "#### Difference between ICUType group"
   ]
  },
  {
   "cell_type": "code",
   "execution_count": null,
   "metadata": {},
   "outputs": [],
   "source": [
    "diff_usgan_ICUType_1_2 = toolkits.diff_mae_top_5(testing_mae_usgan_variables_standard, 6, 7, variables)\n",
    "diff_usgan_ICUType_1_3 = toolkits.diff_mae_top_5(testing_mae_usgan_variables_standard, 6, 8, variables)\n",
    "diff_usgan_ICUType_1_4 = toolkits.diff_mae_top_5(testing_mae_usgan_variables_standard, 6, 9, variables)\n",
    "diff_usgan_ICUType_2_3 = toolkits.diff_mae_top_5(testing_mae_usgan_variables_standard, 7, 8, variables)\n",
    "diff_usgan_ICUType_2_4 = toolkits.diff_mae_top_5(testing_mae_usgan_variables_standard, 7, 9, variables)\n",
    "diff_usgan_ICUType_3_4 = toolkits.diff_mae_top_5(testing_mae_usgan_variables_standard, 8, 9, variables)"
   ]
  },
  {
   "cell_type": "code",
   "execution_count": null,
   "metadata": {},
   "outputs": [
    {
     "name": "stdout",
     "output_type": "stream",
     "text": [
      "Diferença(MAE) ICUType 1 e 2\n",
      "----------------------------\n",
      "[('Cholesterol', 1.968532838973082), ('TroponinT', 0.3139744935635816), ('TroponinI', 0.2476191651050459), ('Glucose', 0.17361770275953042), ('Temp', 0.15812872602883854)]\n",
      "----------------------------\n",
      "Diferença(MAE) ICUType 1 e 3\n",
      "----------------------------\n",
      "[('TroponinI', 1.054054323556795), ('ALP', 0.9588980980944308), ('SaO2', 0.9557847823462609), ('Cholesterol', 0.720808558519628), ('TroponinT', 0.3983027553119586)]\n",
      "----------------------------\n",
      "Diferença(MAE) ICUType 1 e 4\n",
      "----------------------------\n",
      "[('TroponinI', 0.8469546316747383), ('Cholesterol', 0.4515708800192406), ('TroponinT', 0.43928515289325093), ('ALP', 0.2595151866425361), ('Glucose', 0.1775868477420237)]\n",
      "----------------------------\n",
      "Diferença(MAE) ICUType 2 e 3\n",
      "[('Cholesterol', 2.68934139749271), ('TroponinI', 1.3016734886618408), ('ALP', 0.9781535556167317), ('SaO2', 0.8722191782384636), ('Temp', 0.2501181579286637)]\n",
      "----------------------------\n",
      "Diferença(MAE) ICUType 2 e 4\n",
      "----------------------------\n",
      "[('Cholesterol', 2.4201037189923227), ('TroponinI', 1.0945737967797842), ('ALP', 0.2787706441648369), ('Temp', 0.192911331632734), ('SaO2', 0.16631402582159843)]\n",
      "----------------------------\n",
      "Diferença(MAE) ICUType 3 e 4\n",
      "----------------------------\n",
      "[('SaO2', 1.038533204060062), ('ALP', 0.6993829114518948), ('Cholesterol', 0.2692376785003874), ('Glucose', 0.23938798803323758), ('K', 0.2083170965131868)]\n",
      "----------------------------\n"
     ]
    }
   ],
   "source": [
    "print(\"Diferença(MAE) ICUType 1 e 2\")\n",
    "print(\"----------------------------\")\n",
    "print(diff_usgan_ICUType_1_2)\n",
    "print(\"----------------------------\")\n",
    "print(\"Diferença(MAE) ICUType 1 e 3\")\n",
    "print(\"----------------------------\")\n",
    "print(diff_usgan_ICUType_1_3)\n",
    "print(\"----------------------------\")\n",
    "print(\"Diferença(MAE) ICUType 1 e 4\")\n",
    "print(\"----------------------------\")\n",
    "print(diff_usgan_ICUType_1_4)\n",
    "print(\"----------------------------\")\n",
    "print(\"Diferença(MAE) ICUType 2 e 3\")\n",
    "print(diff_usgan_ICUType_2_3)\n",
    "print(\"----------------------------\")\n",
    "print(\"Diferença(MAE) ICUType 2 e 4\")\n",
    "print(\"----------------------------\")\n",
    "print(diff_usgan_ICUType_2_4)\n",
    "print(\"----------------------------\")\n",
    "print(\"Diferença(MAE) ICUType 3 e 4\")\n",
    "print(\"----------------------------\")\n",
    "print(diff_usgan_ICUType_3_4)\n",
    "print(\"----------------------------\")"
   ]
  },
  {
   "cell_type": "code",
   "execution_count": null,
   "metadata": {},
   "outputs": [
    {
     "name": "stdout",
     "output_type": "stream",
     "text": [
      "Top 5 variáveis ICUType\n",
      "-----------------------\n",
      "Cholesterol\n",
      "TroponinI\n",
      "ALP\n",
      "SaO2\n",
      "TroponinT\n"
     ]
    }
   ],
   "source": [
    "print(\"Top 5 variáveis ICUType\")\n",
    "print(\"-----------------------\")\n",
    "print(variables[6])\n",
    "print(variables[31])\n",
    "print(variables[0])\n",
    "print(variables[28])\n",
    "print(variables[32])"
   ]
  },
  {
   "cell_type": "markdown",
   "metadata": {},
   "source": [
    "#### Difference between BMI group"
   ]
  },
  {
   "cell_type": "code",
   "execution_count": null,
   "metadata": {},
   "outputs": [],
   "source": [
    "diff_usgan_classification_undefined_low = toolkits.diff_mae_top_5(testing_mae_usgan_variables_standard, 10, 11, variables)\n",
    "diff_usgan_classification_undefined_normal = toolkits.diff_mae_top_5(testing_mae_usgan_variables_standard, 10, 12, variables)\n",
    "diff_usgan_classification_undefined_over = toolkits.diff_mae_top_5(testing_mae_usgan_variables_standard, 10, 13, variables)\n",
    "diff_usgan_classification_undefined_obs1 = toolkits.diff_mae_top_5(testing_mae_usgan_variables_standard, 10, 14, variables)\n",
    "diff_usgan_classification_undefined_obs2 = toolkits.diff_mae_top_5(testing_mae_usgan_variables_standard, 10, 15, variables)\n",
    "diff_usgan_classification_undefined_obs3 = toolkits.diff_mae_top_5(testing_mae_usgan_variables_standard, 10, 16, variables)\n",
    "\n",
    "diff_usgan_classification_low_normal = toolkits.diff_mae_top_5(testing_mae_usgan_variables_standard, 11, 12, variables)\n",
    "diff_usgan_classification_low_over = toolkits.diff_mae_top_5(testing_mae_usgan_variables_standard, 11, 13, variables)\n",
    "diff_usgan_classification_low_obs1 = toolkits.diff_mae_top_5(testing_mae_usgan_variables_standard, 11, 14, variables)\n",
    "diff_usgan_classification_low_obs2 = toolkits.diff_mae_top_5(testing_mae_usgan_variables_standard, 11, 15, variables)\n",
    "diff_usgan_classification_low_obs3 = toolkits.diff_mae_top_5(testing_mae_usgan_variables_standard, 11, 16, variables)\n",
    "\n",
    "diff_usgan_classification_normal_over = toolkits.diff_mae_top_5(testing_mae_usgan_variables_standard, 12, 13, variables)\n",
    "diff_usgan_classification_normal_obs1 = toolkits.diff_mae_top_5(testing_mae_usgan_variables_standard, 12, 14, variables)\n",
    "diff_usgan_classification_normal_obs2 = toolkits.diff_mae_top_5(testing_mae_usgan_variables_standard, 12, 15, variables)\n",
    "diff_usgan_classification_normal_obs3 = toolkits.diff_mae_top_5(testing_mae_usgan_variables_standard, 12, 16, variables)\n",
    "\n",
    "diff_usgan_classification_over_obs1 = toolkits.diff_mae_top_5(testing_mae_usgan_variables_standard, 13, 14, variables)\n",
    "diff_usgan_classification_over_obs2 = toolkits.diff_mae_top_5(testing_mae_usgan_variables_standard, 13, 15, variables)\n",
    "diff_usgan_classification_over_obs3 = toolkits.diff_mae_top_5(testing_mae_usgan_variables_standard, 13, 16, variables)\n",
    "\n",
    "\n",
    "diff_usgan_classification_obs1_obs2 = toolkits.diff_mae_top_5(testing_mae_usgan_variables_standard, 14, 15, variables)\n",
    "diff_usgan_classification_obs1_obs3 = toolkits.diff_mae_top_5(testing_mae_usgan_variables_standard, 14, 16, variables)\n",
    "\n",
    "diff_usgan_classification_obs2_obs3 = toolkits.diff_mae_top_5(testing_mae_usgan_variables_standard, 15, 16, variables)"
   ]
  },
  {
   "cell_type": "code",
   "execution_count": null,
   "metadata": {},
   "outputs": [
    {
     "name": "stdout",
     "output_type": "stream",
     "text": [
      "Diferença(MAE) Classification Undefined and low\n",
      "----------------------------\n",
      "[('ALP', 1.9859620009058019), ('TroponinI', 1.3663260793164698), ('Bilirubin', 1.0400217434134755), ('Cholesterol', 0.9605290481335007), ('SaO2', 0.3826989561208938)]\n",
      "----------------------------\n",
      "Diferença(MAE) Classification Undefined and normal\n",
      "----------------------------\n",
      "[('Cholesterol', 1.5579458557188144), ('TroponinI', 0.8172833755393478), ('SaO2', 0.5748494084312364), ('Platelets', 0.11877231573919644), ('ALP', 0.10391918734958416)]\n",
      "----------------------------\n",
      "Diferença(MAE) Classification Undefined and over\n",
      "----------------------------\n",
      "[('Cholesterol', 0.7813610757706175), ('TroponinI', 0.528914503705096), ('SaO2', 0.26335364804066497), ('TroponinT', 0.15046354582798027), ('Bilirubin', 0.13730852400659188)]\n",
      "----------------------------\n",
      "Diferença(MAE) Classification Undefined and obs1\n",
      "[('Cholesterol', 1.113359877891227), ('Ph', 0.8795575969438973), ('TroponinI', 0.5672432528016587), ('Albumin', 0.2786467655607161), ('SaO2', 0.2735275954584428)]\n",
      "----------------------------\n",
      "Diferença(MAE) Classification Undefined and obs2\n",
      "----------------------------\n",
      "[('TroponinI', 1.3663260793164698), ('TroponinT', 0.6737777799444177), ('Cholesterol', 0.6391969914775977), ('ALT', 0.2744827700291924), ('ALP', 0.2237296880176634)]\n",
      "----------------------------\n",
      "Diferença(MAE) ICUType Undefined and obs3\n",
      "----------------------------\n",
      "[('Cholesterol', 1.8585491972475146), ('TroponinT', 0.7477405243218648), ('TroponinI', 0.6635170907194801), ('ALT', 0.6527297267469226), ('Albumin', 0.19931578335806777)]\n",
      "----------------------------\n"
     ]
    }
   ],
   "source": [
    "print(\"Diferença(MAE) Classification Undefined and low\")\n",
    "print(\"----------------------------\")\n",
    "print(diff_usgan_classification_undefined_low)\n",
    "print(\"----------------------------\")\n",
    "print(\"Diferença(MAE) Classification Undefined and normal\")\n",
    "print(\"----------------------------\")\n",
    "print(diff_usgan_classification_undefined_normal)\n",
    "print(\"----------------------------\")\n",
    "print(\"Diferença(MAE) Classification Undefined and over\")\n",
    "print(\"----------------------------\")\n",
    "print(diff_usgan_classification_undefined_over)\n",
    "print(\"----------------------------\")\n",
    "print(\"Diferença(MAE) Classification Undefined and obs1\")\n",
    "print(diff_usgan_classification_undefined_obs1)\n",
    "print(\"----------------------------\")\n",
    "print(\"Diferença(MAE) Classification Undefined and obs2\")\n",
    "print(\"----------------------------\")\n",
    "print(diff_usgan_classification_undefined_obs2)\n",
    "print(\"----------------------------\")\n",
    "print(\"Diferença(MAE) ICUType Undefined and obs3\")\n",
    "print(\"----------------------------\")\n",
    "print(diff_usgan_classification_undefined_obs3)\n",
    "print(\"----------------------------\")"
   ]
  },
  {
   "cell_type": "code",
   "execution_count": null,
   "metadata": {},
   "outputs": [
    {
     "name": "stdout",
     "output_type": "stream",
     "text": [
      "Diferença(MAE) Classification low and normal\n",
      "----------------------------\n",
      "[('TroponinI', 2.1836094548558176), ('ALP', 1.8820428135562177), ('Bilirubin', 1.0046745883347163), ('SaO2', 0.9575483645521302), ('Cholesterol', 0.5974168075853137)]\n",
      "----------------------------\n",
      "Diferença(MAE) Classification low and over\n",
      "----------------------------\n",
      "[('ALP', 2.057108090815585), ('TroponinI', 1.8952405830215657), ('Cholesterol', 1.7418901239041182), ('Bilirubin', 1.1773302674200674), ('Glucose', 0.41411061578867114)]\n",
      "----------------------------\n",
      "Diferença(MAE) Classification low and obs1\n",
      "----------------------------\n",
      "[('ALP', 1.9622075950694193), ('TroponinI', 1.9335693321181284), ('Bilirubin', 1.2290397495761565), ('Ph', 0.8756933509066762), ('Glucose', 0.4445408934992038)]\n",
      "----------------------------\n",
      "Diferença(MAE) Classification low and obs2\n",
      "[('ALP', 2.2096916889234652), ('Bilirubin', 1.1530946428930196), ('TroponinT', 0.5311563166725247), ('HCO3', 0.38165713898274684), ('BUN', 0.3429542758853786)]\n",
      "----------------------------\n",
      "Diferença(MAE) Classification low and obs3\n",
      "----------------------------\n",
      "[('Cholesterol', 2.8190782453810153), ('TroponinI', 2.02984317003595), ('ALP', 2.0215464279724733), ('Bilirubin', 1.0929629742175906), ('TroponinT', 0.6051190610499718)]\n",
      "----------------------------\n"
     ]
    }
   ],
   "source": [
    "print(\"Diferença(MAE) Classification low and normal\")\n",
    "print(\"----------------------------\")\n",
    "print(diff_usgan_classification_low_normal)\n",
    "print(\"----------------------------\")\n",
    "print(\"Diferença(MAE) Classification low and over\")\n",
    "print(\"----------------------------\")\n",
    "print(diff_usgan_classification_low_over)\n",
    "print(\"----------------------------\")\n",
    "print(\"Diferença(MAE) Classification low and obs1\")\n",
    "print(\"----------------------------\")\n",
    "print(diff_usgan_classification_low_obs1)\n",
    "print(\"----------------------------\")\n",
    "print(\"Diferença(MAE) Classification low and obs2\")\n",
    "print(diff_usgan_classification_low_obs2)\n",
    "print(\"----------------------------\")\n",
    "print(\"Diferença(MAE) Classification low and obs3\")\n",
    "print(\"----------------------------\")\n",
    "print(diff_usgan_classification_low_obs3)\n",
    "print(\"----------------------------\")"
   ]
  },
  {
   "cell_type": "code",
   "execution_count": null,
   "metadata": {},
   "outputs": [
    {
     "name": "stdout",
     "output_type": "stream",
     "text": [
      "Diferença(MAE) Classification normal and over\n",
      "----------------------------\n",
      "[('Cholesterol', 2.339306931489432), ('SaO2', 0.8382030564719014), ('TroponinI', 0.28836887183425186), ('Lactate', 0.17658435332815797), ('ALP', 0.17506527725936732)]\n",
      "----------------------------\n",
      "Diferença(MAE) Classification normal and obs1\n",
      "----------------------------\n",
      "[('Ph', 0.8895493110798054), ('SaO2', 0.8483770038896792), ('Cholesterol', 0.44458597782758735), ('Albumin', 0.3456592406793608), ('TroponinI', 0.25004012273768916)]\n",
      "----------------------------\n",
      "Diferença(MAE) Classification normal and obs2\n",
      "----------------------------\n",
      "[('TroponinI', 2.1836094548558176), ('Cholesterol', 0.9187488642412167), ('SaO2', 0.7611965781906), ('TroponinT', 0.6853385828101566), ('ALP', 0.32764887536724757)]\n",
      "----------------------------\n",
      "Diferença(MAE) Classification normal and obs3\n",
      "[('Cholesterol', 3.416495052966329), ('TroponinT', 0.7593013271876037), ('SaO2', 0.6919062266464278), ('ALT', 0.6246717920178768), ('Albumin', 0.2663282584767125)]\n",
      "----------------------------\n"
     ]
    }
   ],
   "source": [
    "print(\"Diferença(MAE) Classification normal and over\")\n",
    "print(\"----------------------------\")\n",
    "print(diff_usgan_classification_normal_over)\n",
    "print(\"----------------------------\")\n",
    "print(\"Diferença(MAE) Classification normal and obs1\")\n",
    "print(\"----------------------------\")\n",
    "print(diff_usgan_classification_normal_obs1)\n",
    "print(\"----------------------------\")\n",
    "print(\"Diferença(MAE) Classification normal and obs2\")\n",
    "print(\"----------------------------\")\n",
    "print(diff_usgan_classification_normal_obs2)\n",
    "print(\"----------------------------\")\n",
    "print(\"Diferença(MAE) Classification normal and obs3\")\n",
    "print(diff_usgan_classification_normal_obs3)\n",
    "print(\"----------------------------\")"
   ]
  },
  {
   "cell_type": "code",
   "execution_count": null,
   "metadata": {},
   "outputs": [
    {
     "name": "stdout",
     "output_type": "stream",
     "text": [
      "Diferença(MAE) Classification over and obs1\n",
      "----------------------------\n",
      "[('Cholesterol', 1.8947209536618446), ('Ph', 0.8907999481313389), ('TroponinT', 0.3086857051131902), ('Albumin', 0.19249637129152009), ('ALP', 0.09490049574616588)]\n",
      "----------------------------\n",
      "Diferença(MAE) Classification over and obs2\n",
      "----------------------------\n",
      "[('TroponinI', 1.8952405830215657), ('Cholesterol', 1.4205580672482152), ('TroponinT', 0.5233142341164374), ('BUN', 0.22346096188397796), ('ALT', 0.16362555313936245)]\n",
      "----------------------------\n",
      "Diferença(MAE) Classification over and obs3\n",
      "----------------------------\n",
      "[('Cholesterol', 1.077188121476897), ('TroponinT', 0.5972769784938845), ('ALT', 0.5418725098570927), ('K', 0.15370072454147682), ('SaO2', 0.14629682982547365)]\n",
      "----------------------------\n"
     ]
    }
   ],
   "source": [
    "print(\"Diferença(MAE) Classification over and obs1\")\n",
    "print(\"----------------------------\")\n",
    "print(diff_usgan_classification_over_obs1)\n",
    "print(\"----------------------------\")\n",
    "print(\"Diferença(MAE) Classification over and obs2\")\n",
    "print(\"----------------------------\")\n",
    "print(diff_usgan_classification_over_obs2)\n",
    "print(\"----------------------------\")\n",
    "print(\"Diferença(MAE) Classification over and obs3\")\n",
    "print(\"----------------------------\")\n",
    "print(diff_usgan_classification_over_obs3)\n",
    "print(\"----------------------------\")"
   ]
  },
  {
   "cell_type": "code",
   "execution_count": null,
   "metadata": {},
   "outputs": [
    {
     "name": "stdout",
     "output_type": "stream",
     "text": [
      "Diferença(MAE) Classification obs1 and obs2 \n",
      "----------------------------\n",
      "[('TroponinI', 1.9335693321181284), ('Ph', 0.8942541473568749), ('TroponinT', 0.8319999392296276), ('Cholesterol', 0.47416288641362936), ('ALT', 0.25324161013363694)]\n",
      "----------------------------\n",
      "Diferença(MAE) Classification obs1 and obs3 \n",
      "----------------------------\n",
      "[('Cholesterol', 2.9719090751387416), ('TroponinT', 0.9059626836070747), ('Ph', 0.8849431181997474), ('ALT', 0.6314885668513672), ('SaO2', 0.15647077724325148)]\n",
      "----------------------------\n"
     ]
    }
   ],
   "source": [
    "print(\"Diferença(MAE) Classification obs1 and obs2 \")\n",
    "print(\"----------------------------\")\n",
    "print(diff_usgan_classification_obs1_obs2)\n",
    "print(\"----------------------------\")\n",
    "print(\"Diferença(MAE) Classification obs1 and obs3 \")\n",
    "print(\"----------------------------\")\n",
    "print(diff_usgan_classification_obs1_obs3)\n",
    "print(\"----------------------------\")"
   ]
  },
  {
   "cell_type": "code",
   "execution_count": null,
   "metadata": {},
   "outputs": [
    {
     "name": "stdout",
     "output_type": "stream",
     "text": [
      "Diferença(MAE) Classification obs2 and obs3 \n",
      "----------------------------\n",
      "[('Cholesterol', 2.4977461887251122), ('TroponinI', 2.02984317003595), ('ALT', 0.37824695671773023), ('ALP', 0.18814526095099215), ('BUN', 0.1542478468532586)]\n",
      "----------------------------\n"
     ]
    }
   ],
   "source": [
    "print(\"Diferença(MAE) Classification obs2 and obs3 \")\n",
    "print(\"----------------------------\")\n",
    "print(diff_usgan_classification_obs2_obs3)\n",
    "print(\"----------------------------\")"
   ]
  },
  {
   "cell_type": "code",
   "execution_count": null,
   "metadata": {},
   "outputs": [
    {
     "name": "stdout",
     "output_type": "stream",
     "text": [
      "Top 5 variáveis BMI\n",
      "-----------------------\n",
      "Cholesterol\n",
      "TroponinI\n",
      "ALP\n",
      "TroponinT\n",
      "Bilirubin\n"
     ]
    }
   ],
   "source": [
    "print(\"Top 5 variáveis BMI\")\n",
    "print(\"-----------------------\")\n",
    "print(variables[6])\n",
    "print(variables[31])\n",
    "print(variables[0])\n",
    "print(variables[32])\n",
    "print(variables[5])"
   ]
  },
  {
   "cell_type": "markdown",
   "metadata": {},
   "source": [
    "### Confidence Interval (Female Subgroup)"
   ]
  },
  {
   "cell_type": "markdown",
   "metadata": {},
   "source": [
    "#### Distribution Bootstrap for the Top 5 variables with Largest Differences in MAE (Mean Absolute Error) "
   ]
  },
  {
   "cell_type": "code",
   "execution_count": null,
   "metadata": {},
   "outputs": [],
   "source": [
    "indices = [6, 15, 5, 28, 2]\n",
    "\n",
    "results_bootstrap_usgan_female = []\n",
    "\n",
    "for i in indices:\n",
    "       results_bootstrap_usgan_female.append(toolkits.bootstrap(testing_ae_usgan_variables_standard, indicating_mask_variable_standard_norm, 1, i, 9000))"
   ]
  },
  {
   "cell_type": "markdown",
   "metadata": {},
   "source": [
    "#### Calculating the mean and standard deviation of the bootstrap distribution"
   ]
  },
  {
   "cell_type": "code",
   "execution_count": null,
   "metadata": {},
   "outputs": [
    {
     "name": "stdout",
     "output_type": "stream",
     "text": [
      "[np.float64(1.1862831276383659), np.float64(0.2997961472873614), np.float64(0.5235753507673425), np.float64(0.25226284763473317), np.float64(0.4254263754490005)]\n",
      "[np.float64(0.3381506628642691), np.float64(0.08322467917877542), np.float64(0.07193090333728737), np.float64(0.02436604729618584), np.float64(0.03851788865527756)]\n"
     ]
    }
   ],
   "source": [
    "means_bootstraps_usgan_female,standards_deviations_usgan_female = toolkits.calc_mean_and_standard_deviation(results_bootstrap_usgan_female)\n",
    "\n",
    "print(means_bootstraps_usgan_female)\n",
    "print(standards_deviations_usgan_female)\n"
   ]
  },
  {
   "cell_type": "markdown",
   "metadata": {},
   "source": [
    "#### Calculating lower bound and upper bound"
   ]
  },
  {
   "cell_type": "code",
   "execution_count": null,
   "metadata": {},
   "outputs": [
    {
     "name": "stdout",
     "output_type": "stream",
     "text": [
      "[np.float64(0.5235200070760525), np.float64(0.1366787734720611), np.float64(0.3825933708508273), np.float64(0.20450627248860936), np.float64(0.3499327009241326)]\n",
      "[np.float64(1.849046248200679), np.float64(0.46291352110266176), np.float64(0.6645573306838577), np.float64(0.30001942278085697), np.float64(0.5009200499738685)]\n"
     ]
    }
   ],
   "source": [
    "lower_bounds_usgan_female, upper_bounds_usgan_female = toolkits.calc_lower_and_upper_bound(results_bootstrap_usgan_female, means_bootstraps_usgan_female,standards_deviations_usgan_female)\n",
    "\n",
    "print(lower_bounds_usgan_female)\n",
    "print(upper_bounds_usgan_female)"
   ]
  },
  {
   "cell_type": "code",
   "execution_count": null,
   "metadata": {},
   "outputs": [],
   "source": [
    "lower_bounds_usgan_female, upper_bounds_usgan_female = toolkits.calc_lower_and_upper_bound_percentile(results_bootstrap_usgan_female)\n",
    "\n",
    "print(lower_bounds_usgan_female)\n",
    "print(upper_bounds_usgan_female)"
   ]
  },
  {
   "cell_type": "markdown",
   "metadata": {},
   "source": [
    "#### Mean values of lower bound and upper bound\n"
   ]
  },
  {
   "cell_type": "code",
   "execution_count": null,
   "metadata": {},
   "outputs": [
    {
     "name": "stdout",
     "output_type": "stream",
     "text": [
      "[np.float64(1.1862831276383659), np.float64(0.2997961472873614), np.float64(0.5235753507673425), np.float64(0.25226284763473317), np.float64(0.4254263754490005)]\n"
     ]
    }
   ],
   "source": [
    "mean_values_ci_usgan_female = toolkits.calc_mean_values_ci(lower_bounds_usgan_female, upper_bounds_usgan_female)\n",
    "\n",
    "print(mean_values_ci_usgan_female)"
   ]
  },
  {
   "cell_type": "markdown",
   "metadata": {},
   "source": [
    "### Confidence Interval (Male Subgroup)"
   ]
  },
  {
   "cell_type": "markdown",
   "metadata": {},
   "source": [
    "#### Distribution Bootstrap for the Top 5 variables with Largest Differences in MAE (Mean Absolute Error) "
   ]
  },
  {
   "cell_type": "code",
   "execution_count": null,
   "metadata": {},
   "outputs": [],
   "source": [
    "indices = [6, 15, 5, 28, 2]\n",
    "\n",
    "results_bootstrap_usgan_male = []\n",
    "\n",
    "for i in indices:\n",
    "       results_bootstrap_usgan_male.append(toolkits.bootstrap(testing_ae_usgan_variables_standard, indicating_mask_variable_standard_norm, 2, i, 9000))"
   ]
  },
  {
   "cell_type": "markdown",
   "metadata": {},
   "source": [
    "#### Calculating the mean and standard deviation of the bootstrap distribution"
   ]
  },
  {
   "cell_type": "code",
   "execution_count": null,
   "metadata": {},
   "outputs": [
    {
     "name": "stdout",
     "output_type": "stream",
     "text": [
      "[np.float64(0.8532085999273139), np.float64(0.12173798464939829), np.float64(0.7001687284700588), np.float64(0.4070497014201909), np.float64(0.5221586240945711)]\n",
      "[np.float64(0.17358454405745072), np.float64(0.025632322705534415), np.float64(0.2124414858781128), np.float64(0.03724148791663912), np.float64(0.04259881898681301)]\n"
     ]
    }
   ],
   "source": [
    "means_bootstraps_usgan_male,standards_deviations_usgan_male = toolkits.calc_mean_and_standard_deviation(results_bootstrap_usgan_male)\n",
    "\n",
    "print(means_bootstraps_usgan_male)\n",
    "print(standards_deviations_usgan_male)\n"
   ]
  },
  {
   "cell_type": "markdown",
   "metadata": {},
   "source": [
    "#### Calculating lower bound and upper bound"
   ]
  },
  {
   "cell_type": "code",
   "execution_count": null,
   "metadata": {},
   "outputs": [
    {
     "name": "stdout",
     "output_type": "stream",
     "text": [
      "[np.float64(0.5129891453019042), np.float64(0.07149955530644256), np.float64(0.2837910673267833), np.float64(0.33405772637289466), np.float64(0.4386664730964766)]\n",
      "[np.float64(1.1934280545527236), np.float64(0.17197641399235403), np.float64(1.1165463896133345), np.float64(0.4800416764674872), np.float64(0.6056507750926656)]\n"
     ]
    }
   ],
   "source": [
    "lower_bounds_usgan_male, upper_bounds_usgan_male = toolkits.calc_lower_and_upper_bound(results_bootstrap_usgan_male, means_bootstraps_usgan_male,standards_deviations_usgan_male)\n",
    "\n",
    "print(lower_bounds_usgan_male)\n",
    "print(upper_bounds_usgan_male)"
   ]
  },
  {
   "cell_type": "code",
   "execution_count": null,
   "metadata": {},
   "outputs": [],
   "source": [
    "lower_bounds_usgan_male, upper_bounds_usgan_male = toolkits.calc_lower_and_upper_bound(results_bootstrap_usgan_male)\n",
    "\n",
    "print(lower_bounds_usgan_male)\n",
    "print(upper_bounds_usgan_male)"
   ]
  },
  {
   "cell_type": "markdown",
   "metadata": {},
   "source": [
    "#### Mean values of lower bound and upper bound\n"
   ]
  },
  {
   "cell_type": "code",
   "execution_count": null,
   "metadata": {},
   "outputs": [
    {
     "name": "stdout",
     "output_type": "stream",
     "text": [
      "[np.float64(0.8532085999273139), np.float64(0.12173798464939829), np.float64(0.7001687284700588), np.float64(0.4070497014201909), np.float64(0.5221586240945711)]\n"
     ]
    }
   ],
   "source": [
    "mean_values_ci_usgan_male = toolkits.calc_mean_values_ci(lower_bounds_usgan_male, upper_bounds_usgan_male)\n",
    "\n",
    "print(mean_values_ci_usgan_male)"
   ]
  },
  {
   "cell_type": "markdown",
   "metadata": {},
   "source": [
    "### Confidence Interval (+65 Subgroup)"
   ]
  },
  {
   "cell_type": "markdown",
   "metadata": {},
   "source": [
    "#### Distribution Bootstrap for the Top 5 variables with Largest Differences in MAE (Mean Absolute Error) "
   ]
  },
  {
   "cell_type": "code",
   "execution_count": null,
   "metadata": {},
   "outputs": [],
   "source": [
    "indices = [6,31,0,28,5]\n",
    "\n",
    "results_bootstrap_usgan_more_than_or_equal_to_65_subgroup = []\n",
    "\n",
    "for i in indices:\n",
    "       results_bootstrap_usgan_more_than_or_equal_to_65_subgroup.append(toolkits.bootstrap(testing_ae_usgan_variables_standard, indicating_mask_variable_standard_norm, 4, i, 9000))\n"
   ]
  },
  {
   "cell_type": "markdown",
   "metadata": {},
   "source": [
    "#### Calculating the mean and standard deviation of the bootstrap distribution"
   ]
  },
  {
   "cell_type": "code",
   "execution_count": null,
   "metadata": {},
   "outputs": [
    {
     "name": "stdout",
     "output_type": "stream",
     "text": [
      "[np.float64(0.6351102299479717), np.float64(0.9260057824625499), np.float64(0.23893718663634383), np.float64(0.6634109698540213), np.float64(0.5742005222250958)]\n",
      "[np.float64(0.14022222850550667), np.float64(0.2902139592129938), np.float64(0.025161049870449845), np.float64(0.08795901770065773), np.float64(0.06166376517595487)]\n"
     ]
    }
   ],
   "source": [
    "means_bootstraps_usgan_more_than_or_equal_to_65_subgroup,standards_deviations_usgan_more_than_or_equal_to_65_subgroup = toolkits.calc_mean_and_standard_deviation(results_bootstrap_usgan_more_than_or_equal_to_65_subgroup)\n",
    "\n",
    "print(means_bootstraps_usgan_more_than_or_equal_to_65_subgroup)\n",
    "print(standards_deviations_usgan_more_than_or_equal_to_65_subgroup)"
   ]
  },
  {
   "cell_type": "markdown",
   "metadata": {},
   "source": [
    "#### Calculating lower bound and upper bound\n"
   ]
  },
  {
   "cell_type": "code",
   "execution_count": null,
   "metadata": {},
   "outputs": [
    {
     "name": "stdout",
     "output_type": "stream",
     "text": [
      "[np.float64(0.3602797122452329), np.float64(0.3571968745943058), np.float64(0.18962243507704596), np.float64(0.491014463045211), np.float64(0.45334176332908904)]\n",
      "[np.float64(0.9099407476507105), np.float64(1.4948146903307942), np.float64(0.2882519381956417), np.float64(0.8358074766628315), np.float64(0.6950592811211025)]\n"
     ]
    }
   ],
   "source": [
    "lower_bounds_usgan_more_than_or_equal_to_65_subgroup, upper_bounds_usgan_more_than_or_equal_to_65_subgroup = toolkits.calc_lower_and_upper_bound(results_bootstrap_usgan_more_than_or_equal_to_65_subgroup, means_bootstraps_usgan_more_than_or_equal_to_65_subgroup,standards_deviations_usgan_more_than_or_equal_to_65_subgroup)\n",
    "\n",
    "print(lower_bounds_usgan_more_than_or_equal_to_65_subgroup)\n",
    "print(upper_bounds_usgan_more_than_or_equal_to_65_subgroup)\n"
   ]
  },
  {
   "cell_type": "code",
   "execution_count": null,
   "metadata": {},
   "outputs": [],
   "source": [
    "lower_bounds_usgan_more_than_or_equal_to_65_subgroup, upper_bounds_usgan_more_than_or_equal_to_65_subgroup = toolkits.calc_lower_and_upper_bound_percentile(results_bootstrap_usgan_more_than_or_equal_to_65_subgroup)\n",
    "\n",
    "print(lower_bounds_usgan_more_than_or_equal_to_65_subgroup)\n",
    "print(upper_bounds_usgan_more_than_or_equal_to_65_subgroup)"
   ]
  },
  {
   "cell_type": "markdown",
   "metadata": {},
   "source": [
    "#### Mean values of lower bound and upper bound"
   ]
  },
  {
   "cell_type": "code",
   "execution_count": null,
   "metadata": {},
   "outputs": [
    {
     "name": "stdout",
     "output_type": "stream",
     "text": [
      "[np.float64(0.6351102299479717), np.float64(0.92600578246255), np.float64(0.23893718663634383), np.float64(0.6634109698540213), np.float64(0.5742005222250958)]\n"
     ]
    }
   ],
   "source": [
    "mean_values_ci_usgan_more_than_or_equal_to_65_subgroup  = toolkits.calc_mean_values_ci(lower_bounds_usgan_more_than_or_equal_to_65_subgroup , upper_bounds_usgan_more_than_or_equal_to_65_subgroup)\n",
    "\n",
    "print(mean_values_ci_usgan_more_than_or_equal_to_65_subgroup)"
   ]
  },
  {
   "cell_type": "markdown",
   "metadata": {},
   "source": [
    "### Confidence Interval (-65 subgroup)"
   ]
  },
  {
   "cell_type": "markdown",
   "metadata": {},
   "source": [
    "#### Distribution Bootstrap for the Top 5 variables with Largest Differences in MAE (Mean Absolute Error) "
   ]
  },
  {
   "cell_type": "code",
   "execution_count": null,
   "metadata": {},
   "outputs": [],
   "source": [
    "indices = [6,31,0,28,5]\n",
    "\n",
    "results_bootstrap_usgan_less_than_65_subgroup = []\n",
    "\n",
    "for i in indices:\n",
    "       results_bootstrap_usgan_less_than_65_subgroup.append(toolkits.bootstrap(testing_ae_usgan_variables_standard, indicating_mask_variable_standard_norm, 5, i, 9000))\n",
    "\n"
   ]
  },
  {
   "cell_type": "markdown",
   "metadata": {},
   "source": [
    "#### Calculating the mean and standard deviation of the bootstrap distribution"
   ]
  },
  {
   "cell_type": "code",
   "execution_count": null,
   "metadata": {},
   "outputs": [
    {
     "name": "stdout",
     "output_type": "stream",
     "text": [
      "[np.float64(1.0871043378053682), np.float64(0.5368503053164135), np.float64(0.47800817831362274), np.float64(0.7807769585304432), np.float64(0.7129405683813472)]\n",
      "[np.float64(0.4337083267621267), np.float64(0.06965814575847884), np.float64(0.08711583404267569), np.float64(0.6101374424469065), np.float64(0.06334923482333744)]\n"
     ]
    }
   ],
   "source": [
    "means_bootstraps_usgan_less_than_65_subgroup,standards_deviations_usgan_less_than_65_subgroup = toolkits.calc_mean_and_standard_deviation(results_bootstrap_usgan_less_than_65_subgroup)\n",
    "\n",
    "print(means_bootstraps_usgan_less_than_65_subgroup)\n",
    "print(standards_deviations_usgan_less_than_65_subgroup)\n"
   ]
  },
  {
   "cell_type": "markdown",
   "metadata": {},
   "source": [
    "#### Calculating lower bound and upper bound"
   ]
  },
  {
   "cell_type": "code",
   "execution_count": null,
   "metadata": {},
   "outputs": [
    {
     "name": "stdout",
     "output_type": "stream",
     "text": [
      "[np.float64(0.23705163755647063), np.float64(0.40032284839995347), np.float64(0.30726428110681003), np.float64(-0.41507045428487355), np.float64(0.5887783496794352)]\n",
      "[np.float64(1.9371570380542658), np.float64(0.6733777622328736), np.float64(0.6487520755204355), np.float64(1.9766243713457599), np.float64(0.8371027870832592)]\n"
     ]
    }
   ],
   "source": [
    "lower_bounds_usgan_less_than_65_subgroup, upper_bounds_usgan_less_than_65_subgroup = toolkits.calc_lower_and_upper_bound(results_bootstrap_usgan_less_than_65_subgroup, means_bootstraps_usgan_less_than_65_subgroup, standards_deviations_usgan_less_than_65_subgroup)\n",
    "\n",
    "print(lower_bounds_usgan_less_than_65_subgroup)\n",
    "print(upper_bounds_usgan_less_than_65_subgroup)"
   ]
  },
  {
   "cell_type": "code",
   "execution_count": null,
   "metadata": {},
   "outputs": [],
   "source": [
    "lower_bounds_usgan_less_than_65_subgroup, upper_bounds_usgan_less_than_65_subgroup = toolkits.calc_lower_and_upper_bound_percentile(results_bootstrap_usgan_less_than_65_subgroup)\n",
    "\n",
    "print(lower_bounds_usgan_less_than_65_subgroup)\n",
    "print(upper_bounds_usgan_less_than_65_subgroup)"
   ]
  },
  {
   "cell_type": "markdown",
   "metadata": {},
   "source": [
    "#### Mean values of lower bound and upper bound"
   ]
  },
  {
   "cell_type": "code",
   "execution_count": null,
   "metadata": {},
   "outputs": [
    {
     "name": "stdout",
     "output_type": "stream",
     "text": [
      "[np.float64(1.0871043378053682), np.float64(0.5368503053164135), np.float64(0.47800817831362274), np.float64(0.7807769585304432), np.float64(0.7129405683813472)]\n"
     ]
    }
   ],
   "source": [
    "mean_values_ci_usgan_less_than_65_subgroup  = toolkits.calc_mean_values_ci(lower_bounds_usgan_less_than_65_subgroup, upper_bounds_usgan_less_than_65_subgroup)\n",
    "\n",
    "print(mean_values_ci_usgan_less_than_65_subgroup)"
   ]
  },
  {
   "cell_type": "markdown",
   "metadata": {},
   "source": [
    "### Confidence Interval (ICUType 1 subgroup)"
   ]
  },
  {
   "cell_type": "markdown",
   "metadata": {},
   "source": [
    "#### Distribution Bootstrap for the Top 5 variables with Largest Differences in MAE (Mean Absolute Error) "
   ]
  },
  {
   "cell_type": "code",
   "execution_count": null,
   "metadata": {},
   "outputs": [],
   "source": [
    "indices = [6,31,0,28,32]\n",
    "\n",
    "results_bootstrap_usgan_ICUType_1_subgroup = []\n",
    "\n",
    "for i in indices:\n",
    "       results_bootstrap_usgan_ICUType_1_subgroup.append(toolkits.bootstrap(testing_ae_usgan_variables_standard, indicating_mask_variable_standard_norm, 6, i, 9000))\n",
    "\n"
   ]
  },
  {
   "cell_type": "markdown",
   "metadata": {},
   "source": [
    "#### Calculating the mean and standard deviation of the bootstrap distribution"
   ]
  },
  {
   "cell_type": "code",
   "execution_count": null,
   "metadata": {},
   "outputs": [
    {
     "name": "stdout",
     "output_type": "stream",
     "text": [
      "[np.float64(0.5226824815512915), np.float64(0.22527604130199683), np.float64(0.9690932479547066), np.float64(1.3413646633750829), np.float64(0.7212106254399269)]\n",
      "[np.float64(0.17812570383563214), np.float64(0.03508402734675316), np.float64(0.2710993234914266), np.float64(0.37708432885457466), np.float64(0.15436752793597142)]\n"
     ]
    }
   ],
   "source": [
    "means_bootstraps_usgan_ICUType_1_subgroup, standards_deviations_usgan_ICUType_1_subgroup = toolkits.calc_mean_and_standard_deviation(results_bootstrap_usgan_ICUType_1_subgroup)\n",
    "\n",
    "print(means_bootstraps_usgan_ICUType_1_subgroup)\n",
    "print(standards_deviations_usgan_ICUType_1_subgroup)\n"
   ]
  },
  {
   "cell_type": "markdown",
   "metadata": {},
   "source": [
    "#### Calculating lower bound and upper bound"
   ]
  },
  {
   "cell_type": "code",
   "execution_count": null,
   "metadata": {},
   "outputs": [
    {
     "name": "stdout",
     "output_type": "stream",
     "text": [
      "[np.float64(0.1735625173126043), np.float64(0.1565126112697423), np.float64(0.437748337678337), np.float64(0.6022929596856587), np.float64(0.41865583030294223)]\n",
      "[np.float64(0.8718024457899787), np.float64(0.29403947133425135), np.float64(1.5004381582310762), np.float64(2.080436367064507), np.float64(1.0237654205769116)]\n"
     ]
    }
   ],
   "source": [
    "lower_bounds_usgan_ICUType_1_subgroup, upper_bounds_usgan_ICUType_1_subgroup = toolkits.calc_lower_and_upper_bound(results_bootstrap_usgan_ICUType_1_subgroup, means_bootstraps_usgan_ICUType_1_subgroup, standards_deviations_usgan_ICUType_1_subgroup)\n",
    "\n",
    "print(lower_bounds_usgan_ICUType_1_subgroup)\n",
    "print(upper_bounds_usgan_ICUType_1_subgroup)"
   ]
  },
  {
   "cell_type": "code",
   "execution_count": null,
   "metadata": {},
   "outputs": [],
   "source": [
    "lower_bounds_usgan_ICUType_1_subgroup, upper_bounds_usgan_ICUType_1_subgroup = toolkits.calc_lower_and_upper_bound_percentile(results_bootstrap_usgan_ICUType_1_subgroup)\n",
    "\n",
    "print(lower_bounds_usgan_ICUType_1_subgroup)\n",
    "print(upper_bounds_usgan_ICUType_1_subgroup)"
   ]
  },
  {
   "cell_type": "markdown",
   "metadata": {},
   "source": [
    "#### Mean values of lower bound and upper bound"
   ]
  },
  {
   "cell_type": "code",
   "execution_count": null,
   "metadata": {},
   "outputs": [
    {
     "name": "stdout",
     "output_type": "stream",
     "text": [
      "[np.float64(0.5226824815512915), np.float64(0.22527604130199683), np.float64(0.9690932479547065), np.float64(1.3413646633750829), np.float64(0.7212106254399269)]\n"
     ]
    }
   ],
   "source": [
    "mean_values_ci_usgan_ICUType_1_subgroup  = toolkits.calc_mean_values_ci(lower_bounds_usgan_ICUType_1_subgroup, upper_bounds_usgan_ICUType_1_subgroup)\n",
    "\n",
    "print(mean_values_ci_usgan_ICUType_1_subgroup)"
   ]
  },
  {
   "cell_type": "markdown",
   "metadata": {},
   "source": [
    "### Confidence Interval (ICUType 2 subgroup)"
   ]
  },
  {
   "cell_type": "markdown",
   "metadata": {},
   "source": [
    "#### Distribution Bootstrap for the Top 5 variables with Largest Differences in MAE (Mean Absolute Error) "
   ]
  },
  {
   "cell_type": "code",
   "execution_count": null,
   "metadata": {},
   "outputs": [],
   "source": [
    "indices = [6,31,0,28,32]\n",
    "\n",
    "results_bootstrap_usgan_ICUType_2_subgroup = []\n",
    "\n",
    "for i in indices:\n",
    "       results_bootstrap_usgan_ICUType_2_subgroup.append(toolkits.bootstrap(testing_ae_usgan_variables_standard, indicating_mask_variable_standard_norm, 7, i, 9000))\n",
    "\n"
   ]
  },
  {
   "cell_type": "markdown",
   "metadata": {},
   "source": [
    "#### Calculating the mean and standard deviation of the bootstrap distribution"
   ]
  },
  {
   "cell_type": "code",
   "execution_count": null,
   "metadata": {},
   "outputs": [
    {
     "name": "stdout",
     "output_type": "stream",
     "text": [
      "[np.float64(0.5628893404476448), np.float64(0.253544682516006), np.float64(0.0), np.float64(0.3769132654783525), np.float64(0.17130476566918515)]\n",
      "[np.float64(0.24746020204511532), np.float64(0.02844864967364565), np.float64(0.0), np.float64(0.12241202033633213), np.float64(0.04748266503243493)]\n"
     ]
    }
   ],
   "source": [
    "means_bootstraps_usgan_ICUType_2_subgroup, standards_deviations_usgan_ICUType_2_subgroup = toolkits.calc_mean_and_standard_deviation(results_bootstrap_usgan_ICUType_2_subgroup)\n",
    "\n",
    "print(means_bootstraps_usgan_ICUType_2_subgroup)\n",
    "print(standards_deviations_usgan_ICUType_2_subgroup)\n"
   ]
  },
  {
   "cell_type": "markdown",
   "metadata": {},
   "source": [
    "#### Calculating lower bound and upper bound"
   ]
  },
  {
   "cell_type": "code",
   "execution_count": null,
   "metadata": {},
   "outputs": [
    {
     "ename": "NameError",
     "evalue": "name 'toolkits' is not defined",
     "output_type": "error",
     "traceback": [
      "\u001b[31m---------------------------------------------------------------------------\u001b[39m",
      "\u001b[31mNameError\u001b[39m                                 Traceback (most recent call last)",
      "\u001b[36mCell\u001b[39m\u001b[36m \u001b[39m\u001b[32mIn[1]\u001b[39m\u001b[32m, line 1\u001b[39m\n\u001b[32m----> \u001b[39m\u001b[32m1\u001b[39m lower_bounds_usgan_ICUType_2_subgroup, upper_bounds_usgan_ICUType_2_subgroup = \u001b[43mtoolkits\u001b[49m.calc_lower_and_upper_bound(results_bootstrap_usgan_ICUType_2_subgroup, means_bootstraps_usgan_ICUType_2_subgroup, standards_deviations_usgan_ICUType_2_subgroup)\n\u001b[32m      3\u001b[39m \u001b[38;5;28mprint\u001b[39m(lower_bounds_usgan_ICUType_2_subgroup)\n\u001b[32m      4\u001b[39m \u001b[38;5;28mprint\u001b[39m(upper_bounds_usgan_ICUType_2_subgroup)\n",
      "\u001b[31mNameError\u001b[39m: name 'toolkits' is not defined"
     ]
    }
   ],
   "source": [
    "lower_bounds_usgan_ICUType_2_subgroup, upper_bounds_usgan_ICUType_2_subgroup = toolkits.calc_lower_and_upper_bound(results_bootstrap_usgan_ICUType_2_subgroup, means_bootstraps_usgan_ICUType_2_subgroup, standards_deviations_usgan_ICUType_2_subgroup)\n",
    "\n",
    "print(lower_bounds_usgan_ICUType_2_subgroup)\n",
    "print(upper_bounds_usgan_ICUType_2_subgroup)"
   ]
  },
  {
   "cell_type": "code",
   "execution_count": null,
   "metadata": {},
   "outputs": [],
   "source": [
    "lower_bounds_usgan_ICUType_2_subgroup, upper_bounds_usgan_ICUType_2_subgroup = toolkits.calc_lower_and_upper_bound_percentile(results_bootstrap_usgan_ICUType_2_subgroup)\n",
    "\n",
    "print(lower_bounds_usgan_ICUType_2_subgroup)\n",
    "print(upper_bounds_usgan_ICUType_2_subgroup)"
   ]
  },
  {
   "cell_type": "markdown",
   "metadata": {},
   "source": [
    "#### Mean values of lower bound and upper bound"
   ]
  },
  {
   "cell_type": "code",
   "execution_count": null,
   "metadata": {},
   "outputs": [
    {
     "name": "stdout",
     "output_type": "stream",
     "text": [
      "[np.float64(0.5628893404476448), np.float64(0.253544682516006), np.float64(0.0), np.float64(0.37691326547835247), np.float64(0.17130476566918512)]\n"
     ]
    }
   ],
   "source": [
    "mean_values_ci_usgan_ICUType_2_subgroup  = toolkits.calc_mean_values_ci(lower_bounds_usgan_ICUType_2_subgroup, upper_bounds_usgan_ICUType_2_subgroup)\n",
    "\n",
    "print(mean_values_ci_usgan_ICUType_2_subgroup)"
   ]
  },
  {
   "cell_type": "markdown",
   "metadata": {},
   "source": [
    "### Confidence Interval (ICUType 3 subgroup)"
   ]
  },
  {
   "cell_type": "markdown",
   "metadata": {},
   "source": [
    "#### Distribution Bootstrap for the Top 5 variables with Largest Differences in MAE (Mean Absolute Error) "
   ]
  },
  {
   "cell_type": "code",
   "execution_count": null,
   "metadata": {},
   "outputs": [],
   "source": [
    "indices = [6,31,0,28,32]\n",
    "\n",
    "results_bootstrap_usgan_ICUType_3_subgroup = []\n",
    "\n",
    "for i in indices:\n",
    "       results_bootstrap_usgan_ICUType_3_subgroup.append(toolkits.bootstrap(testing_ae_usgan_variables_standard, indicating_mask_variable_standard_norm, 8, i, 9000))\n",
    "\n"
   ]
  },
  {
   "cell_type": "markdown",
   "metadata": {},
   "source": [
    "#### Calculating the mean and standard deviation of the bootstrap distribution"
   ]
  },
  {
   "cell_type": "code",
   "execution_count": null,
   "metadata": {},
   "outputs": [
    {
     "name": "stdout",
     "output_type": "stream",
     "text": [
      "[np.float64(1.593236497237565), np.float64(1.1365310737170016), np.float64(0.6958192633459015), np.float64(0.5411579272281444), np.float64(0.23745879820743904)]\n",
      "[np.float64(0.4559261164801034), np.float64(0.45097433675337983), np.float64(0.1878586172758027), np.float64(0.06133680568713781), np.float64(0.03548543506753726)]\n"
     ]
    }
   ],
   "source": [
    "means_bootstraps_usgan_ICUType_3_subgroup, standards_deviations_usgan_ICUType_3_subgroup = toolkits.calc_mean_and_standard_deviation(results_bootstrap_usgan_ICUType_3_subgroup)\n",
    "\n",
    "print(means_bootstraps_usgan_ICUType_3_subgroup)\n",
    "print(standards_deviations_usgan_ICUType_3_subgroup)\n"
   ]
  },
  {
   "cell_type": "markdown",
   "metadata": {},
   "source": [
    "#### Calculating lower bound and upper bound"
   ]
  },
  {
   "cell_type": "code",
   "execution_count": null,
   "metadata": {},
   "outputs": [
    {
     "name": "stdout",
     "output_type": "stream",
     "text": [
      "[np.float64(0.6996377293253487), np.float64(0.25263761572853904), np.float64(0.3276231392998342), np.float64(0.4209399971546227), np.float64(0.16790862349933133)]\n",
      "[np.float64(2.4868352651497814), np.float64(2.020424531705464), np.float64(1.0640153873919687), np.float64(0.661375857301666), np.float64(0.30700897291554674)]\n"
     ]
    }
   ],
   "source": [
    "lower_bounds_usgan_ICUType_3_subgroup, upper_bounds_usgan_ICUType_3_subgroup = toolkits.calc_lower_and_upper_bound(results_bootstrap_usgan_ICUType_3_subgroup, means_bootstraps_usgan_ICUType_3_subgroup, standards_deviations_usgan_ICUType_3_subgroup)\n",
    "\n",
    "print(lower_bounds_usgan_ICUType_3_subgroup)\n",
    "print(upper_bounds_usgan_ICUType_3_subgroup)"
   ]
  },
  {
   "cell_type": "code",
   "execution_count": null,
   "metadata": {},
   "outputs": [],
   "source": [
    "lower_bounds_usgan_ICUType_3_subgroup, upper_bounds_usgan_ICUType_3_subgroup = toolkits.calc_lower_and_upper_bound_percentile(results_bootstrap_usgan_ICUType_3_subgroup)\n",
    "\n",
    "print(lower_bounds_usgan_ICUType_3_subgroup)\n",
    "print(upper_bounds_usgan_ICUType_3_subgroup)"
   ]
  },
  {
   "cell_type": "markdown",
   "metadata": {},
   "source": [
    "#### Mean values of lower bound and upper bound"
   ]
  },
  {
   "cell_type": "code",
   "execution_count": null,
   "metadata": {},
   "outputs": [
    {
     "name": "stdout",
     "output_type": "stream",
     "text": [
      "[np.float64(1.593236497237565), np.float64(1.1365310737170016), np.float64(0.6958192633459015), np.float64(0.5411579272281444), np.float64(0.23745879820743904)]\n"
     ]
    }
   ],
   "source": [
    "mean_values_ci_usgan_ICUType_3_subgroup  = toolkits.calc_mean_values_ci(lower_bounds_usgan_ICUType_3_subgroup, upper_bounds_usgan_ICUType_3_subgroup)\n",
    "\n",
    "print(mean_values_ci_usgan_ICUType_3_subgroup)"
   ]
  },
  {
   "cell_type": "markdown",
   "metadata": {},
   "source": [
    "### Confidence Interval (ICUType 4 subgroup)"
   ]
  },
  {
   "cell_type": "markdown",
   "metadata": {},
   "source": [
    "#### Distribution Bootstrap for the Top 5 variables with Largest Differences in MAE (Mean Absolute Error) "
   ]
  },
  {
   "cell_type": "code",
   "execution_count": null,
   "metadata": {},
   "outputs": [],
   "source": [
    "indices = [6,31,0,28,32]\n",
    "\n",
    "results_bootstrap_usgan_ICUType_4_subgroup = []\n",
    "\n",
    "for i in indices:\n",
    "       results_bootstrap_usgan_ICUType_4_subgroup.append(toolkits.bootstrap(testing_ae_usgan_variables_standard, indicating_mask_variable_standard_norm, 9, i, 9000))\n",
    "\n"
   ]
  },
  {
   "cell_type": "markdown",
   "metadata": {},
   "source": [
    "#### Calculating the mean and standard deviation of the bootstrap distribution"
   ]
  },
  {
   "cell_type": "code",
   "execution_count": null,
   "metadata": {},
   "outputs": [
    {
     "name": "stdout",
     "output_type": "stream",
     "text": [
      "[np.float64(0.44306473111336137), np.float64(0.4912011878544669), np.float64(0.7287297527366805), np.float64(0.692426181621937), np.float64(0.18026286324155796)]\n",
      "[np.float64(0.0935566892280583), np.float64(0.08074364451634707), np.float64(0.2681495472441715), np.float64(0.2724504216824265), np.float64(0.022189091660584512)]\n"
     ]
    }
   ],
   "source": [
    "means_bootstraps_usgan_ICUType_4_subgroup, standards_deviations_usgan_ICUType_4_subgroup = toolkits.calc_mean_and_standard_deviation(results_bootstrap_usgan_ICUType_4_subgroup)\n",
    "\n",
    "print(means_bootstraps_usgan_ICUType_4_subgroup)\n",
    "print(standards_deviations_usgan_ICUType_4_subgroup)\n"
   ]
  },
  {
   "cell_type": "markdown",
   "metadata": {},
   "source": [
    "#### Calculating lower bound and upper bound"
   ]
  },
  {
   "cell_type": "code",
   "execution_count": null,
   "metadata": {},
   "outputs": [
    {
     "name": "stdout",
     "output_type": "stream",
     "text": [
      "[np.float64(0.25969698971356064), np.float64(0.33294655262192163), np.float64(0.2031662976673827), np.float64(0.1584331675516304), np.float64(0.13677304273715427)]\n",
      "[np.float64(0.626432472513162), np.float64(0.6494558230870122), np.float64(1.2542932078059783), np.float64(1.2264191956922437), np.float64(0.22375268374596166)]\n"
     ]
    }
   ],
   "source": [
    "lower_bounds_usgan_ICUType_4_subgroup, upper_bounds_usgan_ICUType_4_subgroup = toolkits.calc_lower_and_upper_bound(results_bootstrap_usgan_ICUType_4_subgroup, means_bootstraps_usgan_ICUType_4_subgroup, standards_deviations_usgan_ICUType_4_subgroup)\n",
    "\n",
    "print(lower_bounds_usgan_ICUType_4_subgroup)\n",
    "print(upper_bounds_usgan_ICUType_4_subgroup)"
   ]
  },
  {
   "cell_type": "code",
   "execution_count": null,
   "metadata": {},
   "outputs": [],
   "source": [
    "lower_bounds_usgan_ICUType_4_subgroup, upper_bounds_usgan_ICUType_4_subgroup = toolkits.calc_lower_and_upper_bound_percentile(results_bootstrap_usgan_ICUType_4_subgroup)\n",
    "\n",
    "print(lower_bounds_usgan_ICUType_4_subgroup)\n",
    "print(upper_bounds_usgan_ICUType_4_subgroup)"
   ]
  },
  {
   "cell_type": "markdown",
   "metadata": {},
   "source": [
    "#### Mean values of lower bound and upper bound"
   ]
  },
  {
   "cell_type": "code",
   "execution_count": null,
   "metadata": {},
   "outputs": [
    {
     "name": "stdout",
     "output_type": "stream",
     "text": [
      "[np.float64(0.4430647311133613), np.float64(0.4912011878544669), np.float64(0.7287297527366805), np.float64(0.692426181621937), np.float64(0.18026286324155796)]\n"
     ]
    }
   ],
   "source": [
    "mean_values_ci_usgan_ICUType_4_subgroup  = toolkits.calc_mean_values_ci(lower_bounds_usgan_ICUType_4_subgroup, upper_bounds_usgan_ICUType_4_subgroup)\n",
    "\n",
    "print(mean_values_ci_usgan_ICUType_4_subgroup)"
   ]
  },
  {
   "cell_type": "markdown",
   "metadata": {},
   "source": [
    "### Confidence Interval (Undefined classification subgroup)"
   ]
  },
  {
   "cell_type": "markdown",
   "metadata": {},
   "source": [
    "#### Distribution Bootstrap for the Top 5 variables with Largest Differences in MAE (Mean Absolute Error) "
   ]
  },
  {
   "cell_type": "code",
   "execution_count": null,
   "metadata": {},
   "outputs": [],
   "source": [
    "indices = [6,31,0,32,5]\n",
    "\n",
    "results_bootstrap_usgan_undefined_classification_subgroup = []\n",
    "\n",
    "for i in indices:\n",
    "       results_bootstrap_usgan_undefined_classification_subgroup.append(toolkits.bootstrap(testing_ae_usgan_variables_standard, indicating_mask_variable_standard_norm, 10, i, 9000))\n",
    "\n"
   ]
  },
  {
   "cell_type": "markdown",
   "metadata": {},
   "source": [
    "#### Calculating the mean and standard deviation of the bootstrap distribution"
   ]
  },
  {
   "cell_type": "code",
   "execution_count": null,
   "metadata": {},
   "outputs": [
    {
     "name": "stdout",
     "output_type": "stream",
     "text": [
      "[np.float64(0.4068612373822693), np.float64(0.5736205115093942), np.float64(0.275919003680376), np.float64(0.8430104136478819), np.float64(0.4131966854604587)]\n",
      "[np.float64(0.05986934359644469), np.float64(0.17840974136243826), np.float64(0.044640773548291844), np.float64(0.2853216956527157), np.float64(0.12549413739177268)]\n"
     ]
    }
   ],
   "source": [
    "means_bootstraps_usgan_undefined_classification_subgroup, standards_deviations_usgan_undefined_classification_subgroup = toolkits.calc_mean_and_standard_deviation(results_bootstrap_usgan_undefined_classification_subgroup)\n",
    "\n",
    "print(means_bootstraps_usgan_undefined_classification_subgroup)\n",
    "print(standards_deviations_usgan_undefined_classification_subgroup)\n"
   ]
  },
  {
   "cell_type": "markdown",
   "metadata": {},
   "source": [
    "#### Calculating lower bound and upper bound"
   ]
  },
  {
   "cell_type": "code",
   "execution_count": null,
   "metadata": {},
   "outputs": [
    {
     "name": "stdout",
     "output_type": "stream",
     "text": [
      "[np.float64(0.28951948015518403), np.float64(0.22394384394790923), np.float64(0.18842469528371564), np.float64(0.28379016616066055), np.float64(0.16723269590166293)]\n",
      "[np.float64(0.5242029946093546), np.float64(0.9232971790708792), np.float64(0.3634133120770363), np.float64(1.4022306611351032), np.float64(0.6591606750192545)]\n"
     ]
    }
   ],
   "source": [
    "lower_bounds_usgan_undefined_classification_subgroup, upper_bounds_usgan_undefined_classification_subgroup = toolkits.calc_lower_and_upper_bound(results_bootstrap_usgan_undefined_classification_subgroup, means_bootstraps_usgan_undefined_classification_subgroup, standards_deviations_usgan_undefined_classification_subgroup)\n",
    "\n",
    "print(lower_bounds_usgan_undefined_classification_subgroup)\n",
    "print(upper_bounds_usgan_undefined_classification_subgroup)"
   ]
  },
  {
   "cell_type": "code",
   "execution_count": null,
   "metadata": {},
   "outputs": [],
   "source": [
    "lower_bounds_usgan_undefined_classification_subgroup, upper_bounds_usgan_undefined_classification_subgroup = toolkits.calc_lower_and_upper_bound(results_bootstrap_usgan_undefined_classification_subgroup)\n",
    "\n",
    "print(lower_bounds_usgan_undefined_classification_subgroup)\n",
    "print(upper_bounds_usgan_undefined_classification_subgroup)"
   ]
  },
  {
   "cell_type": "markdown",
   "metadata": {},
   "source": [
    "#### Mean values of lower bound and upper bound"
   ]
  },
  {
   "cell_type": "code",
   "execution_count": null,
   "metadata": {},
   "outputs": [
    {
     "name": "stdout",
     "output_type": "stream",
     "text": [
      "[np.float64(0.4068612373822693), np.float64(0.5736205115093942), np.float64(0.275919003680376), np.float64(0.8430104136478819), np.float64(0.4131966854604587)]\n"
     ]
    }
   ],
   "source": [
    "mean_values_ci_usgan_undefined_classification_subgroup  = toolkits.calc_mean_values_ci(lower_bounds_usgan_undefined_classification_subgroup, upper_bounds_usgan_undefined_classification_subgroup)\n",
    "\n",
    "print(mean_values_ci_usgan_undefined_classification_subgroup)"
   ]
  },
  {
   "cell_type": "markdown",
   "metadata": {},
   "source": [
    "### Confidence Interval (Low weight classification subgroup)"
   ]
  },
  {
   "cell_type": "markdown",
   "metadata": {},
   "source": [
    "#### Distribution Bootstrap for the Top 5 variables with Largest Differences in MAE (Mean Absolute Error) "
   ]
  },
  {
   "cell_type": "code",
   "execution_count": null,
   "metadata": {},
   "outputs": [],
   "source": [
    "indices = [6,31,0,32,5]\n",
    "\n",
    "results_bootstrap_usgan_low_weight_classification_subgroup = []\n",
    "\n",
    "for i in indices:\n",
    "       results_bootstrap_usgan_low_weight_classification_subgroup.append(toolkits.bootstrap(testing_ae_usgan_variables_standard, indicating_mask_variable_standard_norm, 11, i, 9000))\n",
    "\n"
   ]
  },
  {
   "cell_type": "markdown",
   "metadata": {},
   "source": [
    "#### Calculating the mean and standard deviation of the bootstrap distribution"
   ]
  },
  {
   "cell_type": "code",
   "execution_count": null,
   "metadata": {},
   "outputs": [
    {
     "name": "stdout",
     "output_type": "stream",
     "text": [
      "[np.float64(2.0122806935650077), np.float64(0.06933332178741825), np.float64(0.4104061358032636), np.float64(0.0), np.float64(1.4606367473586466)]\n",
      "[np.float64(1.666676645356208), np.float64(0.05309602591127397), np.float64(0.3139178166078663), np.float64(0.0), np.float64(1.2916342659860158)]\n"
     ]
    }
   ],
   "source": [
    "means_bootstraps_usgan_low_weight_classification_subgroup, standards_deviations_usgan_low_weight_classification_subgroup = toolkits.calc_mean_and_standard_deviation(results_bootstrap_usgan_low_weight_classification_subgroup)\n",
    "\n",
    "print(means_bootstraps_usgan_low_weight_classification_subgroup)\n",
    "print(standards_deviations_usgan_low_weight_classification_subgroup)\n"
   ]
  },
  {
   "cell_type": "markdown",
   "metadata": {},
   "source": [
    "#### Calculating lower bound and upper bound"
   ]
  },
  {
   "cell_type": "code",
   "execution_count": null,
   "metadata": {},
   "outputs": [
    {
     "name": "stdout",
     "output_type": "stream",
     "text": [
      "[np.float64(-1.2543455052071963), np.float64(-0.03473297672088424), np.float64(-0.2048614788536039), np.float64(0.0), np.float64(-1.070919895171773)]\n",
      "[np.float64(5.278906892337211), np.float64(0.17339962029572073), np.float64(1.0256737504601312), np.float64(0.0), np.float64(3.9921933898890662)]\n"
     ]
    }
   ],
   "source": [
    "lower_bounds_usgan_low_weight_classification_subgroup, upper_bounds_usgan_low_weight_classification_subgroup = toolkits.calc_lower_and_upper_bound(results_bootstrap_usgan_low_weight_classification_subgroup, means_bootstraps_usgan_low_weight_classification_subgroup, standards_deviations_usgan_low_weight_classification_subgroup)\n",
    "\n",
    "print(lower_bounds_usgan_low_weight_classification_subgroup)\n",
    "print(upper_bounds_usgan_low_weight_classification_subgroup)"
   ]
  },
  {
   "cell_type": "code",
   "execution_count": null,
   "metadata": {},
   "outputs": [],
   "source": [
    "lower_bounds_usgan_low_weight_classification_subgroup, upper_bounds_usgan_low_weight_classification_subgroup = toolkits.calc_lower_and_upper_bound_percentile(results_bootstrap_usgan_low_weight_classification_subgroup)\n",
    "\n",
    "print(lower_bounds_usgan_low_weight_classification_subgroup)\n",
    "print(upper_bounds_usgan_low_weight_classification_subgroup)"
   ]
  },
  {
   "cell_type": "markdown",
   "metadata": {},
   "source": [
    "#### Mean values of lower bound and upper bound"
   ]
  },
  {
   "cell_type": "code",
   "execution_count": null,
   "metadata": {},
   "outputs": [
    {
     "name": "stdout",
     "output_type": "stream",
     "text": [
      "[np.float64(2.0122806935650077), np.float64(0.06933332178741825), np.float64(0.4104061358032637), np.float64(0.0), np.float64(1.4606367473586466)]\n"
     ]
    }
   ],
   "source": [
    "mean_values_ci_usgan_low_weight_classification_subgroup  = toolkits.calc_mean_values_ci(lower_bounds_usgan_low_weight_classification_subgroup, upper_bounds_usgan_low_weight_classification_subgroup)\n",
    "\n",
    "print(mean_values_ci_usgan_low_weight_classification_subgroup)"
   ]
  },
  {
   "cell_type": "markdown",
   "metadata": {},
   "source": [
    "### Confidence Interval (Normal weight classification subgroup)"
   ]
  },
  {
   "cell_type": "markdown",
   "metadata": {},
   "source": [
    "#### Distribution Bootstrap for the Top 5 variables with Largest Differences in MAE (Mean Absolute Error) "
   ]
  },
  {
   "cell_type": "code",
   "execution_count": null,
   "metadata": {},
   "outputs": [],
   "source": [
    "indices = [6,31,0,32,5]\n",
    "\n",
    "results_bootstrap_usgan_normal_weight_classification_subgroup = []\n",
    "\n",
    "for i in indices:\n",
    "       results_bootstrap_usgan_normal_weight_classification_subgroup.append(toolkits.bootstrap(testing_ae_usgan_variables_standard, indicating_mask_variable_standard_norm, 12, i, 9000))\n",
    "\n"
   ]
  },
  {
   "cell_type": "markdown",
   "metadata": {},
   "source": [
    "#### Calculating the mean and standard deviation of the bootstrap distribution"
   ]
  },
  {
   "cell_type": "code",
   "execution_count": null,
   "metadata": {},
   "outputs": [
    {
     "name": "stdout",
     "output_type": "stream",
     "text": [
      "[np.float64(0.548686639105505), np.float64(0.7625897872503594), np.float64(0.24931976137388573), np.float64(0.5648888072341054), np.float64(0.5232857652420211)]\n",
      "[np.float64(0.12623025707018218), np.float64(0.3731308327837512), np.float64(0.07341434562099826), np.float64(0.089947135630567), np.float64(0.2013724566774524)]\n"
     ]
    }
   ],
   "source": [
    "means_bootstraps_usgan_normal_weight_classification_subgroup, standards_deviations_usgan_normal_weight_classification_subgroup = toolkits.calc_mean_and_standard_deviation(results_bootstrap_usgan_normal_weight_classification_subgroup)\n",
    "\n",
    "print(means_bootstraps_usgan_normal_weight_classification_subgroup)\n",
    "print(standards_deviations_usgan_normal_weight_classification_subgroup)\n"
   ]
  },
  {
   "cell_type": "markdown",
   "metadata": {},
   "source": [
    "#### Calculating lower bound and upper bound"
   ]
  },
  {
   "cell_type": "code",
   "execution_count": null,
   "metadata": {},
   "outputs": [
    {
     "name": "stdout",
     "output_type": "stream",
     "text": [
      "[np.float64(0.3012798814887154), np.float64(0.03126679347276984), np.float64(0.10543028800815332), np.float64(0.38859566088565467), np.float64(0.12860300267586205)]\n",
      "[np.float64(0.7960933967222945), np.float64(1.4939127810279489), np.float64(0.3932092347396181), np.float64(0.7411819535825561), np.float64(0.9179685278081802)]\n"
     ]
    }
   ],
   "source": [
    "lower_bounds_usgan_normal_weight_classification_subgroup, upper_bounds_usgan_normal_weight_classification_subgroup = toolkits.calc_lower_and_upper_bound(results_bootstrap_usgan_normal_weight_classification_subgroup, means_bootstraps_usgan_normal_weight_classification_subgroup, standards_deviations_usgan_normal_weight_classification_subgroup)\n",
    "\n",
    "print(lower_bounds_usgan_normal_weight_classification_subgroup)\n",
    "print(upper_bounds_usgan_normal_weight_classification_subgroup)"
   ]
  },
  {
   "cell_type": "code",
   "execution_count": null,
   "metadata": {},
   "outputs": [],
   "source": [
    "lower_bounds_usgan_normal_weight_classification_subgroup, upper_bounds_usgan_normal_weight_classification_subgroup = toolkits.calc_lower_and_upper_bound(results_bootstrap_usgan_normal_weight_classification_subgroup)\n",
    "\n",
    "print(lower_bounds_usgan_normal_weight_classification_subgroup)\n",
    "print(upper_bounds_usgan_normal_weight_classification_subgroup)"
   ]
  },
  {
   "cell_type": "markdown",
   "metadata": {},
   "source": [
    "#### Mean values of lower bound and upper bound"
   ]
  },
  {
   "cell_type": "code",
   "execution_count": null,
   "metadata": {},
   "outputs": [
    {
     "name": "stdout",
     "output_type": "stream",
     "text": [
      "[np.float64(0.548686639105505), np.float64(0.7625897872503593), np.float64(0.24931976137388573), np.float64(0.5648888072341054), np.float64(0.5232857652420211)]\n"
     ]
    }
   ],
   "source": [
    "mean_values_ci_usgan_normal_weight_classification_subgroup  = toolkits.calc_mean_values_ci(lower_bounds_usgan_normal_weight_classification_subgroup, upper_bounds_usgan_normal_weight_classification_subgroup)\n",
    "\n",
    "print(mean_values_ci_usgan_normal_weight_classification_subgroup)"
   ]
  },
  {
   "cell_type": "markdown",
   "metadata": {},
   "source": [
    "### Confidence Interval (Overweight classification subgroup)"
   ]
  },
  {
   "cell_type": "markdown",
   "metadata": {},
   "source": [
    "#### Distribution Bootstrap for the Top 5 variables with Largest Differences in MAE (Mean Absolute Error) "
   ]
  },
  {
   "cell_type": "code",
   "execution_count": null,
   "metadata": {},
   "outputs": [],
   "source": [
    "indices = [6,31,0,32,5]\n",
    "\n",
    "results_bootstrap_usgan_overweight_classification_subgroup = []\n",
    "\n",
    "for i in indices:\n",
    "       results_bootstrap_usgan_overweight_classification_subgroup.append(toolkits.bootstrap(testing_ae_usgan_variables_standard, indicating_mask_variable_standard_norm, 13, i, 9000))\n",
    "\n"
   ]
  },
  {
   "cell_type": "markdown",
   "metadata": {},
   "source": [
    "#### Calculating the mean and standard deviation of the bootstrap distribution"
   ]
  },
  {
   "cell_type": "code",
   "execution_count": null,
   "metadata": {},
   "outputs": [
    {
     "name": "stdout",
     "output_type": "stream",
     "text": [
      "[np.float64(0.2797503039647862), np.float64(1.4869184261643544), np.float64(0.44444907661681887), np.float64(1.0414359325082165), np.float64(0.1969866594273391)]\n",
      "[np.float64(0.05690905629749502), np.float64(0.2748051570149171), np.float64(0.190452089816047), np.float64(0.5659200713279424), np.float64(0.06465085722820384)]\n"
     ]
    }
   ],
   "source": [
    "means_bootstraps_usgan_overweight_classification_subgroup, standards_deviations_usgan_overweight_classification_subgroup = toolkits.calc_mean_and_standard_deviation(results_bootstrap_usgan_overweight_classification_subgroup)\n",
    "\n",
    "print(means_bootstraps_usgan_overweight_classification_subgroup)\n",
    "print(standards_deviations_usgan_overweight_classification_subgroup)\n"
   ]
  },
  {
   "cell_type": "markdown",
   "metadata": {},
   "source": [
    "#### Calculating lower bound and upper bound"
   ]
  },
  {
   "cell_type": "code",
   "execution_count": null,
   "metadata": {},
   "outputs": [
    {
     "name": "stdout",
     "output_type": "stream",
     "text": [
      "[np.float64(0.16821060322753356), np.float64(0.9483102156492423), np.float64(0.07116983979697916), np.float64(-0.06774702542288913), np.float64(0.07027330769041853)]\n",
      "[np.float64(0.3912900047020388), np.float64(2.0255266366794666), np.float64(0.8177283134366586), np.float64(2.150618890439322), np.float64(0.3237000111642596)]\n"
     ]
    }
   ],
   "source": [
    "lower_bounds_usgan_overweight_classification_subgroup, upper_bounds_usgan_overweight_classification_subgroup = toolkits.calc_lower_and_upper_bound(results_bootstrap_usgan_overweight_classification_subgroup, means_bootstraps_usgan_overweight_classification_subgroup, standards_deviations_usgan_overweight_classification_subgroup)\n",
    "\n",
    "print(lower_bounds_usgan_overweight_classification_subgroup)\n",
    "print(upper_bounds_usgan_overweight_classification_subgroup)"
   ]
  },
  {
   "cell_type": "code",
   "execution_count": null,
   "metadata": {},
   "outputs": [],
   "source": [
    "lower_bounds_usgan_overweight_classification_subgroup, upper_bounds_usgan_overweight_classification_subgroup = toolkits.calc_lower_and_upper_bound_percentile(results_bootstrap_usgan_overweight_classification_subgroup)\n",
    "\n",
    "print(lower_bounds_usgan_overweight_classification_subgroup)\n",
    "print(upper_bounds_usgan_overweight_classification_subgroup)"
   ]
  },
  {
   "cell_type": "markdown",
   "metadata": {},
   "source": [
    "#### Mean values of lower bound and upper bound"
   ]
  },
  {
   "cell_type": "code",
   "execution_count": null,
   "metadata": {},
   "outputs": [
    {
     "name": "stdout",
     "output_type": "stream",
     "text": [
      "[np.float64(0.2797503039647862), np.float64(1.4869184261643544), np.float64(0.44444907661681887), np.float64(1.0414359325082163), np.float64(0.19698665942733906)]\n"
     ]
    }
   ],
   "source": [
    "mean_values_ci_usgan_overweight_classification_subgroup  = toolkits.calc_mean_values_ci(lower_bounds_usgan_overweight_classification_subgroup, upper_bounds_usgan_overweight_classification_subgroup)\n",
    "\n",
    "print(mean_values_ci_usgan_overweight_classification_subgroup)"
   ]
  },
  {
   "cell_type": "markdown",
   "metadata": {},
   "source": [
    "### Confidence Interval (Obesity 1 classification subgroup)"
   ]
  },
  {
   "cell_type": "markdown",
   "metadata": {},
   "source": [
    "#### Distribution Bootstrap for the Top 5 variables with Largest Differences in MAE (Mean Absolute Error) "
   ]
  },
  {
   "cell_type": "code",
   "execution_count": null,
   "metadata": {},
   "outputs": [],
   "source": [
    "indices = [6,31,0,32,5]\n",
    "\n",
    "results_bootstrap_usgan_obs1_classification_subgroup = []\n",
    "\n",
    "for i in indices:\n",
    "       results_bootstrap_usgan_obs1_classification_subgroup.append(toolkits.bootstrap(testing_ae_usgan_variables_standard, indicating_mask_variable_standard_norm, 14, i, 9000))\n",
    "\n"
   ]
  },
  {
   "cell_type": "markdown",
   "metadata": {},
   "source": [
    "#### Calculating the mean and standard deviation of the bootstrap distribution"
   ]
  },
  {
   "cell_type": "code",
   "execution_count": null,
   "metadata": {},
   "outputs": [
    {
     "name": "stdout",
     "output_type": "stream",
     "text": [
      "[np.float64(0.30729431457159123), np.float64(0.49879057873455573), np.float64(0.27486455646945995), np.float64(0.4929731039694339), np.float64(0.40518847013824805)]\n",
      "[np.float64(0.05798396274724235), np.float64(0.25089896187847854), np.float64(0.08655489332963262), np.float64(0.19483046174517651), np.float64(0.12094499608671105)]\n"
     ]
    }
   ],
   "source": [
    "means_bootstraps_usgan_obs1_classification_subgroup, standards_deviations_usgan_obs1_classification_subgroup = toolkits.calc_mean_and_standard_deviation(results_bootstrap_usgan_obs1_classification_subgroup)\n",
    "\n",
    "print(means_bootstraps_usgan_obs1_classification_subgroup)\n",
    "print(standards_deviations_usgan_obs1_classification_subgroup)\n"
   ]
  },
  {
   "cell_type": "markdown",
   "metadata": {},
   "source": [
    "#### Calculating lower bound and upper bound"
   ]
  },
  {
   "cell_type": "code",
   "execution_count": null,
   "metadata": {},
   "outputs": [
    {
     "name": "stdout",
     "output_type": "stream",
     "text": [
      "[np.float64(0.19364783590608406), np.float64(0.0070376496942498035), np.float64(0.10522008285767387), np.float64(0.11111241585757914), np.float64(0.1681406336979566)]\n",
      "[np.float64(0.42094079323709843), np.float64(0.9905435077748617), np.float64(0.44450903008124604), np.float64(0.8748337920812886), np.float64(0.6422363065785395)]\n"
     ]
    }
   ],
   "source": [
    "lower_bounds_usgan_obs1_classification_subgroup, upper_bounds_usgan_obs1_classification_subgroup = toolkits.calc_lower_and_upper_bound(results_bootstrap_usgan_obs1_classification_subgroup, means_bootstraps_usgan_obs1_classification_subgroup, standards_deviations_usgan_obs1_classification_subgroup)\n",
    "\n",
    "print(lower_bounds_usgan_obs1_classification_subgroup)\n",
    "print(upper_bounds_usgan_obs1_classification_subgroup)"
   ]
  },
  {
   "cell_type": "code",
   "execution_count": null,
   "metadata": {},
   "outputs": [],
   "source": [
    "lower_bounds_usgan_obs1_classification_subgroup, upper_bounds_usgan_obs1_classification_subgroup = toolkits.calc_lower_and_upper_bound_percentile(results_bootstrap_usgan_obs1_classification_subgroup)\n",
    "\n",
    "print(lower_bounds_usgan_obs1_classification_subgroup)\n",
    "print(upper_bounds_usgan_obs1_classification_subgroup)"
   ]
  },
  {
   "cell_type": "markdown",
   "metadata": {},
   "source": [
    "#### Mean values of lower bound and upper bound"
   ]
  },
  {
   "cell_type": "code",
   "execution_count": null,
   "metadata": {},
   "outputs": [
    {
     "name": "stdout",
     "output_type": "stream",
     "text": [
      "[np.float64(0.30729431457159123), np.float64(0.49879057873455573), np.float64(0.27486455646945995), np.float64(0.4929731039694339), np.float64(0.40518847013824805)]\n"
     ]
    }
   ],
   "source": [
    "mean_values_ci_usgan_obs1_classification_subgroup  = toolkits.calc_mean_values_ci(lower_bounds_usgan_obs1_classification_subgroup, upper_bounds_usgan_obs1_classification_subgroup)\n",
    "\n",
    "print(mean_values_ci_usgan_obs1_classification_subgroup)"
   ]
  },
  {
   "cell_type": "markdown",
   "metadata": {},
   "source": [
    "### Confidence Interval (Obesity 2 classification subgroup)"
   ]
  },
  {
   "cell_type": "markdown",
   "metadata": {},
   "source": [
    "#### Distribution Bootstrap for the Top 5 variables with Largest Differences in MAE (Mean Absolute Error) "
   ]
  },
  {
   "cell_type": "code",
   "execution_count": null,
   "metadata": {},
   "outputs": [],
   "source": [
    "indices = [6,31,0,32,5]\n",
    "\n",
    "results_bootstrap_usgan_obs2_classification_subgroup = []\n",
    "\n",
    "for i in indices:\n",
    "       results_bootstrap_usgan_obs2_classification_subgroup.append(toolkits.bootstrap(testing_ae_usgan_variables_standard, indicating_mask_variable_standard_norm, 15, i, 9000))\n",
    "\n"
   ]
  },
  {
   "cell_type": "markdown",
   "metadata": {},
   "source": [
    "#### Calculating the mean and standard deviation of the bootstrap distribution"
   ]
  },
  {
   "cell_type": "code",
   "execution_count": null,
   "metadata": {},
   "outputs": [
    {
     "name": "stdout",
     "output_type": "stream",
     "text": [
      "[np.float64(0.2566297935741156), np.float64(0.12596516024051657), np.float64(1.3961240813101228), np.float64(0.0), np.float64(0.2858736875756382)]\n",
      "[np.float64(0.049002577704985846), np.float64(0.09598273849535295), np.float64(1.0268585416236724), np.float64(0.0), np.float64(0.13790114187609237)]\n"
     ]
    }
   ],
   "source": [
    "means_bootstraps_usgan_obs2_classification_subgroup, standards_deviations_usgan_obs2_classification_subgroup = toolkits.calc_mean_and_standard_deviation(results_bootstrap_usgan_obs2_classification_subgroup)\n",
    "\n",
    "print(means_bootstraps_usgan_obs2_classification_subgroup)\n",
    "print(standards_deviations_usgan_obs2_classification_subgroup)\n"
   ]
  },
  {
   "cell_type": "markdown",
   "metadata": {},
   "source": [
    "#### Calculating lower bound and upper bound"
   ]
  },
  {
   "cell_type": "code",
   "execution_count": null,
   "metadata": {},
   "outputs": [
    {
     "name": "stdout",
     "output_type": "stream",
     "text": [
      "[np.float64(0.1605865061227179), np.float64(-0.062157550347901436), np.float64(-0.6164816774895991), np.float64(0.0), np.float64(0.015592416071548876)]\n",
      "[np.float64(0.35267308102551326), np.float64(0.3140878708289346), np.float64(3.408729840109845), np.float64(0.0), np.float64(0.5561549590797275)]\n"
     ]
    }
   ],
   "source": [
    "lower_bounds_usgan_obs2_classification_subgroup, upper_bounds_usgan_obs2_classification_subgroup = toolkits.calc_lower_and_upper_bound(results_bootstrap_usgan_obs2_classification_subgroup, means_bootstraps_usgan_obs2_classification_subgroup, standards_deviations_usgan_obs2_classification_subgroup)\n",
    "\n",
    "print(lower_bounds_usgan_obs2_classification_subgroup)\n",
    "print(upper_bounds_usgan_obs2_classification_subgroup)"
   ]
  },
  {
   "cell_type": "code",
   "execution_count": null,
   "metadata": {},
   "outputs": [],
   "source": [
    "lower_bounds_usgan_obs2_classification_subgroup, upper_bounds_usgan_obs2_classification_subgroup = toolkits.calc_lower_and_upper_bound_percentile(results_bootstrap_usgan_obs2_classification_subgroup)\n",
    "\n",
    "print(lower_bounds_usgan_obs2_classification_subgroup)\n",
    "print(upper_bounds_usgan_obs2_classification_subgroup)"
   ]
  },
  {
   "cell_type": "markdown",
   "metadata": {},
   "source": [
    "#### Mean values of lower bound and upper bound"
   ]
  },
  {
   "cell_type": "code",
   "execution_count": null,
   "metadata": {},
   "outputs": [
    {
     "name": "stdout",
     "output_type": "stream",
     "text": [
      "[np.float64(0.2566297935741156), np.float64(0.12596516024051657), np.float64(1.396124081310123), np.float64(0.0), np.float64(0.28587368757563814)]\n"
     ]
    }
   ],
   "source": [
    "mean_values_ci_usgan_obs2_classification_subgroup  = toolkits.calc_mean_values_ci(lower_bounds_usgan_obs2_classification_subgroup, upper_bounds_usgan_obs2_classification_subgroup)\n",
    "\n",
    "print(mean_values_ci_usgan_obs2_classification_subgroup)"
   ]
  },
  {
   "cell_type": "markdown",
   "metadata": {},
   "source": [
    "### Confidence Interval (Obesity 3 classification subgroup)"
   ]
  },
  {
   "cell_type": "markdown",
   "metadata": {},
   "source": [
    "#### Distribution Bootstrap for the Top 5 variables with Largest Differences in MAE (Mean Absolute Error) "
   ]
  },
  {
   "cell_type": "code",
   "execution_count": null,
   "metadata": {},
   "outputs": [],
   "source": [
    "indices = [6,31,0,32,5]\n",
    "\n",
    "results_bootstrap_usgan_obs3_classification_subgroup = []\n",
    "\n",
    "for i in indices:\n",
    "       results_bootstrap_usgan_obs3_classification_subgroup.append(toolkits.bootstrap(testing_ae_usgan_variables_standard, indicating_mask_variable_standard_norm, 16, i, 9000))\n",
    "\n"
   ]
  },
  {
   "cell_type": "markdown",
   "metadata": {},
   "source": [
    "#### Calculating the mean and standard deviation of the bootstrap distribution"
   ]
  },
  {
   "cell_type": "code",
   "execution_count": null,
   "metadata": {},
   "outputs": [
    {
     "name": "stdout",
     "output_type": "stream",
     "text": [
      "[np.float64(0.15155417430747806), np.float64(0.0), np.float64(1.1593962687753612), np.float64(0.2442421185109458), np.float64(0.20886002502599546)]\n",
      "[np.float64(0.050281311239894225), np.float64(0.0), np.float64(0.8237478596037178), np.float64(0.19004214803335054), np.float64(0.12978497928121874)]\n"
     ]
    }
   ],
   "source": [
    "means_bootstraps_usgan_obs3_classification_subgroup, standards_deviations_usgan_obs3_classification_subgroup = toolkits.calc_mean_and_standard_deviation(results_bootstrap_usgan_obs3_classification_subgroup)\n",
    "\n",
    "print(means_bootstraps_usgan_obs3_classification_subgroup)\n",
    "print(standards_deviations_usgan_obs3_classification_subgroup)\n"
   ]
  },
  {
   "cell_type": "markdown",
   "metadata": {},
   "source": [
    "#### Calculating lower bound and upper bound"
   ]
  },
  {
   "cell_type": "code",
   "execution_count": null,
   "metadata": {},
   "outputs": [
    {
     "name": "stdout",
     "output_type": "stream",
     "text": [
      "[np.float64(0.05300461518183637), np.float64(0.0), np.float64(-0.4551198683898825), np.float64(-0.12823364717905072), np.float64(-0.045513860099470366)]\n",
      "[np.float64(0.25010373343311976), np.float64(0.0), np.float64(2.773912405940605), np.float64(0.6167178842009423), np.float64(0.4632339101514613)]\n"
     ]
    }
   ],
   "source": [
    "lower_bounds_usgan_obs3_classification_subgroup, upper_bounds_usgan_obs3_classification_subgroup = toolkits.calc_lower_and_upper_bound(results_bootstrap_usgan_obs3_classification_subgroup, means_bootstraps_usgan_obs3_classification_subgroup, standards_deviations_usgan_obs3_classification_subgroup)\n",
    "\n",
    "print(lower_bounds_usgan_obs3_classification_subgroup)\n",
    "print(upper_bounds_usgan_obs3_classification_subgroup)"
   ]
  },
  {
   "cell_type": "code",
   "execution_count": null,
   "metadata": {},
   "outputs": [],
   "source": [
    "lower_bounds_usgan_obs3_classification_subgroup, upper_bounds_usgan_obs3_classification_subgroup = toolkits.calc_lower_and_upper_bound(results_bootstrap_usgan_obs3_classification_subgroup)\n",
    "\n",
    "print(lower_bounds_usgan_obs3_classification_subgroup)\n",
    "print(upper_bounds_usgan_obs3_classification_subgroup)"
   ]
  },
  {
   "cell_type": "markdown",
   "metadata": {},
   "source": [
    "#### Mean values of lower bound and upper bound"
   ]
  },
  {
   "cell_type": "code",
   "execution_count": null,
   "metadata": {},
   "outputs": [
    {
     "name": "stdout",
     "output_type": "stream",
     "text": [
      "[np.float64(0.15155417430747806), np.float64(0.0), np.float64(1.1593962687753612), np.float64(0.2442421185109458), np.float64(0.2088600250259955)]\n"
     ]
    }
   ],
   "source": [
    "mean_values_ci_usgan_obs3_classification_subgroup  = toolkits.calc_mean_values_ci(lower_bounds_usgan_obs3_classification_subgroup, upper_bounds_usgan_obs3_classification_subgroup)\n",
    "\n",
    "print(mean_values_ci_usgan_obs3_classification_subgroup)"
   ]
  },
  {
   "cell_type": "markdown",
   "metadata": {},
   "source": [
    "## GPVAE"
   ]
  },
  {
   "cell_type": "markdown",
   "metadata": {},
   "source": [
    "### Calculate MAE and AE"
   ]
  },
  {
   "cell_type": "code",
   "execution_count": null,
   "metadata": {},
   "outputs": [],
   "source": [
    "testing_mae_gpvae_variables_standard, testing_ae_gpvae_variables_standard = toolkits.calculate_mae(gpvae_imputation_standard, test_X_ori_variable_standard_norm, indicating_mask_variable_standard_norm)"
   ]
  },
  {
   "cell_type": "markdown",
   "metadata": {},
   "source": [
    "### Taking the MAE difference for GPVAE model"
   ]
  },
  {
   "cell_type": "markdown",
   "metadata": {},
   "source": [
    "#### Difference between gender group"
   ]
  },
  {
   "cell_type": "code",
   "execution_count": null,
   "metadata": {},
   "outputs": [
    {
     "data": {
      "text/plain": [
       "[('Cholesterol', 0.7169863050614339),\n",
       " ('SaO2', 0.20890310598463563),\n",
       " ('AST', 0.20239902682582445),\n",
       " ('Creatinine', 0.14547286040991392),\n",
       " ('Lactate', 0.10004376501079093)]"
      ]
     },
     "execution_count": 31,
     "metadata": {},
     "output_type": "execute_result"
    }
   ],
   "source": [
    "diff_gpvae_gender_subgroup = toolkits.diff_mae_top_5(testing_mae_gpvae_variables_standard, 1, 2, variables)\n",
    "diff_gpvae_gender_subgroup"
   ]
  },
  {
   "cell_type": "markdown",
   "metadata": {},
   "source": [
    "#### Difference between age group"
   ]
  },
  {
   "cell_type": "code",
   "execution_count": null,
   "metadata": {},
   "outputs": [
    {
     "data": {
      "text/plain": [
       "[('Cholesterol', 0.49957543635081736),\n",
       " ('ALP', 0.44452750749784475),\n",
       " ('TroponinI', 0.2618898374982579),\n",
       " ('SaO2', 0.21620679352892658),\n",
       " ('Albumin', 0.1910974661437378)]"
      ]
     },
     "execution_count": 32,
     "metadata": {},
     "output_type": "execute_result"
    }
   ],
   "source": [
    "diff_gpvae_age_subgroup = toolkits.diff_mae_top_5(testing_mae_gpvae_variables_standard, 4, 5, variables)\n",
    "diff_gpvae_age_subgroup"
   ]
  },
  {
   "cell_type": "markdown",
   "metadata": {},
   "source": [
    "#### Difference between ICUType group"
   ]
  },
  {
   "cell_type": "code",
   "execution_count": null,
   "metadata": {},
   "outputs": [],
   "source": [
    "diff_gpvae_ICUType_1_2 = toolkits.diff_mae_top_5(testing_mae_gpvae_variables_standard, 6, 7, variables)\n",
    "diff_gpvae_ICUType_1_3 = toolkits.diff_mae_top_5(testing_mae_gpvae_variables_standard, 6, 8, variables)\n",
    "diff_gpvae_ICUType_1_4 = toolkits.diff_mae_top_5(testing_mae_gpvae_variables_standard, 6, 9, variables)\n",
    "diff_gpvae_ICUType_2_3 = toolkits.diff_mae_top_5(testing_mae_gpvae_variables_standard, 7, 8, variables)\n",
    "diff_gpvae_ICUType_2_4 = toolkits.diff_mae_top_5(testing_mae_gpvae_variables_standard, 7, 9, variables)\n",
    "diff_gpvae_ICUType_3_4 = toolkits.diff_mae_top_5(testing_mae_gpvae_variables_standard, 8, 9, variables)"
   ]
  },
  {
   "cell_type": "code",
   "execution_count": null,
   "metadata": {},
   "outputs": [
    {
     "name": "stdout",
     "output_type": "stream",
     "text": [
      "Diferença(MAE) ICUType 1 e 2\n",
      "----------------------------\n",
      "[('Cholesterol', 0.9502364805777341), ('TroponinI', 0.8918236664146777), ('TroponinT', 0.3114883755971654), ('HCO3', 0.23628939822722694), ('SaO2', 0.23145972909185003)]\n",
      "----------------------------\n",
      "Diferença(MAE) ICUType 1 e 3\n",
      "----------------------------\n",
      "[('SaO2', 0.9937353873628099), ('ALP', 0.8302413758449083), ('TroponinI', 0.7412819088709723), ('Cholesterol', 0.406672113721821), ('TroponinT', 0.37481609205650046)]\n",
      "----------------------------\n",
      "Diferença(MAE) ICUType 1 e 4\n",
      "----------------------------\n",
      "[('TroponinT', 0.4347207972367254), ('TroponinI', 0.4317269923877344), ('Cholesterol', 0.31119956124464043), ('ALP', 0.24020355084081502), ('Bilirubin', 0.2227724629487818)]\n",
      "----------------------------\n",
      "Diferença(MAE) ICUType 2 e 3\n",
      "[('SaO2', 1.22519511645466), ('ALP', 0.7677499234797236), ('Cholesterol', 0.5435643668559131), ('PaCO2', 0.40728844810871434), ('HCO3', 0.3961385611965824)]\n",
      "----------------------------\n",
      "Diferença(MAE) ICUType 2 e 4\n",
      "----------------------------\n",
      "[('Cholesterol', 0.6390369193330937), ('TroponinI', 0.4600966740269433), ('GCS', 0.2509358813366239), ('ALT', 0.20917453987024603), ('ALP', 0.17771209847563035)]\n",
      "----------------------------\n",
      "Diferença(MAE) ICUType 3 e 4\n",
      "----------------------------\n",
      "[('SaO2', 1.1023326512800438), ('ALP', 0.5900378250040933), ('PaCO2', 0.3610456566952175), ('TroponinI', 0.30955491648323796), ('Creatinine', 0.29616868838921245)]\n",
      "----------------------------\n"
     ]
    }
   ],
   "source": [
    "print(\"Diferença(MAE) ICUType 1 e 2\")\n",
    "print(\"----------------------------\")\n",
    "print(diff_gpvae_ICUType_1_2)\n",
    "print(\"----------------------------\")\n",
    "print(\"Diferença(MAE) ICUType 1 e 3\")\n",
    "print(\"----------------------------\")\n",
    "print(diff_gpvae_ICUType_1_3)\n",
    "print(\"----------------------------\")\n",
    "print(\"Diferença(MAE) ICUType 1 e 4\")\n",
    "print(\"----------------------------\")\n",
    "print(diff_gpvae_ICUType_1_4)\n",
    "print(\"----------------------------\")\n",
    "print(\"Diferença(MAE) ICUType 2 e 3\")\n",
    "print(diff_gpvae_ICUType_2_3)\n",
    "print(\"----------------------------\")\n",
    "print(\"Diferença(MAE) ICUType 2 e 4\")\n",
    "print(\"----------------------------\")\n",
    "print(diff_gpvae_ICUType_2_4)\n",
    "print(\"----------------------------\")\n",
    "print(\"Diferença(MAE) ICUType 3 e 4\")\n",
    "print(\"----------------------------\")\n",
    "print(diff_gpvae_ICUType_3_4)\n",
    "print(\"----------------------------\")"
   ]
  },
  {
   "cell_type": "code",
   "execution_count": null,
   "metadata": {},
   "outputs": [
    {
     "name": "stdout",
     "output_type": "stream",
     "text": [
      "Top 5 variáveis ICUType\n",
      "-----------------------\n",
      "SaO2\n",
      "ALP\n",
      "Cholesterol\n",
      "TroponinI\n",
      "TroponinT\n"
     ]
    }
   ],
   "source": [
    "print(\"Top 5 variáveis ICUType\")\n",
    "print(\"-----------------------\")\n",
    "print(variables[28])\n",
    "print(variables[31])\n",
    "print(variables[0])\n",
    "print(variables[6])\n",
    "print(variables[32])"
   ]
  },
  {
   "cell_type": "markdown",
   "metadata": {},
   "source": [
    "#### Difference between BMI group"
   ]
  },
  {
   "cell_type": "code",
   "execution_count": null,
   "metadata": {},
   "outputs": [],
   "source": [
    "diff_gpvae_classification_undefined_low = toolkits.diff_mae_top_5(testing_mae_gpvae_variables_standard, 10, 11, variables)\n",
    "diff_gpvae_classification_undefined_normal = toolkits.diff_mae_top_5(testing_mae_gpvae_variables_standard, 10, 12, variables)\n",
    "diff_gpvae_classification_undefined_over = toolkits.diff_mae_top_5(testing_mae_gpvae_variables_standard, 10, 13, variables)\n",
    "diff_gpvae_classification_undefined_obs1 = toolkits.diff_mae_top_5(testing_mae_gpvae_variables_standard, 10, 14, variables)\n",
    "diff_gpvae_classification_undefined_obs2 = toolkits.diff_mae_top_5(testing_mae_gpvae_variables_standard, 10, 15, variables)\n",
    "diff_gpvae_classification_undefined_obs3 = toolkits.diff_mae_top_5(testing_mae_gpvae_variables_standard, 10, 16, variables)\n",
    "\n",
    "diff_gpvae_classification_low_normal = toolkits.diff_mae_top_5(testing_mae_gpvae_variables_standard, 11, 12, variables)\n",
    "diff_gpvae_classification_low_over = toolkits.diff_mae_top_5(testing_mae_gpvae_variables_standard, 11, 13, variables)\n",
    "diff_gpvae_classification_low_obs1 = toolkits.diff_mae_top_5(testing_mae_gpvae_variables_standard, 11, 14, variables)\n",
    "diff_gpvae_classification_low_obs2 = toolkits.diff_mae_top_5(testing_mae_gpvae_variables_standard, 11, 15, variables)\n",
    "diff_gpvae_classification_low_obs3 = toolkits.diff_mae_top_5(testing_mae_gpvae_variables_standard, 11, 16, variables)\n",
    "\n",
    "diff_gpvae_classification_normal_over = toolkits.diff_mae_top_5(testing_mae_gpvae_variables_standard, 12, 13, variables)\n",
    "diff_gpvae_classification_normal_obs1 = toolkits.diff_mae_top_5(testing_mae_gpvae_variables_standard, 12, 14, variables)\n",
    "diff_gpvae_classification_normal_obs2 = toolkits.diff_mae_top_5(testing_mae_gpvae_variables_standard, 12, 15, variables)\n",
    "diff_gpvae_classification_normal_obs3 = toolkits.diff_mae_top_5(testing_mae_gpvae_variables_standard, 12, 16, variables)\n",
    "\n",
    "diff_gpvae_classification_over_obs1 = toolkits.diff_mae_top_5(testing_mae_gpvae_variables_standard, 13, 14, variables)\n",
    "diff_gpvae_classification_over_obs2 = toolkits.diff_mae_top_5(testing_mae_gpvae_variables_standard, 13, 15, variables)\n",
    "diff_gpvae_classification_over_obs3 = toolkits.diff_mae_top_5(testing_mae_gpvae_variables_standard, 13, 16, variables)\n",
    "\n",
    "\n",
    "diff_gpvae_classification_obs1_obs2 = toolkits.diff_mae_top_5(testing_mae_gpvae_variables_standard, 14, 15, variables)\n",
    "diff_gpvae_classification_obs1_obs3 = toolkits.diff_mae_top_5(testing_mae_gpvae_variables_standard, 14, 16, variables)\n",
    "\n",
    "diff_gpvae_classification_obs2_obs3 = toolkits.diff_mae_top_5(testing_mae_gpvae_variables_standard, 15, 16, variables)"
   ]
  },
  {
   "cell_type": "code",
   "execution_count": null,
   "metadata": {},
   "outputs": [
    {
     "name": "stdout",
     "output_type": "stream",
     "text": [
      "Diferença(MAE) Classification Undefined and low\n",
      "----------------------------\n",
      "[('ALP', 1.4984287714039075), ('Bilirubin', 0.9811191215037678), ('TroponinI', 0.8126922038658223), ('Cholesterol', 0.5201117490423033), ('Lactate', 0.4554101566283363)]\n",
      "----------------------------\n",
      "Diferença(MAE) Classification Undefined and normal\n",
      "----------------------------\n",
      "[('PaCO2', 0.26413489264298506), ('SaO2', 0.2556269283251386), ('ALT', 0.20532099691202862), ('Platelets', 0.1705636160025804), ('HCO3', 0.1633457333551286)]\n",
      "----------------------------\n",
      "Diferença(MAE) Classification Undefined and over\n",
      "----------------------------\n",
      "[('Cholesterol', 0.8097408650488799), ('TroponinI', 0.3305148845346736), ('TroponinT', 0.2897346238466169), ('PaCO2', 0.2579367576470314), ('SaO2', 0.24006883512626825)]\n",
      "----------------------------\n",
      "Diferença(MAE) Classification Undefined and obs1\n",
      "[('Ph', 0.8803621039317031), ('SaO2', 0.2591527877822734), ('PaCO2', 0.2568282809114367), ('Cholesterol', 0.23640482047021322), ('HCO3', 0.23043706423950405)]\n",
      "----------------------------\n",
      "Diferença(MAE) Classification Undefined and obs2\n",
      "----------------------------\n",
      "[('TroponinT', 0.9533070601823517), ('TroponinI', 0.8126922038658223), ('ALT', 0.33450295823583237), ('Cholesterol', 0.27529398489468704), ('PaCO2', 0.2736321487114446)]\n",
      "----------------------------\n",
      "Diferença(MAE) ICUType Undefined and obs3\n",
      "----------------------------\n",
      "[('ALT', 1.2303285128178574), ('TroponinT', 0.7436229530780296), ('Cholesterol', 0.5491446861096875), ('TroponinI', 0.5450323197620713), ('Albumin', 0.33665254446109955)]\n",
      "----------------------------\n"
     ]
    }
   ],
   "source": [
    "print(\"Diferença(MAE) Classification Undefined and low\")\n",
    "print(\"----------------------------\")\n",
    "print(diff_gpvae_classification_undefined_low)\n",
    "print(\"----------------------------\")\n",
    "print(\"Diferença(MAE) Classification Undefined and normal\")\n",
    "print(\"----------------------------\")\n",
    "print(diff_gpvae_classification_undefined_normal)\n",
    "print(\"----------------------------\")\n",
    "print(\"Diferença(MAE) Classification Undefined and over\")\n",
    "print(\"----------------------------\")\n",
    "print(diff_gpvae_classification_undefined_over)\n",
    "print(\"----------------------------\")\n",
    "print(\"Diferença(MAE) Classification Undefined and obs1\")\n",
    "print(diff_gpvae_classification_undefined_obs1)\n",
    "print(\"----------------------------\")\n",
    "print(\"Diferença(MAE) Classification Undefined and obs2\")\n",
    "print(\"----------------------------\")\n",
    "print(diff_gpvae_classification_undefined_obs2)\n",
    "print(\"----------------------------\")\n",
    "print(\"Diferença(MAE) ICUType Undefined and obs3\")\n",
    "print(\"----------------------------\")\n",
    "print(diff_gpvae_classification_undefined_obs3)\n",
    "print(\"----------------------------\")"
   ]
  },
  {
   "cell_type": "code",
   "execution_count": null,
   "metadata": {},
   "outputs": [
    {
     "name": "stdout",
     "output_type": "stream",
     "text": [
      "Diferença(MAE) Classification low and normal\n",
      "----------------------------\n",
      "[('ALP', 1.403021537470746), ('Bilirubin', 0.9461369295522424), ('TroponinI', 0.6835013443205654), ('Cholesterol', 0.5801292127536045), ('HCO3', 0.5142557195063615)]\n",
      "----------------------------\n",
      "Diferença(MAE) Classification low and over\n",
      "----------------------------\n",
      "[('ALP', 1.5835896949503965), ('Cholesterol', 1.329852614091183), ('TroponinI', 1.143207088400496), ('Bilirubin', 1.128743649214257), ('HCO3', 0.5693350874264985)]\n",
      "----------------------------\n",
      "Diferença(MAE) Classification low and obs1\n",
      "----------------------------\n",
      "[('ALP', 1.6272017145736122), ('Bilirubin', 1.0852515823152353), ('Ph', 0.8728858021745433), ('TroponinI', 0.5900021366441112), ('HCO3', 0.581347050390737)]\n",
      "----------------------------\n",
      "Diferença(MAE) Classification low and obs2\n",
      "[('ALP', 1.6404632350073978), ('Bilirubin', 1.0958944421751695), ('TroponinT', 0.7259970588377027), ('HCO3', 0.5949372708589092), ('ALT', 0.49226456329646173)]\n",
      "----------------------------\n",
      "Diferença(MAE) Classification low and obs3\n",
      "----------------------------\n",
      "[('ALP', 1.7294334923739616), ('ALT', 1.3880901178784866), ('Bilirubin', 1.035624538850485), ('TroponinT', 0.5163129517333807), ('PaO2', 0.3598040604236017)]\n",
      "----------------------------\n"
     ]
    }
   ],
   "source": [
    "print(\"Diferença(MAE) Classification low and normal\")\n",
    "print(\"----------------------------\")\n",
    "print(diff_gpvae_classification_low_normal)\n",
    "print(\"----------------------------\")\n",
    "print(\"Diferença(MAE) Classification low and over\")\n",
    "print(\"----------------------------\")\n",
    "print(diff_gpvae_classification_low_over)\n",
    "print(\"----------------------------\")\n",
    "print(\"Diferença(MAE) Classification low and obs1\")\n",
    "print(\"----------------------------\")\n",
    "print(diff_gpvae_classification_low_obs1)\n",
    "print(\"----------------------------\")\n",
    "print(\"Diferença(MAE) Classification low and obs2\")\n",
    "print(diff_gpvae_classification_low_obs2)\n",
    "print(\"----------------------------\")\n",
    "print(\"Diferença(MAE) Classification low and obs3\")\n",
    "print(\"----------------------------\")\n",
    "print(diff_gpvae_classification_low_obs3)\n",
    "print(\"----------------------------\")"
   ]
  },
  {
   "cell_type": "code",
   "execution_count": null,
   "metadata": {},
   "outputs": [
    {
     "name": "stdout",
     "output_type": "stream",
     "text": [
      "Diferença(MAE) Classification normal and over\n",
      "----------------------------\n",
      "[('Cholesterol', 0.7497234013375786), ('TroponinI', 0.4597057440799305), ('TroponinT', 0.35357540568797513), ('ALT', 0.32170038759579944), ('Bilirubin', 0.18260671966201464)]\n",
      "----------------------------\n",
      "Diferença(MAE) Classification normal and obs1\n",
      "----------------------------\n",
      "[('Ph', 0.8880086026672669), ('Cholesterol', 0.29642228418151445), ('ALP', 0.22418017710286614), ('Mg', 0.17276537650943447), ('Creatinine', 0.16845587072682183)]\n",
      "----------------------------\n",
      "Diferença(MAE) Classification normal and obs2\n",
      "----------------------------\n",
      "[('TroponinT', 1.01714784202371), ('TroponinI', 0.6835013443205654), ('ALT', 0.539823955147861), ('Cholesterol', 0.33531144860598827), ('BUN', 0.2971806787390593)]\n",
      "----------------------------\n",
      "Diferença(MAE) Classification normal and obs3\n",
      "[('ALT', 1.435649509729886), ('TroponinT', 0.8074637349193878), ('Cholesterol', 0.6091621498209887), ('TroponinI', 0.41584146021681445), ('Weight', 0.3688467283662803)]\n",
      "----------------------------\n"
     ]
    }
   ],
   "source": [
    "print(\"Diferença(MAE) Classification normal and over\")\n",
    "print(\"----------------------------\")\n",
    "print(diff_gpvae_classification_normal_over)\n",
    "print(\"----------------------------\")\n",
    "print(\"Diferença(MAE) Classification normal and obs1\")\n",
    "print(\"----------------------------\")\n",
    "print(diff_gpvae_classification_normal_obs1)\n",
    "print(\"----------------------------\")\n",
    "print(\"Diferença(MAE) Classification normal and obs2\")\n",
    "print(\"----------------------------\")\n",
    "print(diff_gpvae_classification_normal_obs2)\n",
    "print(\"----------------------------\")\n",
    "print(\"Diferença(MAE) Classification normal and obs3\")\n",
    "print(diff_gpvae_classification_normal_obs3)\n",
    "print(\"----------------------------\")"
   ]
  },
  {
   "cell_type": "code",
   "execution_count": null,
   "metadata": {},
   "outputs": [
    {
     "name": "stdout",
     "output_type": "stream",
     "text": [
      "Diferença(MAE) Classification over and obs1\n",
      "----------------------------\n",
      "[('Cholesterol', 1.0461456855190931), ('Ph', 0.8934708178133868), ('TroponinI', 0.5532049517563847), ('TroponinT', 0.3830546982731618), ('ALT', 0.2675466002043284)]\n",
      "----------------------------\n",
      "Diferença(MAE) Classification over and obs2\n",
      "----------------------------\n",
      "[('TroponinI', 1.143207088400496), ('Cholesterol', 1.085034849943567), ('TroponinT', 0.6635724363357348), ('BUN', 0.3170724188083759), ('AST', 0.21918031375498315)]\n",
      "----------------------------\n",
      "Diferença(MAE) Classification over and obs3\n",
      "----------------------------\n",
      "[('Cholesterol', 1.3588855511585674), ('ALT', 1.1139491221340865), ('TroponinI', 0.8755472042967449), ('TroponinT', 0.45388832923141276), ('Weight', 0.3685338792048445)]\n",
      "----------------------------\n"
     ]
    }
   ],
   "source": [
    "print(\"Diferença(MAE) Classification over and obs1\")\n",
    "print(\"----------------------------\")\n",
    "print(diff_gpvae_classification_over_obs1)\n",
    "print(\"----------------------------\")\n",
    "print(\"Diferença(MAE) Classification over and obs2\")\n",
    "print(\"----------------------------\")\n",
    "print(diff_gpvae_classification_over_obs2)\n",
    "print(\"----------------------------\")\n",
    "print(\"Diferença(MAE) Classification over and obs3\")\n",
    "print(\"----------------------------\")\n",
    "print(diff_gpvae_classification_over_obs3)\n",
    "print(\"----------------------------\")"
   ]
  },
  {
   "cell_type": "code",
   "execution_count": null,
   "metadata": {},
   "outputs": [
    {
     "name": "stdout",
     "output_type": "stream",
     "text": [
      "Diferença(MAE) Classification obs1 and obs2 \n",
      "----------------------------\n",
      "[('TroponinT', 1.0466271346088967), ('Ph', 0.8973569138255766), ('TroponinI', 0.5900021366441112), ('ALT', 0.48567016775638994), ('BUN', 0.25576191544464466)]\n",
      "----------------------------\n",
      "Diferença(MAE) Classification obs1 and obs3 \n",
      "----------------------------\n",
      "[('ALT', 1.381495722338415), ('Ph', 0.8941617584582486), ('TroponinT', 0.8369430275045746), ('Glucose', 0.3283979292549837), ('TroponinI', 0.3223422525403602)]\n",
      "----------------------------\n"
     ]
    }
   ],
   "source": [
    "print(\"Diferença(MAE) Classification obs1 and obs2 \")\n",
    "print(\"----------------------------\")\n",
    "print(diff_gpvae_classification_obs1_obs2)\n",
    "print(\"----------------------------\")\n",
    "print(\"Diferença(MAE) Classification obs1 and obs3 \")\n",
    "print(\"----------------------------\")\n",
    "print(diff_gpvae_classification_obs1_obs3)\n",
    "print(\"----------------------------\")"
   ]
  },
  {
   "cell_type": "code",
   "execution_count": null,
   "metadata": {},
   "outputs": [
    {
     "name": "stdout",
     "output_type": "stream",
     "text": [
      "Diferença(MAE) Classification obs2 and obs3 \n",
      "----------------------------\n",
      "[('ALT', 0.895825554582025), ('HCO3', 0.3183493427852112), ('Cholesterol', 0.27385070121500044), ('TroponinI', 0.26765988410375097), ('Weight', 0.26357190666548425)]\n",
      "----------------------------\n"
     ]
    }
   ],
   "source": [
    "print(\"Diferença(MAE) Classification obs2 and obs3 \")\n",
    "print(\"----------------------------\")\n",
    "print(diff_gpvae_classification_obs2_obs3)\n",
    "print(\"----------------------------\")"
   ]
  },
  {
   "cell_type": "code",
   "execution_count": null,
   "metadata": {},
   "outputs": [
    {
     "name": "stdout",
     "output_type": "stream",
     "text": [
      "Top 5 variáveis BMI\n",
      "-----------------------\n",
      "ALT\n",
      "TroponinI\n",
      "Cholesterol\n",
      "ALP\n",
      "TroponinT\n"
     ]
    }
   ],
   "source": [
    "print(\"Top 5 variáveis BMI\")\n",
    "print(\"-----------------------\")\n",
    "print(variables[1])\n",
    "print(variables[31])\n",
    "print(variables[6])\n",
    "print(variables[0])\n",
    "print(variables[32])"
   ]
  },
  {
   "cell_type": "markdown",
   "metadata": {},
   "source": [
    "### Confidence Interval (Female Subgroup)"
   ]
  },
  {
   "cell_type": "markdown",
   "metadata": {},
   "source": [
    "#### Distribution Bootstrap for the Top 5 variables with Largest Differences in MAE (Mean Absolute Error) "
   ]
  },
  {
   "cell_type": "code",
   "execution_count": null,
   "metadata": {},
   "outputs": [],
   "source": [
    "indices = [6,28,2,7,16]\n",
    "\n",
    "results_bootstrap_gpvae_female = []\n",
    "\n",
    "for i in indices:\n",
    "       results_bootstrap_gpvae_female.append(toolkits.bootstrap(testing_ae_gpvae_variables_standard, indicating_mask_variable_standard_norm, 1, i, 9000))"
   ]
  },
  {
   "cell_type": "markdown",
   "metadata": {},
   "source": [
    "#### Calculating the mean and standard deviation of the bootstrap distribution"
   ]
  },
  {
   "cell_type": "code",
   "execution_count": null,
   "metadata": {},
   "outputs": [
    {
     "name": "stdout",
     "output_type": "stream",
     "text": [
      "[np.float64(1.1862831276383659), np.float64(0.2997961472873614), np.float64(0.5235753507673425), np.float64(0.25226284763473317), np.float64(0.4254263754490005)]\n",
      "[np.float64(0.3381506628642691), np.float64(0.08322467917877542), np.float64(0.07193090333728737), np.float64(0.02436604729618584), np.float64(0.03851788865527756)]\n"
     ]
    }
   ],
   "source": [
    "means_bootstraps_gpvae_female,standards_deviations_gpvae_female = toolkits.calc_mean_and_standard_deviation(results_bootstrap_gpvae_female)\n",
    "\n",
    "print(means_bootstraps_gpvae_female)\n",
    "print(standards_deviations_gpvae_female)\n"
   ]
  },
  {
   "cell_type": "markdown",
   "metadata": {},
   "source": [
    "#### Calculating lower bound and upper bound"
   ]
  },
  {
   "cell_type": "code",
   "execution_count": null,
   "metadata": {},
   "outputs": [
    {
     "name": "stdout",
     "output_type": "stream",
     "text": [
      "[np.float64(0.5235200070760525), np.float64(0.1366787734720611), np.float64(0.3825933708508273), np.float64(0.20450627248860936), np.float64(0.3499327009241326)]\n",
      "[np.float64(1.849046248200679), np.float64(0.46291352110266176), np.float64(0.6645573306838577), np.float64(0.30001942278085697), np.float64(0.5009200499738685)]\n"
     ]
    }
   ],
   "source": [
    "lower_bounds_gpvae_female, upper_bounds_gpvae_female = toolkits.calc_lower_and_upper_bound(results_bootstrap_gpvae_female, means_bootstraps_gpvae_female,standards_deviations_gpvae_female)\n",
    "\n",
    "print(lower_bounds_gpvae_female)\n",
    "print(upper_bounds_gpvae_female)"
   ]
  },
  {
   "cell_type": "code",
   "execution_count": null,
   "metadata": {},
   "outputs": [],
   "source": [
    "lower_bounds_gpvae_female, upper_bounds_gpvae_female = toolkits.calc_lower_and_upper_bound_percentile(results_bootstrap_gpvae_female)\n",
    "\n",
    "print(lower_bounds_gpvae_female)\n",
    "print(upper_bounds_gpvae_female)"
   ]
  },
  {
   "cell_type": "markdown",
   "metadata": {},
   "source": [
    "#### Mean values of lower bound and upper bound\n"
   ]
  },
  {
   "cell_type": "code",
   "execution_count": null,
   "metadata": {},
   "outputs": [
    {
     "name": "stdout",
     "output_type": "stream",
     "text": [
      "[np.float64(1.1862831276383659), np.float64(0.2997961472873614), np.float64(0.5235753507673425), np.float64(0.25226284763473317), np.float64(0.4254263754490005)]\n"
     ]
    }
   ],
   "source": [
    "mean_values_ci_gpvae_female = toolkits.calc_mean_values_ci(lower_bounds_gpvae_female, upper_bounds_gpvae_female)\n",
    "\n",
    "print(mean_values_ci_gpvae_female)"
   ]
  },
  {
   "cell_type": "markdown",
   "metadata": {},
   "source": [
    "### Confidence Interval (Male Subgroup)"
   ]
  },
  {
   "cell_type": "markdown",
   "metadata": {},
   "source": [
    "#### Distribution Bootstrap for the Top 5 variables with Largest Differences in MAE (Mean Absolute Error) "
   ]
  },
  {
   "cell_type": "code",
   "execution_count": null,
   "metadata": {},
   "outputs": [],
   "source": [
    "indices = [6,28,2,7,16]\n",
    "\n",
    "results_bootstrap_gpvae_male = []\n",
    "\n",
    "for i in indices:\n",
    "       results_bootstrap_gpvae_male.append(toolkits.bootstrap(testing_ae_gpvae_variables_standard, indicating_mask_variable_standard_norm, 2, i, 9000))"
   ]
  },
  {
   "cell_type": "markdown",
   "metadata": {},
   "source": [
    "#### Calculating the mean and standard deviation of the bootstrap distribution"
   ]
  },
  {
   "cell_type": "code",
   "execution_count": null,
   "metadata": {},
   "outputs": [
    {
     "name": "stdout",
     "output_type": "stream",
     "text": [
      "[np.float64(0.8532085999273139), np.float64(0.12173798464939829), np.float64(0.7001687284700588), np.float64(0.4070497014201909), np.float64(0.5221586240945711)]\n",
      "[np.float64(0.17358454405745072), np.float64(0.025632322705534415), np.float64(0.2124414858781128), np.float64(0.03724148791663912), np.float64(0.04259881898681301)]\n"
     ]
    }
   ],
   "source": [
    "means_bootstraps_gpvae_male,standards_deviations_gpvae_male = toolkits.calc_mean_and_standard_deviation(results_bootstrap_gpvae_male)\n",
    "\n",
    "print(means_bootstraps_gpvae_male)\n",
    "print(standards_deviations_gpvae_male)\n"
   ]
  },
  {
   "cell_type": "markdown",
   "metadata": {},
   "source": [
    "#### Calculating lower bound and upper bound"
   ]
  },
  {
   "cell_type": "code",
   "execution_count": null,
   "metadata": {},
   "outputs": [
    {
     "name": "stdout",
     "output_type": "stream",
     "text": [
      "[np.float64(0.5129891453019042), np.float64(0.07149955530644256), np.float64(0.2837910673267833), np.float64(0.33405772637289466), np.float64(0.4386664730964766)]\n",
      "[np.float64(1.1934280545527236), np.float64(0.17197641399235403), np.float64(1.1165463896133345), np.float64(0.4800416764674872), np.float64(0.6056507750926656)]\n"
     ]
    }
   ],
   "source": [
    "lower_bounds_gpvae_male, upper_bounds_gpvae_male = toolkits.calc_lower_and_upper_bound(results_bootstrap_gpvae_male, means_bootstraps_gpvae_male,standards_deviations_gpvae_male)\n",
    "\n",
    "print(lower_bounds_gpvae_male)\n",
    "print(upper_bounds_gpvae_male)"
   ]
  },
  {
   "cell_type": "code",
   "execution_count": null,
   "metadata": {},
   "outputs": [],
   "source": [
    "lower_bounds_gpvae_male, upper_bounds_gpvae_male = toolkits.calc_lower_and_upper_bound_percentile(results_bootstrap_gpvae_male)\n",
    "\n",
    "print(lower_bounds_gpvae_male)\n",
    "print(upper_bounds_gpvae_male)"
   ]
  },
  {
   "cell_type": "markdown",
   "metadata": {},
   "source": [
    "#### Mean values of lower bound and upper bound\n"
   ]
  },
  {
   "cell_type": "code",
   "execution_count": null,
   "metadata": {},
   "outputs": [
    {
     "name": "stdout",
     "output_type": "stream",
     "text": [
      "[np.float64(0.8532085999273139), np.float64(0.12173798464939829), np.float64(0.7001687284700588), np.float64(0.4070497014201909), np.float64(0.5221586240945711)]\n"
     ]
    }
   ],
   "source": [
    "mean_values_ci_gpvae_male = toolkits.calc_mean_values_ci(lower_bounds_gpvae_male, upper_bounds_gpvae_male)\n",
    "\n",
    "print(mean_values_ci_gpvae_male)"
   ]
  },
  {
   "cell_type": "markdown",
   "metadata": {},
   "source": [
    "### Confidence Interval (+65 Subgroup)"
   ]
  },
  {
   "cell_type": "markdown",
   "metadata": {},
   "source": [
    "#### Distribution Bootstrap for the Top 5 variables with Largest Differences in MAE (Mean Absolute Error) "
   ]
  },
  {
   "cell_type": "code",
   "execution_count": null,
   "metadata": {},
   "outputs": [],
   "source": [
    "indices = [6,0,31,28,3]\n",
    "\n",
    "results_bootstrap_gpvae_more_than_or_equal_to_65_subgroup = []\n",
    "\n",
    "for i in indices:\n",
    "       results_bootstrap_gpvae_more_than_or_equal_to_65_subgroup.append(toolkits.bootstrap(testing_ae_gpvae_variables_standard, indicating_mask_variable_standard_norm, 4, i, 9000))\n"
   ]
  },
  {
   "cell_type": "markdown",
   "metadata": {},
   "source": [
    "#### Calculating the mean and standard deviation of the bootstrap distribution"
   ]
  },
  {
   "cell_type": "code",
   "execution_count": null,
   "metadata": {},
   "outputs": [
    {
     "name": "stdout",
     "output_type": "stream",
     "text": [
      "[np.float64(0.6351102299479717), np.float64(0.9260057824625499), np.float64(0.23893718663634383), np.float64(0.6634109698540213), np.float64(0.5742005222250958)]\n",
      "[np.float64(0.14022222850550667), np.float64(0.2902139592129938), np.float64(0.025161049870449845), np.float64(0.08795901770065773), np.float64(0.06166376517595487)]\n"
     ]
    }
   ],
   "source": [
    "means_bootstraps_gpvae_more_than_or_equal_to_65_subgroup,standards_deviations_gpvae_more_than_or_equal_to_65_subgroup = toolkits.calc_mean_and_standard_deviation(results_bootstrap_gpvae_more_than_or_equal_to_65_subgroup)\n",
    "\n",
    "print(means_bootstraps_gpvae_more_than_or_equal_to_65_subgroup)\n",
    "print(standards_deviations_gpvae_more_than_or_equal_to_65_subgroup)"
   ]
  },
  {
   "cell_type": "markdown",
   "metadata": {},
   "source": [
    "#### Calculating lower bound and upper bound\n"
   ]
  },
  {
   "cell_type": "code",
   "execution_count": null,
   "metadata": {},
   "outputs": [
    {
     "name": "stdout",
     "output_type": "stream",
     "text": [
      "[np.float64(0.3602797122452329), np.float64(0.3571968745943058), np.float64(0.18962243507704596), np.float64(0.491014463045211), np.float64(0.45334176332908904)]\n",
      "[np.float64(0.9099407476507105), np.float64(1.4948146903307942), np.float64(0.2882519381956417), np.float64(0.8358074766628315), np.float64(0.6950592811211025)]\n"
     ]
    }
   ],
   "source": [
    "lower_bounds_gpvae_more_than_or_equal_to_65_subgroup, upper_bounds_gpvae_more_than_or_equal_to_65_subgroup = toolkits.calc_lower_and_upper_bound(results_bootstrap_gpvae_more_than_or_equal_to_65_subgroup, means_bootstraps_gpvae_more_than_or_equal_to_65_subgroup,standards_deviations_gpvae_more_than_or_equal_to_65_subgroup)\n",
    "\n",
    "print(lower_bounds_gpvae_more_than_or_equal_to_65_subgroup)\n",
    "print(upper_bounds_gpvae_more_than_or_equal_to_65_subgroup)\n"
   ]
  },
  {
   "cell_type": "code",
   "execution_count": null,
   "metadata": {},
   "outputs": [],
   "source": [
    "lower_bounds_gpvae_more_than_or_equal_to_65_subgroup, upper_bounds_gpvae_more_than_or_equal_to_65_subgroup = toolkits.calc_lower_and_upper_bound_percentile(results_bootstrap_gpvae_more_than_or_equal_to_65_subgroup)\n",
    "\n",
    "print(lower_bounds_gpvae_more_than_or_equal_to_65_subgroup)\n",
    "print(upper_bounds_gpvae_more_than_or_equal_to_65_subgroup)"
   ]
  },
  {
   "cell_type": "markdown",
   "metadata": {},
   "source": [
    "#### Mean values of lower bound and upper bound"
   ]
  },
  {
   "cell_type": "code",
   "execution_count": null,
   "metadata": {},
   "outputs": [
    {
     "name": "stdout",
     "output_type": "stream",
     "text": [
      "[np.float64(0.6351102299479717), np.float64(0.92600578246255), np.float64(0.23893718663634383), np.float64(0.6634109698540213), np.float64(0.5742005222250958)]\n"
     ]
    }
   ],
   "source": [
    "mean_values_ci_gpvae_more_than_or_equal_to_65_subgroup  = toolkits.calc_mean_values_ci(lower_bounds_gpvae_more_than_or_equal_to_65_subgroup , upper_bounds_gpvae_more_than_or_equal_to_65_subgroup)\n",
    "\n",
    "print(mean_values_ci_gpvae_more_than_or_equal_to_65_subgroup)"
   ]
  },
  {
   "cell_type": "markdown",
   "metadata": {},
   "source": [
    "### Confidence Interval (-65 subgroup)"
   ]
  },
  {
   "cell_type": "markdown",
   "metadata": {},
   "source": [
    "#### Distribution Bootstrap for the Top 5 variables with Largest Differences in MAE (Mean Absolute Error) "
   ]
  },
  {
   "cell_type": "code",
   "execution_count": null,
   "metadata": {},
   "outputs": [],
   "source": [
    "indices = [6,0,31,28,3]\n",
    "\n",
    "results_bootstrap_gpvae_less_than_65_subgroup = []\n",
    "\n",
    "for i in indices:\n",
    "       results_bootstrap_gpvae_less_than_65_subgroup.append(toolkits.bootstrap(testing_ae_gpvae_variables_standard, indicating_mask_variable_standard_norm, 5, i, 9000))\n",
    "\n"
   ]
  },
  {
   "cell_type": "markdown",
   "metadata": {},
   "source": [
    "#### Calculating the mean and standard deviation of the bootstrap distribution"
   ]
  },
  {
   "cell_type": "code",
   "execution_count": null,
   "metadata": {},
   "outputs": [
    {
     "name": "stdout",
     "output_type": "stream",
     "text": [
      "[np.float64(1.0871043378053682), np.float64(0.5368503053164135), np.float64(0.47800817831362274), np.float64(0.7807769585304432), np.float64(0.7129405683813472)]\n",
      "[np.float64(0.4337083267621267), np.float64(0.06965814575847884), np.float64(0.08711583404267569), np.float64(0.6101374424469065), np.float64(0.06334923482333744)]\n"
     ]
    }
   ],
   "source": [
    "means_bootstraps_gpvae_less_than_65_subgroup,standards_deviations_gpvae_less_than_65_subgroup = toolkits.calc_mean_and_standard_deviation(results_bootstrap_gpvae_less_than_65_subgroup)\n",
    "\n",
    "print(means_bootstraps_gpvae_less_than_65_subgroup)\n",
    "print(standards_deviations_gpvae_less_than_65_subgroup)\n"
   ]
  },
  {
   "cell_type": "markdown",
   "metadata": {},
   "source": [
    "#### Calculating lower bound and upper bound"
   ]
  },
  {
   "cell_type": "code",
   "execution_count": null,
   "metadata": {},
   "outputs": [
    {
     "name": "stdout",
     "output_type": "stream",
     "text": [
      "[np.float64(0.23705163755647063), np.float64(0.40032284839995347), np.float64(0.30726428110681003), np.float64(-0.41507045428487355), np.float64(0.5887783496794352)]\n",
      "[np.float64(1.9371570380542658), np.float64(0.6733777622328736), np.float64(0.6487520755204355), np.float64(1.9766243713457599), np.float64(0.8371027870832592)]\n"
     ]
    }
   ],
   "source": [
    "lower_bounds_gpvae_less_than_65_subgroup, upper_bounds_gpvae_less_than_65_subgroup = toolkits.calc_lower_and_upper_bound(results_bootstrap_gpvae_less_than_65_subgroup, means_bootstraps_gpvae_less_than_65_subgroup, standards_deviations_gpvae_less_than_65_subgroup)\n",
    "\n",
    "print(lower_bounds_gpvae_less_than_65_subgroup)\n",
    "print(upper_bounds_gpvae_less_than_65_subgroup)"
   ]
  },
  {
   "cell_type": "code",
   "execution_count": null,
   "metadata": {},
   "outputs": [],
   "source": [
    "lower_bounds_gpvae_less_than_65_subgroup, upper_bounds_gpvae_less_than_65_subgroup = toolkits.calc_lower_and_upper_bound_percentile(results_bootstrap_gpvae_less_than_65_subgroup)\n",
    "\n",
    "print(lower_bounds_gpvae_less_than_65_subgroup)\n",
    "print(upper_bounds_gpvae_less_than_65_subgroup)"
   ]
  },
  {
   "cell_type": "markdown",
   "metadata": {},
   "source": [
    "#### Mean values of lower bound and upper bound"
   ]
  },
  {
   "cell_type": "code",
   "execution_count": null,
   "metadata": {},
   "outputs": [
    {
     "name": "stdout",
     "output_type": "stream",
     "text": [
      "[np.float64(1.0871043378053682), np.float64(0.5368503053164135), np.float64(0.47800817831362274), np.float64(0.7807769585304432), np.float64(0.7129405683813472)]\n"
     ]
    }
   ],
   "source": [
    "mean_values_ci_gpvae_less_than_65_subgroup  = toolkits.calc_mean_values_ci(lower_bounds_gpvae_less_than_65_subgroup, upper_bounds_gpvae_less_than_65_subgroup)\n",
    "\n",
    "print(mean_values_ci_gpvae_less_than_65_subgroup)"
   ]
  },
  {
   "cell_type": "markdown",
   "metadata": {},
   "source": [
    "### Confidence Interval (ICUType 1 subgroup)"
   ]
  },
  {
   "cell_type": "markdown",
   "metadata": {},
   "source": [
    "#### Distribution Bootstrap for the Top 5 variables with Largest Differences in MAE (Mean Absolute Error) "
   ]
  },
  {
   "cell_type": "code",
   "execution_count": null,
   "metadata": {},
   "outputs": [],
   "source": [
    "indices = [28,31,0,6,32]\n",
    "\n",
    "results_bootstrap_gpvae_ICUType_1_subgroup = []\n",
    "\n",
    "for i in indices:\n",
    "       results_bootstrap_gpvae_ICUType_1_subgroup.append(toolkits.bootstrap(testing_ae_gpvae_variables_standard, indicating_mask_variable_standard_norm, 6, i, 9000))\n",
    "\n"
   ]
  },
  {
   "cell_type": "markdown",
   "metadata": {},
   "source": [
    "#### Calculating the mean and standard deviation of the bootstrap distribution"
   ]
  },
  {
   "cell_type": "code",
   "execution_count": null,
   "metadata": {},
   "outputs": [
    {
     "name": "stdout",
     "output_type": "stream",
     "text": [
      "[np.float64(0.5226824815512915), np.float64(0.22527604130199683), np.float64(0.9690932479547066), np.float64(1.3413646633750829), np.float64(0.7212106254399269)]\n",
      "[np.float64(0.17812570383563214), np.float64(0.03508402734675316), np.float64(0.2710993234914266), np.float64(0.37708432885457466), np.float64(0.15436752793597142)]\n"
     ]
    }
   ],
   "source": [
    "means_bootstraps_gpvae_ICUType_1_subgroup, standards_deviations_gpvae_ICUType_1_subgroup = toolkits.calc_mean_and_standard_deviation(results_bootstrap_gpvae_ICUType_1_subgroup)\n",
    "\n",
    "print(means_bootstraps_gpvae_ICUType_1_subgroup)\n",
    "print(standards_deviations_gpvae_ICUType_1_subgroup)\n"
   ]
  },
  {
   "cell_type": "markdown",
   "metadata": {},
   "source": [
    "#### Calculating lower bound and upper bound"
   ]
  },
  {
   "cell_type": "code",
   "execution_count": null,
   "metadata": {},
   "outputs": [
    {
     "name": "stdout",
     "output_type": "stream",
     "text": [
      "[np.float64(0.1735625173126043), np.float64(0.1565126112697423), np.float64(0.437748337678337), np.float64(0.6022929596856587), np.float64(0.41865583030294223)]\n",
      "[np.float64(0.8718024457899787), np.float64(0.29403947133425135), np.float64(1.5004381582310762), np.float64(2.080436367064507), np.float64(1.0237654205769116)]\n"
     ]
    }
   ],
   "source": [
    "lower_bounds_gpvae_ICUType_1_subgroup, upper_bounds_gpvae_ICUType_1_subgroup = toolkits.calc_lower_and_upper_bound(results_bootstrap_gpvae_ICUType_1_subgroup, means_bootstraps_gpvae_ICUType_1_subgroup, standards_deviations_gpvae_ICUType_1_subgroup)\n",
    "\n",
    "print(lower_bounds_gpvae_ICUType_1_subgroup)\n",
    "print(upper_bounds_gpvae_ICUType_1_subgroup)"
   ]
  },
  {
   "cell_type": "code",
   "execution_count": null,
   "metadata": {},
   "outputs": [],
   "source": [
    "lower_bounds_gpvae_ICUType_1_subgroup, upper_bounds_gpvae_ICUType_1_subgroup = toolkits.calc_lower_and_upper_bound_percentile(results_bootstrap_gpvae_ICUType_1_subgroup)\n",
    "\n",
    "print(lower_bounds_gpvae_ICUType_1_subgroup)\n",
    "print(upper_bounds_gpvae_ICUType_1_subgroup)"
   ]
  },
  {
   "cell_type": "markdown",
   "metadata": {},
   "source": [
    "#### Mean values of lower bound and upper bound"
   ]
  },
  {
   "cell_type": "code",
   "execution_count": null,
   "metadata": {},
   "outputs": [
    {
     "name": "stdout",
     "output_type": "stream",
     "text": [
      "[np.float64(0.5226824815512915), np.float64(0.22527604130199683), np.float64(0.9690932479547065), np.float64(1.3413646633750829), np.float64(0.7212106254399269)]\n"
     ]
    }
   ],
   "source": [
    "mean_values_ci_gpvae_ICUType_1_subgroup  = toolkits.calc_mean_values_ci(lower_bounds_gpvae_ICUType_1_subgroup, upper_bounds_gpvae_ICUType_1_subgroup)\n",
    "\n",
    "print(mean_values_ci_gpvae_ICUType_1_subgroup)"
   ]
  },
  {
   "cell_type": "markdown",
   "metadata": {},
   "source": [
    "### Confidence Interval (ICUType 2 subgroup)"
   ]
  },
  {
   "cell_type": "markdown",
   "metadata": {},
   "source": [
    "#### Distribution Bootstrap for the Top 5 variables with Largest Differences in MAE (Mean Absolute Error) "
   ]
  },
  {
   "cell_type": "code",
   "execution_count": null,
   "metadata": {},
   "outputs": [],
   "source": [
    "indices = [28,31,0,6,32]\n",
    "\n",
    "results_bootstrap_gpvae_ICUType_2_subgroup = []\n",
    "\n",
    "for i in indices:\n",
    "       results_bootstrap_gpvae_ICUType_2_subgroup.append(toolkits.bootstrap(testing_ae_gpvae_variables_standard, indicating_mask_variable_standard_norm, 7, i, 9000))\n",
    "\n"
   ]
  },
  {
   "cell_type": "markdown",
   "metadata": {},
   "source": [
    "#### Calculating the mean and standard deviation of the bootstrap distribution"
   ]
  },
  {
   "cell_type": "code",
   "execution_count": null,
   "metadata": {},
   "outputs": [
    {
     "name": "stdout",
     "output_type": "stream",
     "text": [
      "[np.float64(0.5628893404476448), np.float64(0.253544682516006), np.float64(0.0), np.float64(0.3769132654783525), np.float64(0.17130476566918515)]\n",
      "[np.float64(0.24746020204511532), np.float64(0.02844864967364565), np.float64(0.0), np.float64(0.12241202033633213), np.float64(0.04748266503243493)]\n"
     ]
    }
   ],
   "source": [
    "means_bootstraps_gpvae_ICUType_2_subgroup, standards_deviations_gpvae_ICUType_2_subgroup = toolkits.calc_mean_and_standard_deviation(results_bootstrap_gpvae_ICUType_2_subgroup)\n",
    "\n",
    "print(means_bootstraps_gpvae_ICUType_2_subgroup)\n",
    "print(standards_deviations_gpvae_ICUType_2_subgroup) \n"
   ]
  },
  {
   "cell_type": "markdown",
   "metadata": {},
   "source": [
    "#### Calculating lower bound and upper bound"
   ]
  },
  {
   "cell_type": "code",
   "execution_count": null,
   "metadata": {},
   "outputs": [
    {
     "ename": "NameError",
     "evalue": "name 'toolkits' is not defined",
     "output_type": "error",
     "traceback": [
      "\u001b[31m---------------------------------------------------------------------------\u001b[39m\n",
      "\u001b[31mNameError\u001b[39m                                 Traceback (most recent call last)\n",
      "\u001b[36mCell\u001b[39m\u001b[36m \u001b[39m\u001b[32mIn[1]\u001b[39m\u001b[32m, line 1\u001b[39m\n",
      "\u001b[32m----> \u001b[39m\u001b[32m1\u001b[39m lower_bounds_usgan_ICUType_2_subgroup, upper_bounds_usgan_ICUType_2_subgroup = \u001b[43mtoolkits\u001b[49m.calc_lower_and_upper_bound(results_bootstrap_usgan_ICUType_2_subgroup, means_bootstraps_usgan_ICUType_2_subgroup, standards_deviations_usgan_ICUType_2_subgroup)\n",
      "\u001b[32m      3\u001b[39m \u001b[38;5;28mprint\u001b[39m(lower_bounds_usgan_ICUType_2_subgroup)\n",
      "\u001b[32m      4\u001b[39m \u001b[38;5;28mprint\u001b[39m(upper_bounds_usgan_ICUType_2_subgroup)\n",
      "\n",
      "\u001b[31mNameError\u001b[39m: name 'toolkits' is not defined"
     ]
    }
   ],
   "source": [
    "lower_bounds_gpvae_ICUType_2_subgroup, upper_bounds_gpvae_ICUType_2_subgroup = toolkits.calc_lower_and_upper_bound(results_bootstrap_gpvae_ICUType_2_subgroup, means_bootstraps_gpvae_ICUType_2_subgroup, standards_deviations_gpvae_ICUType_2_subgroup)\n",
    "\n",
    "print(lower_bounds_gpvae_ICUType_2_subgroup)\n",
    "print(upper_bounds_gpvae_ICUType_2_subgroup)"
   ]
  },
  {
   "cell_type": "code",
   "execution_count": null,
   "metadata": {},
   "outputs": [],
   "source": [
    "lower_bounds_gpvae_ICUType_2_subgroup, upper_bounds_gpvae_ICUType_2_subgroup = toolkits.calc_lower_and_upper_bound_percentile(results_bootstrap_gpvae_ICUType_2_subgroup)\n",
    "\n",
    "print(lower_bounds_gpvae_ICUType_2_subgroup)\n",
    "print(upper_bounds_gpvae_ICUType_2_subgroup)"
   ]
  },
  {
   "cell_type": "markdown",
   "metadata": {},
   "source": [
    "#### Mean values of lower bound and upper bound"
   ]
  },
  {
   "cell_type": "code",
   "execution_count": null,
   "metadata": {},
   "outputs": [
    {
     "name": "stdout",
     "output_type": "stream",
     "text": [
      "[np.float64(0.5628893404476448), np.float64(0.253544682516006), np.float64(0.0), np.float64(0.37691326547835247), np.float64(0.17130476566918512)]\n"
     ]
    }
   ],
   "source": [
    "mean_values_ci_gpvae_ICUType_2_subgroup  = toolkits.calc_mean_values_ci(lower_bounds_gpvae_ICUType_2_subgroup, upper_bounds_gpvae_ICUType_2_subgroup)\n",
    "\n",
    "print(mean_values_ci_gpvae_ICUType_2_subgroup)"
   ]
  },
  {
   "cell_type": "markdown",
   "metadata": {},
   "source": [
    "### Confidence Interval (ICUType 3 subgroup)"
   ]
  },
  {
   "cell_type": "markdown",
   "metadata": {},
   "source": [
    "#### Distribution Bootstrap for the Top 5 variables with Largest Differences in MAE (Mean Absolute Error) "
   ]
  },
  {
   "cell_type": "code",
   "execution_count": null,
   "metadata": {},
   "outputs": [],
   "source": [
    "indices = [28,31,0,6,32]\n",
    "\n",
    "results_bootstrap_gpvae_ICUType_3_subgroup = []\n",
    "\n",
    "for i in indices:\n",
    "       results_bootstrap_gpvae_ICUType_3_subgroup.append(toolkits.bootstrap(testing_ae_gpvae_variables_standard, indicating_mask_variable_standard_norm, 8, i, 9000))\n",
    "\n"
   ]
  },
  {
   "cell_type": "markdown",
   "metadata": {},
   "source": [
    "#### Calculating the mean and standard deviation of the bootstrap distribution"
   ]
  },
  {
   "cell_type": "code",
   "execution_count": null,
   "metadata": {},
   "outputs": [
    {
     "name": "stdout",
     "output_type": "stream",
     "text": [
      "[np.float64(1.593236497237565), np.float64(1.1365310737170016), np.float64(0.6958192633459015), np.float64(0.5411579272281444), np.float64(0.23745879820743904)]\n",
      "[np.float64(0.4559261164801034), np.float64(0.45097433675337983), np.float64(0.1878586172758027), np.float64(0.06133680568713781), np.float64(0.03548543506753726)]\n"
     ]
    }
   ],
   "source": [
    "means_bootstraps_gpvae_ICUType_3_subgroup, standards_deviations_gpvae_ICUType_3_subgroup = toolkits.calc_mean_and_standard_deviation(results_bootstrap_gpvae_ICUType_3_subgroup)\n",
    "\n",
    "print(means_bootstraps_gpvae_ICUType_3_subgroup)\n",
    "print(standards_deviations_gpvae_ICUType_3_subgroup)\n"
   ]
  },
  {
   "cell_type": "markdown",
   "metadata": {},
   "source": [
    "#### Calculating lower bound and upper bound"
   ]
  },
  {
   "cell_type": "code",
   "execution_count": null,
   "metadata": {},
   "outputs": [
    {
     "name": "stdout",
     "output_type": "stream",
     "text": [
      "[np.float64(0.6996377293253487), np.float64(0.25263761572853904), np.float64(0.3276231392998342), np.float64(0.4209399971546227), np.float64(0.16790862349933133)]\n",
      "[np.float64(2.4868352651497814), np.float64(2.020424531705464), np.float64(1.0640153873919687), np.float64(0.661375857301666), np.float64(0.30700897291554674)]\n"
     ]
    }
   ],
   "source": [
    "lower_bounds_gpvae_ICUType_3_subgroup, upper_bounds_gpvae_ICUType_3_subgroup = toolkits.calc_lower_and_upper_bound(results_bootstrap_gpvae_ICUType_3_subgroup, means_bootstraps_gpvae_ICUType_3_subgroup, standards_deviations_gpvae_ICUType_3_subgroup)\n",
    "\n",
    "print(lower_bounds_gpvae_ICUType_3_subgroup)\n",
    "print(upper_bounds_gpvae_ICUType_3_subgroup)"
   ]
  },
  {
   "cell_type": "code",
   "execution_count": null,
   "metadata": {},
   "outputs": [],
   "source": [
    "lower_bounds_gpvae_ICUType_3_subgroup, upper_bounds_gpvae_ICUType_3_subgroup = toolkits.calc_lower_and_upper_bound_percentile(results_bootstrap_gpvae_ICUType_3_subgroup)\n",
    "\n",
    "print(lower_bounds_gpvae_ICUType_3_subgroup)\n",
    "print(upper_bounds_gpvae_ICUType_3_subgroup)"
   ]
  },
  {
   "cell_type": "markdown",
   "metadata": {},
   "source": [
    "#### Mean values of lower bound and upper bound"
   ]
  },
  {
   "cell_type": "code",
   "execution_count": null,
   "metadata": {},
   "outputs": [
    {
     "name": "stdout",
     "output_type": "stream",
     "text": [
      "[np.float64(1.593236497237565), np.float64(1.1365310737170016), np.float64(0.6958192633459015), np.float64(0.5411579272281444), np.float64(0.23745879820743904)]\n"
     ]
    }
   ],
   "source": [
    "mean_values_ci_gpvae_ICUType_3_subgroup  = toolkits.calc_mean_values_ci(lower_bounds_gpvae_ICUType_3_subgroup, upper_bounds_gpvae_ICUType_3_subgroup)\n",
    "\n",
    "print(mean_values_ci_gpvae_ICUType_3_subgroup)"
   ]
  },
  {
   "cell_type": "markdown",
   "metadata": {},
   "source": [
    "### Confidence Interval (ICUType 4 subgroup)"
   ]
  },
  {
   "cell_type": "markdown",
   "metadata": {},
   "source": [
    "#### Distribution Bootstrap for the Top 5 variables with Largest Differences in MAE (Mean Absolute Error) "
   ]
  },
  {
   "cell_type": "code",
   "execution_count": null,
   "metadata": {},
   "outputs": [],
   "source": [
    "indices = [28,31,0,6,32]\n",
    "\n",
    "results_bootstrap_gpvae_ICUType_4_subgroup = []\n",
    "\n",
    "for i in indices:\n",
    "       results_bootstrap_gpvae_ICUType_4_subgroup.append(toolkits.bootstrap(testing_ae_gpvae_variables_standard, indicating_mask_variable_standard_norm, 9, i, 9000))\n",
    "\n"
   ]
  },
  {
   "cell_type": "markdown",
   "metadata": {},
   "source": [
    "#### Calculating the mean and standard deviation of the bootstrap distribution"
   ]
  },
  {
   "cell_type": "code",
   "execution_count": null,
   "metadata": {},
   "outputs": [
    {
     "name": "stdout",
     "output_type": "stream",
     "text": [
      "[np.float64(0.44306473111336137), np.float64(0.4912011878544669), np.float64(0.7287297527366805), np.float64(0.692426181621937), np.float64(0.18026286324155796)]\n",
      "[np.float64(0.0935566892280583), np.float64(0.08074364451634707), np.float64(0.2681495472441715), np.float64(0.2724504216824265), np.float64(0.022189091660584512)]\n"
     ]
    }
   ],
   "source": [
    "means_bootstraps_gpvae_ICUType_4_subgroup, standards_deviations_gpvae_ICUType_4_subgroup = toolkits.calc_mean_and_standard_deviation(results_bootstrap_gpvae_ICUType_4_subgroup)\n",
    "\n",
    "print(means_bootstraps_gpvae_ICUType_4_subgroup)\n",
    "print(standards_deviations_gpvae_ICUType_4_subgroup)\n"
   ]
  },
  {
   "cell_type": "markdown",
   "metadata": {},
   "source": [
    "#### Calculating lower bound and upper bound"
   ]
  },
  {
   "cell_type": "code",
   "execution_count": null,
   "metadata": {},
   "outputs": [
    {
     "name": "stdout",
     "output_type": "stream",
     "text": [
      "[np.float64(0.25969698971356064), np.float64(0.33294655262192163), np.float64(0.2031662976673827), np.float64(0.1584331675516304), np.float64(0.13677304273715427)]\n",
      "[np.float64(0.626432472513162), np.float64(0.6494558230870122), np.float64(1.2542932078059783), np.float64(1.2264191956922437), np.float64(0.22375268374596166)]\n"
     ]
    }
   ],
   "source": [
    "lower_bounds_gpvae_ICUType_4_subgroup, upper_bounds_gpvae_ICUType_4_subgroup = toolkits.calc_lower_and_upper_bound(results_bootstrap_gpvae_ICUType_4_subgroup, means_bootstraps_gpvae_ICUType_4_subgroup, standards_deviations_gpvae_ICUType_4_subgroup)\n",
    "\n",
    "print(lower_bounds_gpvae_ICUType_4_subgroup)\n",
    "print(upper_bounds_gpvae_ICUType_4_subgroup)"
   ]
  },
  {
   "cell_type": "code",
   "execution_count": null,
   "metadata": {},
   "outputs": [],
   "source": [
    "lower_bounds_gpvae_ICUType_4_subgroup, upper_bounds_gpvae_ICUType_4_subgroup = toolkits.calc_lower_and_upper_bound_percentile(results_bootstrap_gpvae_ICUType_4_subgroup)\n",
    "\n",
    "print(lower_bounds_gpvae_ICUType_4_subgroup)\n",
    "print(upper_bounds_gpvae_ICUType_4_subgroup)"
   ]
  },
  {
   "cell_type": "markdown",
   "metadata": {},
   "source": [
    "#### Mean values of lower bound and upper bound"
   ]
  },
  {
   "cell_type": "code",
   "execution_count": null,
   "metadata": {},
   "outputs": [
    {
     "name": "stdout",
     "output_type": "stream",
     "text": [
      "[np.float64(0.4430647311133613), np.float64(0.4912011878544669), np.float64(0.7287297527366805), np.float64(0.692426181621937), np.float64(0.18026286324155796)]\n"
     ]
    }
   ],
   "source": [
    "mean_values_ci_gpvae_ICUType_4_subgroup  = toolkits.calc_mean_values_ci(lower_bounds_gpvae_ICUType_4_subgroup, upper_bounds_gpvae_ICUType_4_subgroup)\n",
    "\n",
    "print(mean_values_ci_gpvae_ICUType_4_subgroup)"
   ]
  },
  {
   "cell_type": "markdown",
   "metadata": {},
   "source": [
    "### Confidence Interval (Undefined classification subgroup)"
   ]
  },
  {
   "cell_type": "markdown",
   "metadata": {},
   "source": [
    "#### Distribution Bootstrap for the Top 5 variables with Largest Differences in MAE (Mean Absolute Error) "
   ]
  },
  {
   "cell_type": "code",
   "execution_count": null,
   "metadata": {},
   "outputs": [],
   "source": [
    "indices = [1,31,6,0,32]\n",
    "\n",
    "results_bootstrap_gpvae_undefined_classification_subgroup = []\n",
    "\n",
    "for i in indices:\n",
    "       results_bootstrap_gpvae_undefined_classification_subgroup.append(toolkits.bootstrap(testing_ae_gpvae_variables_standard, indicating_mask_variable_standard_norm, 10, i, 9000))\n",
    "\n"
   ]
  },
  {
   "cell_type": "markdown",
   "metadata": {},
   "source": [
    "#### Calculating the mean and standard deviation of the bootstrap distribution"
   ]
  },
  {
   "cell_type": "code",
   "execution_count": null,
   "metadata": {},
   "outputs": [
    {
     "name": "stdout",
     "output_type": "stream",
     "text": [
      "[np.float64(0.4068612373822693), np.float64(0.5736205115093942), np.float64(0.275919003680376), np.float64(0.8430104136478819), np.float64(0.4131966854604587)]\n",
      "[np.float64(0.05986934359644469), np.float64(0.17840974136243826), np.float64(0.044640773548291844), np.float64(0.2853216956527157), np.float64(0.12549413739177268)]\n"
     ]
    }
   ],
   "source": [
    "means_bootstraps_gpvae_undefined_classification_subgroup, standards_deviations_gpvae_undefined_classification_subgroup = toolkits.calc_mean_and_standard_deviation(results_bootstrap_gpvae_undefined_classification_subgroup)\n",
    "\n",
    "print(means_bootstraps_gpvae_undefined_classification_subgroup)\n",
    "print(standards_deviations_gpvae_undefined_classification_subgroup)\n"
   ]
  },
  {
   "cell_type": "markdown",
   "metadata": {},
   "source": [
    "#### Calculating lower bound and upper bound"
   ]
  },
  {
   "cell_type": "code",
   "execution_count": null,
   "metadata": {},
   "outputs": [
    {
     "name": "stdout",
     "output_type": "stream",
     "text": [
      "[np.float64(0.28951948015518403), np.float64(0.22394384394790923), np.float64(0.18842469528371564), np.float64(0.28379016616066055), np.float64(0.16723269590166293)]\n",
      "[np.float64(0.5242029946093546), np.float64(0.9232971790708792), np.float64(0.3634133120770363), np.float64(1.4022306611351032), np.float64(0.6591606750192545)]\n"
     ]
    }
   ],
   "source": [
    "lower_bounds_gpvae_undefined_classification_subgroup, upper_bounds_gpvae_undefined_classification_subgroup = toolkits.calc_lower_and_upper_bound(results_bootstrap_gpvae_undefined_classification_subgroup, means_bootstraps_gpvae_undefined_classification_subgroup, standards_deviations_gpvae_undefined_classification_subgroup)\n",
    "\n",
    "print(lower_bounds_gpvae_undefined_classification_subgroup)\n",
    "print(upper_bounds_gpvae_undefined_classification_subgroup)"
   ]
  },
  {
   "cell_type": "code",
   "execution_count": null,
   "metadata": {},
   "outputs": [],
   "source": [
    "lower_bounds_gpvae_undefined_classification_subgroup, upper_bounds_gpvae_undefined_classification_subgroup = toolkits.calc_lower_and_upper_bound_percentile(results_bootstrap_gpvae_undefined_classification_subgroup)\n",
    "\n",
    "print(lower_bounds_gpvae_undefined_classification_subgroup)\n",
    "print(upper_bounds_gpvae_undefined_classification_subgroup)"
   ]
  },
  {
   "cell_type": "markdown",
   "metadata": {},
   "source": [
    "#### Mean values of lower bound and upper bound"
   ]
  },
  {
   "cell_type": "code",
   "execution_count": null,
   "metadata": {},
   "outputs": [
    {
     "name": "stdout",
     "output_type": "stream",
     "text": [
      "[np.float64(0.4068612373822693), np.float64(0.5736205115093942), np.float64(0.275919003680376), np.float64(0.8430104136478819), np.float64(0.4131966854604587)]\n"
     ]
    }
   ],
   "source": [
    "mean_values_ci_gpvae_undefined_classification_subgroup  = toolkits.calc_mean_values_ci(lower_bounds_gpvae_undefined_classification_subgroup, upper_bounds_gpvae_undefined_classification_subgroup)\n",
    "\n",
    "print(mean_values_ci_gpvae_undefined_classification_subgroup)"
   ]
  },
  {
   "cell_type": "markdown",
   "metadata": {},
   "source": [
    "### Confidence Interval (Low weight classification subgroup)"
   ]
  },
  {
   "cell_type": "markdown",
   "metadata": {},
   "source": [
    "#### Distribution Bootstrap for the Top 5 variables with Largest Differences in MAE (Mean Absolute Error) "
   ]
  },
  {
   "cell_type": "code",
   "execution_count": null,
   "metadata": {},
   "outputs": [],
   "source": [
    "indices = [1,31,6,0,32]\n",
    "\n",
    "results_bootstrap_gpvae_low_weight_classification_subgroup = []\n",
    "\n",
    "for i in indices:\n",
    "       results_bootstrap_gpvae_low_weight_classification_subgroup.append(toolkits.bootstrap(testing_ae_gpvae_variables_standard, indicating_mask_variable_standard_norm, 11, i, 9000))\n",
    "\n"
   ]
  },
  {
   "cell_type": "markdown",
   "metadata": {},
   "source": [
    "#### Calculating the mean and standard deviation of the bootstrap distribution"
   ]
  },
  {
   "cell_type": "code",
   "execution_count": null,
   "metadata": {},
   "outputs": [
    {
     "name": "stdout",
     "output_type": "stream",
     "text": [
      "[np.float64(2.0122806935650077), np.float64(0.06933332178741825), np.float64(0.4104061358032636), np.float64(0.0), np.float64(1.4606367473586466)]\n",
      "[np.float64(1.666676645356208), np.float64(0.05309602591127397), np.float64(0.3139178166078663), np.float64(0.0), np.float64(1.2916342659860158)]\n"
     ]
    }
   ],
   "source": [
    "means_bootstraps_gpvae_low_weight_classification_subgroup, standards_deviations_gpvae_low_weight_classification_subgroup = toolkits.calc_mean_and_standard_deviation(results_bootstrap_gpvae_low_weight_classification_subgroup)\n",
    "\n",
    "print(means_bootstraps_gpvae_low_weight_classification_subgroup)\n",
    "print(standards_deviations_gpvae_low_weight_classification_subgroup)\n"
   ]
  },
  {
   "cell_type": "markdown",
   "metadata": {},
   "source": [
    "#### Calculating lower bound and upper bound"
   ]
  },
  {
   "cell_type": "code",
   "execution_count": null,
   "metadata": {},
   "outputs": [
    {
     "name": "stdout",
     "output_type": "stream",
     "text": [
      "[np.float64(-1.2543455052071963), np.float64(-0.03473297672088424), np.float64(-0.2048614788536039), np.float64(0.0), np.float64(-1.070919895171773)]\n",
      "[np.float64(5.278906892337211), np.float64(0.17339962029572073), np.float64(1.0256737504601312), np.float64(0.0), np.float64(3.9921933898890662)]\n"
     ]
    }
   ],
   "source": [
    "lower_bounds_gpvae_low_weight_classification_subgroup, upper_bounds_gpvae_low_weight_classification_subgroup = toolkits.calc_lower_and_upper_bound(results_bootstrap_gpvae_low_weight_classification_subgroup, means_bootstraps_gpvae_low_weight_classification_subgroup, standards_deviations_gpvae_low_weight_classification_subgroup)\n",
    "\n",
    "print(lower_bounds_gpvae_low_weight_classification_subgroup)\n",
    "print(upper_bounds_gpvae_low_weight_classification_subgroup)"
   ]
  },
  {
   "cell_type": "code",
   "execution_count": null,
   "metadata": {},
   "outputs": [],
   "source": [
    "lower_bounds_gpvae_low_weight_classification_subgroup, upper_bounds_gpvae_low_weight_classification_subgroup = toolkits.calc_lower_and_upper_bound_percentile(results_bootstrap_gpvae_low_weight_classification_subgroup)\n",
    "\n",
    "print(lower_bounds_gpvae_low_weight_classification_subgroup)\n",
    "print(upper_bounds_gpvae_low_weight_classification_subgroup)"
   ]
  },
  {
   "cell_type": "markdown",
   "metadata": {},
   "source": [
    "#### Mean values of lower bound and upper bound"
   ]
  },
  {
   "cell_type": "code",
   "execution_count": null,
   "metadata": {},
   "outputs": [
    {
     "name": "stdout",
     "output_type": "stream",
     "text": [
      "[np.float64(2.0122806935650077), np.float64(0.06933332178741825), np.float64(0.4104061358032637), np.float64(0.0), np.float64(1.4606367473586466)]\n"
     ]
    }
   ],
   "source": [
    "mean_values_ci_gpvae_low_weight_classification_subgroup  = toolkits.calc_mean_values_ci(lower_bounds_gpvae_low_weight_classification_subgroup, upper_bounds_gpvae_low_weight_classification_subgroup)\n",
    "\n",
    "print(mean_values_ci_gpvae_low_weight_classification_subgroup)"
   ]
  },
  {
   "cell_type": "markdown",
   "metadata": {},
   "source": [
    "### Confidence Interval (Normal weight classification subgroup)"
   ]
  },
  {
   "cell_type": "markdown",
   "metadata": {},
   "source": [
    "#### Distribution Bootstrap for the Top 5 variables with Largest Differences in MAE (Mean Absolute Error) "
   ]
  },
  {
   "cell_type": "code",
   "execution_count": null,
   "metadata": {},
   "outputs": [],
   "source": [
    "indices = [1,31,6,0,32]\n",
    "\n",
    "results_bootstrap_gpvae_normal_weight_classification_subgroup = []\n",
    "\n",
    "for i in indices:\n",
    "       results_bootstrap_gpvae_normal_weight_classification_subgroup.append(toolkits.bootstrap(testing_ae_gpvae_variables_standard, indicating_mask_variable_standard_norm, 12, i, 9000))\n",
    "\n"
   ]
  },
  {
   "cell_type": "markdown",
   "metadata": {},
   "source": [
    "#### Calculating the mean and standard deviation of the bootstrap distribution"
   ]
  },
  {
   "cell_type": "code",
   "execution_count": null,
   "metadata": {},
   "outputs": [
    {
     "name": "stdout",
     "output_type": "stream",
     "text": [
      "[np.float64(0.548686639105505), np.float64(0.7625897872503594), np.float64(0.24931976137388573), np.float64(0.5648888072341054), np.float64(0.5232857652420211)]\n",
      "[np.float64(0.12623025707018218), np.float64(0.3731308327837512), np.float64(0.07341434562099826), np.float64(0.089947135630567), np.float64(0.2013724566774524)]\n"
     ]
    }
   ],
   "source": [
    "means_bootstraps_gpvae_normal_weight_classification_subgroup, standards_deviations_gpvae_normal_weight_classification_subgroup = toolkits.calc_mean_and_standard_deviation(results_bootstrap_gpvae_normal_weight_classification_subgroup)\n",
    "\n",
    "print(means_bootstraps_gpvae_normal_weight_classification_subgroup)\n",
    "print(standards_deviations_gpvae_normal_weight_classification_subgroup)\n"
   ]
  },
  {
   "cell_type": "markdown",
   "metadata": {},
   "source": [
    "#### Calculating lower bound and upper bound"
   ]
  },
  {
   "cell_type": "code",
   "execution_count": null,
   "metadata": {},
   "outputs": [
    {
     "name": "stdout",
     "output_type": "stream",
     "text": [
      "[np.float64(0.3012798814887154), np.float64(0.03126679347276984), np.float64(0.10543028800815332), np.float64(0.38859566088565467), np.float64(0.12860300267586205)]\n",
      "[np.float64(0.7960933967222945), np.float64(1.4939127810279489), np.float64(0.3932092347396181), np.float64(0.7411819535825561), np.float64(0.9179685278081802)]\n"
     ]
    }
   ],
   "source": [
    "lower_bounds_gpvae_normal_weight_classification_subgroup, upper_bounds_gpvae_normal_weight_classification_subgroup = toolkits.calc_lower_and_upper_bound(results_bootstrap_gpvae_normal_weight_classification_subgroup, means_bootstraps_gpvae_normal_weight_classification_subgroup, standards_deviations_gpvae_normal_weight_classification_subgroup)\n",
    "\n",
    "print(lower_bounds_gpvae_normal_weight_classification_subgroup)\n",
    "print(upper_bounds_gpvae_normal_weight_classification_subgroup)"
   ]
  },
  {
   "cell_type": "code",
   "execution_count": null,
   "metadata": {},
   "outputs": [],
   "source": [
    "lower_bounds_gpvae_normal_weight_classification_subgroup, upper_bounds_gpvae_normal_weight_classification_subgroup = toolkits.calc_lower_and_upper_bound_percentile(results_bootstrap_gpvae_normal_weight_classification_subgroup)\n",
    "\n",
    "print(lower_bounds_gpvae_normal_weight_classification_subgroup)\n",
    "print(upper_bounds_gpvae_normal_weight_classification_subgroup)"
   ]
  },
  {
   "cell_type": "markdown",
   "metadata": {},
   "source": [
    "#### Mean values of lower bound and upper bound"
   ]
  },
  {
   "cell_type": "code",
   "execution_count": null,
   "metadata": {},
   "outputs": [
    {
     "name": "stdout",
     "output_type": "stream",
     "text": [
      "[np.float64(0.548686639105505), np.float64(0.7625897872503593), np.float64(0.24931976137388573), np.float64(0.5648888072341054), np.float64(0.5232857652420211)]\n"
     ]
    }
   ],
   "source": [
    "mean_values_ci_gpvae_normal_weight_classification_subgroup  = toolkits.calc_mean_values_ci(lower_bounds_gpvae_normal_weight_classification_subgroup, upper_bounds_gpvae_normal_weight_classification_subgroup)\n",
    "\n",
    "print(mean_values_ci_gpvae_normal_weight_classification_subgroup)"
   ]
  },
  {
   "cell_type": "markdown",
   "metadata": {},
   "source": [
    "### Confidence Interval (Overweight classification subgroup)"
   ]
  },
  {
   "cell_type": "markdown",
   "metadata": {},
   "source": [
    "#### Distribution Bootstrap for the Top 5 variables with Largest Differences in MAE (Mean Absolute Error) "
   ]
  },
  {
   "cell_type": "code",
   "execution_count": null,
   "metadata": {},
   "outputs": [],
   "source": [
    "indices = [1,31,6,0,32]\n",
    "\n",
    "results_bootstrap_gpvae_overweight_classification_subgroup = []\n",
    "\n",
    "for i in indices:\n",
    "       results_bootstrap_gpvae_overweight_classification_subgroup.append(toolkits.bootstrap(testing_ae_gpvae_variables_standard, indicating_mask_variable_standard_norm, 13, i, 9000))\n",
    "\n"
   ]
  },
  {
   "cell_type": "markdown",
   "metadata": {},
   "source": [
    "#### Calculating the mean and standard deviation of the bootstrap distribution"
   ]
  },
  {
   "cell_type": "code",
   "execution_count": null,
   "metadata": {},
   "outputs": [
    {
     "name": "stdout",
     "output_type": "stream",
     "text": [
      "[np.float64(0.2797503039647862), np.float64(1.4869184261643544), np.float64(0.44444907661681887), np.float64(1.0414359325082165), np.float64(0.1969866594273391)]\n",
      "[np.float64(0.05690905629749502), np.float64(0.2748051570149171), np.float64(0.190452089816047), np.float64(0.5659200713279424), np.float64(0.06465085722820384)]\n"
     ]
    }
   ],
   "source": [
    "means_bootstraps_gpvae_overweight_classification_subgroup, standards_deviations_gpvae_overweight_classification_subgroup = toolkits.calc_mean_and_standard_deviation(results_bootstrap_gpvae_overweight_classification_subgroup)\n",
    "\n",
    "print(means_bootstraps_gpvae_overweight_classification_subgroup)\n",
    "print(standards_deviations_gpvae_overweight_classification_subgroup)\n"
   ]
  },
  {
   "cell_type": "markdown",
   "metadata": {},
   "source": [
    "#### Calculating lower bound and upper bound"
   ]
  },
  {
   "cell_type": "code",
   "execution_count": null,
   "metadata": {},
   "outputs": [
    {
     "name": "stdout",
     "output_type": "stream",
     "text": [
      "[np.float64(0.16821060322753356), np.float64(0.9483102156492423), np.float64(0.07116983979697916), np.float64(-0.06774702542288913), np.float64(0.07027330769041853)]\n",
      "[np.float64(0.3912900047020388), np.float64(2.0255266366794666), np.float64(0.8177283134366586), np.float64(2.150618890439322), np.float64(0.3237000111642596)]\n"
     ]
    }
   ],
   "source": [
    "lower_bounds_gpvae_overweight_classification_subgroup, upper_bounds_gpvae_overweight_classification_subgroup = toolkits.calc_lower_and_upper_bound(results_bootstrap_gpvae_overweight_classification_subgroup, means_bootstraps_gpvae_overweight_classification_subgroup, standards_deviations_gpvae_overweight_classification_subgroup)\n",
    "\n",
    "print(lower_bounds_gpvae_overweight_classification_subgroup)\n",
    "print(upper_bounds_gpvae_overweight_classification_subgroup)"
   ]
  },
  {
   "cell_type": "code",
   "execution_count": null,
   "metadata": {},
   "outputs": [],
   "source": [
    "lower_bounds_gpvae_overweight_classification_subgroup, upper_bounds_gpvae_overweight_classification_subgroup = toolkits.calc_lower_and_upper_bound_percentile(results_bootstrap_gpvae_overweight_classification_subgroup)\n",
    "\n",
    "print(lower_bounds_gpvae_overweight_classification_subgroup)\n",
    "print(upper_bounds_gpvae_overweight_classification_subgroup)"
   ]
  },
  {
   "cell_type": "markdown",
   "metadata": {},
   "source": [
    "#### Mean values of lower bound and upper bound"
   ]
  },
  {
   "cell_type": "code",
   "execution_count": null,
   "metadata": {},
   "outputs": [
    {
     "name": "stdout",
     "output_type": "stream",
     "text": [
      "[np.float64(0.2797503039647862), np.float64(1.4869184261643544), np.float64(0.44444907661681887), np.float64(1.0414359325082163), np.float64(0.19698665942733906)]\n"
     ]
    }
   ],
   "source": [
    "mean_values_ci_gpvae_overweight_classification_subgroup  = toolkits.calc_mean_values_ci(lower_bounds_gpvae_overweight_classification_subgroup, upper_bounds_gpvae_overweight_classification_subgroup)\n",
    "\n",
    "print(mean_values_ci_gpvae_overweight_classification_subgroup)"
   ]
  },
  {
   "cell_type": "markdown",
   "metadata": {},
   "source": [
    "### Confidence Interval (Obesity 1 classification subgroup)"
   ]
  },
  {
   "cell_type": "markdown",
   "metadata": {},
   "source": [
    "#### Distribution Bootstrap for the Top 5 variables with Largest Differences in MAE (Mean Absolute Error) "
   ]
  },
  {
   "cell_type": "code",
   "execution_count": null,
   "metadata": {},
   "outputs": [],
   "source": [
    "indices = [1,31,6,0,32]\n",
    "\n",
    "results_bootstrap_gpvae_obs1_classification_subgroup = []\n",
    "\n",
    "for i in indices:\n",
    "       results_bootstrap_gpvae_obs1_classification_subgroup.append(toolkits.bootstrap(testing_ae_gpvae_variables_standard, indicating_mask_variable_standard_norm, 14, i, 9000))\n",
    "\n"
   ]
  },
  {
   "cell_type": "markdown",
   "metadata": {},
   "source": [
    "#### Calculating the mean and standard deviation of the bootstrap distribution"
   ]
  },
  {
   "cell_type": "code",
   "execution_count": null,
   "metadata": {},
   "outputs": [
    {
     "name": "stdout",
     "output_type": "stream",
     "text": [
      "[np.float64(0.30729431457159123), np.float64(0.49879057873455573), np.float64(0.27486455646945995), np.float64(0.4929731039694339), np.float64(0.40518847013824805)]\n",
      "[np.float64(0.05798396274724235), np.float64(0.25089896187847854), np.float64(0.08655489332963262), np.float64(0.19483046174517651), np.float64(0.12094499608671105)]\n"
     ]
    }
   ],
   "source": [
    "means_bootstraps_gpvae_obs1_classification_subgroup, standards_deviations_gpvae_obs1_classification_subgroup = toolkits.calc_mean_and_standard_deviation(results_bootstrap_gpvae_obs1_classification_subgroup)\n",
    "\n",
    "print(means_bootstraps_gpvae_obs1_classification_subgroup)\n",
    "print(standards_deviations_gpvae_obs1_classification_subgroup)\n"
   ]
  },
  {
   "cell_type": "markdown",
   "metadata": {},
   "source": [
    "#### Calculating lower bound and upper bound"
   ]
  },
  {
   "cell_type": "code",
   "execution_count": null,
   "metadata": {},
   "outputs": [
    {
     "name": "stdout",
     "output_type": "stream",
     "text": [
      "[np.float64(0.19364783590608406), np.float64(0.0070376496942498035), np.float64(0.10522008285767387), np.float64(0.11111241585757914), np.float64(0.1681406336979566)]\n",
      "[np.float64(0.42094079323709843), np.float64(0.9905435077748617), np.float64(0.44450903008124604), np.float64(0.8748337920812886), np.float64(0.6422363065785395)]\n"
     ]
    }
   ],
   "source": [
    "lower_bounds_gpvae_obs1_classification_subgroup, upper_bounds_gpvae_obs1_classification_subgroup = toolkits.calc_lower_and_upper_bound(results_bootstrap_gpvae_obs1_classification_subgroup, means_bootstraps_gpvae_obs1_classification_subgroup, standards_deviations_gpvae_obs1_classification_subgroup)\n",
    "\n",
    "print(lower_bounds_gpvae_obs1_classification_subgroup)\n",
    "print(upper_bounds_gpvae_obs1_classification_subgroup)"
   ]
  },
  {
   "cell_type": "code",
   "execution_count": null,
   "metadata": {},
   "outputs": [],
   "source": [
    "lower_bounds_gpvae_obs1_classification_subgroup, upper_bounds_gpvae_obs1_classification_subgroup = toolkits.calc_lower_and_upper_bound_percentile(results_bootstrap_gpvae_obs1_classification_subgroup)\n",
    "\n",
    "print(lower_bounds_gpvae_obs1_classification_subgroup)\n",
    "print(upper_bounds_gpvae_obs1_classification_subgroup)"
   ]
  },
  {
   "cell_type": "markdown",
   "metadata": {},
   "source": [
    "#### Mean values of lower bound and upper bound"
   ]
  },
  {
   "cell_type": "code",
   "execution_count": null,
   "metadata": {},
   "outputs": [
    {
     "name": "stdout",
     "output_type": "stream",
     "text": [
      "[np.float64(0.30729431457159123), np.float64(0.49879057873455573), np.float64(0.27486455646945995), np.float64(0.4929731039694339), np.float64(0.40518847013824805)]\n"
     ]
    }
   ],
   "source": [
    "mean_values_ci_gpvae_obs1_classification_subgroup  = toolkits.calc_mean_values_ci(lower_bounds_gpvae_obs1_classification_subgroup, upper_bounds_gpvae_obs1_classification_subgroup)\n",
    "\n",
    "print(mean_values_ci_gpvae_obs1_classification_subgroup)"
   ]
  },
  {
   "cell_type": "markdown",
   "metadata": {},
   "source": [
    "### Confidence Interval (Obesity 2 classification subgroup)"
   ]
  },
  {
   "cell_type": "markdown",
   "metadata": {},
   "source": [
    "#### Distribution Bootstrap for the Top 5 variables with Largest Differences in MAE (Mean Absolute Error) "
   ]
  },
  {
   "cell_type": "code",
   "execution_count": null,
   "metadata": {},
   "outputs": [],
   "source": [
    "indices = [1,31,6,0,32]\n",
    "\n",
    "results_bootstrap_gpvae_obs2_classification_subgroup = []\n",
    "\n",
    "for i in indices:\n",
    "       results_bootstrap_gpvae_obs2_classification_subgroup.append(toolkits.bootstrap(testing_ae_gpvae_variables_standard, indicating_mask_variable_standard_norm, 15, i, 9000))\n",
    "\n"
   ]
  },
  {
   "cell_type": "markdown",
   "metadata": {},
   "source": [
    "#### Calculating the mean and standard deviation of the bootstrap distribution"
   ]
  },
  {
   "cell_type": "code",
   "execution_count": null,
   "metadata": {},
   "outputs": [
    {
     "name": "stdout",
     "output_type": "stream",
     "text": [
      "[np.float64(0.2566297935741156), np.float64(0.12596516024051657), np.float64(1.3961240813101228), np.float64(0.0), np.float64(0.2858736875756382)]\n",
      "[np.float64(0.049002577704985846), np.float64(0.09598273849535295), np.float64(1.0268585416236724), np.float64(0.0), np.float64(0.13790114187609237)]\n"
     ]
    }
   ],
   "source": [
    "means_bootstraps_gpvae_obs2_classification_subgroup, standards_deviations_gpvae_obs2_classification_subgroup = toolkits.calc_mean_and_standard_deviation(results_bootstrap_gpvae_obs2_classification_subgroup)\n",
    "\n",
    "print(means_bootstraps_gpvae_obs2_classification_subgroup)\n",
    "print(standards_deviations_gpvae_obs2_classification_subgroup)\n"
   ]
  },
  {
   "cell_type": "markdown",
   "metadata": {},
   "source": [
    "#### Calculating lower bound and upper bound"
   ]
  },
  {
   "cell_type": "code",
   "execution_count": null,
   "metadata": {},
   "outputs": [
    {
     "name": "stdout",
     "output_type": "stream",
     "text": [
      "[np.float64(0.1605865061227179), np.float64(-0.062157550347901436), np.float64(-0.6164816774895991), np.float64(0.0), np.float64(0.015592416071548876)]\n",
      "[np.float64(0.35267308102551326), np.float64(0.3140878708289346), np.float64(3.408729840109845), np.float64(0.0), np.float64(0.5561549590797275)]\n"
     ]
    }
   ],
   "source": [
    "lower_bounds_gpvae_obs2_classification_subgroup, upper_bounds_gpvae_obs2_classification_subgroup = toolkits.calc_lower_and_upper_bound(results_bootstrap_gpvae_obs2_classification_subgroup, means_bootstraps_gpvae_obs2_classification_subgroup, standards_deviations_gpvae_obs2_classification_subgroup)\n",
    "\n",
    "print(lower_bounds_gpvae_obs2_classification_subgroup)\n",
    "print(upper_bounds_gpvae_obs2_classification_subgroup)"
   ]
  },
  {
   "cell_type": "code",
   "execution_count": null,
   "metadata": {},
   "outputs": [],
   "source": [
    "lower_bounds_gpvae_obs2_classification_subgroup, upper_bounds_gpvae_obs2_classification_subgroup = toolkits.calc_lower_and_upper_bound_percentile(results_bootstrap_gpvae_obs2_classification_subgroup)\n",
    "\n",
    "print(lower_bounds_gpvae_obs2_classification_subgroup)\n",
    "print(upper_bounds_gpvae_obs2_classification_subgroup)"
   ]
  },
  {
   "cell_type": "markdown",
   "metadata": {},
   "source": [
    "#### Mean values of lower bound and upper bound"
   ]
  },
  {
   "cell_type": "code",
   "execution_count": null,
   "metadata": {},
   "outputs": [
    {
     "name": "stdout",
     "output_type": "stream",
     "text": [
      "[np.float64(0.2566297935741156), np.float64(0.12596516024051657), np.float64(1.396124081310123), np.float64(0.0), np.float64(0.28587368757563814)]\n"
     ]
    }
   ],
   "source": [
    "mean_values_ci_gpvae_obs2_classification_subgroup  = toolkits.calc_mean_values_ci(lower_bounds_gpvae_obs2_classification_subgroup, upper_bounds_gpvae_obs2_classification_subgroup)\n",
    "\n",
    "print(mean_values_ci_gpvae_obs2_classification_subgroup)"
   ]
  },
  {
   "cell_type": "markdown",
   "metadata": {},
   "source": [
    "### Confidence Interval (Obesity 3 classification subgroup)"
   ]
  },
  {
   "cell_type": "markdown",
   "metadata": {},
   "source": [
    "#### Distribution Bootstrap for the Top 5 variables with Largest Differences in MAE (Mean Absolute Error) "
   ]
  },
  {
   "cell_type": "code",
   "execution_count": null,
   "metadata": {},
   "outputs": [],
   "source": [
    "indices = [1,31,6,0,32]\n",
    "\n",
    "results_bootstrap_gpvae_obs3_classification_subgroup = []\n",
    "\n",
    "for i in indices:\n",
    "       results_bootstrap_gpvae_obs3_classification_subgroup.append(toolkits.bootstrap(testing_ae_gpvae_variables_standard, indicating_mask_variable_standard_norm, 16, i, 9000))\n",
    "\n"
   ]
  },
  {
   "cell_type": "markdown",
   "metadata": {},
   "source": [
    "#### Calculating the mean and standard deviation of the bootstrap distribution"
   ]
  },
  {
   "cell_type": "code",
   "execution_count": null,
   "metadata": {},
   "outputs": [
    {
     "name": "stdout",
     "output_type": "stream",
     "text": [
      "[np.float64(0.15155417430747806), np.float64(0.0), np.float64(1.1593962687753612), np.float64(0.2442421185109458), np.float64(0.20886002502599546)]\n",
      "[np.float64(0.050281311239894225), np.float64(0.0), np.float64(0.8237478596037178), np.float64(0.19004214803335054), np.float64(0.12978497928121874)]\n"
     ]
    }
   ],
   "source": [
    "means_bootstraps_gpvae_obs3_classification_subgroup, standards_deviations_gpvae_obs3_classification_subgroup = toolkits.calc_mean_and_standard_deviation(results_bootstrap_gpvae_obs3_classification_subgroup)\n",
    "\n",
    "print(means_bootstraps_gpvae_obs3_classification_subgroup)\n",
    "print(standards_deviations_gpvae_obs3_classification_subgroup)\n"
   ]
  },
  {
   "cell_type": "markdown",
   "metadata": {},
   "source": [
    "#### Calculating lower bound and upper bound"
   ]
  },
  {
   "cell_type": "code",
   "execution_count": null,
   "metadata": {},
   "outputs": [
    {
     "name": "stdout",
     "output_type": "stream",
     "text": [
      "[np.float64(0.05300461518183637), np.float64(0.0), np.float64(-0.4551198683898825), np.float64(-0.12823364717905072), np.float64(-0.045513860099470366)]\n",
      "[np.float64(0.25010373343311976), np.float64(0.0), np.float64(2.773912405940605), np.float64(0.6167178842009423), np.float64(0.4632339101514613)]\n"
     ]
    }
   ],
   "source": [
    "lower_bounds_gpvae_obs3_classification_subgroup, upper_bounds_gpvae_obs3_classification_subgroup = toolkits.calc_lower_and_upper_bound(results_bootstrap_gpvae_obs3_classification_subgroup, means_bootstraps_gpvae_obs3_classification_subgroup, standards_deviations_gpvae_obs3_classification_subgroup)\n",
    "\n",
    "print(lower_bounds_gpvae_obs3_classification_subgroup)\n",
    "print(upper_bounds_gpvae_obs3_classification_subgroup)"
   ]
  },
  {
   "cell_type": "code",
   "execution_count": null,
   "metadata": {},
   "outputs": [],
   "source": [
    "lower_bounds_gpvae_obs3_classification_subgroup, upper_bounds_gpvae_obs3_classification_subgroup = toolkits.calc_lower_and_upper_bound_percentile(results_bootstrap_gpvae_obs3_classification_subgroup)\n",
    "\n",
    "print(lower_bounds_gpvae_obs3_classification_subgroup)\n",
    "print(upper_bounds_gpvae_obs3_classification_subgroup)"
   ]
  },
  {
   "cell_type": "markdown",
   "metadata": {},
   "source": [
    "#### Mean values of lower bound and upper bound"
   ]
  },
  {
   "cell_type": "code",
   "execution_count": null,
   "metadata": {},
   "outputs": [
    {
     "name": "stdout",
     "output_type": "stream",
     "text": [
      "[np.float64(0.15155417430747806), np.float64(0.0), np.float64(1.1593962687753612), np.float64(0.2442421185109458), np.float64(0.2088600250259955)]\n"
     ]
    }
   ],
   "source": [
    "mean_values_ci_gpvae_obs3_classification_subgroup  = toolkits.calc_mean_values_ci(lower_bounds_gpvae_obs3_classification_subgroup, upper_bounds_gpvae_obs3_classification_subgroup)\n",
    "\n",
    "print(mean_values_ci_gpvae_obs3_classification_subgroup)"
   ]
  },
  {
   "cell_type": "markdown",
   "metadata": {},
   "source": [
    "## MRNN"
   ]
  },
  {
   "cell_type": "markdown",
   "metadata": {},
   "source": [
    "### Calculate MAE and AE"
   ]
  },
  {
   "cell_type": "code",
   "execution_count": null,
   "metadata": {},
   "outputs": [],
   "source": [
    "testing_mae_mrnn_variables_standard, testing_ae_mrnn_variables_standard = toolkits.calculate_mae(mrnn_imputation_standard, test_X_ori_variable_standard_norm, indicating_mask_variable_standard_norm)"
   ]
  },
  {
   "cell_type": "markdown",
   "metadata": {},
   "source": [
    "### Taking the MAE difference for MRNN model"
   ]
  },
  {
   "cell_type": "markdown",
   "metadata": {},
   "source": [
    "#### Difference between gender group"
   ]
  },
  {
   "cell_type": "code",
   "execution_count": null,
   "metadata": {},
   "outputs": [
    {
     "data": {
      "text/plain": [
       "[('Cholesterol', 0.46007480562614733),\n",
       " ('SaO2', 0.23089925994991106),\n",
       " ('Weight', 0.1781846451592244),\n",
       " ('AST', 0.1741083024220948),\n",
       " ('PaCO2', 0.12962865455656114)]"
      ]
     },
     "execution_count": 44,
     "metadata": {},
     "output_type": "execute_result"
    }
   ],
   "source": [
    "diff_mrnn_gender_subgroup = toolkits.diff_mae_top_5(testing_mae_mrnn_variables_standard, 1, 2, variables)\n",
    "diff_mrnn_gender_subgroup"
   ]
  },
  {
   "cell_type": "markdown",
   "metadata": {},
   "source": [
    "#### Difference between age group"
   ]
  },
  {
   "cell_type": "code",
   "execution_count": null,
   "metadata": {},
   "outputs": [
    {
     "data": {
      "text/plain": [
       "[('Cholesterol', 0.5264706140850112),\n",
       " ('ALP', 0.42118039343106295),\n",
       " ('SaO2', 0.21218979884570444),\n",
       " ('TroponinI', 0.18821601789959796),\n",
       " ('Bilirubin', 0.1405204793192777)]"
      ]
     },
     "execution_count": 45,
     "metadata": {},
     "output_type": "execute_result"
    }
   ],
   "source": [
    "diff_mrnn_age_subgroup = toolkits.diff_mae_top_5(testing_mae_mrnn_variables_standard, 4, 5, variables)\n",
    "diff_mrnn_age_subgroup"
   ]
  },
  {
   "cell_type": "markdown",
   "metadata": {},
   "source": [
    "#### Difference between ICUType group"
   ]
  },
  {
   "cell_type": "code",
   "execution_count": null,
   "metadata": {},
   "outputs": [],
   "source": [
    "diff_mrnn_ICUType_1_2 = toolkits.diff_mae_top_5(testing_mae_mrnn_variables_standard, 6, 7, variables)\n",
    "diff_mrnn_ICUType_1_3 = toolkits.diff_mae_top_5(testing_mae_mrnn_variables_standard, 6, 8, variables)\n",
    "diff_mrnn_ICUType_1_4 = toolkits.diff_mae_top_5(testing_mae_mrnn_variables_standard, 6, 9, variables)\n",
    "diff_mrnn_ICUType_2_3 = toolkits.diff_mae_top_5(testing_mae_mrnn_variables_standard, 7, 8, variables)\n",
    "diff_mrnn_ICUType_2_4 = toolkits.diff_mae_top_5(testing_mae_mrnn_variables_standard, 7, 9, variables)\n",
    "diff_mrnn_ICUType_3_4 = toolkits.diff_mae_top_5(testing_mae_mrnn_variables_standard, 8, 9, variables)"
   ]
  },
  {
   "cell_type": "code",
   "execution_count": null,
   "metadata": {},
   "outputs": [
    {
     "name": "stdout",
     "output_type": "stream",
     "text": [
      "Diferença(MAE) ICUType 1 e 2\n",
      "----------------------------\n",
      "[('Cholesterol', 0.9010319943785403), ('TroponinI', 0.8885610723184879), ('TroponinT', 0.2790266043092085), ('AST', 0.2552394455397726), ('HR', 0.24475318001332502)]\n",
      "----------------------------\n",
      "Diferença(MAE) ICUType 1 e 3\n",
      "----------------------------\n",
      "[('SaO2', 1.126906434849816), ('ALP', 0.826833726615776), ('TroponinI', 0.6275078131032561), ('PaCO2', 0.3166885871390994), ('K', 0.24651464330000916)]\n",
      "----------------------------\n",
      "Diferença(MAE) ICUType 1 e 4\n",
      "----------------------------\n",
      "[('TroponinI', 0.4752300632564468), ('TroponinT', 0.28805061664771353), ('Albumin', 0.2061163193636698), ('Glucose', 0.20571705409253582), ('Cholesterol', 0.20496776200009514)]\n",
      "----------------------------\n",
      "Diferença(MAE) ICUType 2 e 3\n",
      "[('SaO2', 1.3273285721076542), ('Cholesterol', 0.7254168014070564), ('ALP', 0.6559594688208507), ('HCO3', 0.444614029946391), ('PaCO2', 0.4402514603625217)]\n",
      "----------------------------\n",
      "Diferença(MAE) ICUType 2 e 4\n",
      "----------------------------\n",
      "[('Cholesterol', 0.6960642323784452), ('TroponinI', 0.4133310090620411), ('PaO2', 0.21916984374194926), ('HR', 0.19926760137360766), ('RespRate', 0.19182286858756104)]\n",
      "----------------------------\n",
      "Diferença(MAE) ICUType 3 e 4\n",
      "----------------------------\n",
      "[('SaO2', 1.2036687382038753), ('ALP', 0.6224636658234282), ('PaCO2', 0.3671419248044534), ('HCO3', 0.3310262507786317), ('Glucose', 0.26631149134816035)]\n",
      "----------------------------\n"
     ]
    }
   ],
   "source": [
    "print(\"Diferença(MAE) ICUType 1 e 2\")\n",
    "print(\"----------------------------\")\n",
    "print(diff_mrnn_ICUType_1_2)\n",
    "print(\"----------------------------\")\n",
    "print(\"Diferença(MAE) ICUType 1 e 3\")\n",
    "print(\"----------------------------\")\n",
    "print(diff_mrnn_ICUType_1_3)\n",
    "print(\"----------------------------\")\n",
    "print(\"Diferença(MAE) ICUType 1 e 4\")\n",
    "print(\"----------------------------\")\n",
    "print(diff_mrnn_ICUType_1_4)\n",
    "print(\"----------------------------\")\n",
    "print(\"Diferença(MAE) ICUType 2 e 3\")\n",
    "print(diff_mrnn_ICUType_2_3)\n",
    "print(\"----------------------------\")\n",
    "print(\"Diferença(MAE) ICUType 2 e 4\")\n",
    "print(\"----------------------------\")\n",
    "print(diff_mrnn_ICUType_2_4)\n",
    "print(\"----------------------------\")\n",
    "print(\"Diferença(MAE) ICUType 3 e 4\")\n",
    "print(\"----------------------------\")\n",
    "print(diff_mrnn_ICUType_3_4)\n",
    "print(\"----------------------------\")"
   ]
  },
  {
   "cell_type": "code",
   "execution_count": null,
   "metadata": {},
   "outputs": [
    {
     "name": "stdout",
     "output_type": "stream",
     "text": [
      "Top 5 variáveis ICUType\n",
      "-----------------------\n",
      "SaO2\n",
      "Cholesterol\n",
      "TroponinI\n",
      "ALP\n",
      "PaCO2\n"
     ]
    }
   ],
   "source": [
    "print(\"Top 5 variáveis ICUType\")\n",
    "print(\"-----------------------\")\n",
    "print(variables[28])\n",
    "print(variables[6])\n",
    "print(variables[31])\n",
    "print(variables[0])\n",
    "print(variables[24])"
   ]
  },
  {
   "cell_type": "markdown",
   "metadata": {},
   "source": [
    "#### Difference between BMI group"
   ]
  },
  {
   "cell_type": "code",
   "execution_count": null,
   "metadata": {},
   "outputs": [],
   "source": [
    "diff_mrnn_classification_undefined_low = toolkits.diff_mae_top_5(testing_mae_mrnn_variables_standard, 10, 11, variables)\n",
    "diff_mrnn_classification_undefined_normal = toolkits.diff_mae_top_5(testing_mae_mrnn_variables_standard, 10, 12, variables)\n",
    "diff_mrnn_classification_undefined_over = toolkits.diff_mae_top_5(testing_mae_mrnn_variables_standard, 10, 13, variables)\n",
    "diff_mrnn_classification_undefined_obs1 = toolkits.diff_mae_top_5(testing_mae_mrnn_variables_standard, 10, 14, variables)\n",
    "diff_mrnn_classification_undefined_obs2 = toolkits.diff_mae_top_5(testing_mae_mrnn_variables_standard, 10, 15, variables)\n",
    "diff_mrnn_classification_undefined_obs3 = toolkits.diff_mae_top_5(testing_mae_mrnn_variables_standard, 10, 16, variables)\n",
    "\n",
    "diff_mrnn_classification_low_normal = toolkits.diff_mae_top_5(testing_mae_mrnn_variables_standard, 11, 12, variables)\n",
    "diff_mrnn_classification_low_over = toolkits.diff_mae_top_5(testing_mae_mrnn_variables_standard, 11, 13, variables)\n",
    "diff_mrnn_classification_low_obs1 = toolkits.diff_mae_top_5(testing_mae_mrnn_variables_standard, 11, 14, variables)\n",
    "diff_mrnn_classification_low_obs2 = toolkits.diff_mae_top_5(testing_mae_mrnn_variables_standard, 11, 15, variables)\n",
    "diff_mrnn_classification_low_obs3 = toolkits.diff_mae_top_5(testing_mae_mrnn_variables_standard, 11, 16, variables)\n",
    "\n",
    "diff_mrnn_classification_normal_over = toolkits.diff_mae_top_5(testing_mae_mrnn_variables_standard, 12, 13, variables)\n",
    "diff_mrnn_classification_normal_obs1 = toolkits.diff_mae_top_5(testing_mae_mrnn_variables_standard, 12, 14, variables)\n",
    "diff_mrnn_classification_normal_obs2 = toolkits.diff_mae_top_5(testing_mae_mrnn_variables_standard, 12, 15, variables)\n",
    "diff_mrnn_classification_normal_obs3 = toolkits.diff_mae_top_5(testing_mae_mrnn_variables_standard, 12, 16, variables)\n",
    "\n",
    "diff_mrnn_classification_over_obs1 = toolkits.diff_mae_top_5(testing_mae_mrnn_variables_standard, 13, 14, variables)\n",
    "diff_mrnn_classification_over_obs2 = toolkits.diff_mae_top_5(testing_mae_mrnn_variables_standard, 13, 15, variables)\n",
    "diff_mrnn_classification_over_obs3 = toolkits.diff_mae_top_5(testing_mae_mrnn_variables_standard, 13, 16, variables)\n",
    "\n",
    "\n",
    "diff_mrnn_classification_obs1_obs2 = toolkits.diff_mae_top_5(testing_mae_mrnn_variables_standard, 14, 15, variables)\n",
    "diff_mrnn_classification_obs1_obs3 = toolkits.diff_mae_top_5(testing_mae_mrnn_variables_standard, 14, 16, variables)\n",
    "\n",
    "diff_mrnn_classification_obs2_obs3 = toolkits.diff_mae_top_5(testing_mae_mrnn_variables_standard, 15, 16, variables)"
   ]
  },
  {
   "cell_type": "code",
   "execution_count": null,
   "metadata": {},
   "outputs": [
    {
     "name": "stdout",
     "output_type": "stream",
     "text": [
      "Diferença(MAE) Classification Undefined and low\n",
      "----------------------------\n",
      "[('ALP', 1.7276133990683362), ('Bilirubin', 0.9914312934423044), ('TroponinI', 0.7605306891067674), ('Weight', 0.5541701194492721), ('Cholesterol', 0.4686585973942653)]\n",
      "----------------------------\n",
      "Diferença(MAE) Classification Undefined and normal\n",
      "----------------------------\n",
      "[('Cholesterol', 0.3793471636845912), ('PaCO2', 0.2607229442068275), ('SaO2', 0.23204288622686337), ('TroponinI', 0.19152385318395748), ('HCO3', 0.18600797369321342)]\n",
      "----------------------------\n",
      "Diferença(MAE) Classification Undefined and over\n",
      "----------------------------\n",
      "[('Cholesterol', 0.7311865583297629), ('TroponinI', 0.4223997471662162), ('Weight', 0.3506808760264265), ('PaCO2', 0.2270916455603793), ('SaO2', 0.2137441109303908)]\n",
      "----------------------------\n",
      "Diferença(MAE) Classification Undefined and obs1\n",
      "[('Ph', 0.8858111069773932), ('PaCO2', 0.2961064224948988), ('HCO3', 0.25893221785255016), ('SaO2', 0.2587867211362769), ('Albumin', 0.25747673854550246)]\n",
      "----------------------------\n",
      "Diferença(MAE) Classification Undefined and obs2\n",
      "----------------------------\n",
      "[('TroponinT', 0.9269906109408226), ('TroponinI', 0.7605306891067674), ('Cholesterol', 0.4924356555286472), ('HCO3', 0.28312632578576835), ('PaCO2', 0.2646588945182431)]\n",
      "----------------------------\n",
      "Diferença(MAE) ICUType Undefined and obs3\n",
      "----------------------------\n",
      "[('ALT', 0.9730740310966027), ('Weight', 0.9046776145332296), ('Cholesterol', 0.5740333519842898), ('TroponinT', 0.5239031418998874), ('TroponinI', 0.4102979573983474)]\n",
      "----------------------------\n"
     ]
    }
   ],
   "source": [
    "print(\"Diferença(MAE) Classification Undefined and low\")\n",
    "print(\"----------------------------\")\n",
    "print(diff_mrnn_classification_undefined_low)\n",
    "print(\"----------------------------\")\n",
    "print(\"Diferença(MAE) Classification Undefined and normal\")\n",
    "print(\"----------------------------\")\n",
    "print(diff_mrnn_classification_undefined_normal)\n",
    "print(\"----------------------------\")\n",
    "print(\"Diferença(MAE) Classification Undefined and over\")\n",
    "print(\"----------------------------\")\n",
    "print(diff_mrnn_classification_undefined_over)\n",
    "print(\"----------------------------\")\n",
    "print(\"Diferença(MAE) Classification Undefined and obs1\")\n",
    "print(diff_mrnn_classification_undefined_obs1)\n",
    "print(\"----------------------------\")\n",
    "print(\"Diferença(MAE) Classification Undefined and obs2\")\n",
    "print(\"----------------------------\")\n",
    "print(diff_mrnn_classification_undefined_obs2)\n",
    "print(\"----------------------------\")\n",
    "print(\"Diferença(MAE) ICUType Undefined and obs3\")\n",
    "print(\"----------------------------\")\n",
    "print(diff_mrnn_classification_undefined_obs3)\n",
    "print(\"----------------------------\")"
   ]
  },
  {
   "cell_type": "code",
   "execution_count": null,
   "metadata": {},
   "outputs": [
    {
     "name": "stdout",
     "output_type": "stream",
     "text": [
      "Diferença(MAE) Classification low and normal\n",
      "----------------------------\n",
      "[('ALP', 1.616655613152504), ('Bilirubin', 0.9207620318461242), ('Cholesterol', 0.8480057610788565), ('TroponinI', 0.5690068359228099), ('HCO3', 0.5367857762848458)]\n",
      "----------------------------\n",
      "Diferença(MAE) Classification low and over\n",
      "----------------------------\n",
      "[('ALP', 1.8004731135079597), ('Cholesterol', 1.1998451557240282), ('TroponinI', 1.1829304362729836), ('Bilirubin', 1.1149758355325403), ('Weight', 0.9048509954756986)]\n",
      "----------------------------\n",
      "Diferença(MAE) Classification low and obs1\n",
      "----------------------------\n",
      "[('ALP', 1.839342476713079), ('Bilirubin', 1.1198139228432797), ('Ph', 0.8807265511276338), ('Weight', 0.782381102471485), ('TroponinI', 0.6293802804910801)]\n",
      "----------------------------\n",
      "Diferença(MAE) Classification low and obs2\n",
      "[('ALP', 1.701601911486742), ('Bilirubin', 1.0552999585115248), ('TroponinT', 0.9759888843088509), ('HCO3', 0.6339041283774007), ('Weight', 0.5288315136741774)]\n",
      "----------------------------\n",
      "Diferença(MAE) Classification low and obs3\n",
      "----------------------------\n",
      "[('ALP', 1.913191874447438), ('Bilirubin', 1.183643716628978), ('ALT', 1.0535741464365131), ('TroponinT', 0.5729014152679157), ('Weight', 0.3505074950839575)]\n",
      "----------------------------\n"
     ]
    }
   ],
   "source": [
    "print(\"Diferença(MAE) Classification low and normal\")\n",
    "print(\"----------------------------\")\n",
    "print(diff_mrnn_classification_low_normal)\n",
    "print(\"----------------------------\")\n",
    "print(\"Diferença(MAE) Classification low and over\")\n",
    "print(\"----------------------------\")\n",
    "print(diff_mrnn_classification_low_over)\n",
    "print(\"----------------------------\")\n",
    "print(\"Diferença(MAE) Classification low and obs1\")\n",
    "print(\"----------------------------\")\n",
    "print(diff_mrnn_classification_low_obs1)\n",
    "print(\"----------------------------\")\n",
    "print(\"Diferença(MAE) Classification low and obs2\")\n",
    "print(diff_mrnn_classification_low_obs2)\n",
    "print(\"----------------------------\")\n",
    "print(\"Diferença(MAE) Classification low and obs3\")\n",
    "print(\"----------------------------\")\n",
    "print(diff_mrnn_classification_low_obs3)\n",
    "print(\"----------------------------\")"
   ]
  },
  {
   "cell_type": "code",
   "execution_count": null,
   "metadata": {},
   "outputs": [
    {
     "name": "stdout",
     "output_type": "stream",
     "text": [
      "Diferença(MAE) Classification normal and over\n",
      "----------------------------\n",
      "[('TroponinI', 0.6139236003501737), ('Weight', 0.39083485356388614), ('Cholesterol', 0.35183939464517167), ('ALT', 0.25331368516240216), ('Bilirubin', 0.19421380368641616)]\n",
      "----------------------------\n",
      "Diferença(MAE) Classification normal and obs1\n",
      "----------------------------\n",
      "[('Ph', 0.8908243780585775), ('Cholesterol', 0.3310031978642243), ('Weight', 0.2683649605596725), ('ALP', 0.22268686356057493), ('Albumin', 0.1992342096852764)]\n",
      "----------------------------\n",
      "Diferença(MAE) Classification normal and obs2\n",
      "----------------------------\n",
      "[('TroponinT', 0.9827645580136316), ('Cholesterol', 0.8717828192132384), ('TroponinI', 0.5690068359228099), ('ALT', 0.2871264264440603), ('Creatinine', 0.2062260662166976)]\n",
      "----------------------------\n",
      "Diferença(MAE) Classification normal and obs3\n",
      "[('ALT', 1.0982371420715205), ('Cholesterol', 0.953380515668881), ('Weight', 0.86452363699577), ('TroponinT', 0.5796770889726964), ('HCO3', 0.3046620670950646)]\n",
      "----------------------------\n"
     ]
    }
   ],
   "source": [
    "print(\"Diferença(MAE) Classification normal and over\")\n",
    "print(\"----------------------------\")\n",
    "print(diff_mrnn_classification_normal_over)\n",
    "print(\"----------------------------\")\n",
    "print(\"Diferença(MAE) Classification normal and obs1\")\n",
    "print(\"----------------------------\")\n",
    "print(diff_mrnn_classification_normal_obs1)\n",
    "print(\"----------------------------\")\n",
    "print(\"Diferença(MAE) Classification normal and obs2\")\n",
    "print(\"----------------------------\")\n",
    "print(diff_mrnn_classification_normal_obs2)\n",
    "print(\"----------------------------\")\n",
    "print(\"Diferença(MAE) Classification normal and obs3\")\n",
    "print(diff_mrnn_classification_normal_obs3)\n",
    "print(\"----------------------------\")"
   ]
  },
  {
   "cell_type": "code",
   "execution_count": null,
   "metadata": {},
   "outputs": [
    {
     "name": "stdout",
     "output_type": "stream",
     "text": [
      "Diferença(MAE) Classification over and obs1\n",
      "----------------------------\n",
      "[('Ph', 0.8888769174492269), ('Cholesterol', 0.6828425925093959), ('TroponinI', 0.5535501557819035), ('ALT', 0.2339750215206805), ('TroponinT', 0.23237983193846368)]\n",
      "----------------------------\n",
      "Diferença(MAE) Classification over and obs2\n",
      "----------------------------\n",
      "[('Cholesterol', 1.22362221385841), ('TroponinI', 1.1829304362729836), ('TroponinT', 0.8424714467402539), ('Weight', 0.3760194818015212), ('RespRate', 0.20419277047251283)]\n",
      "----------------------------\n",
      "Diferença(MAE) Classification over and obs3\n",
      "----------------------------\n",
      "[('Cholesterol', 1.3052199103140527), ('Weight', 1.2553584905596562), ('ALT', 0.8449234569091182), ('TroponinI', 0.8326977045645636), ('TroponinT', 0.4393839776993187)]\n",
      "----------------------------\n"
     ]
    }
   ],
   "source": [
    "print(\"Diferença(MAE) Classification over and obs1\")\n",
    "print(\"----------------------------\")\n",
    "print(diff_mrnn_classification_over_obs1)\n",
    "print(\"----------------------------\")\n",
    "print(\"Diferença(MAE) Classification over and obs2\")\n",
    "print(\"----------------------------\")\n",
    "print(diff_mrnn_classification_over_obs2)\n",
    "print(\"----------------------------\")\n",
    "print(\"Diferença(MAE) Classification over and obs3\")\n",
    "print(\"----------------------------\")\n",
    "print(diff_mrnn_classification_over_obs3)\n",
    "print(\"----------------------------\")"
   ]
  },
  {
   "cell_type": "code",
   "execution_count": null,
   "metadata": {},
   "outputs": [
    {
     "name": "stdout",
     "output_type": "stream",
     "text": [
      "Diferença(MAE) Classification obs1 and obs2 \n",
      "----------------------------\n",
      "[('TroponinT', 1.0748512786787177), ('Ph', 0.8644289951196773), ('TroponinI', 0.6293802804910801), ('Cholesterol', 0.5407796213490141), ('ALT', 0.2677877628023386)]\n",
      "----------------------------\n",
      "Diferença(MAE) Classification obs1 and obs3 \n",
      "----------------------------\n",
      "[('Weight', 1.1328885975554424), ('ALT', 1.0788984784297986), ('Ph', 0.884502858503702), ('TroponinT', 0.6717638096377824), ('Cholesterol', 0.6223773178046568)]\n",
      "----------------------------\n"
     ]
    }
   ],
   "source": [
    "print(\"Diferença(MAE) Classification obs1 and obs2 \")\n",
    "print(\"----------------------------\")\n",
    "print(diff_mrnn_classification_obs1_obs2)\n",
    "print(\"----------------------------\")\n",
    "print(\"Diferença(MAE) Classification obs1 and obs3 \")\n",
    "print(\"----------------------------\")\n",
    "print(diff_mrnn_classification_obs1_obs3)\n",
    "print(\"----------------------------\")"
   ]
  },
  {
   "cell_type": "code",
   "execution_count": null,
   "metadata": {},
   "outputs": [
    {
     "name": "stdout",
     "output_type": "stream",
     "text": [
      "Diferença(MAE) Classification obs2 and obs3 \n",
      "----------------------------\n",
      "[('Weight', 0.8793390087581349), ('ALT', 0.8111107156274601), ('TroponinT', 0.4030874690409352), ('HCO3', 0.40178041918761953), ('TroponinI', 0.35023273170841995)]\n",
      "----------------------------\n"
     ]
    }
   ],
   "source": [
    "print(\"Diferença(MAE) Classification obs2 and obs3 \")\n",
    "print(\"----------------------------\")\n",
    "print(diff_mrnn_classification_obs2_obs3)\n",
    "print(\"----------------------------\")"
   ]
  },
  {
   "cell_type": "code",
   "execution_count": null,
   "metadata": {},
   "outputs": [
    {
     "name": "stdout",
     "output_type": "stream",
     "text": [
      "Top 5 variáveis BMI\n",
      "-----------------------\n",
      "Cholesterol\n",
      "ALP\n",
      "TroponinI\n",
      "Weight\n",
      "TroponinT\n"
     ]
    }
   ],
   "source": [
    "print(\"Top 5 variáveis BMI\")\n",
    "print(\"-----------------------\")\n",
    "print(variables[6])\n",
    "print(variables[0])\n",
    "print(variables[31])\n",
    "print(variables[35])\n",
    "print(variables[32])"
   ]
  },
  {
   "cell_type": "markdown",
   "metadata": {},
   "source": [
    "### Confidence Interval (Female Subgroup)"
   ]
  },
  {
   "cell_type": "markdown",
   "metadata": {},
   "source": [
    "#### Distribution Bootstrap for the Top 5 variables with Largest Differences in MAE (Mean Absolute Error) "
   ]
  },
  {
   "cell_type": "code",
   "execution_count": null,
   "metadata": {},
   "outputs": [],
   "source": [
    "indices = [6,28,35,2,24]\n",
    "\n",
    "results_bootstrap_mrnn_female = []\n",
    "\n",
    "for i in indices:\n",
    "       results_bootstrap_mrnn_female.append(toolkits.bootstrap(testing_ae_mrnn_variables_standard, indicating_mask_variable_standard_norm, 1, i, 9000))"
   ]
  },
  {
   "cell_type": "markdown",
   "metadata": {},
   "source": [
    "#### Calculating the mean and standard deviation of the bootstrap distribution"
   ]
  },
  {
   "cell_type": "code",
   "execution_count": null,
   "metadata": {},
   "outputs": [
    {
     "name": "stdout",
     "output_type": "stream",
     "text": [
      "[np.float64(1.1862831276383659), np.float64(0.2997961472873614), np.float64(0.5235753507673425), np.float64(0.25226284763473317), np.float64(0.4254263754490005)]\n",
      "[np.float64(0.3381506628642691), np.float64(0.08322467917877542), np.float64(0.07193090333728737), np.float64(0.02436604729618584), np.float64(0.03851788865527756)]\n"
     ]
    }
   ],
   "source": [
    "means_bootstraps_mrnn_female,standards_deviations_mrnn_female = toolkits.calc_mean_and_standard_deviation(results_bootstrap_mrnn_female)\n",
    "\n",
    "print(means_bootstraps_mrnn_female)\n",
    "print(standards_deviations_mrnn_female)\n"
   ]
  },
  {
   "cell_type": "markdown",
   "metadata": {},
   "source": [
    "#### Calculating lower bound and upper bound"
   ]
  },
  {
   "cell_type": "code",
   "execution_count": null,
   "metadata": {},
   "outputs": [
    {
     "name": "stdout",
     "output_type": "stream",
     "text": [
      "[np.float64(0.5235200070760525), np.float64(0.1366787734720611), np.float64(0.3825933708508273), np.float64(0.20450627248860936), np.float64(0.3499327009241326)]\n",
      "[np.float64(1.849046248200679), np.float64(0.46291352110266176), np.float64(0.6645573306838577), np.float64(0.30001942278085697), np.float64(0.5009200499738685)]\n"
     ]
    }
   ],
   "source": [
    "lower_bounds_mrnn_female, upper_bounds_mrnn_female = toolkits.calc_lower_and_upper_bound(results_bootstrap_mrnn_female, means_bootstraps_mrnn_female,standards_deviations_mrnn_female)\n",
    "\n",
    "print(lower_bounds_mrnn_female)\n",
    "print(upper_bounds_mrnn_female)"
   ]
  },
  {
   "cell_type": "code",
   "execution_count": null,
   "metadata": {},
   "outputs": [],
   "source": [
    "lower_bounds_mrnn_female, upper_bounds_mrnn_female = toolkits.calc_lower_and_upper_bound_percentile(results_bootstrap_mrnn_female)\n",
    "\n",
    "print(lower_bounds_mrnn_female)\n",
    "print(upper_bounds_mrnn_female)"
   ]
  },
  {
   "cell_type": "markdown",
   "metadata": {},
   "source": [
    "#### Mean values of lower bound and upper bound\n"
   ]
  },
  {
   "cell_type": "code",
   "execution_count": null,
   "metadata": {},
   "outputs": [
    {
     "name": "stdout",
     "output_type": "stream",
     "text": [
      "[np.float64(1.1862831276383659), np.float64(0.2997961472873614), np.float64(0.5235753507673425), np.float64(0.25226284763473317), np.float64(0.4254263754490005)]\n"
     ]
    }
   ],
   "source": [
    "mean_values_ci_mrnn_female = toolkits.calc_mean_values_ci(lower_bounds_mrnn_female, upper_bounds_mrnn_female)\n",
    "\n",
    "print(mean_values_ci_mrnn_female)"
   ]
  },
  {
   "cell_type": "markdown",
   "metadata": {},
   "source": [
    "### Confidence Interval (Male Subgroup)"
   ]
  },
  {
   "cell_type": "markdown",
   "metadata": {},
   "source": [
    "#### Distribution Bootstrap for the Top 5 variables with Largest Differences in MAE (Mean Absolute Error) "
   ]
  },
  {
   "cell_type": "code",
   "execution_count": null,
   "metadata": {},
   "outputs": [],
   "source": [
    "indices = [6,28,35,2,24]\n",
    "\n",
    "results_bootstrap_mrnn_male = []\n",
    "\n",
    "for i in indices:\n",
    "       results_bootstrap_mrnn_male.append(toolkits.bootstrap(testing_ae_mrnn_variables_standard, indicating_mask_variable_standard_norm, 2, i, 9000))"
   ]
  },
  {
   "cell_type": "markdown",
   "metadata": {},
   "source": [
    "#### Calculating the mean and standard deviation of the bootstrap distribution"
   ]
  },
  {
   "cell_type": "code",
   "execution_count": null,
   "metadata": {},
   "outputs": [
    {
     "name": "stdout",
     "output_type": "stream",
     "text": [
      "[np.float64(0.8532085999273139), np.float64(0.12173798464939829), np.float64(0.7001687284700588), np.float64(0.4070497014201909), np.float64(0.5221586240945711)]\n",
      "[np.float64(0.17358454405745072), np.float64(0.025632322705534415), np.float64(0.2124414858781128), np.float64(0.03724148791663912), np.float64(0.04259881898681301)]\n"
     ]
    }
   ],
   "source": [
    "means_bootstraps_mrnn_male,standards_deviations_mrnn_male = toolkits.calc_mean_and_standard_deviation(results_bootstrap_mrnn_male)\n",
    "\n",
    "print(means_bootstraps_mrnn_male)\n",
    "print(standards_deviations_mrnn_male)\n"
   ]
  },
  {
   "cell_type": "markdown",
   "metadata": {},
   "source": [
    "#### Calculating lower bound and upper bound"
   ]
  },
  {
   "cell_type": "code",
   "execution_count": null,
   "metadata": {},
   "outputs": [
    {
     "name": "stdout",
     "output_type": "stream",
     "text": [
      "[np.float64(0.5129891453019042), np.float64(0.07149955530644256), np.float64(0.2837910673267833), np.float64(0.33405772637289466), np.float64(0.4386664730964766)]\n",
      "[np.float64(1.1934280545527236), np.float64(0.17197641399235403), np.float64(1.1165463896133345), np.float64(0.4800416764674872), np.float64(0.6056507750926656)]\n"
     ]
    }
   ],
   "source": [
    "lower_bounds_mrnn_male, upper_bounds_mrnn_male = toolkits.calc_lower_and_upper_bound(results_bootstrap_mrnn_male, means_bootstraps_mrnn_male,standards_deviations_mrnn_male)\n",
    "\n",
    "print(lower_bounds_mrnn_male)\n",
    "print(upper_bounds_mrnn_male)"
   ]
  },
  {
   "cell_type": "code",
   "execution_count": null,
   "metadata": {},
   "outputs": [],
   "source": [
    "lower_bounds_mrnn_male, upper_bounds_mrnn_male = toolkits.calc_lower_and_upper_bound(results_bootstrap_mrnn_male)\n",
    "\n",
    "print(lower_bounds_mrnn_male)\n",
    "print(upper_bounds_mrnn_male)"
   ]
  },
  {
   "cell_type": "markdown",
   "metadata": {},
   "source": [
    "#### Mean values of lower bound and upper bound\n"
   ]
  },
  {
   "cell_type": "code",
   "execution_count": null,
   "metadata": {},
   "outputs": [
    {
     "name": "stdout",
     "output_type": "stream",
     "text": [
      "[np.float64(0.8532085999273139), np.float64(0.12173798464939829), np.float64(0.7001687284700588), np.float64(0.4070497014201909), np.float64(0.5221586240945711)]\n"
     ]
    }
   ],
   "source": [
    "mean_values_ci_mrnn_male = toolkits.calc_mean_values_ci(lower_bounds_mrnn_male, upper_bounds_mrnn_male)\n",
    "\n",
    "print(mean_values_ci_mrnn_male)"
   ]
  },
  {
   "cell_type": "markdown",
   "metadata": {},
   "source": [
    "### Confidence Interval (+65 Subgroup)"
   ]
  },
  {
   "cell_type": "markdown",
   "metadata": {},
   "source": [
    "#### Distribution Bootstrap for the Top 5 variables with Largest Differences in MAE (Mean Absolute Error) "
   ]
  },
  {
   "cell_type": "code",
   "execution_count": null,
   "metadata": {},
   "outputs": [],
   "source": [
    "indices = [6,0,28,31,5]\n",
    "\n",
    "results_bootstrap_mrnn_more_than_or_equal_to_65_subgroup = []\n",
    "\n",
    "for i in indices:\n",
    "       results_bootstrap_mrnn_more_than_or_equal_to_65_subgroup.append(toolkits.bootstrap(testing_ae_mrnn_variables_standard, indicating_mask_variable_standard_norm, 4, i, 9000))\n"
   ]
  },
  {
   "cell_type": "markdown",
   "metadata": {},
   "source": [
    "#### Calculating the mean and standard deviation of the bootstrap distribution"
   ]
  },
  {
   "cell_type": "code",
   "execution_count": null,
   "metadata": {},
   "outputs": [
    {
     "name": "stdout",
     "output_type": "stream",
     "text": [
      "[np.float64(0.6351102299479717), np.float64(0.9260057824625499), np.float64(0.23893718663634383), np.float64(0.6634109698540213), np.float64(0.5742005222250958)]\n",
      "[np.float64(0.14022222850550667), np.float64(0.2902139592129938), np.float64(0.025161049870449845), np.float64(0.08795901770065773), np.float64(0.06166376517595487)]\n"
     ]
    }
   ],
   "source": [
    "means_bootstraps_mrnn_more_than_or_equal_to_65_subgroup,standards_deviations_mrnn_more_than_or_equal_to_65_subgroup = toolkits.calc_mean_and_standard_deviation(results_bootstrap_mrnn_more_than_or_equal_to_65_subgroup)\n",
    "\n",
    "print(means_bootstraps_mrnn_more_than_or_equal_to_65_subgroup)\n",
    "print(standards_deviations_mrnn_more_than_or_equal_to_65_subgroup)"
   ]
  },
  {
   "cell_type": "markdown",
   "metadata": {},
   "source": [
    "#### Calculating lower bound and upper bound\n"
   ]
  },
  {
   "cell_type": "code",
   "execution_count": null,
   "metadata": {},
   "outputs": [
    {
     "name": "stdout",
     "output_type": "stream",
     "text": [
      "[np.float64(0.3602797122452329), np.float64(0.3571968745943058), np.float64(0.18962243507704596), np.float64(0.491014463045211), np.float64(0.45334176332908904)]\n",
      "[np.float64(0.9099407476507105), np.float64(1.4948146903307942), np.float64(0.2882519381956417), np.float64(0.8358074766628315), np.float64(0.6950592811211025)]\n"
     ]
    }
   ],
   "source": [
    "lower_bounds_mrnn_more_than_or_equal_to_65_subgroup, upper_bounds_mrnn_more_than_or_equal_to_65_subgroup = toolkits.calc_lower_and_upper_bound(results_bootstrap_mrnn_more_than_or_equal_to_65_subgroup, means_bootstraps_mrnn_more_than_or_equal_to_65_subgroup,standards_deviations_mrnn_more_than_or_equal_to_65_subgroup)\n",
    "\n",
    "print(lower_bounds_mrnn_more_than_or_equal_to_65_subgroup)\n",
    "print(upper_bounds_mrnn_more_than_or_equal_to_65_subgroup)\n"
   ]
  },
  {
   "cell_type": "code",
   "execution_count": null,
   "metadata": {},
   "outputs": [],
   "source": [
    "lower_bounds_mrnn_more_than_or_equal_to_65_subgroup, upper_bounds_mrnn_more_than_or_equal_to_65_subgroup = toolkits.calc_lower_and_upper_bound_percentile(results_bootstrap_mrnn_more_than_or_equal_to_65_subgroup)\n",
    "\n",
    "print(lower_bounds_mrnn_more_than_or_equal_to_65_subgroup)\n",
    "print(upper_bounds_mrnn_more_than_or_equal_to_65_subgroup)"
   ]
  },
  {
   "cell_type": "markdown",
   "metadata": {},
   "source": [
    "#### Mean values of lower bound and upper bound"
   ]
  },
  {
   "cell_type": "code",
   "execution_count": null,
   "metadata": {},
   "outputs": [
    {
     "name": "stdout",
     "output_type": "stream",
     "text": [
      "[np.float64(0.6351102299479717), np.float64(0.92600578246255), np.float64(0.23893718663634383), np.float64(0.6634109698540213), np.float64(0.5742005222250958)]\n"
     ]
    }
   ],
   "source": [
    "mean_values_ci_mrnn_more_than_or_equal_to_65_subgroup  = toolkits.calc_mean_values_ci(lower_bounds_mrnn_more_than_or_equal_to_65_subgroup , upper_bounds_mrnn_more_than_or_equal_to_65_subgroup)\n",
    "\n",
    "print(mean_values_ci_mrnn_more_than_or_equal_to_65_subgroup)"
   ]
  },
  {
   "cell_type": "markdown",
   "metadata": {},
   "source": [
    "### Confidence Interval (-65 subgroup)"
   ]
  },
  {
   "cell_type": "markdown",
   "metadata": {},
   "source": [
    "#### Distribution Bootstrap for the Top 5 variables with Largest Differences in MAE (Mean Absolute Error) "
   ]
  },
  {
   "cell_type": "code",
   "execution_count": null,
   "metadata": {},
   "outputs": [],
   "source": [
    "indices = [6,0,28,31,5]\n",
    "\n",
    "results_bootstrap_mrnn_less_than_65_subgroup = []\n",
    "\n",
    "for i in indices:\n",
    "       results_bootstrap_mrnn_less_than_65_subgroup.append(toolkits.bootstrap(testing_ae_mrnn_variables_standard, indicating_mask_variable_standard_norm, 5, i, 9000))\n",
    "\n"
   ]
  },
  {
   "cell_type": "markdown",
   "metadata": {},
   "source": [
    "#### Calculating the mean and standard deviation of the bootstrap distribution"
   ]
  },
  {
   "cell_type": "code",
   "execution_count": null,
   "metadata": {},
   "outputs": [
    {
     "name": "stdout",
     "output_type": "stream",
     "text": [
      "[np.float64(1.0871043378053682), np.float64(0.5368503053164135), np.float64(0.47800817831362274), np.float64(0.7807769585304432), np.float64(0.7129405683813472)]\n",
      "[np.float64(0.4337083267621267), np.float64(0.06965814575847884), np.float64(0.08711583404267569), np.float64(0.6101374424469065), np.float64(0.06334923482333744)]\n"
     ]
    }
   ],
   "source": [
    "means_bootstraps_mrnn_less_than_65_subgroup,standards_deviations_mrnn_less_than_65_subgroup = toolkits.calc_mean_and_standard_deviation(results_bootstrap_mrnn_less_than_65_subgroup)\n",
    "\n",
    "print(means_bootstraps_mrnn_less_than_65_subgroup)\n",
    "print(standards_deviations_mrnn_less_than_65_subgroup)\n"
   ]
  },
  {
   "cell_type": "markdown",
   "metadata": {},
   "source": [
    "#### Calculating lower bound and upper bound"
   ]
  },
  {
   "cell_type": "code",
   "execution_count": null,
   "metadata": {},
   "outputs": [
    {
     "name": "stdout",
     "output_type": "stream",
     "text": [
      "[np.float64(0.23705163755647063), np.float64(0.40032284839995347), np.float64(0.30726428110681003), np.float64(-0.41507045428487355), np.float64(0.5887783496794352)]\n",
      "[np.float64(1.9371570380542658), np.float64(0.6733777622328736), np.float64(0.6487520755204355), np.float64(1.9766243713457599), np.float64(0.8371027870832592)]\n"
     ]
    }
   ],
   "source": [
    "lower_bounds_mrnn_less_than_65_subgroup, upper_bounds_mrnn_less_than_65_subgroup = toolkits.calc_lower_and_upper_bound(results_bootstrap_mrnn_less_than_65_subgroup, means_bootstraps_mrnn_less_than_65_subgroup, standards_deviations_mrnn_less_than_65_subgroup)\n",
    "\n",
    "print(lower_bounds_mrnn_less_than_65_subgroup)\n",
    "print(upper_bounds_mrnn_less_than_65_subgroup)"
   ]
  },
  {
   "cell_type": "code",
   "execution_count": null,
   "metadata": {},
   "outputs": [],
   "source": [
    "lower_bounds_mrnn_less_than_65_subgroup, upper_bounds_mrnn_less_than_65_subgroup = toolkits.calc_lower_and_upper_bound_percentile(results_bootstrap_mrnn_less_than_65_subgroup)\n",
    "\n",
    "print(lower_bounds_mrnn_less_than_65_subgroup)\n",
    "print(upper_bounds_mrnn_less_than_65_subgroup)"
   ]
  },
  {
   "cell_type": "markdown",
   "metadata": {},
   "source": [
    "#### Mean values of lower bound and upper bound"
   ]
  },
  {
   "cell_type": "code",
   "execution_count": null,
   "metadata": {},
   "outputs": [
    {
     "name": "stdout",
     "output_type": "stream",
     "text": [
      "[np.float64(1.0871043378053682), np.float64(0.5368503053164135), np.float64(0.47800817831362274), np.float64(0.7807769585304432), np.float64(0.7129405683813472)]\n"
     ]
    }
   ],
   "source": [
    "mean_values_ci_mrnn_less_than_65_subgroup  = toolkits.calc_mean_values_ci(lower_bounds_mrnn_less_than_65_subgroup, upper_bounds_mrnn_less_than_65_subgroup)\n",
    "\n",
    "print(mean_values_ci_mrnn_less_than_65_subgroup)"
   ]
  },
  {
   "cell_type": "markdown",
   "metadata": {},
   "source": [
    "### Confidence Interval (ICUType 1 subgroup)"
   ]
  },
  {
   "cell_type": "markdown",
   "metadata": {},
   "source": [
    "#### Distribution Bootstrap for the Top 5 variables with Largest Differences in MAE (Mean Absolute Error) "
   ]
  },
  {
   "cell_type": "code",
   "execution_count": null,
   "metadata": {},
   "outputs": [],
   "source": [
    "indices = [28,6,31,0,24]\n",
    "\n",
    "results_bootstrap_mrnn_ICUType_1_subgroup = []\n",
    "\n",
    "for i in indices:\n",
    "       results_bootstrap_mrnn_ICUType_1_subgroup.append(toolkits.bootstrap(testing_ae_mrnn_variables_standard, indicating_mask_variable_standard_norm, 6, i, 9000))\n",
    "\n"
   ]
  },
  {
   "cell_type": "markdown",
   "metadata": {},
   "source": [
    "#### Calculating the mean and standard deviation of the bootstrap distribution"
   ]
  },
  {
   "cell_type": "code",
   "execution_count": null,
   "metadata": {},
   "outputs": [
    {
     "name": "stdout",
     "output_type": "stream",
     "text": [
      "[np.float64(0.5226824815512915), np.float64(0.22527604130199683), np.float64(0.9690932479547066), np.float64(1.3413646633750829), np.float64(0.7212106254399269)]\n",
      "[np.float64(0.17812570383563214), np.float64(0.03508402734675316), np.float64(0.2710993234914266), np.float64(0.37708432885457466), np.float64(0.15436752793597142)]\n"
     ]
    }
   ],
   "source": [
    "means_bootstraps_mrnn_ICUType_1_subgroup, standards_deviations_mrnn_ICUType_1_subgroup = toolkits.calc_mean_and_standard_deviation(results_bootstrap_mrnn_ICUType_1_subgroup)\n",
    "\n",
    "print(means_bootstraps_mrnn_ICUType_1_subgroup)\n",
    "print(standards_deviations_mrnn_ICUType_1_subgroup)\n"
   ]
  },
  {
   "cell_type": "markdown",
   "metadata": {},
   "source": [
    "#### Calculating lower bound and upper bound"
   ]
  },
  {
   "cell_type": "code",
   "execution_count": null,
   "metadata": {},
   "outputs": [
    {
     "name": "stdout",
     "output_type": "stream",
     "text": [
      "[np.float64(0.1735625173126043), np.float64(0.1565126112697423), np.float64(0.437748337678337), np.float64(0.6022929596856587), np.float64(0.41865583030294223)]\n",
      "[np.float64(0.8718024457899787), np.float64(0.29403947133425135), np.float64(1.5004381582310762), np.float64(2.080436367064507), np.float64(1.0237654205769116)]\n"
     ]
    }
   ],
   "source": [
    "lower_bounds_mrnn_ICUType_1_subgroup, upper_bounds_mrnn_ICUType_1_subgroup = toolkits.calc_lower_and_upper_bound(results_bootstrap_mrnn_ICUType_1_subgroup, means_bootstraps_mrnn_ICUType_1_subgroup, standards_deviations_mrnn_ICUType_1_subgroup)\n",
    "\n",
    "print(lower_bounds_mrnn_ICUType_1_subgroup)\n",
    "print(upper_bounds_mrnn_ICUType_1_subgroup)"
   ]
  },
  {
   "cell_type": "code",
   "execution_count": null,
   "metadata": {},
   "outputs": [],
   "source": [
    "lower_bounds_mrnn_ICUType_1_subgroup, upper_bounds_mrnn_ICUType_1_subgroup = toolkits.calc_lower_and_upper_bound_percentile(results_bootstrap_mrnn_ICUType_1_subgroup)\n",
    "\n",
    "print(lower_bounds_mrnn_ICUType_1_subgroup)\n",
    "print(upper_bounds_mrnn_ICUType_1_subgroup)"
   ]
  },
  {
   "cell_type": "markdown",
   "metadata": {},
   "source": [
    "#### Mean values of lower bound and upper bound"
   ]
  },
  {
   "cell_type": "code",
   "execution_count": null,
   "metadata": {},
   "outputs": [
    {
     "name": "stdout",
     "output_type": "stream",
     "text": [
      "[np.float64(0.5226824815512915), np.float64(0.22527604130199683), np.float64(0.9690932479547065), np.float64(1.3413646633750829), np.float64(0.7212106254399269)]\n"
     ]
    }
   ],
   "source": [
    "mean_values_ci_mrnn_ICUType_1_subgroup  = toolkits.calc_mean_values_ci(lower_bounds_mrnn_ICUType_1_subgroup, upper_bounds_mrnn_ICUType_1_subgroup)\n",
    "\n",
    "print(mean_values_ci_mrnn_ICUType_1_subgroup)"
   ]
  },
  {
   "cell_type": "markdown",
   "metadata": {},
   "source": [
    "### Confidence Interval (ICUType 2 subgroup)"
   ]
  },
  {
   "cell_type": "markdown",
   "metadata": {},
   "source": [
    "#### Distribution Bootstrap for the Top 5 variables with Largest Differences in MAE (Mean Absolute Error) "
   ]
  },
  {
   "cell_type": "code",
   "execution_count": null,
   "metadata": {},
   "outputs": [],
   "source": [
    "indices = [28,6,31,0,24]\n",
    "\n",
    "results_bootstrap_mrnn_ICUType_2_subgroup = []\n",
    "\n",
    "for i in indices:\n",
    "       results_bootstrap_mrnn_ICUType_2_subgroup.append(toolkits.bootstrap(testing_ae_mrnn_variables_standard, indicating_mask_variable_standard_norm, 7, i, 9000))\n",
    "\n"
   ]
  },
  {
   "cell_type": "markdown",
   "metadata": {},
   "source": [
    "#### Calculating the mean and standard deviation of the bootstrap distribution"
   ]
  },
  {
   "cell_type": "code",
   "execution_count": null,
   "metadata": {},
   "outputs": [
    {
     "name": "stdout",
     "output_type": "stream",
     "text": [
      "[np.float64(0.5628893404476448), np.float64(0.253544682516006), np.float64(0.0), np.float64(0.3769132654783525), np.float64(0.17130476566918515)]\n",
      "[np.float64(0.24746020204511532), np.float64(0.02844864967364565), np.float64(0.0), np.float64(0.12241202033633213), np.float64(0.04748266503243493)]\n"
     ]
    }
   ],
   "source": [
    "means_bootstraps_mrnn_ICUType_2_subgroup, standards_deviations_mrnn_ICUType_2_subgroup = toolkits.calc_mean_and_standard_deviation(results_bootstrap_mrnn_ICUType_2_subgroup)\n",
    "\n",
    "print(means_bootstraps_mrnn_ICUType_2_subgroup)\n",
    "print(standards_deviations_mrnn_ICUType_2_subgroup) \n"
   ]
  },
  {
   "cell_type": "markdown",
   "metadata": {},
   "source": [
    "#### Calculating lower bound and upper bound"
   ]
  },
  {
   "cell_type": "code",
   "execution_count": null,
   "metadata": {},
   "outputs": [
    {
     "ename": "NameError",
     "evalue": "name 'toolkits' is not defined",
     "output_type": "error",
     "traceback": [
      "\u001b[31m---------------------------------------------------------------------------\u001b[39m\n",
      "\u001b[31mNameError\u001b[39m                                 Traceback (most recent call last)\n",
      "\u001b[36mCell\u001b[39m\u001b[36m \u001b[39m\u001b[32mIn[1]\u001b[39m\u001b[32m, line 1\u001b[39m\n",
      "\u001b[32m----> \u001b[39m\u001b[32m1\u001b[39m lower_bounds_usgan_ICUType_2_subgroup, upper_bounds_usgan_ICUType_2_subgroup = \u001b[43mtoolkits\u001b[49m.calc_lower_and_upper_bound(results_bootstrap_usgan_ICUType_2_subgroup, means_bootstraps_usgan_ICUType_2_subgroup, standards_deviations_usgan_ICUType_2_subgroup)\n",
      "\u001b[32m      3\u001b[39m \u001b[38;5;28mprint\u001b[39m(lower_bounds_usgan_ICUType_2_subgroup)\n",
      "\u001b[32m      4\u001b[39m \u001b[38;5;28mprint\u001b[39m(upper_bounds_usgan_ICUType_2_subgroup)\n",
      "\n",
      "\u001b[31mNameError\u001b[39m: name 'toolkits' is not defined"
     ]
    }
   ],
   "source": [
    "lower_bounds_mrnn_ICUType_2_subgroup, upper_bounds_mrnn_ICUType_2_subgroup = toolkits.calc_lower_and_upper_bound(results_bootstrap_mrnn_ICUType_2_subgroup, means_bootstraps_mrnn_ICUType_2_subgroup, standards_deviations_mrnn_ICUType_2_subgroup)\n",
    "\n",
    "print(lower_bounds_mrnn_ICUType_2_subgroup)\n",
    "print(upper_bounds_mrnn_ICUType_2_subgroup)"
   ]
  },
  {
   "cell_type": "code",
   "execution_count": null,
   "metadata": {},
   "outputs": [],
   "source": [
    "lower_bounds_mrnn_ICUType_2_subgroup, upper_bounds_mrnn_ICUType_2_subgroup = toolkits.calc_lower_and_upper_bound_percentile(results_bootstrap_mrnn_ICUType_2_subgroup)\n",
    "\n",
    "print(lower_bounds_mrnn_ICUType_2_subgroup)\n",
    "print(upper_bounds_mrnn_ICUType_2_subgroup)"
   ]
  },
  {
   "cell_type": "markdown",
   "metadata": {},
   "source": [
    "#### Mean values of lower bound and upper bound"
   ]
  },
  {
   "cell_type": "code",
   "execution_count": null,
   "metadata": {},
   "outputs": [
    {
     "name": "stdout",
     "output_type": "stream",
     "text": [
      "[np.float64(0.5628893404476448), np.float64(0.253544682516006), np.float64(0.0), np.float64(0.37691326547835247), np.float64(0.17130476566918512)]\n"
     ]
    }
   ],
   "source": [
    "mean_values_ci_mrnn_ICUType_2_subgroup  = toolkits.calc_mean_values_ci(lower_bounds_mrnn_ICUType_2_subgroup, upper_bounds_mrnn_ICUType_2_subgroup)\n",
    "\n",
    "print(mean_values_ci_mrnn_ICUType_2_subgroup)"
   ]
  },
  {
   "cell_type": "markdown",
   "metadata": {},
   "source": [
    "### Confidence Interval (ICUType 3 subgroup)"
   ]
  },
  {
   "cell_type": "markdown",
   "metadata": {},
   "source": [
    "#### Distribution Bootstrap for the Top 5 variables with Largest Differences in MAE (Mean Absolute Error) "
   ]
  },
  {
   "cell_type": "code",
   "execution_count": null,
   "metadata": {},
   "outputs": [],
   "source": [
    "indices = [28,6,31,0,24]\n",
    "\n",
    "results_bootstrap_mrnn_ICUType_3_subgroup = []\n",
    "\n",
    "for i in indices:\n",
    "       results_bootstrap_mrnn_ICUType_3_subgroup.append(toolkits.bootstrap(testing_ae_mrnn_variables_standard, indicating_mask_variable_standard_norm, 8, i, 9000))\n",
    "\n"
   ]
  },
  {
   "cell_type": "markdown",
   "metadata": {},
   "source": [
    "#### Calculating the mean and standard deviation of the bootstrap distribution"
   ]
  },
  {
   "cell_type": "code",
   "execution_count": null,
   "metadata": {},
   "outputs": [
    {
     "name": "stdout",
     "output_type": "stream",
     "text": [
      "[np.float64(1.593236497237565), np.float64(1.1365310737170016), np.float64(0.6958192633459015), np.float64(0.5411579272281444), np.float64(0.23745879820743904)]\n",
      "[np.float64(0.4559261164801034), np.float64(0.45097433675337983), np.float64(0.1878586172758027), np.float64(0.06133680568713781), np.float64(0.03548543506753726)]\n"
     ]
    }
   ],
   "source": [
    "means_bootstraps_mrnn_ICUType_3_subgroup, standards_deviations_mrnn_ICUType_3_subgroup = toolkits.calc_mean_and_standard_deviation(results_bootstrap_mrnn_ICUType_3_subgroup)\n",
    "\n",
    "print(means_bootstraps_mrnn_ICUType_3_subgroup)\n",
    "print(standards_deviations_mrnn_ICUType_3_subgroup)\n"
   ]
  },
  {
   "cell_type": "markdown",
   "metadata": {},
   "source": [
    "#### Calculating lower bound and upper bound"
   ]
  },
  {
   "cell_type": "code",
   "execution_count": null,
   "metadata": {},
   "outputs": [
    {
     "name": "stdout",
     "output_type": "stream",
     "text": [
      "[np.float64(0.6996377293253487), np.float64(0.25263761572853904), np.float64(0.3276231392998342), np.float64(0.4209399971546227), np.float64(0.16790862349933133)]\n",
      "[np.float64(2.4868352651497814), np.float64(2.020424531705464), np.float64(1.0640153873919687), np.float64(0.661375857301666), np.float64(0.30700897291554674)]\n"
     ]
    }
   ],
   "source": [
    "lower_bounds_mrnn_ICUType_3_subgroup, upper_bounds_mrnn_ICUType_3_subgroup = toolkits.calc_lower_and_upper_bound(results_bootstrap_mrnn_ICUType_3_subgroup, means_bootstraps_mrnn_ICUType_3_subgroup, standards_deviations_mrnn_ICUType_3_subgroup)\n",
    "\n",
    "print(lower_bounds_mrnn_ICUType_3_subgroup)\n",
    "print(upper_bounds_mrnn_ICUType_3_subgroup)"
   ]
  },
  {
   "cell_type": "code",
   "execution_count": null,
   "metadata": {},
   "outputs": [],
   "source": [
    "lower_bounds_mrnn_ICUType_3_subgroup, upper_bounds_mrnn_ICUType_3_subgroup = toolkits.calc_lower_and_upper_bound_percentile(results_bootstrap_mrnn_ICUType_3_subgroup)\n",
    "\n",
    "print(lower_bounds_mrnn_ICUType_3_subgroup)\n",
    "print(upper_bounds_mrnn_ICUType_3_subgroup)"
   ]
  },
  {
   "cell_type": "markdown",
   "metadata": {},
   "source": [
    "#### Mean values of lower bound and upper bound"
   ]
  },
  {
   "cell_type": "code",
   "execution_count": null,
   "metadata": {},
   "outputs": [
    {
     "name": "stdout",
     "output_type": "stream",
     "text": [
      "[np.float64(1.593236497237565), np.float64(1.1365310737170016), np.float64(0.6958192633459015), np.float64(0.5411579272281444), np.float64(0.23745879820743904)]\n"
     ]
    }
   ],
   "source": [
    "mean_values_ci_mrnn_ICUType_3_subgroup  = toolkits.calc_mean_values_ci(lower_bounds_mrnn_ICUType_3_subgroup, upper_bounds_mrnn_ICUType_3_subgroup)\n",
    "\n",
    "print(mean_values_ci_mrnn_ICUType_3_subgroup)"
   ]
  },
  {
   "cell_type": "markdown",
   "metadata": {},
   "source": [
    "### Confidence Interval (ICUType 4 subgroup)"
   ]
  },
  {
   "cell_type": "markdown",
   "metadata": {},
   "source": [
    "#### Distribution Bootstrap for the Top 5 variables with Largest Differences in MAE (Mean Absolute Error) "
   ]
  },
  {
   "cell_type": "code",
   "execution_count": null,
   "metadata": {},
   "outputs": [],
   "source": [
    "indices = [28,6,31,0,24]\n",
    "\n",
    "results_bootstrap_mrnn_ICUType_4_subgroup = []\n",
    "\n",
    "for i in indices:\n",
    "       results_bootstrap_mrnn_ICUType_4_subgroup.append(toolkits.bootstrap(testing_ae_mrnn_variables_standard, indicating_mask_variable_standard_norm, 9, i, 9000))\n",
    "\n"
   ]
  },
  {
   "cell_type": "markdown",
   "metadata": {},
   "source": [
    "#### Calculating the mean and standard deviation of the bootstrap distribution"
   ]
  },
  {
   "cell_type": "code",
   "execution_count": null,
   "metadata": {},
   "outputs": [
    {
     "name": "stdout",
     "output_type": "stream",
     "text": [
      "[np.float64(0.44306473111336137), np.float64(0.4912011878544669), np.float64(0.7287297527366805), np.float64(0.692426181621937), np.float64(0.18026286324155796)]\n",
      "[np.float64(0.0935566892280583), np.float64(0.08074364451634707), np.float64(0.2681495472441715), np.float64(0.2724504216824265), np.float64(0.022189091660584512)]\n"
     ]
    }
   ],
   "source": [
    "means_bootstraps_mrnn_ICUType_4_subgroup, standards_deviations_mrnn_ICUType_4_subgroup = toolkits.calc_mean_and_standard_deviation(results_bootstrap_mrnn_ICUType_4_subgroup)\n",
    "\n",
    "print(means_bootstraps_mrnn_ICUType_4_subgroup)\n",
    "print(standards_deviations_mrnn_ICUType_4_subgroup)\n"
   ]
  },
  {
   "cell_type": "markdown",
   "metadata": {},
   "source": [
    "#### Calculating lower bound and upper bound"
   ]
  },
  {
   "cell_type": "code",
   "execution_count": null,
   "metadata": {},
   "outputs": [
    {
     "name": "stdout",
     "output_type": "stream",
     "text": [
      "[np.float64(0.25969698971356064), np.float64(0.33294655262192163), np.float64(0.2031662976673827), np.float64(0.1584331675516304), np.float64(0.13677304273715427)]\n",
      "[np.float64(0.626432472513162), np.float64(0.6494558230870122), np.float64(1.2542932078059783), np.float64(1.2264191956922437), np.float64(0.22375268374596166)]\n"
     ]
    }
   ],
   "source": [
    "lower_bounds_mrnn_ICUType_4_subgroup, upper_bounds_mrnn_ICUType_4_subgroup = toolkits.calc_lower_and_upper_bound(results_bootstrap_mrnn_ICUType_4_subgroup, means_bootstraps_mrnn_ICUType_4_subgroup, standards_deviations_mrnn_ICUType_4_subgroup)\n",
    "\n",
    "print(lower_bounds_mrnn_ICUType_4_subgroup)\n",
    "print(upper_bounds_mrnn_ICUType_4_subgroup)"
   ]
  },
  {
   "cell_type": "code",
   "execution_count": null,
   "metadata": {},
   "outputs": [],
   "source": [
    "lower_bounds_mrnn_ICUType_4_subgroup, upper_bounds_mrnn_ICUType_4_subgroup = toolkits.calc_lower_and_upper_bound_percentile(results_bootstrap_mrnn_ICUType_4_subgroup)\n",
    "\n",
    "print(lower_bounds_mrnn_ICUType_4_subgroup)\n",
    "print(upper_bounds_mrnn_ICUType_4_subgroup)"
   ]
  },
  {
   "cell_type": "markdown",
   "metadata": {},
   "source": [
    "#### Mean values of lower bound and upper bound"
   ]
  },
  {
   "cell_type": "code",
   "execution_count": null,
   "metadata": {},
   "outputs": [
    {
     "name": "stdout",
     "output_type": "stream",
     "text": [
      "[np.float64(0.4430647311133613), np.float64(0.4912011878544669), np.float64(0.7287297527366805), np.float64(0.692426181621937), np.float64(0.18026286324155796)]\n"
     ]
    }
   ],
   "source": [
    "mean_values_ci_mrnn_ICUType_4_subgroup  = toolkits.calc_mean_values_ci(lower_bounds_mrnn_ICUType_4_subgroup, upper_bounds_mrnn_ICUType_4_subgroup)\n",
    "\n",
    "print(mean_values_ci_mrnn_ICUType_4_subgroup)"
   ]
  },
  {
   "cell_type": "markdown",
   "metadata": {},
   "source": [
    "### Confidence Interval (Undefined classification subgroup)"
   ]
  },
  {
   "cell_type": "markdown",
   "metadata": {},
   "source": [
    "#### Distribution Bootstrap for the Top 5 variables with Largest Differences in MAE (Mean Absolute Error) "
   ]
  },
  {
   "cell_type": "code",
   "execution_count": null,
   "metadata": {},
   "outputs": [],
   "source": [
    "indices = [6,0,31,35,32]\n",
    "\n",
    "results_bootstrap_mrnn_undefined_classification_subgroup = []\n",
    "\n",
    "for i in indices:\n",
    "       results_bootstrap_mrnn_undefined_classification_subgroup.append(toolkits.bootstrap(testing_ae_mrnn_variables_standard, indicating_mask_variable_standard_norm, 10, i, 9000))\n",
    "\n"
   ]
  },
  {
   "cell_type": "markdown",
   "metadata": {},
   "source": [
    "#### Calculating the mean and standard deviation of the bootstrap distribution"
   ]
  },
  {
   "cell_type": "code",
   "execution_count": null,
   "metadata": {},
   "outputs": [
    {
     "name": "stdout",
     "output_type": "stream",
     "text": [
      "[np.float64(0.4068612373822693), np.float64(0.5736205115093942), np.float64(0.275919003680376), np.float64(0.8430104136478819), np.float64(0.4131966854604587)]\n",
      "[np.float64(0.05986934359644469), np.float64(0.17840974136243826), np.float64(0.044640773548291844), np.float64(0.2853216956527157), np.float64(0.12549413739177268)]\n"
     ]
    }
   ],
   "source": [
    "means_bootstraps_mrnn_undefined_classification_subgroup, standards_deviations_mrnn_undefined_classification_subgroup = toolkits.calc_mean_and_standard_deviation(results_bootstrap_mrnn_undefined_classification_subgroup)\n",
    "\n",
    "print(means_bootstraps_mrnn_undefined_classification_subgroup)\n",
    "print(standards_deviations_mrnn_undefined_classification_subgroup)\n"
   ]
  },
  {
   "cell_type": "markdown",
   "metadata": {},
   "source": [
    "#### Calculating lower bound and upper bound"
   ]
  },
  {
   "cell_type": "code",
   "execution_count": null,
   "metadata": {},
   "outputs": [
    {
     "name": "stdout",
     "output_type": "stream",
     "text": [
      "[np.float64(0.28951948015518403), np.float64(0.22394384394790923), np.float64(0.18842469528371564), np.float64(0.28379016616066055), np.float64(0.16723269590166293)]\n",
      "[np.float64(0.5242029946093546), np.float64(0.9232971790708792), np.float64(0.3634133120770363), np.float64(1.4022306611351032), np.float64(0.6591606750192545)]\n"
     ]
    }
   ],
   "source": [
    "lower_bounds_mrnn_undefined_classification_subgroup, upper_bounds_mrnn_undefined_classification_subgroup = toolkits.calc_lower_and_upper_bound(results_bootstrap_mrnn_undefined_classification_subgroup, means_bootstraps_mrnn_undefined_classification_subgroup, standards_deviations_mrnn_undefined_classification_subgroup)\n",
    "\n",
    "print(lower_bounds_mrnn_undefined_classification_subgroup)\n",
    "print(upper_bounds_mrnn_undefined_classification_subgroup)"
   ]
  },
  {
   "cell_type": "code",
   "execution_count": null,
   "metadata": {},
   "outputs": [],
   "source": [
    "lower_bounds_mrnn_undefined_classification_subgroup, upper_bounds_mrnn_undefined_classification_subgroup = toolkits.calc_lower_and_upper_bound(results_bootstrap_mrnn_undefined_classification_subgroup)\n",
    "\n",
    "print(lower_bounds_mrnn_undefined_classification_subgroup)\n",
    "print(upper_bounds_mrnn_undefined_classification_subgroup)"
   ]
  },
  {
   "cell_type": "markdown",
   "metadata": {},
   "source": [
    "#### Mean values of lower bound and upper bound"
   ]
  },
  {
   "cell_type": "code",
   "execution_count": null,
   "metadata": {},
   "outputs": [
    {
     "name": "stdout",
     "output_type": "stream",
     "text": [
      "[np.float64(0.4068612373822693), np.float64(0.5736205115093942), np.float64(0.275919003680376), np.float64(0.8430104136478819), np.float64(0.4131966854604587)]\n"
     ]
    }
   ],
   "source": [
    "mean_values_ci_mrnn_undefined_classification_subgroup  = toolkits.calc_mean_values_ci(lower_bounds_mrnn_undefined_classification_subgroup, upper_bounds_mrnn_undefined_classification_subgroup)\n",
    "\n",
    "print(mean_values_ci_mrnn_undefined_classification_subgroup)"
   ]
  },
  {
   "cell_type": "markdown",
   "metadata": {},
   "source": [
    "### Confidence Interval (Low weight classification subgroup)"
   ]
  },
  {
   "cell_type": "markdown",
   "metadata": {},
   "source": [
    "#### Distribution Bootstrap for the Top 5 variables with Largest Differences in MAE (Mean Absolute Error) "
   ]
  },
  {
   "cell_type": "code",
   "execution_count": null,
   "metadata": {},
   "outputs": [],
   "source": [
    "indices = [6,0,31,35,32]\n",
    "\n",
    "results_bootstrap_mrnn_low_weight_classification_subgroup = []\n",
    "\n",
    "for i in indices:\n",
    "       results_bootstrap_mrnn_low_weight_classification_subgroup.append(toolkits.bootstrap(testing_ae_mrnn_variables_standard, indicating_mask_variable_standard_norm, 11, i, 9000))\n",
    "\n"
   ]
  },
  {
   "cell_type": "markdown",
   "metadata": {},
   "source": [
    "#### Calculating the mean and standard deviation of the bootstrap distribution"
   ]
  },
  {
   "cell_type": "code",
   "execution_count": null,
   "metadata": {},
   "outputs": [
    {
     "name": "stdout",
     "output_type": "stream",
     "text": [
      "[np.float64(2.0122806935650077), np.float64(0.06933332178741825), np.float64(0.4104061358032636), np.float64(0.0), np.float64(1.4606367473586466)]\n",
      "[np.float64(1.666676645356208), np.float64(0.05309602591127397), np.float64(0.3139178166078663), np.float64(0.0), np.float64(1.2916342659860158)]\n"
     ]
    }
   ],
   "source": [
    "means_bootstraps_mrnn_low_weight_classification_subgroup, standards_deviations_mrnn_low_weight_classification_subgroup = toolkits.calc_mean_and_standard_deviation(results_bootstrap_mrnn_low_weight_classification_subgroup)\n",
    "\n",
    "print(means_bootstraps_mrnn_low_weight_classification_subgroup)\n",
    "print(standards_deviations_mrnn_low_weight_classification_subgroup)\n"
   ]
  },
  {
   "cell_type": "markdown",
   "metadata": {},
   "source": [
    "#### Calculating lower bound and upper bound"
   ]
  },
  {
   "cell_type": "code",
   "execution_count": null,
   "metadata": {},
   "outputs": [
    {
     "name": "stdout",
     "output_type": "stream",
     "text": [
      "[np.float64(-1.2543455052071963), np.float64(-0.03473297672088424), np.float64(-0.2048614788536039), np.float64(0.0), np.float64(-1.070919895171773)]\n",
      "[np.float64(5.278906892337211), np.float64(0.17339962029572073), np.float64(1.0256737504601312), np.float64(0.0), np.float64(3.9921933898890662)]\n"
     ]
    }
   ],
   "source": [
    "lower_bounds_mrnn_low_weight_classification_subgroup, upper_bounds_mrnn_low_weight_classification_subgroup = toolkits.calc_lower_and_upper_bound(results_bootstrap_mrnn_low_weight_classification_subgroup, means_bootstraps_mrnn_low_weight_classification_subgroup, standards_deviations_mrnn_low_weight_classification_subgroup)\n",
    "\n",
    "print(lower_bounds_mrnn_low_weight_classification_subgroup)\n",
    "print(upper_bounds_mrnn_low_weight_classification_subgroup)"
   ]
  },
  {
   "cell_type": "code",
   "execution_count": null,
   "metadata": {},
   "outputs": [],
   "source": [
    "lower_bounds_mrnn_low_weight_classification_subgroup, upper_bounds_mrnn_low_weight_classification_subgroup = toolkits.calc_lower_and_upper_bound_percentile(results_bootstrap_mrnn_low_weight_classification_subgroup)\n",
    "\n",
    "print(lower_bounds_mrnn_low_weight_classification_subgroup)\n",
    "print(upper_bounds_mrnn_low_weight_classification_subgroup)"
   ]
  },
  {
   "cell_type": "markdown",
   "metadata": {},
   "source": [
    "#### Mean values of lower bound and upper bound"
   ]
  },
  {
   "cell_type": "code",
   "execution_count": null,
   "metadata": {},
   "outputs": [
    {
     "name": "stdout",
     "output_type": "stream",
     "text": [
      "[np.float64(2.0122806935650077), np.float64(0.06933332178741825), np.float64(0.4104061358032637), np.float64(0.0), np.float64(1.4606367473586466)]\n"
     ]
    }
   ],
   "source": [
    "mean_values_ci_mrnn_low_weight_classification_subgroup  = toolkits.calc_mean_values_ci(lower_bounds_mrnn_low_weight_classification_subgroup, upper_bounds_mrnn_low_weight_classification_subgroup)\n",
    "\n",
    "print(mean_values_ci_mrnn_low_weight_classification_subgroup)"
   ]
  },
  {
   "cell_type": "markdown",
   "metadata": {},
   "source": [
    "### Confidence Interval (Normal weight classification subgroup)"
   ]
  },
  {
   "cell_type": "markdown",
   "metadata": {},
   "source": [
    "#### Distribution Bootstrap for the Top 5 variables with Largest Differences in MAE (Mean Absolute Error) "
   ]
  },
  {
   "cell_type": "code",
   "execution_count": null,
   "metadata": {},
   "outputs": [],
   "source": [
    "indices = [6,0,31,35,32]\n",
    "\n",
    "results_bootstrap_mrnn_normal_weight_classification_subgroup = []\n",
    "\n",
    "for i in indices:\n",
    "       results_bootstrap_mrnn_normal_weight_classification_subgroup.append(toolkits.bootstrap(testing_ae_mrnn_variables_standard, indicating_mask_variable_standard_norm, 12, i, 9000))\n",
    "\n"
   ]
  },
  {
   "cell_type": "markdown",
   "metadata": {},
   "source": [
    "#### Calculating the mean and standard deviation of the bootstrap distribution"
   ]
  },
  {
   "cell_type": "code",
   "execution_count": null,
   "metadata": {},
   "outputs": [
    {
     "name": "stdout",
     "output_type": "stream",
     "text": [
      "[np.float64(0.548686639105505), np.float64(0.7625897872503594), np.float64(0.24931976137388573), np.float64(0.5648888072341054), np.float64(0.5232857652420211)]\n",
      "[np.float64(0.12623025707018218), np.float64(0.3731308327837512), np.float64(0.07341434562099826), np.float64(0.089947135630567), np.float64(0.2013724566774524)]\n"
     ]
    }
   ],
   "source": [
    "means_bootstraps_mrnn_normal_weight_classification_subgroup, standards_deviations_mrnn_normal_weight_classification_subgroup = toolkits.calc_mean_and_standard_deviation(results_bootstrap_mrnn_normal_weight_classification_subgroup)\n",
    "\n",
    "print(means_bootstraps_mrnn_normal_weight_classification_subgroup)\n",
    "print(standards_deviations_mrnn_normal_weight_classification_subgroup)\n"
   ]
  },
  {
   "cell_type": "markdown",
   "metadata": {},
   "source": [
    "#### Calculating lower bound and upper bound"
   ]
  },
  {
   "cell_type": "code",
   "execution_count": null,
   "metadata": {},
   "outputs": [
    {
     "name": "stdout",
     "output_type": "stream",
     "text": [
      "[np.float64(0.3012798814887154), np.float64(0.03126679347276984), np.float64(0.10543028800815332), np.float64(0.38859566088565467), np.float64(0.12860300267586205)]\n",
      "[np.float64(0.7960933967222945), np.float64(1.4939127810279489), np.float64(0.3932092347396181), np.float64(0.7411819535825561), np.float64(0.9179685278081802)]\n"
     ]
    }
   ],
   "source": [
    "lower_bounds_mrnn_normal_weight_classification_subgroup, upper_bounds_mrnn_normal_weight_classification_subgroup = toolkits.calc_lower_and_upper_bound(results_bootstrap_mrnn_normal_weight_classification_subgroup, means_bootstraps_mrnn_normal_weight_classification_subgroup, standards_deviations_mrnn_normal_weight_classification_subgroup)\n",
    "\n",
    "print(lower_bounds_mrnn_normal_weight_classification_subgroup)\n",
    "print(upper_bounds_mrnn_normal_weight_classification_subgroup)"
   ]
  },
  {
   "cell_type": "code",
   "execution_count": null,
   "metadata": {},
   "outputs": [],
   "source": [
    "lower_bounds_mrnn_normal_weight_classification_subgroup, upper_bounds_mrnn_normal_weight_classification_subgroup = toolkits.calc_lower_and_upper_bound_percentile(results_bootstrap_mrnn_normal_weight_classification_subgroup)\n",
    "\n",
    "print(lower_bounds_mrnn_normal_weight_classification_subgroup)\n",
    "print(upper_bounds_mrnn_normal_weight_classification_subgroup)"
   ]
  },
  {
   "cell_type": "markdown",
   "metadata": {},
   "source": [
    "#### Mean values of lower bound and upper bound"
   ]
  },
  {
   "cell_type": "code",
   "execution_count": null,
   "metadata": {},
   "outputs": [
    {
     "name": "stdout",
     "output_type": "stream",
     "text": [
      "[np.float64(0.548686639105505), np.float64(0.7625897872503593), np.float64(0.24931976137388573), np.float64(0.5648888072341054), np.float64(0.5232857652420211)]\n"
     ]
    }
   ],
   "source": [
    "mean_values_ci_mrnn_normal_weight_classification_subgroup  = toolkits.calc_mean_values_ci(lower_bounds_mrnn_normal_weight_classification_subgroup, upper_bounds_mrnn_normal_weight_classification_subgroup)\n",
    "\n",
    "print(mean_values_ci_mrnn_normal_weight_classification_subgroup)"
   ]
  },
  {
   "cell_type": "markdown",
   "metadata": {},
   "source": [
    "### Confidence Interval (Overweight classification subgroup)"
   ]
  },
  {
   "cell_type": "markdown",
   "metadata": {},
   "source": [
    "#### Distribution Bootstrap for the Top 5 variables with Largest Differences in MAE (Mean Absolute Error) "
   ]
  },
  {
   "cell_type": "code",
   "execution_count": null,
   "metadata": {},
   "outputs": [],
   "source": [
    "indices = [6,0,31,35,32]\n",
    "\n",
    "results_bootstrap_mrnn_overweight_classification_subgroup = []\n",
    "\n",
    "for i in indices:\n",
    "       results_bootstrap_mrnn_overweight_classification_subgroup.append(toolkits.bootstrap(testing_ae_mrnn_variables_standard, indicating_mask_variable_standard_norm, 13, i, 9000))\n",
    "\n"
   ]
  },
  {
   "cell_type": "markdown",
   "metadata": {},
   "source": [
    "#### Calculating the mean and standard deviation of the bootstrap distribution"
   ]
  },
  {
   "cell_type": "code",
   "execution_count": null,
   "metadata": {},
   "outputs": [
    {
     "name": "stdout",
     "output_type": "stream",
     "text": [
      "[np.float64(0.2797503039647862), np.float64(1.4869184261643544), np.float64(0.44444907661681887), np.float64(1.0414359325082165), np.float64(0.1969866594273391)]\n",
      "[np.float64(0.05690905629749502), np.float64(0.2748051570149171), np.float64(0.190452089816047), np.float64(0.5659200713279424), np.float64(0.06465085722820384)]\n"
     ]
    }
   ],
   "source": [
    "means_bootstraps_mrnn_overweight_classification_subgroup, standards_deviations_mrnn_overweight_classification_subgroup = toolkits.calc_mean_and_standard_deviation(results_bootstrap_mrnn_overweight_classification_subgroup)\n",
    "\n",
    "print(means_bootstraps_mrnn_overweight_classification_subgroup)\n",
    "print(standards_deviations_mrnn_overweight_classification_subgroup)\n"
   ]
  },
  {
   "cell_type": "markdown",
   "metadata": {},
   "source": [
    "#### Calculating lower bound and upper bound"
   ]
  },
  {
   "cell_type": "code",
   "execution_count": null,
   "metadata": {},
   "outputs": [
    {
     "name": "stdout",
     "output_type": "stream",
     "text": [
      "[np.float64(0.16821060322753356), np.float64(0.9483102156492423), np.float64(0.07116983979697916), np.float64(-0.06774702542288913), np.float64(0.07027330769041853)]\n",
      "[np.float64(0.3912900047020388), np.float64(2.0255266366794666), np.float64(0.8177283134366586), np.float64(2.150618890439322), np.float64(0.3237000111642596)]\n"
     ]
    }
   ],
   "source": [
    "lower_bounds_mrnn_overweight_classification_subgroup, upper_bounds_mrnn_overweight_classification_subgroup = toolkits.calc_lower_and_upper_bound(results_bootstrap_mrnn_overweight_classification_subgroup, means_bootstraps_mrnn_overweight_classification_subgroup, standards_deviations_mrnn_overweight_classification_subgroup)\n",
    "\n",
    "print(lower_bounds_mrnn_overweight_classification_subgroup)\n",
    "print(upper_bounds_mrnn_overweight_classification_subgroup)"
   ]
  },
  {
   "cell_type": "code",
   "execution_count": null,
   "metadata": {},
   "outputs": [],
   "source": [
    "lower_bounds_mrnn_overweight_classification_subgroup, upper_bounds_mrnn_overweight_classification_subgroup = toolkits.calc_lower_and_upper_bound_percentile(results_bootstrap_mrnn_overweight_classification_subgroup)\n",
    "\n",
    "print(lower_bounds_mrnn_overweight_classification_subgroup)\n",
    "print(upper_bounds_mrnn_overweight_classification_subgroup)"
   ]
  },
  {
   "cell_type": "markdown",
   "metadata": {},
   "source": [
    "#### Mean values of lower bound and upper bound"
   ]
  },
  {
   "cell_type": "code",
   "execution_count": null,
   "metadata": {},
   "outputs": [
    {
     "name": "stdout",
     "output_type": "stream",
     "text": [
      "[np.float64(0.2797503039647862), np.float64(1.4869184261643544), np.float64(0.44444907661681887), np.float64(1.0414359325082163), np.float64(0.19698665942733906)]\n"
     ]
    }
   ],
   "source": [
    "mean_values_ci_mrnn_overweight_classification_subgroup  = toolkits.calc_mean_values_ci(lower_bounds_mrnn_overweight_classification_subgroup, upper_bounds_mrnn_overweight_classification_subgroup)\n",
    "\n",
    "print(mean_values_ci_mrnn_overweight_classification_subgroup)"
   ]
  },
  {
   "cell_type": "markdown",
   "metadata": {},
   "source": [
    "### Confidence Interval (Obesity 1 classification subgroup)"
   ]
  },
  {
   "cell_type": "markdown",
   "metadata": {},
   "source": [
    "#### Distribution Bootstrap for the Top 5 variables with Largest Differences in MAE (Mean Absolute Error) "
   ]
  },
  {
   "cell_type": "code",
   "execution_count": null,
   "metadata": {},
   "outputs": [],
   "source": [
    "indices = [6,0,31,35,32]\n",
    "\n",
    "results_bootstrap_mrnn_obs1_classification_subgroup = []\n",
    "\n",
    "for i in indices:\n",
    "       results_bootstrap_mrnn_obs1_classification_subgroup.append(toolkits.bootstrap(testing_ae_mrnn_variables_standard, indicating_mask_variable_standard_norm, 14, i, 9000))\n",
    "\n"
   ]
  },
  {
   "cell_type": "markdown",
   "metadata": {},
   "source": [
    "#### Calculating the mean and standard deviation of the bootstrap distribution"
   ]
  },
  {
   "cell_type": "code",
   "execution_count": null,
   "metadata": {},
   "outputs": [
    {
     "name": "stdout",
     "output_type": "stream",
     "text": [
      "[np.float64(0.30729431457159123), np.float64(0.49879057873455573), np.float64(0.27486455646945995), np.float64(0.4929731039694339), np.float64(0.40518847013824805)]\n",
      "[np.float64(0.05798396274724235), np.float64(0.25089896187847854), np.float64(0.08655489332963262), np.float64(0.19483046174517651), np.float64(0.12094499608671105)]\n"
     ]
    }
   ],
   "source": [
    "means_bootstraps_mrnn_obs1_classification_subgroup, standards_deviations_mrnn_obs1_classification_subgroup = toolkits.calc_mean_and_standard_deviation(results_bootstrap_mrnn_obs1_classification_subgroup)\n",
    "\n",
    "print(means_bootstraps_mrnn_obs1_classification_subgroup)\n",
    "print(standards_deviations_mrnn_obs1_classification_subgroup)\n"
   ]
  },
  {
   "cell_type": "markdown",
   "metadata": {},
   "source": [
    "#### Calculating lower bound and upper bound"
   ]
  },
  {
   "cell_type": "code",
   "execution_count": null,
   "metadata": {},
   "outputs": [
    {
     "name": "stdout",
     "output_type": "stream",
     "text": [
      "[np.float64(0.19364783590608406), np.float64(0.0070376496942498035), np.float64(0.10522008285767387), np.float64(0.11111241585757914), np.float64(0.1681406336979566)]\n",
      "[np.float64(0.42094079323709843), np.float64(0.9905435077748617), np.float64(0.44450903008124604), np.float64(0.8748337920812886), np.float64(0.6422363065785395)]\n"
     ]
    }
   ],
   "source": [
    "lower_bounds_mrnn_obs1_classification_subgroup, upper_bounds_mrnn_obs1_classification_subgroup = toolkits.calc_lower_and_upper_bound(results_bootstrap_mrnn_obs1_classification_subgroup, means_bootstraps_mrnn_obs1_classification_subgroup, standards_deviations_mrnn_obs1_classification_subgroup)\n",
    "\n",
    "print(lower_bounds_mrnn_obs1_classification_subgroup)\n",
    "print(upper_bounds_mrnn_obs1_classification_subgroup)"
   ]
  },
  {
   "cell_type": "code",
   "execution_count": null,
   "metadata": {},
   "outputs": [],
   "source": [
    "lower_bounds_mrnn_obs1_classification_subgroup, upper_bounds_mrnn_obs1_classification_subgroup = toolkits.calc_lower_and_upper_bound_percentile(results_bootstrap_mrnn_obs1_classification_subgroup)\n",
    "\n",
    "print(lower_bounds_mrnn_obs1_classification_subgroup)\n",
    "print(upper_bounds_mrnn_obs1_classification_subgroup)"
   ]
  },
  {
   "cell_type": "markdown",
   "metadata": {},
   "source": [
    "#### Mean values of lower bound and upper bound"
   ]
  },
  {
   "cell_type": "code",
   "execution_count": null,
   "metadata": {},
   "outputs": [
    {
     "name": "stdout",
     "output_type": "stream",
     "text": [
      "[np.float64(0.30729431457159123), np.float64(0.49879057873455573), np.float64(0.27486455646945995), np.float64(0.4929731039694339), np.float64(0.40518847013824805)]\n"
     ]
    }
   ],
   "source": [
    "mean_values_ci_mrnn_obs1_classification_subgroup  = toolkits.calc_mean_values_ci(lower_bounds_mrnn_obs1_classification_subgroup, upper_bounds_mrnn_obs1_classification_subgroup)\n",
    "\n",
    "print(mean_values_ci_mrnn_obs1_classification_subgroup)"
   ]
  },
  {
   "cell_type": "markdown",
   "metadata": {},
   "source": [
    "### Confidence Interval (Obesity 2 classification subgroup)"
   ]
  },
  {
   "cell_type": "markdown",
   "metadata": {},
   "source": [
    "#### Distribution Bootstrap for the Top 5 variables with Largest Differences in MAE (Mean Absolute Error) "
   ]
  },
  {
   "cell_type": "code",
   "execution_count": null,
   "metadata": {},
   "outputs": [],
   "source": [
    "indices = [6,0,31,35,32]\n",
    "\n",
    "results_bootstrap_mrnn_obs2_classification_subgroup = []\n",
    "\n",
    "for i in indices:\n",
    "       results_bootstrap_mrnn_obs2_classification_subgroup.append(toolkits.bootstrap(testing_ae_mrnn_variables_standard, indicating_mask_variable_standard_norm, 15, i, 9000))\n",
    "\n"
   ]
  },
  {
   "cell_type": "markdown",
   "metadata": {},
   "source": [
    "#### Calculating the mean and standard deviation of the bootstrap distribution"
   ]
  },
  {
   "cell_type": "code",
   "execution_count": null,
   "metadata": {},
   "outputs": [
    {
     "name": "stdout",
     "output_type": "stream",
     "text": [
      "[np.float64(0.2566297935741156), np.float64(0.12596516024051657), np.float64(1.3961240813101228), np.float64(0.0), np.float64(0.2858736875756382)]\n",
      "[np.float64(0.049002577704985846), np.float64(0.09598273849535295), np.float64(1.0268585416236724), np.float64(0.0), np.float64(0.13790114187609237)]\n"
     ]
    }
   ],
   "source": [
    "means_bootstraps_mrnn_obs2_classification_subgroup, standards_deviations_mrnn_obs2_classification_subgroup = toolkits.calc_mean_and_standard_deviation(results_bootstrap_mrnn_obs2_classification_subgroup)\n",
    "\n",
    "print(means_bootstraps_mrnn_obs2_classification_subgroup)\n",
    "print(standards_deviations_mrnn_obs2_classification_subgroup) \n"
   ]
  },
  {
   "cell_type": "markdown",
   "metadata": {},
   "source": [
    "#### Calculating lower bound and upper bound"
   ]
  },
  {
   "cell_type": "code",
   "execution_count": null,
   "metadata": {},
   "outputs": [
    {
     "name": "stdout",
     "output_type": "stream",
     "text": [
      "[np.float64(0.1605865061227179), np.float64(-0.062157550347901436), np.float64(-0.6164816774895991), np.float64(0.0), np.float64(0.015592416071548876)]\n",
      "[np.float64(0.35267308102551326), np.float64(0.3140878708289346), np.float64(3.408729840109845), np.float64(0.0), np.float64(0.5561549590797275)]\n"
     ]
    }
   ],
   "source": [
    "lower_bounds_mrnn_obs2_classification_subgroup, upper_bounds_mrnn_obs2_classification_subgroup = toolkits.calc_lower_and_upper_bound(results_bootstrap_mrnn_obs2_classification_subgroup, means_bootstraps_mrnn_obs2_classification_subgroup, standards_deviations_mrnn_obs2_classification_subgroup)\n",
    "\n",
    "print(lower_bounds_mrnn_obs2_classification_subgroup)\n",
    "print(upper_bounds_mrnn_obs2_classification_subgroup)"
   ]
  },
  {
   "cell_type": "code",
   "execution_count": null,
   "metadata": {},
   "outputs": [],
   "source": [
    "lower_bounds_mrnn_obs2_classification_subgroup, upper_bounds_mrnn_obs2_classification_subgroup = toolkits.calc_lower_and_upper_bound_percentile(results_bootstrap_mrnn_obs2_classification_subgroup)\n",
    "\n",
    "print(lower_bounds_mrnn_obs2_classification_subgroup)\n",
    "print(upper_bounds_mrnn_obs2_classification_subgroup)"
   ]
  },
  {
   "cell_type": "markdown",
   "metadata": {},
   "source": [
    "#### Mean values of lower bound and upper bound"
   ]
  },
  {
   "cell_type": "code",
   "execution_count": null,
   "metadata": {},
   "outputs": [
    {
     "name": "stdout",
     "output_type": "stream",
     "text": [
      "[np.float64(0.2566297935741156), np.float64(0.12596516024051657), np.float64(1.396124081310123), np.float64(0.0), np.float64(0.28587368757563814)]\n"
     ]
    }
   ],
   "source": [
    "mean_values_ci_mrnn_obs2_classification_subgroup  = toolkits.calc_mean_values_ci(lower_bounds_mrnn_obs2_classification_subgroup, upper_bounds_mrnn_obs2_classification_subgroup)\n",
    "\n",
    "print(mean_values_ci_mrnn_obs2_classification_subgroup)"
   ]
  },
  {
   "cell_type": "markdown",
   "metadata": {},
   "source": [
    "### Confidence Interval (Obesity 3 classification subgroup)"
   ]
  },
  {
   "cell_type": "markdown",
   "metadata": {},
   "source": [
    "#### Distribution Bootstrap for the Top 5 variables with Largest Differences in MAE (Mean Absolute Error) "
   ]
  },
  {
   "cell_type": "code",
   "execution_count": null,
   "metadata": {},
   "outputs": [],
   "source": [
    "indices = [6,0,31,35,32]\n",
    "\n",
    "results_bootstrap_mrnn_obs3_classification_subgroup = []\n",
    "\n",
    "for i in indices:\n",
    "       results_bootstrap_mrnn_obs3_classification_subgroup.append(toolkits.bootstrap(testing_ae_mrnn_variables_standard, indicating_mask_variable_standard_norm, 16, i, 9000))\n",
    "\n"
   ]
  },
  {
   "cell_type": "markdown",
   "metadata": {},
   "source": [
    "#### Calculating the mean and standard deviation of the bootstrap distribution"
   ]
  },
  {
   "cell_type": "code",
   "execution_count": null,
   "metadata": {},
   "outputs": [
    {
     "name": "stdout",
     "output_type": "stream",
     "text": [
      "[np.float64(0.15155417430747806), np.float64(0.0), np.float64(1.1593962687753612), np.float64(0.2442421185109458), np.float64(0.20886002502599546)]\n",
      "[np.float64(0.050281311239894225), np.float64(0.0), np.float64(0.8237478596037178), np.float64(0.19004214803335054), np.float64(0.12978497928121874)]\n"
     ]
    }
   ],
   "source": [
    "means_bootstraps_mrnn_obs3_classification_subgroup, standards_deviations_mrnn_obs3_classification_subgroup = toolkits.calc_mean_and_standard_deviation(results_bootstrap_mrnn_obs3_classification_subgroup)\n",
    "\n",
    "print(means_bootstraps_mrnn_obs3_classification_subgroup)\n",
    "print(standards_deviations_mrnn_obs3_classification_subgroup)\n"
   ]
  },
  {
   "cell_type": "markdown",
   "metadata": {},
   "source": [
    "#### Calculating lower bound and upper bound"
   ]
  },
  {
   "cell_type": "code",
   "execution_count": null,
   "metadata": {},
   "outputs": [
    {
     "name": "stdout",
     "output_type": "stream",
     "text": [
      "[np.float64(0.05300461518183637), np.float64(0.0), np.float64(-0.4551198683898825), np.float64(-0.12823364717905072), np.float64(-0.045513860099470366)]\n",
      "[np.float64(0.25010373343311976), np.float64(0.0), np.float64(2.773912405940605), np.float64(0.6167178842009423), np.float64(0.4632339101514613)]\n"
     ]
    }
   ],
   "source": [
    "lower_bounds_mrnn_obs3_classification_subgroup, upper_bounds_mrnn_obs3_classification_subgroup = toolkits.calc_lower_and_upper_bound(results_bootstrap_mrnn_obs3_classification_subgroup, means_bootstraps_mrnn_obs3_classification_subgroup, standards_deviations_mrnn_obs3_classification_subgroup)\n",
    "\n",
    "print(lower_bounds_mrnn_obs3_classification_subgroup)\n",
    "print(upper_bounds_mrnn_obs3_classification_subgroup)"
   ]
  },
  {
   "cell_type": "code",
   "execution_count": null,
   "metadata": {},
   "outputs": [],
   "source": [
    "lower_bounds_mrnn_obs3_classification_subgroup, upper_bounds_mrnn_obs3_classification_subgroup = toolkits.calc_lower_and_upper_bound_percentile(results_bootstrap_mrnn_obs3_classification_subgroup)\n",
    "\n",
    "print(lower_bounds_mrnn_obs3_classification_subgroup)\n",
    "print(upper_bounds_mrnn_obs3_classification_subgroup)"
   ]
  },
  {
   "cell_type": "markdown",
   "metadata": {},
   "source": [
    "#### Mean values of lower bound and upper bound"
   ]
  },
  {
   "cell_type": "code",
   "execution_count": null,
   "metadata": {},
   "outputs": [
    {
     "name": "stdout",
     "output_type": "stream",
     "text": [
      "[np.float64(0.15155417430747806), np.float64(0.0), np.float64(1.1593962687753612), np.float64(0.2442421185109458), np.float64(0.2088600250259955)]\n"
     ]
    }
   ],
   "source": [
    "mean_values_ci_mrnn_obs3_classification_subgroup  = toolkits.calc_mean_values_ci(lower_bounds_mrnn_obs3_classification_subgroup, upper_bounds_mrnn_obs3_classification_subgroup)\n",
    "\n",
    "print(mean_values_ci_mrnn_obs3_classification_subgroup)"
   ]
  },
  {
   "cell_type": "markdown",
   "metadata": {},
   "source": [
    "# Results mean absolute error"
   ]
  },
  {
   "cell_type": "code",
   "execution_count": 17,
   "metadata": {},
   "outputs": [],
   "source": [
    "subgroups = [\"General\", \"Female\", \"Male\", \"Undefined Gender\", \"+65\", \"-65\", \"ICUType 1\", \"ICUType 2\", \"ICUType 3\", \"ICUType 4\", \"Undefined classification\", \"Low Weight\", \"Normal Weight\", \"Overweight\", \"Obesity 1\", \"Obesity 2\", \"Obesity 3\"]"
   ]
  },
  {
   "cell_type": "markdown",
   "metadata": {},
   "source": [
    "#### SAITS"
   ]
  },
  {
   "cell_type": "markdown",
   "metadata": {},
   "source": [
    "<h4>Standard Scaler (C/Normalização)</h4>"
   ]
  },
  {
   "cell_type": "code",
   "execution_count": 13,
   "metadata": {},
   "outputs": [
    {
     "name": "stdout",
     "output_type": "stream",
     "text": [
      "SAITS - MAE\n",
      "************\n",
      "General\n",
      "-------------\n",
      "ALP : 0.35549184664706085\n",
      "ALT : 0.34616397235246166\n",
      "AST : 0.283203929613111\n",
      "Albumin : 0.5865378684716107\n",
      "BUN : 0.23549456829210566\n",
      "Bilirubin : 0.29213390018033225\n",
      "Cholesterol : 0.8619142944054452\n",
      "Creatinine : 0.2272360108358054\n",
      "DiasABP : 0.25696352027850733\n",
      "FiO2 : 0.4843457493583031\n",
      "GCS : 0.27782594851598286\n",
      "Glucose : 0.5574566141755575\n",
      "HCO3 : 0.42235495223366226\n",
      "HCT : 0.5478476366595461\n",
      "HR : 0.2786515469045242\n",
      "K : 0.6173738181988982\n",
      "Lactate : 0.3602081488093162\n",
      "MAP : 0.276148040474521\n",
      "MechVent : 0.016131509283529688\n",
      "Mg : 0.5428868319523208\n",
      "NIDiasABP : 0.23805346595387422\n",
      "NIMAP : 0.17731126967659114\n",
      "NISysABP : 0.3059993623684565\n",
      "Na : 0.5094466185029012\n",
      "PaCO2 : 0.5448751678244528\n",
      "PaO2 : 0.5044175503727509\n",
      "Platelets : 0.37910753219049526\n",
      "RespRate : 0.4975549864022565\n",
      "SaO2 : 0.395203639666887\n",
      "SysABP : 0.2876315375696396\n",
      "Temp : 0.3654739421516718\n",
      "TroponinI : 0.5742820858879293\n",
      "TroponinT : 0.562502744207675\n",
      "Urine : 0.4555801478350003\n",
      "WBC : 0.1511062199488556\n",
      "Weight : 0.1409540477930963\n",
      "Ph : 0.16448179535134175\n",
      "Female\n",
      "-------------\n",
      "ALP : 0.39879135871907456\n",
      "ALT : 0.267721133048584\n",
      "AST : 0.25720379703529206\n",
      "Albumin : 0.6092860633354338\n",
      "BUN : 0.25336267131929824\n",
      "Bilirubin : 0.30159687434628696\n",
      "Cholesterol : 1.451438736858023\n",
      "Creatinine : 0.21841924710739646\n",
      "DiasABP : 0.2609409668878805\n",
      "FiO2 : 0.45227613070733225\n",
      "GCS : 0.26651854876210024\n",
      "Glucose : 0.5614778866945997\n",
      "HCO3 : 0.43152874248191053\n",
      "HCT : 0.5651900433835768\n",
      "HR : 0.284301913060418\n",
      "K : 0.6361210282792925\n",
      "Lactate : 0.3344905019136891\n",
      "MAP : 0.2807975966793253\n",
      "MechVent : 0.014552340041130598\n",
      "Mg : 0.5558963744094227\n",
      "NIDiasABP : 0.26422701668451914\n",
      "NIMAP : 0.18946461584471658\n",
      "NISysABP : 0.3142243519923081\n",
      "Na : 0.5279682365736087\n",
      "PaCO2 : 0.5567466124526796\n",
      "PaO2 : 0.4993733010196951\n",
      "Platelets : 0.3952104548639567\n",
      "RespRate : 0.5098115656562086\n",
      "SaO2 : 0.5922854291689998\n",
      "SysABP : 0.28322735478789157\n",
      "Temp : 0.39219315846253106\n",
      "TroponinI : 0.3995565866356851\n",
      "TroponinT : 0.6123319950645147\n",
      "Urine : 0.42233896178631336\n",
      "WBC : 0.14766102287965305\n",
      "Weight : 0.146240208924941\n",
      "Ph : 0.10289819543224764\n",
      "Male\n",
      "-------------\n",
      "ALP : 0.38898877485462546\n",
      "ALT : 0.2535387466831654\n",
      "AST : 0.20474908180055995\n",
      "Albumin : 0.6214555818413293\n",
      "BUN : 0.22887801365739638\n",
      "Bilirubin : 0.2494196758416589\n",
      "Cholesterol : 0.9186172160150028\n",
      "Creatinine : 0.21043755098296707\n",
      "DiasABP : 0.24092423347357203\n",
      "FiO2 : 0.5176707122148406\n",
      "GCS : 0.292769373342076\n",
      "Glucose : 0.590789236937461\n",
      "HCO3 : 0.43330508655701244\n",
      "HCT : 0.5361828053239647\n",
      "HR : 0.2752930018537663\n",
      "K : 0.591587045830217\n",
      "Lactate : 0.4068611690652343\n",
      "MAP : 0.29576810199300535\n",
      "MechVent : 0.014512000309648741\n",
      "Mg : 0.558360832761358\n",
      "NIDiasABP : 0.24298155623162018\n",
      "NIMAP : 0.1696624474676664\n",
      "NISysABP : 0.31302446058096317\n",
      "Na : 0.4961318001302222\n",
      "PaCO2 : 0.5171345304227045\n",
      "PaO2 : 0.4819310418659117\n",
      "Platelets : 0.3550379447194928\n",
      "RespRate : 0.49268879543822347\n",
      "SaO2 : 0.40930553744296266\n",
      "SysABP : 0.2853302268669079\n",
      "Temp : 0.389190981900697\n",
      "TroponinI : 0.5267892042560236\n",
      "TroponinT : 0.7161814591271893\n",
      "Urine : 0.467928694148557\n",
      "WBC : 0.16888308295243987\n",
      "Weight : 0.12914022291257715\n",
      "Ph : 0.1116224339956543\n",
      "Undefined Gender\n",
      "-------------\n",
      "ALP : 0.0\n",
      "ALT : 0.0\n",
      "AST : 0.0\n",
      "Albumin : 0.0\n",
      "BUN : 0.0\n",
      "Bilirubin : 0.0\n",
      "Cholesterol : 0.0\n",
      "Creatinine : 0.0\n",
      "DiasABP : 0.18285117970895587\n",
      "FiO2 : 0.0\n",
      "GCS : 0.13604015050514243\n",
      "Glucose : 0.24090817834651967\n",
      "HCO3 : 0.214274955188243\n",
      "HCT : 0.0\n",
      "HR : 0.27722215526927296\n",
      "K : 0.6481980955579346\n",
      "Lactate : 0.0\n",
      "MAP : 0.2719828516394677\n",
      "MechVent : 0.0\n",
      "Mg : 0.3853531754879323\n",
      "NIDiasABP : 0.220632602756738\n",
      "NIMAP : 0.11167377598002785\n",
      "NISysABP : 0.14676328428456942\n",
      "Na : 0.0\n",
      "PaCO2 : 0.0\n",
      "PaO2 : 0.0\n",
      "Platelets : 0.0\n",
      "RespRate : 0.03252691031141136\n",
      "SaO2 : 0.0\n",
      "SysABP : 0.1893623265809897\n",
      "Temp : 0.1537032534892859\n",
      "TroponinI : 0.0\n",
      "TroponinT : 0.0\n",
      "Urine : 0.42059680286137174\n",
      "WBC : 0.01887312720957615\n",
      "Weight : 0.12449213403705585\n",
      "Ph : 0.035273266586659156\n",
      "+65\n",
      "-------------\n",
      "ALP : 0.33175073606135197\n",
      "ALT : 0.28015962117866006\n",
      "AST : 0.20622493285291443\n",
      "Albumin : 0.5365561938928028\n",
      "BUN : 0.24239101579599082\n",
      "Bilirubin : 0.2318267102567951\n",
      "Cholesterol : 0.7364946138385429\n",
      "Creatinine : 0.20002615142754465\n",
      "DiasABP : 0.27115429886770204\n",
      "FiO2 : 0.49106117070517075\n",
      "GCS : 0.2761123375582958\n",
      "Glucose : 0.5904012067142612\n",
      "HCO3 : 0.4618853177895146\n",
      "HCT : 0.5091167734410094\n",
      "HR : 0.2804100599225535\n",
      "K : 0.5659236966725764\n",
      "Lactate : 0.3294009007484874\n",
      "MAP : 0.29964517183062633\n",
      "MechVent : 0.012942020909290175\n",
      "Mg : 0.5395916908719494\n",
      "NIDiasABP : 0.25873079181165004\n",
      "NIMAP : 0.17706817450081433\n",
      "NISysABP : 0.32384274293788595\n",
      "Na : 0.4756152570660664\n",
      "PaCO2 : 0.48401502931854035\n",
      "PaO2 : 0.4524705693832143\n",
      "Platelets : 0.3751860373336073\n",
      "RespRate : 0.4785731798772146\n",
      "SaO2 : 0.42656852738130385\n",
      "SysABP : 0.28756343136221213\n",
      "Temp : 0.38989220265879393\n",
      "TroponinI : 0.912479961059112\n",
      "TroponinT : 0.5609791905986549\n",
      "Urine : 0.40384171800804514\n",
      "WBC : 0.16854329059743003\n",
      "Weight : 0.12446211618614153\n",
      "Ph : 0.10031610890160858\n",
      "-65\n",
      "-------------\n",
      "ALP : 0.7408787242332653\n",
      "ALT : 0.3298661239454057\n",
      "AST : 0.24314401146209372\n",
      "Albumin : 0.6586605527765389\n",
      "BUN : 0.24428834974190747\n",
      "Bilirubin : 0.33640877967849353\n",
      "Cholesterol : 1.1837952493687076\n",
      "Creatinine : 0.21117656117043238\n",
      "DiasABP : 0.2315519034879002\n",
      "FiO2 : 0.5013271144677561\n",
      "GCS : 0.2737802114241974\n",
      "Glucose : 0.6194284343683953\n",
      "HCO3 : 0.44601168579753503\n",
      "HCT : 0.5272315972056935\n",
      "HR : 0.27443088606240124\n",
      "K : 0.6279779125339655\n",
      "Lactate : 0.3723518467434136\n",
      "MAP : 0.28572206795040184\n",
      "MechVent : 0.01827778097688463\n",
      "Mg : 0.5337204807442403\n",
      "NIDiasABP : 0.23699066294663038\n",
      "NIMAP : 0.18171006866991674\n",
      "NISysABP : 0.28241546711026816\n",
      "Na : 0.5378110208760685\n",
      "PaCO2 : 0.5463756332887388\n",
      "PaO2 : 0.5063699883297205\n",
      "Platelets : 0.37266188276822343\n",
      "RespRate : 0.4903802979185649\n",
      "SaO2 : 0.6221481912990683\n",
      "SysABP : 0.26221652341370083\n",
      "Temp : 0.3955860933331013\n",
      "TroponinI : 0.46524983396195685\n",
      "TroponinT : 0.7072584529786531\n",
      "Urine : 0.5519159513647637\n",
      "WBC : 0.15140961268952202\n",
      "Weight : 0.15661324683533903\n",
      "Ph : 0.10110188417357012\n",
      "ICUType 1\n",
      "-------------\n",
      "ALP : 0.22235793610078722\n",
      "ALT : 0.29696789504761684\n",
      "AST : 0.34011338349020054\n",
      "Albumin : 0.49008440975808004\n",
      "BUN : 0.21330778566791334\n",
      "Bilirubin : 0.20040337021114618\n",
      "Cholesterol : 1.002456638310131\n",
      "Creatinine : 0.19344937769602377\n",
      "DiasABP : 0.29990581828578905\n",
      "FiO2 : 0.4825158240561119\n",
      "GCS : 0.26439591750177543\n",
      "Glucose : 0.6072523344507726\n",
      "HCO3 : 0.4100329488712803\n",
      "HCT : 0.5633289528468385\n",
      "HR : 0.27117077383907173\n",
      "K : 0.5779429360597902\n",
      "Lactate : 0.4698623547071482\n",
      "MAP : 0.29125128180801896\n",
      "MechVent : 0.012979781499681835\n",
      "Mg : 0.4899786235815026\n",
      "NIDiasABP : 0.2279157628824723\n",
      "NIMAP : 0.16323363819519307\n",
      "NISysABP : 0.29574841515562666\n",
      "Na : 0.4654003732118383\n",
      "PaCO2 : 0.4740116568421564\n",
      "PaO2 : 0.5169436636597022\n",
      "Platelets : 0.3419856004283055\n",
      "RespRate : 0.484567573197248\n",
      "SaO2 : 0.5479769043353139\n",
      "SysABP : 0.3046432708972965\n",
      "Temp : 0.43942479896309433\n",
      "TroponinI : 1.4147481358654532\n",
      "TroponinT : 0.6195982930197838\n",
      "Urine : 0.5201973259152775\n",
      "WBC : 0.1182871042857641\n",
      "Weight : 0.1295687522063077\n",
      "Ph : 0.11420923338092366\n",
      "ICUType 2\n",
      "-------------\n",
      "ALP : 0.19595211673068974\n",
      "ALT : 0.35126687296166526\n",
      "AST : 0.2730454622891039\n",
      "Albumin : 0.7173112394561357\n",
      "BUN : 0.2228975171013092\n",
      "Bilirubin : 0.31825007717231846\n",
      "Cholesterol : 0.0\n",
      "Creatinine : 0.18312023147158726\n",
      "DiasABP : 0.22117548994550923\n",
      "FiO2 : 0.46776083410038544\n",
      "GCS : 0.4062223306057767\n",
      "Glucose : 0.4659182633173996\n",
      "HCO3 : 0.34808233069626676\n",
      "HCT : 0.4927182665454824\n",
      "HR : 0.23800347481085193\n",
      "K : 0.6690141539889067\n",
      "Lactate : 0.33978802305332667\n",
      "MAP : 0.28111816471160983\n",
      "MechVent : 0.012379252945052323\n",
      "Mg : 0.6057758090680515\n",
      "NIDiasABP : 0.2431217959773233\n",
      "NIMAP : 0.1625453483443444\n",
      "NISysABP : 0.31508572102741106\n",
      "Na : 0.4605609482763751\n",
      "PaCO2 : 0.47732277298714\n",
      "PaO2 : 0.4739815160589983\n",
      "Platelets : 0.34814576666055047\n",
      "RespRate : 0.4265145006141533\n",
      "SaO2 : 0.3517113441177471\n",
      "SysABP : 0.2689866590848715\n",
      "Temp : 0.2847329798193362\n",
      "TroponinI : 0.5378933764170092\n",
      "TroponinT : 0.7031988071412201\n",
      "Urine : 0.43415066131516244\n",
      "WBC : 0.17861731385371435\n",
      "Weight : 0.1516307942100883\n",
      "Ph : 0.11739755939068557\n",
      "ICUType 3\n",
      "-------------\n",
      "ALP : 0.7230860621494279\n",
      "ALT : 0.3114890577977422\n",
      "AST : 0.3058344630663541\n",
      "Albumin : 0.7085816206607927\n",
      "BUN : 0.2948288819285851\n",
      "Bilirubin : 0.28038481122664755\n",
      "Cholesterol : 0.9062963912535236\n",
      "Creatinine : 0.26524197523865756\n",
      "DiasABP : 0.2503330270678142\n",
      "FiO2 : 0.5071218369799416\n",
      "GCS : 0.26683685597920864\n",
      "Glucose : 0.6850118193767407\n",
      "HCO3 : 0.48633426301204785\n",
      "HCT : 0.5893721294924048\n",
      "HR : 0.2868745870693581\n",
      "K : 0.7076102188480413\n",
      "Lactate : 0.46898389064493734\n",
      "MAP : 0.274120320581768\n",
      "MechVent : 0.015398824789147038\n",
      "Mg : 0.5976673570387754\n",
      "NIDiasABP : 0.2543804537585744\n",
      "NIMAP : 0.180200891229692\n",
      "NISysABP : 0.3054265794459314\n",
      "Na : 0.4846467461768614\n",
      "PaCO2 : 0.6657660342690364\n",
      "PaO2 : 0.492036082975726\n",
      "Platelets : 0.4531559471348621\n",
      "RespRate : 0.5298683414713912\n",
      "SaO2 : 1.5843908865861114\n",
      "SysABP : 0.2740742342358265\n",
      "Temp : 0.5585857979394965\n",
      "TroponinI : 0.3432098992260162\n",
      "TroponinT : 0.5384253961771664\n",
      "Urine : 0.44456605063783766\n",
      "WBC : 0.152977735093807\n",
      "Weight : 0.1337099117314554\n",
      "Ph : 0.10132297547366252\n",
      "ICUType 4\n",
      "-------------\n",
      "ALP : 0.5056397817403011\n",
      "ALT : 0.27255801466428337\n",
      "AST : 0.3061413352982163\n",
      "Albumin : 0.7540849419365757\n",
      "BUN : 0.20966064686693311\n",
      "Bilirubin : 0.2678868262248369\n",
      "Cholesterol : 0.7250186348036318\n",
      "Creatinine : 0.2174462497181928\n",
      "DiasABP : 0.2415641876859489\n",
      "FiO2 : 0.43826359903626055\n",
      "GCS : 0.24578909547229005\n",
      "Glucose : 0.44383083021792613\n",
      "HCO3 : 0.39966575128291504\n",
      "HCT : 0.5156738181320276\n",
      "HR : 0.29735304330221035\n",
      "K : 0.5246219067619541\n",
      "Lactate : 0.4066923160801241\n",
      "MAP : 0.27626965511979856\n",
      "MechVent : 0.01676655673093299\n",
      "Mg : 0.5427783695002771\n",
      "NIDiasABP : 0.2582372865258363\n",
      "NIMAP : 0.18712313866322458\n",
      "NISysABP : 0.31721409860408706\n",
      "Na : 0.5480956376454192\n",
      "PaCO2 : 0.4768607034345228\n",
      "PaO2 : 0.4954407759425003\n",
      "Platelets : 0.33987079319863456\n",
      "RespRate : 0.5198607276634712\n",
      "SaO2 : 0.4538934168443376\n",
      "SysABP : 0.2810448573167451\n",
      "Temp : 0.43268954805117005\n",
      "TroponinI : 0.8606517177368178\n",
      "TroponinT : 0.5676629037945219\n",
      "Urine : 0.49339038416840075\n",
      "WBC : 0.15060897824582553\n",
      "Weight : 0.15306474403797238\n",
      "Ph : 0.09655286029656293\n",
      "Undefined classification\n",
      "-------------\n",
      "ALP : 0.2969711933420751\n",
      "ALT : 0.325779723339471\n",
      "AST : 0.24451982817282739\n",
      "Albumin : 0.7761709655447225\n",
      "BUN : 0.25789306020375824\n",
      "Bilirubin : 0.31200531017456057\n",
      "Cholesterol : 0.6185228642704512\n",
      "Creatinine : 0.23347503773118133\n",
      "DiasABP : 0.2507521426328185\n",
      "FiO2 : 0.4604318626003149\n",
      "GCS : 0.24195410234480919\n",
      "Glucose : 0.5978058668419063\n",
      "HCO3 : 0.47698206761081074\n",
      "HCT : 0.5630452787478524\n",
      "HR : 0.2857161315926199\n",
      "K : 0.6125691604056701\n",
      "Lactate : 0.3818155227717327\n",
      "MAP : 0.2938076679965238\n",
      "MechVent : 0.015602762801210616\n",
      "Mg : 0.4920263570818981\n",
      "NIDiasABP : 0.2526216692267379\n",
      "NIMAP : 0.18401262687254327\n",
      "NISysABP : 0.3094771564089047\n",
      "Na : 0.571253226317134\n",
      "PaCO2 : 0.6395649039593723\n",
      "PaO2 : 0.5417740631360564\n",
      "Platelets : 0.4123912589465217\n",
      "RespRate : 0.5082584106540895\n",
      "SaO2 : 0.6496089895395095\n",
      "SysABP : 0.2850157504282485\n",
      "Temp : 0.4442688060397725\n",
      "TroponinI : 0.5567697721187463\n",
      "TroponinT : 0.5266537769511287\n",
      "Urine : 0.47495404278913633\n",
      "WBC : 0.16671510775644993\n",
      "Weight : 0.1354207043286986\n",
      "Ph : 0.10517998130399123\n",
      "Low Weight\n",
      "-------------\n",
      "ALP : 0.2163949411395408\n",
      "ALT : 0.23869987284346758\n",
      "AST : 0.6993145785499238\n",
      "Albumin : 1.1720931746200332\n",
      "BUN : 0.20072308368139\n",
      "Bilirubin : 0.9540989148954322\n",
      "Cholesterol : 0.08586996160174372\n",
      "Creatinine : 0.17718889362399953\n",
      "DiasABP : 0.24664523015882117\n",
      "FiO2 : 0.4766907500074179\n",
      "GCS : 0.3148779443238605\n",
      "Glucose : 0.9817420902790102\n",
      "HCO3 : 0.5771684228047199\n",
      "HCT : 0.5455279146355343\n",
      "HR : 0.32912571982542227\n",
      "K : 0.5640570259638694\n",
      "Lactate : 0.7084877462976233\n",
      "MAP : 0.2529029761555121\n",
      "MechVent : 0.011589541580647818\n",
      "Mg : 0.48158571818650786\n",
      "NIDiasABP : 0.2850991028382829\n",
      "NIMAP : 0.2509737132893367\n",
      "NISysABP : 0.28828997188350064\n",
      "Na : 0.5098007081997193\n",
      "PaCO2 : 0.6001920691654591\n",
      "PaO2 : 0.592228115984599\n",
      "Platelets : 0.4376934857860229\n",
      "RespRate : 0.6886398693487977\n",
      "SaO2 : 0.3996761787599125\n",
      "SysABP : 0.2778389363730997\n",
      "Temp : 0.3092906879370877\n",
      "TroponinI : 0.0\n",
      "TroponinT : 0.19448924549686575\n",
      "Urine : 0.4938076686421067\n",
      "WBC : 0.19004689450974482\n",
      "Weight : 0.23737427669826028\n",
      "Ph : 0.1090458130995447\n",
      "Normal Weight\n",
      "-------------\n",
      "ALP : 0.28406044815589054\n",
      "ALT : 0.25169237658283466\n",
      "AST : 0.21897651501543552\n",
      "Albumin : 0.8402915751610249\n",
      "BUN : 0.21959032414179055\n",
      "Bilirubin : 0.392959158788567\n",
      "Cholesterol : 0.7047747353655271\n",
      "Creatinine : 0.22736198464603866\n",
      "DiasABP : 0.24610456552586718\n",
      "FiO2 : 0.43931432684002586\n",
      "GCS : 0.3260676234705042\n",
      "Glucose : 0.53453684372621\n",
      "HCO3 : 0.4306993953241203\n",
      "HCT : 0.4935507417566456\n",
      "HR : 0.27280351623685783\n",
      "K : 0.5991450622332929\n",
      "Lactate : 0.33949930555596464\n",
      "MAP : 0.2798033327550323\n",
      "MechVent : 0.013784697335756175\n",
      "Mg : 0.5840200077460157\n",
      "NIDiasABP : 0.23613708104226383\n",
      "NIMAP : 0.1774345513585783\n",
      "NISysABP : 0.29836989496815575\n",
      "Na : 0.5475274575826943\n",
      "PaCO2 : 0.4943650192339458\n",
      "PaO2 : 0.4885522030605117\n",
      "Platelets : 0.34413476762550194\n",
      "RespRate : 0.46618900720366574\n",
      "SaO2 : 0.4010251916578178\n",
      "SysABP : 0.26809733988455603\n",
      "Temp : 0.34989049382000076\n",
      "TroponinI : 0.5463974478388895\n",
      "TroponinT : 0.41064396715353474\n",
      "Urine : 0.3882069607008202\n",
      "WBC : 0.16570214657410348\n",
      "Weight : 0.1276529516557513\n",
      "Ph : 0.10235910920877908\n",
      "Overweight\n",
      "-------------\n",
      "ALP : 0.23605856118172483\n",
      "ALT : 0.3059377321485659\n",
      "AST : 0.3184234835225889\n",
      "Albumin : 0.8149251561044396\n",
      "BUN : 0.23566979483991418\n",
      "Bilirubin : 0.2429158008779558\n",
      "Cholesterol : 1.2325708781179912\n",
      "Creatinine : 0.20640142050517368\n",
      "DiasABP : 0.2559203480446378\n",
      "FiO2 : 0.41402673769854187\n",
      "GCS : 0.33148963019867567\n",
      "Glucose : 0.5622221115365832\n",
      "HCO3 : 0.35579614008332355\n",
      "HCT : 0.5459973501086877\n",
      "HR : 0.2588144232252435\n",
      "K : 0.6550280878601592\n",
      "Lactate : 0.43134150452070036\n",
      "MAP : 0.2979963064784564\n",
      "MechVent : 0.014702130836156856\n",
      "Mg : 0.5176686227837493\n",
      "NIDiasABP : 0.24291189024323895\n",
      "NIMAP : 0.1690201310372932\n",
      "NISysABP : 0.29837096521961476\n",
      "Na : 0.502086181740241\n",
      "PaCO2 : 0.49416713903690274\n",
      "PaO2 : 0.4727345623845732\n",
      "Platelets : 0.4047181986329729\n",
      "RespRate : 0.44960509788006847\n",
      "SaO2 : 0.4141179589082745\n",
      "SysABP : 0.2819554553056942\n",
      "Temp : 0.3193424809075919\n",
      "TroponinI : 0.7815671462449019\n",
      "TroponinT : 0.6521499601576289\n",
      "Urine : 0.43339483783359545\n",
      "WBC : 0.1419376404658974\n",
      "Weight : 0.0943088871770631\n",
      "Ph : 0.10106474304147786\n",
      "Obesity 1\n",
      "-------------\n",
      "ALP : 0.18400896078744935\n",
      "ALT : 0.27479772509252653\n",
      "AST : 0.20761888718646812\n",
      "Albumin : 0.4678073342956157\n",
      "BUN : 0.21044230762157795\n",
      "Bilirubin : 0.33520596743270936\n",
      "Cholesterol : 0.533448695300611\n",
      "Creatinine : 0.1799105468834988\n",
      "DiasABP : 0.2518883460774736\n",
      "FiO2 : 0.5079578321422784\n",
      "GCS : 0.28841094634461406\n",
      "Glucose : 0.45359434929525494\n",
      "HCO3 : 0.38048598235789793\n",
      "HCT : 0.5419350782865942\n",
      "HR : 0.25093179108427516\n",
      "K : 0.532058547319302\n",
      "Lactate : 0.4216215920533188\n",
      "MAP : 0.2879793521662811\n",
      "MechVent : 0.014115385650734221\n",
      "Mg : 0.48344316531345627\n",
      "NIDiasABP : 0.2152836310990449\n",
      "NIMAP : 0.170465612597922\n",
      "NISysABP : 0.291262808547087\n",
      "Na : 0.42102618947302384\n",
      "PaCO2 : 0.4519336284259322\n",
      "PaO2 : 0.4730424200006403\n",
      "Platelets : 0.3754422356532115\n",
      "RespRate : 0.4756354670719129\n",
      "SaO2 : 0.39481287972765033\n",
      "SysABP : 0.24881056360227005\n",
      "Temp : 0.2900064723711995\n",
      "TroponinI : 0.5224272630775174\n",
      "TroponinT : 0.41264737268917023\n",
      "Urine : 0.4936619752794534\n",
      "WBC : 0.22413113608635968\n",
      "Weight : 0.1304530711495871\n",
      "Ph : 1.006255796754588\n",
      "Obesity 2\n",
      "-------------\n",
      "ALP : 0.34720343498597234\n",
      "ALT : 0.31863909400009244\n",
      "AST : 0.23774769377594063\n",
      "Albumin : 0.6702086021936785\n",
      "BUN : 0.30935446872649575\n",
      "Bilirubin : 0.31008297193146606\n",
      "Cholesterol : 0.34742168656195943\n",
      "Creatinine : 0.19261190161523864\n",
      "DiasABP : 0.23569545157721455\n",
      "FiO2 : 0.5011276401557136\n",
      "GCS : 0.29964908925461786\n",
      "Glucose : 0.5785858812930539\n",
      "HCO3 : 0.31092863637627677\n",
      "HCT : 0.5370006682105836\n",
      "HR : 0.25634973222370155\n",
      "K : 0.5334584042131985\n",
      "Lactate : 0.36346151190825365\n",
      "MAP : 0.2642258991318295\n",
      "MechVent : 0.014135564845360462\n",
      "Mg : 0.6478874718171411\n",
      "NIDiasABP : 0.24214911449447452\n",
      "NIMAP : 0.16175606080261223\n",
      "NISysABP : 0.2982500798851418\n",
      "Na : 0.40483834455047285\n",
      "PaCO2 : 0.42726822705067147\n",
      "PaO2 : 0.34605671365275403\n",
      "Platelets : 0.3990161537230884\n",
      "RespRate : 0.4865477498851497\n",
      "SaO2 : 0.43839534927863577\n",
      "SysABP : 0.2649227032451148\n",
      "Temp : 0.3646586984958128\n",
      "TroponinI : 0.0\n",
      "TroponinT : 1.4516069413777122\n",
      "Urine : 0.4421581218643976\n",
      "WBC : 0.15796966173994165\n",
      "Weight : 0.13770711936213686\n",
      "Ph : 0.09473672468932415\n",
      "Obesity 3\n",
      "-------------\n",
      "ALP : 0.26665259756503873\n",
      "ALT : 0.8236240396126422\n",
      "AST : 0.20938207998247632\n",
      "Albumin : 0.7297137518792408\n",
      "BUN : 0.2516669992295612\n",
      "Bilirubin : 0.21676782881717052\n",
      "Cholesterol : 0.0\n",
      "Creatinine : 0.19265773496319236\n",
      "DiasABP : 0.2502527325780307\n",
      "FiO2 : 0.5735210085673579\n",
      "GCS : 0.2951485458540803\n",
      "Glucose : 0.6320320491232778\n",
      "HCO3 : 0.47361247181960775\n",
      "HCT : 0.5854945514051753\n",
      "HR : 0.266090797223071\n",
      "K : 0.6008334597220697\n",
      "Lactate : 0.390224679975096\n",
      "MAP : 0.2799772809188953\n",
      "MechVent : 0.021395701971129225\n",
      "Mg : 0.5486795649201875\n",
      "NIDiasABP : 0.3189410755191813\n",
      "NIMAP : 0.22298470980969912\n",
      "NISysABP : 0.3402708648337854\n",
      "Na : 0.45356223803465145\n",
      "PaCO2 : 0.5548234278393724\n",
      "PaO2 : 0.3977623135185552\n",
      "Platelets : 0.2595095026396364\n",
      "RespRate : 0.4697042368536284\n",
      "SaO2 : 0.49033226666541574\n",
      "SysABP : 0.26691419256912174\n",
      "Temp : 0.33122930993312305\n",
      "TroponinI : 0.2639563268332174\n",
      "TroponinT : 1.03692539683769\n",
      "Urine : 0.5549327936792929\n",
      "WBC : 0.109518769933865\n",
      "Weight : 0.2884505055718383\n",
      "Ph : 0.10165069721581442\n"
     ]
    }
   ],
   "source": [
    "print(\"SAITS - MAE\")\n",
    "print(\"************\")\n",
    "toolkits.show_mae(testing_mae_saits_variables_standard, subgroups, variables)"
   ]
  },
  {
   "cell_type": "markdown",
   "metadata": {},
   "source": [
    "#### BRITS"
   ]
  },
  {
   "cell_type": "markdown",
   "metadata": {},
   "source": [
    "<h4>Standard Scaler (C/Normalização)</h4>"
   ]
  },
  {
   "cell_type": "code",
   "execution_count": 47,
   "metadata": {},
   "outputs": [
    {
     "name": "stdout",
     "output_type": "stream",
     "text": [
      "BRITS - MAE\n",
      "************\n",
      "General\n",
      "-------------\n",
      "ALP : 0.4591248631105258\n",
      "ALT : 0.2098298479270722\n",
      "AST : 0.27798859929904113\n",
      "Albumin : 0.6778925772529109\n",
      "BUN : 0.39521960833661646\n",
      "Bilirubin : 0.3833806392125974\n",
      "Cholesterol : 0.9463970561439892\n",
      "Creatinine : 0.3444718062995419\n",
      "DiasABP : 0.20806233248448402\n",
      "FiO2 : 0.34404522156046397\n",
      "GCS : 0.21322463397612945\n",
      "Glucose : 0.5644091100017328\n",
      "HCO3 : 0.5047606820899914\n",
      "HCT : 0.6338702223060172\n",
      "HR : 0.2431173715923441\n",
      "K : 0.6534995938478387\n",
      "Lactate : 0.4167839664888235\n",
      "MAP : 0.1564062923159312\n",
      "MechVent : 0.007398844359593802\n",
      "Mg : 0.5955810654854342\n",
      "NIDiasABP : 0.15725503986364742\n",
      "NIMAP : 0.09992748699932849\n",
      "NISysABP : 0.2543230216923866\n",
      "Na : 0.645442078485974\n",
      "PaCO2 : 1.1895743136362507\n",
      "PaO2 : 0.4776378612780617\n",
      "Platelets : 0.6445916196510731\n",
      "RespRate : 0.475295251812804\n",
      "SaO2 : 0.348066606252948\n",
      "SysABP : 0.25398352012962805\n",
      "Temp : 0.240561647460938\n",
      "TroponinI : 0.667214116433886\n",
      "TroponinT : 0.29949287221387894\n",
      "Urine : 0.3333883323992429\n",
      "WBC : 0.11011727656670119\n",
      "Weight : 0.061343608674303114\n",
      "Ph : 0.09434882258501495\n",
      "Female\n",
      "-------------\n",
      "ALP : 0.4723506060964951\n",
      "ALT : 0.10185940270651278\n",
      "AST : 0.3024434105433227\n",
      "Albumin : 0.665510604378843\n",
      "BUN : 0.4113747807022737\n",
      "Bilirubin : 0.2838089989257803\n",
      "Cholesterol : 1.316313407512585\n",
      "Creatinine : 0.24691153072314567\n",
      "DiasABP : 0.20953470568278365\n",
      "FiO2 : 0.3423848620348628\n",
      "GCS : 0.2043228152819799\n",
      "Glucose : 0.5565665284887615\n",
      "HCO3 : 0.5505021337194226\n",
      "HCT : 0.6286522264246752\n",
      "HR : 0.25052768923637475\n",
      "K : 0.6733337041789217\n",
      "Lactate : 0.37083533033464083\n",
      "MAP : 0.17368796932726147\n",
      "MechVent : 0.006747703165370343\n",
      "Mg : 0.5734723996652004\n",
      "NIDiasABP : 0.171616260566208\n",
      "NIMAP : 0.11001844506444602\n",
      "NISysABP : 0.24881364491287325\n",
      "Na : 0.7008539967625157\n",
      "PaCO2 : 0.4713282698741606\n",
      "PaO2 : 0.4830146700509505\n",
      "Platelets : 0.6582186111110372\n",
      "RespRate : 0.47974851937853763\n",
      "SaO2 : 0.5769435136586006\n",
      "SysABP : 0.2563772569274273\n",
      "Temp : 0.2787855930853742\n",
      "TroponinI : 0.5303692965576018\n",
      "TroponinT : 0.3245388350346032\n",
      "Urine : 0.2907085974782619\n",
      "WBC : 0.10292654766948946\n",
      "Weight : 0.058495756343322096\n",
      "Ph : 0.03429932490073132\n",
      "Male\n",
      "-------------\n",
      "ALP : 0.5215964049368691\n",
      "ALT : 0.17952189284762848\n",
      "AST : 0.1218574267659091\n",
      "Albumin : 0.6612546921434758\n",
      "BUN : 0.47313963159998557\n",
      "Bilirubin : 0.26849129729876614\n",
      "Cholesterol : 0.8875399756459856\n",
      "Creatinine : 0.4086673829090625\n",
      "DiasABP : 0.20264285017787084\n",
      "FiO2 : 0.38881632905193675\n",
      "GCS : 0.2186207716677957\n",
      "Glucose : 0.603617366635926\n",
      "HCO3 : 0.5260285713813688\n",
      "HCT : 0.6577512627839873\n",
      "HR : 0.24469221838481164\n",
      "K : 0.6205738686899485\n",
      "Lactate : 0.46896165513656884\n",
      "MAP : 0.17239117172685828\n",
      "MechVent : 0.007949415685690596\n",
      "Mg : 0.6120408841248812\n",
      "NIDiasABP : 0.1794684942766366\n",
      "NIMAP : 0.09810443253373032\n",
      "NISysABP : 0.268271125363514\n",
      "Na : 0.6412099776834559\n",
      "PaCO2 : 0.4493377474437719\n",
      "PaO2 : 0.4545439572326916\n",
      "Platelets : 0.612818281347822\n",
      "RespRate : 0.467461971962203\n",
      "SaO2 : 0.9631436680048339\n",
      "SysABP : 0.2636333764634343\n",
      "Temp : 0.2618033821093185\n",
      "TroponinI : 0.7457781083685382\n",
      "TroponinT : 0.35635717138502854\n",
      "Urine : 0.35533738916222685\n",
      "WBC : 0.12021228957177517\n",
      "Weight : 0.05476369622940294\n",
      "Ph : 0.033856753411456164\n",
      "Undefined Gender\n",
      "-------------\n",
      "ALP : 0.0\n",
      "ALT : 0.0\n",
      "AST : 0.0\n",
      "Albumin : 0.0\n",
      "BUN : 0.0\n",
      "Bilirubin : 0.0\n",
      "Cholesterol : 0.0\n",
      "Creatinine : 0.0\n",
      "DiasABP : 0.22980983675459624\n",
      "FiO2 : 0.0\n",
      "GCS : 0.14707111012435606\n",
      "Glucose : 0.17436763908190725\n",
      "HCO3 : 0.17130932884417974\n",
      "HCT : 0.0\n",
      "HR : 0.23982270529582114\n",
      "K : 0.6736702746131231\n",
      "Lactate : 0.0\n",
      "MAP : 0.2091442986656935\n",
      "MechVent : 0.0\n",
      "Mg : 0.29485065260222343\n",
      "NIDiasABP : 0.10616918709994408\n",
      "NIMAP : 0.03621224869521595\n",
      "NISysABP : 0.1752217960362967\n",
      "Na : 0.0\n",
      "PaCO2 : 0.0\n",
      "PaO2 : 0.0\n",
      "Platelets : 0.0\n",
      "RespRate : 0.0400015153054625\n",
      "SaO2 : 0.0\n",
      "SysABP : 0.16993852308729698\n",
      "Temp : 0.2700471093470768\n",
      "TroponinI : 0.0\n",
      "TroponinT : 0.0\n",
      "Urine : 0.43804126444544544\n",
      "WBC : 0.03161171541118861\n",
      "Weight : 0.05161361931011131\n",
      "Ph : 0.0556431329838706\n",
      "+65\n",
      "-------------\n",
      "ALP : 0.6139276875470061\n",
      "ALT : 0.16661796494731473\n",
      "AST : 0.11231389534968526\n",
      "Albumin : 0.5836759288639979\n",
      "BUN : 0.464618689040678\n",
      "Bilirubin : 0.20617572465729786\n",
      "Cholesterol : 0.6823737259303551\n",
      "Creatinine : 0.27308273791356236\n",
      "DiasABP : 0.20360374094325154\n",
      "FiO2 : 0.35481623175871957\n",
      "GCS : 0.21487467722500322\n",
      "Glucose : 0.5931292783216062\n",
      "HCO3 : 0.5569039079976261\n",
      "HCT : 0.6264365382379675\n",
      "HR : 0.24664962221575157\n",
      "K : 0.5674112711104881\n",
      "Lactate : 0.3447885841303662\n",
      "MAP : 0.16817922488533305\n",
      "MechVent : 0.006393708231510704\n",
      "Mg : 0.5828684766261554\n",
      "NIDiasABP : 0.17613327256825403\n",
      "NIMAP : 0.10245148090559356\n",
      "NISysABP : 0.2622773614437512\n",
      "Na : 0.6382337104724226\n",
      "PaCO2 : 0.4270872061767273\n",
      "PaO2 : 0.4433359983434221\n",
      "Platelets : 0.6311261314997352\n",
      "RespRate : 0.464163753842074\n",
      "SaO2 : 1.119685603436657\n",
      "SysABP : 0.24270334262915186\n",
      "Temp : 0.2607230565209776\n",
      "TroponinI : 0.9119257419088436\n",
      "TroponinT : 0.29011904542128597\n",
      "Urine : 0.2979858721146089\n",
      "WBC : 0.12921001148439032\n",
      "Weight : 0.05210631258514696\n",
      "Ph : 0.034264149846147514\n",
      "-65\n",
      "-------------\n",
      "ALP : 1.0636881623060819\n",
      "ALT : 0.2735435854778693\n",
      "AST : 0.18019205307797337\n",
      "Albumin : 0.7094750442946227\n",
      "BUN : 0.3895165083146161\n",
      "Bilirubin : 0.4587133510263586\n",
      "Cholesterol : 1.073912175651407\n",
      "Creatinine : 0.3588470880086742\n",
      "DiasABP : 0.19245403222543708\n",
      "FiO2 : 0.3505449085183805\n",
      "GCS : 0.20944339475315704\n",
      "Glucose : 0.6255228271981214\n",
      "HCO3 : 0.5169113299196821\n",
      "HCT : 0.6489331965921082\n",
      "HR : 0.23947139124799602\n",
      "K : 0.652338151130609\n",
      "Lactate : 0.40066244246559257\n",
      "MAP : 0.167137415328473\n",
      "MechVent : 0.006916098969701905\n",
      "Mg : 0.580303613533964\n",
      "NIDiasABP : 0.16885866230722066\n",
      "NIMAP : 0.09914076013161573\n",
      "NISysABP : 0.23056336257911633\n",
      "Na : 0.6870381726531565\n",
      "PaCO2 : 0.4748882859640983\n",
      "PaO2 : 0.49121169526686703\n",
      "Platelets : 0.6481755142099096\n",
      "RespRate : 0.45912915489840317\n",
      "SaO2 : 0.5723564092567668\n",
      "SysABP : 0.23994664850954725\n",
      "Temp : 0.28637528512807425\n",
      "TroponinI : 0.49986266483938097\n",
      "TroponinT : 0.2732675308603129\n",
      "Urine : 0.40461652646259394\n",
      "WBC : 0.10064864675162888\n",
      "Weight : 0.07002787995366835\n",
      "Ph : 0.03434062214111563\n",
      "ICUType 1\n",
      "-------------\n",
      "ALP : 0.21429404115332343\n",
      "ALT : 0.2581801300301483\n",
      "AST : 0.33178126247951295\n",
      "Albumin : 0.7795431067067613\n",
      "BUN : 0.45694149685238206\n",
      "Bilirubin : 0.09211021349268975\n",
      "Cholesterol : 0.9010749013573103\n",
      "Creatinine : 0.419311123003968\n",
      "DiasABP : 0.23678005881187394\n",
      "FiO2 : 0.374378265919465\n",
      "GCS : 0.2038090796235315\n",
      "Glucose : 0.6636422596322207\n",
      "HCO3 : 0.5872057761431685\n",
      "HCT : 0.6735562717127876\n",
      "HR : 0.23230041450759267\n",
      "K : 0.5692670582205115\n",
      "Lactate : 0.5705112274014941\n",
      "MAP : 0.21619866637285068\n",
      "MechVent : 0.008637714899469963\n",
      "Mg : 0.4940388561607047\n",
      "NIDiasABP : 0.14852225860866225\n",
      "NIMAP : 0.10304036882919866\n",
      "NISysABP : 0.23356944269831867\n",
      "Na : 0.6295341062207888\n",
      "PaCO2 : 0.4460020415645519\n",
      "PaO2 : 0.5097461645216232\n",
      "Platelets : 0.672138205783098\n",
      "RespRate : 0.45485402868744584\n",
      "SaO2 : 0.5290305045509542\n",
      "SysABP : 0.2491616258210433\n",
      "Temp : 0.30488061957347534\n",
      "TroponinI : 1.3357495404853446\n",
      "TroponinT : 0.7301628433450863\n",
      "Urine : 0.4167260709074527\n",
      "WBC : 0.07683291915269803\n",
      "Weight : 0.06849367638204516\n",
      "Ph : 0.030558348070987642\n",
      "ICUType 2\n",
      "-------------\n",
      "ALP : 0.19531430410975956\n",
      "ALT : 0.3376544799444255\n",
      "AST : 0.1347119700063337\n",
      "Albumin : 0.8852134722690953\n",
      "BUN : 0.26832096096802\n",
      "Bilirubin : 0.27272123717330327\n",
      "Cholesterol : 0.0\n",
      "Creatinine : 0.24883777267109647\n",
      "DiasABP : 0.16342700348578848\n",
      "FiO2 : 0.38126390970195\n",
      "GCS : 0.30304707034070466\n",
      "Glucose : 0.45814523549110603\n",
      "HCO3 : 0.38453645965130007\n",
      "HCT : 0.5663671025173816\n",
      "HR : 0.20333948768967725\n",
      "K : 0.7169520210140458\n",
      "Lactate : 0.49089069805811686\n",
      "MAP : 0.12399126611137468\n",
      "MechVent : 0.0045470762204839815\n",
      "Mg : 0.6809313862849475\n",
      "NIDiasABP : 0.14023673159191055\n",
      "NIMAP : 0.08927905374144886\n",
      "NISysABP : 0.24106304978828133\n",
      "Na : 0.5489466674638851\n",
      "PaCO2 : 0.404779729740442\n",
      "PaO2 : 0.47975411294684656\n",
      "Platelets : 0.4379493720418077\n",
      "RespRate : 0.4024650069258371\n",
      "SaO2 : 1.0038150117625755\n",
      "SysABP : 0.2185769457414861\n",
      "Temp : 0.14236676154537684\n",
      "TroponinI : 0.4735419592927507\n",
      "TroponinT : 0.06727051854912473\n",
      "Urine : 0.32264377679132505\n",
      "WBC : 0.1011110746985043\n",
      "Weight : 0.05194238298686153\n",
      "Ph : 0.02975463156459906\n",
      "ICUType 3\n",
      "-------------\n",
      "ALP : 1.1319355964563258\n",
      "ALT : 0.2995858257506662\n",
      "AST : 0.2377097141452593\n",
      "Albumin : 0.7827799488876444\n",
      "BUN : 0.6103098939992797\n",
      "Bilirubin : 0.3244942370506455\n",
      "Cholesterol : 0.6752377324766219\n",
      "Creatinine : 0.555937526097571\n",
      "DiasABP : 0.2370137817044195\n",
      "FiO2 : 0.3768143364849355\n",
      "GCS : 0.21264294218365293\n",
      "Glucose : 0.707951162943939\n",
      "HCO3 : 0.602549026119126\n",
      "HCT : 0.7129688158427555\n",
      "HR : 0.2554595571034168\n",
      "K : 0.7719118482303486\n",
      "Lactate : 0.57317257847132\n",
      "MAP : 0.16398542448538325\n",
      "MechVent : 0.00760112133350753\n",
      "Mg : 0.6315667436307268\n",
      "NIDiasABP : 0.17200759852307665\n",
      "NIMAP : 0.10325422969649826\n",
      "NISysABP : 0.26438515247634004\n",
      "Na : 0.7431216352207282\n",
      "PaCO2 : 0.5744665014612812\n",
      "PaO2 : 0.43359116696408256\n",
      "Platelets : 0.7185112315315914\n",
      "RespRate : 0.4982288288068531\n",
      "SaO2 : 1.5844865910892845\n",
      "SysABP : 0.2505426687967661\n",
      "Temp : 0.40589916865376313\n",
      "TroponinI : 0.6548831596564006\n",
      "TroponinT : 0.1892988307891216\n",
      "Urine : 0.33314639767832954\n",
      "WBC : 0.12372964859197197\n",
      "Weight : 0.056980016713780134\n",
      "Ph : 0.040306564935335736\n",
      "ICUType 4\n",
      "-------------\n",
      "ALP : 0.4880105350578216\n",
      "ALT : 0.19696644537553096\n",
      "AST : 0.28236643950506884\n",
      "Albumin : 0.7714529599983173\n",
      "BUN : 0.33333342535755056\n",
      "Bilirubin : 0.3788552943103315\n",
      "Cholesterol : 0.7928976981913323\n",
      "Creatinine : 0.23604907454128982\n",
      "DiasABP : 0.19973986175367006\n",
      "FiO2 : 0.3042785909579463\n",
      "GCS : 0.18503588300275897\n",
      "Glucose : 0.44089741110689723\n",
      "HCO3 : 0.4587680980767785\n",
      "HCT : 0.5838082711303783\n",
      "HR : 0.2652384939076581\n",
      "K : 0.545810121486171\n",
      "Lactate : 0.43933939354316753\n",
      "MAP : 0.16567214348765347\n",
      "MechVent : 0.007131627306736024\n",
      "Mg : 0.5650615274900468\n",
      "NIDiasABP : 0.20067569385785122\n",
      "NIMAP : 0.11035524063785297\n",
      "NISysABP : 0.2543025121402656\n",
      "Na : 0.6498249413239858\n",
      "PaCO2 : 0.41856534547878854\n",
      "PaO2 : 0.4749503234569555\n",
      "Platelets : 0.5888607969848242\n",
      "RespRate : 0.479565781019045\n",
      "SaO2 : 0.4499743958385365\n",
      "SysABP : 0.26747266667253156\n",
      "Temp : 0.33674239820307833\n",
      "TroponinI : 0.8218961397479049\n",
      "TroponinT : 0.1419773167645441\n",
      "Urine : 0.3509608903614174\n",
      "WBC : 0.09260053217063353\n",
      "Weight : 0.069836462496089\n",
      "Ph : 0.033616300790217164\n",
      "Undefined classification\n",
      "-------------\n",
      "ALP : 0.39790371345674475\n",
      "ALT : 0.19172565438616368\n",
      "AST : 0.13153872839945505\n",
      "Albumin : 0.838276900298598\n",
      "BUN : 0.45586372828883437\n",
      "Bilirubin : 0.3873388207391975\n",
      "Cholesterol : 0.53588790913259\n",
      "Creatinine : 0.41643045331263073\n",
      "DiasABP : 0.22900197229128144\n",
      "FiO2 : 0.34778613622637844\n",
      "GCS : 0.17922953730434166\n",
      "Glucose : 0.6181262748167153\n",
      "HCO3 : 0.5813982322816289\n",
      "HCT : 0.6735661676448251\n",
      "HR : 0.25332483669988765\n",
      "K : 0.6563168132803636\n",
      "Lactate : 0.3978515125936538\n",
      "MAP : 0.18176742983790903\n",
      "MechVent : 0.007929447085111131\n",
      "Mg : 0.53081088988258\n",
      "NIDiasABP : 0.17323382656528202\n",
      "NIMAP : 0.1075290016529028\n",
      "NISysABP : 0.2656436935844474\n",
      "Na : 0.7455026127169506\n",
      "PaCO2 : 0.5436556789395893\n",
      "PaO2 : 0.46961966264764504\n",
      "Platelets : 0.7455531618163324\n",
      "RespRate : 0.4765604867770865\n",
      "SaO2 : 0.589795314790989\n",
      "SysABP : 0.26692383324653385\n",
      "Temp : 0.3225781660444751\n",
      "TroponinI : 0.8013257153823315\n",
      "TroponinT : 0.21074734135365814\n",
      "Urine : 0.3513313082920576\n",
      "WBC : 0.1285670924965216\n",
      "Weight : 0.06705555865889884\n",
      "Ph : 0.03558597868035275\n",
      "Low Weight\n",
      "-------------\n",
      "ALP : 2.5859758306247667\n",
      "ALT : 0.17799734786844357\n",
      "AST : 0.4335928173362818\n",
      "Albumin : 0.7776317029298222\n",
      "BUN : 0.381064250322003\n",
      "Bilirubin : 1.4060455098444173\n",
      "Cholesterol : 0.04761234409837737\n",
      "Creatinine : 0.20557950546841458\n",
      "DiasABP : 0.27353441777771015\n",
      "FiO2 : 0.4158277669529153\n",
      "GCS : 0.1741183440417657\n",
      "Glucose : 1.0195911424203579\n",
      "HCO3 : 0.7924631976940644\n",
      "HCT : 0.7487795161853613\n",
      "HR : 0.2830660203422633\n",
      "K : 0.5882501398851276\n",
      "Lactate : 0.7647298881702621\n",
      "MAP : 0.19232879891296362\n",
      "MechVent : 0.0029262990424138184\n",
      "Mg : 0.44509009049033876\n",
      "NIDiasABP : 0.21712455921144505\n",
      "NIMAP : 0.15016259018620265\n",
      "NISysABP : 0.23462167196304404\n",
      "Na : 0.747091980486378\n",
      "PaCO2 : 0.5121103433216122\n",
      "PaO2 : 0.7041287837229829\n",
      "Platelets : 0.7668751861339025\n",
      "RespRate : 0.6312024390511606\n",
      "SaO2 : 0.3004723366474603\n",
      "SysABP : 0.23835529975394149\n",
      "Temp : 0.1711607926554087\n",
      "TroponinI : 0.0\n",
      "TroponinT : 0.7433620791796637\n",
      "Urine : 0.36849824993172275\n",
      "WBC : 0.1148269967426491\n",
      "Weight : 0.07378457715481274\n",
      "Ph : 0.041060909769780676\n",
      "Normal Weight\n",
      "-------------\n",
      "ALP : 0.4962903641851341\n",
      "ALT : 0.106276294434315\n",
      "AST : 0.10143195664055009\n",
      "Albumin : 0.8854814820256399\n",
      "BUN : 0.47876840516483604\n",
      "Bilirubin : 0.5099003695848664\n",
      "Cholesterol : 0.8043943958919914\n",
      "Creatinine : 0.42613099309287716\n",
      "DiasABP : 0.1846474473782319\n",
      "FiO2 : 0.3413166786305763\n",
      "GCS : 0.23691959476300767\n",
      "Glucose : 0.5385772929452661\n",
      "HCO3 : 0.5148989904560731\n",
      "HCT : 0.5767461159116185\n",
      "HR : 0.2377640064163499\n",
      "K : 0.6571096215610885\n",
      "Lactate : 0.38077467086971684\n",
      "MAP : 0.14275271410137025\n",
      "MechVent : 0.006744162132749256\n",
      "Mg : 0.61180100606523\n",
      "NIDiasABP : 0.1721178258555819\n",
      "NIMAP : 0.10959498310837086\n",
      "NISysABP : 0.24574010758978068\n",
      "Na : 0.7240016321805112\n",
      "PaCO2 : 0.4330646801289352\n",
      "PaO2 : 0.479167797030017\n",
      "Platelets : 0.5159058265630863\n",
      "RespRate : 0.4414410329906371\n",
      "SaO2 : 2.130322246245731\n",
      "SysABP : 0.22681972074572634\n",
      "Temp : 0.2129417641999729\n",
      "TroponinI : 0.6103419620407192\n",
      "TroponinT : 0.2515272458320375\n",
      "Urine : 0.29176607284330514\n",
      "WBC : 0.11436998658891447\n",
      "Weight : 0.05189123889816756\n",
      "Ph : 0.03194186560855869\n",
      "Overweight\n",
      "-------------\n",
      "ALP : 0.2772861638975251\n",
      "ALT : 0.4327663928963471\n",
      "AST : 0.257115142803943\n",
      "Albumin : 0.8378403877776063\n",
      "BUN : 0.4133869229451422\n",
      "Bilirubin : 0.18490524779760764\n",
      "Cholesterol : 1.4074519849451501\n",
      "Creatinine : 0.27701539589417357\n",
      "DiasABP : 0.19725260075322698\n",
      "FiO2 : 0.3193197218101694\n",
      "GCS : 0.23241141749538505\n",
      "Glucose : 0.5934474876708229\n",
      "HCO3 : 0.4341573446773748\n",
      "HCT : 0.6275833744961139\n",
      "HR : 0.22301872560498445\n",
      "K : 0.7244187944821874\n",
      "Lactate : 0.49460970075108696\n",
      "MAP : 0.1585589245644289\n",
      "MechVent : 0.005137604424881064\n",
      "Mg : 0.5412731903849497\n",
      "NIDiasABP : 0.16362712799213097\n",
      "NIMAP : 0.10431434463629911\n",
      "NISysABP : 0.2629100067206372\n",
      "Na : 0.6013471323715319\n",
      "PaCO2 : 0.4263496568227384\n",
      "PaO2 : 0.4645550129620849\n",
      "Platelets : 0.5840428768647151\n",
      "RespRate : 0.4362701018888862\n",
      "SaO2 : 0.3669937008743688\n",
      "SysABP : 0.2542644954919052\n",
      "Temp : 0.17729370132515954\n",
      "TroponinI : 0.9860307763413633\n",
      "TroponinT : 0.47114868666444315\n",
      "Urine : 0.2960574852250147\n",
      "WBC : 0.08651313940758122\n",
      "Weight : 0.032966540842643124\n",
      "Ph : 0.03215343553081844\n",
      "Obesity 1\n",
      "-------------\n",
      "ALP : 0.26975448244155975\n",
      "ALT : 0.15100841085094263\n",
      "AST : 0.16042726089404086\n",
      "Albumin : 0.6676934400304179\n",
      "BUN : 0.45912361486103803\n",
      "Bilirubin : 0.3923146609260682\n",
      "Cholesterol : 0.599187118717601\n",
      "Creatinine : 0.275718291502191\n",
      "DiasABP : 0.20274253014020843\n",
      "FiO2 : 0.3472708332707567\n",
      "GCS : 0.20822374193529478\n",
      "Glucose : 0.4496130349305441\n",
      "HCO3 : 0.4978172173656881\n",
      "HCT : 0.6070131936016211\n",
      "HR : 0.22150992695002622\n",
      "K : 0.5464786518033781\n",
      "Lactate : 0.48315129161656956\n",
      "MAP : 0.16224608907260032\n",
      "MechVent : 0.005072495616452731\n",
      "Mg : 0.4246109332214774\n",
      "NIDiasABP : 0.1663817182782588\n",
      "NIMAP : 0.095418836167388\n",
      "NISysABP : 0.22946847270130952\n",
      "Na : 0.5584640136111128\n",
      "PaCO2 : 0.3990978689418045\n",
      "PaO2 : 0.40376655685807045\n",
      "Platelets : 0.5718058615731684\n",
      "RespRate : 0.4676968344446153\n",
      "SaO2 : 0.32937643050723575\n",
      "SysABP : 0.21232750466710149\n",
      "Temp : 0.16908857909540534\n",
      "TroponinI : 0.7087310686372978\n",
      "TroponinT : 0.29414887658309413\n",
      "Urine : 0.36729827049074865\n",
      "WBC : 0.1685700762296497\n",
      "Weight : 0.048006022759479024\n",
      "Ph : 0.9219915917887068\n",
      "Obesity 2\n",
      "-------------\n",
      "ALP : 0.18852991955371212\n",
      "ALT : 0.5270280689113964\n",
      "AST : 0.0677546955336191\n",
      "Albumin : 0.7338459537382418\n",
      "BUN : 0.6169488981591036\n",
      "Bilirubin : 0.23479156374440102\n",
      "Cholesterol : 0.13450236937629362\n",
      "Creatinine : 0.2590174318875355\n",
      "DiasABP : 0.26985196427274927\n",
      "FiO2 : 0.3410687842563565\n",
      "GCS : 0.22034749275431972\n",
      "Glucose : 0.6385296582110063\n",
      "HCO3 : 0.3636229995396799\n",
      "HCT : 0.6774786966293793\n",
      "HR : 0.23100515222465837\n",
      "K : 0.5939747543616427\n",
      "Lactate : 0.4153820175306169\n",
      "MAP : 0.14971684826702272\n",
      "MechVent : 0.006225074061238273\n",
      "Mg : 0.6004736370267224\n",
      "NIDiasABP : 0.1492638340409856\n",
      "NIMAP : 0.07517616278120039\n",
      "NISysABP : 0.2433631123671284\n",
      "Na : 0.641076339710838\n",
      "PaCO2 : 0.3891606206961462\n",
      "PaO2 : 0.37374229428271516\n",
      "Platelets : 0.5454592569232325\n",
      "RespRate : 0.4807060604304131\n",
      "SaO2 : 0.4867489966871226\n",
      "SysABP : 0.2533317391658555\n",
      "Temp : 0.24531780296280956\n",
      "TroponinI : 0.0\n",
      "TroponinT : 1.5021143882386014\n",
      "Urine : 0.3161319477575084\n",
      "WBC : 0.08854435866824292\n",
      "Weight : 0.06995092663799614\n",
      "Ph : 0.02836781537278077\n",
      "Obesity 3\n",
      "-------------\n",
      "ALP : 0.16918823301001173\n",
      "ALT : 0.9591789115306165\n",
      "AST : 0.04030043808009506\n",
      "Albumin : 0.6424705037102209\n",
      "BUN : 0.4836050642436051\n",
      "Bilirubin : 0.17588154627104385\n",
      "Cholesterol : 0.0\n",
      "Creatinine : 0.41286498529755705\n",
      "DiasABP : 0.166893427169621\n",
      "FiO2 : 0.4649176488288047\n",
      "GCS : 0.20047231113013103\n",
      "Glucose : 0.8388128156999365\n",
      "HCO3 : 0.5854974452919642\n",
      "HCT : 0.6587657563537436\n",
      "HR : 0.22860343362708246\n",
      "K : 0.6904999007157137\n",
      "Lactate : 0.4508896428531816\n",
      "MAP : 0.1200296859042669\n",
      "MechVent : 0.008663791491290877\n",
      "Mg : 0.6279912917260078\n",
      "NIDiasABP : 0.2741680251726211\n",
      "NIMAP : 0.1345101710143888\n",
      "NISysABP : 0.29828996465138213\n",
      "Na : 0.6668684734099526\n",
      "PaCO2 : 0.4409441729273346\n",
      "PaO2 : 0.35097743918923385\n",
      "Platelets : 0.40546031327010756\n",
      "RespRate : 0.4454424101820082\n",
      "SaO2 : 0.47966155915104886\n",
      "SysABP : 0.23309849496293736\n",
      "Temp : 0.1648622070152438\n",
      "TroponinI : 0.11155261456072578\n",
      "TroponinT : 1.1786538213799647\n",
      "Urine : 0.30551383092853696\n",
      "WBC : 0.07513035751340588\n",
      "Weight : 0.1333929823412296\n",
      "Ph : 0.03355689977648614\n"
     ]
    }
   ],
   "source": [
    "print(\"BRITS - MAE\")\n",
    "print(\"************\")\n",
    "toolkits.show_mae(testing_mae_brits_variables_standard, subgroups, variables)"
   ]
  }
 ],
 "metadata": {
  "kernelspec": {
   "display_name": "Python 3",
   "language": "python",
   "name": "python3"
  },
  "language_info": {
   "codemirror_mode": {
    "name": "ipython",
    "version": 3
   },
   "file_extension": ".py",
   "mimetype": "text/x-python",
   "name": "python",
   "nbconvert_exporter": "python",
   "pygments_lexer": "ipython3",
   "version": "3.11.0rc1"
  }
 },
 "nbformat": 4,
 "nbformat_minor": 2
}

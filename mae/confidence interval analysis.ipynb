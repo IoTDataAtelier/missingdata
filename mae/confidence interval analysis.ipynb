{
 "cells": [
  {
   "cell_type": "markdown",
   "metadata": {},
   "source": [
    "# Import libraries"
   ]
  },
  {
   "cell_type": "code",
   "execution_count": 1,
   "metadata": {},
   "outputs": [
    {
     "name": "stderr",
     "output_type": "stream",
     "text": [
      "2025-05-01 07:56:30.259123: E external/local_xla/xla/stream_executor/cuda/cuda_fft.cc:477] Unable to register cuFFT factory: Attempting to register factory for plugin cuFFT when one has already been registered\n",
      "WARNING: All log messages before absl::InitializeLog() is called are written to STDERR\n",
      "E0000 00:00:1746096990.282509 1240605 cuda_dnn.cc:8310] Unable to register cuDNN factory: Attempting to register factory for plugin cuDNN when one has already been registered\n",
      "E0000 00:00:1746096990.288803 1240605 cuda_blas.cc:1418] Unable to register cuBLAS factory: Attempting to register factory for plugin cuBLAS when one has already been registered\n",
      "2025-05-01 07:56:30.309283: I tensorflow/core/platform/cpu_feature_guard.cc:210] This TensorFlow binary is optimized to use available CPU instructions in performance-critical operations.\n",
      "To enable the following instructions: AVX2 FMA, in other operations, rebuild TensorFlow with the appropriate compiler flags.\n",
      "/usr/local/lib/python3.11/dist-packages/tqdm/auto.py:21: TqdmWarning: IProgress not found. Please update jupyter and ipywidgets. See https://ipywidgets.readthedocs.io/en/stable/user_install.html\n",
      "  from .autonotebook import tqdm as notebook_tqdm\n"
     ]
    },
    {
     "name": "stdout",
     "output_type": "stream",
     "text": [
      "\u001b[34m\n",
      "████████╗██╗███╗   ███╗███████╗    ███████╗███████╗██████╗ ██╗███████╗███████╗    █████╗ ██╗\n",
      "╚══██╔══╝██║████╗ ████║██╔════╝    ██╔════╝██╔════╝██╔══██╗██║██╔════╝██╔════╝   ██╔══██╗██║\n",
      "   ██║   ██║██╔████╔██║█████╗█████╗███████╗█████╗  ██████╔╝██║█████╗  ███████╗   ███████║██║\n",
      "   ██║   ██║██║╚██╔╝██║██╔══╝╚════╝╚════██║██╔══╝  ██╔══██╗██║██╔══╝  ╚════██║   ██╔══██║██║\n",
      "   ██║   ██║██║ ╚═╝ ██║███████╗    ███████║███████╗██║  ██║██║███████╗███████║██╗██║  ██║██║\n",
      "   ╚═╝   ╚═╝╚═╝     ╚═╝╚══════╝    ╚══════╝╚══════╝╚═╝  ╚═╝╚═╝╚══════╝╚══════╝╚═╝╚═╝  ╚═╝╚═╝\n",
      "ai4ts v0.0.3 - building AI for unified time-series analysis, https://time-series.ai \u001b[0m\n",
      "\n"
     ]
    }
   ],
   "source": [
    "import pypots\n",
    "import os\n",
    "import sys\n",
    "from pypots.nn.functional import calc_mae\n",
    "from pypots.optim import Adam\n",
    "from pypots.imputation import SAITS, BRITS, USGAN, GPVAE, MRNN\n",
    "import numpy as np\n",
    "import benchpots\n",
    "from pypots.utils.random import set_random_seed\n",
    "module_path = os.path.abspath(os.path.join('..'))\n",
    "if module_path not in sys.path:\n",
    "    sys.path.append(module_path)\n",
    "import pandas as pd    \n",
    "from pypotsModify.benchpotsMAE.datasets import preprocess_physionet2012 as preprocess_physionet2012\n",
    "from missingData.toolkits import toolkits\n",
    "import math\n",
    "import scipy.stats as st"
   ]
  },
  {
   "cell_type": "markdown",
   "metadata": {},
   "source": [
    "# Loading database"
   ]
  },
  {
   "cell_type": "markdown",
   "metadata": {},
   "source": [
    "### Standard Scaler "
   ]
  },
  {
   "cell_type": "code",
   "execution_count": 2,
   "metadata": {},
   "outputs": [
    {
     "name": "stderr",
     "output_type": "stream",
     "text": [
      "2025-05-01 07:56:33 [INFO]: Have set the random seed as 2022 for numpy and pytorch.\n",
      "2025-05-01 07:56:33 [INFO]: You're using dataset physionet_2012, please cite it properly in your work. You can find its reference information at the below link: \n",
      "https://github.com/WenjieDu/TSDB/tree/main/dataset_profiles/physionet_2012\n",
      "2025-05-01 07:56:33 [INFO]: Dataset physionet_2012 has already been downloaded. Processing directly...\n",
      "2025-05-01 07:56:33 [INFO]: Dataset physionet_2012 has already been cached. Loading from cache directly...\n",
      "2025-05-01 07:56:33 [INFO]: Loaded successfully!\n",
      "2025-05-01 07:56:51 [WARNING]: Note that physionet_2012 has sparse observations in the time series, hence we don't add additional missing values to the training dataset. \n",
      "2025-05-01 07:56:51 [WARNING]: Note that physionet_2012 has sparse observations in the time series, hence we don't add additional missing values to the training dataset. \n",
      "2025-05-01 07:56:51 [INFO]: 68807 values masked out in the val set as ground truth, take 9.97% of the original observed values\n",
      "2025-05-01 07:56:51 [INFO]: 68807 values masked out in the val set as ground truth, take 9.97% of the original observed values\n",
      "2025-05-01 07:56:51 [INFO]: 86319 values masked out in the test set as ground truth, take 9.99% of the original observed values\n",
      "2025-05-01 07:56:51 [INFO]: 86319 values masked out in the test set as ground truth, take 9.99% of the original observed values\n",
      "2025-05-01 07:56:51 [INFO]: Total sample number: 11988\n",
      "2025-05-01 07:56:51 [INFO]: Total sample number: 11988\n",
      "2025-05-01 07:56:51 [INFO]: Training set size: 7671 (63.99%)\n",
      "2025-05-01 07:56:51 [INFO]: Training set size: 7671 (63.99%)\n",
      "2025-05-01 07:56:51 [INFO]: Validation set size: 1918 (16.00%)\n",
      "2025-05-01 07:56:51 [INFO]: Validation set size: 1918 (16.00%)\n",
      "2025-05-01 07:56:51 [INFO]: Test set size: 2399 (20.01%)\n",
      "2025-05-01 07:56:51 [INFO]: Test set size: 2399 (20.01%)\n",
      "2025-05-01 07:56:51 [INFO]: Number of steps: 48\n",
      "2025-05-01 07:56:51 [INFO]: Number of steps: 48\n",
      "2025-05-01 07:56:51 [INFO]: Number of features: 37\n",
      "2025-05-01 07:56:51 [INFO]: Number of features: 37\n",
      "2025-05-01 07:56:51 [INFO]: Train set missing rate: 79.70%\n",
      "2025-05-01 07:56:51 [INFO]: Train set missing rate: 79.70%\n",
      "2025-05-01 07:56:51 [INFO]: Validating set missing rate: 81.75%\n",
      "2025-05-01 07:56:51 [INFO]: Validating set missing rate: 81.75%\n",
      "2025-05-01 07:56:51 [INFO]: Test set missing rate: 81.75%\n",
      "2025-05-01 07:56:51 [INFO]: Test set missing rate: 81.75%\n"
     ]
    },
    {
     "name": "stdout",
     "output_type": "stream",
     "text": [
      "dict_keys(['n_classes', 'n_steps', 'n_features', 'scaler', 'train_X', 'train_y', 'train_ICUType', 'val_X', 'val_y', 'val_ICUType', 'test_X', 'test_y', 'test_ICUType', 'female_gender_test_X', 'female_gender_test_y', 'test_ICUType_female_gender', 'male_gender_test_X', 'male_gender_test_y', 'test_ICUType_male_gender', 'undefined_gender_test_X', 'undefined_gender_test_y', 'test_ICUType_undefined_gender', 'more_than_or_equal_to_65_test_X', 'more_than_or_equal_to_65_test_y', 'test_ICUType_more_than_or_equal_to_65', 'less_than_65_test_X', 'less_than_65_test_y', 'test_ICUType_less_than_65', 'ICUType_1_test_X', 'ICUType_1_test_y', 'test_ICUType_1', 'ICUType_2_test_X', 'ICUType_2_test_y', 'test_ICUType_2', 'ICUType_3_test_X', 'ICUType_3_test_y', 'test_ICUType_3', 'ICUType_4_test_X', 'ICUType_4_test_y', 'test_ICUType_4', 'classificacao_undefined_test_X', 'classificacao_undefined_test_y', 'test_ICUType_classificacao_undefined', 'classificacao_baixo_peso_test_X', 'classificacao_baixo_peso_test_y', 'test_ICUType_classificao_baixo_peso', 'classificacao_normal_peso_test_X', 'classificacao_normal_peso_test_y', 'test_ICUType_classificacao_normal_peso', 'classificacao_sobrepeso_test_X', 'classificacao_sobrepeso_test_y', 'test_ICUType_classificacao_sobrepeso', 'classificacao_obesidade_1_test_X', 'classificacao_obesidade_1_test_y', 'test_ICUType_classificacao_obesidade_1', 'classificacao_obesidade_2_test_X', 'classificacao_obesidade_2_test_y', 'test_ICUType_classificacao_obesidade_2', 'classificacao_obesidade_3_test_X', 'classificacao_obesidade_3_test_y', 'test_ICUType_classificacao_obesidade_3', 'val_X_ori', 'test_X_ori', 'female_gender_test_X_ori', 'male_gender_test_X_ori', 'undefined_gender_test_X_ori', 'more_than_or_equal_to_65_test_X_ori', 'less_than_65_test_X_ori', 'ICUType_1_test_X_ori', 'ICUType_2_test_X_ori', 'ICUType_3_test_X_ori', 'ICUType_4_test_X_ori', 'classificacao_undefined_test_X_ori', 'classificacao_baixo_peso_test_X_ori', 'classificacao_normal_peso_test_X_ori', 'classificacao_sobrepeso_test_X_ori', 'classificacao_obesidade_1_test_X_ori', 'classificacao_obesidade_2_test_X_ori', 'classificacao_obesidade_3_test_X_ori'])\n"
     ]
    }
   ],
   "source": [
    "set_random_seed()\n",
    "physionet2012_dataset_standard = preprocess_physionet2012(subset=\"all\", rate=0.1, normalization=1)\n",
    "print(physionet2012_dataset_standard.keys())"
   ]
  },
  {
   "cell_type": "code",
   "execution_count": 3,
   "metadata": {},
   "outputs": [],
   "source": [
    "scaler_standard = physionet2012_dataset_standard[\"scaler\"]"
   ]
  },
  {
   "cell_type": "code",
   "execution_count": 4,
   "metadata": {},
   "outputs": [],
   "source": [
    "dataset_for_training_standard, dataset_for_validating_standard, dataset_for_testing_ori_standard, dataset_for_testing_standard = toolkits.separating_dataset(physionet2012_dataset_standard)"
   ]
  },
  {
   "cell_type": "markdown",
   "metadata": {},
   "source": [
    "# Creating indicating mask and get test_X_ori"
   ]
  },
  {
   "cell_type": "markdown",
   "metadata": {},
   "source": [
    "### Standard Scaler"
   ]
  },
  {
   "cell_type": "code",
   "execution_count": 5,
   "metadata": {},
   "outputs": [],
   "source": [
    "dataset_for_testing_ori_standard_norm = toolkits.dict_to_list(dataset_for_testing_ori_standard)\n",
    "dataset_for_testing_standard_norm = toolkits.dict_to_list(dataset_for_testing_standard)\n",
    "indicating_mask_variable_standard_norm, test_X_ori_variable_standard_norm = toolkits.components_mae(dataset_for_testing_ori_standard_norm, dataset_for_testing_standard_norm)\n",
    "indicating_mask_variable_standard_norm = toolkits.pre_reshape(indicating_mask_variable_standard_norm)\n",
    "test_X_ori_variable_standard_norm = toolkits.pre_reshape(test_X_ori_variable_standard_norm)\n",
    "indicating_mask_variable_standard_norm = toolkits.reshape_variable(indicating_mask_variable_standard_norm)\n",
    "test_X_ori_variable_standard_norm = toolkits.reshape_variable(test_X_ori_variable_standard_norm)"
   ]
  },
  {
   "cell_type": "markdown",
   "metadata": {},
   "source": [
    "# Inicialize the models"
   ]
  },
  {
   "cell_type": "markdown",
   "metadata": {},
   "source": [
    "### SAITS"
   ]
  },
  {
   "cell_type": "markdown",
   "metadata": {},
   "source": [
    "<h4>Inicialize new model</h4>"
   ]
  },
  {
   "cell_type": "code",
   "execution_count": 6,
   "metadata": {},
   "outputs": [
    {
     "name": "stderr",
     "output_type": "stream",
     "text": [
      "2025-04-22 21:54:46 [INFO]: No given device, using default device: cuda\n",
      "2025-04-22 21:54:46 [INFO]: Model files will be saved to tutorial_results/imputation/saits/20250422_T215446\n",
      "2025-04-22 21:54:46 [INFO]: Tensorboard file will be saved to tutorial_results/imputation/saits/20250422_T215446/tensorboard\n",
      "2025-04-22 21:54:46 [INFO]: Using customized MAE as the training loss function.\n",
      "2025-04-22 21:54:46 [INFO]: Using customized MSE as the validation metric function.\n",
      "2025-04-22 21:54:46 [INFO]: SAITS initialized with the given hyperparameters, the number of trainable parameters: 720,182\n"
     ]
    }
   ],
   "source": [
    "saits = SAITS(\n",
    "    n_steps=physionet2012_dataset_standard['n_steps'],\n",
    "    n_features=physionet2012_dataset_standard['n_features'],\n",
    "    n_layers=1,\n",
    "    d_model=256,\n",
    "    d_ffn=128,\n",
    "    n_heads=4,\n",
    "    d_k=64,\n",
    "    d_v=64,\n",
    "    dropout=0.1,\n",
    "    ORT_weight=1,  # you can adjust the weight values of arguments ORT_weight\n",
    "    # and MIT_weight to make the SAITS model focus more on one task. Usually you can just leave them to the default values, i.e. 1.\n",
    "    MIT_weight=1,\n",
    "    batch_size=32,\n",
    "    # here we set epochs=10 for a quick demo, you can set it to 100 or more for better performance\n",
    "    epochs=10,\n",
    "    # here we set patience=3 to early stop the training if the evaluting loss doesn't decrease for 3 epoches.\n",
    "    # You can leave it to defualt as None to disable early stopping.\n",
    "    patience=3,\n",
    "    # give the optimizer. Different from torch.optim.Optimizer, you don't have to specify model's parameters when\n",
    "    # initializing pypots.optim.Optimizer. You can also leave it to default. It will initilize an Adam optimizer with lr=0.001.\n",
    "    optimizer=Adam(lr=1e-3),\n",
    "    # this num_workers argument is for torch.utils.data.Dataloader. It's the number of subprocesses to use for data loading.\n",
    "    # Leaving it to default as 0 means data loading will be in the main process, i.e. there won't be subprocesses.\n",
    "    # You can increase it to >1 if you think your dataloading is a bottleneck to your model training speed\n",
    "    num_workers=0,\n",
    "    # just leave it to default as None, PyPOTS will automatically assign the best device for you.\n",
    "    # Set it as 'cpu' if you don't have CUDA devices. You can also set it to 'cuda:0' or 'cuda:1' if you have multiple CUDA devices, even parallelly on ['cuda:0', 'cuda:1']\n",
    "    device=None,\n",
    "    # set the path for saving tensorboard and trained model files\n",
    "    saving_path=\"tutorial_results/imputation/saits\",\n",
    "    # only save the best model after training finished.\n",
    "    # You can also set it as \"better\" to save models performing better ever during training.\n",
    "    model_saving_strategy=\"best\",\n",
    ")"
   ]
  },
  {
   "cell_type": "markdown",
   "metadata": {},
   "source": [
    "<h4> Inicialize model</h4>"
   ]
  },
  {
   "cell_type": "code",
   "execution_count": 6,
   "metadata": {},
   "outputs": [
    {
     "name": "stderr",
     "output_type": "stream",
     "text": [
      "2025-05-01 07:57:04 [INFO]: No given device, using default device: cpu\n",
      "2025-05-01 07:57:04 [WARNING]: ‼️ saving_path not given. Model files and tensorboard file will not be saved.\n",
      "2025-05-01 07:57:04 [INFO]: Using customized MAE as the training loss function.\n",
      "2025-05-01 07:57:04 [INFO]: Using customized MSE as the validation metric function.\n",
      "2025-05-01 07:57:04 [INFO]: SAITS initialized with the given hyperparameters, the number of trainable parameters: 720,182\n"
     ]
    }
   ],
   "source": [
    "saits = SAITS(\n",
    "    n_steps=physionet2012_dataset_standard['n_steps'],\n",
    "    n_features=physionet2012_dataset_standard['n_features'],\n",
    "    n_layers=1,\n",
    "    d_model=256,\n",
    "    d_ffn=128,\n",
    "    n_heads=4,\n",
    "    d_k=64,\n",
    "    d_v=64,\n",
    "    dropout=0.1,\n",
    "    ORT_weight=1,  # you can adjust the weight values of arguments ORT_weight\n",
    "    # and MIT_weight to make the SAITS model focus more on one task. Usually you can just leave them to the default values, i.e. 1.\n",
    "    MIT_weight=1,\n",
    "    batch_size=32,\n",
    "    # here we set epochs=10 for a quick demo, you can set it to 100 or more for better performance\n",
    "    epochs=10,\n",
    "    # here we set patience=3 to early stop the training if the evaluting loss doesn't decrease for 3 epoches.\n",
    "    # You can leave it to defualt as None to disable early stopping.\n",
    "    patience=3,\n",
    "    # give the optimizer. Different from torch.optim.Optimizer, you don't have to specify model's parameters when\n",
    "    # initializing pypots.optim.Optimizer. You can also leave it to default. It will initilize an Adam optimizer with lr=0.001.\n",
    "    optimizer=Adam(lr=1e-3),\n",
    "    # this num_workers argument is for torch.utils.data.Dataloader. It's the number of subprocesses to use for data loading.\n",
    "    # Leaving it to default as 0 means data loading will be in the main process, i.e. there won't be subprocesses.\n",
    "    # You can increase it to >1 if you think your dataloading is a bottleneck to your model training speed\n",
    "    num_workers=0,\n",
    "    # just leave it to default as None, PyPOTS will automatically assign the best device for you.\n",
    "    # Set it as 'cpu' if you don't have CUDA devices. You can also set it to 'cuda:0' or 'cuda:1' if you have multiple CUDA devices, even parallelly on ['cuda:0', 'cuda:1']\n",
    "    device=None,\n",
    "    # set the path for saving tensorboard and trained model files\n",
    "    # only save the best model after training finished.\n",
    "    # You can also set it as \"better\" to save models performing better ever during training.\n",
    "    model_saving_strategy=\"best\",\n",
    ")"
   ]
  },
  {
   "cell_type": "markdown",
   "metadata": {},
   "source": [
    "### BRITS"
   ]
  },
  {
   "cell_type": "markdown",
   "metadata": {},
   "source": [
    "<h4>Inicialize new model</h4>"
   ]
  },
  {
   "cell_type": "code",
   "execution_count": 7,
   "metadata": {},
   "outputs": [
    {
     "name": "stderr",
     "output_type": "stream",
     "text": [
      "2025-04-22 18:16:43 [INFO]: No given device, using default device: cuda\n",
      "2025-04-22 18:16:43 [INFO]: Model files will be saved to tutorial_results/imputation/brits/20250422_T181643\n",
      "2025-04-22 18:16:43 [INFO]: Tensorboard file will be saved to tutorial_results/imputation/brits/20250422_T181643/tensorboard\n",
      "2025-04-22 18:16:43 [INFO]: Using customized MAE as the training loss function.\n",
      "2025-04-22 18:16:43 [INFO]: Using customized MSE as the validation metric function.\n",
      "2025-04-22 18:16:43 [INFO]: BRITS initialized with the given hyperparameters, the number of trainable parameters: 239,344\n"
     ]
    }
   ],
   "source": [
    "brits = BRITS(\n",
    "    n_steps=physionet2012_dataset_standard['n_steps'],\n",
    "    n_features=physionet2012_dataset_standard['n_features'],\n",
    "    rnn_hidden_size=128,\n",
    "    batch_size=32,\n",
    "    # here we set epochs=10 for a quick demo, you can set it to 100 or more for better performance\n",
    "    epochs=10,\n",
    "    # here we set patience=3 to early stop the training if the evaluting loss doesn't decrease for 3 epoches.\n",
    "    # You can leave it to defualt as None to disable early stopping.\n",
    "    patience=3,\n",
    "    # give the optimizer. Different from torch.optim.Optimizer, you don't have to specify model's parameters when\n",
    "    # initializing pypots.optim.Optimizer. You can also leave it to default. It will initilize an Adam optimizer with lr=0.001.\n",
    "    optimizer=Adam(lr=1e-3),\n",
    "    # this num_workers argument is for torch.utils.data.Dataloader. It's the number of subprocesses to use for data loading.\n",
    "    # Leaving it to default as 0 means data loading will be in the main process, i.e. there won't be subprocesses.\n",
    "    # You can increase it to >1 if you think your dataloading is a bottleneck to your model training speed\n",
    "    num_workers=0,\n",
    "    # just leave it to default as None, PyPOTS will automatically assign the best device for you.\n",
    "    # Set it as 'cpu' if you don't have CUDA devices. You can also set it to 'cuda:0' or 'cuda:1' if you have multiple CUDA devices, even parallelly on ['cuda:0', 'cuda:1']\n",
    "    device=None,\n",
    "    # set the path for saving tensorboard and trained model files\n",
    "    saving_path=\"tutorial_results/imputation/brits\",\n",
    "    # only save the best model after training finished.\n",
    "    # You can also set it as \"better\" to save models performing better ever during training.\n",
    "    model_saving_strategy=\"best\",\n",
    ")"
   ]
  },
  {
   "cell_type": "markdown",
   "metadata": {},
   "source": [
    "<h4> Inicialize model</h4>"
   ]
  },
  {
   "cell_type": "code",
   "execution_count": 7,
   "metadata": {},
   "outputs": [
    {
     "name": "stderr",
     "output_type": "stream",
     "text": [
      "2025-05-01 07:57:04 [INFO]: No given device, using default device: cpu\n",
      "2025-05-01 07:57:04 [WARNING]: ‼️ saving_path not given. Model files and tensorboard file will not be saved.\n",
      "2025-05-01 07:57:04 [INFO]: Using customized MAE as the training loss function.\n",
      "2025-05-01 07:57:04 [INFO]: Using customized MSE as the validation metric function.\n",
      "2025-05-01 07:57:04 [INFO]: BRITS initialized with the given hyperparameters, the number of trainable parameters: 239,344\n"
     ]
    }
   ],
   "source": [
    "brits = BRITS(\n",
    "    n_steps=physionet2012_dataset_standard['n_steps'],\n",
    "    n_features=physionet2012_dataset_standard['n_features'],\n",
    "    rnn_hidden_size=128,\n",
    "    batch_size=32,\n",
    "    # here we set epochs=10 for a quick demo, you can set it to 100 or more for better performance\n",
    "    epochs=10,\n",
    "    # here we set patience=3 to early stop the training if the evaluting loss doesn't decrease for 3 epoches.\n",
    "    # You can leave it to defualt as None to disable early stopping.\n",
    "    patience=3,\n",
    "    # give the optimizer. Different from torch.optim.Optimizer, you don't have to specify model's parameters when\n",
    "    # initializing pypots.optim.Optimizer. You can also leave it to default. It will initilize an Adam optimizer with lr=0.001.\n",
    "    optimizer=Adam(lr=1e-3),\n",
    "    # this num_workers argument is for torch.utils.data.Dataloader. It's the number of subprocesses to use for data loading.\n",
    "    # Leaving it to default as 0 means data loading will be in the main process, i.e. there won't be subprocesses.\n",
    "    # You can increase it to >1 if you think your dataloading is a bottleneck to your model training speed\n",
    "    num_workers=0,\n",
    "    # just leave it to default as None, PyPOTS will automatically assign the best device for you.\n",
    "    # Set it as 'cpu' if you don't have CUDA devices. You can also set it to 'cuda:0' or 'cuda:1' if you have multiple CUDA devices, even parallelly on ['cuda:0', 'cuda:1']\n",
    "    device=None,\n",
    "    # set the path for saving tensorboard and trained model files\n",
    "    \n",
    "    # only save the best model after training finished.\n",
    "    # You can also set it as \"better\" to save models performing better ever during training.\n",
    "    model_saving_strategy=\"best\",\n",
    ")"
   ]
  },
  {
   "cell_type": "markdown",
   "metadata": {},
   "source": [
    "### USGAN"
   ]
  },
  {
   "cell_type": "markdown",
   "metadata": {},
   "source": [
    "<h4>Inicialize new model</h4>"
   ]
  },
  {
   "cell_type": "code",
   "execution_count": 8,
   "metadata": {},
   "outputs": [
    {
     "name": "stderr",
     "output_type": "stream",
     "text": [
      "2025-04-22 18:16:43 [INFO]: No given device, using default device: cuda\n",
      "2025-04-22 18:16:43 [INFO]: Model files will be saved to tutorial_results/imputation/us_gan/20250422_T181643\n",
      "2025-04-22 18:16:43 [INFO]: Tensorboard file will be saved to tutorial_results/imputation/us_gan/20250422_T181643/tensorboard\n",
      "2025-04-22 18:16:43 [INFO]: USGAN initialized with the given hyperparameters, the number of trainable parameters: 1,258,517\n"
     ]
    }
   ],
   "source": [
    "us_gan = USGAN(\n",
    "    n_steps=physionet2012_dataset_standard['n_steps'],\n",
    "    n_features=physionet2012_dataset_standard['n_features'],\n",
    "    rnn_hidden_size=256,\n",
    "    lambda_mse=1,\n",
    "    dropout=0.1,\n",
    "    G_steps=1,\n",
    "    D_steps=1,\n",
    "    batch_size=32,\n",
    "    # here we set epochs=10 for a quick demo, you can set it to 100 or more for better performance\n",
    "    epochs=10,\n",
    "    # here we set patience=3 to early stop the training if the evaluting loss doesn't decrease for 3 epoches.\n",
    "    # You can leave it to defualt as None to disable early stopping.\n",
    "    patience=3,\n",
    "    # give the optimizer. Different from torch.optim.Optimizer, you don't have to specify model's parameters when\n",
    "    # initializing pypots.optim.Optimizer. You can also leave it to default. It will initilize an Adam optimizer with lr=0.001.\n",
    "    G_optimizer=Adam(lr=1e-3),\n",
    "    D_optimizer=Adam(lr=1e-3),\n",
    "    # this num_workers argument is for torch.utils.data.Dataloader. It's the number of subprocesses to use for data loading.\n",
    "    # Leaving it to default as 0 means data loading will be in the main process, i.e. there won't be subprocesses.\n",
    "    # You can increase it to >1 if you think your dataloading is a bottleneck to your model training speed\n",
    "    num_workers=0,\n",
    "    # just leave it to default as None, PyPOTS will automatically assign the best device for you.\n",
    "    # Set it as 'cpu' if you don't have CUDA devices. You can also set it to 'cuda:0' or 'cuda:1' if you have multiple CUDA devices, even parallelly on ['cuda:0', 'cuda:1']\n",
    "    device=None,\n",
    "    # set the path for saving tensorboard and trained model files\n",
    "    saving_path=\"tutorial_results/imputation/us_gan\",\n",
    "    # only save the best model after training finished.\n",
    "    # You can also set it as \"better\" to save models performing better ever during training.\n",
    "    model_saving_strategy=\"best\",\n",
    ")"
   ]
  },
  {
   "cell_type": "markdown",
   "metadata": {},
   "source": [
    "<h4> Inicialize model</h4>"
   ]
  },
  {
   "cell_type": "code",
   "execution_count": 8,
   "metadata": {},
   "outputs": [
    {
     "name": "stderr",
     "output_type": "stream",
     "text": [
      "2025-05-01 07:57:04 [INFO]: No given device, using default device: cpu\n",
      "2025-05-01 07:57:04 [WARNING]: ‼️ saving_path not given. Model files and tensorboard file will not be saved.\n",
      "2025-05-01 07:57:04 [INFO]: USGAN initialized with the given hyperparameters, the number of trainable parameters: 1,258,517\n"
     ]
    }
   ],
   "source": [
    "us_gan = USGAN(\n",
    "    n_steps=physionet2012_dataset_standard['n_steps'],\n",
    "    n_features=physionet2012_dataset_standard['n_features'],\n",
    "    rnn_hidden_size=256,\n",
    "    lambda_mse=1,\n",
    "    dropout=0.1,\n",
    "    G_steps=1,\n",
    "    D_steps=1,\n",
    "    batch_size=32,\n",
    "    # here we set epochs=10 for a quick demo, you can set it to 100 or more for better performance\n",
    "    epochs=10,\n",
    "    # here we set patience=3 to early stop the training if the evaluting loss doesn't decrease for 3 epoches.\n",
    "    # You can leave it to defualt as None to disable early stopping.\n",
    "    patience=3,\n",
    "    # give the optimizer. Different from torch.optim.Optimizer, you don't have to specify model's parameters when\n",
    "    # initializing pypots.optim.Optimizer. You can also leave it to default. It will initilize an Adam optimizer with lr=0.001.\n",
    "    G_optimizer=Adam(lr=1e-3),\n",
    "    D_optimizer=Adam(lr=1e-3),\n",
    "    # this num_workers argument is for torch.utils.data.Dataloader. It's the number of subprocesses to use for data loading.\n",
    "    # Leaving it to default as 0 means data loading will be in the main process, i.e. there won't be subprocesses.\n",
    "    # You can increase it to >1 if you think your dataloading is a bottleneck to your model training speed\n",
    "    num_workers=0,\n",
    "    # just leave it to default as None, PyPOTS will automatically assign the best device for you.\n",
    "    # Set it as 'cpu' if you don't have CUDA devices. You can also set it to 'cuda:0' or 'cuda:1' if you have multiple CUDA devices, even parallelly on ['cuda:0', 'cuda:1']\n",
    "    device=None,\n",
    "    # set the path for saving tensorboard and trained model files\n",
    "    # only save the best model after training finished.\n",
    "    # You can also set it as \"better\" to save models performing better ever during training.\n",
    "    model_saving_strategy=\"best\",\n",
    ")"
   ]
  },
  {
   "cell_type": "markdown",
   "metadata": {},
   "source": [
    "### GPVAE"
   ]
  },
  {
   "cell_type": "markdown",
   "metadata": {},
   "source": [
    "<h4>Inicialize new model</h4>"
   ]
  },
  {
   "cell_type": "code",
   "execution_count": 9,
   "metadata": {},
   "outputs": [
    {
     "name": "stderr",
     "output_type": "stream",
     "text": [
      "2025-04-22 18:16:43 [INFO]: No given device, using default device: cuda\n",
      "2025-04-22 18:16:43 [INFO]: Model files will be saved to tutorial_results/imputation/gp_vae/20250422_T181643\n",
      "2025-04-22 18:16:43 [INFO]: Tensorboard file will be saved to tutorial_results/imputation/gp_vae/20250422_T181643/tensorboard\n",
      "2025-04-22 18:16:43 [INFO]: GPVAE initialized with the given hyperparameters, the number of trainable parameters: 229,652\n"
     ]
    }
   ],
   "source": [
    "gp_vae = GPVAE(\n",
    "    n_steps=physionet2012_dataset_standard['n_steps'],\n",
    "    n_features=physionet2012_dataset_standard['n_features'],\n",
    "    latent_size=37,\n",
    "    encoder_sizes=(128,128),\n",
    "    decoder_sizes=(256,256),\n",
    "    kernel=\"cauchy\",\n",
    "    beta=0.2,\n",
    "    M=1,\n",
    "    K=1,\n",
    "    sigma=1.005,\n",
    "    length_scale=7.0,\n",
    "    kernel_scales=1,\n",
    "    window_size=24,\n",
    "    batch_size=32,\n",
    "    # here we set epochs=10 for a quick demo, you can set it to 100 or more for better performance\n",
    "    epochs=10,\n",
    "    # here we set patience=3 to early stop the training if the evaluting loss doesn't decrease for 3 epoches.\n",
    "    # You can leave it to defualt as None to disable early stopping.\n",
    "    patience=3,\n",
    "    # give the optimizer. Different from torch.optim.Optimizer, you don't have to specify model's parameters when\n",
    "    # initializing pypots.optim.Optimizer. You can also leave it to default. It will initilize an Adam optimizer with lr=0.001.\n",
    "    optimizer=Adam(lr=1e-3),\n",
    "    # this num_workers argument is for torch.utils.data.Dataloader. It's the number of subprocesses to use for data loading.\n",
    "    # Leaving it to default as 0 means data loading will be in the main process, i.e. there won't be subprocesses.\n",
    "    # You can increase it to >1 if you think your dataloading is a bottleneck to your model training speed\n",
    "    num_workers=0,\n",
    "    # just leave it to default as None, PyPOTS will automatically assign the best device for you.\n",
    "    # Set it as 'cpu' if you don't have CUDA devices. You can also set it to 'cuda:0' or 'cuda:1' if you have multiple CUDA devices, even parallelly on ['cuda:0', 'cuda:1']\n",
    "    device=None,\n",
    "    # set the path for saving tensorboard and trained model files\n",
    "    saving_path=\"tutorial_results/imputation/gp_vae\",\n",
    "    # only save the best model after training finished.\n",
    "    # You can also set it as \"better\" to save models performing better ever during training.\n",
    "    model_saving_strategy=\"best\",\n",
    ")"
   ]
  },
  {
   "cell_type": "markdown",
   "metadata": {},
   "source": [
    "<h4> Inicialize model</h4>"
   ]
  },
  {
   "cell_type": "code",
   "execution_count": 9,
   "metadata": {},
   "outputs": [
    {
     "name": "stderr",
     "output_type": "stream",
     "text": [
      "2025-05-01 07:57:04 [INFO]: No given device, using default device: cpu\n",
      "2025-05-01 07:57:04 [WARNING]: ‼️ saving_path not given. Model files and tensorboard file will not be saved.\n",
      "2025-05-01 07:57:04 [INFO]: GPVAE initialized with the given hyperparameters, the number of trainable parameters: 229,652\n"
     ]
    }
   ],
   "source": [
    "gp_vae = GPVAE(\n",
    "    n_steps=physionet2012_dataset_standard['n_steps'],\n",
    "    n_features=physionet2012_dataset_standard['n_features'],\n",
    "    latent_size=37,\n",
    "    encoder_sizes=(128,128),\n",
    "    decoder_sizes=(256,256),\n",
    "    kernel=\"cauchy\",\n",
    "    beta=0.2,\n",
    "    M=1,\n",
    "    K=1,\n",
    "    sigma=1.005,\n",
    "    length_scale=7.0,\n",
    "    kernel_scales=1,\n",
    "    window_size=24,\n",
    "    batch_size=32,\n",
    "    # here we set epochs=10 for a quick demo, you can set it to 100 or more for better performance\n",
    "    epochs=10,\n",
    "    # here we set patience=3 to early stop the training if the evaluting loss doesn't decrease for 3 epoches.\n",
    "    # You can leave it to defualt as None to disable early stopping.\n",
    "    patience=3,\n",
    "    # give the optimizer. Different from torch.optim.Optimizer, you don't have to specify model's parameters when\n",
    "    # initializing pypots.optim.Optimizer. You can also leave it to default. It will initilize an Adam optimizer with lr=0.001.\n",
    "    optimizer=Adam(lr=1e-3),\n",
    "    # this num_workers argument is for torch.utils.data.Dataloader. It's the number of subprocesses to use for data loading.\n",
    "    # Leaving it to default as 0 means data loading will be in the main process, i.e. there won't be subprocesses.\n",
    "    # You can increase it to >1 if you think your dataloading is a bottleneck to your model training speed\n",
    "    num_workers=0,\n",
    "    # just leave it to default as None, PyPOTS will automatically assign the best device for you.\n",
    "    # Set it as 'cpu' if you don't have CUDA devices. You can also set it to 'cuda:0' or 'cuda:1' if you have multiple CUDA devices, even parallelly on ['cuda:0', 'cuda:1']\n",
    "    device=None,\n",
    "    # set the path for saving tensorboard and trained model files\n",
    "    # only save the best model after training finished.\n",
    "    # You can also set it as \"better\" to save models performing better ever during training.\n",
    "    model_saving_strategy=\"best\",\n",
    ")"
   ]
  },
  {
   "cell_type": "markdown",
   "metadata": {},
   "source": [
    "### MRNN"
   ]
  },
  {
   "cell_type": "markdown",
   "metadata": {},
   "source": [
    "<h4>Inicialize new model</h4>"
   ]
  },
  {
   "cell_type": "code",
   "execution_count": 10,
   "metadata": {},
   "outputs": [
    {
     "name": "stderr",
     "output_type": "stream",
     "text": [
      "2025-04-22 18:16:43 [INFO]: No given device, using default device: cuda\n",
      "2025-04-22 18:16:43 [INFO]: Model files will be saved to tutorial_results/imputation/mrnn/20250422_T181643\n",
      "2025-04-22 18:16:43 [INFO]: Tensorboard file will be saved to tutorial_results/imputation/mrnn/20250422_T181643/tensorboard\n",
      "2025-04-22 18:16:43 [INFO]: Using customized RMSE as the training loss function.\n",
      "2025-04-22 18:16:43 [INFO]: Using customized MSE as the validation metric function.\n",
      "2025-04-22 18:16:43 [INFO]: MRNN initialized with the given hyperparameters, the number of trainable parameters: 107,951\n"
     ]
    }
   ],
   "source": [
    "mrnn = MRNN(\n",
    "    n_steps=physionet2012_dataset_standard['n_steps'],\n",
    "    n_features=physionet2012_dataset_standard['n_features'],\n",
    "    rnn_hidden_size=128,\n",
    "\n",
    "    # here we set epochs=10 for a quick demo, you can set it to 100 or more for better performance\n",
    "    epochs=10,\n",
    "    # here we set patience=3 to early stop the training if the evaluting loss doesn't decrease for 3 epoches.\n",
    "    # You can leave it to defualt as None to disable early stopping.\n",
    "    patience=3,\n",
    "    # give the optimizer. Different from torch.optim.Optimizer, you don't have to specify model's parameters when\n",
    "    # initializing pypots.optim.Optimizer. You can also leave it to default. It will initilize an Adam optimizer with lr=0.001.\n",
    "    optimizer=Adam(lr=1e-3),\n",
    "    # this num_workers argument is for torch.utils.data.Dataloader. It's the number of subprocesses to use for data loading.\n",
    "    # Leaving it to default as 0 means data loading will be in the main process, i.e. there won't be subprocesses.\n",
    "    # You can increase it to >1 if you think your dataloading is a bottleneck to your model training speed\n",
    "    num_workers=0,\n",
    "    # just leave it to default as None, PyPOTS will automatically assign the best device for you.\n",
    "    # Set it as 'cpu' if you don't have CUDA devices. You can also set it to 'cuda:0' or 'cuda:1' if you have multiple CUDA devices, even parallelly on ['cuda:0', 'cuda:1']\n",
    "    device=None,\n",
    "    # set the path for saving tensorboard and trained model files\n",
    "    saving_path=\"tutorial_results/imputation/mrnn\",\n",
    "    # only save the best model after training finished.\n",
    "    # You can also set it as \"better\" to save models performing better ever during training.\n",
    "    model_saving_strategy=\"best\",\n",
    ")"
   ]
  },
  {
   "cell_type": "markdown",
   "metadata": {},
   "source": [
    "<h4> Inicialize model</h4>"
   ]
  },
  {
   "cell_type": "code",
   "execution_count": 10,
   "metadata": {},
   "outputs": [
    {
     "name": "stderr",
     "output_type": "stream",
     "text": [
      "2025-05-01 07:57:04 [INFO]: No given device, using default device: cpu\n",
      "2025-05-01 07:57:04 [WARNING]: ‼️ saving_path not given. Model files and tensorboard file will not be saved.\n",
      "2025-05-01 07:57:04 [INFO]: Using customized RMSE as the training loss function.\n",
      "2025-05-01 07:57:04 [INFO]: Using customized MSE as the validation metric function.\n",
      "2025-05-01 07:57:04 [INFO]: MRNN initialized with the given hyperparameters, the number of trainable parameters: 107,951\n"
     ]
    }
   ],
   "source": [
    "mrnn = MRNN(\n",
    "    n_steps=physionet2012_dataset_standard['n_steps'],\n",
    "    n_features=physionet2012_dataset_standard['n_features'],\n",
    "    rnn_hidden_size=128,\n",
    "\n",
    "    # here we set epochs=10 for a quick demo, you can set it to 100 or more for better performance\n",
    "    epochs=10,\n",
    "    # here we set patience=3 to early stop the training if the evaluting loss doesn't decrease for 3 epoches.\n",
    "    # You can leave it to defualt as None to disable early stopping.\n",
    "    patience=3,\n",
    "    # give the optimizer. Different from torch.optim.Optimizer, you don't have to specify model's parameters when\n",
    "    # initializing pypots.optim.Optimizer. You can also leave it to default. It will initilize an Adam optimizer with lr=0.001.\n",
    "    optimizer=Adam(lr=1e-3),\n",
    "    # this num_workers argument is for torch.utils.data.Dataloader. It's the number of subprocesses to use for data loading.\n",
    "    # Leaving it to default as 0 means data loading will be in the main process, i.e. there won't be subprocesses.\n",
    "    # You can increase it to >1 if you think your dataloading is a bottleneck to your model training speed\n",
    "    num_workers=0,\n",
    "    # just leave it to default as None, PyPOTS will automatically assign the best device for you.\n",
    "    # Set it as 'cpu' if you don't have CUDA devices. You can also set it to 'cuda:0' or 'cuda:1' if you have multiple CUDA devices, even parallelly on ['cuda:0', 'cuda:1']\n",
    "    device=None,\n",
    "    # set the path for saving tensorboard and trained model files\n",
    "    # only save the best model after training finished.\n",
    "    # You can also set it as \"better\" to save models performing better ever during training.\n",
    "    model_saving_strategy=\"best\",\n",
    ")"
   ]
  },
  {
   "cell_type": "markdown",
   "metadata": {},
   "source": [
    "# Train/Load the models"
   ]
  },
  {
   "cell_type": "markdown",
   "metadata": {},
   "source": [
    "### SAITS"
   ]
  },
  {
   "cell_type": "markdown",
   "metadata": {},
   "source": [
    "<h4>Train</h4>"
   ]
  },
  {
   "cell_type": "code",
   "execution_count": 7,
   "metadata": {},
   "outputs": [
    {
     "name": "stderr",
     "output_type": "stream",
     "text": [
      "2025-04-22 21:54:58 [INFO]: Epoch 001 - training loss (MAE): 0.7233, validation MSE: 6.7652\n",
      "2025-04-22 21:55:03 [INFO]: Epoch 002 - training loss (MAE): 0.5383, validation MSE: 6.7408\n",
      "2025-04-22 21:55:08 [INFO]: Epoch 003 - training loss (MAE): 0.4956, validation MSE: 6.7218\n",
      "2025-04-22 21:55:12 [INFO]: Epoch 004 - training loss (MAE): 0.4643, validation MSE: 6.6987\n",
      "2025-04-22 21:55:16 [INFO]: Epoch 005 - training loss (MAE): 0.4392, validation MSE: 6.6806\n",
      "2025-04-22 21:55:21 [INFO]: Epoch 006 - training loss (MAE): 0.4207, validation MSE: 6.6686\n",
      "2025-04-22 21:55:24 [INFO]: Epoch 007 - training loss (MAE): 0.4065, validation MSE: 6.6527\n",
      "2025-04-22 21:55:28 [INFO]: Epoch 008 - training loss (MAE): 0.3953, validation MSE: 6.6548\n",
      "2025-04-22 21:55:32 [INFO]: Epoch 009 - training loss (MAE): 0.3866, validation MSE: 6.6511\n",
      "2025-04-22 21:55:36 [INFO]: Epoch 010 - training loss (MAE): 0.3798, validation MSE: 6.6584\n",
      "2025-04-22 21:55:36 [INFO]: Finished training. The best model is from epoch#9.\n",
      "2025-04-22 21:55:36 [INFO]: Saved the model to tutorial_results/imputation/saits/20250422_T215446/SAITS.pypots\n"
     ]
    }
   ],
   "source": [
    "saits.fit(train_set=dataset_for_training_standard, val_set=dataset_for_validating_standard)"
   ]
  },
  {
   "cell_type": "markdown",
   "metadata": {},
   "source": [
    "<h4> Load</h4>"
   ]
  },
  {
   "cell_type": "code",
   "execution_count": 11,
   "metadata": {},
   "outputs": [
    {
     "name": "stderr",
     "output_type": "stream",
     "text": [
      "2025-05-01 07:57:06 [INFO]: Model loaded successfully from tutorial_results/imputation/saits/20250422_T181642/SAITS.pypots\n"
     ]
    }
   ],
   "source": [
    "saits.load(\"tutorial_results/imputation/saits/20250422_T181642/SAITS.pypots\")"
   ]
  },
  {
   "cell_type": "markdown",
   "metadata": {},
   "source": [
    "### BRITS"
   ]
  },
  {
   "cell_type": "markdown",
   "metadata": {},
   "source": [
    "<h4>Train</h4>"
   ]
  },
  {
   "cell_type": "code",
   "execution_count": 12,
   "metadata": {},
   "outputs": [
    {
     "name": "stderr",
     "output_type": "stream",
     "text": [
      "2025-04-22 18:20:14 [INFO]: Epoch 001 - training loss (MAE): 0.9371, validation MSE: 6.7840\n",
      "2025-04-22 18:22:18 [INFO]: Epoch 002 - training loss (MAE): 0.7328, validation MSE: 6.7456\n",
      "2025-04-22 18:24:23 [INFO]: Epoch 003 - training loss (MAE): 0.6822, validation MSE: 6.7326\n",
      "2025-04-22 18:26:17 [INFO]: Epoch 004 - training loss (MAE): 0.6576, validation MSE: 6.7294\n",
      "2025-04-22 18:28:36 [INFO]: Epoch 005 - training loss (MAE): 0.6427, validation MSE: 6.7280\n",
      "2025-04-22 18:30:47 [INFO]: Epoch 006 - training loss (MAE): 0.6318, validation MSE: 6.7267\n",
      "2025-04-22 18:32:52 [INFO]: Epoch 007 - training loss (MAE): 0.6229, validation MSE: 6.7294\n",
      "2025-04-22 18:35:07 [INFO]: Epoch 008 - training loss (MAE): 0.6149, validation MSE: 6.7316\n",
      "2025-04-22 18:37:26 [INFO]: Epoch 009 - training loss (MAE): 0.6087, validation MSE: 6.7332\n",
      "2025-04-22 18:37:26 [INFO]: Exceeded the training patience. Terminating the training procedure...\n",
      "2025-04-22 18:37:26 [INFO]: Finished training. The best model is from epoch#6.\n",
      "2025-04-22 18:37:26 [INFO]: Saved the model to tutorial_results/imputation/brits/20250422_T181643/BRITS.pypots\n"
     ]
    }
   ],
   "source": [
    "brits.fit(train_set=dataset_for_training_standard, val_set=dataset_for_validating_standard)"
   ]
  },
  {
   "cell_type": "markdown",
   "metadata": {},
   "source": [
    "<h4>Load</h4>"
   ]
  },
  {
   "cell_type": "code",
   "execution_count": 12,
   "metadata": {},
   "outputs": [
    {
     "name": "stderr",
     "output_type": "stream",
     "text": [
      "2025-05-01 07:57:08 [INFO]: Model loaded successfully from tutorial_results/imputation/brits/20250422_T181643/BRITS.pypots\n"
     ]
    }
   ],
   "source": [
    "brits.load(\"tutorial_results/imputation/brits/20250422_T181643/BRITS.pypots\")"
   ]
  },
  {
   "cell_type": "markdown",
   "metadata": {},
   "source": [
    "### USGAN"
   ]
  },
  {
   "cell_type": "markdown",
   "metadata": {},
   "source": [
    "<h4>Train</h4>"
   ]
  },
  {
   "cell_type": "code",
   "execution_count": 13,
   "metadata": {},
   "outputs": [
    {
     "name": "stderr",
     "output_type": "stream",
     "text": [
      "2025-04-22 18:41:35 [INFO]: Epoch 001 - generator training loss: 0.4346, discriminator training loss: 0.1907, validation loss: 6.7750\n",
      "2025-04-22 18:45:20 [INFO]: Epoch 002 - generator training loss: 0.3701, discriminator training loss: 0.0566, validation loss: 6.7282\n",
      "2025-04-22 18:49:07 [INFO]: Epoch 003 - generator training loss: 0.3347, discriminator training loss: 0.0374, validation loss: 6.7004\n",
      "2025-04-22 18:52:56 [INFO]: Epoch 004 - generator training loss: 0.3165, discriminator training loss: 0.0311, validation loss: 6.6837\n",
      "2025-04-22 18:56:43 [INFO]: Epoch 005 - generator training loss: 0.3020, discriminator training loss: 0.0281, validation loss: 6.6737\n",
      "2025-04-22 19:00:32 [INFO]: Epoch 006 - generator training loss: 0.2923, discriminator training loss: 0.0265, validation loss: 6.6685\n",
      "2025-04-22 19:04:19 [INFO]: Epoch 007 - generator training loss: 0.2877, discriminator training loss: 0.0252, validation loss: 6.6691\n",
      "2025-04-22 19:08:07 [INFO]: Epoch 008 - generator training loss: 0.2814, discriminator training loss: 0.0247, validation loss: 6.6621\n",
      "2025-04-22 19:11:58 [INFO]: Epoch 009 - generator training loss: 0.2772, discriminator training loss: 0.0239, validation loss: 6.6618\n",
      "2025-04-22 19:15:48 [INFO]: Epoch 010 - generator training loss: 0.2704, discriminator training loss: 0.0227, validation loss: 6.6556\n",
      "2025-04-22 19:15:48 [INFO]: Finished training. The best model is from epoch#10.\n",
      "2025-04-22 19:15:48 [INFO]: Saved the model to tutorial_results/imputation/us_gan/20250422_T181643/USGAN.pypots\n"
     ]
    }
   ],
   "source": [
    "us_gan.fit(train_set=dataset_for_training_standard, val_set=dataset_for_validating_standard)"
   ]
  },
  {
   "cell_type": "markdown",
   "metadata": {},
   "source": [
    "<h4>Load</h4>"
   ]
  },
  {
   "cell_type": "code",
   "execution_count": 13,
   "metadata": {},
   "outputs": [
    {
     "name": "stderr",
     "output_type": "stream",
     "text": [
      "2025-05-01 07:57:11 [INFO]: Model loaded successfully from tutorial_results/imputation/us_gan/20250422_T181643/USGAN.pypots\n"
     ]
    }
   ],
   "source": [
    "us_gan.load(\"tutorial_results/imputation/us_gan/20250422_T181643/USGAN.pypots\")"
   ]
  },
  {
   "cell_type": "markdown",
   "metadata": {},
   "source": [
    "### GPVAE"
   ]
  },
  {
   "cell_type": "markdown",
   "metadata": {},
   "source": [
    "<h4>Train</h4>"
   ]
  },
  {
   "cell_type": "code",
   "execution_count": 14,
   "metadata": {},
   "outputs": [
    {
     "name": "stderr",
     "output_type": "stream",
     "text": [
      "2025-04-22 19:15:55 [INFO]: Epoch 001 - training loss (default): 26027.5423, validation loss: 22882.8125\n",
      "2025-04-22 19:16:01 [INFO]: Epoch 002 - training loss (default): 22877.1633, validation loss: 22807.7179\n",
      "2025-04-22 19:16:07 [INFO]: Epoch 003 - training loss (default): 22842.6190, validation loss: 22788.8947\n",
      "2025-04-22 19:16:14 [INFO]: Epoch 004 - training loss (default): 22832.1135, validation loss: 22783.6572\n",
      "2025-04-22 19:16:20 [INFO]: Epoch 005 - training loss (default): 22827.5731, validation loss: 22780.0771\n",
      "2025-04-22 19:16:27 [INFO]: Epoch 006 - training loss (default): 22821.9797, validation loss: 22773.8286\n",
      "2025-04-22 19:16:34 [INFO]: Epoch 007 - training loss (default): 22814.3062, validation loss: 22767.3447\n",
      "2025-04-22 19:16:40 [INFO]: Epoch 008 - training loss (default): 22810.7426, validation loss: 22771.6522\n",
      "2025-04-22 19:16:46 [INFO]: Epoch 009 - training loss (default): 22808.6126, validation loss: 22762.6405\n",
      "2025-04-22 19:16:52 [INFO]: Epoch 010 - training loss (default): 22808.6487, validation loss: 22763.1757\n",
      "2025-04-22 19:16:52 [INFO]: Finished training. The best model is from epoch#9.\n",
      "2025-04-22 19:16:52 [INFO]: Saved the model to tutorial_results/imputation/gp_vae/20250422_T181643/GPVAE.pypots\n"
     ]
    }
   ],
   "source": [
    "gp_vae.fit(train_set=dataset_for_training_standard, val_set=dataset_for_validating_standard)"
   ]
  },
  {
   "cell_type": "markdown",
   "metadata": {},
   "source": [
    "<h4>Load</h4>"
   ]
  },
  {
   "cell_type": "code",
   "execution_count": 14,
   "metadata": {},
   "outputs": [
    {
     "name": "stderr",
     "output_type": "stream",
     "text": [
      "2025-05-01 07:57:15 [INFO]: Model loaded successfully from tutorial_results/imputation/gp_vae/20250422_T181643/GPVAE.pypots\n"
     ]
    }
   ],
   "source": [
    "gp_vae.load(\"tutorial_results/imputation/gp_vae/20250422_T181643/GPVAE.pypots\")"
   ]
  },
  {
   "cell_type": "markdown",
   "metadata": {},
   "source": [
    "### MRNN"
   ]
  },
  {
   "cell_type": "markdown",
   "metadata": {},
   "source": [
    "<h4>Train</h4>"
   ]
  },
  {
   "cell_type": "code",
   "execution_count": 15,
   "metadata": {},
   "outputs": [
    {
     "name": "stderr",
     "output_type": "stream",
     "text": [
      "2025-04-22 19:17:30 [INFO]: Epoch 001 - training loss (RMSE): 0.7504, validation MSE: 7.3129\n",
      "2025-04-22 19:17:47 [INFO]: Epoch 002 - training loss (RMSE): 0.5341, validation MSE: 7.2684\n",
      "2025-04-22 19:18:05 [INFO]: Epoch 003 - training loss (RMSE): 0.4959, validation MSE: 7.2556\n",
      "2025-04-22 19:18:22 [INFO]: Epoch 004 - training loss (RMSE): 0.4612, validation MSE: 7.2489\n",
      "2025-04-22 19:18:40 [INFO]: Epoch 005 - training loss (RMSE): 0.4541, validation MSE: 7.2464\n",
      "2025-04-22 19:18:59 [INFO]: Epoch 006 - training loss (RMSE): 0.4473, validation MSE: 7.2449\n",
      "2025-04-22 19:19:16 [INFO]: Epoch 007 - training loss (RMSE): 0.4298, validation MSE: 7.2458\n",
      "2025-04-22 19:19:34 [INFO]: Epoch 008 - training loss (RMSE): 0.4340, validation MSE: 7.2485\n",
      "2025-04-22 19:19:51 [INFO]: Epoch 009 - training loss (RMSE): 0.4229, validation MSE: 7.2492\n",
      "2025-04-22 19:19:51 [INFO]: Exceeded the training patience. Terminating the training procedure...\n",
      "2025-04-22 19:19:51 [INFO]: Finished training. The best model is from epoch#6.\n",
      "2025-04-22 19:19:51 [INFO]: Saved the model to tutorial_results/imputation/mrnn/20250422_T181643/MRNN.pypots\n"
     ]
    }
   ],
   "source": [
    "mrnn.fit(train_set=dataset_for_training_standard, val_set=dataset_for_validating_standard)"
   ]
  },
  {
   "cell_type": "markdown",
   "metadata": {},
   "source": [
    "<h4>Load</h4>"
   ]
  },
  {
   "cell_type": "code",
   "execution_count": 15,
   "metadata": {},
   "outputs": [
    {
     "name": "stderr",
     "output_type": "stream",
     "text": [
      "2025-05-01 07:57:18 [INFO]: Model loaded successfully from tutorial_results/imputation/mrnn/20250422_T181643/MRNN.pypots\n"
     ]
    }
   ],
   "source": [
    "mrnn.load(\"tutorial_results/imputation/mrnn/20250422_T181643/MRNN.pypots\")"
   ]
  },
  {
   "cell_type": "markdown",
   "metadata": {},
   "source": [
    "# Testing stage"
   ]
  },
  {
   "cell_type": "markdown",
   "metadata": {},
   "source": [
    "### SAITS"
   ]
  },
  {
   "cell_type": "markdown",
   "metadata": {},
   "source": [
    "#### Standard Scaler"
   ]
  },
  {
   "cell_type": "code",
   "execution_count": 16,
   "metadata": {},
   "outputs": [],
   "source": [
    "saits_imputation_standard = toolkits.model_imputation(dataset_for_testing_standard, saits)\n",
    "saits_imputation_standard = toolkits.pre_reshape(saits_imputation_standard)\n",
    "saits_imputation_standard_ori = toolkits.desnormalization(saits_imputation_standard, scaler_standard)\n",
    "saits_imputation_standard = toolkits.reshape_variable(saits_imputation_standard)\n",
    "saits_imputation_standard_ori = toolkits.reshape_variable(saits_imputation_standard_ori)"
   ]
  },
  {
   "cell_type": "markdown",
   "metadata": {},
   "source": [
    "### BRITS"
   ]
  },
  {
   "cell_type": "markdown",
   "metadata": {},
   "source": [
    "#### Standard Scaler"
   ]
  },
  {
   "cell_type": "code",
   "execution_count": 17,
   "metadata": {},
   "outputs": [],
   "source": [
    "brits_imputation_standard = toolkits.model_imputation(dataset_for_testing_standard, brits)\n",
    "brits_imputation_standard = toolkits.pre_reshape(brits_imputation_standard)\n",
    "brits_imputation_standard_ori = toolkits.desnormalization(brits_imputation_standard, scaler_standard)\n",
    "brits_imputation_standard = toolkits.reshape_variable(brits_imputation_standard)\n",
    "brits_imputation_standard_ori = toolkits.reshape_variable(brits_imputation_standard_ori)"
   ]
  },
  {
   "cell_type": "markdown",
   "metadata": {},
   "source": [
    "### USGAN"
   ]
  },
  {
   "cell_type": "code",
   "execution_count": 18,
   "metadata": {},
   "outputs": [],
   "source": [
    "usgan_imputation_standard = toolkits.model_imputation(dataset_for_testing_standard, us_gan)\n",
    "usgan_imputation_standard = toolkits.pre_reshape(usgan_imputation_standard)\n",
    "usgan_imputation_standard_ori = toolkits.desnormalization(usgan_imputation_standard, scaler_standard)\n",
    "usgan_imputation_standard = toolkits.reshape_variable(usgan_imputation_standard)\n",
    "usgan_imputation_standard_ori = toolkits.reshape_variable(usgan_imputation_standard_ori)"
   ]
  },
  {
   "cell_type": "markdown",
   "metadata": {},
   "source": [
    "### GPVAE"
   ]
  },
  {
   "cell_type": "code",
   "execution_count": 19,
   "metadata": {},
   "outputs": [],
   "source": [
    "gpvae_imputation_standard = toolkits.model_imputation(dataset_for_testing_standard, gp_vae)\n",
    "gpvae_imputation_standard = toolkits.pre_reshape(gpvae_imputation_standard)\n",
    "gpvae_imputation_standard_ori = toolkits.desnormalization(gpvae_imputation_standard, scaler_standard)\n",
    "gpvae_imputation_standard = toolkits.reshape_variable(gpvae_imputation_standard)\n",
    "gpvae_imputation_standard_ori = toolkits.reshape_variable(gpvae_imputation_standard_ori)"
   ]
  },
  {
   "cell_type": "markdown",
   "metadata": {},
   "source": [
    "### MRNN"
   ]
  },
  {
   "cell_type": "code",
   "execution_count": 20,
   "metadata": {},
   "outputs": [],
   "source": [
    "mrnn_imputation_standard = toolkits.model_imputation(dataset_for_testing_standard, mrnn)\n",
    "mrnn_imputation_standard = toolkits.pre_reshape(mrnn_imputation_standard)\n",
    "mrnn_imputation_standard_ori = toolkits.desnormalization(mrnn_imputation_standard, scaler_standard)\n",
    "mrnn_imputation_standard = toolkits.reshape_variable(mrnn_imputation_standard)\n",
    "mrnn_imputation_standard_ori = toolkits.reshape_variable(mrnn_imputation_standard_ori)"
   ]
  },
  {
   "cell_type": "markdown",
   "metadata": {},
   "source": [
    "# Calculate mean absolute error"
   ]
  },
  {
   "cell_type": "code",
   "execution_count": 21,
   "metadata": {},
   "outputs": [],
   "source": [
    "variables = [\"ALP\", \"ALT\", \"AST\", \"Albumin\", \"BUN\", \"Bilirubin\", \"Cholesterol\", \"Creatinine\", \"DiasABP\", \"FiO2\", \"GCS\", \"Glucose\", \"HCO3\", \"HCT\", \"HR\", \"K\", \"Lactate\", \"MAP\", \"MechVent\", \"Mg\", \"NIDiasABP\", \"NIMAP\", \"NISysABP\", \"Na\", \"PaCO2\", \"PaO2\", \"Platelets\", \"RespRate\", \"SaO2\", \"SysABP\", \"Temp\", \"TroponinI\", \"TroponinT\", \"Urine\", \"WBC\", \"Weight\", \"Ph\"]"
   ]
  },
  {
   "cell_type": "markdown",
   "metadata": {},
   "source": [
    "## SAITS"
   ]
  },
  {
   "cell_type": "markdown",
   "metadata": {},
   "source": [
    "### Calculate MAE and AE"
   ]
  },
  {
   "cell_type": "code",
   "execution_count": 22,
   "metadata": {},
   "outputs": [],
   "source": [
    "testing_mae_saits_variables_standard, testing_ae_saits_variables_standard = toolkits.calculate_mae(saits_imputation_standard, test_X_ori_variable_standard_norm, indicating_mask_variable_standard_norm)"
   ]
  },
  {
   "cell_type": "markdown",
   "metadata": {},
   "source": [
    "### Taking the MAE difference for SAITS model"
   ]
  },
  {
   "cell_type": "markdown",
   "metadata": {},
   "source": [
    "#### Difference between gender group"
   ]
  },
  {
   "cell_type": "code",
   "execution_count": 23,
   "metadata": {},
   "outputs": [
    {
     "data": {
      "text/plain": [
       "[('Cholesterol', 0.5369465600078649),\n",
       " ('TroponinI', 0.21670827441781393),\n",
       " ('SaO2', 0.2006324035650055),\n",
       " ('Lactate', 0.10301878818965454),\n",
       " ('Urine', 0.06260751107865509)]"
      ]
     },
     "execution_count": 23,
     "metadata": {},
     "output_type": "execute_result"
    }
   ],
   "source": [
    "diff_saits_gender_subgroup = toolkits.diff_mae_top_5(testing_mae_saits_variables_standard, 1, 2, variables)\n",
    "diff_saits_gender_subgroup"
   ]
  },
  {
   "cell_type": "markdown",
   "metadata": {},
   "source": [
    "#### Difference between age group"
   ]
  },
  {
   "cell_type": "code",
   "execution_count": 24,
   "metadata": {},
   "outputs": [
    {
     "data": {
      "text/plain": [
       "[('Cholesterol', 0.7145901970213923),\n",
       " ('TroponinI', 0.5566432434151988),\n",
       " ('ALP', 0.3592549477972564),\n",
       " ('SaO2', 0.1956973703724636),\n",
       " ('Bilirubin', 0.19557828811797667)]"
      ]
     },
     "execution_count": 24,
     "metadata": {},
     "output_type": "execute_result"
    }
   ],
   "source": [
    "diff_saits_age_subgroup = toolkits.diff_mae_top_5(testing_mae_saits_variables_standard, 4, 5, variables)\n",
    "diff_saits_age_subgroup"
   ]
  },
  {
   "cell_type": "markdown",
   "metadata": {},
   "source": [
    "#### Difference between ICUType group"
   ]
  },
  {
   "cell_type": "code",
   "execution_count": 25,
   "metadata": {},
   "outputs": [],
   "source": [
    "diff_saits_ICUType_1_2 = toolkits.diff_mae_top_5(testing_mae_saits_variables_standard, 6, 7, variables)\n",
    "diff_saits_ICUType_1_3 = toolkits.diff_mae_top_5(testing_mae_saits_variables_standard, 6, 8, variables)\n",
    "diff_saits_ICUType_1_4 = toolkits.diff_mae_top_5(testing_mae_saits_variables_standard, 6, 9, variables)\n",
    "diff_saits_ICUType_2_3 = toolkits.diff_mae_top_5(testing_mae_saits_variables_standard, 7, 8, variables)\n",
    "diff_saits_ICUType_2_4 = toolkits.diff_mae_top_5(testing_mae_saits_variables_standard, 7, 9, variables)\n",
    "diff_saits_ICUType_3_4 = toolkits.diff_mae_top_5(testing_mae_saits_variables_standard, 8, 9, variables)"
   ]
  },
  {
   "cell_type": "code",
   "execution_count": 26,
   "metadata": {},
   "outputs": [
    {
     "name": "stdout",
     "output_type": "stream",
     "text": [
      "Diferença(MAE) ICUType 1 e 2\n",
      "----------------------------\n",
      "[('TroponinI', 0.9325070778805344), ('Cholesterol', 0.9139836206325719), ('TroponinT', 0.610061672941423), ('Albumin', 0.3227603119355845), ('AST', 0.2527107766945585)]\n",
      "----------------------------\n",
      "Diferença(MAE) ICUType 1 e 3\n",
      "----------------------------\n",
      "[('TroponinI', 1.0714226157212936), ('SaO2', 1.0588494232986556), ('ALP', 0.7533389720997652), ('TroponinT', 0.5510963137613376), ('Albumin', 0.20918888526467827)]\n",
      "----------------------------\n",
      "Diferença(MAE) ICUType 1 e 4\n",
      "----------------------------\n",
      "[('TroponinI', 0.6292154153589171), ('TroponinT', 0.5631873029767689), ('Albumin', 0.2424261680183718), ('Bilirubin', 0.2032288517692434), ('Glucose', 0.18363430222468535)]\n",
      "----------------------------\n",
      "Diferença(MAE) ICUType 2 e 3\n",
      "[('SaO2', 1.2740858586846673), ('Cholesterol', 0.8991669157791677), ('ALP', 0.8536263954002238), ('Temp', 0.2721045789688794), ('Glucose', 0.22842305459952772)]\n",
      "----------------------------\n",
      "Diferença(MAE) ICUType 2 e 4\n",
      "----------------------------\n",
      "[('Cholesterol', 0.7372176583501053), ('TroponinI', 0.3032916625216173), ('ALP', 0.26900026148955364), ('Temp', 0.19611661775180536), ('K', 0.14884237512840498)]\n",
      "----------------------------\n",
      "Diferença(MAE) ICUType 3 e 4\n",
      "----------------------------\n",
      "[('SaO2', 1.1404703698523682), ('ALP', 0.5846261339106702), ('TroponinI', 0.44220720036237654), ('Glucose', 0.26865935240948746), ('K', 0.2262761812629593)]\n",
      "----------------------------\n"
     ]
    }
   ],
   "source": [
    "print(\"Diferença(MAE) ICUType 1 e 2\")\n",
    "print(\"----------------------------\")\n",
    "print(diff_saits_ICUType_1_2)\n",
    "print(\"----------------------------\")\n",
    "print(\"Diferença(MAE) ICUType 1 e 3\")\n",
    "print(\"----------------------------\")\n",
    "print(diff_saits_ICUType_1_3)\n",
    "print(\"----------------------------\")\n",
    "print(\"Diferença(MAE) ICUType 1 e 4\")\n",
    "print(\"----------------------------\")\n",
    "print(diff_saits_ICUType_1_4)\n",
    "print(\"----------------------------\")\n",
    "print(\"Diferença(MAE) ICUType 2 e 3\")\n",
    "print(diff_saits_ICUType_2_3)\n",
    "print(\"----------------------------\")\n",
    "print(\"Diferença(MAE) ICUType 2 e 4\")\n",
    "print(\"----------------------------\")\n",
    "print(diff_saits_ICUType_2_4)\n",
    "print(\"----------------------------\")\n",
    "print(\"Diferença(MAE) ICUType 3 e 4\")\n",
    "print(\"----------------------------\")\n",
    "print(diff_saits_ICUType_3_4)\n",
    "print(\"----------------------------\")"
   ]
  },
  {
   "cell_type": "code",
   "execution_count": 27,
   "metadata": {},
   "outputs": [
    {
     "name": "stdout",
     "output_type": "stream",
     "text": [
      "Top 5 variáveis ICUType\n",
      "-----------------------\n",
      "SaO2\n",
      "TroponinI\n",
      "Cholesterol\n",
      "ALP\n",
      "TroponinT\n"
     ]
    }
   ],
   "source": [
    "print(\"Top 5 variáveis ICUType\")\n",
    "print(\"-----------------------\")\n",
    "print(variables[28])\n",
    "print(variables[31])\n",
    "print(variables[6])\n",
    "print(variables[0])\n",
    "print(variables[32])"
   ]
  },
  {
   "cell_type": "markdown",
   "metadata": {},
   "source": [
    "#### Difference between BMI group"
   ]
  },
  {
   "cell_type": "code",
   "execution_count": 28,
   "metadata": {},
   "outputs": [],
   "source": [
    "diff_saits_classification_undefined_low = toolkits.diff_mae_top_5(testing_mae_saits_variables_standard, 10, 11, variables)\n",
    "diff_saits_classification_undefined_normal = toolkits.diff_mae_top_5(testing_mae_saits_variables_standard, 10, 12, variables)\n",
    "diff_saits_classification_undefined_over = toolkits.diff_mae_top_5(testing_mae_saits_variables_standard, 10, 13, variables)\n",
    "diff_saits_classification_undefined_obs1 = toolkits.diff_mae_top_5(testing_mae_saits_variables_standard, 10, 14, variables)\n",
    "diff_saits_classification_undefined_obs2 = toolkits.diff_mae_top_5(testing_mae_saits_variables_standard, 10, 15, variables)\n",
    "diff_saits_classification_undefined_obs3 = toolkits.diff_mae_top_5(testing_mae_saits_variables_standard, 10, 16, variables)\n",
    "\n",
    "diff_saits_classification_low_normal = toolkits.diff_mae_top_5(testing_mae_saits_variables_standard, 11, 12, variables)\n",
    "diff_saits_classification_low_over = toolkits.diff_mae_top_5(testing_mae_saits_variables_standard, 11, 13, variables)\n",
    "diff_saits_classification_low_obs1 = toolkits.diff_mae_top_5(testing_mae_saits_variables_standard, 11, 14, variables)\n",
    "diff_saits_classification_low_obs2 = toolkits.diff_mae_top_5(testing_mae_saits_variables_standard, 11, 15, variables)\n",
    "diff_saits_classification_low_obs3 = toolkits.diff_mae_top_5(testing_mae_saits_variables_standard, 11, 16, variables)\n",
    "\n",
    "diff_saits_classification_normal_over = toolkits.diff_mae_top_5(testing_mae_saits_variables_standard, 12, 13, variables)\n",
    "diff_saits_classification_normal_obs1 = toolkits.diff_mae_top_5(testing_mae_saits_variables_standard, 12, 14, variables)\n",
    "diff_saits_classification_normal_obs2 = toolkits.diff_mae_top_5(testing_mae_saits_variables_standard, 12, 15, variables)\n",
    "diff_saits_classification_normal_obs3 = toolkits.diff_mae_top_5(testing_mae_saits_variables_standard, 12, 16, variables)\n",
    "\n",
    "diff_saits_classification_over_obs1 = toolkits.diff_mae_top_5(testing_mae_saits_variables_standard, 13, 14, variables)\n",
    "diff_saits_classification_over_obs2 = toolkits.diff_mae_top_5(testing_mae_saits_variables_standard, 13, 15, variables)\n",
    "diff_saits_classification_over_obs3 = toolkits.diff_mae_top_5(testing_mae_saits_variables_standard, 13, 16, variables)\n",
    "\n",
    "\n",
    "diff_saits_classification_obs1_obs2 = toolkits.diff_mae_top_5(testing_mae_saits_variables_standard, 14, 15, variables)\n",
    "diff_saits_classification_obs1_obs3 = toolkits.diff_mae_top_5(testing_mae_saits_variables_standard, 14, 16, variables)\n",
    "\n",
    "diff_saits_classification_obs2_obs3 = toolkits.diff_mae_top_5(testing_mae_saits_variables_standard, 15, 16, variables)"
   ]
  },
  {
   "cell_type": "code",
   "execution_count": 29,
   "metadata": {},
   "outputs": [
    {
     "name": "stdout",
     "output_type": "stream",
     "text": [
      "Diferença(MAE) Classification Undefined and low\n",
      "----------------------------\n",
      "[('ALP', 1.0695110496684588), ('Bilirubin', 0.9915184933318177), ('TroponinI', 0.6146236310366883), ('TroponinT', 0.44333031899542663), ('Glucose', 0.416639242489911)]\n",
      "----------------------------\n",
      "Diferença(MAE) Classification Undefined and normal\n",
      "----------------------------\n",
      "[('Cholesterol', 0.2895575098137716), ('SaO2', 0.2683085879682801), ('TroponinI', 0.1622792886545023), ('Bilirubin', 0.1397830646769168), ('PaCO2', 0.1369607780183822)]\n",
      "----------------------------\n",
      "Diferença(MAE) Classification Undefined and over\n",
      "----------------------------\n",
      "[('Cholesterol', 0.4194546739320397), ('TroponinI', 0.2691988036465801), ('SaO2', 0.24053120129581373), ('TroponinT', 0.22793862706114962), ('Temp', 0.15260043693171418)]\n",
      "----------------------------\n",
      "Diferença(MAE) Classification Undefined and obs1\n",
      "[('Ph', 0.8884223546988217), ('SaO2', 0.25746554212335293), ('Albumin', 0.20186192626912858), ('Glucose', 0.17482233765734478), ('Temp', 0.16630288720224887)]\n",
      "----------------------------\n",
      "Diferença(MAE) Classification Undefined and obs2\n",
      "----------------------------\n",
      "[('TroponinT', 1.1841931283900113), ('TroponinI', 0.6146236310366883), ('Cholesterol', 0.5346509074295557), ('Albumin', 0.21528342344443063), ('ALP', 0.20332935007332512)]\n",
      "----------------------------\n",
      "Diferença(MAE) ICUType Undefined and obs3\n",
      "----------------------------\n",
      "[('TroponinT', 0.9733664067414144), ('Cholesterol', 0.5372298258543907), ('TroponinI', 0.2319849197126228), ('Albumin', 0.1694399116641826), ('ALP', 0.16674560775856168)]\n",
      "----------------------------\n"
     ]
    }
   ],
   "source": [
    "print(\"Diferença(MAE) Classification Undefined and low\")\n",
    "print(\"----------------------------\")\n",
    "print(diff_saits_classification_undefined_low)\n",
    "print(\"----------------------------\")\n",
    "print(\"Diferença(MAE) Classification Undefined and normal\")\n",
    "print(\"----------------------------\")\n",
    "print(diff_saits_classification_undefined_normal)\n",
    "print(\"----------------------------\")\n",
    "print(\"Diferença(MAE) Classification Undefined and over\")\n",
    "print(\"----------------------------\")\n",
    "print(diff_saits_classification_undefined_over)\n",
    "print(\"----------------------------\")\n",
    "print(\"Diferença(MAE) Classification Undefined and obs1\")\n",
    "print(diff_saits_classification_undefined_obs1)\n",
    "print(\"----------------------------\")\n",
    "print(\"Diferença(MAE) Classification Undefined and obs2\")\n",
    "print(\"----------------------------\")\n",
    "print(diff_saits_classification_undefined_obs2)\n",
    "print(\"----------------------------\")\n",
    "print(\"Diferença(MAE) ICUType Undefined and obs3\")\n",
    "print(\"----------------------------\")\n",
    "print(diff_saits_classification_undefined_obs3)\n",
    "print(\"----------------------------\")"
   ]
  },
  {
   "cell_type": "code",
   "execution_count": 30,
   "metadata": {},
   "outputs": [
    {
     "name": "stdout",
     "output_type": "stream",
     "text": [
      "Diferença(MAE) Classification low and normal\n",
      "----------------------------\n",
      "[('ALP', 0.9982780836518492), ('Bilirubin', 0.8517354286549008), ('Cholesterol', 0.6024235381405012), ('Glucose', 0.45734829458249626), ('TroponinI', 0.45234434238218596)]\n",
      "----------------------------\n",
      "Diferença(MAE) Classification low and over\n",
      "----------------------------\n",
      "[('ALP', 1.2036099992152576), ('Bilirubin', 1.1366820218459297), ('TroponinI', 0.8838224346832684), ('Cholesterol', 0.7323207022587693), ('Albumin', 0.45063840953236967)]\n",
      "----------------------------\n",
      "Diferença(MAE) Classification low and obs1\n",
      "----------------------------\n",
      "[('ALP', 1.2290137796990863), ('Bilirubin', 1.0050968827848537), ('Ph', 0.8831229129347288), ('Albumin', 0.5967439438309785), ('Glucose', 0.5914615801472558)]\n",
      "----------------------------\n",
      "Diferença(MAE) Classification low and obs2\n",
      "[('ALP', 1.2728403997417839), ('Bilirubin', 1.1380893342352523), ('TroponinT', 0.7408628093945846), ('Albumin', 0.6101654410062806), ('Glucose', 0.3955945111187993)]\n",
      "----------------------------\n",
      "Diferença(MAE) Classification low and obs3\n",
      "----------------------------\n",
      "[('ALP', 1.2362566574270204), ('Bilirubin', 1.0630776635156594), ('Albumin', 0.5643219292260325), ('TroponinT', 0.5300360877459878), ('TroponinI', 0.38263871132406546)]\n",
      "----------------------------\n"
     ]
    }
   ],
   "source": [
    "print(\"Diferença(MAE) Classification low and normal\")\n",
    "print(\"----------------------------\")\n",
    "print(diff_saits_classification_low_normal)\n",
    "print(\"----------------------------\")\n",
    "print(\"Diferença(MAE) Classification low and over\")\n",
    "print(\"----------------------------\")\n",
    "print(diff_saits_classification_low_over)\n",
    "print(\"----------------------------\")\n",
    "print(\"Diferença(MAE) Classification low and obs1\")\n",
    "print(\"----------------------------\")\n",
    "print(diff_saits_classification_low_obs1)\n",
    "print(\"----------------------------\")\n",
    "print(\"Diferença(MAE) Classification low and obs2\")\n",
    "print(diff_saits_classification_low_obs2)\n",
    "print(\"----------------------------\")\n",
    "print(\"Diferença(MAE) Classification low and obs3\")\n",
    "print(\"----------------------------\")\n",
    "print(diff_saits_classification_low_obs3)\n",
    "print(\"----------------------------\")"
   ]
  },
  {
   "cell_type": "code",
   "execution_count": 31,
   "metadata": {},
   "outputs": [
    {
     "name": "stdout",
     "output_type": "stream",
     "text": [
      "Diferença(MAE) Classification normal and over\n",
      "----------------------------\n",
      "[('TroponinI', 0.4314780923010824), ('Bilirubin', 0.2849465931910288), ('ALP', 0.2053319155634084), ('TroponinT', 0.19265691687489067), ('Cholesterol', 0.12989716411826813)]\n",
      "----------------------------\n",
      "Diferença(MAE) Classification normal and obs1\n",
      "----------------------------\n",
      "[('Ph', 0.8949578059134441), ('ALP', 0.23073569604723718), ('Albumin', 0.18762873907869004), ('Mg', 0.17643656092671073), ('Cholesterol', 0.16955198480248967)]\n",
      "----------------------------\n",
      "Diferença(MAE) Classification normal and obs2\n",
      "----------------------------\n",
      "[('TroponinT', 1.1489114182037523), ('Cholesterol', 0.8242084172433273), ('TroponinI', 0.45234434238218596), ('Bilirubin', 0.28635390558035134), ('ALP', 0.27456231608993475)]\n",
      "----------------------------\n",
      "Diferença(MAE) Classification normal and obs3\n",
      "[('TroponinT', 0.9380846965551555), ('Cholesterol', 0.8267873356681623), ('ALP', 0.23797857377517134), ('ALT', 0.22522062790349448), ('Bilirubin', 0.21134223486075848)]\n",
      "----------------------------\n"
     ]
    }
   ],
   "source": [
    "print(\"Diferença(MAE) Classification normal and over\")\n",
    "print(\"----------------------------\")\n",
    "print(diff_saits_classification_normal_over)\n",
    "print(\"----------------------------\")\n",
    "print(\"Diferença(MAE) Classification normal and obs1\")\n",
    "print(\"----------------------------\")\n",
    "print(diff_saits_classification_normal_obs1)\n",
    "print(\"----------------------------\")\n",
    "print(\"Diferença(MAE) Classification normal and obs2\")\n",
    "print(\"----------------------------\")\n",
    "print(diff_saits_classification_normal_obs2)\n",
    "print(\"----------------------------\")\n",
    "print(\"Diferença(MAE) Classification normal and obs3\")\n",
    "print(diff_saits_classification_normal_obs3)\n",
    "print(\"----------------------------\")"
   ]
  },
  {
   "cell_type": "code",
   "execution_count": 32,
   "metadata": {},
   "outputs": [
    {
     "name": "stdout",
     "output_type": "stream",
     "text": [
      "Diferença(MAE) Classification over and obs1\n",
      "----------------------------\n",
      "[('Ph', 0.8907623608787905), ('TroponinI', 0.3704914364449188), ('Cholesterol', 0.2994491489207578), ('Glucose', 0.15595710055083023), ('Albumin', 0.14610553429860884)]\n",
      "----------------------------\n",
      "Diferença(MAE) Classification over and obs2\n",
      "----------------------------\n",
      "[('TroponinT', 0.9562545013288617), ('Cholesterol', 0.9541055813615954), ('TroponinI', 0.8838224346832684), ('Albumin', 0.1595270314739109), ('K', 0.11861301604813246)]\n",
      "----------------------------\n",
      "Diferença(MAE) Classification over and obs3\n",
      "----------------------------\n",
      "[('Cholesterol', 0.9566844997864304), ('TroponinT', 0.7454277796802649), ('TroponinI', 0.5011837233592029), ('Glucose', 0.17570701271287492), ('FiO2', 0.16851930435322476)]\n",
      "----------------------------\n"
     ]
    }
   ],
   "source": [
    "print(\"Diferença(MAE) Classification over and obs1\")\n",
    "print(\"----------------------------\")\n",
    "print(diff_saits_classification_over_obs1)\n",
    "print(\"----------------------------\")\n",
    "print(\"Diferença(MAE) Classification over and obs2\")\n",
    "print(\"----------------------------\")\n",
    "print(diff_saits_classification_over_obs2)\n",
    "print(\"----------------------------\")\n",
    "print(\"Diferença(MAE) Classification over and obs3\")\n",
    "print(\"----------------------------\")\n",
    "print(diff_saits_classification_over_obs3)\n",
    "print(\"----------------------------\")"
   ]
  },
  {
   "cell_type": "code",
   "execution_count": 33,
   "metadata": {},
   "outputs": [
    {
     "name": "stdout",
     "output_type": "stream",
     "text": [
      "Diferença(MAE) Classification obs1 and obs2 \n",
      "----------------------------\n",
      "[('TroponinT', 1.1014465142680878), ('Ph', 0.8916481947347921), ('Cholesterol', 0.6546564324408376), ('TroponinI', 0.5133309982383496), ('Glucose', 0.19586706902845652)]\n",
      "----------------------------\n",
      "Diferença(MAE) Classification obs1 and obs3 \n",
      "----------------------------\n",
      "[('Ph', 0.8969041099117874), ('TroponinT', 0.890619792619491), ('Cholesterol', 0.6572353508656726), ('Glucose', 0.33166411326370515), ('ALT', 0.18581162118574304)]\n",
      "----------------------------\n"
     ]
    }
   ],
   "source": [
    "print(\"Diferença(MAE) Classification obs1 and obs2 \")\n",
    "print(\"----------------------------\")\n",
    "print(diff_saits_classification_obs1_obs2)\n",
    "print(\"----------------------------\")\n",
    "print(\"Diferença(MAE) Classification obs1 and obs3 \")\n",
    "print(\"----------------------------\")\n",
    "print(diff_saits_classification_obs1_obs3)\n",
    "print(\"----------------------------\")"
   ]
  },
  {
   "cell_type": "code",
   "execution_count": 34,
   "metadata": {},
   "outputs": [
    {
     "name": "stdout",
     "output_type": "stream",
     "text": [
      "Diferença(MAE) Classification obs2 and obs3 \n",
      "----------------------------\n",
      "[('TroponinI', 0.38263871132406546), ('TroponinT', 0.21082672164859684), ('K', 0.16598073639207245), ('Glucose', 0.13579704423524863), ('HCO3', 0.1312658019106418)]\n",
      "----------------------------\n"
     ]
    }
   ],
   "source": [
    "\n",
    "print(\"Diferença(MAE) Classification obs2 and obs3 \")\n",
    "print(\"----------------------------\")\n",
    "print(diff_saits_classification_obs2_obs3)\n",
    "print(\"----------------------------\")"
   ]
  },
  {
   "cell_type": "code",
   "execution_count": 35,
   "metadata": {},
   "outputs": [
    {
     "name": "stdout",
     "output_type": "stream",
     "text": [
      "Top 5 variáveis BMI\n",
      "-----------------------\n",
      "TroponinT\n",
      "ALP\n",
      "Cholesterol\n",
      "TroponinI\n",
      "Bilirubin\n"
     ]
    }
   ],
   "source": [
    "print(\"Top 5 variáveis BMI\")\n",
    "print(\"-----------------------\")\n",
    "print(variables[32])\n",
    "print(variables[0])\n",
    "print(variables[6])\n",
    "print(variables[31])\n",
    "print(variables[5])"
   ]
  },
  {
   "cell_type": "markdown",
   "metadata": {},
   "source": [
    "### Confidence Interval (Female Subgroup)"
   ]
  },
  {
   "cell_type": "markdown",
   "metadata": {},
   "source": [
    "#### Distribution Bootstrap for the Top 5 variables with Largest Differences in MAE (Mean Absolute Error) "
   ]
  },
  {
   "cell_type": "code",
   "execution_count": 36,
   "metadata": {},
   "outputs": [],
   "source": [
    "indices = [6, 31, 28, 16, 33, 2, 7, 15, 5, 2, 35, 24]\n",
    "\n",
    "results_bootstrap_saits_female = []\n",
    "\n",
    "for i in indices:\n",
    "       results_bootstrap_saits_female.append(toolkits.bootstrap_v2(testing_ae_saits_variables_standard, indicating_mask_variable_standard_norm, 1, i, 9000))"
   ]
  },
  {
   "cell_type": "markdown",
   "metadata": {},
   "source": [
    "#### Calculating the mean and standard deviation of the bootstrap distribution"
   ]
  },
  {
   "cell_type": "code",
   "execution_count": 37,
   "metadata": {},
   "outputs": [
    {
     "name": "stdout",
     "output_type": "stream",
     "text": [
      "[np.float64(1.3709565954271359), np.float64(0.37340746641577754), np.float64(0.5514148109724911), np.float64(0.33219783151411125), np.float64(0.3127126006634792), np.float64(0.1344058768679122), np.float64(0.15004390659670197), np.float64(0.6290111725113285), np.float64(0.25990652535575487), np.float64(0.134371002704543), np.float64(0.08328852545934053), np.float64(0.5210149778023866)]\n",
      "[np.float64(0.28141828979738265), np.float64(0.07163803672687734), np.float64(0.13740379564534702), np.float64(0.02541877537794542), np.float64(0.008793741630019346), np.float64(0.04882230345968876), np.float64(0.010893276810424193), np.float64(0.033966982819504714), np.float64(0.056886855698661046), np.float64(0.048427337503807684), np.float64(0.004729043421165223), np.float64(0.02245024712647019)]\n"
     ]
    }
   ],
   "source": [
    "means_bootstraps_saits_female,standards_deviations_saits_female = toolkits.calc_mean_and_standard_deviation(results_bootstrap_saits_female)\n",
    "\n",
    "print(means_bootstraps_saits_female)\n",
    "print(standards_deviations_saits_female)\n"
   ]
  },
  {
   "cell_type": "markdown",
   "metadata": {},
   "source": [
    "#### Calculating lower bound and upper bound"
   ]
  },
  {
   "cell_type": "code",
   "execution_count": 38,
   "metadata": {},
   "outputs": [
    {
     "name": "stdout",
     "output_type": "stream",
     "text": [
      "[np.float64(0.8193868828334101), np.float64(0.2329994945079403), np.float64(0.28210832016850945), np.float64(0.28237794724222476), np.float64(0.2954771837792908), np.float64(0.03871592044463695), np.float64(0.1286934763746452), np.float64(0.5624371095216085), np.float64(0.1484103369926521), np.float64(0.039455165329914096), np.float64(0.0740197706725306), np.float64(0.4770133019904812)]\n",
      "[np.float64(1.9225263080208617), np.float64(0.5138154383236148), np.float64(0.8207213017764727), np.float64(0.38201771578599775), np.float64(0.32994801754766767), np.float64(0.23009583329118743), np.float64(0.17139433681875874), np.float64(0.6955852355010486), np.float64(0.37140271371885764), np.float64(0.22928684007917188), np.float64(0.09255728024615045), np.float64(0.565016653614292)]\n"
     ]
    }
   ],
   "source": [
    "lower_bounds_saits_female, upper_bounds_saits_female = toolkits.calc_lower_and_upper_bound(results_bootstrap_saits_female, means_bootstraps_saits_female,standards_deviations_saits_female)\n",
    "\n",
    "print(lower_bounds_saits_female)\n",
    "print(upper_bounds_saits_female)"
   ]
  },
  {
   "cell_type": "code",
   "execution_count": 39,
   "metadata": {},
   "outputs": [
    {
     "name": "stdout",
     "output_type": "stream",
     "text": [
      "[np.float64(0.7956492099657536), np.float64(0.23760147981080015), np.float64(0.31828644884334323), np.float64(0.28378240468009003), np.float64(0.29572219940107847), np.float64(0.06067526607776592), np.float64(0.1300153151859639), np.float64(0.564655620050617), np.float64(0.16172599007870753), np.float64(0.05922063882042538), np.float64(0.07466409156145183), np.float64(0.47796719947937777)]\n",
      "[np.float64(1.9226152106244694), np.float64(0.5194834637979123), np.float64(0.8484750064650793), np.float64(0.3837919745568725), np.float64(0.3300071456578719), np.float64(0.24500733036190417), np.float64(0.17308137833531811), np.float64(0.6969997681732706), np.float64(0.3813886456340512), np.float64(0.24560340589051607), np.float64(0.09309534886068198), np.float64(0.5657639504442826)]\n"
     ]
    }
   ],
   "source": [
    "lower_bounds_saits_female, upper_bounds_saits_female = toolkits.calc_lower_and_upper_bound_percentile(results_bootstrap_saits_female)\n",
    "\n",
    "print(lower_bounds_saits_female)\n",
    "print(upper_bounds_saits_female)"
   ]
  },
  {
   "cell_type": "markdown",
   "metadata": {},
   "source": [
    "#### Mean values of lower bound and upper bound\n"
   ]
  },
  {
   "cell_type": "code",
   "execution_count": 40,
   "metadata": {},
   "outputs": [
    {
     "name": "stdout",
     "output_type": "stream",
     "text": [
      "[np.float64(1.3591322102951116), np.float64(0.37854247180435624), np.float64(0.5833807276542113), np.float64(0.33378718961848125), np.float64(0.3128646725294752), np.float64(0.15284129821983505), np.float64(0.151548346760641), np.float64(0.6308276941119437), np.float64(0.2715573178563794), np.float64(0.15241202235547072), np.float64(0.0838797202110669), np.float64(0.5218655749618302)]\n"
     ]
    }
   ],
   "source": [
    "mean_values_ci_saits_female = toolkits.calc_mean_values_ci(lower_bounds_saits_female, upper_bounds_saits_female)\n",
    "\n",
    "print(mean_values_ci_saits_female)"
   ]
  },
  {
   "cell_type": "markdown",
   "metadata": {},
   "source": [
    "### Confidence Interval (Male Subgroup)"
   ]
  },
  {
   "cell_type": "markdown",
   "metadata": {},
   "source": [
    "#### Distribution Bootstrap for the Top 5 variables with Largest Differences in MAE (Mean Absolute Error) "
   ]
  },
  {
   "cell_type": "code",
   "execution_count": 41,
   "metadata": {},
   "outputs": [],
   "source": [
    "indices = [6, 31, 28, 16, 33, 2, 7, 15, 5, 2, 35, 24]\n",
    "\n",
    "results_bootstrap_saits_male = []\n",
    "\n",
    "for i in indices:\n",
    "       results_bootstrap_saits_male.append(toolkits.bootstrap_v2(testing_ae_saits_variables_standard, indicating_mask_variable_standard_norm, 2, i, 9000))"
   ]
  },
  {
   "cell_type": "markdown",
   "metadata": {},
   "source": [
    "#### Calculating the mean and standard deviation of the bootstrap distribution"
   ]
  },
  {
   "cell_type": "code",
   "execution_count": 42,
   "metadata": {},
   "outputs": [
    {
     "name": "stdout",
     "output_type": "stream",
     "text": [
      "[np.float64(0.8438058109897287), np.float64(0.5869423566271345), np.float64(0.3518805600283484), np.float64(0.43558126847157913), np.float64(0.375552431719391), np.float64(0.09281901372823773), np.float64(0.1690444660224031), np.float64(0.5757740658688472), np.float64(0.27776270400965464), np.float64(0.09338513088853735), np.float64(0.07236860789377567), np.float64(0.4871324217581555)]\n",
      "[np.float64(0.14484001062154944), np.float64(0.1704863043219284), np.float64(0.03277833988488178), np.float64(0.03375522091077515), np.float64(0.011914226378457826), np.float64(0.019806856883581282), np.float64(0.009005653419694348), np.float64(0.02569829910524861), np.float64(0.04482147852835932), np.float64(0.01992827195446364), np.float64(0.0030149581872297346), np.float64(0.019178377337048934)]\n"
     ]
    }
   ],
   "source": [
    "means_bootstraps_saits_male,standards_deviations_saits_male = toolkits.calc_mean_and_standard_deviation(results_bootstrap_saits_male)\n",
    "\n",
    "print(means_bootstraps_saits_male)\n",
    "print(standards_deviations_saits_male)\n"
   ]
  },
  {
   "cell_type": "markdown",
   "metadata": {},
   "source": [
    "#### Calculating lower bound and upper bound"
   ]
  },
  {
   "cell_type": "code",
   "execution_count": 43,
   "metadata": {},
   "outputs": [
    {
     "name": "stdout",
     "output_type": "stream",
     "text": [
      "[np.float64(0.559924606651093), np.float64(0.2527953402988194), np.float64(0.2876361943809673), np.float64(0.3694222511962665), np.float64(0.3522009771139566), np.float64(0.05399828758947916), np.float64(0.15139370966255222), np.float64(0.525406325158622), np.float64(0.18991422036023503), np.float64(0.05432643558366898), np.float64(0.06645939843191122), np.float64(0.4495434928956204)]\n",
      "[np.float64(1.1276870153283645), np.float64(0.9210893729554495), np.float64(0.41612492567572945), np.float64(0.5017402857468918), np.float64(0.39890388632482543), np.float64(0.13163973986699629), np.float64(0.186695222382254), np.float64(0.6261418065790724), np.float64(0.36561118765907424), np.float64(0.13244382619340572), np.float64(0.07827781735564011), np.float64(0.5247213506206906)]\n"
     ]
    }
   ],
   "source": [
    "lower_bounds_saits_male, upper_bounds_saits_male = toolkits.calc_lower_and_upper_bound(results_bootstrap_saits_male, means_bootstraps_saits_male,standards_deviations_saits_male)\n",
    "\n",
    "print(lower_bounds_saits_male)\n",
    "print(upper_bounds_saits_male)"
   ]
  },
  {
   "cell_type": "code",
   "execution_count": 44,
   "metadata": {},
   "outputs": [
    {
     "name": "stdout",
     "output_type": "stream",
     "text": [
      "[np.float64(0.5543691095812918), np.float64(0.24383298697774514), np.float64(0.2913003458887765), np.float64(0.3728388718325378), np.float64(0.3534882648294865), np.float64(0.059506104688290054), np.float64(0.15194163170799502), np.float64(0.5272282213020713), np.float64(0.1988940094151244), np.float64(0.059478934499948836), np.float64(0.06681734315554012), np.float64(0.4504542166091075)]\n",
      "[np.float64(1.1198583711659658), np.float64(0.9200887406982938), np.float64(0.4211647434429169), np.float64(0.5048942135005), np.float64(0.40002559431022744), np.float64(0.1365678947406039), np.float64(0.18747326919939217), np.float64(0.6277415611360948), np.float64(0.3747574600297154), np.float64(0.1377540376898181), np.float64(0.07844891936116019), np.float64(0.5255574881262816)]\n"
     ]
    }
   ],
   "source": [
    "lower_bounds_saits_male, upper_bounds_saits_male = toolkits.calc_lower_and_upper_bound_percentile(results_bootstrap_saits_male)\n",
    "\n",
    "print(lower_bounds_saits_male)\n",
    "print(upper_bounds_saits_male)"
   ]
  },
  {
   "cell_type": "markdown",
   "metadata": {},
   "source": [
    "#### Mean values of lower bound and upper bound\n"
   ]
  },
  {
   "cell_type": "code",
   "execution_count": 45,
   "metadata": {},
   "outputs": [
    {
     "name": "stdout",
     "output_type": "stream",
     "text": [
      "[np.float64(0.8371137403736288), np.float64(0.5819608638380195), np.float64(0.3562325446658467), np.float64(0.4388665426665189), np.float64(0.37675692956985696), np.float64(0.09803699971444699), np.float64(0.1697074504536936), np.float64(0.5774848912190831), np.float64(0.2868257347224199), np.float64(0.09861648609488347), np.float64(0.07263313125835016), np.float64(0.48800585236769456)]\n"
     ]
    }
   ],
   "source": [
    "mean_values_ci_saits_male = toolkits.calc_mean_values_ci(lower_bounds_saits_male, upper_bounds_saits_male)\n",
    "\n",
    "print(mean_values_ci_saits_male)"
   ]
  },
  {
   "cell_type": "markdown",
   "metadata": {},
   "source": [
    "### Confidence Interval (+65 Subgroup)"
   ]
  },
  {
   "cell_type": "markdown",
   "metadata": {},
   "source": [
    "#### Distribution Bootstrap for the Top 5 variables with Largest Differences in MAE (Mean Absolute Error) "
   ]
  },
  {
   "cell_type": "code",
   "execution_count": 46,
   "metadata": {},
   "outputs": [],
   "source": [
    "indices = [6, 32, 0, 28, 5, 31, 3]\n",
    "\n",
    "\n",
    "results_bootstrap_saits_more_than_or_equal_to_65_subgroup = []\n",
    "\n",
    "for i in indices:\n",
    "       results_bootstrap_saits_more_than_or_equal_to_65_subgroup.append(toolkits.bootstrap_v2(testing_ae_saits_variables_standard, indicating_mask_variable_standard_norm, 4, i, 9000))\n"
   ]
  },
  {
   "cell_type": "markdown",
   "metadata": {},
   "source": [
    "#### Calculating the mean and standard deviation of the bootstrap distribution"
   ]
  },
  {
   "cell_type": "code",
   "execution_count": 47,
   "metadata": {},
   "outputs": [
    {
     "name": "stdout",
     "output_type": "stream",
     "text": [
      "[np.float64(0.6840107251428338), np.float64(0.306890478696312), np.float64(0.5410854493791742), np.float64(0.3593861740725029), np.float64(0.2174941018946004), np.float64(0.9223744805456358), np.float64(0.5744216340030307)]\n",
      "[np.float64(0.17674009842842184), np.float64(0.06812227123612309), np.float64(0.11748070729527743), np.float64(0.033110838324512136), np.float64(0.024756910288949063), np.float64(0.323474177873407), np.float64(0.060833523112653914)]\n"
     ]
    }
   ],
   "source": [
    "means_bootstraps_saits_more_than_or_equal_to_65_subgroup,standards_deviations_saits_more_than_or_equal_to_65_subgroup = toolkits.calc_mean_and_standard_deviation(results_bootstrap_saits_more_than_or_equal_to_65_subgroup)\n",
    "\n",
    "print(means_bootstraps_saits_more_than_or_equal_to_65_subgroup)\n",
    "print(standards_deviations_saits_more_than_or_equal_to_65_subgroup)"
   ]
  },
  {
   "cell_type": "markdown",
   "metadata": {},
   "source": [
    "#### Calculating lower bound and upper bound\n"
   ]
  },
  {
   "cell_type": "code",
   "execution_count": 48,
   "metadata": {},
   "outputs": [
    {
     "name": "stdout",
     "output_type": "stream",
     "text": [
      "[np.float64(0.33760649759906275), np.float64(0.17337328052844184), np.float64(0.3108274942021385), np.float64(0.29449012345853054), np.float64(0.16897144935977113), np.float64(0.2883767419850548), np.float64(0.45519011964954403)]\n",
      "[np.float64(1.0304149526866049), np.float64(0.44040767686418214), np.float64(0.77134340455621), np.float64(0.42428222468647525), np.float64(0.2660167544294296), np.float64(1.5563722191062168), np.float64(0.6936531483565174)]\n"
     ]
    }
   ],
   "source": [
    "lower_bounds_saits_more_than_or_equal_to_65_subgroup, upper_bounds_saits_more_than_or_equal_to_65_subgroup = toolkits.calc_lower_and_upper_bound(results_bootstrap_saits_more_than_or_equal_to_65_subgroup, means_bootstraps_saits_more_than_or_equal_to_65_subgroup,standards_deviations_saits_more_than_or_equal_to_65_subgroup)\n",
    "\n",
    "print(lower_bounds_saits_more_than_or_equal_to_65_subgroup)\n",
    "print(upper_bounds_saits_more_than_or_equal_to_65_subgroup)\n"
   ]
  },
  {
   "cell_type": "code",
   "execution_count": 49,
   "metadata": {},
   "outputs": [
    {
     "name": "stdout",
     "output_type": "stream",
     "text": [
      "[np.float64(0.35107048872115837), np.float64(0.19405457858945557), np.float64(0.3309408378621302), np.float64(0.3012529987658585), np.float64(0.1722652547233647), np.float64(0.3744696407841734), np.float64(0.4631869896193011)]\n",
      "[np.float64(1.0522101190096362), np.float64(0.45790638712920423), np.float64(0.7899029574949497), np.float64(0.43035416737196197), np.float64(0.26915957286882153), np.float64(1.6354705428625909), np.float64(0.6978495924750472)]\n"
     ]
    }
   ],
   "source": [
    "lower_bounds_saits_more_than_or_equal_to_65_subgroup, upper_bounds_saits_more_than_or_equal_to_65_subgroup = toolkits.calc_lower_and_upper_bound_percentile(results_bootstrap_saits_more_than_or_equal_to_65_subgroup)\n",
    "\n",
    "print(lower_bounds_saits_more_than_or_equal_to_65_subgroup)\n",
    "print(upper_bounds_saits_more_than_or_equal_to_65_subgroup)"
   ]
  },
  {
   "cell_type": "markdown",
   "metadata": {},
   "source": [
    "#### Mean values of lower bound and upper bound"
   ]
  },
  {
   "cell_type": "code",
   "execution_count": 50,
   "metadata": {},
   "outputs": [
    {
     "name": "stdout",
     "output_type": "stream",
     "text": [
      "[np.float64(0.7016403038653973), np.float64(0.3259804828593299), np.float64(0.5604218976785399), np.float64(0.36580358306891025), np.float64(0.22071241379609313), np.float64(1.0049700918233822), np.float64(0.5805182910471741)]\n"
     ]
    }
   ],
   "source": [
    "mean_values_ci_saits_more_than_or_equal_to_65_subgroup  = toolkits.calc_mean_values_ci(lower_bounds_saits_more_than_or_equal_to_65_subgroup , upper_bounds_saits_more_than_or_equal_to_65_subgroup)\n",
    "\n",
    "print(mean_values_ci_saits_more_than_or_equal_to_65_subgroup)"
   ]
  },
  {
   "cell_type": "markdown",
   "metadata": {},
   "source": [
    "### Confidence Interval (-65 subgroup)"
   ]
  },
  {
   "cell_type": "markdown",
   "metadata": {},
   "source": [
    "#### Distribution Bootstrap for the Top 5 variables with Largest Differences in MAE (Mean Absolute Error) "
   ]
  },
  {
   "cell_type": "code",
   "execution_count": 51,
   "metadata": {},
   "outputs": [],
   "source": [
    "indices = [6, 32, 0, 28, 5, 31, 3]\n",
    "\n",
    "results_bootstrap_saits_less_than_65_subgroup = []\n",
    "\n",
    "for i in indices:\n",
    "       results_bootstrap_saits_less_than_65_subgroup.append(toolkits.bootstrap_v2(testing_ae_saits_variables_standard, indicating_mask_variable_standard_norm, 5, i, 9000))\n",
    "\n"
   ]
  },
  {
   "cell_type": "markdown",
   "metadata": {},
   "source": [
    "#### Calculating the mean and standard deviation of the bootstrap distribution"
   ]
  },
  {
   "cell_type": "code",
   "execution_count": 52,
   "metadata": {},
   "outputs": [
    {
     "name": "stdout",
     "output_type": "stream",
     "text": [
      "[np.float64(1.2071296148172286), np.float64(0.2725344788786177), np.float64(0.8978045284833425), np.float64(0.5526726596231104), np.float64(0.4140160720931158), np.float64(0.3646116414487031), np.float64(0.6601403948860949)]\n",
      "[np.float64(0.7955134454995609), np.float64(0.08230259752908997), np.float64(0.3725300533810867), np.float64(0.13485242331156377), np.float64(0.07105143502438786), np.float64(0.08783285426784743), np.float64(0.05310376481708998)]\n"
     ]
    }
   ],
   "source": [
    "means_bootstraps_saits_less_than_65_subgroup,standards_deviations_saits_less_than_65_subgroup = toolkits.calc_mean_and_standard_deviation(results_bootstrap_saits_less_than_65_subgroup)\n",
    "\n",
    "print(means_bootstraps_saits_less_than_65_subgroup)\n",
    "print(standards_deviations_saits_less_than_65_subgroup)"
   ]
  },
  {
   "cell_type": "markdown",
   "metadata": {},
   "source": [
    "#### Calculating lower bound and upper bound"
   ]
  },
  {
   "cell_type": "code",
   "execution_count": 53,
   "metadata": {},
   "outputs": [
    {
     "name": "stdout",
     "output_type": "stream",
     "text": [
      "[np.float64(-0.35204808757927797), np.float64(0.11122435188750612), np.float64(0.16765904069762871), np.float64(0.2883667667044958), np.float64(0.2747578183954278), np.float64(0.192462410424367), np.float64(0.5560589284011133)]\n",
      "[np.float64(2.766307317213735), np.float64(0.4338446058697293), np.float64(1.627950016269056), np.float64(0.816978552541725), np.float64(0.5532743257908038), np.float64(0.5367608724730393), np.float64(0.7642218613710765)]\n"
     ]
    }
   ],
   "source": [
    "lower_bounds_saits_less_than_65_subgroup, upper_bounds_saits_less_than_65_subgroup = toolkits.calc_lower_and_upper_bound(results_bootstrap_saits_less_than_65_subgroup, means_bootstraps_saits_less_than_65_subgroup, standards_deviations_saits_less_than_65_subgroup)\n",
    "\n",
    "print(lower_bounds_saits_less_than_65_subgroup)\n",
    "print(upper_bounds_saits_less_than_65_subgroup)\n"
   ]
  },
  {
   "cell_type": "code",
   "execution_count": 54,
   "metadata": {},
   "outputs": [
    {
     "name": "stdout",
     "output_type": "stream",
     "text": [
      "[np.float64(0.0), np.float64(0.1376943592692674), np.float64(0.3233972572576607), np.float64(0.32445719658454286), np.float64(0.286189075230866), np.float64(0.1889877196050605), np.float64(0.5601331906484173)]\n",
      "[np.float64(2.297978957925913), np.float64(0.4524516282420147), np.float64(1.730549831346401), np.float64(0.8480803514414874), np.float64(0.5624647859409228), np.float64(0.5277707171008981), np.float64(0.7670367606413029)]\n"
     ]
    }
   ],
   "source": [
    "lower_bounds_saits_less_than_65_subgroup, upper_bounds_saits_less_than_65_subgroup = toolkits.calc_lower_and_upper_bound_percentile(results_bootstrap_saits_less_than_65_subgroup)\n",
    "\n",
    "print(lower_bounds_saits_less_than_65_subgroup)\n",
    "print(upper_bounds_saits_less_than_65_subgroup)\n"
   ]
  },
  {
   "cell_type": "markdown",
   "metadata": {},
   "source": [
    "#### Mean values of lower bound and upper bound"
   ]
  },
  {
   "cell_type": "code",
   "execution_count": 55,
   "metadata": {},
   "outputs": [
    {
     "name": "stdout",
     "output_type": "stream",
     "text": [
      "[np.float64(1.1489894789629564), np.float64(0.29507299375564106), np.float64(1.026973544302031), np.float64(0.5862687740130151), np.float64(0.4243269305858944), np.float64(0.35837921835297926), np.float64(0.6635849756448601)]\n"
     ]
    }
   ],
   "source": [
    "mean_values_ci_saits_less_than_65_subgroup  = toolkits.calc_mean_values_ci(lower_bounds_saits_less_than_65_subgroup, upper_bounds_saits_less_than_65_subgroup)\n",
    "\n",
    "print(mean_values_ci_saits_less_than_65_subgroup)"
   ]
  },
  {
   "cell_type": "markdown",
   "metadata": {},
   "source": [
    "### Confidence Interval (ICUType 1 subgroup)"
   ]
  },
  {
   "cell_type": "markdown",
   "metadata": {},
   "source": [
    "#### Distribution Bootstrap for the Top 5 variables with Largest Differences in MAE (Mean Absolute Error) "
   ]
  },
  {
   "cell_type": "code",
   "execution_count": 56,
   "metadata": {},
   "outputs": [],
   "source": [
    "indices = [28, 31, 6, 0, 32, 24]\n",
    "\n",
    "\n",
    "\n",
    "\n",
    "results_bootstrap_saits_ICUType_1_subgroup = []\n",
    "\n",
    "for i in indices:\n",
    "       results_bootstrap_saits_ICUType_1_subgroup.append(toolkits.bootstrap_v2(testing_ae_saits_variables_standard, indicating_mask_variable_standard_norm, 6, i, 9000))\n",
    "\n"
   ]
  },
  {
   "cell_type": "markdown",
   "metadata": {},
   "source": [
    "#### Calculating the mean and standard deviation of the bootstrap distribution"
   ]
  },
  {
   "cell_type": "code",
   "execution_count": 57,
   "metadata": {},
   "outputs": [
    {
     "name": "stdout",
     "output_type": "stream",
     "text": [
      "[np.float64(0.5219567254652908), np.float64(1.4191329972717064), np.float64(0.9139329648049112), np.float64(0.21569407166429788), np.float64(0.7211401097401062), np.float64(0.4648222222352919)]\n",
      "[np.float64(0.18500220990963184), np.float64(0.4711921029067144), np.float64(0.19021476797505155), np.float64(0.03900834305972772), np.float64(0.1525881619809211), np.float64(0.04182740358682482)]\n"
     ]
    }
   ],
   "source": [
    "means_bootstraps_saits_ICUType_1_subgroup, standards_deviations_saits_ICUType_1_subgroup = toolkits.calc_mean_and_standard_deviation(results_bootstrap_saits_ICUType_1_subgroup)\n",
    "\n",
    "print(means_bootstraps_saits_ICUType_1_subgroup)\n",
    "print(standards_deviations_saits_ICUType_1_subgroup)\n"
   ]
  },
  {
   "cell_type": "markdown",
   "metadata": {},
   "source": [
    "#### Calculating lower bound and upper bound"
   ]
  },
  {
   "cell_type": "code",
   "execution_count": 58,
   "metadata": {},
   "outputs": [
    {
     "name": "stdout",
     "output_type": "stream",
     "text": [
      "[np.float64(0.1593590569820933), np.float64(0.4956134457748552), np.float64(0.5411188702461672), np.float64(0.1392391241706486), np.float64(0.42207280779033696), np.float64(0.3828420176382938)]\n",
      "[np.float64(0.8845543939484883), np.float64(2.3426525487685574), np.float64(1.286747059363655), np.float64(0.29214901915794717), np.float64(1.0202074116898756), np.float64(0.54680242683229)]\n"
     ]
    }
   ],
   "source": [
    "lower_bounds_saits_ICUType_1_subgroup, upper_bounds_saits_ICUType_1_subgroup = toolkits.calc_lower_and_upper_bound(results_bootstrap_saits_ICUType_1_subgroup, means_bootstraps_saits_ICUType_1_subgroup, standards_deviations_saits_ICUType_1_subgroup)\n",
    "\n",
    "print(lower_bounds_saits_ICUType_1_subgroup)\n",
    "print(upper_bounds_saits_ICUType_1_subgroup)"
   ]
  },
  {
   "cell_type": "code",
   "execution_count": 59,
   "metadata": {},
   "outputs": [
    {
     "name": "stdout",
     "output_type": "stream",
     "text": [
      "[np.float64(0.2724862865316178), np.float64(0.5714906008460912), np.float64(0.5423973514465497), np.float64(0.14321453098769518), np.float64(0.4430609084144976), np.float64(0.38418463195425406)]\n",
      "[np.float64(0.9495419093825632), np.float64(2.412294909547965), np.float64(1.2983912355171199), np.float64(0.2973851173252235), np.float64(1.0472720745698492), np.float64(0.5491950726501879)]\n"
     ]
    }
   ],
   "source": [
    "lower_bounds_saits_ICUType_1_subgroup, upper_bounds_saits_ICUType_1_subgroup = toolkits.calc_lower_and_upper_bound_percentile(results_bootstrap_saits_ICUType_1_subgroup)\n",
    "\n",
    "print(lower_bounds_saits_ICUType_1_subgroup)\n",
    "print(upper_bounds_saits_ICUType_1_subgroup)"
   ]
  },
  {
   "cell_type": "markdown",
   "metadata": {},
   "source": [
    "#### Mean values of lower bound and upper bound"
   ]
  },
  {
   "cell_type": "code",
   "execution_count": 60,
   "metadata": {},
   "outputs": [
    {
     "name": "stdout",
     "output_type": "stream",
     "text": [
      "[np.float64(0.6110140979570905), np.float64(1.491892755197028), np.float64(0.9203942934818348), np.float64(0.22029982415645932), np.float64(0.7451664914921734), np.float64(0.46668985230222093)]\n"
     ]
    }
   ],
   "source": [
    "mean_values_ci_saits_ICUType_1_subgroup  = toolkits.calc_mean_values_ci(lower_bounds_saits_ICUType_1_subgroup, upper_bounds_saits_ICUType_1_subgroup)\n",
    "\n",
    "print(mean_values_ci_saits_ICUType_1_subgroup)"
   ]
  },
  {
   "cell_type": "markdown",
   "metadata": {},
   "source": [
    "### Confidence Interval (ICUType 2 subgroup)"
   ]
  },
  {
   "cell_type": "markdown",
   "metadata": {},
   "source": [
    "#### Distribution Bootstrap for the Top 5 variables with Largest Differences in MAE (Mean Absolute Error) "
   ]
  },
  {
   "cell_type": "code",
   "execution_count": 61,
   "metadata": {},
   "outputs": [],
   "source": [
    "indices = [28, 31, 6, 0, 32, 24]\n",
    "\n",
    "results_bootstrap_saits_ICUType_2_subgroup = []\n",
    "\n",
    "for i in indices:\n",
    "       results_bootstrap_saits_ICUType_2_subgroup.append(toolkits.bootstrap_v2(testing_ae_saits_variables_standard, indicating_mask_variable_standard_norm, 7, i, 9000))\n",
    "\n"
   ]
  },
  {
   "cell_type": "markdown",
   "metadata": {},
   "source": [
    "#### Calculating the mean and standard deviation of the bootstrap distribution"
   ]
  },
  {
   "cell_type": "code",
   "execution_count": 62,
   "metadata": {},
   "outputs": [
    {
     "name": "stdout",
     "output_type": "stream",
     "text": [
      "[np.float64(0.30234261908205756), np.float64(0.4822451154959138), np.float64(0.0), np.float64(0.11505758221413943), np.float64(0.11150250301424608), np.float64(0.44450325827242426)]\n",
      "[np.float64(0.02262483990234257), np.float64(0.14270434095330978), np.float64(0.0), np.float64(0.015155524044065732), np.float64(0.011272872453300223), np.float64(0.018251955560383098)]\n"
     ]
    }
   ],
   "source": [
    "means_bootstraps_saits_ICUType_2_subgroup, standards_deviations_saits_ICUType_2_subgroup = toolkits.calc_mean_and_standard_deviation(results_bootstrap_saits_ICUType_2_subgroup)\n",
    "\n",
    "print(means_bootstraps_saits_ICUType_2_subgroup)\n",
    "print(standards_deviations_saits_ICUType_2_subgroup)\n"
   ]
  },
  {
   "cell_type": "markdown",
   "metadata": {},
   "source": [
    "#### Calculating lower bound and upper bound"
   ]
  },
  {
   "cell_type": "code",
   "execution_count": 63,
   "metadata": {},
   "outputs": [
    {
     "name": "stdout",
     "output_type": "stream",
     "text": [
      "[np.float64(0.25799874771748144), np.float64(0.20254974678990234), np.float64(0.0), np.float64(0.08535330092093976), np.float64(0.08940807900346395), np.float64(0.4087300827266478)]\n",
      "[np.float64(0.3466864904466337), np.float64(0.7619404842019253), np.float64(0.0), np.float64(0.1447618635073391), np.float64(0.1335969270250282), np.float64(0.48027643381820073)]\n"
     ]
    }
   ],
   "source": [
    "lower_bounds_saits_ICUType_2_subgroup, upper_bounds_saits_ICUType_2_subgroup = toolkits.calc_lower_and_upper_bound(results_bootstrap_saits_ICUType_2_subgroup, means_bootstraps_saits_ICUType_2_subgroup, standards_deviations_saits_ICUType_2_subgroup)\n",
    "\n",
    "print(lower_bounds_saits_ICUType_2_subgroup)\n",
    "print(upper_bounds_saits_ICUType_2_subgroup)"
   ]
  },
  {
   "cell_type": "code",
   "execution_count": 64,
   "metadata": {},
   "outputs": [
    {
     "name": "stdout",
     "output_type": "stream",
     "text": [
      "[np.float64(0.2612377146330772), np.float64(0.18986491055554502), np.float64(0.0), np.float64(0.08598441095084189), np.float64(0.09026797114338445), np.float64(0.40965400315649914)]\n",
      "[np.float64(0.3491110665417255), np.float64(0.7859344037034782), np.float64(0.0), np.float64(0.14570947953394509), np.float64(0.1345600276637829), np.float64(0.4812821650776725)]\n"
     ]
    }
   ],
   "source": [
    "lower_bounds_saits_ICUType_2_subgroup, upper_bounds_saits_ICUType_2_subgroup = toolkits.calc_lower_and_upper_bound_percentile(results_bootstrap_saits_ICUType_2_subgroup)\n",
    "\n",
    "print(lower_bounds_saits_ICUType_2_subgroup)\n",
    "print(upper_bounds_saits_ICUType_2_subgroup)"
   ]
  },
  {
   "cell_type": "markdown",
   "metadata": {},
   "source": [
    "#### Mean values of lower bound and upper bound"
   ]
  },
  {
   "cell_type": "code",
   "execution_count": 65,
   "metadata": {},
   "outputs": [
    {
     "name": "stdout",
     "output_type": "stream",
     "text": [
      "[np.float64(0.30517439058740137), np.float64(0.4878996571295116), np.float64(0.0), np.float64(0.11584694524239349), np.float64(0.11241399940358367), np.float64(0.4454680841170858)]\n"
     ]
    }
   ],
   "source": [
    "mean_values_ci_saits_ICUType_2_subgroup  = toolkits.calc_mean_values_ci(lower_bounds_saits_ICUType_2_subgroup, upper_bounds_saits_ICUType_2_subgroup)\n",
    "\n",
    "print(mean_values_ci_saits_ICUType_2_subgroup)"
   ]
  },
  {
   "cell_type": "markdown",
   "metadata": {},
   "source": [
    "### Confidence Interval (ICUType 3 subgroup)"
   ]
  },
  {
   "cell_type": "markdown",
   "metadata": {},
   "source": [
    "#### Distribution Bootstrap for the Top 5 variables with Largest Differences in MAE (Mean Absolute Error) "
   ]
  },
  {
   "cell_type": "code",
   "execution_count": 66,
   "metadata": {},
   "outputs": [],
   "source": [
    "indices = [28, 31, 6, 0, 32, 24]\n",
    "\n",
    "results_bootstrap_saits_ICUType_3_subgroup = []\n",
    "\n",
    "for i in indices:\n",
    "       results_bootstrap_saits_ICUType_3_subgroup.append(toolkits.bootstrap_v2(testing_ae_saits_variables_standard, indicating_mask_variable_standard_norm, 8, i, 9000))\n",
    "\n"
   ]
  },
  {
   "cell_type": "markdown",
   "metadata": {},
   "source": [
    "#### Calculating the mean and standard deviation of the bootstrap distribution"
   ]
  },
  {
   "cell_type": "code",
   "execution_count": 67,
   "metadata": {},
   "outputs": [
    {
     "name": "stdout",
     "output_type": "stream",
     "text": [
      "[np.float64(1.5873176168992222), np.float64(0.3451376351349188), np.float64(0.8838193565096376), np.float64(0.9719416794769047), np.float64(0.17008102185635626), np.float64(0.6029704811331233)]\n",
      "[np.float64(0.4492088863497037), np.float64(0.0655364408499348), np.float64(0.17397706126823817), np.float64(0.3872023228794582), np.float64(0.04196961293018973), np.float64(0.03460610203052623)]\n"
     ]
    }
   ],
   "source": [
    "means_bootstraps_saits_ICUType_3_subgroup, standards_deviations_saits_ICUType_3_subgroup = toolkits.calc_mean_and_standard_deviation(results_bootstrap_saits_ICUType_3_subgroup)\n",
    "\n",
    "print(means_bootstraps_saits_ICUType_3_subgroup)\n",
    "print(standards_deviations_saits_ICUType_3_subgroup)\n"
   ]
  },
  {
   "cell_type": "markdown",
   "metadata": {},
   "source": [
    "#### Calculating lower bound and upper bound"
   ]
  },
  {
   "cell_type": "code",
   "execution_count": 68,
   "metadata": {},
   "outputs": [
    {
     "name": "stdout",
     "output_type": "stream",
     "text": [
      "[np.float64(0.7068843781184567), np.float64(0.21668857139410702), np.float64(0.5428305822877724), np.float64(0.21303907190291727), np.float64(0.08782209206809784), np.float64(0.5351437675079735)]\n",
      "[np.float64(2.467750855679988), np.float64(0.47358669887573057), np.float64(1.2248081307315029), np.float64(1.7308442870508922), np.float64(0.2523399516446147), np.float64(0.6707971947582732)]\n"
     ]
    }
   ],
   "source": [
    "lower_bounds_saits_ICUType_3_subgroup, upper_bounds_saits_ICUType_3_subgroup = toolkits.calc_lower_and_upper_bound(results_bootstrap_saits_ICUType_3_subgroup, means_bootstraps_saits_ICUType_3_subgroup, standards_deviations_saits_ICUType_3_subgroup)\n",
    "\n",
    "print(lower_bounds_saits_ICUType_3_subgroup)\n",
    "print(upper_bounds_saits_ICUType_3_subgroup)"
   ]
  },
  {
   "cell_type": "code",
   "execution_count": 69,
   "metadata": {},
   "outputs": [
    {
     "name": "stdout",
     "output_type": "stream",
     "text": [
      "[np.float64(0.780404067787305), np.float64(0.2202083405208857), np.float64(0.6727157881964088), np.float64(0.3642860059565915), np.float64(0.09971476394281487), np.float64(0.5375214962234229)]\n",
      "[np.float64(2.54731502169647), np.float64(0.4801916645249752), np.float64(1.2507688888161221), np.float64(1.8416487085107636), np.float64(0.2615151655889945), np.float64(0.6728665632862576)]\n"
     ]
    }
   ],
   "source": [
    "lower_bounds_saits_ICUType_3_subgroup, upper_bounds_saits_ICUType_3_subgroup = toolkits.calc_lower_and_upper_bound_percentile(results_bootstrap_saits_ICUType_3_subgroup)\n",
    "\n",
    "print(lower_bounds_saits_ICUType_3_subgroup)\n",
    "print(upper_bounds_saits_ICUType_3_subgroup)"
   ]
  },
  {
   "cell_type": "markdown",
   "metadata": {},
   "source": [
    "#### Mean values of lower bound and upper bound"
   ]
  },
  {
   "cell_type": "code",
   "execution_count": 70,
   "metadata": {},
   "outputs": [
    {
     "name": "stdout",
     "output_type": "stream",
     "text": [
      "[np.float64(1.6638595447418876), np.float64(0.35020000252293043), np.float64(0.9617423385062654), np.float64(1.1029673572336776), np.float64(0.1806149647659047), np.float64(0.6051940297548403)]\n"
     ]
    }
   ],
   "source": [
    "mean_values_ci_saits_ICUType_3_subgroup  = toolkits.calc_mean_values_ci(lower_bounds_saits_ICUType_3_subgroup, upper_bounds_saits_ICUType_3_subgroup)\n",
    "\n",
    "print(mean_values_ci_saits_ICUType_3_subgroup)"
   ]
  },
  {
   "cell_type": "markdown",
   "metadata": {},
   "source": [
    "### Confidence Interval (ICUType 4 subgroup)"
   ]
  },
  {
   "cell_type": "markdown",
   "metadata": {},
   "source": [
    "#### Distribution Bootstrap for the Top 5 variables with Largest Differences in MAE (Mean Absolute Error) "
   ]
  },
  {
   "cell_type": "code",
   "execution_count": 71,
   "metadata": {},
   "outputs": [],
   "source": [
    "indices = [28, 31, 6, 0, 32, 24]\n",
    "\n",
    "results_bootstrap_saits_ICUType_4_subgroup = []\n",
    "\n",
    "for i in indices:\n",
    "       results_bootstrap_saits_ICUType_4_subgroup.append(toolkits.bootstrap_v2(testing_ae_saits_variables_standard, indicating_mask_variable_standard_norm, 9, i, 9000))\n",
    "\n"
   ]
  },
  {
   "cell_type": "markdown",
   "metadata": {},
   "source": [
    "#### Calculating the mean and standard deviation of the bootstrap distribution"
   ]
  },
  {
   "cell_type": "code",
   "execution_count": 72,
   "metadata": {},
   "outputs": [
    {
     "name": "stdout",
     "output_type": "stream",
     "text": [
      "[np.float64(0.4374924981118807), np.float64(0.7710783833108681), np.float64(0.7361433475539954), np.float64(0.3833519769442785), np.float64(0.15810549637325846), np.float64(0.4660701136770505)]\n",
      "[np.float64(0.09361222958290319), np.float64(0.3506626777117994), np.float64(0.17848971361751265), np.float64(0.06867994998652105), np.float64(0.026035599351315757), np.float64(0.021997324882899502)]\n"
     ]
    }
   ],
   "source": [
    "means_bootstraps_saits_ICUType_4_subgroup, standards_deviations_saits_ICUType_4_subgroup = toolkits.calc_mean_and_standard_deviation(results_bootstrap_saits_ICUType_4_subgroup)\n",
    "\n",
    "print(means_bootstraps_saits_ICUType_4_subgroup)\n",
    "print(standards_deviations_saits_ICUType_4_subgroup)\n"
   ]
  },
  {
   "cell_type": "markdown",
   "metadata": {},
   "source": [
    "#### Calculating lower bound and upper bound"
   ]
  },
  {
   "cell_type": "code",
   "execution_count": 73,
   "metadata": {},
   "outputs": [
    {
     "name": "stdout",
     "output_type": "stream",
     "text": [
      "[np.float64(0.2540158996168954), np.float64(0.083792164273365), np.float64(0.3863099372528021), np.float64(0.2487417485106851), np.float64(0.10707665932876519), np.float64(0.4229561491503407)]\n",
      "[np.float64(0.620969096606866), np.float64(1.4583646023483712), np.float64(1.0859767578551887), np.float64(0.517962205377872), np.float64(0.20913433341775173), np.float64(0.5091840782037602)]\n"
     ]
    }
   ],
   "source": [
    "lower_bounds_saits_ICUType_4_subgroup, upper_bounds_saits_ICUType_4_subgroup = toolkits.calc_lower_and_upper_bound(results_bootstrap_saits_ICUType_4_subgroup, means_bootstraps_saits_ICUType_4_subgroup, standards_deviations_saits_ICUType_4_subgroup)\n",
    "\n",
    "print(lower_bounds_saits_ICUType_4_subgroup)\n",
    "print(upper_bounds_saits_ICUType_4_subgroup)"
   ]
  },
  {
   "cell_type": "code",
   "execution_count": 74,
   "metadata": {},
   "outputs": [
    {
     "name": "stdout",
     "output_type": "stream",
     "text": [
      "[np.float64(0.27930576874390706), np.float64(0.3728340243467206), np.float64(0.36871716024740075), np.float64(0.26153937912889297), np.float64(0.10962410035351977), np.float64(0.4232686475006617)]\n",
      "[np.float64(0.6447007036079485), np.float64(1.8003804990136956), np.float64(1.0708848629739434), np.float64(0.527720487030236), np.float64(0.21165193489381803), np.float64(0.5101341787631254)]\n"
     ]
    }
   ],
   "source": [
    "lower_bounds_saits_ICUType_4_subgroup, upper_bounds_saits_ICUType_4_subgroup = toolkits.calc_lower_and_upper_bound_percentile(results_bootstrap_saits_ICUType_4_subgroup)\n",
    "\n",
    "print(lower_bounds_saits_ICUType_4_subgroup)\n",
    "print(upper_bounds_saits_ICUType_4_subgroup)"
   ]
  },
  {
   "cell_type": "markdown",
   "metadata": {},
   "source": [
    "#### Mean values of lower bound and upper bound"
   ]
  },
  {
   "cell_type": "code",
   "execution_count": 75,
   "metadata": {},
   "outputs": [
    {
     "name": "stdout",
     "output_type": "stream",
     "text": [
      "[np.float64(0.46200323617592776), np.float64(1.086607261680208), np.float64(0.7198010116106721), np.float64(0.3946299330795645), np.float64(0.16063801762366892), np.float64(0.4667014131318935)]\n"
     ]
    }
   ],
   "source": [
    "mean_values_ci_saits_ICUType_4_subgroup  = toolkits.calc_mean_values_ci(lower_bounds_saits_ICUType_4_subgroup, upper_bounds_saits_ICUType_4_subgroup)\n",
    "\n",
    "print(mean_values_ci_saits_ICUType_4_subgroup)"
   ]
  },
  {
   "cell_type": "markdown",
   "metadata": {},
   "source": [
    "### Confidence Interval (Undefined classification subgroup)"
   ]
  },
  {
   "cell_type": "markdown",
   "metadata": {},
   "source": [
    "#### Distribution Bootstrap for the Top 5 variables with Largest Differences in MAE (Mean Absolute Error) "
   ]
  },
  {
   "cell_type": "code",
   "execution_count": 76,
   "metadata": {},
   "outputs": [],
   "source": [
    "indices = [32, 0, 6, 31, 5, 1, 35]\n",
    "\n",
    "\n",
    "results_bootstrap_saits_undefined_classification_subgroup = []\n",
    "\n",
    "for i in indices:\n",
    "       results_bootstrap_saits_undefined_classification_subgroup.append(toolkits.bootstrap_v2(testing_ae_saits_variables_standard, indicating_mask_variable_standard_norm, 10, i, 9000))\n",
    "\n"
   ]
  },
  {
   "cell_type": "markdown",
   "metadata": {},
   "source": [
    "#### Calculating the mean and standard deviation of the bootstrap distribution"
   ]
  },
  {
   "cell_type": "code",
   "execution_count": 77,
   "metadata": {},
   "outputs": [
    {
     "name": "stdout",
     "output_type": "stream",
     "text": [
      "[np.float64(0.2220789243699558), np.float64(0.36322793707051365), np.float64(0.5358393333607179), np.float64(0.6174529701974534), np.float64(0.34997728226605834), np.float64(0.1486205100765959), np.float64(0.09019084920226916)]\n",
      "[np.float64(0.04570653322260835), np.float64(0.05263916241599928), np.float64(0.1666043195868283), np.float64(0.21180064268718604), np.float64(0.10245179483312185), np.float64(0.04951555561227327), np.float64(0.005528848192846053)]\n"
     ]
    }
   ],
   "source": [
    "means_bootstraps_saits_undefined_classification_subgroup, standards_deviations_saits_undefined_classification_subgroup = toolkits.calc_mean_and_standard_deviation(results_bootstrap_saits_undefined_classification_subgroup)\n",
    "\n",
    "print(means_bootstraps_saits_undefined_classification_subgroup)\n",
    "print(standards_deviations_saits_undefined_classification_subgroup)\n"
   ]
  },
  {
   "cell_type": "markdown",
   "metadata": {},
   "source": [
    "#### Calculating lower bound and upper bound"
   ]
  },
  {
   "cell_type": "code",
   "execution_count": 78,
   "metadata": {},
   "outputs": [
    {
     "name": "stdout",
     "output_type": "stream",
     "text": [
      "[np.float64(0.13249576539545999), np.float64(0.26005707455880067), np.float64(0.2093008673017333), np.float64(0.20233133862813196), np.float64(0.1491754542416527), np.float64(0.051571804402050156), np.float64(0.07935450586830153)]\n",
      "[np.float64(0.3116620833444516), np.float64(0.46639879958222663), np.float64(0.8623777994197024), np.float64(1.0325746017667747), np.float64(0.550779110290464), np.float64(0.24566921575114165), np.float64(0.10102719253623679)]\n"
     ]
    }
   ],
   "source": [
    "lower_bounds_saits_undefined_classification_subgroup, upper_bounds_saits_undefined_classification_subgroup = toolkits.calc_lower_and_upper_bound(results_bootstrap_saits_undefined_classification_subgroup, means_bootstraps_saits_undefined_classification_subgroup, standards_deviations_saits_undefined_classification_subgroup)\n",
    "\n",
    "print(lower_bounds_saits_undefined_classification_subgroup)\n",
    "print(upper_bounds_saits_undefined_classification_subgroup)"
   ]
  },
  {
   "cell_type": "code",
   "execution_count": 79,
   "metadata": {},
   "outputs": [
    {
     "name": "stdout",
     "output_type": "stream",
     "text": [
      "[np.float64(0.14861351880442525), np.float64(0.2681309927056473), np.float64(0.21667597714838674), np.float64(0.22678503532965885), np.float64(0.19076055650846094), np.float64(0.07058041202715513), np.float64(0.079863334033074)]\n",
      "[np.float64(0.32444401367727815), np.float64(0.4722891131963517), np.float64(0.8712429101228379), np.float64(1.0597512498483057), np.float64(0.5819828141296248), np.float64(0.26020473146627615), np.float64(0.10139542073969701)]\n"
     ]
    }
   ],
   "source": [
    "lower_bounds_saits_undefined_classification_subgroup, upper_bounds_saits_undefined_classification_subgroup = toolkits.calc_lower_and_upper_bound_percentile(results_bootstrap_saits_undefined_classification_subgroup)\n",
    "\n",
    "print(lower_bounds_saits_undefined_classification_subgroup)\n",
    "print(upper_bounds_saits_undefined_classification_subgroup)"
   ]
  },
  {
   "cell_type": "markdown",
   "metadata": {},
   "source": [
    "#### Mean values of lower bound and upper bound"
   ]
  },
  {
   "cell_type": "code",
   "execution_count": 80,
   "metadata": {},
   "outputs": [
    {
     "name": "stdout",
     "output_type": "stream",
     "text": [
      "[np.float64(0.2365287662408517), np.float64(0.3702100529509995), np.float64(0.5439594436356123), np.float64(0.6432681425889822), np.float64(0.38637168531904287), np.float64(0.16539257174671565), np.float64(0.0906293773863855)]\n"
     ]
    }
   ],
   "source": [
    "mean_values_ci_saits_undefined_classification_subgroup  = toolkits.calc_mean_values_ci(lower_bounds_saits_undefined_classification_subgroup, upper_bounds_saits_undefined_classification_subgroup)\n",
    "\n",
    "print(mean_values_ci_saits_undefined_classification_subgroup)"
   ]
  },
  {
   "cell_type": "markdown",
   "metadata": {},
   "source": [
    "### Confidence Interval (Low weight classification subgroup)"
   ]
  },
  {
   "cell_type": "markdown",
   "metadata": {},
   "source": [
    "#### Distribution Bootstrap for the Top 5 variables with Largest Differences in MAE (Mean Absolute Error) "
   ]
  },
  {
   "cell_type": "code",
   "execution_count": 81,
   "metadata": {},
   "outputs": [],
   "source": [
    "indices = [32, 0, 6, 31, 5, 1, 35]\n",
    "\n",
    "results_bootstrap_saits_low_weight_classification_subgroup = []\n",
    "\n",
    "for i in indices:\n",
    "       results_bootstrap_saits_low_weight_classification_subgroup.append(toolkits.bootstrap_v2(testing_ae_saits_variables_standard, indicating_mask_variable_standard_norm, 11, i, 9000))\n",
    "\n"
   ]
  },
  {
   "cell_type": "markdown",
   "metadata": {},
   "source": [
    "#### Calculating the mean and standard deviation of the bootstrap distribution"
   ]
  },
  {
   "cell_type": "code",
   "execution_count": 82,
   "metadata": {},
   "outputs": [
    {
     "name": "stdout",
     "output_type": "stream",
     "text": [
      "[np.float64(0.4179372777585539), np.float64(1.2434660978146057), np.float64(0.14389198214777257), np.float64(0.0), np.float64(1.3355777932607396), np.float64(0.05999720428400326), np.float64(0.08402665695116406)]\n",
      "[np.float64(0.3211289804440317), np.float64(1.086221728773829), np.float64(0.10760691902498223), np.float64(0.0), np.float64(1.11933454327662), np.float64(0.020827781538153973), np.float64(0.008895762289132428)]\n"
     ]
    }
   ],
   "source": [
    "means_bootstraps_saits_low_weight_classification_subgroup, standards_deviations_saits_low_weight_classification_subgroup = toolkits.calc_mean_and_standard_deviation(results_bootstrap_saits_low_weight_classification_subgroup)\n",
    "\n",
    "print(means_bootstraps_saits_low_weight_classification_subgroup)\n",
    "print(standards_deviations_saits_low_weight_classification_subgroup)\n"
   ]
  },
  {
   "cell_type": "markdown",
   "metadata": {},
   "source": [
    "#### Calculating lower bound and upper bound"
   ]
  },
  {
   "cell_type": "code",
   "execution_count": 83,
   "metadata": {},
   "outputs": [
    {
     "name": "stdout",
     "output_type": "stream",
     "text": [
      "[np.float64(-0.21146395830381565), np.float64(-0.8854893698069339), np.float64(-0.06701370362851056), np.float64(0.0), np.float64(-0.858277598213026), np.float64(0.01917550259135322), np.float64(0.06659128324943492)]\n",
      "[np.float64(1.0473385138209235), np.float64(3.372421565436145), np.float64(0.3547976679240557), np.float64(0.0), np.float64(3.529433184734505), np.float64(0.1008189059766533), np.float64(0.10146203065289319)]\n"
     ]
    }
   ],
   "source": [
    "lower_bounds_saits_low_weight_classification_subgroup, upper_bounds_saits_low_weight_classification_subgroup = toolkits.calc_lower_and_upper_bound(results_bootstrap_saits_low_weight_classification_subgroup, means_bootstraps_saits_low_weight_classification_subgroup, standards_deviations_saits_low_weight_classification_subgroup)\n",
    "\n",
    "print(lower_bounds_saits_low_weight_classification_subgroup)\n",
    "print(upper_bounds_saits_low_weight_classification_subgroup)"
   ]
  },
  {
   "cell_type": "code",
   "execution_count": 84,
   "metadata": {},
   "outputs": [
    {
     "name": "stdout",
     "output_type": "stream",
     "text": [
      "[np.float64(0.0), np.float64(0.0), np.float64(0.0), np.float64(0.0), np.float64(0.06532619020593648), np.float64(0.02636130159392695), np.float64(0.06807568231807692)]\n",
      "[np.float64(0.6646820109257148), np.float64(2.8082561340301457), np.float64(0.22436379752781074), np.float64(0.0), np.float64(3.898138116424551), np.float64(0.10568388666059643), np.float64(0.10248588150567063)]\n"
     ]
    }
   ],
   "source": [
    "lower_bounds_saits_low_weight_classification_subgroup, upper_bounds_saits_low_weight_classification_subgroup = toolkits.calc_lower_and_upper_bound_percentile(results_bootstrap_saits_low_weight_classification_subgroup)\n",
    "\n",
    "print(lower_bounds_saits_low_weight_classification_subgroup)\n",
    "print(upper_bounds_saits_low_weight_classification_subgroup)"
   ]
  },
  {
   "cell_type": "markdown",
   "metadata": {},
   "source": [
    "#### Mean values of lower bound and upper bound"
   ]
  },
  {
   "cell_type": "code",
   "execution_count": 85,
   "metadata": {},
   "outputs": [
    {
     "name": "stdout",
     "output_type": "stream",
     "text": [
      "[np.float64(0.3323410054628574), np.float64(1.4041280670150729), np.float64(0.11218189876390537), np.float64(0.0), np.float64(1.9817321533152439), np.float64(0.06602259412726169), np.float64(0.08528078191187377)]\n"
     ]
    }
   ],
   "source": [
    "mean_values_ci_saits_low_weight_classification_subgroup  = toolkits.calc_mean_values_ci(lower_bounds_saits_low_weight_classification_subgroup, upper_bounds_saits_low_weight_classification_subgroup)\n",
    "\n",
    "print(mean_values_ci_saits_low_weight_classification_subgroup)"
   ]
  },
  {
   "cell_type": "markdown",
   "metadata": {},
   "source": [
    "### Confidence Interval (Normal weight classification subgroup)"
   ]
  },
  {
   "cell_type": "markdown",
   "metadata": {},
   "source": [
    "#### Distribution Bootstrap for the Top 5 variables with Largest Differences in MAE (Mean Absolute Error) "
   ]
  },
  {
   "cell_type": "code",
   "execution_count": 86,
   "metadata": {},
   "outputs": [],
   "source": [
    "indices = [32, 0, 6, 31, 5, 1, 35]\n",
    "\n",
    "results_bootstrap_saits_normal_weight_classification_subgroup = []\n",
    "\n",
    "for i in indices:\n",
    "       results_bootstrap_saits_normal_weight_classification_subgroup.append(toolkits.bootstrap_v2(testing_ae_saits_variables_standard, indicating_mask_variable_standard_norm, 12, i, 9000))\n",
    "\n"
   ]
  },
  {
   "cell_type": "markdown",
   "metadata": {},
   "source": [
    "#### Calculating the mean and standard deviation of the bootstrap distribution"
   ]
  },
  {
   "cell_type": "code",
   "execution_count": 87,
   "metadata": {},
   "outputs": [
    {
     "name": "stdout",
     "output_type": "stream",
     "text": [
      "[np.float64(0.25744368744577145), np.float64(0.4349773922115265), np.float64(0.717382366934424), np.float64(0.4541860461731961), np.float64(0.49248182712618804), np.float64(0.061875693671140285), np.float64(0.061840634043035705)]\n",
      "[np.float64(0.06530091398193434), np.float64(0.1130191030039274), np.float64(0.36496621546347674), np.float64(0.17155187474732164), np.float64(0.16924381363494684), np.float64(0.017466578077892432), np.float64(0.0036097147752741235)]\n"
     ]
    }
   ],
   "source": [
    "means_bootstraps_saits_normal_weight_classification_subgroup, standards_deviations_saits_normal_weight_classification_subgroup = toolkits.calc_mean_and_standard_deviation(results_bootstrap_saits_normal_weight_classification_subgroup)\n",
    "\n",
    "print(means_bootstraps_saits_normal_weight_classification_subgroup)\n",
    "print(standards_deviations_saits_normal_weight_classification_subgroup)\n"
   ]
  },
  {
   "cell_type": "markdown",
   "metadata": {},
   "source": [
    "#### Calculating lower bound and upper bound"
   ]
  },
  {
   "cell_type": "code",
   "execution_count": 88,
   "metadata": {},
   "outputs": [
    {
     "name": "stdout",
     "output_type": "stream",
     "text": [
      "[np.float64(0.12945624788363208), np.float64(0.21346402075880616), np.float64(0.002061729052124317), np.float64(0.11795055018811929), np.float64(0.16077004779548332), np.float64(0.027641829705314272), np.float64(0.05476572308903633)]\n",
      "[np.float64(0.3854311270079108), np.float64(0.6564907636642467), np.float64(1.4327030048167237), np.float64(0.7904215421582729), np.float64(0.8241936064568928), np.float64(0.0961095576369663), np.float64(0.06891554499703509)]\n"
     ]
    }
   ],
   "source": [
    "lower_bounds_saits_normal_weight_classification_subgroup, upper_bounds_saits_normal_weight_classification_subgroup = toolkits.calc_lower_and_upper_bound(results_bootstrap_saits_normal_weight_classification_subgroup, means_bootstraps_saits_normal_weight_classification_subgroup, standards_deviations_saits_normal_weight_classification_subgroup)\n",
    "\n",
    "print(lower_bounds_saits_normal_weight_classification_subgroup)\n",
    "print(upper_bounds_saits_normal_weight_classification_subgroup)"
   ]
  },
  {
   "cell_type": "code",
   "execution_count": 89,
   "metadata": {},
   "outputs": [
    {
     "name": "stdout",
     "output_type": "stream",
     "text": [
      "[np.float64(0.14427118713539758), np.float64(0.24249607025212516), np.float64(0.0), np.float64(0.12762180966123823), np.float64(0.22082274351885345), np.float64(0.03289849328793306), np.float64(0.05517902856700568)]\n",
      "[np.float64(0.39878917968234284), np.float64(0.6804758208233153), np.float64(1.157952311730471), np.float64(0.810228541120111), np.float64(0.8680464036506664), np.float64(0.10027582513098275), np.float64(0.06920380693573645)]\n"
     ]
    }
   ],
   "source": [
    "lower_bounds_saits_normal_weight_classification_subgroup, upper_bounds_saits_normal_weight_classification_subgroup = toolkits.calc_lower_and_upper_bound_percentile(results_bootstrap_saits_normal_weight_classification_subgroup)\n",
    "\n",
    "print(lower_bounds_saits_normal_weight_classification_subgroup)\n",
    "print(upper_bounds_saits_normal_weight_classification_subgroup)"
   ]
  },
  {
   "cell_type": "markdown",
   "metadata": {},
   "source": [
    "#### Mean values of lower bound and upper bound"
   ]
  },
  {
   "cell_type": "code",
   "execution_count": 90,
   "metadata": {},
   "outputs": [
    {
     "name": "stdout",
     "output_type": "stream",
     "text": [
      "[np.float64(0.2715301834088702), np.float64(0.4614859455377202), np.float64(0.5789761558652355), np.float64(0.46892517539067463), np.float64(0.54443457358476), np.float64(0.0665871592094579), np.float64(0.06219141775137106)]\n"
     ]
    }
   ],
   "source": [
    "mean_values_ci_saits_normal_weight_classification_subgroup  = toolkits.calc_mean_values_ci(lower_bounds_saits_normal_weight_classification_subgroup, upper_bounds_saits_normal_weight_classification_subgroup)\n",
    "\n",
    "print(mean_values_ci_saits_normal_weight_classification_subgroup)"
   ]
  },
  {
   "cell_type": "markdown",
   "metadata": {},
   "source": [
    "### Confidence Interval (Overweight classification subgroup)"
   ]
  },
  {
   "cell_type": "markdown",
   "metadata": {},
   "source": [
    "#### Distribution Bootstrap for the Top 5 variables with Largest Differences in MAE (Mean Absolute Error) "
   ]
  },
  {
   "cell_type": "code",
   "execution_count": 91,
   "metadata": {},
   "outputs": [],
   "source": [
    "indices = [32, 0, 6, 31, 5, 1, 35]\n",
    "\n",
    "results_bootstrap_saits_overweight_classification_subgroup = []\n",
    "\n",
    "for i in indices:\n",
    "       results_bootstrap_saits_overweight_classification_subgroup.append(toolkits.bootstrap_v2(testing_ae_saits_variables_standard, indicating_mask_variable_standard_norm, 13, i, 9000))\n",
    "\n"
   ]
  },
  {
   "cell_type": "markdown",
   "metadata": {},
   "source": [
    "#### Calculating the mean and standard deviation of the bootstrap distribution"
   ]
  },
  {
   "cell_type": "code",
   "execution_count": 92,
   "metadata": {},
   "outputs": [
    {
     "name": "stdout",
     "output_type": "stream",
     "text": [
      "[np.float64(0.44788379857909943), np.float64(0.22978055068985156), np.float64(0.9617003448767828), np.float64(0.8690059501858922), np.float64(0.20889000167879582), np.float64(0.1554328496222451), np.float64(0.05987518990506586)]\n",
      "[np.float64(0.1963573758845288), np.float64(0.046913847941276524), np.float64(0.21814397668322832), np.float64(0.5515070410248044), np.float64(0.06296380705055063), np.float64(0.04989517332353856), np.float64(0.0029144577918172316)]\n"
     ]
    }
   ],
   "source": [
    "means_bootstraps_saits_overweight_classification_subgroup, standards_deviations_saits_overweight_classification_subgroup = toolkits.calc_mean_and_standard_deviation(results_bootstrap_saits_overweight_classification_subgroup)\n",
    "\n",
    "print(means_bootstraps_saits_overweight_classification_subgroup)\n",
    "print(standards_deviations_saits_overweight_classification_subgroup)\n"
   ]
  },
  {
   "cell_type": "markdown",
   "metadata": {},
   "source": [
    "#### Calculating lower bound and upper bound"
   ]
  },
  {
   "cell_type": "code",
   "execution_count": 93,
   "metadata": {},
   "outputs": [
    {
     "name": "stdout",
     "output_type": "stream",
     "text": [
      "[np.float64(0.06303041374662921), np.float64(0.137831098348761), np.float64(0.53414600713331), np.float64(-0.21192798744297847), np.float64(0.08548320753018745), np.float64(0.05764010690572585), np.float64(0.054162957598641946)]\n",
      "[np.float64(0.8327371834115697), np.float64(0.3217300030309421), np.float64(1.3892546826202556), np.float64(1.949939887814763), np.float64(0.3322967958274042), np.float64(0.25322559233876435), np.float64(0.06558742221148976)]\n"
     ]
    }
   ],
   "source": [
    "lower_bounds_saits_overweight_classification_subgroup, upper_bounds_saits_overweight_classification_subgroup = toolkits.calc_lower_and_upper_bound(results_bootstrap_saits_overweight_classification_subgroup, means_bootstraps_saits_overweight_classification_subgroup, standards_deviations_saits_overweight_classification_subgroup)\n",
    "\n",
    "print(lower_bounds_saits_overweight_classification_subgroup)\n",
    "print(upper_bounds_saits_overweight_classification_subgroup)"
   ]
  },
  {
   "cell_type": "code",
   "execution_count": 94,
   "metadata": {},
   "outputs": [
    {
     "name": "stdout",
     "output_type": "stream",
     "text": [
      "[np.float64(0.12413702513626826), np.float64(0.14433416587788625), np.float64(0.5280093967897358), np.float64(0.10499430382568216), np.float64(0.1190599458217266), np.float64(0.07927384479062116), np.float64(0.05455167757690384)]\n",
      "[np.float64(0.8832924474115974), np.float64(0.32829721086014874), np.float64(1.3861176353592872), np.float64(2.0863204489780642), np.float64(0.35445178174038233), np.float64(0.2663539917461887), np.float64(0.06601488658930574)]\n"
     ]
    }
   ],
   "source": [
    "lower_bounds_saits_overweight_classification_subgroup, upper_bounds_saits_overweight_classification_subgroup = toolkits.calc_lower_and_upper_bound_percentile(results_bootstrap_saits_overweight_classification_subgroup)\n",
    "\n",
    "print(lower_bounds_saits_overweight_classification_subgroup)\n",
    "print(upper_bounds_saits_overweight_classification_subgroup)"
   ]
  },
  {
   "cell_type": "markdown",
   "metadata": {},
   "source": [
    "#### Mean values of lower bound and upper bound"
   ]
  },
  {
   "cell_type": "code",
   "execution_count": 95,
   "metadata": {},
   "outputs": [
    {
     "name": "stdout",
     "output_type": "stream",
     "text": [
      "[np.float64(0.5037147362739328), np.float64(0.2363156883690175), np.float64(0.9570635160745116), np.float64(1.095657376401873), np.float64(0.23675586378105445), np.float64(0.17281391826840492), np.float64(0.06028328208310479)]\n"
     ]
    }
   ],
   "source": [
    "mean_values_ci_saits_overweight_classification_subgroup  = toolkits.calc_mean_values_ci(lower_bounds_saits_overweight_classification_subgroup, upper_bounds_saits_overweight_classification_subgroup)\n",
    "\n",
    "print(mean_values_ci_saits_overweight_classification_subgroup)"
   ]
  },
  {
   "cell_type": "markdown",
   "metadata": {},
   "source": [
    "### Confidence Interval (Obesity 1 classification subgroup)"
   ]
  },
  {
   "cell_type": "markdown",
   "metadata": {},
   "source": [
    "#### Distribution Bootstrap for the Top 5 variables with Largest Differences in MAE (Mean Absolute Error) "
   ]
  },
  {
   "cell_type": "code",
   "execution_count": 96,
   "metadata": {},
   "outputs": [],
   "source": [
    "indices = [32, 0, 6, 31, 5, 1, 35]\n",
    "\n",
    "results_bootstrap_saits_obs1_classification_subgroup = []\n",
    "\n",
    "for i in indices:\n",
    "       results_bootstrap_saits_obs1_classification_subgroup.append(toolkits.bootstrap_v2(testing_ae_saits_variables_standard, indicating_mask_variable_standard_norm, 14, i, 9000))\n",
    "\n"
   ]
  },
  {
   "cell_type": "markdown",
   "metadata": {},
   "source": [
    "#### Calculating the mean and standard deviation of the bootstrap distribution"
   ]
  },
  {
   "cell_type": "code",
   "execution_count": 97,
   "metadata": {},
   "outputs": [
    {
     "name": "stdout",
     "output_type": "stream",
     "text": [
      "[np.float64(0.3029890874167423), np.float64(0.20407255566287066), np.float64(0.6208529973138541), np.float64(0.4395335826294013), np.float64(0.3425874360473905), np.float64(0.10179621402459223), np.float64(0.06688625776136924)]\n",
      "[np.float64(0.08587512838896379), np.float64(0.060811315475714646), np.float64(0.3138483810115808), np.float64(0.21299261450393206), np.float64(0.1145905761579488), np.float64(0.04148364623779175), np.float64(0.0034668575994258057)]\n"
     ]
    }
   ],
   "source": [
    "means_bootstraps_saits_obs1_classification_subgroup, standards_deviations_saits_obs1_classification_subgroup = toolkits.calc_mean_and_standard_deviation(results_bootstrap_saits_obs1_classification_subgroup)\n",
    "\n",
    "print(means_bootstraps_saits_obs1_classification_subgroup)\n",
    "print(standards_deviations_saits_obs1_classification_subgroup)\n"
   ]
  },
  {
   "cell_type": "markdown",
   "metadata": {},
   "source": [
    "#### Calculating lower bound and upper bound"
   ]
  },
  {
   "cell_type": "code",
   "execution_count": 98,
   "metadata": {},
   "outputs": [
    {
     "name": "stdout",
     "output_type": "stream",
     "text": [
      "[np.float64(0.13467692860662012), np.float64(0.08488456747796673), np.float64(0.005721473924951148), np.float64(0.022075729228670904), np.float64(0.11799403381011664), np.float64(0.020489761451119887), np.float64(0.06009134172696567)]\n",
      "[np.float64(0.4713012462268645), np.float64(0.3232605438477746), np.float64(1.235984520702757), np.float64(0.8569914360301316), np.float64(0.5671808382846644), np.float64(0.18310266659806457), np.float64(0.0736811737957728)]\n"
     ]
    }
   ],
   "source": [
    "lower_bounds_saits_obs1_classification_subgroup, upper_bounds_saits_obs1_classification_subgroup = toolkits.calc_lower_and_upper_bound(results_bootstrap_saits_obs1_classification_subgroup, means_bootstraps_saits_obs1_classification_subgroup, standards_deviations_saits_obs1_classification_subgroup)\n",
    "\n",
    "print(lower_bounds_saits_obs1_classification_subgroup)\n",
    "print(upper_bounds_saits_obs1_classification_subgroup)"
   ]
  },
  {
   "cell_type": "code",
   "execution_count": 99,
   "metadata": {},
   "outputs": [
    {
     "name": "stdout",
     "output_type": "stream",
     "text": [
      "[np.float64(0.15418243606681148), np.float64(0.09379579326862329), np.float64(0.0), np.float64(0.0), np.float64(0.15843812547099442), np.float64(0.04089258082946061), np.float64(0.060593833475975654)]\n",
      "[np.float64(0.4890280355937019), np.float64(0.3325682569395985), np.float64(1.2406693076044368), np.float64(0.6809092237281027), np.float64(0.6005876011055841), np.float64(0.1972119507960664), np.float64(0.07412772674871662)]\n"
     ]
    }
   ],
   "source": [
    "lower_bounds_saits_obs1_classification_subgroup, upper_bounds_saits_obs1_classification_subgroup = toolkits.calc_lower_and_upper_bound_percentile(results_bootstrap_saits_obs1_classification_subgroup)\n",
    "\n",
    "print(lower_bounds_saits_obs1_classification_subgroup)\n",
    "print(upper_bounds_saits_obs1_classification_subgroup)"
   ]
  },
  {
   "cell_type": "markdown",
   "metadata": {},
   "source": [
    "#### Mean values of lower bound and upper bound"
   ]
  },
  {
   "cell_type": "code",
   "execution_count": 100,
   "metadata": {},
   "outputs": [
    {
     "name": "stdout",
     "output_type": "stream",
     "text": [
      "[np.float64(0.3216052358302567), np.float64(0.2131820251041109), np.float64(0.6203346538022184), np.float64(0.34045461186405135), np.float64(0.37951286328828926), np.float64(0.11905226581276351), np.float64(0.06736078011234614)]\n"
     ]
    }
   ],
   "source": [
    "mean_values_ci_saits_obs1_classification_subgroup  = toolkits.calc_mean_values_ci(lower_bounds_saits_obs1_classification_subgroup, upper_bounds_saits_obs1_classification_subgroup)\n",
    "\n",
    "print(mean_values_ci_saits_obs1_classification_subgroup)"
   ]
  },
  {
   "cell_type": "markdown",
   "metadata": {},
   "source": [
    "### Confidence Interval (Obesity 2 classification subgroup)"
   ]
  },
  {
   "cell_type": "markdown",
   "metadata": {},
   "source": [
    "#### Distribution Bootstrap for the Top 5 variables with Largest Differences in MAE (Mean Absolute Error) "
   ]
  },
  {
   "cell_type": "code",
   "execution_count": 101,
   "metadata": {},
   "outputs": [],
   "source": [
    "indices = [32, 0, 6, 31, 5, 1, 35]\n",
    "\n",
    "results_bootstrap_saits_obs2_classification_subgroup = []\n",
    "\n",
    "for i in indices:\n",
    "       results_bootstrap_saits_obs2_classification_subgroup.append(toolkits.bootstrap_v2(testing_ae_saits_variables_standard, indicating_mask_variable_standard_norm, 15, i, 9000))\n",
    "\n"
   ]
  },
  {
   "cell_type": "markdown",
   "metadata": {},
   "source": [
    "#### Calculating the mean and standard deviation of the bootstrap distribution"
   ]
  },
  {
   "cell_type": "code",
   "execution_count": 102,
   "metadata": {},
   "outputs": [
    {
     "name": "stdout",
     "output_type": "stream",
     "text": [
      "[np.float64(1.3202318318531734), np.float64(0.16018320474459607), np.float64(0.0016333150023958836), np.float64(0.0), np.float64(0.20565140281883998), np.float64(0.1904748878318178), np.float64(0.0748960300784776)]\n",
      "[np.float64(1.0284769556193523), np.float64(0.04163536032079147), np.float64(0.0012427663723273534), np.float64(0.0), np.float64(0.14065179783514387), np.float64(0.09377300495839148), np.float64(0.006743679991352325)]\n"
     ]
    }
   ],
   "source": [
    "means_bootstraps_saits_obs2_classification_subgroup, standards_deviations_saits_obs2_classification_subgroup = toolkits.calc_mean_and_standard_deviation(results_bootstrap_saits_obs2_classification_subgroup)\n",
    "\n",
    "print(means_bootstraps_saits_obs2_classification_subgroup)\n",
    "print(standards_deviations_saits_obs2_classification_subgroup)\n"
   ]
  },
  {
   "cell_type": "markdown",
   "metadata": {},
   "source": [
    "#### Calculating lower bound and upper bound"
   ]
  },
  {
   "cell_type": "code",
   "execution_count": 103,
   "metadata": {},
   "outputs": [
    {
     "name": "stdout",
     "output_type": "stream",
     "text": [
      "[np.float64(-0.6955459600901566), np.float64(0.07857939803249675), np.float64(-0.0008024623285632243), np.float64(0.0), np.float64(-0.07002105529885072), np.float64(0.006683175391274582), np.float64(0.06167866017216366)]\n",
      "[np.float64(3.336009623796503), np.float64(0.2417870114566954), np.float64(0.004069092333354991), np.float64(0.0), np.float64(0.4813238609365307), np.float64(0.374266600272361), np.float64(0.08811339998479154)]\n"
     ]
    }
   ],
   "source": [
    "lower_bounds_saits_obs2_classification_subgroup, upper_bounds_saits_obs2_classification_subgroup = toolkits.calc_lower_and_upper_bound(results_bootstrap_saits_obs2_classification_subgroup, means_bootstraps_saits_obs2_classification_subgroup, standards_deviations_saits_obs2_classification_subgroup)\n",
    "\n",
    "print(lower_bounds_saits_obs2_classification_subgroup)\n",
    "print(upper_bounds_saits_obs2_classification_subgroup)"
   ]
  },
  {
   "cell_type": "code",
   "execution_count": 104,
   "metadata": {},
   "outputs": [
    {
     "name": "stdout",
     "output_type": "stream",
     "text": [
      "[np.float64(0.0), np.float64(0.08663420909169421), np.float64(0.0), np.float64(0.0), np.float64(0.05801357838495656), np.float64(0.05135770937952164), np.float64(0.062486301173007935)]\n",
      "[np.float64(3.5585249882396806), np.float64(0.2493556649833264), np.float64(0.0025789184248367356), np.float64(0.0), np.float64(0.5359872611109567), np.float64(0.39997488231726197), np.float64(0.08915991716810763)]\n"
     ]
    }
   ],
   "source": [
    "lower_bounds_saits_obs2_classification_subgroup, upper_bounds_saits_obs2_classification_subgroup = toolkits.calc_lower_and_upper_bound_percentile(results_bootstrap_saits_obs2_classification_subgroup)\n",
    "\n",
    "print(lower_bounds_saits_obs2_classification_subgroup)\n",
    "print(upper_bounds_saits_obs2_classification_subgroup)"
   ]
  },
  {
   "cell_type": "markdown",
   "metadata": {},
   "source": [
    "#### Mean values of lower bound and upper bound"
   ]
  },
  {
   "cell_type": "code",
   "execution_count": 105,
   "metadata": {},
   "outputs": [
    {
     "name": "stdout",
     "output_type": "stream",
     "text": [
      "[np.float64(1.7792624941198403), np.float64(0.1679949370375103), np.float64(0.0012894592124183678), np.float64(0.0), np.float64(0.29700041974795666), np.float64(0.22566629584839182), np.float64(0.07582310917055779)]\n"
     ]
    }
   ],
   "source": [
    "mean_values_ci_saits_obs2_classification_subgroup  = toolkits.calc_mean_values_ci(lower_bounds_saits_obs2_classification_subgroup, upper_bounds_saits_obs2_classification_subgroup)\n",
    "\n",
    "print(mean_values_ci_saits_obs2_classification_subgroup)"
   ]
  },
  {
   "cell_type": "markdown",
   "metadata": {},
   "source": [
    "### Confidence Interval (Obesity 3 classification subgroup)"
   ]
  },
  {
   "cell_type": "markdown",
   "metadata": {},
   "source": [
    "#### Distribution Bootstrap for the Top 5 variables with Largest Differences in MAE (Mean Absolute Error) "
   ]
  },
  {
   "cell_type": "code",
   "execution_count": 106,
   "metadata": {},
   "outputs": [],
   "source": [
    "indices = [32, 0, 6, 31, 5, 1, 35]\n",
    "\n",
    "results_bootstrap_saits_obs3_classification_subgroup = []\n",
    "\n",
    "for i in indices:\n",
    "       results_bootstrap_saits_obs3_classification_subgroup.append(toolkits.bootstrap_v2(testing_ae_saits_variables_standard, indicating_mask_variable_standard_norm, 16, i, 9000))\n",
    "\n"
   ]
  },
  {
   "cell_type": "markdown",
   "metadata": {},
   "source": [
    "#### Calculating the mean and standard deviation of the bootstrap distribution"
   ]
  },
  {
   "cell_type": "code",
   "execution_count": 107,
   "metadata": {},
   "outputs": [
    {
     "name": "stdout",
     "output_type": "stream",
     "text": [
      "[np.float64(1.174122801941639), np.float64(0.19605819975450417), np.float64(0.0), np.float64(0.24114741895895714), np.float64(0.2807075619561548), np.float64(0.27174246354233467), np.float64(0.12161519628120666)]\n",
      "[np.float64(0.8152811692023881), np.float64(0.05438973613686845), np.float64(0.0), np.float64(0.18471670189518583), np.float64(0.14691368485557318), np.float64(0.18967925991644569), np.float64(0.01616573041190024)]\n"
     ]
    }
   ],
   "source": [
    "means_bootstraps_saits_obs3_classification_subgroup, standards_deviations_saits_obs3_classification_subgroup = toolkits.calc_mean_and_standard_deviation(results_bootstrap_saits_obs3_classification_subgroup)\n",
    "\n",
    "print(means_bootstraps_saits_obs3_classification_subgroup)\n",
    "print(standards_deviations_saits_obs3_classification_subgroup)\n"
   ]
  },
  {
   "cell_type": "markdown",
   "metadata": {},
   "source": [
    "#### Calculating lower bound and upper bound"
   ]
  },
  {
   "cell_type": "code",
   "execution_count": 108,
   "metadata": {},
   "outputs": [
    {
     "name": "stdout",
     "output_type": "stream",
     "text": [
      "[np.float64(-0.42379892696874766), np.float64(0.08945627579760532), np.float64(0.0), np.float64(-0.12089066409862864), np.float64(-0.007237969196836225), np.float64(-0.1000220545081108), np.float64(0.08993094689009834)]\n",
      "[np.float64(2.7720445308520256), np.float64(0.30266012371140305), np.float64(0.0), np.float64(0.6031855020165429), np.float64(0.5686530931091458), np.float64(0.6435069815927801), np.float64(0.153299445672315)]\n"
     ]
    }
   ],
   "source": [
    "lower_bounds_saits_obs3_classification_subgroup, upper_bounds_saits_obs3_classification_subgroup = toolkits.calc_lower_and_upper_bound(results_bootstrap_saits_obs3_classification_subgroup, means_bootstraps_saits_obs3_classification_subgroup, standards_deviations_saits_obs3_classification_subgroup)\n",
    "\n",
    "print(lower_bounds_saits_obs3_classification_subgroup)\n",
    "print(upper_bounds_saits_obs3_classification_subgroup)"
   ]
  },
  {
   "cell_type": "code",
   "execution_count": 109,
   "metadata": {},
   "outputs": [
    {
     "name": "stdout",
     "output_type": "stream",
     "text": [
      "[np.float64(0.09197122917451109), np.float64(0.10864533313994013), np.float64(0.0), np.float64(0.0), np.float64(0.041572934649777814), np.float64(0.0), np.float64(0.09330420152930746)]\n",
      "[np.float64(3.00022367963562), np.float64(0.31846198470855486), np.float64(0.0), np.float64(0.38263871132432054), np.float64(0.5959809854230184), np.float64(0.6848965195437268), np.float64(0.15631952632364246)]\n"
     ]
    }
   ],
   "source": [
    "lower_bounds_saits_obs3_classification_subgroup, upper_bounds_saits_obs3_classification_subgroup = toolkits.calc_lower_and_upper_bound_percentile(results_bootstrap_saits_obs3_classification_subgroup)\n",
    "\n",
    "print(lower_bounds_saits_obs3_classification_subgroup)\n",
    "print(upper_bounds_saits_obs3_classification_subgroup)"
   ]
  },
  {
   "cell_type": "markdown",
   "metadata": {},
   "source": [
    "#### Mean values of lower bound and upper bound"
   ]
  },
  {
   "cell_type": "code",
   "execution_count": 110,
   "metadata": {},
   "outputs": [
    {
     "name": "stdout",
     "output_type": "stream",
     "text": [
      "[np.float64(1.5460974544050654), np.float64(0.2135536589242475), np.float64(0.0), np.float64(0.19131935566216027), np.float64(0.3187769600363981), np.float64(0.3424482597718634), np.float64(0.12481186392647496)]\n"
     ]
    }
   ],
   "source": [
    "mean_values_ci_saits_obs3_classification_subgroup  = toolkits.calc_mean_values_ci(lower_bounds_saits_obs3_classification_subgroup, upper_bounds_saits_obs3_classification_subgroup)\n",
    "\n",
    "print(mean_values_ci_saits_obs3_classification_subgroup)"
   ]
  },
  {
   "cell_type": "markdown",
   "metadata": {},
   "source": [
    "## BRITS"
   ]
  },
  {
   "cell_type": "markdown",
   "metadata": {},
   "source": [
    "### Calculate MAE and AE"
   ]
  },
  {
   "cell_type": "code",
   "execution_count": 111,
   "metadata": {},
   "outputs": [],
   "source": [
    "testing_mae_brits_variables_standard, testing_ae_brits_variables_standard = toolkits.calculate_mae(brits_imputation_standard, test_X_ori_variable_standard_norm, indicating_mask_variable_standard_norm)"
   ]
  },
  {
   "cell_type": "markdown",
   "metadata": {},
   "source": [
    "### Taking the MAE difference for BRITS model"
   ]
  },
  {
   "cell_type": "markdown",
   "metadata": {},
   "source": [
    "#### Difference between gender group"
   ]
  },
  {
   "cell_type": "code",
   "execution_count": 112,
   "metadata": {},
   "outputs": [
    {
     "data": {
      "text/plain": [
       "[('Cholesterol', 0.33467020046017315),\n",
       " ('AST', 0.17888955772137866),\n",
       " ('TroponinI', 0.17526927063842523),\n",
       " ('Creatinine', 0.15555507367732185),\n",
       " ('Lactate', 0.0961695135309471)]"
      ]
     },
     "execution_count": 112,
     "metadata": {},
     "output_type": "execute_result"
    }
   ],
   "source": [
    "diff_brits_gender_subgroup = toolkits.diff_mae_top_5(testing_mae_brits_variables_standard, 1, 2, variables)\n",
    "diff_brits_gender_subgroup"
   ]
  },
  {
   "cell_type": "markdown",
   "metadata": {},
   "source": [
    "#### Difference between age group"
   ]
  },
  {
   "cell_type": "code",
   "execution_count": 113,
   "metadata": {},
   "outputs": [
    {
     "data": {
      "text/plain": [
       "[('ALP', 0.4455670614286247),\n",
       " ('TroponinI', 0.3868195082859647),\n",
       " ('Bilirubin', 0.23810434213767862),\n",
       " ('Cholesterol', 0.22772024967991167),\n",
       " ('Albumin', 0.13833296504538817)]"
      ]
     },
     "execution_count": 113,
     "metadata": {},
     "output_type": "execute_result"
    }
   ],
   "source": [
    "diff_brits_age_subgroup = toolkits.diff_mae_top_5(testing_mae_brits_variables_standard, 4, 5, variables)\n",
    "diff_brits_age_subgroup"
   ]
  },
  {
   "cell_type": "markdown",
   "metadata": {},
   "source": [
    "#### Difference between ICUType group"
   ]
  },
  {
   "cell_type": "code",
   "execution_count": 114,
   "metadata": {},
   "outputs": [],
   "source": [
    "diff_brits_ICUType_1_2 = toolkits.diff_mae_top_5(testing_mae_brits_variables_standard, 6, 7, variables)\n",
    "diff_brits_ICUType_1_3 = toolkits.diff_mae_top_5(testing_mae_brits_variables_standard, 6, 8, variables)\n",
    "diff_brits_ICUType_1_4 = toolkits.diff_mae_top_5(testing_mae_brits_variables_standard, 6, 9, variables)\n",
    "diff_brits_ICUType_2_3 = toolkits.diff_mae_top_5(testing_mae_brits_variables_standard, 7, 8, variables)\n",
    "diff_brits_ICUType_2_4 = toolkits.diff_mae_top_5(testing_mae_brits_variables_standard, 7, 9, variables)\n",
    "diff_brits_ICUType_3_4 = toolkits.diff_mae_top_5(testing_mae_brits_variables_standard, 8, 9, variables)"
   ]
  },
  {
   "cell_type": "code",
   "execution_count": 115,
   "metadata": {},
   "outputs": [
    {
     "name": "stdout",
     "output_type": "stream",
     "text": [
      "Diferença(MAE) ICUType 1 e 2\n",
      "----------------------------\n",
      "[('Cholesterol', 0.9649941105882632), ('TroponinI', 0.9581594407990047), ('TroponinT', 0.5486699079166011), ('Platelets', 0.2518916923226591), ('AST', 0.24124108598094132)]\n",
      "----------------------------\n",
      "Diferença(MAE) ICUType 1 e 3\n",
      "----------------------------\n",
      "[('SaO2', 1.0707510714622313), ('ALP', 0.9106143557497219), ('TroponinI', 0.7970523312899177), ('TroponinT', 0.4839761749137556), ('Cholesterol', 0.25934743317704234)]\n",
      "----------------------------\n",
      "Diferença(MAE) ICUType 1 e 4\n",
      "----------------------------\n",
      "[('TroponinI', 0.6343111242413422), ('TroponinT', 0.5409005868767687), ('Bilirubin', 0.2897210435032669), ('ALP', 0.26571689159730005), ('Cholesterol', 0.23623932465153985)]\n",
      "----------------------------\n",
      "Diferença(MAE) ICUType 2 e 3\n",
      "[('SaO2', 1.030567265690355), ('ALP', 0.88221080881332), ('Cholesterol', 0.7056466774112209), ('BUN', 0.33074673635065266), ('Platelets', 0.31153489001028306)]\n",
      "----------------------------\n",
      "Diferença(MAE) ICUType 2 e 4\n",
      "----------------------------\n",
      "[('Cholesterol', 0.7287547859367234), ('TroponinI', 0.32384831655766255), ('ALP', 0.2373133446608981), ('Temp', 0.1900485287590596), ('Platelets', 0.18685923821345124)]\n",
      "----------------------------\n",
      "Diferença(MAE) ICUType 3 e 4\n",
      "----------------------------\n",
      "[('SaO2', 1.150177876417555), ('ALP', 0.6448974641524219), ('Creatinine', 0.31463327772845084), ('BUN', 0.2703956466451219), ('Glucose', 0.2698321971553558)]\n",
      "----------------------------\n"
     ]
    }
   ],
   "source": [
    "print(\"Diferença(MAE) ICUType 1 e 2\")\n",
    "print(\"----------------------------\")\n",
    "print(diff_brits_ICUType_1_2)\n",
    "print(\"----------------------------\")\n",
    "print(\"Diferença(MAE) ICUType 1 e 3\")\n",
    "print(\"----------------------------\")\n",
    "print(diff_brits_ICUType_1_3)\n",
    "print(\"----------------------------\")\n",
    "print(\"Diferença(MAE) ICUType 1 e 4\")\n",
    "print(\"----------------------------\")\n",
    "print(diff_brits_ICUType_1_4)\n",
    "print(\"----------------------------\")\n",
    "print(\"Diferença(MAE) ICUType 2 e 3\")\n",
    "print(diff_brits_ICUType_2_3)\n",
    "print(\"----------------------------\")\n",
    "print(\"Diferença(MAE) ICUType 2 e 4\")\n",
    "print(\"----------------------------\")\n",
    "print(diff_brits_ICUType_2_4)\n",
    "print(\"----------------------------\")\n",
    "print(\"Diferença(MAE) ICUType 3 e 4\")\n",
    "print(\"----------------------------\")\n",
    "print(diff_brits_ICUType_3_4)\n",
    "print(\"----------------------------\")"
   ]
  },
  {
   "cell_type": "code",
   "execution_count": 116,
   "metadata": {},
   "outputs": [
    {
     "name": "stdout",
     "output_type": "stream",
     "text": [
      "Top 5 variáveis ICUType\n",
      "-----------------------\n",
      "SaO2\n",
      "ALP\n",
      "Cholesterol\n",
      "TroponinI\n",
      "TroponinT\n"
     ]
    }
   ],
   "source": [
    "print(\"Top 5 variáveis ICUType\")\n",
    "print(\"-----------------------\")\n",
    "print(variables[28])\n",
    "print(variables[0])\n",
    "print(variables[6])\n",
    "print(variables[31])\n",
    "print(variables[32])"
   ]
  },
  {
   "cell_type": "markdown",
   "metadata": {},
   "source": [
    "#### Difference between BMI group"
   ]
  },
  {
   "cell_type": "code",
   "execution_count": 117,
   "metadata": {},
   "outputs": [],
   "source": [
    "diff_brits_classification_undefined_low = toolkits.diff_mae_top_5(testing_mae_brits_variables_standard, 10, 11, variables)\n",
    "diff_brits_classification_undefined_normal = toolkits.diff_mae_top_5(testing_mae_brits_variables_standard, 10, 12, variables)\n",
    "diff_brits_classification_undefined_over = toolkits.diff_mae_top_5(testing_mae_brits_variables_standard, 10, 13, variables)\n",
    "diff_brits_classification_undefined_obs1 = toolkits.diff_mae_top_5(testing_mae_brits_variables_standard, 10, 14, variables)\n",
    "diff_brits_classification_undefined_obs2 = toolkits.diff_mae_top_5(testing_mae_brits_variables_standard, 10, 15, variables)\n",
    "diff_brits_classification_undefined_obs3 = toolkits.diff_mae_top_5(testing_mae_brits_variables_standard, 10, 16, variables)\n",
    "\n",
    "diff_brits_classification_low_normal = toolkits.diff_mae_top_5(testing_mae_brits_variables_standard, 11, 12, variables)\n",
    "diff_brits_classification_low_over = toolkits.diff_mae_top_5(testing_mae_brits_variables_standard, 11, 13, variables)\n",
    "diff_brits_classification_low_obs1 = toolkits.diff_mae_top_5(testing_mae_brits_variables_standard, 11, 14, variables)\n",
    "diff_brits_classification_low_obs2 = toolkits.diff_mae_top_5(testing_mae_brits_variables_standard, 11, 15, variables)\n",
    "diff_brits_classification_low_obs3 = toolkits.diff_mae_top_5(testing_mae_brits_variables_standard, 11, 16, variables)\n",
    "\n",
    "diff_brits_classification_normal_over = toolkits.diff_mae_top_5(testing_mae_brits_variables_standard, 12, 13, variables)\n",
    "diff_brits_classification_normal_obs1 = toolkits.diff_mae_top_5(testing_mae_brits_variables_standard, 12, 14, variables)\n",
    "diff_brits_classification_normal_obs2 = toolkits.diff_mae_top_5(testing_mae_brits_variables_standard, 12, 15, variables)\n",
    "diff_brits_classification_normal_obs3 = toolkits.diff_mae_top_5(testing_mae_brits_variables_standard, 12, 16, variables)\n",
    "\n",
    "diff_brits_classification_over_obs1 = toolkits.diff_mae_top_5(testing_mae_brits_variables_standard, 13, 14, variables)\n",
    "diff_brits_classification_over_obs2 = toolkits.diff_mae_top_5(testing_mae_brits_variables_standard, 13, 15, variables)\n",
    "diff_brits_classification_over_obs3 = toolkits.diff_mae_top_5(testing_mae_brits_variables_standard, 13, 16, variables)\n",
    "\n",
    "\n",
    "diff_brits_classification_obs1_obs2 = toolkits.diff_mae_top_5(testing_mae_brits_variables_standard, 14, 15, variables)\n",
    "diff_brits_classification_obs1_obs3 = toolkits.diff_mae_top_5(testing_mae_brits_variables_standard, 14, 16, variables)\n",
    "\n",
    "diff_brits_classification_obs2_obs3 = toolkits.diff_mae_top_5(testing_mae_brits_variables_standard, 15, 16, variables)"
   ]
  },
  {
   "cell_type": "code",
   "execution_count": 118,
   "metadata": {},
   "outputs": [
    {
     "name": "stdout",
     "output_type": "stream",
     "text": [
      "Diferença(MAE) Classification Undefined and low\n",
      "----------------------------\n",
      "[('ALP', 1.9340447366419231), ('Bilirubin', 1.0634205379618589), ('TroponinI', 0.8461866959272529), ('Cholesterol', 0.46427180720735495), ('Lactate', 0.432934002045685)]\n",
      "----------------------------\n",
      "Diferença(MAE) Classification Undefined and normal\n",
      "----------------------------\n",
      "[('SaO2', 0.3956365150352539), ('Cholesterol', 0.31334687951493556), ('TroponinI', 0.2811986010883921), ('Platelets', 0.21973579409347943), ('ALP', 0.14108821471054112)]\n",
      "----------------------------\n",
      "Diferença(MAE) Classification Undefined and over\n",
      "----------------------------\n",
      "[('Cholesterol', 0.9122714170407268), ('SaO2', 0.2216147767636339), ('Bilirubin', 0.21564253602217226), ('TroponinI', 0.20102396419219326), ('ALT', 0.19595996986933695)]\n",
      "----------------------------\n",
      "Diferença(MAE) Classification Undefined and obs1\n",
      "[('Ph', 0.8860429007708258), ('TroponinI', 0.27796277400600267), ('SaO2', 0.2630706443883271), ('Albumin', 0.21946608524990074), ('Na', 0.1773159978319725)]\n",
      "----------------------------\n",
      "Diferença(MAE) Classification Undefined and obs2\n",
      "----------------------------\n",
      "[('TroponinT', 1.1935688949607661), ('TroponinI', 0.8461866959272529), ('Cholesterol', 0.37516456887030153), ('ALT', 0.2702448869727391), ('Platelets', 0.23498047503103403)]\n",
      "----------------------------\n",
      "Diferença(MAE) ICUType Undefined and obs3\n",
      "----------------------------\n",
      "[('TroponinT', 0.8872768477337822), ('ALT', 0.7773832992509336), ('Cholesterol', 0.5742665081334534), ('TroponinI', 0.4540744819672411), ('Platelets', 0.31707612702208643)]\n",
      "----------------------------\n"
     ]
    }
   ],
   "source": [
    "print(\"Diferença(MAE) Classification Undefined and low\")\n",
    "print(\"----------------------------\")\n",
    "print(diff_brits_classification_undefined_low)\n",
    "print(\"----------------------------\")\n",
    "print(\"Diferença(MAE) Classification Undefined and normal\")\n",
    "print(\"----------------------------\")\n",
    "print(diff_brits_classification_undefined_normal)\n",
    "print(\"----------------------------\")\n",
    "print(\"Diferença(MAE) Classification Undefined and over\")\n",
    "print(\"----------------------------\")\n",
    "print(diff_brits_classification_undefined_over)\n",
    "print(\"----------------------------\")\n",
    "print(\"Diferença(MAE) Classification Undefined and obs1\")\n",
    "print(diff_brits_classification_undefined_obs1)\n",
    "print(\"----------------------------\")\n",
    "print(\"Diferença(MAE) Classification Undefined and obs2\")\n",
    "print(\"----------------------------\")\n",
    "print(diff_brits_classification_undefined_obs2)\n",
    "print(\"----------------------------\")\n",
    "print(\"Diferença(MAE) ICUType Undefined and obs3\")\n",
    "print(\"----------------------------\")\n",
    "print(diff_brits_classification_undefined_obs3)\n",
    "print(\"----------------------------\")"
   ]
  },
  {
   "cell_type": "code",
   "execution_count": 119,
   "metadata": {},
   "outputs": [
    {
     "name": "stdout",
     "output_type": "stream",
     "text": [
      "Diferença(MAE) Classification low and normal\n",
      "----------------------------\n",
      "[('ALP', 1.7929565219313819), ('Bilirubin', 0.9513305382204593), ('Cholesterol', 0.7776186867222905), ('SaO2', 0.6685476719781142), ('TroponinI', 0.5649880948388608)]\n",
      "----------------------------\n",
      "Diferença(MAE) Classification low and over\n",
      "----------------------------\n",
      "[('ALP', 2.060865479901618), ('Cholesterol', 1.3765432242480817), ('Bilirubin', 1.2790630739840312), ('TroponinI', 1.0472106601194462), ('Glucose', 0.40732195398769067)]\n",
      "----------------------------\n",
      "Diferença(MAE) Classification low and obs1\n",
      "----------------------------\n",
      "[('ALP', 2.0338878789564587), ('Bilirubin', 1.0689277903377052), ('Ph', 0.8810842114333002), ('TroponinI', 0.5682239219212503), ('Glucose', 0.5610521608500285)]\n",
      "----------------------------\n",
      "Diferença(MAE) Classification low and obs2\n",
      "[('ALP', 2.083344030352053), ('Bilirubin', 1.189908383818061), ('TroponinT', 0.8194450582455736), ('AST', 0.44272365749481374), ('HCO3', 0.4344701818197551)]\n",
      "----------------------------\n",
      "Diferença(MAE) Classification low and obs3\n",
      "----------------------------\n",
      "[('ALP', 2.1889212290227005), ('Bilirubin', 1.2671260518566911), ('ALT', 0.784498137838622), ('TroponinT', 0.5131530110185897), ('AST', 0.4166938681962047)]\n",
      "----------------------------\n"
     ]
    }
   ],
   "source": [
    "print(\"Diferença(MAE) Classification low and normal\")\n",
    "print(\"----------------------------\")\n",
    "print(diff_brits_classification_low_normal)\n",
    "print(\"----------------------------\")\n",
    "print(\"Diferença(MAE) Classification low and over\")\n",
    "print(\"----------------------------\")\n",
    "print(diff_brits_classification_low_over)\n",
    "print(\"----------------------------\")\n",
    "print(\"Diferença(MAE) Classification low and obs1\")\n",
    "print(\"----------------------------\")\n",
    "print(diff_brits_classification_low_obs1)\n",
    "print(\"----------------------------\")\n",
    "print(\"Diferença(MAE) Classification low and obs2\")\n",
    "print(diff_brits_classification_low_obs2)\n",
    "print(\"----------------------------\")\n",
    "print(\"Diferença(MAE) Classification low and obs3\")\n",
    "print(\"----------------------------\")\n",
    "print(diff_brits_classification_low_obs3)\n",
    "print(\"----------------------------\")"
   ]
  },
  {
   "cell_type": "code",
   "execution_count": 120,
   "metadata": {},
   "outputs": [
    {
     "name": "stdout",
     "output_type": "stream",
     "text": [
      "Diferença(MAE) Classification normal and over\n",
      "----------------------------\n",
      "[('SaO2', 0.6172512917988877), ('Cholesterol', 0.5989245375257912), ('TroponinI', 0.4822225652805854), ('Bilirubin', 0.32773253576357175), ('ALT', 0.2736328573496928)]\n",
      "----------------------------\n",
      "Diferença(MAE) Classification normal and obs1\n",
      "----------------------------\n",
      "[('Ph', 0.8903667412858379), ('SaO2', 0.6587071594235809), ('Cholesterol', 0.36517235893560385), ('Albumin', 0.2900474046493634), ('ALP', 0.24093135702507662)]\n",
      "----------------------------\n",
      "Diferença(MAE) Classification normal and obs2\n",
      "----------------------------\n",
      "[('TroponinT', 1.220432293290763), ('Cholesterol', 0.688511448385237), ('TroponinI', 0.5649880948388608), ('SaO2', 0.4915174467035355), ('ALT', 0.3479177744530949)]\n",
      "----------------------------\n",
      "Diferença(MAE) Classification normal and obs3\n",
      "[('TroponinT', 0.9141402460637791), ('Cholesterol', 0.8876133876483889), ('ALT', 0.8550561867312895), ('SaO2', 0.5055719721885107), ('ALP', 0.3959647070913184)]\n",
      "----------------------------\n"
     ]
    }
   ],
   "source": [
    "print(\"Diferença(MAE) Classification normal and over\")\n",
    "print(\"----------------------------\")\n",
    "print(diff_brits_classification_normal_over)\n",
    "print(\"----------------------------\")\n",
    "print(\"Diferença(MAE) Classification normal and obs1\")\n",
    "print(\"----------------------------\")\n",
    "print(diff_brits_classification_normal_obs1)\n",
    "print(\"----------------------------\")\n",
    "print(\"Diferença(MAE) Classification normal and obs2\")\n",
    "print(\"----------------------------\")\n",
    "print(diff_brits_classification_normal_obs2)\n",
    "print(\"----------------------------\")\n",
    "print(\"Diferença(MAE) Classification normal and obs3\")\n",
    "print(diff_brits_classification_normal_obs3)\n",
    "print(\"----------------------------\")"
   ]
  },
  {
   "cell_type": "code",
   "execution_count": 121,
   "metadata": {},
   "outputs": [
    {
     "name": "stdout",
     "output_type": "stream",
     "text": [
      "Diferença(MAE) Classification over and obs1\n",
      "----------------------------\n",
      "[('Cholesterol', 0.9640968964613951), ('Ph', 0.8905324606918038), ('TroponinI', 0.4789867381981959), ('ALT', 0.28228479496676956), ('Bilirubin', 0.2101352836463259)]\n",
      "----------------------------\n",
      "Diferença(MAE) Classification over and obs2\n",
      "----------------------------\n",
      "[('Cholesterol', 1.2874359859110283), ('TroponinI', 1.0472106601194462), ('TroponinT', 1.0262220986441177), ('AST', 0.21817186815478096), ('BUN', 0.19186305260550485)]\n",
      "----------------------------\n",
      "Diferença(MAE) Classification over and obs3\n",
      "----------------------------\n",
      "[('Cholesterol', 1.4865379251741802), ('TroponinT', 0.7199300514171338), ('TroponinI', 0.6550984461594344), ('ALT', 0.5814233293815967), ('Glucose', 0.23574108257412307)]\n",
      "----------------------------\n"
     ]
    }
   ],
   "source": [
    "print(\"Diferença(MAE) Classification over and obs1\")\n",
    "print(\"----------------------------\")\n",
    "print(diff_brits_classification_over_obs1)\n",
    "print(\"----------------------------\")\n",
    "print(\"Diferença(MAE) Classification over and obs2\")\n",
    "print(\"----------------------------\")\n",
    "print(diff_brits_classification_over_obs2)\n",
    "print(\"----------------------------\")\n",
    "print(\"Diferença(MAE) Classification over and obs3\")\n",
    "print(\"----------------------------\")\n",
    "print(diff_brits_classification_over_obs3)\n",
    "print(\"----------------------------\")"
   ]
  },
  {
   "cell_type": "code",
   "execution_count": 122,
   "metadata": {},
   "outputs": [
    {
     "name": "stdout",
     "output_type": "stream",
     "text": [
      "Diferença(MAE) Classification obs1 and obs2 \n",
      "----------------------------\n",
      "[('TroponinT', 1.193502313404874), ('Ph', 0.8867898203626943), ('TroponinI', 0.5682239219212503), ('ALT', 0.3565697120701717), ('Cholesterol', 0.32333908944963324)]\n",
      "----------------------------\n",
      "Diferença(MAE) Classification obs1 and obs3 \n",
      "----------------------------\n",
      "[('Ph', 0.8897412963473199), ('TroponinT', 0.88721026617789), ('ALT', 0.8637081243483662), ('Cholesterol', 0.5224410287127851), ('Glucose', 0.38947128943646087)]\n",
      "----------------------------\n"
     ]
    }
   ],
   "source": [
    "print(\"Diferença(MAE) Classification obs1 and obs2 \")\n",
    "print(\"----------------------------\")\n",
    "print(diff_brits_classification_obs1_obs2)\n",
    "print(\"----------------------------\")\n",
    "print(\"Diferença(MAE) Classification obs1 and obs3 \")\n",
    "print(\"----------------------------\")\n",
    "print(diff_brits_classification_obs1_obs3)\n",
    "print(\"----------------------------\")"
   ]
  },
  {
   "cell_type": "code",
   "execution_count": 123,
   "metadata": {},
   "outputs": [
    {
     "name": "stdout",
     "output_type": "stream",
     "text": [
      "Diferença(MAE) Classification obs2 and obs3 \n",
      "----------------------------\n",
      "[('ALT', 0.5071384122781946), ('TroponinI', 0.39211221396001184), ('TroponinT', 0.3062920472269839), ('HCO3', 0.23358518974369696), ('Glucose', 0.20095366197425335)]\n",
      "----------------------------\n"
     ]
    }
   ],
   "source": [
    "print(\"Diferença(MAE) Classification obs2 and obs3 \")\n",
    "print(\"----------------------------\")\n",
    "print(diff_brits_classification_obs2_obs3)\n",
    "print(\"----------------------------\")"
   ]
  },
  {
   "cell_type": "code",
   "execution_count": 124,
   "metadata": {},
   "outputs": [
    {
     "name": "stdout",
     "output_type": "stream",
     "text": [
      "Top 5 variáveis BMI\n",
      "-----------------------\n",
      "ALP\n",
      "Cholesterol\n",
      "TroponinT\n",
      "TroponinI\n",
      "Bilirubin\n"
     ]
    }
   ],
   "source": [
    "print(\"Top 5 variáveis BMI\")\n",
    "print(\"-----------------------\")\n",
    "print(variables[0])\n",
    "print(variables[6])\n",
    "print(variables[32])\n",
    "print(variables[31])\n",
    "print(variables[5])"
   ]
  },
  {
   "cell_type": "markdown",
   "metadata": {},
   "source": [
    "### Confidence Interval (Female Subgroup)"
   ]
  },
  {
   "cell_type": "markdown",
   "metadata": {},
   "source": [
    "#### Distribution Bootstrap for the Top 5 variables with Largest Differences in MAE (Mean Absolute Error) "
   ]
  },
  {
   "cell_type": "code",
   "execution_count": 125,
   "metadata": {},
   "outputs": [],
   "source": [
    "indices = [6, 31, 28, 16, 33, 2, 7, 15, 5, 2, 35, 24]\n",
    "\n",
    "results_bootstrap_brits_female = []\n",
    "\n",
    "for i in indices:\n",
    "       results_bootstrap_brits_female.append(toolkits.bootstrap_v2(testing_ae_brits_variables_standard, indicating_mask_variable_standard_norm, 1, i, 9000))"
   ]
  },
  {
   "cell_type": "markdown",
   "metadata": {},
   "source": [
    "#### Calculating the mean and standard deviation of the bootstrap distribution"
   ]
  },
  {
   "cell_type": "code",
   "execution_count": 126,
   "metadata": {},
   "outputs": [
    {
     "name": "stdout",
     "output_type": "stream",
     "text": [
      "[np.float64(1.179863930834408), np.float64(0.5233882194493867), np.float64(0.5669394454773564), np.float64(0.4262927607316525), np.float64(0.2927745387996273), np.float64(0.30161012783732477), np.float64(0.2520432195506154), np.float64(0.6740430489599522), np.float64(0.29792444872181434), np.float64(0.2996217790430212), np.float64(0.060521396312743225), np.float64(0.5075399124539731)]\n",
      "[np.float64(0.33967759869351355), np.float64(0.07230701862030067), np.float64(0.13940375834716123), np.float64(0.03847644149074913), np.float64(0.008670900439200447), np.float64(0.0848645872760513), np.float64(0.024759857939583314), np.float64(0.03441311480209853), np.float64(0.06605797747312059), np.float64(0.08435135157044552), np.float64(0.004754151191010087), np.float64(0.021740570722039883)]\n"
     ]
    }
   ],
   "source": [
    "means_bootstraps_brits_female,standards_deviations_brits_female = toolkits.calc_mean_and_standard_deviation(results_bootstrap_brits_female)\n",
    "\n",
    "print(means_bootstraps_brits_female)\n",
    "print(standards_deviations_brits_female)\n"
   ]
  },
  {
   "cell_type": "markdown",
   "metadata": {},
   "source": [
    "#### Calculating lower bound and upper bound"
   ]
  },
  {
   "cell_type": "code",
   "execution_count": 127,
   "metadata": {},
   "outputs": [
    {
     "name": "stdout",
     "output_type": "stream",
     "text": [
      "[np.float64(0.5141080710400718), np.float64(0.38166906712413035), np.float64(0.29371309980739546), np.float64(0.35088032115652157), np.float64(0.2757798862252619), np.float64(0.1352785932134081), np.float64(0.20351478972670403), np.float64(0.6065945833519968), np.float64(0.1684531919829398), np.float64(0.13429616791767185), np.float64(0.05120343120130525), np.float64(0.464929176835429)]\n",
      "[np.float64(1.8456197906287444), np.float64(0.6651073717746432), np.float64(0.8401657911473174), np.float64(0.5017052003067834), np.float64(0.30976919137399267), np.float64(0.46794166246124147), np.float64(0.30057164937452685), np.float64(0.7414915145679075), np.float64(0.4273957054606889), np.float64(0.4649473901683705), np.float64(0.0698393614241812), np.float64(0.5501506480725172)]\n"
     ]
    }
   ],
   "source": [
    "lower_bounds_brits_female, upper_bounds_brits_female = toolkits.calc_lower_and_upper_bound(results_bootstrap_brits_female, means_bootstraps_brits_female,standards_deviations_brits_female)\n",
    "\n",
    "print(lower_bounds_brits_female)\n",
    "print(upper_bounds_brits_female)"
   ]
  },
  {
   "cell_type": "code",
   "execution_count": 128,
   "metadata": {},
   "outputs": [
    {
     "name": "stdout",
     "output_type": "stream",
     "text": [
      "[np.float64(0.4968807905077575), np.float64(0.38193937258413285), np.float64(0.32993095168375397), np.float64(0.3549349251700391), np.float64(0.27620089719597324), np.float64(0.16091099800584968), np.float64(0.20714247470515038), np.float64(0.6097020735297847), np.float64(0.18469541164541012), np.float64(0.15861808082118425), np.float64(0.05168324294505243), np.float64(0.4662975796151602)]\n",
      "[np.float64(1.8393478124459337), np.float64(0.6682822710147335), np.float64(0.8757607526086687), np.float64(0.5049085262899291), np.float64(0.31004767626972984), np.float64(0.4877700875445269), np.float64(0.30484660206533915), np.float64(0.7450377725488991), np.float64(0.4418350473462839), np.float64(0.48734408360396114), np.float64(0.07025076961204074), np.float64(0.5509092356408299)]\n"
     ]
    }
   ],
   "source": [
    "lower_bounds_brits_female, upper_bounds_brits_female = toolkits.calc_lower_and_upper_bound_percentile(results_bootstrap_brits_female)\n",
    "\n",
    "print(lower_bounds_brits_female)\n",
    "print(upper_bounds_brits_female)"
   ]
  },
  {
   "cell_type": "markdown",
   "metadata": {},
   "source": [
    "#### Mean values of lower bound and upper bound\n"
   ]
  },
  {
   "cell_type": "code",
   "execution_count": 129,
   "metadata": {},
   "outputs": [
    {
     "name": "stdout",
     "output_type": "stream",
     "text": [
      "[np.float64(1.1681143014768456), np.float64(0.5251108217994331), np.float64(0.6028458521462113), np.float64(0.4299217257299841), np.float64(0.2931242867328515), np.float64(0.3243405427751883), np.float64(0.2559945383852448), np.float64(0.677369923039342), np.float64(0.313265229495847), np.float64(0.3229810822125727), np.float64(0.060967006278546586), np.float64(0.508603407627995)]\n"
     ]
    }
   ],
   "source": [
    "mean_values_ci_brits_female = toolkits.calc_mean_values_ci(lower_bounds_brits_female, upper_bounds_brits_female)\n",
    "\n",
    "print(mean_values_ci_brits_female)"
   ]
  },
  {
   "cell_type": "markdown",
   "metadata": {},
   "source": [
    "### Confidence Interval (Male Subgroup)"
   ]
  },
  {
   "cell_type": "markdown",
   "metadata": {},
   "source": [
    "#### Distribution Bootstrap for the Top 5 variables with Largest Differences in MAE (Mean Absolute Error) "
   ]
  },
  {
   "cell_type": "code",
   "execution_count": 130,
   "metadata": {},
   "outputs": [],
   "source": [
    "indices = [6, 31, 28, 16, 33, 2, 7, 15, 5, 2, 35, 24]\n",
    "\n",
    "results_bootstrap_brits_male = []\n",
    "\n",
    "for i in indices:\n",
    "       results_bootstrap_brits_male.append(toolkits.bootstrap_v2(testing_ae_brits_variables_standard, indicating_mask_variable_standard_norm, 2, i, 9000))"
   ]
  },
  {
   "cell_type": "markdown",
   "metadata": {},
   "source": [
    "#### Calculating the mean and standard deviation of the bootstrap distribution"
   ]
  },
  {
   "cell_type": "code",
   "execution_count": 131,
   "metadata": {},
   "outputs": [
    {
     "name": "stdout",
     "output_type": "stream",
     "text": [
      "[np.float64(0.854312785965969), np.float64(0.69793226655648), np.float64(0.5788874609838146), np.float64(0.5218477147546687), np.float64(0.3547467656480773), np.float64(0.12182354571033481), np.float64(0.4073172652594466), np.float64(0.6193417493863396), np.float64(0.28308368574229126), np.float64(0.12197737498234233), np.float64(0.05506604203706228), np.float64(0.4785682671425299)]\n",
      "[np.float64(0.17112048417178624), np.float64(0.20950734713753777), np.float64(0.2222638014715227), np.float64(0.04261663101563413), np.float64(0.011539284042436456), np.float64(0.02574568952633491), np.float64(0.03829764363415067), np.float64(0.026269546181583104), np.float64(0.04821267153960221), np.float64(0.02561385052707165), np.float64(0.0033874977733877112), np.float64(0.018186917981419373)]\n"
     ]
    }
   ],
   "source": [
    "means_bootstraps_brits_male,standards_deviations_brits_male = toolkits.calc_mean_and_standard_deviation(results_bootstrap_brits_male)\n",
    "\n",
    "print(means_bootstraps_brits_male)\n",
    "print(standards_deviations_brits_male)\n"
   ]
  },
  {
   "cell_type": "markdown",
   "metadata": {},
   "source": [
    "#### Calculating lower bound and upper bound"
   ]
  },
  {
   "cell_type": "code",
   "execution_count": 132,
   "metadata": {},
   "outputs": [
    {
     "name": "stdout",
     "output_type": "stream",
     "text": [
      "[np.float64(0.5189227999722117), np.float64(0.2873054116703752), np.float64(0.14325841503266945), np.float64(0.4383206528215932), np.float64(0.3321301845175241), np.float64(0.07136292148156831), np.float64(0.33225526304376163), np.float64(0.567854384980225), np.float64(0.18858858592621164), np.float64(0.07177515044388962), np.float64(0.04842666840351274), np.float64(0.44292256290916404)]\n",
      "[np.float64(1.1897027719597264), np.float64(1.1085591214425847), np.float64(1.0145165069349598), np.float64(0.6053747766877442), np.float64(0.3773633467786305), np.float64(0.1722841699391013), np.float64(0.4823792674751316), np.float64(0.6708291137924541), np.float64(0.3775787855583709), np.float64(0.17217959952079503), np.float64(0.061705415670611816), np.float64(0.5142139713758958)]\n"
     ]
    }
   ],
   "source": [
    "lower_bounds_brits_male, upper_bounds_brits_male = toolkits.calc_lower_and_upper_bound(results_bootstrap_brits_male, means_bootstraps_brits_male,standards_deviations_brits_male)\n",
    "\n",
    "print(lower_bounds_brits_male)\n",
    "print(upper_bounds_brits_male)"
   ]
  },
  {
   "cell_type": "code",
   "execution_count": 133,
   "metadata": {},
   "outputs": [
    {
     "name": "stdout",
     "output_type": "stream",
     "text": [
      "[np.float64(0.5301380329394242), np.float64(0.32927026897220596), np.float64(0.3079566108428539), np.float64(0.44188543304379085), np.float64(0.3333570075193866), np.float64(0.07656795703837219), np.float64(0.3343701939070786), np.float64(0.568717674572388), np.float64(0.1973842219941603), np.float64(0.07716981633329767), np.float64(0.04862952157381154), np.float64(0.44360949397630695)]\n",
      "[np.float64(1.199117427080588), np.float64(1.155415750712769), np.float64(1.0880867890273216), np.float64(0.6065284197132054), np.float64(0.37796334312292557), np.float64(0.1770223180266911), np.float64(0.48572637424963916), np.float64(0.6717754724053021), np.float64(0.38535063725911683), np.float64(0.1773071477410518), np.float64(0.06191062058012285), np.float64(0.5153353845843236)]\n"
     ]
    }
   ],
   "source": [
    "lower_bounds_brits_male, upper_bounds_brits_male = toolkits.calc_lower_and_upper_bound_percentile(results_bootstrap_brits_male)\n",
    "\n",
    "print(lower_bounds_brits_male)\n",
    "print(upper_bounds_brits_male)"
   ]
  },
  {
   "cell_type": "markdown",
   "metadata": {},
   "source": [
    "#### Mean values of lower bound and upper bound\n"
   ]
  },
  {
   "cell_type": "code",
   "execution_count": 134,
   "metadata": {},
   "outputs": [
    {
     "name": "stdout",
     "output_type": "stream",
     "text": [
      "[np.float64(0.864627730010006), np.float64(0.7423430098424875), np.float64(0.6980216999350878), np.float64(0.5242069263784981), np.float64(0.35566017532115607), np.float64(0.12679513753253163), np.float64(0.4100482840783589), np.float64(0.620246573488845), np.float64(0.2913674296266386), np.float64(0.12723848203717475), np.float64(0.0552700710769672), np.float64(0.47947243928031524)]\n"
     ]
    }
   ],
   "source": [
    "mean_values_ci_brits_male = toolkits.calc_mean_values_ci(lower_bounds_brits_male, upper_bounds_brits_male)\n",
    "\n",
    "print(mean_values_ci_brits_male)"
   ]
  },
  {
   "cell_type": "markdown",
   "metadata": {},
   "source": [
    "### Confidence Interval (+65 Subgroup)"
   ]
  },
  {
   "cell_type": "markdown",
   "metadata": {},
   "source": [
    "#### Distribution Bootstrap for the Top 5 variables with Largest Differences in MAE (Mean Absolute Error) "
   ]
  },
  {
   "cell_type": "code",
   "execution_count": 135,
   "metadata": {},
   "outputs": [],
   "source": [
    "indices = [6, 32, 0, 28, 5, 31, 3]\n",
    "\n",
    "results_bootstrap_brits_more_than_or_equal_to_65_subgroup = []\n",
    "\n",
    "for i in indices:\n",
    "       results_bootstrap_brits_more_than_or_equal_to_65_subgroup.append(toolkits.bootstrap_v2(testing_ae_brits_variables_standard, indicating_mask_variable_standard_norm, 4, i, 9000))\n"
   ]
  },
  {
   "cell_type": "markdown",
   "metadata": {},
   "source": [
    "#### Calculating the mean and standard deviation of the bootstrap distribution"
   ]
  },
  {
   "cell_type": "code",
   "execution_count": 136,
   "metadata": {},
   "outputs": [
    {
     "name": "stdout",
     "output_type": "stream",
     "text": [
      "[np.float64(0.662244906270694), np.float64(0.33551822688304433), np.float64(0.6362342133086535), np.float64(0.6383574162849505), np.float64(0.23878634109180352), np.float64(0.924878783743687), np.float64(0.5731951031171467)]\n",
      "[np.float64(0.08841667646254166), np.float64(0.0631813692473505), np.float64(0.14098598742203416), np.float64(0.24085299923210227), np.float64(0.025378362701790873), np.float64(0.2879896525743772), np.float64(0.0619036891476668)]\n"
     ]
    }
   ],
   "source": [
    "means_bootstraps_brits_more_than_or_equal_to_65_subgroup,standards_deviations_brits_more_than_or_equal_to_65_subgroup = toolkits.calc_mean_and_standard_deviation(results_bootstrap_brits_more_than_or_equal_to_65_subgroup)\n",
    "\n",
    "print(means_bootstraps_brits_more_than_or_equal_to_65_subgroup)\n",
    "print(standards_deviations_brits_more_than_or_equal_to_65_subgroup)"
   ]
  },
  {
   "cell_type": "markdown",
   "metadata": {},
   "source": [
    "#### Calculating lower bound and upper bound\n"
   ]
  },
  {
   "cell_type": "code",
   "execution_count": 137,
   "metadata": {},
   "outputs": [
    {
     "name": "stdout",
     "output_type": "stream",
     "text": [
      "[np.float64(0.488951404771382), np.float64(0.2116850186643108), np.float64(0.3599067556366495), np.float64(0.16629421222157675), np.float64(0.1890456642096988), np.float64(0.3604294367777049), np.float64(0.4518661018775568)]\n",
      "[np.float64(0.835538407770006), np.float64(0.4593514351017779), np.float64(0.9125616709806574), np.float64(1.1104206203483242), np.float64(0.28852701797390823), np.float64(1.4893281307096693), np.float64(0.6945241043567366)]\n"
     ]
    }
   ],
   "source": [
    "lower_bounds_brits_more_than_or_equal_to_65_subgroup, upper_bounds_brits_more_than_or_equal_to_65_subgroup = toolkits.calc_lower_and_upper_bound(results_bootstrap_brits_more_than_or_equal_to_65_subgroup, means_bootstraps_brits_more_than_or_equal_to_65_subgroup,standards_deviations_brits_more_than_or_equal_to_65_subgroup)\n",
    "\n",
    "print(lower_bounds_brits_more_than_or_equal_to_65_subgroup)\n",
    "print(upper_bounds_brits_more_than_or_equal_to_65_subgroup)\n"
   ]
  },
  {
   "cell_type": "code",
   "execution_count": 138,
   "metadata": {},
   "outputs": [
    {
     "name": "stdout",
     "output_type": "stream",
     "text": [
      "[np.float64(0.49013614681391765), np.float64(0.22848200592268603), np.float64(0.39417516510179157), np.float64(0.3436040659088286), np.float64(0.1922309176367736), np.float64(0.461134543912614), np.float64(0.4554978714069311)]\n",
      "[np.float64(0.8366997180001123), np.float64(0.47458613177319675), np.float64(0.9440111445954974), np.float64(1.1796209064031462), np.float64(0.29240414008122545), np.float64(1.5779181655450232), np.float64(0.6986735655061573)]\n"
     ]
    }
   ],
   "source": [
    "lower_bounds_brits_more_than_or_equal_to_65_subgroup, upper_bounds_brits_more_than_or_equal_to_65_subgroup = toolkits.calc_lower_and_upper_bound_percentile(results_bootstrap_brits_more_than_or_equal_to_65_subgroup)\n",
    "\n",
    "print(lower_bounds_brits_more_than_or_equal_to_65_subgroup)\n",
    "print(upper_bounds_brits_more_than_or_equal_to_65_subgroup)"
   ]
  },
  {
   "cell_type": "markdown",
   "metadata": {},
   "source": [
    "#### Mean values of lower bound and upper bound"
   ]
  },
  {
   "cell_type": "code",
   "execution_count": 139,
   "metadata": {},
   "outputs": [
    {
     "name": "stdout",
     "output_type": "stream",
     "text": [
      "[np.float64(0.663417932407015), np.float64(0.35153406884794136), np.float64(0.6690931548486445), np.float64(0.7616124861559874), np.float64(0.24231752885899954), np.float64(1.0195263547288187), np.float64(0.5770857184565442)]\n"
     ]
    }
   ],
   "source": [
    "mean_values_ci_brits_more_than_or_equal_to_65_subgroup  = toolkits.calc_mean_values_ci(lower_bounds_brits_more_than_or_equal_to_65_subgroup , upper_bounds_brits_more_than_or_equal_to_65_subgroup)\n",
    "\n",
    "print(mean_values_ci_brits_more_than_or_equal_to_65_subgroup)"
   ]
  },
  {
   "cell_type": "markdown",
   "metadata": {},
   "source": [
    "### Confidence Interval (-65 subgroup)"
   ]
  },
  {
   "cell_type": "markdown",
   "metadata": {},
   "source": [
    "#### Distribution Bootstrap for the Top 5 variables with Largest Differences in MAE (Mean Absolute Error) "
   ]
  },
  {
   "cell_type": "code",
   "execution_count": 140,
   "metadata": {},
   "outputs": [],
   "source": [
    "indices = [6, 32, 0, 28, 5, 31, 3]\n",
    "\n",
    "results_bootstrap_brits_less_than_65_subgroup = []\n",
    "\n",
    "for i in indices:\n",
    "       results_bootstrap_brits_less_than_65_subgroup.append(toolkits.bootstrap_v2(testing_ae_brits_variables_standard, indicating_mask_variable_standard_norm, 5, i, 9000))\n",
    "\n"
   ]
  },
  {
   "cell_type": "markdown",
   "metadata": {},
   "source": [
    "#### Calculating the mean and standard deviation of the bootstrap distribution"
   ]
  },
  {
   "cell_type": "code",
   "execution_count": 141,
   "metadata": {},
   "outputs": [
    {
     "name": "stdout",
     "output_type": "stream",
     "text": [
      "[np.float64(0.7722524194006836), np.float64(0.36263183850017955), np.float64(1.084029737789501), np.float64(0.571527362778218), np.float64(0.4751239089993839), np.float64(0.5373403409647254), np.float64(0.7127001763464236)]\n",
      "[np.float64(0.6086238944869353), np.float64(0.09109588956527907), np.float64(0.43935299070541206), np.float64(0.13437165851905025), np.float64(0.08710455881773665), np.float64(0.07056198341407932), np.float64(0.06180206326074808)]\n"
     ]
    }
   ],
   "source": [
    "means_bootstraps_brits_less_than_65_subgroup,standards_deviations_brits_less_than_65_subgroup = toolkits.calc_mean_and_standard_deviation(results_bootstrap_brits_less_than_65_subgroup)\n",
    "\n",
    "print(means_bootstraps_brits_less_than_65_subgroup)\n",
    "print(standards_deviations_brits_less_than_65_subgroup)\n"
   ]
  },
  {
   "cell_type": "markdown",
   "metadata": {},
   "source": [
    "#### Calculating lower bound and upper bound"
   ]
  },
  {
   "cell_type": "code",
   "execution_count": 142,
   "metadata": {},
   "outputs": [
    {
     "name": "stdout",
     "output_type": "stream",
     "text": [
      "[np.float64(-0.42062849392421564), np.float64(0.18408717581259446), np.float64(0.22291369950693218), np.float64(0.3081637515379648), np.float64(0.30440211082736923), np.float64(0.3990413947954173), np.float64(0.5915703581850913)]\n",
      "[np.float64(1.9651333327255829), np.float64(0.5411765011877646), np.float64(1.9451457760720698), np.float64(0.8348909740184712), np.float64(0.6458457071713986), np.float64(0.6756392871340335), np.float64(0.8338299945077559)]\n"
     ]
    }
   ],
   "source": [
    "lower_bounds_brits_less_than_65_subgroup, upper_bounds_brits_less_than_65_subgroup = toolkits.calc_lower_and_upper_bound(results_bootstrap_brits_less_than_65_subgroup, means_bootstraps_brits_less_than_65_subgroup, standards_deviations_brits_less_than_65_subgroup)\n",
    "\n",
    "print(lower_bounds_brits_less_than_65_subgroup)\n",
    "print(upper_bounds_brits_less_than_65_subgroup)"
   ]
  },
  {
   "cell_type": "code",
   "execution_count": 143,
   "metadata": {},
   "outputs": [
    {
     "name": "stdout",
     "output_type": "stream",
     "text": [
      "[np.float64(0.0), np.float64(0.2074044801250295), np.float64(0.41237684781003814), np.float64(0.3415031837447295), np.float64(0.3212877496534465), np.float64(0.38080614880421926), np.float64(0.5948515926626379)]\n",
      "[np.float64(1.6400321328986665), np.float64(0.5615428890114939), np.float64(2.08700193546815), np.float64(0.8688863074412774), np.float64(0.6621744792199287), np.float64(0.6432682344289811), np.float64(0.836412282791994)]\n"
     ]
    }
   ],
   "source": [
    "lower_bounds_brits_less_than_65_subgroup, upper_bounds_brits_less_than_65_subgroup = toolkits.calc_lower_and_upper_bound_percentile(results_bootstrap_brits_less_than_65_subgroup)\n",
    "\n",
    "print(lower_bounds_brits_less_than_65_subgroup)\n",
    "print(upper_bounds_brits_less_than_65_subgroup)"
   ]
  },
  {
   "cell_type": "markdown",
   "metadata": {},
   "source": [
    "#### Mean values of lower bound and upper bound"
   ]
  },
  {
   "cell_type": "code",
   "execution_count": 144,
   "metadata": {},
   "outputs": [
    {
     "name": "stdout",
     "output_type": "stream",
     "text": [
      "[np.float64(0.8200160664493332), np.float64(0.3844736845682617), np.float64(1.249689391639094), np.float64(0.6051947455930035), np.float64(0.4917311144366876), np.float64(0.5120371916166002), np.float64(0.7156319377273159)]\n"
     ]
    }
   ],
   "source": [
    "mean_values_ci_brits_less_than_65_subgroup  = toolkits.calc_mean_values_ci(lower_bounds_brits_less_than_65_subgroup, upper_bounds_brits_less_than_65_subgroup)\n",
    "\n",
    "print(mean_values_ci_brits_less_than_65_subgroup)"
   ]
  },
  {
   "cell_type": "markdown",
   "metadata": {},
   "source": [
    "### Confidence Interval (ICUType 1 subgroup)"
   ]
  },
  {
   "cell_type": "markdown",
   "metadata": {},
   "source": [
    "#### Distribution Bootstrap for the Top 5 variables with Largest Differences in MAE (Mean Absolute Error) "
   ]
  },
  {
   "cell_type": "code",
   "execution_count": 145,
   "metadata": {},
   "outputs": [],
   "source": [
    "indices = [28, 31, 6, 0, 32, 24]\n",
    "\n",
    "results_bootstrap_brits_ICUType_1_subgroup = []\n",
    "\n",
    "for i in indices:\n",
    "       results_bootstrap_brits_ICUType_1_subgroup.append(toolkits.bootstrap_v2(testing_ae_brits_variables_standard, indicating_mask_variable_standard_norm, 6, i, 9000))\n",
    "\n"
   ]
  },
  {
   "cell_type": "markdown",
   "metadata": {},
   "source": [
    "#### Calculating the mean and standard deviation of the bootstrap distribution"
   ]
  },
  {
   "cell_type": "code",
   "execution_count": 146,
   "metadata": {},
   "outputs": [
    {
     "name": "stdout",
     "output_type": "stream",
     "text": [
      "[np.float64(0.5242391082650917), np.float64(1.3415657504066385), np.float64(0.9641261893849576), np.float64(0.22523224662477), np.float64(0.7214285617066842), np.float64(0.45725893867605666)]\n",
      "[np.float64(0.179049986745374), np.float64(0.3732886535480633), np.float64(0.26648121535108293), np.float64(0.03475251277970779), np.float64(0.15381048461581723), np.float64(0.04360406748169409)]\n"
     ]
    }
   ],
   "source": [
    "means_bootstraps_brits_ICUType_1_subgroup, standards_deviations_brits_ICUType_1_subgroup = toolkits.calc_mean_and_standard_deviation(results_bootstrap_brits_ICUType_1_subgroup)\n",
    "\n",
    "print(means_bootstraps_brits_ICUType_1_subgroup)\n",
    "print(standards_deviations_brits_ICUType_1_subgroup)\n"
   ]
  },
  {
   "cell_type": "markdown",
   "metadata": {},
   "source": [
    "#### Calculating lower bound and upper bound"
   ]
  },
  {
   "cell_type": "code",
   "execution_count": 147,
   "metadata": {},
   "outputs": [
    {
     "name": "stdout",
     "output_type": "stream",
     "text": [
      "[np.float64(0.1733075828117846), np.float64(0.6099334336149846), np.float64(0.4418326047403729), np.float64(0.15711857320427478), np.float64(0.4199655514150304), np.float64(0.3717965368324821)]\n",
      "[np.float64(0.8751706337183988), np.float64(2.0731980671982924), np.float64(1.4864197740295424), np.float64(0.2933459200452653), np.float64(1.022891571998338), np.float64(0.5427213405196312)]\n"
     ]
    }
   ],
   "source": [
    "lower_bounds_brits_ICUType_1_subgroup, upper_bounds_brits_ICUType_1_subgroup = toolkits.calc_lower_and_upper_bound(results_bootstrap_brits_ICUType_1_subgroup, means_bootstraps_brits_ICUType_1_subgroup, standards_deviations_brits_ICUType_1_subgroup)\n",
    "\n",
    "print(lower_bounds_brits_ICUType_1_subgroup)\n",
    "print(upper_bounds_brits_ICUType_1_subgroup)"
   ]
  },
  {
   "cell_type": "code",
   "execution_count": 148,
   "metadata": {},
   "outputs": [
    {
     "name": "stdout",
     "output_type": "stream",
     "text": [
      "[np.float64(0.2818701088590386), np.float64(0.6832919189918449), np.float64(0.5044988888435504), np.float64(0.15881062421212594), np.float64(0.4440415795895485), np.float64(0.375999018085907)]\n",
      "[np.float64(0.9347071562797221), np.float64(2.1424587501889225), np.float64(1.545974285796128), np.float64(0.29692894998043906), np.float64(1.0435013017386077), np.float64(0.5459618084824918)]\n"
     ]
    }
   ],
   "source": [
    "lower_bounds_brits_ICUType_1_subgroup, upper_bounds_brits_ICUType_1_subgroup = toolkits.calc_lower_and_upper_bound_percentile(results_bootstrap_brits_ICUType_1_subgroup)\n",
    "\n",
    "print(lower_bounds_brits_ICUType_1_subgroup)\n",
    "print(upper_bounds_brits_ICUType_1_subgroup)"
   ]
  },
  {
   "cell_type": "markdown",
   "metadata": {},
   "source": [
    "#### Mean values of lower bound and upper bound"
   ]
  },
  {
   "cell_type": "code",
   "execution_count": 149,
   "metadata": {},
   "outputs": [
    {
     "name": "stdout",
     "output_type": "stream",
     "text": [
      "[np.float64(0.6082886325693804), np.float64(1.4128753345903837), np.float64(1.0252365873198392), np.float64(0.2278697870962825), np.float64(0.7437714406640781), np.float64(0.46098041328419936)]\n"
     ]
    }
   ],
   "source": [
    "mean_values_ci_brits_ICUType_1_subgroup  = toolkits.calc_mean_values_ci(lower_bounds_brits_ICUType_1_subgroup, upper_bounds_brits_ICUType_1_subgroup)\n",
    "\n",
    "print(mean_values_ci_brits_ICUType_1_subgroup)"
   ]
  },
  {
   "cell_type": "markdown",
   "metadata": {},
   "source": [
    "### Confidence Interval (ICUType 2 subgroup)"
   ]
  },
  {
   "cell_type": "markdown",
   "metadata": {},
   "source": [
    "#### Distribution Bootstrap for the Top 5 variables with Largest Differences in MAE (Mean Absolute Error) "
   ]
  },
  {
   "cell_type": "code",
   "execution_count": 150,
   "metadata": {},
   "outputs": [],
   "source": [
    "indices = [28, 31, 6, 0, 32, 24]\n",
    "\n",
    "results_bootstrap_brits_ICUType_2_subgroup = []\n",
    "\n",
    "for i in indices:\n",
    "       results_bootstrap_brits_ICUType_2_subgroup.append(toolkits.bootstrap_v2(testing_ae_brits_variables_standard, indicating_mask_variable_standard_norm, 7, i, 9000))\n",
    "\n"
   ]
  },
  {
   "cell_type": "markdown",
   "metadata": {},
   "source": [
    "#### Calculating the mean and standard deviation of the bootstrap distribution"
   ]
  },
  {
   "cell_type": "code",
   "execution_count": 151,
   "metadata": {},
   "outputs": [
    {
     "name": "stdout",
     "output_type": "stream",
     "text": [
      "[np.float64(0.5643987854289358), np.float64(0.3761977952224234), np.float64(0.0), np.float64(0.25400638345407145), np.float64(0.17284536767304798), np.float64(0.4397593172483772)]\n",
      "[np.float64(0.2482394473633664), np.float64(0.12121432695131164), np.float64(0.0), np.float64(0.028671914446172952), np.float64(0.04785406762147616), np.float64(0.018046088644045204)]\n"
     ]
    }
   ],
   "source": [
    "means_bootstraps_brits_ICUType_2_subgroup, standards_deviations_brits_ICUType_2_subgroup = toolkits.calc_mean_and_standard_deviation(results_bootstrap_brits_ICUType_2_subgroup)\n",
    "\n",
    "print(means_bootstraps_brits_ICUType_2_subgroup)\n",
    "print(standards_deviations_brits_ICUType_2_subgroup)\n"
   ]
  },
  {
   "cell_type": "markdown",
   "metadata": {},
   "source": [
    "#### Calculating lower bound and upper bound"
   ]
  },
  {
   "cell_type": "code",
   "execution_count": 152,
   "metadata": {},
   "outputs": [
    {
     "name": "stdout",
     "output_type": "stream",
     "text": [
      "[np.float64(0.07785840905461122), np.float64(0.1386220799875898), np.float64(0.0), np.float64(0.19781046377175876), np.float64(0.07905311862121037), np.float64(0.40438963344423134)]\n",
      "[np.float64(1.0509391618032604), np.float64(0.613773510457257), np.float64(0.0), np.float64(0.31020230313638414), np.float64(0.2666376167248856), np.float64(0.47512900105252304)]\n"
     ]
    }
   ],
   "source": [
    "lower_bounds_brits_ICUType_2_subgroup, upper_bounds_brits_ICUType_2_subgroup = toolkits.calc_lower_and_upper_bound(results_bootstrap_brits_ICUType_2_subgroup, means_bootstraps_brits_ICUType_2_subgroup, standards_deviations_brits_ICUType_2_subgroup)\n",
    "\n",
    "print(lower_bounds_brits_ICUType_2_subgroup)\n",
    "print(upper_bounds_brits_ICUType_2_subgroup)"
   ]
  },
  {
   "cell_type": "code",
   "execution_count": 153,
   "metadata": {},
   "outputs": [],
   "source": [
    "lower_bounds_brits_ICUType_2_subgroup, upper_bounds_brits_ICUType_2_subgroup = toolkits.calc_lower_and_upper_bound_percentile(results_bootstrap_brits_ICUType_2_subgroup)"
   ]
  },
  {
   "cell_type": "markdown",
   "metadata": {},
   "source": [
    "#### Mean values of lower bound and upper bound"
   ]
  },
  {
   "cell_type": "code",
   "execution_count": 154,
   "metadata": {},
   "outputs": [
    {
     "name": "stdout",
     "output_type": "stream",
     "text": [
      "[np.float64(0.7052698708754179), np.float64(0.3726295196823583), np.float64(0.0), np.float64(0.2556780334695357), np.float64(0.18326612954356436), np.float64(0.4404242902855008)]\n"
     ]
    }
   ],
   "source": [
    "mean_values_ci_brits_ICUType_2_subgroup  = toolkits.calc_mean_values_ci(lower_bounds_brits_ICUType_2_subgroup, upper_bounds_brits_ICUType_2_subgroup)\n",
    "\n",
    "print(mean_values_ci_brits_ICUType_2_subgroup)"
   ]
  },
  {
   "cell_type": "markdown",
   "metadata": {},
   "source": [
    "### Confidence Interval (ICUType 3 subgroup)"
   ]
  },
  {
   "cell_type": "markdown",
   "metadata": {},
   "source": [
    "#### Distribution Bootstrap for the Top 5 variables with Largest Differences in MAE (Mean Absolute Error) "
   ]
  },
  {
   "cell_type": "code",
   "execution_count": null,
   "metadata": {},
   "outputs": [],
   "source": [
    "indices = [28, 31, 6, 0, 32, 24]\n",
    "\n",
    "results_bootstrap_brits_ICUType_3_subgroup = []\n",
    "\n",
    "for i in indices:\n",
    "       results_bootstrap_brits_ICUType_3_subgroup.append(toolkits.bootstrap_v2(testing_ae_brits_variables_standard, indicating_mask_variable_standard_norm, 8, i, 9000))\n",
    "\n"
   ]
  },
  {
   "cell_type": "markdown",
   "metadata": {},
   "source": [
    "#### Calculating the mean and standard deviation of the bootstrap distribution"
   ]
  },
  {
   "cell_type": "code",
   "execution_count": null,
   "metadata": {},
   "outputs": [
    {
     "name": "stdout",
     "output_type": "stream",
     "text": [
      "[np.float64(1.593236497237565), np.float64(1.1365310737170016), np.float64(0.6958192633459015), np.float64(0.5411579272281444), np.float64(0.23745879820743904)]\n",
      "[np.float64(0.4559261164801034), np.float64(0.45097433675337983), np.float64(0.1878586172758027), np.float64(0.06133680568713781), np.float64(0.03548543506753726)]\n"
     ]
    }
   ],
   "source": [
    "means_bootstraps_brits_ICUType_3_subgroup, standards_deviations_brits_ICUType_3_subgroup = toolkits.calc_mean_and_standard_deviation(results_bootstrap_brits_ICUType_3_subgroup)\n",
    "\n",
    "print(means_bootstraps_brits_ICUType_3_subgroup)\n",
    "print(standards_deviations_brits_ICUType_3_subgroup)\n"
   ]
  },
  {
   "cell_type": "markdown",
   "metadata": {},
   "source": [
    "#### Calculating lower bound and upper bound"
   ]
  },
  {
   "cell_type": "code",
   "execution_count": null,
   "metadata": {},
   "outputs": [
    {
     "name": "stdout",
     "output_type": "stream",
     "text": [
      "[np.float64(0.6996377293253487), np.float64(0.25263761572853904), np.float64(0.3276231392998342), np.float64(0.4209399971546227), np.float64(0.16790862349933133)]\n",
      "[np.float64(2.4868352651497814), np.float64(2.020424531705464), np.float64(1.0640153873919687), np.float64(0.661375857301666), np.float64(0.30700897291554674)]\n"
     ]
    }
   ],
   "source": [
    "lower_bounds_brits_ICUType_3_subgroup, upper_bounds_brits_ICUType_3_subgroup = toolkits.calc_lower_and_upper_bound(results_bootstrap_brits_ICUType_3_subgroup, means_bootstraps_brits_ICUType_3_subgroup, standards_deviations_brits_ICUType_3_subgroup)\n",
    "\n",
    "print(lower_bounds_brits_ICUType_3_subgroup)\n",
    "print(upper_bounds_brits_ICUType_3_subgroup)"
   ]
  },
  {
   "cell_type": "code",
   "execution_count": null,
   "metadata": {},
   "outputs": [
    {
     "name": "stdout",
     "output_type": "stream",
     "text": [
      "[np.float64(0.7811074732923107), np.float64(0.42602553654535447), np.float64(0.3370785960436855), np.float64(0.4225742806604089), np.float64(0.17750753035417519)]\n",
      "[np.float64(2.5559583373020067), np.float64(2.1449893682804095), np.float64(1.1317699079657495), np.float64(0.664792763097355), np.float64(0.31561312193846874)]\n"
     ]
    }
   ],
   "source": [
    "lower_bounds_brits_ICUType_3_subgroup, upper_bounds_brits_ICUType_3_subgroup = toolkits.calc_lower_and_upper_bound_percentile(results_bootstrap_brits_ICUType_3_subgroup)\n",
    "\n",
    "print(lower_bounds_brits_ICUType_3_subgroup)\n",
    "print(upper_bounds_brits_ICUType_3_subgroup)"
   ]
  },
  {
   "cell_type": "markdown",
   "metadata": {},
   "source": [
    "#### Mean values of lower bound and upper bound"
   ]
  },
  {
   "cell_type": "code",
   "execution_count": null,
   "metadata": {},
   "outputs": [
    {
     "name": "stdout",
     "output_type": "stream",
     "text": [
      "[np.float64(1.6685329052971587), np.float64(1.285507452412882), np.float64(0.7344242520047175), np.float64(0.543683521878882), np.float64(0.24656032614632195)]\n"
     ]
    }
   ],
   "source": [
    "mean_values_ci_brits_ICUType_3_subgroup  = toolkits.calc_mean_values_ci(lower_bounds_brits_ICUType_3_subgroup, upper_bounds_brits_ICUType_3_subgroup)\n",
    "\n",
    "print(mean_values_ci_brits_ICUType_3_subgroup)"
   ]
  },
  {
   "cell_type": "markdown",
   "metadata": {},
   "source": [
    "### Confidence Interval (ICUType 4 subgroup)"
   ]
  },
  {
   "cell_type": "markdown",
   "metadata": {},
   "source": [
    "#### Distribution Bootstrap for the Top 5 variables with Largest Differences in MAE (Mean Absolute Error) "
   ]
  },
  {
   "cell_type": "code",
   "execution_count": null,
   "metadata": {},
   "outputs": [],
   "source": [
    "indices = [28, 31, 6, 0, 32, 24]\n",
    "\n",
    "results_bootstrap_brits_ICUType_4_subgroup = []\n",
    "\n",
    "for i in indices:\n",
    "       results_bootstrap_brits_ICUType_4_subgroup.append(toolkits.bootstrap_v2(testing_ae_brits_variables_standard, indicating_mask_variable_standard_norm, 9, i, 9000))\n",
    "\n"
   ]
  },
  {
   "cell_type": "markdown",
   "metadata": {},
   "source": [
    "#### Calculating the mean and standard deviation of the bootstrap distribution"
   ]
  },
  {
   "cell_type": "code",
   "execution_count": null,
   "metadata": {},
   "outputs": [
    {
     "name": "stdout",
     "output_type": "stream",
     "text": [
      "[np.float64(0.44306473111336137), np.float64(0.4912011878544669), np.float64(0.7287297527366805), np.float64(0.692426181621937), np.float64(0.18026286324155796)]\n",
      "[np.float64(0.0935566892280583), np.float64(0.08074364451634707), np.float64(0.2681495472441715), np.float64(0.2724504216824265), np.float64(0.022189091660584512)]\n"
     ]
    }
   ],
   "source": [
    "means_bootstraps_brits_ICUType_4_subgroup, standards_deviations_brits_ICUType_4_subgroup = toolkits.calc_mean_and_standard_deviation(results_bootstrap_brits_ICUType_4_subgroup)\n",
    "\n",
    "print(means_bootstraps_brits_ICUType_4_subgroup)\n",
    "print(standards_deviations_brits_ICUType_4_subgroup)\n"
   ]
  },
  {
   "cell_type": "markdown",
   "metadata": {},
   "source": [
    "#### Calculating lower bound and upper bound"
   ]
  },
  {
   "cell_type": "code",
   "execution_count": null,
   "metadata": {},
   "outputs": [
    {
     "name": "stdout",
     "output_type": "stream",
     "text": [
      "[np.float64(0.25969698971356064), np.float64(0.33294655262192163), np.float64(0.2031662976673827), np.float64(0.1584331675516304), np.float64(0.13677304273715427)]\n",
      "[np.float64(0.626432472513162), np.float64(0.6494558230870122), np.float64(1.2542932078059783), np.float64(1.2264191956922437), np.float64(0.22375268374596166)]\n"
     ]
    }
   ],
   "source": [
    "lower_bounds_brits_ICUType_4_subgroup, upper_bounds_brits_ICUType_4_subgroup = toolkits.calc_lower_and_upper_bound(results_bootstrap_brits_ICUType_4_subgroup, means_bootstraps_brits_ICUType_4_subgroup, standards_deviations_brits_ICUType_4_subgroup)\n",
    "\n",
    "print(lower_bounds_brits_ICUType_4_subgroup)\n",
    "print(upper_bounds_brits_ICUType_4_subgroup)"
   ]
  },
  {
   "cell_type": "code",
   "execution_count": null,
   "metadata": {},
   "outputs": [
    {
     "name": "stdout",
     "output_type": "stream",
     "text": [
      "[np.float64(0.2865496885836767), np.float64(0.34462669540294605), np.float64(0.22052486820293912), np.float64(0.031016071654553733), np.float64(0.13675082536379823)]\n",
      "[np.float64(0.6531075788873016), np.float64(0.6642258024673423), np.float64(1.2816077240763408), np.float64(1.1697815665096722), np.float64(0.22392540460300034)]\n"
     ]
    }
   ],
   "source": [
    "lower_bounds_brits_ICUType_4_subgroup, upper_bounds_brits_ICUType_4_subgroup = toolkits.calc_lower_and_upper_bound_percentile(results_bootstrap_brits_ICUType_4_subgroup)\n",
    "\n",
    "print(lower_bounds_brits_ICUType_4_subgroup)\n",
    "print(upper_bounds_brits_ICUType_4_subgroup)"
   ]
  },
  {
   "cell_type": "markdown",
   "metadata": {},
   "source": [
    "#### Mean values of lower bound and upper bound"
   ]
  },
  {
   "cell_type": "code",
   "execution_count": null,
   "metadata": {},
   "outputs": [
    {
     "name": "stdout",
     "output_type": "stream",
     "text": [
      "[np.float64(0.46982863373548917), np.float64(0.5044262489351442), np.float64(0.7510662961396399), np.float64(0.600398819082113), np.float64(0.1803381149833993)]\n"
     ]
    }
   ],
   "source": [
    "mean_values_ci_brits_ICUType_4_subgroup  = toolkits.calc_mean_values_ci(lower_bounds_brits_ICUType_4_subgroup, upper_bounds_brits_ICUType_4_subgroup)\n",
    "\n",
    "print(mean_values_ci_brits_ICUType_4_subgroup)"
   ]
  },
  {
   "cell_type": "markdown",
   "metadata": {},
   "source": [
    "### Confidence Interval (Undefined classification subgroup)"
   ]
  },
  {
   "cell_type": "markdown",
   "metadata": {},
   "source": [
    "#### Distribution Bootstrap for the Top 5 variables with Largest Differences in MAE (Mean Absolute Error) "
   ]
  },
  {
   "cell_type": "code",
   "execution_count": null,
   "metadata": {},
   "outputs": [],
   "source": [
    "indices = [32, 0, 6, 31, 5, 1, 35]\n",
    "\n",
    "results_bootstrap_brits_undefined_classification_subgroup = []\n",
    "\n",
    "for i in indices:\n",
    "       results_bootstrap_brits_undefined_classification_subgroup.append(toolkits.bootstrap_v2(testing_ae_brits_variables_standard, indicating_mask_variable_standard_norm, 10, i, 9000))\n",
    "\n"
   ]
  },
  {
   "cell_type": "markdown",
   "metadata": {},
   "source": [
    "#### Calculating the mean and standard deviation of the bootstrap distribution"
   ]
  },
  {
   "cell_type": "code",
   "execution_count": null,
   "metadata": {},
   "outputs": [
    {
     "name": "stdout",
     "output_type": "stream",
     "text": [
      "[np.float64(0.4068612373822693), np.float64(0.5736205115093942), np.float64(0.275919003680376), np.float64(0.8430104136478819), np.float64(0.4131966854604587)]\n",
      "[np.float64(0.05986934359644469), np.float64(0.17840974136243826), np.float64(0.044640773548291844), np.float64(0.2853216956527157), np.float64(0.12549413739177268)]\n"
     ]
    }
   ],
   "source": [
    "means_bootstraps_brits_undefined_classification_subgroup, standards_deviations_brits_undefined_classification_subgroup = toolkits.calc_mean_and_standard_deviation(results_bootstrap_brits_undefined_classification_subgroup)\n",
    "\n",
    "print(means_bootstraps_brits_undefined_classification_subgroup)\n",
    "print(standards_deviations_brits_undefined_classification_subgroup)\n"
   ]
  },
  {
   "cell_type": "markdown",
   "metadata": {},
   "source": [
    "#### Calculating lower bound and upper bound"
   ]
  },
  {
   "cell_type": "code",
   "execution_count": null,
   "metadata": {},
   "outputs": [
    {
     "name": "stdout",
     "output_type": "stream",
     "text": [
      "[np.float64(0.28951948015518403), np.float64(0.22394384394790923), np.float64(0.18842469528371564), np.float64(0.28379016616066055), np.float64(0.16723269590166293)]\n",
      "[np.float64(0.5242029946093546), np.float64(0.9232971790708792), np.float64(0.3634133120770363), np.float64(1.4022306611351032), np.float64(0.6591606750192545)]\n"
     ]
    }
   ],
   "source": [
    "lower_bounds_brits_undefined_classification_subgroup, upper_bounds_brits_undefined_classification_subgroup = toolkits.calc_lower_and_upper_bound(results_bootstrap_brits_undefined_classification_subgroup, means_bootstraps_brits_undefined_classification_subgroup, standards_deviations_brits_undefined_classification_subgroup)\n",
    "\n",
    "print(lower_bounds_brits_undefined_classification_subgroup)\n",
    "print(upper_bounds_brits_undefined_classification_subgroup)"
   ]
  },
  {
   "cell_type": "code",
   "execution_count": null,
   "metadata": {},
   "outputs": [
    {
     "name": "stdout",
     "output_type": "stream",
     "text": [
      "[np.float64(0.2979609801580593), np.float64(0.24726862471409536), np.float64(0.2040999395523388), np.float64(0.40619839098934485), np.float64(0.2171298071300369)]\n",
      "[np.float64(0.5319916259081999), np.float64(0.9465467461362519), np.float64(0.3763968339372512), np.float64(1.4766778181071094), np.float64(0.6956717509434502)]\n"
     ]
    }
   ],
   "source": [
    "lower_bounds_brits_undefined_classification_subgroup, upper_bounds_brits_undefined_classification_subgroup = toolkits.calc_lower_and_upper_bound_percentile(results_bootstrap_brits_undefined_classification_subgroup)\n",
    "\n",
    "print(lower_bounds_brits_undefined_classification_subgroup)\n",
    "print(upper_bounds_brits_undefined_classification_subgroup)"
   ]
  },
  {
   "cell_type": "markdown",
   "metadata": {},
   "source": [
    "#### Mean values of lower bound and upper bound"
   ]
  },
  {
   "cell_type": "code",
   "execution_count": null,
   "metadata": {},
   "outputs": [
    {
     "name": "stdout",
     "output_type": "stream",
     "text": [
      "[np.float64(0.4149763030331296), np.float64(0.5969076854251736), np.float64(0.29024838674479503), np.float64(0.9414381045482272), np.float64(0.4564007790367436)]\n"
     ]
    }
   ],
   "source": [
    "mean_values_ci_brits_undefined_classification_subgroup  = toolkits.calc_mean_values_ci(lower_bounds_brits_undefined_classification_subgroup, upper_bounds_brits_undefined_classification_subgroup)\n",
    "\n",
    "print(mean_values_ci_brits_undefined_classification_subgroup)"
   ]
  },
  {
   "cell_type": "markdown",
   "metadata": {},
   "source": [
    "### Confidence Interval (Low weight classification subgroup)"
   ]
  },
  {
   "cell_type": "markdown",
   "metadata": {},
   "source": [
    "#### Distribution Bootstrap for the Top 5 variables with Largest Differences in MAE (Mean Absolute Error) "
   ]
  },
  {
   "cell_type": "code",
   "execution_count": null,
   "metadata": {},
   "outputs": [],
   "source": [
    "indices = [32, 0, 6, 31, 5, 1, 35]\n",
    "\n",
    "results_bootstrap_brits_low_weight_classification_subgroup = []\n",
    "\n",
    "for i in indices:\n",
    "       results_bootstrap_brits_low_weight_classification_subgroup.append(toolkits.bootstrap_v2(testing_ae_brits_variables_standard, indicating_mask_variable_standard_norm, 11, i, 9000))\n",
    "\n"
   ]
  },
  {
   "cell_type": "markdown",
   "metadata": {},
   "source": [
    "#### Calculating the mean and standard deviation of the bootstrap distribution"
   ]
  },
  {
   "cell_type": "code",
   "execution_count": null,
   "metadata": {},
   "outputs": [
    {
     "name": "stdout",
     "output_type": "stream",
     "text": [
      "[np.float64(2.0122806935650077), np.float64(0.06933332178741825), np.float64(0.4104061358032636), np.float64(0.0), np.float64(1.4606367473586466)]\n",
      "[np.float64(1.666676645356208), np.float64(0.05309602591127397), np.float64(0.3139178166078663), np.float64(0.0), np.float64(1.2916342659860158)]\n"
     ]
    }
   ],
   "source": [
    "means_bootstraps_brits_low_weight_classification_subgroup, standards_deviations_brits_low_weight_classification_subgroup = toolkits.calc_mean_and_standard_deviation(results_bootstrap_brits_low_weight_classification_subgroup)\n",
    "\n",
    "print(means_bootstraps_brits_low_weight_classification_subgroup)\n",
    "print(standards_deviations_brits_low_weight_classification_subgroup)\n"
   ]
  },
  {
   "cell_type": "markdown",
   "metadata": {},
   "source": [
    "#### Calculating lower bound and upper bound"
   ]
  },
  {
   "cell_type": "code",
   "execution_count": null,
   "metadata": {},
   "outputs": [
    {
     "name": "stdout",
     "output_type": "stream",
     "text": [
      "[np.float64(-1.2543455052071963), np.float64(-0.03473297672088424), np.float64(-0.2048614788536039), np.float64(0.0), np.float64(-1.070919895171773)]\n",
      "[np.float64(5.278906892337211), np.float64(0.17339962029572073), np.float64(1.0256737504601312), np.float64(0.0), np.float64(3.9921933898890662)]\n"
     ]
    }
   ],
   "source": [
    "lower_bounds_brits_low_weight_classification_subgroup, upper_bounds_brits_low_weight_classification_subgroup = toolkits.calc_lower_and_upper_bound(results_bootstrap_brits_low_weight_classification_subgroup, means_bootstraps_brits_low_weight_classification_subgroup, standards_deviations_brits_low_weight_classification_subgroup)\n",
    "\n",
    "print(lower_bounds_brits_low_weight_classification_subgroup)\n",
    "print(upper_bounds_brits_low_weight_classification_subgroup)"
   ]
  },
  {
   "cell_type": "code",
   "execution_count": null,
   "metadata": {},
   "outputs": [
    {
     "name": "stdout",
     "output_type": "stream",
     "text": [
      "[np.float64(0.0), np.float64(0.0), np.float64(0.0), np.float64(0.0), np.float64(0.020133205116918334)]\n",
      "[np.float64(4.413896351691468), np.float64(0.10999469347559115), np.float64(0.6505204688677284), np.float64(0.0), np.float64(4.452386787366754)]\n"
     ]
    }
   ],
   "source": [
    "lower_bounds_brits_low_weight_classification_subgroup, upper_bounds_brits_low_weight_classification_subgroup = toolkits.calc_lower_and_upper_bound_percentile(results_bootstrap_brits_low_weight_classification_subgroup)\n",
    "\n",
    "print(lower_bounds_brits_low_weight_classification_subgroup)\n",
    "print(upper_bounds_brits_low_weight_classification_subgroup)"
   ]
  },
  {
   "cell_type": "markdown",
   "metadata": {},
   "source": [
    "#### Mean values of lower bound and upper bound"
   ]
  },
  {
   "cell_type": "code",
   "execution_count": null,
   "metadata": {},
   "outputs": [
    {
     "name": "stdout",
     "output_type": "stream",
     "text": [
      "[np.float64(2.206948175845734), np.float64(0.05499734673779558), np.float64(0.3252602344338642), np.float64(0.0), np.float64(2.236259996241836)]\n"
     ]
    }
   ],
   "source": [
    "mean_values_ci_brits_low_weight_classification_subgroup  = toolkits.calc_mean_values_ci(lower_bounds_brits_low_weight_classification_subgroup, upper_bounds_brits_low_weight_classification_subgroup)\n",
    "\n",
    "print(mean_values_ci_brits_low_weight_classification_subgroup)"
   ]
  },
  {
   "cell_type": "markdown",
   "metadata": {},
   "source": [
    "### Confidence Interval (Normal weight classification subgroup)"
   ]
  },
  {
   "cell_type": "markdown",
   "metadata": {},
   "source": [
    "#### Distribution Bootstrap for the Top 5 variables with Largest Differences in MAE (Mean Absolute Error) "
   ]
  },
  {
   "cell_type": "code",
   "execution_count": null,
   "metadata": {},
   "outputs": [],
   "source": [
    "indices = [32, 0, 6, 31, 5, 1, 35]\n",
    "\n",
    "results_bootstrap_brits_normal_weight_classification_subgroup = []\n",
    "\n",
    "for i in indices:\n",
    "       results_bootstrap_brits_normal_weight_classification_subgroup.append(toolkits.bootstrap_v2(testing_ae_brits_variables_standard, indicating_mask_variable_standard_norm, 12, i, 9000))\n",
    "\n"
   ]
  },
  {
   "cell_type": "markdown",
   "metadata": {},
   "source": [
    "#### Calculating the mean and standard deviation of the bootstrap distribution"
   ]
  },
  {
   "cell_type": "code",
   "execution_count": null,
   "metadata": {},
   "outputs": [
    {
     "name": "stdout",
     "output_type": "stream",
     "text": [
      "[np.float64(0.548686639105505), np.float64(0.7625897872503594), np.float64(0.24931976137388573), np.float64(0.5648888072341054), np.float64(0.5232857652420211)]\n",
      "[np.float64(0.12623025707018218), np.float64(0.3731308327837512), np.float64(0.07341434562099826), np.float64(0.089947135630567), np.float64(0.2013724566774524)]\n"
     ]
    }
   ],
   "source": [
    "means_bootstraps_brits_normal_weight_classification_subgroup, standards_deviations_brits_normal_weight_classification_subgroup = toolkits.calc_mean_and_standard_deviation(results_bootstrap_brits_normal_weight_classification_subgroup)\n",
    "\n",
    "print(means_bootstraps_brits_normal_weight_classification_subgroup)\n",
    "print(standards_deviations_brits_normal_weight_classification_subgroup)\n"
   ]
  },
  {
   "cell_type": "markdown",
   "metadata": {},
   "source": [
    "#### Calculating lower bound and upper bound"
   ]
  },
  {
   "cell_type": "code",
   "execution_count": null,
   "metadata": {},
   "outputs": [
    {
     "name": "stdout",
     "output_type": "stream",
     "text": [
      "[np.float64(0.3012798814887154), np.float64(0.03126679347276984), np.float64(0.10543028800815332), np.float64(0.38859566088565467), np.float64(0.12860300267586205)]\n",
      "[np.float64(0.7960933967222945), np.float64(1.4939127810279489), np.float64(0.3932092347396181), np.float64(0.7411819535825561), np.float64(0.9179685278081802)]\n"
     ]
    }
   ],
   "source": [
    "lower_bounds_brits_normal_weight_classification_subgroup, upper_bounds_brits_normal_weight_classification_subgroup = toolkits.calc_lower_and_upper_bound(results_bootstrap_brits_normal_weight_classification_subgroup, means_bootstraps_brits_normal_weight_classification_subgroup, standards_deviations_brits_normal_weight_classification_subgroup)\n",
    "\n",
    "print(lower_bounds_brits_normal_weight_classification_subgroup)\n",
    "print(upper_bounds_brits_normal_weight_classification_subgroup)"
   ]
  },
  {
   "cell_type": "code",
   "execution_count": null,
   "metadata": {},
   "outputs": [
    {
     "name": "stdout",
     "output_type": "stream",
     "text": [
      "[np.float64(0.34098181461031984), np.float64(0.0), np.float64(0.13019003204955729), np.float64(0.3943044247772959), np.float64(0.20193025625589317)]\n",
      "[np.float64(0.822822162147693), np.float64(1.1889972866535945), np.float64(0.41316823841970496), np.float64(0.7470447554607124), np.float64(0.9848085395794249)]\n"
     ]
    }
   ],
   "source": [
    "lower_bounds_brits_normal_weight_classification_subgroup, upper_bounds_brits_normal_weight_classification_subgroup = toolkits.calc_lower_and_upper_bound_percentile(results_bootstrap_brits_normal_weight_classification_subgroup)\n",
    "\n",
    "print(lower_bounds_brits_normal_weight_classification_subgroup)\n",
    "print(upper_bounds_brits_normal_weight_classification_subgroup)"
   ]
  },
  {
   "cell_type": "markdown",
   "metadata": {},
   "source": [
    "#### Mean values of lower bound and upper bound"
   ]
  },
  {
   "cell_type": "code",
   "execution_count": null,
   "metadata": {},
   "outputs": [
    {
     "name": "stdout",
     "output_type": "stream",
     "text": [
      "[np.float64(0.5819019883790064), np.float64(0.5944986433267972), np.float64(0.2716791352346311), np.float64(0.5706745901190041), np.float64(0.5933693979176591)]\n"
     ]
    }
   ],
   "source": [
    "mean_values_ci_brits_normal_weight_classification_subgroup  = toolkits.calc_mean_values_ci(lower_bounds_brits_normal_weight_classification_subgroup, upper_bounds_brits_normal_weight_classification_subgroup)\n",
    "\n",
    "print(mean_values_ci_brits_normal_weight_classification_subgroup)"
   ]
  },
  {
   "cell_type": "markdown",
   "metadata": {},
   "source": [
    "### Confidence Interval (Overweight classification subgroup)"
   ]
  },
  {
   "cell_type": "markdown",
   "metadata": {},
   "source": [
    "#### Distribution Bootstrap for the Top 5 variables with Largest Differences in MAE (Mean Absolute Error) "
   ]
  },
  {
   "cell_type": "code",
   "execution_count": null,
   "metadata": {},
   "outputs": [],
   "source": [
    "indices = [32, 0, 6, 31, 5, 1, 35]\n",
    "\n",
    "results_bootstrap_brits_overweight_classification_subgroup = []\n",
    "\n",
    "for i in indices:\n",
    "       results_bootstrap_brits_overweight_classification_subgroup.append(toolkits.bootstrap_v2(testing_ae_brits_variables_standard, indicating_mask_variable_standard_norm, 13, i, 9000))\n",
    "\n"
   ]
  },
  {
   "cell_type": "markdown",
   "metadata": {},
   "source": [
    "#### Calculating the mean and standard deviation of the bootstrap distribution"
   ]
  },
  {
   "cell_type": "code",
   "execution_count": null,
   "metadata": {},
   "outputs": [
    {
     "name": "stdout",
     "output_type": "stream",
     "text": [
      "[np.float64(0.2797503039647862), np.float64(1.4869184261643544), np.float64(0.44444907661681887), np.float64(1.0414359325082165), np.float64(0.1969866594273391)]\n",
      "[np.float64(0.05690905629749502), np.float64(0.2748051570149171), np.float64(0.190452089816047), np.float64(0.5659200713279424), np.float64(0.06465085722820384)]\n"
     ]
    }
   ],
   "source": [
    "means_bootstraps_brits_overweight_classification_subgroup, standards_deviations_brits_overweight_classification_subgroup = toolkits.calc_mean_and_standard_deviation(results_bootstrap_brits_overweight_classification_subgroup)\n",
    "\n",
    "print(means_bootstraps_brits_overweight_classification_subgroup)\n",
    "print(standards_deviations_brits_overweight_classification_subgroup)\n"
   ]
  },
  {
   "cell_type": "markdown",
   "metadata": {},
   "source": [
    "#### Calculating lower bound and upper bound"
   ]
  },
  {
   "cell_type": "code",
   "execution_count": null,
   "metadata": {},
   "outputs": [
    {
     "name": "stdout",
     "output_type": "stream",
     "text": [
      "[np.float64(0.16821060322753356), np.float64(0.9483102156492423), np.float64(0.07116983979697916), np.float64(-0.06774702542288913), np.float64(0.07027330769041853)]\n",
      "[np.float64(0.3912900047020388), np.float64(2.0255266366794666), np.float64(0.8177283134366586), np.float64(2.150618890439322), np.float64(0.3237000111642596)]\n"
     ]
    }
   ],
   "source": [
    "lower_bounds_brits_overweight_classification_subgroup, upper_bounds_brits_overweight_classification_subgroup = toolkits.calc_lower_and_upper_bound(results_bootstrap_brits_overweight_classification_subgroup, means_bootstraps_brits_overweight_classification_subgroup, standards_deviations_brits_overweight_classification_subgroup)\n",
    "\n",
    "print(lower_bounds_brits_overweight_classification_subgroup)\n",
    "print(upper_bounds_brits_overweight_classification_subgroup)"
   ]
  },
  {
   "cell_type": "code",
   "execution_count": null,
   "metadata": {},
   "outputs": [
    {
     "name": "stdout",
     "output_type": "stream",
     "text": [
      "[np.float64(0.18291051175428089), np.float64(0.9097202836560881), np.float64(0.14614286145696292), np.float64(0.3791864463768746), np.float64(0.10540658498615474)]\n",
      "[np.float64(0.40407734173253634), np.float64(1.9873488893468048), np.float64(0.8647336127806425), np.float64(2.277614098374932), np.float64(0.3472386410647299)]\n"
     ]
    }
   ],
   "source": [
    "lower_bounds_brits_overweight_classification_subgroup, upper_bounds_brits_overweight_classification_subgroup = toolkits.calc_lower_and_upper_bound_percentile(results_bootstrap_brits_overweight_classification_subgroup)\n",
    "\n",
    "print(lower_bounds_brits_overweight_classification_subgroup)\n",
    "print(upper_bounds_brits_overweight_classification_subgroup)"
   ]
  },
  {
   "cell_type": "markdown",
   "metadata": {},
   "source": [
    "#### Mean values of lower bound and upper bound"
   ]
  },
  {
   "cell_type": "code",
   "execution_count": null,
   "metadata": {},
   "outputs": [
    {
     "name": "stdout",
     "output_type": "stream",
     "text": [
      "[np.float64(0.29349392674340863), np.float64(1.4485345865014465), np.float64(0.5054382371188028), np.float64(1.3284002723759034), np.float64(0.22632261302544232)]\n"
     ]
    }
   ],
   "source": [
    "mean_values_ci_brits_overweight_classification_subgroup  = toolkits.calc_mean_values_ci(lower_bounds_brits_overweight_classification_subgroup, upper_bounds_brits_overweight_classification_subgroup)\n",
    "\n",
    "print(mean_values_ci_brits_overweight_classification_subgroup)"
   ]
  },
  {
   "cell_type": "markdown",
   "metadata": {},
   "source": [
    "### Confidence Interval (Obesity 1 classification subgroup)"
   ]
  },
  {
   "cell_type": "markdown",
   "metadata": {},
   "source": [
    "#### Distribution Bootstrap for the Top 5 variables with Largest Differences in MAE (Mean Absolute Error) "
   ]
  },
  {
   "cell_type": "code",
   "execution_count": null,
   "metadata": {},
   "outputs": [],
   "source": [
    "indices = [32, 0, 6, 31, 5, 1, 35]\n",
    "\n",
    "results_bootstrap_brits_obs1_classification_subgroup = []\n",
    "\n",
    "for i in indices:\n",
    "       results_bootstrap_brits_obs1_classification_subgroup.append(toolkits.bootstrap_v2(testing_ae_brits_variables_standard, indicating_mask_variable_standard_norm, 14, i, 9000))\n",
    "\n"
   ]
  },
  {
   "cell_type": "markdown",
   "metadata": {},
   "source": [
    "#### Calculating the mean and standard deviation of the bootstrap distribution"
   ]
  },
  {
   "cell_type": "code",
   "execution_count": null,
   "metadata": {},
   "outputs": [
    {
     "name": "stdout",
     "output_type": "stream",
     "text": [
      "[np.float64(0.30729431457159123), np.float64(0.49879057873455573), np.float64(0.27486455646945995), np.float64(0.4929731039694339), np.float64(0.40518847013824805)]\n",
      "[np.float64(0.05798396274724235), np.float64(0.25089896187847854), np.float64(0.08655489332963262), np.float64(0.19483046174517651), np.float64(0.12094499608671105)]\n"
     ]
    }
   ],
   "source": [
    "means_bootstraps_brits_obs1_classification_subgroup, standards_deviations_brits_obs1_classification_subgroup = toolkits.calc_mean_and_standard_deviation(results_bootstrap_brits_obs1_classification_subgroup)\n",
    "\n",
    "print(means_bootstraps_brits_obs1_classification_subgroup)\n",
    "print(standards_deviations_brits_obs1_classification_subgroup)\n"
   ]
  },
  {
   "cell_type": "markdown",
   "metadata": {},
   "source": [
    "#### Calculating lower bound and upper bound"
   ]
  },
  {
   "cell_type": "code",
   "execution_count": null,
   "metadata": {},
   "outputs": [
    {
     "name": "stdout",
     "output_type": "stream",
     "text": [
      "[np.float64(0.19364783590608406), np.float64(0.0070376496942498035), np.float64(0.10522008285767387), np.float64(0.11111241585757914), np.float64(0.1681406336979566)]\n",
      "[np.float64(0.42094079323709843), np.float64(0.9905435077748617), np.float64(0.44450903008124604), np.float64(0.8748337920812886), np.float64(0.6422363065785395)]\n"
     ]
    }
   ],
   "source": [
    "lower_bounds_brits_obs1_classification_subgroup, upper_bounds_brits_obs1_classification_subgroup = toolkits.calc_lower_and_upper_bound(results_bootstrap_brits_obs1_classification_subgroup, means_bootstraps_brits_obs1_classification_subgroup, standards_deviations_brits_obs1_classification_subgroup)\n",
    "\n",
    "print(lower_bounds_brits_obs1_classification_subgroup)\n",
    "print(upper_bounds_brits_obs1_classification_subgroup)"
   ]
  },
  {
   "cell_type": "code",
   "execution_count": null,
   "metadata": {},
   "outputs": [
    {
     "name": "stdout",
     "output_type": "stream",
     "text": [
      "[np.float64(0.2017864229804127), np.float64(0.0), np.float64(0.12255724300388852), np.float64(0.0), np.float64(0.2152851960298434)]\n",
      "[np.float64(0.4295377781988619), np.float64(1.0159483303577879), np.float64(0.4588269895582404), np.float64(0.621003118217197), np.float64(0.6770095865971394)]\n"
     ]
    }
   ],
   "source": [
    "lower_bounds_brits_obs1_classification_subgroup, upper_bounds_brits_obs1_classification_subgroup = toolkits.calc_lower_and_upper_bound_percentile(results_bootstrap_brits_obs1_classification_subgroup)\n",
    "\n",
    "print(lower_bounds_brits_obs1_classification_subgroup)\n",
    "print(upper_bounds_brits_obs1_classification_subgroup)"
   ]
  },
  {
   "cell_type": "markdown",
   "metadata": {},
   "source": [
    "#### Mean values of lower bound and upper bound"
   ]
  },
  {
   "cell_type": "code",
   "execution_count": null,
   "metadata": {},
   "outputs": [
    {
     "name": "stdout",
     "output_type": "stream",
     "text": [
      "[np.float64(0.3156621005896373), np.float64(0.5079741651788939), np.float64(0.29069211628106445), np.float64(0.3105015591085985), np.float64(0.4461473913134914)]\n"
     ]
    }
   ],
   "source": [
    "mean_values_ci_brits_obs1_classification_subgroup  = toolkits.calc_mean_values_ci(lower_bounds_brits_obs1_classification_subgroup, upper_bounds_brits_obs1_classification_subgroup)\n",
    "\n",
    "print(mean_values_ci_brits_obs1_classification_subgroup)"
   ]
  },
  {
   "cell_type": "markdown",
   "metadata": {},
   "source": [
    "### Confidence Interval (Obesity 2 classification subgroup)"
   ]
  },
  {
   "cell_type": "markdown",
   "metadata": {},
   "source": [
    "#### Distribution Bootstrap for the Top 5 variables with Largest Differences in MAE (Mean Absolute Error) "
   ]
  },
  {
   "cell_type": "code",
   "execution_count": null,
   "metadata": {},
   "outputs": [],
   "source": [
    "indices = [32, 0, 6, 31, 5, 1, 35]\n",
    "\n",
    "results_bootstrap_brits_obs2_classification_subgroup = []\n",
    "\n",
    "for i in indices:\n",
    "       results_bootstrap_brits_obs2_classification_subgroup.append(toolkits.bootstrap_v2(testing_ae_brits_variables_standard, indicating_mask_variable_standard_norm, 15, i, 9000))\n",
    "\n"
   ]
  },
  {
   "cell_type": "markdown",
   "metadata": {},
   "source": [
    "#### Calculating the mean and standard deviation of the bootstrap distribution"
   ]
  },
  {
   "cell_type": "code",
   "execution_count": null,
   "metadata": {},
   "outputs": [
    {
     "name": "stdout",
     "output_type": "stream",
     "text": [
      "[np.float64(0.2566297935741156), np.float64(0.12596516024051657), np.float64(1.3961240813101228), np.float64(0.0), np.float64(0.2858736875756382)]\n",
      "[np.float64(0.049002577704985846), np.float64(0.09598273849535295), np.float64(1.0268585416236724), np.float64(0.0), np.float64(0.13790114187609237)]\n"
     ]
    }
   ],
   "source": [
    "means_bootstraps_brits_obs2_classification_subgroup, standards_deviations_brits_obs2_classification_subgroup = toolkits.calc_mean_and_standard_deviation(results_bootstrap_brits_obs2_classification_subgroup)\n",
    "\n",
    "print(means_bootstraps_brits_obs2_classification_subgroup)\n",
    "print(standards_deviations_brits_obs2_classification_subgroup)\n"
   ]
  },
  {
   "cell_type": "markdown",
   "metadata": {},
   "source": [
    "#### Calculating lower bound and upper bound"
   ]
  },
  {
   "cell_type": "code",
   "execution_count": null,
   "metadata": {},
   "outputs": [
    {
     "name": "stdout",
     "output_type": "stream",
     "text": [
      "[np.float64(0.1605865061227179), np.float64(-0.062157550347901436), np.float64(-0.6164816774895991), np.float64(0.0), np.float64(0.015592416071548876)]\n",
      "[np.float64(0.35267308102551326), np.float64(0.3140878708289346), np.float64(3.408729840109845), np.float64(0.0), np.float64(0.5561549590797275)]\n"
     ]
    }
   ],
   "source": [
    "lower_bounds_brits_obs2_classification_subgroup, upper_bounds_brits_obs2_classification_subgroup = toolkits.calc_lower_and_upper_bound(results_bootstrap_brits_obs2_classification_subgroup, means_bootstraps_brits_obs2_classification_subgroup, standards_deviations_brits_obs2_classification_subgroup)\n",
    "\n",
    "print(lower_bounds_brits_obs2_classification_subgroup)\n",
    "print(upper_bounds_brits_obs2_classification_subgroup)"
   ]
  },
  {
   "cell_type": "code",
   "execution_count": null,
   "metadata": {},
   "outputs": [
    {
     "name": "stdout",
     "output_type": "stream",
     "text": [
      "[np.float64(0.15852749748120876), np.float64(0.0), np.float64(0.0), np.float64(0.0), np.float64(0.10914732115072498)]\n",
      "[np.float64(0.35302742539780924), np.float64(0.1991019392632846), np.float64(3.5812912356313698), np.float64(0.0), np.float64(0.602445513613066)]\n"
     ]
    }
   ],
   "source": [
    "lower_bounds_brits_obs2_classification_subgroup, upper_bounds_brits_obs2_classification_subgroup = toolkits.calc_lower_and_upper_bound_percentile(results_bootstrap_brits_obs2_classification_subgroup)\n",
    "\n",
    "print(lower_bounds_brits_obs2_classification_subgroup)\n",
    "print(upper_bounds_brits_obs2_classification_subgroup)"
   ]
  },
  {
   "cell_type": "markdown",
   "metadata": {},
   "source": [
    "#### Mean values of lower bound and upper bound"
   ]
  },
  {
   "cell_type": "code",
   "execution_count": null,
   "metadata": {},
   "outputs": [
    {
     "name": "stdout",
     "output_type": "stream",
     "text": [
      "[np.float64(0.25577746143950897), np.float64(0.0995509696316423), np.float64(1.7906456178156849), np.float64(0.0), np.float64(0.3557964173818955)]\n"
     ]
    }
   ],
   "source": [
    "mean_values_ci_brits_obs2_classification_subgroup  = toolkits.calc_mean_values_ci(lower_bounds_brits_obs2_classification_subgroup, upper_bounds_brits_obs2_classification_subgroup)\n",
    "\n",
    "print(mean_values_ci_brits_obs2_classification_subgroup)"
   ]
  },
  {
   "cell_type": "markdown",
   "metadata": {},
   "source": [
    "### Confidence Interval (Obesity 3 classification subgroup)"
   ]
  },
  {
   "cell_type": "markdown",
   "metadata": {},
   "source": [
    "#### Distribution Bootstrap for the Top 5 variables with Largest Differences in MAE (Mean Absolute Error) "
   ]
  },
  {
   "cell_type": "code",
   "execution_count": null,
   "metadata": {},
   "outputs": [],
   "source": [
    "indices = [32, 0, 6, 31, 5, 1, 35]\n",
    "\n",
    "results_bootstrap_brits_obs3_classification_subgroup = []\n",
    "\n",
    "for i in indices:\n",
    "       results_bootstrap_brits_obs3_classification_subgroup.append(toolkits.bootstrap_v2(testing_ae_brits_variables_standard, indicating_mask_variable_standard_norm, 16, i, 9000))\n",
    "\n"
   ]
  },
  {
   "cell_type": "markdown",
   "metadata": {},
   "source": [
    "#### Calculating the mean and standard deviation of the bootstrap distribution"
   ]
  },
  {
   "cell_type": "code",
   "execution_count": null,
   "metadata": {},
   "outputs": [
    {
     "name": "stdout",
     "output_type": "stream",
     "text": [
      "[np.float64(0.15155417430747806), np.float64(0.0), np.float64(1.1593962687753612), np.float64(0.2442421185109458), np.float64(0.20886002502599546)]\n",
      "[np.float64(0.050281311239894225), np.float64(0.0), np.float64(0.8237478596037178), np.float64(0.19004214803335054), np.float64(0.12978497928121874)]\n"
     ]
    }
   ],
   "source": [
    "means_bootstraps_brits_obs3_classification_subgroup, standards_deviations_brits_obs3_classification_subgroup = toolkits.calc_mean_and_standard_deviation(results_bootstrap_brits_obs3_classification_subgroup)\n",
    "\n",
    "print(means_bootstraps_brits_obs3_classification_subgroup)\n",
    "print(standards_deviations_brits_obs3_classification_subgroup)\n"
   ]
  },
  {
   "cell_type": "markdown",
   "metadata": {},
   "source": [
    "#### Calculating lower bound and upper bound"
   ]
  },
  {
   "cell_type": "code",
   "execution_count": null,
   "metadata": {},
   "outputs": [
    {
     "name": "stdout",
     "output_type": "stream",
     "text": [
      "[np.float64(0.05300461518183637), np.float64(0.0), np.float64(-0.4551198683898825), np.float64(-0.12823364717905072), np.float64(-0.045513860099470366)]\n",
      "[np.float64(0.25010373343311976), np.float64(0.0), np.float64(2.773912405940605), np.float64(0.6167178842009423), np.float64(0.4632339101514613)]\n"
     ]
    }
   ],
   "source": [
    "lower_bounds_brits_obs3_classification_subgroup, upper_bounds_brits_obs3_classification_subgroup = toolkits.calc_lower_and_upper_bound(results_bootstrap_brits_obs3_classification_subgroup, means_bootstraps_brits_obs3_classification_subgroup, standards_deviations_brits_obs3_classification_subgroup)\n",
    "\n",
    "print(lower_bounds_brits_obs3_classification_subgroup)\n",
    "print(upper_bounds_brits_obs3_classification_subgroup)"
   ]
  },
  {
   "cell_type": "code",
   "execution_count": null,
   "metadata": {},
   "outputs": [
    {
     "name": "stdout",
     "output_type": "stream",
     "text": [
      "[np.float64(0.06726677849320917), np.float64(0.0), np.float64(0.15495381460601493), np.float64(0.0), np.float64(0.03269967207779254)]\n",
      "[np.float64(0.2607674007481455), np.float64(0.0), np.float64(2.983221065811697), np.float64(0.3921118563324046), np.float64(0.487857401911803)]\n"
     ]
    }
   ],
   "source": [
    "lower_bounds_brits_obs3_classification_subgroup, upper_bounds_brits_obs3_classification_subgroup = toolkits.calc_lower_and_upper_bound_percentile(results_bootstrap_brits_obs3_classification_subgroup)\n",
    "\n",
    "print(lower_bounds_brits_obs3_classification_subgroup)\n",
    "print(upper_bounds_brits_obs3_classification_subgroup)"
   ]
  },
  {
   "cell_type": "markdown",
   "metadata": {},
   "source": [
    "#### Mean values of lower bound and upper bound"
   ]
  },
  {
   "cell_type": "code",
   "execution_count": null,
   "metadata": {},
   "outputs": [
    {
     "name": "stdout",
     "output_type": "stream",
     "text": [
      "[np.float64(0.16401708962067732), np.float64(0.0), np.float64(1.569087440208856), np.float64(0.1960559281662023), np.float64(0.26027853699479775)]\n"
     ]
    }
   ],
   "source": [
    "mean_values_ci_brits_obs3_classification_subgroup  = toolkits.calc_mean_values_ci(lower_bounds_brits_obs3_classification_subgroup, upper_bounds_brits_obs3_classification_subgroup)\n",
    "\n",
    "print(mean_values_ci_brits_obs3_classification_subgroup)"
   ]
  },
  {
   "cell_type": "markdown",
   "metadata": {},
   "source": [
    "## USGAN"
   ]
  },
  {
   "cell_type": "markdown",
   "metadata": {},
   "source": [
    "### Calculate MAE and AE"
   ]
  },
  {
   "cell_type": "code",
   "execution_count": null,
   "metadata": {},
   "outputs": [],
   "source": [
    "testing_mae_usgan_variables_standard, testing_ae_usgan_variables_standard = toolkits.calculate_mae(usgan_imputation_standard, test_X_ori_variable_standard_norm, indicating_mask_variable_standard_norm)"
   ]
  },
  {
   "cell_type": "markdown",
   "metadata": {},
   "source": [
    "### Taking the MAE difference for USGAN model"
   ]
  },
  {
   "cell_type": "markdown",
   "metadata": {},
   "source": [
    "#### Difference between gender group"
   ]
  },
  {
   "cell_type": "code",
   "execution_count": null,
   "metadata": {},
   "outputs": [
    {
     "data": {
      "text/plain": [
       "[('Cholesterol', 0.11396848832179907),\n",
       " ('K', 0.07962183727222638),\n",
       " ('Bilirubin', 0.07273530011716128),\n",
       " ('SaO2', 0.06724924437847979),\n",
       " ('AST', 0.06357150812579351)]"
      ]
     },
     "execution_count": 23,
     "metadata": {},
     "output_type": "execute_result"
    }
   ],
   "source": [
    "diff_usgan_gender_subgroup = toolkits.diff_mae_top_5(testing_mae_usgan_variables_standard, 1, 2, variables)\n",
    "diff_usgan_gender_subgroup"
   ]
  },
  {
   "cell_type": "markdown",
   "metadata": {},
   "source": [
    "#### Difference between age group"
   ]
  },
  {
   "cell_type": "code",
   "execution_count": null,
   "metadata": {},
   "outputs": [
    {
     "data": {
      "text/plain": [
       "[('Cholesterol', 1.4080332966852902),\n",
       " ('TroponinI', 1.2745449415570849),\n",
       " ('ALP', 0.46489726331108006),\n",
       " ('SaO2', 0.14584230629740058),\n",
       " ('Bilirubin', 0.14438651035533773)]"
      ]
     },
     "execution_count": 24,
     "metadata": {},
     "output_type": "execute_result"
    }
   ],
   "source": [
    "diff_usgan_age_subgroup = toolkits.diff_mae_top_5(testing_mae_usgan_variables_standard, 4, 5, variables)\n",
    "diff_usgan_age_subgroup"
   ]
  },
  {
   "cell_type": "markdown",
   "metadata": {},
   "source": [
    "#### Difference between ICUType group"
   ]
  },
  {
   "cell_type": "code",
   "execution_count": null,
   "metadata": {},
   "outputs": [],
   "source": [
    "diff_usgan_ICUType_1_2 = toolkits.diff_mae_top_5(testing_mae_usgan_variables_standard, 6, 7, variables)\n",
    "diff_usgan_ICUType_1_3 = toolkits.diff_mae_top_5(testing_mae_usgan_variables_standard, 6, 8, variables)\n",
    "diff_usgan_ICUType_1_4 = toolkits.diff_mae_top_5(testing_mae_usgan_variables_standard, 6, 9, variables)\n",
    "diff_usgan_ICUType_2_3 = toolkits.diff_mae_top_5(testing_mae_usgan_variables_standard, 7, 8, variables)\n",
    "diff_usgan_ICUType_2_4 = toolkits.diff_mae_top_5(testing_mae_usgan_variables_standard, 7, 9, variables)\n",
    "diff_usgan_ICUType_3_4 = toolkits.diff_mae_top_5(testing_mae_usgan_variables_standard, 8, 9, variables)"
   ]
  },
  {
   "cell_type": "code",
   "execution_count": null,
   "metadata": {},
   "outputs": [
    {
     "name": "stdout",
     "output_type": "stream",
     "text": [
      "Diferença(MAE) ICUType 1 e 2\n",
      "----------------------------\n",
      "[('Cholesterol', 1.968532838973082), ('TroponinT', 0.3139744935635816), ('TroponinI', 0.2476191651050459), ('Glucose', 0.17361770275953042), ('Temp', 0.15812872602883854)]\n",
      "----------------------------\n",
      "Diferença(MAE) ICUType 1 e 3\n",
      "----------------------------\n",
      "[('TroponinI', 1.054054323556795), ('ALP', 0.9588980980944308), ('SaO2', 0.9557847823462609), ('Cholesterol', 0.720808558519628), ('TroponinT', 0.3983027553119586)]\n",
      "----------------------------\n",
      "Diferença(MAE) ICUType 1 e 4\n",
      "----------------------------\n",
      "[('TroponinI', 0.8469546316747383), ('Cholesterol', 0.4515708800192406), ('TroponinT', 0.43928515289325093), ('ALP', 0.2595151866425361), ('Glucose', 0.1775868477420237)]\n",
      "----------------------------\n",
      "Diferença(MAE) ICUType 2 e 3\n",
      "[('Cholesterol', 2.68934139749271), ('TroponinI', 1.3016734886618408), ('ALP', 0.9781535556167317), ('SaO2', 0.8722191782384636), ('Temp', 0.2501181579286637)]\n",
      "----------------------------\n",
      "Diferença(MAE) ICUType 2 e 4\n",
      "----------------------------\n",
      "[('Cholesterol', 2.4201037189923227), ('TroponinI', 1.0945737967797842), ('ALP', 0.2787706441648369), ('Temp', 0.192911331632734), ('SaO2', 0.16631402582159843)]\n",
      "----------------------------\n",
      "Diferença(MAE) ICUType 3 e 4\n",
      "----------------------------\n",
      "[('SaO2', 1.038533204060062), ('ALP', 0.6993829114518948), ('Cholesterol', 0.2692376785003874), ('Glucose', 0.23938798803323758), ('K', 0.2083170965131868)]\n",
      "----------------------------\n"
     ]
    }
   ],
   "source": [
    "print(\"Diferença(MAE) ICUType 1 e 2\")\n",
    "print(\"----------------------------\")\n",
    "print(diff_usgan_ICUType_1_2)\n",
    "print(\"----------------------------\")\n",
    "print(\"Diferença(MAE) ICUType 1 e 3\")\n",
    "print(\"----------------------------\")\n",
    "print(diff_usgan_ICUType_1_3)\n",
    "print(\"----------------------------\")\n",
    "print(\"Diferença(MAE) ICUType 1 e 4\")\n",
    "print(\"----------------------------\")\n",
    "print(diff_usgan_ICUType_1_4)\n",
    "print(\"----------------------------\")\n",
    "print(\"Diferença(MAE) ICUType 2 e 3\")\n",
    "print(diff_usgan_ICUType_2_3)\n",
    "print(\"----------------------------\")\n",
    "print(\"Diferença(MAE) ICUType 2 e 4\")\n",
    "print(\"----------------------------\")\n",
    "print(diff_usgan_ICUType_2_4)\n",
    "print(\"----------------------------\")\n",
    "print(\"Diferença(MAE) ICUType 3 e 4\")\n",
    "print(\"----------------------------\")\n",
    "print(diff_usgan_ICUType_3_4)\n",
    "print(\"----------------------------\")"
   ]
  },
  {
   "cell_type": "code",
   "execution_count": null,
   "metadata": {},
   "outputs": [
    {
     "name": "stdout",
     "output_type": "stream",
     "text": [
      "Top 5 variáveis ICUType\n",
      "-----------------------\n",
      "Cholesterol\n",
      "TroponinI\n",
      "ALP\n",
      "SaO2\n",
      "TroponinT\n"
     ]
    }
   ],
   "source": [
    "print(\"Top 5 variáveis ICUType\")\n",
    "print(\"-----------------------\")\n",
    "print(variables[6])\n",
    "print(variables[31])\n",
    "print(variables[0])\n",
    "print(variables[28])\n",
    "print(variables[32])"
   ]
  },
  {
   "cell_type": "markdown",
   "metadata": {},
   "source": [
    "#### Difference between BMI group"
   ]
  },
  {
   "cell_type": "code",
   "execution_count": null,
   "metadata": {},
   "outputs": [],
   "source": [
    "diff_usgan_classification_undefined_low = toolkits.diff_mae_top_5(testing_mae_usgan_variables_standard, 10, 11, variables)\n",
    "diff_usgan_classification_undefined_normal = toolkits.diff_mae_top_5(testing_mae_usgan_variables_standard, 10, 12, variables)\n",
    "diff_usgan_classification_undefined_over = toolkits.diff_mae_top_5(testing_mae_usgan_variables_standard, 10, 13, variables)\n",
    "diff_usgan_classification_undefined_obs1 = toolkits.diff_mae_top_5(testing_mae_usgan_variables_standard, 10, 14, variables)\n",
    "diff_usgan_classification_undefined_obs2 = toolkits.diff_mae_top_5(testing_mae_usgan_variables_standard, 10, 15, variables)\n",
    "diff_usgan_classification_undefined_obs3 = toolkits.diff_mae_top_5(testing_mae_usgan_variables_standard, 10, 16, variables)\n",
    "\n",
    "diff_usgan_classification_low_normal = toolkits.diff_mae_top_5(testing_mae_usgan_variables_standard, 11, 12, variables)\n",
    "diff_usgan_classification_low_over = toolkits.diff_mae_top_5(testing_mae_usgan_variables_standard, 11, 13, variables)\n",
    "diff_usgan_classification_low_obs1 = toolkits.diff_mae_top_5(testing_mae_usgan_variables_standard, 11, 14, variables)\n",
    "diff_usgan_classification_low_obs2 = toolkits.diff_mae_top_5(testing_mae_usgan_variables_standard, 11, 15, variables)\n",
    "diff_usgan_classification_low_obs3 = toolkits.diff_mae_top_5(testing_mae_usgan_variables_standard, 11, 16, variables)\n",
    "\n",
    "diff_usgan_classification_normal_over = toolkits.diff_mae_top_5(testing_mae_usgan_variables_standard, 12, 13, variables)\n",
    "diff_usgan_classification_normal_obs1 = toolkits.diff_mae_top_5(testing_mae_usgan_variables_standard, 12, 14, variables)\n",
    "diff_usgan_classification_normal_obs2 = toolkits.diff_mae_top_5(testing_mae_usgan_variables_standard, 12, 15, variables)\n",
    "diff_usgan_classification_normal_obs3 = toolkits.diff_mae_top_5(testing_mae_usgan_variables_standard, 12, 16, variables)\n",
    "\n",
    "diff_usgan_classification_over_obs1 = toolkits.diff_mae_top_5(testing_mae_usgan_variables_standard, 13, 14, variables)\n",
    "diff_usgan_classification_over_obs2 = toolkits.diff_mae_top_5(testing_mae_usgan_variables_standard, 13, 15, variables)\n",
    "diff_usgan_classification_over_obs3 = toolkits.diff_mae_top_5(testing_mae_usgan_variables_standard, 13, 16, variables)\n",
    "\n",
    "\n",
    "diff_usgan_classification_obs1_obs2 = toolkits.diff_mae_top_5(testing_mae_usgan_variables_standard, 14, 15, variables)\n",
    "diff_usgan_classification_obs1_obs3 = toolkits.diff_mae_top_5(testing_mae_usgan_variables_standard, 14, 16, variables)\n",
    "\n",
    "diff_usgan_classification_obs2_obs3 = toolkits.diff_mae_top_5(testing_mae_usgan_variables_standard, 15, 16, variables)"
   ]
  },
  {
   "cell_type": "code",
   "execution_count": null,
   "metadata": {},
   "outputs": [
    {
     "name": "stdout",
     "output_type": "stream",
     "text": [
      "Diferença(MAE) Classification Undefined and low\n",
      "----------------------------\n",
      "[('ALP', 1.9859620009058019), ('TroponinI', 1.3663260793164698), ('Bilirubin', 1.0400217434134755), ('Cholesterol', 0.9605290481335007), ('SaO2', 0.3826989561208938)]\n",
      "----------------------------\n",
      "Diferença(MAE) Classification Undefined and normal\n",
      "----------------------------\n",
      "[('Cholesterol', 1.5579458557188144), ('TroponinI', 0.8172833755393478), ('SaO2', 0.5748494084312364), ('Platelets', 0.11877231573919644), ('ALP', 0.10391918734958416)]\n",
      "----------------------------\n",
      "Diferença(MAE) Classification Undefined and over\n",
      "----------------------------\n",
      "[('Cholesterol', 0.7813610757706175), ('TroponinI', 0.528914503705096), ('SaO2', 0.26335364804066497), ('TroponinT', 0.15046354582798027), ('Bilirubin', 0.13730852400659188)]\n",
      "----------------------------\n",
      "Diferença(MAE) Classification Undefined and obs1\n",
      "[('Cholesterol', 1.113359877891227), ('Ph', 0.8795575969438973), ('TroponinI', 0.5672432528016587), ('Albumin', 0.2786467655607161), ('SaO2', 0.2735275954584428)]\n",
      "----------------------------\n",
      "Diferença(MAE) Classification Undefined and obs2\n",
      "----------------------------\n",
      "[('TroponinI', 1.3663260793164698), ('TroponinT', 0.6737777799444177), ('Cholesterol', 0.6391969914775977), ('ALT', 0.2744827700291924), ('ALP', 0.2237296880176634)]\n",
      "----------------------------\n",
      "Diferença(MAE) ICUType Undefined and obs3\n",
      "----------------------------\n",
      "[('Cholesterol', 1.8585491972475146), ('TroponinT', 0.7477405243218648), ('TroponinI', 0.6635170907194801), ('ALT', 0.6527297267469226), ('Albumin', 0.19931578335806777)]\n",
      "----------------------------\n"
     ]
    }
   ],
   "source": [
    "print(\"Diferença(MAE) Classification Undefined and low\")\n",
    "print(\"----------------------------\")\n",
    "print(diff_usgan_classification_undefined_low)\n",
    "print(\"----------------------------\")\n",
    "print(\"Diferença(MAE) Classification Undefined and normal\")\n",
    "print(\"----------------------------\")\n",
    "print(diff_usgan_classification_undefined_normal)\n",
    "print(\"----------------------------\")\n",
    "print(\"Diferença(MAE) Classification Undefined and over\")\n",
    "print(\"----------------------------\")\n",
    "print(diff_usgan_classification_undefined_over)\n",
    "print(\"----------------------------\")\n",
    "print(\"Diferença(MAE) Classification Undefined and obs1\")\n",
    "print(diff_usgan_classification_undefined_obs1)\n",
    "print(\"----------------------------\")\n",
    "print(\"Diferença(MAE) Classification Undefined and obs2\")\n",
    "print(\"----------------------------\")\n",
    "print(diff_usgan_classification_undefined_obs2)\n",
    "print(\"----------------------------\")\n",
    "print(\"Diferença(MAE) ICUType Undefined and obs3\")\n",
    "print(\"----------------------------\")\n",
    "print(diff_usgan_classification_undefined_obs3)\n",
    "print(\"----------------------------\")"
   ]
  },
  {
   "cell_type": "code",
   "execution_count": null,
   "metadata": {},
   "outputs": [
    {
     "name": "stdout",
     "output_type": "stream",
     "text": [
      "Diferença(MAE) Classification low and normal\n",
      "----------------------------\n",
      "[('TroponinI', 2.1836094548558176), ('ALP', 1.8820428135562177), ('Bilirubin', 1.0046745883347163), ('SaO2', 0.9575483645521302), ('Cholesterol', 0.5974168075853137)]\n",
      "----------------------------\n",
      "Diferença(MAE) Classification low and over\n",
      "----------------------------\n",
      "[('ALP', 2.057108090815585), ('TroponinI', 1.8952405830215657), ('Cholesterol', 1.7418901239041182), ('Bilirubin', 1.1773302674200674), ('Glucose', 0.41411061578867114)]\n",
      "----------------------------\n",
      "Diferença(MAE) Classification low and obs1\n",
      "----------------------------\n",
      "[('ALP', 1.9622075950694193), ('TroponinI', 1.9335693321181284), ('Bilirubin', 1.2290397495761565), ('Ph', 0.8756933509066762), ('Glucose', 0.4445408934992038)]\n",
      "----------------------------\n",
      "Diferença(MAE) Classification low and obs2\n",
      "[('ALP', 2.2096916889234652), ('Bilirubin', 1.1530946428930196), ('TroponinT', 0.5311563166725247), ('HCO3', 0.38165713898274684), ('BUN', 0.3429542758853786)]\n",
      "----------------------------\n",
      "Diferença(MAE) Classification low and obs3\n",
      "----------------------------\n",
      "[('Cholesterol', 2.8190782453810153), ('TroponinI', 2.02984317003595), ('ALP', 2.0215464279724733), ('Bilirubin', 1.0929629742175906), ('TroponinT', 0.6051190610499718)]\n",
      "----------------------------\n"
     ]
    }
   ],
   "source": [
    "print(\"Diferença(MAE) Classification low and normal\")\n",
    "print(\"----------------------------\")\n",
    "print(diff_usgan_classification_low_normal)\n",
    "print(\"----------------------------\")\n",
    "print(\"Diferença(MAE) Classification low and over\")\n",
    "print(\"----------------------------\")\n",
    "print(diff_usgan_classification_low_over)\n",
    "print(\"----------------------------\")\n",
    "print(\"Diferença(MAE) Classification low and obs1\")\n",
    "print(\"----------------------------\")\n",
    "print(diff_usgan_classification_low_obs1)\n",
    "print(\"----------------------------\")\n",
    "print(\"Diferença(MAE) Classification low and obs2\")\n",
    "print(diff_usgan_classification_low_obs2)\n",
    "print(\"----------------------------\")\n",
    "print(\"Diferença(MAE) Classification low and obs3\")\n",
    "print(\"----------------------------\")\n",
    "print(diff_usgan_classification_low_obs3)\n",
    "print(\"----------------------------\")"
   ]
  },
  {
   "cell_type": "code",
   "execution_count": null,
   "metadata": {},
   "outputs": [
    {
     "name": "stdout",
     "output_type": "stream",
     "text": [
      "Diferença(MAE) Classification normal and over\n",
      "----------------------------\n",
      "[('Cholesterol', 2.339306931489432), ('SaO2', 0.8382030564719014), ('TroponinI', 0.28836887183425186), ('Lactate', 0.17658435332815797), ('ALP', 0.17506527725936732)]\n",
      "----------------------------\n",
      "Diferença(MAE) Classification normal and obs1\n",
      "----------------------------\n",
      "[('Ph', 0.8895493110798054), ('SaO2', 0.8483770038896792), ('Cholesterol', 0.44458597782758735), ('Albumin', 0.3456592406793608), ('TroponinI', 0.25004012273768916)]\n",
      "----------------------------\n",
      "Diferença(MAE) Classification normal and obs2\n",
      "----------------------------\n",
      "[('TroponinI', 2.1836094548558176), ('Cholesterol', 0.9187488642412167), ('SaO2', 0.7611965781906), ('TroponinT', 0.6853385828101566), ('ALP', 0.32764887536724757)]\n",
      "----------------------------\n",
      "Diferença(MAE) Classification normal and obs3\n",
      "[('Cholesterol', 3.416495052966329), ('TroponinT', 0.7593013271876037), ('SaO2', 0.6919062266464278), ('ALT', 0.6246717920178768), ('Albumin', 0.2663282584767125)]\n",
      "----------------------------\n"
     ]
    }
   ],
   "source": [
    "print(\"Diferença(MAE) Classification normal and over\")\n",
    "print(\"----------------------------\")\n",
    "print(diff_usgan_classification_normal_over)\n",
    "print(\"----------------------------\")\n",
    "print(\"Diferença(MAE) Classification normal and obs1\")\n",
    "print(\"----------------------------\")\n",
    "print(diff_usgan_classification_normal_obs1)\n",
    "print(\"----------------------------\")\n",
    "print(\"Diferença(MAE) Classification normal and obs2\")\n",
    "print(\"----------------------------\")\n",
    "print(diff_usgan_classification_normal_obs2)\n",
    "print(\"----------------------------\")\n",
    "print(\"Diferença(MAE) Classification normal and obs3\")\n",
    "print(diff_usgan_classification_normal_obs3)\n",
    "print(\"----------------------------\")"
   ]
  },
  {
   "cell_type": "code",
   "execution_count": null,
   "metadata": {},
   "outputs": [
    {
     "name": "stdout",
     "output_type": "stream",
     "text": [
      "Diferença(MAE) Classification over and obs1\n",
      "----------------------------\n",
      "[('Cholesterol', 1.8947209536618446), ('Ph', 0.8907999481313389), ('TroponinT', 0.3086857051131902), ('Albumin', 0.19249637129152009), ('ALP', 0.09490049574616588)]\n",
      "----------------------------\n",
      "Diferença(MAE) Classification over and obs2\n",
      "----------------------------\n",
      "[('TroponinI', 1.8952405830215657), ('Cholesterol', 1.4205580672482152), ('TroponinT', 0.5233142341164374), ('BUN', 0.22346096188397796), ('ALT', 0.16362555313936245)]\n",
      "----------------------------\n",
      "Diferença(MAE) Classification over and obs3\n",
      "----------------------------\n",
      "[('Cholesterol', 1.077188121476897), ('TroponinT', 0.5972769784938845), ('ALT', 0.5418725098570927), ('K', 0.15370072454147682), ('SaO2', 0.14629682982547365)]\n",
      "----------------------------\n"
     ]
    }
   ],
   "source": [
    "print(\"Diferença(MAE) Classification over and obs1\")\n",
    "print(\"----------------------------\")\n",
    "print(diff_usgan_classification_over_obs1)\n",
    "print(\"----------------------------\")\n",
    "print(\"Diferença(MAE) Classification over and obs2\")\n",
    "print(\"----------------------------\")\n",
    "print(diff_usgan_classification_over_obs2)\n",
    "print(\"----------------------------\")\n",
    "print(\"Diferença(MAE) Classification over and obs3\")\n",
    "print(\"----------------------------\")\n",
    "print(diff_usgan_classification_over_obs3)\n",
    "print(\"----------------------------\")"
   ]
  },
  {
   "cell_type": "code",
   "execution_count": null,
   "metadata": {},
   "outputs": [
    {
     "name": "stdout",
     "output_type": "stream",
     "text": [
      "Diferença(MAE) Classification obs1 and obs2 \n",
      "----------------------------\n",
      "[('TroponinI', 1.9335693321181284), ('Ph', 0.8942541473568749), ('TroponinT', 0.8319999392296276), ('Cholesterol', 0.47416288641362936), ('ALT', 0.25324161013363694)]\n",
      "----------------------------\n",
      "Diferença(MAE) Classification obs1 and obs3 \n",
      "----------------------------\n",
      "[('Cholesterol', 2.9719090751387416), ('TroponinT', 0.9059626836070747), ('Ph', 0.8849431181997474), ('ALT', 0.6314885668513672), ('SaO2', 0.15647077724325148)]\n",
      "----------------------------\n"
     ]
    }
   ],
   "source": [
    "print(\"Diferença(MAE) Classification obs1 and obs2 \")\n",
    "print(\"----------------------------\")\n",
    "print(diff_usgan_classification_obs1_obs2)\n",
    "print(\"----------------------------\")\n",
    "print(\"Diferença(MAE) Classification obs1 and obs3 \")\n",
    "print(\"----------------------------\")\n",
    "print(diff_usgan_classification_obs1_obs3)\n",
    "print(\"----------------------------\")"
   ]
  },
  {
   "cell_type": "code",
   "execution_count": null,
   "metadata": {},
   "outputs": [
    {
     "name": "stdout",
     "output_type": "stream",
     "text": [
      "Diferença(MAE) Classification obs2 and obs3 \n",
      "----------------------------\n",
      "[('Cholesterol', 2.4977461887251122), ('TroponinI', 2.02984317003595), ('ALT', 0.37824695671773023), ('ALP', 0.18814526095099215), ('BUN', 0.1542478468532586)]\n",
      "----------------------------\n"
     ]
    }
   ],
   "source": [
    "print(\"Diferença(MAE) Classification obs2 and obs3 \")\n",
    "print(\"----------------------------\")\n",
    "print(diff_usgan_classification_obs2_obs3)\n",
    "print(\"----------------------------\")"
   ]
  },
  {
   "cell_type": "code",
   "execution_count": null,
   "metadata": {},
   "outputs": [
    {
     "name": "stdout",
     "output_type": "stream",
     "text": [
      "Top 5 variáveis BMI\n",
      "-----------------------\n",
      "Cholesterol\n",
      "TroponinI\n",
      "ALP\n",
      "TroponinT\n",
      "Bilirubin\n"
     ]
    }
   ],
   "source": [
    "print(\"Top 5 variáveis BMI\")\n",
    "print(\"-----------------------\")\n",
    "print(variables[6])\n",
    "print(variables[31])\n",
    "print(variables[0])\n",
    "print(variables[32])\n",
    "print(variables[5])"
   ]
  },
  {
   "cell_type": "markdown",
   "metadata": {},
   "source": [
    "### Confidence Interval (Female Subgroup)"
   ]
  },
  {
   "cell_type": "markdown",
   "metadata": {},
   "source": [
    "#### Distribution Bootstrap for the Top 5 variables with Largest Differences in MAE (Mean Absolute Error) "
   ]
  },
  {
   "cell_type": "code",
   "execution_count": null,
   "metadata": {},
   "outputs": [],
   "source": [
    "indices = [6, 31, 28, 16, 33, 2, 7, 15, 5, 2, 35, 24]\n",
    "\n",
    "results_bootstrap_usgan_female = []\n",
    "\n",
    "for i in indices:\n",
    "       results_bootstrap_usgan_female.append(toolkits.bootstrap_v2(testing_ae_usgan_variables_standard, indicating_mask_variable_standard_norm, 1, i, 9000))"
   ]
  },
  {
   "cell_type": "markdown",
   "metadata": {},
   "source": [
    "#### Calculating the mean and standard deviation of the bootstrap distribution"
   ]
  },
  {
   "cell_type": "code",
   "execution_count": null,
   "metadata": {},
   "outputs": [
    {
     "name": "stdout",
     "output_type": "stream",
     "text": [
      "[np.float64(1.9616424284201106), np.float64(0.6196154208125143), np.float64(0.519483116298636), np.float64(0.5851034594231386), np.float64(0.2973570783183189)]\n",
      "[np.float64(0.965325843700134), np.float64(0.032467414392818306), np.float64(0.05648531272365469), np.float64(0.13398574136774344), np.float64(0.04907430379125418)]\n"
     ]
    }
   ],
   "source": [
    "means_bootstraps_usgan_female,standards_deviations_usgan_female = toolkits.calc_mean_and_standard_deviation(results_bootstrap_usgan_female)\n",
    "\n",
    "print(means_bootstraps_usgan_female)\n",
    "print(standards_deviations_usgan_female)\n"
   ]
  },
  {
   "cell_type": "markdown",
   "metadata": {},
   "source": [
    "#### Calculating lower bound and upper bound"
   ]
  },
  {
   "cell_type": "code",
   "execution_count": null,
   "metadata": {},
   "outputs": [
    {
     "name": "stdout",
     "output_type": "stream",
     "text": [
      "[np.float64(0.06963854142210657), np.float64(0.555980457931453), np.float64(0.4087739377047907), np.float64(0.322496231900463), np.float64(0.20117321032108332)]\n",
      "[np.float64(3.8536463154181146), np.float64(0.6832503836935756), np.float64(0.6301922948924812), np.float64(0.8477106869458142), np.float64(0.39354094631555453)]\n"
     ]
    }
   ],
   "source": [
    "lower_bounds_usgan_female, upper_bounds_usgan_female = toolkits.calc_lower_and_upper_bound(results_bootstrap_usgan_female, means_bootstraps_usgan_female,standards_deviations_usgan_female)\n",
    "\n",
    "print(lower_bounds_usgan_female)\n",
    "print(upper_bounds_usgan_female)"
   ]
  },
  {
   "cell_type": "code",
   "execution_count": null,
   "metadata": {},
   "outputs": [
    {
     "name": "stdout",
     "output_type": "stream",
     "text": [
      "[np.float64(0.552297478025096), np.float64(0.5583214267508602), np.float64(0.4246632690220314), np.float64(0.35896940420117857), np.float64(0.2149279902218852)]\n",
      "[np.float64(4.152961981190631), np.float64(0.6866208232404697), np.float64(0.6421835107886564), np.float64(0.8798822431398159), np.float64(0.40616254661494894)]\n"
     ]
    }
   ],
   "source": [
    "lower_bounds_usgan_female, upper_bounds_usgan_female = toolkits.calc_lower_and_upper_bound_percentile(results_bootstrap_usgan_female)\n",
    "\n",
    "print(lower_bounds_usgan_female)\n",
    "print(upper_bounds_usgan_female)"
   ]
  },
  {
   "cell_type": "markdown",
   "metadata": {},
   "source": [
    "#### Mean values of lower bound and upper bound\n"
   ]
  },
  {
   "cell_type": "code",
   "execution_count": null,
   "metadata": {},
   "outputs": [
    {
     "name": "stdout",
     "output_type": "stream",
     "text": [
      "[np.float64(2.3526297296078638), np.float64(0.6224711249956649), np.float64(0.5334233899053439), np.float64(0.6194258236704973), np.float64(0.31054526841841706)]\n"
     ]
    }
   ],
   "source": [
    "mean_values_ci_usgan_female = toolkits.calc_mean_values_ci(lower_bounds_usgan_female, upper_bounds_usgan_female)\n",
    "\n",
    "print(mean_values_ci_usgan_female)"
   ]
  },
  {
   "cell_type": "markdown",
   "metadata": {},
   "source": [
    "### Confidence Interval (Male Subgroup)"
   ]
  },
  {
   "cell_type": "markdown",
   "metadata": {},
   "source": [
    "#### Distribution Bootstrap for the Top 5 variables with Largest Differences in MAE (Mean Absolute Error) "
   ]
  },
  {
   "cell_type": "code",
   "execution_count": null,
   "metadata": {},
   "outputs": [],
   "source": [
    "indices = [6, 31, 28, 16, 33, 2, 7, 15, 5, 2, 35, 24]\n",
    "\n",
    "results_bootstrap_usgan_male = []\n",
    "\n",
    "for i in indices:\n",
    "       results_bootstrap_usgan_male.append(toolkits.bootstrap_v2(testing_ae_usgan_variables_standard, indicating_mask_variable_standard_norm, 2, i, 9000))"
   ]
  },
  {
   "cell_type": "markdown",
   "metadata": {},
   "source": [
    "#### Calculating the mean and standard deviation of the bootstrap distribution"
   ]
  },
  {
   "cell_type": "code",
   "execution_count": null,
   "metadata": {},
   "outputs": [
    {
     "name": "stdout",
     "output_type": "stream",
     "text": [
      "[np.float64(2.0767878054267155), np.float64(0.5399034251040454), np.float64(0.44657963430801506), np.float64(0.6493438911986597), np.float64(0.23359850222558343)]\n",
      "[np.float64(0.44038932298507266), np.float64(0.021861564734443558), np.float64(0.03845395415341268), np.float64(0.28618210212385997), np.float64(0.020229866887666283)]\n"
     ]
    }
   ],
   "source": [
    "means_bootstraps_usgan_male,standards_deviations_usgan_male = toolkits.calc_mean_and_standard_deviation(results_bootstrap_usgan_male)\n",
    "\n",
    "print(means_bootstraps_usgan_male)\n",
    "print(standards_deviations_usgan_male)\n"
   ]
  },
  {
   "cell_type": "markdown",
   "metadata": {},
   "source": [
    "#### Calculating lower bound and upper bound"
   ]
  },
  {
   "cell_type": "code",
   "execution_count": null,
   "metadata": {},
   "outputs": [
    {
     "name": "stdout",
     "output_type": "stream",
     "text": [
      "[np.float64(1.2136405931999956), np.float64(0.4970555455788451), np.float64(0.3712112691041718), np.float64(0.08843727801593038), np.float64(0.19394869171371812)]\n",
      "[np.float64(2.9399350176534353), np.float64(0.5827513046292457), np.float64(0.5219479995118583), np.float64(1.210250504381389), np.float64(0.27324831273744876)]\n"
     ]
    }
   ],
   "source": [
    "lower_bounds_usgan_male, upper_bounds_usgan_male = toolkits.calc_lower_and_upper_bound(results_bootstrap_usgan_male, means_bootstraps_usgan_male,standards_deviations_usgan_male)\n",
    "\n",
    "print(lower_bounds_usgan_male)\n",
    "print(upper_bounds_usgan_male)"
   ]
  },
  {
   "cell_type": "code",
   "execution_count": null,
   "metadata": {},
   "outputs": [
    {
     "name": "stdout",
     "output_type": "stream",
     "text": [
      "[np.float64(1.238113116845262), np.float64(0.4985683179157677), np.float64(0.37446853780280714), np.float64(0.32087931106030454), np.float64(0.19532264990749149)]\n",
      "[np.float64(2.9717877013948577), np.float64(0.5836320625746543), np.float64(0.5260074341746146), np.float64(1.2826079294368584), np.float64(0.27470822843533443)]\n"
     ]
    }
   ],
   "source": [
    "lower_bounds_usgan_male, upper_bounds_usgan_male = toolkits.calc_lower_and_upper_bound_percentile(results_bootstrap_usgan_male)\n",
    "\n",
    "print(lower_bounds_usgan_male)\n",
    "print(upper_bounds_usgan_male)"
   ]
  },
  {
   "cell_type": "markdown",
   "metadata": {},
   "source": [
    "#### Mean values of lower bound and upper bound\n"
   ]
  },
  {
   "cell_type": "code",
   "execution_count": null,
   "metadata": {},
   "outputs": [
    {
     "name": "stdout",
     "output_type": "stream",
     "text": [
      "[np.float64(2.1049504091200597), np.float64(0.541100190245211), np.float64(0.4502379859887109), np.float64(0.8017436202485815), np.float64(0.23501543917141296)]\n"
     ]
    }
   ],
   "source": [
    "mean_values_ci_usgan_male = toolkits.calc_mean_values_ci(lower_bounds_usgan_male, upper_bounds_usgan_male)\n",
    "\n",
    "print(mean_values_ci_usgan_male)"
   ]
  },
  {
   "cell_type": "markdown",
   "metadata": {},
   "source": [
    "### Confidence Interval (+65 Subgroup)"
   ]
  },
  {
   "cell_type": "markdown",
   "metadata": {},
   "source": [
    "#### Distribution Bootstrap for the Top 5 variables with Largest Differences in MAE (Mean Absolute Error) "
   ]
  },
  {
   "cell_type": "code",
   "execution_count": null,
   "metadata": {},
   "outputs": [],
   "source": [
    "indices = [6, 32, 0, 28, 5, 31, 3]\n",
    "\n",
    "results_bootstrap_usgan_more_than_or_equal_to_65_subgroup = []\n",
    "\n",
    "for i in indices:\n",
    "       results_bootstrap_usgan_more_than_or_equal_to_65_subgroup.append(toolkits.bootstrap_v2(testing_ae_usgan_variables_standard, indicating_mask_variable_standard_norm, 4, i, 9000))\n"
   ]
  },
  {
   "cell_type": "markdown",
   "metadata": {},
   "source": [
    "#### Calculating the mean and standard deviation of the bootstrap distribution"
   ]
  },
  {
   "cell_type": "code",
   "execution_count": null,
   "metadata": {},
   "outputs": [
    {
     "name": "stdout",
     "output_type": "stream",
     "text": [
      "[np.float64(2.3189420507457585), np.float64(2.4760165772884775), np.float64(0.6952501846735629), np.float64(0.712587400371639), np.float64(0.4595658035567099)]\n",
      "[np.float64(0.34910444009022223), np.float64(0.42713917518827815), np.float64(0.14304532306086748), np.float64(0.31063401441857796), np.float64(0.030540235166214794)]\n"
     ]
    }
   ],
   "source": [
    "means_bootstraps_usgan_more_than_or_equal_to_65_subgroup,standards_deviations_usgan_more_than_or_equal_to_65_subgroup = toolkits.calc_mean_and_standard_deviation(results_bootstrap_usgan_more_than_or_equal_to_65_subgroup)\n",
    "\n",
    "print(means_bootstraps_usgan_more_than_or_equal_to_65_subgroup)\n",
    "print(standards_deviations_usgan_more_than_or_equal_to_65_subgroup)"
   ]
  },
  {
   "cell_type": "markdown",
   "metadata": {},
   "source": [
    "#### Calculating lower bound and upper bound\n"
   ]
  },
  {
   "cell_type": "code",
   "execution_count": null,
   "metadata": {},
   "outputs": [
    {
     "name": "stdout",
     "output_type": "stream",
     "text": [
      "[np.float64(1.634709921325902), np.float64(1.6388391775333075), np.float64(0.4148865033173658), np.float64(0.10375591973813036), np.float64(0.39970804255154524)]\n",
      "[np.float64(3.0031741801656153), np.float64(3.3131939770436474), np.float64(0.97561386602976), np.float64(1.3214188810051477), np.float64(0.5194235645618746)]\n"
     ]
    }
   ],
   "source": [
    "lower_bounds_usgan_more_than_or_equal_to_65_subgroup, upper_bounds_usgan_more_than_or_equal_to_65_subgroup = toolkits.calc_lower_and_upper_bound(results_bootstrap_usgan_more_than_or_equal_to_65_subgroup, means_bootstraps_usgan_more_than_or_equal_to_65_subgroup,standards_deviations_usgan_more_than_or_equal_to_65_subgroup)\n",
    "\n",
    "print(lower_bounds_usgan_more_than_or_equal_to_65_subgroup)\n",
    "print(upper_bounds_usgan_more_than_or_equal_to_65_subgroup)\n"
   ]
  },
  {
   "cell_type": "code",
   "execution_count": null,
   "metadata": {},
   "outputs": [
    {
     "name": "stdout",
     "output_type": "stream",
     "text": [
      "[np.float64(1.6099234359465588), np.float64(1.6892337738417373), np.float64(0.4444906483603086), np.float64(0.341050868770908), np.float64(0.3994074614007054)]\n",
      "[np.float64(2.994196971516218), np.float64(3.3762866598090917), np.float64(1.0030284452508729), np.float64(1.4208146456112776), np.float64(0.5204216027429522)]\n"
     ]
    }
   ],
   "source": [
    "lower_bounds_usgan_more_than_or_equal_to_65_subgroup, upper_bounds_usgan_more_than_or_equal_to_65_subgroup = toolkits.calc_lower_and_upper_bound_percentile(results_bootstrap_usgan_more_than_or_equal_to_65_subgroup)\n",
    "\n",
    "print(lower_bounds_usgan_more_than_or_equal_to_65_subgroup)\n",
    "print(upper_bounds_usgan_more_than_or_equal_to_65_subgroup)"
   ]
  },
  {
   "cell_type": "markdown",
   "metadata": {},
   "source": [
    "#### Mean values of lower bound and upper bound"
   ]
  },
  {
   "cell_type": "code",
   "execution_count": null,
   "metadata": {},
   "outputs": [
    {
     "name": "stdout",
     "output_type": "stream",
     "text": [
      "[np.float64(2.3020602037313886), np.float64(2.5327602168254146), np.float64(0.7237595468055907), np.float64(0.8809327571910928), np.float64(0.4599145320718288)]\n"
     ]
    }
   ],
   "source": [
    "mean_values_ci_usgan_more_than_or_equal_to_65_subgroup  = toolkits.calc_mean_values_ci(lower_bounds_usgan_more_than_or_equal_to_65_subgroup , upper_bounds_usgan_more_than_or_equal_to_65_subgroup)\n",
    "\n",
    "print(mean_values_ci_usgan_more_than_or_equal_to_65_subgroup)"
   ]
  },
  {
   "cell_type": "markdown",
   "metadata": {},
   "source": [
    "### Confidence Interval (-65 subgroup)"
   ]
  },
  {
   "cell_type": "markdown",
   "metadata": {},
   "source": [
    "#### Distribution Bootstrap for the Top 5 variables with Largest Differences in MAE (Mean Absolute Error) "
   ]
  },
  {
   "cell_type": "code",
   "execution_count": null,
   "metadata": {},
   "outputs": [],
   "source": [
    "indices = [6, 32, 0, 28, 5, 31, 3]\n",
    "\n",
    "results_bootstrap_usgan_less_than_65_subgroup = []\n",
    "\n",
    "for i in indices:\n",
    "       results_bootstrap_usgan_less_than_65_subgroup.append(toolkits.bootstrap_v2(testing_ae_usgan_variables_standard, indicating_mask_variable_standard_norm, 5, i, 9000))\n",
    "\n"
   ]
  },
  {
   "cell_type": "markdown",
   "metadata": {},
   "source": [
    "#### Calculating the mean and standard deviation of the bootstrap distribution"
   ]
  },
  {
   "cell_type": "code",
   "execution_count": null,
   "metadata": {},
   "outputs": [
    {
     "name": "stdout",
     "output_type": "stream",
     "text": [
      "[np.float64(3.225317594154863), np.float64(1.20019222042771), np.float64(1.1556052262786836), np.float64(0.569475045824097), np.float64(0.6041039979755715)]\n",
      "[np.float64(1.8323129316205036), np.float64(0.1183567487219799), np.float64(0.44011750800878735), np.float64(0.13057105724065), np.float64(0.07977804165399471)]\n"
     ]
    }
   ],
   "source": [
    "means_bootstraps_usgan_less_than_65_subgroup,standards_deviations_usgan_less_than_65_subgroup = toolkits.calc_mean_and_standard_deviation(results_bootstrap_usgan_less_than_65_subgroup)\n",
    "\n",
    "print(means_bootstraps_usgan_less_than_65_subgroup)\n",
    "print(standards_deviations_usgan_less_than_65_subgroup)\n"
   ]
  },
  {
   "cell_type": "markdown",
   "metadata": {},
   "source": [
    "#### Calculating lower bound and upper bound"
   ]
  },
  {
   "cell_type": "code",
   "execution_count": null,
   "metadata": {},
   "outputs": [
    {
     "name": "stdout",
     "output_type": "stream",
     "text": [
      "[np.float64(-0.3659497602283266), np.float64(0.9682172556053723), np.float64(0.2929907616159415), np.float64(0.3135604762091052), np.float64(0.4477419095766056)]\n",
      "[np.float64(6.816584948538052), np.float64(1.4321671852500477), np.float64(2.0182196909414256), np.float64(0.8253896154390888), np.float64(0.7604660863745374)]\n"
     ]
    }
   ],
   "source": [
    "lower_bounds_usgan_less_than_65_subgroup, upper_bounds_usgan_less_than_65_subgroup = toolkits.calc_lower_and_upper_bound(results_bootstrap_usgan_less_than_65_subgroup, means_bootstraps_usgan_less_than_65_subgroup, standards_deviations_usgan_less_than_65_subgroup)\n",
    "\n",
    "print(lower_bounds_usgan_less_than_65_subgroup)\n",
    "print(upper_bounds_usgan_less_than_65_subgroup)"
   ]
  },
  {
   "cell_type": "code",
   "execution_count": null,
   "metadata": {},
   "outputs": [
    {
     "name": "stdout",
     "output_type": "stream",
     "text": [
      "[np.float64(0.0), np.float64(0.9482049976927617), np.float64(0.4815596373488781), np.float64(0.34789332365656317), np.float64(0.46094317985899436)]\n",
      "[np.float64(5.588981827530834), np.float64(1.409402096580033), np.float64(2.1470924734025645), np.float64(0.8643084231459723), np.float64(0.7719838817787542)]\n"
     ]
    }
   ],
   "source": [
    "lower_bounds_usgan_less_than_65_subgroup, upper_bounds_usgan_less_than_65_subgroup = toolkits.calc_lower_and_upper_bound_percentile(results_bootstrap_usgan_less_than_65_subgroup)\n",
    "\n",
    "print(lower_bounds_usgan_less_than_65_subgroup)\n",
    "print(upper_bounds_usgan_less_than_65_subgroup)"
   ]
  },
  {
   "cell_type": "markdown",
   "metadata": {},
   "source": [
    "#### Mean values of lower bound and upper bound"
   ]
  },
  {
   "cell_type": "code",
   "execution_count": null,
   "metadata": {},
   "outputs": [
    {
     "name": "stdout",
     "output_type": "stream",
     "text": [
      "[np.float64(2.794490913765417), np.float64(1.1788035471363973), np.float64(1.3143260553757212), np.float64(0.6061008734012677), np.float64(0.6164635308188743)]\n"
     ]
    }
   ],
   "source": [
    "mean_values_ci_usgan_less_than_65_subgroup  = toolkits.calc_mean_values_ci(lower_bounds_usgan_less_than_65_subgroup, upper_bounds_usgan_less_than_65_subgroup)\n",
    "\n",
    "print(mean_values_ci_usgan_less_than_65_subgroup)"
   ]
  },
  {
   "cell_type": "markdown",
   "metadata": {},
   "source": [
    "### Confidence Interval (ICUType 1 subgroup)"
   ]
  },
  {
   "cell_type": "markdown",
   "metadata": {},
   "source": [
    "#### Distribution Bootstrap for the Top 5 variables with Largest Differences in MAE (Mean Absolute Error) "
   ]
  },
  {
   "cell_type": "code",
   "execution_count": null,
   "metadata": {},
   "outputs": [],
   "source": [
    "indices = [28, 31, 6, 0, 32, 24]\n",
    "\n",
    "results_bootstrap_usgan_ICUType_1_subgroup = []\n",
    "\n",
    "for i in indices:\n",
    "       results_bootstrap_usgan_ICUType_1_subgroup.append(toolkits.bootstrap_v2(testing_ae_usgan_variables_standard, indicating_mask_variable_standard_norm, 6, i, 9000))\n",
    "\n"
   ]
  },
  {
   "cell_type": "markdown",
   "metadata": {},
   "source": [
    "#### Calculating the mean and standard deviation of the bootstrap distribution"
   ]
  },
  {
   "cell_type": "code",
   "execution_count": null,
   "metadata": {},
   "outputs": [
    {
     "name": "stdout",
     "output_type": "stream",
     "text": [
      "[np.float64(1.969871597812144), np.float64(2.3676683028385983), np.float64(0.2523486811328111), np.float64(0.5596005919406728), np.float64(0.7458173996840364)]\n",
      "[np.float64(0.3423238479681623), np.float64(0.5261676094824145), np.float64(0.04331120976644776), np.float64(0.17453562287196972), np.float64(0.11562132472621121)]\n"
     ]
    }
   ],
   "source": [
    "means_bootstraps_usgan_ICUType_1_subgroup, standards_deviations_usgan_ICUType_1_subgroup = toolkits.calc_mean_and_standard_deviation(results_bootstrap_usgan_ICUType_1_subgroup)\n",
    "\n",
    "print(means_bootstraps_usgan_ICUType_1_subgroup)\n",
    "print(standards_deviations_usgan_ICUType_1_subgroup)\n"
   ]
  },
  {
   "cell_type": "markdown",
   "metadata": {},
   "source": [
    "#### Calculating lower bound and upper bound"
   ]
  },
  {
   "cell_type": "code",
   "execution_count": null,
   "metadata": {},
   "outputs": [
    {
     "name": "stdout",
     "output_type": "stream",
     "text": [
      "[np.float64(1.298929184745381), np.float64(1.3363987384215301), np.float64(0.16746026986371404), np.float64(0.2175170570923468), np.float64(0.5192037673758519)]\n",
      "[np.float64(2.640814010878907), np.float64(3.3989378672556665), np.float64(0.3372370924019082), np.float64(0.9016841267889988), np.float64(0.9724310319922208)]\n"
     ]
    }
   ],
   "source": [
    "lower_bounds_usgan_ICUType_1_subgroup, upper_bounds_usgan_ICUType_1_subgroup = toolkits.calc_lower_and_upper_bound(results_bootstrap_usgan_ICUType_1_subgroup, means_bootstraps_usgan_ICUType_1_subgroup, standards_deviations_usgan_ICUType_1_subgroup)\n",
    "\n",
    "print(lower_bounds_usgan_ICUType_1_subgroup)\n",
    "print(upper_bounds_usgan_ICUType_1_subgroup)"
   ]
  },
  {
   "cell_type": "code",
   "execution_count": null,
   "metadata": {},
   "outputs": [
    {
     "name": "stdout",
     "output_type": "stream",
     "text": [
      "[np.float64(1.3031627380681403), np.float64(1.465985393678674), np.float64(0.17499983514773637), np.float64(0.3213709315103343), np.float64(0.536055047520922)]\n",
      "[np.float64(2.651869332243632), np.float64(3.4981248221816084), np.float64(0.3440748089407272), np.float64(0.9738938630764534), np.float64(0.9856625744890138)]\n"
     ]
    }
   ],
   "source": [
    "lower_bounds_usgan_ICUType_1_subgroup, upper_bounds_usgan_ICUType_1_subgroup = toolkits.calc_lower_and_upper_bound_percentile(results_bootstrap_usgan_ICUType_1_subgroup)\n",
    "\n",
    "print(lower_bounds_usgan_ICUType_1_subgroup)\n",
    "print(upper_bounds_usgan_ICUType_1_subgroup)"
   ]
  },
  {
   "cell_type": "markdown",
   "metadata": {},
   "source": [
    "#### Mean values of lower bound and upper bound"
   ]
  },
  {
   "cell_type": "code",
   "execution_count": null,
   "metadata": {},
   "outputs": [
    {
     "name": "stdout",
     "output_type": "stream",
     "text": [
      "[np.float64(1.9775160351558863), np.float64(2.482055107930141), np.float64(0.25953732204423174), np.float64(0.6476323972933938), np.float64(0.7608588110049679)]\n"
     ]
    }
   ],
   "source": [
    "mean_values_ci_usgan_ICUType_1_subgroup  = toolkits.calc_mean_values_ci(lower_bounds_usgan_ICUType_1_subgroup, upper_bounds_usgan_ICUType_1_subgroup)\n",
    "\n",
    "print(mean_values_ci_usgan_ICUType_1_subgroup)"
   ]
  },
  {
   "cell_type": "markdown",
   "metadata": {},
   "source": [
    "### Confidence Interval (ICUType 2 subgroup)"
   ]
  },
  {
   "cell_type": "markdown",
   "metadata": {},
   "source": [
    "#### Distribution Bootstrap for the Top 5 variables with Largest Differences in MAE (Mean Absolute Error) "
   ]
  },
  {
   "cell_type": "code",
   "execution_count": null,
   "metadata": {},
   "outputs": [],
   "source": [
    "indices = [28, 31, 6, 0, 32, 24]\n",
    "\n",
    "results_bootstrap_usgan_ICUType_2_subgroup = []\n",
    "\n",
    "for i in indices:\n",
    "       results_bootstrap_usgan_ICUType_2_subgroup.append(toolkits.bootstrap_v2(testing_ae_usgan_variables_standard, indicating_mask_variable_standard_norm, 7, i, 9000))\n",
    "\n"
   ]
  },
  {
   "cell_type": "markdown",
   "metadata": {},
   "source": [
    "#### Calculating the mean and standard deviation of the bootstrap distribution"
   ]
  },
  {
   "cell_type": "code",
   "execution_count": null,
   "metadata": {},
   "outputs": [
    {
     "name": "stdout",
     "output_type": "stream",
     "text": [
      "[np.float64(0.0), np.float64(2.590797588030485), np.float64(0.23274430781656597), np.float64(0.6418400993401857), np.float64(0.43159246622787867)]\n",
      "[np.float64(0.0), np.float64(0.2738668122740247), np.float64(0.043792901603823924), np.float64(0.32173876707404403), np.float64(0.09300144922232004)]\n"
     ]
    }
   ],
   "source": [
    "means_bootstraps_usgan_ICUType_2_subgroup, standards_deviations_usgan_ICUType_2_subgroup = toolkits.calc_mean_and_standard_deviation(results_bootstrap_usgan_ICUType_2_subgroup)\n",
    "\n",
    "print(means_bootstraps_usgan_ICUType_2_subgroup)\n",
    "print(standards_deviations_usgan_ICUType_2_subgroup)\n"
   ]
  },
  {
   "cell_type": "markdown",
   "metadata": {},
   "source": [
    "#### Calculating lower bound and upper bound"
   ]
  },
  {
   "cell_type": "code",
   "execution_count": null,
   "metadata": {},
   "outputs": [
    {
     "name": "stdout",
     "output_type": "stream",
     "text": [
      "[np.float64(0.0), np.float64(2.0540284994126043), np.float64(0.1469117978945647), np.float64(0.011243703444738018), np.float64(0.24931297524210078)]\n",
      "[np.float64(0.0), np.float64(3.1275666766483656), np.float64(0.3185768177385672), np.float64(1.2724364952356333), np.float64(0.6138719572136566)]\n"
     ]
    }
   ],
   "source": [
    "lower_bounds_usgan_ICUType_2_subgroup, upper_bounds_usgan_ICUType_2_subgroup = toolkits.calc_lower_and_upper_bound(results_bootstrap_usgan_ICUType_2_subgroup, means_bootstraps_usgan_ICUType_2_subgroup, standards_deviations_usgan_ICUType_2_subgroup)\n",
    "\n",
    "print(lower_bounds_usgan_ICUType_2_subgroup)\n",
    "print(upper_bounds_usgan_ICUType_2_subgroup)"
   ]
  },
  {
   "cell_type": "code",
   "execution_count": null,
   "metadata": {},
   "outputs": [
    {
     "name": "stdout",
     "output_type": "stream",
     "text": [
      "[np.float64(0.0), np.float64(2.206764978757124), np.float64(0.15108772752516886), np.float64(0.2932308055904985), np.float64(0.2526191046289952)]\n",
      "[np.float64(0.0), np.float64(2.9590725029529943), np.float64(0.3244996368151167), np.float64(1.3661365312260427), np.float64(0.6190836468529262)]\n"
     ]
    }
   ],
   "source": [
    "lower_bounds_usgan_ICUType_2_subgroup, upper_bounds_usgan_ICUType_2_subgroup = toolkits.calc_lower_and_upper_bound_percentile(results_bootstrap_usgan_ICUType_2_subgroup)\n",
    "\n",
    "print(lower_bounds_usgan_ICUType_2_subgroup)\n",
    "print(upper_bounds_usgan_ICUType_2_subgroup)"
   ]
  },
  {
   "cell_type": "markdown",
   "metadata": {},
   "source": [
    "#### Mean values of lower bound and upper bound"
   ]
  },
  {
   "cell_type": "code",
   "execution_count": null,
   "metadata": {},
   "outputs": [
    {
     "name": "stdout",
     "output_type": "stream",
     "text": [
      "[np.float64(0.0), np.float64(2.5829187408550593), np.float64(0.23779368217014277), np.float64(0.8296836684082707), np.float64(0.43585137574096067)]\n"
     ]
    }
   ],
   "source": [
    "mean_values_ci_usgan_ICUType_2_subgroup  = toolkits.calc_mean_values_ci(lower_bounds_usgan_ICUType_2_subgroup, upper_bounds_usgan_ICUType_2_subgroup)\n",
    "\n",
    "print(mean_values_ci_usgan_ICUType_2_subgroup)"
   ]
  },
  {
   "cell_type": "markdown",
   "metadata": {},
   "source": [
    "### Confidence Interval (ICUType 3 subgroup)"
   ]
  },
  {
   "cell_type": "markdown",
   "metadata": {},
   "source": [
    "#### Distribution Bootstrap for the Top 5 variables with Largest Differences in MAE (Mean Absolute Error) "
   ]
  },
  {
   "cell_type": "code",
   "execution_count": null,
   "metadata": {},
   "outputs": [],
   "source": [
    "indices = [28, 31, 6, 0, 32, 24]\n",
    "\n",
    "results_bootstrap_usgan_ICUType_3_subgroup = []\n",
    "\n",
    "for i in indices:\n",
    "       results_bootstrap_usgan_ICUType_3_subgroup.append(toolkits.bootstrap_v2(testing_ae_usgan_variables_standard, indicating_mask_variable_standard_norm, 8, i, 9000))\n",
    "\n"
   ]
  },
  {
   "cell_type": "markdown",
   "metadata": {},
   "source": [
    "#### Calculating the mean and standard deviation of the bootstrap distribution"
   ]
  },
  {
   "cell_type": "code",
   "execution_count": null,
   "metadata": {},
   "outputs": [
    {
     "name": "stdout",
     "output_type": "stream",
     "text": [
      "[np.float64(2.638459020641269), np.float64(1.3077305771955074), np.float64(1.2067516011716777), np.float64(1.514706833854234), np.float64(0.3485654500010878)]\n",
      "[np.float64(0.8708552536368372), np.float64(0.18664261261884646), np.float64(0.45216644752008617), np.float64(0.424133988411211), np.float64(0.035573694579512774)]\n"
     ]
    }
   ],
   "source": [
    "means_bootstraps_usgan_ICUType_3_subgroup, standards_deviations_usgan_ICUType_3_subgroup = toolkits.calc_mean_and_standard_deviation(results_bootstrap_usgan_ICUType_3_subgroup)\n",
    "\n",
    "print(means_bootstraps_usgan_ICUType_3_subgroup)\n",
    "print(standards_deviations_usgan_ICUType_3_subgroup)\n"
   ]
  },
  {
   "cell_type": "markdown",
   "metadata": {},
   "source": [
    "#### Calculating lower bound and upper bound"
   ]
  },
  {
   "cell_type": "code",
   "execution_count": null,
   "metadata": {},
   "outputs": [
    {
     "name": "stdout",
     "output_type": "stream",
     "text": [
      "[np.float64(0.9316140877655739), np.float64(0.9419177784821073), np.float64(0.32052164901488833), np.float64(0.6834194919489317), np.float64(0.278842289828215)]\n",
      "[np.float64(4.3453039535169635), np.float64(1.6735433759089076), np.float64(2.092981553328467), np.float64(2.3459941757595364), np.float64(0.4182886101739606)]\n"
     ]
    }
   ],
   "source": [
    "lower_bounds_usgan_ICUType_3_subgroup, upper_bounds_usgan_ICUType_3_subgroup = toolkits.calc_lower_and_upper_bound(results_bootstrap_usgan_ICUType_3_subgroup, means_bootstraps_usgan_ICUType_3_subgroup, standards_deviations_usgan_ICUType_3_subgroup)\n",
    "\n",
    "print(lower_bounds_usgan_ICUType_3_subgroup)\n",
    "print(upper_bounds_usgan_ICUType_3_subgroup)"
   ]
  },
  {
   "cell_type": "code",
   "execution_count": null,
   "metadata": {},
   "outputs": [
    {
     "name": "stdout",
     "output_type": "stream",
     "text": [
      "[np.float64(0.34585239975461424), np.float64(0.9436379608808099), np.float64(0.5096642242756344), np.float64(0.7619652050134906), np.float64(0.2826252559261122)]\n",
      "[np.float64(4.104556110989548), np.float64(1.6808424416961543), np.float64(2.2224704663916817), np.float64(2.4089454303397533), np.float64(0.42087910960409913)]\n"
     ]
    }
   ],
   "source": [
    "lower_bounds_usgan_ICUType_3_subgroup, upper_bounds_usgan_ICUType_3_subgroup = toolkits.calc_lower_and_upper_bound_percentile(results_bootstrap_usgan_ICUType_3_subgroup)\n",
    "\n",
    "print(lower_bounds_usgan_ICUType_3_subgroup)\n",
    "print(upper_bounds_usgan_ICUType_3_subgroup)"
   ]
  },
  {
   "cell_type": "markdown",
   "metadata": {},
   "source": [
    "#### Mean values of lower bound and upper bound"
   ]
  },
  {
   "cell_type": "code",
   "execution_count": null,
   "metadata": {},
   "outputs": [
    {
     "name": "stdout",
     "output_type": "stream",
     "text": [
      "[np.float64(2.225204255372081), np.float64(1.312240201288482), np.float64(1.366067345333658), np.float64(1.585455317676622), np.float64(0.35175218276510567)]\n"
     ]
    }
   ],
   "source": [
    "mean_values_ci_usgan_ICUType_3_subgroup  = toolkits.calc_mean_values_ci(lower_bounds_usgan_ICUType_3_subgroup, upper_bounds_usgan_ICUType_3_subgroup)\n",
    "\n",
    "print(mean_values_ci_usgan_ICUType_3_subgroup)"
   ]
  },
  {
   "cell_type": "markdown",
   "metadata": {},
   "source": [
    "### Confidence Interval (ICUType 4 subgroup)"
   ]
  },
  {
   "cell_type": "markdown",
   "metadata": {},
   "source": [
    "#### Distribution Bootstrap for the Top 5 variables with Largest Differences in MAE (Mean Absolute Error) "
   ]
  },
  {
   "cell_type": "code",
   "execution_count": null,
   "metadata": {},
   "outputs": [],
   "source": [
    "indices = [28, 31, 6, 0, 32, 24]\n",
    "\n",
    "results_bootstrap_usgan_ICUType_4_subgroup = []\n",
    "\n",
    "for i in indices:\n",
    "       results_bootstrap_usgan_ICUType_4_subgroup.append(toolkits.bootstrap_v2(testing_ae_usgan_variables_standard, indicating_mask_variable_standard_norm, 9, i, 9000))\n",
    "\n"
   ]
  },
  {
   "cell_type": "markdown",
   "metadata": {},
   "source": [
    "#### Calculating the mean and standard deviation of the bootstrap distribution"
   ]
  },
  {
   "cell_type": "code",
   "execution_count": null,
   "metadata": {},
   "outputs": [
    {
     "name": "stdout",
     "output_type": "stream",
     "text": [
      "[np.float64(2.410112355451811), np.float64(1.4854589866266972), np.float64(0.511271837947904), np.float64(0.4778724768350977), np.float64(0.30802591708887417)]\n",
      "[np.float64(0.4328661857164766), np.float64(0.6234774392830332), np.float64(0.08542946698184836), np.float64(0.07328044561798011), np.float64(0.04044433612915916)]\n"
     ]
    }
   ],
   "source": [
    "means_bootstraps_usgan_ICUType_4_subgroup, standards_deviations_usgan_ICUType_4_subgroup = toolkits.calc_mean_and_standard_deviation(results_bootstrap_usgan_ICUType_4_subgroup)\n",
    "\n",
    "print(means_bootstraps_usgan_ICUType_4_subgroup)\n",
    "print(standards_deviations_usgan_ICUType_4_subgroup)\n"
   ]
  },
  {
   "cell_type": "markdown",
   "metadata": {},
   "source": [
    "#### Calculating lower bound and upper bound"
   ]
  },
  {
   "cell_type": "code",
   "execution_count": null,
   "metadata": {},
   "outputs": [
    {
     "name": "stdout",
     "output_type": "stream",
     "text": [
      "[np.float64(1.5617102213222904), np.float64(0.2634656604586938), np.float64(0.34383315944502746), np.float64(0.33424544265281064), np.float64(0.2287564748970901)]\n",
      "[np.float64(3.2585144895813314), np.float64(2.7074523127947003), np.float64(0.6787105164507805), np.float64(0.6214995110173848), np.float64(0.3872953592806582)]\n"
     ]
    }
   ],
   "source": [
    "lower_bounds_usgan_ICUType_4_subgroup, upper_bounds_usgan_ICUType_4_subgroup = toolkits.calc_lower_and_upper_bound(results_bootstrap_usgan_ICUType_4_subgroup, means_bootstraps_usgan_ICUType_4_subgroup, standards_deviations_usgan_ICUType_4_subgroup)\n",
    "\n",
    "print(lower_bounds_usgan_ICUType_4_subgroup)\n",
    "print(upper_bounds_usgan_ICUType_4_subgroup)"
   ]
  },
  {
   "cell_type": "code",
   "execution_count": null,
   "metadata": {},
   "outputs": [
    {
     "name": "stdout",
     "output_type": "stream",
     "text": [
      "[np.float64(1.6095033807737984), np.float64(0.2032850750806556), np.float64(0.3570144472366515), np.float64(0.3507129401966817), np.float64(0.22846375904233956)]\n",
      "[np.float64(3.2952410498193156), np.float64(3.0892252334427197), np.float64(0.6891759488794426), np.float64(0.6387310934261473), np.float64(0.38788499340192834)]\n"
     ]
    }
   ],
   "source": [
    "lower_bounds_usgan_ICUType_4_subgroup, upper_bounds_usgan_ICUType_4_subgroup = toolkits.calc_lower_and_upper_bound_percentile(results_bootstrap_usgan_ICUType_4_subgroup)\n",
    "\n",
    "print(lower_bounds_usgan_ICUType_4_subgroup)\n",
    "print(upper_bounds_usgan_ICUType_4_subgroup)"
   ]
  },
  {
   "cell_type": "markdown",
   "metadata": {},
   "source": [
    "#### Mean values of lower bound and upper bound"
   ]
  },
  {
   "cell_type": "code",
   "execution_count": null,
   "metadata": {},
   "outputs": [
    {
     "name": "stdout",
     "output_type": "stream",
     "text": [
      "[np.float64(2.452372215296557), np.float64(1.6462551542616877), np.float64(0.523095198058047), np.float64(0.4947220168114145), np.float64(0.30817437622213395)]\n"
     ]
    }
   ],
   "source": [
    "mean_values_ci_usgan_ICUType_4_subgroup  = toolkits.calc_mean_values_ci(lower_bounds_usgan_ICUType_4_subgroup, upper_bounds_usgan_ICUType_4_subgroup)\n",
    "\n",
    "print(mean_values_ci_usgan_ICUType_4_subgroup)"
   ]
  },
  {
   "cell_type": "markdown",
   "metadata": {},
   "source": [
    "### Confidence Interval (Undefined classification subgroup)"
   ]
  },
  {
   "cell_type": "markdown",
   "metadata": {},
   "source": [
    "#### Distribution Bootstrap for the Top 5 variables with Largest Differences in MAE (Mean Absolute Error) "
   ]
  },
  {
   "cell_type": "code",
   "execution_count": null,
   "metadata": {},
   "outputs": [],
   "source": [
    "indices = [32, 0, 6, 31, 5, 1, 35]\n",
    "\n",
    "results_bootstrap_usgan_undefined_classification_subgroup = []\n",
    "\n",
    "for i in indices:\n",
    "       results_bootstrap_usgan_undefined_classification_subgroup.append(toolkits.bootstrap_v2(testing_ae_usgan_variables_standard, indicating_mask_variable_standard_norm, 10, i, 9000))\n",
    "\n"
   ]
  },
  {
   "cell_type": "markdown",
   "metadata": {},
   "source": [
    "#### Calculating the mean and standard deviation of the bootstrap distribution"
   ]
  },
  {
   "cell_type": "code",
   "execution_count": null,
   "metadata": {},
   "outputs": [
    {
     "name": "stdout",
     "output_type": "stream",
     "text": [
      "[np.float64(1.8633611646719113), np.float64(1.3648697644480443), np.float64(0.4309562068509655), np.float64(0.3795004656085497), np.float64(0.5879890600583709)]\n",
      "[np.float64(0.2629785629509782), np.float64(0.1799536224861461), np.float64(0.05950892548445381), np.float64(0.0401617233008771), np.float64(0.1097447477015649)]\n"
     ]
    }
   ],
   "source": [
    "means_bootstraps_usgan_undefined_classification_subgroup, standards_deviations_usgan_undefined_classification_subgroup = toolkits.calc_mean_and_standard_deviation(results_bootstrap_usgan_undefined_classification_subgroup)\n",
    "\n",
    "print(means_bootstraps_usgan_undefined_classification_subgroup)\n",
    "print(standards_deviations_usgan_undefined_classification_subgroup)\n"
   ]
  },
  {
   "cell_type": "markdown",
   "metadata": {},
   "source": [
    "#### Calculating lower bound and upper bound"
   ]
  },
  {
   "cell_type": "code",
   "execution_count": null,
   "metadata": {},
   "outputs": [
    {
     "name": "stdout",
     "output_type": "stream",
     "text": [
      "[np.float64(1.3479326525818944), np.float64(1.0121671454876808), np.float64(0.31432085614275823), np.float64(0.3007849343817675), np.float64(0.3728933070708689)]\n",
      "[np.float64(2.378789676761928), np.float64(1.7175723834084078), np.float64(0.5475915575591728), np.float64(0.45821599683533193), np.float64(0.803084813045873)]\n"
     ]
    }
   ],
   "source": [
    "lower_bounds_usgan_undefined_classification_subgroup, upper_bounds_usgan_undefined_classification_subgroup = toolkits.calc_lower_and_upper_bound(results_bootstrap_usgan_undefined_classification_subgroup, means_bootstraps_usgan_undefined_classification_subgroup, standards_deviations_usgan_undefined_classification_subgroup)\n",
    "\n",
    "print(lower_bounds_usgan_undefined_classification_subgroup)\n",
    "print(upper_bounds_usgan_undefined_classification_subgroup)"
   ]
  },
  {
   "cell_type": "code",
   "execution_count": null,
   "metadata": {},
   "outputs": [
    {
     "name": "stdout",
     "output_type": "stream",
     "text": [
      "[np.float64(1.350010606042941), np.float64(1.0209379525980362), np.float64(0.32230680246103255), np.float64(0.3107327182106672), np.float64(0.41380365681143066)]\n",
      "[np.float64(2.373009597445674), np.float64(1.7117142060344472), np.float64(0.554778879554793), np.float64(0.46649491723393854), np.float64(0.8388898663345923)]\n"
     ]
    }
   ],
   "source": [
    "lower_bounds_usgan_undefined_classification_subgroup, upper_bounds_usgan_undefined_classification_subgroup = toolkits.calc_lower_and_upper_bound_percentile(results_bootstrap_usgan_undefined_classification_subgroup)\n",
    "\n",
    "print(lower_bounds_usgan_undefined_classification_subgroup)\n",
    "print(upper_bounds_usgan_undefined_classification_subgroup)"
   ]
  },
  {
   "cell_type": "markdown",
   "metadata": {},
   "source": [
    "#### Mean values of lower bound and upper bound"
   ]
  },
  {
   "cell_type": "code",
   "execution_count": null,
   "metadata": {},
   "outputs": [
    {
     "name": "stdout",
     "output_type": "stream",
     "text": [
      "[np.float64(1.8615101017443076), np.float64(1.3663260793162417), np.float64(0.43854284100791274), np.float64(0.38861381772230286), np.float64(0.6263467615730115)]\n"
     ]
    }
   ],
   "source": [
    "mean_values_ci_usgan_undefined_classification_subgroup  = toolkits.calc_mean_values_ci(lower_bounds_usgan_undefined_classification_subgroup, upper_bounds_usgan_undefined_classification_subgroup)\n",
    "\n",
    "print(mean_values_ci_usgan_undefined_classification_subgroup)"
   ]
  },
  {
   "cell_type": "markdown",
   "metadata": {},
   "source": [
    "### Confidence Interval (Low weight classification subgroup)"
   ]
  },
  {
   "cell_type": "markdown",
   "metadata": {},
   "source": [
    "#### Distribution Bootstrap for the Top 5 variables with Largest Differences in MAE (Mean Absolute Error) "
   ]
  },
  {
   "cell_type": "code",
   "execution_count": null,
   "metadata": {},
   "outputs": [],
   "source": [
    "indices = [32, 0, 6, 31, 5, 1, 35]\n",
    "\n",
    "results_bootstrap_usgan_low_weight_classification_subgroup = []\n",
    "\n",
    "for i in indices:\n",
    "       results_bootstrap_usgan_low_weight_classification_subgroup.append(toolkits.bootstrap_v2(testing_ae_usgan_variables_standard, indicating_mask_variable_standard_norm, 11, i, 9000))\n",
    "\n"
   ]
  },
  {
   "cell_type": "markdown",
   "metadata": {},
   "source": [
    "#### Calculating the mean and standard deviation of the bootstrap distribution"
   ]
  },
  {
   "cell_type": "code",
   "execution_count": null,
   "metadata": {},
   "outputs": [
    {
     "name": "stdout",
     "output_type": "stream",
     "text": [
      "[np.float64(1.7944999186435053), np.float64(0.0), np.float64(2.0705590744293545), np.float64(0.32734451188885255), np.float64(1.6036430213262178)]\n",
      "[np.float64(1.3559519622669247), np.float64(0.0), np.float64(1.3236938821533002), np.float64(0.25211953106672513), np.float64(1.075376930577923)]\n"
     ]
    }
   ],
   "source": [
    "means_bootstraps_usgan_low_weight_classification_subgroup, standards_deviations_usgan_low_weight_classification_subgroup = toolkits.calc_mean_and_standard_deviation(results_bootstrap_usgan_low_weight_classification_subgroup)\n",
    "\n",
    "print(means_bootstraps_usgan_low_weight_classification_subgroup)\n",
    "print(standards_deviations_usgan_low_weight_classification_subgroup)\n"
   ]
  },
  {
   "cell_type": "markdown",
   "metadata": {},
   "source": [
    "#### Calculating lower bound and upper bound"
   ]
  },
  {
   "cell_type": "code",
   "execution_count": null,
   "metadata": {},
   "outputs": [
    {
     "name": "stdout",
     "output_type": "stream",
     "text": [
      "[np.float64(-0.8631170921660813), np.float64(0.0), np.float64(-0.5238332611471206), np.float64(-0.16680068880105597), np.float64(-0.5040570324117415)]\n",
      "[np.float64(4.4521169294530925), np.float64(0.0), np.float64(4.66495141000583), np.float64(0.821489712578761), np.float64(3.7113430750641774)]\n"
     ]
    }
   ],
   "source": [
    "lower_bounds_usgan_low_weight_classification_subgroup, upper_bounds_usgan_low_weight_classification_subgroup = toolkits.calc_lower_and_upper_bound(results_bootstrap_usgan_low_weight_classification_subgroup, means_bootstraps_usgan_low_weight_classification_subgroup, standards_deviations_usgan_low_weight_classification_subgroup)\n",
    "\n",
    "print(lower_bounds_usgan_low_weight_classification_subgroup)\n",
    "print(upper_bounds_usgan_low_weight_classification_subgroup)"
   ]
  },
  {
   "cell_type": "code",
   "execution_count": null,
   "metadata": {},
   "outputs": [
    {
     "name": "stdout",
     "output_type": "stream",
     "text": [
      "[np.float64(0.0), np.float64(0.0), np.float64(0.0), np.float64(0.0), np.float64(0.27546796727308465)]\n",
      "[np.float64(2.8190782453828946), np.float64(0.0), np.float64(3.8852331187690905), np.float64(0.5215260412464068), np.float64(4.0836010101688975)]\n"
     ]
    }
   ],
   "source": [
    "lower_bounds_usgan_low_weight_classification_subgroup, upper_bounds_usgan_low_weight_classification_subgroup = toolkits.calc_lower_and_upper_bound_percentile(results_bootstrap_usgan_low_weight_classification_subgroup)\n",
    "\n",
    "print(lower_bounds_usgan_low_weight_classification_subgroup)\n",
    "print(upper_bounds_usgan_low_weight_classification_subgroup)"
   ]
  },
  {
   "cell_type": "markdown",
   "metadata": {},
   "source": [
    "#### Mean values of lower bound and upper bound"
   ]
  },
  {
   "cell_type": "code",
   "execution_count": null,
   "metadata": {},
   "outputs": [
    {
     "name": "stdout",
     "output_type": "stream",
     "text": [
      "[np.float64(1.4095391226914473), np.float64(0.0), np.float64(1.9426165593845452), np.float64(0.2607630206232034), np.float64(2.179534488720991)]\n"
     ]
    }
   ],
   "source": [
    "mean_values_ci_usgan_low_weight_classification_subgroup  = toolkits.calc_mean_values_ci(lower_bounds_usgan_low_weight_classification_subgroup, upper_bounds_usgan_low_weight_classification_subgroup)\n",
    "\n",
    "print(mean_values_ci_usgan_low_weight_classification_subgroup)"
   ]
  },
  {
   "cell_type": "markdown",
   "metadata": {},
   "source": [
    "### Confidence Interval (Normal weight classification subgroup)"
   ]
  },
  {
   "cell_type": "markdown",
   "metadata": {},
   "source": [
    "#### Distribution Bootstrap for the Top 5 variables with Largest Differences in MAE (Mean Absolute Error) "
   ]
  },
  {
   "cell_type": "code",
   "execution_count": null,
   "metadata": {},
   "outputs": [],
   "source": [
    "indices = [32, 0, 6, 31, 5, 1, 35]\n",
    "\n",
    "results_bootstrap_usgan_normal_weight_classification_subgroup = []\n",
    "\n",
    "for i in indices:\n",
    "       results_bootstrap_usgan_normal_weight_classification_subgroup.append(toolkits.bootstrap_v2(testing_ae_usgan_variables_standard, indicating_mask_variable_standard_norm, 12, i, 9000))\n",
    "\n"
   ]
  },
  {
   "cell_type": "markdown",
   "metadata": {},
   "source": [
    "#### Calculating the mean and standard deviation of the bootstrap distribution"
   ]
  },
  {
   "cell_type": "code",
   "execution_count": null,
   "metadata": {},
   "outputs": [
    {
     "name": "stdout",
     "output_type": "stream",
     "text": [
      "[np.float64(2.9310843655917926), np.float64(2.181378781514663), np.float64(0.5338894428943264), np.float64(0.3672681202995015), np.float64(0.6224596631587035)]\n",
      "[np.float64(1.20699229323851), np.float64(0.23906545341522484), np.float64(0.13730411739612933), np.float64(0.03730026655694922), np.float64(0.19259621824137446)]\n"
     ]
    }
   ],
   "source": [
    "means_bootstraps_usgan_normal_weight_classification_subgroup, standards_deviations_usgan_normal_weight_classification_subgroup = toolkits.calc_mean_and_standard_deviation(results_bootstrap_usgan_normal_weight_classification_subgroup)\n",
    "\n",
    "print(means_bootstraps_usgan_normal_weight_classification_subgroup)\n",
    "print(standards_deviations_usgan_normal_weight_classification_subgroup)\n"
   ]
  },
  {
   "cell_type": "markdown",
   "metadata": {},
   "source": [
    "#### Calculating lower bound and upper bound"
   ]
  },
  {
   "cell_type": "code",
   "execution_count": null,
   "metadata": {},
   "outputs": [
    {
     "name": "stdout",
     "output_type": "stream",
     "text": [
      "[np.float64(0.5654229412269052), np.float64(1.712819102873084), np.float64(0.2647783178688534), np.float64(0.29416094123413716), np.float64(0.24497801184699336)]\n",
      "[np.float64(5.29674578995668), np.float64(2.6499384601562417), np.float64(0.8030005679197993), np.float64(0.44037529936486586), np.float64(0.9999413144704137)]\n"
     ]
    }
   ],
   "source": [
    "lower_bounds_usgan_normal_weight_classification_subgroup, upper_bounds_usgan_normal_weight_classification_subgroup = toolkits.calc_lower_and_upper_bound(results_bootstrap_usgan_normal_weight_classification_subgroup, means_bootstraps_usgan_normal_weight_classification_subgroup, standards_deviations_usgan_normal_weight_classification_subgroup)\n",
    "\n",
    "print(lower_bounds_usgan_normal_weight_classification_subgroup)\n",
    "print(upper_bounds_usgan_normal_weight_classification_subgroup)"
   ]
  },
  {
   "cell_type": "code",
   "execution_count": null,
   "metadata": {},
   "outputs": [
    {
     "name": "stdout",
     "output_type": "stream",
     "text": [
      "[np.float64(0.0), np.float64(1.7373360832788451), np.float64(0.2994476295652569), np.float64(0.29545333320431416), np.float64(0.32943927736916656)]\n",
      "[np.float64(3.7219816477052636), np.float64(2.680109177430762), np.float64(0.8390208120967145), np.float64(0.4415446955246705), np.float64(1.054182119745126)]\n"
     ]
    }
   ],
   "source": [
    "lower_bounds_usgan_normal_weight_classification_subgroup, upper_bounds_usgan_normal_weight_classification_subgroup = toolkits.calc_lower_and_upper_bound_percentile(results_bootstrap_usgan_normal_weight_classification_subgroup)\n",
    "\n",
    "print(lower_bounds_usgan_normal_weight_classification_subgroup)\n",
    "print(upper_bounds_usgan_normal_weight_classification_subgroup)"
   ]
  },
  {
   "cell_type": "markdown",
   "metadata": {},
   "source": [
    "#### Mean values of lower bound and upper bound"
   ]
  },
  {
   "cell_type": "code",
   "execution_count": null,
   "metadata": {},
   "outputs": [
    {
     "name": "stdout",
     "output_type": "stream",
     "text": [
      "[np.float64(1.8609908238526318), np.float64(2.2087226303548038), np.float64(0.5692342208309857), np.float64(0.36849901436449234), np.float64(0.6918106985571463)]\n"
     ]
    }
   ],
   "source": [
    "mean_values_ci_usgan_normal_weight_classification_subgroup  = toolkits.calc_mean_values_ci(lower_bounds_usgan_normal_weight_classification_subgroup, upper_bounds_usgan_normal_weight_classification_subgroup)\n",
    "\n",
    "print(mean_values_ci_usgan_normal_weight_classification_subgroup)"
   ]
  },
  {
   "cell_type": "markdown",
   "metadata": {},
   "source": [
    "### Confidence Interval (Overweight classification subgroup)"
   ]
  },
  {
   "cell_type": "markdown",
   "metadata": {},
   "source": [
    "#### Distribution Bootstrap for the Top 5 variables with Largest Differences in MAE (Mean Absolute Error) "
   ]
  },
  {
   "cell_type": "code",
   "execution_count": null,
   "metadata": {},
   "outputs": [],
   "source": [
    "indices = [32, 0, 6, 31, 5, 1, 35]\n",
    "\n",
    "results_bootstrap_usgan_overweight_classification_subgroup = []\n",
    "\n",
    "for i in indices:\n",
    "       results_bootstrap_usgan_overweight_classification_subgroup.append(toolkits.bootstrap_v2(testing_ae_usgan_variables_standard, indicating_mask_variable_standard_norm, 13, i, 9000))\n",
    "\n"
   ]
  },
  {
   "cell_type": "markdown",
   "metadata": {},
   "source": [
    "#### Calculating the mean and standard deviation of the bootstrap distribution"
   ]
  },
  {
   "cell_type": "code",
   "execution_count": null,
   "metadata": {},
   "outputs": [
    {
     "name": "stdout",
     "output_type": "stream",
     "text": [
      "[np.float64(1.075396532203622), np.float64(1.872042179464386), np.float64(0.35999031683120136), np.float64(0.5328450912704701), np.float64(0.4524863069473167)]\n",
      "[np.float64(0.5104058795884194), np.float64(0.8247405396908457), np.float64(0.07920745904875176), np.float64(0.14756959271879605), np.float64(0.057714507927383904)]\n"
     ]
    }
   ],
   "source": [
    "means_bootstraps_usgan_overweight_classification_subgroup, standards_deviations_usgan_overweight_classification_subgroup = toolkits.calc_mean_and_standard_deviation(results_bootstrap_usgan_overweight_classification_subgroup)\n",
    "\n",
    "print(means_bootstraps_usgan_overweight_classification_subgroup)\n",
    "print(standards_deviations_usgan_overweight_classification_subgroup)\n"
   ]
  },
  {
   "cell_type": "markdown",
   "metadata": {},
   "source": [
    "#### Calculating lower bound and upper bound"
   ]
  },
  {
   "cell_type": "code",
   "execution_count": null,
   "metadata": {},
   "outputs": [
    {
     "name": "stdout",
     "output_type": "stream",
     "text": [
      "[np.float64(0.07501939071283248), np.float64(0.2555804250802014), np.float64(0.2047465497887167), np.float64(0.24361400432838565), np.float64(0.3393679500241928)]\n",
      "[np.float64(2.0757736736944117), np.float64(3.4885039338485706), np.float64(0.515234083873686), np.float64(0.8220761782125545), np.float64(0.5656046638704406)]\n"
     ]
    }
   ],
   "source": [
    "lower_bounds_usgan_overweight_classification_subgroup, upper_bounds_usgan_overweight_classification_subgroup = toolkits.calc_lower_and_upper_bound(results_bootstrap_usgan_overweight_classification_subgroup, means_bootstraps_usgan_overweight_classification_subgroup, standards_deviations_usgan_overweight_classification_subgroup)\n",
    "\n",
    "print(lower_bounds_usgan_overweight_classification_subgroup)\n",
    "print(upper_bounds_usgan_overweight_classification_subgroup)"
   ]
  },
  {
   "cell_type": "code",
   "execution_count": null,
   "metadata": {},
   "outputs": [
    {
     "name": "stdout",
     "output_type": "stream",
     "text": [
      "[np.float64(0.06603806011135123), np.float64(0.4136570705153268), np.float64(0.2224299241349029), np.float64(0.29840420932497097), np.float64(0.34302140053056746)]\n",
      "[np.float64(2.124373746769478), np.float64(3.66548434061988), np.float64(0.5314981302169055), np.float64(0.8606951032059154), np.float64(0.5716300933735432)]\n"
     ]
    }
   ],
   "source": [
    "lower_bounds_usgan_overweight_classification_subgroup, upper_bounds_usgan_overweight_classification_subgroup = toolkits.calc_lower_and_upper_bound_percentile(results_bootstrap_usgan_overweight_classification_subgroup)\n",
    "\n",
    "print(lower_bounds_usgan_overweight_classification_subgroup)\n",
    "print(upper_bounds_usgan_overweight_classification_subgroup)"
   ]
  },
  {
   "cell_type": "markdown",
   "metadata": {},
   "source": [
    "#### Mean values of lower bound and upper bound"
   ]
  },
  {
   "cell_type": "code",
   "execution_count": null,
   "metadata": {},
   "outputs": [
    {
     "name": "stdout",
     "output_type": "stream",
     "text": [
      "[np.float64(1.0952059034404147), np.float64(2.0395707055676033), np.float64(0.3769640271759042), np.float64(0.5795496562654432), np.float64(0.4573257469520553)]\n"
     ]
    }
   ],
   "source": [
    "mean_values_ci_usgan_overweight_classification_subgroup  = toolkits.calc_mean_values_ci(lower_bounds_usgan_overweight_classification_subgroup, upper_bounds_usgan_overweight_classification_subgroup)\n",
    "\n",
    "print(mean_values_ci_usgan_overweight_classification_subgroup)"
   ]
  },
  {
   "cell_type": "markdown",
   "metadata": {},
   "source": [
    "### Confidence Interval (Obesity 1 classification subgroup)"
   ]
  },
  {
   "cell_type": "markdown",
   "metadata": {},
   "source": [
    "#### Distribution Bootstrap for the Top 5 variables with Largest Differences in MAE (Mean Absolute Error) "
   ]
  },
  {
   "cell_type": "code",
   "execution_count": null,
   "metadata": {},
   "outputs": [],
   "source": [
    "indices = [32, 0, 6, 31, 5, 1, 35]\n",
    "\n",
    "results_bootstrap_usgan_obs1_classification_subgroup = []\n",
    "\n",
    "for i in indices:\n",
    "       results_bootstrap_usgan_obs1_classification_subgroup.append(toolkits.bootstrap_v2(testing_ae_usgan_variables_standard, indicating_mask_variable_standard_norm, 14, i, 9000))\n",
    "\n"
   ]
  },
  {
   "cell_type": "markdown",
   "metadata": {},
   "source": [
    "#### Calculating the mean and standard deviation of the bootstrap distribution"
   ]
  },
  {
   "cell_type": "code",
   "execution_count": null,
   "metadata": {},
   "outputs": [
    {
     "name": "stdout",
     "output_type": "stream",
     "text": [
      "[np.float64(2.8218407362619407), np.float64(1.6731986326555415), np.float64(0.45443121552758176), np.float64(0.22074965653548329), np.float64(0.4002946698448305)]\n",
      "[np.float64(0.7929785462493167), np.float64(0.8856841702093671), np.float64(0.07805545029024012), np.float64(0.06419008767981105), np.float64(0.08924269231922491)]\n"
     ]
    }
   ],
   "source": [
    "means_bootstraps_usgan_obs1_classification_subgroup, standards_deviations_usgan_obs1_classification_subgroup = toolkits.calc_mean_and_standard_deviation(results_bootstrap_usgan_obs1_classification_subgroup)\n",
    "\n",
    "print(means_bootstraps_usgan_obs1_classification_subgroup)\n",
    "print(standards_deviations_usgan_obs1_classification_subgroup)\n"
   ]
  },
  {
   "cell_type": "markdown",
   "metadata": {},
   "source": [
    "#### Calculating lower bound and upper bound"
   ]
  },
  {
   "cell_type": "code",
   "execution_count": null,
   "metadata": {},
   "outputs": [
    {
     "name": "stdout",
     "output_type": "stream",
     "text": [
      "[np.float64(1.2676313451003502), np.float64(-0.06271044263206105), np.float64(0.3014453441616546), np.float64(0.09493939651858538), np.float64(0.22538220701576034)]\n",
      "[np.float64(4.376050127423531), np.float64(3.4091077079431438), np.float64(0.6074170868935089), np.float64(0.34655991655238116), np.float64(0.5752071326739006)]\n"
     ]
    }
   ],
   "source": [
    "lower_bounds_usgan_obs1_classification_subgroup, upper_bounds_usgan_obs1_classification_subgroup = toolkits.calc_lower_and_upper_bound(results_bootstrap_usgan_obs1_classification_subgroup, means_bootstraps_usgan_obs1_classification_subgroup, standards_deviations_usgan_obs1_classification_subgroup)\n",
    "\n",
    "print(lower_bounds_usgan_obs1_classification_subgroup)\n",
    "print(upper_bounds_usgan_obs1_classification_subgroup)"
   ]
  },
  {
   "cell_type": "code",
   "execution_count": null,
   "metadata": {},
   "outputs": [
    {
     "name": "stdout",
     "output_type": "stream",
     "text": [
      "[np.float64(0.0), np.float64(0.0), np.float64(0.31453742203523133), np.float64(0.1025869189196057), np.float64(0.24021319647968892)]\n",
      "[np.float64(3.550606754912776), np.float64(2.7761612905780666), np.float64(0.6210522778124141), np.float64(0.3528916967255257), np.float64(0.589960853315508)]\n"
     ]
    }
   ],
   "source": [
    "lower_bounds_usgan_obs1_classification_subgroup, upper_bounds_usgan_obs1_classification_subgroup = toolkits.calc_lower_and_upper_bound_percentile(results_bootstrap_usgan_obs1_classification_subgroup)\n",
    "\n",
    "print(lower_bounds_usgan_obs1_classification_subgroup)\n",
    "print(upper_bounds_usgan_obs1_classification_subgroup)"
   ]
  },
  {
   "cell_type": "markdown",
   "metadata": {},
   "source": [
    "#### Mean values of lower bound and upper bound"
   ]
  },
  {
   "cell_type": "code",
   "execution_count": null,
   "metadata": {},
   "outputs": [
    {
     "name": "stdout",
     "output_type": "stream",
     "text": [
      "[np.float64(1.775303377456388), np.float64(1.3880806452890333), np.float64(0.4677948499238227), np.float64(0.2277393078225657), np.float64(0.4150870248975984)]\n"
     ]
    }
   ],
   "source": [
    "mean_values_ci_usgan_obs1_classification_subgroup  = toolkits.calc_mean_values_ci(lower_bounds_usgan_obs1_classification_subgroup, upper_bounds_usgan_obs1_classification_subgroup)\n",
    "\n",
    "print(mean_values_ci_usgan_obs1_classification_subgroup)"
   ]
  },
  {
   "cell_type": "markdown",
   "metadata": {},
   "source": [
    "### Confidence Interval (Obesity 2 classification subgroup)"
   ]
  },
  {
   "cell_type": "markdown",
   "metadata": {},
   "source": [
    "#### Distribution Bootstrap for the Top 5 variables with Largest Differences in MAE (Mean Absolute Error) "
   ]
  },
  {
   "cell_type": "code",
   "execution_count": null,
   "metadata": {},
   "outputs": [],
   "source": [
    "indices = [32, 0, 6, 31, 5, 1, 35]\n",
    "\n",
    "results_bootstrap_usgan_obs2_classification_subgroup = []\n",
    "\n",
    "for i in indices:\n",
    "       results_bootstrap_usgan_obs2_classification_subgroup.append(toolkits.bootstrap_v2(testing_ae_usgan_variables_standard, indicating_mask_variable_standard_norm, 15, i, 9000))\n",
    "\n"
   ]
  },
  {
   "cell_type": "markdown",
   "metadata": {},
   "source": [
    "#### Calculating the mean and standard deviation of the bootstrap distribution"
   ]
  },
  {
   "cell_type": "code",
   "execution_count": null,
   "metadata": {},
   "outputs": [
    {
     "name": "stdout",
     "output_type": "stream",
     "text": [
      "[np.float64(1.5927294863440795), np.float64(0.0), np.float64(0.20749292419050963), np.float64(1.0063747068837194), np.float64(0.47483049339833006)]\n",
      "[np.float64(1.2006026767907316), np.float64(0.0), np.float64(0.05064881389349309), np.float64(0.8248253184585713), np.float64(0.07607719071200844)]\n"
     ]
    }
   ],
   "source": [
    "means_bootstraps_usgan_obs2_classification_subgroup, standards_deviations_usgan_obs2_classification_subgroup = toolkits.calc_mean_and_standard_deviation(results_bootstrap_usgan_obs2_classification_subgroup)\n",
    "\n",
    "print(means_bootstraps_usgan_obs2_classification_subgroup)\n",
    "print(standards_deviations_usgan_obs2_classification_subgroup)\n"
   ]
  },
  {
   "cell_type": "markdown",
   "metadata": {},
   "source": [
    "#### Calculating lower bound and upper bound"
   ]
  },
  {
   "cell_type": "code",
   "execution_count": null,
   "metadata": {},
   "outputs": [
    {
     "name": "stdout",
     "output_type": "stream",
     "text": [
      "[np.float64(-0.7604085199081374), np.float64(0.0), np.float64(0.10822307309959125), np.float64(-0.610253210831861), np.float64(0.32572193955780837)]\n",
      "[np.float64(3.9458674925962964), np.float64(0.0), np.float64(0.30676277528142804), np.float64(2.6230026245993), np.float64(0.6239390472388517)]\n"
     ]
    }
   ],
   "source": [
    "lower_bounds_usgan_obs2_classification_subgroup, upper_bounds_usgan_obs2_classification_subgroup = toolkits.calc_lower_and_upper_bound(results_bootstrap_usgan_obs2_classification_subgroup, means_bootstraps_usgan_obs2_classification_subgroup, standards_deviations_usgan_obs2_classification_subgroup)\n",
    "\n",
    "print(lower_bounds_usgan_obs2_classification_subgroup)\n",
    "print(upper_bounds_usgan_obs2_classification_subgroup)"
   ]
  },
  {
   "cell_type": "code",
   "execution_count": null,
   "metadata": {},
   "outputs": [
    {
     "name": "stdout",
     "output_type": "stream",
     "text": [
      "[np.float64(0.0), np.float64(0.0), np.float64(0.10697553345308664), np.float64(0.0), np.float64(0.32649892024799276)]\n",
      "[np.float64(2.4977461887267776), np.float64(0.0), np.float64(0.3094408687724588), np.float64(2.7938387017906305), np.float64(0.625988375353698)]\n"
     ]
    }
   ],
   "source": [
    "lower_bounds_usgan_obs2_classification_subgroup, upper_bounds_usgan_obs2_classification_subgroup = toolkits.calc_lower_and_upper_bound_percentile(results_bootstrap_usgan_obs2_classification_subgroup)\n",
    "\n",
    "print(lower_bounds_usgan_obs2_classification_subgroup)\n",
    "print(upper_bounds_usgan_obs2_classification_subgroup)"
   ]
  },
  {
   "cell_type": "markdown",
   "metadata": {},
   "source": [
    "#### Mean values of lower bound and upper bound"
   ]
  },
  {
   "cell_type": "code",
   "execution_count": null,
   "metadata": {},
   "outputs": [
    {
     "name": "stdout",
     "output_type": "stream",
     "text": [
      "[np.float64(1.2488730943633888), np.float64(0.0), np.float64(0.20820820111277272), np.float64(1.3969193508953153), np.float64(0.4762436478008454)]\n"
     ]
    }
   ],
   "source": [
    "mean_values_ci_usgan_obs2_classification_subgroup  = toolkits.calc_mean_values_ci(lower_bounds_usgan_obs2_classification_subgroup, upper_bounds_usgan_obs2_classification_subgroup)\n",
    "\n",
    "print(mean_values_ci_usgan_obs2_classification_subgroup)"
   ]
  },
  {
   "cell_type": "markdown",
   "metadata": {},
   "source": [
    "### Confidence Interval (Obesity 3 classification subgroup)"
   ]
  },
  {
   "cell_type": "markdown",
   "metadata": {},
   "source": [
    "#### Distribution Bootstrap for the Top 5 variables with Largest Differences in MAE (Mean Absolute Error) "
   ]
  },
  {
   "cell_type": "code",
   "execution_count": null,
   "metadata": {},
   "outputs": [],
   "source": [
    "indices = [32, 0, 6, 31, 5, 1, 35]\n",
    "\n",
    "results_bootstrap_usgan_obs3_classification_subgroup = []\n",
    "\n",
    "for i in indices:\n",
    "       results_bootstrap_usgan_obs3_classification_subgroup.append(toolkits.bootstrap_v2(testing_ae_usgan_variables_standard, indicating_mask_variable_standard_norm, 16, i, 9000))\n",
    "\n"
   ]
  },
  {
   "cell_type": "markdown",
   "metadata": {},
   "source": [
    "#### Calculating the mean and standard deviation of the bootstrap distribution"
   ]
  },
  {
   "cell_type": "code",
   "execution_count": null,
   "metadata": {},
   "outputs": [
    {
     "name": "stdout",
     "output_type": "stream",
     "text": [
      "[np.float64(0.0), np.float64(1.2828608834630135), np.float64(0.39544797667452436), np.float64(1.11637618750717), np.float64(0.5346626007661078)]\n",
      "[np.float64(0.0), np.float64(0.9789148870482938), np.float64(0.11775231631875593), np.float64(0.7913284234733337), np.float64(0.15585034700017306)]\n"
     ]
    }
   ],
   "source": [
    "means_bootstraps_usgan_obs3_classification_subgroup, standards_deviations_usgan_obs3_classification_subgroup = toolkits.calc_mean_and_standard_deviation(results_bootstrap_usgan_obs3_classification_subgroup)\n",
    "\n",
    "print(means_bootstraps_usgan_obs3_classification_subgroup)\n",
    "print(standards_deviations_usgan_obs3_classification_subgroup)\n"
   ]
  },
  {
   "cell_type": "markdown",
   "metadata": {},
   "source": [
    "#### Calculating lower bound and upper bound"
   ]
  },
  {
   "cell_type": "code",
   "execution_count": null,
   "metadata": {},
   "outputs": [
    {
     "name": "stdout",
     "output_type": "stream",
     "text": [
      "[np.float64(0.0), np.float64(-0.6357770390817372), np.float64(0.16465767759359465), np.float64(-0.4345990224434242), np.float64(0.22920153366769858)]\n",
      "[np.float64(0.0), np.float64(3.2014988060077645), np.float64(0.6262382757554541), np.float64(2.6673513974577645), np.float64(0.8401236678645171)]\n"
     ]
    }
   ],
   "source": [
    "lower_bounds_usgan_obs3_classification_subgroup, upper_bounds_usgan_obs3_classification_subgroup = toolkits.calc_lower_and_upper_bound(results_bootstrap_usgan_obs3_classification_subgroup, means_bootstraps_usgan_obs3_classification_subgroup, standards_deviations_usgan_obs3_classification_subgroup)\n",
    "\n",
    "print(lower_bounds_usgan_obs3_classification_subgroup)\n",
    "print(upper_bounds_usgan_obs3_classification_subgroup)"
   ]
  },
  {
   "cell_type": "code",
   "execution_count": null,
   "metadata": {},
   "outputs": [
    {
     "name": "stdout",
     "output_type": "stream",
     "text": [
      "[np.float64(0.0), np.float64(0.0), np.float64(0.19854735090997908), np.float64(0.21440699541374367), np.float64(0.215067158386254)]\n",
      "[np.float64(0.0), np.float64(2.029843170037303), np.float64(0.6557815274747014), np.float64(2.924908639490508), np.float64(0.8331282391505109)]\n"
     ]
    }
   ],
   "source": [
    "lower_bounds_usgan_obs3_classification_subgroup, upper_bounds_usgan_obs3_classification_subgroup = toolkits.calc_lower_and_upper_bound_percentile(results_bootstrap_usgan_obs3_classification_subgroup)\n",
    "\n",
    "print(lower_bounds_usgan_obs3_classification_subgroup)\n",
    "print(upper_bounds_usgan_obs3_classification_subgroup)"
   ]
  },
  {
   "cell_type": "markdown",
   "metadata": {},
   "source": [
    "#### Mean values of lower bound and upper bound"
   ]
  },
  {
   "cell_type": "code",
   "execution_count": null,
   "metadata": {},
   "outputs": [
    {
     "name": "stdout",
     "output_type": "stream",
     "text": [
      "[np.float64(0.0), np.float64(1.0149215850186515), np.float64(0.42716443919234026), np.float64(1.5696578174521258), np.float64(0.5240976987683825)]\n"
     ]
    }
   ],
   "source": [
    "mean_values_ci_usgan_obs3_classification_subgroup  = toolkits.calc_mean_values_ci(lower_bounds_usgan_obs3_classification_subgroup, upper_bounds_usgan_obs3_classification_subgroup)\n",
    "\n",
    "print(mean_values_ci_usgan_obs3_classification_subgroup)"
   ]
  },
  {
   "cell_type": "markdown",
   "metadata": {},
   "source": [
    "## GPVAE"
   ]
  },
  {
   "cell_type": "markdown",
   "metadata": {},
   "source": [
    "### Calculate MAE and AE"
   ]
  },
  {
   "cell_type": "code",
   "execution_count": null,
   "metadata": {},
   "outputs": [],
   "source": [
    "testing_mae_gpvae_variables_standard, testing_ae_gpvae_variables_standard = toolkits.calculate_mae(gpvae_imputation_standard, test_X_ori_variable_standard_norm, indicating_mask_variable_standard_norm)"
   ]
  },
  {
   "cell_type": "markdown",
   "metadata": {},
   "source": [
    "### Taking the MAE difference for GPVAE model"
   ]
  },
  {
   "cell_type": "markdown",
   "metadata": {},
   "source": [
    "#### Difference between gender group"
   ]
  },
  {
   "cell_type": "code",
   "execution_count": null,
   "metadata": {},
   "outputs": [
    {
     "data": {
      "text/plain": [
       "[('Cholesterol', 0.7169863050614339),\n",
       " ('SaO2', 0.20890310598463563),\n",
       " ('AST', 0.20239902682582445),\n",
       " ('Creatinine', 0.14547286040991392),\n",
       " ('Lactate', 0.10004376501079093)]"
      ]
     },
     "execution_count": 112,
     "metadata": {},
     "output_type": "execute_result"
    }
   ],
   "source": [
    "diff_gpvae_gender_subgroup = toolkits.diff_mae_top_5(testing_mae_gpvae_variables_standard, 1, 2, variables)\n",
    "diff_gpvae_gender_subgroup"
   ]
  },
  {
   "cell_type": "markdown",
   "metadata": {},
   "source": [
    "#### Difference between age group"
   ]
  },
  {
   "cell_type": "code",
   "execution_count": null,
   "metadata": {},
   "outputs": [
    {
     "data": {
      "text/plain": [
       "[('Cholesterol', 0.49957543635081736),\n",
       " ('ALP', 0.44452750749784475),\n",
       " ('TroponinI', 0.2618898374982579),\n",
       " ('SaO2', 0.21620679352892658),\n",
       " ('Albumin', 0.1910974661437378)]"
      ]
     },
     "execution_count": 113,
     "metadata": {},
     "output_type": "execute_result"
    }
   ],
   "source": [
    "diff_gpvae_age_subgroup = toolkits.diff_mae_top_5(testing_mae_gpvae_variables_standard, 4, 5, variables)\n",
    "diff_gpvae_age_subgroup"
   ]
  },
  {
   "cell_type": "markdown",
   "metadata": {},
   "source": [
    "#### Difference between ICUType group"
   ]
  },
  {
   "cell_type": "code",
   "execution_count": null,
   "metadata": {},
   "outputs": [],
   "source": [
    "diff_gpvae_ICUType_1_2 = toolkits.diff_mae_top_5(testing_mae_gpvae_variables_standard, 6, 7, variables)\n",
    "diff_gpvae_ICUType_1_3 = toolkits.diff_mae_top_5(testing_mae_gpvae_variables_standard, 6, 8, variables)\n",
    "diff_gpvae_ICUType_1_4 = toolkits.diff_mae_top_5(testing_mae_gpvae_variables_standard, 6, 9, variables)\n",
    "diff_gpvae_ICUType_2_3 = toolkits.diff_mae_top_5(testing_mae_gpvae_variables_standard, 7, 8, variables)\n",
    "diff_gpvae_ICUType_2_4 = toolkits.diff_mae_top_5(testing_mae_gpvae_variables_standard, 7, 9, variables)\n",
    "diff_gpvae_ICUType_3_4 = toolkits.diff_mae_top_5(testing_mae_gpvae_variables_standard, 8, 9, variables)"
   ]
  },
  {
   "cell_type": "code",
   "execution_count": null,
   "metadata": {},
   "outputs": [
    {
     "name": "stdout",
     "output_type": "stream",
     "text": [
      "Diferença(MAE) ICUType 1 e 2\n",
      "----------------------------\n",
      "[('Cholesterol', 0.9502364805777341), ('TroponinI', 0.8918236664146777), ('TroponinT', 0.3114883755971654), ('HCO3', 0.23628939822722694), ('SaO2', 0.23145972909185003)]\n",
      "----------------------------\n",
      "Diferença(MAE) ICUType 1 e 3\n",
      "----------------------------\n",
      "[('SaO2', 0.9937353873628099), ('ALP', 0.8302413758449083), ('TroponinI', 0.7412819088709723), ('Cholesterol', 0.406672113721821), ('TroponinT', 0.37481609205650046)]\n",
      "----------------------------\n",
      "Diferença(MAE) ICUType 1 e 4\n",
      "----------------------------\n",
      "[('TroponinT', 0.4347207972367254), ('TroponinI', 0.4317269923877344), ('Cholesterol', 0.31119956124464043), ('ALP', 0.24020355084081502), ('Bilirubin', 0.2227724629487818)]\n",
      "----------------------------\n",
      "Diferença(MAE) ICUType 2 e 3\n",
      "[('SaO2', 1.22519511645466), ('ALP', 0.7677499234797236), ('Cholesterol', 0.5435643668559131), ('PaCO2', 0.40728844810871434), ('HCO3', 0.3961385611965824)]\n",
      "----------------------------\n",
      "Diferença(MAE) ICUType 2 e 4\n",
      "----------------------------\n",
      "[('Cholesterol', 0.6390369193330937), ('TroponinI', 0.4600966740269433), ('GCS', 0.2509358813366239), ('ALT', 0.20917453987024603), ('ALP', 0.17771209847563035)]\n",
      "----------------------------\n",
      "Diferença(MAE) ICUType 3 e 4\n",
      "----------------------------\n",
      "[('SaO2', 1.1023326512800438), ('ALP', 0.5900378250040933), ('PaCO2', 0.3610456566952175), ('TroponinI', 0.30955491648323796), ('Creatinine', 0.29616868838921245)]\n",
      "----------------------------\n"
     ]
    }
   ],
   "source": [
    "print(\"Diferença(MAE) ICUType 1 e 2\")\n",
    "print(\"----------------------------\")\n",
    "print(diff_gpvae_ICUType_1_2)\n",
    "print(\"----------------------------\")\n",
    "print(\"Diferença(MAE) ICUType 1 e 3\")\n",
    "print(\"----------------------------\")\n",
    "print(diff_gpvae_ICUType_1_3)\n",
    "print(\"----------------------------\")\n",
    "print(\"Diferença(MAE) ICUType 1 e 4\")\n",
    "print(\"----------------------------\")\n",
    "print(diff_gpvae_ICUType_1_4)\n",
    "print(\"----------------------------\")\n",
    "print(\"Diferença(MAE) ICUType 2 e 3\")\n",
    "print(diff_gpvae_ICUType_2_3)\n",
    "print(\"----------------------------\")\n",
    "print(\"Diferença(MAE) ICUType 2 e 4\")\n",
    "print(\"----------------------------\")\n",
    "print(diff_gpvae_ICUType_2_4)\n",
    "print(\"----------------------------\")\n",
    "print(\"Diferença(MAE) ICUType 3 e 4\")\n",
    "print(\"----------------------------\")\n",
    "print(diff_gpvae_ICUType_3_4)\n",
    "print(\"----------------------------\")"
   ]
  },
  {
   "cell_type": "code",
   "execution_count": null,
   "metadata": {},
   "outputs": [
    {
     "name": "stdout",
     "output_type": "stream",
     "text": [
      "Top 5 variáveis ICUType\n",
      "-----------------------\n",
      "SaO2\n",
      "TroponinI\n",
      "ALP\n",
      "Cholesterol\n",
      "TroponinT\n"
     ]
    }
   ],
   "source": [
    "print(\"Top 5 variáveis ICUType\")\n",
    "print(\"-----------------------\")\n",
    "print(variables[28])\n",
    "print(variables[31])\n",
    "print(variables[0])\n",
    "print(variables[6])\n",
    "print(variables[32])"
   ]
  },
  {
   "cell_type": "markdown",
   "metadata": {},
   "source": [
    "#### Difference between BMI group"
   ]
  },
  {
   "cell_type": "code",
   "execution_count": null,
   "metadata": {},
   "outputs": [],
   "source": [
    "diff_gpvae_classification_undefined_low = toolkits.diff_mae_top_5(testing_mae_gpvae_variables_standard, 10, 11, variables)\n",
    "diff_gpvae_classification_undefined_normal = toolkits.diff_mae_top_5(testing_mae_gpvae_variables_standard, 10, 12, variables)\n",
    "diff_gpvae_classification_undefined_over = toolkits.diff_mae_top_5(testing_mae_gpvae_variables_standard, 10, 13, variables)\n",
    "diff_gpvae_classification_undefined_obs1 = toolkits.diff_mae_top_5(testing_mae_gpvae_variables_standard, 10, 14, variables)\n",
    "diff_gpvae_classification_undefined_obs2 = toolkits.diff_mae_top_5(testing_mae_gpvae_variables_standard, 10, 15, variables)\n",
    "diff_gpvae_classification_undefined_obs3 = toolkits.diff_mae_top_5(testing_mae_gpvae_variables_standard, 10, 16, variables)\n",
    "\n",
    "diff_gpvae_classification_low_normal = toolkits.diff_mae_top_5(testing_mae_gpvae_variables_standard, 11, 12, variables)\n",
    "diff_gpvae_classification_low_over = toolkits.diff_mae_top_5(testing_mae_gpvae_variables_standard, 11, 13, variables)\n",
    "diff_gpvae_classification_low_obs1 = toolkits.diff_mae_top_5(testing_mae_gpvae_variables_standard, 11, 14, variables)\n",
    "diff_gpvae_classification_low_obs2 = toolkits.diff_mae_top_5(testing_mae_gpvae_variables_standard, 11, 15, variables)\n",
    "diff_gpvae_classification_low_obs3 = toolkits.diff_mae_top_5(testing_mae_gpvae_variables_standard, 11, 16, variables)\n",
    "\n",
    "diff_gpvae_classification_normal_over = toolkits.diff_mae_top_5(testing_mae_gpvae_variables_standard, 12, 13, variables)\n",
    "diff_gpvae_classification_normal_obs1 = toolkits.diff_mae_top_5(testing_mae_gpvae_variables_standard, 12, 14, variables)\n",
    "diff_gpvae_classification_normal_obs2 = toolkits.diff_mae_top_5(testing_mae_gpvae_variables_standard, 12, 15, variables)\n",
    "diff_gpvae_classification_normal_obs3 = toolkits.diff_mae_top_5(testing_mae_gpvae_variables_standard, 12, 16, variables)\n",
    "\n",
    "diff_gpvae_classification_over_obs1 = toolkits.diff_mae_top_5(testing_mae_gpvae_variables_standard, 13, 14, variables)\n",
    "diff_gpvae_classification_over_obs2 = toolkits.diff_mae_top_5(testing_mae_gpvae_variables_standard, 13, 15, variables)\n",
    "diff_gpvae_classification_over_obs3 = toolkits.diff_mae_top_5(testing_mae_gpvae_variables_standard, 13, 16, variables)\n",
    "\n",
    "\n",
    "diff_gpvae_classification_obs1_obs2 = toolkits.diff_mae_top_5(testing_mae_gpvae_variables_standard, 14, 15, variables)\n",
    "diff_gpvae_classification_obs1_obs3 = toolkits.diff_mae_top_5(testing_mae_gpvae_variables_standard, 14, 16, variables)\n",
    "\n",
    "diff_gpvae_classification_obs2_obs3 = toolkits.diff_mae_top_5(testing_mae_gpvae_variables_standard, 15, 16, variables)"
   ]
  },
  {
   "cell_type": "code",
   "execution_count": null,
   "metadata": {},
   "outputs": [
    {
     "name": "stdout",
     "output_type": "stream",
     "text": [
      "Diferença(MAE) Classification Undefined and low\n",
      "----------------------------\n",
      "[('ALP', 1.4984287714039075), ('Bilirubin', 0.9811191215037678), ('TroponinI', 0.8126922038658223), ('Cholesterol', 0.5201117490423033), ('Lactate', 0.4554101566283363)]\n",
      "----------------------------\n",
      "Diferença(MAE) Classification Undefined and normal\n",
      "----------------------------\n",
      "[('PaCO2', 0.26413489264298506), ('SaO2', 0.2556269283251386), ('ALT', 0.20532099691202862), ('Platelets', 0.1705636160025804), ('HCO3', 0.1633457333551286)]\n",
      "----------------------------\n",
      "Diferença(MAE) Classification Undefined and over\n",
      "----------------------------\n",
      "[('Cholesterol', 0.8097408650488799), ('TroponinI', 0.3305148845346736), ('TroponinT', 0.2897346238466169), ('PaCO2', 0.2579367576470314), ('SaO2', 0.24006883512626825)]\n",
      "----------------------------\n",
      "Diferença(MAE) Classification Undefined and obs1\n",
      "[('Ph', 0.8803621039317031), ('SaO2', 0.2591527877822734), ('PaCO2', 0.2568282809114367), ('Cholesterol', 0.23640482047021322), ('HCO3', 0.23043706423950405)]\n",
      "----------------------------\n",
      "Diferença(MAE) Classification Undefined and obs2\n",
      "----------------------------\n",
      "[('TroponinT', 0.9533070601823517), ('TroponinI', 0.8126922038658223), ('ALT', 0.33450295823583237), ('Cholesterol', 0.27529398489468704), ('PaCO2', 0.2736321487114446)]\n",
      "----------------------------\n",
      "Diferença(MAE) ICUType Undefined and obs3\n",
      "----------------------------\n",
      "[('ALT', 1.2303285128178574), ('TroponinT', 0.7436229530780296), ('Cholesterol', 0.5491446861096875), ('TroponinI', 0.5450323197620713), ('Albumin', 0.33665254446109955)]\n",
      "----------------------------\n"
     ]
    }
   ],
   "source": [
    "print(\"Diferença(MAE) Classification Undefined and low\")\n",
    "print(\"----------------------------\")\n",
    "print(diff_gpvae_classification_undefined_low)\n",
    "print(\"----------------------------\")\n",
    "print(\"Diferença(MAE) Classification Undefined and normal\")\n",
    "print(\"----------------------------\")\n",
    "print(diff_gpvae_classification_undefined_normal)\n",
    "print(\"----------------------------\")\n",
    "print(\"Diferença(MAE) Classification Undefined and over\")\n",
    "print(\"----------------------------\")\n",
    "print(diff_gpvae_classification_undefined_over)\n",
    "print(\"----------------------------\")\n",
    "print(\"Diferença(MAE) Classification Undefined and obs1\")\n",
    "print(diff_gpvae_classification_undefined_obs1)\n",
    "print(\"----------------------------\")\n",
    "print(\"Diferença(MAE) Classification Undefined and obs2\")\n",
    "print(\"----------------------------\")\n",
    "print(diff_gpvae_classification_undefined_obs2)\n",
    "print(\"----------------------------\")\n",
    "print(\"Diferença(MAE) ICUType Undefined and obs3\")\n",
    "print(\"----------------------------\")\n",
    "print(diff_gpvae_classification_undefined_obs3)\n",
    "print(\"----------------------------\")"
   ]
  },
  {
   "cell_type": "code",
   "execution_count": null,
   "metadata": {},
   "outputs": [
    {
     "name": "stdout",
     "output_type": "stream",
     "text": [
      "Diferença(MAE) Classification low and normal\n",
      "----------------------------\n",
      "[('ALP', 1.403021537470746), ('Bilirubin', 0.9461369295522424), ('TroponinI', 0.6835013443205654), ('Cholesterol', 0.5801292127536045), ('HCO3', 0.5142557195063615)]\n",
      "----------------------------\n",
      "Diferença(MAE) Classification low and over\n",
      "----------------------------\n",
      "[('ALP', 1.5835896949503965), ('Cholesterol', 1.329852614091183), ('TroponinI', 1.143207088400496), ('Bilirubin', 1.128743649214257), ('HCO3', 0.5693350874264985)]\n",
      "----------------------------\n",
      "Diferença(MAE) Classification low and obs1\n",
      "----------------------------\n",
      "[('ALP', 1.6272017145736122), ('Bilirubin', 1.0852515823152353), ('Ph', 0.8728858021745433), ('TroponinI', 0.5900021366441112), ('HCO3', 0.581347050390737)]\n",
      "----------------------------\n",
      "Diferença(MAE) Classification low and obs2\n",
      "[('ALP', 1.6404632350073978), ('Bilirubin', 1.0958944421751695), ('TroponinT', 0.7259970588377027), ('HCO3', 0.5949372708589092), ('ALT', 0.49226456329646173)]\n",
      "----------------------------\n",
      "Diferença(MAE) Classification low and obs3\n",
      "----------------------------\n",
      "[('ALP', 1.7294334923739616), ('ALT', 1.3880901178784866), ('Bilirubin', 1.035624538850485), ('TroponinT', 0.5163129517333807), ('PaO2', 0.3598040604236017)]\n",
      "----------------------------\n"
     ]
    }
   ],
   "source": [
    "print(\"Diferença(MAE) Classification low and normal\")\n",
    "print(\"----------------------------\")\n",
    "print(diff_gpvae_classification_low_normal)\n",
    "print(\"----------------------------\")\n",
    "print(\"Diferença(MAE) Classification low and over\")\n",
    "print(\"----------------------------\")\n",
    "print(diff_gpvae_classification_low_over)\n",
    "print(\"----------------------------\")\n",
    "print(\"Diferença(MAE) Classification low and obs1\")\n",
    "print(\"----------------------------\")\n",
    "print(diff_gpvae_classification_low_obs1)\n",
    "print(\"----------------------------\")\n",
    "print(\"Diferença(MAE) Classification low and obs2\")\n",
    "print(diff_gpvae_classification_low_obs2)\n",
    "print(\"----------------------------\")\n",
    "print(\"Diferença(MAE) Classification low and obs3\")\n",
    "print(\"----------------------------\")\n",
    "print(diff_gpvae_classification_low_obs3)\n",
    "print(\"----------------------------\")"
   ]
  },
  {
   "cell_type": "code",
   "execution_count": null,
   "metadata": {},
   "outputs": [
    {
     "name": "stdout",
     "output_type": "stream",
     "text": [
      "Diferença(MAE) Classification normal and over\n",
      "----------------------------\n",
      "[('Cholesterol', 0.7497234013375786), ('TroponinI', 0.4597057440799305), ('TroponinT', 0.35357540568797513), ('ALT', 0.32170038759579944), ('Bilirubin', 0.18260671966201464)]\n",
      "----------------------------\n",
      "Diferença(MAE) Classification normal and obs1\n",
      "----------------------------\n",
      "[('Ph', 0.8880086026672669), ('Cholesterol', 0.29642228418151445), ('ALP', 0.22418017710286614), ('Mg', 0.17276537650943447), ('Creatinine', 0.16845587072682183)]\n",
      "----------------------------\n",
      "Diferença(MAE) Classification normal and obs2\n",
      "----------------------------\n",
      "[('TroponinT', 1.01714784202371), ('TroponinI', 0.6835013443205654), ('ALT', 0.539823955147861), ('Cholesterol', 0.33531144860598827), ('BUN', 0.2971806787390593)]\n",
      "----------------------------\n",
      "Diferença(MAE) Classification normal and obs3\n",
      "[('ALT', 1.435649509729886), ('TroponinT', 0.8074637349193878), ('Cholesterol', 0.6091621498209887), ('TroponinI', 0.41584146021681445), ('Weight', 0.3688467283662803)]\n",
      "----------------------------\n"
     ]
    }
   ],
   "source": [
    "print(\"Diferença(MAE) Classification normal and over\")\n",
    "print(\"----------------------------\")\n",
    "print(diff_gpvae_classification_normal_over)\n",
    "print(\"----------------------------\")\n",
    "print(\"Diferença(MAE) Classification normal and obs1\")\n",
    "print(\"----------------------------\")\n",
    "print(diff_gpvae_classification_normal_obs1)\n",
    "print(\"----------------------------\")\n",
    "print(\"Diferença(MAE) Classification normal and obs2\")\n",
    "print(\"----------------------------\")\n",
    "print(diff_gpvae_classification_normal_obs2)\n",
    "print(\"----------------------------\")\n",
    "print(\"Diferença(MAE) Classification normal and obs3\")\n",
    "print(diff_gpvae_classification_normal_obs3)\n",
    "print(\"----------------------------\")"
   ]
  },
  {
   "cell_type": "code",
   "execution_count": null,
   "metadata": {},
   "outputs": [
    {
     "name": "stdout",
     "output_type": "stream",
     "text": [
      "Diferença(MAE) Classification over and obs1\n",
      "----------------------------\n",
      "[('Cholesterol', 1.0461456855190931), ('Ph', 0.8934708178133868), ('TroponinI', 0.5532049517563847), ('TroponinT', 0.3830546982731618), ('ALT', 0.2675466002043284)]\n",
      "----------------------------\n",
      "Diferença(MAE) Classification over and obs2\n",
      "----------------------------\n",
      "[('TroponinI', 1.143207088400496), ('Cholesterol', 1.085034849943567), ('TroponinT', 0.6635724363357348), ('BUN', 0.3170724188083759), ('AST', 0.21918031375498315)]\n",
      "----------------------------\n",
      "Diferença(MAE) Classification over and obs3\n",
      "----------------------------\n",
      "[('Cholesterol', 1.3588855511585674), ('ALT', 1.1139491221340865), ('TroponinI', 0.8755472042967449), ('TroponinT', 0.45388832923141276), ('Weight', 0.3685338792048445)]\n",
      "----------------------------\n"
     ]
    }
   ],
   "source": [
    "print(\"Diferença(MAE) Classification over and obs1\")\n",
    "print(\"----------------------------\")\n",
    "print(diff_gpvae_classification_over_obs1)\n",
    "print(\"----------------------------\")\n",
    "print(\"Diferença(MAE) Classification over and obs2\")\n",
    "print(\"----------------------------\")\n",
    "print(diff_gpvae_classification_over_obs2)\n",
    "print(\"----------------------------\")\n",
    "print(\"Diferença(MAE) Classification over and obs3\")\n",
    "print(\"----------------------------\")\n",
    "print(diff_gpvae_classification_over_obs3)\n",
    "print(\"----------------------------\")"
   ]
  },
  {
   "cell_type": "code",
   "execution_count": null,
   "metadata": {},
   "outputs": [
    {
     "name": "stdout",
     "output_type": "stream",
     "text": [
      "Diferença(MAE) Classification obs1 and obs2 \n",
      "----------------------------\n",
      "[('TroponinT', 1.0466271346088967), ('Ph', 0.8973569138255766), ('TroponinI', 0.5900021366441112), ('ALT', 0.48567016775638994), ('BUN', 0.25576191544464466)]\n",
      "----------------------------\n",
      "Diferença(MAE) Classification obs1 and obs3 \n",
      "----------------------------\n",
      "[('ALT', 1.381495722338415), ('Ph', 0.8941617584582486), ('TroponinT', 0.8369430275045746), ('Glucose', 0.3283979292549837), ('TroponinI', 0.3223422525403602)]\n",
      "----------------------------\n"
     ]
    }
   ],
   "source": [
    "print(\"Diferença(MAE) Classification obs1 and obs2 \")\n",
    "print(\"----------------------------\")\n",
    "print(diff_gpvae_classification_obs1_obs2)\n",
    "print(\"----------------------------\")\n",
    "print(\"Diferença(MAE) Classification obs1 and obs3 \")\n",
    "print(\"----------------------------\")\n",
    "print(diff_gpvae_classification_obs1_obs3)\n",
    "print(\"----------------------------\")"
   ]
  },
  {
   "cell_type": "code",
   "execution_count": null,
   "metadata": {},
   "outputs": [
    {
     "name": "stdout",
     "output_type": "stream",
     "text": [
      "Diferença(MAE) Classification obs2 and obs3 \n",
      "----------------------------\n",
      "[('ALT', 0.895825554582025), ('HCO3', 0.3183493427852112), ('Cholesterol', 0.27385070121500044), ('TroponinI', 0.26765988410375097), ('Weight', 0.26357190666548425)]\n",
      "----------------------------\n"
     ]
    }
   ],
   "source": [
    "print(\"Diferença(MAE) Classification obs2 and obs3 \")\n",
    "print(\"----------------------------\")\n",
    "print(diff_gpvae_classification_obs2_obs3)\n",
    "print(\"----------------------------\")"
   ]
  },
  {
   "cell_type": "code",
   "execution_count": null,
   "metadata": {},
   "outputs": [
    {
     "name": "stdout",
     "output_type": "stream",
     "text": [
      "Top 5 variáveis BMI\n",
      "-----------------------\n",
      "ALT\n",
      "TroponinI\n",
      "Cholesterol\n",
      "ALP\n",
      "TroponinT\n"
     ]
    }
   ],
   "source": [
    "print(\"Top 5 variáveis BMI\")\n",
    "print(\"-----------------------\")\n",
    "print(variables[1])\n",
    "print(variables[31])\n",
    "print(variables[6])\n",
    "print(variables[0])\n",
    "print(variables[32])"
   ]
  },
  {
   "cell_type": "markdown",
   "metadata": {},
   "source": [
    "### Confidence Interval (Female Subgroup)"
   ]
  },
  {
   "cell_type": "markdown",
   "metadata": {},
   "source": [
    "#### Distribution Bootstrap for the Top 5 variables with Largest Differences in MAE (Mean Absolute Error) "
   ]
  },
  {
   "cell_type": "code",
   "execution_count": null,
   "metadata": {},
   "outputs": [],
   "source": [
    "indices = [6, 31, 28, 16, 33, 2, 7, 15, 5, 2, 35, 24]\n",
    "\n",
    "results_bootstrap_gpvae_female = []\n",
    "\n",
    "for i in indices:\n",
    "       results_bootstrap_gpvae_female.append(toolkits.bootstrap_v2(testing_ae_gpvae_variables_standard, indicating_mask_variable_standard_norm, 1, i, 9000))"
   ]
  },
  {
   "cell_type": "markdown",
   "metadata": {},
   "source": [
    "#### Calculating the mean and standard deviation of the bootstrap distribution"
   ]
  },
  {
   "cell_type": "code",
   "execution_count": null,
   "metadata": {},
   "outputs": [
    {
     "name": "stdout",
     "output_type": "stream",
     "text": [
      "[np.float64(1.4848157361733463), np.float64(0.6668111886463424), np.float64(0.47737647996823174), np.float64(0.39908215120617485), np.float64(0.5039351671552207)]\n",
      "[np.float64(0.27335769580200403), np.float64(0.1295367515183807), np.float64(0.09540930699622902), np.float64(0.026171397168805406), np.float64(0.03924940928581174)]\n"
     ]
    }
   ],
   "source": [
    "means_bootstraps_gpvae_female,standards_deviations_gpvae_female = toolkits.calc_mean_and_standard_deviation(results_bootstrap_gpvae_female)\n",
    "\n",
    "print(means_bootstraps_gpvae_female)\n",
    "print(standards_deviations_gpvae_female)\n"
   ]
  },
  {
   "cell_type": "markdown",
   "metadata": {},
   "source": [
    "#### Calculating lower bound and upper bound"
   ]
  },
  {
   "cell_type": "code",
   "execution_count": null,
   "metadata": {},
   "outputs": [
    {
     "name": "stdout",
     "output_type": "stream",
     "text": [
      "[np.float64(0.9490444975045624), np.float64(0.412923820996002), np.float64(0.29037767446569746), np.float64(0.3477871553302227), np.float64(0.42700773854055774)]\n",
      "[np.float64(2.0205869748421303), np.float64(0.9206985562966827), np.float64(0.6643752854707661), np.float64(0.450377147082127), np.float64(0.5808625957698836)]\n"
     ]
    }
   ],
   "source": [
    "lower_bounds_gpvae_female, upper_bounds_gpvae_female = toolkits.calc_lower_and_upper_bound(results_bootstrap_gpvae_female, means_bootstraps_gpvae_female,standards_deviations_gpvae_female)\n",
    "\n",
    "print(lower_bounds_gpvae_female)\n",
    "print(upper_bounds_gpvae_female)"
   ]
  },
  {
   "cell_type": "code",
   "execution_count": null,
   "metadata": {},
   "outputs": [
    {
     "name": "stdout",
     "output_type": "stream",
     "text": [
      "[np.float64(0.977136874860249), np.float64(0.4457911963940036), np.float64(0.31745099235018787), np.float64(0.35123165453553656), np.float64(0.4321853473015345)]\n",
      "[np.float64(2.0025978006374734), np.float64(0.9502862174067457), np.float64(0.6911125547861318), np.float64(0.45343191690719126), np.float64(0.5861694706950245)]\n"
     ]
    }
   ],
   "source": [
    "lower_bounds_gpvae_female, upper_bounds_gpvae_female = toolkits.calc_lower_and_upper_bound_percentile(results_bootstrap_gpvae_female)\n",
    "\n",
    "print(lower_bounds_gpvae_female)\n",
    "print(upper_bounds_gpvae_female)"
   ]
  },
  {
   "cell_type": "markdown",
   "metadata": {},
   "source": [
    "#### Mean values of lower bound and upper bound\n"
   ]
  },
  {
   "cell_type": "code",
   "execution_count": null,
   "metadata": {},
   "outputs": [
    {
     "name": "stdout",
     "output_type": "stream",
     "text": [
      "[np.float64(1.4898673377488612), np.float64(0.6980387069003746), np.float64(0.5042817735681598), np.float64(0.4023317857213639), np.float64(0.5091774089982795)]\n"
     ]
    }
   ],
   "source": [
    "mean_values_ci_gpvae_female = toolkits.calc_mean_values_ci(lower_bounds_gpvae_female, upper_bounds_gpvae_female)\n",
    "\n",
    "print(mean_values_ci_gpvae_female)"
   ]
  },
  {
   "cell_type": "markdown",
   "metadata": {},
   "source": [
    "### Confidence Interval (Male Subgroup)"
   ]
  },
  {
   "cell_type": "markdown",
   "metadata": {},
   "source": [
    "#### Distribution Bootstrap for the Top 5 variables with Largest Differences in MAE (Mean Absolute Error) "
   ]
  },
  {
   "cell_type": "code",
   "execution_count": null,
   "metadata": {},
   "outputs": [],
   "source": [
    "indices = [6, 31, 28, 16, 33, 2, 7, 15, 5, 2, 35, 24]\n",
    "\n",
    "results_bootstrap_gpvae_male = []\n",
    "\n",
    "for i in indices:\n",
    "       results_bootstrap_gpvae_male.append(toolkits.bootstrap_v2(testing_ae_gpvae_variables_standard, indicating_mask_variable_standard_norm, 2, i, 9000))"
   ]
  },
  {
   "cell_type": "markdown",
   "metadata": {},
   "source": [
    "#### Calculating the mean and standard deviation of the bootstrap distribution"
   ]
  },
  {
   "cell_type": "code",
   "execution_count": null,
   "metadata": {},
   "outputs": [
    {
     "name": "stdout",
     "output_type": "stream",
     "text": [
      "[np.float64(0.7726863537225884), np.float64(0.4576597577157542), np.float64(0.27644328569292875), np.float64(0.5442021437135832), np.float64(0.6044791706835057)]\n",
      "[np.float64(0.18372723205507108), np.float64(0.032052213837155986), np.float64(0.030446373086200986), np.float64(0.038998667368798756), np.float64(0.03858456091769444)]\n"
     ]
    }
   ],
   "source": [
    "means_bootstraps_gpvae_male,standards_deviations_gpvae_male = toolkits.calc_mean_and_standard_deviation(results_bootstrap_gpvae_male)\n",
    "\n",
    "print(means_bootstraps_gpvae_male)\n",
    "print(standards_deviations_gpvae_male)\n"
   ]
  },
  {
   "cell_type": "markdown",
   "metadata": {},
   "source": [
    "#### Calculating lower bound and upper bound"
   ]
  },
  {
   "cell_type": "code",
   "execution_count": null,
   "metadata": {},
   "outputs": [
    {
     "name": "stdout",
     "output_type": "stream",
     "text": [
      "[np.float64(0.41258759591541616), np.float64(0.39483857297015207), np.float64(0.2167694909841052), np.float64(0.46776616022568024), np.float64(0.5288548209255328)]\n",
      "[np.float64(1.1327851115297607), np.float64(0.5204809424613562), np.float64(0.3361170804017523), np.float64(0.6206381272014863), np.float64(0.6801035204414785)]\n"
     ]
    }
   ],
   "source": [
    "lower_bounds_gpvae_male, upper_bounds_gpvae_male = toolkits.calc_lower_and_upper_bound(results_bootstrap_gpvae_male, means_bootstraps_gpvae_male,standards_deviations_gpvae_male)\n",
    "\n",
    "print(lower_bounds_gpvae_male)\n",
    "print(upper_bounds_gpvae_male)"
   ]
  },
  {
   "cell_type": "code",
   "execution_count": null,
   "metadata": {},
   "outputs": [
    {
     "name": "stdout",
     "output_type": "stream",
     "text": [
      "[np.float64(0.4368280153967304), np.float64(0.3991497027910923), np.float64(0.21978021697753053), np.float64(0.4714374331908757), np.float64(0.5342284159084616)]\n",
      "[np.float64(1.1471987936431198), np.float64(0.5248881927153958), np.float64(0.33803037133170055), np.float64(0.6234666347580539), np.float64(0.6837320236882118)]\n"
     ]
    }
   ],
   "source": [
    "lower_bounds_gpvae_male, upper_bounds_gpvae_male = toolkits.calc_lower_and_upper_bound_percentile(results_bootstrap_gpvae_male)\n",
    "\n",
    "print(lower_bounds_gpvae_male)\n",
    "print(upper_bounds_gpvae_male)"
   ]
  },
  {
   "cell_type": "markdown",
   "metadata": {},
   "source": [
    "#### Mean values of lower bound and upper bound\n"
   ]
  },
  {
   "cell_type": "code",
   "execution_count": null,
   "metadata": {},
   "outputs": [
    {
     "name": "stdout",
     "output_type": "stream",
     "text": [
      "[np.float64(0.7920134045199251), np.float64(0.46201894775324404), np.float64(0.2789052941546155), np.float64(0.5474520339744648), np.float64(0.6089802197983367)]\n"
     ]
    }
   ],
   "source": [
    "mean_values_ci_gpvae_male = toolkits.calc_mean_values_ci(lower_bounds_gpvae_male, upper_bounds_gpvae_male)\n",
    "\n",
    "print(mean_values_ci_gpvae_male)"
   ]
  },
  {
   "cell_type": "markdown",
   "metadata": {},
   "source": [
    "### Confidence Interval (+65 Subgroup)"
   ]
  },
  {
   "cell_type": "markdown",
   "metadata": {},
   "source": [
    "#### Distribution Bootstrap for the Top 5 variables with Largest Differences in MAE (Mean Absolute Error) "
   ]
  },
  {
   "cell_type": "code",
   "execution_count": null,
   "metadata": {},
   "outputs": [],
   "source": [
    "indices = [6, 32, 0, 28, 5, 31, 3]\n",
    "\n",
    "results_bootstrap_gpvae_more_than_or_equal_to_65_subgroup = []\n",
    "\n",
    "for i in indices:\n",
    "       results_bootstrap_gpvae_more_than_or_equal_to_65_subgroup.append(toolkits.bootstrap_v2(testing_ae_gpvae_variables_standard, indicating_mask_variable_standard_norm, 4, i, 9000))\n"
   ]
  },
  {
   "cell_type": "markdown",
   "metadata": {},
   "source": [
    "#### Calculating the mean and standard deviation of the bootstrap distribution"
   ]
  },
  {
   "cell_type": "code",
   "execution_count": null,
   "metadata": {},
   "outputs": [
    {
     "name": "stdout",
     "output_type": "stream",
     "text": [
      "[np.float64(0.608887203121293), np.float64(0.700345984143619), np.float64(1.0339801574836969), np.float64(0.46714621747664187), np.float64(0.560984112179847)]\n",
      "[np.float64(0.11083633995553831), np.float64(0.13617894863804594), np.float64(0.2883519622141744), np.float64(0.034427863228013514), np.float64(0.06276285553271992)]\n"
     ]
    }
   ],
   "source": [
    "means_bootstraps_gpvae_more_than_or_equal_to_65_subgroup,standards_deviations_gpvae_more_than_or_equal_to_65_subgroup = toolkits.calc_mean_and_standard_deviation(results_bootstrap_gpvae_more_than_or_equal_to_65_subgroup)\n",
    "\n",
    "print(means_bootstraps_gpvae_more_than_or_equal_to_65_subgroup)\n",
    "print(standards_deviations_gpvae_more_than_or_equal_to_65_subgroup)"
   ]
  },
  {
   "cell_type": "markdown",
   "metadata": {},
   "source": [
    "#### Calculating lower bound and upper bound\n"
   ]
  },
  {
   "cell_type": "code",
   "execution_count": null,
   "metadata": {},
   "outputs": [
    {
     "name": "stdout",
     "output_type": "stream",
     "text": [
      "[np.float64(0.39165196863020013), np.float64(0.43344014936051917), np.float64(0.4688206966724605), np.float64(0.3996688454850645), np.float64(0.4379711757688255)]\n",
      "[np.float64(0.8261224376123858), np.float64(0.967251818926719), np.float64(1.5991396182949331), np.float64(0.5346235894682192), np.float64(0.6839970485908685)]\n"
     ]
    }
   ],
   "source": [
    "lower_bounds_gpvae_more_than_or_equal_to_65_subgroup, upper_bounds_gpvae_more_than_or_equal_to_65_subgroup = toolkits.calc_lower_and_upper_bound(results_bootstrap_gpvae_more_than_or_equal_to_65_subgroup, means_bootstraps_gpvae_more_than_or_equal_to_65_subgroup,standards_deviations_gpvae_more_than_or_equal_to_65_subgroup)\n",
    "\n",
    "print(lower_bounds_gpvae_more_than_or_equal_to_65_subgroup)\n",
    "print(upper_bounds_gpvae_more_than_or_equal_to_65_subgroup)\n"
   ]
  },
  {
   "cell_type": "code",
   "execution_count": null,
   "metadata": {},
   "outputs": [
    {
     "name": "stdout",
     "output_type": "stream",
     "text": [
      "[np.float64(0.39190948611658105), np.float64(0.46229934685756796), np.float64(0.5361267792431346), np.float64(0.40551301975577503), np.float64(0.4450653922645599)]\n",
      "[np.float64(0.8314725501054785), np.float64(0.9942401223668195), np.float64(1.6623009712332595), np.float64(0.5384898473170325), np.float64(0.6904921282321769)]\n"
     ]
    }
   ],
   "source": [
    "lower_bounds_gpvae_more_than_or_equal_to_65_subgroup, upper_bounds_gpvae_more_than_or_equal_to_65_subgroup = toolkits.calc_lower_and_upper_bound_percentile(results_bootstrap_gpvae_more_than_or_equal_to_65_subgroup)\n",
    "\n",
    "print(lower_bounds_gpvae_more_than_or_equal_to_65_subgroup)\n",
    "print(upper_bounds_gpvae_more_than_or_equal_to_65_subgroup)"
   ]
  },
  {
   "cell_type": "markdown",
   "metadata": {},
   "source": [
    "#### Mean values of lower bound and upper bound"
   ]
  },
  {
   "cell_type": "code",
   "execution_count": null,
   "metadata": {},
   "outputs": [
    {
     "name": "stdout",
     "output_type": "stream",
     "text": [
      "[np.float64(0.6116910181110298), np.float64(0.7282697346121937), np.float64(1.099213875238197), np.float64(0.4720014335364038), np.float64(0.5677787602483684)]\n"
     ]
    }
   ],
   "source": [
    "mean_values_ci_gpvae_more_than_or_equal_to_65_subgroup  = toolkits.calc_mean_values_ci(lower_bounds_gpvae_more_than_or_equal_to_65_subgroup , upper_bounds_gpvae_more_than_or_equal_to_65_subgroup)\n",
    "\n",
    "print(mean_values_ci_gpvae_more_than_or_equal_to_65_subgroup)"
   ]
  },
  {
   "cell_type": "markdown",
   "metadata": {},
   "source": [
    "### Confidence Interval (-65 subgroup)"
   ]
  },
  {
   "cell_type": "markdown",
   "metadata": {},
   "source": [
    "#### Distribution Bootstrap for the Top 5 variables with Largest Differences in MAE (Mean Absolute Error) "
   ]
  },
  {
   "cell_type": "code",
   "execution_count": null,
   "metadata": {},
   "outputs": [],
   "source": [
    "indices = [6, 32, 0, 28, 5, 31, 3]\n",
    "\n",
    "results_bootstrap_gpvae_less_than_65_subgroup = []\n",
    "\n",
    "for i in indices:\n",
    "       results_bootstrap_gpvae_less_than_65_subgroup.append(toolkits.bootstrap_v2(testing_ae_gpvae_variables_standard, indicating_mask_variable_standard_norm, 5, i, 9000))\n",
    "\n"
   ]
  },
  {
   "cell_type": "markdown",
   "metadata": {},
   "source": [
    "#### Calculating the mean and standard deviation of the bootstrap distribution"
   ]
  },
  {
   "cell_type": "code",
   "execution_count": null,
   "metadata": {},
   "outputs": [
    {
     "name": "stdout",
     "output_type": "stream",
     "text": [
      "[np.float64(0.9560096907679728), np.float64(1.140588189156281), np.float64(0.7693323029892964), np.float64(0.6835082176719636), np.float64(0.7534627873753272)]\n",
      "[np.float64(0.7330739544337671), np.float64(0.4304713019273374), np.float64(0.08096032638510635), np.float64(0.12528515126794312), np.float64(0.06116884655781598)]\n"
     ]
    }
   ],
   "source": [
    "means_bootstraps_gpvae_less_than_65_subgroup,standards_deviations_gpvae_less_than_65_subgroup = toolkits.calc_mean_and_standard_deviation(results_bootstrap_gpvae_less_than_65_subgroup)\n",
    "\n",
    "print(means_bootstraps_gpvae_less_than_65_subgroup)\n",
    "print(standards_deviations_gpvae_less_than_65_subgroup)\n"
   ]
  },
  {
   "cell_type": "markdown",
   "metadata": {},
   "source": [
    "#### Calculating lower bound and upper bound"
   ]
  },
  {
   "cell_type": "code",
   "execution_count": null,
   "metadata": {},
   "outputs": [
    {
     "name": "stdout",
     "output_type": "stream",
     "text": [
      "[np.float64(-0.48078885792656745), np.float64(0.2968799410006322), np.float64(0.6106529790978801), np.float64(0.4379538333891424), np.float64(0.6335740511461511)]\n",
      "[np.float64(2.392808239462513), np.float64(1.9842964373119298), np.float64(0.9280116268807128), np.float64(0.9290626019547847), np.float64(0.8733515236045034)]\n"
     ]
    }
   ],
   "source": [
    "lower_bounds_gpvae_less_than_65_subgroup, upper_bounds_gpvae_less_than_65_subgroup = toolkits.calc_lower_and_upper_bound(results_bootstrap_gpvae_less_than_65_subgroup, means_bootstraps_gpvae_less_than_65_subgroup, standards_deviations_gpvae_less_than_65_subgroup)\n",
    "\n",
    "print(lower_bounds_gpvae_less_than_65_subgroup)\n",
    "print(upper_bounds_gpvae_less_than_65_subgroup)"
   ]
  },
  {
   "cell_type": "code",
   "execution_count": null,
   "metadata": {},
   "outputs": [
    {
     "name": "stdout",
     "output_type": "stream",
     "text": [
      "[np.float64(0.0), np.float64(0.486211900385218), np.float64(0.6161024734790559), np.float64(0.466207334666563), np.float64(0.6358936811064712)]\n",
      "[np.float64(1.9961181933033252), np.float64(2.119871001798628), np.float64(0.9309326295462613), np.float64(0.9566584622339344), np.float64(0.8754958140715912)]\n"
     ]
    }
   ],
   "source": [
    "lower_bounds_gpvae_less_than_65_subgroup, upper_bounds_gpvae_less_than_65_subgroup = toolkits.calc_lower_and_upper_bound_percentile(results_bootstrap_gpvae_less_than_65_subgroup)\n",
    "\n",
    "print(lower_bounds_gpvae_less_than_65_subgroup)\n",
    "print(upper_bounds_gpvae_less_than_65_subgroup)"
   ]
  },
  {
   "cell_type": "markdown",
   "metadata": {},
   "source": [
    "#### Mean values of lower bound and upper bound"
   ]
  },
  {
   "cell_type": "code",
   "execution_count": null,
   "metadata": {},
   "outputs": [
    {
     "name": "stdout",
     "output_type": "stream",
     "text": [
      "[np.float64(0.9980590966516626), np.float64(1.303041451091923), np.float64(0.7735175515126587), np.float64(0.7114328984502487), np.float64(0.7556947475890312)]\n"
     ]
    }
   ],
   "source": [
    "mean_values_ci_gpvae_less_than_65_subgroup  = toolkits.calc_mean_values_ci(lower_bounds_gpvae_less_than_65_subgroup, upper_bounds_gpvae_less_than_65_subgroup)\n",
    "\n",
    "print(mean_values_ci_gpvae_less_than_65_subgroup)"
   ]
  },
  {
   "cell_type": "markdown",
   "metadata": {},
   "source": [
    "### Confidence Interval (ICUType 1 subgroup)"
   ]
  },
  {
   "cell_type": "markdown",
   "metadata": {},
   "source": [
    "#### Distribution Bootstrap for the Top 5 variables with Largest Differences in MAE (Mean Absolute Error) "
   ]
  },
  {
   "cell_type": "code",
   "execution_count": null,
   "metadata": {},
   "outputs": [],
   "source": [
    "indices = [28, 31, 6, 0, 32, 24]\n",
    "\n",
    "results_bootstrap_gpvae_ICUType_1_subgroup = []\n",
    "\n",
    "for i in indices:\n",
    "       results_bootstrap_gpvae_ICUType_1_subgroup.append(toolkits.bootstrap_v2(testing_ae_gpvae_variables_standard, indicating_mask_variable_standard_norm, 6, i, 9000))\n",
    "\n"
   ]
  },
  {
   "cell_type": "markdown",
   "metadata": {},
   "source": [
    "#### Calculating the mean and standard deviation of the bootstrap distribution"
   ]
  },
  {
   "cell_type": "code",
   "execution_count": null,
   "metadata": {},
   "outputs": [
    {
     "name": "stdout",
     "output_type": "stream",
     "text": [
      "[np.float64(0.6483091463618806), np.float64(1.3005919320977053), np.float64(0.33621544291809946), np.float64(0.9516869230809619), np.float64(0.7011323074928193)]\n",
      "[np.float64(0.1757378683731772), np.float64(0.394817511091146), np.float64(0.03659267024585622), np.float64(0.2564354771316096), np.float64(0.12503221922537475)]\n"
     ]
    }
   ],
   "source": [
    "means_bootstraps_gpvae_ICUType_1_subgroup, standards_deviations_gpvae_ICUType_1_subgroup = toolkits.calc_mean_and_standard_deviation(results_bootstrap_gpvae_ICUType_1_subgroup)\n",
    "\n",
    "print(means_bootstraps_gpvae_ICUType_1_subgroup)\n",
    "print(standards_deviations_gpvae_ICUType_1_subgroup)\n"
   ]
  },
  {
   "cell_type": "markdown",
   "metadata": {},
   "source": [
    "#### Calculating lower bound and upper bound"
   ]
  },
  {
   "cell_type": "code",
   "execution_count": null,
   "metadata": {},
   "outputs": [
    {
     "name": "stdout",
     "output_type": "stream",
     "text": [
      "[np.float64(0.3038692536306127), np.float64(0.5267638298933158), np.float64(0.26449512713807083), np.float64(0.44908262354466255), np.float64(0.4560736609039683)]\n",
      "[np.float64(0.9927490390931486), np.float64(2.074420034302095), np.float64(0.4079357586981281), np.float64(1.4542912226172613), np.float64(0.9461909540816703)]\n"
     ]
    }
   ],
   "source": [
    "lower_bounds_gpvae_ICUType_1_subgroup, upper_bounds_gpvae_ICUType_1_subgroup = toolkits.calc_lower_and_upper_bound(results_bootstrap_gpvae_ICUType_1_subgroup, means_bootstraps_gpvae_ICUType_1_subgroup, standards_deviations_gpvae_ICUType_1_subgroup)\n",
    "\n",
    "print(lower_bounds_gpvae_ICUType_1_subgroup)\n",
    "print(upper_bounds_gpvae_ICUType_1_subgroup)"
   ]
  },
  {
   "cell_type": "code",
   "execution_count": null,
   "metadata": {},
   "outputs": [
    {
     "name": "stdout",
     "output_type": "stream",
     "text": [
      "[np.float64(0.40125803176394215), np.float64(0.5936642239596918), np.float64(0.2683022144430938), np.float64(0.5033986852974973), np.float64(0.47548502830101885)]\n",
      "[np.float64(1.063807121909927), np.float64(2.131667060036898), np.float64(0.41176634647184374), np.float64(1.4944066541525494), np.float64(0.9650383139521109)]\n"
     ]
    }
   ],
   "source": [
    "lower_bounds_gpvae_ICUType_1_subgroup, upper_bounds_gpvae_ICUType_1_subgroup = toolkits.calc_lower_and_upper_bound_percentile(results_bootstrap_gpvae_ICUType_1_subgroup)\n",
    "\n",
    "print(lower_bounds_gpvae_ICUType_1_subgroup)\n",
    "print(upper_bounds_gpvae_ICUType_1_subgroup)"
   ]
  },
  {
   "cell_type": "markdown",
   "metadata": {},
   "source": [
    "#### Mean values of lower bound and upper bound"
   ]
  },
  {
   "cell_type": "code",
   "execution_count": null,
   "metadata": {},
   "outputs": [
    {
     "name": "stdout",
     "output_type": "stream",
     "text": [
      "[np.float64(0.7325325768369346), np.float64(1.3626656419982948), np.float64(0.34003428045746875), np.float64(0.9989026697250234), np.float64(0.7202616711265649)]\n"
     ]
    }
   ],
   "source": [
    "mean_values_ci_gpvae_ICUType_1_subgroup  = toolkits.calc_mean_values_ci(lower_bounds_gpvae_ICUType_1_subgroup, upper_bounds_gpvae_ICUType_1_subgroup)\n",
    "\n",
    "print(mean_values_ci_gpvae_ICUType_1_subgroup)"
   ]
  },
  {
   "cell_type": "markdown",
   "metadata": {},
   "source": [
    "### Confidence Interval (ICUType 2 subgroup)"
   ]
  },
  {
   "cell_type": "markdown",
   "metadata": {},
   "source": [
    "#### Distribution Bootstrap for the Top 5 variables with Largest Differences in MAE (Mean Absolute Error) "
   ]
  },
  {
   "cell_type": "code",
   "execution_count": null,
   "metadata": {},
   "outputs": [],
   "source": [
    "indices = [28, 31, 6, 0, 32, 24]\n",
    "\n",
    "results_bootstrap_gpvae_ICUType_2_subgroup = []\n",
    "\n",
    "for i in indices:\n",
    "       results_bootstrap_gpvae_ICUType_2_subgroup.append(toolkits.bootstrap_v2(testing_ae_gpvae_variables_standard, indicating_mask_variable_standard_norm, 7, i, 9000))\n",
    "\n"
   ]
  },
  {
   "cell_type": "markdown",
   "metadata": {},
   "source": [
    "#### Calculating the mean and standard deviation of the bootstrap distribution"
   ]
  },
  {
   "cell_type": "code",
   "execution_count": null,
   "metadata": {},
   "outputs": [
    {
     "name": "stdout",
     "output_type": "stream",
     "text": [
      "[np.float64(0.41865492248808783), np.float64(0.41329206020830106), np.float64(0.3986298803532976), np.float64(0.0), np.float64(0.3895726678951274)]\n",
      "[np.float64(0.02584064352594675), np.float64(0.1273660522678165), np.float64(0.031072396700507557), np.float64(0.0), np.float64(0.04981840308787588)]\n"
     ]
    }
   ],
   "source": [
    "means_bootstraps_gpvae_ICUType_2_subgroup, standards_deviations_gpvae_ICUType_2_subgroup = toolkits.calc_mean_and_standard_deviation(results_bootstrap_gpvae_ICUType_2_subgroup)\n",
    "\n",
    "print(means_bootstraps_gpvae_ICUType_2_subgroup)\n",
    "print(standards_deviations_gpvae_ICUType_2_subgroup) \n"
   ]
  },
  {
   "cell_type": "markdown",
   "metadata": {},
   "source": [
    "#### Calculating lower bound and upper bound"
   ]
  },
  {
   "cell_type": "code",
   "execution_count": null,
   "metadata": {},
   "outputs": [
    {
     "name": "stdout",
     "output_type": "stream",
     "text": [
      "[np.float64(0.3680081918398941), np.float64(0.16365918491033465), np.float64(0.3377291019069616), np.float64(0.0), np.float64(0.2919303920755917)]\n",
      "[np.float64(0.4693016531362816), np.float64(0.6629249355062674), np.float64(0.4595306587996336), np.float64(0.0), np.float64(0.4872149437146631)]\n"
     ]
    }
   ],
   "source": [
    "lower_bounds_gpvae_ICUType_2_subgroup, upper_bounds_gpvae_ICUType_2_subgroup = toolkits.calc_lower_and_upper_bound(results_bootstrap_gpvae_ICUType_2_subgroup, means_bootstraps_gpvae_ICUType_2_subgroup, standards_deviations_gpvae_ICUType_2_subgroup)\n",
    "\n",
    "print(lower_bounds_gpvae_ICUType_2_subgroup)\n",
    "print(upper_bounds_gpvae_ICUType_2_subgroup)"
   ]
  },
  {
   "cell_type": "code",
   "execution_count": null,
   "metadata": {},
   "outputs": [
    {
     "name": "stdout",
     "output_type": "stream",
     "text": [
      "[np.float64(0.37003655737537194), np.float64(0.1282699726592907), np.float64(0.33761345993386227), np.float64(0.0), np.float64(0.2977723861432638)]\n",
      "[np.float64(0.46990720163528205), np.float64(0.6636382998956522), np.float64(0.45932989831734555), np.float64(0.0), np.float64(0.493490121632228)]\n"
     ]
    }
   ],
   "source": [
    "lower_bounds_gpvae_ICUType_2_subgroup, upper_bounds_gpvae_ICUType_2_subgroup = toolkits.calc_lower_and_upper_bound_percentile(results_bootstrap_gpvae_ICUType_2_subgroup)\n",
    "\n",
    "print(lower_bounds_gpvae_ICUType_2_subgroup)\n",
    "print(upper_bounds_gpvae_ICUType_2_subgroup)"
   ]
  },
  {
   "cell_type": "markdown",
   "metadata": {},
   "source": [
    "#### Mean values of lower bound and upper bound"
   ]
  },
  {
   "cell_type": "code",
   "execution_count": null,
   "metadata": {},
   "outputs": [
    {
     "name": "stdout",
     "output_type": "stream",
     "text": [
      "[np.float64(0.419971879505327), np.float64(0.39595413627747145), np.float64(0.3984716791256039), np.float64(0.0), np.float64(0.3956312538877459)]\n"
     ]
    }
   ],
   "source": [
    "mean_values_ci_gpvae_ICUType_2_subgroup  = toolkits.calc_mean_values_ci(lower_bounds_gpvae_ICUType_2_subgroup, upper_bounds_gpvae_ICUType_2_subgroup)\n",
    "\n",
    "print(mean_values_ci_gpvae_ICUType_2_subgroup)"
   ]
  },
  {
   "cell_type": "markdown",
   "metadata": {},
   "source": [
    "### Confidence Interval (ICUType 3 subgroup)"
   ]
  },
  {
   "cell_type": "markdown",
   "metadata": {},
   "source": [
    "#### Distribution Bootstrap for the Top 5 variables with Largest Differences in MAE (Mean Absolute Error) "
   ]
  },
  {
   "cell_type": "code",
   "execution_count": null,
   "metadata": {},
   "outputs": [],
   "source": [
    "indices = [28, 31, 6, 0, 32, 24]\n",
    "\n",
    "results_bootstrap_gpvae_ICUType_3_subgroup = []\n",
    "\n",
    "for i in indices:\n",
    "       results_bootstrap_gpvae_ICUType_3_subgroup.append(toolkits.bootstrap_v2(testing_ae_gpvae_variables_standard, indicating_mask_variable_standard_norm, 8, i, 9000))\n",
    "\n"
   ]
  },
  {
   "cell_type": "markdown",
   "metadata": {},
   "source": [
    "#### Calculating the mean and standard deviation of the bootstrap distribution"
   ]
  },
  {
   "cell_type": "code",
   "execution_count": null,
   "metadata": {},
   "outputs": [
    {
     "name": "stdout",
     "output_type": "stream",
     "text": [
      "[np.float64(1.6419263666653052), np.float64(0.5686112856905978), np.float64(1.1680702008354567), np.float64(0.5330030471491659), np.float64(0.32651285135754826)]\n",
      "[np.float64(0.4450416566208062), np.float64(0.08636182609599395), np.float64(0.44671984500461664), np.float64(0.09361158468271201), np.float64(0.03173084808226046)]\n"
     ]
    }
   ],
   "source": [
    "means_bootstraps_gpvae_ICUType_3_subgroup, standards_deviations_gpvae_ICUType_3_subgroup = toolkits.calc_mean_and_standard_deviation(results_bootstrap_gpvae_ICUType_3_subgroup)\n",
    "\n",
    "print(means_bootstraps_gpvae_ICUType_3_subgroup)\n",
    "print(standards_deviations_gpvae_ICUType_3_subgroup)\n"
   ]
  },
  {
   "cell_type": "markdown",
   "metadata": {},
   "source": [
    "#### Calculating lower bound and upper bound"
   ]
  },
  {
   "cell_type": "code",
   "execution_count": null,
   "metadata": {},
   "outputs": [
    {
     "name": "stdout",
     "output_type": "stream",
     "text": [
      "[np.float64(0.7696607480684834), np.float64(0.3993452169033383), np.float64(0.2925153934470929), np.float64(0.349527712635329), np.float64(0.2643215319174059)]\n",
      "[np.float64(2.5141919852621273), np.float64(0.7378773544778574), np.float64(2.0436250082238203), np.float64(0.7164783816630028), np.float64(0.3887041707976906)]\n"
     ]
    }
   ],
   "source": [
    "lower_bounds_gpvae_ICUType_3_subgroup, upper_bounds_gpvae_ICUType_3_subgroup = toolkits.calc_lower_and_upper_bound(results_bootstrap_gpvae_ICUType_3_subgroup, means_bootstraps_gpvae_ICUType_3_subgroup, standards_deviations_gpvae_ICUType_3_subgroup)\n",
    "\n",
    "print(lower_bounds_gpvae_ICUType_3_subgroup)\n",
    "print(upper_bounds_gpvae_ICUType_3_subgroup)"
   ]
  },
  {
   "cell_type": "code",
   "execution_count": null,
   "metadata": {},
   "outputs": [
    {
     "name": "stdout",
     "output_type": "stream",
     "text": [
      "[np.float64(0.8511417857281199), np.float64(0.3889523105084295), np.float64(0.4789041637559711), np.float64(0.4163198819867195), np.float64(0.27069763199889035)]\n",
      "[np.float64(2.5823049879653097), np.float64(0.7286224728746608), np.float64(2.1860913430001165), np.float64(0.6696992193609029), np.float64(0.395096127094224)]\n"
     ]
    }
   ],
   "source": [
    "lower_bounds_gpvae_ICUType_3_subgroup, upper_bounds_gpvae_ICUType_3_subgroup = toolkits.calc_lower_and_upper_bound_percentile(results_bootstrap_gpvae_ICUType_3_subgroup)\n",
    "\n",
    "print(lower_bounds_gpvae_ICUType_3_subgroup)\n",
    "print(upper_bounds_gpvae_ICUType_3_subgroup)"
   ]
  },
  {
   "cell_type": "markdown",
   "metadata": {},
   "source": [
    "#### Mean values of lower bound and upper bound"
   ]
  },
  {
   "cell_type": "code",
   "execution_count": null,
   "metadata": {},
   "outputs": [
    {
     "name": "stdout",
     "output_type": "stream",
     "text": [
      "[np.float64(1.7167233868467149), np.float64(0.5587873916915451), np.float64(1.3324977533780438), np.float64(0.5430095506738112), np.float64(0.33289687954655717)]\n"
     ]
    }
   ],
   "source": [
    "mean_values_ci_gpvae_ICUType_3_subgroup  = toolkits.calc_mean_values_ci(lower_bounds_gpvae_ICUType_3_subgroup, upper_bounds_gpvae_ICUType_3_subgroup)\n",
    "\n",
    "print(mean_values_ci_gpvae_ICUType_3_subgroup)"
   ]
  },
  {
   "cell_type": "markdown",
   "metadata": {},
   "source": [
    "### Confidence Interval (ICUType 4 subgroup)"
   ]
  },
  {
   "cell_type": "markdown",
   "metadata": {},
   "source": [
    "#### Distribution Bootstrap for the Top 5 variables with Largest Differences in MAE (Mean Absolute Error) "
   ]
  },
  {
   "cell_type": "code",
   "execution_count": null,
   "metadata": {},
   "outputs": [],
   "source": [
    "indices = [28, 31, 6, 0, 32, 24]\n",
    "\n",
    "results_bootstrap_gpvae_ICUType_4_subgroup = []\n",
    "\n",
    "for i in indices:\n",
    "       results_bootstrap_gpvae_ICUType_4_subgroup.append(toolkits.bootstrap_v2(testing_ae_gpvae_variables_standard, indicating_mask_variable_standard_norm, 9, i, 9000))\n",
    "\n"
   ]
  },
  {
   "cell_type": "markdown",
   "metadata": {},
   "source": [
    "#### Calculating the mean and standard deviation of the bootstrap distribution"
   ]
  },
  {
   "cell_type": "code",
   "execution_count": null,
   "metadata": {},
   "outputs": [
    {
     "name": "stdout",
     "output_type": "stream",
     "text": [
      "[np.float64(0.5397782999782886), np.float64(0.859346936761451), np.float64(0.576710689772995), np.float64(0.6403309632458108), np.float64(0.2667977074457082)]\n",
      "[np.float64(0.082608109086022), np.float64(0.208284459165866), np.float64(0.07224826311948214), np.float64(0.22693806359571855), np.float64(0.04697185841900373)]\n"
     ]
    }
   ],
   "source": [
    "means_bootstraps_gpvae_ICUType_4_subgroup, standards_deviations_gpvae_ICUType_4_subgroup = toolkits.calc_mean_and_standard_deviation(results_bootstrap_gpvae_ICUType_4_subgroup)\n",
    "\n",
    "print(means_bootstraps_gpvae_ICUType_4_subgroup)\n",
    "print(standards_deviations_gpvae_ICUType_4_subgroup)\n"
   ]
  },
  {
   "cell_type": "markdown",
   "metadata": {},
   "source": [
    "#### Calculating lower bound and upper bound"
   ]
  },
  {
   "cell_type": "code",
   "execution_count": null,
   "metadata": {},
   "outputs": [
    {
     "name": "stdout",
     "output_type": "stream",
     "text": [
      "[np.float64(0.3778693813387295), np.float64(0.4511168982569501), np.float64(0.43510669611323655), np.float64(0.19554053187694215), np.float64(0.17473455665754634)]\n",
      "[np.float64(0.7016872186178478), np.float64(1.267576975265952), np.float64(0.7183146834327534), np.float64(1.0851213946146796), np.float64(0.35886085823387004)]\n"
     ]
    }
   ],
   "source": [
    "lower_bounds_gpvae_ICUType_4_subgroup, upper_bounds_gpvae_ICUType_4_subgroup = toolkits.calc_lower_and_upper_bound(results_bootstrap_gpvae_ICUType_4_subgroup, means_bootstraps_gpvae_ICUType_4_subgroup, standards_deviations_gpvae_ICUType_4_subgroup)\n",
    "\n",
    "print(lower_bounds_gpvae_ICUType_4_subgroup)\n",
    "print(upper_bounds_gpvae_ICUType_4_subgroup)"
   ]
  },
  {
   "cell_type": "code",
   "execution_count": null,
   "metadata": {},
   "outputs": [
    {
     "name": "stdout",
     "output_type": "stream",
     "text": [
      "[np.float64(0.3962725121716412), np.float64(0.6102348466879253), np.float64(0.44557232590491413), np.float64(0.1897127655413451), np.float64(0.1860317343859407)]\n",
      "[np.float64(0.7182152499516535), np.float64(1.3679689773409256), np.float64(0.7279097083542633), np.float64(1.106896006145555), np.float64(0.36649335311257814)]\n"
     ]
    }
   ],
   "source": [
    "lower_bounds_gpvae_ICUType_4_subgroup, upper_bounds_gpvae_ICUType_4_subgroup = toolkits.calc_lower_and_upper_bound_percentile(results_bootstrap_gpvae_ICUType_4_subgroup)\n",
    "\n",
    "print(lower_bounds_gpvae_ICUType_4_subgroup)\n",
    "print(upper_bounds_gpvae_ICUType_4_subgroup)"
   ]
  },
  {
   "cell_type": "markdown",
   "metadata": {},
   "source": [
    "#### Mean values of lower bound and upper bound"
   ]
  },
  {
   "cell_type": "code",
   "execution_count": null,
   "metadata": {},
   "outputs": [
    {
     "name": "stdout",
     "output_type": "stream",
     "text": [
      "[np.float64(0.5572438810616474), np.float64(0.9891019120144254), np.float64(0.5867410171295887), np.float64(0.6483043858434501), np.float64(0.2762625437492594)]\n"
     ]
    }
   ],
   "source": [
    "mean_values_ci_gpvae_ICUType_4_subgroup  = toolkits.calc_mean_values_ci(lower_bounds_gpvae_ICUType_4_subgroup, upper_bounds_gpvae_ICUType_4_subgroup)\n",
    "\n",
    "print(mean_values_ci_gpvae_ICUType_4_subgroup)"
   ]
  },
  {
   "cell_type": "markdown",
   "metadata": {},
   "source": [
    "### Confidence Interval (Undefined classification subgroup)"
   ]
  },
  {
   "cell_type": "markdown",
   "metadata": {},
   "source": [
    "#### Distribution Bootstrap for the Top 5 variables with Largest Differences in MAE (Mean Absolute Error) "
   ]
  },
  {
   "cell_type": "code",
   "execution_count": null,
   "metadata": {},
   "outputs": [],
   "source": [
    "indices = [32, 0, 6, 31, 5, 1, 35]\n",
    "\n",
    "results_bootstrap_gpvae_undefined_classification_subgroup = []\n",
    "\n",
    "for i in indices:\n",
    "       results_bootstrap_gpvae_undefined_classification_subgroup.append(toolkits.bootstrap_v2(testing_ae_gpvae_variables_standard, indicating_mask_variable_standard_norm, 10, i, 9000))\n",
    "\n"
   ]
  },
  {
   "cell_type": "markdown",
   "metadata": {},
   "source": [
    "#### Calculating the mean and standard deviation of the bootstrap distribution"
   ]
  },
  {
   "cell_type": "code",
   "execution_count": null,
   "metadata": {},
   "outputs": [
    {
     "name": "stdout",
     "output_type": "stream",
     "text": [
      "[np.float64(0.4380686480106528), np.float64(0.810384525274796), np.float64(0.5494012743288357), np.float64(0.48685569097517045), np.float64(0.3422795965485698)]\n",
      "[np.float64(0.10669361031921458), np.float64(0.12159702527267358), np.float64(0.1923318409753984), np.float64(0.04982752076838099), np.float64(0.04088206729160392)]\n"
     ]
    }
   ],
   "source": [
    "means_bootstraps_gpvae_undefined_classification_subgroup, standards_deviations_gpvae_undefined_classification_subgroup = toolkits.calc_mean_and_standard_deviation(results_bootstrap_gpvae_undefined_classification_subgroup)\n",
    "\n",
    "print(means_bootstraps_gpvae_undefined_classification_subgroup)\n",
    "print(standards_deviations_gpvae_undefined_classification_subgroup)\n"
   ]
  },
  {
   "cell_type": "markdown",
   "metadata": {},
   "source": [
    "#### Calculating lower bound and upper bound"
   ]
  },
  {
   "cell_type": "code",
   "execution_count": null,
   "metadata": {},
   "outputs": [
    {
     "name": "stdout",
     "output_type": "stream",
     "text": [
      "[np.float64(0.22895301440444119), np.float64(0.572058735113149), np.float64(0.1724377929367698), np.float64(0.3891955448302221), np.float64(0.2621522170434832)]\n",
      "[np.float64(0.6471842816168645), np.float64(1.048710315436443), np.float64(0.9263647557209016), np.float64(0.5845158371201188), np.float64(0.42240697605365646)]\n"
     ]
    }
   ],
   "source": [
    "lower_bounds_gpvae_undefined_classification_subgroup, upper_bounds_gpvae_undefined_classification_subgroup = toolkits.calc_lower_and_upper_bound(results_bootstrap_gpvae_undefined_classification_subgroup, means_bootstraps_gpvae_undefined_classification_subgroup, standards_deviations_gpvae_undefined_classification_subgroup)\n",
    "\n",
    "print(lower_bounds_gpvae_undefined_classification_subgroup)\n",
    "print(upper_bounds_gpvae_undefined_classification_subgroup)"
   ]
  },
  {
   "cell_type": "code",
   "execution_count": null,
   "metadata": {},
   "outputs": [
    {
     "name": "stdout",
     "output_type": "stream",
     "text": [
      "[np.float64(0.27280385741275304), np.float64(0.6044411251679942), np.float64(0.17908935536195858), np.float64(0.39633931600605954), np.float64(0.2733956086551003)]\n",
      "[np.float64(0.6833212230906859), np.float64(1.048822347072997), np.float64(0.9421401025105941), np.float64(0.5895113413591085), np.float64(0.43122712559066695)]\n"
     ]
    }
   ],
   "source": [
    "lower_bounds_gpvae_undefined_classification_subgroup, upper_bounds_gpvae_undefined_classification_subgroup = toolkits.calc_lower_and_upper_bound_percentile(results_bootstrap_gpvae_undefined_classification_subgroup)\n",
    "\n",
    "print(lower_bounds_gpvae_undefined_classification_subgroup)\n",
    "print(upper_bounds_gpvae_undefined_classification_subgroup)"
   ]
  },
  {
   "cell_type": "markdown",
   "metadata": {},
   "source": [
    "#### Mean values of lower bound and upper bound"
   ]
  },
  {
   "cell_type": "code",
   "execution_count": null,
   "metadata": {},
   "outputs": [
    {
     "name": "stdout",
     "output_type": "stream",
     "text": [
      "[np.float64(0.47806254025171946), np.float64(0.8266317361204956), np.float64(0.5606147289362764), np.float64(0.49292532868258404), np.float64(0.35231136712288363)]\n"
     ]
    }
   ],
   "source": [
    "mean_values_ci_gpvae_undefined_classification_subgroup  = toolkits.calc_mean_values_ci(lower_bounds_gpvae_undefined_classification_subgroup, upper_bounds_gpvae_undefined_classification_subgroup)\n",
    "\n",
    "print(mean_values_ci_gpvae_undefined_classification_subgroup)"
   ]
  },
  {
   "cell_type": "markdown",
   "metadata": {},
   "source": [
    "### Confidence Interval (Low weight classification subgroup)"
   ]
  },
  {
   "cell_type": "markdown",
   "metadata": {},
   "source": [
    "#### Distribution Bootstrap for the Top 5 variables with Largest Differences in MAE (Mean Absolute Error) "
   ]
  },
  {
   "cell_type": "code",
   "execution_count": null,
   "metadata": {},
   "outputs": [],
   "source": [
    "indices = [32, 0, 6, 31, 5, 1, 35]\n",
    "\n",
    "results_bootstrap_gpvae_low_weight_classification_subgroup = []\n",
    "\n",
    "for i in indices:\n",
    "       results_bootstrap_gpvae_low_weight_classification_subgroup.append(toolkits.bootstrap_v2(testing_ae_gpvae_variables_standard, indicating_mask_variable_standard_norm, 11, i, 9000))\n",
    "\n"
   ]
  },
  {
   "cell_type": "markdown",
   "metadata": {},
   "source": [
    "#### Calculating the mean and standard deviation of the bootstrap distribution"
   ]
  },
  {
   "cell_type": "code",
   "execution_count": null,
   "metadata": {},
   "outputs": [
    {
     "name": "stdout",
     "output_type": "stream",
     "text": [
      "[np.float64(0.27962627886939556), np.float64(0.0), np.float64(0.018087519792984636), np.float64(1.7335622483529622), np.float64(0.35387523253294884)]\n",
      "[np.float64(0.1314506383399375), np.float64(0.0), np.float64(0.014070374962782703), np.float64(1.338810760091147), np.float64(0.2759980988560088)]\n"
     ]
    }
   ],
   "source": [
    "means_bootstraps_gpvae_low_weight_classification_subgroup, standards_deviations_gpvae_low_weight_classification_subgroup = toolkits.calc_mean_and_standard_deviation(results_bootstrap_gpvae_low_weight_classification_subgroup)\n",
    "\n",
    "print(means_bootstraps_gpvae_low_weight_classification_subgroup)\n",
    "print(standards_deviations_gpvae_low_weight_classification_subgroup)\n"
   ]
  },
  {
   "cell_type": "markdown",
   "metadata": {},
   "source": [
    "#### Calculating lower bound and upper bound"
   ]
  },
  {
   "cell_type": "code",
   "execution_count": null,
   "metadata": {},
   "outputs": [
    {
     "name": "stdout",
     "output_type": "stream",
     "text": [
      "[np.float64(0.021987761978318032), np.float64(0.0), np.float64(-0.009489908383043564), np.float64(-0.8904586235403804), np.float64(-0.18707110102635394)]\n",
      "[np.float64(0.537264795760473), np.float64(0.0), np.float64(0.04566494796901284), np.float64(4.357583120246305), np.float64(0.8948215660922516)]\n"
     ]
    }
   ],
   "source": [
    "lower_bounds_gpvae_low_weight_classification_subgroup, upper_bounds_gpvae_low_weight_classification_subgroup = toolkits.calc_lower_and_upper_bound(results_bootstrap_gpvae_low_weight_classification_subgroup, means_bootstraps_gpvae_low_weight_classification_subgroup, standards_deviations_gpvae_low_weight_classification_subgroup)\n",
    "\n",
    "print(lower_bounds_gpvae_low_weight_classification_subgroup)\n",
    "print(upper_bounds_gpvae_low_weight_classification_subgroup)"
   ]
  },
  {
   "cell_type": "code",
   "execution_count": null,
   "metadata": {},
   "outputs": [
    {
     "name": "stdout",
     "output_type": "stream",
     "text": [
      "[np.float64(0.11261517001941171), np.float64(0.0), np.float64(0.0), np.float64(0.0), np.float64(0.0)]\n",
      "[np.float64(0.5763994590970901), np.float64(0.0), np.float64(0.02903293706740358), np.float64(3.61181531810428), np.float64(0.5691345769831901)]\n"
     ]
    }
   ],
   "source": [
    "lower_bounds_gpvae_low_weight_classification_subgroup, upper_bounds_gpvae_low_weight_classification_subgroup = toolkits.calc_lower_and_upper_bound_percentile(results_bootstrap_gpvae_low_weight_classification_subgroup)\n",
    "\n",
    "print(lower_bounds_gpvae_low_weight_classification_subgroup)\n",
    "print(upper_bounds_gpvae_low_weight_classification_subgroup)"
   ]
  },
  {
   "cell_type": "markdown",
   "metadata": {},
   "source": [
    "#### Mean values of lower bound and upper bound"
   ]
  },
  {
   "cell_type": "code",
   "execution_count": null,
   "metadata": {},
   "outputs": [
    {
     "name": "stdout",
     "output_type": "stream",
     "text": [
      "[np.float64(0.3445073145582509), np.float64(0.0), np.float64(0.01451646853370179), np.float64(1.80590765905214), np.float64(0.28456728849159507)]\n"
     ]
    }
   ],
   "source": [
    "mean_values_ci_gpvae_low_weight_classification_subgroup  = toolkits.calc_mean_values_ci(lower_bounds_gpvae_low_weight_classification_subgroup, upper_bounds_gpvae_low_weight_classification_subgroup)\n",
    "\n",
    "print(mean_values_ci_gpvae_low_weight_classification_subgroup)"
   ]
  },
  {
   "cell_type": "markdown",
   "metadata": {},
   "source": [
    "### Confidence Interval (Normal weight classification subgroup)"
   ]
  },
  {
   "cell_type": "markdown",
   "metadata": {},
   "source": [
    "#### Distribution Bootstrap for the Top 5 variables with Largest Differences in MAE (Mean Absolute Error) "
   ]
  },
  {
   "cell_type": "code",
   "execution_count": null,
   "metadata": {},
   "outputs": [],
   "source": [
    "indices = [32, 0, 6, 31, 5, 1, 35]\n",
    "\n",
    "results_bootstrap_gpvae_normal_weight_classification_subgroup = []\n",
    "\n",
    "for i in indices:\n",
    "       results_bootstrap_gpvae_normal_weight_classification_subgroup.append(toolkits.bootstrap_v2(testing_ae_gpvae_variables_standard, indicating_mask_variable_standard_norm, 12, i, 9000))\n",
    "\n"
   ]
  },
  {
   "cell_type": "markdown",
   "metadata": {},
   "source": [
    "#### Calculating the mean and standard deviation of the bootstrap distribution"
   ]
  },
  {
   "cell_type": "code",
   "execution_count": null,
   "metadata": {},
   "outputs": [
    {
     "name": "stdout",
     "output_type": "stream",
     "text": [
      "[np.float64(0.2346916968942821), np.float64(0.6829620586258408), np.float64(0.5302113222344054), np.float64(0.5808258829284493), np.float64(0.278969198148233)]\n",
      "[np.float64(0.05009073639504404), np.float64(0.15515558413701028), np.float64(0.286628147720594), np.float64(0.10803654085291374), np.float64(0.057731073754505514)]\n"
     ]
    }
   ],
   "source": [
    "means_bootstraps_gpvae_normal_weight_classification_subgroup, standards_deviations_gpvae_normal_weight_classification_subgroup = toolkits.calc_mean_and_standard_deviation(results_bootstrap_gpvae_normal_weight_classification_subgroup)\n",
    "\n",
    "print(means_bootstraps_gpvae_normal_weight_classification_subgroup)\n",
    "print(standards_deviations_gpvae_normal_weight_classification_subgroup)\n"
   ]
  },
  {
   "cell_type": "markdown",
   "metadata": {},
   "source": [
    "#### Calculating lower bound and upper bound"
   ]
  },
  {
   "cell_type": "code",
   "execution_count": null,
   "metadata": {},
   "outputs": [
    {
     "name": "stdout",
     "output_type": "stream",
     "text": [
      "[np.float64(0.13651565760090606), np.float64(0.3788627017170265), np.float64(-0.03156952425338522), np.float64(0.36907815384244813), np.float64(0.16581837280057665)]\n",
      "[np.float64(0.33286773618765814), np.float64(0.9870614155346551), np.float64(1.091992168722196), np.float64(0.7925736120144504), np.float64(0.39212002349588937)]\n"
     ]
    }
   ],
   "source": [
    "lower_bounds_gpvae_normal_weight_classification_subgroup, upper_bounds_gpvae_normal_weight_classification_subgroup = toolkits.calc_lower_and_upper_bound(results_bootstrap_gpvae_normal_weight_classification_subgroup, means_bootstraps_gpvae_normal_weight_classification_subgroup, standards_deviations_gpvae_normal_weight_classification_subgroup)\n",
    "\n",
    "print(lower_bounds_gpvae_normal_weight_classification_subgroup)\n",
    "print(upper_bounds_gpvae_normal_weight_classification_subgroup)"
   ]
  },
  {
   "cell_type": "code",
   "execution_count": null,
   "metadata": {},
   "outputs": [
    {
     "name": "stdout",
     "output_type": "stream",
     "text": [
      "[np.float64(0.14588778009423162), np.float64(0.3973910819567376), np.float64(0.0), np.float64(0.4018972049104533), np.float64(0.18502148790676368)]\n",
      "[np.float64(0.34023191188512586), np.float64(1.0041134592895729), np.float64(0.8911077112914882), np.float64(0.8207468070781362), np.float64(0.40722004351699315)]\n"
     ]
    }
   ],
   "source": [
    "lower_bounds_gpvae_normal_weight_classification_subgroup, upper_bounds_gpvae_normal_weight_classification_subgroup = toolkits.calc_lower_and_upper_bound_percentile(results_bootstrap_gpvae_normal_weight_classification_subgroup)\n",
    "\n",
    "print(lower_bounds_gpvae_normal_weight_classification_subgroup)\n",
    "print(upper_bounds_gpvae_normal_weight_classification_subgroup)"
   ]
  },
  {
   "cell_type": "markdown",
   "metadata": {},
   "source": [
    "#### Mean values of lower bound and upper bound"
   ]
  },
  {
   "cell_type": "code",
   "execution_count": null,
   "metadata": {},
   "outputs": [
    {
     "name": "stdout",
     "output_type": "stream",
     "text": [
      "[np.float64(0.24305984598967872), np.float64(0.7007522706231553), np.float64(0.4455538556457441), np.float64(0.6113220059942948), np.float64(0.2961207657118784)]\n"
     ]
    }
   ],
   "source": [
    "mean_values_ci_gpvae_normal_weight_classification_subgroup  = toolkits.calc_mean_values_ci(lower_bounds_gpvae_normal_weight_classification_subgroup, upper_bounds_gpvae_normal_weight_classification_subgroup)\n",
    "\n",
    "print(mean_values_ci_gpvae_normal_weight_classification_subgroup)"
   ]
  },
  {
   "cell_type": "markdown",
   "metadata": {},
   "source": [
    "### Confidence Interval (Overweight classification subgroup)"
   ]
  },
  {
   "cell_type": "markdown",
   "metadata": {},
   "source": [
    "#### Distribution Bootstrap for the Top 5 variables with Largest Differences in MAE (Mean Absolute Error) "
   ]
  },
  {
   "cell_type": "code",
   "execution_count": null,
   "metadata": {},
   "outputs": [],
   "source": [
    "indices = [32, 0, 6, 31, 5, 1, 35]\n",
    "\n",
    "results_bootstrap_gpvae_overweight_classification_subgroup = []\n",
    "\n",
    "for i in indices:\n",
    "       results_bootstrap_gpvae_overweight_classification_subgroup.append(toolkits.bootstrap_v2(testing_ae_gpvae_variables_standard, indicating_mask_variable_standard_norm, 13, i, 9000))\n",
    "\n"
   ]
  },
  {
   "cell_type": "markdown",
   "metadata": {},
   "source": [
    "#### Calculating the mean and standard deviation of the bootstrap distribution"
   ]
  },
  {
   "cell_type": "code",
   "execution_count": null,
   "metadata": {},
   "outputs": [
    {
     "name": "stdout",
     "output_type": "stream",
     "text": [
      "[np.float64(0.5564143670964794), np.float64(1.1301856012799774), np.float64(1.3561246737109942), np.float64(0.40160781552156305), np.float64(0.6333028409572671)]\n",
      "[np.float64(0.15270642047354707), np.float64(0.5176214120430332), np.float64(0.30766416105174693), np.float64(0.054961310414240384), np.float64(0.14637975694197797)]\n"
     ]
    }
   ],
   "source": [
    "means_bootstraps_gpvae_overweight_classification_subgroup, standards_deviations_gpvae_overweight_classification_subgroup = toolkits.calc_mean_and_standard_deviation(results_bootstrap_gpvae_overweight_classification_subgroup)\n",
    "\n",
    "print(means_bootstraps_gpvae_overweight_classification_subgroup)\n",
    "print(standards_deviations_gpvae_overweight_classification_subgroup)\n"
   ]
  },
  {
   "cell_type": "markdown",
   "metadata": {},
   "source": [
    "#### Calculating lower bound and upper bound"
   ]
  },
  {
   "cell_type": "code",
   "execution_count": null,
   "metadata": {},
   "outputs": [
    {
     "name": "stdout",
     "output_type": "stream",
     "text": [
      "[np.float64(0.2571152827602972), np.float64(0.1156662760488647), np.float64(0.7531139987158394), np.float64(0.2938856265665257), np.float64(0.3464037892852633)]\n",
      "[np.float64(0.8557134514326616), np.float64(2.14470492651109), np.float64(1.9591353487061491), np.float64(0.5093300044766004), np.float64(0.9202018926292709)]\n"
     ]
    }
   ],
   "source": [
    "lower_bounds_gpvae_overweight_classification_subgroup, upper_bounds_gpvae_overweight_classification_subgroup = toolkits.calc_lower_and_upper_bound(results_bootstrap_gpvae_overweight_classification_subgroup, means_bootstraps_gpvae_overweight_classification_subgroup, standards_deviations_gpvae_overweight_classification_subgroup)\n",
    "\n",
    "print(lower_bounds_gpvae_overweight_classification_subgroup)\n",
    "print(upper_bounds_gpvae_overweight_classification_subgroup)"
   ]
  },
  {
   "cell_type": "code",
   "execution_count": null,
   "metadata": {},
   "outputs": [
    {
     "name": "stdout",
     "output_type": "stream",
     "text": [
      "[np.float64(0.2909818311881295), np.float64(0.5432087030758634), np.float64(0.7193394854565662), np.float64(0.30343781283710475), np.float64(0.41735766651888895)]\n",
      "[np.float64(0.8911536264290908), np.float64(2.3252858079301166), np.float64(1.9182719093142704), np.float64(0.5184826723270521), np.float64(0.9705782544024717)]\n"
     ]
    }
   ],
   "source": [
    "lower_bounds_gpvae_overweight_classification_subgroup, upper_bounds_gpvae_overweight_classification_subgroup = toolkits.calc_lower_and_upper_bound_percentile(results_bootstrap_gpvae_overweight_classification_subgroup)\n",
    "\n",
    "print(lower_bounds_gpvae_overweight_classification_subgroup)\n",
    "print(upper_bounds_gpvae_overweight_classification_subgroup)"
   ]
  },
  {
   "cell_type": "markdown",
   "metadata": {},
   "source": [
    "#### Mean values of lower bound and upper bound"
   ]
  },
  {
   "cell_type": "code",
   "execution_count": null,
   "metadata": {},
   "outputs": [
    {
     "name": "stdout",
     "output_type": "stream",
     "text": [
      "[np.float64(0.5910677288086101), np.float64(1.43424725550299), np.float64(1.3188056973854183), np.float64(0.4109602425820784), np.float64(0.6939679604606803)]\n"
     ]
    }
   ],
   "source": [
    "mean_values_ci_gpvae_overweight_classification_subgroup  = toolkits.calc_mean_values_ci(lower_bounds_gpvae_overweight_classification_subgroup, upper_bounds_gpvae_overweight_classification_subgroup)\n",
    "\n",
    "print(mean_values_ci_gpvae_overweight_classification_subgroup)"
   ]
  },
  {
   "cell_type": "markdown",
   "metadata": {},
   "source": [
    "### Confidence Interval (Obesity 1 classification subgroup)"
   ]
  },
  {
   "cell_type": "markdown",
   "metadata": {},
   "source": [
    "#### Distribution Bootstrap for the Top 5 variables with Largest Differences in MAE (Mean Absolute Error) "
   ]
  },
  {
   "cell_type": "code",
   "execution_count": null,
   "metadata": {},
   "outputs": [],
   "source": [
    "indices = [32, 0, 6, 31, 5, 1, 35]\n",
    "\n",
    "results_bootstrap_gpvae_obs1_classification_subgroup = []\n",
    "\n",
    "for i in indices:\n",
    "       results_bootstrap_gpvae_obs1_classification_subgroup.append(toolkits.bootstrap_v2(testing_ae_gpvae_variables_standard, indicating_mask_variable_standard_norm, 14, i, 9000))\n",
    "\n"
   ]
  },
  {
   "cell_type": "markdown",
   "metadata": {},
   "source": [
    "#### Calculating the mean and standard deviation of the bootstrap distribution"
   ]
  },
  {
   "cell_type": "code",
   "execution_count": null,
   "metadata": {},
   "outputs": [
    {
     "name": "stdout",
     "output_type": "stream",
     "text": [
      "[np.float64(0.2892920377587374), np.float64(0.51097067128048), np.float64(0.2945826308705735), np.float64(0.35869806508856655), np.float64(0.2497083420368694)]\n",
      "[np.float64(0.04477024141132264), np.float64(0.21764882143250286), np.float64(0.2087658921356739), np.float64(0.04158070331211801), np.float64(0.07261475573256627)]\n"
     ]
    }
   ],
   "source": [
    "means_bootstraps_gpvae_obs1_classification_subgroup, standards_deviations_gpvae_obs1_classification_subgroup = toolkits.calc_mean_and_standard_deviation(results_bootstrap_gpvae_obs1_classification_subgroup)\n",
    "\n",
    "print(means_bootstraps_gpvae_obs1_classification_subgroup)\n",
    "print(standards_deviations_gpvae_obs1_classification_subgroup)\n"
   ]
  },
  {
   "cell_type": "markdown",
   "metadata": {},
   "source": [
    "#### Calculating lower bound and upper bound"
   ]
  },
  {
   "cell_type": "code",
   "execution_count": null,
   "metadata": {},
   "outputs": [
    {
     "name": "stdout",
     "output_type": "stream",
     "text": [
      "[np.float64(0.20154397701338136), np.float64(0.08438681999518499), np.float64(-0.11459099891572105), np.float64(0.2772013841449699), np.float64(0.10738603605486607)]\n",
      "[np.float64(0.3770400985040935), np.float64(0.9375545225657751), np.float64(0.7037562606568681), np.float64(0.4401947460321632), np.float64(0.3920306480188727)]\n"
     ]
    }
   ],
   "source": [
    "lower_bounds_gpvae_obs1_classification_subgroup, upper_bounds_gpvae_obs1_classification_subgroup = toolkits.calc_lower_and_upper_bound(results_bootstrap_gpvae_obs1_classification_subgroup, means_bootstraps_gpvae_obs1_classification_subgroup, standards_deviations_gpvae_obs1_classification_subgroup)\n",
    "\n",
    "print(lower_bounds_gpvae_obs1_classification_subgroup)\n",
    "print(upper_bounds_gpvae_obs1_classification_subgroup)"
   ]
  },
  {
   "cell_type": "code",
   "execution_count": null,
   "metadata": {},
   "outputs": [
    {
     "name": "stdout",
     "output_type": "stream",
     "text": [
      "[np.float64(0.20594410232097654), np.float64(0.0), np.float64(0.0), np.float64(0.27792979388004074), np.float64(0.12724030520186394)]\n",
      "[np.float64(0.38171536826509955), np.float64(0.7107226819397775), np.float64(0.7401267563256191), np.float64(0.4403301387718181), np.float64(0.4075854940220041)]\n"
     ]
    }
   ],
   "source": [
    "lower_bounds_gpvae_obs1_classification_subgroup, upper_bounds_gpvae_obs1_classification_subgroup = toolkits.calc_lower_and_upper_bound_percentile(results_bootstrap_gpvae_obs1_classification_subgroup)\n",
    "\n",
    "print(lower_bounds_gpvae_obs1_classification_subgroup)\n",
    "print(upper_bounds_gpvae_obs1_classification_subgroup)"
   ]
  },
  {
   "cell_type": "markdown",
   "metadata": {},
   "source": [
    "#### Mean values of lower bound and upper bound"
   ]
  },
  {
   "cell_type": "code",
   "execution_count": null,
   "metadata": {},
   "outputs": [
    {
     "name": "stdout",
     "output_type": "stream",
     "text": [
      "[np.float64(0.293829735293038), np.float64(0.35536134096988875), np.float64(0.37006337816280954), np.float64(0.3591299663259294), np.float64(0.26741289961193404)]\n"
     ]
    }
   ],
   "source": [
    "mean_values_ci_gpvae_obs1_classification_subgroup  = toolkits.calc_mean_values_ci(lower_bounds_gpvae_obs1_classification_subgroup, upper_bounds_gpvae_obs1_classification_subgroup)\n",
    "\n",
    "print(mean_values_ci_gpvae_obs1_classification_subgroup)"
   ]
  },
  {
   "cell_type": "markdown",
   "metadata": {},
   "source": [
    "### Confidence Interval (Obesity 2 classification subgroup)"
   ]
  },
  {
   "cell_type": "markdown",
   "metadata": {},
   "source": [
    "#### Distribution Bootstrap for the Top 5 variables with Largest Differences in MAE (Mean Absolute Error) "
   ]
  },
  {
   "cell_type": "code",
   "execution_count": null,
   "metadata": {},
   "outputs": [],
   "source": [
    "indices = [32, 0, 6, 31, 5, 1, 35]\n",
    "\n",
    "results_bootstrap_gpvae_obs2_classification_subgroup = []\n",
    "\n",
    "for i in indices:\n",
    "       results_bootstrap_gpvae_obs2_classification_subgroup.append(toolkits.bootstrap_v2(testing_ae_gpvae_variables_standard, indicating_mask_variable_standard_norm, 15, i, 9000))\n",
    "\n"
   ]
  },
  {
   "cell_type": "markdown",
   "metadata": {},
   "source": [
    "#### Calculating the mean and standard deviation of the bootstrap distribution"
   ]
  },
  {
   "cell_type": "code",
   "execution_count": null,
   "metadata": {},
   "outputs": [
    {
     "name": "stdout",
     "output_type": "stream",
     "text": [
      "[np.float64(0.7689178822445539), np.float64(0.0), np.float64(0.17283022032239628), np.float64(0.3444692144370151), np.float64(1.2349570331697446)]\n",
      "[np.float64(0.3052430913477002), np.float64(0.0), np.float64(0.13213399248397165), np.float64(0.04300155060509514), np.float64(0.9093276033877988)]\n"
     ]
    }
   ],
   "source": [
    "means_bootstraps_gpvae_obs2_classification_subgroup, standards_deviations_gpvae_obs2_classification_subgroup = toolkits.calc_mean_and_standard_deviation(results_bootstrap_gpvae_obs2_classification_subgroup)\n",
    "\n",
    "print(means_bootstraps_gpvae_obs2_classification_subgroup)\n",
    "print(standards_deviations_gpvae_obs2_classification_subgroup)\n"
   ]
  },
  {
   "cell_type": "markdown",
   "metadata": {},
   "source": [
    "#### Calculating lower bound and upper bound"
   ]
  },
  {
   "cell_type": "code",
   "execution_count": null,
   "metadata": {},
   "outputs": [
    {
     "name": "stdout",
     "output_type": "stream",
     "text": [
      "[np.float64(0.1706524166733917), np.float64(0.0), np.float64(-0.08614764607967432), np.float64(0.2601877239716521), np.float64(-0.5472923196184636)]\n",
      "[np.float64(1.367183347815716), np.float64(0.0), np.float64(0.4318080867244669), np.float64(0.42875070490237815), np.float64(3.0172063859579525)]\n"
     ]
    }
   ],
   "source": [
    "lower_bounds_gpvae_obs2_classification_subgroup, upper_bounds_gpvae_obs2_classification_subgroup = toolkits.calc_lower_and_upper_bound(results_bootstrap_gpvae_obs2_classification_subgroup, means_bootstraps_gpvae_obs2_classification_subgroup, standards_deviations_gpvae_obs2_classification_subgroup)\n",
    "\n",
    "print(lower_bounds_gpvae_obs2_classification_subgroup)\n",
    "print(upper_bounds_gpvae_obs2_classification_subgroup)"
   ]
  },
  {
   "cell_type": "code",
   "execution_count": null,
   "metadata": {},
   "outputs": [
    {
     "name": "stdout",
     "output_type": "stream",
     "text": [
      "[np.float64(0.2612911869796691), np.float64(0.0), np.float64(0.0), np.float64(0.26645729138560365), np.float64(0.0)]\n",
      "[np.float64(1.4180964126533249), np.float64(0.0), np.float64(0.273850701215183), np.float64(0.43659344450448784), np.float64(3.1824386190830314)]\n"
     ]
    }
   ],
   "source": [
    "lower_bounds_gpvae_obs2_classification_subgroup, upper_bounds_gpvae_obs2_classification_subgroup = toolkits.calc_lower_and_upper_bound_percentile(results_bootstrap_gpvae_obs2_classification_subgroup)\n",
    "\n",
    "print(lower_bounds_gpvae_obs2_classification_subgroup)\n",
    "print(upper_bounds_gpvae_obs2_classification_subgroup)"
   ]
  },
  {
   "cell_type": "markdown",
   "metadata": {},
   "source": [
    "#### Mean values of lower bound and upper bound"
   ]
  },
  {
   "cell_type": "code",
   "execution_count": null,
   "metadata": {},
   "outputs": [
    {
     "name": "stdout",
     "output_type": "stream",
     "text": [
      "[np.float64(0.8396937998164969), np.float64(0.0), np.float64(0.1369253506075915), np.float64(0.35152536794504574), np.float64(1.5912193095415157)]\n"
     ]
    }
   ],
   "source": [
    "mean_values_ci_gpvae_obs2_classification_subgroup  = toolkits.calc_mean_values_ci(lower_bounds_gpvae_obs2_classification_subgroup, upper_bounds_gpvae_obs2_classification_subgroup)\n",
    "\n",
    "print(mean_values_ci_gpvae_obs2_classification_subgroup)"
   ]
  },
  {
   "cell_type": "markdown",
   "metadata": {},
   "source": [
    "### Confidence Interval (Obesity 3 classification subgroup)"
   ]
  },
  {
   "cell_type": "markdown",
   "metadata": {},
   "source": [
    "#### Distribution Bootstrap for the Top 5 variables with Largest Differences in MAE (Mean Absolute Error) "
   ]
  },
  {
   "cell_type": "code",
   "execution_count": null,
   "metadata": {},
   "outputs": [],
   "source": [
    "indices = [32, 0, 6, 31, 5, 1, 35]\n",
    "\n",
    "\n",
    "results_bootstrap_gpvae_obs3_classification_subgroup = []\n",
    "\n",
    "for i in indices:\n",
    "       results_bootstrap_gpvae_obs3_classification_subgroup.append(toolkits.bootstrap_v2(testing_ae_gpvae_variables_standard, indicating_mask_variable_standard_norm, 16, i, 9000))\n",
    "\n"
   ]
  },
  {
   "cell_type": "markdown",
   "metadata": {},
   "source": [
    "#### Calculating the mean and standard deviation of the bootstrap distribution"
   ]
  },
  {
   "cell_type": "code",
   "execution_count": null,
   "metadata": {},
   "outputs": [
    {
     "name": "stdout",
     "output_type": "stream",
     "text": [
      "[np.float64(1.608856100366626), np.float64(0.16939896665059076), np.float64(0.0), np.float64(0.2552729861572449), np.float64(1.069378365532719)]\n",
      "[np.float64(1.1100059636644055), np.float64(0.12901665736917378), np.float64(0.0), np.float64(0.04201587180787358), np.float64(0.7479996842553093)]\n"
     ]
    }
   ],
   "source": [
    "means_bootstraps_gpvae_obs3_classification_subgroup, standards_deviations_gpvae_obs3_classification_subgroup = toolkits.calc_mean_and_standard_deviation(results_bootstrap_gpvae_obs3_classification_subgroup)\n",
    "\n",
    "print(means_bootstraps_gpvae_obs3_classification_subgroup)\n",
    "print(standards_deviations_gpvae_obs3_classification_subgroup)\n"
   ]
  },
  {
   "cell_type": "markdown",
   "metadata": {},
   "source": [
    "#### Calculating lower bound and upper bound"
   ]
  },
  {
   "cell_type": "code",
   "execution_count": null,
   "metadata": {},
   "outputs": [
    {
     "name": "stdout",
     "output_type": "stream",
     "text": [
      "[np.float64(-0.5667156110402849), np.float64(-0.08346903519873403), np.float64(0.0), np.float64(0.1729233906347609), np.float64(-0.39667407605501936)]\n",
      "[np.float64(3.784427811773537), np.float64(0.4222669684999155), np.float64(0.0), np.float64(0.3376225816797289), np.float64(2.5354308071204574)]\n"
     ]
    }
   ],
   "source": [
    "lower_bounds_gpvae_obs3_classification_subgroup, upper_bounds_gpvae_obs3_classification_subgroup = toolkits.calc_lower_and_upper_bound(results_bootstrap_gpvae_obs3_classification_subgroup, means_bootstraps_gpvae_obs3_classification_subgroup, standards_deviations_gpvae_obs3_classification_subgroup)\n",
    "\n",
    "print(lower_bounds_gpvae_obs3_classification_subgroup)\n",
    "print(upper_bounds_gpvae_obs3_classification_subgroup)"
   ]
  },
  {
   "cell_type": "code",
   "execution_count": null,
   "metadata": {},
   "outputs": [
    {
     "name": "stdout",
     "output_type": "stream",
     "text": [
      "[np.float64(0.0), np.float64(0.0), np.float64(0.0), np.float64(0.1746412923954669), np.float64(0.18069261179045693)]\n",
      "[np.float64(3.9169417676929363), np.float64(0.26765988410392944), np.float64(0.0), np.float64(0.33800666615727104), np.float64(2.7764147172647666)]\n"
     ]
    }
   ],
   "source": [
    "lower_bounds_gpvae_obs3_classification_subgroup, upper_bounds_gpvae_obs3_classification_subgroup = toolkits.calc_lower_and_upper_bound_percentile(results_bootstrap_gpvae_obs3_classification_subgroup)\n",
    "\n",
    "print(lower_bounds_gpvae_obs3_classification_subgroup)\n",
    "print(upper_bounds_gpvae_obs3_classification_subgroup)"
   ]
  },
  {
   "cell_type": "markdown",
   "metadata": {},
   "source": [
    "#### Mean values of lower bound and upper bound"
   ]
  },
  {
   "cell_type": "code",
   "execution_count": null,
   "metadata": {},
   "outputs": [
    {
     "name": "stdout",
     "output_type": "stream",
     "text": [
      "[np.float64(1.9584708838464682), np.float64(0.13382994205196472), np.float64(0.0), np.float64(0.25632397927636896), np.float64(1.4785536645276118)]\n"
     ]
    }
   ],
   "source": [
    "mean_values_ci_gpvae_obs3_classification_subgroup  = toolkits.calc_mean_values_ci(lower_bounds_gpvae_obs3_classification_subgroup, upper_bounds_gpvae_obs3_classification_subgroup)\n",
    "\n",
    "print(mean_values_ci_gpvae_obs3_classification_subgroup)"
   ]
  },
  {
   "cell_type": "markdown",
   "metadata": {},
   "source": [
    "## MRNN"
   ]
  },
  {
   "cell_type": "markdown",
   "metadata": {},
   "source": [
    "### Calculate MAE and AE"
   ]
  },
  {
   "cell_type": "code",
   "execution_count": null,
   "metadata": {},
   "outputs": [],
   "source": [
    "testing_mae_mrnn_variables_standard, testing_ae_mrnn_variables_standard = toolkits.calculate_mae(mrnn_imputation_standard, test_X_ori_variable_standard_norm, indicating_mask_variable_standard_norm)"
   ]
  },
  {
   "cell_type": "markdown",
   "metadata": {},
   "source": [
    "### Taking the MAE difference for MRNN model"
   ]
  },
  {
   "cell_type": "markdown",
   "metadata": {},
   "source": [
    "#### Difference between gender group"
   ]
  },
  {
   "cell_type": "code",
   "execution_count": null,
   "metadata": {},
   "outputs": [
    {
     "data": {
      "text/plain": [
       "[('Cholesterol', 0.46007480562614733),\n",
       " ('SaO2', 0.23089925994991106),\n",
       " ('Weight', 0.1781846451592244),\n",
       " ('AST', 0.1741083024220948),\n",
       " ('PaCO2', 0.12962865455656114)]"
      ]
     },
     "execution_count": 201,
     "metadata": {},
     "output_type": "execute_result"
    }
   ],
   "source": [
    "diff_mrnn_gender_subgroup = toolkits.diff_mae_top_5(testing_mae_mrnn_variables_standard, 1, 2, variables)\n",
    "diff_mrnn_gender_subgroup"
   ]
  },
  {
   "cell_type": "markdown",
   "metadata": {},
   "source": [
    "#### Difference between age group"
   ]
  },
  {
   "cell_type": "code",
   "execution_count": null,
   "metadata": {},
   "outputs": [
    {
     "data": {
      "text/plain": [
       "[('Cholesterol', 0.5264706140850112),\n",
       " ('ALP', 0.42118039343106295),\n",
       " ('SaO2', 0.21218979884570444),\n",
       " ('TroponinI', 0.18821601789959796),\n",
       " ('Bilirubin', 0.1405204793192777)]"
      ]
     },
     "execution_count": 202,
     "metadata": {},
     "output_type": "execute_result"
    }
   ],
   "source": [
    "diff_mrnn_age_subgroup = toolkits.diff_mae_top_5(testing_mae_mrnn_variables_standard, 4, 5, variables)\n",
    "diff_mrnn_age_subgroup"
   ]
  },
  {
   "cell_type": "markdown",
   "metadata": {},
   "source": [
    "#### Difference between ICUType group"
   ]
  },
  {
   "cell_type": "code",
   "execution_count": null,
   "metadata": {},
   "outputs": [],
   "source": [
    "diff_mrnn_ICUType_1_2 = toolkits.diff_mae_top_5(testing_mae_mrnn_variables_standard, 6, 7, variables)\n",
    "diff_mrnn_ICUType_1_3 = toolkits.diff_mae_top_5(testing_mae_mrnn_variables_standard, 6, 8, variables)\n",
    "diff_mrnn_ICUType_1_4 = toolkits.diff_mae_top_5(testing_mae_mrnn_variables_standard, 6, 9, variables)\n",
    "diff_mrnn_ICUType_2_3 = toolkits.diff_mae_top_5(testing_mae_mrnn_variables_standard, 7, 8, variables)\n",
    "diff_mrnn_ICUType_2_4 = toolkits.diff_mae_top_5(testing_mae_mrnn_variables_standard, 7, 9, variables)\n",
    "diff_mrnn_ICUType_3_4 = toolkits.diff_mae_top_5(testing_mae_mrnn_variables_standard, 8, 9, variables)"
   ]
  },
  {
   "cell_type": "code",
   "execution_count": null,
   "metadata": {},
   "outputs": [
    {
     "name": "stdout",
     "output_type": "stream",
     "text": [
      "Diferença(MAE) ICUType 1 e 2\n",
      "----------------------------\n",
      "[('Cholesterol', 0.9010319943785403), ('TroponinI', 0.8885610723184879), ('TroponinT', 0.2790266043092085), ('AST', 0.2552394455397726), ('HR', 0.24475318001332502)]\n",
      "----------------------------\n",
      "Diferença(MAE) ICUType 1 e 3\n",
      "----------------------------\n",
      "[('SaO2', 1.126906434849816), ('ALP', 0.826833726615776), ('TroponinI', 0.6275078131032561), ('PaCO2', 0.3166885871390994), ('K', 0.24651464330000916)]\n",
      "----------------------------\n",
      "Diferença(MAE) ICUType 1 e 4\n",
      "----------------------------\n",
      "[('TroponinI', 0.4752300632564468), ('TroponinT', 0.28805061664771353), ('Albumin', 0.2061163193636698), ('Glucose', 0.20571705409253582), ('Cholesterol', 0.20496776200009514)]\n",
      "----------------------------\n",
      "Diferença(MAE) ICUType 2 e 3\n",
      "[('SaO2', 1.3273285721076542), ('Cholesterol', 0.7254168014070564), ('ALP', 0.6559594688208507), ('HCO3', 0.444614029946391), ('PaCO2', 0.4402514603625217)]\n",
      "----------------------------\n",
      "Diferença(MAE) ICUType 2 e 4\n",
      "----------------------------\n",
      "[('Cholesterol', 0.6960642323784452), ('TroponinI', 0.4133310090620411), ('PaO2', 0.21916984374194926), ('HR', 0.19926760137360766), ('RespRate', 0.19182286858756104)]\n",
      "----------------------------\n",
      "Diferença(MAE) ICUType 3 e 4\n",
      "----------------------------\n",
      "[('SaO2', 1.2036687382038753), ('ALP', 0.6224636658234282), ('PaCO2', 0.3671419248044534), ('HCO3', 0.3310262507786317), ('Glucose', 0.26631149134816035)]\n",
      "----------------------------\n"
     ]
    }
   ],
   "source": [
    "print(\"Diferença(MAE) ICUType 1 e 2\")\n",
    "print(\"----------------------------\")\n",
    "print(diff_mrnn_ICUType_1_2)\n",
    "print(\"----------------------------\")\n",
    "print(\"Diferença(MAE) ICUType 1 e 3\")\n",
    "print(\"----------------------------\")\n",
    "print(diff_mrnn_ICUType_1_3)\n",
    "print(\"----------------------------\")\n",
    "print(\"Diferença(MAE) ICUType 1 e 4\")\n",
    "print(\"----------------------------\")\n",
    "print(diff_mrnn_ICUType_1_4)\n",
    "print(\"----------------------------\")\n",
    "print(\"Diferença(MAE) ICUType 2 e 3\")\n",
    "print(diff_mrnn_ICUType_2_3)\n",
    "print(\"----------------------------\")\n",
    "print(\"Diferença(MAE) ICUType 2 e 4\")\n",
    "print(\"----------------------------\")\n",
    "print(diff_mrnn_ICUType_2_4)\n",
    "print(\"----------------------------\")\n",
    "print(\"Diferença(MAE) ICUType 3 e 4\")\n",
    "print(\"----------------------------\")\n",
    "print(diff_mrnn_ICUType_3_4)\n",
    "print(\"----------------------------\")"
   ]
  },
  {
   "cell_type": "code",
   "execution_count": null,
   "metadata": {},
   "outputs": [
    {
     "name": "stdout",
     "output_type": "stream",
     "text": [
      "Top 5 variáveis ICUType\n",
      "-----------------------\n",
      "SaO2\n",
      "Cholesterol\n",
      "TroponinI\n",
      "ALP\n",
      "PaCO2\n"
     ]
    }
   ],
   "source": [
    "print(\"Top 5 variáveis ICUType\")\n",
    "print(\"-----------------------\")\n",
    "print(variables[28])\n",
    "print(variables[6])\n",
    "print(variables[31])\n",
    "print(variables[0])\n",
    "print(variables[24])"
   ]
  },
  {
   "cell_type": "markdown",
   "metadata": {},
   "source": [
    "#### Difference between BMI group"
   ]
  },
  {
   "cell_type": "code",
   "execution_count": null,
   "metadata": {},
   "outputs": [],
   "source": [
    "diff_mrnn_classification_undefined_low = toolkits.diff_mae_top_5(testing_mae_mrnn_variables_standard, 10, 11, variables)\n",
    "diff_mrnn_classification_undefined_normal = toolkits.diff_mae_top_5(testing_mae_mrnn_variables_standard, 10, 12, variables)\n",
    "diff_mrnn_classification_undefined_over = toolkits.diff_mae_top_5(testing_mae_mrnn_variables_standard, 10, 13, variables)\n",
    "diff_mrnn_classification_undefined_obs1 = toolkits.diff_mae_top_5(testing_mae_mrnn_variables_standard, 10, 14, variables)\n",
    "diff_mrnn_classification_undefined_obs2 = toolkits.diff_mae_top_5(testing_mae_mrnn_variables_standard, 10, 15, variables)\n",
    "diff_mrnn_classification_undefined_obs3 = toolkits.diff_mae_top_5(testing_mae_mrnn_variables_standard, 10, 16, variables)\n",
    "\n",
    "diff_mrnn_classification_low_normal = toolkits.diff_mae_top_5(testing_mae_mrnn_variables_standard, 11, 12, variables)\n",
    "diff_mrnn_classification_low_over = toolkits.diff_mae_top_5(testing_mae_mrnn_variables_standard, 11, 13, variables)\n",
    "diff_mrnn_classification_low_obs1 = toolkits.diff_mae_top_5(testing_mae_mrnn_variables_standard, 11, 14, variables)\n",
    "diff_mrnn_classification_low_obs2 = toolkits.diff_mae_top_5(testing_mae_mrnn_variables_standard, 11, 15, variables)\n",
    "diff_mrnn_classification_low_obs3 = toolkits.diff_mae_top_5(testing_mae_mrnn_variables_standard, 11, 16, variables)\n",
    "\n",
    "diff_mrnn_classification_normal_over = toolkits.diff_mae_top_5(testing_mae_mrnn_variables_standard, 12, 13, variables)\n",
    "diff_mrnn_classification_normal_obs1 = toolkits.diff_mae_top_5(testing_mae_mrnn_variables_standard, 12, 14, variables)\n",
    "diff_mrnn_classification_normal_obs2 = toolkits.diff_mae_top_5(testing_mae_mrnn_variables_standard, 12, 15, variables)\n",
    "diff_mrnn_classification_normal_obs3 = toolkits.diff_mae_top_5(testing_mae_mrnn_variables_standard, 12, 16, variables)\n",
    "\n",
    "diff_mrnn_classification_over_obs1 = toolkits.diff_mae_top_5(testing_mae_mrnn_variables_standard, 13, 14, variables)\n",
    "diff_mrnn_classification_over_obs2 = toolkits.diff_mae_top_5(testing_mae_mrnn_variables_standard, 13, 15, variables)\n",
    "diff_mrnn_classification_over_obs3 = toolkits.diff_mae_top_5(testing_mae_mrnn_variables_standard, 13, 16, variables)\n",
    "\n",
    "\n",
    "diff_mrnn_classification_obs1_obs2 = toolkits.diff_mae_top_5(testing_mae_mrnn_variables_standard, 14, 15, variables)\n",
    "diff_mrnn_classification_obs1_obs3 = toolkits.diff_mae_top_5(testing_mae_mrnn_variables_standard, 14, 16, variables)\n",
    "\n",
    "diff_mrnn_classification_obs2_obs3 = toolkits.diff_mae_top_5(testing_mae_mrnn_variables_standard, 15, 16, variables)"
   ]
  },
  {
   "cell_type": "code",
   "execution_count": null,
   "metadata": {},
   "outputs": [
    {
     "name": "stdout",
     "output_type": "stream",
     "text": [
      "Diferença(MAE) Classification Undefined and low\n",
      "----------------------------\n",
      "[('ALP', 1.7276133990683362), ('Bilirubin', 0.9914312934423044), ('TroponinI', 0.7605306891067674), ('Weight', 0.5541701194492721), ('Cholesterol', 0.4686585973942653)]\n",
      "----------------------------\n",
      "Diferença(MAE) Classification Undefined and normal\n",
      "----------------------------\n",
      "[('Cholesterol', 0.3793471636845912), ('PaCO2', 0.2607229442068275), ('SaO2', 0.23204288622686337), ('TroponinI', 0.19152385318395748), ('HCO3', 0.18600797369321342)]\n",
      "----------------------------\n",
      "Diferença(MAE) Classification Undefined and over\n",
      "----------------------------\n",
      "[('Cholesterol', 0.7311865583297629), ('TroponinI', 0.4223997471662162), ('Weight', 0.3506808760264265), ('PaCO2', 0.2270916455603793), ('SaO2', 0.2137441109303908)]\n",
      "----------------------------\n",
      "Diferença(MAE) Classification Undefined and obs1\n",
      "[('Ph', 0.8858111069773932), ('PaCO2', 0.2961064224948988), ('HCO3', 0.25893221785255016), ('SaO2', 0.2587867211362769), ('Albumin', 0.25747673854550246)]\n",
      "----------------------------\n",
      "Diferença(MAE) Classification Undefined and obs2\n",
      "----------------------------\n",
      "[('TroponinT', 0.9269906109408226), ('TroponinI', 0.7605306891067674), ('Cholesterol', 0.4924356555286472), ('HCO3', 0.28312632578576835), ('PaCO2', 0.2646588945182431)]\n",
      "----------------------------\n",
      "Diferença(MAE) ICUType Undefined and obs3\n",
      "----------------------------\n",
      "[('ALT', 0.9730740310966027), ('Weight', 0.9046776145332296), ('Cholesterol', 0.5740333519842898), ('TroponinT', 0.5239031418998874), ('TroponinI', 0.4102979573983474)]\n",
      "----------------------------\n"
     ]
    }
   ],
   "source": [
    "print(\"Diferença(MAE) Classification Undefined and low\")\n",
    "print(\"----------------------------\")\n",
    "print(diff_mrnn_classification_undefined_low)\n",
    "print(\"----------------------------\")\n",
    "print(\"Diferença(MAE) Classification Undefined and normal\")\n",
    "print(\"----------------------------\")\n",
    "print(diff_mrnn_classification_undefined_normal)\n",
    "print(\"----------------------------\")\n",
    "print(\"Diferença(MAE) Classification Undefined and over\")\n",
    "print(\"----------------------------\")\n",
    "print(diff_mrnn_classification_undefined_over)\n",
    "print(\"----------------------------\")\n",
    "print(\"Diferença(MAE) Classification Undefined and obs1\")\n",
    "print(diff_mrnn_classification_undefined_obs1)\n",
    "print(\"----------------------------\")\n",
    "print(\"Diferença(MAE) Classification Undefined and obs2\")\n",
    "print(\"----------------------------\")\n",
    "print(diff_mrnn_classification_undefined_obs2)\n",
    "print(\"----------------------------\")\n",
    "print(\"Diferença(MAE) ICUType Undefined and obs3\")\n",
    "print(\"----------------------------\")\n",
    "print(diff_mrnn_classification_undefined_obs3)\n",
    "print(\"----------------------------\")"
   ]
  },
  {
   "cell_type": "code",
   "execution_count": null,
   "metadata": {},
   "outputs": [
    {
     "name": "stdout",
     "output_type": "stream",
     "text": [
      "Diferença(MAE) Classification low and normal\n",
      "----------------------------\n",
      "[('ALP', 1.616655613152504), ('Bilirubin', 0.9207620318461242), ('Cholesterol', 0.8480057610788565), ('TroponinI', 0.5690068359228099), ('HCO3', 0.5367857762848458)]\n",
      "----------------------------\n",
      "Diferença(MAE) Classification low and over\n",
      "----------------------------\n",
      "[('ALP', 1.8004731135079597), ('Cholesterol', 1.1998451557240282), ('TroponinI', 1.1829304362729836), ('Bilirubin', 1.1149758355325403), ('Weight', 0.9048509954756986)]\n",
      "----------------------------\n",
      "Diferença(MAE) Classification low and obs1\n",
      "----------------------------\n",
      "[('ALP', 1.839342476713079), ('Bilirubin', 1.1198139228432797), ('Ph', 0.8807265511276338), ('Weight', 0.782381102471485), ('TroponinI', 0.6293802804910801)]\n",
      "----------------------------\n",
      "Diferença(MAE) Classification low and obs2\n",
      "[('ALP', 1.701601911486742), ('Bilirubin', 1.0552999585115248), ('TroponinT', 0.9759888843088509), ('HCO3', 0.6339041283774007), ('Weight', 0.5288315136741774)]\n",
      "----------------------------\n",
      "Diferença(MAE) Classification low and obs3\n",
      "----------------------------\n",
      "[('ALP', 1.913191874447438), ('Bilirubin', 1.183643716628978), ('ALT', 1.0535741464365131), ('TroponinT', 0.5729014152679157), ('Weight', 0.3505074950839575)]\n",
      "----------------------------\n"
     ]
    }
   ],
   "source": [
    "print(\"Diferença(MAE) Classification low and normal\")\n",
    "print(\"----------------------------\")\n",
    "print(diff_mrnn_classification_low_normal)\n",
    "print(\"----------------------------\")\n",
    "print(\"Diferença(MAE) Classification low and over\")\n",
    "print(\"----------------------------\")\n",
    "print(diff_mrnn_classification_low_over)\n",
    "print(\"----------------------------\")\n",
    "print(\"Diferença(MAE) Classification low and obs1\")\n",
    "print(\"----------------------------\")\n",
    "print(diff_mrnn_classification_low_obs1)\n",
    "print(\"----------------------------\")\n",
    "print(\"Diferença(MAE) Classification low and obs2\")\n",
    "print(diff_mrnn_classification_low_obs2)\n",
    "print(\"----------------------------\")\n",
    "print(\"Diferença(MAE) Classification low and obs3\")\n",
    "print(\"----------------------------\")\n",
    "print(diff_mrnn_classification_low_obs3)\n",
    "print(\"----------------------------\")"
   ]
  },
  {
   "cell_type": "code",
   "execution_count": null,
   "metadata": {},
   "outputs": [
    {
     "name": "stdout",
     "output_type": "stream",
     "text": [
      "Diferença(MAE) Classification normal and over\n",
      "----------------------------\n",
      "[('TroponinI', 0.6139236003501737), ('Weight', 0.39083485356388614), ('Cholesterol', 0.35183939464517167), ('ALT', 0.25331368516240216), ('Bilirubin', 0.19421380368641616)]\n",
      "----------------------------\n",
      "Diferença(MAE) Classification normal and obs1\n",
      "----------------------------\n",
      "[('Ph', 0.8908243780585775), ('Cholesterol', 0.3310031978642243), ('Weight', 0.2683649605596725), ('ALP', 0.22268686356057493), ('Albumin', 0.1992342096852764)]\n",
      "----------------------------\n",
      "Diferença(MAE) Classification normal and obs2\n",
      "----------------------------\n",
      "[('TroponinT', 0.9827645580136316), ('Cholesterol', 0.8717828192132384), ('TroponinI', 0.5690068359228099), ('ALT', 0.2871264264440603), ('Creatinine', 0.2062260662166976)]\n",
      "----------------------------\n",
      "Diferença(MAE) Classification normal and obs3\n",
      "[('ALT', 1.0982371420715205), ('Cholesterol', 0.953380515668881), ('Weight', 0.86452363699577), ('TroponinT', 0.5796770889726964), ('HCO3', 0.3046620670950646)]\n",
      "----------------------------\n"
     ]
    }
   ],
   "source": [
    "print(\"Diferença(MAE) Classification normal and over\")\n",
    "print(\"----------------------------\")\n",
    "print(diff_mrnn_classification_normal_over)\n",
    "print(\"----------------------------\")\n",
    "print(\"Diferença(MAE) Classification normal and obs1\")\n",
    "print(\"----------------------------\")\n",
    "print(diff_mrnn_classification_normal_obs1)\n",
    "print(\"----------------------------\")\n",
    "print(\"Diferença(MAE) Classification normal and obs2\")\n",
    "print(\"----------------------------\")\n",
    "print(diff_mrnn_classification_normal_obs2)\n",
    "print(\"----------------------------\")\n",
    "print(\"Diferença(MAE) Classification normal and obs3\")\n",
    "print(diff_mrnn_classification_normal_obs3)\n",
    "print(\"----------------------------\")"
   ]
  },
  {
   "cell_type": "code",
   "execution_count": null,
   "metadata": {},
   "outputs": [
    {
     "name": "stdout",
     "output_type": "stream",
     "text": [
      "Diferença(MAE) Classification over and obs1\n",
      "----------------------------\n",
      "[('Ph', 0.8888769174492269), ('Cholesterol', 0.6828425925093959), ('TroponinI', 0.5535501557819035), ('ALT', 0.2339750215206805), ('TroponinT', 0.23237983193846368)]\n",
      "----------------------------\n",
      "Diferença(MAE) Classification over and obs2\n",
      "----------------------------\n",
      "[('Cholesterol', 1.22362221385841), ('TroponinI', 1.1829304362729836), ('TroponinT', 0.8424714467402539), ('Weight', 0.3760194818015212), ('RespRate', 0.20419277047251283)]\n",
      "----------------------------\n",
      "Diferença(MAE) Classification over and obs3\n",
      "----------------------------\n",
      "[('Cholesterol', 1.3052199103140527), ('Weight', 1.2553584905596562), ('ALT', 0.8449234569091182), ('TroponinI', 0.8326977045645636), ('TroponinT', 0.4393839776993187)]\n",
      "----------------------------\n"
     ]
    }
   ],
   "source": [
    "print(\"Diferença(MAE) Classification over and obs1\")\n",
    "print(\"----------------------------\")\n",
    "print(diff_mrnn_classification_over_obs1)\n",
    "print(\"----------------------------\")\n",
    "print(\"Diferença(MAE) Classification over and obs2\")\n",
    "print(\"----------------------------\")\n",
    "print(diff_mrnn_classification_over_obs2)\n",
    "print(\"----------------------------\")\n",
    "print(\"Diferença(MAE) Classification over and obs3\")\n",
    "print(\"----------------------------\")\n",
    "print(diff_mrnn_classification_over_obs3)\n",
    "print(\"----------------------------\")"
   ]
  },
  {
   "cell_type": "code",
   "execution_count": null,
   "metadata": {},
   "outputs": [
    {
     "name": "stdout",
     "output_type": "stream",
     "text": [
      "Diferença(MAE) Classification obs1 and obs2 \n",
      "----------------------------\n",
      "[('TroponinT', 1.0748512786787177), ('Ph', 0.8644289951196773), ('TroponinI', 0.6293802804910801), ('Cholesterol', 0.5407796213490141), ('ALT', 0.2677877628023386)]\n",
      "----------------------------\n",
      "Diferença(MAE) Classification obs1 and obs3 \n",
      "----------------------------\n",
      "[('Weight', 1.1328885975554424), ('ALT', 1.0788984784297986), ('Ph', 0.884502858503702), ('TroponinT', 0.6717638096377824), ('Cholesterol', 0.6223773178046568)]\n",
      "----------------------------\n"
     ]
    }
   ],
   "source": [
    "print(\"Diferença(MAE) Classification obs1 and obs2 \")\n",
    "print(\"----------------------------\")\n",
    "print(diff_mrnn_classification_obs1_obs2)\n",
    "print(\"----------------------------\")\n",
    "print(\"Diferença(MAE) Classification obs1 and obs3 \")\n",
    "print(\"----------------------------\")\n",
    "print(diff_mrnn_classification_obs1_obs3)\n",
    "print(\"----------------------------\")"
   ]
  },
  {
   "cell_type": "code",
   "execution_count": null,
   "metadata": {},
   "outputs": [
    {
     "name": "stdout",
     "output_type": "stream",
     "text": [
      "Diferença(MAE) Classification obs2 and obs3 \n",
      "----------------------------\n",
      "[('Weight', 0.8793390087581349), ('ALT', 0.8111107156274601), ('TroponinT', 0.4030874690409352), ('HCO3', 0.40178041918761953), ('TroponinI', 0.35023273170841995)]\n",
      "----------------------------\n"
     ]
    }
   ],
   "source": [
    "print(\"Diferença(MAE) Classification obs2 and obs3 \")\n",
    "print(\"----------------------------\")\n",
    "print(diff_mrnn_classification_obs2_obs3)\n",
    "print(\"----------------------------\")"
   ]
  },
  {
   "cell_type": "code",
   "execution_count": null,
   "metadata": {},
   "outputs": [
    {
     "name": "stdout",
     "output_type": "stream",
     "text": [
      "Top 5 variáveis BMI\n",
      "-----------------------\n",
      "Cholesterol\n",
      "ALP\n",
      "TroponinI\n",
      "Weight\n",
      "TroponinT\n"
     ]
    }
   ],
   "source": [
    "print(\"Top 5 variáveis BMI\")\n",
    "print(\"-----------------------\")\n",
    "print(variables[6])\n",
    "print(variables[0])\n",
    "print(variables[31])\n",
    "print(variables[35])\n",
    "print(variables[32])"
   ]
  },
  {
   "cell_type": "markdown",
   "metadata": {},
   "source": [
    "### Confidence Interval (Female Subgroup)"
   ]
  },
  {
   "cell_type": "markdown",
   "metadata": {},
   "source": [
    "#### Distribution Bootstrap for the Top 5 variables with Largest Differences in MAE (Mean Absolute Error) "
   ]
  },
  {
   "cell_type": "code",
   "execution_count": null,
   "metadata": {},
   "outputs": [],
   "source": [
    "indices = [6, 31, 28, 16, 33, 2, 7, 15, 5, 2, 35, 24]\n",
    "\n",
    "results_bootstrap_mrnn_female = []\n",
    "\n",
    "for i in indices:\n",
    "       results_bootstrap_mrnn_female.append(toolkits.bootstrap_v2(testing_ae_mrnn_variables_standard, indicating_mask_variable_standard_norm, 1, i, 9000))"
   ]
  },
  {
   "cell_type": "markdown",
   "metadata": {},
   "source": [
    "#### Calculating the mean and standard deviation of the bootstrap distribution"
   ]
  },
  {
   "cell_type": "code",
   "execution_count": null,
   "metadata": {},
   "outputs": [
    {
     "name": "stdout",
     "output_type": "stream",
     "text": [
      "[np.float64(1.2889617478015634), np.float64(0.6793488248636798), np.float64(0.8424471521729673), np.float64(0.5862177738523476), np.float64(0.8398809270249903)]\n",
      "[np.float64(0.3357795625717358), np.float64(0.14584371229851048), np.float64(0.011319424019964401), np.float64(0.08549284516817783), np.float64(0.03231667834053996)]\n"
     ]
    }
   ],
   "source": [
    "means_bootstraps_mrnn_female,standards_deviations_mrnn_female = toolkits.calc_mean_and_standard_deviation(results_bootstrap_mrnn_female)\n",
    "\n",
    "print(means_bootstraps_mrnn_female)\n",
    "print(standards_deviations_mrnn_female)\n"
   ]
  },
  {
   "cell_type": "markdown",
   "metadata": {},
   "source": [
    "#### Calculating lower bound and upper bound"
   ]
  },
  {
   "cell_type": "code",
   "execution_count": null,
   "metadata": {},
   "outputs": [
    {
     "name": "stdout",
     "output_type": "stream",
     "text": [
      "[np.float64(0.6308458984163476), np.float64(0.3935004013869779), np.float64(0.8202614887680995), np.float64(0.41865487638685994), np.float64(0.7765414013775663)]\n",
      "[np.float64(1.947077597186779), np.float64(0.9651972483403817), np.float64(0.8646328155778351), np.float64(0.7537806713178353), np.float64(0.9032204526724142)]\n"
     ]
    }
   ],
   "source": [
    "lower_bounds_mrnn_female, upper_bounds_mrnn_female = toolkits.calc_lower_and_upper_bound(results_bootstrap_mrnn_female, means_bootstraps_mrnn_female,standards_deviations_mrnn_female)\n",
    "\n",
    "print(lower_bounds_mrnn_female)\n",
    "print(upper_bounds_mrnn_female)"
   ]
  },
  {
   "cell_type": "code",
   "execution_count": null,
   "metadata": {},
   "outputs": [
    {
     "name": "stdout",
     "output_type": "stream",
     "text": [
      "[np.float64(0.6126520319937722), np.float64(0.4293660610982223), np.float64(0.8206899465336797), np.float64(0.443153351338707), np.float64(0.7769730572247365)]\n",
      "[np.float64(1.9795521249564374), np.float64(0.998280386835213), np.float64(0.8647490394958172), np.float64(0.7781546422723796), np.float64(0.9034747830686872)]\n"
     ]
    }
   ],
   "source": [
    "lower_bounds_mrnn_female, upper_bounds_mrnn_female = toolkits.calc_lower_and_upper_bound_percentile(results_bootstrap_mrnn_female)\n",
    "\n",
    "print(lower_bounds_mrnn_female)\n",
    "print(upper_bounds_mrnn_female)"
   ]
  },
  {
   "cell_type": "markdown",
   "metadata": {},
   "source": [
    "#### Mean values of lower bound and upper bound\n"
   ]
  },
  {
   "cell_type": "code",
   "execution_count": null,
   "metadata": {},
   "outputs": [
    {
     "name": "stdout",
     "output_type": "stream",
     "text": [
      "[np.float64(1.2961020784751047), np.float64(0.7138232239667177), np.float64(0.8427194930147484), np.float64(0.6106539968055433), np.float64(0.8402239201467119)]\n"
     ]
    }
   ],
   "source": [
    "mean_values_ci_mrnn_female = toolkits.calc_mean_values_ci(lower_bounds_mrnn_female, upper_bounds_mrnn_female)\n",
    "\n",
    "print(mean_values_ci_mrnn_female)"
   ]
  },
  {
   "cell_type": "markdown",
   "metadata": {},
   "source": [
    "### Confidence Interval (Male Subgroup)"
   ]
  },
  {
   "cell_type": "markdown",
   "metadata": {},
   "source": [
    "#### Distribution Bootstrap for the Top 5 variables with Largest Differences in MAE (Mean Absolute Error) "
   ]
  },
  {
   "cell_type": "code",
   "execution_count": null,
   "metadata": {},
   "outputs": [],
   "source": [
    "indices = [6, 31, 28, 16, 33, 2, 7, 15, 5, 2, 35, 24]\n",
    "\n",
    "results_bootstrap_mrnn_male = []\n",
    "\n",
    "for i in indices:\n",
    "       results_bootstrap_mrnn_male.append(toolkits.bootstrap_v2(testing_ae_mrnn_variables_standard, indicating_mask_variable_standard_norm, 2, i, 9000))"
   ]
  },
  {
   "cell_type": "markdown",
   "metadata": {},
   "source": [
    "#### Calculating the mean and standard deviation of the bootstrap distribution"
   ]
  },
  {
   "cell_type": "code",
   "execution_count": null,
   "metadata": {},
   "outputs": [
    {
     "name": "stdout",
     "output_type": "stream",
     "text": [
      "[np.float64(0.8445685112750926), np.float64(0.44841527819129745), np.float64(0.6642340103663307), np.float64(0.41083254941155223), np.float64(0.709842234225226)]\n",
      "[np.float64(0.17983375950603753), np.float64(0.0358265633111031), np.float64(0.011191619427093449), np.float64(0.017704199334764567), np.float64(0.025604735411969396)]\n"
     ]
    }
   ],
   "source": [
    "means_bootstraps_mrnn_male,standards_deviations_mrnn_male = toolkits.calc_mean_and_standard_deviation(results_bootstrap_mrnn_male)\n",
    "\n",
    "print(means_bootstraps_mrnn_male)\n",
    "print(standards_deviations_mrnn_male)\n"
   ]
  },
  {
   "cell_type": "markdown",
   "metadata": {},
   "source": [
    "#### Calculating lower bound and upper bound"
   ]
  },
  {
   "cell_type": "code",
   "execution_count": null,
   "metadata": {},
   "outputs": [
    {
     "name": "stdout",
     "output_type": "stream",
     "text": [
      "[np.float64(0.49210081943882145), np.float64(0.3781965044116913), np.float64(0.6422988393605488), np.float64(0.3761329563402957), np.float64(0.6596578749840886)]\n",
      "[np.float64(1.1970362031113637), np.float64(0.5186340519709036), np.float64(0.6861691813721126), np.float64(0.44553214248280876), np.float64(0.7600265934663634)]\n"
     ]
    }
   ],
   "source": [
    "lower_bounds_mrnn_male, upper_bounds_mrnn_male = toolkits.calc_lower_and_upper_bound(results_bootstrap_mrnn_male, means_bootstraps_mrnn_male,standards_deviations_mrnn_male)\n",
    "\n",
    "print(lower_bounds_mrnn_male)\n",
    "print(upper_bounds_mrnn_male)"
   ]
  },
  {
   "cell_type": "code",
   "execution_count": null,
   "metadata": {},
   "outputs": [
    {
     "name": "stdout",
     "output_type": "stream",
     "text": [
      "[np.float64(0.49609853871696685), np.float64(0.38271541586935226), np.float64(0.6427265756526298), np.float64(0.37913152414672663), np.float64(0.6606005566331093)]\n",
      "[np.float64(1.2074254101336381), np.float64(0.5212447768606311), np.float64(0.686410179614941), np.float64(0.4475509383118786), np.float64(0.7617919331238603)]\n"
     ]
    }
   ],
   "source": [
    "lower_bounds_mrnn_male, upper_bounds_mrnn_male = toolkits.calc_lower_and_upper_bound_percentile(results_bootstrap_mrnn_male)\n",
    "\n",
    "print(lower_bounds_mrnn_male)\n",
    "print(upper_bounds_mrnn_male)"
   ]
  },
  {
   "cell_type": "markdown",
   "metadata": {},
   "source": [
    "#### Mean values of lower bound and upper bound\n"
   ]
  },
  {
   "cell_type": "code",
   "execution_count": null,
   "metadata": {},
   "outputs": [
    {
     "name": "stdout",
     "output_type": "stream",
     "text": [
      "[np.float64(0.8517619744253024), np.float64(0.4519800963649917), np.float64(0.6645683776337854), np.float64(0.4133412312293026), np.float64(0.7111962448784848)]\n"
     ]
    }
   ],
   "source": [
    "mean_values_ci_mrnn_male = toolkits.calc_mean_values_ci(lower_bounds_mrnn_male, upper_bounds_mrnn_male)\n",
    "\n",
    "print(mean_values_ci_mrnn_male)"
   ]
  },
  {
   "cell_type": "markdown",
   "metadata": {},
   "source": [
    "### Confidence Interval (+65 Subgroup)"
   ]
  },
  {
   "cell_type": "markdown",
   "metadata": {},
   "source": [
    "#### Distribution Bootstrap for the Top 5 variables with Largest Differences in MAE (Mean Absolute Error) "
   ]
  },
  {
   "cell_type": "code",
   "execution_count": null,
   "metadata": {},
   "outputs": [],
   "source": [
    "indices = [6, 32, 0, 28, 5, 31, 3]\n",
    "\n",
    "results_bootstrap_mrnn_more_than_or_equal_to_65_subgroup = []\n",
    "\n",
    "for i in indices:\n",
    "       results_bootstrap_mrnn_more_than_or_equal_to_65_subgroup.append(toolkits.bootstrap_v2(testing_ae_mrnn_variables_standard, indicating_mask_variable_standard_norm, 4, i, 9000))\n"
   ]
  },
  {
   "cell_type": "markdown",
   "metadata": {},
   "source": [
    "#### Calculating the mean and standard deviation of the bootstrap distribution"
   ]
  },
  {
   "cell_type": "code",
   "execution_count": null,
   "metadata": {},
   "outputs": [
    {
     "name": "stdout",
     "output_type": "stream",
     "text": [
      "[np.float64(0.6664471815194499), np.float64(0.7713441918549366), np.float64(0.4419490385477844), np.float64(0.9375133641190462), np.float64(0.48562470703319427)]\n",
      "[np.float64(0.09940737024271447), np.float64(0.12945819564628502), np.float64(0.035835711363100396), np.float64(0.28200067108830146), np.float64(0.019127093478076996)]\n"
     ]
    }
   ],
   "source": [
    "means_bootstraps_mrnn_more_than_or_equal_to_65_subgroup,standards_deviations_mrnn_more_than_or_equal_to_65_subgroup = toolkits.calc_mean_and_standard_deviation(results_bootstrap_mrnn_more_than_or_equal_to_65_subgroup)\n",
    "\n",
    "print(means_bootstraps_mrnn_more_than_or_equal_to_65_subgroup)\n",
    "print(standards_deviations_mrnn_more_than_or_equal_to_65_subgroup)"
   ]
  },
  {
   "cell_type": "markdown",
   "metadata": {},
   "source": [
    "#### Calculating lower bound and upper bound\n"
   ]
  },
  {
   "cell_type": "code",
   "execution_count": null,
   "metadata": {},
   "outputs": [
    {
     "name": "stdout",
     "output_type": "stream",
     "text": [
      "[np.float64(0.4716123160458909), np.float64(0.517610790884678), np.float64(0.37171233491573485), np.float64(0.38480220516984964), np.float64(0.44813629268723243)]\n",
      "[np.float64(0.8612820469930089), np.float64(1.0250775928251952), np.float64(0.5121857421798339), np.float64(1.4902245230682427), np.float64(0.5231131213791561)]\n"
     ]
    }
   ],
   "source": [
    "lower_bounds_mrnn_more_than_or_equal_to_65_subgroup, upper_bounds_mrnn_more_than_or_equal_to_65_subgroup = toolkits.calc_lower_and_upper_bound(results_bootstrap_mrnn_more_than_or_equal_to_65_subgroup, means_bootstraps_mrnn_more_than_or_equal_to_65_subgroup,standards_deviations_mrnn_more_than_or_equal_to_65_subgroup)\n",
    "\n",
    "print(lower_bounds_mrnn_more_than_or_equal_to_65_subgroup)\n",
    "print(upper_bounds_mrnn_more_than_or_equal_to_65_subgroup)\n"
   ]
  },
  {
   "cell_type": "code",
   "execution_count": null,
   "metadata": {},
   "outputs": [
    {
     "name": "stdout",
     "output_type": "stream",
     "text": [
      "[np.float64(0.4699119681436676), np.float64(0.5493511194743891), np.float64(0.3765201998918443), np.float64(0.4675343714728311), np.float64(0.4474030178628885)]\n",
      "[np.float64(0.8617314375412235), np.float64(1.054573547121633), np.float64(0.5166212185748152), np.float64(1.5445279424896994), np.float64(0.522282392048733)]\n"
     ]
    }
   ],
   "source": [
    "lower_bounds_mrnn_more_than_or_equal_to_65_subgroup, upper_bounds_mrnn_more_than_or_equal_to_65_subgroup = toolkits.calc_lower_and_upper_bound_percentile(results_bootstrap_mrnn_more_than_or_equal_to_65_subgroup)\n",
    "\n",
    "print(lower_bounds_mrnn_more_than_or_equal_to_65_subgroup)\n",
    "print(upper_bounds_mrnn_more_than_or_equal_to_65_subgroup)"
   ]
  },
  {
   "cell_type": "markdown",
   "metadata": {},
   "source": [
    "#### Mean values of lower bound and upper bound"
   ]
  },
  {
   "cell_type": "code",
   "execution_count": null,
   "metadata": {},
   "outputs": [
    {
     "name": "stdout",
     "output_type": "stream",
     "text": [
      "[np.float64(0.6658217028424456), np.float64(0.801962333298011), np.float64(0.44657070923332975), np.float64(1.0060311569812652), np.float64(0.4848427049558107)]\n"
     ]
    }
   ],
   "source": [
    "mean_values_ci_mrnn_more_than_or_equal_to_65_subgroup  = toolkits.calc_mean_values_ci(lower_bounds_mrnn_more_than_or_equal_to_65_subgroup , upper_bounds_mrnn_more_than_or_equal_to_65_subgroup)\n",
    "\n",
    "print(mean_values_ci_mrnn_more_than_or_equal_to_65_subgroup)"
   ]
  },
  {
   "cell_type": "markdown",
   "metadata": {},
   "source": [
    "### Confidence Interval (-65 subgroup)"
   ]
  },
  {
   "cell_type": "markdown",
   "metadata": {},
   "source": [
    "#### Distribution Bootstrap for the Top 5 variables with Largest Differences in MAE (Mean Absolute Error) "
   ]
  },
  {
   "cell_type": "code",
   "execution_count": null,
   "metadata": {},
   "outputs": [],
   "source": [
    "indices = [6, 32, 0, 28, 5, 31, 3]\n",
    "\n",
    "results_bootstrap_mrnn_less_than_65_subgroup = []\n",
    "\n",
    "for i in indices:\n",
    "       results_bootstrap_mrnn_less_than_65_subgroup.append(toolkits.bootstrap_v2(testing_ae_mrnn_variables_standard, indicating_mask_variable_standard_norm, 5, i, 9000))\n",
    "\n"
   ]
  },
  {
   "cell_type": "markdown",
   "metadata": {},
   "source": [
    "#### Calculating the mean and standard deviation of the bootstrap distribution"
   ]
  },
  {
   "cell_type": "code",
   "execution_count": null,
   "metadata": {},
   "outputs": [
    {
     "name": "stdout",
     "output_type": "stream",
     "text": [
      "[np.float64(1.029187718285846), np.float64(1.1923604185552845), np.float64(0.654087663038131), np.float64(0.7499906208627262), np.float64(0.6266684481775726)]\n",
      "[np.float64(0.8328915889503894), np.float64(0.432296645057951), np.float64(0.13999873850370842), np.float64(0.0583718487785053), np.float64(0.0736833630421469)]\n"
     ]
    }
   ],
   "source": [
    "means_bootstraps_mrnn_less_than_65_subgroup,standards_deviations_mrnn_less_than_65_subgroup = toolkits.calc_mean_and_standard_deviation(results_bootstrap_mrnn_less_than_65_subgroup)\n",
    "\n",
    "print(means_bootstraps_mrnn_less_than_65_subgroup)\n",
    "print(standards_deviations_mrnn_less_than_65_subgroup)\n"
   ]
  },
  {
   "cell_type": "markdown",
   "metadata": {},
   "source": [
    "#### Calculating lower bound and upper bound"
   ]
  },
  {
   "cell_type": "code",
   "execution_count": null,
   "metadata": {},
   "outputs": [
    {
     "name": "stdout",
     "output_type": "stream",
     "text": [
      "[np.float64(-0.6032497990832562), np.float64(0.3450745636042054), np.float64(0.3796951776898216), np.float64(0.6355838995458374), np.float64(0.482251710355175)]\n",
      "[np.float64(2.661625235654948), np.float64(2.0396462735063636), np.float64(0.9284801483864404), np.float64(0.864397342179615), np.float64(0.7710851859999702)]\n"
     ]
    }
   ],
   "source": [
    "lower_bounds_mrnn_less_than_65_subgroup, upper_bounds_mrnn_less_than_65_subgroup = toolkits.calc_lower_and_upper_bound(results_bootstrap_mrnn_less_than_65_subgroup, means_bootstraps_mrnn_less_than_65_subgroup, standards_deviations_mrnn_less_than_65_subgroup)\n",
    "\n",
    "print(lower_bounds_mrnn_less_than_65_subgroup)\n",
    "print(upper_bounds_mrnn_less_than_65_subgroup)"
   ]
  },
  {
   "cell_type": "code",
   "execution_count": null,
   "metadata": {},
   "outputs": [
    {
     "name": "stdout",
     "output_type": "stream",
     "text": [
      "[np.float64(0.0), np.float64(0.5365028382858474), np.float64(0.41502977769515714), np.float64(0.6231741790597989), np.float64(0.4974875170875559)]\n",
      "[np.float64(2.2237061316119653), np.float64(2.1451356410086992), np.float64(0.9571394705182901), np.float64(0.840094641091935), np.float64(0.7830983096643825)]\n"
     ]
    }
   ],
   "source": [
    "lower_bounds_mrnn_less_than_65_subgroup, upper_bounds_mrnn_less_than_65_subgroup = toolkits.calc_lower_and_upper_bound_percentile(results_bootstrap_mrnn_less_than_65_subgroup)\n",
    "\n",
    "print(lower_bounds_mrnn_less_than_65_subgroup)\n",
    "print(upper_bounds_mrnn_less_than_65_subgroup)"
   ]
  },
  {
   "cell_type": "markdown",
   "metadata": {},
   "source": [
    "#### Mean values of lower bound and upper bound"
   ]
  },
  {
   "cell_type": "code",
   "execution_count": null,
   "metadata": {},
   "outputs": [
    {
     "name": "stdout",
     "output_type": "stream",
     "text": [
      "[np.float64(1.1118530658059826), np.float64(1.3408192396472733), np.float64(0.6860846241067236), np.float64(0.7316344100758669), np.float64(0.6402929133759692)]\n"
     ]
    }
   ],
   "source": [
    "mean_values_ci_mrnn_less_than_65_subgroup  = toolkits.calc_mean_values_ci(lower_bounds_mrnn_less_than_65_subgroup, upper_bounds_mrnn_less_than_65_subgroup)\n",
    "\n",
    "print(mean_values_ci_mrnn_less_than_65_subgroup)"
   ]
  },
  {
   "cell_type": "markdown",
   "metadata": {},
   "source": [
    "### Confidence Interval (ICUType 1 subgroup)"
   ]
  },
  {
   "cell_type": "markdown",
   "metadata": {},
   "source": [
    "#### Distribution Bootstrap for the Top 5 variables with Largest Differences in MAE (Mean Absolute Error) "
   ]
  },
  {
   "cell_type": "code",
   "execution_count": null,
   "metadata": {},
   "outputs": [],
   "source": [
    "indices = [28, 31, 6, 0, 32, 24]\n",
    "\n",
    "results_bootstrap_mrnn_ICUType_1_subgroup = []\n",
    "\n",
    "for i in indices:\n",
    "       results_bootstrap_mrnn_ICUType_1_subgroup.append(toolkits.bootstrap_v2(testing_ae_mrnn_variables_standard, indicating_mask_variable_standard_norm, 6, i, 9000))\n",
    "\n"
   ]
  },
  {
   "cell_type": "markdown",
   "metadata": {},
   "source": [
    "#### Calculating the mean and standard deviation of the bootstrap distribution"
   ]
  },
  {
   "cell_type": "code",
   "execution_count": null,
   "metadata": {},
   "outputs": [
    {
     "name": "stdout",
     "output_type": "stream",
     "text": [
      "[np.float64(0.5923263818868941), np.float64(0.8991498203303806), np.float64(1.2951781780888738), np.float64(0.38940273160830957), np.float64(0.7204738000835694)]\n",
      "[np.float64(0.18517298169887855), np.float64(0.2406904990238948), np.float64(0.37899393156397077), np.float64(0.042177815695792834), np.float64(0.05230558266608225)]\n"
     ]
    }
   ],
   "source": [
    "means_bootstraps_mrnn_ICUType_1_subgroup, standards_deviations_mrnn_ICUType_1_subgroup = toolkits.calc_mean_and_standard_deviation(results_bootstrap_mrnn_ICUType_1_subgroup)\n",
    "\n",
    "print(means_bootstraps_mrnn_ICUType_1_subgroup)\n",
    "print(standards_deviations_mrnn_ICUType_1_subgroup)\n"
   ]
  },
  {
   "cell_type": "markdown",
   "metadata": {},
   "source": [
    "#### Calculating lower bound and upper bound"
   ]
  },
  {
   "cell_type": "code",
   "execution_count": null,
   "metadata": {},
   "outputs": [
    {
     "name": "stdout",
     "output_type": "stream",
     "text": [
      "[np.float64(0.22939400684719763), np.float64(0.42740511082257376), np.float64(0.5523637218642531), np.float64(0.3067357318979874), np.float64(0.6179567418676657)]\n",
      "[np.float64(0.9552587569265907), np.float64(1.3708945298381874), np.float64(2.0379926343134946), np.float64(0.4720697313186317), np.float64(0.8229908582994732)]\n"
     ]
    }
   ],
   "source": [
    "lower_bounds_mrnn_ICUType_1_subgroup, upper_bounds_mrnn_ICUType_1_subgroup = toolkits.calc_lower_and_upper_bound(results_bootstrap_mrnn_ICUType_1_subgroup, means_bootstraps_mrnn_ICUType_1_subgroup, standards_deviations_mrnn_ICUType_1_subgroup)\n",
    "\n",
    "print(lower_bounds_mrnn_ICUType_1_subgroup)\n",
    "print(upper_bounds_mrnn_ICUType_1_subgroup)"
   ]
  },
  {
   "cell_type": "code",
   "execution_count": null,
   "metadata": {},
   "outputs": [
    {
     "name": "stdout",
     "output_type": "stream",
     "text": [
      "[np.float64(0.33387672992511835), np.float64(0.4744406973511899), np.float64(0.6343524699589197), np.float64(0.3055874992951609), np.float64(0.61986295056262)]\n",
      "[np.float64(1.0255384696106526), np.float64(1.4150713925130833), np.float64(2.1045419179083136), np.float64(0.4710435522679365), np.float64(0.8269107847530826)]\n"
     ]
    }
   ],
   "source": [
    "lower_bounds_mrnn_ICUType_1_subgroup, upper_bounds_mrnn_ICUType_1_subgroup = toolkits.calc_lower_and_upper_bound_percentile(results_bootstrap_mrnn_ICUType_1_subgroup)\n",
    "\n",
    "print(lower_bounds_mrnn_ICUType_1_subgroup)\n",
    "print(upper_bounds_mrnn_ICUType_1_subgroup)"
   ]
  },
  {
   "cell_type": "markdown",
   "metadata": {},
   "source": [
    "#### Mean values of lower bound and upper bound"
   ]
  },
  {
   "cell_type": "code",
   "execution_count": null,
   "metadata": {},
   "outputs": [
    {
     "name": "stdout",
     "output_type": "stream",
     "text": [
      "[np.float64(0.6797075997678855), np.float64(0.9447560449321366), np.float64(1.3694471939336166), np.float64(0.3883155257815487), np.float64(0.7233868676578512)]\n"
     ]
    }
   ],
   "source": [
    "mean_values_ci_mrnn_ICUType_1_subgroup  = toolkits.calc_mean_values_ci(lower_bounds_mrnn_ICUType_1_subgroup, upper_bounds_mrnn_ICUType_1_subgroup)\n",
    "\n",
    "print(mean_values_ci_mrnn_ICUType_1_subgroup)"
   ]
  },
  {
   "cell_type": "markdown",
   "metadata": {},
   "source": [
    "### Confidence Interval (ICUType 2 subgroup)"
   ]
  },
  {
   "cell_type": "markdown",
   "metadata": {},
   "source": [
    "#### Distribution Bootstrap for the Top 5 variables with Largest Differences in MAE (Mean Absolute Error) "
   ]
  },
  {
   "cell_type": "code",
   "execution_count": null,
   "metadata": {},
   "outputs": [],
   "source": [
    "indices = [28, 31, 6, 0, 32, 24]\n",
    "\n",
    "results_bootstrap_mrnn_ICUType_2_subgroup = []\n",
    "\n",
    "for i in indices:\n",
    "       results_bootstrap_mrnn_ICUType_2_subgroup.append(toolkits.bootstrap_v2(testing_ae_mrnn_variables_standard, indicating_mask_variable_standard_norm, 7, i, 9000))\n",
    "\n"
   ]
  },
  {
   "cell_type": "markdown",
   "metadata": {},
   "source": [
    "#### Calculating the mean and standard deviation of the bootstrap distribution"
   ]
  },
  {
   "cell_type": "code",
   "execution_count": null,
   "metadata": {},
   "outputs": [
    {
     "name": "stdout",
     "output_type": "stream",
     "text": [
      "[np.float64(0.3911491147970715), np.float64(0.0), np.float64(0.40753655451843246), np.float64(0.5597474720403817), np.float64(0.5971345585631511)]\n",
      "[np.float64(0.026120841089482264), np.float64(0.0), np.float64(0.13502306595614744), np.float64(0.021884859653926635), np.float64(0.022134890710794525)]\n"
     ]
    }
   ],
   "source": [
    "means_bootstraps_mrnn_ICUType_2_subgroup, standards_deviations_mrnn_ICUType_2_subgroup = toolkits.calc_mean_and_standard_deviation(results_bootstrap_mrnn_ICUType_2_subgroup)\n",
    "\n",
    "print(means_bootstraps_mrnn_ICUType_2_subgroup)\n",
    "print(standards_deviations_mrnn_ICUType_2_subgroup) \n"
   ]
  },
  {
   "cell_type": "markdown",
   "metadata": {},
   "source": [
    "#### Calculating lower bound and upper bound"
   ]
  },
  {
   "cell_type": "code",
   "execution_count": null,
   "metadata": {},
   "outputs": [
    {
     "name": "stdout",
     "output_type": "stream",
     "text": [
      "[np.float64(0.33995320701579224), np.float64(0.0), np.float64(0.14289620816220722), np.float64(0.5168539353119718), np.float64(0.5537509699682637)]\n",
      "[np.float64(0.44234502257835073), np.float64(0.0), np.float64(0.6721769008746576), np.float64(0.6026410087687916), np.float64(0.6405181471580386)]\n"
     ]
    }
   ],
   "source": [
    "lower_bounds_mrnn_ICUType_2_subgroup, upper_bounds_mrnn_ICUType_2_subgroup = toolkits.calc_lower_and_upper_bound(results_bootstrap_mrnn_ICUType_2_subgroup, means_bootstraps_mrnn_ICUType_2_subgroup, standards_deviations_mrnn_ICUType_2_subgroup)\n",
    "\n",
    "print(lower_bounds_mrnn_ICUType_2_subgroup)\n",
    "print(upper_bounds_mrnn_ICUType_2_subgroup)"
   ]
  },
  {
   "cell_type": "code",
   "execution_count": null,
   "metadata": {},
   "outputs": [
    {
     "name": "stdout",
     "output_type": "stream",
     "text": [
      "[np.float64(0.3431045463776856), np.float64(0.0), np.float64(0.09341967237713998), np.float64(0.515036131346664), np.float64(0.5546938441668393)]\n",
      "[np.float64(0.4450448429779754), np.float64(0.0), np.float64(0.6781899601857575), np.float64(0.6012241978350398), np.float64(0.6413381337861924)]\n"
     ]
    }
   ],
   "source": [
    "lower_bounds_mrnn_ICUType_2_subgroup, upper_bounds_mrnn_ICUType_2_subgroup = toolkits.calc_lower_and_upper_bound_percentile(results_bootstrap_mrnn_ICUType_2_subgroup)\n",
    "\n",
    "print(lower_bounds_mrnn_ICUType_2_subgroup)\n",
    "print(upper_bounds_mrnn_ICUType_2_subgroup)"
   ]
  },
  {
   "cell_type": "markdown",
   "metadata": {},
   "source": [
    "#### Mean values of lower bound and upper bound"
   ]
  },
  {
   "cell_type": "code",
   "execution_count": null,
   "metadata": {},
   "outputs": [
    {
     "name": "stdout",
     "output_type": "stream",
     "text": [
      "[np.float64(0.3940746946778305), np.float64(0.0), np.float64(0.38580481628144875), np.float64(0.5581301645908519), np.float64(0.5980159889765159)]\n"
     ]
    }
   ],
   "source": [
    "mean_values_ci_mrnn_ICUType_2_subgroup  = toolkits.calc_mean_values_ci(lower_bounds_mrnn_ICUType_2_subgroup, upper_bounds_mrnn_ICUType_2_subgroup)\n",
    "\n",
    "print(mean_values_ci_mrnn_ICUType_2_subgroup)"
   ]
  },
  {
   "cell_type": "markdown",
   "metadata": {},
   "source": [
    "### Confidence Interval (ICUType 3 subgroup)"
   ]
  },
  {
   "cell_type": "markdown",
   "metadata": {},
   "source": [
    "#### Distribution Bootstrap for the Top 5 variables with Largest Differences in MAE (Mean Absolute Error) "
   ]
  },
  {
   "cell_type": "code",
   "execution_count": null,
   "metadata": {},
   "outputs": [],
   "source": [
    "indices = [28, 31, 6, 0, 32, 24]\n",
    "\n",
    "results_bootstrap_mrnn_ICUType_3_subgroup = []\n",
    "\n",
    "for i in indices:\n",
    "       results_bootstrap_mrnn_ICUType_3_subgroup.append(toolkits.bootstrap_v2(testing_ae_mrnn_variables_standard, indicating_mask_variable_standard_norm, 8, i, 9000))\n",
    "\n"
   ]
  },
  {
   "cell_type": "markdown",
   "metadata": {},
   "source": [
    "#### Calculating the mean and standard deviation of the bootstrap distribution"
   ]
  },
  {
   "cell_type": "code",
   "execution_count": null,
   "metadata": {},
   "outputs": [
    {
     "name": "stdout",
     "output_type": "stream",
     "text": [
      "[np.float64(1.719134934940246), np.float64(0.7148859869111546), np.float64(0.6705280051184919), np.float64(1.214910889467245), np.float64(1.0386339202179928)]\n",
      "[np.float64(0.45599066158626456), np.float64(0.24937640245751141), np.float64(0.07494194033616502), np.float64(0.4409309876479161), np.float64(0.05313648672087894)]\n"
     ]
    }
   ],
   "source": [
    "means_bootstraps_mrnn_ICUType_3_subgroup, standards_deviations_mrnn_ICUType_3_subgroup = toolkits.calc_mean_and_standard_deviation(results_bootstrap_mrnn_ICUType_3_subgroup)\n",
    "\n",
    "print(means_bootstraps_mrnn_ICUType_3_subgroup)\n",
    "print(standards_deviations_mrnn_ICUType_3_subgroup)\n"
   ]
  },
  {
   "cell_type": "markdown",
   "metadata": {},
   "source": [
    "#### Calculating lower bound and upper bound"
   ]
  },
  {
   "cell_type": "code",
   "execution_count": null,
   "metadata": {},
   "outputs": [
    {
     "name": "stdout",
     "output_type": "stream",
     "text": [
      "[np.float64(0.8254096609445756), np.float64(0.22611721950026636), np.float64(0.5236445011280588), np.float64(0.35070203400965394), np.float64(0.9344883199800793)]\n",
      "[np.float64(2.6128602089359165), np.float64(1.2036547543220428), np.float64(0.8174115091089249), np.float64(2.079119744924836), np.float64(1.1427795204559064)]\n"
     ]
    }
   ],
   "source": [
    "lower_bounds_mrnn_ICUType_3_subgroup, upper_bounds_mrnn_ICUType_3_subgroup = toolkits.calc_lower_and_upper_bound(results_bootstrap_mrnn_ICUType_3_subgroup, means_bootstraps_mrnn_ICUType_3_subgroup, standards_deviations_mrnn_ICUType_3_subgroup)\n",
    "\n",
    "print(lower_bounds_mrnn_ICUType_3_subgroup)\n",
    "print(upper_bounds_mrnn_ICUType_3_subgroup)"
   ]
  },
  {
   "cell_type": "code",
   "execution_count": null,
   "metadata": {},
   "outputs": [
    {
     "name": "stdout",
     "output_type": "stream",
     "text": [
      "[np.float64(0.9073730753547186), np.float64(0.07943431525266052), np.float64(0.5018013901385182), np.float64(0.5220032075261235), np.float64(0.9362934830326102)]\n",
      "[np.float64(2.68023466060627), np.float64(1.1458615561271466), np.float64(0.7919180977583171), np.float64(2.2313078354279243), np.float64(1.1467097315344643)]\n"
     ]
    }
   ],
   "source": [
    "lower_bounds_mrnn_ICUType_3_subgroup, upper_bounds_mrnn_ICUType_3_subgroup = toolkits.calc_lower_and_upper_bound_percentile(results_bootstrap_mrnn_ICUType_3_subgroup)\n",
    "\n",
    "print(lower_bounds_mrnn_ICUType_3_subgroup)\n",
    "print(upper_bounds_mrnn_ICUType_3_subgroup)"
   ]
  },
  {
   "cell_type": "markdown",
   "metadata": {},
   "source": [
    "#### Mean values of lower bound and upper bound"
   ]
  },
  {
   "cell_type": "code",
   "execution_count": null,
   "metadata": {},
   "outputs": [
    {
     "name": "stdout",
     "output_type": "stream",
     "text": [
      "[np.float64(1.7938038679804944), np.float64(0.6126479356899035), np.float64(0.6468597439484176), np.float64(1.376655521477024), np.float64(1.0415016072835372)]\n"
     ]
    }
   ],
   "source": [
    "mean_values_ci_mrnn_ICUType_3_subgroup  = toolkits.calc_mean_values_ci(lower_bounds_mrnn_ICUType_3_subgroup, upper_bounds_mrnn_ICUType_3_subgroup)\n",
    "\n",
    "print(mean_values_ci_mrnn_ICUType_3_subgroup)"
   ]
  },
  {
   "cell_type": "markdown",
   "metadata": {},
   "source": [
    "### Confidence Interval (ICUType 4 subgroup)"
   ]
  },
  {
   "cell_type": "markdown",
   "metadata": {},
   "source": [
    "#### Distribution Bootstrap for the Top 5 variables with Largest Differences in MAE (Mean Absolute Error) "
   ]
  },
  {
   "cell_type": "code",
   "execution_count": null,
   "metadata": {},
   "outputs": [],
   "source": [
    "indices = [28, 31, 6, 0, 32, 24]\n",
    "\n",
    "\n",
    "results_bootstrap_mrnn_ICUType_4_subgroup = []\n",
    "\n",
    "for i in indices:\n",
    "       results_bootstrap_mrnn_ICUType_4_subgroup.append(toolkits.bootstrap_v2(testing_ae_mrnn_variables_standard, indicating_mask_variable_standard_norm, 9, i, 9000))\n",
    "\n"
   ]
  },
  {
   "cell_type": "markdown",
   "metadata": {},
   "source": [
    "#### Calculating the mean and standard deviation of the bootstrap distribution"
   ]
  },
  {
   "cell_type": "code",
   "execution_count": null,
   "metadata": {},
   "outputs": [
    {
     "name": "stdout",
     "output_type": "stream",
     "text": [
      "[np.float64(0.5143875969471539), np.float64(0.6932693072642694), np.float64(0.8103604095888144), np.float64(0.5926438887932957), np.float64(0.6708653384668115)]\n",
      "[np.float64(0.1077200214987232), np.float64(0.2867206132388758), np.float64(0.1895512204845643), np.float64(0.06415554272726394), np.float64(0.02664062826735789)]\n"
     ]
    }
   ],
   "source": [
    "means_bootstraps_mrnn_ICUType_4_subgroup, standards_deviations_mrnn_ICUType_4_subgroup = toolkits.calc_mean_and_standard_deviation(results_bootstrap_mrnn_ICUType_4_subgroup)\n",
    "\n",
    "print(means_bootstraps_mrnn_ICUType_4_subgroup)\n",
    "print(standards_deviations_mrnn_ICUType_4_subgroup)\n"
   ]
  },
  {
   "cell_type": "markdown",
   "metadata": {},
   "source": [
    "#### Calculating lower bound and upper bound"
   ]
  },
  {
   "cell_type": "code",
   "execution_count": null,
   "metadata": {},
   "outputs": [
    {
     "name": "stdout",
     "output_type": "stream",
     "text": [
      "[np.float64(0.30326023439577604), np.float64(0.13130723169083458), np.float64(0.43884684421345743), np.float64(0.46690133563923775), np.float64(0.6186506665372703)]\n",
      "[np.float64(0.7255149594985317), np.float64(1.2552313828377042), np.float64(1.1818739749641713), np.float64(0.7183864419473536), np.float64(0.7230800103963527)]\n"
     ]
    }
   ],
   "source": [
    "lower_bounds_mrnn_ICUType_4_subgroup, upper_bounds_mrnn_ICUType_4_subgroup = toolkits.calc_lower_and_upper_bound(results_bootstrap_mrnn_ICUType_4_subgroup, means_bootstraps_mrnn_ICUType_4_subgroup, standards_deviations_mrnn_ICUType_4_subgroup)\n",
    "\n",
    "print(lower_bounds_mrnn_ICUType_4_subgroup)\n",
    "print(upper_bounds_mrnn_ICUType_4_subgroup)"
   ]
  },
  {
   "cell_type": "code",
   "execution_count": null,
   "metadata": {},
   "outputs": [
    {
     "name": "stdout",
     "output_type": "stream",
     "text": [
      "[np.float64(0.336414398103584), np.float64(0.23875262859924493), np.float64(0.5495089491374031), np.float64(0.474405403021104), np.float64(0.62041871440423)]\n",
      "[np.float64(0.7511859659183101), np.float64(1.3382585193237966), np.float64(1.266807378181786), np.float64(0.7253036990143586), np.float64(0.7243081740543009)]\n"
     ]
    }
   ],
   "source": [
    "lower_bounds_mrnn_ICUType_4_subgroup, upper_bounds_mrnn_ICUType_4_subgroup = toolkits.calc_lower_and_upper_bound_percentile(results_bootstrap_mrnn_ICUType_4_subgroup)\n",
    "\n",
    "print(lower_bounds_mrnn_ICUType_4_subgroup)\n",
    "print(upper_bounds_mrnn_ICUType_4_subgroup)"
   ]
  },
  {
   "cell_type": "markdown",
   "metadata": {},
   "source": [
    "#### Mean values of lower bound and upper bound"
   ]
  },
  {
   "cell_type": "code",
   "execution_count": null,
   "metadata": {},
   "outputs": [
    {
     "name": "stdout",
     "output_type": "stream",
     "text": [
      "[np.float64(0.543800182010947), np.float64(0.7885055739615208), np.float64(0.9081581636595946), np.float64(0.5998545510177313), np.float64(0.6723634442292654)]\n"
     ]
    }
   ],
   "source": [
    "mean_values_ci_mrnn_ICUType_4_subgroup  = toolkits.calc_mean_values_ci(lower_bounds_mrnn_ICUType_4_subgroup, upper_bounds_mrnn_ICUType_4_subgroup)\n",
    "\n",
    "print(mean_values_ci_mrnn_ICUType_4_subgroup)"
   ]
  },
  {
   "cell_type": "markdown",
   "metadata": {},
   "source": [
    "### Confidence Interval (Undefined classification subgroup)"
   ]
  },
  {
   "cell_type": "markdown",
   "metadata": {},
   "source": [
    "#### Distribution Bootstrap for the Top 5 variables with Largest Differences in MAE (Mean Absolute Error) "
   ]
  },
  {
   "cell_type": "code",
   "execution_count": null,
   "metadata": {},
   "outputs": [],
   "source": [
    "indices = [32, 0, 6, 31, 5, 1, 35]\n",
    "\n",
    "results_bootstrap_mrnn_undefined_classification_subgroup = []\n",
    "\n",
    "for i in indices:\n",
    "       results_bootstrap_mrnn_undefined_classification_subgroup.append(toolkits.bootstrap_v2(testing_ae_mrnn_variables_standard, indicating_mask_variable_standard_norm, 10, i, 9000))\n",
    "\n"
   ]
  },
  {
   "cell_type": "markdown",
   "metadata": {},
   "source": [
    "#### Calculating the mean and standard deviation of the bootstrap distribution"
   ]
  },
  {
   "cell_type": "code",
   "execution_count": null,
   "metadata": {},
   "outputs": [
    {
     "name": "stdout",
     "output_type": "stream",
     "text": [
      "[np.float64(0.572329431448972), np.float64(0.5338853849284775), np.float64(0.7577229293241694), np.float64(0.7690223616774376), np.float64(0.48296232187961163)]\n",
      "[np.float64(0.15863174449640172), np.float64(0.04803389244484797), np.float64(0.12507430978607165), np.float64(0.01346354958070844), np.float64(0.035705973066347)]\n"
     ]
    }
   ],
   "source": [
    "means_bootstraps_mrnn_undefined_classification_subgroup, standards_deviations_mrnn_undefined_classification_subgroup = toolkits.calc_mean_and_standard_deviation(results_bootstrap_mrnn_undefined_classification_subgroup)\n",
    "\n",
    "print(means_bootstraps_mrnn_undefined_classification_subgroup)\n",
    "print(standards_deviations_mrnn_undefined_classification_subgroup)\n"
   ]
  },
  {
   "cell_type": "markdown",
   "metadata": {},
   "source": [
    "#### Calculating lower bound and upper bound"
   ]
  },
  {
   "cell_type": "code",
   "execution_count": null,
   "metadata": {},
   "outputs": [
    {
     "name": "stdout",
     "output_type": "stream",
     "text": [
      "[np.float64(0.26141692543126466), np.float64(0.43974068569930486), np.float64(0.5125817867522633), np.float64(0.7426342893951797), np.float64(0.4129799006366143)]\n",
      "[np.float64(0.8832419374666793), np.float64(0.6280300841576502), np.float64(1.0028640718960755), np.float64(0.7954104339596956), np.float64(0.552944743122609)]\n"
     ]
    }
   ],
   "source": [
    "lower_bounds_mrnn_undefined_classification_subgroup, upper_bounds_mrnn_undefined_classification_subgroup = toolkits.calc_lower_and_upper_bound(results_bootstrap_mrnn_undefined_classification_subgroup, means_bootstraps_mrnn_undefined_classification_subgroup, standards_deviations_mrnn_undefined_classification_subgroup)\n",
    "\n",
    "print(lower_bounds_mrnn_undefined_classification_subgroup)\n",
    "print(upper_bounds_mrnn_undefined_classification_subgroup)"
   ]
  },
  {
   "cell_type": "code",
   "execution_count": null,
   "metadata": {},
   "outputs": [
    {
     "name": "stdout",
     "output_type": "stream",
     "text": [
      "[np.float64(0.28229290217266617), np.float64(0.44716250719586736), np.float64(0.5096508080497731), np.float64(0.7425805448717047), np.float64(0.42530560672235374)]\n",
      "[np.float64(0.9009517424629762), np.float64(0.6355002898656733), np.float64(0.9861749079542917), np.float64(0.7961075136191128), np.float64(0.5636887749812975)]\n"
     ]
    }
   ],
   "source": [
    "lower_bounds_mrnn_undefined_classification_subgroup, upper_bounds_mrnn_undefined_classification_subgroup = toolkits.calc_lower_and_upper_bound_percentile(results_bootstrap_mrnn_undefined_classification_subgroup)\n",
    "\n",
    "print(lower_bounds_mrnn_undefined_classification_subgroup)\n",
    "print(upper_bounds_mrnn_undefined_classification_subgroup)"
   ]
  },
  {
   "cell_type": "markdown",
   "metadata": {},
   "source": [
    "#### Mean values of lower bound and upper bound"
   ]
  },
  {
   "cell_type": "code",
   "execution_count": null,
   "metadata": {},
   "outputs": [
    {
     "name": "stdout",
     "output_type": "stream",
     "text": [
      "[np.float64(0.5916223223178212), np.float64(0.5413313985307704), np.float64(0.7479128580020324), np.float64(0.7693440292454088), np.float64(0.49449719085182564)]\n"
     ]
    }
   ],
   "source": [
    "mean_values_ci_mrnn_undefined_classification_subgroup  = toolkits.calc_mean_values_ci(lower_bounds_mrnn_undefined_classification_subgroup, upper_bounds_mrnn_undefined_classification_subgroup)\n",
    "\n",
    "print(mean_values_ci_mrnn_undefined_classification_subgroup)"
   ]
  },
  {
   "cell_type": "markdown",
   "metadata": {},
   "source": [
    "### Confidence Interval (Low weight classification subgroup)"
   ]
  },
  {
   "cell_type": "markdown",
   "metadata": {},
   "source": [
    "#### Distribution Bootstrap for the Top 5 variables with Largest Differences in MAE (Mean Absolute Error) "
   ]
  },
  {
   "cell_type": "code",
   "execution_count": null,
   "metadata": {},
   "outputs": [],
   "source": [
    "indices = [32, 0, 6, 31, 5, 1, 35]\n",
    "\n",
    "results_bootstrap_mrnn_low_weight_classification_subgroup = []\n",
    "\n",
    "for i in indices:\n",
    "       results_bootstrap_mrnn_low_weight_classification_subgroup.append(toolkits.bootstrap_v2(testing_ae_mrnn_variables_standard, indicating_mask_variable_standard_norm, 11, i, 9000))\n",
    "\n"
   ]
  },
  {
   "cell_type": "markdown",
   "metadata": {},
   "source": [
    "#### Calculating the mean and standard deviation of the bootstrap distribution"
   ]
  },
  {
   "cell_type": "code",
   "execution_count": null,
   "metadata": {},
   "outputs": [
    {
     "name": "stdout",
     "output_type": "stream",
     "text": [
      "[np.float64(0.06684271932828789), np.float64(1.9304242224835753), np.float64(0.0), np.float64(1.3239523724665192), np.float64(0.27513108924930096)]\n",
      "[np.float64(0.05075023170537849), np.float64(1.4674221052022416), np.float64(0.0), np.float64(0.05118103352428714), np.float64(0.20904297686280882)]\n"
     ]
    }
   ],
   "source": [
    "means_bootstraps_mrnn_low_weight_classification_subgroup, standards_deviations_mrnn_low_weight_classification_subgroup = toolkits.calc_mean_and_standard_deviation(results_bootstrap_mrnn_low_weight_classification_subgroup)\n",
    "\n",
    "print(means_bootstraps_mrnn_low_weight_classification_subgroup)\n",
    "print(standards_deviations_mrnn_low_weight_classification_subgroup)\n"
   ]
  },
  {
   "cell_type": "markdown",
   "metadata": {},
   "source": [
    "#### Calculating lower bound and upper bound"
   ]
  },
  {
   "cell_type": "code",
   "execution_count": null,
   "metadata": {},
   "outputs": [
    {
     "name": "stdout",
     "output_type": "stream",
     "text": [
      "[np.float64(-0.03262590702131672), np.float64(-0.9456702538307644), np.float64(0.0), np.float64(1.2236393900673792), np.float64(-0.13458561662284413)]\n",
      "[np.float64(0.16631134567789252), np.float64(4.806518698797915), np.float64(0.0), np.float64(1.4242653548656592), np.float64(0.684847795121446)]\n"
     ]
    }
   ],
   "source": [
    "lower_bounds_mrnn_low_weight_classification_subgroup, upper_bounds_mrnn_low_weight_classification_subgroup = toolkits.calc_lower_and_upper_bound(results_bootstrap_mrnn_low_weight_classification_subgroup, means_bootstraps_mrnn_low_weight_classification_subgroup, standards_deviations_mrnn_low_weight_classification_subgroup)\n",
    "\n",
    "print(lower_bounds_mrnn_low_weight_classification_subgroup)\n",
    "print(upper_bounds_mrnn_low_weight_classification_subgroup)"
   ]
  },
  {
   "cell_type": "code",
   "execution_count": null,
   "metadata": {},
   "outputs": [
    {
     "name": "stdout",
     "output_type": "stream",
     "text": [
      "[np.float64(0.0), np.float64(0.0), np.float64(0.0), np.float64(1.2212994888354451), np.float64(0.0)]\n",
      "[np.float64(0.1053747545900948), np.float64(4.032034754392019), np.float64(0.0), np.float64(1.4225531788058816), np.float64(0.43396070859529773)]\n"
     ]
    }
   ],
   "source": [
    "lower_bounds_mrnn_low_weight_classification_subgroup, upper_bounds_mrnn_low_weight_classification_subgroup = toolkits.calc_lower_and_upper_bound_percentile(results_bootstrap_mrnn_low_weight_classification_subgroup)\n",
    "\n",
    "print(lower_bounds_mrnn_low_weight_classification_subgroup)\n",
    "print(upper_bounds_mrnn_low_weight_classification_subgroup)"
   ]
  },
  {
   "cell_type": "markdown",
   "metadata": {},
   "source": [
    "#### Mean values of lower bound and upper bound"
   ]
  },
  {
   "cell_type": "code",
   "execution_count": null,
   "metadata": {},
   "outputs": [
    {
     "name": "stdout",
     "output_type": "stream",
     "text": [
      "[np.float64(0.0526873772950474), np.float64(2.0160173771960097), np.float64(0.0), np.float64(1.3219263338206635), np.float64(0.21698035429764886)]\n"
     ]
    }
   ],
   "source": [
    "mean_values_ci_mrnn_low_weight_classification_subgroup  = toolkits.calc_mean_values_ci(lower_bounds_mrnn_low_weight_classification_subgroup, upper_bounds_mrnn_low_weight_classification_subgroup)\n",
    "\n",
    "print(mean_values_ci_mrnn_low_weight_classification_subgroup)"
   ]
  },
  {
   "cell_type": "markdown",
   "metadata": {},
   "source": [
    "### Confidence Interval (Normal weight classification subgroup)"
   ]
  },
  {
   "cell_type": "markdown",
   "metadata": {},
   "source": [
    "#### Distribution Bootstrap for the Top 5 variables with Largest Differences in MAE (Mean Absolute Error) "
   ]
  },
  {
   "cell_type": "code",
   "execution_count": null,
   "metadata": {},
   "outputs": [],
   "source": [
    "indices = [32, 0, 6, 31, 5, 1, 35]\n",
    "\n",
    "results_bootstrap_mrnn_normal_weight_classification_subgroup = []\n",
    "\n",
    "for i in indices:\n",
    "       results_bootstrap_mrnn_normal_weight_classification_subgroup.append(toolkits.bootstrap_v2(testing_ae_mrnn_variables_standard, indicating_mask_variable_standard_norm, 12, i, 9000))\n",
    "\n"
   ]
  },
  {
   "cell_type": "markdown",
   "metadata": {},
   "source": [
    "#### Calculating the mean and standard deviation of the bootstrap distribution"
   ]
  },
  {
   "cell_type": "code",
   "execution_count": null,
   "metadata": {},
   "outputs": [
    {
     "name": "stdout",
     "output_type": "stream",
     "text": [
      "[np.float64(0.8260083154268454), np.float64(0.6437702877861539), np.float64(0.5700409295980765), np.float64(0.8089476168842691), np.float64(0.4269175173469857)]\n",
      "[np.float64(0.3891522597320637), np.float64(0.09930904073266834), np.float64(0.11036754638049881), np.float64(0.013470317340671514), np.float64(0.04554262862294101)]\n"
     ]
    }
   ],
   "source": [
    "means_bootstraps_mrnn_normal_weight_classification_subgroup, standards_deviations_mrnn_normal_weight_classification_subgroup = toolkits.calc_mean_and_standard_deviation(results_bootstrap_mrnn_normal_weight_classification_subgroup)\n",
    "\n",
    "print(means_bootstraps_mrnn_normal_weight_classification_subgroup)\n",
    "print(standards_deviations_mrnn_normal_weight_classification_subgroup)\n"
   ]
  },
  {
   "cell_type": "markdown",
   "metadata": {},
   "source": [
    "#### Calculating lower bound and upper bound"
   ]
  },
  {
   "cell_type": "code",
   "execution_count": null,
   "metadata": {},
   "outputs": [
    {
     "name": "stdout",
     "output_type": "stream",
     "text": [
      "[np.float64(0.06328390184962385), np.float64(0.44912814461090267), np.float64(0.3537245136302448), np.float64(0.7825462800362275), np.float64(0.3376556054847383)]\n",
      "[np.float64(1.588732729004067), np.float64(0.838412430961405), np.float64(0.7863573455659082), np.float64(0.8353489537323107), np.float64(0.5161794292092331)]\n"
     ]
    }
   ],
   "source": [
    "lower_bounds_mrnn_normal_weight_classification_subgroup, upper_bounds_mrnn_normal_weight_classification_subgroup = toolkits.calc_lower_and_upper_bound(results_bootstrap_mrnn_normal_weight_classification_subgroup, means_bootstraps_mrnn_normal_weight_classification_subgroup, standards_deviations_mrnn_normal_weight_classification_subgroup)\n",
    "\n",
    "print(lower_bounds_mrnn_normal_weight_classification_subgroup)\n",
    "print(upper_bounds_mrnn_normal_weight_classification_subgroup)"
   ]
  },
  {
   "cell_type": "code",
   "execution_count": null,
   "metadata": {},
   "outputs": [
    {
     "name": "stdout",
     "output_type": "stream",
     "text": [
      "[np.float64(0.0), np.float64(0.4837275708128196), np.float64(0.35059429410520515), np.float64(0.7824824951988859), np.float64(0.3402912382544941)]\n",
      "[np.float64(1.2552017600298466), np.float64(0.8656249833560528), np.float64(0.7842600912740948), np.float64(0.8353857855788652), np.float64(0.520270504932545)]\n"
     ]
    }
   ],
   "source": [
    "lower_bounds_mrnn_normal_weight_classification_subgroup, upper_bounds_mrnn_normal_weight_classification_subgroup = toolkits.calc_lower_and_upper_bound_percentile(results_bootstrap_mrnn_normal_weight_classification_subgroup)\n",
    "\n",
    "print(lower_bounds_mrnn_normal_weight_classification_subgroup)\n",
    "print(upper_bounds_mrnn_normal_weight_classification_subgroup)"
   ]
  },
  {
   "cell_type": "markdown",
   "metadata": {},
   "source": [
    "#### Mean values of lower bound and upper bound"
   ]
  },
  {
   "cell_type": "code",
   "execution_count": null,
   "metadata": {},
   "outputs": [
    {
     "name": "stdout",
     "output_type": "stream",
     "text": [
      "[np.float64(0.6276008800149233), np.float64(0.6746762770844361), np.float64(0.5674271926896499), np.float64(0.8089341403888756), np.float64(0.4302808715935196)]\n"
     ]
    }
   ],
   "source": [
    "mean_values_ci_mrnn_normal_weight_classification_subgroup  = toolkits.calc_mean_values_ci(lower_bounds_mrnn_normal_weight_classification_subgroup, upper_bounds_mrnn_normal_weight_classification_subgroup)\n",
    "\n",
    "print(mean_values_ci_mrnn_normal_weight_classification_subgroup)"
   ]
  },
  {
   "cell_type": "markdown",
   "metadata": {},
   "source": [
    "### Confidence Interval (Overweight classification subgroup)"
   ]
  },
  {
   "cell_type": "markdown",
   "metadata": {},
   "source": [
    "#### Distribution Bootstrap for the Top 5 variables with Largest Differences in MAE (Mean Absolute Error) "
   ]
  },
  {
   "cell_type": "code",
   "execution_count": null,
   "metadata": {},
   "outputs": [],
   "source": [
    "indices = [32, 0, 6, 31, 5, 1, 35]\n",
    "\n",
    "results_bootstrap_mrnn_overweight_classification_subgroup = []\n",
    "\n",
    "for i in indices:\n",
    "       results_bootstrap_mrnn_overweight_classification_subgroup.append(toolkits.bootstrap_v2(testing_ae_mrnn_variables_standard, indicating_mask_variable_standard_norm, 13, i, 9000))\n",
    "\n"
   ]
  },
  {
   "cell_type": "markdown",
   "metadata": {},
   "source": [
    "#### Calculating the mean and standard deviation of the bootstrap distribution"
   ]
  },
  {
   "cell_type": "code",
   "execution_count": null,
   "metadata": {},
   "outputs": [
    {
     "name": "stdout",
     "output_type": "stream",
     "text": [
      "[np.float64(1.3044340682481634), np.float64(0.4608959351926642), np.float64(1.1729141749475005), np.float64(0.4185161733355873), np.float64(0.5654040243965782)]\n",
      "[np.float64(0.2570976637522149), np.float64(0.04660768820178245), np.float64(0.44378480779330487), np.float64(0.009897569674754908), np.float64(0.14324296976206405)]\n"
     ]
    }
   ],
   "source": [
    "means_bootstraps_mrnn_overweight_classification_subgroup, standards_deviations_mrnn_overweight_classification_subgroup = toolkits.calc_mean_and_standard_deviation(results_bootstrap_mrnn_overweight_classification_subgroup)\n",
    "\n",
    "print(means_bootstraps_mrnn_overweight_classification_subgroup)\n",
    "print(standards_deviations_mrnn_overweight_classification_subgroup)\n"
   ]
  },
  {
   "cell_type": "markdown",
   "metadata": {},
   "source": [
    "#### Calculating lower bound and upper bound"
   ]
  },
  {
   "cell_type": "code",
   "execution_count": null,
   "metadata": {},
   "outputs": [
    {
     "name": "stdout",
     "output_type": "stream",
     "text": [
      "[np.float64(0.8005319067844333), np.float64(0.3695465449144982), np.float64(0.3031119347865927), np.float64(0.3991172932385919), np.float64(0.2846529626243727)]\n",
      "[np.float64(1.8083362297118937), np.float64(0.5522453254708302), np.float64(2.0427164151084085), np.float64(0.43791505343258275), np.float64(0.8461550861687838)]\n"
     ]
    }
   ],
   "source": [
    "lower_bounds_mrnn_overweight_classification_subgroup, upper_bounds_mrnn_overweight_classification_subgroup = toolkits.calc_lower_and_upper_bound(results_bootstrap_mrnn_overweight_classification_subgroup, means_bootstraps_mrnn_overweight_classification_subgroup, standards_deviations_mrnn_overweight_classification_subgroup)\n",
    "\n",
    "print(lower_bounds_mrnn_overweight_classification_subgroup)\n",
    "print(upper_bounds_mrnn_overweight_classification_subgroup)"
   ]
  },
  {
   "cell_type": "code",
   "execution_count": null,
   "metadata": {},
   "outputs": [
    {
     "name": "stdout",
     "output_type": "stream",
     "text": [
      "[np.float64(0.7647994579647753), np.float64(0.37720814141798864), np.float64(0.5996947070542901), np.float64(0.399127532664659), np.float64(0.3506072844284098)]\n",
      "[np.float64(1.7839039553895528), np.float64(0.5606294766263048), np.float64(2.1804001127524586), np.float64(0.43806154177361717), np.float64(0.8982687379324473)]\n"
     ]
    }
   ],
   "source": [
    "lower_bounds_mrnn_overweight_classification_subgroup, upper_bounds_mrnn_overweight_classification_subgroup = toolkits.calc_lower_and_upper_bound_percentile(results_bootstrap_mrnn_overweight_classification_subgroup)\n",
    "\n",
    "print(lower_bounds_mrnn_overweight_classification_subgroup)\n",
    "print(upper_bounds_mrnn_overweight_classification_subgroup)"
   ]
  },
  {
   "cell_type": "markdown",
   "metadata": {},
   "source": [
    "#### Mean values of lower bound and upper bound"
   ]
  },
  {
   "cell_type": "code",
   "execution_count": null,
   "metadata": {},
   "outputs": [
    {
     "name": "stdout",
     "output_type": "stream",
     "text": [
      "[np.float64(1.2743517066771641), np.float64(0.4689188090221467), np.float64(1.3900474099033744), np.float64(0.4185945372191381), np.float64(0.6244380111804286)]\n"
     ]
    }
   ],
   "source": [
    "mean_values_ci_mrnn_overweight_classification_subgroup  = toolkits.calc_mean_values_ci(lower_bounds_mrnn_overweight_classification_subgroup, upper_bounds_mrnn_overweight_classification_subgroup)\n",
    "\n",
    "print(mean_values_ci_mrnn_overweight_classification_subgroup)"
   ]
  },
  {
   "cell_type": "markdown",
   "metadata": {},
   "source": [
    "### Confidence Interval (Obesity 1 classification subgroup)"
   ]
  },
  {
   "cell_type": "markdown",
   "metadata": {},
   "source": [
    "#### Distribution Bootstrap for the Top 5 variables with Largest Differences in MAE (Mean Absolute Error) "
   ]
  },
  {
   "cell_type": "code",
   "execution_count": null,
   "metadata": {},
   "outputs": [],
   "source": [
    "indices = [32, 0, 6, 31, 5, 1, 35]\n",
    "\n",
    "results_bootstrap_mrnn_obs1_classification_subgroup = []\n",
    "\n",
    "for i in indices:\n",
    "       results_bootstrap_mrnn_obs1_classification_subgroup.append(toolkits.bootstrap_v2(testing_ae_mrnn_variables_standard, indicating_mask_variable_standard_norm, 14, i, 9000))\n",
    "\n"
   ]
  },
  {
   "cell_type": "markdown",
   "metadata": {},
   "source": [
    "#### Calculating the mean and standard deviation of the bootstrap distribution"
   ]
  },
  {
   "cell_type": "code",
   "execution_count": null,
   "metadata": {},
   "outputs": [
    {
     "name": "stdout",
     "output_type": "stream",
     "text": [
      "[np.float64(0.5922894090697942), np.float64(0.42277013572667876), np.float64(0.5449478317670913), np.float64(0.54102718014115), np.float64(0.3353121840047957)]\n",
      "[np.float64(0.30717694548751795), np.float64(0.0421134616419317), np.float64(0.2707550703154163), np.float64(0.018891426276303334), np.float64(0.0519305772003826)]\n"
     ]
    }
   ],
   "source": [
    "means_bootstraps_mrnn_obs1_classification_subgroup, standards_deviations_mrnn_obs1_classification_subgroup = toolkits.calc_mean_and_standard_deviation(results_bootstrap_mrnn_obs1_classification_subgroup)\n",
    "\n",
    "print(means_bootstraps_mrnn_obs1_classification_subgroup)\n",
    "print(standards_deviations_mrnn_obs1_classification_subgroup)\n"
   ]
  },
  {
   "cell_type": "markdown",
   "metadata": {},
   "source": [
    "#### Calculating lower bound and upper bound"
   ]
  },
  {
   "cell_type": "code",
   "execution_count": null,
   "metadata": {},
   "outputs": [
    {
     "name": "stdout",
     "output_type": "stream",
     "text": [
      "[np.float64(-0.00976634096676443), np.float64(0.3402292676441836), np.float64(0.014277645317265497), np.float64(0.5040006650230019), np.float64(0.23353012299566892)]\n",
      "[np.float64(1.1943451591063527), np.float64(0.5053110038091739), np.float64(1.075618018216917), np.float64(0.5780536952592982), np.float64(0.43709424501392247)]\n"
     ]
    }
   ],
   "source": [
    "lower_bounds_mrnn_obs1_classification_subgroup, upper_bounds_mrnn_obs1_classification_subgroup = toolkits.calc_lower_and_upper_bound(results_bootstrap_mrnn_obs1_classification_subgroup, means_bootstraps_mrnn_obs1_classification_subgroup, standards_deviations_mrnn_obs1_classification_subgroup)\n",
    "\n",
    "print(lower_bounds_mrnn_obs1_classification_subgroup)\n",
    "print(upper_bounds_mrnn_obs1_classification_subgroup)"
   ]
  },
  {
   "cell_type": "code",
   "execution_count": null,
   "metadata": {},
   "outputs": [
    {
     "name": "stdout",
     "output_type": "stream",
     "text": [
      "[np.float64(0.0), np.float64(0.3378037893951755), np.float64(0.0), np.float64(0.5045751283911896), np.float64(0.22956230525565455)]\n",
      "[np.float64(1.218276945248262), np.float64(0.5043589421016695), np.float64(0.8630806178451833), np.float64(0.5783155333051042), np.float64(0.43639249642263145)]\n"
     ]
    }
   ],
   "source": [
    "lower_bounds_mrnn_obs1_classification_subgroup, upper_bounds_mrnn_obs1_classification_subgroup = toolkits.calc_lower_and_upper_bound_percentile(results_bootstrap_mrnn_obs1_classification_subgroup)\n",
    "\n",
    "print(lower_bounds_mrnn_obs1_classification_subgroup)\n",
    "print(upper_bounds_mrnn_obs1_classification_subgroup)"
   ]
  },
  {
   "cell_type": "markdown",
   "metadata": {},
   "source": [
    "#### Mean values of lower bound and upper bound"
   ]
  },
  {
   "cell_type": "code",
   "execution_count": null,
   "metadata": {},
   "outputs": [
    {
     "name": "stdout",
     "output_type": "stream",
     "text": [
      "[np.float64(0.609138472624131), np.float64(0.42108136574842253), np.float64(0.43154030892259165), np.float64(0.5414453308481468), np.float64(0.332977400839143)]\n"
     ]
    }
   ],
   "source": [
    "mean_values_ci_mrnn_obs1_classification_subgroup  = toolkits.calc_mean_values_ci(lower_bounds_mrnn_obs1_classification_subgroup, upper_bounds_mrnn_obs1_classification_subgroup)\n",
    "\n",
    "print(mean_values_ci_mrnn_obs1_classification_subgroup)"
   ]
  },
  {
   "cell_type": "markdown",
   "metadata": {},
   "source": [
    "### Confidence Interval (Obesity 2 classification subgroup)"
   ]
  },
  {
   "cell_type": "markdown",
   "metadata": {},
   "source": [
    "#### Distribution Bootstrap for the Top 5 variables with Largest Differences in MAE (Mean Absolute Error) "
   ]
  },
  {
   "cell_type": "code",
   "execution_count": null,
   "metadata": {},
   "outputs": [],
   "source": [
    "indices = [32, 0, 6, 31, 5, 1, 35]\n",
    "results_bootstrap_mrnn_obs2_classification_subgroup = []\n",
    "\n",
    "for i in indices:\n",
    "       results_bootstrap_mrnn_obs2_classification_subgroup.append(toolkits.bootstrap_v2(testing_ae_mrnn_variables_standard, indicating_mask_variable_standard_norm, 15, i, 9000))\n",
    "\n"
   ]
  },
  {
   "cell_type": "markdown",
   "metadata": {},
   "source": [
    "#### Calculating the mean and standard deviation of the bootstrap distribution"
   ]
  },
  {
   "cell_type": "code",
   "execution_count": null,
   "metadata": {},
   "outputs": [
    {
     "name": "stdout",
     "output_type": "stream",
     "text": [
      "[np.float64(0.05092602899904994), np.float64(0.5603368612340359), np.float64(0.0), np.float64(0.7943294337661126), np.float64(1.3468289760835621)]\n",
      "[np.float64(0.039521971437981245), np.float64(0.0518376155060004), np.float64(0.0), np.float64(0.042958475889205795), np.float64(0.9053853640841055)]\n"
     ]
    }
   ],
   "source": [
    "means_bootstraps_mrnn_obs2_classification_subgroup, standards_deviations_mrnn_obs2_classification_subgroup = toolkits.calc_mean_and_standard_deviation(results_bootstrap_mrnn_obs2_classification_subgroup)\n",
    "\n",
    "print(means_bootstraps_mrnn_obs2_classification_subgroup)\n",
    "print(standards_deviations_mrnn_obs2_classification_subgroup) \n"
   ]
  },
  {
   "cell_type": "markdown",
   "metadata": {},
   "source": [
    "#### Calculating lower bound and upper bound"
   ]
  },
  {
   "cell_type": "code",
   "execution_count": null,
   "metadata": {},
   "outputs": [
    {
     "name": "stdout",
     "output_type": "stream",
     "text": [
      "[np.float64(-0.026535611617413996), np.float64(0.4587370017978401), np.float64(0.0), np.float64(0.710132368192537), np.float64(-0.42769372965096886)]\n",
      "[np.float64(0.12838766961551387), np.float64(0.6619367206702318), np.float64(0.0), np.float64(0.8785264993396883), np.float64(3.1213516818180933)]\n"
     ]
    }
   ],
   "source": [
    "lower_bounds_mrnn_obs2_classification_subgroup, upper_bounds_mrnn_obs2_classification_subgroup = toolkits.calc_lower_and_upper_bound(results_bootstrap_mrnn_obs2_classification_subgroup, means_bootstraps_mrnn_obs2_classification_subgroup, standards_deviations_mrnn_obs2_classification_subgroup)\n",
    "\n",
    "print(lower_bounds_mrnn_obs2_classification_subgroup)\n",
    "print(upper_bounds_mrnn_obs2_classification_subgroup)"
   ]
  },
  {
   "cell_type": "code",
   "execution_count": null,
   "metadata": {},
   "outputs": [
    {
     "name": "stdout",
     "output_type": "stream",
     "text": [
      "[np.float64(0.0), np.float64(0.46379886105351265), np.float64(0.0), np.float64(0.7117601050373132), np.float64(0.0)]\n",
      "[np.float64(0.08159769645569703), np.float64(0.6676735252252052), np.float64(0.0), np.float64(0.8800511608039773), np.float64(3.2940803837237835)]\n"
     ]
    }
   ],
   "source": [
    "lower_bounds_mrnn_obs2_classification_subgroup, upper_bounds_mrnn_obs2_classification_subgroup = toolkits.calc_lower_and_upper_bound_percentile(results_bootstrap_mrnn_obs2_classification_subgroup)\n",
    "\n",
    "print(lower_bounds_mrnn_obs2_classification_subgroup)\n",
    "print(upper_bounds_mrnn_obs2_classification_subgroup)"
   ]
  },
  {
   "cell_type": "markdown",
   "metadata": {},
   "source": [
    "#### Mean values of lower bound and upper bound"
   ]
  },
  {
   "cell_type": "code",
   "execution_count": null,
   "metadata": {},
   "outputs": [
    {
     "name": "stdout",
     "output_type": "stream",
     "text": [
      "[np.float64(0.040798848227848517), np.float64(0.565736193139359), np.float64(0.0), np.float64(0.7959056329206453), np.float64(1.6470401918618918)]\n"
     ]
    }
   ],
   "source": [
    "mean_values_ci_mrnn_obs2_classification_subgroup  = toolkits.calc_mean_values_ci(lower_bounds_mrnn_obs2_classification_subgroup, upper_bounds_mrnn_obs2_classification_subgroup)\n",
    "\n",
    "print(mean_values_ci_mrnn_obs2_classification_subgroup)"
   ]
  },
  {
   "cell_type": "markdown",
   "metadata": {},
   "source": [
    "### Confidence Interval (Obesity 3 classification subgroup)"
   ]
  },
  {
   "cell_type": "markdown",
   "metadata": {},
   "source": [
    "#### Distribution Bootstrap for the Top 5 variables with Largest Differences in MAE (Mean Absolute Error) "
   ]
  },
  {
   "cell_type": "code",
   "execution_count": null,
   "metadata": {},
   "outputs": [],
   "source": [
    "indices = [32, 0, 6, 31, 5, 1, 35]\n",
    "\n",
    "results_bootstrap_mrnn_obs3_classification_subgroup = []\n",
    "\n",
    "for i in indices:\n",
    "       results_bootstrap_mrnn_obs3_classification_subgroup.append(toolkits.bootstrap_v2(testing_ae_mrnn_variables_standard, indicating_mask_variable_standard_norm, 16, i, 9000))\n",
    "\n"
   ]
  },
  {
   "cell_type": "markdown",
   "metadata": {},
   "source": [
    "#### Calculating the mean and standard deviation of the bootstrap distribution"
   ]
  },
  {
   "cell_type": "code",
   "execution_count": null,
   "metadata": {},
   "outputs": [
    {
     "name": "stdout",
     "output_type": "stream",
     "text": [
      "[np.float64(0.0), np.float64(0.3479959658033868), np.float64(0.22290367635847794), np.float64(1.6741620128430856), np.float64(0.9844822311929602)]\n",
      "[np.float64(0.0), np.float64(0.041627417743106174), np.float64(0.16846992178063286), np.float64(0.06480046781619947), np.float64(0.7275366689643368)]\n"
     ]
    }
   ],
   "source": [
    "means_bootstraps_mrnn_obs3_classification_subgroup, standards_deviations_mrnn_obs3_classification_subgroup = toolkits.calc_mean_and_standard_deviation(results_bootstrap_mrnn_obs3_classification_subgroup)\n",
    "\n",
    "print(means_bootstraps_mrnn_obs3_classification_subgroup)\n",
    "print(standards_deviations_mrnn_obs3_classification_subgroup)\n"
   ]
  },
  {
   "cell_type": "markdown",
   "metadata": {},
   "source": [
    "#### Calculating lower bound and upper bound"
   ]
  },
  {
   "cell_type": "code",
   "execution_count": null,
   "metadata": {},
   "outputs": [
    {
     "name": "stdout",
     "output_type": "stream",
     "text": [
      "[np.float64(0.0), np.float64(0.2664077262574951), np.float64(-0.10729130280984248), np.float64(1.5471554297419878), np.float64(-0.44146343740937954)]\n",
      "[np.float64(0.0), np.float64(0.42958420534927855), np.float64(0.5530986555267984), np.float64(1.8011685959441834), np.float64(2.4104278997953)]\n"
     ]
    }
   ],
   "source": [
    "lower_bounds_mrnn_obs3_classification_subgroup, upper_bounds_mrnn_obs3_classification_subgroup = toolkits.calc_lower_and_upper_bound(results_bootstrap_mrnn_obs3_classification_subgroup, means_bootstraps_mrnn_obs3_classification_subgroup, standards_deviations_mrnn_obs3_classification_subgroup)\n",
    "\n",
    "print(lower_bounds_mrnn_obs3_classification_subgroup)\n",
    "print(upper_bounds_mrnn_obs3_classification_subgroup)"
   ]
  },
  {
   "cell_type": "code",
   "execution_count": null,
   "metadata": {},
   "outputs": [
    {
     "name": "stdout",
     "output_type": "stream",
     "text": [
      "[np.float64(0.0), np.float64(0.2709265002813849), np.float64(0.0), np.float64(1.5491380123564265), np.float64(0.11034801378358251)]\n",
      "[np.float64(0.0), np.float64(0.434881553501857), np.float64(0.3502327317086535), np.float64(1.8043899881623382), np.float64(2.6597921463168905)]\n"
     ]
    }
   ],
   "source": [
    "lower_bounds_mrnn_obs3_classification_subgroup, upper_bounds_mrnn_obs3_classification_subgroup = toolkits.calc_lower_and_upper_bound_percentile(results_bootstrap_mrnn_obs3_classification_subgroup)\n",
    "\n",
    "print(lower_bounds_mrnn_obs3_classification_subgroup)\n",
    "print(upper_bounds_mrnn_obs3_classification_subgroup)"
   ]
  },
  {
   "cell_type": "markdown",
   "metadata": {},
   "source": [
    "#### Mean values of lower bound and upper bound"
   ]
  },
  {
   "cell_type": "code",
   "execution_count": null,
   "metadata": {},
   "outputs": [
    {
     "name": "stdout",
     "output_type": "stream",
     "text": [
      "[np.float64(0.0), np.float64(0.3529040268916209), np.float64(0.17511636585432674), np.float64(1.6767640002593822), np.float64(1.3850700800502365)]\n"
     ]
    }
   ],
   "source": [
    "mean_values_ci_mrnn_obs3_classification_subgroup  = toolkits.calc_mean_values_ci(lower_bounds_mrnn_obs3_classification_subgroup, upper_bounds_mrnn_obs3_classification_subgroup)\n",
    "\n",
    "print(mean_values_ci_mrnn_obs3_classification_subgroup)"
   ]
  },
  {
   "cell_type": "markdown",
   "metadata": {},
   "source": [
    "# Results mean absolute error"
   ]
  },
  {
   "cell_type": "code",
   "execution_count": 17,
   "metadata": {},
   "outputs": [],
   "source": [
    "subgroups = [\"General\", \"Female\", \"Male\", \"Undefined Gender\", \"+65\", \"-65\", \"ICUType 1\", \"ICUType 2\", \"ICUType 3\", \"ICUType 4\", \"Undefined classification\", \"Low Weight\", \"Normal Weight\", \"Overweight\", \"Obesity 1\", \"Obesity 2\", \"Obesity 3\"]"
   ]
  },
  {
   "cell_type": "markdown",
   "metadata": {},
   "source": [
    "#### SAITS"
   ]
  },
  {
   "cell_type": "markdown",
   "metadata": {},
   "source": [
    "<h4>Standard Scaler (C/Normalização)</h4>"
   ]
  },
  {
   "cell_type": "code",
   "execution_count": 13,
   "metadata": {},
   "outputs": [
    {
     "name": "stdout",
     "output_type": "stream",
     "text": [
      "SAITS - MAE\n",
      "************\n",
      "General\n",
      "-------------\n",
      "ALP : 0.35549184664706085\n",
      "ALT : 0.34616397235246166\n",
      "AST : 0.283203929613111\n",
      "Albumin : 0.5865378684716107\n",
      "BUN : 0.23549456829210566\n",
      "Bilirubin : 0.29213390018033225\n",
      "Cholesterol : 0.8619142944054452\n",
      "Creatinine : 0.2272360108358054\n",
      "DiasABP : 0.25696352027850733\n",
      "FiO2 : 0.4843457493583031\n",
      "GCS : 0.27782594851598286\n",
      "Glucose : 0.5574566141755575\n",
      "HCO3 : 0.42235495223366226\n",
      "HCT : 0.5478476366595461\n",
      "HR : 0.2786515469045242\n",
      "K : 0.6173738181988982\n",
      "Lactate : 0.3602081488093162\n",
      "MAP : 0.276148040474521\n",
      "MechVent : 0.016131509283529688\n",
      "Mg : 0.5428868319523208\n",
      "NIDiasABP : 0.23805346595387422\n",
      "NIMAP : 0.17731126967659114\n",
      "NISysABP : 0.3059993623684565\n",
      "Na : 0.5094466185029012\n",
      "PaCO2 : 0.5448751678244528\n",
      "PaO2 : 0.5044175503727509\n",
      "Platelets : 0.37910753219049526\n",
      "RespRate : 0.4975549864022565\n",
      "SaO2 : 0.395203639666887\n",
      "SysABP : 0.2876315375696396\n",
      "Temp : 0.3654739421516718\n",
      "TroponinI : 0.5742820858879293\n",
      "TroponinT : 0.562502744207675\n",
      "Urine : 0.4555801478350003\n",
      "WBC : 0.1511062199488556\n",
      "Weight : 0.1409540477930963\n",
      "Ph : 0.16448179535134175\n",
      "Female\n",
      "-------------\n",
      "ALP : 0.39879135871907456\n",
      "ALT : 0.267721133048584\n",
      "AST : 0.25720379703529206\n",
      "Albumin : 0.6092860633354338\n",
      "BUN : 0.25336267131929824\n",
      "Bilirubin : 0.30159687434628696\n",
      "Cholesterol : 1.451438736858023\n",
      "Creatinine : 0.21841924710739646\n",
      "DiasABP : 0.2609409668878805\n",
      "FiO2 : 0.45227613070733225\n",
      "GCS : 0.26651854876210024\n",
      "Glucose : 0.5614778866945997\n",
      "HCO3 : 0.43152874248191053\n",
      "HCT : 0.5651900433835768\n",
      "HR : 0.284301913060418\n",
      "K : 0.6361210282792925\n",
      "Lactate : 0.3344905019136891\n",
      "MAP : 0.2807975966793253\n",
      "MechVent : 0.014552340041130598\n",
      "Mg : 0.5558963744094227\n",
      "NIDiasABP : 0.26422701668451914\n",
      "NIMAP : 0.18946461584471658\n",
      "NISysABP : 0.3142243519923081\n",
      "Na : 0.5279682365736087\n",
      "PaCO2 : 0.5567466124526796\n",
      "PaO2 : 0.4993733010196951\n",
      "Platelets : 0.3952104548639567\n",
      "RespRate : 0.5098115656562086\n",
      "SaO2 : 0.5922854291689998\n",
      "SysABP : 0.28322735478789157\n",
      "Temp : 0.39219315846253106\n",
      "TroponinI : 0.3995565866356851\n",
      "TroponinT : 0.6123319950645147\n",
      "Urine : 0.42233896178631336\n",
      "WBC : 0.14766102287965305\n",
      "Weight : 0.146240208924941\n",
      "Ph : 0.10289819543224764\n",
      "Male\n",
      "-------------\n",
      "ALP : 0.38898877485462546\n",
      "ALT : 0.2535387466831654\n",
      "AST : 0.20474908180055995\n",
      "Albumin : 0.6214555818413293\n",
      "BUN : 0.22887801365739638\n",
      "Bilirubin : 0.2494196758416589\n",
      "Cholesterol : 0.9186172160150028\n",
      "Creatinine : 0.21043755098296707\n",
      "DiasABP : 0.24092423347357203\n",
      "FiO2 : 0.5176707122148406\n",
      "GCS : 0.292769373342076\n",
      "Glucose : 0.590789236937461\n",
      "HCO3 : 0.43330508655701244\n",
      "HCT : 0.5361828053239647\n",
      "HR : 0.2752930018537663\n",
      "K : 0.591587045830217\n",
      "Lactate : 0.4068611690652343\n",
      "MAP : 0.29576810199300535\n",
      "MechVent : 0.014512000309648741\n",
      "Mg : 0.558360832761358\n",
      "NIDiasABP : 0.24298155623162018\n",
      "NIMAP : 0.1696624474676664\n",
      "NISysABP : 0.31302446058096317\n",
      "Na : 0.4961318001302222\n",
      "PaCO2 : 0.5171345304227045\n",
      "PaO2 : 0.4819310418659117\n",
      "Platelets : 0.3550379447194928\n",
      "RespRate : 0.49268879543822347\n",
      "SaO2 : 0.40930553744296266\n",
      "SysABP : 0.2853302268669079\n",
      "Temp : 0.389190981900697\n",
      "TroponinI : 0.5267892042560236\n",
      "TroponinT : 0.7161814591271893\n",
      "Urine : 0.467928694148557\n",
      "WBC : 0.16888308295243987\n",
      "Weight : 0.12914022291257715\n",
      "Ph : 0.1116224339956543\n",
      "Undefined Gender\n",
      "-------------\n",
      "ALP : 0.0\n",
      "ALT : 0.0\n",
      "AST : 0.0\n",
      "Albumin : 0.0\n",
      "BUN : 0.0\n",
      "Bilirubin : 0.0\n",
      "Cholesterol : 0.0\n",
      "Creatinine : 0.0\n",
      "DiasABP : 0.18285117970895587\n",
      "FiO2 : 0.0\n",
      "GCS : 0.13604015050514243\n",
      "Glucose : 0.24090817834651967\n",
      "HCO3 : 0.214274955188243\n",
      "HCT : 0.0\n",
      "HR : 0.27722215526927296\n",
      "K : 0.6481980955579346\n",
      "Lactate : 0.0\n",
      "MAP : 0.2719828516394677\n",
      "MechVent : 0.0\n",
      "Mg : 0.3853531754879323\n",
      "NIDiasABP : 0.220632602756738\n",
      "NIMAP : 0.11167377598002785\n",
      "NISysABP : 0.14676328428456942\n",
      "Na : 0.0\n",
      "PaCO2 : 0.0\n",
      "PaO2 : 0.0\n",
      "Platelets : 0.0\n",
      "RespRate : 0.03252691031141136\n",
      "SaO2 : 0.0\n",
      "SysABP : 0.1893623265809897\n",
      "Temp : 0.1537032534892859\n",
      "TroponinI : 0.0\n",
      "TroponinT : 0.0\n",
      "Urine : 0.42059680286137174\n",
      "WBC : 0.01887312720957615\n",
      "Weight : 0.12449213403705585\n",
      "Ph : 0.035273266586659156\n",
      "+65\n",
      "-------------\n",
      "ALP : 0.33175073606135197\n",
      "ALT : 0.28015962117866006\n",
      "AST : 0.20622493285291443\n",
      "Albumin : 0.5365561938928028\n",
      "BUN : 0.24239101579599082\n",
      "Bilirubin : 0.2318267102567951\n",
      "Cholesterol : 0.7364946138385429\n",
      "Creatinine : 0.20002615142754465\n",
      "DiasABP : 0.27115429886770204\n",
      "FiO2 : 0.49106117070517075\n",
      "GCS : 0.2761123375582958\n",
      "Glucose : 0.5904012067142612\n",
      "HCO3 : 0.4618853177895146\n",
      "HCT : 0.5091167734410094\n",
      "HR : 0.2804100599225535\n",
      "K : 0.5659236966725764\n",
      "Lactate : 0.3294009007484874\n",
      "MAP : 0.29964517183062633\n",
      "MechVent : 0.012942020909290175\n",
      "Mg : 0.5395916908719494\n",
      "NIDiasABP : 0.25873079181165004\n",
      "NIMAP : 0.17706817450081433\n",
      "NISysABP : 0.32384274293788595\n",
      "Na : 0.4756152570660664\n",
      "PaCO2 : 0.48401502931854035\n",
      "PaO2 : 0.4524705693832143\n",
      "Platelets : 0.3751860373336073\n",
      "RespRate : 0.4785731798772146\n",
      "SaO2 : 0.42656852738130385\n",
      "SysABP : 0.28756343136221213\n",
      "Temp : 0.38989220265879393\n",
      "TroponinI : 0.912479961059112\n",
      "TroponinT : 0.5609791905986549\n",
      "Urine : 0.40384171800804514\n",
      "WBC : 0.16854329059743003\n",
      "Weight : 0.12446211618614153\n",
      "Ph : 0.10031610890160858\n",
      "-65\n",
      "-------------\n",
      "ALP : 0.7408787242332653\n",
      "ALT : 0.3298661239454057\n",
      "AST : 0.24314401146209372\n",
      "Albumin : 0.6586605527765389\n",
      "BUN : 0.24428834974190747\n",
      "Bilirubin : 0.33640877967849353\n",
      "Cholesterol : 1.1837952493687076\n",
      "Creatinine : 0.21117656117043238\n",
      "DiasABP : 0.2315519034879002\n",
      "FiO2 : 0.5013271144677561\n",
      "GCS : 0.2737802114241974\n",
      "Glucose : 0.6194284343683953\n",
      "HCO3 : 0.44601168579753503\n",
      "HCT : 0.5272315972056935\n",
      "HR : 0.27443088606240124\n",
      "K : 0.6279779125339655\n",
      "Lactate : 0.3723518467434136\n",
      "MAP : 0.28572206795040184\n",
      "MechVent : 0.01827778097688463\n",
      "Mg : 0.5337204807442403\n",
      "NIDiasABP : 0.23699066294663038\n",
      "NIMAP : 0.18171006866991674\n",
      "NISysABP : 0.28241546711026816\n",
      "Na : 0.5378110208760685\n",
      "PaCO2 : 0.5463756332887388\n",
      "PaO2 : 0.5063699883297205\n",
      "Platelets : 0.37266188276822343\n",
      "RespRate : 0.4903802979185649\n",
      "SaO2 : 0.6221481912990683\n",
      "SysABP : 0.26221652341370083\n",
      "Temp : 0.3955860933331013\n",
      "TroponinI : 0.46524983396195685\n",
      "TroponinT : 0.7072584529786531\n",
      "Urine : 0.5519159513647637\n",
      "WBC : 0.15140961268952202\n",
      "Weight : 0.15661324683533903\n",
      "Ph : 0.10110188417357012\n",
      "ICUType 1\n",
      "-------------\n",
      "ALP : 0.22235793610078722\n",
      "ALT : 0.29696789504761684\n",
      "AST : 0.34011338349020054\n",
      "Albumin : 0.49008440975808004\n",
      "BUN : 0.21330778566791334\n",
      "Bilirubin : 0.20040337021114618\n",
      "Cholesterol : 1.002456638310131\n",
      "Creatinine : 0.19344937769602377\n",
      "DiasABP : 0.29990581828578905\n",
      "FiO2 : 0.4825158240561119\n",
      "GCS : 0.26439591750177543\n",
      "Glucose : 0.6072523344507726\n",
      "HCO3 : 0.4100329488712803\n",
      "HCT : 0.5633289528468385\n",
      "HR : 0.27117077383907173\n",
      "K : 0.5779429360597902\n",
      "Lactate : 0.4698623547071482\n",
      "MAP : 0.29125128180801896\n",
      "MechVent : 0.012979781499681835\n",
      "Mg : 0.4899786235815026\n",
      "NIDiasABP : 0.2279157628824723\n",
      "NIMAP : 0.16323363819519307\n",
      "NISysABP : 0.29574841515562666\n",
      "Na : 0.4654003732118383\n",
      "PaCO2 : 0.4740116568421564\n",
      "PaO2 : 0.5169436636597022\n",
      "Platelets : 0.3419856004283055\n",
      "RespRate : 0.484567573197248\n",
      "SaO2 : 0.5479769043353139\n",
      "SysABP : 0.3046432708972965\n",
      "Temp : 0.43942479896309433\n",
      "TroponinI : 1.4147481358654532\n",
      "TroponinT : 0.6195982930197838\n",
      "Urine : 0.5201973259152775\n",
      "WBC : 0.1182871042857641\n",
      "Weight : 0.1295687522063077\n",
      "Ph : 0.11420923338092366\n",
      "ICUType 2\n",
      "-------------\n",
      "ALP : 0.19595211673068974\n",
      "ALT : 0.35126687296166526\n",
      "AST : 0.2730454622891039\n",
      "Albumin : 0.7173112394561357\n",
      "BUN : 0.2228975171013092\n",
      "Bilirubin : 0.31825007717231846\n",
      "Cholesterol : 0.0\n",
      "Creatinine : 0.18312023147158726\n",
      "DiasABP : 0.22117548994550923\n",
      "FiO2 : 0.46776083410038544\n",
      "GCS : 0.4062223306057767\n",
      "Glucose : 0.4659182633173996\n",
      "HCO3 : 0.34808233069626676\n",
      "HCT : 0.4927182665454824\n",
      "HR : 0.23800347481085193\n",
      "K : 0.6690141539889067\n",
      "Lactate : 0.33978802305332667\n",
      "MAP : 0.28111816471160983\n",
      "MechVent : 0.012379252945052323\n",
      "Mg : 0.6057758090680515\n",
      "NIDiasABP : 0.2431217959773233\n",
      "NIMAP : 0.1625453483443444\n",
      "NISysABP : 0.31508572102741106\n",
      "Na : 0.4605609482763751\n",
      "PaCO2 : 0.47732277298714\n",
      "PaO2 : 0.4739815160589983\n",
      "Platelets : 0.34814576666055047\n",
      "RespRate : 0.4265145006141533\n",
      "SaO2 : 0.3517113441177471\n",
      "SysABP : 0.2689866590848715\n",
      "Temp : 0.2847329798193362\n",
      "TroponinI : 0.5378933764170092\n",
      "TroponinT : 0.7031988071412201\n",
      "Urine : 0.43415066131516244\n",
      "WBC : 0.17861731385371435\n",
      "Weight : 0.1516307942100883\n",
      "Ph : 0.11739755939068557\n",
      "ICUType 3\n",
      "-------------\n",
      "ALP : 0.7230860621494279\n",
      "ALT : 0.3114890577977422\n",
      "AST : 0.3058344630663541\n",
      "Albumin : 0.7085816206607927\n",
      "BUN : 0.2948288819285851\n",
      "Bilirubin : 0.28038481122664755\n",
      "Cholesterol : 0.9062963912535236\n",
      "Creatinine : 0.26524197523865756\n",
      "DiasABP : 0.2503330270678142\n",
      "FiO2 : 0.5071218369799416\n",
      "GCS : 0.26683685597920864\n",
      "Glucose : 0.6850118193767407\n",
      "HCO3 : 0.48633426301204785\n",
      "HCT : 0.5893721294924048\n",
      "HR : 0.2868745870693581\n",
      "K : 0.7076102188480413\n",
      "Lactate : 0.46898389064493734\n",
      "MAP : 0.274120320581768\n",
      "MechVent : 0.015398824789147038\n",
      "Mg : 0.5976673570387754\n",
      "NIDiasABP : 0.2543804537585744\n",
      "NIMAP : 0.180200891229692\n",
      "NISysABP : 0.3054265794459314\n",
      "Na : 0.4846467461768614\n",
      "PaCO2 : 0.6657660342690364\n",
      "PaO2 : 0.492036082975726\n",
      "Platelets : 0.4531559471348621\n",
      "RespRate : 0.5298683414713912\n",
      "SaO2 : 1.5843908865861114\n",
      "SysABP : 0.2740742342358265\n",
      "Temp : 0.5585857979394965\n",
      "TroponinI : 0.3432098992260162\n",
      "TroponinT : 0.5384253961771664\n",
      "Urine : 0.44456605063783766\n",
      "WBC : 0.152977735093807\n",
      "Weight : 0.1337099117314554\n",
      "Ph : 0.10132297547366252\n",
      "ICUType 4\n",
      "-------------\n",
      "ALP : 0.5056397817403011\n",
      "ALT : 0.27255801466428337\n",
      "AST : 0.3061413352982163\n",
      "Albumin : 0.7540849419365757\n",
      "BUN : 0.20966064686693311\n",
      "Bilirubin : 0.2678868262248369\n",
      "Cholesterol : 0.7250186348036318\n",
      "Creatinine : 0.2174462497181928\n",
      "DiasABP : 0.2415641876859489\n",
      "FiO2 : 0.43826359903626055\n",
      "GCS : 0.24578909547229005\n",
      "Glucose : 0.44383083021792613\n",
      "HCO3 : 0.39966575128291504\n",
      "HCT : 0.5156738181320276\n",
      "HR : 0.29735304330221035\n",
      "K : 0.5246219067619541\n",
      "Lactate : 0.4066923160801241\n",
      "MAP : 0.27626965511979856\n",
      "MechVent : 0.01676655673093299\n",
      "Mg : 0.5427783695002771\n",
      "NIDiasABP : 0.2582372865258363\n",
      "NIMAP : 0.18712313866322458\n",
      "NISysABP : 0.31721409860408706\n",
      "Na : 0.5480956376454192\n",
      "PaCO2 : 0.4768607034345228\n",
      "PaO2 : 0.4954407759425003\n",
      "Platelets : 0.33987079319863456\n",
      "RespRate : 0.5198607276634712\n",
      "SaO2 : 0.4538934168443376\n",
      "SysABP : 0.2810448573167451\n",
      "Temp : 0.43268954805117005\n",
      "TroponinI : 0.8606517177368178\n",
      "TroponinT : 0.5676629037945219\n",
      "Urine : 0.49339038416840075\n",
      "WBC : 0.15060897824582553\n",
      "Weight : 0.15306474403797238\n",
      "Ph : 0.09655286029656293\n",
      "Undefined classification\n",
      "-------------\n",
      "ALP : 0.2969711933420751\n",
      "ALT : 0.325779723339471\n",
      "AST : 0.24451982817282739\n",
      "Albumin : 0.7761709655447225\n",
      "BUN : 0.25789306020375824\n",
      "Bilirubin : 0.31200531017456057\n",
      "Cholesterol : 0.6185228642704512\n",
      "Creatinine : 0.23347503773118133\n",
      "DiasABP : 0.2507521426328185\n",
      "FiO2 : 0.4604318626003149\n",
      "GCS : 0.24195410234480919\n",
      "Glucose : 0.5978058668419063\n",
      "HCO3 : 0.47698206761081074\n",
      "HCT : 0.5630452787478524\n",
      "HR : 0.2857161315926199\n",
      "K : 0.6125691604056701\n",
      "Lactate : 0.3818155227717327\n",
      "MAP : 0.2938076679965238\n",
      "MechVent : 0.015602762801210616\n",
      "Mg : 0.4920263570818981\n",
      "NIDiasABP : 0.2526216692267379\n",
      "NIMAP : 0.18401262687254327\n",
      "NISysABP : 0.3094771564089047\n",
      "Na : 0.571253226317134\n",
      "PaCO2 : 0.6395649039593723\n",
      "PaO2 : 0.5417740631360564\n",
      "Platelets : 0.4123912589465217\n",
      "RespRate : 0.5082584106540895\n",
      "SaO2 : 0.6496089895395095\n",
      "SysABP : 0.2850157504282485\n",
      "Temp : 0.4442688060397725\n",
      "TroponinI : 0.5567697721187463\n",
      "TroponinT : 0.5266537769511287\n",
      "Urine : 0.47495404278913633\n",
      "WBC : 0.16671510775644993\n",
      "Weight : 0.1354207043286986\n",
      "Ph : 0.10517998130399123\n",
      "Low Weight\n",
      "-------------\n",
      "ALP : 0.2163949411395408\n",
      "ALT : 0.23869987284346758\n",
      "AST : 0.6993145785499238\n",
      "Albumin : 1.1720931746200332\n",
      "BUN : 0.20072308368139\n",
      "Bilirubin : 0.9540989148954322\n",
      "Cholesterol : 0.08586996160174372\n",
      "Creatinine : 0.17718889362399953\n",
      "DiasABP : 0.24664523015882117\n",
      "FiO2 : 0.4766907500074179\n",
      "GCS : 0.3148779443238605\n",
      "Glucose : 0.9817420902790102\n",
      "HCO3 : 0.5771684228047199\n",
      "HCT : 0.5455279146355343\n",
      "HR : 0.32912571982542227\n",
      "K : 0.5640570259638694\n",
      "Lactate : 0.7084877462976233\n",
      "MAP : 0.2529029761555121\n",
      "MechVent : 0.011589541580647818\n",
      "Mg : 0.48158571818650786\n",
      "NIDiasABP : 0.2850991028382829\n",
      "NIMAP : 0.2509737132893367\n",
      "NISysABP : 0.28828997188350064\n",
      "Na : 0.5098007081997193\n",
      "PaCO2 : 0.6001920691654591\n",
      "PaO2 : 0.592228115984599\n",
      "Platelets : 0.4376934857860229\n",
      "RespRate : 0.6886398693487977\n",
      "SaO2 : 0.3996761787599125\n",
      "SysABP : 0.2778389363730997\n",
      "Temp : 0.3092906879370877\n",
      "TroponinI : 0.0\n",
      "TroponinT : 0.19448924549686575\n",
      "Urine : 0.4938076686421067\n",
      "WBC : 0.19004689450974482\n",
      "Weight : 0.23737427669826028\n",
      "Ph : 0.1090458130995447\n",
      "Normal Weight\n",
      "-------------\n",
      "ALP : 0.28406044815589054\n",
      "ALT : 0.25169237658283466\n",
      "AST : 0.21897651501543552\n",
      "Albumin : 0.8402915751610249\n",
      "BUN : 0.21959032414179055\n",
      "Bilirubin : 0.392959158788567\n",
      "Cholesterol : 0.7047747353655271\n",
      "Creatinine : 0.22736198464603866\n",
      "DiasABP : 0.24610456552586718\n",
      "FiO2 : 0.43931432684002586\n",
      "GCS : 0.3260676234705042\n",
      "Glucose : 0.53453684372621\n",
      "HCO3 : 0.4306993953241203\n",
      "HCT : 0.4935507417566456\n",
      "HR : 0.27280351623685783\n",
      "K : 0.5991450622332929\n",
      "Lactate : 0.33949930555596464\n",
      "MAP : 0.2798033327550323\n",
      "MechVent : 0.013784697335756175\n",
      "Mg : 0.5840200077460157\n",
      "NIDiasABP : 0.23613708104226383\n",
      "NIMAP : 0.1774345513585783\n",
      "NISysABP : 0.29836989496815575\n",
      "Na : 0.5475274575826943\n",
      "PaCO2 : 0.4943650192339458\n",
      "PaO2 : 0.4885522030605117\n",
      "Platelets : 0.34413476762550194\n",
      "RespRate : 0.46618900720366574\n",
      "SaO2 : 0.4010251916578178\n",
      "SysABP : 0.26809733988455603\n",
      "Temp : 0.34989049382000076\n",
      "TroponinI : 0.5463974478388895\n",
      "TroponinT : 0.41064396715353474\n",
      "Urine : 0.3882069607008202\n",
      "WBC : 0.16570214657410348\n",
      "Weight : 0.1276529516557513\n",
      "Ph : 0.10235910920877908\n",
      "Overweight\n",
      "-------------\n",
      "ALP : 0.23605856118172483\n",
      "ALT : 0.3059377321485659\n",
      "AST : 0.3184234835225889\n",
      "Albumin : 0.8149251561044396\n",
      "BUN : 0.23566979483991418\n",
      "Bilirubin : 0.2429158008779558\n",
      "Cholesterol : 1.2325708781179912\n",
      "Creatinine : 0.20640142050517368\n",
      "DiasABP : 0.2559203480446378\n",
      "FiO2 : 0.41402673769854187\n",
      "GCS : 0.33148963019867567\n",
      "Glucose : 0.5622221115365832\n",
      "HCO3 : 0.35579614008332355\n",
      "HCT : 0.5459973501086877\n",
      "HR : 0.2588144232252435\n",
      "K : 0.6550280878601592\n",
      "Lactate : 0.43134150452070036\n",
      "MAP : 0.2979963064784564\n",
      "MechVent : 0.014702130836156856\n",
      "Mg : 0.5176686227837493\n",
      "NIDiasABP : 0.24291189024323895\n",
      "NIMAP : 0.1690201310372932\n",
      "NISysABP : 0.29837096521961476\n",
      "Na : 0.502086181740241\n",
      "PaCO2 : 0.49416713903690274\n",
      "PaO2 : 0.4727345623845732\n",
      "Platelets : 0.4047181986329729\n",
      "RespRate : 0.44960509788006847\n",
      "SaO2 : 0.4141179589082745\n",
      "SysABP : 0.2819554553056942\n",
      "Temp : 0.3193424809075919\n",
      "TroponinI : 0.7815671462449019\n",
      "TroponinT : 0.6521499601576289\n",
      "Urine : 0.43339483783359545\n",
      "WBC : 0.1419376404658974\n",
      "Weight : 0.0943088871770631\n",
      "Ph : 0.10106474304147786\n",
      "Obesity 1\n",
      "-------------\n",
      "ALP : 0.18400896078744935\n",
      "ALT : 0.27479772509252653\n",
      "AST : 0.20761888718646812\n",
      "Albumin : 0.4678073342956157\n",
      "BUN : 0.21044230762157795\n",
      "Bilirubin : 0.33520596743270936\n",
      "Cholesterol : 0.533448695300611\n",
      "Creatinine : 0.1799105468834988\n",
      "DiasABP : 0.2518883460774736\n",
      "FiO2 : 0.5079578321422784\n",
      "GCS : 0.28841094634461406\n",
      "Glucose : 0.45359434929525494\n",
      "HCO3 : 0.38048598235789793\n",
      "HCT : 0.5419350782865942\n",
      "HR : 0.25093179108427516\n",
      "K : 0.532058547319302\n",
      "Lactate : 0.4216215920533188\n",
      "MAP : 0.2879793521662811\n",
      "MechVent : 0.014115385650734221\n",
      "Mg : 0.48344316531345627\n",
      "NIDiasABP : 0.2152836310990449\n",
      "NIMAP : 0.170465612597922\n",
      "NISysABP : 0.291262808547087\n",
      "Na : 0.42102618947302384\n",
      "PaCO2 : 0.4519336284259322\n",
      "PaO2 : 0.4730424200006403\n",
      "Platelets : 0.3754422356532115\n",
      "RespRate : 0.4756354670719129\n",
      "SaO2 : 0.39481287972765033\n",
      "SysABP : 0.24881056360227005\n",
      "Temp : 0.2900064723711995\n",
      "TroponinI : 0.5224272630775174\n",
      "TroponinT : 0.41264737268917023\n",
      "Urine : 0.4936619752794534\n",
      "WBC : 0.22413113608635968\n",
      "Weight : 0.1304530711495871\n",
      "Ph : 1.006255796754588\n",
      "Obesity 2\n",
      "-------------\n",
      "ALP : 0.34720343498597234\n",
      "ALT : 0.31863909400009244\n",
      "AST : 0.23774769377594063\n",
      "Albumin : 0.6702086021936785\n",
      "BUN : 0.30935446872649575\n",
      "Bilirubin : 0.31008297193146606\n",
      "Cholesterol : 0.34742168656195943\n",
      "Creatinine : 0.19261190161523864\n",
      "DiasABP : 0.23569545157721455\n",
      "FiO2 : 0.5011276401557136\n",
      "GCS : 0.29964908925461786\n",
      "Glucose : 0.5785858812930539\n",
      "HCO3 : 0.31092863637627677\n",
      "HCT : 0.5370006682105836\n",
      "HR : 0.25634973222370155\n",
      "K : 0.5334584042131985\n",
      "Lactate : 0.36346151190825365\n",
      "MAP : 0.2642258991318295\n",
      "MechVent : 0.014135564845360462\n",
      "Mg : 0.6478874718171411\n",
      "NIDiasABP : 0.24214911449447452\n",
      "NIMAP : 0.16175606080261223\n",
      "NISysABP : 0.2982500798851418\n",
      "Na : 0.40483834455047285\n",
      "PaCO2 : 0.42726822705067147\n",
      "PaO2 : 0.34605671365275403\n",
      "Platelets : 0.3990161537230884\n",
      "RespRate : 0.4865477498851497\n",
      "SaO2 : 0.43839534927863577\n",
      "SysABP : 0.2649227032451148\n",
      "Temp : 0.3646586984958128\n",
      "TroponinI : 0.0\n",
      "TroponinT : 1.4516069413777122\n",
      "Urine : 0.4421581218643976\n",
      "WBC : 0.15796966173994165\n",
      "Weight : 0.13770711936213686\n",
      "Ph : 0.09473672468932415\n",
      "Obesity 3\n",
      "-------------\n",
      "ALP : 0.26665259756503873\n",
      "ALT : 0.8236240396126422\n",
      "AST : 0.20938207998247632\n",
      "Albumin : 0.7297137518792408\n",
      "BUN : 0.2516669992295612\n",
      "Bilirubin : 0.21676782881717052\n",
      "Cholesterol : 0.0\n",
      "Creatinine : 0.19265773496319236\n",
      "DiasABP : 0.2502527325780307\n",
      "FiO2 : 0.5735210085673579\n",
      "GCS : 0.2951485458540803\n",
      "Glucose : 0.6320320491232778\n",
      "HCO3 : 0.47361247181960775\n",
      "HCT : 0.5854945514051753\n",
      "HR : 0.266090797223071\n",
      "K : 0.6008334597220697\n",
      "Lactate : 0.390224679975096\n",
      "MAP : 0.2799772809188953\n",
      "MechVent : 0.021395701971129225\n",
      "Mg : 0.5486795649201875\n",
      "NIDiasABP : 0.3189410755191813\n",
      "NIMAP : 0.22298470980969912\n",
      "NISysABP : 0.3402708648337854\n",
      "Na : 0.45356223803465145\n",
      "PaCO2 : 0.5548234278393724\n",
      "PaO2 : 0.3977623135185552\n",
      "Platelets : 0.2595095026396364\n",
      "RespRate : 0.4697042368536284\n",
      "SaO2 : 0.49033226666541574\n",
      "SysABP : 0.26691419256912174\n",
      "Temp : 0.33122930993312305\n",
      "TroponinI : 0.2639563268332174\n",
      "TroponinT : 1.03692539683769\n",
      "Urine : 0.5549327936792929\n",
      "WBC : 0.109518769933865\n",
      "Weight : 0.2884505055718383\n",
      "Ph : 0.10165069721581442\n"
     ]
    }
   ],
   "source": [
    "print(\"SAITS - MAE\")\n",
    "print(\"************\")\n",
    "toolkits.show_mae(testing_mae_saits_variables_standard, subgroups, variables)"
   ]
  },
  {
   "cell_type": "markdown",
   "metadata": {},
   "source": [
    "#### BRITS"
   ]
  },
  {
   "cell_type": "markdown",
   "metadata": {},
   "source": [
    "<h4>Standard Scaler (C/Normalização)</h4>"
   ]
  },
  {
   "cell_type": "code",
   "execution_count": 47,
   "metadata": {},
   "outputs": [
    {
     "name": "stdout",
     "output_type": "stream",
     "text": [
      "BRITS - MAE\n",
      "************\n",
      "General\n",
      "-------------\n",
      "ALP : 0.4591248631105258\n",
      "ALT : 0.2098298479270722\n",
      "AST : 0.27798859929904113\n",
      "Albumin : 0.6778925772529109\n",
      "BUN : 0.39521960833661646\n",
      "Bilirubin : 0.3833806392125974\n",
      "Cholesterol : 0.9463970561439892\n",
      "Creatinine : 0.3444718062995419\n",
      "DiasABP : 0.20806233248448402\n",
      "FiO2 : 0.34404522156046397\n",
      "GCS : 0.21322463397612945\n",
      "Glucose : 0.5644091100017328\n",
      "HCO3 : 0.5047606820899914\n",
      "HCT : 0.6338702223060172\n",
      "HR : 0.2431173715923441\n",
      "K : 0.6534995938478387\n",
      "Lactate : 0.4167839664888235\n",
      "MAP : 0.1564062923159312\n",
      "MechVent : 0.007398844359593802\n",
      "Mg : 0.5955810654854342\n",
      "NIDiasABP : 0.15725503986364742\n",
      "NIMAP : 0.09992748699932849\n",
      "NISysABP : 0.2543230216923866\n",
      "Na : 0.645442078485974\n",
      "PaCO2 : 1.1895743136362507\n",
      "PaO2 : 0.4776378612780617\n",
      "Platelets : 0.6445916196510731\n",
      "RespRate : 0.475295251812804\n",
      "SaO2 : 0.348066606252948\n",
      "SysABP : 0.25398352012962805\n",
      "Temp : 0.240561647460938\n",
      "TroponinI : 0.667214116433886\n",
      "TroponinT : 0.29949287221387894\n",
      "Urine : 0.3333883323992429\n",
      "WBC : 0.11011727656670119\n",
      "Weight : 0.061343608674303114\n",
      "Ph : 0.09434882258501495\n",
      "Female\n",
      "-------------\n",
      "ALP : 0.4723506060964951\n",
      "ALT : 0.10185940270651278\n",
      "AST : 0.3024434105433227\n",
      "Albumin : 0.665510604378843\n",
      "BUN : 0.4113747807022737\n",
      "Bilirubin : 0.2838089989257803\n",
      "Cholesterol : 1.316313407512585\n",
      "Creatinine : 0.24691153072314567\n",
      "DiasABP : 0.20953470568278365\n",
      "FiO2 : 0.3423848620348628\n",
      "GCS : 0.2043228152819799\n",
      "Glucose : 0.5565665284887615\n",
      "HCO3 : 0.5505021337194226\n",
      "HCT : 0.6286522264246752\n",
      "HR : 0.25052768923637475\n",
      "K : 0.6733337041789217\n",
      "Lactate : 0.37083533033464083\n",
      "MAP : 0.17368796932726147\n",
      "MechVent : 0.006747703165370343\n",
      "Mg : 0.5734723996652004\n",
      "NIDiasABP : 0.171616260566208\n",
      "NIMAP : 0.11001844506444602\n",
      "NISysABP : 0.24881364491287325\n",
      "Na : 0.7008539967625157\n",
      "PaCO2 : 0.4713282698741606\n",
      "PaO2 : 0.4830146700509505\n",
      "Platelets : 0.6582186111110372\n",
      "RespRate : 0.47974851937853763\n",
      "SaO2 : 0.5769435136586006\n",
      "SysABP : 0.2563772569274273\n",
      "Temp : 0.2787855930853742\n",
      "TroponinI : 0.5303692965576018\n",
      "TroponinT : 0.3245388350346032\n",
      "Urine : 0.2907085974782619\n",
      "WBC : 0.10292654766948946\n",
      "Weight : 0.058495756343322096\n",
      "Ph : 0.03429932490073132\n",
      "Male\n",
      "-------------\n",
      "ALP : 0.5215964049368691\n",
      "ALT : 0.17952189284762848\n",
      "AST : 0.1218574267659091\n",
      "Albumin : 0.6612546921434758\n",
      "BUN : 0.47313963159998557\n",
      "Bilirubin : 0.26849129729876614\n",
      "Cholesterol : 0.8875399756459856\n",
      "Creatinine : 0.4086673829090625\n",
      "DiasABP : 0.20264285017787084\n",
      "FiO2 : 0.38881632905193675\n",
      "GCS : 0.2186207716677957\n",
      "Glucose : 0.603617366635926\n",
      "HCO3 : 0.5260285713813688\n",
      "HCT : 0.6577512627839873\n",
      "HR : 0.24469221838481164\n",
      "K : 0.6205738686899485\n",
      "Lactate : 0.46896165513656884\n",
      "MAP : 0.17239117172685828\n",
      "MechVent : 0.007949415685690596\n",
      "Mg : 0.6120408841248812\n",
      "NIDiasABP : 0.1794684942766366\n",
      "NIMAP : 0.09810443253373032\n",
      "NISysABP : 0.268271125363514\n",
      "Na : 0.6412099776834559\n",
      "PaCO2 : 0.4493377474437719\n",
      "PaO2 : 0.4545439572326916\n",
      "Platelets : 0.612818281347822\n",
      "RespRate : 0.467461971962203\n",
      "SaO2 : 0.9631436680048339\n",
      "SysABP : 0.2636333764634343\n",
      "Temp : 0.2618033821093185\n",
      "TroponinI : 0.7457781083685382\n",
      "TroponinT : 0.35635717138502854\n",
      "Urine : 0.35533738916222685\n",
      "WBC : 0.12021228957177517\n",
      "Weight : 0.05476369622940294\n",
      "Ph : 0.033856753411456164\n",
      "Undefined Gender\n",
      "-------------\n",
      "ALP : 0.0\n",
      "ALT : 0.0\n",
      "AST : 0.0\n",
      "Albumin : 0.0\n",
      "BUN : 0.0\n",
      "Bilirubin : 0.0\n",
      "Cholesterol : 0.0\n",
      "Creatinine : 0.0\n",
      "DiasABP : 0.22980983675459624\n",
      "FiO2 : 0.0\n",
      "GCS : 0.14707111012435606\n",
      "Glucose : 0.17436763908190725\n",
      "HCO3 : 0.17130932884417974\n",
      "HCT : 0.0\n",
      "HR : 0.23982270529582114\n",
      "K : 0.6736702746131231\n",
      "Lactate : 0.0\n",
      "MAP : 0.2091442986656935\n",
      "MechVent : 0.0\n",
      "Mg : 0.29485065260222343\n",
      "NIDiasABP : 0.10616918709994408\n",
      "NIMAP : 0.03621224869521595\n",
      "NISysABP : 0.1752217960362967\n",
      "Na : 0.0\n",
      "PaCO2 : 0.0\n",
      "PaO2 : 0.0\n",
      "Platelets : 0.0\n",
      "RespRate : 0.0400015153054625\n",
      "SaO2 : 0.0\n",
      "SysABP : 0.16993852308729698\n",
      "Temp : 0.2700471093470768\n",
      "TroponinI : 0.0\n",
      "TroponinT : 0.0\n",
      "Urine : 0.43804126444544544\n",
      "WBC : 0.03161171541118861\n",
      "Weight : 0.05161361931011131\n",
      "Ph : 0.0556431329838706\n",
      "+65\n",
      "-------------\n",
      "ALP : 0.6139276875470061\n",
      "ALT : 0.16661796494731473\n",
      "AST : 0.11231389534968526\n",
      "Albumin : 0.5836759288639979\n",
      "BUN : 0.464618689040678\n",
      "Bilirubin : 0.20617572465729786\n",
      "Cholesterol : 0.6823737259303551\n",
      "Creatinine : 0.27308273791356236\n",
      "DiasABP : 0.20360374094325154\n",
      "FiO2 : 0.35481623175871957\n",
      "GCS : 0.21487467722500322\n",
      "Glucose : 0.5931292783216062\n",
      "HCO3 : 0.5569039079976261\n",
      "HCT : 0.6264365382379675\n",
      "HR : 0.24664962221575157\n",
      "K : 0.5674112711104881\n",
      "Lactate : 0.3447885841303662\n",
      "MAP : 0.16817922488533305\n",
      "MechVent : 0.006393708231510704\n",
      "Mg : 0.5828684766261554\n",
      "NIDiasABP : 0.17613327256825403\n",
      "NIMAP : 0.10245148090559356\n",
      "NISysABP : 0.2622773614437512\n",
      "Na : 0.6382337104724226\n",
      "PaCO2 : 0.4270872061767273\n",
      "PaO2 : 0.4433359983434221\n",
      "Platelets : 0.6311261314997352\n",
      "RespRate : 0.464163753842074\n",
      "SaO2 : 1.119685603436657\n",
      "SysABP : 0.24270334262915186\n",
      "Temp : 0.2607230565209776\n",
      "TroponinI : 0.9119257419088436\n",
      "TroponinT : 0.29011904542128597\n",
      "Urine : 0.2979858721146089\n",
      "WBC : 0.12921001148439032\n",
      "Weight : 0.05210631258514696\n",
      "Ph : 0.034264149846147514\n",
      "-65\n",
      "-------------\n",
      "ALP : 1.0636881623060819\n",
      "ALT : 0.2735435854778693\n",
      "AST : 0.18019205307797337\n",
      "Albumin : 0.7094750442946227\n",
      "BUN : 0.3895165083146161\n",
      "Bilirubin : 0.4587133510263586\n",
      "Cholesterol : 1.073912175651407\n",
      "Creatinine : 0.3588470880086742\n",
      "DiasABP : 0.19245403222543708\n",
      "FiO2 : 0.3505449085183805\n",
      "GCS : 0.20944339475315704\n",
      "Glucose : 0.6255228271981214\n",
      "HCO3 : 0.5169113299196821\n",
      "HCT : 0.6489331965921082\n",
      "HR : 0.23947139124799602\n",
      "K : 0.652338151130609\n",
      "Lactate : 0.40066244246559257\n",
      "MAP : 0.167137415328473\n",
      "MechVent : 0.006916098969701905\n",
      "Mg : 0.580303613533964\n",
      "NIDiasABP : 0.16885866230722066\n",
      "NIMAP : 0.09914076013161573\n",
      "NISysABP : 0.23056336257911633\n",
      "Na : 0.6870381726531565\n",
      "PaCO2 : 0.4748882859640983\n",
      "PaO2 : 0.49121169526686703\n",
      "Platelets : 0.6481755142099096\n",
      "RespRate : 0.45912915489840317\n",
      "SaO2 : 0.5723564092567668\n",
      "SysABP : 0.23994664850954725\n",
      "Temp : 0.28637528512807425\n",
      "TroponinI : 0.49986266483938097\n",
      "TroponinT : 0.2732675308603129\n",
      "Urine : 0.40461652646259394\n",
      "WBC : 0.10064864675162888\n",
      "Weight : 0.07002787995366835\n",
      "Ph : 0.03434062214111563\n",
      "ICUType 1\n",
      "-------------\n",
      "ALP : 0.21429404115332343\n",
      "ALT : 0.2581801300301483\n",
      "AST : 0.33178126247951295\n",
      "Albumin : 0.7795431067067613\n",
      "BUN : 0.45694149685238206\n",
      "Bilirubin : 0.09211021349268975\n",
      "Cholesterol : 0.9010749013573103\n",
      "Creatinine : 0.419311123003968\n",
      "DiasABP : 0.23678005881187394\n",
      "FiO2 : 0.374378265919465\n",
      "GCS : 0.2038090796235315\n",
      "Glucose : 0.6636422596322207\n",
      "HCO3 : 0.5872057761431685\n",
      "HCT : 0.6735562717127876\n",
      "HR : 0.23230041450759267\n",
      "K : 0.5692670582205115\n",
      "Lactate : 0.5705112274014941\n",
      "MAP : 0.21619866637285068\n",
      "MechVent : 0.008637714899469963\n",
      "Mg : 0.4940388561607047\n",
      "NIDiasABP : 0.14852225860866225\n",
      "NIMAP : 0.10304036882919866\n",
      "NISysABP : 0.23356944269831867\n",
      "Na : 0.6295341062207888\n",
      "PaCO2 : 0.4460020415645519\n",
      "PaO2 : 0.5097461645216232\n",
      "Platelets : 0.672138205783098\n",
      "RespRate : 0.45485402868744584\n",
      "SaO2 : 0.5290305045509542\n",
      "SysABP : 0.2491616258210433\n",
      "Temp : 0.30488061957347534\n",
      "TroponinI : 1.3357495404853446\n",
      "TroponinT : 0.7301628433450863\n",
      "Urine : 0.4167260709074527\n",
      "WBC : 0.07683291915269803\n",
      "Weight : 0.06849367638204516\n",
      "Ph : 0.030558348070987642\n",
      "ICUType 2\n",
      "-------------\n",
      "ALP : 0.19531430410975956\n",
      "ALT : 0.3376544799444255\n",
      "AST : 0.1347119700063337\n",
      "Albumin : 0.8852134722690953\n",
      "BUN : 0.26832096096802\n",
      "Bilirubin : 0.27272123717330327\n",
      "Cholesterol : 0.0\n",
      "Creatinine : 0.24883777267109647\n",
      "DiasABP : 0.16342700348578848\n",
      "FiO2 : 0.38126390970195\n",
      "GCS : 0.30304707034070466\n",
      "Glucose : 0.45814523549110603\n",
      "HCO3 : 0.38453645965130007\n",
      "HCT : 0.5663671025173816\n",
      "HR : 0.20333948768967725\n",
      "K : 0.7169520210140458\n",
      "Lactate : 0.49089069805811686\n",
      "MAP : 0.12399126611137468\n",
      "MechVent : 0.0045470762204839815\n",
      "Mg : 0.6809313862849475\n",
      "NIDiasABP : 0.14023673159191055\n",
      "NIMAP : 0.08927905374144886\n",
      "NISysABP : 0.24106304978828133\n",
      "Na : 0.5489466674638851\n",
      "PaCO2 : 0.404779729740442\n",
      "PaO2 : 0.47975411294684656\n",
      "Platelets : 0.4379493720418077\n",
      "RespRate : 0.4024650069258371\n",
      "SaO2 : 1.0038150117625755\n",
      "SysABP : 0.2185769457414861\n",
      "Temp : 0.14236676154537684\n",
      "TroponinI : 0.4735419592927507\n",
      "TroponinT : 0.06727051854912473\n",
      "Urine : 0.32264377679132505\n",
      "WBC : 0.1011110746985043\n",
      "Weight : 0.05194238298686153\n",
      "Ph : 0.02975463156459906\n",
      "ICUType 3\n",
      "-------------\n",
      "ALP : 1.1319355964563258\n",
      "ALT : 0.2995858257506662\n",
      "AST : 0.2377097141452593\n",
      "Albumin : 0.7827799488876444\n",
      "BUN : 0.6103098939992797\n",
      "Bilirubin : 0.3244942370506455\n",
      "Cholesterol : 0.6752377324766219\n",
      "Creatinine : 0.555937526097571\n",
      "DiasABP : 0.2370137817044195\n",
      "FiO2 : 0.3768143364849355\n",
      "GCS : 0.21264294218365293\n",
      "Glucose : 0.707951162943939\n",
      "HCO3 : 0.602549026119126\n",
      "HCT : 0.7129688158427555\n",
      "HR : 0.2554595571034168\n",
      "K : 0.7719118482303486\n",
      "Lactate : 0.57317257847132\n",
      "MAP : 0.16398542448538325\n",
      "MechVent : 0.00760112133350753\n",
      "Mg : 0.6315667436307268\n",
      "NIDiasABP : 0.17200759852307665\n",
      "NIMAP : 0.10325422969649826\n",
      "NISysABP : 0.26438515247634004\n",
      "Na : 0.7431216352207282\n",
      "PaCO2 : 0.5744665014612812\n",
      "PaO2 : 0.43359116696408256\n",
      "Platelets : 0.7185112315315914\n",
      "RespRate : 0.4982288288068531\n",
      "SaO2 : 1.5844865910892845\n",
      "SysABP : 0.2505426687967661\n",
      "Temp : 0.40589916865376313\n",
      "TroponinI : 0.6548831596564006\n",
      "TroponinT : 0.1892988307891216\n",
      "Urine : 0.33314639767832954\n",
      "WBC : 0.12372964859197197\n",
      "Weight : 0.056980016713780134\n",
      "Ph : 0.040306564935335736\n",
      "ICUType 4\n",
      "-------------\n",
      "ALP : 0.4880105350578216\n",
      "ALT : 0.19696644537553096\n",
      "AST : 0.28236643950506884\n",
      "Albumin : 0.7714529599983173\n",
      "BUN : 0.33333342535755056\n",
      "Bilirubin : 0.3788552943103315\n",
      "Cholesterol : 0.7928976981913323\n",
      "Creatinine : 0.23604907454128982\n",
      "DiasABP : 0.19973986175367006\n",
      "FiO2 : 0.3042785909579463\n",
      "GCS : 0.18503588300275897\n",
      "Glucose : 0.44089741110689723\n",
      "HCO3 : 0.4587680980767785\n",
      "HCT : 0.5838082711303783\n",
      "HR : 0.2652384939076581\n",
      "K : 0.545810121486171\n",
      "Lactate : 0.43933939354316753\n",
      "MAP : 0.16567214348765347\n",
      "MechVent : 0.007131627306736024\n",
      "Mg : 0.5650615274900468\n",
      "NIDiasABP : 0.20067569385785122\n",
      "NIMAP : 0.11035524063785297\n",
      "NISysABP : 0.2543025121402656\n",
      "Na : 0.6498249413239858\n",
      "PaCO2 : 0.41856534547878854\n",
      "PaO2 : 0.4749503234569555\n",
      "Platelets : 0.5888607969848242\n",
      "RespRate : 0.479565781019045\n",
      "SaO2 : 0.4499743958385365\n",
      "SysABP : 0.26747266667253156\n",
      "Temp : 0.33674239820307833\n",
      "TroponinI : 0.8218961397479049\n",
      "TroponinT : 0.1419773167645441\n",
      "Urine : 0.3509608903614174\n",
      "WBC : 0.09260053217063353\n",
      "Weight : 0.069836462496089\n",
      "Ph : 0.033616300790217164\n",
      "Undefined classification\n",
      "-------------\n",
      "ALP : 0.39790371345674475\n",
      "ALT : 0.19172565438616368\n",
      "AST : 0.13153872839945505\n",
      "Albumin : 0.838276900298598\n",
      "BUN : 0.45586372828883437\n",
      "Bilirubin : 0.3873388207391975\n",
      "Cholesterol : 0.53588790913259\n",
      "Creatinine : 0.41643045331263073\n",
      "DiasABP : 0.22900197229128144\n",
      "FiO2 : 0.34778613622637844\n",
      "GCS : 0.17922953730434166\n",
      "Glucose : 0.6181262748167153\n",
      "HCO3 : 0.5813982322816289\n",
      "HCT : 0.6735661676448251\n",
      "HR : 0.25332483669988765\n",
      "K : 0.6563168132803636\n",
      "Lactate : 0.3978515125936538\n",
      "MAP : 0.18176742983790903\n",
      "MechVent : 0.007929447085111131\n",
      "Mg : 0.53081088988258\n",
      "NIDiasABP : 0.17323382656528202\n",
      "NIMAP : 0.1075290016529028\n",
      "NISysABP : 0.2656436935844474\n",
      "Na : 0.7455026127169506\n",
      "PaCO2 : 0.5436556789395893\n",
      "PaO2 : 0.46961966264764504\n",
      "Platelets : 0.7455531618163324\n",
      "RespRate : 0.4765604867770865\n",
      "SaO2 : 0.589795314790989\n",
      "SysABP : 0.26692383324653385\n",
      "Temp : 0.3225781660444751\n",
      "TroponinI : 0.8013257153823315\n",
      "TroponinT : 0.21074734135365814\n",
      "Urine : 0.3513313082920576\n",
      "WBC : 0.1285670924965216\n",
      "Weight : 0.06705555865889884\n",
      "Ph : 0.03558597868035275\n",
      "Low Weight\n",
      "-------------\n",
      "ALP : 2.5859758306247667\n",
      "ALT : 0.17799734786844357\n",
      "AST : 0.4335928173362818\n",
      "Albumin : 0.7776317029298222\n",
      "BUN : 0.381064250322003\n",
      "Bilirubin : 1.4060455098444173\n",
      "Cholesterol : 0.04761234409837737\n",
      "Creatinine : 0.20557950546841458\n",
      "DiasABP : 0.27353441777771015\n",
      "FiO2 : 0.4158277669529153\n",
      "GCS : 0.1741183440417657\n",
      "Glucose : 1.0195911424203579\n",
      "HCO3 : 0.7924631976940644\n",
      "HCT : 0.7487795161853613\n",
      "HR : 0.2830660203422633\n",
      "K : 0.5882501398851276\n",
      "Lactate : 0.7647298881702621\n",
      "MAP : 0.19232879891296362\n",
      "MechVent : 0.0029262990424138184\n",
      "Mg : 0.44509009049033876\n",
      "NIDiasABP : 0.21712455921144505\n",
      "NIMAP : 0.15016259018620265\n",
      "NISysABP : 0.23462167196304404\n",
      "Na : 0.747091980486378\n",
      "PaCO2 : 0.5121103433216122\n",
      "PaO2 : 0.7041287837229829\n",
      "Platelets : 0.7668751861339025\n",
      "RespRate : 0.6312024390511606\n",
      "SaO2 : 0.3004723366474603\n",
      "SysABP : 0.23835529975394149\n",
      "Temp : 0.1711607926554087\n",
      "TroponinI : 0.0\n",
      "TroponinT : 0.7433620791796637\n",
      "Urine : 0.36849824993172275\n",
      "WBC : 0.1148269967426491\n",
      "Weight : 0.07378457715481274\n",
      "Ph : 0.041060909769780676\n",
      "Normal Weight\n",
      "-------------\n",
      "ALP : 0.4962903641851341\n",
      "ALT : 0.106276294434315\n",
      "AST : 0.10143195664055009\n",
      "Albumin : 0.8854814820256399\n",
      "BUN : 0.47876840516483604\n",
      "Bilirubin : 0.5099003695848664\n",
      "Cholesterol : 0.8043943958919914\n",
      "Creatinine : 0.42613099309287716\n",
      "DiasABP : 0.1846474473782319\n",
      "FiO2 : 0.3413166786305763\n",
      "GCS : 0.23691959476300767\n",
      "Glucose : 0.5385772929452661\n",
      "HCO3 : 0.5148989904560731\n",
      "HCT : 0.5767461159116185\n",
      "HR : 0.2377640064163499\n",
      "K : 0.6571096215610885\n",
      "Lactate : 0.38077467086971684\n",
      "MAP : 0.14275271410137025\n",
      "MechVent : 0.006744162132749256\n",
      "Mg : 0.61180100606523\n",
      "NIDiasABP : 0.1721178258555819\n",
      "NIMAP : 0.10959498310837086\n",
      "NISysABP : 0.24574010758978068\n",
      "Na : 0.7240016321805112\n",
      "PaCO2 : 0.4330646801289352\n",
      "PaO2 : 0.479167797030017\n",
      "Platelets : 0.5159058265630863\n",
      "RespRate : 0.4414410329906371\n",
      "SaO2 : 2.130322246245731\n",
      "SysABP : 0.22681972074572634\n",
      "Temp : 0.2129417641999729\n",
      "TroponinI : 0.6103419620407192\n",
      "TroponinT : 0.2515272458320375\n",
      "Urine : 0.29176607284330514\n",
      "WBC : 0.11436998658891447\n",
      "Weight : 0.05189123889816756\n",
      "Ph : 0.03194186560855869\n",
      "Overweight\n",
      "-------------\n",
      "ALP : 0.2772861638975251\n",
      "ALT : 0.4327663928963471\n",
      "AST : 0.257115142803943\n",
      "Albumin : 0.8378403877776063\n",
      "BUN : 0.4133869229451422\n",
      "Bilirubin : 0.18490524779760764\n",
      "Cholesterol : 1.4074519849451501\n",
      "Creatinine : 0.27701539589417357\n",
      "DiasABP : 0.19725260075322698\n",
      "FiO2 : 0.3193197218101694\n",
      "GCS : 0.23241141749538505\n",
      "Glucose : 0.5934474876708229\n",
      "HCO3 : 0.4341573446773748\n",
      "HCT : 0.6275833744961139\n",
      "HR : 0.22301872560498445\n",
      "K : 0.7244187944821874\n",
      "Lactate : 0.49460970075108696\n",
      "MAP : 0.1585589245644289\n",
      "MechVent : 0.005137604424881064\n",
      "Mg : 0.5412731903849497\n",
      "NIDiasABP : 0.16362712799213097\n",
      "NIMAP : 0.10431434463629911\n",
      "NISysABP : 0.2629100067206372\n",
      "Na : 0.6013471323715319\n",
      "PaCO2 : 0.4263496568227384\n",
      "PaO2 : 0.4645550129620849\n",
      "Platelets : 0.5840428768647151\n",
      "RespRate : 0.4362701018888862\n",
      "SaO2 : 0.3669937008743688\n",
      "SysABP : 0.2542644954919052\n",
      "Temp : 0.17729370132515954\n",
      "TroponinI : 0.9860307763413633\n",
      "TroponinT : 0.47114868666444315\n",
      "Urine : 0.2960574852250147\n",
      "WBC : 0.08651313940758122\n",
      "Weight : 0.032966540842643124\n",
      "Ph : 0.03215343553081844\n",
      "Obesity 1\n",
      "-------------\n",
      "ALP : 0.26975448244155975\n",
      "ALT : 0.15100841085094263\n",
      "AST : 0.16042726089404086\n",
      "Albumin : 0.6676934400304179\n",
      "BUN : 0.45912361486103803\n",
      "Bilirubin : 0.3923146609260682\n",
      "Cholesterol : 0.599187118717601\n",
      "Creatinine : 0.275718291502191\n",
      "DiasABP : 0.20274253014020843\n",
      "FiO2 : 0.3472708332707567\n",
      "GCS : 0.20822374193529478\n",
      "Glucose : 0.4496130349305441\n",
      "HCO3 : 0.4978172173656881\n",
      "HCT : 0.6070131936016211\n",
      "HR : 0.22150992695002622\n",
      "K : 0.5464786518033781\n",
      "Lactate : 0.48315129161656956\n",
      "MAP : 0.16224608907260032\n",
      "MechVent : 0.005072495616452731\n",
      "Mg : 0.4246109332214774\n",
      "NIDiasABP : 0.1663817182782588\n",
      "NIMAP : 0.095418836167388\n",
      "NISysABP : 0.22946847270130952\n",
      "Na : 0.5584640136111128\n",
      "PaCO2 : 0.3990978689418045\n",
      "PaO2 : 0.40376655685807045\n",
      "Platelets : 0.5718058615731684\n",
      "RespRate : 0.4676968344446153\n",
      "SaO2 : 0.32937643050723575\n",
      "SysABP : 0.21232750466710149\n",
      "Temp : 0.16908857909540534\n",
      "TroponinI : 0.7087310686372978\n",
      "TroponinT : 0.29414887658309413\n",
      "Urine : 0.36729827049074865\n",
      "WBC : 0.1685700762296497\n",
      "Weight : 0.048006022759479024\n",
      "Ph : 0.9219915917887068\n",
      "Obesity 2\n",
      "-------------\n",
      "ALP : 0.18852991955371212\n",
      "ALT : 0.5270280689113964\n",
      "AST : 0.0677546955336191\n",
      "Albumin : 0.7338459537382418\n",
      "BUN : 0.6169488981591036\n",
      "Bilirubin : 0.23479156374440102\n",
      "Cholesterol : 0.13450236937629362\n",
      "Creatinine : 0.2590174318875355\n",
      "DiasABP : 0.26985196427274927\n",
      "FiO2 : 0.3410687842563565\n",
      "GCS : 0.22034749275431972\n",
      "Glucose : 0.6385296582110063\n",
      "HCO3 : 0.3636229995396799\n",
      "HCT : 0.6774786966293793\n",
      "HR : 0.23100515222465837\n",
      "K : 0.5939747543616427\n",
      "Lactate : 0.4153820175306169\n",
      "MAP : 0.14971684826702272\n",
      "MechVent : 0.006225074061238273\n",
      "Mg : 0.6004736370267224\n",
      "NIDiasABP : 0.1492638340409856\n",
      "NIMAP : 0.07517616278120039\n",
      "NISysABP : 0.2433631123671284\n",
      "Na : 0.641076339710838\n",
      "PaCO2 : 0.3891606206961462\n",
      "PaO2 : 0.37374229428271516\n",
      "Platelets : 0.5454592569232325\n",
      "RespRate : 0.4807060604304131\n",
      "SaO2 : 0.4867489966871226\n",
      "SysABP : 0.2533317391658555\n",
      "Temp : 0.24531780296280956\n",
      "TroponinI : 0.0\n",
      "TroponinT : 1.5021143882386014\n",
      "Urine : 0.3161319477575084\n",
      "WBC : 0.08854435866824292\n",
      "Weight : 0.06995092663799614\n",
      "Ph : 0.02836781537278077\n",
      "Obesity 3\n",
      "-------------\n",
      "ALP : 0.16918823301001173\n",
      "ALT : 0.9591789115306165\n",
      "AST : 0.04030043808009506\n",
      "Albumin : 0.6424705037102209\n",
      "BUN : 0.4836050642436051\n",
      "Bilirubin : 0.17588154627104385\n",
      "Cholesterol : 0.0\n",
      "Creatinine : 0.41286498529755705\n",
      "DiasABP : 0.166893427169621\n",
      "FiO2 : 0.4649176488288047\n",
      "GCS : 0.20047231113013103\n",
      "Glucose : 0.8388128156999365\n",
      "HCO3 : 0.5854974452919642\n",
      "HCT : 0.6587657563537436\n",
      "HR : 0.22860343362708246\n",
      "K : 0.6904999007157137\n",
      "Lactate : 0.4508896428531816\n",
      "MAP : 0.1200296859042669\n",
      "MechVent : 0.008663791491290877\n",
      "Mg : 0.6279912917260078\n",
      "NIDiasABP : 0.2741680251726211\n",
      "NIMAP : 0.1345101710143888\n",
      "NISysABP : 0.29828996465138213\n",
      "Na : 0.6668684734099526\n",
      "PaCO2 : 0.4409441729273346\n",
      "PaO2 : 0.35097743918923385\n",
      "Platelets : 0.40546031327010756\n",
      "RespRate : 0.4454424101820082\n",
      "SaO2 : 0.47966155915104886\n",
      "SysABP : 0.23309849496293736\n",
      "Temp : 0.1648622070152438\n",
      "TroponinI : 0.11155261456072578\n",
      "TroponinT : 1.1786538213799647\n",
      "Urine : 0.30551383092853696\n",
      "WBC : 0.07513035751340588\n",
      "Weight : 0.1333929823412296\n",
      "Ph : 0.03355689977648614\n"
     ]
    }
   ],
   "source": [
    "print(\"BRITS - MAE\")\n",
    "print(\"************\")\n",
    "toolkits.show_mae(testing_mae_brits_variables_standard, subgroups, variables)"
   ]
  }
 ],
 "metadata": {
  "kernelspec": {
   "display_name": "Python 3",
   "language": "python",
   "name": "python3"
  },
  "language_info": {
   "codemirror_mode": {
    "name": "ipython",
    "version": 3
   },
   "file_extension": ".py",
   "mimetype": "text/x-python",
   "name": "python",
   "nbconvert_exporter": "python",
   "pygments_lexer": "ipython3",
   "version": "3.11.0rc1"
  }
 },
 "nbformat": 4,
 "nbformat_minor": 2
}

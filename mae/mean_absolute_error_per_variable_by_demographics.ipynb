{
 "cells": [
  {
   "cell_type": "markdown",
   "metadata": {},
   "source": [
    "### Importing libraries"
   ]
  },
  {
   "cell_type": "code",
   "execution_count": 1,
   "metadata": {},
   "outputs": [
    {
     "name": "stderr",
     "output_type": "stream",
     "text": [
      "2025-01-29 19:08:36.405724: E external/local_xla/xla/stream_executor/cuda/cuda_fft.cc:485] Unable to register cuFFT factory: Attempting to register factory for plugin cuFFT when one has already been registered\n",
      "2025-01-29 19:08:36.421114: E external/local_xla/xla/stream_executor/cuda/cuda_dnn.cc:8454] Unable to register cuDNN factory: Attempting to register factory for plugin cuDNN when one has already been registered\n",
      "2025-01-29 19:08:36.425900: E external/local_xla/xla/stream_executor/cuda/cuda_blas.cc:1452] Unable to register cuBLAS factory: Attempting to register factory for plugin cuBLAS when one has already been registered\n",
      "2025-01-29 19:08:36.437820: I tensorflow/core/platform/cpu_feature_guard.cc:210] This TensorFlow binary is optimized to use available CPU instructions in performance-critical operations.\n",
      "To enable the following instructions: AVX2 FMA, in other operations, rebuild TensorFlow with the appropriate compiler flags.\n"
     ]
    },
    {
     "name": "stdout",
     "output_type": "stream",
     "text": [
      "\u001b[34m\n",
      "████████╗██╗███╗   ███╗███████╗    ███████╗███████╗██████╗ ██╗███████╗███████╗    █████╗ ██╗\n",
      "╚══██╔══╝██║████╗ ████║██╔════╝    ██╔════╝██╔════╝██╔══██╗██║██╔════╝██╔════╝   ██╔══██╗██║\n",
      "   ██║   ██║██╔████╔██║█████╗█████╗███████╗█████╗  ██████╔╝██║█████╗  ███████╗   ███████║██║\n",
      "   ██║   ██║██║╚██╔╝██║██╔══╝╚════╝╚════██║██╔══╝  ██╔══██╗██║██╔══╝  ╚════██║   ██╔══██║██║\n",
      "   ██║   ██║██║ ╚═╝ ██║███████╗    ███████║███████╗██║  ██║██║███████╗███████║██╗██║  ██║██║\n",
      "   ╚═╝   ╚═╝╚═╝     ╚═╝╚══════╝    ╚══════╝╚══════╝╚═╝  ╚═╝╚═╝╚══════╝╚══════╝╚═╝╚═╝  ╚═╝╚═╝\n",
      "ai4ts v0.0.3 - building AI for unified time-series analysis, https://time-series.ai \u001b[0m\n",
      "\n"
     ]
    },
    {
     "name": "stderr",
     "output_type": "stream",
     "text": [
      "/usr/local/lib/python3.11/dist-packages/pypots/nn/modules/reformer/local_attention.py:31: FutureWarning: `torch.cuda.amp.autocast(args...)` is deprecated. Please use `torch.amp.autocast('cuda', args...)` instead.\n",
      "  @autocast(enabled=False)\n",
      "/usr/local/lib/python3.11/dist-packages/pypots/nn/modules/reformer/local_attention.py:98: FutureWarning: `torch.cuda.amp.autocast(args...)` is deprecated. Please use `torch.amp.autocast('cuda', args...)` instead.\n",
      "  @autocast(enabled=False)\n"
     ]
    }
   ],
   "source": [
    "import pypots\n",
    "import os\n",
    "import sys\n",
    "from pypots.utils.metrics import calc_mae\n",
    "from pypots.optim import Adam\n",
    "from pypots.imputation import SAITS, BRITS\n",
    "import numpy as np\n",
    "import benchpots\n",
    "from pypots.utils.random import set_random_seed\n",
    "module_path = os.path.abspath(os.path.join('..'))\n",
    "if module_path not in sys.path:\n",
    "    sys.path.append(module_path)"
   ]
  },
  {
   "cell_type": "markdown",
   "metadata": {},
   "source": [
    "### Loading database"
   ]
  },
  {
   "cell_type": "code",
   "execution_count": 2,
   "metadata": {},
   "outputs": [
    {
     "name": "stderr",
     "output_type": "stream",
     "text": [
      "2025-01-29 19:08:40 [INFO]: Have set the random seed as 2022 for numpy and pytorch.\n",
      "2025-01-29 19:08:40 [INFO]: You're using dataset physionet_2012, please cite it properly in your work. You can find its reference information at the below link: \n",
      "https://github.com/WenjieDu/TSDB/tree/main/dataset_profiles/physionet_2012\n",
      "2025-01-29 19:08:40 [INFO]: Dataset physionet_2012 has already been downloaded. Processing directly...\n",
      "2025-01-29 19:08:40 [INFO]: Dataset physionet_2012 has already been cached. Loading from cache directly...\n",
      "2025-01-29 19:08:40 [INFO]: Loaded successfully!\n",
      "2025-01-29 19:08:53 [WARNING]: Note that physionet_2012 has sparse observations in the time series, hence we don't add additional missing values to the training dataset. \n",
      "2025-01-29 19:08:53 [WARNING]: Note that physionet_2012 has sparse observations in the time series, hence we don't add additional missing values to the training dataset. \n",
      "2025-01-29 19:08:54 [INFO]: 96156 values masked out in the val set as ground truth, take 10.02% of the original observed values\n",
      "2025-01-29 19:08:54 [INFO]: 96156 values masked out in the val set as ground truth, take 10.02% of the original observed values\n",
      "2025-01-29 19:08:54 [INFO]: 119653 values masked out in the test set as ground truth, take 9.97% of the original observed values\n",
      "2025-01-29 19:08:54 [INFO]: 119653 values masked out in the test set as ground truth, take 9.97% of the original observed values\n",
      "2025-01-29 19:08:54 [INFO]: Total sample number: 11988\n",
      "2025-01-29 19:08:54 [INFO]: Total sample number: 11988\n",
      "2025-01-29 19:08:54 [INFO]: Training set size: 7671 (63.99%)\n",
      "2025-01-29 19:08:54 [INFO]: Training set size: 7671 (63.99%)\n",
      "2025-01-29 19:08:54 [INFO]: Validation set size: 1918 (16.00%)\n",
      "2025-01-29 19:08:54 [INFO]: Validation set size: 1918 (16.00%)\n",
      "2025-01-29 19:08:54 [INFO]: Test set size: 2399 (20.01%)\n",
      "2025-01-29 19:08:54 [INFO]: Test set size: 2399 (20.01%)\n",
      "2025-01-29 19:08:54 [INFO]: Number of steps: 48\n",
      "2025-01-29 19:08:54 [INFO]: Number of steps: 48\n",
      "2025-01-29 19:08:54 [INFO]: Number of features: 42\n",
      "2025-01-29 19:08:54 [INFO]: Number of features: 42\n",
      "2025-01-29 19:08:54 [INFO]: Train set missing rate: 75.15%\n",
      "2025-01-29 19:08:54 [INFO]: Train set missing rate: 75.15%\n",
      "2025-01-29 19:08:54 [INFO]: Validating set missing rate: 77.66%\n",
      "2025-01-29 19:08:54 [INFO]: Validating set missing rate: 77.66%\n",
      "2025-01-29 19:08:54 [INFO]: Test set missing rate: 77.65%\n",
      "2025-01-29 19:08:54 [INFO]: Test set missing rate: 77.65%\n"
     ]
    },
    {
     "name": "stdout",
     "output_type": "stream",
     "text": [
      "dict_keys(['n_classes', 'n_steps', 'n_features', 'scaler', 'train_X', 'train_y', 'train_ICUType', 'val_X', 'val_y', 'val_ICUType', 'test_X', 'test_y', 'test_ICUType', 'female_gender_test_X', 'female_gender_test_y', 'test_ICUType_female_gender', 'male_gender_test_X', 'male_gender_test_y', 'test_ICUType_male_gender', 'undefined_gender_test_X', 'undefined_gender_test_y', 'test_ICUType_undefined_gender', 'more_than_or_equal_to_65_test_X', 'more_than_or_equal_to_65_test_y', 'test_ICUType_more_than_or_equal_to_65', 'less_than_65_test_X', 'less_than_65_test_y', 'test_ICUType_less_than_65', 'ICUType_1_test_X', 'ICUType_1_test_y', 'test_ICUType_1', 'ICUType_2_test_X', 'ICUType_2_test_y', 'test_ICUType_2', 'ICUType_3_test_X', 'ICUType_3_test_y', 'test_ICUType_3', 'ICUType_4_test_X', 'ICUType_4_test_y', 'test_ICUType_4', 'classificacao_undefined_test_X', 'classificacao_undefined_test_y', 'test_ICUType_classificacao_undefined', 'classificacao_baixo_peso_test_X', 'classificacao_baixo_peso_test_y', 'test_ICUType_classificao_baixo_peso', 'classificacao_normal_peso_test_X', 'classificacao_normal_peso_test_y', 'test_ICUType_classificacao_normal_peso', 'classificacao_sobrepeso_test_X', 'classificacao_sobrepeso_test_y', 'test_ICUType_classificacao_sobrepeso', 'classificacao_obesidade_1_test_X', 'classificacao_obesidade_1_test_y', 'test_ICUType_classificacao_obesidade_1', 'classificacao_obesidade_2_test_X', 'classificacao_obesidade_2_test_y', 'test_ICUType_classificacao_obesidade_2', 'classificacao_obesidade_3_test_X', 'classificacao_obesidade_3_test_y', 'test_ICUType_classificacao_obesidade_3', 'val_X_ori', 'test_X_ori', 'female_gender_test_X_ori', 'male_gender_test_X_ori', 'undefined_gender_test_X_ori', 'more_than_or_equal_to_65_test_X_ori', 'less_than_65_test_X_ori', 'ICUType_1_test_X_ori', 'ICUType_2_test_X_ori', 'ICUType_3_test_X_ori', 'ICUType_4_test_X_ori', 'classificacao_undefined_test_X_ori', 'classificacao_baixo_peso_test_X_ori', 'classificacao_normal_peso_test_X_ori', 'classificacao_sobrepeso_test_X_ori', 'classificacao_obesidade_1_test_X_ori', 'classificacao_obesidade_2_test_X_ori', 'classificacao_obesidade_3_test_X_ori'])\n"
     ]
    }
   ],
   "source": [
    "set_random_seed()\n",
    "\n",
    "from pypotsModify.benchpotsMAE.datasets import preprocess_physionet2012\n",
    "\n",
    "# Load the PhysioNet-2012 dataset\n",
    "physionet2012_dataset = preprocess_physionet2012(subset=\"all\", rate=0.1)\n",
    "\n",
    "# Take a look at the generated PhysioNet-2012 dataset, you'll find that everything has been prepared for you,\n",
    "# data splitting, normalization, additional artificially-missing values for evaluation, etc.\n",
    "print(physionet2012_dataset.keys())"
   ]
  },
  {
   "cell_type": "code",
   "execution_count": 3,
   "metadata": {},
   "outputs": [],
   "source": [
    "# assemble the datasets for training\n",
    "dataset_for_training = {\n",
    "    \"X\": physionet2012_dataset['train_X'],\n",
    "}\n",
    "# assemble the datasets for validation\n",
    "dataset_for_validating = {\n",
    "    \"X\": physionet2012_dataset['val_X'],\n",
    "    \"X_ori\": physionet2012_dataset['val_X_ori'],\n",
    "}\n",
    "\n",
    "dataset_for_testing_ori = {\n",
    "    \"X_ori\": physionet2012_dataset['test_X_ori'],\n",
    "    \"female_gender_test_X_ori\": physionet2012_dataset['female_gender_test_X_ori'],\n",
    "    \"male_gender_test_X_ori\": physionet2012_dataset['male_gender_test_X_ori'],\n",
    "    \"undefined_gender_test_X_ori\": physionet2012_dataset['undefined_gender_test_X_ori'],\n",
    "    \"more_than_or_equal_to_65_test_X_ori\":  physionet2012_dataset['more_than_or_equal_to_65_test_X_ori'],\n",
    "    \"less_than_65_test_X_ori\": physionet2012_dataset['less_than_65_test_X_ori'],\n",
    "    \"ICUType_1_test_X_ori\": physionet2012_dataset['ICUType_1_test_X_ori'],\n",
    "    \"ICUType_2_test_X_ori\": physionet2012_dataset['ICUType_2_test_X_ori'],\n",
    "    \"ICUType_3_test_X_ori\": physionet2012_dataset['ICUType_3_test_X_ori'],\n",
    "    \"ICUType_4_test_X_ori\": physionet2012_dataset['ICUType_4_test_X_ori'],\n",
    "    \"classificacao_undefined_test_X_ori\": physionet2012_dataset['classificacao_undefined_test_X_ori'],\n",
    "    \"classificacao_baixo_peso_test_X_ori\": physionet2012_dataset['classificacao_baixo_peso_test_X_ori'],\n",
    "    \"classificacao_normal_peso_test_X_ori\": physionet2012_dataset['classificacao_normal_peso_test_X_ori'],\n",
    "    \"classificacao_sobrepeso_test_X_ori\": physionet2012_dataset['classificacao_sobrepeso_test_X_ori'],\n",
    "    \"classificacao_obesidade_1_test_X_ori\": physionet2012_dataset['classificacao_obesidade_1_test_X_ori'],\n",
    "    \"classificacao_obesidade_2_test_X_ori\": physionet2012_dataset['classificacao_obesidade_2_test_X_ori'],\n",
    "    \"classificacao_obesidade_3_test_X_ori\": physionet2012_dataset['classificacao_obesidade_3_test_X_ori']\n",
    "}\n",
    "\n",
    "# assemble the datasets for test\n",
    "dataset_for_testing = {\n",
    "    \"X\": physionet2012_dataset['test_X'],\n",
    "    \"female_gender_test_X\": physionet2012_dataset['female_gender_test_X'],\n",
    "    \"male_gender_test_X\": physionet2012_dataset['male_gender_test_X'],\n",
    "    \"undefined_gender_test_X\": physionet2012_dataset['undefined_gender_test_X'],\n",
    "    \"more_than_or_equal_to_65_test_X\":  physionet2012_dataset['more_than_or_equal_to_65_test_X'],\n",
    "    \"less_than_65_test_X\": physionet2012_dataset['less_than_65_test_X'],\n",
    "    \"ICUType_1_test_X\": physionet2012_dataset['ICUType_1_test_X'],\n",
    "    \"ICUType_2_test_X\": physionet2012_dataset['ICUType_2_test_X'],\n",
    "    \"ICUType_3_test_X\": physionet2012_dataset['ICUType_3_test_X'],\n",
    "    \"ICUType_4_test_X\": physionet2012_dataset['ICUType_4_test_X'],\n",
    "    \"classificacao_undefined_test_X\": physionet2012_dataset['classificacao_undefined_test_X'],\n",
    "    \"classificacao_baixo_peso_test_X\": physionet2012_dataset['classificacao_baixo_peso_test_X'],\n",
    "    \"classificacao_normal_peso_test_X\": physionet2012_dataset['classificacao_normal_peso_test_X'],\n",
    "    \"classificacao_sobrepeso_test_X\": physionet2012_dataset['classificacao_sobrepeso_test_X'],\n",
    "    \"classificacao_obesidade_1_test_X\": physionet2012_dataset['classificacao_obesidade_1_test_X'],\n",
    "    \"classificacao_obesidade_2_test_X\": physionet2012_dataset['classificacao_obesidade_2_test_X'],\n",
    "    \"classificacao_obesidade_3_test_X\": physionet2012_dataset['classificacao_obesidade_3_test_X']\n",
    "}\n",
    "## calculate the mask to indicate the ground truth positions in test_X_ori, will be used by metric funcs to evaluate models\n",
    "test_X_indicating_mask = []\n",
    "test_X_ori = []\n",
    "for i, j in zip(dataset_for_testing_ori.values(), dataset_for_testing.values()):\n",
    "    test_X_indicating_mask.append(np.isnan(i) ^ np.isnan(j))\n",
    "    test_X_ori.append(np.nan_to_num(i))   # metric functions do not accpet input with NaNs, hence fill NaNs with 0"
   ]
  },
  {
   "cell_type": "markdown",
   "metadata": {},
   "source": [
    "### Inicialize the models"
   ]
  },
  {
   "cell_type": "code",
   "execution_count": 4,
   "metadata": {},
   "outputs": [
    {
     "name": "stderr",
     "output_type": "stream",
     "text": [
      "2025-01-29 19:08:59 [INFO]: No given device, using default device: cuda\n",
      "2025-01-29 19:08:59 [INFO]: Model files will be saved to tutorial_results/imputation/saits/20250129_T190859\n",
      "2025-01-29 19:08:59 [INFO]: Tensorboard file will be saved to tutorial_results/imputation/saits/20250129_T190859/tensorboard\n",
      "2025-01-29 19:08:59 [INFO]: SAITS initialized with the given hyperparameters, the number of trainable parameters: 728,912\n"
     ]
    }
   ],
   "source": [
    "saits = SAITS(\n",
    "    n_steps=physionet2012_dataset['n_steps'],\n",
    "    n_features=physionet2012_dataset['n_features'],\n",
    "    n_layers=1,\n",
    "    d_model=256,\n",
    "    d_ffn=128,\n",
    "    n_heads=4,\n",
    "    d_k=64,\n",
    "    d_v=64,\n",
    "    dropout=0.1,\n",
    "    ORT_weight=1,  # you can adjust the weight values of arguments ORT_weight\n",
    "    # and MIT_weight to make the SAITS model focus more on one task. Usually you can just leave them to the default values, i.e. 1.\n",
    "    MIT_weight=1,\n",
    "    batch_size=32,\n",
    "    # here we set epochs=10 for a quick demo, you can set it to 100 or more for better performance\n",
    "    epochs=10,\n",
    "    # here we set patience=3 to early stop the training if the evaluting loss doesn't decrease for 3 epoches.\n",
    "    # You can leave it to defualt as None to disable early stopping.\n",
    "    patience=3,\n",
    "    # give the optimizer. Different from torch.optim.Optimizer, you don't have to specify model's parameters when\n",
    "    # initializing pypots.optim.Optimizer. You can also leave it to default. It will initilize an Adam optimizer with lr=0.001.\n",
    "    optimizer=Adam(lr=1e-3),\n",
    "    # this num_workers argument is for torch.utils.data.Dataloader. It's the number of subprocesses to use for data loading.\n",
    "    # Leaving it to default as 0 means data loading will be in the main process, i.e. there won't be subprocesses.\n",
    "    # You can increase it to >1 if you think your dataloading is a bottleneck to your model training speed\n",
    "    num_workers=0,\n",
    "    # just leave it to default as None, PyPOTS will automatically assign the best device for you.\n",
    "    # Set it as 'cpu' if you don't have CUDA devices. You can also set it to 'cuda:0' or 'cuda:1' if you have multiple CUDA devices, even parallelly on ['cuda:0', 'cuda:1']\n",
    "    device=None,\n",
    "    # set the path for saving tensorboard and trained model files\n",
    "    saving_path=\"tutorial_results/imputation/saits\",\n",
    "    # only save the best model after training finished.\n",
    "    # You can also set it as \"better\" to save models performing better ever during training.\n",
    "    model_saving_strategy=\"best\",\n",
    ")"
   ]
  },
  {
   "cell_type": "code",
   "execution_count": 10,
   "metadata": {},
   "outputs": [
    {
     "name": "stderr",
     "output_type": "stream",
     "text": [
      "2025-01-29 19:12:21 [INFO]: No given device, using default device: cuda\n",
      "2025-01-29 19:12:21 [INFO]: Model files will be saved to tutorial_results/imputation/brits/20250129_T191221\n",
      "2025-01-29 19:12:21 [INFO]: Tensorboard file will be saved to tutorial_results/imputation/brits/20250129_T191221/tensorboard\n",
      "2025-01-29 19:12:21 [INFO]: BRITS initialized with the given hyperparameters, the number of trainable parameters: 255,344\n"
     ]
    }
   ],
   "source": [
    "brits = BRITS(\n",
    "    n_steps=physionet2012_dataset['n_steps'],\n",
    "    n_features=physionet2012_dataset['n_features'],\n",
    "    rnn_hidden_size=128,\n",
    "    batch_size=32,\n",
    "    # here we set epochs=10 for a quick demo, you can set it to 100 or more for better performance\n",
    "    epochs=10,\n",
    "    # here we set patience=3 to early stop the training if the evaluting loss doesn't decrease for 3 epoches.\n",
    "    # You can leave it to defualt as None to disable early stopping.\n",
    "    patience=3,\n",
    "    # give the optimizer. Different from torch.optim.Optimizer, you don't have to specify model's parameters when\n",
    "    # initializing pypots.optim.Optimizer. You can also leave it to default. It will initilize an Adam optimizer with lr=0.001.\n",
    "    optimizer=Adam(lr=1e-3),\n",
    "    # this num_workers argument is for torch.utils.data.Dataloader. It's the number of subprocesses to use for data loading.\n",
    "    # Leaving it to default as 0 means data loading will be in the main process, i.e. there won't be subprocesses.\n",
    "    # You can increase it to >1 if you think your dataloading is a bottleneck to your model training speed\n",
    "    num_workers=0,\n",
    "    # just leave it to default as None, PyPOTS will automatically assign the best device for you.\n",
    "    # Set it as 'cpu' if you don't have CUDA devices. You can also set it to 'cuda:0' or 'cuda:1' if you have multiple CUDA devices, even parallelly on ['cuda:0', 'cuda:1']\n",
    "    device=None,\n",
    "    # set the path for saving tensorboard and trained model files\n",
    "    saving_path=\"tutorial_results/imputation/brits\",\n",
    "    # only save the best model after training finished.\n",
    "    # You can also set it as \"better\" to save models performing better ever during training.\n",
    "    model_saving_strategy=\"best\",\n",
    ")"
   ]
  },
  {
   "cell_type": "markdown",
   "metadata": {},
   "source": [
    "### Train the models"
   ]
  },
  {
   "cell_type": "code",
   "execution_count": 5,
   "metadata": {},
   "outputs": [
    {
     "name": "stderr",
     "output_type": "stream",
     "text": [
      "2025-01-29 19:09:06 [INFO]: Epoch 001 - training loss: 0.6459, validation loss: 0.2681\n",
      "2025-01-29 19:09:06 [INFO]: Saved the model to tutorial_results/imputation/saits/20250129_T190859/SAITS_epoch1_loss0.26811174924174946.pypots\n",
      "2025-01-29 19:09:09 [INFO]: Epoch 002 - training loss: 0.4519, validation loss: 0.2498\n",
      "2025-01-29 19:09:09 [INFO]: Saved the model to tutorial_results/imputation/saits/20250129_T190859/SAITS_epoch2_loss0.24975408017635345.pypots\n",
      "2025-01-29 19:09:12 [INFO]: Epoch 003 - training loss: 0.4162, validation loss: 0.2409\n",
      "2025-01-29 19:09:12 [INFO]: Saved the model to tutorial_results/imputation/saits/20250129_T190859/SAITS_epoch3_loss0.24094671507676443.pypots\n",
      "2025-01-29 19:09:15 [INFO]: Epoch 004 - training loss: 0.3925, validation loss: 0.2230\n",
      "2025-01-29 19:09:15 [INFO]: Saved the model to tutorial_results/imputation/saits/20250129_T190859/SAITS_epoch4_loss0.22296766663591067.pypots\n",
      "2025-01-29 19:09:18 [INFO]: Epoch 005 - training loss: 0.3716, validation loss: 0.2023\n",
      "2025-01-29 19:09:18 [INFO]: Saved the model to tutorial_results/imputation/saits/20250129_T190859/SAITS_epoch5_loss0.2023112453520298.pypots\n",
      "2025-01-29 19:09:20 [INFO]: Epoch 006 - training loss: 0.3596, validation loss: 0.2046\n",
      "2025-01-29 19:09:23 [INFO]: Epoch 007 - training loss: 0.3466, validation loss: 0.1931\n",
      "2025-01-29 19:09:23 [INFO]: Saved the model to tutorial_results/imputation/saits/20250129_T190859/SAITS_epoch7_loss0.19310212383667627.pypots\n",
      "2025-01-29 19:09:26 [INFO]: Epoch 008 - training loss: 0.3381, validation loss: 0.1903\n",
      "2025-01-29 19:09:26 [INFO]: Saved the model to tutorial_results/imputation/saits/20250129_T190859/SAITS_epoch8_loss0.19031918744246165.pypots\n",
      "2025-01-29 19:09:29 [INFO]: Epoch 009 - training loss: 0.3334, validation loss: 0.1890\n",
      "2025-01-29 19:09:29 [INFO]: Saved the model to tutorial_results/imputation/saits/20250129_T190859/SAITS_epoch9_loss0.18895352073013783.pypots\n",
      "2025-01-29 19:09:31 [INFO]: Epoch 010 - training loss: 0.3250, validation loss: 0.1873\n",
      "2025-01-29 19:09:31 [INFO]: Saved the model to tutorial_results/imputation/saits/20250129_T190859/SAITS_epoch10_loss0.18727874072889486.pypots\n",
      "2025-01-29 19:09:31 [INFO]: Finished training. The best model is from epoch#10.\n",
      "2025-01-29 19:09:32 [INFO]: Saved the model to tutorial_results/imputation/saits/20250129_T190859/SAITS.pypots\n"
     ]
    }
   ],
   "source": [
    "# train the model on the training set, and validate it on the validating set to select the best model for testing in the next step\n",
    "saits.fit(train_set=dataset_for_training, val_set=dataset_for_validating)"
   ]
  },
  {
   "cell_type": "code",
   "execution_count": 11,
   "metadata": {},
   "outputs": [
    {
     "name": "stderr",
     "output_type": "stream",
     "text": [
      "2025-01-29 19:13:29 [INFO]: Epoch 001 - training loss: 0.8504, validation loss: 0.2889\n",
      "2025-01-29 19:13:29 [INFO]: Saved the model to tutorial_results/imputation/brits/20250129_T191221/BRITS_epoch1_loss0.28890601024031637.pypots\n",
      "2025-01-29 19:14:17 [INFO]: Epoch 002 - training loss: 0.5925, validation loss: 0.2504\n",
      "2025-01-29 19:14:17 [INFO]: Saved the model to tutorial_results/imputation/brits/20250129_T191221/BRITS_epoch2_loss0.25044039537509283.pypots\n",
      "2025-01-29 19:15:06 [INFO]: Epoch 003 - training loss: 0.5444, validation loss: 0.2404\n",
      "2025-01-29 19:15:06 [INFO]: Saved the model to tutorial_results/imputation/brits/20250129_T191221/BRITS_epoch3_loss0.24043585633238157.pypots\n",
      "2025-01-29 19:15:55 [INFO]: Epoch 004 - training loss: 0.5230, validation loss: 0.2346\n",
      "2025-01-29 19:15:55 [INFO]: Saved the model to tutorial_results/imputation/brits/20250129_T191221/BRITS_epoch4_loss0.23458528518676758.pypots\n",
      "2025-01-29 19:16:43 [INFO]: Epoch 005 - training loss: 0.5095, validation loss: 0.2312\n",
      "2025-01-29 19:16:43 [INFO]: Saved the model to tutorial_results/imputation/brits/20250129_T191221/BRITS_epoch5_loss0.231178251405557.pypots\n",
      "2025-01-29 19:17:32 [INFO]: Epoch 006 - training loss: 0.4983, validation loss: 0.2307\n",
      "2025-01-29 19:17:32 [INFO]: Saved the model to tutorial_results/imputation/brits/20250129_T191221/BRITS_epoch6_loss0.23071187660098075.pypots\n",
      "2025-01-29 19:18:21 [INFO]: Epoch 007 - training loss: 0.4895, validation loss: 0.2310\n",
      "2025-01-29 19:19:10 [INFO]: Epoch 008 - training loss: 0.4830, validation loss: 0.2328\n",
      "2025-01-29 19:19:59 [INFO]: Epoch 009 - training loss: 0.4766, validation loss: 0.2355\n",
      "2025-01-29 19:19:59 [INFO]: Exceeded the training patience. Terminating the training procedure...\n",
      "2025-01-29 19:19:59 [INFO]: Finished training. The best model is from epoch#6.\n",
      "2025-01-29 19:19:59 [INFO]: Saved the model to tutorial_results/imputation/brits/20250129_T191221/BRITS.pypots\n"
     ]
    }
   ],
   "source": [
    "# train the model on the training set, and validate it on the validating set to select the best model for testing in the next step\n",
    "brits.fit(train_set=dataset_for_training, val_set=dataset_for_validating)"
   ]
  },
  {
   "cell_type": "markdown",
   "metadata": {},
   "source": [
    "### The testing stage"
   ]
  },
  {
   "cell_type": "code",
   "execution_count": 6,
   "metadata": {},
   "outputs": [],
   "source": [
    "# the testing stage, impute the originally-missing values and artificially-missing values in the test set\n",
    "saits_imputation = []\n",
    "for value in  dataset_for_testing.values():\n",
    "   _dict = {'X':value}\n",
    "   saits_results = saits.predict(_dict)\n",
    "   saits_imputation.append(saits_results[\"imputation\"])   "
   ]
  },
  {
   "cell_type": "code",
   "execution_count": 12,
   "metadata": {},
   "outputs": [],
   "source": [
    "# the testing stage, impute the originally-missing values and artificially-missing values in the test set\n",
    "brits_imputation = []\n",
    "for value in dataset_for_testing.values():\n",
    "    _dict = {'X':value}\n",
    "    brits_results = brits.predict(_dict)\n",
    "    brits_imputation.append(brits_results[\"imputation\"])"
   ]
  },
  {
   "cell_type": "markdown",
   "metadata": {},
   "source": [
    "### Calculate mean absolute error"
   ]
  },
  {
   "cell_type": "code",
   "execution_count": 7,
   "metadata": {},
   "outputs": [],
   "source": [
    "testing_mae_saits = []\n",
    "for i in range(len(saits_imputation)):\n",
    "    testing_mae_saits.append(calc_mae(saits_imputation[i], test_X_ori[i], test_X_indicating_mask[i]))\n",
    "\n"
   ]
  },
  {
   "cell_type": "code",
   "execution_count": 13,
   "metadata": {},
   "outputs": [],
   "source": [
    "testing_mae_brits = []\n",
    "for i in range(len(brits_imputation)):\n",
    "    testing_mae_brits.append(calc_mae(brits_imputation[i], test_X_ori[i], test_X_indicating_mask[i]))\n"
   ]
  },
  {
   "cell_type": "code",
   "execution_count": 8,
   "metadata": {},
   "outputs": [],
   "source": [
    "subgroups = [\"General\", \"Female\", \"Male\", \"Undefined Gender\", \"+65\", \"-65\", \"ICUType 1\", \"ICUType 2\", \"ICUType 3\", \"ICUType 4\", \"Undefined classification\", \"Low Weight\", \"Normal Weight\", \"Overweight\", \"Obesity 1\", \"Obesity 2\", \"Obesity 3\"]"
   ]
  },
  {
   "cell_type": "code",
   "execution_count": 9,
   "metadata": {},
   "outputs": [
    {
     "name": "stdout",
     "output_type": "stream",
     "text": [
      "SAITS - MAE\n",
      "-------------\n",
      "General : 0.2030231706570785\n",
      "Female : 0.2027576266629089\n",
      "Male : 0.20716419813326403\n",
      "Undefined Gender : 0.19607603211960503\n",
      "+65 : 0.19548568211874398\n",
      "-65 : 0.21322181014639585\n",
      "ICUType 1 : 0.2114998119850733\n",
      "ICUType 2 : 0.1805714311043968\n",
      "ICUType 3 : 0.21611276237687627\n",
      "ICUType 4 : 0.207235979008748\n",
      "Undefined classification : 0.21287302481326667\n",
      "Low Weight : 0.23087422241453076\n",
      "Normal Weight : 0.18979578629362645\n",
      "Overweight : 0.1977217346543691\n",
      "Obesity 1 : 0.19420893057131197\n",
      "Obesity 2 : 0.19840058541799518\n",
      "Obesity 3 : 0.2096608916272283\n"
     ]
    }
   ],
   "source": [
    "print(\"SAITS - MAE\")\n",
    "print(\"-------------\")\n",
    "for i in range(len(subgroups)):\n",
    "    print(subgroups[i], \":\" ,testing_mae_saits[i])"
   ]
  },
  {
   "cell_type": "code",
   "execution_count": 15,
   "metadata": {},
   "outputs": [
    {
     "name": "stdout",
     "output_type": "stream",
     "text": [
      "BRITS - MAE\n",
      "-------------\n",
      "General : 0.20607649494742675\n",
      "Female : 0.20614220432360486\n",
      "Male : 0.21246684469801871\n",
      "Undefined Gender : 0.18272824533494633\n",
      "+65 : 0.20458278834580312\n",
      "-65 : 0.21627359080249212\n",
      "ICUType 1 : 0.220299073686516\n",
      "ICUType 2 : 0.1808477823544893\n",
      "ICUType 3 : 0.22441586013095977\n",
      "ICUType 4 : 0.20966047499437565\n",
      "Undefined classification : 0.21801499897060275\n",
      "Low Weight : 0.24078274437854238\n",
      "Normal Weight : 0.195872946252596\n",
      "Overweight : 0.19804599357933922\n",
      "Obesity 1 : 0.19122453585431926\n",
      "Obesity 2 : 0.2035281786613216\n",
      "Obesity 3 : 0.2143222467284282\n"
     ]
    }
   ],
   "source": [
    "print(\"BRITS - MAE\")\n",
    "print(\"-------------\")\n",
    "for i in range(len(subgroups)):\n",
    "    print(subgroups[i], \":\" ,testing_mae_brits[i])"
   ]
  }
 ],
 "metadata": {
  "kernelspec": {
   "display_name": "Python 3",
   "language": "python",
   "name": "python3"
  },
  "language_info": {
   "codemirror_mode": {
    "name": "ipython",
    "version": 3
   },
   "file_extension": ".py",
   "mimetype": "text/x-python",
   "name": "python",
   "nbconvert_exporter": "python",
   "pygments_lexer": "ipython3",
   "version": "3.11.0rc1"
  }
 },
 "nbformat": 4,
 "nbformat_minor": 2
}

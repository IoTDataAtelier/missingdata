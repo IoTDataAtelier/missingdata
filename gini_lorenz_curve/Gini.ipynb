{
 "cells": [
  {
   "cell_type": "markdown",
   "id": "61a67522",
   "metadata": {},
   "source": [
    "# Import libraries"
   ]
  },
  {
   "cell_type": "code",
   "execution_count": 1,
   "id": "770032fc",
   "metadata": {},
   "outputs": [
    {
     "name": "stderr",
     "output_type": "stream",
     "text": [
      "2025-05-08 23:34:08.275217: E external/local_xla/xla/stream_executor/cuda/cuda_fft.cc:477] Unable to register cuFFT factory: Attempting to register factory for plugin cuFFT when one has already been registered\n",
      "WARNING: All log messages before absl::InitializeLog() is called are written to STDERR\n",
      "E0000 00:00:1746758048.292846  238583 cuda_dnn.cc:8310] Unable to register cuDNN factory: Attempting to register factory for plugin cuDNN when one has already been registered\n",
      "E0000 00:00:1746758048.298198  238583 cuda_blas.cc:1418] Unable to register cuBLAS factory: Attempting to register factory for plugin cuBLAS when one has already been registered\n",
      "2025-05-08 23:34:08.315811: I tensorflow/core/platform/cpu_feature_guard.cc:210] This TensorFlow binary is optimized to use available CPU instructions in performance-critical operations.\n",
      "To enable the following instructions: AVX2 FMA, in other operations, rebuild TensorFlow with the appropriate compiler flags.\n",
      "/usr/local/lib/python3.11/dist-packages/tqdm/auto.py:21: TqdmWarning: IProgress not found. Please update jupyter and ipywidgets. See https://ipywidgets.readthedocs.io/en/stable/user_install.html\n",
      "  from .autonotebook import tqdm as notebook_tqdm\n"
     ]
    },
    {
     "name": "stdout",
     "output_type": "stream",
     "text": [
      "\u001b[34m\n",
      "████████╗██╗███╗   ███╗███████╗    ███████╗███████╗██████╗ ██╗███████╗███████╗    █████╗ ██╗\n",
      "╚══██╔══╝██║████╗ ████║██╔════╝    ██╔════╝██╔════╝██╔══██╗██║██╔════╝██╔════╝   ██╔══██╗██║\n",
      "   ██║   ██║██╔████╔██║█████╗█████╗███████╗█████╗  ██████╔╝██║█████╗  ███████╗   ███████║██║\n",
      "   ██║   ██║██║╚██╔╝██║██╔══╝╚════╝╚════██║██╔══╝  ██╔══██╗██║██╔══╝  ╚════██║   ██╔══██║██║\n",
      "   ██║   ██║██║ ╚═╝ ██║███████╗    ███████║███████╗██║  ██║██║███████╗███████║██╗██║  ██║██║\n",
      "   ╚═╝   ╚═╝╚═╝     ╚═╝╚══════╝    ╚══════╝╚══════╝╚═╝  ╚═╝╚═╝╚══════╝╚══════╝╚═╝╚═╝  ╚═╝╚═╝\n",
      "ai4ts v0.0.3 - building AI for unified time-series analysis, https://time-series.ai \u001b[0m\n",
      "\n"
     ]
    }
   ],
   "source": [
    "import os\n",
    "import sys\n",
    "import pypots\n",
    "import numpy as np\n",
    "import benchpots\n",
    "import matplotlib.pyplot as plt\n",
    "from pypots.optim import Adam\n",
    "from pypots.imputation import SAITS, BRITS, USGAN, GPVAE, MRNN\n",
    "from pypots.utils.random import set_random_seed\n",
    "from functions.toolkits import toolkits\n",
    "module_path = os.path.abspath(os.path.join('..'))\n",
    "if module_path not in sys.path:\n",
    "    sys.path.append(module_path)\n",
    "\n",
    "from MAEModify.error import calc_mae\n"
   ]
  },
  {
   "cell_type": "markdown",
   "id": "62408df9",
   "metadata": {},
   "source": [
    "# Load Dataset"
   ]
  },
  {
   "cell_type": "code",
   "execution_count": 2,
   "id": "c285b751",
   "metadata": {},
   "outputs": [
    {
     "name": "stderr",
     "output_type": "stream",
     "text": [
      "2025-05-08 23:34:11 [INFO]: Have set the random seed as 2022 for numpy and pytorch.\n",
      "2025-05-08 23:34:11 [INFO]: You're using dataset physionet_2012, please cite it properly in your work. You can find its reference information at the below link: \n",
      "https://github.com/WenjieDu/TSDB/tree/main/dataset_profiles/physionet_2012\n",
      "2025-05-08 23:34:11 [INFO]: Dataset physionet_2012 has already been downloaded. Processing directly...\n",
      "2025-05-08 23:34:11 [INFO]: Dataset physionet_2012 has already been cached. Loading from cache directly...\n",
      "2025-05-08 23:34:11 [INFO]: Loaded successfully!\n",
      "2025-05-08 23:34:26 [WARNING]: Note that physionet_2012 has sparse observations in the time series, hence we don't add additional missing values to the training dataset. \n",
      "2025-05-08 23:34:26 [INFO]: 68807 values masked out in the val set as ground truth, take 9.97% of the original observed values\n",
      "2025-05-08 23:34:26 [INFO]: 86319 values masked out in the test set as ground truth, take 9.99% of the original observed values\n",
      "2025-05-08 23:34:26 [INFO]: Total sample number: 11988\n",
      "2025-05-08 23:34:26 [INFO]: Training set size: 7671 (63.99%)\n",
      "2025-05-08 23:34:26 [INFO]: Validation set size: 1918 (16.00%)\n",
      "2025-05-08 23:34:26 [INFO]: Test set size: 2399 (20.01%)\n",
      "2025-05-08 23:34:26 [INFO]: Number of steps: 48\n",
      "2025-05-08 23:34:26 [INFO]: Number of features: 37\n",
      "2025-05-08 23:34:26 [INFO]: Train set missing rate: 79.70%\n",
      "2025-05-08 23:34:26 [INFO]: Validating set missing rate: 81.75%\n",
      "2025-05-08 23:34:26 [INFO]: Test set missing rate: 81.75%\n"
     ]
    },
    {
     "name": "stdout",
     "output_type": "stream",
     "text": [
      "dict_keys(['n_classes', 'n_steps', 'n_features', 'scaler', 'train_X', 'train_y', 'train_ICUType', 'val_X', 'val_y', 'val_ICUType', 'test_X', 'test_y', 'test_ICUType', 'val_X_ori', 'test_X_ori'])\n"
     ]
    }
   ],
   "source": [
    "set_random_seed()\n",
    "physionet2012_dataset = benchpots.datasets.preprocess_physionet2012(subset=\"all\", rate=0.1)\n",
    "print(physionet2012_dataset.keys())"
   ]
  },
  {
   "cell_type": "code",
   "execution_count": 3,
   "id": "ec18197f",
   "metadata": {},
   "outputs": [],
   "source": [
    "dataset_for_training = {\n",
    "    \"X\": physionet2012_dataset['train_X'],\n",
    "}\n",
    "\n",
    "dataset_for_validating = {\n",
    "    \"X\": physionet2012_dataset['val_X'],\n",
    "    \"X_ori\": physionet2012_dataset['val_X_ori'],\n",
    "}\n",
    "\n",
    "dataset_for_testing = {\n",
    "    \"X\": physionet2012_dataset['test_X'],\n",
    "}\n",
    "\n",
    "test_X_indicating_mask = np.isnan(physionet2012_dataset['test_X_ori']) ^ np.isnan(physionet2012_dataset['test_X'])\n",
    "test_X_ori = np.nan_to_num(physionet2012_dataset['test_X_ori']) "
   ]
  },
  {
   "cell_type": "markdown",
   "id": "85c00b23",
   "metadata": {},
   "source": [
    "# Train/Load Models"
   ]
  },
  {
   "cell_type": "markdown",
   "id": "a82818d3",
   "metadata": {},
   "source": [
    "## SAITS"
   ]
  },
  {
   "cell_type": "code",
   "execution_count": 4,
   "id": "0544ec91",
   "metadata": {},
   "outputs": [
    {
     "name": "stderr",
     "output_type": "stream",
     "text": [
      "2025-05-08 23:34:26 [INFO]: No given device, using default device: cpu\n",
      "2025-05-08 23:34:26 [WARNING]: ‼️ saving_path not given. Model files and tensorboard file will not be saved.\n",
      "2025-05-08 23:34:26 [INFO]: Using customized MAE as the training loss function.\n",
      "2025-05-08 23:34:26 [INFO]: Using customized MSE as the validation metric function.\n",
      "2025-05-08 23:34:26 [INFO]: SAITS initialized with the given hyperparameters, the number of trainable parameters: 720,182\n"
     ]
    }
   ],
   "source": [
    "saits = SAITS(\n",
    "    n_steps=physionet2012_dataset['n_steps'],\n",
    "    n_features=physionet2012_dataset['n_features'],\n",
    "    n_layers=1,\n",
    "    d_model=256,\n",
    "    d_ffn=128,\n",
    "    n_heads=4,\n",
    "    d_k=64,\n",
    "    d_v=64,\n",
    "    dropout=0.1,\n",
    "    ORT_weight=1,  \n",
    "    MIT_weight=1,\n",
    "    batch_size=32,\n",
    "    epochs=10,\n",
    "    patience=3,\n",
    "    optimizer=Adam(lr=1e-3),\n",
    "    num_workers=0,\n",
    "    device=None,\n",
    "    model_saving_strategy=\"best\",\n",
    ")"
   ]
  },
  {
   "cell_type": "code",
   "execution_count": 5,
   "id": "7755ef6d",
   "metadata": {},
   "outputs": [
    {
     "name": "stderr",
     "output_type": "stream",
     "text": [
      "2025-05-08 23:34:26 [INFO]: Model loaded successfully from ../mae/tutorial_results/imputation/saits/20250422_T181642/SAITS.pypots\n"
     ]
    }
   ],
   "source": [
    "saits.load(\"../mae/tutorial_results/imputation/saits/20250422_T181642/SAITS.pypots\")"
   ]
  },
  {
   "cell_type": "markdown",
   "id": "a7135537",
   "metadata": {},
   "source": [
    "## BRITS"
   ]
  },
  {
   "cell_type": "code",
   "execution_count": 6,
   "id": "160b68c8",
   "metadata": {},
   "outputs": [
    {
     "name": "stderr",
     "output_type": "stream",
     "text": [
      "2025-05-08 23:34:26 [INFO]: No given device, using default device: cpu\n",
      "2025-05-08 23:34:26 [WARNING]: ‼️ saving_path not given. Model files and tensorboard file will not be saved.\n",
      "2025-05-08 23:34:26 [INFO]: Using customized MAE as the training loss function.\n",
      "2025-05-08 23:34:26 [INFO]: Using customized MSE as the validation metric function.\n",
      "2025-05-08 23:34:26 [INFO]: BRITS initialized with the given hyperparameters, the number of trainable parameters: 239,344\n"
     ]
    }
   ],
   "source": [
    "brits = BRITS(\n",
    "    n_steps=physionet2012_dataset['n_steps'],\n",
    "    n_features=physionet2012_dataset['n_features'],\n",
    "    rnn_hidden_size=128,\n",
    "    batch_size=32,\n",
    "    epochs=10,\n",
    "    patience=3,\n",
    "    optimizer=Adam(lr=1e-3),\n",
    "    num_workers=0,\n",
    "    device=None,\n",
    "    model_saving_strategy=\"best\",\n",
    ")"
   ]
  },
  {
   "cell_type": "code",
   "execution_count": 7,
   "id": "94e7f531",
   "metadata": {},
   "outputs": [
    {
     "name": "stderr",
     "output_type": "stream",
     "text": [
      "2025-05-08 23:34:26 [INFO]: Model loaded successfully from ../mae/tutorial_results/imputation/brits/20250422_T181643/BRITS.pypots\n"
     ]
    }
   ],
   "source": [
    "brits.load(\"../mae/tutorial_results/imputation/brits/20250422_T181643/BRITS.pypots\")"
   ]
  },
  {
   "cell_type": "markdown",
   "id": "10b70c68",
   "metadata": {},
   "source": [
    "## US-GAN"
   ]
  },
  {
   "cell_type": "code",
   "execution_count": 8,
   "id": "0eb04ac2",
   "metadata": {},
   "outputs": [
    {
     "name": "stderr",
     "output_type": "stream",
     "text": [
      "2025-05-08 23:34:26 [INFO]: No given device, using default device: cpu\n",
      "2025-05-08 23:34:26 [WARNING]: ‼️ saving_path not given. Model files and tensorboard file will not be saved.\n",
      "2025-05-08 23:34:26 [INFO]: USGAN initialized with the given hyperparameters, the number of trainable parameters: 1,258,517\n"
     ]
    }
   ],
   "source": [
    "us_gan = USGAN(\n",
    "    n_steps=physionet2012_dataset['n_steps'],\n",
    "    n_features=physionet2012_dataset['n_features'],\n",
    "    rnn_hidden_size=256,\n",
    "    lambda_mse=1,\n",
    "    dropout=0.1,\n",
    "    G_steps=1,\n",
    "    D_steps=1,\n",
    "    batch_size=32,\n",
    "    epochs=10,\n",
    "    patience=3,\n",
    "    G_optimizer=Adam(lr=1e-3),\n",
    "    D_optimizer=Adam(lr=1e-3),\n",
    "    num_workers=0,\n",
    "    device=None,\n",
    "    model_saving_strategy=\"best\",\n",
    ")"
   ]
  },
  {
   "cell_type": "code",
   "execution_count": 9,
   "id": "2e6308e2",
   "metadata": {},
   "outputs": [
    {
     "name": "stderr",
     "output_type": "stream",
     "text": [
      "2025-05-08 23:34:26 [INFO]: Model loaded successfully from ../mae/tutorial_results/imputation/us_gan/20250422_T181643/USGAN.pypots\n"
     ]
    }
   ],
   "source": [
    "us_gan.load(\"../mae/tutorial_results/imputation/us_gan/20250422_T181643/USGAN.pypots\")"
   ]
  },
  {
   "cell_type": "markdown",
   "id": "78c609a0",
   "metadata": {},
   "source": [
    "## GP-VAE"
   ]
  },
  {
   "cell_type": "code",
   "execution_count": 10,
   "id": "3c0b8e4a",
   "metadata": {},
   "outputs": [
    {
     "name": "stderr",
     "output_type": "stream",
     "text": [
      "2025-05-08 23:34:26 [INFO]: No given device, using default device: cpu\n",
      "2025-05-08 23:34:26 [WARNING]: ‼️ saving_path not given. Model files and tensorboard file will not be saved.\n",
      "2025-05-08 23:34:26 [INFO]: GPVAE initialized with the given hyperparameters, the number of trainable parameters: 229,652\n"
     ]
    }
   ],
   "source": [
    "gp_vae = GPVAE(\n",
    "    n_steps=physionet2012_dataset['n_steps'],\n",
    "    n_features=physionet2012_dataset['n_features'],\n",
    "    latent_size=37,\n",
    "    encoder_sizes=(128,128),\n",
    "    decoder_sizes=(256,256),\n",
    "    kernel=\"cauchy\",\n",
    "    beta=0.2,\n",
    "    M=1,\n",
    "    K=1,\n",
    "    sigma=1.005,\n",
    "    length_scale=7.0,\n",
    "    kernel_scales=1,\n",
    "    window_size=24,\n",
    "    batch_size=32,\n",
    "    epochs=10,\n",
    "    patience=3,\n",
    "    optimizer=Adam(lr=1e-3),\n",
    "    num_workers=0,\n",
    "    device=None,\n",
    "    model_saving_strategy=\"best\",\n",
    ")"
   ]
  },
  {
   "cell_type": "code",
   "execution_count": 11,
   "id": "8e1991e3",
   "metadata": {},
   "outputs": [
    {
     "name": "stderr",
     "output_type": "stream",
     "text": [
      "2025-05-08 23:34:26 [INFO]: Model loaded successfully from ../mae/tutorial_results/imputation/gp_vae/20250422_T181643/GPVAE.pypots\n"
     ]
    }
   ],
   "source": [
    "gp_vae.load(\"../mae/tutorial_results/imputation/gp_vae/20250422_T181643/GPVAE.pypots\")"
   ]
  },
  {
   "cell_type": "markdown",
   "id": "858e155d",
   "metadata": {},
   "source": [
    "## MRNN"
   ]
  },
  {
   "cell_type": "code",
   "execution_count": 12,
   "id": "2fa6e07f",
   "metadata": {},
   "outputs": [
    {
     "name": "stderr",
     "output_type": "stream",
     "text": [
      "2025-05-08 23:34:26 [INFO]: No given device, using default device: cpu\n",
      "2025-05-08 23:34:26 [WARNING]: ‼️ saving_path not given. Model files and tensorboard file will not be saved.\n",
      "2025-05-08 23:34:26 [INFO]: Using customized RMSE as the training loss function.\n",
      "2025-05-08 23:34:26 [INFO]: Using customized MSE as the validation metric function.\n",
      "2025-05-08 23:34:26 [INFO]: MRNN initialized with the given hyperparameters, the number of trainable parameters: 107,951\n"
     ]
    }
   ],
   "source": [
    "mrnn = MRNN(\n",
    "    n_steps=physionet2012_dataset['n_steps'],\n",
    "    n_features=physionet2012_dataset['n_features'],\n",
    "    rnn_hidden_size=128,\n",
    "    epochs=10,\n",
    "    patience=3,\n",
    "    optimizer=Adam(lr=1e-3),\n",
    "    num_workers=0,\n",
    "    device=None,\n",
    "    model_saving_strategy=\"best\",\n",
    ")"
   ]
  },
  {
   "cell_type": "code",
   "execution_count": 13,
   "id": "e6028541",
   "metadata": {},
   "outputs": [
    {
     "name": "stderr",
     "output_type": "stream",
     "text": [
      "2025-05-08 23:34:26 [INFO]: Model loaded successfully from ../mae/tutorial_results/imputation/mrnn/20250422_T181643/MRNN.pypots\n"
     ]
    }
   ],
   "source": [
    "mrnn.load(\"../mae/tutorial_results/imputation/mrnn/20250422_T181643/MRNN.pypots\")"
   ]
  },
  {
   "cell_type": "markdown",
   "id": "91a0ce15",
   "metadata": {},
   "source": [
    "# Imputation models"
   ]
  },
  {
   "cell_type": "markdown",
   "id": "8c8288cf",
   "metadata": {},
   "source": [
    "## SAITS"
   ]
  },
  {
   "cell_type": "code",
   "execution_count": 14,
   "id": "0e067a28",
   "metadata": {},
   "outputs": [],
   "source": [
    "saits_results = saits.predict(dataset_for_testing)\n",
    "saits_imputation = saits_results[\"imputation\"]"
   ]
  },
  {
   "cell_type": "markdown",
   "id": "810a4f1c",
   "metadata": {},
   "source": [
    "## BRITS"
   ]
  },
  {
   "cell_type": "code",
   "execution_count": 15,
   "id": "0a039628",
   "metadata": {},
   "outputs": [],
   "source": [
    "brits_results = brits.predict(dataset_for_testing)\n",
    "brits_imputation = brits_results[\"imputation\"]"
   ]
  },
  {
   "cell_type": "markdown",
   "id": "978a76bb",
   "metadata": {},
   "source": [
    "## US-GAN"
   ]
  },
  {
   "cell_type": "code",
   "execution_count": 16,
   "id": "25c3d498",
   "metadata": {},
   "outputs": [],
   "source": [
    "us_gan_results = us_gan.predict(dataset_for_testing)\n",
    "us_gan_imputation = us_gan_results[\"imputation\"]"
   ]
  },
  {
   "cell_type": "markdown",
   "id": "cf31562a",
   "metadata": {},
   "source": [
    "## GP-VAE"
   ]
  },
  {
   "cell_type": "code",
   "execution_count": 17,
   "id": "b61d5315",
   "metadata": {},
   "outputs": [],
   "source": [
    "gp_vae_results = gp_vae.predict(dataset_for_testing)\n",
    "gp_vae_imputation = gp_vae_results[\"imputation\"]"
   ]
  },
  {
   "cell_type": "markdown",
   "id": "f06db50d",
   "metadata": {},
   "source": [
    "## MRNN"
   ]
  },
  {
   "cell_type": "code",
   "execution_count": 18,
   "id": "1929bf5d",
   "metadata": {},
   "outputs": [],
   "source": [
    "mrnn_results = mrnn.predict(dataset_for_testing)\n",
    "mrnn_imputation = mrnn_results[\"imputation\"]"
   ]
  },
  {
   "cell_type": "markdown",
   "id": "e5f0f90a",
   "metadata": {},
   "source": [
    "# AE/MAE Models"
   ]
  },
  {
   "cell_type": "markdown",
   "id": "16a91f0a",
   "metadata": {},
   "source": [
    "## SAITS"
   ]
  },
  {
   "cell_type": "code",
   "execution_count": 19,
   "id": "a68d61cd",
   "metadata": {},
   "outputs": [],
   "source": [
    "saits_mae, saits_ae = calc_mae(\n",
    "    saits_imputation,\n",
    "    test_X_ori,\n",
    "    test_X_indicating_mask,\n",
    ")"
   ]
  },
  {
   "cell_type": "markdown",
   "id": "54cc39b1",
   "metadata": {},
   "source": [
    "## BRITS"
   ]
  },
  {
   "cell_type": "code",
   "execution_count": 20,
   "id": "b687dc6a",
   "metadata": {},
   "outputs": [],
   "source": [
    "brits_mae, brits_ae = calc_mae(\n",
    "    brits_imputation,\n",
    "    test_X_ori,\n",
    "    test_X_indicating_mask,\n",
    ")"
   ]
  },
  {
   "cell_type": "markdown",
   "id": "1f632609",
   "metadata": {},
   "source": [
    "## US-GAN"
   ]
  },
  {
   "cell_type": "code",
   "execution_count": 21,
   "id": "c599e4b4",
   "metadata": {},
   "outputs": [],
   "source": [
    "usgan_mae, usgan_ae = calc_mae(\n",
    "    us_gan_imputation,\n",
    "    test_X_ori,\n",
    "    test_X_indicating_mask,\n",
    ")"
   ]
  },
  {
   "cell_type": "markdown",
   "id": "24fc6d39",
   "metadata": {},
   "source": [
    "## GP-VAE"
   ]
  },
  {
   "cell_type": "code",
   "execution_count": 22,
   "id": "118b1ae0",
   "metadata": {},
   "outputs": [],
   "source": [
    "gp_vae_imputation = np.squeeze(gp_vae_imputation, axis=1)\n",
    "\n",
    "gpvae_mae, gpvae_ae = calc_mae(\n",
    "    gp_vae_imputation,\n",
    "    test_X_ori,\n",
    "    test_X_indicating_mask,\n",
    ")"
   ]
  },
  {
   "cell_type": "markdown",
   "id": "ea203c34",
   "metadata": {},
   "source": [
    "## MRNN"
   ]
  },
  {
   "cell_type": "code",
   "execution_count": 23,
   "id": "a900e7b9",
   "metadata": {},
   "outputs": [],
   "source": [
    "mrnn_mae, mrnn_ae = calc_mae(\n",
    "    mrnn_imputation,\n",
    "    test_X_ori,\n",
    "    test_X_indicating_mask,\n",
    ")"
   ]
  },
  {
   "cell_type": "markdown",
   "id": "e9766af2",
   "metadata": {},
   "source": [
    "# Gini Models"
   ]
  },
  {
   "cell_type": "code",
   "execution_count": 24,
   "id": "be360fc6",
   "metadata": {},
   "outputs": [],
   "source": [
    "test_X_indicating_mask = test_X_indicating_mask.reshape(len(test_X_indicating_mask) * 48 * 37)"
   ]
  },
  {
   "cell_type": "markdown",
   "id": "b38b06c9",
   "metadata": {},
   "source": [
    "## SAITS"
   ]
  },
  {
   "cell_type": "code",
   "execution_count": 25,
   "id": "9eea59e5",
   "metadata": {},
   "outputs": [],
   "source": [
    "saits_ae = saits_ae.reshape(len(saits_ae) * 48 * 37)"
   ]
  },
  {
   "cell_type": "code",
   "execution_count": 26,
   "id": "de834eab",
   "metadata": {},
   "outputs": [],
   "source": [
    "saits_ae_mask = []\n",
    "\n",
    "for i in range(len(test_X_indicating_mask)):\n",
    "    if(test_X_indicating_mask[i] == True):\n",
    "        saits_ae_mask.append(saits_ae[i])\n",
    "\n",
    "saits_ae_mask = np.array(saits_ae_mask)"
   ]
  },
  {
   "cell_type": "code",
   "execution_count": 27,
   "id": "411f008f",
   "metadata": {},
   "outputs": [
    {
     "data": {
      "text/plain": [
       "np.float64(0.6156662661781218)"
      ]
     },
     "execution_count": 27,
     "metadata": {},
     "output_type": "execute_result"
    }
   ],
   "source": [
    "saits_gini = toolkits.gini(saits_ae_mask)\n",
    "saits_gini"
   ]
  },
  {
   "cell_type": "markdown",
   "id": "27846ee7",
   "metadata": {},
   "source": [
    "## BRITS"
   ]
  },
  {
   "cell_type": "code",
   "execution_count": 28,
   "id": "77818d46",
   "metadata": {},
   "outputs": [],
   "source": [
    "brits_ae = brits_ae.reshape(len(brits_ae) * 48 * 37)"
   ]
  },
  {
   "cell_type": "code",
   "execution_count": 29,
   "id": "8ee3a8bf",
   "metadata": {},
   "outputs": [],
   "source": [
    "brits_ae_mask = []\n",
    "\n",
    "for i in range(len(test_X_indicating_mask)):\n",
    "    if(test_X_indicating_mask[i] == True):\n",
    "        brits_ae_mask.append(brits_ae[i])\n",
    "\n",
    "brits_ae_mask = np.array(brits_ae_mask)"
   ]
  },
  {
   "cell_type": "code",
   "execution_count": 30,
   "id": "472e54cc",
   "metadata": {},
   "outputs": [
    {
     "data": {
      "text/plain": [
       "np.float64(0.6372775398109969)"
      ]
     },
     "execution_count": 30,
     "metadata": {},
     "output_type": "execute_result"
    }
   ],
   "source": [
    "brits_gini = toolkits.gini(brits_ae_mask)\n",
    "brits_gini"
   ]
  },
  {
   "cell_type": "markdown",
   "id": "8e41be9b",
   "metadata": {},
   "source": [
    "## USGAN"
   ]
  },
  {
   "cell_type": "code",
   "execution_count": 31,
   "id": "3afaa165",
   "metadata": {},
   "outputs": [],
   "source": [
    "usgan_ae = usgan_ae.reshape(len(usgan_ae) * 48 * 37)"
   ]
  },
  {
   "cell_type": "code",
   "execution_count": 32,
   "id": "f742e78e",
   "metadata": {},
   "outputs": [],
   "source": [
    "usgan_ae_mask = []\n",
    "\n",
    "for i in range(len(test_X_indicating_mask)):\n",
    "    if(test_X_indicating_mask[i] == True):\n",
    "        usgan_ae_mask.append(usgan_ae[i])\n",
    "\n",
    "usgan_ae_mask = np.array(usgan_ae_mask)"
   ]
  },
  {
   "cell_type": "code",
   "execution_count": 33,
   "id": "3ad85703",
   "metadata": {},
   "outputs": [
    {
     "data": {
      "text/plain": [
       "np.float64(0.5760994047383561)"
      ]
     },
     "execution_count": 33,
     "metadata": {},
     "output_type": "execute_result"
    }
   ],
   "source": [
    "usgan_gini = toolkits.gini(usgan_ae_mask)\n",
    "usgan_gini"
   ]
  },
  {
   "cell_type": "markdown",
   "id": "a1d8bfcf",
   "metadata": {},
   "source": [
    "## GP-VAE"
   ]
  },
  {
   "cell_type": "code",
   "execution_count": 34,
   "id": "df11f6fe",
   "metadata": {},
   "outputs": [],
   "source": [
    "gpvae_ae = gpvae_ae.reshape(len(gpvae_ae) * 48 * 37)"
   ]
  },
  {
   "cell_type": "code",
   "execution_count": 35,
   "id": "480b924a",
   "metadata": {},
   "outputs": [],
   "source": [
    "gpvae_ae_mask = []\n",
    "\n",
    "for i in range(len(test_X_indicating_mask)):\n",
    "    if(test_X_indicating_mask[i] == True):\n",
    "        gpvae_ae_mask.append(gpvae_ae[i])\n",
    "\n",
    "gpvae_ae_mask = np.array(gpvae_ae_mask)"
   ]
  },
  {
   "cell_type": "code",
   "execution_count": 36,
   "id": "3874866f",
   "metadata": {},
   "outputs": [
    {
     "data": {
      "text/plain": [
       "np.float64(0.5071789533891875)"
      ]
     },
     "execution_count": 36,
     "metadata": {},
     "output_type": "execute_result"
    }
   ],
   "source": [
    "gpvae_gini = toolkits.gini(gpvae_ae_mask)\n",
    "gpvae_gini"
   ]
  },
  {
   "cell_type": "markdown",
   "id": "0757468c",
   "metadata": {},
   "source": [
    "## MRNN"
   ]
  },
  {
   "cell_type": "code",
   "execution_count": 37,
   "id": "453d5796",
   "metadata": {},
   "outputs": [],
   "source": [
    "mrnn_ae = mrnn_ae.reshape(len(mrnn_ae) * 48 * 37)"
   ]
  },
  {
   "cell_type": "code",
   "execution_count": 38,
   "id": "212ce5a5",
   "metadata": {},
   "outputs": [],
   "source": [
    "mrnn_ae_mask = []\n",
    "\n",
    "for i in range(len(test_X_indicating_mask)):\n",
    "    if(test_X_indicating_mask[i] == True):\n",
    "        mrnn_ae_mask.append(mrnn_ae[i])\n",
    "\n",
    "mrnn_ae_mask = np.array(mrnn_ae_mask)"
   ]
  },
  {
   "cell_type": "code",
   "execution_count": 39,
   "id": "64856f24",
   "metadata": {},
   "outputs": [
    {
     "data": {
      "text/plain": [
       "np.float64(0.4394369925816739)"
      ]
     },
     "execution_count": 39,
     "metadata": {},
     "output_type": "execute_result"
    }
   ],
   "source": [
    "mrnn_gini = toolkits.gini(mrnn_ae_mask)\n",
    "mrnn_gini"
   ]
  },
  {
   "cell_type": "markdown",
   "id": "fd1a2a4e",
   "metadata": {},
   "source": [
    "# Confidence Interval"
   ]
  },
  {
   "cell_type": "markdown",
   "id": "1c0a9a4e",
   "metadata": {},
   "source": [
    "## SAITS"
   ]
  },
  {
   "cell_type": "code",
   "execution_count": 40,
   "id": "5e59da78",
   "metadata": {},
   "outputs": [],
   "source": [
    "bootstrap_saits = toolkits.bootstrap(saits_ae_mask, 9000)"
   ]
  },
  {
   "cell_type": "code",
   "execution_count": 41,
   "id": "1cef021a",
   "metadata": {},
   "outputs": [
    {
     "name": "stdout",
     "output_type": "stream",
     "text": [
      "0.6113856611559289\n",
      "0.6205033164048855\n"
     ]
    }
   ],
   "source": [
    "lower_bound_saits = np.percentile(bootstrap_saits, 2.5)\n",
    "upper_bound_saits = np.percentile(bootstrap_saits, 97.5)\n",
    "\n",
    "print(lower_bound_saits)\n",
    "print(upper_bound_saits)"
   ]
  },
  {
   "cell_type": "code",
   "execution_count": 42,
   "id": "42d71912",
   "metadata": {},
   "outputs": [],
   "source": [
    "mean_bound_saits = (lower_bound_saits+upper_bound_saits)/2"
   ]
  },
  {
   "cell_type": "code",
   "execution_count": 43,
   "id": "969d1cd5",
   "metadata": {},
   "outputs": [
    {
     "name": "stdout",
     "output_type": "stream",
     "text": [
      "0.6159444887804072\n"
     ]
    }
   ],
   "source": [
    "print(mean_bound_saits)"
   ]
  },
  {
   "cell_type": "markdown",
   "id": "97fb52d2",
   "metadata": {},
   "source": [
    "## BRITS"
   ]
  },
  {
   "cell_type": "code",
   "execution_count": 44,
   "id": "1a283f81",
   "metadata": {},
   "outputs": [],
   "source": [
    "bootstrap_brits = toolkits.bootstrap(brits_ae_mask, 9000)"
   ]
  },
  {
   "cell_type": "code",
   "execution_count": 45,
   "id": "2e9b71c2",
   "metadata": {},
   "outputs": [
    {
     "name": "stdout",
     "output_type": "stream",
     "text": [
      "0.6284671185131182\n",
      "0.6497545359095916\n"
     ]
    }
   ],
   "source": [
    "lower_bound_brits = np.percentile(bootstrap_brits, 2.5)\n",
    "upper_bound_brits = np.percentile(bootstrap_brits, 97.5)\n",
    "\n",
    "print(lower_bound_brits)\n",
    "print(upper_bound_brits)"
   ]
  },
  {
   "cell_type": "code",
   "execution_count": 46,
   "id": "dfe59276",
   "metadata": {},
   "outputs": [
    {
     "name": "stdout",
     "output_type": "stream",
     "text": [
      "0.6391108272113549\n"
     ]
    }
   ],
   "source": [
    "mean_bound_brits = (lower_bound_brits+upper_bound_brits)/2\n",
    "print(mean_bound_brits)"
   ]
  },
  {
   "cell_type": "markdown",
   "id": "67c4fc1c",
   "metadata": {},
   "source": [
    "## USGAN"
   ]
  },
  {
   "cell_type": "code",
   "execution_count": 47,
   "id": "ef81feeb",
   "metadata": {},
   "outputs": [],
   "source": [
    "bootstrap_usgan = toolkits.bootstrap(usgan_ae_mask, 9000)"
   ]
  },
  {
   "cell_type": "code",
   "execution_count": 48,
   "id": "e7022492",
   "metadata": {},
   "outputs": [
    {
     "name": "stdout",
     "output_type": "stream",
     "text": [
      "0.5705603880693718\n",
      "0.5828378406234739\n"
     ]
    }
   ],
   "source": [
    "lower_bound_usgan = np.percentile(bootstrap_usgan, 2.5)\n",
    "upper_bound_usgan = np.percentile(bootstrap_usgan, 97.5)\n",
    "\n",
    "print(lower_bound_usgan)\n",
    "print(upper_bound_usgan)"
   ]
  },
  {
   "cell_type": "code",
   "execution_count": 49,
   "id": "583b2a52",
   "metadata": {},
   "outputs": [
    {
     "name": "stdout",
     "output_type": "stream",
     "text": [
      "0.5766991143464228\n"
     ]
    }
   ],
   "source": [
    "mean_bound_usgan = (lower_bound_usgan+upper_bound_usgan)/2\n",
    "print(mean_bound_usgan)"
   ]
  },
  {
   "cell_type": "markdown",
   "id": "aa919a0d",
   "metadata": {},
   "source": [
    "## GPVAE"
   ]
  },
  {
   "cell_type": "code",
   "execution_count": 50,
   "id": "632ee0b1",
   "metadata": {},
   "outputs": [],
   "source": [
    "bootstrap_gpvae = toolkits.bootstrap(gpvae_ae_mask, 9000)"
   ]
  },
  {
   "cell_type": "code",
   "execution_count": 51,
   "id": "d7a6b596",
   "metadata": {},
   "outputs": [
    {
     "name": "stdout",
     "output_type": "stream",
     "text": [
      "0.5039309086983619\n",
      "0.510588182535383\n"
     ]
    }
   ],
   "source": [
    "lower_bound_gpvae = np.percentile(bootstrap_gpvae, 2.5)\n",
    "upper_bound_gpvae = np.percentile(bootstrap_gpvae, 97.5)\n",
    "\n",
    "print(lower_bound_gpvae)\n",
    "print(upper_bound_gpvae)"
   ]
  },
  {
   "cell_type": "code",
   "execution_count": 52,
   "id": "1462c94d",
   "metadata": {},
   "outputs": [
    {
     "name": "stdout",
     "output_type": "stream",
     "text": [
      "0.5072595456168725\n"
     ]
    }
   ],
   "source": [
    "mean_bound_gpvae = (lower_bound_gpvae+upper_bound_gpvae)/2\n",
    "print(mean_bound_gpvae)"
   ]
  },
  {
   "cell_type": "markdown",
   "id": "4369aa89",
   "metadata": {},
   "source": [
    "## MRNN"
   ]
  },
  {
   "cell_type": "code",
   "execution_count": 53,
   "id": "8c23bd26",
   "metadata": {},
   "outputs": [],
   "source": [
    "bootstrap_mrnn = toolkits.bootstrap(mrnn_ae_mask, 9000)"
   ]
  },
  {
   "cell_type": "code",
   "execution_count": 54,
   "id": "b388d88e",
   "metadata": {},
   "outputs": [
    {
     "name": "stdout",
     "output_type": "stream",
     "text": [
      "0.43671617208727703\n",
      "0.44235684352017857\n"
     ]
    }
   ],
   "source": [
    "lower_bound_mrnn = np.percentile(bootstrap_mrnn, 2.5)\n",
    "upper_bound_mrnn = np.percentile(bootstrap_mrnn, 97.5)\n",
    "\n",
    "print(lower_bound_mrnn)\n",
    "print(upper_bound_mrnn)"
   ]
  },
  {
   "cell_type": "code",
   "execution_count": 55,
   "id": "f9f7e2ef",
   "metadata": {},
   "outputs": [
    {
     "name": "stdout",
     "output_type": "stream",
     "text": [
      "0.43953650780372777\n"
     ]
    }
   ],
   "source": [
    "mean_bound_mrnn = (lower_bound_mrnn+upper_bound_mrnn)/2\n",
    "print(mean_bound_mrnn)"
   ]
  },
  {
   "cell_type": "markdown",
   "id": "4cb82ecc",
   "metadata": {},
   "source": [
    "# Lorenz Curve"
   ]
  },
  {
   "cell_type": "code",
   "execution_count": 56,
   "id": "982db0fa",
   "metadata": {},
   "outputs": [
    {
     "data": {
      "image/png": "[encoded data removed]",
      "text/plain": [
       "<Figure size 600x600 with 1 Axes>"
      ]
     },
     "metadata": {},
     "output_type": "display_data"
    }
   ],
   "source": [
    "toolkits.lorenz_curve_5(saits_ae_mask, brits_ae_mask, usgan_ae_mask, gpvae_ae_mask, mrnn_ae_mask)"
   ]
  }
 ],
 "metadata": {
  "kernelspec": {
   "display_name": "Python 3",
   "language": "python",
   "name": "python3"
  },
  "language_info": {
   "codemirror_mode": {
    "name": "ipython",
    "version": 3
   },
   "file_extension": ".py",
   "mimetype": "text/x-python",
   "name": "python",
   "nbconvert_exporter": "python",
   "pygments_lexer": "ipython3",
   "version": "3.11.0"
  }
 },
 "nbformat": 4,
 "nbformat_minor": 5
}
